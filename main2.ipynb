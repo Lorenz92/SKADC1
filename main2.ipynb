{
  "nbformat": 4,
  "nbformat_minor": 2,
  "metadata": {
    "language_info": {
      "codemirror_mode": {
        "name": "ipython",
        "version": 3
      },
      "file_extension": ".py",
      "mimetype": "text/x-python",
      "name": "python",
      "nbconvert_exporter": "python",
      "pygments_lexer": "ipython3",
      "version": "3.8.2"
    },
    "orig_nbformat": 2,
    "kernelspec": {
      "name": "python3",
      "display_name": "Python 3.8.2 64-bit"
    },
    "colab": {
      "name": "main.ipynb",
      "provenance": []
    },
    "metadata": {
      "interpreter": {
        "hash": "31f2aee4e71d21fbe5cf8b01ff0e069b9275f58929596ceb00d14d90e3e16cd6"
      }
    },
    "interpreter": {
      "hash": "31f2aee4e71d21fbe5cf8b01ff0e069b9275f58929596ceb00d14d90e3e16cd6"
    }
  },
  "cells": [
    {
      "cell_type": "code",
      "execution_count": null,
      "source": [
        "# !git clone 'https://github.com/Lorenz92/SKADC1.git'\n",
        "# % cd SKADC1\n",
        "# !echo $PWD"
      ],
      "outputs": [],
      "metadata": {}
    },
    {
      "cell_type": "code",
      "execution_count": 25,
      "source": [
        "import pandas as pd\n",
        "import numpy as np\n",
        "\n",
        "import src.dataset as dataset\n",
        "import src.config as config \n",
        "from src.utils import *\n",
        "import src.models as models\n",
        "import src.losses as loss\n",
        "\n",
        "path = config.TRAIN_PATCHES_FOLDER\n",
        "%load_ext autoreload\n",
        "%autoreload 2\n",
        "\n",
        "np.random.seed(config.RANDOM_SEED)"
      ],
      "outputs": [
        {
          "output_type": "stream",
          "name": "stdout",
          "text": [
            "The autoreload extension is already loaded. To reload it, use:\n",
            "  %reload_ext autoreload\n"
          ]
        }
      ],
      "metadata": {
        "id": "7WwOlsifF-5G",
        "outputId": "303002ab-c8c4-4807-caeb-ee1c590d4326",
        "colab": {
          "base_uri": "https://localhost:8080/"
        }
      }
    },
    {
      "cell_type": "code",
      "execution_count": null,
      "source": [
        "if 'google.colab' in str(get_ipython()):\n",
        "  use_colab = True\n",
        "  print('Running on CoLab')\n",
        "else:\n",
        "  use_colab = False\n",
        "  print('Not running on CoLab')"
      ],
      "outputs": [],
      "metadata": {}
    },
    {
      "cell_type": "code",
      "execution_count": null,
      "source": [
        "if use_colab:\n",
        "    # Read file from Colab Notebook\n",
        "    from google.colab import drive\n",
        "    drive.mount('/content/drive')\n",
        "    config.MODEL_WEIGHTS = \"/content/drive/My Drive/Colab Notebooks/SKADC1\"\n",
        "    config.IMAGE_PATH = \"/content/drive/My Drive/Colab Notebooks/SKADC1/asset/560Mhz_1000h.fits\""
      ],
      "outputs": [],
      "metadata": {}
    },
    {
      "cell_type": "code",
      "execution_count": 26,
      "source": [
        "# Choose the feature extraction model\n",
        "backbone='baseline_16'\n",
        "# backbone='vgg16'\n",
        "\n",
        "if backbone=='baseline_16':\n",
        "    config.patch_dim = 20\n",
        "    config.resizePatch = True\n",
        "    config.rpn_stride = 4\n",
        "    config.num_rois = 128\n",
        "    # config.anchor_box_scales = [16,32,64] # anchors dim in the last feature map, 25x25\n",
        "    config.anchor_box_scales = [4, 8, 12, 16, 24, 32, 64]\n",
        "    config.resizeFinalDim = 100\n",
        "    input_shape_1 = config.resizeFinalDim\n",
        "else:\n",
        "    config.patch_dim = 100\n",
        "    config.resizePatch = True\n",
        "    config.rpn_stride = 16\n",
        "    config.num_rois = 4\n",
        "    config.resizeFinalDim = 600\n",
        "    input_shape_1=config.resizeFinalDim\n",
        "    config.anchor_box_scales = [32, 64, 128]\n",
        "\n",
        "\n",
        "config.anchor_num = len(config.anchor_box_ratios)*len(config.anchor_box_scales)\n",
        "input_shape_2=(None, 4)\n",
        "\n",
        "print(config.resizePatch)\n",
        "print(config.rpn_stride)\n",
        "\n",
        "checkpoint = get_model_last_checkpoint(backbone)\n",
        "print(f'Model last checkpoint: {checkpoint}')"
      ],
      "outputs": [
        {
          "output_type": "stream",
          "name": "stdout",
          "text": [
            "True\n",
            "4\n",
            "Checking model checkpoints in directory /Users/lorenzocellini/AI - Universit…/Deep Learning - Andre Asperti/SKA_project/SKADC1/model/baseline_16\n",
            "Model last checkpoint: None\n"
          ]
        }
      ],
      "metadata": {}
    },
    {
      "cell_type": "code",
      "execution_count": 27,
      "source": [
        "# Dataset parsing and loading\n",
        "# use \"subset\" in config file to load a small portion of data for development/debugging purposes\n",
        "ska_dataset = dataset.SKADataset(k=3, print_info=False, use_pb=False)"
      ],
      "outputs": [
        {
          "output_type": "stream",
          "name": "stdout",
          "text": [
            "Dataset shape: (19222, 15)\n"
          ]
        },
        {
          "output_type": "display_data",
          "data": {
            "text/plain": [
              "         ID  RA (core)  DEC (core)  RA (centroid)  DEC (centroid)      FLUX  \\\n",
              "0  24121695  -0.642227  -29.775242      -0.642316      -29.775211  0.000035   \n",
              "1  20167150  -0.390473  -29.867493      -0.390667      -29.868851  0.029555   \n",
              "2  20045120  -0.021411  -29.643486      -0.021359      -29.643561  0.000653   \n",
              "3  33938384  -0.316375  -29.697647      -0.316375      -29.697647  0.000017   \n",
              "4   7527248  -0.336528  -29.627335      -0.336527      -29.627338  0.000054   \n",
              "\n",
              "   Core frac     BMAJ    BMIN       PA  SIZE  CLASS  SELECTION          x  \\\n",
              "0   0.000000    5.600   5.551  328.554     1      1          1  19704.519   \n",
              "1   0.016924  107.110  43.263  191.258     1      1          1  18401.338   \n",
              "2   0.012185    5.037   3.525  276.587     1      1          1  16493.600   \n",
              "3   0.000000    0.847   0.266  346.641     2      1          1  18020.319   \n",
              "4   0.044763    3.343   1.515  279.006     1      1          1  18125.824   \n",
              "\n",
              "           y  \n",
              "0  17712.942  \n",
              "1  17160.919  \n",
              "2  18506.577  \n",
              "3  18182.095  \n",
              "4  18600.680  "
            ],
            "text/html": [
              "<div>\n",
              "<style scoped>\n",
              "    .dataframe tbody tr th:only-of-type {\n",
              "        vertical-align: middle;\n",
              "    }\n",
              "\n",
              "    .dataframe tbody tr th {\n",
              "        vertical-align: top;\n",
              "    }\n",
              "\n",
              "    .dataframe thead th {\n",
              "        text-align: right;\n",
              "    }\n",
              "</style>\n",
              "<table border=\"1\" class=\"dataframe\">\n",
              "  <thead>\n",
              "    <tr style=\"text-align: right;\">\n",
              "      <th></th>\n",
              "      <th>ID</th>\n",
              "      <th>RA (core)</th>\n",
              "      <th>DEC (core)</th>\n",
              "      <th>RA (centroid)</th>\n",
              "      <th>DEC (centroid)</th>\n",
              "      <th>FLUX</th>\n",
              "      <th>Core frac</th>\n",
              "      <th>BMAJ</th>\n",
              "      <th>BMIN</th>\n",
              "      <th>PA</th>\n",
              "      <th>SIZE</th>\n",
              "      <th>CLASS</th>\n",
              "      <th>SELECTION</th>\n",
              "      <th>x</th>\n",
              "      <th>y</th>\n",
              "    </tr>\n",
              "  </thead>\n",
              "  <tbody>\n",
              "    <tr>\n",
              "      <th>0</th>\n",
              "      <td>24121695</td>\n",
              "      <td>-0.642227</td>\n",
              "      <td>-29.775242</td>\n",
              "      <td>-0.642316</td>\n",
              "      <td>-29.775211</td>\n",
              "      <td>0.000035</td>\n",
              "      <td>0.000000</td>\n",
              "      <td>5.600</td>\n",
              "      <td>5.551</td>\n",
              "      <td>328.554</td>\n",
              "      <td>1</td>\n",
              "      <td>1</td>\n",
              "      <td>1</td>\n",
              "      <td>19704.519</td>\n",
              "      <td>17712.942</td>\n",
              "    </tr>\n",
              "    <tr>\n",
              "      <th>1</th>\n",
              "      <td>20167150</td>\n",
              "      <td>-0.390473</td>\n",
              "      <td>-29.867493</td>\n",
              "      <td>-0.390667</td>\n",
              "      <td>-29.868851</td>\n",
              "      <td>0.029555</td>\n",
              "      <td>0.016924</td>\n",
              "      <td>107.110</td>\n",
              "      <td>43.263</td>\n",
              "      <td>191.258</td>\n",
              "      <td>1</td>\n",
              "      <td>1</td>\n",
              "      <td>1</td>\n",
              "      <td>18401.338</td>\n",
              "      <td>17160.919</td>\n",
              "    </tr>\n",
              "    <tr>\n",
              "      <th>2</th>\n",
              "      <td>20045120</td>\n",
              "      <td>-0.021411</td>\n",
              "      <td>-29.643486</td>\n",
              "      <td>-0.021359</td>\n",
              "      <td>-29.643561</td>\n",
              "      <td>0.000653</td>\n",
              "      <td>0.012185</td>\n",
              "      <td>5.037</td>\n",
              "      <td>3.525</td>\n",
              "      <td>276.587</td>\n",
              "      <td>1</td>\n",
              "      <td>1</td>\n",
              "      <td>1</td>\n",
              "      <td>16493.600</td>\n",
              "      <td>18506.577</td>\n",
              "    </tr>\n",
              "    <tr>\n",
              "      <th>3</th>\n",
              "      <td>33938384</td>\n",
              "      <td>-0.316375</td>\n",
              "      <td>-29.697647</td>\n",
              "      <td>-0.316375</td>\n",
              "      <td>-29.697647</td>\n",
              "      <td>0.000017</td>\n",
              "      <td>0.000000</td>\n",
              "      <td>0.847</td>\n",
              "      <td>0.266</td>\n",
              "      <td>346.641</td>\n",
              "      <td>2</td>\n",
              "      <td>1</td>\n",
              "      <td>1</td>\n",
              "      <td>18020.319</td>\n",
              "      <td>18182.095</td>\n",
              "    </tr>\n",
              "    <tr>\n",
              "      <th>4</th>\n",
              "      <td>7527248</td>\n",
              "      <td>-0.336528</td>\n",
              "      <td>-29.627335</td>\n",
              "      <td>-0.336527</td>\n",
              "      <td>-29.627338</td>\n",
              "      <td>0.000054</td>\n",
              "      <td>0.044763</td>\n",
              "      <td>3.343</td>\n",
              "      <td>1.515</td>\n",
              "      <td>279.006</td>\n",
              "      <td>1</td>\n",
              "      <td>1</td>\n",
              "      <td>1</td>\n",
              "      <td>18125.824</td>\n",
              "      <td>18600.680</td>\n",
              "    </tr>\n",
              "  </tbody>\n",
              "</table>\n",
              "</div>"
            ]
          },
          "metadata": {}
        },
        {
          "output_type": "stream",
          "name": "stdout",
          "text": [
            "Loading FITS file /Users/lorenzocellini/AI - Universit…/Deep Learning - Andre Asperti/SKA_project/SKADC1/data/training/560Mhz_1000h.fits\n"
          ]
        },
        {
          "output_type": "stream",
          "name": "stderr",
          "text": [
            "WARNING: VerifyWarning: Invalid 'BLANK' keyword in header.  The 'BLANK' keyword is only applicable to integer data, and will be ignored in this HDU. [astropy.io.fits.hdu.image]\n",
            "100%|██████████| 19222/19222 [00:03<00:00, 5691.86it/s]\n"
          ]
        },
        {
          "output_type": "stream",
          "name": "stdout",
          "text": [
            "Initial dataset shape: (19222, 15)\n",
            "Found 0 boxes with zero area\n",
            "Rows to be deleted: 0\n",
            "New dataset shape: (19222, 15)\n",
            "Extending dataset with new computed columns...\n",
            "Final cleaned dataset shape: (19222, 26)\n",
            "\n",
            "Enlarging bboxes...\n",
            "DONE - Enlarging bboxes...\n"
          ]
        },
        {
          "output_type": "display_data",
          "data": {
            "text/plain": [
              "           ID  RA (core)  DEC (core)  RA (centroid)  DEC (centroid)      FLUX  \\\n",
              "0  24121695.0  -0.642227  -29.775242      -0.642316      -29.775211  0.000035   \n",
              "1  20167150.0  -0.390473  -29.867493      -0.390667      -29.868851  0.029555   \n",
              "2  20045120.0  -0.021411  -29.643486      -0.021359      -29.643561  0.000653   \n",
              "3  33938384.0  -0.316375  -29.697647      -0.316375      -29.697647  0.000017   \n",
              "4   7527248.0  -0.336528  -29.627335      -0.336527      -29.627338  0.000054   \n",
              "\n",
              "   Core frac     BMAJ    BMIN       PA  ...            y1            x2  \\\n",
              "0   0.000000    5.600   5.551  328.554  ...  17706.708393  19710.764566   \n",
              "1   0.016924  107.110  43.263  191.258  ...  17112.270219  18509.603417   \n",
              "2   0.012185    5.037   3.525  276.587  ...  18500.850356  16498.009965   \n",
              "3   0.000000    0.847   0.266  346.641  ...  18179.521298  18023.322729   \n",
              "4   0.044763    3.343   1.515  279.006  ...  18596.465498  18128.789688   \n",
              "\n",
              "             y2  major_semia_px  minor_semia_px  pa_in_rad       width  \\\n",
              "0  17719.170105        6.264429        6.218255   5.734349   12.503792   \n",
              "1  17209.564571      110.037236       44.503323   3.338082  216.538139   \n",
              "2  18512.295208        5.738106        4.389739   4.827354    8.820318   \n",
              "3  18184.661968        3.031418        2.541842   6.050027    6.014593   \n",
              "4  18604.884928        4.236891        2.929772   4.869573    5.937378   \n",
              "\n",
              "      height     area_orig  area_cropped  \n",
              "0  12.461712    155.818657    155.818657  \n",
              "1  97.294352  21067.937901  21067.937901  \n",
              "2  11.444852    100.947234    100.947234  \n",
              "3   5.140670     30.919039     30.919039  \n",
              "4   8.419429     49.989332     49.989332  \n",
              "\n",
              "[5 rows x 26 columns]"
            ],
            "text/html": [
              "<div>\n",
              "<style scoped>\n",
              "    .dataframe tbody tr th:only-of-type {\n",
              "        vertical-align: middle;\n",
              "    }\n",
              "\n",
              "    .dataframe tbody tr th {\n",
              "        vertical-align: top;\n",
              "    }\n",
              "\n",
              "    .dataframe thead th {\n",
              "        text-align: right;\n",
              "    }\n",
              "</style>\n",
              "<table border=\"1\" class=\"dataframe\">\n",
              "  <thead>\n",
              "    <tr style=\"text-align: right;\">\n",
              "      <th></th>\n",
              "      <th>ID</th>\n",
              "      <th>RA (core)</th>\n",
              "      <th>DEC (core)</th>\n",
              "      <th>RA (centroid)</th>\n",
              "      <th>DEC (centroid)</th>\n",
              "      <th>FLUX</th>\n",
              "      <th>Core frac</th>\n",
              "      <th>BMAJ</th>\n",
              "      <th>BMIN</th>\n",
              "      <th>PA</th>\n",
              "      <th>...</th>\n",
              "      <th>y1</th>\n",
              "      <th>x2</th>\n",
              "      <th>y2</th>\n",
              "      <th>major_semia_px</th>\n",
              "      <th>minor_semia_px</th>\n",
              "      <th>pa_in_rad</th>\n",
              "      <th>width</th>\n",
              "      <th>height</th>\n",
              "      <th>area_orig</th>\n",
              "      <th>area_cropped</th>\n",
              "    </tr>\n",
              "  </thead>\n",
              "  <tbody>\n",
              "    <tr>\n",
              "      <th>0</th>\n",
              "      <td>24121695.0</td>\n",
              "      <td>-0.642227</td>\n",
              "      <td>-29.775242</td>\n",
              "      <td>-0.642316</td>\n",
              "      <td>-29.775211</td>\n",
              "      <td>0.000035</td>\n",
              "      <td>0.000000</td>\n",
              "      <td>5.600</td>\n",
              "      <td>5.551</td>\n",
              "      <td>328.554</td>\n",
              "      <td>...</td>\n",
              "      <td>17706.708393</td>\n",
              "      <td>19710.764566</td>\n",
              "      <td>17719.170105</td>\n",
              "      <td>6.264429</td>\n",
              "      <td>6.218255</td>\n",
              "      <td>5.734349</td>\n",
              "      <td>12.503792</td>\n",
              "      <td>12.461712</td>\n",
              "      <td>155.818657</td>\n",
              "      <td>155.818657</td>\n",
              "    </tr>\n",
              "    <tr>\n",
              "      <th>1</th>\n",
              "      <td>20167150.0</td>\n",
              "      <td>-0.390473</td>\n",
              "      <td>-29.867493</td>\n",
              "      <td>-0.390667</td>\n",
              "      <td>-29.868851</td>\n",
              "      <td>0.029555</td>\n",
              "      <td>0.016924</td>\n",
              "      <td>107.110</td>\n",
              "      <td>43.263</td>\n",
              "      <td>191.258</td>\n",
              "      <td>...</td>\n",
              "      <td>17112.270219</td>\n",
              "      <td>18509.603417</td>\n",
              "      <td>17209.564571</td>\n",
              "      <td>110.037236</td>\n",
              "      <td>44.503323</td>\n",
              "      <td>3.338082</td>\n",
              "      <td>216.538139</td>\n",
              "      <td>97.294352</td>\n",
              "      <td>21067.937901</td>\n",
              "      <td>21067.937901</td>\n",
              "    </tr>\n",
              "    <tr>\n",
              "      <th>2</th>\n",
              "      <td>20045120.0</td>\n",
              "      <td>-0.021411</td>\n",
              "      <td>-29.643486</td>\n",
              "      <td>-0.021359</td>\n",
              "      <td>-29.643561</td>\n",
              "      <td>0.000653</td>\n",
              "      <td>0.012185</td>\n",
              "      <td>5.037</td>\n",
              "      <td>3.525</td>\n",
              "      <td>276.587</td>\n",
              "      <td>...</td>\n",
              "      <td>18500.850356</td>\n",
              "      <td>16498.009965</td>\n",
              "      <td>18512.295208</td>\n",
              "      <td>5.738106</td>\n",
              "      <td>4.389739</td>\n",
              "      <td>4.827354</td>\n",
              "      <td>8.820318</td>\n",
              "      <td>11.444852</td>\n",
              "      <td>100.947234</td>\n",
              "      <td>100.947234</td>\n",
              "    </tr>\n",
              "    <tr>\n",
              "      <th>3</th>\n",
              "      <td>33938384.0</td>\n",
              "      <td>-0.316375</td>\n",
              "      <td>-29.697647</td>\n",
              "      <td>-0.316375</td>\n",
              "      <td>-29.697647</td>\n",
              "      <td>0.000017</td>\n",
              "      <td>0.000000</td>\n",
              "      <td>0.847</td>\n",
              "      <td>0.266</td>\n",
              "      <td>346.641</td>\n",
              "      <td>...</td>\n",
              "      <td>18179.521298</td>\n",
              "      <td>18023.322729</td>\n",
              "      <td>18184.661968</td>\n",
              "      <td>3.031418</td>\n",
              "      <td>2.541842</td>\n",
              "      <td>6.050027</td>\n",
              "      <td>6.014593</td>\n",
              "      <td>5.140670</td>\n",
              "      <td>30.919039</td>\n",
              "      <td>30.919039</td>\n",
              "    </tr>\n",
              "    <tr>\n",
              "      <th>4</th>\n",
              "      <td>7527248.0</td>\n",
              "      <td>-0.336528</td>\n",
              "      <td>-29.627335</td>\n",
              "      <td>-0.336527</td>\n",
              "      <td>-29.627338</td>\n",
              "      <td>0.000054</td>\n",
              "      <td>0.044763</td>\n",
              "      <td>3.343</td>\n",
              "      <td>1.515</td>\n",
              "      <td>279.006</td>\n",
              "      <td>...</td>\n",
              "      <td>18596.465498</td>\n",
              "      <td>18128.789688</td>\n",
              "      <td>18604.884928</td>\n",
              "      <td>4.236891</td>\n",
              "      <td>2.929772</td>\n",
              "      <td>4.869573</td>\n",
              "      <td>5.937378</td>\n",
              "      <td>8.419429</td>\n",
              "      <td>49.989332</td>\n",
              "      <td>49.989332</td>\n",
              "    </tr>\n",
              "  </tbody>\n",
              "</table>\n",
              "<p>5 rows × 26 columns</p>\n",
              "</div>"
            ]
          },
          "metadata": {}
        },
        {
          "output_type": "stream",
          "name": "stdout",
          "text": [
            "\n",
            "----------\n",
            "Starting training image preprocessing...\n",
            "\n",
            "Computing max and min pixel value in order to scale image to RGB range\n",
            "Max pixel value = 0.0065856808796525\n",
            "Removing negative noise...\n",
            "Converting to RGB...\n",
            "Removing positive noise and rescaling to 0-255 interval...\n",
            "\n",
            "Mean and stdev of the half-gaussian that best fits with noise distribution:\n",
            "mu=4.561610766868865e-14, stdev=4.5037468510513567e-07\n",
            "End of training image preprocessing.\n"
          ]
        },
        {
          "output_type": "display_data",
          "data": {
            "text/plain": [
              "<Figure size 432x288 with 1 Axes>"
            ],
            "image/svg+xml": "<?xml version=\"1.0\" encoding=\"utf-8\" standalone=\"no\"?>\n<!DOCTYPE svg PUBLIC \"-//W3C//DTD SVG 1.1//EN\"\n  \"http://www.w3.org/Graphics/SVG/1.1/DTD/svg11.dtd\">\n<!-- Created with matplotlib (https://matplotlib.org/) -->\n<svg height=\"271.794688pt\" version=\"1.1\" viewBox=\"0 0 378.465625 271.794688\" width=\"378.465625pt\" xmlns=\"http://www.w3.org/2000/svg\" xmlns:xlink=\"http://www.w3.org/1999/xlink\">\n <metadata>\n  <rdf:RDF xmlns:cc=\"http://creativecommons.org/ns#\" xmlns:dc=\"http://purl.org/dc/elements/1.1/\" xmlns:rdf=\"http://www.w3.org/1999/02/22-rdf-syntax-ns#\">\n   <cc:Work>\n    <dc:type rdf:resource=\"http://purl.org/dc/dcmitype/StillImage\"/>\n    <dc:date>2021-08-19T19:21:32.363947</dc:date>\n    <dc:format>image/svg+xml</dc:format>\n    <dc:creator>\n     <cc:Agent>\n      <dc:title>Matplotlib v3.3.4, https://matplotlib.org/</dc:title>\n     </cc:Agent>\n    </dc:creator>\n   </cc:Work>\n  </rdf:RDF>\n </metadata>\n <defs>\n  <style type=\"text/css\">*{stroke-linecap:butt;stroke-linejoin:round;}</style>\n </defs>\n <g id=\"figure_1\">\n  <g id=\"patch_1\">\n   <path d=\"M 0 271.794688 \nL 378.465625 271.794688 \nL 378.465625 0 \nL 0 0 \nz\n\" style=\"fill:none;\"/>\n  </g>\n  <g id=\"axes_1\">\n   <g id=\"patch_2\">\n    <path d=\"M 36.465625 235.238438 \nL 371.265625 235.238438 \nL 371.265625 17.798438 \nL 36.465625 17.798438 \nz\n\" style=\"fill:#ffffff;\"/>\n   </g>\n   <g id=\"patch_3\">\n    <path clip-path=\"url(#p8d8c01f3e2)\" d=\"M 65.518518 235.238438 \nL 72.435873 235.238438 \nL 72.435873 180.179547 \nL 65.518518 180.179547 \nz\n\" style=\"fill:#1f77b4;\"/>\n   </g>\n   <g id=\"patch_4\">\n    <path clip-path=\"url(#p8d8c01f3e2)\" d=\"M 72.435873 235.238438 \nL 79.353228 235.238438 \nL 79.353228 175.917903 \nL 72.435873 175.917903 \nz\n\" style=\"fill:#1f77b4;\"/>\n   </g>\n   <g id=\"patch_5\">\n    <path clip-path=\"url(#p8d8c01f3e2)\" d=\"M 79.353228 235.238438 \nL 86.270584 235.238438 \nL 86.270584 172.738625 \nL 79.353228 172.738625 \nz\n\" style=\"fill:#1f77b4;\"/>\n   </g>\n   <g id=\"patch_6\">\n    <path clip-path=\"url(#p8d8c01f3e2)\" d=\"M 86.270582 235.238438 \nL 93.187937 235.238438 \nL 93.187937 170.287081 \nL 86.270582 170.287081 \nz\n\" style=\"fill:#1f77b4;\"/>\n   </g>\n   <g id=\"patch_7\">\n    <path clip-path=\"url(#p8d8c01f3e2)\" d=\"M 93.187939 235.238438 \nL 100.105294 235.238438 \nL 100.105294 169.2958 \nL 93.187939 169.2958 \nz\n\" style=\"fill:#1f77b4;\"/>\n   </g>\n   <g id=\"patch_8\">\n    <path clip-path=\"url(#p8d8c01f3e2)\" d=\"M 100.105292 235.238438 \nL 107.022646 235.238438 \nL 107.022646 169.245172 \nL 100.105292 169.245172 \nz\n\" style=\"fill:#1f77b4;\"/>\n   </g>\n   <g id=\"patch_9\">\n    <path clip-path=\"url(#p8d8c01f3e2)\" d=\"M 107.022646 235.238438 \nL 113.939999 235.238438 \nL 113.939999 170.645687 \nL 107.022646 170.645687 \nz\n\" style=\"fill:#1f77b4;\"/>\n   </g>\n   <g id=\"patch_10\">\n    <path clip-path=\"url(#p8d8c01f3e2)\" d=\"M 113.940003 235.238438 \nL 120.857361 235.238438 \nL 120.857361 173.244555 \nL 113.940003 173.244555 \nz\n\" style=\"fill:#1f77b4;\"/>\n   </g>\n   <g id=\"patch_11\">\n    <path clip-path=\"url(#p8d8c01f3e2)\" d=\"M 120.857361 235.238438 \nL 127.774718 235.238438 \nL 127.774718 176.857153 \nL 120.857361 176.857153 \nz\n\" style=\"fill:#1f77b4;\"/>\n   </g>\n   <g id=\"patch_12\">\n    <path clip-path=\"url(#p8d8c01f3e2)\" d=\"M 127.774718 235.238438 \nL 134.692071 235.238438 \nL 134.692071 181.141597 \nL 127.774718 181.141597 \nz\n\" style=\"fill:#1f77b4;\"/>\n   </g>\n   <g id=\"patch_13\">\n    <path clip-path=\"url(#p8d8c01f3e2)\" d=\"M 134.692067 235.238438 \nL 141.609416 235.238438 \nL 141.609416 186.100457 \nL 134.692067 186.100457 \nz\n\" style=\"fill:#1f77b4;\"/>\n   </g>\n   <g id=\"patch_14\">\n    <path clip-path=\"url(#p8d8c01f3e2)\" d=\"M 141.609425 235.238438 \nL 148.526782 235.238438 \nL 148.526782 191.676442 \nL 141.609425 191.676442 \nz\n\" style=\"fill:#1f77b4;\"/>\n   </g>\n   <g id=\"patch_15\">\n    <path clip-path=\"url(#p8d8c01f3e2)\" d=\"M 148.526782 235.238438 \nL 155.444139 235.238438 \nL 155.444139 197.147312 \nL 148.526782 197.147312 \nz\n\" style=\"fill:#1f77b4;\"/>\n   </g>\n   <g id=\"patch_16\">\n    <path clip-path=\"url(#p8d8c01f3e2)\" d=\"M 155.444148 235.238438 \nL 162.361497 235.238438 \nL 162.361497 202.708916 \nL 155.444148 202.708916 \nz\n\" style=\"fill:#1f77b4;\"/>\n   </g>\n   <g id=\"patch_17\">\n    <path clip-path=\"url(#p8d8c01f3e2)\" d=\"M 162.361489 235.238438 \nL 169.278846 235.238438 \nL 169.278846 208.106709 \nL 162.361489 208.106709 \nz\n\" style=\"fill:#1f77b4;\"/>\n   </g>\n   <g id=\"patch_18\">\n    <path clip-path=\"url(#p8d8c01f3e2)\" d=\"M 169.278846 235.238438 \nL 176.196204 235.238438 \nL 176.196204 212.976006 \nL 169.278846 212.976006 \nz\n\" style=\"fill:#1f77b4;\"/>\n   </g>\n   <g id=\"patch_19\">\n    <path clip-path=\"url(#p8d8c01f3e2)\" d=\"M 176.196204 235.238438 \nL 183.113561 235.238438 \nL 183.113561 217.228295 \nL 176.196204 217.228295 \nz\n\" style=\"fill:#1f77b4;\"/>\n   </g>\n   <g id=\"patch_20\">\n    <path clip-path=\"url(#p8d8c01f3e2)\" d=\"M 183.113561 235.238438 \nL 190.030918 235.238438 \nL 190.030918 221.081873 \nL 183.113561 221.081873 \nz\n\" style=\"fill:#1f77b4;\"/>\n   </g>\n   <g id=\"patch_21\">\n    <path clip-path=\"url(#p8d8c01f3e2)\" d=\"M 190.030918 235.238438 \nL 196.948268 235.238438 \nL 196.948268 224.227244 \nL 190.030918 224.227244 \nz\n\" style=\"fill:#1f77b4;\"/>\n   </g>\n   <g id=\"patch_22\">\n    <path clip-path=\"url(#p8d8c01f3e2)\" d=\"M 196.948268 235.238438 \nL 203.865625 235.238438 \nL 203.865625 226.921639 \nL 196.948268 226.921639 \nz\n\" style=\"fill:#1f77b4;\"/>\n   </g>\n   <g id=\"patch_23\">\n    <path clip-path=\"url(#p8d8c01f3e2)\" d=\"M 203.865633 235.238438 \nL 210.782974 235.238438 \nL 210.782974 229.074325 \nL 203.865633 229.074325 \nz\n\" style=\"fill:#1f77b4;\"/>\n   </g>\n   <g id=\"patch_24\">\n    <path clip-path=\"url(#p8d8c01f3e2)\" d=\"M 210.782974 235.238438 \nL 217.700332 235.238438 \nL 217.700332 230.741076 \nL 210.782974 230.741076 \nz\n\" style=\"fill:#1f77b4;\"/>\n   </g>\n   <g id=\"patch_25\">\n    <path clip-path=\"url(#p8d8c01f3e2)\" d=\"M 217.700315 235.238438 \nL 224.617672 235.238438 \nL 224.617672 232.021159 \nL 217.700315 232.021159 \nz\n\" style=\"fill:#1f77b4;\"/>\n   </g>\n   <g id=\"patch_26\">\n    <path clip-path=\"url(#p8d8c01f3e2)\" d=\"M 224.617689 235.238438 \nL 231.535046 235.238438 \nL 231.535046 232.993264 \nL 224.617689 232.993264 \nz\n\" style=\"fill:#1f77b4;\"/>\n   </g>\n   <g id=\"patch_27\">\n    <path clip-path=\"url(#p8d8c01f3e2)\" d=\"M 231.53503 235.238438 \nL 238.452387 235.238438 \nL 238.452387 233.725793 \nL 231.53503 233.725793 \nz\n\" style=\"fill:#1f77b4;\"/>\n   </g>\n   <g id=\"patch_28\">\n    <path clip-path=\"url(#p8d8c01f3e2)\" d=\"M 238.452404 235.238438 \nL 245.369761 235.238438 \nL 245.369761 234.205648 \nL 238.452404 234.205648 \nz\n\" style=\"fill:#1f77b4;\"/>\n   </g>\n   <g id=\"patch_29\">\n    <path clip-path=\"url(#p8d8c01f3e2)\" d=\"M 245.369745 235.238438 \nL 252.287102 235.238438 \nL 252.287102 234.579922 \nL 245.369745 234.579922 \nz\n\" style=\"fill:#1f77b4;\"/>\n   </g>\n   <g id=\"patch_30\">\n    <path clip-path=\"url(#p8d8c01f3e2)\" d=\"M 252.287119 235.238438 \nL 259.20446 235.238438 \nL 259.20446 234.799505 \nL 252.287119 234.799505 \nz\n\" style=\"fill:#1f77b4;\"/>\n   </g>\n   <g id=\"patch_31\">\n    <path clip-path=\"url(#p8d8c01f3e2)\" d=\"M 259.20446 235.238438 \nL 266.121817 235.238438 \nL 266.121817 234.969629 \nL 259.20446 234.969629 \nz\n\" style=\"fill:#1f77b4;\"/>\n   </g>\n   <g id=\"patch_32\">\n    <path clip-path=\"url(#p8d8c01f3e2)\" d=\"M 266.121801 235.238438 \nL 273.039158 235.238438 \nL 273.039158 235.06387 \nL 266.121801 235.06387 \nz\n\" style=\"fill:#1f77b4;\"/>\n   </g>\n   <g id=\"patch_33\">\n    <path clip-path=\"url(#p8d8c01f3e2)\" d=\"M 273.039175 235.238438 \nL 279.956532 235.238438 \nL 279.956532 235.138 \nL 273.039175 235.138 \nz\n\" style=\"fill:#1f77b4;\"/>\n   </g>\n   <g id=\"patch_34\">\n    <path clip-path=\"url(#p8d8c01f3e2)\" d=\"M 279.956515 235.238438 \nL 286.873873 235.238438 \nL 286.873873 235.173194 \nL 279.956515 235.173194 \nz\n\" style=\"fill:#1f77b4;\"/>\n   </g>\n   <g id=\"patch_35\">\n    <path clip-path=\"url(#p8d8c01f3e2)\" d=\"M 286.873889 235.238438 \nL 293.791247 235.238438 \nL 293.791247 235.202425 \nL 286.873889 235.202425 \nz\n\" style=\"fill:#1f77b4;\"/>\n   </g>\n   <g id=\"patch_36\">\n    <path clip-path=\"url(#p8d8c01f3e2)\" d=\"M 293.79123 235.238438 \nL 300.708588 235.238438 \nL 300.708588 235.221016 \nL 293.79123 235.221016 \nz\n\" style=\"fill:#1f77b4;\"/>\n   </g>\n   <g id=\"patch_37\">\n    <path clip-path=\"url(#p8d8c01f3e2)\" d=\"M 300.708604 235.238438 \nL 307.625962 235.238438 \nL 307.625962 235.228148 \nL 300.708604 235.228148 \nz\n\" style=\"fill:#1f77b4;\"/>\n   </g>\n   <g id=\"patch_38\">\n    <path clip-path=\"url(#p8d8c01f3e2)\" d=\"M 307.625945 235.238438 \nL 314.543303 235.238438 \nL 314.543303 235.231305 \nL 307.625945 235.231305 \nz\n\" style=\"fill:#1f77b4;\"/>\n   </g>\n   <g id=\"patch_39\">\n    <path clip-path=\"url(#p8d8c01f3e2)\" d=\"M 314.543319 235.238438 \nL 321.46066 235.238438 \nL 321.46066 235.235281 \nL 314.543319 235.235281 \nz\n\" style=\"fill:#1f77b4;\"/>\n   </g>\n   <g id=\"patch_40\">\n    <path clip-path=\"url(#p8d8c01f3e2)\" d=\"M 321.46066 235.238438 \nL 328.378018 235.238438 \nL 328.378018 235.237385 \nL 321.46066 235.237385 \nz\n\" style=\"fill:#1f77b4;\"/>\n   </g>\n   <g id=\"patch_41\">\n    <path clip-path=\"url(#p8d8c01f3e2)\" d=\"M 328.378001 235.238438 \nL 335.295358 235.238438 \nL 335.295358 235.238087 \nL 328.378001 235.238087 \nz\n\" style=\"fill:#1f77b4;\"/>\n   </g>\n   <g id=\"patch_42\">\n    <path clip-path=\"url(#p8d8c01f3e2)\" d=\"M 335.295375 235.238438 \nL 342.212732 235.238438 \nL 342.212732 235.23797 \nL 335.295375 235.23797 \nz\n\" style=\"fill:#1f77b4;\"/>\n   </g>\n   <g id=\"matplotlib.axis_1\">\n    <g id=\"xtick_1\">\n     <g id=\"line2d_1\">\n      <defs>\n       <path d=\"M 0 0 \nL 0 3.5 \n\" id=\"m8d0a606291\" style=\"stroke:#000000;stroke-width:0.8;\"/>\n      </defs>\n      <g>\n       <use style=\"stroke:#000000;stroke-width:0.8;\" x=\"65.518518\" xlink:href=\"#m8d0a606291\" y=\"235.238438\"/>\n      </g>\n     </g>\n     <g id=\"text_1\">\n      <!-- 0.0 -->\n      <g transform=\"translate(57.566955 249.836875)scale(0.1 -0.1)\">\n       <defs>\n        <path d=\"M 31.78125 66.40625 \nQ 24.171875 66.40625 20.328125 58.90625 \nQ 16.5 51.421875 16.5 36.375 \nQ 16.5 21.390625 20.328125 13.890625 \nQ 24.171875 6.390625 31.78125 6.390625 \nQ 39.453125 6.390625 43.28125 13.890625 \nQ 47.125 21.390625 47.125 36.375 \nQ 47.125 51.421875 43.28125 58.90625 \nQ 39.453125 66.40625 31.78125 66.40625 \nz\nM 31.78125 74.21875 \nQ 44.046875 74.21875 50.515625 64.515625 \nQ 56.984375 54.828125 56.984375 36.375 \nQ 56.984375 17.96875 50.515625 8.265625 \nQ 44.046875 -1.421875 31.78125 -1.421875 \nQ 19.53125 -1.421875 13.0625 8.265625 \nQ 6.59375 17.96875 6.59375 36.375 \nQ 6.59375 54.828125 13.0625 64.515625 \nQ 19.53125 74.21875 31.78125 74.21875 \nz\n\" id=\"DejaVuSans-48\"/>\n        <path d=\"M 10.6875 12.40625 \nL 21 12.40625 \nL 21 0 \nL 10.6875 0 \nz\n\" id=\"DejaVuSans-46\"/>\n       </defs>\n       <use xlink:href=\"#DejaVuSans-48\"/>\n       <use x=\"63.623047\" xlink:href=\"#DejaVuSans-46\"/>\n       <use x=\"95.410156\" xlink:href=\"#DejaVuSans-48\"/>\n      </g>\n     </g>\n    </g>\n    <g id=\"xtick_2\">\n     <g id=\"line2d_2\">\n      <g>\n       <use style=\"stroke:#000000;stroke-width:0.8;\" x=\"138.317372\" xlink:href=\"#m8d0a606291\" y=\"235.238438\"/>\n      </g>\n     </g>\n     <g id=\"text_2\">\n      <!-- 0.5 -->\n      <g transform=\"translate(130.36581 249.836875)scale(0.1 -0.1)\">\n       <defs>\n        <path d=\"M 10.796875 72.90625 \nL 49.515625 72.90625 \nL 49.515625 64.59375 \nL 19.828125 64.59375 \nL 19.828125 46.734375 \nQ 21.96875 47.46875 24.109375 47.828125 \nQ 26.265625 48.1875 28.421875 48.1875 \nQ 40.625 48.1875 47.75 41.5 \nQ 54.890625 34.8125 54.890625 23.390625 \nQ 54.890625 11.625 47.5625 5.09375 \nQ 40.234375 -1.421875 26.90625 -1.421875 \nQ 22.3125 -1.421875 17.546875 -0.640625 \nQ 12.796875 0.140625 7.71875 1.703125 \nL 7.71875 11.625 \nQ 12.109375 9.234375 16.796875 8.0625 \nQ 21.484375 6.890625 26.703125 6.890625 \nQ 35.15625 6.890625 40.078125 11.328125 \nQ 45.015625 15.765625 45.015625 23.390625 \nQ 45.015625 31 40.078125 35.4375 \nQ 35.15625 39.890625 26.703125 39.890625 \nQ 22.75 39.890625 18.8125 39.015625 \nQ 14.890625 38.140625 10.796875 36.28125 \nz\n\" id=\"DejaVuSans-53\"/>\n       </defs>\n       <use xlink:href=\"#DejaVuSans-48\"/>\n       <use x=\"63.623047\" xlink:href=\"#DejaVuSans-46\"/>\n       <use x=\"95.410156\" xlink:href=\"#DejaVuSans-53\"/>\n      </g>\n     </g>\n    </g>\n    <g id=\"xtick_3\">\n     <g id=\"line2d_3\">\n      <g>\n       <use style=\"stroke:#000000;stroke-width:0.8;\" x=\"211.116227\" xlink:href=\"#m8d0a606291\" y=\"235.238438\"/>\n      </g>\n     </g>\n     <g id=\"text_3\">\n      <!-- 1.0 -->\n      <g transform=\"translate(203.164664 249.836875)scale(0.1 -0.1)\">\n       <defs>\n        <path d=\"M 12.40625 8.296875 \nL 28.515625 8.296875 \nL 28.515625 63.921875 \nL 10.984375 60.40625 \nL 10.984375 69.390625 \nL 28.421875 72.90625 \nL 38.28125 72.90625 \nL 38.28125 8.296875 \nL 54.390625 8.296875 \nL 54.390625 0 \nL 12.40625 0 \nz\n\" id=\"DejaVuSans-49\"/>\n       </defs>\n       <use xlink:href=\"#DejaVuSans-49\"/>\n       <use x=\"63.623047\" xlink:href=\"#DejaVuSans-46\"/>\n       <use x=\"95.410156\" xlink:href=\"#DejaVuSans-48\"/>\n      </g>\n     </g>\n    </g>\n    <g id=\"xtick_4\">\n     <g id=\"line2d_4\">\n      <g>\n       <use style=\"stroke:#000000;stroke-width:0.8;\" x=\"283.915082\" xlink:href=\"#m8d0a606291\" y=\"235.238438\"/>\n      </g>\n     </g>\n     <g id=\"text_4\">\n      <!-- 1.5 -->\n      <g transform=\"translate(275.963519 249.836875)scale(0.1 -0.1)\">\n       <use xlink:href=\"#DejaVuSans-49\"/>\n       <use x=\"63.623047\" xlink:href=\"#DejaVuSans-46\"/>\n       <use x=\"95.410156\" xlink:href=\"#DejaVuSans-53\"/>\n      </g>\n     </g>\n    </g>\n    <g id=\"xtick_5\">\n     <g id=\"line2d_5\">\n      <g>\n       <use style=\"stroke:#000000;stroke-width:0.8;\" x=\"356.713936\" xlink:href=\"#m8d0a606291\" y=\"235.238438\"/>\n      </g>\n     </g>\n     <g id=\"text_5\">\n      <!-- 2.0 -->\n      <g transform=\"translate(348.762374 249.836875)scale(0.1 -0.1)\">\n       <defs>\n        <path d=\"M 19.1875 8.296875 \nL 53.609375 8.296875 \nL 53.609375 0 \nL 7.328125 0 \nL 7.328125 8.296875 \nQ 12.9375 14.109375 22.625 23.890625 \nQ 32.328125 33.6875 34.8125 36.53125 \nQ 39.546875 41.84375 41.421875 45.53125 \nQ 43.3125 49.21875 43.3125 52.78125 \nQ 43.3125 58.59375 39.234375 62.25 \nQ 35.15625 65.921875 28.609375 65.921875 \nQ 23.96875 65.921875 18.8125 64.3125 \nQ 13.671875 62.703125 7.8125 59.421875 \nL 7.8125 69.390625 \nQ 13.765625 71.78125 18.9375 73 \nQ 24.125 74.21875 28.421875 74.21875 \nQ 39.75 74.21875 46.484375 68.546875 \nQ 53.21875 62.890625 53.21875 53.421875 \nQ 53.21875 48.921875 51.53125 44.890625 \nQ 49.859375 40.875 45.40625 35.40625 \nQ 44.1875 33.984375 37.640625 27.21875 \nQ 31.109375 20.453125 19.1875 8.296875 \nz\n\" id=\"DejaVuSans-50\"/>\n       </defs>\n       <use xlink:href=\"#DejaVuSans-50\"/>\n       <use x=\"63.623047\" xlink:href=\"#DejaVuSans-46\"/>\n       <use x=\"95.410156\" xlink:href=\"#DejaVuSans-48\"/>\n      </g>\n     </g>\n    </g>\n    <g id=\"text_6\">\n     <!-- 1e−6 -->\n     <g transform=\"translate(344.007812 262.515)scale(0.1 -0.1)\">\n      <defs>\n       <path d=\"M 56.203125 29.59375 \nL 56.203125 25.203125 \nL 14.890625 25.203125 \nQ 15.484375 15.921875 20.484375 11.0625 \nQ 25.484375 6.203125 34.421875 6.203125 \nQ 39.59375 6.203125 44.453125 7.46875 \nQ 49.3125 8.734375 54.109375 11.28125 \nL 54.109375 2.78125 \nQ 49.265625 0.734375 44.1875 -0.34375 \nQ 39.109375 -1.421875 33.890625 -1.421875 \nQ 20.796875 -1.421875 13.15625 6.1875 \nQ 5.515625 13.8125 5.515625 26.8125 \nQ 5.515625 40.234375 12.765625 48.109375 \nQ 20.015625 56 32.328125 56 \nQ 43.359375 56 49.78125 48.890625 \nQ 56.203125 41.796875 56.203125 29.59375 \nz\nM 47.21875 32.234375 \nQ 47.125 39.59375 43.09375 43.984375 \nQ 39.0625 48.390625 32.421875 48.390625 \nQ 24.90625 48.390625 20.390625 44.140625 \nQ 15.875 39.890625 15.1875 32.171875 \nz\n\" id=\"DejaVuSans-101\"/>\n       <path d=\"M 10.59375 35.5 \nL 73.1875 35.5 \nL 73.1875 27.203125 \nL 10.59375 27.203125 \nz\n\" id=\"DejaVuSans-8722\"/>\n       <path d=\"M 33.015625 40.375 \nQ 26.375 40.375 22.484375 35.828125 \nQ 18.609375 31.296875 18.609375 23.390625 \nQ 18.609375 15.53125 22.484375 10.953125 \nQ 26.375 6.390625 33.015625 6.390625 \nQ 39.65625 6.390625 43.53125 10.953125 \nQ 47.40625 15.53125 47.40625 23.390625 \nQ 47.40625 31.296875 43.53125 35.828125 \nQ 39.65625 40.375 33.015625 40.375 \nz\nM 52.59375 71.296875 \nL 52.59375 62.3125 \nQ 48.875 64.0625 45.09375 64.984375 \nQ 41.3125 65.921875 37.59375 65.921875 \nQ 27.828125 65.921875 22.671875 59.328125 \nQ 17.53125 52.734375 16.796875 39.40625 \nQ 19.671875 43.65625 24.015625 45.921875 \nQ 28.375 48.1875 33.59375 48.1875 \nQ 44.578125 48.1875 50.953125 41.515625 \nQ 57.328125 34.859375 57.328125 23.390625 \nQ 57.328125 12.15625 50.6875 5.359375 \nQ 44.046875 -1.421875 33.015625 -1.421875 \nQ 20.359375 -1.421875 13.671875 8.265625 \nQ 6.984375 17.96875 6.984375 36.375 \nQ 6.984375 53.65625 15.1875 63.9375 \nQ 23.390625 74.21875 37.203125 74.21875 \nQ 40.921875 74.21875 44.703125 73.484375 \nQ 48.484375 72.75 52.59375 71.296875 \nz\n\" id=\"DejaVuSans-54\"/>\n      </defs>\n      <use xlink:href=\"#DejaVuSans-49\"/>\n      <use x=\"63.623047\" xlink:href=\"#DejaVuSans-101\"/>\n      <use x=\"125.146484\" xlink:href=\"#DejaVuSans-8722\"/>\n      <use x=\"208.935547\" xlink:href=\"#DejaVuSans-54\"/>\n     </g>\n    </g>\n   </g>\n   <g id=\"matplotlib.axis_2\">\n    <g id=\"ytick_1\">\n     <g id=\"line2d_6\">\n      <defs>\n       <path d=\"M 0 0 \nL -3.5 0 \n\" id=\"m40d8268c96\" style=\"stroke:#000000;stroke-width:0.8;\"/>\n      </defs>\n      <g>\n       <use style=\"stroke:#000000;stroke-width:0.8;\" x=\"36.465625\" xlink:href=\"#m40d8268c96\" y=\"235.238438\"/>\n      </g>\n     </g>\n     <g id=\"text_7\">\n      <!-- 0.00 -->\n      <g transform=\"translate(7.2 239.037656)scale(0.1 -0.1)\">\n       <use xlink:href=\"#DejaVuSans-48\"/>\n       <use x=\"63.623047\" xlink:href=\"#DejaVuSans-46\"/>\n       <use x=\"95.410156\" xlink:href=\"#DejaVuSans-48\"/>\n       <use x=\"159.033203\" xlink:href=\"#DejaVuSans-48\"/>\n      </g>\n     </g>\n    </g>\n    <g id=\"ytick_2\">\n     <g id=\"line2d_7\">\n      <g>\n       <use style=\"stroke:#000000;stroke-width:0.8;\" x=\"36.465625\" xlink:href=\"#m40d8268c96\" y=\"206.007457\"/>\n      </g>\n     </g>\n     <g id=\"text_8\">\n      <!-- 0.25 -->\n      <g transform=\"translate(7.2 209.806675)scale(0.1 -0.1)\">\n       <use xlink:href=\"#DejaVuSans-48\"/>\n       <use x=\"63.623047\" xlink:href=\"#DejaVuSans-46\"/>\n       <use x=\"95.410156\" xlink:href=\"#DejaVuSans-50\"/>\n       <use x=\"159.033203\" xlink:href=\"#DejaVuSans-53\"/>\n      </g>\n     </g>\n    </g>\n    <g id=\"ytick_3\">\n     <g id=\"line2d_8\">\n      <g>\n       <use style=\"stroke:#000000;stroke-width:0.8;\" x=\"36.465625\" xlink:href=\"#m40d8268c96\" y=\"176.776476\"/>\n      </g>\n     </g>\n     <g id=\"text_9\">\n      <!-- 0.50 -->\n      <g transform=\"translate(7.2 180.575695)scale(0.1 -0.1)\">\n       <use xlink:href=\"#DejaVuSans-48\"/>\n       <use x=\"63.623047\" xlink:href=\"#DejaVuSans-46\"/>\n       <use x=\"95.410156\" xlink:href=\"#DejaVuSans-53\"/>\n       <use x=\"159.033203\" xlink:href=\"#DejaVuSans-48\"/>\n      </g>\n     </g>\n    </g>\n    <g id=\"ytick_4\">\n     <g id=\"line2d_9\">\n      <g>\n       <use style=\"stroke:#000000;stroke-width:0.8;\" x=\"36.465625\" xlink:href=\"#m40d8268c96\" y=\"147.545495\"/>\n      </g>\n     </g>\n     <g id=\"text_10\">\n      <!-- 0.75 -->\n      <g transform=\"translate(7.2 151.344714)scale(0.1 -0.1)\">\n       <defs>\n        <path d=\"M 8.203125 72.90625 \nL 55.078125 72.90625 \nL 55.078125 68.703125 \nL 28.609375 0 \nL 18.3125 0 \nL 43.21875 64.59375 \nL 8.203125 64.59375 \nz\n\" id=\"DejaVuSans-55\"/>\n       </defs>\n       <use xlink:href=\"#DejaVuSans-48\"/>\n       <use x=\"63.623047\" xlink:href=\"#DejaVuSans-46\"/>\n       <use x=\"95.410156\" xlink:href=\"#DejaVuSans-55\"/>\n       <use x=\"159.033203\" xlink:href=\"#DejaVuSans-53\"/>\n      </g>\n     </g>\n    </g>\n    <g id=\"ytick_5\">\n     <g id=\"line2d_10\">\n      <g>\n       <use style=\"stroke:#000000;stroke-width:0.8;\" x=\"36.465625\" xlink:href=\"#m40d8268c96\" y=\"118.314514\"/>\n      </g>\n     </g>\n     <g id=\"text_11\">\n      <!-- 1.00 -->\n      <g transform=\"translate(7.2 122.113733)scale(0.1 -0.1)\">\n       <use xlink:href=\"#DejaVuSans-49\"/>\n       <use x=\"63.623047\" xlink:href=\"#DejaVuSans-46\"/>\n       <use x=\"95.410156\" xlink:href=\"#DejaVuSans-48\"/>\n       <use x=\"159.033203\" xlink:href=\"#DejaVuSans-48\"/>\n      </g>\n     </g>\n    </g>\n    <g id=\"ytick_6\">\n     <g id=\"line2d_11\">\n      <g>\n       <use style=\"stroke:#000000;stroke-width:0.8;\" x=\"36.465625\" xlink:href=\"#m40d8268c96\" y=\"89.083533\"/>\n      </g>\n     </g>\n     <g id=\"text_12\">\n      <!-- 1.25 -->\n      <g transform=\"translate(7.2 92.882752)scale(0.1 -0.1)\">\n       <use xlink:href=\"#DejaVuSans-49\"/>\n       <use x=\"63.623047\" xlink:href=\"#DejaVuSans-46\"/>\n       <use x=\"95.410156\" xlink:href=\"#DejaVuSans-50\"/>\n       <use x=\"159.033203\" xlink:href=\"#DejaVuSans-53\"/>\n      </g>\n     </g>\n    </g>\n    <g id=\"ytick_7\">\n     <g id=\"line2d_12\">\n      <g>\n       <use style=\"stroke:#000000;stroke-width:0.8;\" x=\"36.465625\" xlink:href=\"#m40d8268c96\" y=\"59.852552\"/>\n      </g>\n     </g>\n     <g id=\"text_13\">\n      <!-- 1.50 -->\n      <g transform=\"translate(7.2 63.651771)scale(0.1 -0.1)\">\n       <use xlink:href=\"#DejaVuSans-49\"/>\n       <use x=\"63.623047\" xlink:href=\"#DejaVuSans-46\"/>\n       <use x=\"95.410156\" xlink:href=\"#DejaVuSans-53\"/>\n       <use x=\"159.033203\" xlink:href=\"#DejaVuSans-48\"/>\n      </g>\n     </g>\n    </g>\n    <g id=\"ytick_8\">\n     <g id=\"line2d_13\">\n      <g>\n       <use style=\"stroke:#000000;stroke-width:0.8;\" x=\"36.465625\" xlink:href=\"#m40d8268c96\" y=\"30.621571\"/>\n      </g>\n     </g>\n     <g id=\"text_14\">\n      <!-- 1.75 -->\n      <g transform=\"translate(7.2 34.42079)scale(0.1 -0.1)\">\n       <use xlink:href=\"#DejaVuSans-49\"/>\n       <use x=\"63.623047\" xlink:href=\"#DejaVuSans-46\"/>\n       <use x=\"95.410156\" xlink:href=\"#DejaVuSans-55\"/>\n       <use x=\"159.033203\" xlink:href=\"#DejaVuSans-53\"/>\n      </g>\n     </g>\n    </g>\n    <g id=\"text_15\">\n     <!-- 1e6 -->\n     <g transform=\"translate(36.465625 14.798437)scale(0.1 -0.1)\">\n      <use xlink:href=\"#DejaVuSans-49\"/>\n      <use x=\"63.623047\" xlink:href=\"#DejaVuSans-101\"/>\n      <use x=\"125.146484\" xlink:href=\"#DejaVuSans-54\"/>\n     </g>\n    </g>\n   </g>\n   <g id=\"line2d_14\">\n    <path clip-path=\"url(#p8d8c01f3e2)\" d=\"M 51.683807 235.238438 \nL 54.758187 235.238438 \nL 57.832567 235.238438 \nL 60.906947 235.238438 \nL 63.981327 235.238438 \nL 67.055708 28.152723 \nL 70.130088 28.607429 \nL 73.204468 29.513847 \nL 76.278848 30.866026 \nL 79.353228 32.655116 \nL 82.427608 34.869471 \nL 85.501989 37.49477 \nL 88.576369 40.514177 \nL 91.650749 43.908515 \nL 94.725129 47.656472 \nL 97.799509 51.734823 \nL 100.873889 56.11867 \nL 103.94827 60.781692 \nL 107.02265 65.696412 \nL 110.09703 70.834459 \nL 113.17141 76.166843 \nL 116.24579 81.664225 \nL 119.32017 87.297177 \nL 122.394551 93.036443 \nL 125.468931 98.853185 \nL 128.543311 104.719211 \nL 131.617691 110.607195 \nL 134.692071 116.490873 \nL 137.766451 122.34522 \nL 140.840832 128.146606 \nL 143.915212 133.872931 \nL 146.989592 139.503734 \nL 150.063972 145.02028 \nL 153.138352 150.405625 \nL 156.212732 155.644658 \nL 159.287113 160.724117 \nL 162.361493 165.632591 \nL 165.435873 170.360499 \nL 168.510253 174.900047 \nL 171.584633 179.245177 \nL 174.659013 183.391496 \nL 177.733394 187.336191 \nL 180.807774 191.077938 \nL 183.882154 194.6168 \nL 186.956534 197.954117 \nL 190.030914 201.092394 \nL 193.105294 204.035183 \nL 196.179675 206.786964 \nL 199.254055 209.353032 \nL 202.328435 211.739374 \nL 205.402815 213.952564 \nL 208.477195 215.999648 \nL 211.551575 217.888042 \nL 214.625956 219.625437 \nL 217.700336 221.219706 \nL 220.774716 222.67882 \nL 223.849096 224.010772 \nL 226.923476 225.223509 \nL 229.997856 226.324869 \nL 233.072237 227.32253 \nL 236.146617 228.223962 \nL 239.220997 229.036391 \nL 242.295377 229.766764 \nL 245.369757 230.421725 \nL 248.444137 231.007598 \nL 251.518518 231.530368 \nL 254.592898 231.99568 \nL 257.667278 232.408829 \nL 260.741658 232.774761 \nL 263.816038 233.09808 \nL 266.890418 233.383051 \nL 269.964799 233.633613 \nL 273.039179 233.853385 \nL 276.113559 234.045685 \nL 279.187939 234.213541 \nL 282.262319 234.359709 \nL 285.336699 234.486685 \nL 288.41108 234.596725 \nL 291.48546 234.691861 \nL 294.55984 234.773914 \nL 297.63422 234.844517 \nL 300.7086 234.905122 \nL 303.78298 234.957022 \nL 306.857361 235.001363 \nL 309.931741 235.039155 \nL 313.006121 235.071291 \nL 316.080501 235.098553 \nL 319.154881 235.121625 \nL 322.229261 235.141106 \nL 325.303642 235.157516 \nL 328.378022 235.171307 \nL 331.452402 235.18287 \nL 334.526782 235.192543 \nL 337.601162 235.200614 \nL 340.675542 235.207335 \nL 343.749923 235.212918 \nL 346.824303 235.217544 \nL 349.898683 235.22137 \nL 352.973063 235.224525 \nL 356.047443 235.227122 \n\" style=\"fill:none;stroke:#000000;stroke-linecap:square;stroke-width:2;\"/>\n   </g>\n   <g id=\"patch_43\">\n    <path d=\"M 36.465625 235.238438 \nL 36.465625 17.798438 \n\" style=\"fill:none;stroke:#000000;stroke-linecap:square;stroke-linejoin:miter;stroke-width:0.8;\"/>\n   </g>\n   <g id=\"patch_44\">\n    <path d=\"M 371.265625 235.238438 \nL 371.265625 17.798438 \n\" style=\"fill:none;stroke:#000000;stroke-linecap:square;stroke-linejoin:miter;stroke-width:0.8;\"/>\n   </g>\n   <g id=\"patch_45\">\n    <path d=\"M 36.465625 235.238438 \nL 371.265625 235.238438 \n\" style=\"fill:none;stroke:#000000;stroke-linecap:square;stroke-linejoin:miter;stroke-width:0.8;\"/>\n   </g>\n   <g id=\"patch_46\">\n    <path d=\"M 36.465625 17.798438 \nL 371.265625 17.798438 \n\" style=\"fill:none;stroke:#000000;stroke-linecap:square;stroke-linejoin:miter;stroke-width:0.8;\"/>\n   </g>\n  </g>\n </g>\n <defs>\n  <clipPath id=\"p8d8c01f3e2\">\n   <rect height=\"217.44\" width=\"334.8\" x=\"36.465625\" y=\"17.798438\"/>\n  </clipPath>\n </defs>\n</svg>\n",
            "image/png": "[encoded data removed]"
          },
          "metadata": {
            "needs_background": "light"
          }
        }
      ],
      "metadata": {
        "tags": [],
        "id": "Q8IbYCwkF-5K",
        "outputId": "5cd8e5ba-49cd-49b4-d65c-65d82229f792",
        "colab": {
          "base_uri": "https://localhost:8080/",
          "height": 221
        }
      }
    },
    {
      "cell_type": "code",
      "execution_count": 28,
      "source": [
        "ska_dataset.cleaned_train_df[['width', 'height', 'area_orig', 'area_cropped']].describe()"
      ],
      "outputs": [
        {
          "output_type": "execute_result",
          "data": {
            "text/plain": [
              "              width        height     area_orig  area_cropped\n",
              "count  19222.000000  19222.000000  19222.000000  19222.000000\n",
              "mean       6.282190      6.285123     44.731314     44.731314\n",
              "std        3.122242      2.910949    169.529219    169.529219\n",
              "min        4.964839      4.964839     24.649628     24.649628\n",
              "25%        5.114121      5.116855     26.770928     26.770928\n",
              "50%        5.388071      5.394034     29.928541     29.928541\n",
              "75%        6.193903      6.206960     39.145862     39.145862\n",
              "max      216.538139     97.294352  21067.937901  21067.937901"
            ],
            "text/html": [
              "<div>\n",
              "<style scoped>\n",
              "    .dataframe tbody tr th:only-of-type {\n",
              "        vertical-align: middle;\n",
              "    }\n",
              "\n",
              "    .dataframe tbody tr th {\n",
              "        vertical-align: top;\n",
              "    }\n",
              "\n",
              "    .dataframe thead th {\n",
              "        text-align: right;\n",
              "    }\n",
              "</style>\n",
              "<table border=\"1\" class=\"dataframe\">\n",
              "  <thead>\n",
              "    <tr style=\"text-align: right;\">\n",
              "      <th></th>\n",
              "      <th>width</th>\n",
              "      <th>height</th>\n",
              "      <th>area_orig</th>\n",
              "      <th>area_cropped</th>\n",
              "    </tr>\n",
              "  </thead>\n",
              "  <tbody>\n",
              "    <tr>\n",
              "      <th>count</th>\n",
              "      <td>19222.000000</td>\n",
              "      <td>19222.000000</td>\n",
              "      <td>19222.000000</td>\n",
              "      <td>19222.000000</td>\n",
              "    </tr>\n",
              "    <tr>\n",
              "      <th>mean</th>\n",
              "      <td>6.282190</td>\n",
              "      <td>6.285123</td>\n",
              "      <td>44.731314</td>\n",
              "      <td>44.731314</td>\n",
              "    </tr>\n",
              "    <tr>\n",
              "      <th>std</th>\n",
              "      <td>3.122242</td>\n",
              "      <td>2.910949</td>\n",
              "      <td>169.529219</td>\n",
              "      <td>169.529219</td>\n",
              "    </tr>\n",
              "    <tr>\n",
              "      <th>min</th>\n",
              "      <td>4.964839</td>\n",
              "      <td>4.964839</td>\n",
              "      <td>24.649628</td>\n",
              "      <td>24.649628</td>\n",
              "    </tr>\n",
              "    <tr>\n",
              "      <th>25%</th>\n",
              "      <td>5.114121</td>\n",
              "      <td>5.116855</td>\n",
              "      <td>26.770928</td>\n",
              "      <td>26.770928</td>\n",
              "    </tr>\n",
              "    <tr>\n",
              "      <th>50%</th>\n",
              "      <td>5.388071</td>\n",
              "      <td>5.394034</td>\n",
              "      <td>29.928541</td>\n",
              "      <td>29.928541</td>\n",
              "    </tr>\n",
              "    <tr>\n",
              "      <th>75%</th>\n",
              "      <td>6.193903</td>\n",
              "      <td>6.206960</td>\n",
              "      <td>39.145862</td>\n",
              "      <td>39.145862</td>\n",
              "    </tr>\n",
              "    <tr>\n",
              "      <th>max</th>\n",
              "      <td>216.538139</td>\n",
              "      <td>97.294352</td>\n",
              "      <td>21067.937901</td>\n",
              "      <td>21067.937901</td>\n",
              "    </tr>\n",
              "  </tbody>\n",
              "</table>\n",
              "</div>"
            ]
          },
          "metadata": {},
          "execution_count": 28
        }
      ],
      "metadata": {}
    },
    {
      "cell_type": "code",
      "execution_count": 29,
      "source": [
        "ska_dataset.cleaned_train_df[['width', 'height', 'area_orig']].quantile([.1,.2,.3,.4,.5,.6,.7,.8,.9,.95,.98,.99,1.])"
      ],
      "outputs": [
        {
          "output_type": "execute_result",
          "data": {
            "text/plain": [
              "           width     height     area_orig\n",
              "0.10    5.021579   5.022318     25.628098\n",
              "0.20    5.079478   5.083666     26.354817\n",
              "0.30    5.153434   5.154979     27.221580\n",
              "0.40    5.250224   5.256348     28.358833\n",
              "0.50    5.388071   5.394034     29.928541\n",
              "0.60    5.596149   5.603978     32.164977\n",
              "0.70    5.931373   5.932616     36.070023\n",
              "0.80    6.568193   6.603042     43.494231\n",
              "0.90    8.241342   8.188366     63.754795\n",
              "0.95   10.577456  10.646052    100.988437\n",
              "0.98   14.480916  14.595398    167.628745\n",
              "0.99   17.804710  17.928009    233.115808\n",
              "1.00  216.538139  97.294352  21067.937901"
            ],
            "text/html": [
              "<div>\n",
              "<style scoped>\n",
              "    .dataframe tbody tr th:only-of-type {\n",
              "        vertical-align: middle;\n",
              "    }\n",
              "\n",
              "    .dataframe tbody tr th {\n",
              "        vertical-align: top;\n",
              "    }\n",
              "\n",
              "    .dataframe thead th {\n",
              "        text-align: right;\n",
              "    }\n",
              "</style>\n",
              "<table border=\"1\" class=\"dataframe\">\n",
              "  <thead>\n",
              "    <tr style=\"text-align: right;\">\n",
              "      <th></th>\n",
              "      <th>width</th>\n",
              "      <th>height</th>\n",
              "      <th>area_orig</th>\n",
              "    </tr>\n",
              "  </thead>\n",
              "  <tbody>\n",
              "    <tr>\n",
              "      <th>0.10</th>\n",
              "      <td>5.021579</td>\n",
              "      <td>5.022318</td>\n",
              "      <td>25.628098</td>\n",
              "    </tr>\n",
              "    <tr>\n",
              "      <th>0.20</th>\n",
              "      <td>5.079478</td>\n",
              "      <td>5.083666</td>\n",
              "      <td>26.354817</td>\n",
              "    </tr>\n",
              "    <tr>\n",
              "      <th>0.30</th>\n",
              "      <td>5.153434</td>\n",
              "      <td>5.154979</td>\n",
              "      <td>27.221580</td>\n",
              "    </tr>\n",
              "    <tr>\n",
              "      <th>0.40</th>\n",
              "      <td>5.250224</td>\n",
              "      <td>5.256348</td>\n",
              "      <td>28.358833</td>\n",
              "    </tr>\n",
              "    <tr>\n",
              "      <th>0.50</th>\n",
              "      <td>5.388071</td>\n",
              "      <td>5.394034</td>\n",
              "      <td>29.928541</td>\n",
              "    </tr>\n",
              "    <tr>\n",
              "      <th>0.60</th>\n",
              "      <td>5.596149</td>\n",
              "      <td>5.603978</td>\n",
              "      <td>32.164977</td>\n",
              "    </tr>\n",
              "    <tr>\n",
              "      <th>0.70</th>\n",
              "      <td>5.931373</td>\n",
              "      <td>5.932616</td>\n",
              "      <td>36.070023</td>\n",
              "    </tr>\n",
              "    <tr>\n",
              "      <th>0.80</th>\n",
              "      <td>6.568193</td>\n",
              "      <td>6.603042</td>\n",
              "      <td>43.494231</td>\n",
              "    </tr>\n",
              "    <tr>\n",
              "      <th>0.90</th>\n",
              "      <td>8.241342</td>\n",
              "      <td>8.188366</td>\n",
              "      <td>63.754795</td>\n",
              "    </tr>\n",
              "    <tr>\n",
              "      <th>0.95</th>\n",
              "      <td>10.577456</td>\n",
              "      <td>10.646052</td>\n",
              "      <td>100.988437</td>\n",
              "    </tr>\n",
              "    <tr>\n",
              "      <th>0.98</th>\n",
              "      <td>14.480916</td>\n",
              "      <td>14.595398</td>\n",
              "      <td>167.628745</td>\n",
              "    </tr>\n",
              "    <tr>\n",
              "      <th>0.99</th>\n",
              "      <td>17.804710</td>\n",
              "      <td>17.928009</td>\n",
              "      <td>233.115808</td>\n",
              "    </tr>\n",
              "    <tr>\n",
              "      <th>1.00</th>\n",
              "      <td>216.538139</td>\n",
              "      <td>97.294352</td>\n",
              "      <td>21067.937901</td>\n",
              "    </tr>\n",
              "  </tbody>\n",
              "</table>\n",
              "</div>"
            ]
          },
          "metadata": {},
          "execution_count": 29
        }
      ],
      "metadata": {}
    },
    {
      "cell_type": "code",
      "execution_count": null,
      "source": [
        "show_plot = False\n",
        "ska_dataset.generate_patches(limit=10, plot_patches=show_plot) # Remember to remove internal return"
      ],
      "outputs": [],
      "metadata": {
        "id": "Ug10Ku-OF-5Y",
        "outputId": "c3b6bed6-24a7-4f71-cbed-c4b6b8d934af",
        "tags": []
      }
    },
    {
      "cell_type": "code",
      "execution_count": null,
      "source": [
        "ska_dataset.analyze_class_distribution()"
      ],
      "outputs": [],
      "metadata": {
        "tags": []
      }
    },
    {
      "cell_type": "code",
      "execution_count": null,
      "source": [
        "ska_dataset.split_train_val_stratified(random_state=42, val_portion=0.2)\n",
        "\n",
        "print(len(ska_dataset.train_patch_list))\n",
        "print(len(ska_dataset.val_patch_list))\n"
      ],
      "outputs": [],
      "metadata": {}
    },
    {
      "cell_type": "code",
      "execution_count": null,
      "source": [
        "ska_dataset.split_train_val(random_state=42, val_portion=0.2)"
      ],
      "outputs": [],
      "metadata": {}
    },
    {
      "cell_type": "markdown",
      "source": [
        "## datagen + calc_rpn -> rpn_net -> rpn_to_roi -> calc_iou -> cls_net"
      ],
      "metadata": {}
    },
    {
      "cell_type": "markdown",
      "source": [
        "# Training"
      ],
      "metadata": {}
    },
    {
      "cell_type": "code",
      "execution_count": null,
      "source": [
        "# print_img(config.TRAIN_PATCHES_FOLDER, '20_16396_16729_20', show_data=True)\n"
      ],
      "outputs": [],
      "metadata": {}
    },
    {
      "cell_type": "code",
      "execution_count": null,
      "source": [
        "# # Debugging\n",
        "\n",
        "# train_patch_list = ska_dataset.train_patch_list\n",
        "# patches_folder_path=config.TRAIN_PATCHES_FOLDER\n",
        "\n",
        "# train_datagen = prep.get_anchor_gt(patches_folder_path, ['20_16396_16729_20'], backbone, pixel_mean=None)\n",
        "# image, [y_rpn_cls_true, y_rpn_reg_true], img_data_aug, _, _, patch_id = next(train_datagen)\n",
        "\n"
      ],
      "outputs": [],
      "metadata": {}
    },
    {
      "cell_type": "markdown",
      "source": [
        "### Get FRCNN model"
      ],
      "metadata": {}
    },
    {
      "cell_type": "code",
      "execution_count": null,
      "source": [
        "rpn_model, detector_model, total_model = models.get_train_model(input_shape_1=input_shape_1, input_shape_2=input_shape_2, anchor_num=config.anchor_num, pooling_regions=config.pooling_regions, num_rois=config.num_rois, num_classes=len(ska_dataset.class_list)+1, backbone=backbone, use_expander=False)\n",
        "\n",
        "rpn_model.summary()\n",
        "detector_model.summary()\n",
        "total_model.summary()"
      ],
      "outputs": [],
      "metadata": {
        "tags": [
          "outputPrepend"
        ]
      }
    },
    {
      "cell_type": "markdown",
      "source": [
        "### Load weights"
      ],
      "metadata": {}
    },
    {
      "cell_type": "code",
      "execution_count": null,
      "source": [
        "models.load_weigths(rpn_model, detector_model, backbone, resume_train=False, checkpoint=checkpoint)\n",
        "models.compile_models(rpn_model, detector_model, total_model, rpn_losses=[loss.rpn_loss_cls, loss.rpn_loss_regr], detector_losses=[loss.detector_loss_cls, loss.detector_loss_regr], class_list=ska_dataset.class_list)"
      ],
      "outputs": [],
      "metadata": {}
    },
    {
      "cell_type": "code",
      "execution_count": null,
      "source": [
        "# Specifically checking backbone weights\n",
        "\n",
        "# total_model.weights[24:25][0][0][0][0]"
      ],
      "outputs": [],
      "metadata": {}
    },
    {
      "cell_type": "code",
      "execution_count": null,
      "source": [
        "# Check that all of the pretrained weights have been loaded.\n",
        "import numpy as np\n",
        "for i, j in zip(total_model.weights, rpn_model.weights): \n",
        "    # print(i,j)\n",
        "    assert np.allclose(i,j), 'Weights don\\'t match!'"
      ],
      "outputs": [],
      "metadata": {
        "tags": []
      }
    },
    {
      "cell_type": "markdown",
      "source": [
        "### Train"
      ],
      "metadata": {}
    },
    {
      "cell_type": "markdown",
      "source": [
        "- errore \"Exception: 'a' cannot be empty unless no samples are taken\" quando nel sampling ci sono meno di 4 roi\n",
        "- errore \"None type object is not iterable\" dovuto al max(IoUs) quando calc_iou torna None, None, None, None\n",
        "- patch di debug 1550_16376_16779_100\n",
        "- capire il parametro classifier_regr_std in che modo influenza il training"
      ],
      "metadata": {}
    },
    {
      "cell_type": "markdown",
      "source": [
        "- provare normalizzazione valori immagini di input\n",
        "- provare a far passare più roi anzichè 4"
      ],
      "metadata": {}
    },
    {
      "cell_type": "code",
      "execution_count": null,
      "source": [
        "# zzz = np.load(f'{config.TRAIN_PATCHES_FOLDER}/2_16396_16729_20/2_16396_16729_20.npy')\n",
        "# im = pd.read_pickle(f'{config.TRAIN_PATCHES_FOLDER}/2_16396_16729_20/2_16396_16729_20.pkl')\n",
        "\n",
        "# print_img(config.TRAIN_PATCHES_FOLDER, '2_16396_16729_20')\n",
        "# im.iloc[:, 20:]"
      ],
      "outputs": [],
      "metadata": {}
    },
    {
      "cell_type": "markdown",
      "source": [
        "20_16396_16729_20"
      ],
      "metadata": {}
    },
    {
      "cell_type": "code",
      "execution_count": null,
      "source": [
        "from src.train import *\n",
        "val_patch_list = None\n",
        "patch_id = ['2_16396_16729_20']\n",
        "\n",
        "train_frcnn(rpn_model, detector_model, total_model, patch_id, ska_dataset.val_patch_list, ska_dataset.class_list, num_epochs=100, patches_folder_path=config.TRAIN_PATCHES_FOLDER, single_patch_norm=False, backbone=backbone, resume_train=False)\n",
        "# train_frcnn(rpn_model, detector_model, total_model, ska_dataset.train_patch_list, ska_dataset.val_patch_list, ska_dataset.class_list, num_epochs=500, patches_folder_path=config.TRAIN_PATCHES_FOLDER, single_patch_norm=False, backbone=backbone, resume_train=False)"
      ],
      "outputs": [],
      "metadata": {}
    },
    {
      "cell_type": "code",
      "execution_count": null,
      "source": [
        "total_model.save_weights(f'{config.MODEL_WEIGHTS}/{backbone}/0_frcnn_{backbone}.h5')"
      ],
      "outputs": [],
      "metadata": {}
    },
    {
      "cell_type": "markdown",
      "source": [
        "# Validation"
      ],
      "metadata": {}
    },
    {
      "cell_type": "code",
      "execution_count": null,
      "source": [
        "rpn_model_eval, detector_model_eval, total_model_eval = models.get_eval_model(input_shape_1=input_shape_1, input_shape_2=input_shape_2, input_shape_fmap=None, anchor_num=config.anchor_num, pooling_regions=config.pooling_regions, num_rois=config.num_rois, num_classes=len(ska_dataset.class_list)+1, backbone=backbone, use_expander=False)\n",
        "\n",
        "rpn_model_eval.summary()\n",
        "detector_model_eval.summary()\n",
        "total_model_eval.summary()"
      ],
      "outputs": [],
      "metadata": {
        "tags": [
          "outputPrepend"
        ]
      }
    },
    {
      "cell_type": "code",
      "execution_count": null,
      "source": [
        "# Models used for mAP eval\n",
        "cp = '97_frcnn_baseline_16.h5'\n",
        "models.load_weigths(rpn_model_eval, detector_model_eval, backbone, checkpoint=cp)\n",
        "# class_list = {0:'1_1',1:'2_1',2:'2_2',3:'2_3',4:'bg'}\n",
        "models.compile_models(rpn_model_eval, detector_model_eval, total_model_eval, rpn_losses=[loss.rpn_loss_cls, loss.rpn_loss_regr], detector_losses=[loss.detector_loss_cls, loss.detector_loss_regr], class_list=ska_dataset.class_list)\n",
        "# models.compile_models(rpn_model_eval, detector_model_eval, total_model_eval, rpn_losses=[loss.rpn_loss_cls, loss.rpn_loss_regr], detector_losses=[loss.detector_loss_cls, loss.detector_loss_regr], class_list=class_list)"
      ],
      "outputs": [],
      "metadata": {}
    },
    {
      "cell_type": "code",
      "execution_count": null,
      "source": [
        "patch_id = ['2_16396_16729_20']#ska_dataset.train_patch_list#[1:2]\n",
        "# patch_id = ska_dataset.train_patch_list\n",
        "# print(patch_id)\n",
        "# gt = pd.read_pickle(f'{config.TRAIN_PATCHES_FOLDER}/{patch_id[0]}/{patch_id[0]}.pkl')\n",
        "# display(gt['class_label'])\n",
        "\n",
        "preds, mAP, prec, recall = evaluate_model(rpn_model_eval, detector_model_eval, backbone, patch_id, ska_dataset.class_list, metric_threshold=.5, single_patch_norm=False)"
      ],
      "outputs": [],
      "metadata": {
        "tags": []
      }
    },
    {
      "cell_type": "code",
      "execution_count": null,
      "source": [
        "print_img(config.TRAIN_PATCHES_FOLDER,'2_16396_16729_20')"
      ],
      "outputs": [],
      "metadata": {}
    },
    {
      "cell_type": "code",
      "execution_count": null,
      "source": [
        "anch = pd.read_pickle(f'{config.EVAL_RESULTS}/2_16396_16729_20/2_16396_16729_20.pkl')\n",
        "anch.head(130)"
      ],
      "outputs": [],
      "metadata": {}
    },
    {
      "cell_type": "code",
      "execution_count": null,
      "source": [
        "anch['width'] = anch['x2s'] - anch['x1s']\n",
        "anch['heght'] = anch['y2s'] - anch['y1s']"
      ],
      "outputs": [],
      "metadata": {}
    },
    {
      "cell_type": "code",
      "execution_count": null,
      "source": [
        "anch.describe() "
      ],
      "outputs": [],
      "metadata": {}
    },
    {
      "cell_type": "code",
      "execution_count": null,
      "source": [
        "print_img(config.TRAIN_PATCHES_FOLDER, '2_16396_16729_20', config.EVAL_RESULTS)"
      ],
      "outputs": [],
      "metadata": {}
    },
    {
      "cell_type": "markdown",
      "source": [],
      "metadata": {}
    },
    {
      "cell_type": "markdown",
      "source": [
        "TODO - 20210508:\n",
        "- [X] troncamento rumore a 1e-6 tramite half gaussian\n",
        "\n",
        "TODO - 20210605:\n",
        "- [X] modificare RPNNet in modo che dia in output anche la backbone - Lorenzo\n",
        "- [X] scrivere bene training loop: salvare le loss in un df su disco + salvare pesi modello ad ogni giro (Lorenzo - finire di debuggare)\n",
        "\n",
        "TODO - 20210620:\n",
        "- [x] implementare mAP in una funzione che prende come parametro un modello o i suoi pesi\n",
        "- [x] implementare resNet50\n",
        "- [x] implementare predicted rois - Lorenzo\n",
        "- [X] implementare plot loss training - Lorenzo\n",
        "- [X] finire classe datasetv2 - Alice\n",
        "- [X] check se su colab le performance sono migliori - Lorenzo\n",
        "\n",
        "TODO - 20210627\n",
        "- [X] split dataset su combinazioni classi - Alice\n",
        "- [x] provare campionamento random patch ed osservare le due distribuzioni - Alice\n",
        "\n",
        "TODO - 20210703\n",
        "- [x] sistemare salvataggio loss training loop - Lorenzo\n",
        "- [x] Riscalare immagini tra 0-255 - Alice\n",
        "- [x] capire se passare tre immagini diverse come input\n",
        "- [x] usare media vgg16 per zero-centering - Alice\n",
        "\n",
        "TODO - 20210705\n",
        "- [x] sistemare nomi funzioni dataset per trasformazione rgb\n",
        "\n",
        "TODO - 20210711\n",
        "- [x] rifattorizzare classe dataset spostando nel costruttore i metodi che calcolano i suoi attributi - Lorenzo\n",
        "- [x] chek valori pixel in input per resnet\n",
        "- [x] fare funzione per plottare le predictions\n",
        "- [ ] trainare tutto su colab\n",
        "\n",
        "TODO - 20210714\n",
        "- [x] ragionare su come scalare le immagini fra 0 e 1, attualmente hanno tanti valori schiacciati a 0 e il massimo su tutto il train a a 0.4\n",
        "\n",
        "TODO - 20210717\n",
        "- [ ] Ablation study: provare a rimuovere stage4 nella resnet - se c'è tempo\n",
        "- [x] Provare con nostra pixel_mean e con vgg16 pixel_mean -> per il momento abbiamo scartato la prima opzione\n",
        "- [ ] Fare qualche analisi di distribuzione delle classi/dim box del dataset - Alice\n",
        "- [x] Aggiungere normalizzazione dopo zero centering per resNet50, sulla base del range globale dell'immagine di training\n",
        "- [ ] Provare pulizia dataset originale sulla base del rumore/flusso - Alice\n",
        "- [ ] Cambiare nomi di tutto - alla fine\n",
        "- [x] implementare zero-centering su volare medio RGB delle nostre patch\n",
        "- [x] Funzione che trova l'ultimo checkpoint in colab prima del load_weights - Lorenzo\n",
        "\n",
        "TODO - 20210801\n",
        "- [x] Debuggare training baseline 8 e 16 - L\n",
        "- [ ] Finire prove pulizia dataseet noise variando k - A"
      ],
      "metadata": {}
    },
    {
      "cell_type": "markdown",
      "source": [
        "1.  Summary\n",
        "    - riassunto progetto\n",
        "2.  Background\n",
        "    - SoTA + teoria di base\n",
        "3.  System Description\n",
        "    - descrizione dei nostri modelli e dei loro componenti (moduli)\n",
        "4.  Experimental setup and results\n",
        "    - dataset pre processing\n",
        "    - training environment\n",
        "    - metrics\n",
        "    - results\n",
        "5.  Results and error analysis\n",
        "6.  Discussion"
      ],
      "metadata": {}
    },
    {
      "cell_type": "markdown",
      "source": [
        "# Plotting"
      ],
      "metadata": {}
    },
    {
      "cell_type": "code",
      "execution_count": null,
      "source": [
        "loss_history = np.load(f\"./model/{backbone}/loss_history.npy\")\n",
        "print(loss_history.shape)"
      ],
      "outputs": [],
      "metadata": {}
    },
    {
      "cell_type": "code",
      "execution_count": null,
      "source": [
        "loss_history"
      ],
      "outputs": [],
      "metadata": {}
    },
    {
      "cell_type": "code",
      "execution_count": null,
      "source": [
        "plot_loss(loss_history[10:])"
      ],
      "outputs": [],
      "metadata": {}
    },
    {
      "cell_type": "markdown",
      "source": [],
      "metadata": {}
    }
  ]
}