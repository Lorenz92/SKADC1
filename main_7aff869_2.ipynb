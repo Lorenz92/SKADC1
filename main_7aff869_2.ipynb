{
  "nbformat": 4,
  "nbformat_minor": 2,
  "metadata": {
    "language_info": {
      "codemirror_mode": {
        "name": "ipython",
        "version": 3
      },
      "file_extension": ".py",
      "mimetype": "text/x-python",
      "name": "python",
      "nbconvert_exporter": "python",
      "pygments_lexer": "ipython3",
      "version": "3.8.2"
    },
    "orig_nbformat": 2,
    "kernelspec": {
      "name": "python3",
      "display_name": "Python 3.8.2 64-bit"
    },
    "colab": {
      "name": "main.ipynb",
      "provenance": []
    },
    "metadata": {
      "interpreter": {
        "hash": "31f2aee4e71d21fbe5cf8b01ff0e069b9275f58929596ceb00d14d90e3e16cd6"
      }
    },
    "interpreter": {
      "hash": "31f2aee4e71d21fbe5cf8b01ff0e069b9275f58929596ceb00d14d90e3e16cd6"
    }
  },
  "cells": [
    {
      "cell_type": "code",
      "execution_count": null,
      "source": [
        "# !git clone -b retry_rgb_norm 'https://github.com/Lorenz92/SKADC1.git'\n",
        "# % cd SKADC1\n",
        "# !echo $PWD\n",
        "# !pip install tensorflow==2.4.1 keras==2.4.3 pandas==1.2.2"
      ],
      "outputs": [],
      "metadata": {}
    },
    {
      "cell_type": "code",
      "execution_count": null,
      "source": [
        "import pandas as pd\n",
        "import numpy as np\n",
        "\n",
        "import src.dataset as dataset\n",
        "import src.config as config \n",
        "from src.utils import *\n",
        "import src.models as models\n",
        "import src.losses as loss\n",
        "\n",
        "path = config.TRAIN_PATCHES_FOLDER\n",
        "%load_ext autoreload\n",
        "%autoreload 2\n",
        "\n",
        "np.random.seed(config.RANDOM_SEED)"
      ],
      "outputs": [],
      "metadata": {
        "id": "7WwOlsifF-5G",
        "outputId": "303002ab-c8c4-4807-caeb-ee1c590d4326",
        "colab": {
          "base_uri": "https://localhost:8080/"
        }
      }
    },
    {
      "cell_type": "code",
      "execution_count": null,
      "source": [
        "if 'google.colab' in str(get_ipython()):\n",
        "  use_colab = True\n",
        "  print('Running on CoLab')\n",
        "else:\n",
        "  use_colab = False\n",
        "  print('Not running on CoLab')"
      ],
      "outputs": [],
      "metadata": {}
    },
    {
      "cell_type": "code",
      "execution_count": null,
      "source": [
        "source_dir = './data/training/patches'\n",
        "\n",
        "if use_colab:\n",
        "    # Read file from Colab Notebook\n",
        "    from google.colab import drive\n",
        "    drive.mount('/content/drive')\n",
        "    config.MODEL_WEIGHTS = \"/content/drive/My Drive/Colab Notebooks/SKADC1\"\n",
        "    config.IMAGE_PATH = \"/content/drive/My Drive/Colab Notebooks/SKADC1/asset/560Mhz_1000h.fits\"\n",
        "    config.TRAIN_DATA_FOLDER = \"/content/drive/My Drive/Colab Notebooks/SKADC1/asset\"\n",
        "    config.TRAIN_PATCHES_FOLDER = \"/content/drive/My Drive/Colab Notebooks/SKADC1/patches\"\n",
        "    source_dir = \"/content/drive/My Drive/Colab Notebooks/SKADC1/asset/patches\""
      ],
      "outputs": [],
      "metadata": {}
    },
    {
      "cell_type": "code",
      "execution_count": null,
      "source": [
        "# Choose the feature extraction model\n",
        "# backbone='baseline_44'\n",
        "backbone='baseline_16'\n",
        "# backbone='vgg16'\n",
        "\n",
        "if backbone=='baseline_16':\n",
        "    # config.patch_dim = 50\n",
        "    config.patch_dim = 20\n",
        "    config.resizePatch = True\n",
        "    config.rpn_stride = 4\n",
        "    config.num_rois = 16\n",
        "    # anchors in the original image size\n",
        "    config.anchor_box_scales = [4, 8, 16, 24, 32, 64]\n",
        "    # config.anchor_box_scales = [6, 8, 12, 16, 24, 32, 64]\n",
        "    config.resizeFinalDim = 100\n",
        "    input_shape_1 = config.resizeFinalDim\n",
        "elif backbone=='baseline_44':\n",
        "    config.patch_dim = 20\n",
        "    config.resizePatch = True\n",
        "    config.rpn_stride = 8\n",
        "    config.num_rois = 16\n",
        "    # config.anchor_box_scales = [16,32,64] # anchors in the original image size\n",
        "    config.anchor_box_scales = [4, 8, 16, 24, 32, 64]\n",
        "    config.resizeFinalDim = 100\n",
        "    input_shape_1 = config.resizeFinalDim\n",
        "else:\n",
        "    config.patch_dim = 100\n",
        "    config.resizePatch = True\n",
        "    config.rpn_stride = 16\n",
        "    config.num_rois = 16\n",
        "    config.resizeFinalDim = 600\n",
        "    input_shape_1=config.resizeFinalDim\n",
        "    config.anchor_box_scales = [32,64,128]\n",
        "    config.in_out_img_size_ratio = config.rpn_stride\n",
        "\n",
        "\n",
        "\n",
        "config.anchor_num = len(config.anchor_box_ratios)*len(config.anchor_box_scales)\n",
        "input_shape_2=(None, 4)\n",
        "\n",
        "print(config.resizePatch)\n",
        "print(config.rpn_stride)\n",
        "\n",
        "checkpoint = get_model_last_checkpoint(backbone)\n",
        "print(f'Model last checkpoint: {checkpoint}')\n",
        "\n",
        "file_path = f'{config.MODEL_WEIGHTS}/{backbone}'\n",
        "print(f'Writing configuration on txt file: {config.MODEL_WEIGHTS}/config.txt')\n",
        "\n",
        "if not os.path.exists(file_path):\n",
        "        os.makedirs(file_path)\n",
        "        \n",
        "f = open(f'{file_path}/config.txt',\"w+\")\n",
        "f.write(f'backbone = {backbone}\\n config.patch_dim = {config.patch_dim}\\n config.resizePatch = {config.resizePatch}\\n config.rpn_stride = {config.rpn_stride}\\n config.num_rois = {config.num_rois}\\n config.anchor_box_scales = {config.anchor_box_scales}\\n config.resizeFinalDim = {config.resizeFinalDim}\\n input_shape_1 = {input_shape_1}')\n",
        "f.close()"
      ],
      "outputs": [],
      "metadata": {}
    },
    {
      "cell_type": "code",
      "execution_count": null,
      "source": [
        "# Dataset parsing and loading\n",
        "# use \"subset\" in config file to load a small portion of data for development/debugging purposes\n",
        "ska_dataset = dataset.SKADataset(k=3, print_info=False, show_plot=False, use_pb=False)"
      ],
      "outputs": [],
      "metadata": {
        "tags": [],
        "id": "Q8IbYCwkF-5K",
        "outputId": "5cd8e5ba-49cd-49b4-d65c-65d82229f792",
        "colab": {
          "base_uri": "https://localhost:8080/",
          "height": 221
        }
      }
    },
    {
      "cell_type": "code",
      "execution_count": null,
      "source": [
        "ska_dataset.cleaned_train_df[['width', 'height', 'area_orig', 'area_cropped']].describe()"
      ],
      "outputs": [],
      "metadata": {}
    },
    {
      "cell_type": "code",
      "execution_count": null,
      "source": [
        "ska_dataset.cleaned_train_df[['width', 'height', 'area_orig']].quantile([.1,.2,.3,.4,.5,.6,.7,.8,.9,.95,.98,.99,1.])"
      ],
      "outputs": [],
      "metadata": {}
    },
    {
      "cell_type": "code",
      "execution_count": null,
      "source": [
        "objects_to_ignore=[20167150, 27514971]\n"
      ],
      "outputs": [],
      "metadata": {}
    },
    {
      "cell_type": "code",
      "execution_count": null,
      "source": [
        "show_plot = False\n",
        "# ska_dataset.generate_patches(limit=10, plot_patches=show_plot, objects_to_ignore=objects_to_ignore, source_dir=None, rgb_norm=True)\n",
        "ska_dataset.generate_patches(limit=4000, plot_patches=show_plot, objects_to_ignore=objects_to_ignore, source_dir='./data/training/patches', rgb_norm=True)\n",
        "# ska_dataset.generate_patches(limit=1000, plot_patches=show_plot, objects_to_ignore=objects_to_ignore, source_dir='./data/training/patches', rgb_norm=False)"
      ],
      "outputs": [],
      "metadata": {
        "id": "Ug10Ku-OF-5Y",
        "outputId": "c3b6bed6-24a7-4f71-cbed-c4b6b8d934af",
        "tags": []
      }
    },
    {
      "cell_type": "code",
      "execution_count": null,
      "source": [
        "# ska_dataset.analyze_class_distribution()"
      ],
      "outputs": [],
      "metadata": {
        "tags": []
      }
    },
    {
      "cell_type": "code",
      "execution_count": null,
      "source": [
        "# ska_dataset.split_train_val_stratified(random_state=42, val_portion=0.2)\n",
        "\n",
        "# print(len(ska_dataset.train_patch_list))\n",
        "# print(len(ska_dataset.val_patch_list))\n"
      ],
      "outputs": [],
      "metadata": {}
    },
    {
      "cell_type": "code",
      "execution_count": null,
      "source": [
        "ska_dataset.split_train_val(random_state=42, val_portion=0.2, balanced=False)"
      ],
      "outputs": [],
      "metadata": {}
    },
    {
      "cell_type": "markdown",
      "source": [
        "## datagen + calc_rpn -> rpn_net -> rpn_to_roi -> calc_iou -> cls_net"
      ],
      "metadata": {}
    },
    {
      "cell_type": "markdown",
      "source": [
        "# Training"
      ],
      "metadata": {}
    },
    {
      "cell_type": "code",
      "execution_count": null,
      "source": [
        "# print_img(config.TRAIN_PATCHES_FOLDER, '3_16406_16729_20', show_data=True)\n"
      ],
      "outputs": [],
      "metadata": {}
    },
    {
      "cell_type": "code",
      "execution_count": null,
      "source": [
        "# # Debugging\n",
        "\n",
        "# train_patch_list = ska_dataset.train_patch_list\n",
        "# patches_folder_path=config.TRAIN_PATCHES_FOLDER\n",
        "\n",
        "# train_datagen = prep.get_anchor_gt(patches_folder_path, ['20_16396_16729_20'], backbone, pixel_mean=None)\n",
        "# image, [y_rpn_cls_true, y_rpn_reg_true], img_data_aug, _, _, patch_id = next(train_datagen)\n",
        "\n"
      ],
      "outputs": [],
      "metadata": {}
    },
    {
      "cell_type": "markdown",
      "source": [
        "### Get FRCNN model"
      ],
      "metadata": {}
    },
    {
      "cell_type": "code",
      "execution_count": null,
      "source": [
        "rpn_model, detector_model, total_model = models.get_train_model(input_shape_1=input_shape_1, input_shape_2=input_shape_2, anchor_num=config.anchor_num, pooling_regions=config.pooling_regions, num_rois=config.num_rois, num_classes=len(ska_dataset.class_list)+1, backbone=backbone, use_expander=False)\n",
        "\n",
        "rpn_model.summary()\n",
        "detector_model.summary()\n",
        "total_model.summary()"
      ],
      "outputs": [],
      "metadata": {
        "tags": [
          "outputPrepend"
        ]
      }
    },
    {
      "cell_type": "markdown",
      "source": [
        "### Load weights"
      ],
      "metadata": {}
    },
    {
      "cell_type": "code",
      "execution_count": null,
      "source": [
        "ska_dataset.class_list"
      ],
      "outputs": [],
      "metadata": {}
    },
    {
      "cell_type": "code",
      "execution_count": null,
      "source": [
        "models.load_weigths(rpn_model, detector_model, backbone, resume_train=True, checkpoint=checkpoint)\n",
        "models.compile_models(rpn_model, detector_model, total_model, rpn_losses=[loss.rpn_loss_cls, loss.rpn_loss_regr], detector_losses=[loss.detector_loss_cls, loss.detector_loss_regr], class_list=ska_dataset.class_list)\n",
        "# models.compile_models(rpn_model, detector_model, total_model, rpn_losses=[loss.rpn_loss_cls, loss.rpn_loss_regr], detector_losses=[loss.categorical_focal_loss([.25, .25, 0.05], 2.), loss.detector_loss_regr], class_list=ska_dataset.class_list)\n",
        "# models.compile_models(rpn_model, detector_model, total_model, rpn_losses=[loss.rpn_loss_cls, loss.rpn_loss_regr], detector_losses=[loss.categorical_focal_loss([2, 0.5, 2, 2, 0.05], 2.), loss.detector_loss_regr], class_list=ska_dataset.class_list)\n",
        "\n"
      ],
      "outputs": [],
      "metadata": {}
    },
    {
      "cell_type": "code",
      "execution_count": null,
      "source": [
        "# Specifically checking backbone weights\n",
        "\n",
        "# total_model.weights[24:25][0][0][0][0]"
      ],
      "outputs": [],
      "metadata": {}
    },
    {
      "cell_type": "code",
      "execution_count": null,
      "source": [
        "# Check that all of the pretrained weights have been loaded.\n",
        "import numpy as np\n",
        "for i, j in zip(total_model.weights, rpn_model.weights): \n",
        "    # print(i,j)\n",
        "    assert np.allclose(i,j), 'Weights don\\'t match!'"
      ],
      "outputs": [],
      "metadata": {
        "tags": []
      }
    },
    {
      "cell_type": "markdown",
      "source": [
        "### Train"
      ],
      "metadata": {}
    },
    {
      "cell_type": "markdown",
      "source": [
        "- errore \"Exception: 'a' cannot be empty unless no samples are taken\" quando nel sampling ci sono meno di 4 roi\n",
        "- errore \"None type object is not iterable\" dovuto al max(IoUs) quando calc_iou torna None, None, None, None\n",
        "- patch di debug 1550_16376_16779_100\n",
        "- capire il parametro classifier_regr_std in che modo influenza il training"
      ],
      "metadata": {}
    },
    {
      "cell_type": "markdown",
      "source": [
        "- provare normalizzazione valori immagini di input\n",
        "- provare a far passare più roi anzichè 4"
      ],
      "metadata": {}
    },
    {
      "cell_type": "code",
      "execution_count": null,
      "source": [
        "len(ska_dataset.train_patch_list)"
      ],
      "outputs": [],
      "metadata": {}
    },
    {
      "cell_type": "code",
      "execution_count": 22,
      "source": [
        "from src.train import *\n",
        "\n",
        "val_patch_list = None\n",
        "# train_frcnn(rpn_model, detector_model, total_model, ['2_16396_16729_20'], val_patch_list, ska_dataset.class_list, num_epochs=100, patches_folder_path=config.TRAIN_PATCHES_FOLDER, backbone=backbone, resume_train=True)\n",
        "train_frcnn(rpn_model, detector_model, total_model, ska_dataset.train_patch_list, ska_dataset.class_list, num_epochs=100, patches_folder_path=config.TRAIN_PATCHES_FOLDER, backbone=backbone, resume_train=True)"
      ],
      "outputs": [
        {
          "output_type": "stream",
          "name": "stderr",
          "text": [
            "100%|██████████| 6/6 [00:03<00:00,  1.79it/s]\n",
            "100%|██████████| 3/3 [00:00<00:00, 14027.77it/s]\n"
          ]
        },
        {
          "output_type": "stream",
          "name": "stdout",
          "text": [
            "Starting rpn model training on patch 7805_16516_17219_20\n",
            "Best IoU found in this run: 0.9999999714285723\n",
            "Selected pos samples: 8\n",
            "Selected neg samples: 8\n",
            "Starting detector model training on batch\n",
            " 73/100 [====================>.........] - ETA: 1:01 - rpn_cls: 2.4192 - rpn_regr: 0.0559 - detector_cls: 0.8383 - detector_regr: 0.5133 - average number of objects: 7.9315"
          ]
        },
        {
          "output_type": "stream",
          "name": "stderr",
          "text": [
            "  0%|          | 0/6 [00:00<?, ?it/s]"
          ]
        },
        {
          "output_type": "stream",
          "name": "stdout",
          "text": [
            "(100, 100)\n"
          ]
        },
        {
          "output_type": "stream",
          "name": "stderr",
          "text": [
            "100%|██████████| 6/6 [00:01<00:00,  5.27it/s]\n",
            "100%|██████████| 1/1 [00:00<00:00, 4048.56it/s]\n"
          ]
        },
        {
          "output_type": "stream",
          "name": "stdout",
          "text": [
            "Starting rpn model training on patch 9866_16456_17349_20\n",
            "Best IoU found in this run: 0.7636363497520664\n",
            "Selected pos samples: 8\n",
            "Selected neg samples: 8\n",
            "Starting detector model training on batch\n",
            " 74/100 [=====================>........] - ETA: 59s - rpn_cls: 2.3865 - rpn_regr: 0.0554 - detector_cls: 0.8363 - detector_regr: 0.5126 - average number of objects: 7.9324 "
          ]
        },
        {
          "output_type": "stream",
          "name": "stderr",
          "text": [
            "  0%|          | 0/6 [00:00<?, ?it/s]"
          ]
        },
        {
          "output_type": "stream",
          "name": "stdout",
          "text": [
            "(100, 100)\n"
          ]
        },
        {
          "output_type": "stream",
          "name": "stderr",
          "text": [
            "100%|██████████| 6/6 [00:01<00:00,  5.39it/s]\n",
            "100%|██████████| 1/1 [00:00<00:00, 3905.31it/s]\n"
          ]
        },
        {
          "output_type": "stream",
          "name": "stdout",
          "text": [
            "Starting rpn model training on patch 9440_16966_17319_20\n",
            "Best IoU found in this run: 0.8181818075560805\n",
            "Selected pos samples: 8\n",
            "Selected neg samples: 8\n",
            "Starting detector model training on batch\n",
            " 75/100 [=====================>........] - ETA: 56s - rpn_cls: 2.3732 - rpn_regr: 0.0563 - detector_cls: 0.8344 - detector_regr: 0.5118 - average number of objects: 7.9333"
          ]
        },
        {
          "output_type": "stream",
          "name": "stderr",
          "text": [
            "  0%|          | 0/6 [00:00<?, ?it/s]"
          ]
        },
        {
          "output_type": "stream",
          "name": "stdout",
          "text": [
            "(100, 100)\n"
          ]
        },
        {
          "output_type": "stream",
          "name": "stderr",
          "text": [
            "100%|██████████| 6/6 [00:01<00:00,  5.14it/s]\n",
            "100%|██████████| 1/1 [00:00<00:00, 4017.53it/s]\n"
          ]
        },
        {
          "output_type": "stream",
          "name": "stdout",
          "text": [
            "Starting rpn model training on patch 7496_16606_17199_20\n",
            "Best IoU found in this run: 0.7499999812500006\n",
            "Selected pos samples: 8\n",
            "Selected neg samples: 8\n",
            "Starting detector model training on batch\n",
            " 76/100 [=====================>........] - ETA: 54s - rpn_cls: 2.3419 - rpn_regr: 0.0559 - detector_cls: 0.8326 - detector_regr: 0.5130 - average number of objects: 7.9342"
          ]
        },
        {
          "output_type": "stream",
          "name": "stderr",
          "text": [
            "  0%|          | 0/6 [00:00<?, ?it/s]"
          ]
        },
        {
          "output_type": "stream",
          "name": "stdout",
          "text": [
            "(100, 100)\n"
          ]
        },
        {
          "output_type": "stream",
          "name": "stderr",
          "text": [
            "100%|██████████| 6/6 [00:01<00:00,  4.92it/s]\n",
            "100%|██████████| 1/1 [00:00<00:00, 2816.86it/s]\n"
          ]
        },
        {
          "output_type": "stream",
          "name": "stdout",
          "text": [
            "Starting rpn model training on patch 8606_16576_17269_20\n",
            "Best IoU found in this run: 0.7236842010041553\n",
            "Selected pos samples: 7\n",
            "Selected neg samples: 9\n",
            "Starting detector model training on batch\n",
            " 77/100 [======================>.......] - ETA: 52s - rpn_cls: 2.3115 - rpn_regr: 0.0572 - detector_cls: 0.8308 - detector_regr: 0.5125 - average number of objects: 7.9221"
          ]
        },
        {
          "output_type": "stream",
          "name": "stderr",
          "text": [
            "  0%|          | 0/6 [00:00<?, ?it/s]"
          ]
        },
        {
          "output_type": "stream",
          "name": "stdout",
          "text": [
            "(100, 100)\n"
          ]
        },
        {
          "output_type": "stream",
          "name": "stderr",
          "text": [
            "100%|██████████| 6/6 [00:02<00:00,  2.73it/s]\n",
            "100%|██████████| 2/2 [00:00<00:00, 7898.88it/s]\n"
          ]
        },
        {
          "output_type": "stream",
          "name": "stdout",
          "text": [
            "Starting rpn model training on patch 1328_16936_16809_20\n",
            "Best IoU found in this run: 0.874999972656251\n",
            "Selected pos samples: 8\n",
            "Selected neg samples: 8\n",
            "Starting detector model training on batch\n",
            " 78/100 [======================>.......] - ETA: 50s - rpn_cls: 2.3119 - rpn_regr: 0.0569 - detector_cls: 0.8290 - detector_regr: 0.5131 - average number of objects: 7.9231"
          ]
        },
        {
          "output_type": "stream",
          "name": "stderr",
          "text": [
            "  0%|          | 0/6 [00:00<?, ?it/s]"
          ]
        },
        {
          "output_type": "stream",
          "name": "stdout",
          "text": [
            "(100, 100)\n"
          ]
        },
        {
          "output_type": "stream",
          "name": "stderr",
          "text": [
            "100%|██████████| 6/6 [00:01<00:00,  5.59it/s]\n",
            "100%|██████████| 1/1 [00:00<00:00, 3344.74it/s]\n"
          ]
        },
        {
          "output_type": "stream",
          "name": "stdout",
          "text": [
            "Starting rpn model training on patch 9750_16886_17339_20\n",
            "Best IoU found in this run: 0.833333313492064\n",
            "Selected pos samples: 8\n",
            "Selected neg samples: 8\n",
            "Starting detector model training on batch\n",
            " 79/100 [======================>.......] - ETA: 47s - rpn_cls: 2.2827 - rpn_regr: 0.0562 - detector_cls: 0.8273 - detector_regr: 0.5147 - average number of objects: 7.9241"
          ]
        },
        {
          "output_type": "stream",
          "name": "stderr",
          "text": [
            "  0%|          | 0/6 [00:00<?, ?it/s]"
          ]
        },
        {
          "output_type": "stream",
          "name": "stdout",
          "text": [
            "(100, 100)\n"
          ]
        },
        {
          "output_type": "stream",
          "name": "stderr",
          "text": [
            "100%|██████████| 6/6 [00:01<00:00,  5.67it/s]\n",
            "100%|██████████| 1/1 [00:00<00:00, 2987.40it/s]\n"
          ]
        },
        {
          "output_type": "stream",
          "name": "stdout",
          "text": [
            "Starting rpn model training on patch 1171_16956_16799_20\n",
            "Best IoU found in this run: 0.9999999642857155\n",
            "Selected pos samples: 8\n",
            "Selected neg samples: 8\n",
            "Starting detector model training on batch\n",
            " 80/100 [=======================>......] - ETA: 45s - rpn_cls: 2.2541 - rpn_regr: 0.0558 - detector_cls: 0.8256 - detector_regr: 0.5138 - average number of objects: 7.9250"
          ]
        },
        {
          "output_type": "stream",
          "name": "stderr",
          "text": [
            "  0%|          | 0/6 [00:00<?, ?it/s]"
          ]
        },
        {
          "output_type": "stream",
          "name": "stdout",
          "text": [
            "(100, 100)\n"
          ]
        },
        {
          "output_type": "stream",
          "name": "stderr",
          "text": [
            "100%|██████████| 6/6 [00:01<00:00,  5.08it/s]\n",
            "100%|██████████| 1/1 [00:00<00:00, 5489.93it/s]\n"
          ]
        },
        {
          "output_type": "stream",
          "name": "stdout",
          "text": [
            "Starting rpn model training on patch 9392_16486_17319_20\n",
            "Best IoU found in this run: 0.7499999866071432\n",
            "Selected pos samples: 8\n",
            "Selected neg samples: 8\n",
            "Starting detector model training on batch\n",
            " 81/100 [=======================>......] - ETA: 42s - rpn_cls: 2.2873 - rpn_regr: 0.0551 - detector_cls: 0.8240 - detector_regr: 0.5126 - average number of objects: 7.9259"
          ]
        },
        {
          "output_type": "stream",
          "name": "stderr",
          "text": [
            "  0%|          | 0/6 [00:00<?, ?it/s]"
          ]
        },
        {
          "output_type": "stream",
          "name": "stdout",
          "text": [
            "(100, 100)\n"
          ]
        },
        {
          "output_type": "stream",
          "name": "stderr",
          "text": [
            "100%|██████████| 6/6 [00:01<00:00,  5.12it/s]\n",
            "100%|██████████| 1/1 [00:00<00:00, 4899.89it/s]\n"
          ]
        },
        {
          "output_type": "stream",
          "name": "stdout",
          "text": [
            "Starting rpn model training on patch 8588_16396_17269_20\n",
            "Best IoU found in this run: 0.8571428396501461\n",
            "Selected pos samples: 8\n",
            "Selected neg samples: 8\n",
            "Starting detector model training on batch\n",
            " 82/100 [=======================>......] - ETA: 40s - rpn_cls: 2.2932 - rpn_regr: 0.0549 - detector_cls: 0.8224 - detector_regr: 0.5157 - average number of objects: 7.9268"
          ]
        },
        {
          "output_type": "stream",
          "name": "stderr",
          "text": [
            "  0%|          | 0/6 [00:00<?, ?it/s]"
          ]
        },
        {
          "output_type": "stream",
          "name": "stdout",
          "text": [
            "(100, 100)\n"
          ]
        },
        {
          "output_type": "stream",
          "name": "stderr",
          "text": [
            "100%|██████████| 6/6 [00:01<00:00,  3.94it/s]\n",
            "100%|██████████| 1/1 [00:00<00:00, 3498.17it/s]\n"
          ]
        },
        {
          "output_type": "stream",
          "name": "stdout",
          "text": [
            "Starting rpn model training on patch 3369_16676_16939_20\n",
            "Best IoU found in this run: 0.8181818075560805\n",
            "Selected pos samples: 8\n",
            "Selected neg samples: 8\n",
            "Starting detector model training on batch\n",
            " 83/100 [=======================>......] - ETA: 38s - rpn_cls: 2.2916 - rpn_regr: 0.0545 - detector_cls: 0.8208 - detector_regr: 0.5154 - average number of objects: 7.9277"
          ]
        },
        {
          "output_type": "stream",
          "name": "stderr",
          "text": [
            "  0%|          | 0/6 [00:00<?, ?it/s]"
          ]
        },
        {
          "output_type": "stream",
          "name": "stdout",
          "text": [
            "(100, 100)\n"
          ]
        },
        {
          "output_type": "stream",
          "name": "stderr",
          "text": [
            "100%|██████████| 6/6 [00:00<00:00,  6.20it/s]\n",
            "100%|██████████| 1/1 [00:00<00:00, 3521.67it/s]\n"
          ]
        },
        {
          "output_type": "stream",
          "name": "stdout",
          "text": [
            "Starting rpn model training on patch 9441_16976_17319_20\n",
            "Best IoU found in this run: 0.8571428396501461\n",
            "Selected pos samples: 8\n",
            "Selected neg samples: 8\n",
            "Starting detector model training on batch\n",
            " 84/100 [========================>.....] - ETA: 36s - rpn_cls: 2.3231 - rpn_regr: 0.0545 - detector_cls: 0.8193 - detector_regr: 0.5157 - average number of objects: 7.9286"
          ]
        },
        {
          "output_type": "stream",
          "name": "stderr",
          "text": [
            "  0%|          | 0/6 [00:00<?, ?it/s]"
          ]
        },
        {
          "output_type": "stream",
          "name": "stdout",
          "text": [
            "(100, 100)\n"
          ]
        },
        {
          "output_type": "stream",
          "name": "stderr",
          "text": [
            "100%|██████████| 6/6 [00:00<00:00,  6.18it/s]\n",
            "100%|██████████| 1/1 [00:00<00:00, 4382.76it/s]\n"
          ]
        },
        {
          "output_type": "stream",
          "name": "stdout",
          "text": [
            "Starting rpn model training on patch 3235_16926_16929_20\n",
            "Best IoU found in this run: 0.9090908884297526\n",
            "Selected pos samples: 8\n",
            "Selected neg samples: 8\n",
            "Starting detector model training on batch\n",
            " 85/100 [========================>.....] - ETA: 33s - rpn_cls: 2.3312 - rpn_regr: 0.0562 - detector_cls: 0.8178 - detector_regr: 0.5147 - average number of objects: 7.9294"
          ]
        },
        {
          "output_type": "stream",
          "name": "stderr",
          "text": [
            "  0%|          | 0/6 [00:00<?, ?it/s]"
          ]
        },
        {
          "output_type": "stream",
          "name": "stdout",
          "text": [
            "(100, 100)\n"
          ]
        },
        {
          "output_type": "stream",
          "name": "stderr",
          "text": [
            "100%|██████████| 6/6 [00:02<00:00,  2.14it/s]\n",
            "100%|██████████| 3/3 [00:00<00:00, 25015.73it/s]\n"
          ]
        },
        {
          "output_type": "stream",
          "name": "stdout",
          "text": [
            "Starting rpn model training on patch 331_16506_16749_20\n",
            "Best IoU found in this run: 0.9999999444444475\n",
            "Selected pos samples: 8\n",
            "Selected neg samples: 8\n",
            "Starting detector model training on batch\n",
            " 86/100 [========================>.....] - ETA: 31s - rpn_cls: 2.3416 - rpn_regr: 0.0564 - detector_cls: 0.8164 - detector_regr: 0.5129 - average number of objects: 7.9302"
          ]
        },
        {
          "output_type": "stream",
          "name": "stderr",
          "text": [
            "  0%|          | 0/6 [00:00<?, ?it/s]"
          ]
        },
        {
          "output_type": "stream",
          "name": "stdout",
          "text": [
            "(100, 100)\n"
          ]
        },
        {
          "output_type": "stream",
          "name": "stderr",
          "text": [
            "100%|██████████| 6/6 [00:02<00:00,  2.79it/s]\n",
            "100%|██████████| 2/2 [00:00<00:00, 6177.18it/s]\n"
          ]
        },
        {
          "output_type": "stream",
          "name": "stdout",
          "text": [
            "Starting rpn model training on patch 8154_16826_17239_20\n",
            "Best IoU found in this run: 0.8571428265306134\n",
            "Selected pos samples: 8\n",
            "Selected neg samples: 8\n",
            "Starting detector model training on batch\n",
            " 87/100 [=========================>....] - ETA: 29s - rpn_cls: 2.3147 - rpn_regr: 0.0564 - detector_cls: 0.8150 - detector_regr: 0.5120 - average number of objects: 7.9310"
          ]
        },
        {
          "output_type": "stream",
          "name": "stderr",
          "text": [
            "  0%|          | 0/6 [00:00<?, ?it/s]"
          ]
        },
        {
          "output_type": "stream",
          "name": "stdout",
          "text": [
            "(100, 100)\n"
          ]
        },
        {
          "output_type": "stream",
          "name": "stderr",
          "text": [
            "100%|██████████| 6/6 [00:01<00:00,  5.62it/s]\n",
            "100%|██████████| 1/1 [00:00<00:00, 3246.37it/s]\n"
          ]
        },
        {
          "output_type": "stream",
          "name": "stdout",
          "text": [
            "Starting rpn model training on patch 4303_16476_16999_20\n",
            "Best IoU found in this run: 0.8571428396501461\n",
            "Selected pos samples: 8\n",
            "Selected neg samples: 8\n",
            "Starting detector model training on batch\n",
            " 88/100 [=========================>....] - ETA: 27s - rpn_cls: 2.3226 - rpn_regr: 0.0559 - detector_cls: 0.8136 - detector_regr: 0.5128 - average number of objects: 7.9318"
          ]
        },
        {
          "output_type": "stream",
          "name": "stderr",
          "text": [
            "  0%|          | 0/6 [00:00<?, ?it/s]"
          ]
        },
        {
          "output_type": "stream",
          "name": "stdout",
          "text": [
            "(100, 100)\n"
          ]
        },
        {
          "output_type": "stream",
          "name": "stderr",
          "text": [
            "100%|██████████| 6/6 [00:01<00:00,  5.12it/s]\n",
            "100%|██████████| 1/1 [00:00<00:00, 3379.78it/s]\n"
          ]
        },
        {
          "output_type": "stream",
          "name": "stdout",
          "text": [
            "Starting rpn model training on patch 1330_16956_16809_20\n",
            "Best IoU found in this run: 0.9999999642857155\n",
            "Selected pos samples: 8\n",
            "Selected neg samples: 8\n",
            "Starting detector model training on batch\n",
            " 89/100 [=========================>....] - ETA: 24s - rpn_cls: 2.3519 - rpn_regr: 0.0553 - detector_cls: 0.8122 - detector_regr: 0.5122 - average number of objects: 7.9326"
          ]
        },
        {
          "output_type": "stream",
          "name": "stderr",
          "text": [
            "  0%|          | 0/6 [00:00<?, ?it/s]"
          ]
        },
        {
          "output_type": "stream",
          "name": "stdout",
          "text": [
            "(100, 100)\n"
          ]
        },
        {
          "output_type": "stream",
          "name": "stderr",
          "text": [
            "100%|██████████| 6/6 [00:01<00:00,  4.81it/s]\n",
            "100%|██████████| 1/1 [00:00<00:00, 2866.92it/s]\n"
          ]
        },
        {
          "output_type": "stream",
          "name": "stdout",
          "text": [
            "Starting rpn model training on patch 3060_16766_16919_20\n",
            "Best IoU found in this run: 0.9999999795918372\n",
            "Selected pos samples: 8\n",
            "Selected neg samples: 8\n",
            "Starting detector model training on batch\n",
            " 90/100 [==========================>...] - ETA: 22s - rpn_cls: 2.3591 - rpn_regr: 0.0549 - detector_cls: 0.8109 - detector_regr: 0.5132 - average number of objects: 7.9333"
          ]
        },
        {
          "output_type": "stream",
          "name": "stderr",
          "text": [
            "  0%|          | 0/6 [00:00<?, ?it/s]"
          ]
        },
        {
          "output_type": "stream",
          "name": "stdout",
          "text": [
            "(100, 100)\n"
          ]
        },
        {
          "output_type": "stream",
          "name": "stderr",
          "text": [
            "100%|██████████| 6/6 [00:02<00:00,  2.56it/s]\n",
            "100%|██████████| 2/2 [00:00<00:00, 9436.00it/s]\n"
          ]
        },
        {
          "output_type": "stream",
          "name": "stdout",
          "text": [
            "Starting rpn model training on patch 2548_16416_16889_20\n",
            "Best IoU found in this run: 0.8749999781250006\n",
            "Selected pos samples: 8\n",
            "Selected neg samples: 8\n",
            "Starting detector model training on batch\n",
            " 91/100 [==========================>...] - ETA: 20s - rpn_cls: 2.3854 - rpn_regr: 0.0546 - detector_cls: 0.8096 - detector_regr: 0.5144 - average number of objects: 7.9341"
          ]
        },
        {
          "output_type": "stream",
          "name": "stderr",
          "text": [
            "  0%|          | 0/6 [00:00<?, ?it/s]"
          ]
        },
        {
          "output_type": "stream",
          "name": "stdout",
          "text": [
            "(100, 100)\n"
          ]
        },
        {
          "output_type": "stream",
          "name": "stderr",
          "text": [
            "100%|██████████| 6/6 [00:02<00:00,  2.78it/s]\n",
            "100%|██████████| 2/2 [00:00<00:00, 5588.68it/s]\n"
          ]
        },
        {
          "output_type": "stream",
          "name": "stdout",
          "text": [
            "Starting rpn model training on patch 204_16826_16739_20\n",
            "Best IoU found in this run: 0.9999999818181822\n",
            "Selected pos samples: 8\n",
            "Selected neg samples: 8\n",
            "Starting detector model training on batch\n",
            " 92/100 [==========================>...] - ETA: 18s - rpn_cls: 2.3595 - rpn_regr: 0.0546 - detector_cls: 0.8083 - detector_regr: 0.5142 - average number of objects: 7.9348"
          ]
        },
        {
          "output_type": "stream",
          "name": "stderr",
          "text": [
            "  0%|          | 0/6 [00:00<?, ?it/s]"
          ]
        },
        {
          "output_type": "stream",
          "name": "stdout",
          "text": [
            "(100, 100)\n"
          ]
        },
        {
          "output_type": "stream",
          "name": "stderr",
          "text": [
            "100%|██████████| 6/6 [00:01<00:00,  5.30it/s]\n",
            "100%|██████████| 1/1 [00:00<00:00, 3387.97it/s]\n"
          ]
        },
        {
          "output_type": "stream",
          "name": "stdout",
          "text": [
            "Starting rpn model training on patch 41_16786_16729_20\n",
            "Best IoU found in this run: 0.7499999866071432\n",
            "Selected pos samples: 8\n",
            "Selected neg samples: 8\n",
            "Starting detector model training on batch\n",
            " 93/100 [==========================>...] - ETA: 15s - rpn_cls: 2.3522 - rpn_regr: 0.0542 - detector_cls: 0.8071 - detector_regr: 0.5126 - average number of objects: 7.9355"
          ]
        },
        {
          "output_type": "stream",
          "name": "stderr",
          "text": [
            "  0%|          | 0/6 [00:00<?, ?it/s]"
          ]
        },
        {
          "output_type": "stream",
          "name": "stdout",
          "text": [
            "(100, 100)\n"
          ]
        },
        {
          "output_type": "stream",
          "name": "stderr",
          "text": [
            "100%|██████████| 6/6 [00:00<00:00,  6.00it/s]\n",
            "100%|██████████| 1/1 [00:00<00:00, 3862.16it/s]\n"
          ]
        },
        {
          "output_type": "stream",
          "name": "stdout",
          "text": [
            "Starting rpn model training on patch 7352_16756_17189_20\n",
            "Best IoU found in this run: 0.8571428367346944\n",
            "Selected pos samples: 8\n",
            "Selected neg samples: 8\n",
            "Starting detector model training on batch\n",
            " 94/100 [===========================>..] - ETA: 13s - rpn_cls: 2.3272 - rpn_regr: 0.0538 - detector_cls: 0.8059 - detector_regr: 0.5116 - average number of objects: 7.9362"
          ]
        },
        {
          "output_type": "stream",
          "name": "stderr",
          "text": [
            "  0%|          | 0/6 [00:00<?, ?it/s]"
          ]
        },
        {
          "output_type": "stream",
          "name": "stdout",
          "text": [
            "(100, 100)\n"
          ]
        },
        {
          "output_type": "stream",
          "name": "stderr",
          "text": [
            "100%|██████████| 6/6 [00:01<00:00,  5.68it/s]\n",
            "100%|██████████| 1/1 [00:00<00:00, 11491.24it/s]\n"
          ]
        },
        {
          "output_type": "stream",
          "name": "stdout",
          "text": [
            "Starting rpn model training on patch 2718_16526_16899_20\n",
            "Best IoU found in this run: 0.7499999866071432\n",
            "Selected pos samples: 8\n",
            "Selected neg samples: 8\n",
            "Starting detector model training on batch\n",
            " 95/100 [===========================>..] - ETA: 11s - rpn_cls: 2.3383 - rpn_regr: 0.0535 - detector_cls: 0.8047 - detector_regr: 0.5115 - average number of objects: 7.9368"
          ]
        },
        {
          "output_type": "stream",
          "name": "stderr",
          "text": [
            "  0%|          | 0/6 [00:00<?, ?it/s]"
          ]
        },
        {
          "output_type": "stream",
          "name": "stdout",
          "text": [
            "(100, 100)\n"
          ]
        },
        {
          "output_type": "stream",
          "name": "stderr",
          "text": [
            "100%|██████████| 6/6 [00:02<00:00,  2.93it/s]\n",
            "100%|██████████| 2/2 [00:00<00:00, 27776.85it/s]\n"
          ]
        },
        {
          "output_type": "stream",
          "name": "stdout",
          "text": [
            "Starting rpn model training on patch 490_16506_16759_20\n",
            "Best IoU found in this run: 0.9090908972845338\n",
            "Selected pos samples: 8\n",
            "Selected neg samples: 8\n",
            "Starting detector model training on batch\n",
            " 96/100 [===========================>..] - ETA: 9s - rpn_cls: 2.3491 - rpn_regr: 0.0537 - detector_cls: 0.8035 - detector_regr: 0.5109 - average number of objects: 7.9375 "
          ]
        },
        {
          "output_type": "stream",
          "name": "stderr",
          "text": [
            "  0%|          | 0/6 [00:00<?, ?it/s]"
          ]
        },
        {
          "output_type": "stream",
          "name": "stdout",
          "text": [
            "(100, 100)\n"
          ]
        },
        {
          "output_type": "stream",
          "name": "stderr",
          "text": [
            "100%|██████████| 6/6 [00:01<00:00,  5.43it/s]\n",
            "100%|██████████| 1/1 [00:00<00:00, 3983.19it/s]\n"
          ]
        },
        {
          "output_type": "stream",
          "name": "stdout",
          "text": [
            "Starting rpn model training on patch 2747_16816_16899_20\n",
            "Best IoU found in this run: 0.9090908972845338\n",
            "Selected pos samples: 8\n",
            "Selected neg samples: 8\n",
            "Starting detector model training on batch\n",
            " 97/100 [============================>.] - ETA: 6s - rpn_cls: 2.3472 - rpn_regr: 0.0553 - detector_cls: 0.8024 - detector_regr: 0.5107 - average number of objects: 7.9381"
          ]
        },
        {
          "output_type": "stream",
          "name": "stderr",
          "text": [
            "  0%|          | 0/6 [00:00<?, ?it/s]"
          ]
        },
        {
          "output_type": "stream",
          "name": "stdout",
          "text": [
            "(100, 100)\n"
          ]
        },
        {
          "output_type": "stream",
          "name": "stderr",
          "text": [
            "100%|██████████| 6/6 [00:00<00:00,  6.17it/s]\n",
            "100%|██████████| 1/1 [00:00<00:00, 2173.21it/s]\n"
          ]
        },
        {
          "output_type": "stream",
          "name": "stdout",
          "text": [
            "Starting rpn model training on patch 3396_16946_16939_20\n",
            "Best IoU found in this run: 0.9999999761904769\n",
            "Selected pos samples: 8\n",
            "Selected neg samples: 8\n",
            "Starting detector model training on batch\n",
            " 98/100 [============================>.] - ETA: 4s - rpn_cls: 2.3540 - rpn_regr: 0.0549 - detector_cls: 0.8013 - detector_regr: 0.5121 - average number of objects: 7.9388"
          ]
        },
        {
          "output_type": "stream",
          "name": "stderr",
          "text": [
            "  0%|          | 0/6 [00:00<?, ?it/s]"
          ]
        },
        {
          "output_type": "stream",
          "name": "stdout",
          "text": [
            "(100, 100)\n"
          ]
        },
        {
          "output_type": "stream",
          "name": "stderr",
          "text": [
            "100%|██████████| 6/6 [00:02<00:00,  2.99it/s]\n",
            "100%|██████████| 2/2 [00:00<00:00, 5302.53it/s]\n"
          ]
        },
        {
          "output_type": "stream",
          "name": "stdout",
          "text": [
            "Starting rpn model training on patch 8783_16756_17279_20\n",
            "Best IoU found in this run: 0.8333332870370396\n",
            "Selected pos samples: 8\n",
            "Selected neg samples: 8\n",
            "Starting detector model training on batch\n",
            " 99/100 [============================>.] - ETA: 2s - rpn_cls: 2.3302 - rpn_regr: 0.0562 - detector_cls: 0.8002 - detector_regr: 0.5116 - average number of objects: 7.9394"
          ]
        },
        {
          "output_type": "stream",
          "name": "stderr",
          "text": [
            "  0%|          | 0/6 [00:00<?, ?it/s]"
          ]
        },
        {
          "output_type": "stream",
          "name": "stdout",
          "text": [
            "(100, 100)\n"
          ]
        },
        {
          "output_type": "stream",
          "name": "stderr",
          "text": [
            "100%|██████████| 6/6 [00:04<00:00,  1.42it/s]\n",
            "100%|██████████| 3/3 [00:00<00:00, 11904.36it/s]\n"
          ]
        },
        {
          "output_type": "stream",
          "name": "stdout",
          "text": [
            "Starting rpn model training on patch 6844_16446_17159_20\n",
            "Best IoU found in this run: 0.999999958333335\n",
            "Selected pos samples: 8\n",
            "Selected neg samples: 8\n",
            "Starting detector model training on batch\n",
            "100/100 [==============================] - 228s 2s/step - rpn_cls: 2.3472 - rpn_regr: 0.0563 - detector_cls: 0.7991 - detector_regr: 0.5105 - average number of objects: 7.9400\n"
          ]
        },
        {
          "output_type": "stream",
          "name": "stderr",
          "text": [
            "  0%|          | 0/6 [00:00<?, ?it/s]"
          ]
        },
        {
          "output_type": "stream",
          "name": "stdout",
          "text": [
            "Mean number of bounding boxes from RPN overlapping ground truth boxes: 19.46\n",
            "Classifier accuracy for bounding boxes from RPN: 0.4975\n",
            "Loss RPN classifier: 2.3472304082730147\n",
            "Loss RPN regression: 0.056261299806064924\n",
            "Loss Detector classifier: 0.7991188776493072\n",
            "Loss Detector regression: 0.510454832315445\n",
            "Total loss: 3.713065418043832, wrt best loss: 1.6718448127514551 \n",
            "Elapsed time: 228.32685375213623\n",
            "Epoch 16/100\n",
            "Average number of overlapping bounding boxes from RPN = 19.46 for 100 previous iterations\n",
            "(100, 100)\n"
          ]
        },
        {
          "output_type": "stream",
          "name": "stderr",
          "text": [
            "100%|██████████| 6/6 [00:01<00:00,  4.86it/s]\n",
            "100%|██████████| 1/1 [00:00<00:00, 3521.67it/s]\n"
          ]
        },
        {
          "output_type": "stream",
          "name": "stdout",
          "text": [
            "Starting rpn model training on patch 5903_16576_17099_20\n",
            "Best IoU found in this run: 0.8571428396501461\n",
            "Selected pos samples: 8\n",
            "Selected neg samples: 8\n",
            "Starting detector model training on batch\n",
            "  1/100 [..............................] - ETA: 3:39 - rpn_cls: 2.6035e-05 - rpn_regr: 0.0383 - detector_cls: 0.6932 - detector_regr: 0.5653 - average number of objects: 8.0000"
          ]
        },
        {
          "output_type": "stream",
          "name": "stderr",
          "text": [
            "  0%|          | 0/6 [00:00<?, ?it/s]"
          ]
        },
        {
          "output_type": "stream",
          "name": "stdout",
          "text": [
            "(100, 100)\n"
          ]
        },
        {
          "output_type": "stream",
          "name": "stderr",
          "text": [
            " 17%|█▋        | 1/6 [00:00<00:03,  1.30it/s]"
          ]
        }
      ],
      "metadata": {}
    },
    {
      "cell_type": "markdown",
      "source": [
        "# Validation"
      ],
      "metadata": {}
    },
    {
      "cell_type": "code",
      "execution_count": null,
      "source": [
        "rpn_model_eval, detector_model_eval, total_model_eval = models.get_eval_model(input_shape_1=input_shape_1, input_shape_2=input_shape_2, input_shape_fmap=None, anchor_num=config.anchor_num, pooling_regions=config.pooling_regions, num_rois=config.num_rois, num_classes=len(ska_dataset.class_list)+1, backbone=backbone, use_expander=False)\n",
        "\n",
        "rpn_model_eval.summary()\n",
        "detector_model_eval.summary()\n",
        "total_model_eval.summary()"
      ],
      "outputs": [],
      "metadata": {
        "tags": [
          "outputPrepend"
        ]
      }
    },
    {
      "cell_type": "code",
      "execution_count": null,
      "source": [
        "# Models used for mAP eval\n",
        "# cp = '95_frcnn_baseline_44.h5'\n",
        "cp = '97_frcnn_baseline_16.h5'\n",
        "models.load_weigths(rpn_model_eval, detector_model_eval, backbone, checkpoint=cp)\n",
        "models.compile_models(rpn_model_eval, detector_model_eval, total_model_eval, rpn_losses=[loss.rpn_loss_cls, loss.rpn_loss_regr], detector_losses=[loss.detector_loss_cls, loss.detector_loss_regr], class_list=ska_dataset.class_list)"
      ],
      "outputs": [],
      "metadata": {}
    },
    {
      "cell_type": "code",
      "execution_count": null,
      "source": [
        "patch_id = ['8774_16666_17279_20']\n",
        "# patch_id = ska_dataset.train_patch_list\n",
        "# print(patch_id)\n",
        "# gt = pd.read_pickle(f'{config.TRAIN_PATCHES_FOLDER}/{patch_id[0]}/{patch_id[0]}.pkl')\n",
        "# display(gt['class_label'])\n",
        "\n",
        "preds, mAP, prec, recall = evaluate_model(rpn_model_eval, detector_model_eval, backbone, patch_id, ska_dataset.class_list, metric_threshold=.5, acceptance_treshold=.5)"
      ],
      "outputs": [],
      "metadata": {
        "tags": []
      }
    },
    {
      "cell_type": "code",
      "execution_count": null,
      "source": [
        "preds"
      ],
      "outputs": [],
      "metadata": {}
    },
    {
      "cell_type": "code",
      "execution_count": null,
      "source": [
        "print(config.patch_dim , float(config.resizeFinalDim))"
      ],
      "outputs": [],
      "metadata": {}
    },
    {
      "cell_type": "code",
      "execution_count": null,
      "source": [
        "print_img(config.TRAIN_PATCHES_FOLDER, '8774_16666_17279_20')"
      ],
      "outputs": [],
      "metadata": {}
    },
    {
      "cell_type": "code",
      "execution_count": null,
      "source": [
        "anch = pd.read_pickle(f'{config.EVAL_RESULTS}/2_16396_16729_20/2_16396_16729_20.pkl')\n",
        "display(anch)"
      ],
      "outputs": [],
      "metadata": {}
    },
    {
      "cell_type": "code",
      "execution_count": null,
      "source": [
        "anch['width'] = anch['x2s'] - anch['x1s']\n",
        "anch['heght'] = anch['y2s'] - anch['y1s']"
      ],
      "outputs": [],
      "metadata": {}
    },
    {
      "cell_type": "code",
      "execution_count": null,
      "source": [
        "anch.describe() "
      ],
      "outputs": [],
      "metadata": {}
    },
    {
      "cell_type": "code",
      "execution_count": null,
      "source": [
        "print_img(config.TRAIN_PATCHES_FOLDER, '8774_16666_17279_20', config.EVAL_RESULTS)"
      ],
      "outputs": [],
      "metadata": {}
    },
    {
      "cell_type": "markdown",
      "source": [],
      "metadata": {}
    },
    {
      "cell_type": "markdown",
      "source": [
        "TODO - 20210508:\n",
        "- [X] troncamento rumore a 1e-6 tramite half gaussian\n",
        "\n",
        "TODO - 20210605:\n",
        "- [X] modificare RPNNet in modo che dia in output anche la backbone - Lorenzo\n",
        "- [X] scrivere bene training loop: salvare le loss in un df su disco + salvare pesi modello ad ogni giro (Lorenzo - finire di debuggare)\n",
        "\n",
        "TODO - 20210620:\n",
        "- [x] implementare mAP in una funzione che prende come parametro un modello o i suoi pesi\n",
        "- [x] implementare resNet50\n",
        "- [x] implementare predicted rois - Lorenzo\n",
        "- [X] implementare plot loss training - Lorenzo\n",
        "- [X] finire classe datasetv2 - Alice\n",
        "- [X] check se su colab le performance sono migliori - Lorenzo\n",
        "\n",
        "TODO - 20210627\n",
        "- [X] split dataset su combinazioni classi - Alice\n",
        "- [x] provare campionamento random patch ed osservare le due distribuzioni - Alice\n",
        "\n",
        "TODO - 20210703\n",
        "- [x] sistemare salvataggio loss training loop - Lorenzo\n",
        "- [x] Riscalare immagini tra 0-255 - Alice\n",
        "- [x] capire se passare tre immagini diverse come input\n",
        "- [x] usare media vgg16 per zero-centering - Alice\n",
        "\n",
        "TODO - 20210705\n",
        "- [x] sistemare nomi funzioni dataset per trasformazione rgb\n",
        "\n",
        "TODO - 20210711\n",
        "- [x] rifattorizzare classe dataset spostando nel costruttore i metodi che calcolano i suoi attributi - Lorenzo\n",
        "- [x] chek valori pixel in input per resnet\n",
        "- [x] fare funzione per plottare le predictions\n",
        "- [ ] trainare tutto su colab\n",
        "\n",
        "TODO - 20210714\n",
        "- [x] ragionare su come scalare le immagini fra 0 e 1, attualmente hanno tanti valori schiacciati a 0 e il massimo su tutto il train a a 0.4\n",
        "\n",
        "TODO - 20210717\n",
        "- [ ] Ablation study: provare a rimuovere stage4 nella resnet - se c'è tempo\n",
        "- [x] Provare con nostra pixel_mean e con vgg16 pixel_mean -> per il momento abbiamo scartato la prima opzione\n",
        "- [x] Fare qualche analisi di distribuzione delle classi/dim box del dataset - Alice\n",
        "- [x] Aggiungere normalizzazione dopo zero centering per resNet50, sulla base del range globale dell'immagine di training\n",
        "- [x] Provare pulizia dataset originale sulla base del rumore/flusso - Alice\n",
        "- [ ] Cambiare nomi di tutto - alla fine\n",
        "- [x] implementare zero-centering su volare medio RGB delle nostre patch\n",
        "- [x] Funzione che trova l'ultimo checkpoint in colab prima del load_weights - Lorenzo\n",
        "\n",
        "TODO - 20210801\n",
        "- [x] Debuggare training baseline 8 e 16 - L\n",
        "- [x] Finire prove pulizia dataseet noise variando k - A\n",
        "\n",
        "TODO - 20210904\n",
        "- [ ] Provare NMS per rimuovere oggetti crowded\n",
        "- [ ] In evaluate model eliminare le box con una delle due dim a 0 e quelle che escono dalla patch"
      ],
      "metadata": {}
    },
    {
      "cell_type": "markdown",
      "source": [
        "1.  Summary\n",
        "    - riassunto progetto\n",
        "2.  Background\n",
        "    - SoTA + teoria di base\n",
        "3.  System Description\n",
        "    - descrizione dei nostri modelli e dei loro componenti (moduli)\n",
        "4.  Experimental setup and results\n",
        "    - dataset pre processing\n",
        "    - training environment\n",
        "    - metrics\n",
        "    - results\n",
        "5.  Results and error analysis\n",
        "6.  Discussion"
      ],
      "metadata": {}
    },
    {
      "cell_type": "markdown",
      "source": [
        "# Plotting"
      ],
      "metadata": {}
    },
    {
      "cell_type": "code",
      "execution_count": null,
      "source": [
        "loss_history = np.load(f\"./model/{backbone}/loss_history.npy\")\n",
        "print(loss_history.shape)"
      ],
      "outputs": [],
      "metadata": {}
    },
    {
      "cell_type": "code",
      "execution_count": null,
      "source": [
        "loss_history"
      ],
      "outputs": [],
      "metadata": {}
    },
    {
      "cell_type": "code",
      "execution_count": null,
      "source": [
        "plot_loss(loss_history[1:])"
      ],
      "outputs": [],
      "metadata": {}
    },
    {
      "cell_type": "code",
      "execution_count": null,
      "source": [
        "loss_history[:,1].shape"
      ],
      "outputs": [],
      "metadata": {}
    },
    {
      "cell_type": "code",
      "execution_count": null,
      "source": [
        "np.convolve(loss_history[1], np.ones(10), 'valid') / 10"
      ],
      "outputs": [],
      "metadata": {}
    },
    {
      "cell_type": "code",
      "execution_count": null,
      "source": [
        "def moving_average(x, w):\n",
        "    return np.convolve(x, np.ones(w), 'valid') / w\n",
        "\n",
        "lsma_0 = moving_average(loss_history[100:,2], 200)\n"
      ],
      "outputs": [],
      "metadata": {}
    },
    {
      "cell_type": "code",
      "execution_count": null,
      "source": [
        "plt.figure(figsize=(15,5))\n",
        "plt.subplot(1,2,1)\n",
        "plt.plot(np.arange(0, len(lsma_0)), lsma_0, 'r')\n",
        "plt.title('rpn cls')"
      ],
      "outputs": [],
      "metadata": {}
    },
    {
      "cell_type": "markdown",
      "source": [],
      "metadata": {}
    },
    {
      "cell_type": "markdown",
      "source": [
        "## Modelli da trainare:\n",
        "epoch lenght = 200\n",
        "- baseline_16: patch 50 -> 100, [8,16,32,64]-[1:1], 16roi, limit=4000, 10k epoche, focal_loss, norm: media, no bilanciamento dataset, rgbNorm=True - A\n",
        "- baseline_16: patch 50 -> 100, [8,16,32,64]-[1:1], 16roi, limit=4000, 10k epoche, NO focal_loss, norm: media, no bilanciamento dataset, rgbNorm=True - A\n",
        "\n",
        "- baseline_16: patch 20->100, [4,8,16,24,32,64]-[1:1,1:2,2:1], 16roi, limit=4000, 10k epoche, no focal_loss, norm: media, no bilanciamento dataset, rgbNorm=True - L\n",
        "- baseline_16: patch 20->100, [4,8,16,24,32,64]-[1:1,1:2,2:1], 16roi, limit=4000, 10k epoche, focal_loss, norm: media, no bilanciamento dataset, rgbNorm=True- L\n",
        "\n",
        "\n",
        "- baseline_44: patch 20->100, [4,8,16,24,32,64]-[1:1,1:2,2:1], 16roi, limit=4000, 10k epoche, no focal_loss, norm: media, no bilanciamento dataset, rgbNorm=True - L\n",
        "- baseline_44: patch 20->100, [4,8,16,24,32,64]-[1:1,1:2,2:1], 16roi, limit=4000, 10k epoche, focal_loss, norm: media, no bilanciamento dataset, rgbNorm=True - L\n",
        "\n",
        "- vgg16: 100 -> 600, [32,64,128,256,512]-[1:1,1:2,2:1], 16roi, limit=4000, 10k epoche, no focal_loss, norm: media, no bilanciamento dataset, rgbNorm=True"
      ],
      "metadata": {}
    }
  ]
}