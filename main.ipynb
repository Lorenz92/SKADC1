{
  "nbformat": 4,
  "nbformat_minor": 2,
  "metadata": {
    "language_info": {
      "codemirror_mode": {
        "name": "ipython",
        "version": 3
      },
      "file_extension": ".py",
      "mimetype": "text/x-python",
      "name": "python",
      "nbconvert_exporter": "python",
      "pygments_lexer": "ipython3",
      "version": "3.8.2"
    },
    "orig_nbformat": 2,
    "kernelspec": {
      "name": "python3",
      "display_name": "Python 3.8.2 64-bit"
    },
    "colab": {
      "name": "main.ipynb",
      "provenance": []
    },
    "metadata": {
      "interpreter": {
        "hash": "31f2aee4e71d21fbe5cf8b01ff0e069b9275f58929596ceb00d14d90e3e16cd6"
      }
    },
    "interpreter": {
      "hash": "31f2aee4e71d21fbe5cf8b01ff0e069b9275f58929596ceb00d14d90e3e16cd6"
    }
  },
  "cells": [
    {
      "cell_type": "code",
      "execution_count": 1,
      "source": [
        "# !git clone 'https://github.com/Lorenz92/SKADC1.git'\n",
        "# % cd SKADC1\n",
        "# !echo $PWD"
      ],
      "outputs": [],
      "metadata": {}
    },
    {
      "cell_type": "code",
      "execution_count": 2,
      "source": [
        "import pandas as pd\n",
        "import numpy as np\n",
        "\n",
        "import src.dataset as dataset\n",
        "import src.config as config \n",
        "from src.utils import *\n",
        "import src.models as models\n",
        "import src.losses as loss\n",
        "\n",
        "path = config.TRAIN_PATCHES_FOLDER\n",
        "%load_ext autoreload\n",
        "%autoreload 2\n",
        "\n",
        "np.random.seed(config.RANDOM_SEED)"
      ],
      "outputs": [],
      "metadata": {
        "id": "7WwOlsifF-5G",
        "outputId": "303002ab-c8c4-4807-caeb-ee1c590d4326",
        "colab": {
          "base_uri": "https://localhost:8080/"
        }
      }
    },
    {
      "cell_type": "code",
      "execution_count": 3,
      "source": [
        "if 'google.colab' in str(get_ipython()):\n",
        "  use_colab = True\n",
        "  print('Running on CoLab')\n",
        "else:\n",
        "  use_colab = False\n",
        "  print('Not running on CoLab')"
      ],
      "outputs": [
        {
          "output_type": "stream",
          "name": "stdout",
          "text": [
            "Not running on CoLab\n"
          ]
        }
      ],
      "metadata": {}
    },
    {
      "cell_type": "code",
      "execution_count": 4,
      "source": [
        "if use_colab:\n",
        "    # Read file from Colab Notebook\n",
        "    from google.colab import drive\n",
        "    drive.mount('/content/drive')\n",
        "    config.MODEL_WEIGHTS = \"/content/drive/My Drive/Colab Notebooks/SKADC1\"\n",
        "    config.IMAGE_PATH = \"/content/drive/My Drive/Colab Notebooks/SKADC1/asset/560Mhz_1000h.fits\""
      ],
      "outputs": [],
      "metadata": {}
    },
    {
      "cell_type": "code",
      "execution_count": 5,
      "source": [
        "# Dataset parsing and loading\n",
        "# use \"subset\" in config file to load a small portion of data for development/debugging purposes\n",
        "ska_dataset = dataset.SKADataset(k=3, print_info=False, use_pb=False)"
      ],
      "outputs": [
        {
          "output_type": "stream",
          "name": "stdout",
          "text": [
            "Dataset shape: (19222, 15)\n"
          ]
        },
        {
          "output_type": "display_data",
          "data": {
            "text/plain": [
              "         ID  RA (core)  DEC (core)  RA (centroid)  DEC (centroid)      FLUX  \\\n",
              "0  24121695  -0.642227  -29.775242      -0.642316      -29.775211  0.000035   \n",
              "1  20167150  -0.390473  -29.867493      -0.390667      -29.868851  0.029555   \n",
              "2  20045120  -0.021411  -29.643486      -0.021359      -29.643561  0.000653   \n",
              "3  33938384  -0.316375  -29.697647      -0.316375      -29.697647  0.000017   \n",
              "4   7527248  -0.336528  -29.627335      -0.336527      -29.627338  0.000054   \n",
              "\n",
              "   Core frac     BMAJ    BMIN       PA  SIZE  CLASS  SELECTION          x  \\\n",
              "0   0.000000    5.600   5.551  328.554     1      1          1  19704.519   \n",
              "1   0.016924  107.110  43.263  191.258     1      1          1  18401.338   \n",
              "2   0.012185    5.037   3.525  276.587     1      1          1  16493.600   \n",
              "3   0.000000    0.847   0.266  346.641     2      1          1  18020.319   \n",
              "4   0.044763    3.343   1.515  279.006     1      1          1  18125.824   \n",
              "\n",
              "           y  \n",
              "0  17712.942  \n",
              "1  17160.919  \n",
              "2  18506.577  \n",
              "3  18182.095  \n",
              "4  18600.680  "
            ],
            "text/html": [
              "<div>\n",
              "<style scoped>\n",
              "    .dataframe tbody tr th:only-of-type {\n",
              "        vertical-align: middle;\n",
              "    }\n",
              "\n",
              "    .dataframe tbody tr th {\n",
              "        vertical-align: top;\n",
              "    }\n",
              "\n",
              "    .dataframe thead th {\n",
              "        text-align: right;\n",
              "    }\n",
              "</style>\n",
              "<table border=\"1\" class=\"dataframe\">\n",
              "  <thead>\n",
              "    <tr style=\"text-align: right;\">\n",
              "      <th></th>\n",
              "      <th>ID</th>\n",
              "      <th>RA (core)</th>\n",
              "      <th>DEC (core)</th>\n",
              "      <th>RA (centroid)</th>\n",
              "      <th>DEC (centroid)</th>\n",
              "      <th>FLUX</th>\n",
              "      <th>Core frac</th>\n",
              "      <th>BMAJ</th>\n",
              "      <th>BMIN</th>\n",
              "      <th>PA</th>\n",
              "      <th>SIZE</th>\n",
              "      <th>CLASS</th>\n",
              "      <th>SELECTION</th>\n",
              "      <th>x</th>\n",
              "      <th>y</th>\n",
              "    </tr>\n",
              "  </thead>\n",
              "  <tbody>\n",
              "    <tr>\n",
              "      <th>0</th>\n",
              "      <td>24121695</td>\n",
              "      <td>-0.642227</td>\n",
              "      <td>-29.775242</td>\n",
              "      <td>-0.642316</td>\n",
              "      <td>-29.775211</td>\n",
              "      <td>0.000035</td>\n",
              "      <td>0.000000</td>\n",
              "      <td>5.600</td>\n",
              "      <td>5.551</td>\n",
              "      <td>328.554</td>\n",
              "      <td>1</td>\n",
              "      <td>1</td>\n",
              "      <td>1</td>\n",
              "      <td>19704.519</td>\n",
              "      <td>17712.942</td>\n",
              "    </tr>\n",
              "    <tr>\n",
              "      <th>1</th>\n",
              "      <td>20167150</td>\n",
              "      <td>-0.390473</td>\n",
              "      <td>-29.867493</td>\n",
              "      <td>-0.390667</td>\n",
              "      <td>-29.868851</td>\n",
              "      <td>0.029555</td>\n",
              "      <td>0.016924</td>\n",
              "      <td>107.110</td>\n",
              "      <td>43.263</td>\n",
              "      <td>191.258</td>\n",
              "      <td>1</td>\n",
              "      <td>1</td>\n",
              "      <td>1</td>\n",
              "      <td>18401.338</td>\n",
              "      <td>17160.919</td>\n",
              "    </tr>\n",
              "    <tr>\n",
              "      <th>2</th>\n",
              "      <td>20045120</td>\n",
              "      <td>-0.021411</td>\n",
              "      <td>-29.643486</td>\n",
              "      <td>-0.021359</td>\n",
              "      <td>-29.643561</td>\n",
              "      <td>0.000653</td>\n",
              "      <td>0.012185</td>\n",
              "      <td>5.037</td>\n",
              "      <td>3.525</td>\n",
              "      <td>276.587</td>\n",
              "      <td>1</td>\n",
              "      <td>1</td>\n",
              "      <td>1</td>\n",
              "      <td>16493.600</td>\n",
              "      <td>18506.577</td>\n",
              "    </tr>\n",
              "    <tr>\n",
              "      <th>3</th>\n",
              "      <td>33938384</td>\n",
              "      <td>-0.316375</td>\n",
              "      <td>-29.697647</td>\n",
              "      <td>-0.316375</td>\n",
              "      <td>-29.697647</td>\n",
              "      <td>0.000017</td>\n",
              "      <td>0.000000</td>\n",
              "      <td>0.847</td>\n",
              "      <td>0.266</td>\n",
              "      <td>346.641</td>\n",
              "      <td>2</td>\n",
              "      <td>1</td>\n",
              "      <td>1</td>\n",
              "      <td>18020.319</td>\n",
              "      <td>18182.095</td>\n",
              "    </tr>\n",
              "    <tr>\n",
              "      <th>4</th>\n",
              "      <td>7527248</td>\n",
              "      <td>-0.336528</td>\n",
              "      <td>-29.627335</td>\n",
              "      <td>-0.336527</td>\n",
              "      <td>-29.627338</td>\n",
              "      <td>0.000054</td>\n",
              "      <td>0.044763</td>\n",
              "      <td>3.343</td>\n",
              "      <td>1.515</td>\n",
              "      <td>279.006</td>\n",
              "      <td>1</td>\n",
              "      <td>1</td>\n",
              "      <td>1</td>\n",
              "      <td>18125.824</td>\n",
              "      <td>18600.680</td>\n",
              "    </tr>\n",
              "  </tbody>\n",
              "</table>\n",
              "</div>"
            ]
          },
          "metadata": {}
        },
        {
          "output_type": "stream",
          "name": "stdout",
          "text": [
            "Loading FITS file /Users/lorenzocellini/AI - Universit…/Deep Learning - Andre Asperti/SKA_project/SKADC1/data/training/560Mhz_1000h.fits\n"
          ]
        },
        {
          "output_type": "stream",
          "name": "stderr",
          "text": [
            "WARNING: VerifyWarning: Invalid 'BLANK' keyword in header.  The 'BLANK' keyword is only applicable to integer data, and will be ignored in this HDU. [astropy.io.fits.hdu.image]\n",
            "100%|██████████| 19222/19222 [00:02<00:00, 6455.66it/s]\n"
          ]
        },
        {
          "output_type": "stream",
          "name": "stdout",
          "text": [
            "Initial dataset shape: (19222, 15)\n",
            "Found 0 boxes with zero area\n",
            "Rows to be deleted: 0\n",
            "New dataset shape: (19222, 15)\n",
            "Extending dataset with new computed columns...\n",
            "Final cleaned dataset shape: (19222, 26)\n",
            "\n",
            "Enlarging bboxes...\n",
            "DONE - Enlarging bboxes...\n"
          ]
        },
        {
          "output_type": "display_data",
          "data": {
            "text/plain": [
              "           ID  RA (core)  DEC (core)  RA (centroid)  DEC (centroid)      FLUX  \\\n",
              "0  24121695.0  -0.642227  -29.775242      -0.642316      -29.775211  0.000035   \n",
              "1  20167150.0  -0.390473  -29.867493      -0.390667      -29.868851  0.029555   \n",
              "2  20045120.0  -0.021411  -29.643486      -0.021359      -29.643561  0.000653   \n",
              "3  33938384.0  -0.316375  -29.697647      -0.316375      -29.697647  0.000017   \n",
              "4   7527248.0  -0.336528  -29.627335      -0.336527      -29.627338  0.000054   \n",
              "\n",
              "   Core frac     BMAJ    BMIN       PA  ...            y1            x2  \\\n",
              "0   0.000000    5.600   5.551  328.554  ...  17706.708393  19710.764566   \n",
              "1   0.016924  107.110  43.263  191.258  ...  17112.270219  18509.603417   \n",
              "2   0.012185    5.037   3.525  276.587  ...  18500.850356  16498.009965   \n",
              "3   0.000000    0.847   0.266  346.641  ...  18179.521298  18023.322729   \n",
              "4   0.044763    3.343   1.515  279.006  ...  18596.465498  18128.789688   \n",
              "\n",
              "             y2  major_semia_px  minor_semia_px  pa_in_rad       width  \\\n",
              "0  17719.170105        6.264429        6.218255   5.734349   12.503792   \n",
              "1  17209.564571      110.037236       44.503323   3.338082  216.538139   \n",
              "2  18512.295208        5.738106        4.389739   4.827354    8.820318   \n",
              "3  18184.661968        3.031418        2.541842   6.050027    6.014593   \n",
              "4  18604.884928        4.236891        2.929772   4.869573    5.937378   \n",
              "\n",
              "      height     area_orig  area_cropped  \n",
              "0  12.461712    155.818657    155.818657  \n",
              "1  97.294352  21067.937901  21067.937901  \n",
              "2  11.444852    100.947234    100.947234  \n",
              "3   5.140670     30.919039     30.919039  \n",
              "4   8.419429     49.989332     49.989332  \n",
              "\n",
              "[5 rows x 26 columns]"
            ],
            "text/html": [
              "<div>\n",
              "<style scoped>\n",
              "    .dataframe tbody tr th:only-of-type {\n",
              "        vertical-align: middle;\n",
              "    }\n",
              "\n",
              "    .dataframe tbody tr th {\n",
              "        vertical-align: top;\n",
              "    }\n",
              "\n",
              "    .dataframe thead th {\n",
              "        text-align: right;\n",
              "    }\n",
              "</style>\n",
              "<table border=\"1\" class=\"dataframe\">\n",
              "  <thead>\n",
              "    <tr style=\"text-align: right;\">\n",
              "      <th></th>\n",
              "      <th>ID</th>\n",
              "      <th>RA (core)</th>\n",
              "      <th>DEC (core)</th>\n",
              "      <th>RA (centroid)</th>\n",
              "      <th>DEC (centroid)</th>\n",
              "      <th>FLUX</th>\n",
              "      <th>Core frac</th>\n",
              "      <th>BMAJ</th>\n",
              "      <th>BMIN</th>\n",
              "      <th>PA</th>\n",
              "      <th>...</th>\n",
              "      <th>y1</th>\n",
              "      <th>x2</th>\n",
              "      <th>y2</th>\n",
              "      <th>major_semia_px</th>\n",
              "      <th>minor_semia_px</th>\n",
              "      <th>pa_in_rad</th>\n",
              "      <th>width</th>\n",
              "      <th>height</th>\n",
              "      <th>area_orig</th>\n",
              "      <th>area_cropped</th>\n",
              "    </tr>\n",
              "  </thead>\n",
              "  <tbody>\n",
              "    <tr>\n",
              "      <th>0</th>\n",
              "      <td>24121695.0</td>\n",
              "      <td>-0.642227</td>\n",
              "      <td>-29.775242</td>\n",
              "      <td>-0.642316</td>\n",
              "      <td>-29.775211</td>\n",
              "      <td>0.000035</td>\n",
              "      <td>0.000000</td>\n",
              "      <td>5.600</td>\n",
              "      <td>5.551</td>\n",
              "      <td>328.554</td>\n",
              "      <td>...</td>\n",
              "      <td>17706.708393</td>\n",
              "      <td>19710.764566</td>\n",
              "      <td>17719.170105</td>\n",
              "      <td>6.264429</td>\n",
              "      <td>6.218255</td>\n",
              "      <td>5.734349</td>\n",
              "      <td>12.503792</td>\n",
              "      <td>12.461712</td>\n",
              "      <td>155.818657</td>\n",
              "      <td>155.818657</td>\n",
              "    </tr>\n",
              "    <tr>\n",
              "      <th>1</th>\n",
              "      <td>20167150.0</td>\n",
              "      <td>-0.390473</td>\n",
              "      <td>-29.867493</td>\n",
              "      <td>-0.390667</td>\n",
              "      <td>-29.868851</td>\n",
              "      <td>0.029555</td>\n",
              "      <td>0.016924</td>\n",
              "      <td>107.110</td>\n",
              "      <td>43.263</td>\n",
              "      <td>191.258</td>\n",
              "      <td>...</td>\n",
              "      <td>17112.270219</td>\n",
              "      <td>18509.603417</td>\n",
              "      <td>17209.564571</td>\n",
              "      <td>110.037236</td>\n",
              "      <td>44.503323</td>\n",
              "      <td>3.338082</td>\n",
              "      <td>216.538139</td>\n",
              "      <td>97.294352</td>\n",
              "      <td>21067.937901</td>\n",
              "      <td>21067.937901</td>\n",
              "    </tr>\n",
              "    <tr>\n",
              "      <th>2</th>\n",
              "      <td>20045120.0</td>\n",
              "      <td>-0.021411</td>\n",
              "      <td>-29.643486</td>\n",
              "      <td>-0.021359</td>\n",
              "      <td>-29.643561</td>\n",
              "      <td>0.000653</td>\n",
              "      <td>0.012185</td>\n",
              "      <td>5.037</td>\n",
              "      <td>3.525</td>\n",
              "      <td>276.587</td>\n",
              "      <td>...</td>\n",
              "      <td>18500.850356</td>\n",
              "      <td>16498.009965</td>\n",
              "      <td>18512.295208</td>\n",
              "      <td>5.738106</td>\n",
              "      <td>4.389739</td>\n",
              "      <td>4.827354</td>\n",
              "      <td>8.820318</td>\n",
              "      <td>11.444852</td>\n",
              "      <td>100.947234</td>\n",
              "      <td>100.947234</td>\n",
              "    </tr>\n",
              "    <tr>\n",
              "      <th>3</th>\n",
              "      <td>33938384.0</td>\n",
              "      <td>-0.316375</td>\n",
              "      <td>-29.697647</td>\n",
              "      <td>-0.316375</td>\n",
              "      <td>-29.697647</td>\n",
              "      <td>0.000017</td>\n",
              "      <td>0.000000</td>\n",
              "      <td>0.847</td>\n",
              "      <td>0.266</td>\n",
              "      <td>346.641</td>\n",
              "      <td>...</td>\n",
              "      <td>18179.521298</td>\n",
              "      <td>18023.322729</td>\n",
              "      <td>18184.661968</td>\n",
              "      <td>3.031418</td>\n",
              "      <td>2.541842</td>\n",
              "      <td>6.050027</td>\n",
              "      <td>6.014593</td>\n",
              "      <td>5.140670</td>\n",
              "      <td>30.919039</td>\n",
              "      <td>30.919039</td>\n",
              "    </tr>\n",
              "    <tr>\n",
              "      <th>4</th>\n",
              "      <td>7527248.0</td>\n",
              "      <td>-0.336528</td>\n",
              "      <td>-29.627335</td>\n",
              "      <td>-0.336527</td>\n",
              "      <td>-29.627338</td>\n",
              "      <td>0.000054</td>\n",
              "      <td>0.044763</td>\n",
              "      <td>3.343</td>\n",
              "      <td>1.515</td>\n",
              "      <td>279.006</td>\n",
              "      <td>...</td>\n",
              "      <td>18596.465498</td>\n",
              "      <td>18128.789688</td>\n",
              "      <td>18604.884928</td>\n",
              "      <td>4.236891</td>\n",
              "      <td>2.929772</td>\n",
              "      <td>4.869573</td>\n",
              "      <td>5.937378</td>\n",
              "      <td>8.419429</td>\n",
              "      <td>49.989332</td>\n",
              "      <td>49.989332</td>\n",
              "    </tr>\n",
              "  </tbody>\n",
              "</table>\n",
              "<p>5 rows × 26 columns</p>\n",
              "</div>"
            ]
          },
          "metadata": {}
        },
        {
          "output_type": "stream",
          "name": "stdout",
          "text": [
            "\n",
            "----------\n",
            "Starting training image preprocessing...\n",
            "\n",
            "Computing max and min pixel value in order to scale image to RGB range\n",
            "Max pixel value = 0.0065856808796525\n",
            "Removing negative noise...\n",
            "Converting to RGB...\n",
            "Removing positive noise and rescaling to 0-255 interval...\n",
            "\n",
            "Mean and stdev of the half-gaussian that best fits with noise distribution:\n",
            "mu=4.561610766868865e-14, stdev=4.5037468510513567e-07\n",
            "End of training image preprocessing.\n"
          ]
        },
        {
          "output_type": "display_data",
          "data": {
            "text/plain": [
              "<Figure size 432x288 with 1 Axes>"
            ],
            "image/png": "[encoded data removed]"
          },
          "metadata": {
            "needs_background": "light"
          }
        }
      ],
      "metadata": {
        "tags": [],
        "id": "Q8IbYCwkF-5K",
        "outputId": "5cd8e5ba-49cd-49b4-d65c-65d82229f792",
        "colab": {
          "base_uri": "https://localhost:8080/",
          "height": 221
        }
      }
    },
    {
      "cell_type": "code",
      "execution_count": 6,
      "source": [
        "ska_dataset.cleaned_train_df[['width', 'height', 'area_orig', 'area_cropped']].describe()"
      ],
      "outputs": [
        {
          "output_type": "execute_result",
          "data": {
            "text/plain": [
              "              width        height     area_orig  area_cropped\n",
              "count  19222.000000  19222.000000  19222.000000  19222.000000\n",
              "mean       6.282190      6.285123     44.731314     44.731314\n",
              "std        3.122242      2.910949    169.529219    169.529219\n",
              "min        4.964839      4.964839     24.649628     24.649628\n",
              "25%        5.114121      5.116855     26.770928     26.770928\n",
              "50%        5.388071      5.394034     29.928541     29.928541\n",
              "75%        6.193903      6.206960     39.145862     39.145862\n",
              "max      216.538139     97.294352  21067.937901  21067.937901"
            ],
            "text/html": [
              "<div>\n",
              "<style scoped>\n",
              "    .dataframe tbody tr th:only-of-type {\n",
              "        vertical-align: middle;\n",
              "    }\n",
              "\n",
              "    .dataframe tbody tr th {\n",
              "        vertical-align: top;\n",
              "    }\n",
              "\n",
              "    .dataframe thead th {\n",
              "        text-align: right;\n",
              "    }\n",
              "</style>\n",
              "<table border=\"1\" class=\"dataframe\">\n",
              "  <thead>\n",
              "    <tr style=\"text-align: right;\">\n",
              "      <th></th>\n",
              "      <th>width</th>\n",
              "      <th>height</th>\n",
              "      <th>area_orig</th>\n",
              "      <th>area_cropped</th>\n",
              "    </tr>\n",
              "  </thead>\n",
              "  <tbody>\n",
              "    <tr>\n",
              "      <th>count</th>\n",
              "      <td>19222.000000</td>\n",
              "      <td>19222.000000</td>\n",
              "      <td>19222.000000</td>\n",
              "      <td>19222.000000</td>\n",
              "    </tr>\n",
              "    <tr>\n",
              "      <th>mean</th>\n",
              "      <td>6.282190</td>\n",
              "      <td>6.285123</td>\n",
              "      <td>44.731314</td>\n",
              "      <td>44.731314</td>\n",
              "    </tr>\n",
              "    <tr>\n",
              "      <th>std</th>\n",
              "      <td>3.122242</td>\n",
              "      <td>2.910949</td>\n",
              "      <td>169.529219</td>\n",
              "      <td>169.529219</td>\n",
              "    </tr>\n",
              "    <tr>\n",
              "      <th>min</th>\n",
              "      <td>4.964839</td>\n",
              "      <td>4.964839</td>\n",
              "      <td>24.649628</td>\n",
              "      <td>24.649628</td>\n",
              "    </tr>\n",
              "    <tr>\n",
              "      <th>25%</th>\n",
              "      <td>5.114121</td>\n",
              "      <td>5.116855</td>\n",
              "      <td>26.770928</td>\n",
              "      <td>26.770928</td>\n",
              "    </tr>\n",
              "    <tr>\n",
              "      <th>50%</th>\n",
              "      <td>5.388071</td>\n",
              "      <td>5.394034</td>\n",
              "      <td>29.928541</td>\n",
              "      <td>29.928541</td>\n",
              "    </tr>\n",
              "    <tr>\n",
              "      <th>75%</th>\n",
              "      <td>6.193903</td>\n",
              "      <td>6.206960</td>\n",
              "      <td>39.145862</td>\n",
              "      <td>39.145862</td>\n",
              "    </tr>\n",
              "    <tr>\n",
              "      <th>max</th>\n",
              "      <td>216.538139</td>\n",
              "      <td>97.294352</td>\n",
              "      <td>21067.937901</td>\n",
              "      <td>21067.937901</td>\n",
              "    </tr>\n",
              "  </tbody>\n",
              "</table>\n",
              "</div>"
            ]
          },
          "metadata": {},
          "execution_count": 6
        }
      ],
      "metadata": {}
    },
    {
      "cell_type": "code",
      "execution_count": 7,
      "source": [
        "ska_dataset.cleaned_train_df[['width', 'height', 'area_orig']].quantile([.1,.2,.3,.4,.5,.6,.7,.8,.9,.95,.98,.99,1.])"
      ],
      "outputs": [
        {
          "output_type": "execute_result",
          "data": {
            "text/plain": [
              "           width     height     area_orig\n",
              "0.10    5.021579   5.022318     25.628098\n",
              "0.20    5.079478   5.083666     26.354817\n",
              "0.30    5.153434   5.154979     27.221580\n",
              "0.40    5.250224   5.256348     28.358833\n",
              "0.50    5.388071   5.394034     29.928541\n",
              "0.60    5.596149   5.603978     32.164977\n",
              "0.70    5.931373   5.932616     36.070023\n",
              "0.80    6.568193   6.603042     43.494231\n",
              "0.90    8.241342   8.188366     63.754795\n",
              "0.95   10.577456  10.646052    100.988437\n",
              "0.98   14.480916  14.595398    167.628745\n",
              "0.99   17.804710  17.928009    233.115808\n",
              "1.00  216.538139  97.294352  21067.937901"
            ],
            "text/html": [
              "<div>\n",
              "<style scoped>\n",
              "    .dataframe tbody tr th:only-of-type {\n",
              "        vertical-align: middle;\n",
              "    }\n",
              "\n",
              "    .dataframe tbody tr th {\n",
              "        vertical-align: top;\n",
              "    }\n",
              "\n",
              "    .dataframe thead th {\n",
              "        text-align: right;\n",
              "    }\n",
              "</style>\n",
              "<table border=\"1\" class=\"dataframe\">\n",
              "  <thead>\n",
              "    <tr style=\"text-align: right;\">\n",
              "      <th></th>\n",
              "      <th>width</th>\n",
              "      <th>height</th>\n",
              "      <th>area_orig</th>\n",
              "    </tr>\n",
              "  </thead>\n",
              "  <tbody>\n",
              "    <tr>\n",
              "      <th>0.10</th>\n",
              "      <td>5.021579</td>\n",
              "      <td>5.022318</td>\n",
              "      <td>25.628098</td>\n",
              "    </tr>\n",
              "    <tr>\n",
              "      <th>0.20</th>\n",
              "      <td>5.079478</td>\n",
              "      <td>5.083666</td>\n",
              "      <td>26.354817</td>\n",
              "    </tr>\n",
              "    <tr>\n",
              "      <th>0.30</th>\n",
              "      <td>5.153434</td>\n",
              "      <td>5.154979</td>\n",
              "      <td>27.221580</td>\n",
              "    </tr>\n",
              "    <tr>\n",
              "      <th>0.40</th>\n",
              "      <td>5.250224</td>\n",
              "      <td>5.256348</td>\n",
              "      <td>28.358833</td>\n",
              "    </tr>\n",
              "    <tr>\n",
              "      <th>0.50</th>\n",
              "      <td>5.388071</td>\n",
              "      <td>5.394034</td>\n",
              "      <td>29.928541</td>\n",
              "    </tr>\n",
              "    <tr>\n",
              "      <th>0.60</th>\n",
              "      <td>5.596149</td>\n",
              "      <td>5.603978</td>\n",
              "      <td>32.164977</td>\n",
              "    </tr>\n",
              "    <tr>\n",
              "      <th>0.70</th>\n",
              "      <td>5.931373</td>\n",
              "      <td>5.932616</td>\n",
              "      <td>36.070023</td>\n",
              "    </tr>\n",
              "    <tr>\n",
              "      <th>0.80</th>\n",
              "      <td>6.568193</td>\n",
              "      <td>6.603042</td>\n",
              "      <td>43.494231</td>\n",
              "    </tr>\n",
              "    <tr>\n",
              "      <th>0.90</th>\n",
              "      <td>8.241342</td>\n",
              "      <td>8.188366</td>\n",
              "      <td>63.754795</td>\n",
              "    </tr>\n",
              "    <tr>\n",
              "      <th>0.95</th>\n",
              "      <td>10.577456</td>\n",
              "      <td>10.646052</td>\n",
              "      <td>100.988437</td>\n",
              "    </tr>\n",
              "    <tr>\n",
              "      <th>0.98</th>\n",
              "      <td>14.480916</td>\n",
              "      <td>14.595398</td>\n",
              "      <td>167.628745</td>\n",
              "    </tr>\n",
              "    <tr>\n",
              "      <th>0.99</th>\n",
              "      <td>17.804710</td>\n",
              "      <td>17.928009</td>\n",
              "      <td>233.115808</td>\n",
              "    </tr>\n",
              "    <tr>\n",
              "      <th>1.00</th>\n",
              "      <td>216.538139</td>\n",
              "      <td>97.294352</td>\n",
              "      <td>21067.937901</td>\n",
              "    </tr>\n",
              "  </tbody>\n",
              "</table>\n",
              "</div>"
            ]
          },
          "metadata": {},
          "execution_count": 7
        }
      ],
      "metadata": {}
    },
    {
      "cell_type": "code",
      "execution_count": 8,
      "source": [
        "show_plot = True\n",
        "ska_dataset.generate_patches(limit=5, plot_patches=show_plot) # Remember to remove internal return"
      ],
      "outputs": [
        {
          "output_type": "stream",
          "name": "stderr",
          "text": [
            "  0%|          | 0/320 [00:00<?, ?it/s]"
          ]
        },
        {
          "output_type": "stream",
          "name": "stdout",
          "text": [
            "\n",
            "Training image dimensions: 3498 x 3191\n",
            "Cutting training image in patches of dim 20\n",
            "Patch 20_16396_16729_20 saved.\n",
            "Max gray level value =  91.0\n"
          ]
        },
        {
          "output_type": "display_data",
          "data": {
            "text/plain": [
              "<Figure size 432x288 with 1 Axes>"
            ],
            "image/png": "[encoded data removed]"
          },
          "metadata": {
            "needs_background": "light"
          }
        },
        {
          "output_type": "stream",
          "name": "stdout",
          "text": [
            "Patch 30_16406_16729_20 saved.\n",
            "Max gray level value =  91.0\n"
          ]
        },
        {
          "output_type": "display_data",
          "data": {
            "text/plain": [
              "<Figure size 432x288 with 1 Axes>"
            ],
            "image/png": "[encoded data removed]"
          },
          "metadata": {
            "needs_background": "light"
          }
        },
        {
          "output_type": "stream",
          "name": "stdout",
          "text": [
            "Patch 60_16436_16729_20 saved.\n",
            "Max gray level value =  53.0\n"
          ]
        },
        {
          "output_type": "display_data",
          "data": {
            "text/plain": [
              "<Figure size 432x288 with 1 Axes>"
            ],
            "image/png": "[encoded data removed]"
          },
          "metadata": {
            "needs_background": "light"
          }
        },
        {
          "output_type": "stream",
          "name": "stdout",
          "text": [
            "Patch 70_16446_16729_20 saved.\n",
            "Max gray level value =  53.0\n"
          ]
        },
        {
          "output_type": "display_data",
          "data": {
            "text/plain": [
              "<Figure size 432x288 with 1 Axes>"
            ],
            "image/png": "[encoded data removed]"
          },
          "metadata": {
            "needs_background": "light"
          }
        },
        {
          "output_type": "stream",
          "name": "stdout",
          "text": [
            "Patch 80_16456_16729_20 saved.\n",
            "Max gray level value =  48.0\n"
          ]
        },
        {
          "output_type": "display_data",
          "data": {
            "text/plain": [
              "<Figure size 432x288 with 1 Axes>"
            ],
            "image/png": "[encoded data removed]"
          },
          "metadata": {
            "needs_background": "light"
          }
        },
        {
          "output_type": "stream",
          "name": "stdout",
          "text": [
            "Patch 100_16476_16729_20 saved.\n",
            "Max gray level value =  47.0\n"
          ]
        },
        {
          "output_type": "display_data",
          "data": {
            "text/plain": [
              "<Figure size 432x288 with 1 Axes>"
            ],
            "image/png": "[encoded data removed]"
          },
          "metadata": {
            "needs_background": "light"
          }
        },
        {
          "output_type": "stream",
          "name": "stderr",
          "text": [
            "  0%|          | 1/320 [00:05<28:54,  5.44s/it]"
          ]
        },
        {
          "output_type": "stream",
          "name": "stdout",
          "text": [
            "Patch 1610_16396_16739_20 saved.\n",
            "Max gray level value =  91.0\n"
          ]
        },
        {
          "output_type": "display_data",
          "data": {
            "text/plain": [
              "<Figure size 432x288 with 1 Axes>"
            ],
            "image/png": "[encoded data removed]"
          },
          "metadata": {
            "needs_background": "light"
          }
        },
        {
          "output_type": "stream",
          "name": "stdout",
          "text": [
            "Patch 1620_16406_16739_20 saved.\n",
            "Max gray level value =  91.0\n"
          ]
        },
        {
          "output_type": "display_data",
          "data": {
            "text/plain": [
              "<Figure size 432x288 with 1 Axes>"
            ],
            "image/png": "[encoded data removed]"
          },
          "metadata": {
            "needs_background": "light"
          }
        },
        {
          "output_type": "stream",
          "name": "stdout",
          "text": [
            "Patch 1650_16436_16739_20 saved.\n",
            "Max gray level value =  53.0\n"
          ]
        },
        {
          "output_type": "display_data",
          "data": {
            "text/plain": [
              "<Figure size 432x288 with 1 Axes>"
            ],
            "image/png": "[encoded data removed]"
          },
          "metadata": {
            "needs_background": "light"
          }
        },
        {
          "output_type": "stream",
          "name": "stdout",
          "text": [
            "Patch 1660_16446_16739_20 saved.\n",
            "Max gray level value =  53.0\n"
          ]
        },
        {
          "output_type": "display_data",
          "data": {
            "text/plain": [
              "<Figure size 432x288 with 1 Axes>"
            ],
            "image/png": "[encoded data removed]"
          },
          "metadata": {
            "needs_background": "light"
          }
        },
        {
          "output_type": "stream",
          "name": "stdout",
          "text": [
            "Patch 1670_16456_16739_20 saved.\n",
            "Max gray level value =  48.0\n"
          ]
        },
        {
          "output_type": "display_data",
          "data": {
            "text/plain": [
              "<Figure size 432x288 with 1 Axes>"
            ],
            "image/png": "[encoded data removed]"
          },
          "metadata": {
            "needs_background": "light"
          }
        },
        {
          "output_type": "stream",
          "name": "stdout",
          "text": [
            "Patch 1690_16476_16739_20 saved.\n",
            "Max gray level value =  47.0\n"
          ]
        },
        {
          "output_type": "display_data",
          "data": {
            "text/plain": [
              "<Figure size 432x288 with 1 Axes>"
            ],
            "image/png": "[encoded data removed]"
          },
          "metadata": {
            "needs_background": "light"
          }
        },
        {
          "output_type": "stream",
          "name": "stderr",
          "text": [
            "  1%|          | 2/320 [00:10<28:09,  5.31s/it]"
          ]
        },
        {
          "output_type": "stream",
          "name": "stdout",
          "text": [
            "Patch 3240_16436_16749_20 saved.\n",
            "Max gray level value =  95.0\n"
          ]
        },
        {
          "output_type": "display_data",
          "data": {
            "text/plain": [
              "<Figure size 432x288 with 1 Axes>"
            ],
            "image/png": "[encoded data removed]"
          },
          "metadata": {
            "needs_background": "light"
          }
        },
        {
          "output_type": "stream",
          "name": "stdout",
          "text": [
            "Patch 3250_16446_16749_20 saved.\n",
            "Max gray level value =  96.0\n"
          ]
        },
        {
          "output_type": "display_data",
          "data": {
            "text/plain": [
              "<Figure size 432x288 with 1 Axes>"
            ],
            "image/png": "[encoded data removed]"
          },
          "metadata": {
            "needs_background": "light"
          }
        },
        {
          "output_type": "stream",
          "name": "stderr",
          "text": [
            "  1%|          | 3/320 [00:15<27:01,  5.11s/it]"
          ]
        },
        {
          "output_type": "stream",
          "name": "stdout",
          "text": [
            "Patch 4800_16406_16759_20 saved.\n",
            "Max gray level value =  54.0\n"
          ]
        },
        {
          "output_type": "display_data",
          "data": {
            "text/plain": [
              "<Figure size 432x288 with 1 Axes>"
            ],
            "image/png": "[encoded data removed]"
          },
          "metadata": {
            "needs_background": "light"
          }
        },
        {
          "output_type": "stream",
          "name": "stdout",
          "text": [
            "Patch 4810_16416_16759_20 saved.\n",
            "Max gray level value =  140.0\n"
          ]
        },
        {
          "output_type": "display_data",
          "data": {
            "text/plain": [
              "<Figure size 432x288 with 1 Axes>"
            ],
            "image/png": "[encoded data removed]"
          },
          "metadata": {
            "needs_background": "light"
          }
        },
        {
          "output_type": "stream",
          "name": "stdout",
          "text": [
            "Patch 4830_16436_16759_20 saved.\n",
            "Max gray level value =  151.0\n"
          ]
        },
        {
          "output_type": "display_data",
          "data": {
            "text/plain": [
              "<Figure size 432x288 with 1 Axes>"
            ],
            "image/png": "[encoded data removed]"
          },
          "metadata": {
            "needs_background": "light"
          }
        },
        {
          "output_type": "stream",
          "name": "stdout",
          "text": [
            "Patch 4840_16446_16759_20 saved.\n",
            "Max gray level value =  161.0\n"
          ]
        },
        {
          "output_type": "display_data",
          "data": {
            "text/plain": [
              "<Figure size 432x288 with 1 Axes>"
            ],
            "image/png": "[encoded data removed]"
          },
          "metadata": {
            "needs_background": "light"
          }
        },
        {
          "output_type": "stream",
          "name": "stderr",
          "text": [
            "  1%|▏         | 4/320 [00:20<26:54,  5.11s/it]"
          ]
        },
        {
          "output_type": "stream",
          "name": "stdout",
          "text": [
            "Patch 6380_16396_16769_20 saved.\n",
            "Max gray level value =  56.0\n"
          ]
        },
        {
          "output_type": "display_data",
          "data": {
            "text/plain": [
              "<Figure size 432x288 with 1 Axes>"
            ],
            "image/png": "[encoded data removed]"
          },
          "metadata": {
            "needs_background": "light"
          }
        },
        {
          "output_type": "stream",
          "name": "stdout",
          "text": [
            "Patch 6390_16406_16769_20 saved.\n",
            "Max gray level value =  103.0\n"
          ]
        },
        {
          "output_type": "display_data",
          "data": {
            "text/plain": [
              "<Figure size 432x288 with 1 Axes>"
            ],
            "image/png": "[encoded data removed]"
          },
          "metadata": {
            "needs_background": "light"
          }
        },
        {
          "output_type": "stream",
          "name": "stdout",
          "text": [
            "Patch 6400_16416_16769_20 saved.\n",
            "Max gray level value =  159.0\n"
          ]
        },
        {
          "output_type": "display_data",
          "data": {
            "text/plain": [
              "<Figure size 432x288 with 1 Axes>"
            ],
            "image/png": "[encoded data removed]"
          },
          "metadata": {
            "needs_background": "light"
          }
        },
        {
          "output_type": "stream",
          "name": "stdout",
          "text": [
            "Patch 6420_16436_16769_20 saved.\n",
            "Max gray level value =  167.0\n"
          ]
        },
        {
          "output_type": "display_data",
          "data": {
            "text/plain": [
              "<Figure size 432x288 with 1 Axes>"
            ],
            "image/png": "[encoded data removed]"
          },
          "metadata": {
            "needs_background": "light"
          }
        },
        {
          "output_type": "stream",
          "name": "stdout",
          "text": [
            "Patch 6430_16446_16769_20 saved.\n",
            "Max gray level value =  176.0\n"
          ]
        },
        {
          "output_type": "display_data",
          "data": {
            "text/plain": [
              "<Figure size 432x288 with 1 Axes>"
            ],
            "image/png": "[encoded data removed]"
          },
          "metadata": {
            "needs_background": "light"
          }
        },
        {
          "output_type": "stream",
          "name": "stdout",
          "text": [
            "Patch 6440_16456_16769_20 saved.\n",
            "Max gray level value =  176.0\n"
          ]
        },
        {
          "output_type": "display_data",
          "data": {
            "text/plain": [
              "<Figure size 432x288 with 1 Axes>"
            ],
            "image/png": "[encoded data removed]"
          },
          "metadata": {
            "needs_background": "light"
          }
        },
        {
          "output_type": "stream",
          "name": "stderr",
          "text": [
            "  2%|▏         | 5/320 [00:25<27:04,  5.16s/it]"
          ]
        },
        {
          "output_type": "stream",
          "name": "stdout",
          "text": [
            "Patch 7970_16396_16779_20 saved.\n",
            "Max gray level value =  56.0\n"
          ]
        },
        {
          "output_type": "display_data",
          "data": {
            "text/plain": [
              "<Figure size 432x288 with 1 Axes>"
            ],
            "image/png": "[encoded data removed]"
          },
          "metadata": {
            "needs_background": "light"
          }
        },
        {
          "output_type": "stream",
          "name": "stdout",
          "text": [
            "Patch 7980_16406_16779_20 saved.\n",
            "Max gray level value =  103.0\n"
          ]
        },
        {
          "output_type": "display_data",
          "data": {
            "text/plain": [
              "<Figure size 432x288 with 1 Axes>"
            ],
            "image/png": "[encoded data removed]"
          },
          "metadata": {
            "needs_background": "light"
          }
        },
        {
          "output_type": "stream",
          "name": "stdout",
          "text": [
            "Patch 7990_16416_16779_20 saved.\n",
            "Max gray level value =  159.0\n"
          ]
        },
        {
          "output_type": "display_data",
          "data": {
            "text/plain": [
              "<Figure size 432x288 with 1 Axes>"
            ],
            "image/png": "[encoded data removed]"
          },
          "metadata": {
            "needs_background": "light"
          }
        },
        {
          "output_type": "stream",
          "name": "stdout",
          "text": [
            "Patch 8000_16426_16779_20 saved.\n",
            "Max gray level value =  163.0\n"
          ]
        },
        {
          "output_type": "display_data",
          "data": {
            "text/plain": [
              "<Figure size 432x288 with 1 Axes>"
            ],
            "image/png": "[encoded data removed]"
          },
          "metadata": {
            "needs_background": "light"
          }
        },
        {
          "output_type": "stream",
          "name": "stdout",
          "text": [
            "Patch 8010_16436_16779_20 saved.\n",
            "Max gray level value =  167.0\n"
          ]
        },
        {
          "output_type": "display_data",
          "data": {
            "text/plain": [
              "<Figure size 432x288 with 1 Axes>"
            ],
            "image/png": "[encoded data removed]"
          },
          "metadata": {
            "needs_background": "light"
          }
        },
        {
          "output_type": "stream",
          "name": "stdout",
          "text": [
            "Patch 8020_16446_16779_20 saved.\n",
            "Max gray level value =  176.0\n"
          ]
        },
        {
          "output_type": "display_data",
          "data": {
            "text/plain": [
              "<Figure size 432x288 with 1 Axes>"
            ],
            "image/png": "[encoded data removed]"
          },
          "metadata": {
            "needs_background": "light"
          }
        },
        {
          "output_type": "stream",
          "name": "stdout",
          "text": [
            "Patch 8030_16456_16779_20 saved.\n",
            "Max gray level value =  176.0\n"
          ]
        },
        {
          "output_type": "display_data",
          "data": {
            "text/plain": [
              "<Figure size 432x288 with 1 Axes>"
            ],
            "image/png": "[encoded data removed]"
          },
          "metadata": {
            "needs_background": "light"
          }
        },
        {
          "output_type": "stream",
          "name": "stdout",
          "text": [
            "Patch 8050_16476_16779_20 saved.\n",
            "Max gray level value =  154.0\n"
          ]
        },
        {
          "output_type": "display_data",
          "data": {
            "text/plain": [
              "<Figure size 432x288 with 1 Axes>"
            ],
            "image/png": "[encoded data removed]"
          },
          "metadata": {
            "needs_background": "light"
          }
        },
        {
          "output_type": "stream",
          "name": "stderr",
          "text": [
            "  2%|▏         | 6/320 [00:31<27:25,  5.24s/it]"
          ]
        },
        {
          "output_type": "stream",
          "name": "stdout",
          "text": [
            "Patch 9590_16426_16789_20 saved.\n",
            "Max gray level value =  147.0\n"
          ]
        },
        {
          "output_type": "display_data",
          "data": {
            "text/plain": [
              "<Figure size 432x288 with 1 Axes>"
            ],
            "image/png": "[encoded data removed]"
          },
          "metadata": {
            "needs_background": "light"
          }
        },
        {
          "output_type": "stream",
          "name": "stdout",
          "text": [
            "Patch 9600_16436_16789_20 saved.\n",
            "Max gray level value =  153.0\n"
          ]
        },
        {
          "output_type": "display_data",
          "data": {
            "text/plain": [
              "<Figure size 432x288 with 1 Axes>"
            ],
            "image/png": "[encoded data removed]"
          },
          "metadata": {
            "needs_background": "light"
          }
        },
        {
          "output_type": "stream",
          "name": "stdout",
          "text": [
            "Patch 9640_16476_16789_20 saved.\n",
            "Max gray level value =  141.0\n"
          ]
        },
        {
          "output_type": "display_data",
          "data": {
            "text/plain": [
              "<Figure size 432x288 with 1 Axes>"
            ],
            "image/png": "[encoded data removed]"
          },
          "metadata": {
            "needs_background": "light"
          }
        },
        {
          "output_type": "stream",
          "name": "stderr",
          "text": [
            "  2%|▏         | 7/320 [00:35<26:24,  5.06s/it]"
          ]
        },
        {
          "output_type": "stream",
          "name": "stdout",
          "text": [
            "Patch 11180_16426_16799_20 saved.\n",
            "Max gray level value =  72.0\n"
          ]
        },
        {
          "output_type": "display_data",
          "data": {
            "text/plain": [
              "<Figure size 432x288 with 1 Axes>"
            ],
            "image/png": "[encoded data removed]"
          },
          "metadata": {
            "needs_background": "light"
          }
        },
        {
          "output_type": "stream",
          "name": "stdout",
          "text": [
            "Patch 11190_16436_16799_20 saved.\n",
            "Max gray level value =  83.0\n"
          ]
        },
        {
          "output_type": "display_data",
          "data": {
            "text/plain": [
              "<Figure size 432x288 with 1 Axes>"
            ],
            "image/png": "[encoded data removed]"
          },
          "metadata": {
            "needs_background": "light"
          }
        },
        {
          "output_type": "stream",
          "name": "stdout",
          "text": [
            "Patch 11220_16466_16799_20 saved.\n",
            "Max gray level value =  104.0\n"
          ]
        },
        {
          "output_type": "display_data",
          "data": {
            "text/plain": [
              "<Figure size 432x288 with 1 Axes>"
            ],
            "image/png": "[encoded data removed]"
          },
          "metadata": {
            "needs_background": "light"
          }
        },
        {
          "output_type": "stream",
          "name": "stdout",
          "text": [
            "Patch 11230_16476_16799_20 saved.\n",
            "Max gray level value =  57.0\n"
          ]
        },
        {
          "output_type": "display_data",
          "data": {
            "text/plain": [
              "<Figure size 432x288 with 1 Axes>"
            ],
            "image/png": "[encoded data removed]"
          },
          "metadata": {
            "needs_background": "light"
          }
        },
        {
          "output_type": "stream",
          "name": "stderr",
          "text": [
            "  2%|▎         | 8/320 [00:40<25:58,  4.99s/it]"
          ]
        },
        {
          "output_type": "stream",
          "name": "stdout",
          "text": [
            "Patch 12810_16466_16809_20 saved.\n",
            "Max gray level value =  53.0\n"
          ]
        },
        {
          "output_type": "display_data",
          "data": {
            "text/plain": [
              "<Figure size 432x288 with 1 Axes>"
            ],
            "image/png": "[encoded data removed]"
          },
          "metadata": {
            "needs_background": "light"
          }
        },
        {
          "output_type": "stream",
          "name": "stdout",
          "text": [
            "Patch 12820_16476_16809_20 saved.\n",
            "Max gray level value =  71.0\n"
          ]
        },
        {
          "output_type": "display_data",
          "data": {
            "text/plain": [
              "<Figure size 432x288 with 1 Axes>"
            ],
            "image/png": "[encoded data removed]"
          },
          "metadata": {
            "needs_background": "light"
          }
        },
        {
          "output_type": "stream",
          "name": "stderr",
          "text": [
            "  3%|▎         | 9/320 [00:45<25:18,  4.88s/it]"
          ]
        },
        {
          "output_type": "stream",
          "name": "stdout",
          "text": [
            "Patch 14320_16386_16819_20 saved.\n",
            "Max gray level value =  50.0\n"
          ]
        },
        {
          "output_type": "display_data",
          "data": {
            "text/plain": [
              "<Figure size 432x288 with 1 Axes>"
            ],
            "image/png": "[encoded data removed]"
          },
          "metadata": {
            "needs_background": "light"
          }
        },
        {
          "output_type": "stream",
          "name": "stdout",
          "text": [
            "Patch 14330_16396_16819_20 saved.\n",
            "Max gray level value =  50.0\n"
          ]
        },
        {
          "output_type": "display_data",
          "data": {
            "text/plain": [
              "<Figure size 432x288 with 1 Axes>"
            ],
            "image/png": "[encoded data removed]"
          },
          "metadata": {
            "needs_background": "light"
          }
        },
        {
          "output_type": "stream",
          "name": "stdout",
          "text": [
            "Patch 14400_16466_16819_20 saved.\n",
            "Max gray level value =  63.0\n"
          ]
        },
        {
          "output_type": "display_data",
          "data": {
            "text/plain": [
              "<Figure size 432x288 with 1 Axes>"
            ],
            "image/png": "[encoded data removed]"
          },
          "metadata": {
            "needs_background": "light"
          }
        },
        {
          "output_type": "stream",
          "name": "stdout",
          "text": [
            "Patch 14410_16476_16819_20 saved.\n",
            "Max gray level value =  71.0\n"
          ]
        },
        {
          "output_type": "display_data",
          "data": {
            "text/plain": [
              "<Figure size 432x288 with 1 Axes>"
            ],
            "image/png": "[encoded data removed]"
          },
          "metadata": {
            "needs_background": "light"
          }
        },
        {
          "output_type": "stream",
          "name": "stderr",
          "text": [
            "  3%|▎         | 10/320 [00:50<25:05,  4.86s/it]"
          ]
        },
        {
          "output_type": "stream",
          "name": "stdout",
          "text": [
            "Patch 15910_16386_16829_20 saved.\n",
            "Max gray level value =  50.0\n"
          ]
        },
        {
          "output_type": "display_data",
          "data": {
            "text/plain": [
              "<Figure size 432x288 with 1 Axes>"
            ],
            "image/png": "[encoded data removed]"
          },
          "metadata": {
            "needs_background": "light"
          }
        },
        {
          "output_type": "stream",
          "name": "stdout",
          "text": [
            "Patch 15920_16396_16829_20 saved.\n",
            "Max gray level value =  50.0\n"
          ]
        },
        {
          "output_type": "display_data",
          "data": {
            "text/plain": [
              "<Figure size 432x288 with 1 Axes>"
            ],
            "image/png": "[encoded data removed]"
          },
          "metadata": {
            "needs_background": "light"
          }
        },
        {
          "output_type": "stream",
          "name": "stdout",
          "text": [
            "Patch 15960_16436_16829_20 saved.\n",
            "Max gray level value =  45.0\n"
          ]
        },
        {
          "output_type": "display_data",
          "data": {
            "text/plain": [
              "<Figure size 432x288 with 1 Axes>"
            ],
            "image/png": "[encoded data removed]"
          },
          "metadata": {
            "needs_background": "light"
          }
        },
        {
          "output_type": "stream",
          "name": "stdout",
          "text": [
            "Patch 15970_16446_16829_20 saved.\n",
            "Max gray level value =  45.0\n"
          ]
        },
        {
          "output_type": "display_data",
          "data": {
            "text/plain": [
              "<Figure size 432x288 with 1 Axes>"
            ],
            "image/png": "[encoded data removed]"
          },
          "metadata": {
            "needs_background": "light"
          }
        },
        {
          "output_type": "stream",
          "name": "stdout",
          "text": [
            "Patch 15990_16466_16829_20 saved.\n",
            "Max gray level value =  63.0\n"
          ]
        },
        {
          "output_type": "display_data",
          "data": {
            "text/plain": [
              "<Figure size 432x288 with 1 Axes>"
            ],
            "image/png": "[encoded data removed]"
          },
          "metadata": {
            "needs_background": "light"
          }
        },
        {
          "output_type": "stream",
          "name": "stdout",
          "text": [
            "Patch 16000_16476_16829_20 saved.\n",
            "Max gray level value =  63.0\n"
          ]
        },
        {
          "output_type": "display_data",
          "data": {
            "text/plain": [
              "<Figure size 432x288 with 1 Axes>"
            ],
            "image/png": "[encoded data removed]"
          },
          "metadata": {
            "needs_background": "light"
          }
        },
        {
          "output_type": "stream",
          "name": "stderr",
          "text": [
            "100%|██████████| 320/320 [00:55<00:00,  5.78it/s]"
          ]
        },
        {
          "output_type": "stream",
          "name": "stdout",
          "text": [
            "\n",
            "Class list: ['2_2' '2_3' '1_1']\n",
            "Number of distinct class labels: 3\n"
          ]
        },
        {
          "output_type": "stream",
          "name": "stderr",
          "text": [
            "\n"
          ]
        }
      ],
      "metadata": {
        "id": "Ug10Ku-OF-5Y",
        "outputId": "c3b6bed6-24a7-4f71-cbed-c4b6b8d934af",
        "tags": []
      }
    },
    {
      "cell_type": "code",
      "execution_count": 9,
      "source": [
        "ska_dataset.analyze_class_distribution()"
      ],
      "outputs": [
        {
          "output_type": "stream",
          "name": "stdout",
          "text": [
            "Number of possible class combinations: 7\n"
          ]
        },
        {
          "output_type": "display_data",
          "data": {
            "text/plain": [
              "<Figure size 432x288 with 1 Axes>"
            ],
            "image/png": "[encoded data removed]"
          },
          "metadata": {
            "needs_background": "light"
          }
        }
      ],
      "metadata": {
        "tags": []
      }
    },
    {
      "cell_type": "code",
      "execution_count": 10,
      "source": [
        "ska_dataset.split_train_val_stratified(random_state=42, val_portion=0.2)\n",
        "\n",
        "print(len(ska_dataset.train_patch_list))\n",
        "print(len(ska_dataset.val_patch_list))\n"
      ],
      "outputs": [
        {
          "output_type": "stream",
          "name": "stdout",
          "text": [
            "key_1 not splitted\n",
            "key_4 not splitted\n",
            "key_5 not splitted\n",
            "key_7 not splitted\n",
            "split ended\n",
            "39\n",
            "11\n"
          ]
        }
      ],
      "metadata": {}
    },
    {
      "cell_type": "code",
      "execution_count": 11,
      "source": [
        "ska_dataset.split_train_val(random_state=42, val_portion=0.2)"
      ],
      "outputs": [
        {
          "output_type": "stream",
          "name": "stdout",
          "text": [
            "len of class: 1 1\n",
            "len of common ID: 1\n",
            "len of class: 2 43\n",
            "len of common ID: 32\n",
            "len of class: 3 3\n",
            "len of common ID: 3\n",
            "len of class: 6 4\n",
            "len of common ID: 4\n"
          ]
        },
        {
          "output_type": "display_data",
          "data": {
            "text/plain": [
              "<Figure size 432x288 with 1 Axes>"
            ],
            "image/png": "[encoded data removed]"
          },
          "metadata": {
            "needs_background": "light"
          }
        }
      ],
      "metadata": {}
    },
    {
      "cell_type": "markdown",
      "source": [
        "## datagen + calc_rpn -> rpn_net -> rpn_to_roi -> calc_iou -> cls_net"
      ],
      "metadata": {}
    },
    {
      "cell_type": "markdown",
      "source": [
        "# Training"
      ],
      "metadata": {}
    },
    {
      "cell_type": "code",
      "execution_count": 12,
      "source": [
        "print_img(config.TRAIN_PATCHES_FOLDER, '20_16396_16729_20', show_data=True)\n"
      ],
      "outputs": [
        {
          "output_type": "display_data",
          "data": {
            "text/plain": [
              "   minor_semia_px  pa_in_rad     width    height  area_orig  area_cropped  \\\n",
              "0        2.483646   4.528274  4.967293  4.967293  24.673999     24.673999   \n",
              "1        2.540962  -0.968099  7.119101  8.849909  63.003394     63.003394   \n",
              "\n",
              "         x1s        y1s        x2s        y2s class_label  \\\n",
              "0  11.486288  12.264985  16.453581  17.232278         2_2   \n",
              "1   9.418725  11.573728  16.537825  19.000000         2_3   \n",
              "\n",
              "                 patch_name  patch_xo  patch_yo  patch_dim    bbox_w    bbox_h  \n",
              "0  560Mhz_1000h_16396_16729     16396     16729         20  4.967293  4.967293  \n",
              "1  560Mhz_1000h_16396_16729     16396     16729         20  7.119101  7.426272  "
            ],
            "text/html": [
              "<div>\n",
              "<style scoped>\n",
              "    .dataframe tbody tr th:only-of-type {\n",
              "        vertical-align: middle;\n",
              "    }\n",
              "\n",
              "    .dataframe tbody tr th {\n",
              "        vertical-align: top;\n",
              "    }\n",
              "\n",
              "    .dataframe thead th {\n",
              "        text-align: right;\n",
              "    }\n",
              "</style>\n",
              "<table border=\"1\" class=\"dataframe\">\n",
              "  <thead>\n",
              "    <tr style=\"text-align: right;\">\n",
              "      <th></th>\n",
              "      <th>minor_semia_px</th>\n",
              "      <th>pa_in_rad</th>\n",
              "      <th>width</th>\n",
              "      <th>height</th>\n",
              "      <th>area_orig</th>\n",
              "      <th>area_cropped</th>\n",
              "      <th>x1s</th>\n",
              "      <th>y1s</th>\n",
              "      <th>x2s</th>\n",
              "      <th>y2s</th>\n",
              "      <th>class_label</th>\n",
              "      <th>patch_name</th>\n",
              "      <th>patch_xo</th>\n",
              "      <th>patch_yo</th>\n",
              "      <th>patch_dim</th>\n",
              "      <th>bbox_w</th>\n",
              "      <th>bbox_h</th>\n",
              "    </tr>\n",
              "  </thead>\n",
              "  <tbody>\n",
              "    <tr>\n",
              "      <th>0</th>\n",
              "      <td>2.483646</td>\n",
              "      <td>4.528274</td>\n",
              "      <td>4.967293</td>\n",
              "      <td>4.967293</td>\n",
              "      <td>24.673999</td>\n",
              "      <td>24.673999</td>\n",
              "      <td>11.486288</td>\n",
              "      <td>12.264985</td>\n",
              "      <td>16.453581</td>\n",
              "      <td>17.232278</td>\n",
              "      <td>2_2</td>\n",
              "      <td>560Mhz_1000h_16396_16729</td>\n",
              "      <td>16396</td>\n",
              "      <td>16729</td>\n",
              "      <td>20</td>\n",
              "      <td>4.967293</td>\n",
              "      <td>4.967293</td>\n",
              "    </tr>\n",
              "    <tr>\n",
              "      <th>1</th>\n",
              "      <td>2.540962</td>\n",
              "      <td>-0.968099</td>\n",
              "      <td>7.119101</td>\n",
              "      <td>8.849909</td>\n",
              "      <td>63.003394</td>\n",
              "      <td>63.003394</td>\n",
              "      <td>9.418725</td>\n",
              "      <td>11.573728</td>\n",
              "      <td>16.537825</td>\n",
              "      <td>19.000000</td>\n",
              "      <td>2_3</td>\n",
              "      <td>560Mhz_1000h_16396_16729</td>\n",
              "      <td>16396</td>\n",
              "      <td>16729</td>\n",
              "      <td>20</td>\n",
              "      <td>7.119101</td>\n",
              "      <td>7.426272</td>\n",
              "    </tr>\n",
              "  </tbody>\n",
              "</table>\n",
              "</div>"
            ]
          },
          "metadata": {}
        },
        {
          "output_type": "display_data",
          "data": {
            "text/plain": [
              "<Figure size 432x288 with 1 Axes>"
            ],
            "image/png": "[encoded data removed]"
          },
          "metadata": {
            "needs_background": "light"
          }
        }
      ],
      "metadata": {}
    },
    {
      "cell_type": "code",
      "execution_count": 28,
      "source": [
        "# Debugging\n",
        "\n",
        "train_patch_list = ska_dataset.train_patch_list\n",
        "patches_folder_path=config.TRAIN_PATCHES_FOLDER\n",
        "\n",
        "train_datagen = prep.get_anchor_gt(patches_folder_path, ['20_16396_16729_20'], backbone, pixel_mean=None)\n",
        "image, [y_rpn_cls_true, y_rpn_reg_true], img_data_aug, _, _, patch_id = next(train_datagen)\n",
        "\n"
      ],
      "outputs": [
        {
          "output_type": "stream",
          "name": "stdout",
          "text": [
            "(100, 100)\n",
            "71 - width: 100\n",
            "72 - height: 100\n"
          ]
        },
        {
          "output_type": "display_data",
          "data": {
            "text/plain": [
              "   minor_semia_px  pa_in_rad     width    height  area_orig  area_cropped  \\\n",
              "0        2.483646   4.528274  4.967293  4.967293  24.673999     24.673999   \n",
              "1        2.540962  -0.968099  7.119101  8.849909  63.003394     63.003394   \n",
              "\n",
              "   x1s  y1s  x2s  y2s class_label                patch_name  patch_xo  \\\n",
              "0   57   61   82   86         2_2  560Mhz_1000h_16396_16729     16396   \n",
              "1   47   57   82   95         2_3  560Mhz_1000h_16396_16729     16396   \n",
              "\n",
              "   patch_yo  patch_dim    bbox_w    bbox_h  \n",
              "0     16729         20  4.967293  4.967293  \n",
              "1     16729         20  7.119101  7.426272  "
            ],
            "text/html": [
              "<div>\n",
              "<style scoped>\n",
              "    .dataframe tbody tr th:only-of-type {\n",
              "        vertical-align: middle;\n",
              "    }\n",
              "\n",
              "    .dataframe tbody tr th {\n",
              "        vertical-align: top;\n",
              "    }\n",
              "\n",
              "    .dataframe thead th {\n",
              "        text-align: right;\n",
              "    }\n",
              "</style>\n",
              "<table border=\"1\" class=\"dataframe\">\n",
              "  <thead>\n",
              "    <tr style=\"text-align: right;\">\n",
              "      <th></th>\n",
              "      <th>minor_semia_px</th>\n",
              "      <th>pa_in_rad</th>\n",
              "      <th>width</th>\n",
              "      <th>height</th>\n",
              "      <th>area_orig</th>\n",
              "      <th>area_cropped</th>\n",
              "      <th>x1s</th>\n",
              "      <th>y1s</th>\n",
              "      <th>x2s</th>\n",
              "      <th>y2s</th>\n",
              "      <th>class_label</th>\n",
              "      <th>patch_name</th>\n",
              "      <th>patch_xo</th>\n",
              "      <th>patch_yo</th>\n",
              "      <th>patch_dim</th>\n",
              "      <th>bbox_w</th>\n",
              "      <th>bbox_h</th>\n",
              "    </tr>\n",
              "  </thead>\n",
              "  <tbody>\n",
              "    <tr>\n",
              "      <th>0</th>\n",
              "      <td>2.483646</td>\n",
              "      <td>4.528274</td>\n",
              "      <td>4.967293</td>\n",
              "      <td>4.967293</td>\n",
              "      <td>24.673999</td>\n",
              "      <td>24.673999</td>\n",
              "      <td>57</td>\n",
              "      <td>61</td>\n",
              "      <td>82</td>\n",
              "      <td>86</td>\n",
              "      <td>2_2</td>\n",
              "      <td>560Mhz_1000h_16396_16729</td>\n",
              "      <td>16396</td>\n",
              "      <td>16729</td>\n",
              "      <td>20</td>\n",
              "      <td>4.967293</td>\n",
              "      <td>4.967293</td>\n",
              "    </tr>\n",
              "    <tr>\n",
              "      <th>1</th>\n",
              "      <td>2.540962</td>\n",
              "      <td>-0.968099</td>\n",
              "      <td>7.119101</td>\n",
              "      <td>8.849909</td>\n",
              "      <td>63.003394</td>\n",
              "      <td>63.003394</td>\n",
              "      <td>47</td>\n",
              "      <td>57</td>\n",
              "      <td>82</td>\n",
              "      <td>95</td>\n",
              "      <td>2_3</td>\n",
              "      <td>560Mhz_1000h_16396_16729</td>\n",
              "      <td>16396</td>\n",
              "      <td>16729</td>\n",
              "      <td>20</td>\n",
              "      <td>7.119101</td>\n",
              "      <td>7.426272</td>\n",
              "    </tr>\n",
              "  </tbody>\n",
              "</table>\n",
              "</div>"
            ]
          },
          "metadata": {}
        },
        {
          "output_type": "stream",
          "name": "stderr",
          "text": [
            "100%|██████████| 7/7 [00:02<00:00,  2.43it/s]\n",
            "100%|██████████| 2/2 [00:00<00:00, 24966.10it/s]\n"
          ]
        },
        {
          "output_type": "stream",
          "name": "stdout",
          "text": [
            "239 (array([17, 17, 17, 20, 20, 20, 20]), array([17, 18, 18, 18, 18, 19, 19]), array([17, 16, 17, 15, 16, 15, 16]))\n",
            "240 7\n",
            "241 8543\n",
            "new_pos: 121 [5 6 3 1 6 1 6 3 6 4 5 1 5 1 1 4 6 0 5 3 5 6 4 2 2 4 6 4 0 5 6 5 2 6 3 5 1\n",
            " 1 0 6 0 6 2 3 3 4 0 6 5 1 5 1 2 1 5 5 3 6 3 0 5 6 2 1 0 4 4 6 1 1 6 1 3 1\n",
            " 4 1 5 6 2 4 2 4 0 5 4 5 4 2 2 6 4 4 3 5 5 5 5 0 0 1 4 4 4 4 5 5 0 2 3 5 5\n",
            " 6 5 2 2 0 5 6 3 4 5]\n",
            "[1. 1. 1. 1. 1. 1. 1. 1. 1. 1. 1. 1. 1. 1. 1. 1. 1. 1. 1. 1. 1. 1. 1. 1.\n",
            " 1. 1. 1. 1. 1. 1. 1. 1. 1. 1. 1. 1. 1. 1. 1. 1. 1. 1. 1. 1. 1. 1. 1. 1.\n",
            " 1. 1. 1. 1. 1. 1. 1. 1. 1. 1. 1. 1. 1. 1. 1. 1. 1. 1. 1. 1. 1. 1. 1. 1.\n",
            " 1. 1. 1. 1. 1. 1. 1. 1. 1. 1. 1. 1. 1. 1. 1. 1. 1. 1. 1. 1. 1. 1. 1. 1.\n",
            " 1. 1. 1. 1. 1. 1. 1. 1. 1. 1. 1. 1. 1. 1. 1. 1. 1. 1. 1. 1. 1. 1. 1. 1.\n",
            " 1.]\n",
            "[1. 1. 1. 1. 1. 1. 1. 1. 1. 1. 1. 1. 1. 1. 1. 1. 1. 1. 1. 1. 1. 1. 1. 1.\n",
            " 1. 1. 1. 1. 1. 1. 1. 1. 1. 1. 1. 1. 1. 1. 1. 1. 1. 1. 1. 1. 1. 1. 1. 1.\n",
            " 1. 1. 1. 1. 1. 1. 1. 1. 1. 1. 1. 1. 1. 1. 1. 1. 1. 1. 1. 1. 1. 1. 1. 1.\n",
            " 1. 1. 1. 1. 1. 1. 1. 1. 1. 1. 1. 1. 1. 1. 1. 1. 1. 1. 1. 1. 1. 1. 1. 1.\n",
            " 1. 1. 1. 1. 1. 1. 1. 1. 1. 1. 1. 1. 1. 1. 1. 1. 1. 1. 1. 1. 1. 1. 1. 1.\n",
            " 1.]\n",
            "255 [19, 3638, 3809, 2801, 3467, 7721, 1991, 7041, 7045, 1781, 8232, 1927, 5127, 8316, 6295, 6328, 2441, 6006, 4865, 1425, 5202, 3198, 3526, 3859, 6502, 7301, 684, 5489, 8156, 6371, 6174, 4200, 8385, 2263, 7195, 144, 4056, 6744, 7332, 6039, 5533, 2232, 3751, 688, 6011, 6390, 7683, 8194, 5841, 5386, 2567, 5756, 2072, 5582, 1063, 8282, 546, 6833, 3930, 3961, 1554, 2103, 5691, 3072, 47, 1089, 860, 411, 2388, 6094, 6205, 7177, 6646, 8384, 1348, 2811, 3319, 8013, 1439, 1100, 7646, 7200, 5511, 2629, 4716, 3720, 8456, 1621, 7232, 1067, 5558, 3304, 5392, 5872, 6723, 4296, 3432, 6028, 6877, 7413, 3888, 719, 5053, 640, 2201, 1741, 3637, 5531, 2869, 1134, 7110, 3249, 4447, 4092, 6064, 6027, 5160, 3817, 5189, 4841, 5905, 1012, 8270, 8062, 2855, 816, 7305, 1836, 4094, 5592, 4053, 5114, 3939, 4949, 3874, 1869, 1491, 3982, 23, 817, 6921, 7032, 2890, 2619, 4330, 4800, 643, 1515, 4529, 373, 2841, 518, 417, 1810, 2579, 2391, 2189, 93, 62, 3569, 1027, 2849, 2734, 6475, 5770, 4297, 6327, 3994, 5331, 7675, 2857, 4902, 3099, 800, 1831, 6291, 2840, 1104, 1258, 2037, 0, 3040, 4805, 3508, 5087, 1764, 726, 5156, 74, 4294, 2488, 4402, 7086, 5468, 6604, 1773, 2411, 7665, 6661, 7294, 6895, 150, 6864, 4034, 7771, 6044, 4154, 6356, 224, 6855, 5755, 406, 3225, 4676, 8351, 1611, 3177, 808, 2797, 7873, 1572, 5080, 4256, 4063, 4851, 5249, 5036, 2334, 3676, 5492, 314, 6401, 7017, 7346, 5730, 3165, 1196, 534, 1182, 4610, 3575, 81, 471, 6022, 2003, 4958, 5322, 3543, 235, 4390, 1035, 2051, 6488, 792, 6168, 3946, 2063, 5776, 5470, 3963, 2436, 8296, 8201, 5683, 3014, 1592, 3631, 1398, 8010, 2599, 7512, 1527, 4144, 5292, 1873, 7, 7311, 1640, 8474, 3649, 4595, 948, 7619, 4607, 2137, 3383, 878, 6738, 8330, 3786, 4697, 6455, 1551, 1231, 504, 6918, 2994, 5936, 267, 3045, 4968, 2938, 3462, 4572, 8143, 3422, 1434, 5153, 3519, 7536, 3639, 6233, 5485, 7116, 4210, 8514, 1877, 5740, 6031, 6123, 1547, 4448, 5684, 2045, 6208, 524, 3667, 5229, 2626, 4116, 5409, 7531, 654, 748, 2140, 1679, 8376, 601, 7058, 3331, 2585, 1960, 1259, 3223, 7734, 5795, 3190, 7503, 8134, 1745, 4335, 3506, 1389, 3794, 569, 6042, 2807, 3729, 8200, 2518, 3189, 3593, 1408, 7036, 4375, 5590, 3991, 5224, 6868, 8101, 1809, 8001, 4107, 4159, 5500, 6701, 6467, 6570, 53, 5622, 6827, 6626, 162, 3379, 6415, 4366, 4436, 908, 4321, 4704, 602, 689, 1282, 3168, 1033, 4819, 2448, 5013, 2196, 7736, 4219, 7766, 8452, 4268, 6807, 6225, 7964, 8503, 1553, 2032, 6124, 217, 8439, 7522, 4360, 3245, 3445, 1885, 4661, 829, 1902, 763, 5038, 1792, 6211, 7161, 7963, 5848, 3201, 2657, 135, 1552, 1276, 6618, 1329, 3449, 6892, 4952, 6253, 907, 4162, 7150, 2682, 2935, 483, 7759, 8005, 6713, 4652, 5437, 8017, 3370, 1437, 1385, 1707, 2250, 2225, 6819, 1671, 1870, 4173, 1402, 5843, 1178, 6874, 5920, 4577, 4106, 5344, 3760, 2159, 6228, 1062, 328, 4139, 787, 8287, 6904, 1007, 3641, 5871, 6018, 8144, 5187, 4876, 5600, 6450, 1532, 5388, 3270, 1395, 1287, 5306, 6978, 7296, 300, 1626, 2001, 4336, 1753, 6669, 7645, 7476, 251, 450, 6477, 2260, 8137, 4050, 4079, 4035, 5880, 7406, 2226, 3391, 512, 4054, 3812, 1932, 4361, 4078, 855, 5382, 3084, 1172, 8363, 1582, 2290, 6127, 1171, 6479, 3768, 6102, 1221, 6757, 3137, 1821, 4558, 4891, 5807, 6983, 6215, 6407, 6200, 7096, 1051, 4765, 2788, 3015, 6569, 3497, 8498, 4624, 7526, 1689, 3708, 7756, 793, 2420, 4726, 7421, 257, 3552, 8162, 2942, 132, 1687, 7659, 1422, 7088, 2166, 461, 1816, 3217, 6372, 8164, 5937, 4486, 7837, 1910, 3017, 1427, 1310, 861, 1747, 5638, 3799, 8346, 4071, 1371, 313, 6342, 6391, 5405, 4456, 8170, 3001, 6787, 3609, 2271, 1583, 4408, 8095, 5873, 8083, 4642, 4150, 8314, 8222, 1893, 7712, 1025, 7703, 6331, 6232, 5584, 1483, 819, 6534, 2013, 7957, 2757, 8354, 7941, 3094, 4901, 1490, 724, 1518, 5406, 3447, 3031, 3758, 6605, 4275, 8479, 3492, 5885, 4871, 6498, 6835, 4247, 4864, 6758, 5801, 6060, 6543, 3687, 8258, 4175, 8067, 8191, 6104, 2498, 5442, 1126, 8464, 6230, 2415, 4100, 3529, 1245, 3680, 5014, 5111, 3773, 7139, 1225, 7573, 3357, 1109, 6514, 337, 1724, 1060, 6556, 2265, 6229, 48, 2805, 8227, 5467, 7521, 2997, 5375, 8300, 5433, 3757, 2756, 42, 2479, 7206, 2035, 7754, 4485, 5298, 3187, 7137, 2121, 6351, 3477, 269, 1457, 7649, 3263, 2069, 1026, 5242, 7271, 4080, 6526, 6136, 7936, 5397, 6532, 5681, 5736, 3298, 6870, 6120, 1544, 1975, 6891, 1130, 8012, 1907, 6048, 8295, 8499, 3075, 4468, 3324, 3207, 8320, 2008, 909, 8014, 7861, 21, 4342, 3255, 6929, 1909, 634, 7713, 5605, 868, 8019, 996, 704, 5975, 7322, 7470, 783, 7786, 3941, 2824, 7309, 7791, 6446, 7105, 141, 865, 5478, 8377, 2141, 2780, 7566, 6900, 1141, 7046, 1036, 4920, 393, 586, 7412, 4419, 6406, 4670, 7780, 6480, 1872, 4457, 3455, 6836, 6016, 666, 2102, 6809, 8367, 4475, 1678, 8395, 2883, 8147, 4460, 7256, 2590, 5728, 8392, 3702, 3290, 3470, 3650, 6943, 1995, 7165, 3632, 507, 7559, 5951, 6135, 4003, 5301, 3413, 592, 1410, 4404, 8029, 2418, 4309, 7148, 4237, 4591, 2208, 1380, 2318, 4440, 5940, 2138, 5620, 1237, 3635, 7475, 8158, 5967, 8240, 6053, 6319, 2132, 2469, 7863, 636, 651, 1507, 6092, 7282, 3551, 85, 8045, 2547, 3979, 7507, 8221, 7928, 1252, 3776, 5177, 7368, 5544, 246, 2992, 5490, 6850, 6142, 2153, 2712, 3663, 3761, 5302, 3636, 2235, 3110, 3258, 5132, 2991, 20, 1087, 3523, 2831, 1136, 2168, 2143, 2804, 7016, 7483, 5839, 5908, 1343, 416, 260, 1450, 5882, 5279, 991, 644, 6935, 8252, 4628, 4740, 3834, 7795, 7528, 4929, 4711, 5086, 8288, 7842, 2763, 3049, 7954, 4140, 6201, 7782, 7853, 932, 1606, 532, 7166, 815, 1765, 6565, 7719, 897, 2097, 5559, 241, 4784, 5351, 746, 6436, 3181, 1861, 7508, 7777, 3843, 1222, 7557, 6057, 7626, 6265, 6609, 5909, 2113, 7722, 3046, 7087, 6005, 1407, 4370, 729, 4844, 7162, 1874, 6329, 5548, 8266, 762, 4197, 3067, 3125, 842, 3539, 2422, 6671, 418, 2672, 610, 832, 1256, 3850, 4455, 4879, 2161, 2729, 5420, 2644, 8374, 6674, 4259, 1453, 8315, 3996, 3469, 6143, 3276, 2779, 3007, 1119, 4495, 799, 6731, 2197, 3406, 6147, 7750, 3530, 6687, 409, 3571, 8326, 6239, 3154, 6632, 8209, 1619, 2423, 619, 7437, 7858, 5090, 4179, 6553, 8311, 7478, 1444, 5787, 5820, 3215, 1199, 8108, 4505, 7604, 1513, 8540, 5618, 6987, 131, 3889, 7461, 5205, 3397, 3604, 7385, 5711, 4421, 7886, 4587, 2607, 2442, 2806, 4626, 4153, 3405, 438, 3171, 667, 372, 1674, 5488, 2640, 6340, 6483, 4132, 5204, 33, 8107, 4425, 5270, 1701, 1790, 5773, 2951, 136, 3618, 3347, 1445, 4655, 6960, 4966, 466, 3842, 6859, 5809, 5113, 1795, 1387, 6709, 4947, 5417, 3272, 4859, 1538, 3320, 5354, 5955, 1405, 125, 2031, 6749, 7344, 2252, 6624, 5996, 6358, 1737, 3029, 325, 677, 7453, 2976, 1851, 6274, 1349, 2301, 3244, 7310, 1393, 2837, 4514, 556, 149, 6332, 7542, 4114, 8214, 4961, 2688, 3296, 4905, 6844, 3148, 639, 1850, 6719, 4866, 6259, 7634, 4893, 5973, 877, 4184, 5652, 7684, 5603, 4204, 6623, 7112, 3542, 779, 2615, 7731, 2967, 6194, 2962, 4137, 822, 7642, 2504, 4155, 7882, 7556, 7484, 4262, 2187, 4664, 979, 4523, 3456, 2371, 4255, 4923, 2572, 5831, 6258, 6997, 4341, 6571, 1204, 91, 2221, 1630, 2595, 4228, 3144, 2216, 8066, 1509, 3763, 6608, 6339, 1368, 7157, 3123, 5670, 3254, 460, 1636, 7977, 479, 6644, 8380, 395, 4734, 6103, 3415, 7199, 3540, 6686, 6804, 1235, 5345, 700, 8469, 5253, 294, 414, 3240, 2200, 2714, 4644, 6690, 3844, 3359, 4683, 8018, 3382, 6806, 7908, 3808, 511, 5881, 299, 1682, 4317, 351, 2821, 6038, 7198, 1277, 4916, 64, 5778, 5255, 728, 7628, 7321, 6766, 866, 247, 8116, 7515, 5502, 3143, 7749, 4414, 157, 7892, 4245, 599, 61, 3494, 3473, 24, 6656, 4663, 2557, 1556, 5400, 138, 5332, 7741, 5956, 1683, 3204, 7839, 2515, 6795, 4620, 5522, 4821, 1980, 3013, 2376, 6910, 1056, 5119, 3833, 6555, 5747, 5028, 3232, 6699, 2830, 3675, 1435, 6154, 3515, 6218, 3069, 2452, 2459, 310, 6887, 2386, 331, 7364, 5875, 5212, 1718, 6061, 2360, 6251, 2931, 3501, 15, 2015, 4464, 6179, 3161, 3907, 7688, 5915, 3250, 7405, 2693, 7986, 4714, 7960, 8084, 5771, 3451, 5596, 5083, 1093, 3789, 4507, 4702, 1924, 3364, 8184, 4148, 3317, 80, 8383, 3479, 3411, 2514, 2322, 8261, 8427, 5669, 6293, 4771, 270, 6363, 4283, 2658, 5904, 6435, 428, 4816, 3732, 2996, 2846, 4379, 647, 1279, 5084, 4254, 1958, 1158, 167, 2581, 881, 1005, 3366, 4338, 2470, 2206, 8053, 7943, 1424, 1294, 2027, 3437, 826, 5919, 5989, 4030, 7307, 5514, 5703, 7501, 3032, 6971, 6301, 3814, 1789, 922, 4458, 6204, 935, 2117, 17, 1047, 7456, 7399, 7064, 7802, 1827, 4077, 1400, 8481, 5802, 307, 8536, 4945, 5349, 4533, 7107, 5023, 264, 7681, 4160, 3769, 8431, 2690, 3268, 8259, 1365, 1897, 575, 7894, 1760, 2126, 3488, 7535, 6159, 5616, 3134, 3897, 5359, 7558, 1472, 4010, 3416, 6761, 5358, 2154, 6500, 8438, 2526, 760, 4344, 2905, 2393, 5827, 3210, 1565, 3380, 8350, 2239, 3965, 3742, 1901, 3867, 7069, 2980, 2609, 7715, 3744, 5258, 5966, 5675, 7117, 5438, 942, 3510, 2205, 1443, 1930, 8078, 5601, 7006, 2591, 1829, 3728, 4463, 4799, 8373, 6210, 4192, 6277, 4649, 181, 2546, 7360, 3377, 2300, 6673, 4248, 4474, 6260, 4979, 1659, 4508, 2611, 7276, 4632, 6837, 8196, 1341, 7583, 4377, 1471, 6058, 5380, 282, 5030, 4574, 958, 2363, 3820, 333, 1549, 7757, 5604, 2550, 5300, 5473, 830, 5318, 5207, 3971, 3563, 6460, 7698, 4227, 3782, 2654, 7123, 5546, 3626, 7009, 346, 1039, 947, 4813, 385, 5976, 5963, 7666, 2273, 875, 7627, 5551, 4925, 2762, 8131, 5246, 3318, 5847, 2964, 3585, 8371, 796, 4776, 7341, 1388, 5450, 3838, 7334, 5815, 97, 8179, 6338, 3247, 925, 2472, 6472, 3886, 553, 1325, 6801, 7859, 3625, 7740, 7259, 1796, 4953, 1750, 8073, 8104, 1054, 6959, 8034, 4182, 7108, 2057, 8406, 1733, 6662, 6658, 1433, 6616, 3976, 3615, 7464, 4143, 4712, 8339, 2451, 7897, 3103, 4773, 1589, 6937, 1734, 2683, 3811, 57, 7939, 3533, 6311, 4005, 1697, 1868, 3648, 2231, 7850, 2483, 3471, 6421, 873, 5948, 6266, 151, 858, 1777, 6285, 6385, 431, 5057, 653, 2907, 649, 6097, 3840, 3453, 8250, 3870, 5321, 7779, 5610, 2395, 1248, 1495, 5441, 3779, 6494, 1127, 4899, 7823, 7330, 6192, 1220, 5768, 2002, 1670, 6317, 4557, 7156, 1908, 531, 3068, 8352, 1566, 4217, 4970, 7697, 2813, 238, 3108, 1429, 7371, 500, 4020, 1197, 6932, 823, 2485, 8436, 3726, 7340, 2848, 2222, 1597, 3209, 5922, 1142, 4808, 6021, 2802, 8440, 618, 1615, 3172, 4671, 4177, 5254, 3410, 3806, 1153, 2074, 3018, 5328, 3489, 944, 4583, 7482, 6538, 844, 213, 7587, 918, 3348, 2540, 1447, 1516, 4026, 2718, 457, 5335, 5027, 4633, 6893, 6310, 5861, 4936, 2856, 6247, 7520, 6451, 3567, 4950, 4922, 8400, 5800, 1652, 3162, 537, 5130, 6161, 3372, 2569, 171, 3200, 4367, 2212, 2594, 2487, 3302, 5396, 7090, 7911, 5068, 163, 5372, 6985, 1508, 6961, 4011, 3057, 4831, 1185, 5692, 1587, 458, 7028, 3541, 2167, 5830, 6402, 8393, 4887, 5563, 367, 2497, 1535, 6952, 6732, 7130, 6367, 2146, 2633, 3202, 6561, 5411, 5118, 8220, 2787, 5092, 3284, 775, 1926, 6292, 4191, 211, 2124, 1289, 707, 8086, 3419, 6305, 6076, 1356, 7383, 3036, 6693, 4170, 1124, 8016, 6185, 2501, 4284, 5474, 5693, 3774, 5716, 6622, 773, 3412, 758, 1081, 743, 5398, 7824, 8328, 1955, 5320, 6830, 2731, 1655, 6573, 548, 1974, 7026, 5436, 975, 579, 2926, 1183, 6717, 3109, 7860, 7202, 921, 4328, 6530, 6838, 7867, 1762, 3468, 344, 5999, 7263, 4501, 8175, 1706, 6411, 7625, 7454, 4358, 1881, 6729, 7879, 1327, 5233, 2632, 2589, 320, 4250, 5227, 3005, 5486, 5568, 1562, 8401, 3617, 177, 4499, 1414, 3556, 487, 2430, 5220, 6839, 1116, 7809, 1149, 8188, 419, 989, 6361, 412, 6294, 978, 7083, 7718, 3401, 1169, 3656, 7856, 3081, 6540, 1569, 8112, 124, 3306, 1479, 8323, 7257, 3129, 1090, 5186, 4186, 3566, 7798, 6847, 6482, 3061, 7732, 3212, 153, 765, 7905, 3339, 590, 5273, 2142, 967, 7175, 4914, 4271, 7179, 7347, 5764, 1645, 3853, 1860, 7997, 3756, 7193, 862, 7820, 4307, 6481, 6922, 630, 5696, 2653, 4696, 5070, 5783, 481, 6934, 2461, 8036, 7640, 1044, 789, 5341, 6263, 2094, 1233, 3791, 887, 3668, 4586, 3689, 5949, 4471, 709, 5645, 1075, 6254, 158, 2379, 2453, 3737, 4142, 7136, 980, 4069, 488, 847, 6842, 6948, 5636, 6930, 5045, 960, 2921, 3292, 3835, 5201, 6172, 5182, 843, 4801, 7744, 2522, 8106, 1854, 6592, 5056, 646, 7423, 4149, 8218, 2559, 6196, 4589, 1082, 611, 1376, 440, 3269, 4201, 7444, 6276, 383, 297, 3558, 1159, 4346, 6264, 6353, 7243, 2639, 4236, 8251, 6635, 2088, 3038, 1260, 2185, 7714, 259, 6816, 2009, 5178, 8341, 4785, 7337, 4171, 1473, 3986, 4982, 5685, 1798, 5451, 6743, 2105, 7093, 1944, 7596, 6776, 7562, 4775, 5894, 5780, 4847, 3579, 6431, 5325, 3968, 2622, 3914, 6458, 5554, 3981, 5034, 4937, 2711, 5576, 3633, 1209, 7812, 5852, 186, 1228, 3044, 6506, 6716, 5155, 3252, 7121, 7707, 7538, 4158, 1269, 6590, 5834, 339, 8421, 3193, 4018, 2565, 6600, 2182, 5004, 1293, 1603, 7224, 79, 5138, 6619, 2758, 5163, 5307, 2593, 1811, 1064, 5808, 7895, 1080, 541, 6384, 6470, 4941, 4004, 7176, 749, 6171, 2176, 3104, 2164, 3409, 6188, 5715, 2989, 4500, 567, 4956, 5521, 7151, 7324, 4838, 4291, 3133, 8153, 4786, 220, 7290, 5052, 1882, 8478, 1637, 6318, 6125, 5285, 4948, 8283, 8471, 5710, 7425, 7793, 7917, 5667, 3438, 4025, 3353, 2191, 4429, 5179, 1239, 8359, 2435, 3685, 2054, 1794, 5781, 880, 1904, 6949, 722, 502, 5091, 52, 3281, 4266, 7338, 1946, 4597, 2240, 1268, 6872, 2520, 6643, 4400, 8255, 2091, 1964, 7576, 3066, 7918, 4718, 1801, 5226, 1041, 8522, 6931, 558, 2695, 6056, 622, 5744, 4427, 1403, 8458, 1525, 593, 7845, 2505, 3322, 8531, 2330, 137, 5535, 4484, 7180, 5585, 6745, 6088, 3175, 2880, 3610, 8031, 5421, 3872, 4032, 6107, 7972, 319, 1232, 3681, 6763, 2586, 8468, 6354, 1073, 2243, 8140, 4853, 2424, 1567, 2749, 8535, 7001, 2162, 3176, 5221, 2195, 6236, 6045, 2503, 6681, 7129, 7696, 4806, 5677, 7154, 5812, 8072, 3461, 3937, 4698, 8495, 1488, 1531, 4095, 2207, 278, 4528, 2516, 1729, 8455, 7407, 1530, 379, 3336, 930, 663, 6190, 245, 8264, 2602, 5143, 2169, 2145, 7966, 8154, 3206, 2513, 8003, 5714, 6357, 7230, 3344, 4855, 4378, 5520, 7496, 6248, 1736, 1317, 4326, 8123, 3830, 1641, 2295, 5449, 2184, 5269, 635, 8276, 7428, 8231, 5276, 4304, 8382, 8055, 2406, 2724, 4033, 6394, 5019, 8197, 2552, 2073, 5237, 2374, 6799, 2940, 7076, 2294, 8442, 6901, 7890, 5181, 686, 2799, 1695, 3524, 7785, 3862, 8178, 3112, 3332, 1078, 675, 7382, 321, 2202, 3259, 164, 3288, 7300, 1972, 2635, 7427, 8433, 1941, 2775, 501, 3034, 5650, 713, 2269, 2128, 166, 3999, 6055, 227, 7391, 8040, 7252, 538, 5640, 3958, 7622, 4760, 4682, 6140, 7673, 4278, 551, 4946, 4639, 8428, 994, 4372, 95, 2380, 2043, 1937, 6770, 1003, 6926, 6489, 1046, 6856, 3229, 3063, 5688, 5552, 642, 6255, 7891, 2048, 7825, 6824, 2542, 5954, 8204, 5164, 7705, 5101, 7906, 4687, 4782, 5170, 6227, 5842, 5082, 2748, 2122, 3048, 3765, 473, 2267, 5917, 2362, 8319, 4015, 7956, 3183, 7692, 5314, 5496, 3602, 2223, 143, 4668, 1070, 3135, 6988, 5124, 2016, 1448, 4827, 2740, 6430, 1782, 5597, 4758, 5238, 934, 7950, 1605, 6379, 4431, 3323, 3845, 4854, 4563, 2495, 5440, 3047, 5505, 7178, 1008, 2988, 3234, 7234, 8466, 73, 1363, 2769, 2702, 263, 7644, 4117, 8265, 6471, 2904, 2820, 8219, 7373, 4048, 3951, 5567, 8275, 8139, 7865, 2528, 6219, 5611, 4531, 7967, 7169, 2836, 6640, 446, 4881, 2978, 5720, 6548, 5228, 6994, 3126, 5148, 1916, 7836, 7827, 2444, 1599, 1633, 8246, 5749, 3856, 4931, 1638, 4839, 6747, 1334, 1113, 441, 168, 4537, 2753, 1108, 4399, 6777, 938, 6334, 1889, 4980, 1227, 2995, 71, 656, 8183, 6733, 3213, 6428, 3684, 6424, 6655, 6308, 3503, 5311, 6132, 195, 374, 7429, 8129, 3064, 7768, 2274, 5007, 5167, 4598, 7333, 2284, 2147, 2783, 5899, 712, 6511, 2930, 6685, 7071, 3606, 2085, 1842, 2177, 3073, 4689, 5525, 4715, 6768, 6199, 1504, 2525, 2233, 738, 5129, 7789, 1137, 1557, 4774, 5329, 1716, 1328, 1934, 6262, 4315, 6554, 5089, 5015, 388, 3940, 7397, 4656, 6377, 6087, 4548, 6628, 6128, 3033, 179, 1956, 1430, 5811, 2645, 814, 2067, 6082, 7933, 781, 6993, 1251, 4208, 8290, 7049, 4339, 4135, 589, 4251, 1997, 969, 7280, 2981, 3130, 386, 4348, 1758, 5183, 5106, 4840, 3341, 1015, 231, 4910, 1128, 4136, 7455, 7010, 1673, 2100, 7706, 4561, 8444, 4694, 1456, 429, 6736, 6813, 1867, 5988, 7743, 5105, 6392, 2578, 7411, 7550, 4802, 3583, 3745, 8355, 35, 1875, 645, 4483, 2255, 7769, 2000, 335, 3781, 5327, 7498, 7552, 530, 5192, 3283, 7473, 3233, 3847, 8453, 5933, 106, 7549, 6150, 4503, 6217, 6550, 3435, 2698, 4897, 2474, 597, 175, 8189, 6507, 244, 4388, 5941, 456, 1458, 5133, 83, 5564, 140, 5414, 2687, 4608, 3855, 7487, 5342, 891, 831, 574, 3525, 7201, 924, 4104, 6562, 3087, 6546, 7460, 2891, 8081, 3277, 384, 1712, 7242, 2865, 1351, 6380, 2361, 4609, 3919, 4479, 5376, 311, 3927, 7394, 5196, 2440, 3300, 1752, 517, 7125, 7652, 7877, 391, 425, 2329, 2457, 2928, 127, 248, 3374, 6463, 7109, 6936, 6641, 2998, 2228, 5184, 3211, 4129, 6108, 2101, 7040, 528, 1709, 5391, 7488, 4145, 3944, 5051, 3418, 2969, 8202, 5998, 2331, 210, 7302, 7228, 3548, 568, 2564, 3973, 3238, 8148, 8030, 1241, 7720, 6025, 4473, 805, 7299, 29, 3173, 3000, 6312, 362, 1244, 2543, 1653, 4128, 8210, 4997, 6049, 3199, 7970, 7774, 5483, 6620, 5206, 7575, 226, 6485, 2886, 7723, 1404, 6158, 5713, 2264, 998, 8238, 2588, 5906, 1254, 1099, 7008, 628, 8234, 1031, 8212, 2062, 6527, 3402, 6684, 4904, 3310, 2204, 4156, 3235, 8032, 4151, 5289, 681, 4260, 506, 1001, 3037, 2507, 6531, 6116, 5100, 7630, 6989, 7800, 4955, 3286, 2646, 2713, 2617, 2486, 1617, 7883, 4141, 1759, 3509, 5348, 4462, 7952, 2060, 6852, 3803, 1191, 5213, 3607, 4055, 1561, 4748, 8338, 2954, 5760, 330, 7534, 190, 6019, 5379, 778, 3972, 1492, 5371, 999, 5706, 6726, 8203, 4452, 6784, 6189, 7817, 6678, 8192, 3480, 6261, 1713, 1537, 2894, 1021, 7532, 4022, 1728, 1154, 888, 5377, 3922, 1990, 2870, 6637, 3664, 3746, 2868, 4971, 6748, 3709, 4441, 2320, 3790, 6206, 7095, 2011, 4305, 4695, 2972, 6080, 7438, 2825, 5961, 2913, 5122, 5835, 7729, 6955, 4374, 6002, 1230, 1539, 7680, 63, 2677, 1460, 4319, 8015, 1772, 6889, 7961, 8434, 187, 7416, 4883, 5574, 4389, 997, 8023, 1037, 5580, 8305, 3493, 7551, 2568, 7668, 8289, 1560, 6324, 809, 8105, 8425, 4521, 4418, 7831, 2716, 7172, 8051, 6382, 3560, 4016, 2173, 7815, 756, 2720, 3912, 5369, 8046, 7974, 6975, 5316, 2066, 3139, 5049, 2347, 5069, 5365, 2298, 7124, 5161, 3797, 7935, 5718, 4770, 2647, 402, 7656, 3712, 6281, 5561, 3933, 6453, 7331, 5120, 3948, 641, 5876, 5569, 50, 3792, 4269, 4472, 3974, 5271, 25, 3384, 3998, 3089, 4224, 4406, 8244, 5557, 443, 2738, 3522, 7491, 6072, 6081, 4459, 3083, 4527, 825, 1967, 4576, 5866, 1957, 4044, 3009, 484, 4233, 7409, 7283, 7502, 2076, 7039, 6512, 2087, 4222, 7004, 7907, 742, 16, 542, 964, 2875, 7363, 5169, 3755, 5573, 3368, 3733, 413, 273, 605, 1620, 8381, 4550, 8365, 474, 2151, 304, 1660, 2583, 3194, 6078, 2681, 580, 2370, 2455, 1505, 7803, 7765, 3743, 1358, 4461, 8532, 2850, 5945, 5981, 7912, 7114, 4416, 8329, 3640, 3239, 2861, 1263, 4193, 5060, 5222, 8331, 6737, 3328, 6434, 2049, 5965, 4391, 2238, 4993, 5626, 4942, 4793, 7293, 7857, 2819, 4861, 1543, 820, 1176, 2701, 2789, 4975, 3599, 6240, 7643, 390, 355, 6040, 691, 6581, 2098, 2881, 4417, 7579, 1644, 1375, 6288, 6876, 6389, 2078, 5188, 1068, 2355, 4013, 3185, 6958, 1973, 1069, 5393, 6782, 4303, 5097, 6399, 7637, 3695, 1896, 4860, 3282, 2973, 115, 5633, 6091, 5698, 8336, 6610, 5383, 105, 8496, 8124, 1822, 4817, 3983, 2492, 2625, 5466, 5095, 4001, 1463, 982, 5769, 1048, 718, 3576, 5927, 1661, 4194, 2975, 2728, 7784, 5543, 1309, 4243, 6899, 375, 1097, 1510, 1045, 2134, 1361, 3717, 1322, 3967, 2950, 8037, 6834, 4067, 6454, 2752, 4293, 2917, 4943, 2136, 1971, 7733, 8370, 670, 3219, 75, 5619, 7244, 4685, 280, 7953, 6302, 1529, 1576, 2741, 2993, 5657, 2958, 3329, 3880, 1691, 4809, 6137, 3647, 2704, 2433, 5347, 2592, 4645, 7813, 1634, 6221, 8133, 4444, 2574, 6589, 3264, 3352, 7987, 7315, 6443, 3019, 6778, 6903, 205, 4285, 2575, 2259, 3549, 2437, 2454, 1526, 5991, 8463, 5615, 4086, 540, 212, 4524, 6708, 3688, 503, 8109, 7395, 4121, 3545, 2778, 2502, 6566, 369, 6395, 898, 6438, 7808, 2884, 6812, 2315, 5117, 8268, 7951, 7539, 2919, 6162, 3020, 5609, 736, 1686, 5197, 1313, 6244, 2213, 791, 4858, 7319, 5059, 445, 3291, 7030, 2549, 6003, 4898, 4265, 5935, 7377, 6086, 4725, 6914, 1280, 120, 8256, 4504, 5146, 1342, 7504, 3925, 165, 3863, 6759, 2365, 6700, 5032, 753, 7345, 8286, 638, 324, 2664, 7037, 5463, 8260, 1715, 421, 4918, 6631, 5758, 5964, 2028, 5016, 2866, 4542, 7182, 5878, 5003, 6036, 4407, 4545, 1167, 8182, 6145, 4667, 1892, 8337, 1312, 3481, 303, 5587, 6599, 8237, 3805, 4960, 7254, 4115, 2680, 4340, 2605, 8518, 785, 3507, 3289, 624, 6755, 2829, 5958, 7948, 5598, 4220, 8120, 1110, 4157, 7221, 3443, 5902, 1177, 5294, 4075, 6231, 5071, 5401, 6779, 3327, 3725, 4299, 3727, 3256, 7297, 685, 2823, 1815, 895, 4369, 2839, 6734, 1420, 906, 514, 4978, 986, 3553, 8477, 6953, 1993, 8118, 3854, 1588, 1205, 7509, 3055, 7342, 1735, 89, 3393, 2407, 1574, 2465, 6298, 8488, 1283, 1533, 8090, 1558, 8506, 4512, 5054, 8233, 8500, 8391, 1534, 5422, 7695, 6268, 7609, 8325, 744, 6033, 7511, 119, 3904, 2751, 2416, 121, 6536, 3513, 4835, 1817, 7851, 7524, 6564, 2364, 2373, 7168, 3895, 3214, 7204, 1536, 288, 6122, 754, 350, 6720, 3901, 3203, 8422, 8298, 1852, 4216, 5931, 3804, 632, 2725, 4353, 6579, 449, 8313, 4573, 3900, 7320, 3128, 965, 658, 88, 5979, 1928, 5646, 3, 7081, 472, 606, 8414, 8242, 3572, 2648, 2523, 6007, 5588, 3313, 5542, 7348, 2368, 6375, 5001, 6789, 6034, 6630, 2288, 3926, 6496, 2135, 7854, 8141, 5116, 6860, 4924, 3671, 5589, 1118, 5854, 7544, 8263, 8529, 3697, 4019, 8342, 6551, 6325, 4351, 1793, 110, 4345, 4974, 6675, 6473, 3426, 403, 4895, 7408, 1340, 7486, 5093, 7923, 3851, 7612, 6333, 2227, 5162, 794, 1321, 2703, 7048, 4874, 5724, 3062, 5814, 4506, 4742, 3504, 5686, 6601, 6209, 573, 5939, 4636, 5098, 8375, 5370, 5407, 3155, 4352, 4869, 7126, 4551, 7704, 1726, 5798, 2587, 1838, 2960, 4253, 8064, 2743, 1833, 2030, 6119, 3265, 6304, 4985, 5263, 4849, 3491, 720, 3376, 7801, 3027, 2790, 7872, 1702, 5621, 4087, 3660, 3910, 4614, 4509, 7367, 6149, 1464, 4518, 3439, 3584, 8199, 4621, 8472, 963, 2096, 910, 2768, 5225, 7448, 6563, 1011, 5943, 4875, 7329, 2245, 1369, 4972, 7192, 8493, 2209, 3598, 6888, 469, 156, 268, 4401, 6346, 3122, 28, 6660, 7052, 1217, 4090, 4739, 7115, 2305, 1121, 8332, 4089, 6650, 845, 2923, 3580, 1497, 1613, 7848, 5503, 5366, 2081, 2889, 3188, 3916, 3490, 4420, 3403, 990, 3116, 1295, 2353, 7400, 2234, 6220, 7227, 7563, 7988, 4724, 2366, 1223, 1122, 3616, 4480, 5431, 4215, 1826, 2211, 1859, 5190, 6533, 4969, 7449, 4240, 3517, 672, 1179, 1465, 2112, 4823, 3150, 5845, 4795, 4308, 869, 5970, 4995, 4270, 2218, 5282, 2017, 3731, 7231, 679, 1895, 4166, 7763, 1607, 8538, 6071, 7277, 952, 1857, 7369, 1461, 3686, 3993, 2237, 5575, 5750, 6591, 8519, 7442, 5887, 382, 6287, 4761, 2241, 7497, 3465, 6009, 5404, 6341, 198, 6112, 4996, 3152, 2414, 8465, 5241, 2612, 1627, 4007, 1314, 3928, 721, 2046, 2083, 3546, 4433, 4138, 6015, 6524, 2649, 2750, 732, 8079, 3028, 1161, 7580, 3942, 3582, 8043, 5663, 2791, 2261, 8402, 7245, 5817, 1522, 6369, 6919, 5676, 4733, 4343, 3262, 2669, 1324, 7998, 607, 60, 3518, 1642, 8050, 7838, 5655, 6360, 5978, 5862, 5461, 6510, 1751, 902, 4547, 6772, 4764, 631, 5910, 4791, 3076, 1308, 5697, 5352, 8093, 3271, 655, 901, 1834, 5334, 6118, 4611, 1888, 879, 68, 7543, 4973, 1940, 1423, 5560, 126, 7738, 5612, 5759, 3918, 8025, 102, 6851, 2933, 1757, 8501, 6897, 6234, 2529, 5925, 1320, 5308, 554, 492, 652, 4872, 5532, 2308, 3512, 2511, 5315, 448, 4912, 7968, 1152, 6682, 7822, 1201, 3299, 5010, 6928, 4707, 5121, 4708, 770, 1226, 6898, 7725, 6982, 6270, 4915, 8056, 2312, 7051, 7269, 802, 2089, 4445, 5250, 1214, 370, 5005, 3390, 3050, 6113, 6445, 5581, 2270, 4438, 206, 5613, 2321, 5867, 2131, 4532, 5591, 4395, 7949, 470, 3959, 215, 806, 8272, 5073, 4394, 2834, 8098, 1604, 6843, 2491, 6710, 2747, 341, 3970, 1278, 4412, 2872, 4755, 7065, 2766, 3748, 3816, 4601, 2735, 423, 6114, 255, 1787, 515, 5741, 7846, 8420, 3775, 6629, 2303, 6552, 1761, 5000, 7926, 2387, 3734, 8306, 4954, 2337, 6075, 5983, 4027, 8113, 6665, 3474, 6343, 6307, 4619, 4797, 7236, 5566, 3118, 3085, 1143, 3924, 7011, 2348, 6853, 6976, 2517, 6393, 5312, 1475, 852, 7761, 7197, 3511, 5995, 5504, 4357, 2876, 4964, 5901, 2914, 1332, 5157, 3463, 7214, 32, 5668, 2709, 5772, 3107, 782, 7005, 584, 3070, 957, 2342, 4073, 4435, 7884, 5024, 4660, 5895, 6756, 8254, 7687, 8075, 4737, 7060, 204, 5974, 7354, 4272, 3466, 2354, 6947, 4599, 961, 2932, 4617, 5743, 3117, 2705, 5284, 1120, 1030, 5555, 4815, 407, 8527, 7351, 1394, 1624, 4057, 8513, 2817, 6283, 510, 2803, 4539, 7893, 807, 145, 5373, 1066, 1900, 5850, 4833, 5928, 107, 4181, 6020, 1503, 7183, 1954, 5444, 2953, 8322, 1925, 1249, 8004, 6670, 3564, 5606, 7623, 3793, 455, 6557, 1855, 711, 3537, 7638, 4612, 650, 6539, 8542, 3873, 7947, 2916, 956, 6275, 7657, 6642, 5810, 752, 7567, 2915, 2468, 612, 7479, 5048, 5846, 6286, 950, 7710, 4768, 146, 7350, 6909, 1720, 6013, 1382, 2530, 4333, 3421, 1085, 6990, 8149, 4040, 2346, 1291, 7379, 2800, 4842, 7913, 1058, 8271, 5309, 4870, 7584, 7755, 1886, 6069, 4908, 6849, 1496, 7288, 2902, 5578, 2429, 2641, 6223, 6383, 6924, 5412, 2773, 1743, 1520, 1711, 7441, 6905, 7111, 1362, 2573, 5305, 4322, 6969, 8515, 1806, 7474, 2426, 2638, 6775, 1563, 8278, 7366, 7631, 4885, 8228, 495, 6584, 6785, 4099, 289, 1409, 7745, 1953, 4282, 173, 6549, 984, 5223, 5251, 3496, 4826, 3864, 8, 5946, 560, 5712, 3950, 1210, 3802, 6414, 6999, 7499, 7375, 1663, 3568, 5642, 5042, 3121, 4843, 1891, 1996, 4603, 4935, 1160, 4325, 209, 1378, 6572, 8026, 1440, 1397, 1493, 7424, 1131, 1072, 1983, 7074, 555, 1098, 6449, 5701, 5577, 5879, 8241, 2467, 6110, 8480, 1963, 1285, 4102, 3375, 4647, 7000, 3630, 6956, 214, 1084, 5661, 2659, 3826, 3747, 4713, 5096, 6029, 5735, 7241, 6613, 3544, 7919, 4731, 1622, 1578, 4442, 2040, 525, 3554, 1428, 3645, 8318, 5889, 8061, 1802, 750, 8033, 8205, 3947, 2662, 1585, 5813, 4298, 2616, 7358, 1648, 193, 2460, 1999, 1949, 3796, 3586, 2458, 5248, 5484, 5459, 3673, 1203, 4559, 7570, 6962, 1998, 8386, 1413, 8473, 56, 1133, 3321, 7362, 3646, 4061, 559, 5751, 5823, 7325, 8441, 4894, 1077, 946, 4437, 4684, 8327, 2628, 6792, 1452, 2253, 7268, 966, 6826, 4690, 1742, 8048, 6098, 5493, 3766, 3629, 482, 4082, 1929, 1884, 5549, 3311, 1299, 3934, 222, 2157, 2118, 7286, 2170, 4637, 4279, 3674, 2949, 1914, 5962, 7676, 3581, 2065, 2230, 2637, 5088, 8291, 5280, 4384, 113, 6381, 2531, 1776, 5368, 5021, 2739, 1667, 6517, 892, 5672, 6396, 562, 5510, 5752, 7047, 4829, 786, 4320, 3893, 3241, 1681, 3714, 22, 8122, 6074, 8411, 571, 3962, 2310, 5002, 5722, 4820, 7510, 1053, 1242, 2580, 2674, 664, 364, 3825, 4147, 5072, 287, 5858, 199, 3868, 1360, 8310, 8006, 3538, 5614, 7505, 90, 4796, 58, 7591, 4167, 1692, 4921, 4068, 4678, 3266, 236, 4900, 3166, 8353, 6791, 7196, 6691, 6810, 751, 7203, 6615, 5980, 6157, 2822, 671, 5290, 6567, 7881, 4332, 876, 3316, 8435, 7184, 5849, 7335, 7959, 7805, 2510, 2606, 7978, 5210, 2871, 1746, 312, 6117, 4944, 1976, 4212, 7554, 4856, 1449, 7098, 3770, 8475, 6657, 3878, 8378, 5198, 674, 983, 6348, 3594, 1419, 8236, 6017, 8301, 8068, 1411, 7661, 5043, 286, 1029, 4629, 2984, 2717, 3220, 995, 7278, 6672, 3010, 5791, 7914, 6405, 5765, 5356, 6156, 3333, 499, 699, 6207, 8510, 7716, 6004, 6593, 8082, 2974, 5416, 6957, 5487, 5856, 6440, 5191, 697, 7582, 3988, 6246, 4076, 3531, 4543, 5479, 8100, 7327, 2939, 3750, 5286, 4359, 2404, 2344, 2553, 1162, 3752, 8172, 296, 3436, 2332, 7080, 2636, 92, 2236, 5707, 7102, 5390, 7167, 933, 890, 5137, 3136, 8534, 6992, 5340, 7931, 4093, 1731, 7585, 8358, 2927, 111, 7889, 3954, 5859, 3222, 3883, 5418, 7216, 1775, 6702, 8193, 4498, 5702, 513, 7866, 2419, 5135, 4316, 3142, 4903, 1198, 6906, 1647, 2627, 2691, 6668, 2493, 976, 3759, 8396, 3699, 2882, 7752, 8186, 2248, 4616, 496, 3917, 594, 8521, 4180, 5128, 4387, 1212, 6689, 5194, 5008, 7599, 544, 6126, 7122, 7880, 4515, 5565, 6515, 2396, 8507, 2036, 18, 3394, 926, 8110, 7602, 4692, 3367, 1917, 6169, 1835, 6468, 2985, 4060, 1696, 1336, 196, 7264, 3159, 3387, 4623, 108, 4778, 4381, 1367, 7099, 430, 6224, 7781, 5429, 2909, 1476, 2181, 7443, 5893, 8366, 1455, 1512, 7555, 7079, 3246, 6245, 336, 8267, 839, 6521, 3823, 4992, 6008, 4198, 1173, 334, 2127, 7992, 5529, 1690, 5058, 5840, 3216, 1412, 1032, 1915, 4729, 6163, 5953, 7365, 4590, 8345, 570, 6456, 4522, 7220, 849, 5099, 621, 7746, 3399, 7265, 8224, 8285, 7402, 2534, 1102, 4386, 250, 2908, 8343, 2959, 6068, 7870, 2382, 4741, 7500, 1705, 2786, 7022, 7279, 5924, 155, 7821, 101, 1481, 7343, 8419, 3716, 7147, 6152, 1009, 4207, 5403, 6313, 3692, 2554, 353, 6059, 5272, 2814, 4825, 4230, 1698, 4045, 3182, 1022, 7577, 1417, 3016, 4024, 4706, 6788, 2080, 4188, 5723, 7466, 2966, 798, 7699, 4779, 7317, 2563, 1744, 7669, 5381, 326, 1575, 7910, 3170, 3098, 4567, 130, 6560, 7253, 6437, 5275, 4065, 6652, 152, 5836, 2012, 4302, 1337, 408, 5333, 1830, 7787, 5647, 3710, 1123, 7251, 5779, 5528, 5173, 6780, 882, 7606, 7517, 4892, 7434, 3386, 8159, 5717, 4108, 2377, 7737, 1966, 1076, 520, 8390, 6457, 3652, 3945, 6412, 2229, 3080, 7029, 8388, 7103, 6883, 4403, 1482, 3574, 2660, 5278, 2246, 1002, 1307, 5435, 5142, 3521, 3184, 2077, 3153, 6079, 4976, 1514, 2494, 5457, 871, 3980, 7592, 318, 7153, 5037, 5481, 5690, 4214, 662, 8415, 4012, 5537, 490, 6594, 3952, 4641, 6115, 2863, 3995, 3242, 5763, 4334, 4780, 3810, 7679, 4890, 6765, 3280, 4423, 609, 6944, 5126, 1115, 2084, 1866, 3297, 6386, 988, 8347, 1675, 595, 1129, 5067, 8528, 603, 6478, 6148, 6568, 1390, 5176, 5694, 3450, 7401, 7170, 8299, 1391, 7929, 7717, 1040, 2163, 377, 1132, 1175, 8449, 1856, 1257, 6974, 7944, 5324, 1635, 315, 1200, 4235, 1106, 4720, 7490, 5065, 5916, 6493, 8089, 1194, 6688, 2901, 1982, 7921, 84, 5994, 4957, 256, 6769, 6522, 2004, 6516, 5050, 444, 3178, 8451, 1024, 4686, 5079, 4364, 7082, 1581, 8185, 7285, 6582, 1814, 7002, 2116, 3627, 4602, 5627, 283, 86, 4252, 6611, 5035, 2192, 3315, 8027, 435, 7056, 6841, 3550, 2987, 7457, 1845, 5524, 7160, 2571, 3060, 2874, 3169, 6024, 3337, 1920, 11, 710, 7240, 7639, 8057, 3570, 3894, 6195, 3498, 7361, 4538, 2899, 7492, 2286, 2394, 426, 3096, 914, 258, 1353, 4977, 8362, 4264, 1598, 8167, 3011, 7173, 6041, 4164, 913, 883, 7213, 5139, 837, 5310, 8489, 5077, 3395, 6865, 8103, 338, 4658, 5476, 5947, 3866, 2156, 8171, 6862, 7104, 8097, 3815, 588, 6267, 854, 6213, 4926, 7742, 7708, 6706, 6950, 3285, 4415, 6606, 4292, 777, 1333, 2760, 2095, 5245, 7262, 3361, 292, 2333, 4665, 6861, 477, 5786, 98, 3887, 7540, 5419, 8533, 2965, 2385, 8508, 5109, 486, 2727, 5679, 4878, 7672, 6715, 1083, 2266, 4630, 5339, 185, 2456, 1548, 5623, 7217, 4745, 366, 5464, 6315, 2047, 2937, 8187, 853, 4939, 7847, 3514, 563, 5855, 3041, 1186, 2862, 6902, 6829, 5987, 8317, 290, 7844, 3655, 1484, 733, 8281, 7247, 7601, 5323, 6465, 51, 2104, 4520, 1469, 3287, 657, 176, 7976, 5439, 4911, 7620, 1399, 7059, 4383, 8492, 6474, 7589, 1477, 6146, 4556, 7900, 6721, 7035, 2381, 7909, 6991, 3388, 7149, 5644, 4552, 3056, 6676, 3446, 2577, 6026, 7651, 2742, 8491, 678, 2943, 8152, 5541, 2925, 432, 2058, 6160, 1020, 3308, 3486, 1912, 5734, 2858, 757, 6001, 872, 3006, 340, 4794, 4510, 6089, 7284, 5274, 4688, 453, 4852, 2853, 6707, 5166, 8146, 539, 1618, 696, 4355, 533, 3966, 6509, 1139, 550, 6052, 6368, 6153, 3428, 6879, 4754, 2934, 4066, 3138, 7594, 3936, 4323, 3002, 2314, 8408, 3960, 870, 977, 1625, 7384, 2343, 4209, 2792, 422, 2304, 5844, 7647, 8211, 2152, 7033, 2986, 5477, 6964, 5498, 4031, 1243, 2397, 690, 1952, 1266, 841, 3949, 5452, 3140, 2398, 1354, 1273, 2545, 3592, 3236, 8239, 6805, 8208, 2352, 5898, 5313, 4789, 1406, 182, 5428, 5886, 7270, 6754, 4582, 3358, 1114, 874, 4058, 1318, 2851, 1281, 7023, 1858, 7995, 4287, 55, 5803, 1288, 5519, 1700, 5727, 7140, 7937, 1105, 8387, 735, 687, 3472, 3191, 4792, 1555, 475, 3920, 3577, 1261, 203, 5950, 7561, 194, 3738, 5971, 1770, 3984, 1187, 1546, 8180, 6907, 7691, 3420, 4365, 8309, 4152, 660, 3221, 7171, 7250, 7238, 8460, 4064, 5509, 3487, 281, 4530, 5553, 3373, 8432, 8235, 3590, 5017, 7477, 6299, 3798, 2524, 5649, 4812, 2042, 1088, 4221, 7292, 7600, 6290, 1151, 3754, 2560, 5900, 4277, 4747, 702, 5874, 6933, 2107, 3100, 8293, 1144, 927, 1195, 4280, 4313, 1978, 3065, 3677, 8277, 3658, 637, 2428, 1019, 3335, 4244, 174, 1945, 7370, 5599, 6740, 1240, 2900, 7783, 5896, 1903, 7072, 6940, 8470, 4218, 2345, 6322, 2785, 272, 6697, 202, 1202, 82, 2500, 828, 8088, 7141, 7833, 8054, 8448, 529, 5040, 3105, 6425, 3905, 6896, 3404, 7207, 5990, 7323, 1570, 5131, 6144, 3611, 1311, 5326, 7209, 128, 284, 857, 2696, 7078, 5506, 4281, 4554, 834, 6627, 8413, 6365, 731, 2160, 1840, 3273, 6043, 4722, 7711, 1155, 1979, 5959, 7973, 5203, 4963, 3535, 987, 1164, 4410, 2945, 8486, 7767, 717, 2759, 2285, 8509, 1669, 4476, 5762, 1224, 2412, 397, 7249, 2139, 2292, 5508, 2736, 2561, 1844, 7807, 7916, 9, 4496, 392, 6337, 3030, 833, 6603, 240, 1168, 7590, 5219, 7328, 1253, 2815, 2601, 1657, 5165, 1065, 8524, 5239, 2652, 7272, 2860, 3628, 1593, 1432, 46, 8303, 1211, 8312, 4123, 1931, 452, 5011, 1150, 6452, 8085, 5921, 5579, 5654, 668, 2671, 252, 3885, 4790, 6802, 1608, 4986, 2350, 3042, 547, 8042, 2203, 6894, 2903, 970, 8443, 6920, 3460, 5977, 5930, 31, 494, 6083, 5172, 1865, 2519, 2198, 1216, 919, 4862, 7062, 7982, 7352, 2665, 4172, 8058, 3890, 1071, 7896, 6178, 4750, 3505, 3780, 3978, 6797, 1468, 4000, 6139, 915, 5018, 5494, 2268, 279, 3385, 295, 5232, 7100, 7312, 7208, 399, 254, 7050, 7223, 6130, 5517, 1383, 985, 37, 2070, 405, 1206, 3253, 8080, 6649, 3943, 4605, 8044, 4310, 293, 6617, 1193, 6800, 6418, 4990, 2952, 183, 3622, 5775, 6050, 5819, 3442, 3932, 6695, 5705, 1568, 2082, 5729, 7212, 4622, 1517, 1699, 1646, 1165, 2689, 4998, 6410, 7298, 581, 3078, 2450, 6821, 5424, 6703, 2754, 5766, 4097, 3464, 6638, 6067, 2898, 5796, 929, 1459, 7113, 7118, 5721, 3433, 6106, 6917, 13, 1386, 5883, 768, 7275, 3957, 8517, 485, 4752, 7664, 2478, 5790, 1138, 4744, 8340, 8294, 357, 1042, 2603, 6047, 549, 2378, 7843, 6373, 6981, 1799, 6010, 3090, 2630, 2864, 7523, 695, 3427, 7417, 769, 5944, 2666, 3423, 4959, 6347, 2655, 8128, 2056, 4544, 7525, 4709, 3634, 8168, 795, 2299, 6890, 5540, 6925, 6576, 1863, 6578, 4659, 1676, 801, 6505, 3330, 4133, 4625, 4488, 1271, 6243, 6621, 8445, 5926, 5171, 4502, 3740, 1147, 1628, 1377, 1094, 8069, 4409, 745, 2434, 5, 465, 6503, 493, 7353, 3180, 4017, 5336, 714, 1740, 6077, 6663, 6634, 5746, 7541, 2539, 6326, 4350, 2279, 5261, 2319, 4083, 2490, 3293, 1665, 3400, 508, 230, 2845, 6912, 54, 7211, 387, 5044, 7410, 1841, 2895, 2389, 5637, 363, 5748, 2708, 3703, 7760, 2544, 8035, 3977, 3595, 2827, 2311, 59, 8505, 7776, 4091, 7393, 233, 846, 813, 3691, 3813, 3923, 7553, 5144, 2123, 4039, 5408, 5230, 812, 2983, 557, 5536, 2679, 4443, 859, 2793, 6504, 7073, 3054, 7593, 7194, 2471, 939, 6269, 7983, 491, 4119, 7989, 76, 974, 3224, 5534, 3151, 665, 2033, 764, 7537, 3261, 3218, 1156, 5719, 4451, 2296, 1780, 7357, 7018, 1166, 2059, 3532, 148, 2477, 7962, 5076, 2324, 7581, 1079, 5538, 7451, 2217, 5012, 3362, 451, 5423, 5608, 5491, 850, 5630, 1218, 1506, 7922, 937, 2289, 7862, 7990, 2110, 8321, 3520, 1754, 973, 3295, 497, 3052, 360, 2258, 2092, 4566, 5363, 433, 5262, 8011, 208, 3093, 1800, 6420, 8009, 566, 1768, 3561, 7426, 5215, 1470, 7887, 2108, 1247, 894, 3257, 8135, 6433, 4288, 4560, 6705, 7465, 3795, 6191, 2893, 2535, 5362, 3672, 4787, 2254, 4295, 4940, 4930, 4241, 523, 8297, 561, 8114, 6397, 1379, 7019, 4783, 8398, 2275, 4393, 2844, 6679, 7007, 3294, 1234, 5583, 7133, 1467, 327, 5804, 3484, 7219, 1662, 519, 2093, 7266, 6101, 7955, 8008, 5877, 1579, 7381, 6633, 5586, 7205, 5357, 6583, 694, 8490, 1722, 6378, 3101, 4109, 3378, 368, 8223, 7467, 2106, 7462, 1431, 2558, 949, 648, 1374, 4469, 2620, 1296, 7155, 7318, 7506, 2155, 5291, 1791, 2832, 6417, 4932, 134, 8207, 7796, 7472, 6257, 5595, 856, 1629, 4863, 2150, 5152, 5134, 6366, 3174, 3707, 3623, 2556, 6490, 4373, 2777, 5992, 1969, 1049, 7613, 835, 6403, 3969, 1694, 4988, 4257, 509, 3935, 8430, 4043, 5350, 6066, 3562, 4540, 7930, 6781, 5914, 7190, 7902, 1779, 8484, 4411, 5507, 5547, 3429, 4769, 6197, 3896, 7660, 6972, 5774, 7414, 723, 1301, 741, 4535, 5471, 7633, 8039, 3179, 1438, 1989, 3852, 6840, 7598, 8070, 1947, 1250, 5513, 6730, 7094, 7650, 4487, 3502, 7610, 4575, 2854, 4889, 6724, 358, 7747, 4691, 1943, 5985, 1323, 7485, 5742, 7775, 1366, 184, 271, 3875, 7146, 3326, 5268, 301, 4777, 3666, 3659, 954, 6051, 5208, 4074, 5929, 2707, 4615, 5639, 5353, 4728, 912, 4489, 776, 4059, 2109, 439, 354, 201, 3158, 2010, 2879, 1921, 3458, 6875, 3723, 6911, 6577, 1038, 1905, 5733, 5259, 2809, 381, 7189, 218, 5570, 3425, 7376, 4225, 565, 2977, 6032, 6742, 7261, 4934, 7898, 8292, 6547, 591, 2767, 342, 4991, 2130, 2178, 5361, 6664, 7979, 705, 2293, 5217, 6226, 4828, 8142, 7999, 7915, 6073, 7031, 2183, 6741, 3396, 2842, 7055, 6109, 1274, 5235, 7903, 5456, 6037, 7015, 2175, 784, 3871, 3597, 3953, 4111, 7572, 683, 8226, 3778, 5556, 1418, 8096, 4134, 8145, 129, 6946, 4705, 316, 4052, 1988, 291, 3039, 7519, 1101, 3701, 6725, 945, 5410, 2784, 3086, 359, 2506, 5870, 4337, 698, 2826, 4570, 5784, 5297, 3908, 4178, 7308, 6499, 7514, 4312, 1959, 3882, 1140, 5972, 2019, 5395, 39, 1693, 6252, 7700, 1014, 7326, 7875, 3389, 3903, 3267, 7493, 2929, 2023, 7975, 6607, 6416, 1297, 959, 6986, 7020, 1528, 1846, 2425, 2835, 5180, 4536, 701, 2833, 1192, 739, 8379, 5446, 3749, 6790, 6751, 2099, 3363, 4681, 3035, 7174, 692, 5199, 4306, 7730, 7225, 6995, 7611, 7689, 7595, 2795, 7415, 3448, 5602, 8364, 1478, 178, 1832, 7569, 2242, 6349, 4896, 1878, 1050, 5293, 4546, 693, 4562, 2427, 4534, 424, 7924, 3008, 527, 7588, 2438, 8136, 1545, 2313, 5475, 884, 7674, 3192, 7025, 5346, 4766, 6727, 1095, 5231, 1344, 8404, 8344, 8150, 6012, 6303, 6442, 3163, 3827, 5761, 1213, 8059, 5195, 7991, 4430, 6808, 1984, 478, 5656, 6441, 6447, 3719, 3670, 8176, 1632, 2327, 5115, 6938, 7349, 6541, 117, 4105, 3913, 2765, 4014, 189, 893, 8160, 7735, 3145, 6093, 6867, 2125, 2193, 917, 2877, 5330, 7120, 7336, 1262, 7981, 4832, 44, 8526, 5107, 582, 5739, 8102, 4983, 7726, 436, 7304, 6105, 2598, 6193, 78, 2843, 3430, 5240, 1174, 2955, 3231, 5897, 3338, 4037, 5792, 6752, 2262, 7797, 6945, 6459, 7828, 7564, 3051, 5006, 234, 2114, 3475, 6698, 7932, 1577, 7748, 5829, 6289, 1145, 4824, 4324, 5317, 2079, 7904, 2892, 2643, 7274, 615, 6580, 3355, 7144, 516, 3858, 6927, 2359, 2186, 6237, 2149, 6854, 5891, 2618, 4803, 225, 6528, 2447, 5402, 4994, 5247, 2432, 5304, 3783, 2272, 7751, 4286, 7021, 5825, 7814, 6783, 2, 7834, 3721, 2600, 5516, 1918, 6345, 8111, 6654, 4596, 993, 8038, 5797, 2668, 1911, 5265, 2667, 207, 7226, 65, 1664, 7816, 8151, 5562, 7390, 5145, 8165, 4746, 5527, 3724, 4482, 7945, 4674, 3482, 1086, 543, 2024, 6857, 2867, 3334, 3587, 4519, 43, 1392, 2068, 4999, 3454, 923, 3309, 4072, 4580, 6099, 659, 6388, 5495, 7387, 6916, 5788, 1804, 5025, 1364, 8417, 4606, 6817, 7181, 1125, 7235, 229, 6977, 8243, 5399, 114, 1812, 8394, 2746, 2480, 3881, 2489, 3095, 8357, 8407, 7980, 3023, 8181, 867, 2532, 5140, 3156, 4600, 1785, 8459, 6537, 3408, 94, 266, 7316, 5653, 1985, 7119, 8450, 1359, 4196, 4261, 2887, 104, 7447, 5753, 2721, 6796, 7545, 7106, 2325, 2684, 7958, 2120, 2604, 2174, 6214, 617, 4568, 6525, 2910, 6823, 5824, 1756, 8537, 3127, 889, 3340, 8195, 5448, 8416, 3682, 3911, 3696, 1028, 6647, 7934, 7430, 4354, 8020, 1906, 6722, 5632, 3741, 2481, 4604, 5338, 6177, 6659, 585, 5029, 7605, 6282, 8245, 7670, 2439, 200, 6880, 5141, 2776, 7164, 5252, 8279, 5631, 5662, 1111, 7818, 1023, 4497, 3841, 981, 6793, 5863, 2276, 6666, 6492, 3349, 7677, 5777, 4120, 5296, 2220, 4363, 614, 5816, 1864, 4397, 3417, 253, 3821, 8360, 1370, 8130, 6362, 596, 4206, 27, 1264, 3620, 6273, 5047, 4449, 8418, 7635, 6336, 6054, 7548, 6350, 7547, 6284, 4226, 5572, 4836, 1511, 2947, 1190, 6586, 3718, 1181, 5108, 12, 4242, 8446, 3115, 4084, 4672, 673, 6170, 7753, 3227, 3989, 6575, 2812, 468, 2692, 3906, 6680, 625, 1871, 1623, 8094, 454, 4634, 1658, 5355, 6241, 5805, 5453, 4199, 7068, 682, 7546, 6973, 1797, 7560, 7085, 7529, 415, 2737, 3452, 2384, 3077, 2282, 410, 2722, 2816, 5789, 1331, 851, 3251, 6714, 1052, 5081, 70, 7070, 8074, 8437, 972, 2697, 8132, 6111, 6167, 6645, 3431, 2706, 1107, 4202, 623, 5523, 5385, 7655, 3499, 1275, 3836, 2171, 3243, 2878, 3381, 5526, 2624, 302, 2782, 2859, 916, 4657, 2417, 6598, 1043, 7097, 7084, 5430, 6278, 5794, 34, 1229, 804, 2621, 5136, 7422, 992, 4654, 6848, 2920, 8049, 3092, 6963, 6222, 2541, 1677, 8247, 7616, 2172, 8512, 4006, 4205, 1540, 971, 1305, 2297, 4258, 3371, 6542, 1441, 8412, 4213, 8229, 4098, 4101, 7885, 1739, 6639, 1703, 5625, 5022, 5168, 8399, 613, 3516, 8063, 3605, 3356, 7222, 1571, 7014, 5594, 6320, 4234, 761, 3975, 3665, 4131, 133, 30, 6951, 3444, 6585, 5782, 3058, 3307, 4880, 5934, 4581, 2119, 306, 2339, 3025, 4830, 1584, 6374, 6466, 1639, 7841, 626, 4042, 3938, 4666, 434, 920, 3600, 1415, 4049, 8502, 6469, 1272, 6100, 2402, 4928, 1573, 223, 1000, 7403, 2277, 7901, 4127, 1727, 7431, 1524, 5913, 7159, 139, 1580, 5299, 928, 1189, 2715, 7398, 6636, 467, 2061, 3114, 8190, 7127, 1594, 5732, 7013, 6712, 1774, 2283, 462, 6523, 3527, 1730, 4700, 7135, 7471, 4405, 6966, 8138, 7396, 6764, 6497, 8169, 4249, 8249, 2551, 4051, 6773, 2745, 936, 6314, 2847, 5704, 2555, 3764, 5932, 1006, 1188, 521, 3831, 4886, 3483, 7607, 6625, 886, 2194, 476, 1778, 361, 41, 6739, 7091, 6203, 7868, 3683, 1848, 8119, 3902, 4927, 7152, 3074, 6878, 464, 6202, 3877, 1416, 4701, 2328, 1487, 8077, 2199, 5209, 8121, 4047, 5218, 4909, 4273, 3097, 2249, 6429, 1542, 4834, 8397, 4723, 5695, 5216, 1823, 3800, 4368, 5267, 6651, 8125, 5426, 8461, 1373, 6746, 5708, 8369, 5234, 5659, 3124, 4189, 1650, 1853, 2897, 3985, 8091, 627, 962, 715, 4845, 159, 1876, 2873, 96, 8065, 4187, 7420, 4267, 8476, 4807, 3392, 4428, 6187, 2719, 8206, 5465, 2335, 2224, 4646, 8410, 8361, 1883, 1825, 5364, 8348, 6134, 2808, 4951, 5837, 6885, 7826, 1061, 3228, 7608, 5515, 8334, 6408, 7092, 3679, 836, 8157, 7794, 4371, 2075, 4009, 4981, 6996, 774, 4541, 4756, 7996, 109, 5821, 2670, 6667, 3876, 2566, 5501, 4680, 3767, 1486, 1807, 2796, 6131, 7436, 2029, 3662, 7806, 6138, 7419, 26, 1614, 708, 4987, 7459, 427, 3573, 4888, 308, 3485, 1454, 2508, 1284, 3434, 322, 4962, 3990, 3004, 2700, 5094, 2336, 6886, 40, 5147, 1965, 2596, 4798, 3892, 1725, 4703, 4730, 2634, 10, 7618, 3997, 5617, 5678, 6062, 3157, 2281, 5512, 6180, 968, 6235, 3274, 6238, 3706, 6090, 7994, 4693, 5281, 7433, 6491, 2912, 2941, 2086, 1668, 6863, 87, 2034, 4169, 3964, 1494, 4036, 5793, 7888, 7830, 1818, 4290, 5737, 6330, 6095, 5629, 4569, 2410, 2771, 3713, 7727, 365, 459, 8284, 3536, 3589, 8409, 706, 6280, 576, 2968, 788, 6718, 7942, 1208, 6760, 2449, 4788, 1748, 1485, 5838, 442, 8163, 5725, 5869, 3955, 583, 2367, 4837, 1519, 400, 7480, 6182, 3829, 598, 2148, 1442, 3612, 5545, 5666, 3275, 3407, 1300, 577, 943, 4578, 4732, 1719, 5868, 7829, 1246, 6908, 629, 4662, 669, 1215, 1396, 1355, 3849, 77, 1813, 7690, 3237, 1489, 6828, 7163, 1788, 7874, 261, 4329, 3931, 3869, 7435, 4301, 7869, 7295, 5039, 616, 1950, 7248, 100, 2006, 772, 2399, 4466, 5020, 7042, 6559, 3884, 3022, 7187, 620, 6794, 535, 6595, 8000, 4494, 6501, 8076, 1034, 3643, 8213, 4810, 4635, 2025, 8115, 2944, 1819, 1523, 5993, 3398, 6815, 1135, 3345, 3132, 1148, 7463, 4735, 4112, 4450, 6873, 5635, 3846, 5518, 6822, 740, 7158, 5185, 2922, 3777, 356, 5799, 8447, 4588, 6814, 5009, 6968, 7940, 4046, 305, 5833, 5211, 3459, 7191, 1057, 5689, 4850, 1339, 3365, 5738, 1936, 6359, 352, 7739, 7445, 8335, 3698, 1631, 4877, 4163, 5244, 7864, 1710, 6845, 7632, 5648, 216, 766, 4314, 6063, 7597, 1347, 123, 489, 2316, 2642, 564, 6869, 4203, 329, 4553, 5593, 5888, 2280, 2828, 2026, 1290, 5454, 7671, 4223, 4564, 4906, 7186, 6413, 4356, 2244, 1499, 2614, 661, 4392, 4454, 848, 1500, 191, 7132, 1421, 5283, 8273, 6256, 7682, 3414, 3861, 4517, 8504, 262, 3565, 6096, 1942, 4130, 2473, 2413, 309, 3350, 7565, 5413, 5499, 4380, 3197, 4555, 2982, 6980, 6882, 7678, 7359, 6941, 4376, 6694, 4643, 4492, 1502, 8248, 633, 5389, 2421, 2888, 4762, 7819, 1306, 1786, 1938, 7654, 1316, 4653, 759, 14, 6175, 1, 1986, 8541, 1839, 2956, 5607, 3424, 3614, 5257, 8230, 3578, 5957, 1656, 1345, 7188, 8356, 6967, 680, 7574, 3113, 5063, 1651, 160, 161, 3131, 824, 1338, 3596, 4110, 3160, 1923, 4318, 3314, 5102, 1330, 6355, 3801, 7142, 3346, 5754, 6184, 3441, 5378, 6155, 5942, 8424, 154, 2512, 349, 6166, 3360, 7728, 2838, 1498, 4648, 317, 1922, 4631, 3824, 4070, 7452, 1688, 3704, 505, 6186, 7314, 6398, 7762, 2445, 4165, 3301, 1968, 5214, 6871, 1767, 7702, 3196, 3891, 572, 8372, 72, 2686, 4767, 1862, 2911, 1180, 1755, 99, 8333, 3557, 8262, 3848, 1749, 8198, 2576, 4848, 7648, 2673, 896, 2810, 4118, 1146, 7143, 6803, 2527, 1590, 3899, 437, 7063, 1820, 3860, 4743, 6271, 2179, 5046, 4062, 8253, 2906, 1446, 5806, 8024, 7229, 5075, 2726, 7053, 1849, 7530, 2338, 394, 1939, 5026, 7920, 7388, 8155, 7878, 1184, 3147, 3343, 7489, 7374, 1672, 2007, 2278, 608, 7075, 2999, 1992, 2340, 3230, 2466, 8177, 522, 2210, 8423, 401, 6121, 904, 6771, 2496, 5828, 5337, 7378, 600, 2392, 4938, 5682, 5530, 5260, 2772, 4413, 2723, 5061, 67, 1771, 7210, 4867, 7621, 2562, 3705, 3613, 7027, 737, 6316, 1824, 4677, 3088, 2584, 578, 2064, 1643, 3915, 1977, 6939, 4753, 7303, 3547, 347, 2431, 3591, 1899, 4422, 420, 6774, 6461, 7849, 8308, 790, 4592, 3722, 285, 3771, 2794, 7495, 8429, 7389, 6683, 4933, 6648, 3784, 4651, 545, 6970, 4846, 6529, 8007, 4710, 1843, 7527, 1219, 8215, 2383, 903, 2050, 900, 6046, 7101, 4185, 2041, 7927, 6587, 5266, 1207, 5865, 2341, 5367, 5952, 1055, 6696, 3693, 4426, 931, 7185, 6711, 4300, 6400, 4549, 7355, 8482, 7134, 3260, 8520, 6444, 4919, 3478, 8041, 2463, 277, 4526, 840, 5150, 5445, 1898, 4023, 5472, 4276, 7965, 4398, 5458, 2409, 2781, 7758, 5360, 8304, 3735, 5890, 7772, 6419, 1255, 1837, 7131, 4585, 4627, 8047, 4818, 5159, 8216, 2798, 7663, 2774, 3601, 2770, 8467, 1714, 6387, 1010, 4763, 7494, 1890, 7239, 2651, 4028, 5175, 5497, 5984, 771, 5062, 3279, 5256, 6596, 239, 69, 6, 1919, 7840, 4719, 1436, 2039, 4822, 4511, 7287, 7237, 2499, 3818, 4491, 1847, 4146, 7446, 8127, 4579, 1319, 4759, 4669, 8302, 3354, 7985, 955, 5110, 2307, 2582, 6423, 734, 7057, 4640, 265, 7832, 1298, 3730, 3119, 1357, 7468, 1501, 2287, 5884, 7662, 4490, 2538, 1315, 4613, 2663, 7969, 885, 6279, 4757, 2165, 103, 7392, 1933, 1738, 2710, 8349, 6614, 3987, 3898, 5700, 7513, 5986, 5673, 6242, 4002, 4239, 4478, 1612, 3167, 6545, 7773, 1586, 5851, 7764, 4594, 2946, 1352, 7012, 8516, 5853, 2963, 3785, 6965, 7899, 8126, 5624, 2251, 7054, 2357, 3644, 5460, 1236, 6296, 5041, 4751, 6998, 5923, 3312, 4593, 2685, 5912, 4467, 5415, 6133, 2375, 3711, 3325, 2936, 8087, 1302, 5832, 1059, 8052, 2291, 8511, 3149, 7450, 4675, 810, 2570, 5078, 6164, 3534, 5200, 6979, 2896, 3715, 4124, 3440, 5571, 3651, 1267, 6486, 447, 1112, 4673, 8405, 45, 2309, 8539, 4584, 232, 2675, 3909, 2482, 2818, 2133, 2158, 2403, 3248, 2090, 1948, 7925, 6250, 2400, 3303, 5074, 8274, 4382, 4811, 147, 703, 3555, 4229, 8022, 2462, 2732, 6818, 8257, 4446, 5174, 1270, 1600, 7215, 7061, 6344, 5969, 4907, 2038, 1462, 2257, 7044, 5860, 5193, 3657, 4211, 5785, 2111, 1704, 237, 2215, 6321, 3753, 5236, 6866, 7258, 5818, 2446, 1708, 2970, 6462, 1595, 8485, 2323, 2990, 7586, 6165, 2351, 4349, 2021, 1654, 4781, 7469, 3208, 3694, 3700, 6588, 2214, 2247, 8307, 3278, 1451, 6884, 7694, 3787, 6677, 1426, 3226, 2071, 6448, 7603, 7066, 4, 2005, 4176, 5387, 8494, 899, 4081, 3026, 1970, 1951, 2852, 7693, 8217, 1994, 1666, 6249, 6487, 7629, 8161, 7516, 4231, 6376, 2509, 2115, 6728, 4238, 3879, 7339, 4513, 5123, 1808, 6306, 7128, 5997, 1602, 1103, 1769, 3788, 49, 4183, 818, 6762, 2020, 2018, 6704, 2755, 6352, 7788, 1559, 2052, 1163, 1286, 6300, 4385, 4884, 2694, 6183, 5295, 5550, 1591, 4868, 5687, 730, 4516, 6923, 2022, 7145, 228, 219, 2349, 1680, 7946, 4772, 3559, 6370, 5384, 6811, 2044, 8454, 3476, 1170, 345, 2623, 4161, 767, 3021, 7724, 3819, 5243, 380, 3661, 6181, 3495, 2372, 4465, 941, 6404, 2678, 5085, 5826, 4525, 5539, 6495, 3106, 1013, 1303, 6084, 5664, 180, 2405, 5104, 4727, 4432, 5822, 7653, 4434, 4638, 2484, 4736, 6426, 170, 188, 36, 2464, 6786, 3528, 6858, 3921, 172, 4311, 7792, 5151, 3956, 4965, 4721, 7578, 5903, 2390, 7372, 8389, 5277, 1384, 4088, 2548, 1987, 332, 5767, 8099, 3091, 3351, 526, 6023, 5055, 7077, 716, 5641, 2356, 7067, 3603, 66, 1684, 1016, 6476, 8117, 2533, 1879, 6753, 4738, 5892, 7034, 6427, 1335, 4263, 7043, 4804, 3992, 2650, 3305, 6065, 348, 4679, 1616, 5665, 1350, 6692, 4362, 4029, 5674, 2053, 2144, 2761, 2676, 7481, 1265, 5394, 398, 2610, 3457, 4814, 1480, 3839, 838, 725, 8523, 8002, 5031, 4453, 5731, 7636, 1962, 1372, 6000, 7233, 276, 4122, 7432, 7811, 4477, 7685, 480, 6518, 2730, 4424, 404, 1649, 7313, 249, 863, 1326, 7218, 2656, 4571, 6173, 5680, 4493, 1828, 5864, 2369, 5480, 6212, 242, 6612, 7852, 1292, 1732, 7641, 1401, 8060, 6767, 4096, 1609, 1018, 5628, 1004, 3608, 6519, 6954, 1784, 4396, 6846, 2971, 3929, 116, 5643, 7306, 7938, 7790, 4274, 275, 6323, 6464, 1157, 3059, 1564, 6653, 7386, 4126, 7255, 8021, 3146, 7260, 1717, 8324, 2408, 2957, 3079, 2306, 2014, 2475, 6520, 8173, 7246, 3736, 3642, 6831, 4650, 2764, 5374, 1381, 2885, 1961, 6198, 6364, 5287, 6070, 197, 5857, 5033, 3822, 192, 1935, 1894, 7439, 4041, 298, 4717, 2979, 1238, 6409, 4190, 1685, 7686, 7024, 2180, 4113, 4989, 8092, 5482, 6309, 6602, 343, 2326, 8269, 5288, 6574, 2302, 7273, 7380, 396, 4289, 8483, 3111, 5455, 5982, 4103, 3003, 2733, 780, 7281, 122, 4232, 2924, 803, 1887, 5462, 3865, 6141, 6984, 3678, 3837, 5158, 1596, 7003, 7984, 1981, 4481, 6798, 1721, 3082, 1304, 5671, 2918, 5125, 8426, 953, 7568, 1913, 5264, 587, 5911, 7571, 2961, 6422, 5066, 1805, 6030, 6535, 8028, 323, 6597, 7418, 3141, 1091, 5968, 3762, 8457, 8368, 8497, 1880, 6750, 2631, 7267, 7518, 6297, 2401, 4967, 4038, 1766, 4168, 604, 1541, 6544, 6432, 7709, 7667, 797, 1783, 5103, 2537, 8280, 3043, 5425, 1601, 2476, 755, 7624, 3053, 7291, 6085, 243, 5699, 6832, 142, 3024, 3195, 3205, 5434, 8487, 3857, 3654, 5960, 864, 1346, 5918, 1096, 4347, 3690, 5709, 5064, 2129, 6176, 911, 4021, 3828, 38, 6129, 6272, 7614, 169, 5938, 4565, 389, 3621, 4873, 811, 1117, 2608, 1763, 3669, 6820, 4749, 5443, 5907, 6913, 4327, 552, 2317, 7799, 6216, 3619, 7356, 3807, 7658, 8525, 4857, 5432, 8530, 827, 5427, 905, 2190, 2358, 7701, 4699, 2521, 2597, 6151, 2219, 7810, 5154, 7835, 6014, 3342, 1803, 4195, 4984, 8462, 7458, 7871, 2055, 747, 5726, 2613, 2536, 274, 4917, 3012, 3653, 3624, 1466, 1074, 3832, 5447, 5149, 378, 3369, 2948, 2443, 6508, 3120, 5469, 7138, 118, 6335, 6881, 7971, 4331, 4470, 7615, 5658, 6825, 7778, 4439, 5303, 3588, 371, 7038, 6915, 727, 8166, 7617, 5757, 4246, 7855, 3164, 3500, 6035, 4882, 8225, 5651, 7770, 1521, 4008, 1092, 821, 2661, 3739, 1723, 5319, 4125, 1017, 7804, 4085, 498, 7089, 3186, 7993, 7404, 6439, 376, 4913, 940, 4174, 3102, 951, 1610, 6558, 536, 2188, 5343, 2699, 3071, 1550, 7440, 8403, 112, 5660, 6484, 6513, 676, 7289, 8174, 5634, 4618, 2744, 6942, 8071, 463, 5112, 2256]\n",
            "y_is_box_valid shape (1, 21, 25, 25)\n",
            "y_rpn_overlap shape (1, 21, 25, 25)\n",
            "regr: (1, 84, 25, 25)\n"
          ]
        }
      ],
      "metadata": {}
    },
    {
      "cell_type": "markdown",
      "source": [
        "### Get FRCNN model"
      ],
      "metadata": {}
    },
    {
      "cell_type": "code",
      "execution_count": 18,
      "source": [
        "# Choose the feature extraction model\n",
        "backbone='baseline_16'\n",
        "# backbone='vgg16'\n",
        "\n",
        "if backbone=='baseline_16':\n",
        "    config.resizePatch = True\n",
        "    config.rpn_stride = 4\n",
        "    config.num_rois = 16\n",
        "    # config.anchor_box_scales = [16,32,64] # anchors in the original image size\n",
        "    config.anchor_box_scales = [6, 8, 12, 16, 24, 32]\n",
        "    config.resizeFinalDim = 100\n",
        "    input_shape_1 = config.resizeFinalDim\n",
        "else:\n",
        "    config.resizePatch = True\n",
        "    config.rpn_stride = 16\n",
        "    config.num_rois = 4\n",
        "    config.resizeFinalDim = 600\n",
        "    input_shape_1=config.resizeFinalDim\n",
        "    config.anchor_box_scales = [32, 64, 128]\n",
        "\n",
        "\n",
        "config.anchor_num = len(config.anchor_box_ratios)*len(config.anchor_box_scales)\n",
        "input_shape_2=(None, 4)\n",
        "\n",
        "print(config.resizePatch)\n",
        "print(config.rpn_stride)\n",
        "\n",
        "checkpoint = get_model_last_checkpoint(backbone)\n",
        "print(f'Model last checkpoint: {checkpoint}')"
      ],
      "outputs": [
        {
          "output_type": "stream",
          "name": "stdout",
          "text": [
            "True\n",
            "4\n",
            "Checking model checkpoints in directory /Users/lorenzocellini/AI - Universit…/Deep Learning - Andre Asperti/SKA_project/SKADC1/model/baseline_16\n",
            "/Users/lorenzocellini/AI - Universit…/Deep Learning - Andre Asperti/SKA_project/SKADC1/model/baseline_16/216_frcnn_baseline_16.h5\n",
            "/Users/lorenzocellini/AI - Universit…/Deep Learning - Andre Asperti/SKA_project/SKADC1/model/baseline_16/0_frcnn_baseline_16.h5\n",
            "/Users/lorenzocellini/AI - Universit…/Deep Learning - Andre Asperti/SKA_project/SKADC1/model/baseline_16/262_frcnn_baseline_16.h5\n",
            "Model last checkpoint: 262_frcnn_baseline_16.h5\n"
          ]
        }
      ],
      "metadata": {}
    },
    {
      "cell_type": "code",
      "execution_count": null,
      "source": [
        "rpn_model, detector_model, total_model = models.get_train_model(input_shape_1=input_shape_1, input_shape_2=input_shape_2, anchor_num=config.anchor_num, pooling_regions=config.pooling_regions, num_rois=config.num_rois, num_classes=len(ska_dataset.class_list)+1, backbone=backbone, use_expander=False)\n",
        "\n",
        "rpn_model.summary()\n",
        "detector_model.summary()\n",
        "total_model.summary()"
      ],
      "outputs": [],
      "metadata": {
        "tags": [
          "outputPrepend"
        ]
      }
    },
    {
      "cell_type": "markdown",
      "source": [
        "### Load weights"
      ],
      "metadata": {}
    },
    {
      "cell_type": "code",
      "execution_count": null,
      "source": [
        "models.load_weigths(rpn_model, detector_model, backbone, resume_train=False, checkpoint=checkpoint)\n",
        "models.compile_models(rpn_model, detector_model, total_model, rpn_losses=[loss.rpn_loss_cls, loss.rpn_loss_regr], detector_losses=[loss.detector_loss_cls, loss.detector_loss_regr], class_list=ska_dataset.class_list)"
      ],
      "outputs": [],
      "metadata": {}
    },
    {
      "cell_type": "code",
      "execution_count": null,
      "source": [
        "# Specifically checking backbone weights\n",
        "\n",
        "# total_model.weights[24:25][0][0][0][0]"
      ],
      "outputs": [],
      "metadata": {}
    },
    {
      "cell_type": "code",
      "execution_count": null,
      "source": [
        "# Check that all of the pretrained weights have been loaded.\n",
        "import numpy as np\n",
        "for i, j in zip(total_model.weights, rpn_model.weights): \n",
        "    # print(i,j)\n",
        "    assert np.allclose(i,j), 'Weights don\\'t match!'"
      ],
      "outputs": [],
      "metadata": {
        "tags": []
      }
    },
    {
      "cell_type": "markdown",
      "source": [
        "### Train"
      ],
      "metadata": {}
    },
    {
      "cell_type": "markdown",
      "source": [
        "- errore \"Exception: 'a' cannot be empty unless no samples are taken\" quando nel sampling ci sono meno di 4 roi\n",
        "- errore \"None type object is not iterable\" dovuto al max(IoUs) quando calc_iou torna None, None, None, None\n",
        "- patch di debug 1550_16376_16779_100\n",
        "- capire il parametro classifier_regr_std in che modo influenza il training"
      ],
      "metadata": {}
    },
    {
      "cell_type": "markdown",
      "source": [
        "- provare normalizzazione valori immagini di input\n",
        "- provare a far passare più roi anzichè 4"
      ],
      "metadata": {}
    },
    {
      "cell_type": "code",
      "execution_count": null,
      "source": [
        "# zzz = np.load(f'{config.TRAIN_PATCHES_FOLDER}/3100_16376_16829_100/3100_16376_16829_100.npy')\n",
        "\n",
        "# print_img(config.TRAIN_PATCHES_FOLDER, '3100_16376_16829_100')"
      ],
      "outputs": [],
      "metadata": {}
    },
    {
      "cell_type": "markdown",
      "source": [
        "20_16396_16729_20"
      ],
      "metadata": {}
    },
    {
      "cell_type": "code",
      "execution_count": null,
      "source": [
        "from src.train import *\n",
        "\n",
        "val_patch_list = None\n",
        "train_frcnn(rpn_model, detector_model, total_model, ['20_16396_16729_20'], ska_dataset.val_patch_list, ska_dataset.class_list, num_epochs=500, patches_folder_path=config.TRAIN_PATCHES_FOLDER, backbone=backbone, resume_train=True)\n",
        "# train_frcnn(rpn_model, detector_model, total_model, ska_dataset.train_patch_list, ska_dataset.val_patch_list, ska_dataset.class_list, num_epochs=300, patches_folder_path=config.TRAIN_PATCHES_FOLDER, backbone=backbone, resume_train=True)"
      ],
      "outputs": [],
      "metadata": {}
    },
    {
      "cell_type": "code",
      "execution_count": null,
      "source": [
        "total_model.save_weights(f'{config.MODEL_WEIGHTS}/{backbone}/0_frcnn_{backbone}.h5')"
      ],
      "outputs": [],
      "metadata": {}
    },
    {
      "cell_type": "markdown",
      "source": [
        "# Validation"
      ],
      "metadata": {}
    },
    {
      "cell_type": "code",
      "execution_count": null,
      "source": [
        "rpn_model_eval, detector_model_eval, total_model_eval = models.get_eval_model(input_shape_1=input_shape_1, input_shape_2=input_shape_2, input_shape_fmap=None, anchor_num=config.anchor_num, pooling_regions=config.pooling_regions, num_rois=config.num_rois, num_classes=len(ska_dataset.class_list)+1, backbone=backbone, use_expander=False)\n",
        "\n",
        "rpn_model_eval.summary()\n",
        "detector_model_eval.summary()\n",
        "total_model_eval.summary()"
      ],
      "outputs": [],
      "metadata": {
        "tags": [
          "outputPrepend"
        ]
      }
    },
    {
      "cell_type": "code",
      "execution_count": null,
      "source": [
        "# Models used for mAP eval\n",
        "cp = '262_frcnn_baseline_16.h5'\n",
        "models.load_weigths(rpn_model_eval, detector_model_eval, backbone, checkpoint=cp)\n",
        "models.compile_models(rpn_model_eval, detector_model_eval, total_model_eval, rpn_losses=[loss.rpn_loss_cls, loss.rpn_loss_regr], detector_losses=[loss.detector_loss_cls, loss.detector_loss_regr], class_list=ska_dataset.class_list)"
      ],
      "outputs": [],
      "metadata": {}
    },
    {
      "cell_type": "code",
      "execution_count": null,
      "source": [
        "patch_id = ['20_16396_16729_20']#ska_dataset.train_patch_list#[1:2]\n",
        "# print(patch_id)\n",
        "# gt = pd.read_pickle(f'{config.TRAIN_PATCHES_FOLDER}/{patch_id[0]}/{patch_id[0]}.pkl')\n",
        "# display(gt['class_label'])\n",
        "\n",
        "preds, mAP, prec, recall = evaluate_model(rpn_model_eval, detector_model_eval, backbone, patch_id, ska_dataset.class_list, metric_threshold=.5)"
      ],
      "outputs": [],
      "metadata": {
        "tags": []
      }
    },
    {
      "cell_type": "code",
      "execution_count": null,
      "source": [
        "preds"
      ],
      "outputs": [],
      "metadata": {}
    },
    {
      "cell_type": "code",
      "execution_count": null,
      "source": [
        "print(config.patch_dim , float(config.resizeFinalDim))"
      ],
      "outputs": [],
      "metadata": {}
    },
    {
      "cell_type": "code",
      "execution_count": null,
      "source": [
        "print_img(config.TRAIN_PATCHES_FOLDER, '20_16396_16729_20')"
      ],
      "outputs": [],
      "metadata": {}
    },
    {
      "cell_type": "code",
      "execution_count": null,
      "source": [
        "anch = pd.read_pickle(f'{config.EVAL_RESULTS}/20_16396_16729_20/20_16396_16729_20.pkl')\n",
        "display(anch)"
      ],
      "outputs": [],
      "metadata": {}
    },
    {
      "cell_type": "code",
      "execution_count": null,
      "source": [
        "anch['width'] = anch['x2s'] - anch['x1s']\n",
        "anch['heght'] = anch['y2s'] - anch['y1s']"
      ],
      "outputs": [],
      "metadata": {}
    },
    {
      "cell_type": "code",
      "execution_count": null,
      "source": [
        "anch.describe() "
      ],
      "outputs": [],
      "metadata": {}
    },
    {
      "cell_type": "code",
      "execution_count": null,
      "source": [
        "print_img(config.TRAIN_PATCHES_FOLDER, '20_16396_16729_20', config.EVAL_RESULTS)"
      ],
      "outputs": [],
      "metadata": {}
    },
    {
      "cell_type": "markdown",
      "source": [],
      "metadata": {}
    },
    {
      "cell_type": "markdown",
      "source": [
        "TODO - 20210508:\n",
        "- [X] troncamento rumore a 1e-6 tramite half gaussian\n",
        "\n",
        "TODO - 20210605:\n",
        "- [X] modificare RPNNet in modo che dia in output anche la backbone - Lorenzo\n",
        "- [X] scrivere bene training loop: salvare le loss in un df su disco + salvare pesi modello ad ogni giro (Lorenzo - finire di debuggare)\n",
        "\n",
        "TODO - 20210620:\n",
        "- [x] implementare mAP in una funzione che prende come parametro un modello o i suoi pesi\n",
        "- [x] implementare resNet50\n",
        "- [x] implementare predicted rois - Lorenzo\n",
        "- [X] implementare plot loss training - Lorenzo\n",
        "- [X] finire classe datasetv2 - Alice\n",
        "- [X] check se su colab le performance sono migliori - Lorenzo\n",
        "\n",
        "TODO - 20210627\n",
        "- [X] split dataset su combinazioni classi - Alice\n",
        "- [x] provare campionamento random patch ed osservare le due distribuzioni - Alice\n",
        "\n",
        "TODO - 20210703\n",
        "- [x] sistemare salvataggio loss training loop - Lorenzo\n",
        "- [x] Riscalare immagini tra 0-255 - Alice\n",
        "- [x] capire se passare tre immagini diverse come input\n",
        "- [x] usare media vgg16 per zero-centering - Alice\n",
        "\n",
        "TODO - 20210705\n",
        "- [x] sistemare nomi funzioni dataset per trasformazione rgb\n",
        "\n",
        "TODO - 20210711\n",
        "- [x] rifattorizzare classe dataset spostando nel costruttore i metodi che calcolano i suoi attributi - Lorenzo\n",
        "- [x] chek valori pixel in input per resnet\n",
        "- [x] fare funzione per plottare le predictions\n",
        "- [ ] trainare tutto su colab\n",
        "\n",
        "TODO - 20210714\n",
        "- [x] ragionare su come scalare le immagini fra 0 e 1, attualmente hanno tanti valori schiacciati a 0 e il massimo su tutto il train a a 0.4\n",
        "\n",
        "TODO - 20210717\n",
        "- [ ] Ablation study: provare a rimuovere stage4 nella resnet - se c'è tempo\n",
        "- [x] Provare con nostra pixel_mean e con vgg16 pixel_mean -> per il momento abbiamo scartato la prima opzione\n",
        "- [ ] Fare qualche analisi di distribuzione delle classi/dim box del dataset - Alice\n",
        "- [x] Aggiungere normalizzazione dopo zero centering per resNet50, sulla base del range globale dell'immagine di training\n",
        "- [ ] Provare pulizia dataset originale sulla base del rumore/flusso - Alice\n",
        "- [ ] Cambiare nomi di tutto - alla fine\n",
        "- [x] implementare zero-centering su volare medio RGB delle nostre patch\n",
        "- [x] Funzione che trova l'ultimo checkpoint in colab prima del load_weights - Lorenzo\n",
        "\n",
        "TODO - 20210801\n",
        "- [x] Debuggare training baseline 8 e 16 - L\n",
        "- [ ] Finire prove pulizia dataseet noise variando k - A"
      ],
      "metadata": {}
    },
    {
      "cell_type": "markdown",
      "source": [
        "1.  Summary\n",
        "    - riassunto progetto\n",
        "2.  Background\n",
        "    - SoTA + teoria di base\n",
        "3.  System Description\n",
        "    - descrizione dei nostri modelli e dei loro componenti (moduli)\n",
        "4.  Experimental setup and results\n",
        "    - dataset pre processing\n",
        "    - training environment\n",
        "    - metrics\n",
        "    - results\n",
        "5.  Results and error analysis\n",
        "6.  Discussion"
      ],
      "metadata": {}
    },
    {
      "cell_type": "markdown",
      "source": [
        "# Plotting"
      ],
      "metadata": {}
    },
    {
      "cell_type": "code",
      "execution_count": null,
      "source": [
        "loss_history = np.load(f\"./model/{backbone}/loss_history.npy\")\n",
        "print(loss_history.shape)"
      ],
      "outputs": [],
      "metadata": {}
    },
    {
      "cell_type": "code",
      "execution_count": null,
      "source": [
        "loss_history"
      ],
      "outputs": [],
      "metadata": {}
    },
    {
      "cell_type": "code",
      "execution_count": null,
      "source": [
        "plot_loss(loss_history)"
      ],
      "outputs": [],
      "metadata": {}
    },
    {
      "cell_type": "markdown",
      "source": [],
      "metadata": {}
    }
  ]
}