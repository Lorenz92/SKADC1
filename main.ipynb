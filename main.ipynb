{
  "nbformat": 4,
  "nbformat_minor": 0,
  "metadata": {
    "language_info": {
      "codemirror_mode": {
        "name": "ipython",
        "version": 3
      },
      "file_extension": ".py",
      "mimetype": "text/x-python",
      "name": "python",
      "nbconvert_exporter": "python",
      "pygments_lexer": "ipython3",
      "version": "3.8.2"
    },
    "orig_nbformat": 2,
    "kernelspec": {
      "name": "python382jvsc74a57bd031f2aee4e71d21fbe5cf8b01ff0e069b9275f58929596ceb00d14d90e3e16cd6",
      "display_name": "Python 3.8.2 64-bit"
    },
    "colab": {
      "name": "main.ipynb",
      "provenance": []
    },
    "metadata": {
      "interpreter": {
        "hash": "31f2aee4e71d21fbe5cf8b01ff0e069b9275f58929596ceb00d14d90e3e16cd6"
      }
    }
  },
  "cells": [
    {
      "cell_type": "code",
      "metadata": {
        "id": "XkdmU4lMMVmI",
        "outputId": "7bfc2152-66c6-4d4d-f838-0e531b28a348",
        "colab": {
          "base_uri": "https://localhost:8080/"
        }
      },
      "source": [
        "!git clone 'https://github.com/Lorenz92/SKADC1.git'\n",
        "% cd SKADC1\n",
        "!echo $PWD"
      ],
      "execution_count": 12,
      "outputs": [
        {
          "output_type": "stream",
          "text": [
            "Cloning into 'SKADC1'...\n",
            "remote: Enumerating objects: 41, done.\u001b[K\n",
            "remote: Counting objects: 100% (41/41), done.\u001b[K\n",
            "remote: Compressing objects: 100% (33/33), done.\u001b[K\n",
            "remote: Total 41 (delta 17), reused 25 (delta 6), pack-reused 0\u001b[K\n",
            "Unpacking objects: 100% (41/41), done.\n"
          ],
          "name": "stdout"
        }
      ]
    },
    {
      "cell_type": "code",
      "metadata": {
        "id": "7WwOlsifF-5G",
        "outputId": "303002ab-c8c4-4807-caeb-ee1c590d4326",
        "colab": {
          "base_uri": "https://localhost:8080/"
        }
      },
      "source": [
        "import pandas as pd\n",
        "import numpy as np\n",
        "import requests\n",
        "import matplotlib.pyplot as plt\n",
        "import sys\n",
        "from astropy.io import fits\n",
        "import os\n",
        "\n",
        "import src.dataset as dataset\n",
        "import src.config as config\n",
        "from src.utils import *\n",
        "import src.preprocessing as prep\n",
        "\n",
        "# from src.config import * \n",
        "\n",
        "%load_ext autoreload\n",
        "%autoreload 2\n",
        "\n",
        "np.random.seed(config.RANDOM_SEED)"
      ],
      "execution_count": 1,
      "outputs": []
    },
    {
      "cell_type": "code",
      "metadata": {
        "id": "qHxrJ525F-5J",
        "outputId": "ee8e854b-65ce-486a-e9e3-c5752e45406c",
        "colab": {
          "base_uri": "https://localhost:8080/"
        }
      },
      "source": [
        "for download_info in config.required_files:\n",
        "    if not os.path.exists(os.path.join(config.TRAIN_DATA_FOLDER, download_info['file_name'])):\n",
        "        download_data(download_info['file_name'], download_info['url'], config.DOWNLOAD_FOLDER)"
      ],
      "execution_count": 7,
      "outputs": [
        {
          "output_type": "stream",
          "name": "stdout",
          "text": [
            "Downloading SKA 560Mhz_1000h.fits data...\n",
            "Download completed!\n",
            "Downloading SKA 9200Mhz_1000h.fits data...\n",
            "Download completed!\n"
          ]
        }
      ]
    },
    {
      "cell_type": "code",
      "metadata": {
        "tags": [],
        "id": "Q8IbYCwkF-5K",
        "outputId": "5cd8e5ba-49cd-49b4-d65c-65d82229f792",
        "colab": {
          "base_uri": "https://localhost:8080/",
          "height": 221
        }
      },
      "source": [
        "# Dataset parsing and loading\n",
        "# use \"subset\" to load a small portion of data for development/debugging purposes\n",
        "\n",
        "ska_dataset = dataset.SKADataset(train_set_path=config.TRAIN_SET_PATH, subset=config.DATA_SUBSET)\n",
        "print(ska_dataset.raw_train_df.shape)\n",
        "ska_dataset.raw_train_df.head()"
      ],
      "execution_count": 17,
      "outputs": [
        {
          "output_type": "stream",
          "name": "stdout",
          "text": [
            "(19222, 15)\n"
          ]
        },
        {
          "output_type": "execute_result",
          "data": {
            "text/plain": [
              "         ID  RA (core)  DEC (core)  RA (centroid)  DEC (centroid)      FLUX  \\\n",
              "0  24121695  -0.642227  -29.775242      -0.642316      -29.775211  0.000035   \n",
              "1  20167150  -0.390473  -29.867493      -0.390667      -29.868851  0.029555   \n",
              "2  20045120  -0.021411  -29.643486      -0.021359      -29.643561  0.000653   \n",
              "3  33938384  -0.316375  -29.697647      -0.316375      -29.697647  0.000017   \n",
              "4   7527248  -0.336528  -29.627335      -0.336527      -29.627338  0.000054   \n",
              "\n",
              "   Core frac     BMAJ    BMIN       PA  SIZE  CLASS  SELECTION          x  \\\n",
              "0   0.000000    5.600   5.551  328.554     1      1          1  19704.519   \n",
              "1   0.016924  107.110  43.263  191.258     1      1          1  18401.338   \n",
              "2   0.012185    5.037   3.525  276.587     1      1          1  16493.600   \n",
              "3   0.000000    0.847   0.266  346.641     2      1          1  18020.319   \n",
              "4   0.044763    3.343   1.515  279.006     1      1          1  18125.824   \n",
              "\n",
              "           y  \n",
              "0  17712.942  \n",
              "1  17160.919  \n",
              "2  18506.577  \n",
              "3  18182.095  \n",
              "4  18600.680  "
            ],
            "text/html": "<div>\n<style scoped>\n    .dataframe tbody tr th:only-of-type {\n        vertical-align: middle;\n    }\n\n    .dataframe tbody tr th {\n        vertical-align: top;\n    }\n\n    .dataframe thead th {\n        text-align: right;\n    }\n</style>\n<table border=\"1\" class=\"dataframe\">\n  <thead>\n    <tr style=\"text-align: right;\">\n      <th></th>\n      <th>ID</th>\n      <th>RA (core)</th>\n      <th>DEC (core)</th>\n      <th>RA (centroid)</th>\n      <th>DEC (centroid)</th>\n      <th>FLUX</th>\n      <th>Core frac</th>\n      <th>BMAJ</th>\n      <th>BMIN</th>\n      <th>PA</th>\n      <th>SIZE</th>\n      <th>CLASS</th>\n      <th>SELECTION</th>\n      <th>x</th>\n      <th>y</th>\n    </tr>\n  </thead>\n  <tbody>\n    <tr>\n      <th>0</th>\n      <td>24121695</td>\n      <td>-0.642227</td>\n      <td>-29.775242</td>\n      <td>-0.642316</td>\n      <td>-29.775211</td>\n      <td>0.000035</td>\n      <td>0.000000</td>\n      <td>5.600</td>\n      <td>5.551</td>\n      <td>328.554</td>\n      <td>1</td>\n      <td>1</td>\n      <td>1</td>\n      <td>19704.519</td>\n      <td>17712.942</td>\n    </tr>\n    <tr>\n      <th>1</th>\n      <td>20167150</td>\n      <td>-0.390473</td>\n      <td>-29.867493</td>\n      <td>-0.390667</td>\n      <td>-29.868851</td>\n      <td>0.029555</td>\n      <td>0.016924</td>\n      <td>107.110</td>\n      <td>43.263</td>\n      <td>191.258</td>\n      <td>1</td>\n      <td>1</td>\n      <td>1</td>\n      <td>18401.338</td>\n      <td>17160.919</td>\n    </tr>\n    <tr>\n      <th>2</th>\n      <td>20045120</td>\n      <td>-0.021411</td>\n      <td>-29.643486</td>\n      <td>-0.021359</td>\n      <td>-29.643561</td>\n      <td>0.000653</td>\n      <td>0.012185</td>\n      <td>5.037</td>\n      <td>3.525</td>\n      <td>276.587</td>\n      <td>1</td>\n      <td>1</td>\n      <td>1</td>\n      <td>16493.600</td>\n      <td>18506.577</td>\n    </tr>\n    <tr>\n      <th>3</th>\n      <td>33938384</td>\n      <td>-0.316375</td>\n      <td>-29.697647</td>\n      <td>-0.316375</td>\n      <td>-29.697647</td>\n      <td>0.000017</td>\n      <td>0.000000</td>\n      <td>0.847</td>\n      <td>0.266</td>\n      <td>346.641</td>\n      <td>2</td>\n      <td>1</td>\n      <td>1</td>\n      <td>18020.319</td>\n      <td>18182.095</td>\n    </tr>\n    <tr>\n      <th>4</th>\n      <td>7527248</td>\n      <td>-0.336528</td>\n      <td>-29.627335</td>\n      <td>-0.336527</td>\n      <td>-29.627338</td>\n      <td>0.000054</td>\n      <td>0.044763</td>\n      <td>3.343</td>\n      <td>1.515</td>\n      <td>279.006</td>\n      <td>1</td>\n      <td>1</td>\n      <td>1</td>\n      <td>18125.824</td>\n      <td>18600.680</td>\n    </tr>\n  </tbody>\n</table>\n</div>"
          },
          "metadata": {},
          "execution_count": 17
        }
      ]
    },
    {
      "cell_type": "code",
      "metadata": {
        "id": "fdok-EggF-5T",
        "outputId": "40c460e3-a600-4a3b-98a4-021a903c522e",
        "colab": {
          "base_uri": "https://localhost:8080/"
        }
      },
      "source": [
        "data_560Mhz_1000h_fits = fits.open('./data/training/560Mhz_1000h.fits')\n",
        "# data_560Mhz_1000h_fits.info()\n",
        "data_560Mhz_1000h_fits.filename()\n",
        "\n",
        "# print(data_560Mhz_1000h_fits[0].data)\n",
        "# print(data_560Mhz_1000h_fits[0].data.shape)\n",
        "\n",
        "data_560Mhz_1000h = data_560Mhz_1000h_fits[0].data[0,0]\n"
      ],
      "execution_count": 4,
      "outputs": [
        {
          "output_type": "stream",
          "name": "stderr",
          "text": [
            "WARNING: VerifyWarning: Invalid 'BLANK' keyword in header.  The 'BLANK' keyword is only applicable to integer data, and will be ignored in this HDU. [astropy.io.fits.hdu.image]\n"
          ]
        }
      ]
    },
    {
      "cell_type": "code",
      "metadata": {
        "id": "jdi1VFtOF-5V",
        "outputId": "0637233d-fadd-4c9f-b823-02ab6424866f"
      },
      "source": [
        "# Visualization test\n",
        "from astropy.io import fits\n",
        "from astropy.utils.data import download_file\n",
        "\n",
        "# image_file = download_file('https://owncloud.ia2.inaf.it/index.php/s/hbasFhd4YILNkCr/download', cache=True )\n",
        "\n",
        "# image_data = fits.getdata(image_file)\n",
        "# image_data = image_data.reshape(image_data.shape[2:])\n",
        "\n",
        "# compute per value to clip the image\n",
        "perc = 99.9\n",
        "percentileThresh = np.percentile(data_560Mhz_1000h, perc)\n",
        "print (f'{perc} percentile {percentileThresh}')\n",
        "\n",
        "# # crop the image to speed up computation and clip using per value\n",
        "# image_crop= image_data[5000:10000, 5000:10000]\n",
        "# image_crop.clip(max=percentileThresh)\n",
        "\n",
        "# plt.figure(figsize=(100, 100))\n",
        "# # plt.imshow(normalized_data, cmap='viridis', vmax=255, vmin=0)\n",
        "# for idx in range(25):\n",
        "#     plt.subplot(5, 5, idx+1)\n",
        "#     plt.axis('off')\n",
        "#     base = 200 * idx\n",
        "#     end = base + 200\n",
        "#     normalized_data = image_crop[base:end, base:end] * (1.0 / percentileThresh)\n",
        "#     plt.imshow(normalized_data, cmap='viridis', vmax=1, vmin=0)"
      ],
      "execution_count": 28,
      "outputs": [
        {
          "output_type": "stream",
          "name": "stdout",
          "text": [
            "99.9 percentile 8.316711500810925e-06\n"
          ]
        }
      ]
    },
    {
      "cell_type": "markdown",
      "metadata": {
        "id": "UqSLm8sBF-5W"
      },
      "source": [
        "### Preprocessing"
      ]
    },
    {
      "cell_type": "code",
      "execution_count": 18,
      "metadata": {},
      "outputs": [],
      "source": [
        "coords = ska_dataset._convert_boxes_to_px_coord(ska_dataset.raw_train_df, data_560Mhz_1000h_fits[0].header)"
      ]
    },
    {
      "source": [
        "pd.DataFrame.from_dict(coords)"
      ],
      "cell_type": "code",
      "metadata": {
        "tags": []
      },
      "execution_count": 14,
      "outputs": [
        {
          "output_type": "execute_result",
          "data": {
            "text/plain": [
              "                x1            y1            x2            y2  major_semia_px  \\\n",
              "0     19511.716409  18336.438393  19512.236701  18337.368476        0.520481   \n",
              "1     17462.766064  18237.777763  17463.578359  18238.502373        0.521308   \n",
              "2     18743.873128  18203.983828  18744.619426  18205.158678        0.640464   \n",
              "3     18243.029932  19392.024143  18243.201470  19392.677135        0.326852   \n",
              "4     18096.592661  16771.274132  18097.137239  16772.532130        0.640464   \n",
              "...            ...           ...           ...           ...             ...   \n",
              "1917  17282.263190  18813.248637  17282.766523  18814.383517        0.591643   \n",
              "1918  18320.371448  18524.427677  18321.447576  18525.365962        0.679355   \n",
              "1919  16586.905882  17846.493424  16590.199428  17851.852471        3.075718   \n",
              "1920  17376.842669  17542.989490  17377.028023  17543.174844        0.092677   \n",
              "1921  18510.536456  18633.013674  18511.256870  18633.679091        0.460075   \n",
              "\n",
              "      minor_semia_px  pa_in_rad     width    height  \n",
              "0           0.114191  -1.092454  0.520292  0.930083  \n",
              "1           0.156392  -0.717069  0.812295  0.724610  \n",
              "2           0.272239   1.114969  0.746297  1.174850  \n",
              "3           0.084402  -1.522486  0.171537  0.652992  \n",
              "4           0.244105  -1.365615  0.544578  1.257999  \n",
              "...              ...        ...       ...       ...  \n",
              "1917        0.187836  -1.267633  0.503333  1.134880  \n",
              "1918        0.219280  -0.701046  1.076128  0.938285  \n",
              "1919        0.657014   1.044248  3.293546  5.359047  \n",
              "1920        0.092677   3.641996  0.185354  0.185354  \n",
              "1921        0.169632  -0.733213  0.720414  0.665417  \n",
              "\n",
              "[1922 rows x 9 columns]"
            ],
            "text/html": "<div>\n<style scoped>\n    .dataframe tbody tr th:only-of-type {\n        vertical-align: middle;\n    }\n\n    .dataframe tbody tr th {\n        vertical-align: top;\n    }\n\n    .dataframe thead th {\n        text-align: right;\n    }\n</style>\n<table border=\"1\" class=\"dataframe\">\n  <thead>\n    <tr style=\"text-align: right;\">\n      <th></th>\n      <th>x1</th>\n      <th>y1</th>\n      <th>x2</th>\n      <th>y2</th>\n      <th>major_semia_px</th>\n      <th>minor_semia_px</th>\n      <th>pa_in_rad</th>\n      <th>width</th>\n      <th>height</th>\n    </tr>\n  </thead>\n  <tbody>\n    <tr>\n      <th>0</th>\n      <td>19511.716409</td>\n      <td>18336.438393</td>\n      <td>19512.236701</td>\n      <td>18337.368476</td>\n      <td>0.520481</td>\n      <td>0.114191</td>\n      <td>-1.092454</td>\n      <td>0.520292</td>\n      <td>0.930083</td>\n    </tr>\n    <tr>\n      <th>1</th>\n      <td>17462.766064</td>\n      <td>18237.777763</td>\n      <td>17463.578359</td>\n      <td>18238.502373</td>\n      <td>0.521308</td>\n      <td>0.156392</td>\n      <td>-0.717069</td>\n      <td>0.812295</td>\n      <td>0.724610</td>\n    </tr>\n    <tr>\n      <th>2</th>\n      <td>18743.873128</td>\n      <td>18203.983828</td>\n      <td>18744.619426</td>\n      <td>18205.158678</td>\n      <td>0.640464</td>\n      <td>0.272239</td>\n      <td>1.114969</td>\n      <td>0.746297</td>\n      <td>1.174850</td>\n    </tr>\n    <tr>\n      <th>3</th>\n      <td>18243.029932</td>\n      <td>19392.024143</td>\n      <td>18243.201470</td>\n      <td>19392.677135</td>\n      <td>0.326852</td>\n      <td>0.084402</td>\n      <td>-1.522486</td>\n      <td>0.171537</td>\n      <td>0.652992</td>\n    </tr>\n    <tr>\n      <th>4</th>\n      <td>18096.592661</td>\n      <td>16771.274132</td>\n      <td>18097.137239</td>\n      <td>16772.532130</td>\n      <td>0.640464</td>\n      <td>0.244105</td>\n      <td>-1.365615</td>\n      <td>0.544578</td>\n      <td>1.257999</td>\n    </tr>\n    <tr>\n      <th>...</th>\n      <td>...</td>\n      <td>...</td>\n      <td>...</td>\n      <td>...</td>\n      <td>...</td>\n      <td>...</td>\n      <td>...</td>\n      <td>...</td>\n      <td>...</td>\n    </tr>\n    <tr>\n      <th>1917</th>\n      <td>17282.263190</td>\n      <td>18813.248637</td>\n      <td>17282.766523</td>\n      <td>18814.383517</td>\n      <td>0.591643</td>\n      <td>0.187836</td>\n      <td>-1.267633</td>\n      <td>0.503333</td>\n      <td>1.134880</td>\n    </tr>\n    <tr>\n      <th>1918</th>\n      <td>18320.371448</td>\n      <td>18524.427677</td>\n      <td>18321.447576</td>\n      <td>18525.365962</td>\n      <td>0.679355</td>\n      <td>0.219280</td>\n      <td>-0.701046</td>\n      <td>1.076128</td>\n      <td>0.938285</td>\n    </tr>\n    <tr>\n      <th>1919</th>\n      <td>16586.905882</td>\n      <td>17846.493424</td>\n      <td>16590.199428</td>\n      <td>17851.852471</td>\n      <td>3.075718</td>\n      <td>0.657014</td>\n      <td>1.044248</td>\n      <td>3.293546</td>\n      <td>5.359047</td>\n    </tr>\n    <tr>\n      <th>1920</th>\n      <td>17376.842669</td>\n      <td>17542.989490</td>\n      <td>17377.028023</td>\n      <td>17543.174844</td>\n      <td>0.092677</td>\n      <td>0.092677</td>\n      <td>3.641996</td>\n      <td>0.185354</td>\n      <td>0.185354</td>\n    </tr>\n    <tr>\n      <th>1921</th>\n      <td>18510.536456</td>\n      <td>18633.013674</td>\n      <td>18511.256870</td>\n      <td>18633.679091</td>\n      <td>0.460075</td>\n      <td>0.169632</td>\n      <td>-0.733213</td>\n      <td>0.720414</td>\n      <td>0.665417</td>\n    </tr>\n  </tbody>\n</table>\n<p>1922 rows × 9 columns</p>\n</div>"
          },
          "metadata": {},
          "execution_count": 14
        }
      ]
    },
    {
      "cell_type": "code",
      "execution_count": 19,
      "metadata": {},
      "outputs": [
        {
          "output_type": "execute_result",
          "data": {
            "text/plain": [
              "         ID  RA (core)  DEC (core)  RA (centroid)  DEC (centroid)      FLUX  \\\n",
              "0  24121695  -0.642227  -29.775242      -0.642316      -29.775211  0.000035   \n",
              "1  20167150  -0.390473  -29.867493      -0.390667      -29.868851  0.029555   \n",
              "2  20045120  -0.021411  -29.643486      -0.021359      -29.643561  0.000653   \n",
              "3  33938384  -0.316375  -29.697647      -0.316375      -29.697647  0.000017   \n",
              "4   7527248  -0.336528  -29.627335      -0.336527      -29.627338  0.000054   \n",
              "\n",
              "   Core frac     BMAJ    BMIN       PA  ...          y            x1  \\\n",
              "0   0.000000    5.600   5.551  328.554  ...  17712.942  19699.889820   \n",
              "1   0.016924  107.110  43.263  191.258  ...  17160.919  18314.128617   \n",
              "2   0.012185    5.037   3.525  276.587  ...  18506.577  16490.663037   \n",
              "3   0.000000    0.847   0.266  346.641  ...  18182.095  18019.631633   \n",
              "4   0.044763    3.343   1.515  279.006  ...  18600.680  18124.509296   \n",
              "\n",
              "             y1            x2            y2  major_semia_px  minor_semia_px  \\\n",
              "0  17708.334874  19709.135520  17717.543623        4.633850        4.593304   \n",
              "1  17121.775102  18488.540079  17200.059688       88.630651       35.798972   \n",
              "2  18502.418816  16496.536575  18510.726749        4.167982        2.916843   \n",
              "3  18181.823147  18020.999232  18182.360119        0.700870        0.220108   \n",
              "4  18597.936034  18127.132703  18603.414392        2.766243        1.253622   \n",
              "\n",
              "   pa_in_rad       width     height  \n",
              "0   5.734349    9.245699   9.208748  \n",
              "1   3.338082  174.411463  78.284586  \n",
              "2   4.827354    5.873538   8.307933  \n",
              "3   6.050027    1.367598   0.536972  \n",
              "4   4.869573    2.623407   5.478358  \n",
              "\n",
              "[5 rows x 24 columns]"
            ],
            "text/html": "<div>\n<style scoped>\n    .dataframe tbody tr th:only-of-type {\n        vertical-align: middle;\n    }\n\n    .dataframe tbody tr th {\n        vertical-align: top;\n    }\n\n    .dataframe thead th {\n        text-align: right;\n    }\n</style>\n<table border=\"1\" class=\"dataframe\">\n  <thead>\n    <tr style=\"text-align: right;\">\n      <th></th>\n      <th>ID</th>\n      <th>RA (core)</th>\n      <th>DEC (core)</th>\n      <th>RA (centroid)</th>\n      <th>DEC (centroid)</th>\n      <th>FLUX</th>\n      <th>Core frac</th>\n      <th>BMAJ</th>\n      <th>BMIN</th>\n      <th>PA</th>\n      <th>...</th>\n      <th>y</th>\n      <th>x1</th>\n      <th>y1</th>\n      <th>x2</th>\n      <th>y2</th>\n      <th>major_semia_px</th>\n      <th>minor_semia_px</th>\n      <th>pa_in_rad</th>\n      <th>width</th>\n      <th>height</th>\n    </tr>\n  </thead>\n  <tbody>\n    <tr>\n      <th>0</th>\n      <td>24121695</td>\n      <td>-0.642227</td>\n      <td>-29.775242</td>\n      <td>-0.642316</td>\n      <td>-29.775211</td>\n      <td>0.000035</td>\n      <td>0.000000</td>\n      <td>5.600</td>\n      <td>5.551</td>\n      <td>328.554</td>\n      <td>...</td>\n      <td>17712.942</td>\n      <td>19699.889820</td>\n      <td>17708.334874</td>\n      <td>19709.135520</td>\n      <td>17717.543623</td>\n      <td>4.633850</td>\n      <td>4.593304</td>\n      <td>5.734349</td>\n      <td>9.245699</td>\n      <td>9.208748</td>\n    </tr>\n    <tr>\n      <th>1</th>\n      <td>20167150</td>\n      <td>-0.390473</td>\n      <td>-29.867493</td>\n      <td>-0.390667</td>\n      <td>-29.868851</td>\n      <td>0.029555</td>\n      <td>0.016924</td>\n      <td>107.110</td>\n      <td>43.263</td>\n      <td>191.258</td>\n      <td>...</td>\n      <td>17160.919</td>\n      <td>18314.128617</td>\n      <td>17121.775102</td>\n      <td>18488.540079</td>\n      <td>17200.059688</td>\n      <td>88.630651</td>\n      <td>35.798972</td>\n      <td>3.338082</td>\n      <td>174.411463</td>\n      <td>78.284586</td>\n    </tr>\n    <tr>\n      <th>2</th>\n      <td>20045120</td>\n      <td>-0.021411</td>\n      <td>-29.643486</td>\n      <td>-0.021359</td>\n      <td>-29.643561</td>\n      <td>0.000653</td>\n      <td>0.012185</td>\n      <td>5.037</td>\n      <td>3.525</td>\n      <td>276.587</td>\n      <td>...</td>\n      <td>18506.577</td>\n      <td>16490.663037</td>\n      <td>18502.418816</td>\n      <td>16496.536575</td>\n      <td>18510.726749</td>\n      <td>4.167982</td>\n      <td>2.916843</td>\n      <td>4.827354</td>\n      <td>5.873538</td>\n      <td>8.307933</td>\n    </tr>\n    <tr>\n      <th>3</th>\n      <td>33938384</td>\n      <td>-0.316375</td>\n      <td>-29.697647</td>\n      <td>-0.316375</td>\n      <td>-29.697647</td>\n      <td>0.000017</td>\n      <td>0.000000</td>\n      <td>0.847</td>\n      <td>0.266</td>\n      <td>346.641</td>\n      <td>...</td>\n      <td>18182.095</td>\n      <td>18019.631633</td>\n      <td>18181.823147</td>\n      <td>18020.999232</td>\n      <td>18182.360119</td>\n      <td>0.700870</td>\n      <td>0.220108</td>\n      <td>6.050027</td>\n      <td>1.367598</td>\n      <td>0.536972</td>\n    </tr>\n    <tr>\n      <th>4</th>\n      <td>7527248</td>\n      <td>-0.336528</td>\n      <td>-29.627335</td>\n      <td>-0.336527</td>\n      <td>-29.627338</td>\n      <td>0.000054</td>\n      <td>0.044763</td>\n      <td>3.343</td>\n      <td>1.515</td>\n      <td>279.006</td>\n      <td>...</td>\n      <td>18600.680</td>\n      <td>18124.509296</td>\n      <td>18597.936034</td>\n      <td>18127.132703</td>\n      <td>18603.414392</td>\n      <td>2.766243</td>\n      <td>1.253622</td>\n      <td>4.869573</td>\n      <td>2.623407</td>\n      <td>5.478358</td>\n    </tr>\n  </tbody>\n</table>\n<p>5 rows × 24 columns</p>\n</div>"
          },
          "metadata": {},
          "execution_count": 19
        }
      ],
      "source": [
        "df_train = ska_dataset._extend_dataframe(ska_dataset.raw_train_df, coords)\n",
        "df_train.head()"
      ]
    },
    {
      "cell_type": "code",
      "execution_count": 8,
      "metadata": {},
      "outputs": [
        {
          "output_type": "execute_result",
          "data": {
            "text/plain": [
              "(3177, 3451)"
            ]
          },
          "metadata": {},
          "execution_count": 8
        }
      ],
      "source": [
        "x1_min = int(np.floor(min(df_train['x1'])))\n",
        "y1_min = int(np.floor(min(df_train['y1'])))\n",
        "\n",
        "x2_max = int(np.floor(max(df_train['x2'])))\n",
        "y2_max = int(np.floor(max(df_train['y2'])))\n",
        "\n",
        "data_560Mhz_1000h_train = data_560Mhz_1000h[y1_min:y2_max, x1_min:x2_max]\n",
        "data_560Mhz_1000h_train.shape\n"
      ]
    },
    {
      "cell_type": "code",
      "execution_count": 9,
      "metadata": {},
      "outputs": [
        {
          "output_type": "stream",
          "name": "stdout",
          "text": [
            "0.48094657\n"
          ]
        }
      ],
      "source": [
        "fits_max_data_560Mhz_1000h = np.max(data_560Mhz_1000h)\n",
        "print(fits_max_data_560Mhz_1000h)\n",
        "\n",
        "data_560Mhz_1000h_train_clipped = np.clip(data_560Mhz_1000h_train, a_min=0, a_max=fits_max_data_560Mhz_1000h)"
      ]
    },
    {
      "cell_type": "code",
      "execution_count": 27,
      "metadata": {},
      "outputs": [
        {
          "output_type": "execute_result",
          "data": {
            "text/plain": [
              "array([[0.0000000e+00, 0.0000000e+00, 0.0000000e+00, ..., 5.1189630e-07,\n",
              "        1.1818922e-07, 0.0000000e+00],\n",
              "       [0.0000000e+00, 0.0000000e+00, 0.0000000e+00, ..., 3.5396201e-07,\n",
              "        7.6755441e-08, 0.0000000e+00],\n",
              "       [1.0576650e-07, 0.0000000e+00, 0.0000000e+00, ..., 0.0000000e+00,\n",
              "        0.0000000e+00, 0.0000000e+00],\n",
              "       ...,\n",
              "       [0.0000000e+00, 0.0000000e+00, 0.0000000e+00, ..., 1.4718134e-07,\n",
              "        3.5016120e-07, 2.1914468e-07],\n",
              "       [0.0000000e+00, 0.0000000e+00, 0.0000000e+00, ..., 1.6405086e-07,\n",
              "        0.0000000e+00, 0.0000000e+00],\n",
              "       [0.0000000e+00, 0.0000000e+00, 0.0000000e+00, ..., 2.6262634e-07,\n",
              "        0.0000000e+00, 0.0000000e+00]], dtype=float32)"
            ]
          },
          "metadata": {},
          "execution_count": 27
        }
      ],
      "source": [
        "data_560Mhz_1000h_train_clipped"
      ]
    },
    {
      "cell_type": "code",
      "metadata": {
        "id": "Ug10Ku-OF-5Y",
        "outputId": "c3b6bed6-24a7-4f71-cbed-c4b6b8d934af",
        "tags": []
      },
      "source": [
        "patches={}\n",
        "patches = ska_dataset._split_in_patch(data_560Mhz_1000h_train_clipped, df_train, data_560Mhz_1000h_fits.filename(), x1_min, y1_min, 205) # Remember to remove internal limit"
      ],
      "execution_count": 37,
      "outputs": [
        {
          "output_type": "stream",
          "name": "stdout",
          "text": [
            "image saved\nIndex(['ID', 'RA (core)', 'DEC (core)', 'RA (centroid)', 'DEC (centroid)',\n       'FLUX', 'Core frac', 'BMAJ', 'BMIN', 'PA', 'SIZE', 'CLASS', 'SELECTION',\n       'x', 'y', 'x1', 'y1', 'x2', 'y2', 'major_semia_px', 'minor_semia_px',\n       'pa_in_rad', 'width', 'height', 'x1s', 'y1s', 'x2s', 'y2s',\n       'patch_name', 'patch_xo', 'patch_yo', 'patch_dim'],\n      dtype='object')\n           ID  RA (core)  DEC (core)  RA (centroid)  DEC (centroid)      FLUX  \\\n11   27514971  -0.014459  -29.933004      -0.014121      -29.932705  0.039324   \n107  14022077  -0.039882  -29.915529      -0.039872      -29.915523  0.000157   \n115  15252327  -0.039005  -29.915081      -0.039002      -29.915081  0.000010   \n156  13302538  -0.005224  -29.939449      -0.005224      -29.939449  0.000017   \n427  30994188  -0.035645  -29.910868      -0.035645      -29.910868  0.000934   \n\n     Core frac    BMAJ    BMIN       PA  ...      width     height  \\\n11    0.004216  31.508  17.616  353.308  ...  51.900100  29.585640   \n107   0.014950   2.417   2.157  109.914  ...   3.622261   3.952489   \n115   0.013472   2.167   2.159  134.347  ...   3.579504   3.579806   \n156   0.861438   0.076   0.076  259.451  ...   0.125776   0.125776   \n427  -0.000000   7.350   6.634  -82.418  ...  11.000635  12.144215   \n\n            x1s         y1s         x2s         y2s                patch_name  \\\n11    44.960356   34.133503   96.860456   63.719143  560Mhz_1000h_16385_16735   \n107  202.088836  149.286649  205.000000  153.239138  560Mhz_1000h_16385_16735   \n115  197.619101  152.105382  201.198605  155.685188  560Mhz_1000h_16385_16735   \n156   24.907046    8.685744   25.032822    8.811519  560Mhz_1000h_16385_16735   \n427  176.576576  172.932133  187.577211  185.076348  560Mhz_1000h_16385_16735   \n\n     patch_xo  patch_yo  patch_dim  \n11      16385     16735        205  \n107     16385     16735        205  \n115     16385     16735        205  \n156     16385     16735        205  \n427     16385     16735        205  \n\n[5 rows x 32 columns]\n"
          ]
        }
      ]
    },
    {
      "cell_type": "code",
      "execution_count": 33,
      "metadata": {},
      "outputs": [
        {
          "output_type": "stream",
          "name": "stdout",
          "text": [
            "[[0.0000000e+00 5.0277004e-07 8.1352823e-07 ... 2.1992520e-07\n  3.3757752e-07 8.9618879e-08]\n [0.0000000e+00 4.7234460e-07 7.5504875e-07 ... 0.0000000e+00\n  2.7678368e-08 3.8842813e-08]\n [0.0000000e+00 0.0000000e+00 4.7753889e-07 ... 0.0000000e+00\n  0.0000000e+00 0.0000000e+00]\n ...\n [1.6627402e-07 2.2166087e-07 0.0000000e+00 ... 0.0000000e+00\n  0.0000000e+00 0.0000000e+00]\n [1.3635220e-07 2.9386493e-07 0.0000000e+00 ... 0.0000000e+00\n  0.0000000e+00 0.0000000e+00]\n [0.0000000e+00 0.0000000e+00 0.0000000e+00 ... 0.0000000e+00\n  0.0000000e+00 0.0000000e+00]]\n"
          ]
        }
      ],
      "source": [
        "a = np.load(os.path.join(config.TRAIN_PATCHES_FOLDER, 'your_file.npy'))\n",
        "print(a)"
      ]
    },
    {
      "source": [
        "#TODO:\n",
        "- Ingrandire bbox\n",
        "- unire bbox sovrapposte\n",
        "- Mergiare branch data_clean (anche alla fine)\n",
        "- Quando vengono create le patch, ritagliare le bbox per farle stare tutte nella patch X\n",
        "- Check tra nostro dataset pulito e quello di ICRAR (dopo aver mergiato il branch data_clean)\n",
        "\n",
        "Da capire per la rete:\n",
        "- bisogna scalre input tra 0 e 255 intero?\n",
        "- salvare le patch come immagini o possiamo darle in input on the fly?\n",
        "- è necessario un custom input layer che converte le nostra immagini da 1 a 3 canali?"
      ],
      "cell_type": "markdown",
      "metadata": {}
    },
    {
      "cell_type": "code",
      "execution_count": 5,
      "metadata": {},
      "outputs": [
        {
          "output_type": "stream",
          "name": "stdout",
          "text": [
            "Downloading SKA vgg16_weights_tf_dim_ordering_tf_kernels_notop.h5 data...\n",
            "Download completed!\n"
          ]
        }
      ],
      "source": [
        "# Download VGG16 weights\n",
        "# 'https://github.com/fchollet/deep-learning-models/releases/download/v0.1/vgg16_weights_tf_dim_ordering_tf_kernels_notop.h5'\n",
        "\n",
        "download_data('vgg16_weights_tf_dim_ordering_tf_kernels_notop.h5', \n",
        "'https://github.com/fchollet/deep-learning-models/releases/download/v0.1/vgg16_weights_tf_dim_ordering_tf_kernels_notop.h5', config.MODEL_WEIGHTS + '/vgg16')\n"
      ]
    },
    {
      "cell_type": "code",
      "metadata": {
        "id": "maVI39nOF-5Y",
        "outputId": "d4c6a026-68b9-46fa-c7af-b692285199cd"
      },
      "source": [
        "# First net version\n",
        "import keras\n",
        "from keras import backend as K\n",
        "from keras.layers import Input, Conv2D, MaxPooling2D, Reshape, Concatenate\n",
        "\n",
        "FROZEN_LAYERS_IDX = [1, 2, 4, 5]\n",
        "ANCHOR_NUM = 6\n",
        "PROB_PRED_OUT = 2 * ANCHOR_NUM\n",
        "COORD_PRED_OUT = 4 * ANCHOR_NUM \n",
        "input_shape=(600, 600, 1) #TODO: change to 205,205,1\n",
        "\n",
        "vgg16_weight_path = os.path.join('./model/vgg16/vgg16_weights_tf_dim_ordering_tf_kernels_notop.h5')\n",
        "\n",
        "# Add custom input-layer to change from1 to 3 channels\n",
        "inp = Input(input_shape)\n",
        "expander_layer = Conv2D(filters=3, kernel_size=(1, 1), padding='same', activation='relu', name='Custom_input_layer')(inp)\n",
        "\n",
        "'''\n",
        "# Load pretrained VGG16 and remove last MaxPool layer\n",
        "# VGG16 = keras.applications.VGG16(include_top=False, weights=\"imagenet\", pooling=None) # Commentato perchè non siamo riusciti a togliere l'ultimo layer\n",
        "# x = x(expander_layer)\n",
        "'''\n",
        "\n",
        "# Block 1\n",
        "x = Conv2D(64, (3, 3), activation='relu', padding='same', name='block1_conv1', trainable=False)(expander_layer)\n",
        "x = Conv2D(64, (3, 3), activation='relu', padding='same', name='block1_conv2', trainable=False)(x)\n",
        "x = MaxPooling2D((2, 2), strides=(2, 2), name='block1_pool')(x)\n",
        "\n",
        "# Block 2\n",
        "x = Conv2D(128, (3, 3), activation='relu', padding='same', name='block2_conv1', trainable=False)(x)\n",
        "x = Conv2D(128, (3, 3), activation='relu', padding='same', name='block2_conv2', trainable=False)(x)\n",
        "x = MaxPooling2D((2, 2), strides=(2, 2), name='block2_pool')(x)\n",
        "\n",
        "# Block 3\n",
        "x = Conv2D(256, (3, 3), activation='relu', padding='same', name='block3_conv1')(x)\n",
        "x = Conv2D(256, (3, 3), activation='relu', padding='same', name='block3_conv2')(x)\n",
        "x = Conv2D(256, (3, 3), activation='relu', padding='same', name='block3_conv3')(x)\n",
        "x = MaxPooling2D((2, 2), strides=(2, 2), name='block3_pool')(x)\n",
        "\n",
        "# Block 4\n",
        "x = Conv2D(512, (3, 3), activation='relu', padding='same', name='block4_conv1')(x)\n",
        "x = Conv2D(512, (3, 3), activation='relu', padding='same', name='block4_conv2')(x)\n",
        "x = Conv2D(512, (3, 3), activation='relu', padding='same', name='block4_conv3')(x)\n",
        "x = MaxPooling2D((2, 2), strides=(2, 2), name='block4_pool')(x)\n",
        "\n",
        "# Block 5\n",
        "x = Conv2D(512, (3, 3), activation='relu', padding='same', name='block5_conv1')(x)\n",
        "x = Conv2D(512, (3, 3), activation='relu', padding='same', name='block5_conv2')(x)\n",
        "x = Conv2D(512, (3, 3), activation='relu', padding='same', name='block5_conv3')(x)\n",
        "# x = MaxPooling2D((2, 2), strides=(2, 2), name='block5_pool')(x)\n",
        "\n",
        "print(x)\n",
        "\n",
        "\n",
        "# # Freeze first 4 convolutional layers\n",
        "# for idx in FROZEN_LAYERS_IDX:\n",
        "#   VGG16.layers[idx].trainable = False\n",
        "\n",
        "# # Create Region Proposal Net\n",
        "x = Conv2D(filters=512, kernel_size=(3, 3), padding='same', activation='relu', name='18_RPN_Conv1')(x)\n",
        "cls_pred = Conv2D(filters=PROB_PRED_OUT, kernel_size=(1, 1), padding='same', activation='sigmoid', name='19_Anchor_Cls_Conv')(x) #output of layer 20\n",
        "reg_pred = Conv2D(filters=COORD_PRED_OUT, kernel_size=(1, 1), padding='same', activation='linear', name='19_Anchor_Reg_Conv')(x) #output of layer 19\n",
        "\n",
        "print(x)\n",
        "print(cls_pred.shape)\n",
        "print(reg_pred.shape)\n",
        "\n",
        "anch_target_cls = Reshape((cls_pred.shape[1]**2, cls_pred.shape[3]), name='20_Anchor_Target_cls')(cls_pred)\n",
        "anch_target_reg = Reshape((reg_pred.shape[1]**2, reg_pred.shape[3]), name='20_Anchor_Target_reg')(reg_pred)\n",
        "\n",
        "print(anch_target_cls)\n",
        "print(anch_target_reg)\n",
        "\n",
        "region_prop_net = keras.Model(inp, [cls_pred, reg_pred], name='Region Proposal')\n",
        "\n",
        "region_prop_net.load_weights(vgg16_weight_path, by_name=True)\n",
        "\n",
        "# region_prop_net.compile(loss='categorical_crossentropy', optimizer='adam')\n",
        "\n",
        "region_prop_net.summary()"
      ],
      "execution_count": 8,
      "outputs": [
        {
          "output_type": "stream",
          "name": "stdout",
          "text": [
            "KerasTensor(type_spec=TensorSpec(shape=(None, 37, 37, 512), dtype=tf.float32, name=None), name='block5_conv3/Relu:0', description=\"created by layer 'block5_conv3'\")\nKerasTensor(type_spec=TensorSpec(shape=(None, 37, 37, 512), dtype=tf.float32, name=None), name='18_RPN_Conv1/Relu:0', description=\"created by layer '18_RPN_Conv1'\")\n(None, 37, 37, 12)\n(None, 37, 37, 24)\nKerasTensor(type_spec=TensorSpec(shape=(None, 1369, 12), dtype=tf.float32, name=None), name='20_Anchor_Target_cls/Reshape:0', description=\"created by layer '20_Anchor_Target_cls'\")\nKerasTensor(type_spec=TensorSpec(shape=(None, 1369, 24), dtype=tf.float32, name=None), name='20_Anchor_Target_reg/Reshape:0', description=\"created by layer '20_Anchor_Target_reg'\")\nModel: \"Region Proposal\"\n__________________________________________________________________________________________________\nLayer (type)                    Output Shape         Param #     Connected to                     \n==================================================================================================\ninput_6 (InputLayer)            [(None, 600, 600, 1) 0                                            \n__________________________________________________________________________________________________\nCustom_input_layer (Conv2D)     (None, 600, 600, 3)  6           input_6[0][0]                    \n__________________________________________________________________________________________________\nblock1_conv1 (Conv2D)           (None, 600, 600, 64) 1792        Custom_input_layer[0][0]         \n__________________________________________________________________________________________________\nblock1_conv2 (Conv2D)           (None, 600, 600, 64) 36928       block1_conv1[0][0]               \n__________________________________________________________________________________________________\nblock1_pool (MaxPooling2D)      (None, 300, 300, 64) 0           block1_conv2[0][0]               \n__________________________________________________________________________________________________\nblock2_conv1 (Conv2D)           (None, 300, 300, 128 73856       block1_pool[0][0]                \n__________________________________________________________________________________________________\nblock2_conv2 (Conv2D)           (None, 300, 300, 128 147584      block2_conv1[0][0]               \n__________________________________________________________________________________________________\nblock2_pool (MaxPooling2D)      (None, 150, 150, 128 0           block2_conv2[0][0]               \n__________________________________________________________________________________________________\nblock3_conv1 (Conv2D)           (None, 150, 150, 256 295168      block2_pool[0][0]                \n__________________________________________________________________________________________________\nblock3_conv2 (Conv2D)           (None, 150, 150, 256 590080      block3_conv1[0][0]               \n__________________________________________________________________________________________________\nblock3_conv3 (Conv2D)           (None, 150, 150, 256 590080      block3_conv2[0][0]               \n__________________________________________________________________________________________________\nblock3_pool (MaxPooling2D)      (None, 75, 75, 256)  0           block3_conv3[0][0]               \n__________________________________________________________________________________________________\nblock4_conv1 (Conv2D)           (None, 75, 75, 512)  1180160     block3_pool[0][0]                \n__________________________________________________________________________________________________\nblock4_conv2 (Conv2D)           (None, 75, 75, 512)  2359808     block4_conv1[0][0]               \n__________________________________________________________________________________________________\nblock4_conv3 (Conv2D)           (None, 75, 75, 512)  2359808     block4_conv2[0][0]               \n__________________________________________________________________________________________________\nblock4_pool (MaxPooling2D)      (None, 37, 37, 512)  0           block4_conv3[0][0]               \n__________________________________________________________________________________________________\nblock5_conv1 (Conv2D)           (None, 37, 37, 512)  2359808     block4_pool[0][0]                \n__________________________________________________________________________________________________\nblock5_conv2 (Conv2D)           (None, 37, 37, 512)  2359808     block5_conv1[0][0]               \n__________________________________________________________________________________________________\nblock5_conv3 (Conv2D)           (None, 37, 37, 512)  2359808     block5_conv2[0][0]               \n__________________________________________________________________________________________________\n18_RPN_Conv1 (Conv2D)           (None, 37, 37, 512)  2359808     block5_conv3[0][0]               \n__________________________________________________________________________________________________\n19_Anchor_Cls_Conv (Conv2D)     (None, 37, 37, 12)   6156        18_RPN_Conv1[0][0]               \n__________________________________________________________________________________________________\n19_Anchor_Reg_Conv (Conv2D)     (None, 37, 37, 24)   12312       18_RPN_Conv1[0][0]               \n==================================================================================================\nTotal params: 17,092,970\nTrainable params: 16,832,810\nNon-trainable params: 260,160\n__________________________________________________________________________________________________\n"
          ]
        }
      ]
    },
    {
      "cell_type": "code",
      "execution_count": null,
      "metadata": {},
      "outputs": [],
      "source": [
        "def rpn_loss_regr(num_anchors):\n",
        "    \"\"\"Loss function for rpn regression\n",
        "    Args:\n",
        "        num_anchors: number of anchors (9 in here)\n",
        "    Returns:\n",
        "        Smooth L1 loss function \n",
        "                           0.5*x*x (if x_abs < 1)\n",
        "                           x_abx - 0.5 (otherwise)\n",
        "    \"\"\"\n",
        "    def rpn_loss_regr_fixed_num(y_true, y_pred):\n",
        "\n",
        "        # x is the difference between true value and predicted value\n",
        "        x = y_true[:, :, :, 4 * num_anchors:] - y_pred\n",
        "\n",
        "        # absolute value of x\n",
        "        x_abs = K.abs(x)\n",
        "\n",
        "        # If x_abs <= 1.0, x_bool = 1\n",
        "        x_bool = K.cast(K.less_equal(x_abs, 1.0), tf.float32)\n",
        "\n",
        "        return lambda_rpn_regr * K.sum(\n",
        "            y_true[:, :, :, :4 * num_anchors] * (x_bool * (0.5 * x * x) + (1 - x_bool) * (x_abs - 0.5))) / K.sum(epsilon + y_true[:, :, :, :4 * num_anchors])\n",
        "\n",
        "    return rpn_loss_regr_fixed_num"
      ]
    },
    {
      "cell_type": "code",
      "execution_count": 115,
      "metadata": {},
      "outputs": [
        {
          "output_type": "execute_result",
          "data": {
            "text/plain": [
              "array([[[9., 9., 9., 9., 9., 9., 9., 9., 9., 9., 9., 9.],\n",
              "        [9., 9., 9., 9., 9., 9., 9., 9., 9., 9., 9., 9.],\n",
              "        [9., 9., 9., 9., 9., 9., 9., 9., 9., 9., 9., 9.]],\n",
              "\n",
              "       [[1., 1., 1., 1., 1., 1., 1., 1., 1., 1., 1., 1.],\n",
              "        [1., 1., 1., 1., 1., 1., 1., 1., 1., 1., 1., 1.],\n",
              "        [1., 1., 1., 1., 1., 1., 1., 1., 1., 1., 1., 1.]],\n",
              "\n",
              "       [[0., 0., 0., 0., 0., 0., 0., 0., 0., 0., 0., 0.],\n",
              "        [0., 0., 0., 0., 0., 0., 0., 0., 0., 0., 0., 0.],\n",
              "        [0., 0., 0., 0., 0., 0., 0., 0., 0., 0., 0., 0.]]])"
            ]
          },
          "metadata": {},
          "execution_count": 115
        }
      ],
      "source": [
        "y_rpn_regr = np.zeros((3, 3, 3 * 4))\n",
        "y_rpn_regr[0] = 9\n",
        "y_rpn_regr[1] = 1\n",
        "y_rpn_regr"
      ]
    },
    {
      "cell_type": "code",
      "execution_count": 116,
      "metadata": {},
      "outputs": [
        {
          "output_type": "stream",
          "name": "stdout",
          "text": [
            "[[[9. 9. 9.]\n  [1. 1. 1.]\n  [0. 0. 0.]]\n\n [[9. 9. 9.]\n  [1. 1. 1.]\n  [0. 0. 0.]]\n\n [[9. 9. 9.]\n  [1. 1. 1.]\n  [0. 0. 0.]]\n\n [[9. 9. 9.]\n  [1. 1. 1.]\n  [0. 0. 0.]]\n\n [[9. 9. 9.]\n  [1. 1. 1.]\n  [0. 0. 0.]]\n\n [[9. 9. 9.]\n  [1. 1. 1.]\n  [0. 0. 0.]]\n\n [[9. 9. 9.]\n  [1. 1. 1.]\n  [0. 0. 0.]]\n\n [[9. 9. 9.]\n  [1. 1. 1.]\n  [0. 0. 0.]]\n\n [[9. 9. 9.]\n  [1. 1. 1.]\n  [0. 0. 0.]]\n\n [[9. 9. 9.]\n  [1. 1. 1.]\n  [0. 0. 0.]]\n\n [[9. 9. 9.]\n  [1. 1. 1.]\n  [0. 0. 0.]]\n\n [[9. 9. 9.]\n  [1. 1. 1.]\n  [0. 0. 0.]]]\n"
          ]
        }
      ],
      "source": [
        "y_rpn_regr = np.transpose(y_rpn_regr, (2, 0, 1))\n",
        "print(y_rpn_regr)"
      ]
    },
    {
      "cell_type": "code",
      "execution_count": 117,
      "metadata": {},
      "outputs": [
        {
          "output_type": "stream",
          "name": "stdout",
          "text": [
            "[[[[9. 9. 9.]\n   [1. 1. 1.]\n   [0. 0. 0.]]\n\n  [[9. 9. 9.]\n   [1. 1. 1.]\n   [0. 0. 0.]]\n\n  [[9. 9. 9.]\n   [1. 1. 1.]\n   [0. 0. 0.]]\n\n  [[9. 9. 9.]\n   [1. 1. 1.]\n   [0. 0. 0.]]\n\n  [[9. 9. 9.]\n   [1. 1. 1.]\n   [0. 0. 0.]]\n\n  [[9. 9. 9.]\n   [1. 1. 1.]\n   [0. 0. 0.]]\n\n  [[9. 9. 9.]\n   [1. 1. 1.]\n   [0. 0. 0.]]\n\n  [[9. 9. 9.]\n   [1. 1. 1.]\n   [0. 0. 0.]]\n\n  [[9. 9. 9.]\n   [1. 1. 1.]\n   [0. 0. 0.]]\n\n  [[9. 9. 9.]\n   [1. 1. 1.]\n   [0. 0. 0.]]\n\n  [[9. 9. 9.]\n   [1. 1. 1.]\n   [0. 0. 0.]]\n\n  [[9. 9. 9.]\n   [1. 1. 1.]\n   [0. 0. 0.]]]]\n"
          ]
        }
      ],
      "source": [
        "y_rpn_regr = np.expand_dims(y_rpn_regr, axis=0)\n",
        "print(y_rpn_regr)"
      ]
    },
    {
      "cell_type": "code",
      "execution_count": 14,
      "metadata": {},
      "outputs": [
        {
          "output_type": "error",
          "ename": "NameError",
          "evalue": "name 'y_rpn_regr' is not defined",
          "traceback": [
            "\u001b[0;31m---------------------------------------------------------------------------\u001b[0m",
            "\u001b[0;31mNameError\u001b[0m                                 Traceback (most recent call last)",
            "\u001b[0;32m<ipython-input-14-3e282e92b969>\u001b[0m in \u001b[0;36m<module>\u001b[0;34m\u001b[0m\n\u001b[1;32m      1\u001b[0m \u001b[0mbreakpoint\u001b[0m\u001b[0;34m(\u001b[0m\u001b[0;34m)\u001b[0m\u001b[0;34m\u001b[0m\u001b[0;34m\u001b[0m\u001b[0m\n\u001b[0;32m----> 2\u001b[0;31m \u001b[0my_rpn_regr\u001b[0m\u001b[0;34m.\u001b[0m\u001b[0mshape\u001b[0m\u001b[0;34m\u001b[0m\u001b[0;34m\u001b[0m\u001b[0m\n\u001b[0m",
            "\u001b[0;31mNameError\u001b[0m: name 'y_rpn_regr' is not defined"
          ]
        }
      ],
      "source": [
        "y_rpn_regr.shape"
      ]
    },
    {
      "cell_type": "code",
      "execution_count": null,
      "metadata": {},
      "outputs": [
        {
          "output_type": "error",
          "ename": "Error",
          "evalue": "connect ECONNREFUSED 127.0.0.1:63301",
          "traceback": [
            "Error: connect ECONNREFUSED 127.0.0.1:63301",
            "at TCPConnectWrap.afterConnect [as oncomplete] (net.js:1141:16)"
          ]
        }
      ],
      "source": [
        "a,b,c = prep.calc_rpn(df_train.head(1), 600, 600,600, 600)"
      ]
    },
    {
      "source": [
        "TODO - 20210502:\n",
        "- creare colonne per coordinate bbox nel sistema di riferimento della patch\n",
        "- creare cartelle per patches con jpeg + pkl delle sue sole bbox\n",
        "- ragionare su dimensioni patch\n",
        "- X Caricare pesi VGG16 nel nuovo network\n",
        "- lanciare training"
      ],
      "cell_type": "markdown",
      "metadata": {}
    },
    {
      "cell_type": "code",
      "execution_count": null,
      "metadata": {},
      "outputs": [],
      "source": [
        "#TODO: Provare YOLO che ad Asperti piace\n",
        "# Ablation study\n",
        "# Provare, a parità di frequenza, le esposizioni diverse come canali"
      ]
    }
  ]
}