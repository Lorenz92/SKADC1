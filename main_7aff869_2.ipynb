{
  "nbformat": 4,
  "nbformat_minor": 2,
  "metadata": {
    "language_info": {
      "codemirror_mode": {
        "name": "ipython",
        "version": 3
      },
      "file_extension": ".py",
      "mimetype": "text/x-python",
      "name": "python",
      "nbconvert_exporter": "python",
      "pygments_lexer": "ipython3",
      "version": "3.8.2"
    },
    "orig_nbformat": 2,
    "kernelspec": {
      "name": "python3",
      "display_name": "Python 3.8.2 64-bit"
    },
    "colab": {
      "name": "main.ipynb",
      "provenance": []
    },
    "metadata": {
      "interpreter": {
        "hash": "31f2aee4e71d21fbe5cf8b01ff0e069b9275f58929596ceb00d14d90e3e16cd6"
      }
    },
    "interpreter": {
      "hash": "31f2aee4e71d21fbe5cf8b01ff0e069b9275f58929596ceb00d14d90e3e16cd6"
    }
  },
  "cells": [
    {
      "cell_type": "code",
      "execution_count": 1,
      "source": [
        "# !git clone 'https://github.com/Lorenz92/SKADC1.git'\n",
        "# % cd SKADC1\n",
        "# !echo $PWD"
      ],
      "outputs": [],
      "metadata": {}
    },
    {
      "cell_type": "code",
      "execution_count": 2,
      "source": [
        "import pandas as pd\n",
        "import numpy as np\n",
        "\n",
        "import src.dataset as dataset\n",
        "import src.config as config \n",
        "from src.utils import *\n",
        "import src.models as models\n",
        "import src.losses as loss\n",
        "\n",
        "path = config.TRAIN_PATCHES_FOLDER\n",
        "%load_ext autoreload\n",
        "%autoreload 2\n",
        "\n",
        "np.random.seed(config.RANDOM_SEED)"
      ],
      "outputs": [],
      "metadata": {
        "id": "7WwOlsifF-5G",
        "outputId": "303002ab-c8c4-4807-caeb-ee1c590d4326",
        "colab": {
          "base_uri": "https://localhost:8080/"
        }
      }
    },
    {
      "cell_type": "code",
      "execution_count": 3,
      "source": [
        "if 'google.colab' in str(get_ipython()):\n",
        "  use_colab = True\n",
        "  print('Running on CoLab')\n",
        "else:\n",
        "  use_colab = False\n",
        "  print('Not running on CoLab')"
      ],
      "outputs": [
        {
          "output_type": "stream",
          "name": "stdout",
          "text": [
            "Not running on CoLab\n"
          ]
        }
      ],
      "metadata": {}
    },
    {
      "cell_type": "code",
      "execution_count": 4,
      "source": [
        "if use_colab:\n",
        "    # Read file from Colab Notebook\n",
        "    from google.colab import drive\n",
        "    drive.mount('/content/drive')\n",
        "    config.MODEL_WEIGHTS = \"/content/drive/My Drive/Colab Notebooks/SKADC1\"\n",
        "    config.IMAGE_PATH = \"/content/drive/My Drive/Colab Notebooks/SKADC1/asset/560Mhz_1000h.fits\""
      ],
      "outputs": [],
      "metadata": {}
    },
    {
      "cell_type": "code",
      "execution_count": 5,
      "source": [
        "# Choose the feature extraction model\n",
        "# backbone='baseline_36'\n",
        "backbone='baseline_16'\n",
        "# backbone='vgg16'\n",
        "\n",
        "if backbone=='baseline_16':\n",
        "    # config.patch_dim = 50\n",
        "    config.patch_dim = 20\n",
        "    config.resizePatch = True\n",
        "    config.rpn_stride = 4\n",
        "    config.num_rois = 16\n",
        "    # anchors in the original image size\n",
        "    config.anchor_box_scales = [4, 8, 16, 24, 32, 64]\n",
        "    # config.anchor_box_scales = [6, 8, 12, 16, 24, 32, 64]\n",
        "    # config.resizeFinalDim = 150\n",
        "    config.resizeFinalDim = 100\n",
        "    input_shape_1 = config.resizeFinalDim\n",
        "elif backbone=='baseline_36':\n",
        "    config.patch_dim = 50\n",
        "    config.resizePatch = True\n",
        "    config.rpn_stride = 8\n",
        "    config.num_rois = 8\n",
        "    # config.anchor_box_scales = [16,32,64] # anchors in the original image size\n",
        "    config.anchor_box_scales = [16, 32]\n",
        "    # config.anchor_box_scales = [6, 8, 12, 16, 24, 32, 64]\n",
        "    config.resizeFinalDim = 150\n",
        "    input_shape_1 = config.resizeFinalDim\n",
        "else:\n",
        "    config.patch_dim = 100\n",
        "    config.resizePatch = True\n",
        "    config.rpn_stride = 16\n",
        "    config.num_rois = 4\n",
        "    config.resizeFinalDim = 600\n",
        "    input_shape_1=config.resizeFinalDim\n",
        "    config.anchor_box_scales = [32, 64, 128]\n",
        "\n",
        "\n",
        "config.anchor_num = len(config.anchor_box_ratios)*len(config.anchor_box_scales)\n",
        "input_shape_2=(None, 4)\n",
        "\n",
        "print(config.resizePatch)\n",
        "print(config.rpn_stride)\n",
        "\n",
        "checkpoint = get_model_last_checkpoint(backbone)\n",
        "print(f'Model last checkpoint: {checkpoint}')\n",
        "\n",
        "file_path = f'{config.MODEL_WEIGHTS}/{backbone}'\n",
        "print(f'Writing configuration on txt file: {config.MODEL_WEIGHTS}/config.txt')\n",
        "\n",
        "if not os.path.exists(file_path):\n",
        "        os.makedirs(file_path)\n",
        "        \n",
        "f = open(f'{file_path}/config.txt',\"w+\")\n",
        "f.write(f'backbone = {backbone}\\n config.patch_dim = {config.patch_dim}\\n config.resizePatch = {config.resizePatch}\\n config.rpn_stride = {config.rpn_stride}\\n config.num_rois = {config.num_rois}\\n config.anchor_box_scales = {config.anchor_box_scales}\\n config.resizeFinalDim = {config.resizeFinalDim}\\n input_shape_1 = {input_shape_1}')\n",
        "f.close()"
      ],
      "outputs": [
        {
          "output_type": "stream",
          "name": "stdout",
          "text": [
            "True\n",
            "4\n",
            "Checking model checkpoints in directory /Users/lorenzocellini/AI - Universit…/Deep Learning - Andre Asperti/SKA_project/SKADC1/model/baseline_16\n",
            "Model last checkpoint: None\n",
            "Writing configuration on txt file: /Users/lorenzocellini/AI - Universit…/Deep Learning - Andre Asperti/SKA_project/SKADC1/model/config.txt\n"
          ]
        }
      ],
      "metadata": {}
    },
    {
      "cell_type": "code",
      "execution_count": 6,
      "source": [
        "# Dataset parsing and loading\n",
        "# use \"subset\" in config file to load a small portion of data for development/debugging purposes\n",
        "ska_dataset = dataset.SKADataset(k=3, print_info=False, use_pb=False)"
      ],
      "outputs": [
        {
          "output_type": "stream",
          "name": "stdout",
          "text": [
            "Dataset shape: (19222, 15)\n"
          ]
        },
        {
          "output_type": "display_data",
          "data": {
            "text/html": [
              "<div>\n",
              "<style scoped>\n",
              "    .dataframe tbody tr th:only-of-type {\n",
              "        vertical-align: middle;\n",
              "    }\n",
              "\n",
              "    .dataframe tbody tr th {\n",
              "        vertical-align: top;\n",
              "    }\n",
              "\n",
              "    .dataframe thead th {\n",
              "        text-align: right;\n",
              "    }\n",
              "</style>\n",
              "<table border=\"1\" class=\"dataframe\">\n",
              "  <thead>\n",
              "    <tr style=\"text-align: right;\">\n",
              "      <th></th>\n",
              "      <th>ID</th>\n",
              "      <th>RA (core)</th>\n",
              "      <th>DEC (core)</th>\n",
              "      <th>RA (centroid)</th>\n",
              "      <th>DEC (centroid)</th>\n",
              "      <th>FLUX</th>\n",
              "      <th>Core frac</th>\n",
              "      <th>BMAJ</th>\n",
              "      <th>BMIN</th>\n",
              "      <th>PA</th>\n",
              "      <th>SIZE</th>\n",
              "      <th>CLASS</th>\n",
              "      <th>SELECTION</th>\n",
              "      <th>x</th>\n",
              "      <th>y</th>\n",
              "    </tr>\n",
              "  </thead>\n",
              "  <tbody>\n",
              "    <tr>\n",
              "      <th>0</th>\n",
              "      <td>24121695</td>\n",
              "      <td>-0.642227</td>\n",
              "      <td>-29.775242</td>\n",
              "      <td>-0.642316</td>\n",
              "      <td>-29.775211</td>\n",
              "      <td>0.000035</td>\n",
              "      <td>0.000000</td>\n",
              "      <td>5.600</td>\n",
              "      <td>5.551</td>\n",
              "      <td>328.554</td>\n",
              "      <td>1</td>\n",
              "      <td>1</td>\n",
              "      <td>1</td>\n",
              "      <td>19704.519</td>\n",
              "      <td>17712.942</td>\n",
              "    </tr>\n",
              "    <tr>\n",
              "      <th>1</th>\n",
              "      <td>20167150</td>\n",
              "      <td>-0.390473</td>\n",
              "      <td>-29.867493</td>\n",
              "      <td>-0.390667</td>\n",
              "      <td>-29.868851</td>\n",
              "      <td>0.029555</td>\n",
              "      <td>0.016924</td>\n",
              "      <td>107.110</td>\n",
              "      <td>43.263</td>\n",
              "      <td>191.258</td>\n",
              "      <td>1</td>\n",
              "      <td>1</td>\n",
              "      <td>1</td>\n",
              "      <td>18401.338</td>\n",
              "      <td>17160.919</td>\n",
              "    </tr>\n",
              "    <tr>\n",
              "      <th>2</th>\n",
              "      <td>20045120</td>\n",
              "      <td>-0.021411</td>\n",
              "      <td>-29.643486</td>\n",
              "      <td>-0.021359</td>\n",
              "      <td>-29.643561</td>\n",
              "      <td>0.000653</td>\n",
              "      <td>0.012185</td>\n",
              "      <td>5.037</td>\n",
              "      <td>3.525</td>\n",
              "      <td>276.587</td>\n",
              "      <td>1</td>\n",
              "      <td>1</td>\n",
              "      <td>1</td>\n",
              "      <td>16493.600</td>\n",
              "      <td>18506.577</td>\n",
              "    </tr>\n",
              "    <tr>\n",
              "      <th>3</th>\n",
              "      <td>33938384</td>\n",
              "      <td>-0.316375</td>\n",
              "      <td>-29.697647</td>\n",
              "      <td>-0.316375</td>\n",
              "      <td>-29.697647</td>\n",
              "      <td>0.000017</td>\n",
              "      <td>0.000000</td>\n",
              "      <td>0.847</td>\n",
              "      <td>0.266</td>\n",
              "      <td>346.641</td>\n",
              "      <td>2</td>\n",
              "      <td>1</td>\n",
              "      <td>1</td>\n",
              "      <td>18020.319</td>\n",
              "      <td>18182.095</td>\n",
              "    </tr>\n",
              "    <tr>\n",
              "      <th>4</th>\n",
              "      <td>7527248</td>\n",
              "      <td>-0.336528</td>\n",
              "      <td>-29.627335</td>\n",
              "      <td>-0.336527</td>\n",
              "      <td>-29.627338</td>\n",
              "      <td>0.000054</td>\n",
              "      <td>0.044763</td>\n",
              "      <td>3.343</td>\n",
              "      <td>1.515</td>\n",
              "      <td>279.006</td>\n",
              "      <td>1</td>\n",
              "      <td>1</td>\n",
              "      <td>1</td>\n",
              "      <td>18125.824</td>\n",
              "      <td>18600.680</td>\n",
              "    </tr>\n",
              "  </tbody>\n",
              "</table>\n",
              "</div>"
            ],
            "text/plain": [
              "         ID  RA (core)  DEC (core)  RA (centroid)  DEC (centroid)      FLUX  \\\n",
              "0  24121695  -0.642227  -29.775242      -0.642316      -29.775211  0.000035   \n",
              "1  20167150  -0.390473  -29.867493      -0.390667      -29.868851  0.029555   \n",
              "2  20045120  -0.021411  -29.643486      -0.021359      -29.643561  0.000653   \n",
              "3  33938384  -0.316375  -29.697647      -0.316375      -29.697647  0.000017   \n",
              "4   7527248  -0.336528  -29.627335      -0.336527      -29.627338  0.000054   \n",
              "\n",
              "   Core frac     BMAJ    BMIN       PA  SIZE  CLASS  SELECTION          x  \\\n",
              "0   0.000000    5.600   5.551  328.554     1      1          1  19704.519   \n",
              "1   0.016924  107.110  43.263  191.258     1      1          1  18401.338   \n",
              "2   0.012185    5.037   3.525  276.587     1      1          1  16493.600   \n",
              "3   0.000000    0.847   0.266  346.641     2      1          1  18020.319   \n",
              "4   0.044763    3.343   1.515  279.006     1      1          1  18125.824   \n",
              "\n",
              "           y  \n",
              "0  17712.942  \n",
              "1  17160.919  \n",
              "2  18506.577  \n",
              "3  18182.095  \n",
              "4  18600.680  "
            ]
          },
          "metadata": {}
        },
        {
          "output_type": "stream",
          "name": "stdout",
          "text": [
            "Loading FITS file /Users/lorenzocellini/AI - Universit…/Deep Learning - Andre Asperti/SKA_project/SKADC1/data/training/560Mhz_1000h.fits\n"
          ]
        },
        {
          "output_type": "stream",
          "name": "stderr",
          "text": [
            "WARNING: VerifyWarning: Invalid 'BLANK' keyword in header.  The 'BLANK' keyword is only applicable to integer data, and will be ignored in this HDU. [astropy.io.fits.hdu.image]\n",
            "100%|██████████| 19222/19222 [00:02<00:00, 6551.88it/s]\n"
          ]
        },
        {
          "output_type": "stream",
          "name": "stdout",
          "text": [
            "Initial dataset shape: (19222, 15)\n",
            "Found 0 boxes with zero area\n",
            "Rows to be deleted: 0\n",
            "New dataset shape: (19222, 15)\n",
            "Extending dataset with new computed columns...\n",
            "Final cleaned dataset shape: (19222, 26)\n",
            "\n",
            "Enlarging bboxes...\n",
            "DONE - Enlarging bboxes...\n"
          ]
        },
        {
          "output_type": "display_data",
          "data": {
            "text/html": [
              "<div>\n",
              "<style scoped>\n",
              "    .dataframe tbody tr th:only-of-type {\n",
              "        vertical-align: middle;\n",
              "    }\n",
              "\n",
              "    .dataframe tbody tr th {\n",
              "        vertical-align: top;\n",
              "    }\n",
              "\n",
              "    .dataframe thead th {\n",
              "        text-align: right;\n",
              "    }\n",
              "</style>\n",
              "<table border=\"1\" class=\"dataframe\">\n",
              "  <thead>\n",
              "    <tr style=\"text-align: right;\">\n",
              "      <th></th>\n",
              "      <th>ID</th>\n",
              "      <th>RA (core)</th>\n",
              "      <th>DEC (core)</th>\n",
              "      <th>RA (centroid)</th>\n",
              "      <th>DEC (centroid)</th>\n",
              "      <th>FLUX</th>\n",
              "      <th>Core frac</th>\n",
              "      <th>BMAJ</th>\n",
              "      <th>BMIN</th>\n",
              "      <th>PA</th>\n",
              "      <th>...</th>\n",
              "      <th>x2</th>\n",
              "      <th>y2</th>\n",
              "      <th>major_semia_px</th>\n",
              "      <th>minor_semia_px</th>\n",
              "      <th>pa_in_rad</th>\n",
              "      <th>width</th>\n",
              "      <th>height</th>\n",
              "      <th>area_orig</th>\n",
              "      <th>area_cropped</th>\n",
              "      <th>class_label</th>\n",
              "    </tr>\n",
              "  </thead>\n",
              "  <tbody>\n",
              "    <tr>\n",
              "      <th>0</th>\n",
              "      <td>24121695</td>\n",
              "      <td>-0.642227</td>\n",
              "      <td>-29.775242</td>\n",
              "      <td>-0.642316</td>\n",
              "      <td>-29.775211</td>\n",
              "      <td>0.000035</td>\n",
              "      <td>0.000000</td>\n",
              "      <td>5.600</td>\n",
              "      <td>5.551</td>\n",
              "      <td>328.554</td>\n",
              "      <td>...</td>\n",
              "      <td>19710.764566</td>\n",
              "      <td>17719.170105</td>\n",
              "      <td>6.264429</td>\n",
              "      <td>6.218255</td>\n",
              "      <td>5.734349</td>\n",
              "      <td>12.503792</td>\n",
              "      <td>12.461712</td>\n",
              "      <td>155.818657</td>\n",
              "      <td>155.818657</td>\n",
              "      <td>1_1</td>\n",
              "    </tr>\n",
              "    <tr>\n",
              "      <th>1</th>\n",
              "      <td>20167150</td>\n",
              "      <td>-0.390473</td>\n",
              "      <td>-29.867493</td>\n",
              "      <td>-0.390667</td>\n",
              "      <td>-29.868851</td>\n",
              "      <td>0.029555</td>\n",
              "      <td>0.016924</td>\n",
              "      <td>107.110</td>\n",
              "      <td>43.263</td>\n",
              "      <td>191.258</td>\n",
              "      <td>...</td>\n",
              "      <td>18509.603417</td>\n",
              "      <td>17209.564571</td>\n",
              "      <td>110.037236</td>\n",
              "      <td>44.503323</td>\n",
              "      <td>3.338082</td>\n",
              "      <td>216.538139</td>\n",
              "      <td>97.294352</td>\n",
              "      <td>21067.937901</td>\n",
              "      <td>21067.937901</td>\n",
              "      <td>1_1</td>\n",
              "    </tr>\n",
              "    <tr>\n",
              "      <th>2</th>\n",
              "      <td>20045120</td>\n",
              "      <td>-0.021411</td>\n",
              "      <td>-29.643486</td>\n",
              "      <td>-0.021359</td>\n",
              "      <td>-29.643561</td>\n",
              "      <td>0.000653</td>\n",
              "      <td>0.012185</td>\n",
              "      <td>5.037</td>\n",
              "      <td>3.525</td>\n",
              "      <td>276.587</td>\n",
              "      <td>...</td>\n",
              "      <td>16498.009965</td>\n",
              "      <td>18512.295208</td>\n",
              "      <td>5.738106</td>\n",
              "      <td>4.389739</td>\n",
              "      <td>4.827354</td>\n",
              "      <td>8.820318</td>\n",
              "      <td>11.444852</td>\n",
              "      <td>100.947234</td>\n",
              "      <td>100.947234</td>\n",
              "      <td>1_1</td>\n",
              "    </tr>\n",
              "    <tr>\n",
              "      <th>3</th>\n",
              "      <td>33938384</td>\n",
              "      <td>-0.316375</td>\n",
              "      <td>-29.697647</td>\n",
              "      <td>-0.316375</td>\n",
              "      <td>-29.697647</td>\n",
              "      <td>0.000017</td>\n",
              "      <td>0.000000</td>\n",
              "      <td>0.847</td>\n",
              "      <td>0.266</td>\n",
              "      <td>346.641</td>\n",
              "      <td>...</td>\n",
              "      <td>18023.322729</td>\n",
              "      <td>18184.661968</td>\n",
              "      <td>3.031418</td>\n",
              "      <td>2.541842</td>\n",
              "      <td>6.050027</td>\n",
              "      <td>6.014593</td>\n",
              "      <td>5.140670</td>\n",
              "      <td>30.919039</td>\n",
              "      <td>30.919039</td>\n",
              "      <td>2_1</td>\n",
              "    </tr>\n",
              "    <tr>\n",
              "      <th>4</th>\n",
              "      <td>7527248</td>\n",
              "      <td>-0.336528</td>\n",
              "      <td>-29.627335</td>\n",
              "      <td>-0.336527</td>\n",
              "      <td>-29.627338</td>\n",
              "      <td>0.000054</td>\n",
              "      <td>0.044763</td>\n",
              "      <td>3.343</td>\n",
              "      <td>1.515</td>\n",
              "      <td>279.006</td>\n",
              "      <td>...</td>\n",
              "      <td>18128.789688</td>\n",
              "      <td>18604.884928</td>\n",
              "      <td>4.236891</td>\n",
              "      <td>2.929772</td>\n",
              "      <td>4.869573</td>\n",
              "      <td>5.937378</td>\n",
              "      <td>8.419429</td>\n",
              "      <td>49.989332</td>\n",
              "      <td>49.989332</td>\n",
              "      <td>1_1</td>\n",
              "    </tr>\n",
              "  </tbody>\n",
              "</table>\n",
              "<p>5 rows × 27 columns</p>\n",
              "</div>"
            ],
            "text/plain": [
              "         ID  RA (core)  DEC (core)  RA (centroid)  DEC (centroid)      FLUX  \\\n",
              "0  24121695  -0.642227  -29.775242      -0.642316      -29.775211  0.000035   \n",
              "1  20167150  -0.390473  -29.867493      -0.390667      -29.868851  0.029555   \n",
              "2  20045120  -0.021411  -29.643486      -0.021359      -29.643561  0.000653   \n",
              "3  33938384  -0.316375  -29.697647      -0.316375      -29.697647  0.000017   \n",
              "4   7527248  -0.336528  -29.627335      -0.336527      -29.627338  0.000054   \n",
              "\n",
              "   Core frac     BMAJ    BMIN       PA  ...            x2            y2  \\\n",
              "0   0.000000    5.600   5.551  328.554  ...  19710.764566  17719.170105   \n",
              "1   0.016924  107.110  43.263  191.258  ...  18509.603417  17209.564571   \n",
              "2   0.012185    5.037   3.525  276.587  ...  16498.009965  18512.295208   \n",
              "3   0.000000    0.847   0.266  346.641  ...  18023.322729  18184.661968   \n",
              "4   0.044763    3.343   1.515  279.006  ...  18128.789688  18604.884928   \n",
              "\n",
              "   major_semia_px  minor_semia_px  pa_in_rad       width     height  \\\n",
              "0        6.264429        6.218255   5.734349   12.503792  12.461712   \n",
              "1      110.037236       44.503323   3.338082  216.538139  97.294352   \n",
              "2        5.738106        4.389739   4.827354    8.820318  11.444852   \n",
              "3        3.031418        2.541842   6.050027    6.014593   5.140670   \n",
              "4        4.236891        2.929772   4.869573    5.937378   8.419429   \n",
              "\n",
              "      area_orig  area_cropped  class_label  \n",
              "0    155.818657    155.818657          1_1  \n",
              "1  21067.937901  21067.937901          1_1  \n",
              "2    100.947234    100.947234          1_1  \n",
              "3     30.919039     30.919039          2_1  \n",
              "4     49.989332     49.989332          1_1  \n",
              "\n",
              "[5 rows x 27 columns]"
            ]
          },
          "metadata": {}
        },
        {
          "output_type": "stream",
          "name": "stdout",
          "text": [
            "\n",
            "----------\n",
            "Starting training image preprocessing...\n",
            "\n",
            "Computing max and min pixel value in order to scale image to RGB range\n",
            "Max pixel value = 0.0065856808796525\n",
            "Removing negative noise...\n",
            "Converting to RGB...\n",
            "Removing positive noise and rescaling to 0-255 interval...\n",
            "\n",
            "Mean and stdev of the half-gaussian that best fits with noise distribution:\n",
            "mu=4.561610766868865e-14, stdev=4.5037468510513567e-07\n",
            "End of training image preprocessing.\n"
          ]
        },
        {
          "output_type": "display_data",
          "data": {
            "image/png": "[encoded data removed]",
            "text/plain": [
              "<Figure size 432x288 with 1 Axes>"
            ]
          },
          "metadata": {
            "needs_background": "light"
          }
        }
      ],
      "metadata": {
        "tags": [],
        "id": "Q8IbYCwkF-5K",
        "outputId": "5cd8e5ba-49cd-49b4-d65c-65d82229f792",
        "colab": {
          "base_uri": "https://localhost:8080/",
          "height": 221
        }
      }
    },
    {
      "cell_type": "code",
      "execution_count": 7,
      "source": [
        "ska_dataset.cleaned_train_df[['width', 'height', 'area_orig', 'area_cropped']].describe()"
      ],
      "outputs": [
        {
          "output_type": "execute_result",
          "data": {
            "text/html": [
              "<div>\n",
              "<style scoped>\n",
              "    .dataframe tbody tr th:only-of-type {\n",
              "        vertical-align: middle;\n",
              "    }\n",
              "\n",
              "    .dataframe tbody tr th {\n",
              "        vertical-align: top;\n",
              "    }\n",
              "\n",
              "    .dataframe thead th {\n",
              "        text-align: right;\n",
              "    }\n",
              "</style>\n",
              "<table border=\"1\" class=\"dataframe\">\n",
              "  <thead>\n",
              "    <tr style=\"text-align: right;\">\n",
              "      <th></th>\n",
              "      <th>width</th>\n",
              "      <th>height</th>\n",
              "      <th>area_orig</th>\n",
              "      <th>area_cropped</th>\n",
              "    </tr>\n",
              "  </thead>\n",
              "  <tbody>\n",
              "    <tr>\n",
              "      <th>count</th>\n",
              "      <td>19222.000000</td>\n",
              "      <td>19222.000000</td>\n",
              "      <td>19222.000000</td>\n",
              "      <td>19222.000000</td>\n",
              "    </tr>\n",
              "    <tr>\n",
              "      <th>mean</th>\n",
              "      <td>6.282190</td>\n",
              "      <td>6.285123</td>\n",
              "      <td>44.731314</td>\n",
              "      <td>44.731314</td>\n",
              "    </tr>\n",
              "    <tr>\n",
              "      <th>std</th>\n",
              "      <td>3.122242</td>\n",
              "      <td>2.910949</td>\n",
              "      <td>169.529219</td>\n",
              "      <td>169.529219</td>\n",
              "    </tr>\n",
              "    <tr>\n",
              "      <th>min</th>\n",
              "      <td>4.964839</td>\n",
              "      <td>4.964839</td>\n",
              "      <td>24.649628</td>\n",
              "      <td>24.649628</td>\n",
              "    </tr>\n",
              "    <tr>\n",
              "      <th>25%</th>\n",
              "      <td>5.114121</td>\n",
              "      <td>5.116855</td>\n",
              "      <td>26.770928</td>\n",
              "      <td>26.770928</td>\n",
              "    </tr>\n",
              "    <tr>\n",
              "      <th>50%</th>\n",
              "      <td>5.388071</td>\n",
              "      <td>5.394034</td>\n",
              "      <td>29.928541</td>\n",
              "      <td>29.928541</td>\n",
              "    </tr>\n",
              "    <tr>\n",
              "      <th>75%</th>\n",
              "      <td>6.193903</td>\n",
              "      <td>6.206960</td>\n",
              "      <td>39.145862</td>\n",
              "      <td>39.145862</td>\n",
              "    </tr>\n",
              "    <tr>\n",
              "      <th>max</th>\n",
              "      <td>216.538139</td>\n",
              "      <td>97.294352</td>\n",
              "      <td>21067.937901</td>\n",
              "      <td>21067.937901</td>\n",
              "    </tr>\n",
              "  </tbody>\n",
              "</table>\n",
              "</div>"
            ],
            "text/plain": [
              "              width        height     area_orig  area_cropped\n",
              "count  19222.000000  19222.000000  19222.000000  19222.000000\n",
              "mean       6.282190      6.285123     44.731314     44.731314\n",
              "std        3.122242      2.910949    169.529219    169.529219\n",
              "min        4.964839      4.964839     24.649628     24.649628\n",
              "25%        5.114121      5.116855     26.770928     26.770928\n",
              "50%        5.388071      5.394034     29.928541     29.928541\n",
              "75%        6.193903      6.206960     39.145862     39.145862\n",
              "max      216.538139     97.294352  21067.937901  21067.937901"
            ]
          },
          "metadata": {},
          "execution_count": 7
        }
      ],
      "metadata": {}
    },
    {
      "cell_type": "code",
      "execution_count": 8,
      "source": [
        "ska_dataset.cleaned_train_df[['width', 'height', 'area_orig']].quantile([.1,.2,.3,.4,.5,.6,.7,.8,.9,.95,.98,.99,1.])"
      ],
      "outputs": [
        {
          "output_type": "execute_result",
          "data": {
            "text/html": [
              "<div>\n",
              "<style scoped>\n",
              "    .dataframe tbody tr th:only-of-type {\n",
              "        vertical-align: middle;\n",
              "    }\n",
              "\n",
              "    .dataframe tbody tr th {\n",
              "        vertical-align: top;\n",
              "    }\n",
              "\n",
              "    .dataframe thead th {\n",
              "        text-align: right;\n",
              "    }\n",
              "</style>\n",
              "<table border=\"1\" class=\"dataframe\">\n",
              "  <thead>\n",
              "    <tr style=\"text-align: right;\">\n",
              "      <th></th>\n",
              "      <th>width</th>\n",
              "      <th>height</th>\n",
              "      <th>area_orig</th>\n",
              "    </tr>\n",
              "  </thead>\n",
              "  <tbody>\n",
              "    <tr>\n",
              "      <th>0.10</th>\n",
              "      <td>5.021579</td>\n",
              "      <td>5.022318</td>\n",
              "      <td>25.628098</td>\n",
              "    </tr>\n",
              "    <tr>\n",
              "      <th>0.20</th>\n",
              "      <td>5.079478</td>\n",
              "      <td>5.083666</td>\n",
              "      <td>26.354817</td>\n",
              "    </tr>\n",
              "    <tr>\n",
              "      <th>0.30</th>\n",
              "      <td>5.153434</td>\n",
              "      <td>5.154979</td>\n",
              "      <td>27.221580</td>\n",
              "    </tr>\n",
              "    <tr>\n",
              "      <th>0.40</th>\n",
              "      <td>5.250224</td>\n",
              "      <td>5.256348</td>\n",
              "      <td>28.358833</td>\n",
              "    </tr>\n",
              "    <tr>\n",
              "      <th>0.50</th>\n",
              "      <td>5.388071</td>\n",
              "      <td>5.394034</td>\n",
              "      <td>29.928541</td>\n",
              "    </tr>\n",
              "    <tr>\n",
              "      <th>0.60</th>\n",
              "      <td>5.596149</td>\n",
              "      <td>5.603978</td>\n",
              "      <td>32.164977</td>\n",
              "    </tr>\n",
              "    <tr>\n",
              "      <th>0.70</th>\n",
              "      <td>5.931373</td>\n",
              "      <td>5.932616</td>\n",
              "      <td>36.070023</td>\n",
              "    </tr>\n",
              "    <tr>\n",
              "      <th>0.80</th>\n",
              "      <td>6.568193</td>\n",
              "      <td>6.603042</td>\n",
              "      <td>43.494231</td>\n",
              "    </tr>\n",
              "    <tr>\n",
              "      <th>0.90</th>\n",
              "      <td>8.241342</td>\n",
              "      <td>8.188366</td>\n",
              "      <td>63.754795</td>\n",
              "    </tr>\n",
              "    <tr>\n",
              "      <th>0.95</th>\n",
              "      <td>10.577456</td>\n",
              "      <td>10.646052</td>\n",
              "      <td>100.988437</td>\n",
              "    </tr>\n",
              "    <tr>\n",
              "      <th>0.98</th>\n",
              "      <td>14.480916</td>\n",
              "      <td>14.595398</td>\n",
              "      <td>167.628745</td>\n",
              "    </tr>\n",
              "    <tr>\n",
              "      <th>0.99</th>\n",
              "      <td>17.804710</td>\n",
              "      <td>17.928009</td>\n",
              "      <td>233.115808</td>\n",
              "    </tr>\n",
              "    <tr>\n",
              "      <th>1.00</th>\n",
              "      <td>216.538139</td>\n",
              "      <td>97.294352</td>\n",
              "      <td>21067.937901</td>\n",
              "    </tr>\n",
              "  </tbody>\n",
              "</table>\n",
              "</div>"
            ],
            "text/plain": [
              "           width     height     area_orig\n",
              "0.10    5.021579   5.022318     25.628098\n",
              "0.20    5.079478   5.083666     26.354817\n",
              "0.30    5.153434   5.154979     27.221580\n",
              "0.40    5.250224   5.256348     28.358833\n",
              "0.50    5.388071   5.394034     29.928541\n",
              "0.60    5.596149   5.603978     32.164977\n",
              "0.70    5.931373   5.932616     36.070023\n",
              "0.80    6.568193   6.603042     43.494231\n",
              "0.90    8.241342   8.188366     63.754795\n",
              "0.95   10.577456  10.646052    100.988437\n",
              "0.98   14.480916  14.595398    167.628745\n",
              "0.99   17.804710  17.928009    233.115808\n",
              "1.00  216.538139  97.294352  21067.937901"
            ]
          },
          "metadata": {},
          "execution_count": 8
        }
      ],
      "metadata": {}
    },
    {
      "cell_type": "code",
      "execution_count": 9,
      "source": [
        "objects_to_ignore=[20167150, 27514971]\n"
      ],
      "outputs": [],
      "metadata": {}
    },
    {
      "cell_type": "code",
      "execution_count": 10,
      "source": [
        "show_plot = False\n",
        "ska_dataset.generate_patches(limit=100, plot_patches=show_plot, objects_to_ignore=objects_to_ignore, source_dir=None, rgb_norm=True)\n",
        "# ska_dataset.generate_patches(limit=4000, plot_patches=show_plot, objects_to_ignore=objects_to_ignore, source_dir='./data/training/patches', rgb_norm=True)\n",
        "# ska_dataset.generate_patches(limit=1000, plot_patches=show_plot, objects_to_ignore=objects_to_ignore, source_dir='./data/training/patches', rgb_norm=False)"
      ],
      "outputs": [
        {
          "output_type": "stream",
          "name": "stdout",
          "text": [
            "\n",
            "Training image dimensions: 3498 x 3191\n",
            "Cutting training image in patches of dim 20\n",
            "hlim: 10\n",
            "wlim: 10\n"
          ]
        },
        {
          "output_type": "display_data",
          "data": {
            "text/html": [
              "<div>\n",
              "<style scoped>\n",
              "    .dataframe tbody tr th:only-of-type {\n",
              "        vertical-align: middle;\n",
              "    }\n",
              "\n",
              "    .dataframe tbody tr th {\n",
              "        vertical-align: top;\n",
              "    }\n",
              "\n",
              "    .dataframe thead th {\n",
              "        text-align: right;\n",
              "    }\n",
              "</style>\n",
              "<table border=\"1\" class=\"dataframe\">\n",
              "  <thead>\n",
              "    <tr style=\"text-align: right;\">\n",
              "      <th></th>\n",
              "      <th>ID</th>\n",
              "      <th>x1</th>\n",
              "      <th>x2</th>\n",
              "      <th>y1</th>\n",
              "      <th>y2</th>\n",
              "    </tr>\n",
              "  </thead>\n",
              "  <tbody>\n",
              "    <tr>\n",
              "      <th>1</th>\n",
              "      <td>20167150</td>\n",
              "      <td>18293.065279</td>\n",
              "      <td>18509.603417</td>\n",
              "      <td>17112.270219</td>\n",
              "      <td>17209.564571</td>\n",
              "    </tr>\n",
              "    <tr>\n",
              "      <th>11</th>\n",
              "      <td>27514971</td>\n",
              "      <td>16423.605430</td>\n",
              "      <td>16488.215381</td>\n",
              "      <td>16765.398277</td>\n",
              "      <td>16802.454368</td>\n",
              "    </tr>\n",
              "  </tbody>\n",
              "</table>\n",
              "</div>"
            ],
            "text/plain": [
              "          ID            x1            x2            y1            y2\n",
              "1   20167150  18293.065279  18509.603417  17112.270219  17209.564571\n",
              "11  27514971  16423.605430  16488.215381  16765.398277  16802.454368"
            ]
          },
          "metadata": {}
        },
        {
          "output_type": "stream",
          "name": "stderr",
          "text": [
            "  0%|          | 0/10 [00:00<?, ?it/s]"
          ]
        },
        {
          "output_type": "stream",
          "name": "stdout",
          "text": [
            "\n",
            " Generating patch 1/100\n",
            "\n",
            "Computing max and min pixel value in order to scale image to RGB range\n",
            "Max pixel value = 2.873398261726834e-05\n",
            "Removing negative noise...\n",
            "Converting to RGB...\n",
            "Removing positive noise and rescaling to 0-255 interval...\n",
            "Patch 2_16396_16729_20 saved.\n",
            "\n",
            " Generating patch 2/100\n",
            "\n",
            "Computing max and min pixel value in order to scale image to RGB range\n",
            "Max pixel value = 2.873398261726834e-05\n",
            "Removing negative noise...\n",
            "Converting to RGB...\n",
            "Removing positive noise and rescaling to 0-255 interval...\n",
            "Patch 3_16406_16729_20 saved.\n",
            "\n",
            " Generating patch 3/100\n",
            "\n",
            "Computing max and min pixel value in order to scale image to RGB range\n",
            "Max pixel value = 7.003019618423423e-06\n",
            "Removing negative noise...\n",
            "Converting to RGB...\n",
            "Removing positive noise and rescaling to 0-255 interval...\n",
            "Patch 6_16436_16729_20 saved.\n",
            "\n",
            " Generating patch 4/100\n",
            "\n",
            "Computing max and min pixel value in order to scale image to RGB range\n",
            "Max pixel value = 7.003019618423423e-06\n",
            "Removing negative noise...\n",
            "Converting to RGB...\n",
            "Removing positive noise and rescaling to 0-255 interval...\n",
            "Patch 7_16446_16729_20 saved.\n"
          ]
        },
        {
          "output_type": "stream",
          "name": "stderr",
          "text": [
            "/Users/lorenzocellini/AI - Universit…/Deep Learning - Andre Asperti/SKA_project/SKADC1/src/dataset.py:483: UserWarning: DataFrame columns are not unique, some columns will be omitted.\n",
            "  return df[df[filter]==val][cols].set_index(key).T.to_dict('list')\n"
          ]
        },
        {
          "output_type": "stream",
          "name": "stdout",
          "text": [
            "\n",
            " Generating patch 5/100\n",
            "\n",
            "Computing max and min pixel value in order to scale image to RGB range\n",
            "Max pixel value = 5.798962774861138e-06\n",
            "Removing negative noise...\n",
            "Converting to RGB...\n",
            "Removing positive noise and rescaling to 0-255 interval...\n",
            "Patch 8_16456_16729_20 saved.\n"
          ]
        },
        {
          "output_type": "stream",
          "name": "stderr",
          "text": [
            " 10%|█         | 1/10 [00:07<01:03,  7.05s/it]"
          ]
        },
        {
          "output_type": "stream",
          "name": "stdout",
          "text": [
            "\n",
            " Generating patch 6/100\n",
            "\n",
            "Computing max and min pixel value in order to scale image to RGB range\n",
            "Max pixel value = 2.873398261726834e-05\n",
            "Removing negative noise...\n",
            "Converting to RGB...\n",
            "Removing positive noise and rescaling to 0-255 interval...\n",
            "Patch 161_16396_16739_20 saved.\n",
            "\n",
            " Generating patch 7/100\n",
            "\n",
            "Computing max and min pixel value in order to scale image to RGB range\n",
            "Max pixel value = 2.873398261726834e-05\n",
            "Removing negative noise...\n",
            "Converting to RGB...\n",
            "Removing positive noise and rescaling to 0-255 interval...\n",
            "Patch 162_16406_16739_20 saved.\n",
            "\n",
            " Generating patch 8/100\n",
            "\n",
            "Computing max and min pixel value in order to scale image to RGB range\n",
            "Max pixel value = 7.003019618423423e-06\n",
            "Removing negative noise...\n",
            "Converting to RGB...\n",
            "Removing positive noise and rescaling to 0-255 interval...\n",
            "Patch 165_16436_16739_20 saved.\n",
            "\n",
            " Generating patch 9/100\n",
            "\n",
            "Computing max and min pixel value in order to scale image to RGB range\n",
            "Max pixel value = 7.003019618423423e-06\n",
            "Removing negative noise...\n",
            "Converting to RGB...\n",
            "Removing positive noise and rescaling to 0-255 interval...\n",
            "Patch 166_16446_16739_20 saved.\n",
            "\n",
            " Generating patch 10/100\n",
            "\n",
            "Computing max and min pixel value in order to scale image to RGB range\n",
            "Max pixel value = 5.798962774861138e-06\n",
            "Removing negative noise...\n",
            "Converting to RGB...\n",
            "Removing positive noise and rescaling to 0-255 interval...\n",
            "Patch 167_16456_16739_20 saved.\n"
          ]
        },
        {
          "output_type": "stream",
          "name": "stderr",
          "text": [
            " 20%|██        | 2/10 [00:13<00:51,  6.48s/it]"
          ]
        },
        {
          "output_type": "stream",
          "name": "stdout",
          "text": [
            "found overlap with 27514971!\n",
            "found overlap with 27514971!\n",
            "found overlap with 27514971!\n",
            "found overlap with 27514971!\n",
            "found overlap with 27514971!\n",
            "found overlap with 27514971!\n"
          ]
        },
        {
          "output_type": "stream",
          "name": "stderr",
          "text": [
            " 30%|███       | 3/10 [00:16<00:36,  5.23s/it]"
          ]
        },
        {
          "output_type": "stream",
          "name": "stdout",
          "text": [
            "found overlap with 27514971!\n",
            "found overlap with 27514971!\n",
            "found overlap with 27514971!\n",
            "found overlap with 27514971!\n",
            "found overlap with 27514971!\n",
            "found overlap with 27514971!\n",
            "found overlap with 27514971!\n"
          ]
        },
        {
          "output_type": "stream",
          "name": "stderr",
          "text": [
            " 40%|████      | 4/10 [00:20<00:27,  4.63s/it]"
          ]
        },
        {
          "output_type": "stream",
          "name": "stdout",
          "text": [
            "found overlap with 27514971!\n",
            "\n",
            " Generating patch 11/100\n",
            "\n",
            "Computing max and min pixel value in order to scale image to RGB range\n",
            "Max pixel value = 8.001668902579695e-06\n",
            "Removing negative noise...\n",
            "Converting to RGB...\n",
            "Removing positive noise and rescaling to 0-255 interval...\n",
            "Patch 638_16396_16769_20 saved.\n",
            "found overlap with 27514971!\n",
            "found overlap with 27514971!\n",
            "found overlap with 27514971!\n",
            "found overlap with 27514971!\n",
            "found overlap with 27514971!\n",
            "found overlap with 27514971!\n"
          ]
        },
        {
          "output_type": "stream",
          "name": "stderr",
          "text": [
            " 50%|█████     | 5/10 [00:24<00:22,  4.47s/it]"
          ]
        },
        {
          "output_type": "stream",
          "name": "stdout",
          "text": [
            "found overlap with 27514971!\n",
            "\n",
            " Generating patch 12/100\n",
            "\n",
            "Computing max and min pixel value in order to scale image to RGB range\n",
            "Max pixel value = 8.001668902579695e-06\n",
            "Removing negative noise...\n",
            "Converting to RGB...\n",
            "Removing positive noise and rescaling to 0-255 interval...\n",
            "Patch 797_16396_16779_20 saved.\n",
            "found overlap with 27514971!\n",
            "found overlap with 27514971!\n",
            "found overlap with 27514971!\n",
            "found overlap with 27514971!\n",
            "found overlap with 27514971!\n",
            "found overlap with 27514971!\n"
          ]
        },
        {
          "output_type": "stream",
          "name": "stderr",
          "text": [
            " 60%|██████    | 6/10 [00:29<00:17,  4.40s/it]"
          ]
        },
        {
          "output_type": "stream",
          "name": "stdout",
          "text": [
            "found overlap with 27514971!\n",
            "found overlap with 27514971!\n",
            "found overlap with 27514971!\n",
            "found overlap with 27514971!\n",
            "found overlap with 27514971!\n",
            "found overlap with 27514971!\n",
            "found overlap with 27514971!\n"
          ]
        },
        {
          "output_type": "stream",
          "name": "stderr",
          "text": [
            " 70%|███████   | 7/10 [00:32<00:12,  4.17s/it]"
          ]
        },
        {
          "output_type": "stream",
          "name": "stdout",
          "text": [
            "found overlap with 27514971!\n",
            "found overlap with 27514971!\n",
            "found overlap with 27514971!\n",
            "found overlap with 27514971!\n",
            "found overlap with 27514971!\n",
            "found overlap with 27514971!\n",
            "found overlap with 27514971!\n"
          ]
        },
        {
          "output_type": "stream",
          "name": "stderr",
          "text": [
            " 80%|████████  | 8/10 [00:36<00:08,  4.02s/it]"
          ]
        },
        {
          "output_type": "stream",
          "name": "stdout",
          "text": [
            "found overlap with 27514971!\n",
            "\n",
            " Generating patch 13/100\n",
            "\n",
            "Computing max and min pixel value in order to scale image to RGB range\n",
            "Max pixel value = 6.961304279684555e-06\n",
            "Removing negative noise...\n"
          ]
        },
        {
          "output_type": "stream",
          "name": "stderr",
          "text": [
            " 90%|█████████ | 9/10 [00:40<00:04,  4.04s/it]"
          ]
        },
        {
          "output_type": "stream",
          "name": "stdout",
          "text": [
            "Converting to RGB...\n",
            "Removing positive noise and rescaling to 0-255 interval...\n",
            "Patch 1281_16466_16809_20 saved.\n",
            "\n",
            " Generating patch 14/100\n",
            "\n",
            "Computing max and min pixel value in order to scale image to RGB range\n",
            "Max pixel value = 6.374595614033751e-06\n",
            "Removing negative noise...\n",
            "Converting to RGB...\n",
            "Removing positive noise and rescaling to 0-255 interval...\n",
            "Patch 1432_16386_16819_20 saved.\n",
            "\n",
            " Generating patch 15/100\n",
            "\n",
            "Computing max and min pixel value in order to scale image to RGB range\n",
            "Max pixel value = 6.374595614033751e-06\n",
            "Removing negative noise...\n",
            "Converting to RGB...\n",
            "Removing positive noise and rescaling to 0-255 interval...\n",
            "Patch 1433_16396_16819_20 saved.\n",
            "\n",
            " Generating patch 16/100\n",
            "\n",
            "Computing max and min pixel value in order to scale image to RGB range\n",
            "Max pixel value = 1.0284505151503254e-05\n",
            "Removing negative noise...\n"
          ]
        },
        {
          "output_type": "stream",
          "name": "stderr",
          "text": [
            "100%|██████████| 10/10 [00:45<00:00,  4.55s/it]"
          ]
        },
        {
          "output_type": "stream",
          "name": "stdout",
          "text": [
            "Converting to RGB...\n",
            "Removing positive noise and rescaling to 0-255 interval...\n",
            "Patch 1440_16466_16819_20 saved.\n",
            "Patches with no gt: 42\n",
            "Patches skipped due to ignore objects list: 42\n",
            "Total number of generated patches: 16\n",
            "\n",
            "Class list: ['2_2' '2_3']\n",
            "Number of distinct class labels: 2\n"
          ]
        },
        {
          "output_type": "stream",
          "name": "stderr",
          "text": [
            "\n"
          ]
        }
      ],
      "metadata": {
        "id": "Ug10Ku-OF-5Y",
        "outputId": "c3b6bed6-24a7-4f71-cbed-c4b6b8d934af",
        "tags": []
      }
    },
    {
      "cell_type": "code",
      "execution_count": 11,
      "source": [
        "# ska_dataset.analyze_class_distribution()"
      ],
      "outputs": [],
      "metadata": {
        "tags": []
      }
    },
    {
      "cell_type": "code",
      "execution_count": 12,
      "source": [
        "# ska_dataset.split_train_val_stratified(random_state=42, val_portion=0.2)\n",
        "\n",
        "# print(len(ska_dataset.train_patch_list))\n",
        "# print(len(ska_dataset.val_patch_list))\n"
      ],
      "outputs": [],
      "metadata": {}
    },
    {
      "cell_type": "code",
      "execution_count": 13,
      "source": [
        "ska_dataset.split_train_val(random_state=42, val_portion=0.2, balanced=False)"
      ],
      "outputs": [
        {
          "output_type": "stream",
          "name": "stdout",
          "text": [
            "Train list consists of 12 patches\n",
            "Val list consists of 4 patches\n"
          ]
        },
        {
          "output_type": "display_data",
          "data": {
            "image/png": "[encoded data removed]",
            "text/plain": [
              "<Figure size 720x360 with 2 Axes>"
            ]
          },
          "metadata": {
            "needs_background": "light"
          }
        }
      ],
      "metadata": {}
    },
    {
      "cell_type": "markdown",
      "source": [
        "## datagen + calc_rpn -> rpn_net -> rpn_to_roi -> calc_iou -> cls_net"
      ],
      "metadata": {}
    },
    {
      "cell_type": "markdown",
      "source": [
        "# Training"
      ],
      "metadata": {}
    },
    {
      "cell_type": "code",
      "execution_count": 14,
      "source": [
        "# print_img(config.TRAIN_PATCHES_FOLDER, '3_16406_16729_20', show_data=True)\n"
      ],
      "outputs": [],
      "metadata": {}
    },
    {
      "cell_type": "code",
      "execution_count": 15,
      "source": [
        "# # Debugging\n",
        "\n",
        "# train_patch_list = ska_dataset.train_patch_list\n",
        "# patches_folder_path=config.TRAIN_PATCHES_FOLDER\n",
        "\n",
        "# train_datagen = prep.get_anchor_gt(patches_folder_path, ['20_16396_16729_20'], backbone, pixel_mean=None)\n",
        "# image, [y_rpn_cls_true, y_rpn_reg_true], img_data_aug, _, _, patch_id = next(train_datagen)\n",
        "\n"
      ],
      "outputs": [],
      "metadata": {}
    },
    {
      "cell_type": "markdown",
      "source": [
        "### Get FRCNN model"
      ],
      "metadata": {}
    },
    {
      "cell_type": "code",
      "execution_count": 16,
      "source": [
        "rpn_model, detector_model, total_model = models.get_train_model(input_shape_1=input_shape_1, input_shape_2=input_shape_2, anchor_num=config.anchor_num, pooling_regions=config.pooling_regions, num_rois=config.num_rois, num_classes=len(ska_dataset.class_list)+1, backbone=backbone, use_expander=False)\n",
        "\n",
        "rpn_model.summary()\n",
        "detector_model.summary()\n",
        "total_model.summary()"
      ],
      "outputs": [
        {
          "output_type": "stream",
          "name": "stdout",
          "text": [
            "Model: \"RegionProposal\"\n",
            "_________________________________________________________________\n",
            "Layer (type)                 Output Shape              Param #   \n",
            "=================================================================\n",
            "input_1 (InputLayer)         [(None, 100, 100, 3)]     0         \n",
            "_________________________________________________________________\n",
            "block1_conv1 (Conv2D)        (None, 100, 100, 64)      1792      \n",
            "_________________________________________________________________\n",
            "block1_conv2 (Conv2D)        (None, 100, 100, 64)      36928     \n",
            "_________________________________________________________________\n",
            "block1_pool (MaxPooling2D)   (None, 50, 50, 64)        0         \n",
            "_________________________________________________________________\n",
            "block2_conv1 (Conv2D)        (None, 50, 50, 128)       73856     \n",
            "_________________________________________________________________\n",
            "block2_conv2 (Conv2D)        (None, 50, 50, 128)       147584    \n",
            "_________________________________________________________________\n",
            "block2_pool (MaxPooling2D)   (None, 25, 25, 128)       0         \n",
            "_________________________________________________________________\n",
            "rpn (RpnNet)                 [(None, 25, 25, 18), (Non 636506    \n",
            "=================================================================\n",
            "Total params: 896,666\n",
            "Trainable params: 636,506\n",
            "Non-trainable params: 260,160\n",
            "_________________________________________________________________\n",
            "Model: \"DetectorClassifier\"\n",
            "__________________________________________________________________________________________________\n",
            "Layer (type)                    Output Shape         Param #     Connected to                     \n",
            "==================================================================================================\n",
            "input_1 (InputLayer)            [(None, 100, 100, 3) 0                                            \n",
            "__________________________________________________________________________________________________\n",
            "block1_conv1 (Conv2D)           (None, 100, 100, 64) 1792        input_1[0][0]                    \n",
            "__________________________________________________________________________________________________\n",
            "block1_conv2 (Conv2D)           (None, 100, 100, 64) 36928       block1_conv1[0][0]               \n",
            "__________________________________________________________________________________________________\n",
            "block1_pool (MaxPooling2D)      (None, 50, 50, 64)   0           block1_conv2[0][0]               \n",
            "__________________________________________________________________________________________________\n",
            "block2_conv1 (Conv2D)           (None, 50, 50, 128)  73856       block1_pool[0][0]                \n",
            "__________________________________________________________________________________________________\n",
            "block2_conv2 (Conv2D)           (None, 50, 50, 128)  147584      block2_conv1[0][0]               \n",
            "__________________________________________________________________________________________________\n",
            "block2_pool (MaxPooling2D)      (None, 25, 25, 128)  0           block2_conv2[0][0]               \n",
            "__________________________________________________________________________________________________\n",
            "input_2 (InputLayer)            [(None, None, 4)]    0                                            \n",
            "__________________________________________________________________________________________________\n",
            "roi_pooling (RoiPoolingConv)    (1, 16, 7, 7, 128)   0           block2_pool[0][0]                \n",
            "                                                                 input_2[0][0]                    \n",
            "__________________________________________________________________________________________________\n",
            "cls (Detector)                  [(1, 16, 3), (1, 16, 42520587    roi_pooling[0][0]                \n",
            "==================================================================================================\n",
            "Total params: 42,780,747\n",
            "Trainable params: 42,520,587\n",
            "Non-trainable params: 260,160\n",
            "__________________________________________________________________________________________________\n",
            "Model: \"End2end_model\"\n",
            "__________________________________________________________________________________________________\n",
            "Layer (type)                    Output Shape         Param #     Connected to                     \n",
            "==================================================================================================\n",
            "input_1 (InputLayer)            [(None, 100, 100, 3) 0                                            \n",
            "__________________________________________________________________________________________________\n",
            "block1_conv1 (Conv2D)           (None, 100, 100, 64) 1792        input_1[0][0]                    \n",
            "__________________________________________________________________________________________________\n",
            "block1_conv2 (Conv2D)           (None, 100, 100, 64) 36928       block1_conv1[0][0]               \n",
            "__________________________________________________________________________________________________\n",
            "block1_pool (MaxPooling2D)      (None, 50, 50, 64)   0           block1_conv2[0][0]               \n",
            "__________________________________________________________________________________________________\n",
            "block2_conv1 (Conv2D)           (None, 50, 50, 128)  73856       block1_pool[0][0]                \n",
            "__________________________________________________________________________________________________\n",
            "block2_conv2 (Conv2D)           (None, 50, 50, 128)  147584      block2_conv1[0][0]               \n",
            "__________________________________________________________________________________________________\n",
            "block2_pool (MaxPooling2D)      (None, 25, 25, 128)  0           block2_conv2[0][0]               \n",
            "__________________________________________________________________________________________________\n",
            "input_2 (InputLayer)            [(None, None, 4)]    0                                            \n",
            "__________________________________________________________________________________________________\n",
            "roi_pooling (RoiPoolingConv)    (1, 16, 7, 7, 128)   0           block2_pool[0][0]                \n",
            "                                                                 input_2[0][0]                    \n",
            "__________________________________________________________________________________________________\n",
            "rpn (RpnNet)                    [(None, 25, 25, 18), 636506      block2_pool[0][0]                \n",
            "__________________________________________________________________________________________________\n",
            "cls (Detector)                  [(1, 16, 3), (1, 16, 42520587    roi_pooling[0][0]                \n",
            "==================================================================================================\n",
            "Total params: 43,417,253\n",
            "Trainable params: 43,157,093\n",
            "Non-trainable params: 260,160\n",
            "__________________________________________________________________________________________________\n"
          ]
        }
      ],
      "metadata": {
        "tags": [
          "outputPrepend"
        ]
      }
    },
    {
      "cell_type": "markdown",
      "source": [
        "### Load weights"
      ],
      "metadata": {}
    },
    {
      "cell_type": "code",
      "execution_count": 17,
      "source": [
        "ska_dataset.class_list"
      ],
      "outputs": [
        {
          "output_type": "execute_result",
          "data": {
            "text/plain": [
              "array(['2_2', '2_3'], dtype=object)"
            ]
          },
          "metadata": {},
          "execution_count": 17
        }
      ],
      "metadata": {}
    },
    {
      "cell_type": "code",
      "execution_count": 18,
      "source": [
        "# checkpoint='0_frcnn_baseline_36.h5'\n",
        "models.load_weigths(rpn_model, detector_model, backbone, resume_train=False, checkpoint=checkpoint)\n",
        "models.compile_models(rpn_model, detector_model, total_model, rpn_losses=[loss.rpn_loss_cls, loss.rpn_loss_regr], detector_losses=[loss.detector_loss_cls, loss.detector_loss_regr], class_list=ska_dataset.class_list)\n",
        "# models.compile_models(rpn_model, detector_model, total_model, rpn_losses=[loss.rpn_loss_cls, loss.rpn_loss_regr], detector_losses=[loss.categorical_focal_loss([.25, .25, 0.05], 2.), loss.detector_loss_regr], class_list=ska_dataset.class_list)\n",
        "# models.compile_models(rpn_model, detector_model, total_model, rpn_losses=[loss.rpn_loss_cls, loss.rpn_loss_regr], detector_losses=[loss.categorical_focal_loss([2, 0.5, 2, 2, 0.05], 2.), loss.detector_loss_regr], class_list=ska_dataset.class_list)\n",
        "\n"
      ],
      "outputs": [
        {
          "output_type": "stream",
          "name": "stdout",
          "text": [
            "Downloading vgg16_weights_tf_dim_ordering_tf_kernels_notop.h5 data...\n",
            "Download completed!\n"
          ]
        }
      ],
      "metadata": {}
    },
    {
      "cell_type": "code",
      "execution_count": 19,
      "source": [
        "# Specifically checking backbone weights\n",
        "\n",
        "# total_model.weights[24:25][0][0][0][0]"
      ],
      "outputs": [],
      "metadata": {}
    },
    {
      "cell_type": "code",
      "execution_count": 20,
      "source": [
        "# Check that all of the pretrained weights have been loaded.\n",
        "import numpy as np\n",
        "for i, j in zip(total_model.weights, rpn_model.weights): \n",
        "    # print(i,j)\n",
        "    assert np.allclose(i,j), 'Weights don\\'t match!'"
      ],
      "outputs": [],
      "metadata": {
        "tags": []
      }
    },
    {
      "cell_type": "markdown",
      "source": [
        "### Train"
      ],
      "metadata": {}
    },
    {
      "cell_type": "markdown",
      "source": [
        "- errore \"Exception: 'a' cannot be empty unless no samples are taken\" quando nel sampling ci sono meno di 4 roi\n",
        "- errore \"None type object is not iterable\" dovuto al max(IoUs) quando calc_iou torna None, None, None, None\n",
        "- patch di debug 1550_16376_16779_100\n",
        "- capire il parametro classifier_regr_std in che modo influenza il training"
      ],
      "metadata": {}
    },
    {
      "cell_type": "markdown",
      "source": [
        "- provare normalizzazione valori immagini di input\n",
        "- provare a far passare più roi anzichè 4"
      ],
      "metadata": {}
    },
    {
      "cell_type": "code",
      "execution_count": 21,
      "source": [
        "len(ska_dataset.train_patch_list)"
      ],
      "outputs": [
        {
          "output_type": "execute_result",
          "data": {
            "text/plain": [
              "12"
            ]
          },
          "metadata": {},
          "execution_count": 21
        }
      ],
      "metadata": {}
    },
    {
      "cell_type": "code",
      "execution_count": 22,
      "source": [
        "# In this cell we modify the image for debugging purposes\n",
        "\n",
        "# import cv2\n",
        "\n",
        "print_img(config.TRAIN_PATCHES_FOLDER, '2_16396_16729_20')\n",
        "### Flip image\n",
        "# img_aug = np.load(f'{config.TRAIN_PATCHES_FOLDER}/2_16396_16729_20/2_16396_16729_20.npy')\n",
        "# img_data_aug = pd.read_pickle(f'{config.TRAIN_PATCHES_FOLDER}/2_16396_16729_20/2_16396_16729_20.pkl')\n",
        "\n",
        "# rows, cols = img_aug.shape[:2]\n",
        "\n",
        "# img_aug = cv2.flip(img_aug, 0)\n",
        "# for index, row in img_data_aug.iterrows():\n",
        "#     y1 = row['y1s']\n",
        "#     y2 = row['y2s']\n",
        "#     img_data_aug.at[index,'y2s']= rows - y1\n",
        "#     img_data_aug.at[index,'y1s']= rows - y2\n",
        "\n",
        "# if not os.path.exists(f'{config.TRAIN_PATCHES_FOLDER}/2_16396_16729_20_aug/'):\n",
        "#     os.makedirs(f'{config.TRAIN_PATCHES_FOLDER}/2_16396_16729_20_aug/')\n",
        "\n",
        "# np.save((f'{config.TRAIN_PATCHES_FOLDER}/2_16396_16729_20_aug/2_16396_16729_20_aug.npy'), img_aug)\n",
        "# img_data_aug.to_pickle(f'{config.TRAIN_PATCHES_FOLDER}/2_16396_16729_20_aug/2_16396_16729_20_aug.pkl')\n",
        "\n",
        "# print_img(config.TRAIN_PATCHES_FOLDER, '2_16396_16729_20_aug')\n",
        "###\n",
        "\n",
        "### Remove crowded object\n",
        "img_aug = np.load(f'{config.TRAIN_PATCHES_FOLDER}/2_16396_16729_20/2_16396_16729_20.npy')\n",
        "img_data_aug = pd.read_pickle(f'{config.TRAIN_PATCHES_FOLDER}/2_16396_16729_20/2_16396_16729_20.pkl')\n",
        "img_data_aug.head()\n",
        "df = img_data_aug[img_data_aug['ID']==8050427].reset_index()\n",
        "df.to_pickle(f'{config.TRAIN_PATCHES_FOLDER}/2_16396_16729_20/2_16396_16729_20.pkl')\n",
        "zzz = pd.read_pickle(f'{config.TRAIN_PATCHES_FOLDER}/2_16396_16729_20/2_16396_16729_20.pkl')\n",
        "print_img(config.TRAIN_PATCHES_FOLDER, '2_16396_16729_20')\n",
        "zzz.head()\n",
        "\n",
        "###"
      ],
      "outputs": [
        {
          "output_type": "display_data",
          "data": {
            "image/png": "[encoded data removed]",
            "text/plain": [
              "<Figure size 432x288 with 1 Axes>"
            ]
          },
          "metadata": {
            "needs_background": "light"
          }
        },
        {
          "output_type": "display_data",
          "data": {
            "image/png": "[encoded data removed]",
            "text/plain": [
              "<Figure size 432x288 with 1 Axes>"
            ]
          },
          "metadata": {
            "needs_background": "light"
          }
        },
        {
          "output_type": "execute_result",
          "data": {
            "text/html": [
              "<div>\n",
              "<style scoped>\n",
              "    .dataframe tbody tr th:only-of-type {\n",
              "        vertical-align: middle;\n",
              "    }\n",
              "\n",
              "    .dataframe tbody tr th {\n",
              "        vertical-align: top;\n",
              "    }\n",
              "\n",
              "    .dataframe thead th {\n",
              "        text-align: right;\n",
              "    }\n",
              "</style>\n",
              "<table border=\"1\" class=\"dataframe\">\n",
              "  <thead>\n",
              "    <tr style=\"text-align: right;\">\n",
              "      <th></th>\n",
              "      <th>index</th>\n",
              "      <th>ID</th>\n",
              "      <th>RA (core)</th>\n",
              "      <th>DEC (core)</th>\n",
              "      <th>RA (centroid)</th>\n",
              "      <th>DEC (centroid)</th>\n",
              "      <th>FLUX</th>\n",
              "      <th>Core frac</th>\n",
              "      <th>BMAJ</th>\n",
              "      <th>BMIN</th>\n",
              "      <th>...</th>\n",
              "      <th>y1s</th>\n",
              "      <th>x2s</th>\n",
              "      <th>y2s</th>\n",
              "      <th>patch_id</th>\n",
              "      <th>patch_name</th>\n",
              "      <th>patch_xo</th>\n",
              "      <th>patch_yo</th>\n",
              "      <th>patch_dim</th>\n",
              "      <th>bbox_w</th>\n",
              "      <th>bbox_h</th>\n",
              "    </tr>\n",
              "  </thead>\n",
              "  <tbody>\n",
              "    <tr>\n",
              "      <th>0</th>\n",
              "      <td>1</td>\n",
              "      <td>8050427</td>\n",
              "      <td>-0.005032</td>\n",
              "      <td>-29.939239</td>\n",
              "      <td>-0.005032</td>\n",
              "      <td>-29.939239</td>\n",
              "      <td>0.000043</td>\n",
              "      <td>-0.0</td>\n",
              "      <td>2.157</td>\n",
              "      <td>0.264</td>\n",
              "      <td>...</td>\n",
              "      <td>11.573728</td>\n",
              "      <td>16.537825</td>\n",
              "      <td>19.0</td>\n",
              "      <td>2_16396_16729_20</td>\n",
              "      <td>560Mhz_1000h_16396_16729</td>\n",
              "      <td>16396</td>\n",
              "      <td>16729</td>\n",
              "      <td>20</td>\n",
              "      <td>7.119101</td>\n",
              "      <td>7.426272</td>\n",
              "    </tr>\n",
              "  </tbody>\n",
              "</table>\n",
              "<p>1 rows × 39 columns</p>\n",
              "</div>"
            ],
            "text/plain": [
              "   index       ID  RA (core)  DEC (core)  RA (centroid)  DEC (centroid)  \\\n",
              "0      1  8050427  -0.005032  -29.939239      -0.005032      -29.939239   \n",
              "\n",
              "       FLUX  Core frac   BMAJ   BMIN  ...        y1s        x2s   y2s  \\\n",
              "0  0.000043       -0.0  2.157  0.264  ...  11.573728  16.537825  19.0   \n",
              "\n",
              "           patch_id                patch_name  patch_xo  patch_yo  patch_dim  \\\n",
              "0  2_16396_16729_20  560Mhz_1000h_16396_16729     16396     16729         20   \n",
              "\n",
              "     bbox_w    bbox_h  \n",
              "0  7.119101  7.426272  \n",
              "\n",
              "[1 rows x 39 columns]"
            ]
          },
          "metadata": {},
          "execution_count": 22
        }
      ],
      "metadata": {}
    },
    {
      "cell_type": "code",
      "execution_count": 41,
      "source": [
        "from src.train import *\n",
        "\n",
        "val_patch_list = None\n",
        "train_frcnn(rpn_model, detector_model, total_model, ['2_16396_16729_20'], val_patch_list, ska_dataset.class_list, num_epochs=125, patches_folder_path=config.TRAIN_PATCHES_FOLDER, backbone=backbone, resume_train=True)\n",
        "# train_frcnn(rpn_model, detector_model, total_model, ska_dataset.train_patch_list, val_patch_list, ska_dataset.class_list, num_epochs=150, patches_folder_path=config.TRAIN_PATCHES_FOLDER, backbone=backbone, resume_train=True)"
      ],
      "outputs": [
        {
          "output_type": "stream",
          "name": "stderr",
          "text": [
            "  0%|          | 0/6 [00:00<?, ?it/s]"
          ]
        },
        {
          "output_type": "stream",
          "name": "stdout",
          "text": [
            "(100, 100)\n"
          ]
        },
        {
          "output_type": "stream",
          "name": "stderr",
          "text": [
            "100%|██████████| 6/6 [00:01<00:00,  5.32it/s]\n",
            "100%|██████████| 1/1 [00:00<00:00, 11915.64it/s]\n"
          ]
        },
        {
          "output_type": "stream",
          "name": "stdout",
          "text": [
            "Starting rpn model training on patch 2_16396_16729_20\n",
            "Best IoU found in this run: 0.8888888790123458\n",
            "Selected pos samples: 12\n",
            "Selected neg samples: 4\n",
            "Starting detector model training on batch\n",
            " 6/10 [=================>............] - ETA: 7s - rpn_cls: 1.0205 - rpn_regr: 0.0155 - detector_cls: 0.5480 - detector_regr: 0.3542 - average number of objects: 12.0000"
          ]
        },
        {
          "output_type": "stream",
          "name": "stderr",
          "text": [
            "  0%|          | 0/6 [00:00<?, ?it/s]"
          ]
        },
        {
          "output_type": "stream",
          "name": "stdout",
          "text": [
            "(100, 100)\n"
          ]
        },
        {
          "output_type": "stream",
          "name": "stderr",
          "text": [
            "100%|██████████| 6/6 [00:01<00:00,  5.67it/s]\n",
            "100%|██████████| 1/1 [00:00<00:00, 3663.15it/s]\n"
          ]
        },
        {
          "output_type": "stream",
          "name": "stdout",
          "text": [
            "Starting rpn model training on patch 2_16396_16729_20\n",
            "Best IoU found in this run: 0.8888888790123458\n",
            "Selected pos samples: 12\n",
            "Selected neg samples: 4\n",
            "Starting detector model training on batch\n",
            " 7/10 [====================>.........] - ETA: 5s - rpn_cls: 1.0119 - rpn_regr: 0.0156 - detector_cls: 0.5372 - detector_regr: 0.3571 - average number of objects: 12.0000"
          ]
        },
        {
          "output_type": "stream",
          "name": "stderr",
          "text": [
            "  0%|          | 0/6 [00:00<?, ?it/s]"
          ]
        },
        {
          "output_type": "stream",
          "name": "stdout",
          "text": [
            "(100, 100)\n"
          ]
        },
        {
          "output_type": "stream",
          "name": "stderr",
          "text": [
            "100%|██████████| 6/6 [00:01<00:00,  5.89it/s]\n",
            "100%|██████████| 1/1 [00:00<00:00, 4999.17it/s]\n"
          ]
        },
        {
          "output_type": "stream",
          "name": "stdout",
          "text": [
            "Starting rpn model training on patch 2_16396_16729_20\n",
            "Best IoU found in this run: 0.8888888790123458\n",
            "Selected pos samples: 12\n",
            "Selected neg samples: 4\n",
            "Starting detector model training on batch\n",
            " 8/10 [=======================>......] - ETA: 3s - rpn_cls: 0.9305 - rpn_regr: 0.0156 - detector_cls: 0.5404 - detector_regr: 0.3550 - average number of objects: 12.0000"
          ]
        },
        {
          "output_type": "stream",
          "name": "stderr",
          "text": [
            "  0%|          | 0/6 [00:00<?, ?it/s]"
          ]
        },
        {
          "output_type": "stream",
          "name": "stdout",
          "text": [
            "(100, 100)\n"
          ]
        },
        {
          "output_type": "stream",
          "name": "stderr",
          "text": [
            "100%|██████████| 6/6 [00:01<00:00,  5.44it/s]\n",
            "100%|██████████| 1/1 [00:00<00:00, 5377.31it/s]\n"
          ]
        },
        {
          "output_type": "stream",
          "name": "stdout",
          "text": [
            "Starting rpn model training on patch 2_16396_16729_20\n",
            "Best IoU found in this run: 0.8888888790123458\n",
            "Selected pos samples: 12\n",
            "Selected neg samples: 4\n",
            "Starting detector model training on batch\n",
            " 9/10 [==========================>...] - ETA: 1s - rpn_cls: 0.9205 - rpn_regr: 0.0156 - detector_cls: 0.5429 - detector_regr: 0.3536 - average number of objects: 12.0000"
          ]
        },
        {
          "output_type": "stream",
          "name": "stderr",
          "text": [
            "  0%|          | 0/6 [00:00<?, ?it/s]"
          ]
        },
        {
          "output_type": "stream",
          "name": "stdout",
          "text": [
            "(100, 100)\n"
          ]
        },
        {
          "output_type": "stream",
          "name": "stderr",
          "text": [
            "100%|██████████| 6/6 [00:01<00:00,  5.90it/s]\n",
            "100%|██████████| 1/1 [00:00<00:00, 3037.15it/s]\n"
          ]
        },
        {
          "output_type": "stream",
          "name": "stdout",
          "text": [
            "Starting rpn model training on patch 2_16396_16729_20\n",
            "Best IoU found in this run: 0.8888888790123458\n",
            "Selected pos samples: 12\n",
            "Selected neg samples: 4\n",
            "Starting detector model training on batch\n",
            "10/10 [==============================] - 17s 2s/step - rpn_cls: 0.8585 - rpn_regr: 0.0156 - detector_cls: 0.5450 - detector_regr: 0.3559 - average number of objects: 12.0000\n",
            "Mean number of bounding boxes from RPN overlapping ground truth boxes: 13.0\n",
            "Classifier accuracy for bounding boxes from RPN: 0.7625\n",
            "Loss RPN classifier: 0.8585185736417771\n",
            "Loss RPN regression: 0.015584355313330888\n",
            "Loss Detector classifier: 0.5449503660202026\n",
            "Loss Detector regression: 0.35589246451854706\n",
            "Total loss: 1.7749457594938578, wrt best loss: 1.5733138353563845 \n",
            "Elapsed time: 16.96699070930481\n"
          ]
        },
        {
          "output_type": "stream",
          "name": "stderr",
          "text": [
            "  0%|          | 0/6 [00:00<?, ?it/s]"
          ]
        },
        {
          "output_type": "stream",
          "name": "stdout",
          "text": [
            "Epoch 66/125\n",
            "Average number of overlapping bounding boxes from RPN = 13.0 for 10 previous iterations\n",
            "(100, 100)\n"
          ]
        },
        {
          "output_type": "stream",
          "name": "stderr",
          "text": [
            "100%|██████████| 6/6 [00:01<00:00,  5.50it/s]\n",
            "100%|██████████| 1/1 [00:00<00:00, 5497.12it/s]\n"
          ]
        },
        {
          "output_type": "stream",
          "name": "stdout",
          "text": [
            "Starting rpn model training on patch 2_16396_16729_20\n",
            "Best IoU found in this run: 0.8888888790123458\n",
            "Selected pos samples: 12\n",
            "Selected neg samples: 4\n",
            "Starting detector model training on batch\n",
            " 1/10 [==>...........................] - ETA: 14s - rpn_cls: 0.9604 - rpn_regr: 0.0155 - detector_cls: 0.5628 - detector_regr: 0.3730 - average number of objects: 12.0000"
          ]
        },
        {
          "output_type": "stream",
          "name": "stderr",
          "text": [
            "  0%|          | 0/6 [00:00<?, ?it/s]"
          ]
        },
        {
          "output_type": "stream",
          "name": "stdout",
          "text": [
            "(100, 100)\n"
          ]
        },
        {
          "output_type": "stream",
          "name": "stderr",
          "text": [
            "100%|██████████| 6/6 [00:01<00:00,  5.86it/s]\n",
            "100%|██████████| 1/1 [00:00<00:00, 7695.97it/s]\n"
          ]
        },
        {
          "output_type": "stream",
          "name": "stdout",
          "text": [
            "Starting rpn model training on patch 2_16396_16729_20\n",
            "Best IoU found in this run: 0.8888888790123458\n",
            "Selected pos samples: 12\n",
            "Selected neg samples: 4\n",
            "Starting detector model training on batch\n",
            " 2/10 [=====>........................] - ETA: 12s - rpn_cls: 0.9305 - rpn_regr: 0.0155 - detector_cls: 0.5628 - detector_regr: 0.3693 - average number of objects: 12.0000"
          ]
        },
        {
          "output_type": "stream",
          "name": "stderr",
          "text": [
            "  0%|          | 0/6 [00:00<?, ?it/s]"
          ]
        },
        {
          "output_type": "stream",
          "name": "stdout",
          "text": [
            "(100, 100)\n"
          ]
        },
        {
          "output_type": "stream",
          "name": "stderr",
          "text": [
            "100%|██████████| 6/6 [00:01<00:00,  5.71it/s]\n",
            "100%|██████████| 1/1 [00:00<00:00, 2985.27it/s]\n"
          ]
        },
        {
          "output_type": "stream",
          "name": "stdout",
          "text": [
            "Starting rpn model training on patch 2_16396_16729_20\n",
            "Best IoU found in this run: 0.8888888790123458\n",
            "Selected pos samples: 12\n",
            "Selected neg samples: 4\n",
            "Starting detector model training on batch\n",
            " 3/10 [========>.....................] - ETA: 10s - rpn_cls: 0.8805 - rpn_regr: 0.0155 - detector_cls: 0.5331 - detector_regr: 0.3584 - average number of objects: 12.0000"
          ]
        },
        {
          "output_type": "stream",
          "name": "stderr",
          "text": [
            "  0%|          | 0/6 [00:00<?, ?it/s]"
          ]
        },
        {
          "output_type": "stream",
          "name": "stdout",
          "text": [
            "(100, 100)\n"
          ]
        },
        {
          "output_type": "stream",
          "name": "stderr",
          "text": [
            "100%|██████████| 6/6 [00:01<00:00,  5.88it/s]\n",
            "100%|██████████| 1/1 [00:00<00:00, 3844.46it/s]\n"
          ]
        },
        {
          "output_type": "stream",
          "name": "stdout",
          "text": [
            "Starting rpn model training on patch 2_16396_16729_20\n",
            "Best IoU found in this run: 0.8888888790123458\n",
            "Selected pos samples: 12\n",
            "Selected neg samples: 4\n",
            "Starting detector model training on batch\n",
            " 4/10 [===========>..................] - ETA: 9s - rpn_cls: 0.9005 - rpn_regr: 0.0156 - detector_cls: 0.5404 - detector_regr: 0.3592 - average number of objects: 12.0000 "
          ]
        },
        {
          "output_type": "stream",
          "name": "stderr",
          "text": [
            "  0%|          | 0/6 [00:00<?, ?it/s]"
          ]
        },
        {
          "output_type": "stream",
          "name": "stdout",
          "text": [
            "(100, 100)\n"
          ]
        },
        {
          "output_type": "stream",
          "name": "stderr",
          "text": [
            "100%|██████████| 6/6 [00:01<00:00,  5.24it/s]\n",
            "100%|██████████| 1/1 [00:00<00:00, 6462.72it/s]\n"
          ]
        },
        {
          "output_type": "stream",
          "name": "stdout",
          "text": [
            "Starting rpn model training on patch 2_16396_16729_20\n",
            "Best IoU found in this run: 0.8888888790123458\n",
            "Selected pos samples: 12\n",
            "Selected neg samples: 4\n",
            "Starting detector model training on batch\n",
            " 5/10 [==============>...............] - ETA: 8s - rpn_cls: 0.8645 - rpn_regr: 0.0156 - detector_cls: 0.5449 - detector_regr: 0.3527 - average number of objects: 12.0000(100, 100)\n"
          ]
        },
        {
          "output_type": "stream",
          "name": "stderr",
          "text": [
            "100%|██████████| 6/6 [00:01<00:00,  5.25it/s]\n",
            "100%|██████████| 1/1 [00:00<00:00, 4293.04it/s]\n"
          ]
        },
        {
          "output_type": "stream",
          "name": "stdout",
          "text": [
            "Starting rpn model training on patch 2_16396_16729_20\n",
            "Best IoU found in this run: 0.8888888790123458\n",
            "Selected pos samples: 12\n",
            "Selected neg samples: 4\n",
            "Starting detector model training on batch\n",
            " 6/10 [=================>............] - ETA: 6s - rpn_cls: 0.8805 - rpn_regr: 0.0156 - detector_cls: 0.5478 - detector_regr: 0.3509 - average number of objects: 12.0000"
          ]
        },
        {
          "output_type": "stream",
          "name": "stderr",
          "text": [
            "  0%|          | 0/6 [00:00<?, ?it/s]"
          ]
        },
        {
          "output_type": "stream",
          "name": "stdout",
          "text": [
            "(100, 100)\n"
          ]
        },
        {
          "output_type": "stream",
          "name": "stderr",
          "text": [
            "100%|██████████| 6/6 [00:01<00:00,  5.72it/s]\n",
            "100%|██████████| 1/1 [00:00<00:00, 4462.03it/s]\n"
          ]
        },
        {
          "output_type": "stream",
          "name": "stdout",
          "text": [
            "Starting rpn model training on patch 2_16396_16729_20\n",
            "Best IoU found in this run: 0.8888888790123458\n",
            "Selected pos samples: 12\n",
            "Selected neg samples: 4\n",
            "Starting detector model training on batch\n",
            " 7/10 [====================>.........] - ETA: 4s - rpn_cls: 0.9090 - rpn_regr: 0.0156 - detector_cls: 0.5499 - detector_regr: 0.3488 - average number of objects: 12.0000"
          ]
        },
        {
          "output_type": "stream",
          "name": "stderr",
          "text": [
            "  0%|          | 0/6 [00:00<?, ?it/s]"
          ]
        },
        {
          "output_type": "stream",
          "name": "stdout",
          "text": [
            "(100, 100)\n"
          ]
        },
        {
          "output_type": "stream",
          "name": "stderr",
          "text": [
            "100%|██████████| 6/6 [00:01<00:00,  5.66it/s]\n",
            "100%|██████████| 1/1 [00:00<00:00, 3472.11it/s]\n"
          ]
        },
        {
          "output_type": "stream",
          "name": "stdout",
          "text": [
            "Starting rpn model training on patch 2_16396_16729_20\n",
            "Best IoU found in this run: 0.8888888790123458\n",
            "Selected pos samples: 12\n",
            "Selected neg samples: 4\n",
            "Starting detector model training on batch\n",
            " 8/10 [=======================>......] - ETA: 3s - rpn_cls: 0.9155 - rpn_regr: 0.0156 - detector_cls: 0.5515 - detector_regr: 0.3473 - average number of objects: 12.0000"
          ]
        },
        {
          "output_type": "stream",
          "name": "stderr",
          "text": [
            "  0%|          | 0/6 [00:00<?, ?it/s]"
          ]
        },
        {
          "output_type": "stream",
          "name": "stdout",
          "text": [
            "(100, 100)\n"
          ]
        },
        {
          "output_type": "stream",
          "name": "stderr",
          "text": [
            "100%|██████████| 6/6 [00:01<00:00,  5.70it/s]\n",
            "100%|██████████| 1/1 [00:00<00:00, 6177.18it/s]\n"
          ]
        },
        {
          "output_type": "stream",
          "name": "stdout",
          "text": [
            "Starting rpn model training on patch 2_16396_16729_20\n",
            "Best IoU found in this run: 0.8888888790123458\n",
            "Selected pos samples: 12\n",
            "Selected neg samples: 4\n",
            "Starting detector model training on batch\n",
            " 9/10 [==========================>...] - ETA: 1s - rpn_cls: 0.9471 - rpn_regr: 0.0156 - detector_cls: 0.5527 - detector_regr: 0.3481 - average number of objects: 12.0000"
          ]
        },
        {
          "output_type": "stream",
          "name": "stderr",
          "text": [
            "  0%|          | 0/6 [00:00<?, ?it/s]"
          ]
        },
        {
          "output_type": "stream",
          "name": "stdout",
          "text": [
            "(100, 100)\n"
          ]
        },
        {
          "output_type": "stream",
          "name": "stderr",
          "text": [
            "100%|██████████| 6/6 [00:01<00:00,  4.97it/s]\n",
            "100%|██████████| 1/1 [00:00<00:00, 3412.78it/s]\n"
          ]
        },
        {
          "output_type": "stream",
          "name": "stdout",
          "text": [
            "Starting rpn model training on patch 2_16396_16729_20\n",
            "Best IoU found in this run: 0.8888888790123458\n",
            "Selected pos samples: 12\n",
            "Selected neg samples: 4\n",
            "Starting detector model training on batch\n",
            "10/10 [==============================] - 16s 2s/step - rpn_cls: 0.9425 - rpn_regr: 0.0156 - detector_cls: 0.5536 - detector_regr: 0.3488 - average number of objects: 12.0000\n",
            "Mean number of bounding boxes from RPN overlapping ground truth boxes: 13.0\n",
            "Classifier accuracy for bounding boxes from RPN: 0.75625\n",
            "Loss RPN classifier: 0.9424637436866761\n",
            "Loss RPN regression: 0.015612834040075541\n",
            "Loss Detector classifier: 0.5536343336105347\n",
            "Loss Detector regression: 0.34884093403816224\n",
            "Total loss: 1.8605518453754486, wrt best loss: 1.5733138353563845 \n",
            "Elapsed time: 16.49893593788147\n"
          ]
        },
        {
          "output_type": "stream",
          "name": "stderr",
          "text": [
            "  0%|          | 0/6 [00:00<?, ?it/s]"
          ]
        },
        {
          "output_type": "stream",
          "name": "stdout",
          "text": [
            "Epoch 67/125\n",
            "Average number of overlapping bounding boxes from RPN = 13.0 for 10 previous iterations\n",
            "(100, 100)\n"
          ]
        },
        {
          "output_type": "stream",
          "name": "stderr",
          "text": [
            "100%|██████████| 6/6 [00:01<00:00,  4.51it/s]\n",
            "100%|██████████| 1/1 [00:00<00:00, 4258.18it/s]\n"
          ]
        },
        {
          "output_type": "stream",
          "name": "stdout",
          "text": [
            "Starting rpn model training on patch 2_16396_16729_20\n",
            "Best IoU found in this run: 0.8888888790123458\n",
            "Selected pos samples: 12\n",
            "Selected neg samples: 4\n",
            "Starting detector model training on batch\n",
            " 1/10 [==>...........................] - ETA: 17s - rpn_cls: 1.2004 - rpn_regr: 0.0160 - detector_cls: 0.5624 - detector_regr: 0.3374 - average number of objects: 12.0000"
          ]
        },
        {
          "output_type": "stream",
          "name": "stderr",
          "text": [
            "  0%|          | 0/6 [00:00<?, ?it/s]"
          ]
        },
        {
          "output_type": "stream",
          "name": "stdout",
          "text": [
            "(100, 100)\n"
          ]
        },
        {
          "output_type": "stream",
          "name": "stderr",
          "text": [
            "100%|██████████| 6/6 [00:01<00:00,  5.50it/s]\n",
            "100%|██████████| 1/1 [00:00<00:00, 4766.25it/s]\n"
          ]
        },
        {
          "output_type": "stream",
          "name": "stdout",
          "text": [
            "Starting rpn model training on patch 2_16396_16729_20\n",
            "Best IoU found in this run: 0.8888888790123458\n",
            "Selected pos samples: 12\n",
            "Selected neg samples: 4\n",
            "Starting detector model training on batch\n",
            " 2/10 [=====>........................] - ETA: 13s - rpn_cls: 0.9004 - rpn_regr: 0.0161 - detector_cls: 0.5624 - detector_regr: 0.3490 - average number of objects: 12.0000"
          ]
        },
        {
          "output_type": "stream",
          "name": "stderr",
          "text": [
            "  0%|          | 0/6 [00:00<?, ?it/s]"
          ]
        },
        {
          "output_type": "stream",
          "name": "stdout",
          "text": [
            "(100, 100)\n"
          ]
        },
        {
          "output_type": "stream",
          "name": "stderr",
          "text": [
            " 17%|█▋        | 1/6 [00:00<00:01,  3.23it/s]"
          ]
        }
      ],
      "metadata": {}
    },
    {
      "cell_type": "markdown",
      "source": [
        "# Validation"
      ],
      "metadata": {}
    },
    {
      "cell_type": "code",
      "execution_count": 35,
      "source": [
        "rpn_model_eval, detector_model_eval, total_model_eval = models.get_eval_model(input_shape_1=input_shape_1, input_shape_2=input_shape_2, input_shape_fmap=None, anchor_num=config.anchor_num, pooling_regions=config.pooling_regions, num_rois=config.num_rois, num_classes=len(ska_dataset.class_list)+1, backbone=backbone, use_expander=False)\n",
        "\n",
        "rpn_model_eval.summary()\n",
        "detector_model_eval.summary()\n",
        "total_model_eval.summary()"
      ],
      "outputs": [
        {
          "output_type": "stream",
          "name": "stdout",
          "text": [
            "Model: \"RegionProposal\"\n",
            "_________________________________________________________________\n",
            "Layer (type)                 Output Shape              Param #   \n",
            "=================================================================\n",
            "input_1 (InputLayer)         [(None, 100, 100, 3)]     0         \n",
            "_________________________________________________________________\n",
            "block1_conv1 (Conv2D)        (None, 100, 100, 64)      1792      \n",
            "_________________________________________________________________\n",
            "block1_conv2 (Conv2D)        (None, 100, 100, 64)      36928     \n",
            "_________________________________________________________________\n",
            "block1_pool (MaxPooling2D)   (None, 50, 50, 64)        0         \n",
            "_________________________________________________________________\n",
            "block2_conv1 (Conv2D)        (None, 50, 50, 128)       73856     \n",
            "_________________________________________________________________\n",
            "block2_conv2 (Conv2D)        (None, 50, 50, 128)       147584    \n",
            "_________________________________________________________________\n",
            "block2_pool (MaxPooling2D)   (None, 25, 25, 128)       0         \n",
            "_________________________________________________________________\n",
            "rpn (RpnNet)                 [(None, 25, 25, 18), (Non 636506    \n",
            "=================================================================\n",
            "Total params: 896,666\n",
            "Trainable params: 636,506\n",
            "Non-trainable params: 260,160\n",
            "_________________________________________________________________\n",
            "Model: \"DetectorClassifier\"\n",
            "__________________________________________________________________________________________________\n",
            "Layer (type)                    Output Shape         Param #     Connected to                     \n",
            "==================================================================================================\n",
            "Input_fmap (InputLayer)         [(None, 25, 25, 128) 0                                            \n",
            "__________________________________________________________________________________________________\n",
            "input_2 (InputLayer)            [(None, None, 4)]    0                                            \n",
            "__________________________________________________________________________________________________\n",
            "roi_pooling (RoiPoolingConv)    (1, 16, 7, 7, 128)   0           Input_fmap[0][0]                 \n",
            "                                                                 input_2[0][0]                    \n",
            "__________________________________________________________________________________________________\n",
            "cls (Detector)                  [(1, 16, 3), (1, 16, 42520587    roi_pooling[0][0]                \n",
            "==================================================================================================\n",
            "Total params: 42,520,587\n",
            "Trainable params: 42,520,587\n",
            "Non-trainable params: 0\n",
            "__________________________________________________________________________________________________\n",
            "Model: \"End2end_model\"\n",
            "__________________________________________________________________________________________________\n",
            "Layer (type)                    Output Shape         Param #     Connected to                     \n",
            "==================================================================================================\n",
            "input_1 (InputLayer)            [(None, 100, 100, 3) 0                                            \n",
            "__________________________________________________________________________________________________\n",
            "block1_conv1 (Conv2D)           (None, 100, 100, 64) 1792        input_1[0][0]                    \n",
            "__________________________________________________________________________________________________\n",
            "block1_conv2 (Conv2D)           (None, 100, 100, 64) 36928       block1_conv1[0][0]               \n",
            "__________________________________________________________________________________________________\n",
            "block1_pool (MaxPooling2D)      (None, 50, 50, 64)   0           block1_conv2[0][0]               \n",
            "__________________________________________________________________________________________________\n",
            "block2_conv1 (Conv2D)           (None, 50, 50, 128)  73856       block1_pool[0][0]                \n",
            "__________________________________________________________________________________________________\n",
            "block2_conv2 (Conv2D)           (None, 50, 50, 128)  147584      block2_conv1[0][0]               \n",
            "__________________________________________________________________________________________________\n",
            "Input_fmap (InputLayer)         [(None, 25, 25, 128) 0                                            \n",
            "__________________________________________________________________________________________________\n",
            "input_2 (InputLayer)            [(None, None, 4)]    0                                            \n",
            "__________________________________________________________________________________________________\n",
            "block2_pool (MaxPooling2D)      (None, 25, 25, 128)  0           block2_conv2[0][0]               \n",
            "__________________________________________________________________________________________________\n",
            "roi_pooling (RoiPoolingConv)    (1, 16, 7, 7, 128)   0           Input_fmap[0][0]                 \n",
            "                                                                 input_2[0][0]                    \n",
            "__________________________________________________________________________________________________\n",
            "rpn (RpnNet)                    [(None, 25, 25, 18), 636506      block2_pool[0][0]                \n",
            "__________________________________________________________________________________________________\n",
            "cls (Detector)                  [(1, 16, 3), (1, 16, 42520587    roi_pooling[0][0]                \n",
            "==================================================================================================\n",
            "Total params: 43,417,253\n",
            "Trainable params: 43,157,093\n",
            "Non-trainable params: 260,160\n",
            "__________________________________________________________________________________________________\n"
          ]
        }
      ],
      "metadata": {
        "tags": [
          "outputPrepend"
        ]
      }
    },
    {
      "cell_type": "code",
      "execution_count": 36,
      "source": [
        "# Models used for mAP eval\n",
        "# cp = '36_frcnn_baseline_36.h5'\n",
        "cp = '291_frcnn_baseline_16.h5'\n",
        "models.load_weigths(rpn_model_eval, detector_model_eval, backbone, checkpoint=cp)\n",
        "models.compile_models(rpn_model_eval, detector_model_eval, total_model_eval, rpn_losses=[loss.rpn_loss_cls, loss.rpn_loss_regr], detector_losses=[loss.detector_loss_cls, loss.detector_loss_regr], class_list=ska_dataset.class_list)"
      ],
      "outputs": [],
      "metadata": {}
    },
    {
      "cell_type": "code",
      "execution_count": 37,
      "source": [
        "patch_id = ['2_16396_16729_20']\n",
        "# patch_id = ska_dataset.train_patch_list\n",
        "# print(patch_id)\n",
        "# gt = pd.read_pickle(f'{config.TRAIN_PATCHES_FOLDER}/{patch_id[0]}/{patch_id[0]}.pkl')\n",
        "# display(gt['class_label'])\n",
        "\n",
        "preds, mAP, prec, recall = evaluate_model(rpn_model_eval, detector_model_eval, backbone, patch_id, ska_dataset.class_list, metric_threshold=.5, acceptance_treshold=.4)"
      ],
      "outputs": [
        {
          "output_type": "stream",
          "name": "stdout",
          "text": [
            "(100, 100)\n",
            "{0: '2_2', 1: '2_3', 2: 'bg'}\n",
            "Predict\n",
            "rpn_to_roi\n",
            "[[[4.1238662e-05 7.5773454e-01 2.4222420e-01]\n",
            "  [4.1238662e-05 7.5773454e-01 2.4222420e-01]\n",
            "  [4.1238662e-05 7.5773454e-01 2.4222420e-01]\n",
            "  [4.1238662e-05 7.5773454e-01 2.4222420e-01]\n",
            "  [4.1238662e-05 7.5773454e-01 2.4222420e-01]\n",
            "  [4.1238662e-05 7.5773454e-01 2.4222420e-01]\n",
            "  [4.1238662e-05 7.5773454e-01 2.4222420e-01]\n",
            "  [4.1238662e-05 7.5773454e-01 2.4222420e-01]\n",
            "  [4.1238662e-05 7.5773454e-01 2.4222420e-01]\n",
            "  [4.1238662e-05 7.5773454e-01 2.4222420e-01]\n",
            "  [4.1238662e-05 7.5773454e-01 2.4222420e-01]\n",
            "  [4.1238662e-05 7.5773454e-01 2.4222420e-01]\n",
            "  [4.1238662e-05 7.5773454e-01 2.4222420e-01]\n",
            "  [4.1238662e-05 7.5773454e-01 2.4222420e-01]\n",
            "  [4.1238662e-05 7.5773454e-01 2.4222420e-01]\n",
            "  [4.1238662e-05 7.5773454e-01 2.4222420e-01]]]\n",
            "[[[ 0.          0.          0.          0.         -0.6586207\n",
            "    0.5008412  -0.08875409 -0.33841923]\n",
            "  [ 0.          0.          0.          0.         -0.6586207\n",
            "    0.5008412  -0.08875409 -0.33841923]\n",
            "  [ 0.          0.          0.          0.         -0.6586207\n",
            "    0.5008412  -0.08875409 -0.33841923]\n",
            "  [ 0.          0.          0.          0.         -0.6586207\n",
            "    0.5008412  -0.08875409 -0.33841923]\n",
            "  [ 0.          0.          0.          0.         -0.6586207\n",
            "    0.5008412  -0.08875409 -0.33841923]\n",
            "  [ 0.          0.          0.          0.         -0.6586207\n",
            "    0.5008412  -0.08875409 -0.33841923]\n",
            "  [ 0.          0.          0.          0.         -0.6586207\n",
            "    0.5008412  -0.08875409 -0.33841923]\n",
            "  [ 0.          0.          0.          0.         -0.6586207\n",
            "    0.5008412  -0.08875409 -0.33841923]\n",
            "  [ 0.          0.          0.          0.         -0.6586207\n",
            "    0.5008412  -0.08875409 -0.33841923]\n",
            "  [ 0.          0.          0.          0.         -0.6586207\n",
            "    0.5008412  -0.08875409 -0.33841923]\n",
            "  [ 0.          0.          0.          0.         -0.6586207\n",
            "    0.5008412  -0.08875409 -0.33841923]\n",
            "  [ 0.          0.          0.          0.         -0.6586207\n",
            "    0.5008412  -0.08875409 -0.33841923]\n",
            "  [ 0.          0.          0.          0.         -0.6586207\n",
            "    0.5008412  -0.08875409 -0.33841923]\n",
            "  [ 0.          0.          0.          0.         -0.6586207\n",
            "    0.5008412  -0.08875409 -0.33841923]\n",
            "  [ 0.          0.          0.          0.         -0.6586207\n",
            "    0.5008412  -0.08875409 -0.33841923]\n",
            "  [ 0.          0.          0.          0.         -0.6586207\n",
            "    0.5008412  -0.08875409 -0.33841923]]]\n",
            "[[[4.1238662e-05 7.5773454e-01 2.4222420e-01]\n",
            "  [4.1238662e-05 7.5773454e-01 2.4222420e-01]\n",
            "  [4.1238662e-05 7.5773454e-01 2.4222420e-01]\n",
            "  [4.1238662e-05 7.5773454e-01 2.4222420e-01]\n",
            "  [4.1238662e-05 7.5773454e-01 2.4222420e-01]\n",
            "  [4.1238662e-05 7.5773454e-01 2.4222420e-01]\n",
            "  [4.1238662e-05 7.5773454e-01 2.4222420e-01]\n",
            "  [4.1238662e-05 7.5773454e-01 2.4222420e-01]\n",
            "  [4.1238662e-05 7.5773454e-01 2.4222420e-01]\n",
            "  [4.1238662e-05 7.5773454e-01 2.4222420e-01]\n",
            "  [4.1238662e-05 7.5773454e-01 2.4222420e-01]\n",
            "  [4.1238662e-05 7.5773454e-01 2.4222420e-01]\n",
            "  [4.1238662e-05 7.5773454e-01 2.4222420e-01]\n",
            "  [4.1238662e-05 7.5773454e-01 2.4222420e-01]\n",
            "  [4.1238662e-05 7.5773454e-01 2.4222420e-01]\n",
            "  [4.1238662e-05 7.5773454e-01 2.4222420e-01]]]\n",
            "[[[ 0.          0.          0.          0.         -0.6586207\n",
            "    0.5008412  -0.08875409 -0.33841923]\n",
            "  [ 0.          0.          0.          0.         -0.6586207\n",
            "    0.5008412  -0.08875409 -0.33841923]\n",
            "  [ 0.          0.          0.          0.         -0.6586207\n",
            "    0.5008412  -0.08875409 -0.33841923]\n",
            "  [ 0.          0.          0.          0.         -0.6586207\n",
            "    0.5008412  -0.08875409 -0.33841923]\n",
            "  [ 0.          0.          0.          0.         -0.6586207\n",
            "    0.5008412  -0.08875409 -0.33841923]\n",
            "  [ 0.          0.          0.          0.         -0.6586207\n",
            "    0.5008412  -0.08875409 -0.33841923]\n",
            "  [ 0.          0.          0.          0.         -0.6586207\n",
            "    0.5008412  -0.08875409 -0.33841923]\n",
            "  [ 0.          0.          0.          0.         -0.6586207\n",
            "    0.5008412  -0.08875409 -0.33841923]\n",
            "  [ 0.          0.          0.          0.         -0.6586207\n",
            "    0.5008412  -0.08875409 -0.33841923]\n",
            "  [ 0.          0.          0.          0.         -0.6586207\n",
            "    0.5008412  -0.08875409 -0.33841923]\n",
            "  [ 0.          0.          0.          0.         -0.6586207\n",
            "    0.5008412  -0.08875409 -0.33841923]\n",
            "  [ 0.          0.          0.          0.         -0.6586207\n",
            "    0.5008412  -0.08875409 -0.33841923]\n",
            "  [ 0.          0.          0.          0.         -0.6586207\n",
            "    0.5008412  -0.08875409 -0.33841923]\n",
            "  [ 0.          0.          0.          0.         -0.6586207\n",
            "    0.5008412  -0.08875409 -0.33841923]\n",
            "  [ 0.          0.          0.          0.         -0.6586207\n",
            "    0.5008412  -0.08875409 -0.33841923]\n",
            "  [ 0.          0.          0.          0.         -0.6586207\n",
            "    0.5008412  -0.08875409 -0.33841923]]]\n",
            "[[[4.1238662e-05 7.5773454e-01 2.4222420e-01]\n",
            "  [4.1238662e-05 7.5773454e-01 2.4222420e-01]\n",
            "  [4.1238662e-05 7.5773454e-01 2.4222420e-01]\n",
            "  [4.1238662e-05 7.5773454e-01 2.4222420e-01]\n",
            "  [4.1238662e-05 7.5773454e-01 2.4222420e-01]\n",
            "  [4.1238662e-05 7.5773454e-01 2.4222420e-01]\n",
            "  [4.1238662e-05 7.5773454e-01 2.4222420e-01]\n",
            "  [4.1238662e-05 7.5773454e-01 2.4222420e-01]\n",
            "  [4.1238662e-05 7.5773454e-01 2.4222420e-01]\n",
            "  [4.1238662e-05 7.5773454e-01 2.4222420e-01]\n",
            "  [4.1238662e-05 7.5773454e-01 2.4222420e-01]\n",
            "  [4.1238662e-05 7.5773454e-01 2.4222420e-01]\n",
            "  [4.1238662e-05 7.5773454e-01 2.4222420e-01]\n",
            "  [4.1238662e-05 7.5773454e-01 2.4222420e-01]\n",
            "  [4.1238662e-05 7.5773454e-01 2.4222420e-01]\n",
            "  [4.1238662e-05 7.5773454e-01 2.4222420e-01]]]\n",
            "[[[ 0.          0.          0.          0.         -0.6586207\n",
            "    0.5008412  -0.08875409 -0.33841923]\n",
            "  [ 0.          0.          0.          0.         -0.6586207\n",
            "    0.5008412  -0.08875409 -0.33841923]\n",
            "  [ 0.          0.          0.          0.         -0.6586207\n",
            "    0.5008412  -0.08875409 -0.33841923]\n",
            "  [ 0.          0.          0.          0.         -0.6586207\n",
            "    0.5008412  -0.08875409 -0.33841923]\n",
            "  [ 0.          0.          0.          0.         -0.6586207\n",
            "    0.5008412  -0.08875409 -0.33841923]\n",
            "  [ 0.          0.          0.          0.         -0.6586207\n",
            "    0.5008412  -0.08875409 -0.33841923]\n",
            "  [ 0.          0.          0.          0.         -0.6586207\n",
            "    0.5008412  -0.08875409 -0.33841923]\n",
            "  [ 0.          0.          0.          0.         -0.6586207\n",
            "    0.5008412  -0.08875409 -0.33841923]\n",
            "  [ 0.          0.          0.          0.         -0.6586207\n",
            "    0.5008412  -0.08875409 -0.33841923]\n",
            "  [ 0.          0.          0.          0.         -0.6586207\n",
            "    0.5008412  -0.08875409 -0.33841923]\n",
            "  [ 0.          0.          0.          0.         -0.6586207\n",
            "    0.5008412  -0.08875409 -0.33841923]\n",
            "  [ 0.          0.          0.          0.         -0.6586207\n",
            "    0.5008412  -0.08875409 -0.33841923]\n",
            "  [ 0.          0.          0.          0.         -0.6586207\n",
            "    0.5008412  -0.08875409 -0.33841923]\n",
            "  [ 0.          0.          0.          0.         -0.6586207\n",
            "    0.5008412  -0.08875409 -0.33841923]\n",
            "  [ 0.          0.          0.          0.         -0.6586207\n",
            "    0.5008412  -0.08875409 -0.33841923]\n",
            "  [ 0.          0.          0.          0.         -0.6586207\n",
            "    0.5008412  -0.08875409 -0.33841923]]]\n",
            "[[[4.1238662e-05 7.5773454e-01 2.4222420e-01]\n",
            "  [4.1238662e-05 7.5773454e-01 2.4222420e-01]\n",
            "  [4.1238662e-05 7.5773454e-01 2.4222420e-01]\n",
            "  [4.1238662e-05 7.5773454e-01 2.4222420e-01]\n",
            "  [4.1238662e-05 7.5773454e-01 2.4222420e-01]\n",
            "  [4.1238662e-05 7.5773454e-01 2.4222420e-01]\n",
            "  [4.1238662e-05 7.5773454e-01 2.4222420e-01]\n",
            "  [4.1238662e-05 7.5773454e-01 2.4222420e-01]\n",
            "  [4.1238662e-05 7.5773454e-01 2.4222420e-01]\n",
            "  [4.1238662e-05 7.5773454e-01 2.4222420e-01]\n",
            "  [4.1238662e-05 7.5773454e-01 2.4222420e-01]\n",
            "  [4.1238662e-05 7.5773454e-01 2.4222420e-01]\n",
            "  [4.1238662e-05 7.5773454e-01 2.4222420e-01]\n",
            "  [4.1238662e-05 7.5773454e-01 2.4222420e-01]\n",
            "  [4.1238662e-05 7.5773454e-01 2.4222420e-01]\n",
            "  [4.1238662e-05 7.5773454e-01 2.4222420e-01]]]\n",
            "[[[ 0.          0.          0.          0.         -0.6586207\n",
            "    0.5008412  -0.08875409 -0.33841923]\n",
            "  [ 0.          0.          0.          0.         -0.6586207\n",
            "    0.5008412  -0.08875409 -0.33841923]\n",
            "  [ 0.          0.          0.          0.         -0.6586207\n",
            "    0.5008412  -0.08875409 -0.33841923]\n",
            "  [ 0.          0.          0.          0.         -0.6586207\n",
            "    0.5008412  -0.08875409 -0.33841923]\n",
            "  [ 0.          0.          0.          0.         -0.6586207\n",
            "    0.5008412  -0.08875409 -0.33841923]\n",
            "  [ 0.          0.          0.          0.         -0.6586207\n",
            "    0.5008412  -0.08875409 -0.33841923]\n",
            "  [ 0.          0.          0.          0.         -0.6586207\n",
            "    0.5008412  -0.08875409 -0.33841923]\n",
            "  [ 0.          0.          0.          0.         -0.6586207\n",
            "    0.5008412  -0.08875409 -0.33841923]\n",
            "  [ 0.          0.          0.          0.         -0.6586207\n",
            "    0.5008412  -0.08875409 -0.33841923]\n",
            "  [ 0.          0.          0.          0.         -0.6586207\n",
            "    0.5008412  -0.08875409 -0.33841923]\n",
            "  [ 0.          0.          0.          0.         -0.6586207\n",
            "    0.5008412  -0.08875409 -0.33841923]\n",
            "  [ 0.          0.          0.          0.         -0.6586207\n",
            "    0.5008412  -0.08875409 -0.33841923]\n",
            "  [ 0.          0.          0.          0.         -0.6586207\n",
            "    0.5008412  -0.08875409 -0.33841923]\n",
            "  [ 0.          0.          0.          0.         -0.6586207\n",
            "    0.5008412  -0.08875409 -0.33841923]\n",
            "  [ 0.          0.          0.          0.         -0.6586207\n",
            "    0.5008412  -0.08875409 -0.33841923]\n",
            "  [ 0.          0.          0.          0.         -0.6586207\n",
            "    0.5008412  -0.08875409 -0.33841923]]]\n",
            "Elapsed:1.0878210067749023\n",
            "(-4, 92, 36, 96)\n",
            "(8, 8, 72, 76)\n",
            "(52, 16, 92, 96)\n",
            "(-8, 88, 84, 92)\n",
            "\n",
            "Total model metrics: mAP: 0.2 - macro_precision: 0.0 - macro_recall: 0.0\n"
          ]
        }
      ],
      "metadata": {
        "tags": []
      }
    },
    {
      "cell_type": "code",
      "execution_count": null,
      "source": [
        "preds"
      ],
      "outputs": [],
      "metadata": {}
    },
    {
      "cell_type": "code",
      "execution_count": null,
      "source": [
        "print(config.patch_dim , float(config.resizeFinalDim))"
      ],
      "outputs": [],
      "metadata": {}
    },
    {
      "cell_type": "code",
      "execution_count": null,
      "source": [
        "print_img(config.TRAIN_PATCHES_FOLDER, '5_16501_16729_50')"
      ],
      "outputs": [],
      "metadata": {}
    },
    {
      "cell_type": "code",
      "execution_count": null,
      "source": [
        "anch = pd.read_pickle(f'{config.EVAL_RESULTS}/2_16396_16729_20/2_16396_16729_20.pkl')\n",
        "display(anch)"
      ],
      "outputs": [],
      "metadata": {}
    },
    {
      "cell_type": "code",
      "execution_count": null,
      "source": [
        "anch['width'] = anch['x2s'] - anch['x1s']\n",
        "anch['heght'] = anch['y2s'] - anch['y1s']"
      ],
      "outputs": [],
      "metadata": {}
    },
    {
      "cell_type": "code",
      "execution_count": null,
      "source": [
        "anch.describe() "
      ],
      "outputs": [],
      "metadata": {}
    },
    {
      "cell_type": "code",
      "execution_count": 38,
      "source": [
        "print_img(config.TRAIN_PATCHES_FOLDER, '2_16396_16729_20', config.EVAL_RESULTS)"
      ],
      "outputs": [
        {
          "output_type": "display_data",
          "data": {
            "image/png": "[encoded data removed]",
            "text/plain": [
              "<Figure size 432x288 with 1 Axes>"
            ]
          },
          "metadata": {
            "needs_background": "light"
          }
        }
      ],
      "metadata": {}
    },
    {
      "cell_type": "markdown",
      "source": [],
      "metadata": {}
    },
    {
      "cell_type": "markdown",
      "source": [
        "TODO - 20210508:\n",
        "- [X] troncamento rumore a 1e-6 tramite half gaussian\n",
        "\n",
        "TODO - 20210605:\n",
        "- [X] modificare RPNNet in modo che dia in output anche la backbone - Lorenzo\n",
        "- [X] scrivere bene training loop: salvare le loss in un df su disco + salvare pesi modello ad ogni giro (Lorenzo - finire di debuggare)\n",
        "\n",
        "TODO - 20210620:\n",
        "- [x] implementare mAP in una funzione che prende come parametro un modello o i suoi pesi\n",
        "- [x] implementare resNet50\n",
        "- [x] implementare predicted rois - Lorenzo\n",
        "- [X] implementare plot loss training - Lorenzo\n",
        "- [X] finire classe datasetv2 - Alice\n",
        "- [X] check se su colab le performance sono migliori - Lorenzo\n",
        "\n",
        "TODO - 20210627\n",
        "- [X] split dataset su combinazioni classi - Alice\n",
        "- [x] provare campionamento random patch ed osservare le due distribuzioni - Alice\n",
        "\n",
        "TODO - 20210703\n",
        "- [x] sistemare salvataggio loss training loop - Lorenzo\n",
        "- [x] Riscalare immagini tra 0-255 - Alice\n",
        "- [x] capire se passare tre immagini diverse come input\n",
        "- [x] usare media vgg16 per zero-centering - Alice\n",
        "\n",
        "TODO - 20210705\n",
        "- [x] sistemare nomi funzioni dataset per trasformazione rgb\n",
        "\n",
        "TODO - 20210711\n",
        "- [x] rifattorizzare classe dataset spostando nel costruttore i metodi che calcolano i suoi attributi - Lorenzo\n",
        "- [x] chek valori pixel in input per resnet\n",
        "- [x] fare funzione per plottare le predictions\n",
        "- [ ] trainare tutto su colab\n",
        "\n",
        "TODO - 20210714\n",
        "- [x] ragionare su come scalare le immagini fra 0 e 1, attualmente hanno tanti valori schiacciati a 0 e il massimo su tutto il train a a 0.4\n",
        "\n",
        "TODO - 20210717\n",
        "- [ ] Ablation study: provare a rimuovere stage4 nella resnet - se c'è tempo\n",
        "- [x] Provare con nostra pixel_mean e con vgg16 pixel_mean -> per il momento abbiamo scartato la prima opzione\n",
        "- [x] Fare qualche analisi di distribuzione delle classi/dim box del dataset - Alice\n",
        "- [x] Aggiungere normalizzazione dopo zero centering per resNet50, sulla base del range globale dell'immagine di training\n",
        "- [x] Provare pulizia dataset originale sulla base del rumore/flusso - Alice\n",
        "- [ ] Cambiare nomi di tutto - alla fine\n",
        "- [x] implementare zero-centering su volare medio RGB delle nostre patch\n",
        "- [x] Funzione che trova l'ultimo checkpoint in colab prima del load_weights - Lorenzo\n",
        "\n",
        "TODO - 20210801\n",
        "- [x] Debuggare training baseline 8 e 16 - L\n",
        "- [x] Finire prove pulizia dataseet noise variando k - A\n",
        "\n",
        "TODO - 20210904\n",
        "- [ ] Provare NMS per rimuovere oggetti crowded\n",
        "- [ ] In evaluate model eliminare le box con una delle due dim a 0 e quelle che escono dalla patch"
      ],
      "metadata": {}
    },
    {
      "cell_type": "markdown",
      "source": [
        "1.  Summary\n",
        "    - riassunto progetto\n",
        "2.  Background\n",
        "    - SoTA + teoria di base\n",
        "3.  System Description\n",
        "    - descrizione dei nostri modelli e dei loro componenti (moduli)\n",
        "4.  Experimental setup and results\n",
        "    - dataset pre processing\n",
        "    - training environment\n",
        "    - metrics\n",
        "    - results\n",
        "5.  Results and error analysis\n",
        "6.  Discussion"
      ],
      "metadata": {}
    },
    {
      "cell_type": "markdown",
      "source": [
        "# Plotting"
      ],
      "metadata": {}
    },
    {
      "cell_type": "code",
      "execution_count": 39,
      "source": [
        "loss_history = np.load(f\"./model/{backbone}/loss_history.npy\")\n",
        "print(loss_history.shape)"
      ],
      "outputs": [
        {
          "output_type": "stream",
          "name": "stdout",
          "text": [
            "(325, 5)\n"
          ]
        }
      ],
      "metadata": {}
    },
    {
      "cell_type": "code",
      "execution_count": null,
      "source": [
        "loss_history"
      ],
      "outputs": [],
      "metadata": {}
    },
    {
      "cell_type": "code",
      "execution_count": 40,
      "source": [
        "plot_loss(loss_history[:])"
      ],
      "outputs": [
        {
          "output_type": "display_data",
          "data": {
            "image/png": "[encoded data removed]",
            "text/plain": [
              "<Figure size 1080x360 with 2 Axes>"
            ]
          },
          "metadata": {
            "needs_background": "light"
          }
        },
        {
          "output_type": "display_data",
          "data": {
            "image/png": "[encoded data removed]",
            "text/plain": [
              "<Figure size 1080x360 with 2 Axes>"
            ]
          },
          "metadata": {
            "needs_background": "light"
          }
        },
        {
          "output_type": "display_data",
          "data": {
            "image/png": "[encoded data removed]",
            "text/plain": [
              "<Figure size 1080x360 with 2 Axes>"
            ]
          },
          "metadata": {
            "needs_background": "light"
          }
        }
      ],
      "metadata": {}
    },
    {
      "cell_type": "code",
      "execution_count": null,
      "source": [
        "loss_history[:,1].shape"
      ],
      "outputs": [],
      "metadata": {}
    },
    {
      "cell_type": "code",
      "execution_count": null,
      "source": [
        "np.convolve(loss_history[1], np.ones(10), 'valid') / 10"
      ],
      "outputs": [],
      "metadata": {}
    },
    {
      "cell_type": "code",
      "execution_count": null,
      "source": [
        "def moving_average(x, w):\n",
        "    return np.convolve(x, np.ones(w), 'valid') / w\n",
        "\n",
        "lsma_0 = moving_average(loss_history[100:,2], 200)\n"
      ],
      "outputs": [],
      "metadata": {}
    },
    {
      "cell_type": "code",
      "execution_count": null,
      "source": [
        "plt.figure(figsize=(15,5))\n",
        "plt.subplot(1,2,1)\n",
        "plt.plot(np.arange(0, len(lsma_0)), lsma_0, 'r')\n",
        "plt.title('rpn cls')"
      ],
      "outputs": [],
      "metadata": {}
    },
    {
      "cell_type": "markdown",
      "source": [],
      "metadata": {}
    },
    {
      "cell_type": "markdown",
      "source": [
        "## Modelli da trainare:\n",
        "epoch lenght = 200\n",
        "- baseline_16: patch 50 -> 100, [8,16,32,64]-[1:1], 16roi, limit=4000, 10k epoche, focal_loss, norm: /255, no bilanciamento dataset, rgbNorm=True - A\n",
        "- baseline_16: patch 50 -> 100, [8,16,32,64]-[1:1], 16roi, limit=4000, 10k epoche, NO focal_loss, norm: /255, no bilanciamento dataset, rgbNorm=True - A\n",
        "\n",
        "- baseline_16: patch 20->100,  [8,16,32,64]-[1:1,1:2,2:1], 16roi, limit=4000, 10k epoche, focal_loss, norm: /255, no bilanciamento dataset, rgbNorm=True - L\n",
        "- baseline_16: patch 20->100,  [8,16,32,64]-[1:1,1:2,2:1], 16roi, limit=4000, 10k epoche, focal_loss, norm: /255, no bilanciamento dataset, rgbNorm=True, layer 3 e 4 trainabili - L\n",
        "\n",
        "- baseline_16: patch 100->100,  [8,16,32,64]-[1:1,1:2,2:1], 16roi, limit=4000, 10k epoche, focal_loss, norm: /255, no bilanciamento dataset, rgbNorm=True\n",
        "\n",
        "- vgg16: 100 -> 600, [32,64,128,256,512]-[1:1,1:2,2:1], 16roi, limit=4000, 10k epoche, focal_loss, norm: /255, no bilanciamento dataset, rgbNorm=True"
      ],
      "metadata": {}
    }
  ]
}