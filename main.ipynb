{
  "nbformat": 4,
  "nbformat_minor": 2,
  "metadata": {
    "language_info": {
      "codemirror_mode": {
        "name": "ipython",
        "version": 3
      },
      "file_extension": ".py",
      "mimetype": "text/x-python",
      "name": "python",
      "nbconvert_exporter": "python",
      "pygments_lexer": "ipython3",
      "version": "3.8.2"
    },
    "orig_nbformat": 2,
    "kernelspec": {
      "name": "python3",
      "display_name": "Python 3.8.2 64-bit"
    },
    "colab": {
      "name": "main.ipynb",
      "provenance": []
    },
    "metadata": {
      "interpreter": {
        "hash": "31f2aee4e71d21fbe5cf8b01ff0e069b9275f58929596ceb00d14d90e3e16cd6"
      }
    },
    "interpreter": {
      "hash": "31f2aee4e71d21fbe5cf8b01ff0e069b9275f58929596ceb00d14d90e3e16cd6"
    }
  },
  "cells": [
    {
      "cell_type": "code",
      "execution_count": 2,
      "source": [
        "# !git clone 'https://github.com/Lorenz92/SKADC1.git'\n",
        "# % cd SKADC1\n",
        "# !echo $PWD"
      ],
      "outputs": [],
      "metadata": {}
    },
    {
      "cell_type": "code",
      "execution_count": 1,
      "source": [
        "import pandas as pd\n",
        "import numpy as np\n",
        "\n",
        "import src.dataset as dataset\n",
        "import src.config as config \n",
        "from src.utils import *\n",
        "import src.models as models\n",
        "import src.losses as loss\n",
        "\n",
        "path = config.TRAIN_PATCHES_FOLDER\n",
        "%load_ext autoreload\n",
        "%autoreload 2\n",
        "\n",
        "np.random.seed(config.RANDOM_SEED)"
      ],
      "outputs": [],
      "metadata": {
        "id": "7WwOlsifF-5G",
        "outputId": "303002ab-c8c4-4807-caeb-ee1c590d4326",
        "colab": {
          "base_uri": "https://localhost:8080/"
        }
      }
    },
    {
      "cell_type": "code",
      "execution_count": 4,
      "source": [
        "if 'google.colab' in str(get_ipython()):\n",
        "  use_colab = True\n",
        "  print('Running on CoLab')\n",
        "else:\n",
        "  use_colab = False\n",
        "  print('Not running on CoLab')"
      ],
      "outputs": [
        {
          "output_type": "stream",
          "name": "stdout",
          "text": [
            "Not running on CoLab\n"
          ]
        }
      ],
      "metadata": {}
    },
    {
      "cell_type": "code",
      "execution_count": 5,
      "source": [
        "if use_colab:\n",
        "    # Read file from Colab Notebook\n",
        "    from google.colab import drive\n",
        "    drive.mount('/content/drive')\n",
        "    config.MODEL_WEIGHTS = \"/content/drive/My Drive/Colab Notebooks/SKADC1\"\n",
        "    config.IMAGE_PATH = \"/content/drive/My Drive/Colab Notebooks/SKADC1/asset/560Mhz_1000h.fits\""
      ],
      "outputs": [],
      "metadata": {}
    },
    {
      "cell_type": "code",
      "execution_count": 2,
      "source": [
        "# Dataset parsing and loading\n",
        "# use \"subset\" in config file to load a small portion of data for development/debugging purposes\n",
        "ska_dataset = dataset.SKADataset(k=3, print_info=False, use_pb=False)"
      ],
      "outputs": [
        {
          "output_type": "stream",
          "name": "stdout",
          "text": [
            "Dataset shape: (19222, 15)\n"
          ]
        },
        {
          "output_type": "display_data",
          "data": {
            "text/plain": [
              "         ID  RA (core)  DEC (core)  RA (centroid)  DEC (centroid)      FLUX  \\\n",
              "0  24121695  -0.642227  -29.775242      -0.642316      -29.775211  0.000035   \n",
              "1  20167150  -0.390473  -29.867493      -0.390667      -29.868851  0.029555   \n",
              "2  20045120  -0.021411  -29.643486      -0.021359      -29.643561  0.000653   \n",
              "3  33938384  -0.316375  -29.697647      -0.316375      -29.697647  0.000017   \n",
              "4   7527248  -0.336528  -29.627335      -0.336527      -29.627338  0.000054   \n",
              "\n",
              "   Core frac     BMAJ    BMIN       PA  SIZE  CLASS  SELECTION          x  \\\n",
              "0   0.000000    5.600   5.551  328.554     1      1          1  19704.519   \n",
              "1   0.016924  107.110  43.263  191.258     1      1          1  18401.338   \n",
              "2   0.012185    5.037   3.525  276.587     1      1          1  16493.600   \n",
              "3   0.000000    0.847   0.266  346.641     2      1          1  18020.319   \n",
              "4   0.044763    3.343   1.515  279.006     1      1          1  18125.824   \n",
              "\n",
              "           y  \n",
              "0  17712.942  \n",
              "1  17160.919  \n",
              "2  18506.577  \n",
              "3  18182.095  \n",
              "4  18600.680  "
            ],
            "text/html": [
              "<div>\n",
              "<style scoped>\n",
              "    .dataframe tbody tr th:only-of-type {\n",
              "        vertical-align: middle;\n",
              "    }\n",
              "\n",
              "    .dataframe tbody tr th {\n",
              "        vertical-align: top;\n",
              "    }\n",
              "\n",
              "    .dataframe thead th {\n",
              "        text-align: right;\n",
              "    }\n",
              "</style>\n",
              "<table border=\"1\" class=\"dataframe\">\n",
              "  <thead>\n",
              "    <tr style=\"text-align: right;\">\n",
              "      <th></th>\n",
              "      <th>ID</th>\n",
              "      <th>RA (core)</th>\n",
              "      <th>DEC (core)</th>\n",
              "      <th>RA (centroid)</th>\n",
              "      <th>DEC (centroid)</th>\n",
              "      <th>FLUX</th>\n",
              "      <th>Core frac</th>\n",
              "      <th>BMAJ</th>\n",
              "      <th>BMIN</th>\n",
              "      <th>PA</th>\n",
              "      <th>SIZE</th>\n",
              "      <th>CLASS</th>\n",
              "      <th>SELECTION</th>\n",
              "      <th>x</th>\n",
              "      <th>y</th>\n",
              "    </tr>\n",
              "  </thead>\n",
              "  <tbody>\n",
              "    <tr>\n",
              "      <th>0</th>\n",
              "      <td>24121695</td>\n",
              "      <td>-0.642227</td>\n",
              "      <td>-29.775242</td>\n",
              "      <td>-0.642316</td>\n",
              "      <td>-29.775211</td>\n",
              "      <td>0.000035</td>\n",
              "      <td>0.000000</td>\n",
              "      <td>5.600</td>\n",
              "      <td>5.551</td>\n",
              "      <td>328.554</td>\n",
              "      <td>1</td>\n",
              "      <td>1</td>\n",
              "      <td>1</td>\n",
              "      <td>19704.519</td>\n",
              "      <td>17712.942</td>\n",
              "    </tr>\n",
              "    <tr>\n",
              "      <th>1</th>\n",
              "      <td>20167150</td>\n",
              "      <td>-0.390473</td>\n",
              "      <td>-29.867493</td>\n",
              "      <td>-0.390667</td>\n",
              "      <td>-29.868851</td>\n",
              "      <td>0.029555</td>\n",
              "      <td>0.016924</td>\n",
              "      <td>107.110</td>\n",
              "      <td>43.263</td>\n",
              "      <td>191.258</td>\n",
              "      <td>1</td>\n",
              "      <td>1</td>\n",
              "      <td>1</td>\n",
              "      <td>18401.338</td>\n",
              "      <td>17160.919</td>\n",
              "    </tr>\n",
              "    <tr>\n",
              "      <th>2</th>\n",
              "      <td>20045120</td>\n",
              "      <td>-0.021411</td>\n",
              "      <td>-29.643486</td>\n",
              "      <td>-0.021359</td>\n",
              "      <td>-29.643561</td>\n",
              "      <td>0.000653</td>\n",
              "      <td>0.012185</td>\n",
              "      <td>5.037</td>\n",
              "      <td>3.525</td>\n",
              "      <td>276.587</td>\n",
              "      <td>1</td>\n",
              "      <td>1</td>\n",
              "      <td>1</td>\n",
              "      <td>16493.600</td>\n",
              "      <td>18506.577</td>\n",
              "    </tr>\n",
              "    <tr>\n",
              "      <th>3</th>\n",
              "      <td>33938384</td>\n",
              "      <td>-0.316375</td>\n",
              "      <td>-29.697647</td>\n",
              "      <td>-0.316375</td>\n",
              "      <td>-29.697647</td>\n",
              "      <td>0.000017</td>\n",
              "      <td>0.000000</td>\n",
              "      <td>0.847</td>\n",
              "      <td>0.266</td>\n",
              "      <td>346.641</td>\n",
              "      <td>2</td>\n",
              "      <td>1</td>\n",
              "      <td>1</td>\n",
              "      <td>18020.319</td>\n",
              "      <td>18182.095</td>\n",
              "    </tr>\n",
              "    <tr>\n",
              "      <th>4</th>\n",
              "      <td>7527248</td>\n",
              "      <td>-0.336528</td>\n",
              "      <td>-29.627335</td>\n",
              "      <td>-0.336527</td>\n",
              "      <td>-29.627338</td>\n",
              "      <td>0.000054</td>\n",
              "      <td>0.044763</td>\n",
              "      <td>3.343</td>\n",
              "      <td>1.515</td>\n",
              "      <td>279.006</td>\n",
              "      <td>1</td>\n",
              "      <td>1</td>\n",
              "      <td>1</td>\n",
              "      <td>18125.824</td>\n",
              "      <td>18600.680</td>\n",
              "    </tr>\n",
              "  </tbody>\n",
              "</table>\n",
              "</div>"
            ]
          },
          "metadata": {}
        },
        {
          "output_type": "stream",
          "name": "stderr",
          "text": [
            "WARNING: VerifyWarning: Invalid 'BLANK' keyword in header.  The 'BLANK' keyword is only applicable to integer data, and will be ignored in this HDU. [astropy.io.fits.hdu.image]\n",
            "  3%|▎         | 502/19222 [00:00<00:03, 5013.78it/s]"
          ]
        },
        {
          "output_type": "stream",
          "name": "stdout",
          "text": [
            "Loading FITS file /Users/lorenzocellini/AI - Universit…/Deep Learning - Andre Asperti/SKA_project/SKADC1/data/training/560Mhz_1000h.fits\n"
          ]
        },
        {
          "output_type": "stream",
          "name": "stderr",
          "text": [
            "100%|██████████| 19222/19222 [00:03<00:00, 6346.82it/s]\n"
          ]
        },
        {
          "output_type": "stream",
          "name": "stdout",
          "text": [
            "Initial dataset shape: (19222, 15)\n",
            "Found 0 boxes with zero area\n",
            "Rows to be deleted: 0\n",
            "New dataset shape: (19222, 15)\n",
            "Extending dataset with new computed columns...\n",
            "Final cleaned dataset shape: (19222, 26)\n",
            "\n",
            "Enlarging bboxes...\n",
            "DONE - Enlarging bboxes...\n"
          ]
        },
        {
          "output_type": "display_data",
          "data": {
            "text/plain": [
              "           ID  RA (core)  DEC (core)  RA (centroid)  DEC (centroid)      FLUX  \\\n",
              "0  24121695.0  -0.642227  -29.775242      -0.642316      -29.775211  0.000035   \n",
              "1  20167150.0  -0.390473  -29.867493      -0.390667      -29.868851  0.029555   \n",
              "2  20045120.0  -0.021411  -29.643486      -0.021359      -29.643561  0.000653   \n",
              "3  33938384.0  -0.316375  -29.697647      -0.316375      -29.697647  0.000017   \n",
              "4   7527248.0  -0.336528  -29.627335      -0.336527      -29.627338  0.000054   \n",
              "\n",
              "   Core frac     BMAJ    BMIN       PA  ...            y1            x2  \\\n",
              "0   0.000000    5.600   5.551  328.554  ...  17706.708393  19710.764566   \n",
              "1   0.016924  107.110  43.263  191.258  ...  17112.270219  18509.603417   \n",
              "2   0.012185    5.037   3.525  276.587  ...  18500.850356  16498.009965   \n",
              "3   0.000000    0.847   0.266  346.641  ...  18179.521298  18023.322729   \n",
              "4   0.044763    3.343   1.515  279.006  ...  18596.465498  18128.789688   \n",
              "\n",
              "             y2  major_semia_px  minor_semia_px  pa_in_rad       width  \\\n",
              "0  17719.170105        6.264429        6.218255   5.734349   12.503792   \n",
              "1  17209.564571      110.037236       44.503323   3.338082  216.538139   \n",
              "2  18512.295208        5.738106        4.389739   4.827354    8.820318   \n",
              "3  18184.661968        3.031418        2.541842   6.050027    6.014593   \n",
              "4  18604.884928        4.236891        2.929772   4.869573    5.937378   \n",
              "\n",
              "      height     area_orig  area_cropped  \n",
              "0  12.461712    155.818657    155.818657  \n",
              "1  97.294352  21067.937901  21067.937901  \n",
              "2  11.444852    100.947234    100.947234  \n",
              "3   5.140670     30.919039     30.919039  \n",
              "4   8.419429     49.989332     49.989332  \n",
              "\n",
              "[5 rows x 26 columns]"
            ],
            "text/html": [
              "<div>\n",
              "<style scoped>\n",
              "    .dataframe tbody tr th:only-of-type {\n",
              "        vertical-align: middle;\n",
              "    }\n",
              "\n",
              "    .dataframe tbody tr th {\n",
              "        vertical-align: top;\n",
              "    }\n",
              "\n",
              "    .dataframe thead th {\n",
              "        text-align: right;\n",
              "    }\n",
              "</style>\n",
              "<table border=\"1\" class=\"dataframe\">\n",
              "  <thead>\n",
              "    <tr style=\"text-align: right;\">\n",
              "      <th></th>\n",
              "      <th>ID</th>\n",
              "      <th>RA (core)</th>\n",
              "      <th>DEC (core)</th>\n",
              "      <th>RA (centroid)</th>\n",
              "      <th>DEC (centroid)</th>\n",
              "      <th>FLUX</th>\n",
              "      <th>Core frac</th>\n",
              "      <th>BMAJ</th>\n",
              "      <th>BMIN</th>\n",
              "      <th>PA</th>\n",
              "      <th>...</th>\n",
              "      <th>y1</th>\n",
              "      <th>x2</th>\n",
              "      <th>y2</th>\n",
              "      <th>major_semia_px</th>\n",
              "      <th>minor_semia_px</th>\n",
              "      <th>pa_in_rad</th>\n",
              "      <th>width</th>\n",
              "      <th>height</th>\n",
              "      <th>area_orig</th>\n",
              "      <th>area_cropped</th>\n",
              "    </tr>\n",
              "  </thead>\n",
              "  <tbody>\n",
              "    <tr>\n",
              "      <th>0</th>\n",
              "      <td>24121695.0</td>\n",
              "      <td>-0.642227</td>\n",
              "      <td>-29.775242</td>\n",
              "      <td>-0.642316</td>\n",
              "      <td>-29.775211</td>\n",
              "      <td>0.000035</td>\n",
              "      <td>0.000000</td>\n",
              "      <td>5.600</td>\n",
              "      <td>5.551</td>\n",
              "      <td>328.554</td>\n",
              "      <td>...</td>\n",
              "      <td>17706.708393</td>\n",
              "      <td>19710.764566</td>\n",
              "      <td>17719.170105</td>\n",
              "      <td>6.264429</td>\n",
              "      <td>6.218255</td>\n",
              "      <td>5.734349</td>\n",
              "      <td>12.503792</td>\n",
              "      <td>12.461712</td>\n",
              "      <td>155.818657</td>\n",
              "      <td>155.818657</td>\n",
              "    </tr>\n",
              "    <tr>\n",
              "      <th>1</th>\n",
              "      <td>20167150.0</td>\n",
              "      <td>-0.390473</td>\n",
              "      <td>-29.867493</td>\n",
              "      <td>-0.390667</td>\n",
              "      <td>-29.868851</td>\n",
              "      <td>0.029555</td>\n",
              "      <td>0.016924</td>\n",
              "      <td>107.110</td>\n",
              "      <td>43.263</td>\n",
              "      <td>191.258</td>\n",
              "      <td>...</td>\n",
              "      <td>17112.270219</td>\n",
              "      <td>18509.603417</td>\n",
              "      <td>17209.564571</td>\n",
              "      <td>110.037236</td>\n",
              "      <td>44.503323</td>\n",
              "      <td>3.338082</td>\n",
              "      <td>216.538139</td>\n",
              "      <td>97.294352</td>\n",
              "      <td>21067.937901</td>\n",
              "      <td>21067.937901</td>\n",
              "    </tr>\n",
              "    <tr>\n",
              "      <th>2</th>\n",
              "      <td>20045120.0</td>\n",
              "      <td>-0.021411</td>\n",
              "      <td>-29.643486</td>\n",
              "      <td>-0.021359</td>\n",
              "      <td>-29.643561</td>\n",
              "      <td>0.000653</td>\n",
              "      <td>0.012185</td>\n",
              "      <td>5.037</td>\n",
              "      <td>3.525</td>\n",
              "      <td>276.587</td>\n",
              "      <td>...</td>\n",
              "      <td>18500.850356</td>\n",
              "      <td>16498.009965</td>\n",
              "      <td>18512.295208</td>\n",
              "      <td>5.738106</td>\n",
              "      <td>4.389739</td>\n",
              "      <td>4.827354</td>\n",
              "      <td>8.820318</td>\n",
              "      <td>11.444852</td>\n",
              "      <td>100.947234</td>\n",
              "      <td>100.947234</td>\n",
              "    </tr>\n",
              "    <tr>\n",
              "      <th>3</th>\n",
              "      <td>33938384.0</td>\n",
              "      <td>-0.316375</td>\n",
              "      <td>-29.697647</td>\n",
              "      <td>-0.316375</td>\n",
              "      <td>-29.697647</td>\n",
              "      <td>0.000017</td>\n",
              "      <td>0.000000</td>\n",
              "      <td>0.847</td>\n",
              "      <td>0.266</td>\n",
              "      <td>346.641</td>\n",
              "      <td>...</td>\n",
              "      <td>18179.521298</td>\n",
              "      <td>18023.322729</td>\n",
              "      <td>18184.661968</td>\n",
              "      <td>3.031418</td>\n",
              "      <td>2.541842</td>\n",
              "      <td>6.050027</td>\n",
              "      <td>6.014593</td>\n",
              "      <td>5.140670</td>\n",
              "      <td>30.919039</td>\n",
              "      <td>30.919039</td>\n",
              "    </tr>\n",
              "    <tr>\n",
              "      <th>4</th>\n",
              "      <td>7527248.0</td>\n",
              "      <td>-0.336528</td>\n",
              "      <td>-29.627335</td>\n",
              "      <td>-0.336527</td>\n",
              "      <td>-29.627338</td>\n",
              "      <td>0.000054</td>\n",
              "      <td>0.044763</td>\n",
              "      <td>3.343</td>\n",
              "      <td>1.515</td>\n",
              "      <td>279.006</td>\n",
              "      <td>...</td>\n",
              "      <td>18596.465498</td>\n",
              "      <td>18128.789688</td>\n",
              "      <td>18604.884928</td>\n",
              "      <td>4.236891</td>\n",
              "      <td>2.929772</td>\n",
              "      <td>4.869573</td>\n",
              "      <td>5.937378</td>\n",
              "      <td>8.419429</td>\n",
              "      <td>49.989332</td>\n",
              "      <td>49.989332</td>\n",
              "    </tr>\n",
              "  </tbody>\n",
              "</table>\n",
              "<p>5 rows × 26 columns</p>\n",
              "</div>"
            ]
          },
          "metadata": {}
        },
        {
          "output_type": "stream",
          "name": "stdout",
          "text": [
            "\n",
            "----------\n",
            "Starting training image preprocessing...\n",
            "\n",
            "Computing max and min pixel value in order to scale image to RGB range\n",
            "Max pixel value = 0.0065856808796525\n",
            "Removing negative noise...\n",
            "Converting to RGB...\n",
            "Removing positive noise and rescaling to 0-255 interval...\n",
            "\n",
            "Mean and stdev of the half-gaussian that best fits with noise distribution:\n",
            "mu=4.561610766868865e-14, stdev=4.5037468510513567e-07\n",
            "End of training image preprocessing.\n"
          ]
        },
        {
          "output_type": "display_data",
          "data": {
            "text/plain": [
              "<Figure size 432x288 with 1 Axes>"
            ],
            "image/png": "[encoded data removed]"
          },
          "metadata": {
            "needs_background": "light"
          }
        }
      ],
      "metadata": {
        "tags": [],
        "id": "Q8IbYCwkF-5K",
        "outputId": "5cd8e5ba-49cd-49b4-d65c-65d82229f792",
        "colab": {
          "base_uri": "https://localhost:8080/",
          "height": 221
        }
      }
    },
    {
      "cell_type": "code",
      "execution_count": 5,
      "source": [
        "ska_dataset.cleaned_train_df[['width', 'height', 'area_orig', 'area_cropped']].describe()"
      ],
      "outputs": [
        {
          "output_type": "execute_result",
          "data": {
            "text/plain": [
              "             width       height     area_orig  area_cropped\n",
              "count  1162.000000  1162.000000   1162.000000   1162.000000\n",
              "mean      5.234792     5.155283     44.740291     44.740291\n",
              "std       6.263878     3.030626    618.042759    618.042759\n",
              "min       4.964840     4.964840     24.649632     24.649632\n",
              "25%       4.974767     4.974501     24.761937     24.761937\n",
              "50%       4.987100     4.986699     24.884089     24.884089\n",
              "75%       5.016140     5.014193     25.159941     25.159941\n",
              "max     216.538139    97.294352  21067.937901  21067.937901"
            ],
            "text/html": [
              "<div>\n",
              "<style scoped>\n",
              "    .dataframe tbody tr th:only-of-type {\n",
              "        vertical-align: middle;\n",
              "    }\n",
              "\n",
              "    .dataframe tbody tr th {\n",
              "        vertical-align: top;\n",
              "    }\n",
              "\n",
              "    .dataframe thead th {\n",
              "        text-align: right;\n",
              "    }\n",
              "</style>\n",
              "<table border=\"1\" class=\"dataframe\">\n",
              "  <thead>\n",
              "    <tr style=\"text-align: right;\">\n",
              "      <th></th>\n",
              "      <th>width</th>\n",
              "      <th>height</th>\n",
              "      <th>area_orig</th>\n",
              "      <th>area_cropped</th>\n",
              "    </tr>\n",
              "  </thead>\n",
              "  <tbody>\n",
              "    <tr>\n",
              "      <th>count</th>\n",
              "      <td>1162.000000</td>\n",
              "      <td>1162.000000</td>\n",
              "      <td>1162.000000</td>\n",
              "      <td>1162.000000</td>\n",
              "    </tr>\n",
              "    <tr>\n",
              "      <th>mean</th>\n",
              "      <td>5.234792</td>\n",
              "      <td>5.155283</td>\n",
              "      <td>44.740291</td>\n",
              "      <td>44.740291</td>\n",
              "    </tr>\n",
              "    <tr>\n",
              "      <th>std</th>\n",
              "      <td>6.263878</td>\n",
              "      <td>3.030626</td>\n",
              "      <td>618.042759</td>\n",
              "      <td>618.042759</td>\n",
              "    </tr>\n",
              "    <tr>\n",
              "      <th>min</th>\n",
              "      <td>4.964840</td>\n",
              "      <td>4.964840</td>\n",
              "      <td>24.649632</td>\n",
              "      <td>24.649632</td>\n",
              "    </tr>\n",
              "    <tr>\n",
              "      <th>25%</th>\n",
              "      <td>4.974767</td>\n",
              "      <td>4.974501</td>\n",
              "      <td>24.761937</td>\n",
              "      <td>24.761937</td>\n",
              "    </tr>\n",
              "    <tr>\n",
              "      <th>50%</th>\n",
              "      <td>4.987100</td>\n",
              "      <td>4.986699</td>\n",
              "      <td>24.884089</td>\n",
              "      <td>24.884089</td>\n",
              "    </tr>\n",
              "    <tr>\n",
              "      <th>75%</th>\n",
              "      <td>5.016140</td>\n",
              "      <td>5.014193</td>\n",
              "      <td>25.159941</td>\n",
              "      <td>25.159941</td>\n",
              "    </tr>\n",
              "    <tr>\n",
              "      <th>max</th>\n",
              "      <td>216.538139</td>\n",
              "      <td>97.294352</td>\n",
              "      <td>21067.937901</td>\n",
              "      <td>21067.937901</td>\n",
              "    </tr>\n",
              "  </tbody>\n",
              "</table>\n",
              "</div>"
            ]
          },
          "metadata": {},
          "execution_count": 5
        }
      ],
      "metadata": {}
    },
    {
      "cell_type": "code",
      "execution_count": 9,
      "source": [
        "ska_dataset.cleaned_train_df[['width', 'height', 'area_orig']].quantile([.1,.2,.3,.4,.5,.6,.7,.8,.9,.95,.98,.99,1.])"
      ],
      "outputs": [
        {
          "output_type": "execute_result",
          "data": {
            "text/plain": [
              "           width     height     area_orig\n",
              "0.10    5.021579   5.022318     25.628098\n",
              "0.20    5.079478   5.083666     26.354817\n",
              "0.30    5.153434   5.154979     27.221580\n",
              "0.40    5.250224   5.256348     28.358833\n",
              "0.50    5.388071   5.394034     29.928541\n",
              "0.60    5.596149   5.603978     32.164977\n",
              "0.70    5.931373   5.932616     36.070023\n",
              "0.80    6.568193   6.603042     43.494231\n",
              "0.90    8.241342   8.188366     63.754795\n",
              "0.95   10.577456  10.646052    100.988437\n",
              "0.98   14.480916  14.595398    167.628745\n",
              "0.99   17.804710  17.928009    233.115808\n",
              "1.00  216.538139  97.294352  21067.937901"
            ],
            "text/html": [
              "<div>\n",
              "<style scoped>\n",
              "    .dataframe tbody tr th:only-of-type {\n",
              "        vertical-align: middle;\n",
              "    }\n",
              "\n",
              "    .dataframe tbody tr th {\n",
              "        vertical-align: top;\n",
              "    }\n",
              "\n",
              "    .dataframe thead th {\n",
              "        text-align: right;\n",
              "    }\n",
              "</style>\n",
              "<table border=\"1\" class=\"dataframe\">\n",
              "  <thead>\n",
              "    <tr style=\"text-align: right;\">\n",
              "      <th></th>\n",
              "      <th>width</th>\n",
              "      <th>height</th>\n",
              "      <th>area_orig</th>\n",
              "    </tr>\n",
              "  </thead>\n",
              "  <tbody>\n",
              "    <tr>\n",
              "      <th>0.10</th>\n",
              "      <td>5.021579</td>\n",
              "      <td>5.022318</td>\n",
              "      <td>25.628098</td>\n",
              "    </tr>\n",
              "    <tr>\n",
              "      <th>0.20</th>\n",
              "      <td>5.079478</td>\n",
              "      <td>5.083666</td>\n",
              "      <td>26.354817</td>\n",
              "    </tr>\n",
              "    <tr>\n",
              "      <th>0.30</th>\n",
              "      <td>5.153434</td>\n",
              "      <td>5.154979</td>\n",
              "      <td>27.221580</td>\n",
              "    </tr>\n",
              "    <tr>\n",
              "      <th>0.40</th>\n",
              "      <td>5.250224</td>\n",
              "      <td>5.256348</td>\n",
              "      <td>28.358833</td>\n",
              "    </tr>\n",
              "    <tr>\n",
              "      <th>0.50</th>\n",
              "      <td>5.388071</td>\n",
              "      <td>5.394034</td>\n",
              "      <td>29.928541</td>\n",
              "    </tr>\n",
              "    <tr>\n",
              "      <th>0.60</th>\n",
              "      <td>5.596149</td>\n",
              "      <td>5.603978</td>\n",
              "      <td>32.164977</td>\n",
              "    </tr>\n",
              "    <tr>\n",
              "      <th>0.70</th>\n",
              "      <td>5.931373</td>\n",
              "      <td>5.932616</td>\n",
              "      <td>36.070023</td>\n",
              "    </tr>\n",
              "    <tr>\n",
              "      <th>0.80</th>\n",
              "      <td>6.568193</td>\n",
              "      <td>6.603042</td>\n",
              "      <td>43.494231</td>\n",
              "    </tr>\n",
              "    <tr>\n",
              "      <th>0.90</th>\n",
              "      <td>8.241342</td>\n",
              "      <td>8.188366</td>\n",
              "      <td>63.754795</td>\n",
              "    </tr>\n",
              "    <tr>\n",
              "      <th>0.95</th>\n",
              "      <td>10.577456</td>\n",
              "      <td>10.646052</td>\n",
              "      <td>100.988437</td>\n",
              "    </tr>\n",
              "    <tr>\n",
              "      <th>0.98</th>\n",
              "      <td>14.480916</td>\n",
              "      <td>14.595398</td>\n",
              "      <td>167.628745</td>\n",
              "    </tr>\n",
              "    <tr>\n",
              "      <th>0.99</th>\n",
              "      <td>17.804710</td>\n",
              "      <td>17.928009</td>\n",
              "      <td>233.115808</td>\n",
              "    </tr>\n",
              "    <tr>\n",
              "      <th>1.00</th>\n",
              "      <td>216.538139</td>\n",
              "      <td>97.294352</td>\n",
              "      <td>21067.937901</td>\n",
              "    </tr>\n",
              "  </tbody>\n",
              "</table>\n",
              "</div>"
            ]
          },
          "metadata": {},
          "execution_count": 9
        }
      ],
      "metadata": {}
    },
    {
      "cell_type": "code",
      "execution_count": 3,
      "source": [
        "show_plot = True\n",
        "ska_dataset.generate_patches(limit=1, plot_patches=show_plot) # Remember to remove internal return"
      ],
      "outputs": [
        {
          "output_type": "stream",
          "name": "stderr",
          "text": [
            "  0%|          | 0/64 [00:00<?, ?it/s]"
          ]
        },
        {
          "output_type": "stream",
          "name": "stdout",
          "text": [
            "Patch 0_16376_16729_100 saved.\n",
            "Max gray level value =  176.0\n"
          ]
        },
        {
          "output_type": "display_data",
          "data": {
            "text/plain": [
              "<Figure size 432x288 with 1 Axes>"
            ],
            "image/png": "[encoded data removed]"
          },
          "metadata": {
            "needs_background": "light"
          }
        },
        {
          "output_type": "stream",
          "name": "stdout",
          "text": [
            "Patch 50_16426_16729_100 saved.\n",
            "Max gray level value =  176.0\n"
          ]
        },
        {
          "output_type": "display_data",
          "data": {
            "text/plain": [
              "<Figure size 432x288 with 1 Axes>"
            ],
            "image/png": "[encoded data removed]"
          },
          "metadata": {
            "needs_background": "light"
          }
        },
        {
          "output_type": "stream",
          "name": "stdout",
          "text": [
            "Patch 100_16476_16729_100 saved.\n",
            "Max gray level value =  154.0\n"
          ]
        },
        {
          "output_type": "display_data",
          "data": {
            "text/plain": [
              "<Figure size 432x288 with 1 Axes>"
            ],
            "image/png": "[encoded data removed]"
          },
          "metadata": {
            "needs_background": "light"
          }
        },
        {
          "output_type": "stream",
          "name": "stderr",
          "text": [
            "  2%|▏         | 1/64 [00:02<02:20,  2.23s/it]"
          ]
        },
        {
          "output_type": "stream",
          "name": "stdout",
          "text": [
            "Patch 1550_16376_16779_100 saved.\n",
            "Max gray level value =  176.0\n"
          ]
        },
        {
          "output_type": "display_data",
          "data": {
            "text/plain": [
              "<Figure size 432x288 with 1 Axes>"
            ],
            "image/png": "[encoded data removed]"
          },
          "metadata": {
            "needs_background": "light"
          }
        },
        {
          "output_type": "stream",
          "name": "stdout",
          "text": [
            "Patch 1600_16426_16779_100 saved.\n",
            "Max gray level value =  176.0\n"
          ]
        },
        {
          "output_type": "display_data",
          "data": {
            "text/plain": [
              "<Figure size 432x288 with 1 Axes>"
            ],
            "image/png": "[encoded data removed]"
          },
          "metadata": {
            "needs_background": "light"
          }
        },
        {
          "output_type": "stream",
          "name": "stdout",
          "text": [
            "Patch 1650_16476_16779_100 saved.\n",
            "Max gray level value =  154.0\n"
          ]
        },
        {
          "output_type": "display_data",
          "data": {
            "text/plain": [
              "<Figure size 432x288 with 1 Axes>"
            ],
            "image/png": "[encoded data removed]"
          },
          "metadata": {
            "needs_background": "light"
          }
        },
        {
          "output_type": "stream",
          "name": "stderr",
          "text": [
            "  3%|▎         | 2/64 [00:04<02:11,  2.12s/it]"
          ]
        },
        {
          "output_type": "stream",
          "name": "stdout",
          "text": [
            "Patch 3100_16376_16829_100 saved.\n",
            "Max gray level value =  85.0\n"
          ]
        },
        {
          "output_type": "display_data",
          "data": {
            "text/plain": [
              "<Figure size 432x288 with 1 Axes>"
            ],
            "image/png": "[encoded data removed]"
          },
          "metadata": {
            "needs_background": "light"
          }
        },
        {
          "output_type": "stream",
          "name": "stdout",
          "text": [
            "Patch 3150_16426_16829_100 saved.\n",
            "Max gray level value =  95.0\n"
          ]
        },
        {
          "output_type": "display_data",
          "data": {
            "text/plain": [
              "<Figure size 432x288 with 1 Axes>"
            ],
            "image/png": "[encoded data removed]"
          },
          "metadata": {
            "needs_background": "light"
          }
        },
        {
          "output_type": "stream",
          "name": "stdout",
          "text": [
            "Patch 3200_16476_16829_100 saved.\n",
            "Max gray level value =  114.0\n"
          ]
        },
        {
          "output_type": "display_data",
          "data": {
            "text/plain": [
              "<Figure size 432x288 with 1 Axes>"
            ],
            "image/png": "[encoded data removed]"
          },
          "metadata": {
            "needs_background": "light"
          }
        },
        {
          "output_type": "stream",
          "name": "stderr",
          "text": [
            "100%|██████████| 64/64 [00:06<00:00,  9.74it/s]"
          ]
        },
        {
          "output_type": "stream",
          "name": "stdout",
          "text": [
            "\n",
            "Class list: ['1_1' '2_1' '3_1']\n",
            "Number of distinct class labels: 3\n"
          ]
        },
        {
          "output_type": "stream",
          "name": "stderr",
          "text": [
            "\n"
          ]
        }
      ],
      "metadata": {
        "id": "Ug10Ku-OF-5Y",
        "outputId": "c3b6bed6-24a7-4f71-cbed-c4b6b8d934af",
        "tags": []
      }
    },
    {
      "cell_type": "code",
      "execution_count": 4,
      "source": [
        "ska_dataset.analyze_class_distribution()"
      ],
      "outputs": [
        {
          "output_type": "stream",
          "name": "stdout",
          "text": [
            "Number of possible class combinations: 7\n"
          ]
        },
        {
          "output_type": "display_data",
          "data": {
            "text/plain": [
              "<Figure size 432x288 with 1 Axes>"
            ],
            "image/png": "[encoded data removed]"
          },
          "metadata": {
            "needs_background": "light"
          }
        }
      ],
      "metadata": {
        "tags": []
      }
    },
    {
      "cell_type": "code",
      "execution_count": 5,
      "source": [
        "ska_dataset.split_train_val_stratified(random_state=42, val_portion=0.2)\n",
        "\n",
        "print(len(ska_dataset.train_patch_list))\n",
        "print(len(ska_dataset.val_patch_list))\n"
      ],
      "outputs": [
        {
          "output_type": "stream",
          "name": "stdout",
          "text": [
            "key_1 not splitted\n",
            "key_3 not splitted\n",
            "key_4 not splitted\n",
            "key_5 not splitted\n",
            "key_7 not splitted\n",
            "split ended\n",
            "6\n",
            "2\n"
          ]
        }
      ],
      "metadata": {}
    },
    {
      "cell_type": "code",
      "execution_count": 6,
      "source": [
        "ska_dataset.split_train_val(random_state=42, val_portion=0.2)"
      ],
      "outputs": [
        {
          "output_type": "stream",
          "name": "stdout",
          "text": [
            "len of class: 2 4\n",
            "len of common ID: 3\n",
            "len of class: 3 1\n",
            "len of common ID: 1\n",
            "len of class: 6 4\n",
            "len of common ID: 3\n"
          ]
        },
        {
          "output_type": "display_data",
          "data": {
            "text/plain": [
              "<Figure size 432x288 with 1 Axes>"
            ],
            "image/png": "[encoded data removed]"
          },
          "metadata": {
            "needs_background": "light"
          }
        }
      ],
      "metadata": {}
    },
    {
      "cell_type": "markdown",
      "source": [
        "## datagen + calc_rpn -> rpn_net -> rpn_to_roi -> calc_iou -> cls_net"
      ],
      "metadata": {}
    },
    {
      "cell_type": "markdown",
      "source": [
        "# Training"
      ],
      "metadata": {}
    },
    {
      "cell_type": "markdown",
      "source": [
        "### Get FRCNN model"
      ],
      "metadata": {}
    },
    {
      "cell_type": "code",
      "execution_count": 20,
      "source": [
        "# Choose the feature extraction model\n",
        "backbone='baseline_8'\n",
        "\n",
        "if (backbone=='baseline_8' or backbone=='baseline_16'):\n",
        "    config.resizePatch = False\n",
        "else:\n",
        "    config.resizePatch = True\n",
        "\n",
        "print(config.resizePatch)\n",
        "\n",
        "checkpoint = get_model_last_checkpoint(backbone)\n",
        "print(f'Model last checkpoint: {checkpoint}')"
      ],
      "outputs": [
        {
          "output_type": "stream",
          "name": "stdout",
          "text": [
            "False\n",
            "Checking model checkpoints in directory /Users/lorenzocellini/AI - Universit…/Deep Learning - Andre Asperti/SKA_project/SKADC1/model/baseline_8\n",
            "Model last checkpoint: None\n"
          ]
        }
      ],
      "metadata": {}
    },
    {
      "cell_type": "code",
      "execution_count": 21,
      "source": [
        "# input_shape_1=(config.resizeFinalDim, config.resizeFinalDim,1)\n",
        "input_shape_1=100\n",
        "input_shape_2=(None, 4)\n",
        "backbone='baseline_8'\n",
        "rpn_model, detector_model, total_model = models.get_train_model(input_shape_1=input_shape_1, input_shape_2=input_shape_2, anchor_num=config.anchor_num, pooling_regions=config.pooling_regions, num_rois=config.num_rois, num_classes=len(ska_dataset.class_list)+1, backbone=backbone, use_expander=False)\n",
        "\n",
        "rpn_model.summary()\n",
        "detector_model.summary()\n",
        "total_model.summary()"
      ],
      "outputs": [
        {
          "output_type": "stream",
          "name": "stdout",
          "text": [
            "Model: \"RegionProposal\"\n",
            "_________________________________________________________________\n",
            "Layer (type)                 Output Shape              Param #   \n",
            "=================================================================\n",
            "input_1 (InputLayer)         [(None, 100, 100, 3)]     0         \n",
            "_________________________________________________________________\n",
            "block1_conv1 (Conv2D)        (None, 100, 100, 64)      1792      \n",
            "_________________________________________________________________\n",
            "block1_conv2 (Conv2D)        (None, 100, 100, 64)      36928     \n",
            "_________________________________________________________________\n",
            "block1_conv3 (Conv2D)        (None, 100, 100, 64)      36928     \n",
            "_________________________________________________________________\n",
            "block1_pool (MaxPooling2D)   (None, 50, 50, 64)        0         \n",
            "_________________________________________________________________\n",
            "rpn (RpnNet)                 [(None, 50, 50, 12), (Non 326204    \n",
            "=================================================================\n",
            "Total params: 401,852\n",
            "Trainable params: 363,132\n",
            "Non-trainable params: 38,720\n",
            "_________________________________________________________________\n",
            "Model: \"DetectorClassifier\"\n",
            "__________________________________________________________________________________________________\n",
            "Layer (type)                    Output Shape         Param #     Connected to                     \n",
            "==================================================================================================\n",
            "input_1 (InputLayer)            [(None, 100, 100, 3) 0                                            \n",
            "__________________________________________________________________________________________________\n",
            "block1_conv1 (Conv2D)           (None, 100, 100, 64) 1792        input_1[0][0]                    \n",
            "__________________________________________________________________________________________________\n",
            "block1_conv2 (Conv2D)           (None, 100, 100, 64) 36928       block1_conv1[0][0]               \n",
            "__________________________________________________________________________________________________\n",
            "block1_conv3 (Conv2D)           (None, 100, 100, 64) 36928       block1_conv2[0][0]               \n",
            "__________________________________________________________________________________________________\n",
            "block1_pool (MaxPooling2D)      (None, 50, 50, 64)   0           block1_conv3[0][0]               \n",
            "__________________________________________________________________________________________________\n",
            "input_2 (InputLayer)            [(None, None, 4)]    0                                            \n",
            "__________________________________________________________________________________________________\n",
            "roi_pooling (RoiPoolingConv)    (1, 4, 7, 7, 64)     0           block1_pool[0][0]                \n",
            "                                                                 input_2[0][0]                    \n",
            "__________________________________________________________________________________________________\n",
            "cls (Detector)                  [(1, 4, 4), (1, 4, 1 29696016    roi_pooling[0][0]                \n",
            "==================================================================================================\n",
            "Total params: 29,771,664\n",
            "Trainable params: 29,732,944\n",
            "Non-trainable params: 38,720\n",
            "__________________________________________________________________________________________________\n",
            "Model: \"End2end_model\"\n",
            "__________________________________________________________________________________________________\n",
            "Layer (type)                    Output Shape         Param #     Connected to                     \n",
            "==================================================================================================\n",
            "input_1 (InputLayer)            [(None, 100, 100, 3) 0                                            \n",
            "__________________________________________________________________________________________________\n",
            "block1_conv1 (Conv2D)           (None, 100, 100, 64) 1792        input_1[0][0]                    \n",
            "__________________________________________________________________________________________________\n",
            "block1_conv2 (Conv2D)           (None, 100, 100, 64) 36928       block1_conv1[0][0]               \n",
            "__________________________________________________________________________________________________\n",
            "block1_conv3 (Conv2D)           (None, 100, 100, 64) 36928       block1_conv2[0][0]               \n",
            "__________________________________________________________________________________________________\n",
            "block1_pool (MaxPooling2D)      (None, 50, 50, 64)   0           block1_conv3[0][0]               \n",
            "__________________________________________________________________________________________________\n",
            "input_2 (InputLayer)            [(None, None, 4)]    0                                            \n",
            "__________________________________________________________________________________________________\n",
            "roi_pooling (RoiPoolingConv)    (1, 4, 7, 7, 64)     0           block1_pool[0][0]                \n",
            "                                                                 input_2[0][0]                    \n",
            "__________________________________________________________________________________________________\n",
            "rpn (RpnNet)                    [(None, 50, 50, 12), 326204      block1_pool[0][0]                \n",
            "__________________________________________________________________________________________________\n",
            "cls (Detector)                  [(1, 4, 4), (1, 4, 1 29696016    roi_pooling[0][0]                \n",
            "==================================================================================================\n",
            "Total params: 30,097,868\n",
            "Trainable params: 30,059,148\n",
            "Non-trainable params: 38,720\n",
            "__________________________________________________________________________________________________\n"
          ]
        }
      ],
      "metadata": {
        "tags": [
          "outputPrepend"
        ]
      }
    },
    {
      "cell_type": "markdown",
      "source": [
        "### Load weights"
      ],
      "metadata": {}
    },
    {
      "cell_type": "code",
      "execution_count": 22,
      "source": [
        "models.load_weigths(rpn_model, detector_model, backbone, resume_train=False, checkpoint=checkpoint)\n",
        "models.compile_models(rpn_model, detector_model, total_model, rpn_losses=[loss.rpn_loss_cls, loss.rpn_loss_regr], detector_losses=[loss.detector_loss_cls, loss.detector_loss_regr], class_list=ska_dataset.class_list)"
      ],
      "outputs": [],
      "metadata": {}
    },
    {
      "cell_type": "code",
      "execution_count": 15,
      "source": [
        "# Specifically checking backbone weights\n",
        "\n",
        "# total_model.weights[24:25][0][0][0][0]"
      ],
      "outputs": [],
      "metadata": {}
    },
    {
      "cell_type": "code",
      "execution_count": 23,
      "source": [
        "# Check that all of the pretrained weights have been loaded.\n",
        "import numpy as np\n",
        "for i, j in zip(total_model.weights, rpn_model.weights): \n",
        "    # print(i,j)\n",
        "    assert np.allclose(i,j), 'Weights don\\'t match!'"
      ],
      "outputs": [],
      "metadata": {
        "tags": []
      }
    },
    {
      "cell_type": "markdown",
      "source": [
        "### Train"
      ],
      "metadata": {}
    },
    {
      "cell_type": "code",
      "execution_count": 24,
      "source": [
        "from src.train import *\n",
        "val_patch_list = None\n",
        "train_frcnn(rpn_model, detector_model, total_model, ska_dataset.train_patch_list, ska_dataset.val_patch_list, ska_dataset.class_list, num_epochs=10, patches_folder_path=config.TRAIN_PATCHES_FOLDER, backbone=backbone, resume_train=False)"
      ],
      "outputs": [
        {
          "output_type": "stream",
          "name": "stderr",
          "text": [
            "  0%|          | 0/4 [00:00<?, ?it/s]"
          ]
        },
        {
          "output_type": "stream",
          "name": "stdout",
          "text": [
            "Epoch 1/10\n",
            "(100, 100)\n"
          ]
        },
        {
          "output_type": "stream",
          "name": "stderr",
          "text": [
            "100%|██████████| 4/4 [00:01<00:00,  3.69it/s]\n",
            "100%|██████████| 14/14 [00:00<00:00, 25126.34it/s]\n"
          ]
        },
        {
          "output_type": "stream",
          "name": "stdout",
          "text": [
            "Starting rpn model training on patch 100_16476_16729_100\n",
            "(1, 100, 100, 3)\n",
            "(1, 50, 50, 12)\n"
          ]
        },
        {
          "output_type": "stream",
          "name": "stderr",
          "text": [
            "  0%|          | 0/4 [00:00<?, ?it/s]"
          ]
        },
        {
          "output_type": "stream",
          "name": "stdout",
          "text": [
            "Best IoU found in this run: 0.9999990000010001\n",
            "Exception: 'a' cannot be empty unless no samples are taken\n",
            "(100, 100)\n"
          ]
        },
        {
          "output_type": "stream",
          "name": "stderr",
          "text": [
            "100%|██████████| 4/4 [00:01<00:00,  2.58it/s]\n",
            "100%|██████████| 19/19 [00:00<00:00, 52636.58it/s]\n"
          ]
        },
        {
          "output_type": "stream",
          "name": "stdout",
          "text": [
            "Starting rpn model training on patch 3150_16426_16829_100\n",
            "(1, 100, 100, 3)\n",
            "(1, 50, 50, 12)\n"
          ]
        },
        {
          "output_type": "stream",
          "name": "stderr",
          "text": [
            "  0%|          | 0/4 [00:00<?, ?it/s]"
          ]
        },
        {
          "output_type": "stream",
          "name": "stdout",
          "text": [
            "Best IoU found in this run: 0.9999990000010001\n",
            "Exception: 'a' cannot be empty unless no samples are taken\n",
            "(100, 100)\n"
          ]
        },
        {
          "output_type": "stream",
          "name": "stderr",
          "text": [
            "100%|██████████| 4/4 [00:00<00:00,  4.38it/s]\n",
            "100%|██████████| 12/12 [00:00<00:00, 26546.23it/s]\n"
          ]
        },
        {
          "output_type": "stream",
          "name": "stdout",
          "text": [
            "Starting rpn model training on patch 0_16376_16729_100\n",
            "(1, 100, 100, 3)\n",
            "(1, 50, 50, 12)\n",
            "Best IoU found in this run: 0.9999990000010001\n",
            "Starting detector model training on batch\n",
            " 1/10 [==>...........................] - ETA: 1:26 - rpn_cls: 5.1964 - rpn_regr: 30.5845 - detector_cls: 1.3863 - detector_regr: 0.0000e+00 - average number of objects: 2.0000"
          ]
        },
        {
          "output_type": "stream",
          "name": "stderr",
          "text": [
            "  0%|          | 0/4 [00:00<?, ?it/s]"
          ]
        },
        {
          "output_type": "stream",
          "name": "stdout",
          "text": [
            "(100, 100)\n"
          ]
        },
        {
          "output_type": "stream",
          "name": "stderr",
          "text": [
            "100%|██████████| 4/4 [00:01<00:00,  3.23it/s]\n",
            "100%|██████████| 15/15 [00:00<00:00, 36578.23it/s]\n"
          ]
        },
        {
          "output_type": "stream",
          "name": "stdout",
          "text": [
            "Starting rpn model training on patch 1550_16376_16779_100\n",
            "(1, 100, 100, 3)\n",
            "(1, 50, 50, 12)\n",
            "Best IoU found in this run: 0.17391303591682453\n",
            "Starting detector model training on batch\n",
            " 2/10 [=====>........................] - ETA: 21s - rpn_cls: 6.0098 - rpn_regr: 28.6226 - detector_cls: 2.2562 - detector_regr: 0.0000e+00 - average number of objects: 1.0000 "
          ]
        },
        {
          "output_type": "stream",
          "name": "stderr",
          "text": [
            "  0%|          | 0/4 [00:00<?, ?it/s]"
          ]
        },
        {
          "output_type": "stream",
          "name": "stdout",
          "text": [
            "(100, 100)\n"
          ]
        },
        {
          "output_type": "stream",
          "name": "stderr",
          "text": [
            "100%|██████████| 4/4 [00:01<00:00,  2.38it/s]\n",
            "100%|██████████| 20/20 [00:00<00:00, 14870.78it/s]\n"
          ]
        },
        {
          "output_type": "stream",
          "name": "stdout",
          "text": [
            "Starting rpn model training on patch 3100_16376_16829_100\n",
            "(1, 100, 100, 3)\n",
            "(1, 50, 50, 12)\n"
          ]
        },
        {
          "output_type": "stream",
          "name": "stderr",
          "text": [
            "  0%|          | 0/4 [00:00<?, ?it/s]"
          ]
        },
        {
          "output_type": "stream",
          "name": "stdout",
          "text": [
            "Exception: 'NoneType' object is not iterable\n",
            "(100, 100)\n"
          ]
        },
        {
          "output_type": "stream",
          "name": "stderr",
          "text": [
            "100%|██████████| 4/4 [00:01<00:00,  2.34it/s]\n",
            "100%|██████████| 19/19 [00:00<00:00, 58640.01it/s]\n"
          ]
        },
        {
          "output_type": "stream",
          "name": "stdout",
          "text": [
            "Starting rpn model training on patch 1600_16426_16779_100\n",
            "(1, 100, 100, 3)\n",
            "(1, 50, 50, 12)\n",
            "Best IoU found in this run: 0.24999993750001562\n",
            "Starting detector model training on batch\n",
            " 3/10 [========>.....................] - ETA: 31s - rpn_cls: 6.2204 - rpn_regr: 27.3951 - detector_cls: 2.1988 - detector_regr: 0.0000e+00 - average number of objects: 0.6667"
          ]
        },
        {
          "output_type": "stream",
          "name": "stderr",
          "text": [
            "  0%|          | 0/4 [00:00<?, ?it/s]"
          ]
        },
        {
          "output_type": "stream",
          "name": "stdout",
          "text": [
            "(100, 100)\n"
          ]
        },
        {
          "output_type": "stream",
          "name": "stderr",
          "text": [
            "100%|██████████| 4/4 [00:00<00:00,  4.01it/s]\n",
            "100%|██████████| 14/14 [00:00<00:00, 9003.41it/s]\n"
          ]
        },
        {
          "output_type": "stream",
          "name": "stdout",
          "text": [
            "Starting rpn model training on patch 100_16476_16729_100\n",
            "(1, 100, 100, 3)\n",
            "(1, 50, 50, 12)\n"
          ]
        },
        {
          "output_type": "stream",
          "name": "stderr",
          "text": [
            "  0%|          | 0/4 [00:00<?, ?it/s]"
          ]
        },
        {
          "output_type": "stream",
          "name": "stdout",
          "text": [
            "Exception: 'NoneType' object is not iterable\n",
            "(100, 100)\n"
          ]
        },
        {
          "output_type": "stream",
          "name": "stderr",
          "text": [
            "100%|██████████| 4/4 [00:01<00:00,  2.72it/s]\n",
            "100%|██████████| 19/19 [00:00<00:00, 66134.25it/s]\n"
          ]
        },
        {
          "output_type": "stream",
          "name": "stdout",
          "text": [
            "Starting rpn model training on patch 3150_16426_16829_100\n",
            "(1, 100, 100, 3)\n",
            "(1, 50, 50, 12)\n"
          ]
        },
        {
          "output_type": "stream",
          "name": "stderr",
          "text": [
            "  0%|          | 0/4 [00:00<?, ?it/s]"
          ]
        },
        {
          "output_type": "stream",
          "name": "stdout",
          "text": [
            "Exception: 'NoneType' object is not iterable\n",
            "(100, 100)\n"
          ]
        },
        {
          "output_type": "stream",
          "name": "stderr",
          "text": [
            "100%|██████████| 4/4 [00:01<00:00,  3.86it/s]\n",
            "100%|██████████| 12/12 [00:00<00:00, 26255.42it/s]\n"
          ]
        },
        {
          "output_type": "stream",
          "name": "stdout",
          "text": [
            "Starting rpn model training on patch 0_16376_16729_100\n",
            "(1, 100, 100, 3)\n",
            "(1, 50, 50, 12)\n",
            "Best IoU found in this run: 0.9999990000010001\n",
            "Starting detector model training on batch\n",
            " 4/10 [===========>..................] - ETA: 34s - rpn_cls: 6.0597 - rpn_regr: 25.5661 - detector_cls: 2.2917 - detector_regr: 0.0000e+00 - average number of objects: 0.7500(100, 100)"
          ]
        },
        {
          "output_type": "stream",
          "name": "stderr",
          "text": [
            "  0%|          | 0/4 [00:00<?, ?it/s]"
          ]
        },
        {
          "output_type": "stream",
          "name": "stdout",
          "text": [
            "\n"
          ]
        },
        {
          "output_type": "stream",
          "name": "stderr",
          "text": [
            "100%|██████████| 4/4 [00:01<00:00,  3.50it/s]\n",
            "100%|██████████| 15/15 [00:00<00:00, 11592.88it/s]\n"
          ]
        },
        {
          "output_type": "stream",
          "name": "stdout",
          "text": [
            "Starting rpn model training on patch 1550_16376_16779_100\n",
            "(1, 100, 100, 3)\n",
            "(1, 50, 50, 12)\n",
            "Best IoU found in this run: 0.19999998000000202\n",
            "Starting detector model training on batch\n",
            " 5/10 [==============>...............] - ETA: 25s - rpn_cls: 5.9497 - rpn_regr: 23.7781 - detector_cls: 2.2700 - detector_regr: 0.0000e+00 - average number of objects: 0.6000"
          ]
        },
        {
          "output_type": "stream",
          "name": "stderr",
          "text": [
            "  0%|          | 0/4 [00:00<?, ?it/s]"
          ]
        },
        {
          "output_type": "stream",
          "name": "stdout",
          "text": [
            "(100, 100)\n"
          ]
        },
        {
          "output_type": "stream",
          "name": "stderr",
          "text": [
            "100%|██████████| 4/4 [00:01<00:00,  2.50it/s]\n",
            "100%|██████████| 20/20 [00:00<00:00, 37820.60it/s]\n"
          ]
        },
        {
          "output_type": "stream",
          "name": "stdout",
          "text": [
            "Starting rpn model training on patch 3100_16376_16829_100\n",
            "(1, 100, 100, 3)\n",
            "(1, 50, 50, 12)\n"
          ]
        },
        {
          "output_type": "stream",
          "name": "stderr",
          "text": [
            "  0%|          | 0/4 [00:00<?, ?it/s]"
          ]
        },
        {
          "output_type": "stream",
          "name": "stdout",
          "text": [
            "Best IoU found in this run: 0.9999990000010001\n",
            "Exception: 'a' cannot be empty unless no samples are taken\n",
            "(100, 100)\n"
          ]
        },
        {
          "output_type": "stream",
          "name": "stderr",
          "text": [
            "100%|██████████| 4/4 [00:01<00:00,  2.85it/s]\n",
            "100%|██████████| 19/19 [00:00<00:00, 26068.62it/s]\n"
          ]
        },
        {
          "output_type": "stream",
          "name": "stdout",
          "text": [
            "Starting rpn model training on patch 1600_16426_16779_100\n",
            "(1, 100, 100, 3)\n",
            "(1, 50, 50, 12)\n",
            "Best IoU found in this run: 0.9999990000010001\n",
            "Starting detector model training on batch\n",
            " 6/10 [=================>............] - ETA: 21s - rpn_cls: 5.9178 - rpn_regr: 22.1572 - detector_cls: 2.2178 - detector_regr: 0.0000e+00 - average number of objects: 0.6667"
          ]
        },
        {
          "output_type": "stream",
          "name": "stderr",
          "text": [
            "  0%|          | 0/4 [00:00<?, ?it/s]"
          ]
        },
        {
          "output_type": "stream",
          "name": "stdout",
          "text": [
            "(100, 100)\n"
          ]
        },
        {
          "output_type": "stream",
          "name": "stderr",
          "text": [
            "100%|██████████| 4/4 [00:01<00:00,  3.47it/s]\n",
            "100%|██████████| 14/14 [00:00<00:00, 22645.68it/s]\n"
          ]
        },
        {
          "output_type": "stream",
          "name": "stdout",
          "text": [
            "Starting rpn model training on patch 100_16476_16729_100\n",
            "(1, 100, 100, 3)\n",
            "(1, 50, 50, 12)\n"
          ]
        },
        {
          "output_type": "stream",
          "name": "stderr",
          "text": [
            "  0%|          | 0/4 [00:00<?, ?it/s]"
          ]
        },
        {
          "output_type": "stream",
          "name": "stdout",
          "text": [
            "Best IoU found in this run: 0.9999990000010001\n",
            "Exception: 'a' cannot be empty unless no samples are taken\n",
            "Average number of overlapping bounding boxes from RPN = 1.6 for 10 previous iterations\n",
            "(100, 100)\n"
          ]
        },
        {
          "output_type": "stream",
          "name": "stderr",
          "text": [
            "100%|██████████| 4/4 [00:01<00:00,  2.80it/s]\n",
            "100%|██████████| 19/19 [00:00<00:00, 49344.75it/s]\n"
          ]
        },
        {
          "output_type": "stream",
          "name": "stdout",
          "text": [
            "Starting rpn model training on patch 3150_16426_16829_100\n",
            "(1, 100, 100, 3)\n",
            "(1, 50, 50, 12)\n"
          ]
        },
        {
          "output_type": "stream",
          "name": "stderr",
          "text": [
            "  0%|          | 0/4 [00:00<?, ?it/s]"
          ]
        },
        {
          "output_type": "stream",
          "name": "stdout",
          "text": [
            "Best IoU found in this run: 0.9999990000010001\n",
            "Exception: 'a' cannot be empty unless no samples are taken\n",
            "(100, 100)\n"
          ]
        },
        {
          "output_type": "stream",
          "name": "stderr",
          "text": [
            "100%|██████████| 4/4 [00:01<00:00,  3.89it/s]\n",
            "100%|██████████| 12/12 [00:00<00:00, 24684.48it/s]\n"
          ]
        },
        {
          "output_type": "stream",
          "name": "stdout",
          "text": [
            "Starting rpn model training on patch 0_16376_16729_100\n",
            "(1, 100, 100, 3)\n",
            "(1, 50, 50, 12)\n",
            "Best IoU found in this run: 0.9999990000010001\n",
            "Starting detector model training on batch\n",
            " 7/10 [====================>.........] - ETA: 17s - rpn_cls: 5.9155 - rpn_regr: 20.7380 - detector_cls: 2.1792 - detector_regr: 0.0000e+00 - average number of objects: 0.8571"
          ]
        },
        {
          "output_type": "stream",
          "name": "stderr",
          "text": [
            "  0%|          | 0/4 [00:00<?, ?it/s]"
          ]
        },
        {
          "output_type": "stream",
          "name": "stdout",
          "text": [
            "(100, 100)\n"
          ]
        },
        {
          "output_type": "stream",
          "name": "stderr",
          "text": [
            "100%|██████████| 4/4 [00:01<00:00,  3.27it/s]\n",
            "100%|██████████| 15/15 [00:00<00:00, 21041.66it/s]\n"
          ]
        },
        {
          "output_type": "stream",
          "name": "stdout",
          "text": [
            "Starting rpn model training on patch 1550_16376_16779_100\n",
            "(1, 100, 100, 3)\n",
            "(1, 50, 50, 12)\n",
            "Best IoU found in this run: 0.9999990000010001\n",
            "Starting detector model training on batch\n",
            " 8/10 [=======================>......] - ETA: 10s - rpn_cls: 5.9272 - rpn_regr: 19.5027 - detector_cls: 2.1357 - detector_regr: 0.0000e+00 - average number of objects: 0.8750"
          ]
        },
        {
          "output_type": "stream",
          "name": "stderr",
          "text": [
            "  0%|          | 0/4 [00:00<?, ?it/s]"
          ]
        },
        {
          "output_type": "stream",
          "name": "stdout",
          "text": [
            "(100, 100)\n"
          ]
        },
        {
          "output_type": "stream",
          "name": "stderr",
          "text": [
            "100%|██████████| 4/4 [00:01<00:00,  2.63it/s]\n",
            "100%|██████████| 20/20 [00:00<00:00, 18327.74it/s]\n"
          ]
        },
        {
          "output_type": "stream",
          "name": "stdout",
          "text": [
            "Starting rpn model training on patch 3100_16376_16829_100\n",
            "(1, 100, 100, 3)\n",
            "(1, 50, 50, 12)\n"
          ]
        },
        {
          "output_type": "stream",
          "name": "stderr",
          "text": [
            "  0%|          | 0/4 [00:00<?, ?it/s]"
          ]
        },
        {
          "output_type": "stream",
          "name": "stdout",
          "text": [
            "Exception: 'NoneType' object is not iterable\n",
            "(100, 100)\n"
          ]
        },
        {
          "output_type": "stream",
          "name": "stderr",
          "text": [
            "100%|██████████| 4/4 [00:01<00:00,  2.88it/s]\n",
            "100%|██████████| 19/19 [00:00<00:00, 62065.25it/s]\n"
          ]
        },
        {
          "output_type": "stream",
          "name": "stdout",
          "text": [
            "Starting rpn model training on patch 1600_16426_16779_100\n",
            "(1, 100, 100, 3)\n",
            "(1, 50, 50, 12)\n",
            "Best IoU found in this run: 0.9999990000010001\n",
            "Starting detector model training on batch\n",
            " 9/10 [==========================>...] - ETA: 5s - rpn_cls: 5.9192 - rpn_regr: 18.4424 - detector_cls: 2.0996 - detector_regr: 0.0000e+00 - average number of objects: 1.0000 "
          ]
        },
        {
          "output_type": "stream",
          "name": "stderr",
          "text": [
            "  0%|          | 0/4 [00:00<?, ?it/s]"
          ]
        },
        {
          "output_type": "stream",
          "name": "stdout",
          "text": [
            "(100, 100)\n"
          ]
        },
        {
          "output_type": "stream",
          "name": "stderr",
          "text": [
            "100%|██████████| 4/4 [00:01<00:00,  3.28it/s]\n",
            "100%|██████████| 14/14 [00:00<00:00, 25008.63it/s]\n"
          ]
        },
        {
          "output_type": "stream",
          "name": "stdout",
          "text": [
            "Starting rpn model training on patch 100_16476_16729_100\n",
            "(1, 100, 100, 3)\n",
            "(1, 50, 50, 12)\n"
          ]
        },
        {
          "output_type": "stream",
          "name": "stderr",
          "text": [
            "  0%|          | 0/4 [00:00<?, ?it/s]"
          ]
        },
        {
          "output_type": "stream",
          "name": "stdout",
          "text": [
            "Best IoU found in this run: 0.9999990000010001\n",
            "Exception: 'a' cannot be empty unless no samples are taken\n",
            "(100, 100)\n"
          ]
        },
        {
          "output_type": "stream",
          "name": "stderr",
          "text": [
            "100%|██████████| 4/4 [00:01<00:00,  2.77it/s]\n",
            "100%|██████████| 19/19 [00:00<00:00, 53664.50it/s]\n"
          ]
        },
        {
          "output_type": "stream",
          "name": "stdout",
          "text": [
            "Starting rpn model training on patch 3150_16426_16829_100\n",
            "(1, 100, 100, 3)\n",
            "(1, 50, 50, 12)\n"
          ]
        },
        {
          "output_type": "stream",
          "name": "stderr",
          "text": [
            "  0%|          | 0/4 [00:00<?, ?it/s]"
          ]
        },
        {
          "output_type": "stream",
          "name": "stdout",
          "text": [
            "Best IoU found in this run: 0.9999990000010001\n",
            "Exception: 'a' cannot be empty unless no samples are taken\n",
            "(100, 100)\n"
          ]
        },
        {
          "output_type": "stream",
          "name": "stderr",
          "text": [
            "100%|██████████| 4/4 [00:00<00:00,  4.36it/s]\n",
            "100%|██████████| 12/12 [00:00<00:00, 22221.48it/s]\n"
          ]
        },
        {
          "output_type": "stream",
          "name": "stdout",
          "text": [
            "Starting rpn model training on patch 0_16376_16729_100\n",
            "(1, 100, 100, 3)\n",
            "(1, 50, 50, 12)\n",
            "Best IoU found in this run: 0.9999990000010001\n",
            "Starting detector model training on batch\n",
            "10/10 [==============================] - 61s 6s/step - rpn_cls: 5.9192 - rpn_regr: 17.5066 - detector_cls: 2.0669 - detector_regr: 0.0000e+00 - average number of objects: 1.1000\n",
            "Mean number of bounding boxes from RPN overlapping ground truth boxes: 1.8823529411764706\n",
            "Classifier accuracy for bounding boxes from RPN: 0.625\n",
            "Loss RPN classifier: 5.918699336051941\n",
            "Loss RPN regression: 9.084068870544433\n",
            "Loss Detector classifier: 1.7730260372161866\n",
            "Loss Detector regression: 0.0\n",
            "Total loss: 16.775794243812562\n",
            "Elapsed time: 60.70442485809326\n",
            "Total loss decreased from inf to 16.775794243812562, saving weights\n"
          ]
        },
        {
          "output_type": "stream",
          "name": "stderr",
          "text": [
            "  0%|          | 0/4 [00:00<?, ?it/s]"
          ]
        },
        {
          "output_type": "stream",
          "name": "stdout",
          "text": [
            "Epoch 2/10\n",
            "(100, 100)\n"
          ]
        },
        {
          "output_type": "stream",
          "name": "stderr",
          "text": [
            "100%|██████████| 4/4 [00:01<00:00,  3.57it/s]\n",
            "100%|██████████| 15/15 [00:00<00:00, 38740.49it/s]\n"
          ]
        },
        {
          "output_type": "stream",
          "name": "stdout",
          "text": [
            "Starting rpn model training on patch 1550_16376_16779_100\n",
            "(1, 100, 100, 3)\n",
            "(1, 50, 50, 12)\n",
            "Best IoU found in this run: 0.9999990000010001\n",
            "Starting detector model training on batch\n",
            " 1/10 [==>...........................] - ETA: 22s - rpn_cls: 6.5256 - rpn_regr: 1.2345 - detector_cls: 0.7104 - detector_regr: 0.0000e+00 - average number of objects: 1.0000"
          ]
        },
        {
          "output_type": "stream",
          "name": "stderr",
          "text": [
            "  0%|          | 0/4 [00:00<?, ?it/s]"
          ]
        },
        {
          "output_type": "stream",
          "name": "stdout",
          "text": [
            "(100, 100)\n"
          ]
        },
        {
          "output_type": "stream",
          "name": "stderr",
          "text": [
            "100%|██████████| 4/4 [00:01<00:00,  2.48it/s]\n",
            "100%|██████████| 20/20 [00:00<00:00, 28445.60it/s]\n"
          ]
        },
        {
          "output_type": "stream",
          "name": "stdout",
          "text": [
            "Starting rpn model training on patch 3100_16376_16829_100\n",
            "(1, 100, 100, 3)\n",
            "(1, 50, 50, 12)\n"
          ]
        },
        {
          "output_type": "stream",
          "name": "stderr",
          "text": [
            "  0%|          | 0/4 [00:00<?, ?it/s]"
          ]
        },
        {
          "output_type": "stream",
          "name": "stdout",
          "text": [
            "Best IoU found in this run: 0.9999990000010001\n",
            "Exception: 'a' cannot be empty unless no samples are taken\n",
            "(100, 100)\n"
          ]
        },
        {
          "output_type": "stream",
          "name": "stderr",
          "text": [
            "100%|██████████| 4/4 [00:01<00:00,  2.83it/s]\n",
            "100%|██████████| 19/19 [00:00<00:00, 60326.86it/s]\n"
          ]
        },
        {
          "output_type": "stream",
          "name": "stdout",
          "text": [
            "Starting rpn model training on patch 1600_16426_16779_100\n",
            "(1, 100, 100, 3)\n",
            "(1, 50, 50, 12)\n",
            "Best IoU found in this run: 0.9999990000010001\n",
            "Starting detector model training on batch\n",
            " 2/10 [=====>........................] - ETA: 45s - rpn_cls: 6.4246 - rpn_regr: 1.2203 - detector_cls: 0.7115 - detector_regr: 0.0000e+00 - average number of objects: 1.0000"
          ]
        },
        {
          "output_type": "stream",
          "name": "stderr",
          "text": [
            "  0%|          | 0/4 [00:00<?, ?it/s]"
          ]
        },
        {
          "output_type": "stream",
          "name": "stdout",
          "text": [
            "Average number of overlapping bounding boxes from RPN = 2.0 for 10 previous iterations\n",
            "(100, 100)\n"
          ]
        },
        {
          "output_type": "stream",
          "name": "stderr",
          "text": [
            "100%|██████████| 4/4 [00:01<00:00,  3.75it/s]\n",
            "100%|██████████| 14/14 [00:00<00:00, 30393.51it/s]\n"
          ]
        },
        {
          "output_type": "stream",
          "name": "stdout",
          "text": [
            "Starting rpn model training on patch 100_16476_16729_100\n",
            "(1, 100, 100, 3)\n",
            "(1, 50, 50, 12)\n"
          ]
        },
        {
          "output_type": "stream",
          "name": "stderr",
          "text": [
            "  0%|          | 0/4 [00:00<?, ?it/s]"
          ]
        },
        {
          "output_type": "stream",
          "name": "stdout",
          "text": [
            "Exception: 'NoneType' object is not iterable\n",
            "(100, 100)\n"
          ]
        },
        {
          "output_type": "stream",
          "name": "stderr",
          "text": [
            "100%|██████████| 4/4 [00:01<00:00,  2.65it/s]\n",
            "100%|██████████| 19/19 [00:00<00:00, 25781.88it/s]\n"
          ]
        },
        {
          "output_type": "stream",
          "name": "stdout",
          "text": [
            "Starting rpn model training on patch 3150_16426_16829_100\n",
            "(1, 100, 100, 3)\n",
            "(1, 50, 50, 12)\n"
          ]
        },
        {
          "output_type": "stream",
          "name": "stderr",
          "text": [
            "  0%|          | 0/4 [00:00<?, ?it/s]"
          ]
        },
        {
          "output_type": "stream",
          "name": "stdout",
          "text": [
            "Exception: 'NoneType' object is not iterable\n",
            "(100, 100)\n"
          ]
        },
        {
          "output_type": "stream",
          "name": "stderr",
          "text": [
            "100%|██████████| 4/4 [00:00<00:00,  4.35it/s]\n",
            "100%|██████████| 12/12 [00:00<00:00, 40688.48it/s]\n"
          ]
        },
        {
          "output_type": "stream",
          "name": "stdout",
          "text": [
            "Starting rpn model training on patch 0_16376_16729_100\n",
            "(1, 100, 100, 3)\n",
            "(1, 50, 50, 12)\n",
            "Best IoU found in this run: 0.9999990000010001\n",
            "Starting detector model training on batch\n",
            " 3/10 [========>.....................] - ETA: 46s - rpn_cls: 6.2974 - rpn_regr: 1.2038 - detector_cls: 0.7069 - detector_regr: 0.0000e+00 - average number of objects: 1.3333"
          ]
        },
        {
          "output_type": "stream",
          "name": "stderr",
          "text": [
            "  0%|          | 0/4 [00:00<?, ?it/s]"
          ]
        },
        {
          "output_type": "stream",
          "name": "stdout",
          "text": [
            "(100, 100)\n"
          ]
        },
        {
          "output_type": "stream",
          "name": "stderr",
          "text": [
            "100%|██████████| 4/4 [00:01<00:00,  3.24it/s]\n",
            "100%|██████████| 15/15 [00:00<00:00, 12448.47it/s]\n"
          ]
        },
        {
          "output_type": "stream",
          "name": "stdout",
          "text": [
            "Starting rpn model training on patch 1550_16376_16779_100\n",
            "(1, 100, 100, 3)\n",
            "(1, 50, 50, 12)\n",
            "Best IoU found in this run: 0.9999990000010001\n",
            "Starting detector model training on batch\n",
            " 4/10 [===========>..................] - ETA: 32s - rpn_cls: 6.1792 - rpn_regr: 1.2430 - detector_cls: 0.6964 - detector_regr: 0.0000e+00 - average number of objects: 1.2500"
          ]
        },
        {
          "output_type": "stream",
          "name": "stderr",
          "text": [
            "  0%|          | 0/4 [00:00<?, ?it/s]"
          ]
        },
        {
          "output_type": "stream",
          "name": "stdout",
          "text": [
            "(100, 100)\n"
          ]
        },
        {
          "output_type": "stream",
          "name": "stderr",
          "text": [
            "100%|██████████| 4/4 [00:01<00:00,  2.53it/s]\n",
            "100%|██████████| 20/20 [00:00<00:00, 19590.40it/s]\n"
          ]
        },
        {
          "output_type": "stream",
          "name": "stdout",
          "text": [
            "Starting rpn model training on patch 3100_16376_16829_100\n",
            "(1, 100, 100, 3)\n",
            "(1, 50, 50, 12)\n"
          ]
        },
        {
          "output_type": "stream",
          "name": "stderr",
          "text": [
            "  0%|          | 0/4 [00:00<?, ?it/s]"
          ]
        },
        {
          "output_type": "stream",
          "name": "stdout",
          "text": [
            "Exception: 'NoneType' object is not iterable\n",
            "(100, 100)\n"
          ]
        },
        {
          "output_type": "stream",
          "name": "stderr",
          "text": [
            "100%|██████████| 4/4 [00:01<00:00,  2.94it/s]\n",
            "100%|██████████| 19/19 [00:00<00:00, 57580.76it/s]\n"
          ]
        },
        {
          "output_type": "stream",
          "name": "stdout",
          "text": [
            "Starting rpn model training on patch 1600_16426_16779_100\n",
            "(1, 100, 100, 3)\n",
            "(1, 50, 50, 12)\n",
            "Best IoU found in this run: 0.9999990000010001\n",
            "Starting detector model training on batch\n",
            " 5/10 [==============>...............] - ETA: 27s - rpn_cls: 6.0788 - rpn_regr: 1.2528 - detector_cls: 0.6872 - detector_regr: 0.0000e+00 - average number of objects: 1.2000"
          ]
        },
        {
          "output_type": "stream",
          "name": "stderr",
          "text": [
            "  0%|          | 0/4 [00:00<?, ?it/s]"
          ]
        },
        {
          "output_type": "stream",
          "name": "stdout",
          "text": [
            "(100, 100)\n"
          ]
        },
        {
          "output_type": "stream",
          "name": "stderr",
          "text": [
            "100%|██████████| 4/4 [00:01<00:00,  3.92it/s]\n",
            "100%|██████████| 14/14 [00:00<00:00, 61166.93it/s]\n"
          ]
        },
        {
          "output_type": "stream",
          "name": "stdout",
          "text": [
            "Starting rpn model training on patch 100_16476_16729_100\n",
            "(1, 100, 100, 3)\n",
            "(1, 50, 50, 12)\n"
          ]
        },
        {
          "output_type": "stream",
          "name": "stderr",
          "text": [
            "  0%|          | 0/4 [00:00<?, ?it/s]"
          ]
        },
        {
          "output_type": "stream",
          "name": "stdout",
          "text": [
            "Exception: 'NoneType' object is not iterable\n",
            "(100, 100)\n"
          ]
        },
        {
          "output_type": "stream",
          "name": "stderr",
          "text": [
            "100%|██████████| 4/4 [00:01<00:00,  2.95it/s]\n",
            "100%|██████████| 19/19 [00:00<00:00, 62700.06it/s]\n"
          ]
        },
        {
          "output_type": "stream",
          "name": "stdout",
          "text": [
            "Starting rpn model training on patch 3150_16426_16829_100\n",
            "(1, 100, 100, 3)\n",
            "(1, 50, 50, 12)\n"
          ]
        },
        {
          "output_type": "stream",
          "name": "stderr",
          "text": [
            "  0%|          | 0/4 [00:00<?, ?it/s]"
          ]
        },
        {
          "output_type": "stream",
          "name": "stdout",
          "text": [
            "Best IoU found in this run: 0.9999990000010001\n",
            "Exception: 'a' cannot be empty unless no samples are taken\n",
            "(100, 100)\n"
          ]
        },
        {
          "output_type": "stream",
          "name": "stderr",
          "text": [
            "100%|██████████| 4/4 [00:00<00:00,  4.39it/s]\n",
            "100%|██████████| 12/12 [00:00<00:00, 68571.73it/s]\n"
          ]
        },
        {
          "output_type": "stream",
          "name": "stdout",
          "text": [
            "Starting rpn model training on patch 0_16376_16729_100\n",
            "(1, 100, 100, 3)\n",
            "(1, 50, 50, 12)\n",
            "Best IoU found in this run: 0.9999990000010001\n",
            "Starting detector model training on batch\n",
            " 6/10 [=================>............] - ETA: 23s - rpn_cls: 5.9976 - rpn_regr: 1.2524 - detector_cls: 0.6866 - detector_regr: 0.0000e+00 - average number of objects: 1.3333"
          ]
        },
        {
          "output_type": "stream",
          "name": "stderr",
          "text": [
            "  0%|          | 0/4 [00:00<?, ?it/s]"
          ]
        },
        {
          "output_type": "stream",
          "name": "stdout",
          "text": [
            "(100, 100)\n"
          ]
        },
        {
          "output_type": "stream",
          "name": "stderr",
          "text": [
            "100%|██████████| 4/4 [00:01<00:00,  3.61it/s]\n",
            "100%|██████████| 15/15 [00:00<00:00, 18702.31it/s]\n"
          ]
        },
        {
          "output_type": "stream",
          "name": "stdout",
          "text": [
            "Starting rpn model training on patch 1550_16376_16779_100\n",
            "(1, 100, 100, 3)\n",
            "(1, 50, 50, 12)\n",
            "Best IoU found in this run: 0.9999990000010001\n",
            "Starting detector model training on batch\n",
            " 7/10 [====================>.........] - ETA: 15s - rpn_cls: 5.9385 - rpn_regr: 1.2426 - detector_cls: 0.6934 - detector_regr: 0.0000e+00 - average number of objects: 1.4286"
          ]
        },
        {
          "output_type": "stream",
          "name": "stderr",
          "text": [
            "  0%|          | 0/4 [00:00<?, ?it/s]"
          ]
        },
        {
          "output_type": "stream",
          "name": "stdout",
          "text": [
            "(100, 100)\n"
          ]
        },
        {
          "output_type": "stream",
          "name": "stderr",
          "text": [
            "100%|██████████| 4/4 [00:01<00:00,  2.83it/s]\n",
            "100%|██████████| 20/20 [00:00<00:00, 31691.00it/s]\n"
          ]
        },
        {
          "output_type": "stream",
          "name": "stdout",
          "text": [
            "Starting rpn model training on patch 3100_16376_16829_100\n",
            "(1, 100, 100, 3)\n",
            "(1, 50, 50, 12)\n"
          ]
        },
        {
          "output_type": "stream",
          "name": "stderr",
          "text": [
            "  0%|          | 0/4 [00:00<?, ?it/s]"
          ]
        },
        {
          "output_type": "stream",
          "name": "stdout",
          "text": [
            "Best IoU found in this run: 0.9999990000010001\n",
            "Exception: 'a' cannot be empty unless no samples are taken\n",
            "(100, 100)\n"
          ]
        },
        {
          "output_type": "stream",
          "name": "stderr",
          "text": [
            "100%|██████████| 4/4 [00:01<00:00,  2.82it/s]\n",
            "100%|██████████| 19/19 [00:00<00:00, 57705.85it/s]\n"
          ]
        },
        {
          "output_type": "stream",
          "name": "stdout",
          "text": [
            "Starting rpn model training on patch 1600_16426_16779_100\n",
            "(1, 100, 100, 3)\n",
            "(1, 50, 50, 12)\n",
            "Best IoU found in this run: 0.9999990000010001\n",
            "Starting detector model training on batch\n",
            " 8/10 [=======================>......] - ETA: 10s - rpn_cls: 5.8652 - rpn_regr: 1.2294 - detector_cls: 0.7024 - detector_regr: 0.0000e+00 - average number of objects: 1.5000"
          ]
        },
        {
          "output_type": "stream",
          "name": "stderr",
          "text": [
            "  0%|          | 0/4 [00:00<?, ?it/s]"
          ]
        },
        {
          "output_type": "stream",
          "name": "stdout",
          "text": [
            "(100, 100)\n"
          ]
        },
        {
          "output_type": "stream",
          "name": "stderr",
          "text": [
            "100%|██████████| 4/4 [00:01<00:00,  3.35it/s]\n",
            "100%|██████████| 14/14 [00:00<00:00, 17074.81it/s]\n"
          ]
        },
        {
          "output_type": "stream",
          "name": "stdout",
          "text": [
            "Starting rpn model training on patch 100_16476_16729_100\n",
            "(1, 100, 100, 3)\n",
            "(1, 50, 50, 12)\n"
          ]
        },
        {
          "output_type": "stream",
          "name": "stderr",
          "text": [
            "  0%|          | 0/4 [00:00<?, ?it/s]"
          ]
        },
        {
          "output_type": "stream",
          "name": "stdout",
          "text": [
            "Best IoU found in this run: 0.9999990000010001\n",
            "Exception: 'a' cannot be empty unless no samples are taken\n",
            "(100, 100)\n"
          ]
        },
        {
          "output_type": "stream",
          "name": "stderr",
          "text": [
            "100%|██████████| 4/4 [00:01<00:00,  2.74it/s]\n",
            "100%|██████████| 19/19 [00:00<00:00, 32540.54it/s]\n"
          ]
        },
        {
          "output_type": "stream",
          "name": "stdout",
          "text": [
            "Starting rpn model training on patch 3150_16426_16829_100\n",
            "(1, 100, 100, 3)\n",
            "(1, 50, 50, 12)\n"
          ]
        },
        {
          "output_type": "stream",
          "name": "stderr",
          "text": [
            "  0%|          | 0/4 [00:00<?, ?it/s]"
          ]
        },
        {
          "output_type": "stream",
          "name": "stdout",
          "text": [
            "Best IoU found in this run: 0.9999990000010001\n",
            "Exception: 'a' cannot be empty unless no samples are taken\n",
            "Average number of overlapping bounding boxes from RPN = 2.1 for 10 previous iterations\n",
            "(100, 100)\n"
          ]
        },
        {
          "output_type": "stream",
          "name": "stderr",
          "text": [
            "100%|██████████| 4/4 [00:00<00:00,  4.74it/s]\n",
            "100%|██████████| 12/12 [00:00<00:00, 63872.65it/s]\n"
          ]
        },
        {
          "output_type": "stream",
          "name": "stdout",
          "text": [
            "Starting rpn model training on patch 0_16376_16729_100\n",
            "(1, 100, 100, 3)\n",
            "(1, 50, 50, 12)\n",
            "Best IoU found in this run: 0.9999990000010001\n",
            "Starting detector model training on batch\n",
            " 9/10 [==========================>...] - ETA: 5s - rpn_cls: 5.7926 - rpn_regr: 1.2139 - detector_cls: 0.7063 - detector_regr: 0.0000e+00 - average number of objects: 1.5556 "
          ]
        },
        {
          "output_type": "stream",
          "name": "stderr",
          "text": [
            "  0%|          | 0/4 [00:00<?, ?it/s]"
          ]
        },
        {
          "output_type": "stream",
          "name": "stdout",
          "text": [
            "(100, 100)\n"
          ]
        },
        {
          "output_type": "stream",
          "name": "stderr",
          "text": [
            "100%|██████████| 4/4 [00:01<00:00,  3.52it/s]\n",
            "100%|██████████| 15/15 [00:00<00:00, 25135.66it/s]\n"
          ]
        },
        {
          "output_type": "stream",
          "name": "stdout",
          "text": [
            "Starting rpn model training on patch 1550_16376_16779_100\n",
            "(1, 100, 100, 3)\n",
            "(1, 50, 50, 12)\n",
            "Best IoU found in this run: 0.9999990000010001\n",
            "Starting detector model training on batch\n",
            "10/10 [==============================] - 49s 5s/step - rpn_cls: 5.7207 - rpn_regr: 1.1960 - detector_cls: 0.7125 - detector_regr: 0.0000e+00 - average number of objects: 1.5000\n",
            "Mean number of bounding boxes from RPN overlapping ground truth boxes: 1.9333333333333333\n",
            "Classifier accuracy for bounding boxes from RPN: 0.575\n",
            "Loss RPN classifier: 5.073439002037048\n",
            "Loss RPN regression: 1.0348124086856842\n",
            "Loss Detector classifier: 0.768004035949707\n",
            "Loss Detector regression: 0.0\n",
            "Total loss: 6.876255446672439\n",
            "Elapsed time: 49.31268882751465\n",
            "Total loss decreased from 16.775794243812562 to 6.876255446672439, saving weights\n"
          ]
        },
        {
          "output_type": "stream",
          "name": "stderr",
          "text": [
            "  0%|          | 0/4 [00:00<?, ?it/s]"
          ]
        },
        {
          "output_type": "stream",
          "name": "stdout",
          "text": [
            "Epoch 3/10\n",
            "(100, 100)\n"
          ]
        },
        {
          "output_type": "stream",
          "name": "stderr",
          "text": [
            "100%|██████████| 4/4 [00:01<00:00,  2.33it/s]\n",
            "100%|██████████| 20/20 [00:00<00:00, 51025.60it/s]\n"
          ]
        },
        {
          "output_type": "stream",
          "name": "stdout",
          "text": [
            "Starting rpn model training on patch 3100_16376_16829_100\n",
            "(1, 100, 100, 3)\n",
            "(1, 50, 50, 12)\n"
          ]
        },
        {
          "output_type": "stream",
          "name": "stderr",
          "text": [
            "  0%|          | 0/4 [00:00<?, ?it/s]"
          ]
        },
        {
          "output_type": "stream",
          "name": "stdout",
          "text": [
            "Exception: 'NoneType' object is not iterable\n",
            "(100, 100)\n"
          ]
        },
        {
          "output_type": "stream",
          "name": "stderr",
          "text": [
            "100%|██████████| 4/4 [00:01<00:00,  2.79it/s]\n",
            "100%|██████████| 19/19 [00:00<00:00, 30650.68it/s]\n"
          ]
        },
        {
          "output_type": "stream",
          "name": "stdout",
          "text": [
            "Starting rpn model training on patch 1600_16426_16779_100\n",
            "(1, 100, 100, 3)\n",
            "(1, 50, 50, 12)\n"
          ]
        },
        {
          "output_type": "stream",
          "name": "stderr",
          "text": [
            "  0%|          | 0/4 [00:00<?, ?it/s]"
          ]
        },
        {
          "output_type": "stream",
          "name": "stdout",
          "text": [
            "Best IoU found in this run: 0.9999990000010001\n",
            "Exception: 'a' cannot be empty unless no samples are taken\n",
            "(100, 100)\n"
          ]
        },
        {
          "output_type": "stream",
          "name": "stderr",
          "text": [
            "100%|██████████| 4/4 [00:00<00:00,  4.05it/s]\n",
            "100%|██████████| 14/14 [00:00<00:00, 26214.40it/s]\n"
          ]
        },
        {
          "output_type": "stream",
          "name": "stdout",
          "text": [
            "Starting rpn model training on patch 100_16476_16729_100\n",
            "(1, 100, 100, 3)\n",
            "(1, 50, 50, 12)\n"
          ]
        },
        {
          "output_type": "stream",
          "name": "stderr",
          "text": [
            "  0%|          | 0/4 [00:00<?, ?it/s]"
          ]
        },
        {
          "output_type": "stream",
          "name": "stdout",
          "text": [
            "Best IoU found in this run: 0.9999990000010001\n",
            "Exception: 'a' cannot be empty unless no samples are taken\n",
            "(100, 100)\n"
          ]
        },
        {
          "output_type": "stream",
          "name": "stderr",
          "text": [
            "100%|██████████| 4/4 [00:01<00:00,  2.77it/s]\n",
            "100%|██████████| 19/19 [00:00<00:00, 43381.48it/s]\n"
          ]
        },
        {
          "output_type": "stream",
          "name": "stdout",
          "text": [
            "Starting rpn model training on patch 3150_16426_16829_100\n",
            "(1, 100, 100, 3)\n",
            "(1, 50, 50, 12)\n"
          ]
        },
        {
          "output_type": "stream",
          "name": "stderr",
          "text": [
            "  0%|          | 0/4 [00:00<?, ?it/s]"
          ]
        },
        {
          "output_type": "stream",
          "name": "stdout",
          "text": [
            "Best IoU found in this run: 0.9999990000010001\n",
            "Exception: 'a' cannot be empty unless no samples are taken\n",
            "(100, 100)\n"
          ]
        },
        {
          "output_type": "stream",
          "name": "stderr",
          "text": [
            "100%|██████████| 4/4 [00:00<00:00,  4.67it/s]\n",
            "100%|██████████| 12/12 [00:00<00:00, 38450.46it/s]\n"
          ]
        },
        {
          "output_type": "stream",
          "name": "stdout",
          "text": [
            "Starting rpn model training on patch 0_16376_16729_100\n",
            "(1, 100, 100, 3)\n",
            "(1, 50, 50, 12)\n",
            "Best IoU found in this run: 0.9999990000010001\n",
            "Starting detector model training on batch\n",
            " 1/10 [==>...........................] - ETA: 1:52 - rpn_cls: 4.0140 - rpn_regr: 0.5816 - detector_cls: 0.8549 - detector_regr: 0.0000e+00 - average number of objects: 2.0000"
          ]
        },
        {
          "output_type": "stream",
          "name": "stderr",
          "text": [
            "  0%|          | 0/4 [00:00<?, ?it/s]"
          ]
        },
        {
          "output_type": "stream",
          "name": "stdout",
          "text": [
            "(100, 100)\n"
          ]
        },
        {
          "output_type": "stream",
          "name": "stderr",
          "text": [
            "100%|██████████| 4/4 [00:01<00:00,  3.55it/s]\n",
            "100%|██████████| 15/15 [00:00<00:00, 43210.55it/s]\n"
          ]
        },
        {
          "output_type": "stream",
          "name": "stdout",
          "text": [
            "Starting rpn model training on patch 1550_16376_16779_100\n",
            "(1, 100, 100, 3)\n",
            "(1, 50, 50, 12)\n",
            "Best IoU found in this run: 0.9999990000010001\n",
            "Starting detector model training on batch\n",
            " 2/10 [=====>........................] - ETA: 19s - rpn_cls: 4.3530 - rpn_regr: 0.6111 - detector_cls: 0.8743 - detector_regr: 0.0000e+00 - average number of objects: 1.5000 "
          ]
        },
        {
          "output_type": "stream",
          "name": "stderr",
          "text": [
            "  0%|          | 0/4 [00:00<?, ?it/s]"
          ]
        },
        {
          "output_type": "stream",
          "name": "stdout",
          "text": [
            "(100, 100)\n"
          ]
        },
        {
          "output_type": "stream",
          "name": "stderr",
          "text": [
            "100%|██████████| 4/4 [00:01<00:00,  2.47it/s]\n",
            "100%|██████████| 20/20 [00:00<00:00, 40466.03it/s]\n"
          ]
        },
        {
          "output_type": "stream",
          "name": "stdout",
          "text": [
            "Starting rpn model training on patch 3100_16376_16829_100\n",
            "(1, 100, 100, 3)\n",
            "(1, 50, 50, 12)\n"
          ]
        },
        {
          "output_type": "stream",
          "name": "stderr",
          "text": [
            "  0%|          | 0/4 [00:00<?, ?it/s]"
          ]
        },
        {
          "output_type": "stream",
          "name": "stdout",
          "text": [
            "Best IoU found in this run: 0.9999990000010001\n",
            "Exception: 'a' cannot be empty unless no samples are taken\n",
            "(100, 100)\n"
          ]
        },
        {
          "output_type": "stream",
          "name": "stderr",
          "text": [
            "100%|██████████| 4/4 [00:01<00:00,  2.63it/s]\n",
            "100%|██████████| 19/19 [00:00<00:00, 36979.94it/s]\n"
          ]
        },
        {
          "output_type": "stream",
          "name": "stdout",
          "text": [
            "Starting rpn model training on patch 1600_16426_16779_100\n",
            "(1, 100, 100, 3)\n",
            "(1, 50, 50, 12)\n",
            "Best IoU found in this run: 0.9999990000010001\n",
            "Starting detector model training on batch\n",
            " 3/10 [========>.....................] - ETA: 28s - rpn_cls: 4.3312 - rpn_regr: 12.3907 - detector_cls: 1.6912 - detector_regr: 0.0000e+00 - average number of objects: 1.3333"
          ]
        },
        {
          "output_type": "stream",
          "name": "stderr",
          "text": [
            "  0%|          | 0/4 [00:00<?, ?it/s]"
          ]
        },
        {
          "output_type": "stream",
          "name": "stdout",
          "text": [
            "(100, 100)\n"
          ]
        },
        {
          "output_type": "stream",
          "name": "stderr",
          "text": [
            "100%|██████████| 4/4 [00:01<00:00,  3.76it/s]\n",
            "100%|██████████| 14/14 [00:00<00:00, 10385.61it/s]\n"
          ]
        },
        {
          "output_type": "stream",
          "name": "stdout",
          "text": [
            "Starting rpn model training on patch 100_16476_16729_100\n",
            "(1, 100, 100, 3)\n",
            "(1, 50, 50, 12)\n"
          ]
        },
        {
          "output_type": "stream",
          "name": "stderr",
          "text": [
            "  0%|          | 0/4 [00:00<?, ?it/s]"
          ]
        },
        {
          "output_type": "stream",
          "name": "stdout",
          "text": [
            "Best IoU found in this run: 0.9999990000010001\n",
            "Exception: 'a' cannot be empty unless no samples are taken\n",
            "Average number of overlapping bounding boxes from RPN = 2.3 for 10 previous iterations\n",
            "(100, 100)\n"
          ]
        },
        {
          "output_type": "stream",
          "name": "stderr",
          "text": [
            "100%|██████████| 4/4 [00:01<00:00,  2.65it/s]\n",
            "100%|██████████| 19/19 [00:00<00:00, 43571.23it/s]\n"
          ]
        },
        {
          "output_type": "stream",
          "name": "stdout",
          "text": [
            "Starting rpn model training on patch 3150_16426_16829_100\n",
            "(1, 100, 100, 3)\n",
            "(1, 50, 50, 12)\n"
          ]
        },
        {
          "output_type": "stream",
          "name": "stderr",
          "text": [
            "  0%|          | 0/4 [00:00<?, ?it/s]"
          ]
        },
        {
          "output_type": "stream",
          "name": "stdout",
          "text": [
            "Exception: 'NoneType' object is not iterable\n",
            "(100, 100)\n"
          ]
        },
        {
          "output_type": "stream",
          "name": "stderr",
          "text": [
            "100%|██████████| 4/4 [00:00<00:00,  4.65it/s]\n",
            "100%|██████████| 12/12 [00:00<00:00, 51675.20it/s]\n"
          ]
        },
        {
          "output_type": "stream",
          "name": "stdout",
          "text": [
            "Starting rpn model training on patch 0_16376_16729_100\n",
            "(1, 100, 100, 3)\n",
            "(1, 50, 50, 12)\n",
            "Best IoU found in this run: 0.9999990000010001\n",
            "Starting detector model training on batch\n",
            " 4/10 [===========>..................] - ETA: 31s - rpn_cls: 4.2188 - rpn_regr: 16.0765 - detector_cls: 1.9392 - detector_regr: 0.0000e+00 - average number of objects: 1.5000"
          ]
        },
        {
          "output_type": "stream",
          "name": "stderr",
          "text": [
            "  0%|          | 0/4 [00:00<?, ?it/s]"
          ]
        },
        {
          "output_type": "stream",
          "name": "stdout",
          "text": [
            "(100, 100)\n"
          ]
        },
        {
          "output_type": "stream",
          "name": "stderr",
          "text": [
            "100%|██████████| 4/4 [00:01<00:00,  3.59it/s]\n",
            "100%|██████████| 15/15 [00:00<00:00, 21161.98it/s]\n"
          ]
        },
        {
          "output_type": "stream",
          "name": "stdout",
          "text": [
            "Starting rpn model training on patch 1550_16376_16779_100\n",
            "(1, 100, 100, 3)\n",
            "(1, 50, 50, 12)\n",
            "Best IoU found in this run: 0.9999990000010001\n",
            "Starting detector model training on batch\n",
            " 5/10 [==============>...............] - ETA: 22s - rpn_cls: 4.0713 - rpn_regr: 17.6142 - detector_cls: 2.1526 - detector_regr: 0.0000e+00 - average number of objects: 1.6000"
          ]
        },
        {
          "output_type": "stream",
          "name": "stderr",
          "text": [
            "  0%|          | 0/4 [00:00<?, ?it/s]"
          ]
        },
        {
          "output_type": "stream",
          "name": "stdout",
          "text": [
            "(100, 100)\n"
          ]
        },
        {
          "output_type": "stream",
          "name": "stderr",
          "text": [
            "100%|██████████| 4/4 [00:01<00:00,  2.56it/s]\n",
            "100%|██████████| 20/20 [00:00<00:00, 36361.54it/s]\n"
          ]
        },
        {
          "output_type": "stream",
          "name": "stdout",
          "text": [
            "Starting rpn model training on patch 3100_16376_16829_100\n",
            "(1, 100, 100, 3)\n",
            "(1, 50, 50, 12)\n"
          ]
        },
        {
          "output_type": "stream",
          "name": "stderr",
          "text": [
            "  0%|          | 0/4 [00:00<?, ?it/s]"
          ]
        },
        {
          "output_type": "stream",
          "name": "stdout",
          "text": [
            "Best IoU found in this run: 0.9999990000010001\n",
            "Exception: 'a' cannot be empty unless no samples are taken\n",
            "(100, 100)\n"
          ]
        },
        {
          "output_type": "stream",
          "name": "stderr",
          "text": [
            "100%|██████████| 4/4 [00:01<00:00,  2.46it/s]\n",
            "100%|██████████| 19/19 [00:00<00:00, 28779.98it/s]\n"
          ]
        },
        {
          "output_type": "stream",
          "name": "stdout",
          "text": [
            "Starting rpn model training on patch 1600_16426_16779_100\n",
            "(1, 100, 100, 3)\n",
            "(1, 50, 50, 12)\n",
            "Best IoU found in this run: 0.9999990000010001\n",
            "Starting detector model training on batch\n",
            " 6/10 [=================>............] - ETA: 19s - rpn_cls: 3.9475 - rpn_regr: 17.9953 - detector_cls: 2.2312 - detector_regr: 0.0000e+00 - average number of objects: 1.6667"
          ]
        },
        {
          "output_type": "stream",
          "name": "stderr",
          "text": [
            "  0%|          | 0/4 [00:00<?, ?it/s]"
          ]
        },
        {
          "output_type": "stream",
          "name": "stdout",
          "text": [
            "(100, 100)\n"
          ]
        },
        {
          "output_type": "stream",
          "name": "stderr",
          "text": [
            "100%|██████████| 4/4 [00:01<00:00,  3.47it/s]\n",
            "100%|██████████| 14/14 [00:00<00:00, 38990.87it/s]\n"
          ]
        },
        {
          "output_type": "stream",
          "name": "stdout",
          "text": [
            "Starting rpn model training on patch 100_16476_16729_100\n",
            "(1, 100, 100, 3)\n",
            "(1, 50, 50, 12)\n"
          ]
        },
        {
          "output_type": "stream",
          "name": "stderr",
          "text": [
            "  0%|          | 0/4 [00:00<?, ?it/s]"
          ]
        },
        {
          "output_type": "stream",
          "name": "stdout",
          "text": [
            "Best IoU found in this run: 0.9999990000010001\n",
            "Exception: 'a' cannot be empty unless no samples are taken\n",
            "(100, 100)\n"
          ]
        },
        {
          "output_type": "stream",
          "name": "stderr",
          "text": [
            "100%|██████████| 4/4 [00:01<00:00,  2.75it/s]\n",
            "100%|██████████| 19/19 [00:00<00:00, 57414.82it/s]\n"
          ]
        },
        {
          "output_type": "stream",
          "name": "stdout",
          "text": [
            "Starting rpn model training on patch 3150_16426_16829_100\n",
            "(1, 100, 100, 3)\n",
            "(1, 50, 50, 12)\n"
          ]
        },
        {
          "output_type": "stream",
          "name": "stderr",
          "text": [
            "  0%|          | 0/4 [00:00<?, ?it/s]"
          ]
        },
        {
          "output_type": "stream",
          "name": "stdout",
          "text": [
            "Best IoU found in this run: 0.9999990000010001\n",
            "Exception: 'a' cannot be empty unless no samples are taken\n",
            "(100, 100)\n"
          ]
        },
        {
          "output_type": "stream",
          "name": "stderr",
          "text": [
            "100%|██████████| 4/4 [00:00<00:00,  4.24it/s]\n",
            "100%|██████████| 12/12 [00:00<00:00, 20798.20it/s]\n"
          ]
        },
        {
          "output_type": "stream",
          "name": "stdout",
          "text": [
            "Starting rpn model training on patch 0_16376_16729_100\n",
            "(1, 100, 100, 3)\n",
            "(1, 50, 50, 12)\n",
            "Best IoU found in this run: 0.9999990000010001\n",
            "Starting detector model training on batch\n",
            " 7/10 [====================>.........] - ETA: 15s - rpn_cls: 3.8761 - rpn_regr: 17.8770 - detector_cls: 2.2512 - detector_regr: 0.0000e+00 - average number of objects: 1.7143"
          ]
        },
        {
          "output_type": "stream",
          "name": "stderr",
          "text": [
            "  0%|          | 0/4 [00:00<?, ?it/s]"
          ]
        },
        {
          "output_type": "stream",
          "name": "stdout",
          "text": [
            "(100, 100)\n"
          ]
        },
        {
          "output_type": "stream",
          "name": "stderr",
          "text": [
            "100%|██████████| 4/4 [00:01<00:00,  3.53it/s]\n",
            "100%|██████████| 15/15 [00:00<00:00, 13611.98it/s]\n"
          ]
        },
        {
          "output_type": "stream",
          "name": "stdout",
          "text": [
            "Starting rpn model training on patch 1550_16376_16779_100\n",
            "(1, 100, 100, 3)\n",
            "(1, 50, 50, 12)\n",
            "Best IoU found in this run: 0.9999990000010001\n",
            "Starting detector model training on batch\n",
            " 8/10 [=======================>......] - ETA: 9s - rpn_cls: 3.8285 - rpn_regr: 17.5313 - detector_cls: 2.2397 - detector_regr: 0.0000e+00 - average number of objects: 1.7500 "
          ]
        },
        {
          "output_type": "stream",
          "name": "stderr",
          "text": [
            "  0%|          | 0/4 [00:00<?, ?it/s]"
          ]
        },
        {
          "output_type": "stream",
          "name": "stdout",
          "text": [
            "(100, 100)\n"
          ]
        },
        {
          "output_type": "stream",
          "name": "stderr",
          "text": [
            "100%|██████████| 4/4 [00:01<00:00,  2.82it/s]\n",
            "100%|██████████| 20/20 [00:00<00:00, 54935.22it/s]\n"
          ]
        },
        {
          "output_type": "stream",
          "name": "stdout",
          "text": [
            "Starting rpn model training on patch 3100_16376_16829_100\n",
            "(1, 100, 100, 3)\n",
            "(1, 50, 50, 12)\n"
          ]
        },
        {
          "output_type": "stream",
          "name": "stderr",
          "text": [
            "  0%|          | 0/4 [00:00<?, ?it/s]"
          ]
        },
        {
          "output_type": "stream",
          "name": "stdout",
          "text": [
            "Exception: 'NoneType' object is not iterable\n",
            "(100, 100)\n"
          ]
        },
        {
          "output_type": "stream",
          "name": "stderr",
          "text": [
            "100%|██████████| 4/4 [00:01<00:00,  3.08it/s]\n",
            "100%|██████████| 19/19 [00:00<00:00, 34739.22it/s]\n"
          ]
        },
        {
          "output_type": "stream",
          "name": "stdout",
          "text": [
            "Starting rpn model training on patch 1600_16426_16779_100\n",
            "(1, 100, 100, 3)\n",
            "(1, 50, 50, 12)\n",
            "Best IoU found in this run: 0.9999990000010001\n",
            "Starting detector model training on batch\n",
            " 9/10 [==========================>...] - ETA: 4s - rpn_cls: 3.7780 - rpn_regr: 17.0828 - detector_cls: 2.2136 - detector_regr: 0.0000e+00 - average number of objects: 1.7778"
          ]
        },
        {
          "output_type": "stream",
          "name": "stderr",
          "text": [
            "  0%|          | 0/4 [00:00<?, ?it/s]"
          ]
        },
        {
          "output_type": "stream",
          "name": "stdout",
          "text": [
            "(100, 100)\n"
          ]
        },
        {
          "output_type": "stream",
          "name": "stderr",
          "text": [
            "100%|██████████| 4/4 [00:01<00:00,  3.81it/s]\n",
            "100%|██████████| 14/14 [00:00<00:00, 17174.69it/s]\n"
          ]
        },
        {
          "output_type": "stream",
          "name": "stdout",
          "text": [
            "Starting rpn model training on patch 100_16476_16729_100\n",
            "(1, 100, 100, 3)\n",
            "(1, 50, 50, 12)\n"
          ]
        },
        {
          "output_type": "stream",
          "name": "stderr",
          "text": [
            "  0%|          | 0/4 [00:00<?, ?it/s]"
          ]
        },
        {
          "output_type": "stream",
          "name": "stdout",
          "text": [
            "Best IoU found in this run: 0.9999990000010001\n",
            "Exception: 'a' cannot be empty unless no samples are taken\n",
            "Average number of overlapping bounding boxes from RPN = 2.5 for 10 previous iterations\n",
            "(100, 100)\n"
          ]
        },
        {
          "output_type": "stream",
          "name": "stderr",
          "text": [
            "100%|██████████| 4/4 [00:01<00:00,  3.07it/s]\n",
            "100%|██████████| 19/19 [00:00<00:00, 52810.98it/s]\n"
          ]
        },
        {
          "output_type": "stream",
          "name": "stdout",
          "text": [
            "Starting rpn model training on patch 3150_16426_16829_100\n",
            "(1, 100, 100, 3)\n",
            "(1, 50, 50, 12)\n"
          ]
        },
        {
          "output_type": "stream",
          "name": "stderr",
          "text": [
            "  0%|          | 0/4 [00:00<?, ?it/s]"
          ]
        },
        {
          "output_type": "stream",
          "name": "stdout",
          "text": [
            "Best IoU found in this run: 0.9999990000010001\n",
            "Exception: 'a' cannot be empty unless no samples are taken\n",
            "(100, 100)\n"
          ]
        },
        {
          "output_type": "stream",
          "name": "stderr",
          "text": [
            "100%|██████████| 4/4 [00:00<00:00,  4.32it/s]\n",
            "100%|██████████| 12/12 [00:00<00:00, 26324.08it/s]\n"
          ]
        },
        {
          "output_type": "stream",
          "name": "stdout",
          "text": [
            "Starting rpn model training on patch 0_16376_16729_100\n",
            "(1, 100, 100, 3)\n",
            "(1, 50, 50, 12)\n",
            "Best IoU found in this run: 0.9999990000010001\n",
            "Starting detector model training on batch\n",
            "10/10 [==============================] - 59s 5s/step - rpn_cls: 3.7438 - rpn_regr: 16.5932 - detector_cls: 2.1812 - detector_regr: 0.0000e+00 - average number of objects: 1.8000\n"
          ]
        },
        {
          "output_type": "stream",
          "name": "stderr",
          "text": [
            "  0%|          | 0/4 [00:00<?, ?it/s]"
          ]
        },
        {
          "output_type": "stream",
          "name": "stdout",
          "text": [
            "Mean number of bounding boxes from RPN overlapping ground truth boxes: 2.5\n",
            "Classifier accuracy for bounding boxes from RPN: 0.475\n",
            "Loss RPN classifier: 3.4352326512336733\n",
            "Loss RPN regression: 12.187141591310501\n",
            "Loss Detector classifier: 1.88974649310112\n",
            "Loss Detector regression: 0.0\n",
            "Total loss: 17.512120735645297\n",
            "Elapsed time: 58.91301918029785\n",
            "Epoch 4/10\n",
            "(100, 100)\n"
          ]
        },
        {
          "output_type": "stream",
          "name": "stderr",
          "text": [
            "100%|██████████| 4/4 [00:01<00:00,  3.66it/s]\n",
            "100%|██████████| 15/15 [00:00<00:00, 13981.01it/s]\n"
          ]
        },
        {
          "output_type": "stream",
          "name": "stdout",
          "text": [
            "Starting rpn model training on patch 1550_16376_16779_100\n",
            "(1, 100, 100, 3)\n",
            "(1, 50, 50, 12)\n",
            "Best IoU found in this run: 0.9999990000010001\n",
            "Starting detector model training on batch\n",
            " 1/10 [==>...........................] - ETA: 22s - rpn_cls: 2.8335 - rpn_regr: 0.6886 - detector_cls: 1.2725 - detector_regr: 0.0000e+00 - average number of objects: 2.0000"
          ]
        },
        {
          "output_type": "stream",
          "name": "stderr",
          "text": [
            "  0%|          | 0/4 [00:00<?, ?it/s]"
          ]
        },
        {
          "output_type": "stream",
          "name": "stdout",
          "text": [
            "(100, 100)\n"
          ]
        },
        {
          "output_type": "stream",
          "name": "stderr",
          "text": [
            "100%|██████████| 4/4 [00:01<00:00,  2.73it/s]\n",
            "100%|██████████| 20/20 [00:00<00:00, 13046.05it/s]\n"
          ]
        },
        {
          "output_type": "stream",
          "name": "stdout",
          "text": [
            "Starting rpn model training on patch 3100_16376_16829_100\n",
            "(1, 100, 100, 3)\n",
            "(1, 50, 50, 12)\n"
          ]
        },
        {
          "output_type": "stream",
          "name": "stderr",
          "text": [
            "  0%|          | 0/4 [00:00<?, ?it/s]"
          ]
        },
        {
          "output_type": "stream",
          "name": "stdout",
          "text": [
            "Exception: 'NoneType' object is not iterable\n",
            "(100, 100)\n"
          ]
        },
        {
          "output_type": "stream",
          "name": "stderr",
          "text": [
            "100%|██████████| 4/4 [00:01<00:00,  3.01it/s]\n",
            "100%|██████████| 19/19 [00:00<00:00, 65054.51it/s]\n"
          ]
        },
        {
          "output_type": "stream",
          "name": "stdout",
          "text": [
            "Starting rpn model training on patch 1600_16426_16779_100\n",
            "(1, 100, 100, 3)\n",
            "(1, 50, 50, 12)\n",
            "Best IoU found in this run: 0.9999990000010001\n",
            "Starting detector model training on batch\n",
            " 2/10 [=====>........................] - ETA: 42s - rpn_cls: 2.9226 - rpn_regr: 0.6502 - detector_cls: 1.1660 - detector_regr: 0.0000e+00 - average number of objects: 2.0000"
          ]
        },
        {
          "output_type": "stream",
          "name": "stderr",
          "text": [
            "  0%|          | 0/4 [00:00<?, ?it/s]"
          ]
        },
        {
          "output_type": "stream",
          "name": "stdout",
          "text": [
            "(100, 100)\n"
          ]
        },
        {
          "output_type": "stream",
          "name": "stderr",
          "text": [
            "100%|██████████| 4/4 [00:01<00:00,  3.67it/s]\n",
            "100%|██████████| 14/14 [00:00<00:00, 44417.74it/s]\n"
          ]
        },
        {
          "output_type": "stream",
          "name": "stdout",
          "text": [
            "Starting rpn model training on patch 100_16476_16729_100\n",
            "(1, 100, 100, 3)\n",
            "(1, 50, 50, 12)\n"
          ]
        },
        {
          "output_type": "stream",
          "name": "stderr",
          "text": [
            "  0%|          | 0/4 [00:00<?, ?it/s]"
          ]
        },
        {
          "output_type": "stream",
          "name": "stdout",
          "text": [
            "Best IoU found in this run: 0.9999990000010001\n",
            "Exception: 'a' cannot be empty unless no samples are taken\n",
            "(100, 100)\n"
          ]
        },
        {
          "output_type": "stream",
          "name": "stderr",
          "text": [
            "100%|██████████| 4/4 [00:01<00:00,  2.68it/s]\n",
            "100%|██████████| 19/19 [00:00<00:00, 38647.81it/s]\n"
          ]
        },
        {
          "output_type": "stream",
          "name": "stdout",
          "text": [
            "Starting rpn model training on patch 3150_16426_16829_100\n",
            "(1, 100, 100, 3)\n",
            "(1, 50, 50, 12)\n"
          ]
        },
        {
          "output_type": "stream",
          "name": "stderr",
          "text": [
            "  0%|          | 0/4 [00:00<?, ?it/s]"
          ]
        },
        {
          "output_type": "stream",
          "name": "stdout",
          "text": [
            "Exception: 'NoneType' object is not iterable\n",
            "(100, 100)\n"
          ]
        },
        {
          "output_type": "stream",
          "name": "stderr",
          "text": [
            "100%|██████████| 4/4 [00:00<00:00,  4.36it/s]\n",
            "100%|██████████| 12/12 [00:00<00:00, 35074.32it/s]\n"
          ]
        },
        {
          "output_type": "stream",
          "name": "stdout",
          "text": [
            "Starting rpn model training on patch 0_16376_16729_100\n",
            "(1, 100, 100, 3)\n",
            "(1, 50, 50, 12)\n",
            "Best IoU found in this run: 0.9999990000010001\n",
            "Starting detector model training on batch\n",
            " 3/10 [========>.....................] - ETA: 45s - rpn_cls: 2.8993 - rpn_regr: 0.6285 - detector_cls: 1.1234 - detector_regr: 0.0000e+00 - average number of objects: 2.0000(100, 100)\n"
          ]
        },
        {
          "output_type": "stream",
          "name": "stderr",
          "text": [
            "100%|██████████| 4/4 [00:01<00:00,  3.15it/s]\n",
            "100%|██████████| 15/15 [00:00<00:00, 26602.35it/s]\n"
          ]
        },
        {
          "output_type": "stream",
          "name": "stdout",
          "text": [
            "Starting rpn model training on patch 1550_16376_16779_100\n",
            "(1, 100, 100, 3)\n",
            "(1, 50, 50, 12)\n",
            "Best IoU found in this run: 0.9999990000010001\n",
            "Starting detector model training on batch\n",
            " 4/10 [===========>..................] - ETA: 31s - rpn_cls: 2.9277 - rpn_regr: 0.6227 - detector_cls: 1.0980 - detector_regr: 0.0000e+00 - average number of objects: 1.7500"
          ]
        },
        {
          "output_type": "stream",
          "name": "stderr",
          "text": [
            "  0%|          | 0/4 [00:00<?, ?it/s]"
          ]
        },
        {
          "output_type": "stream",
          "name": "stdout",
          "text": [
            "(100, 100)\n"
          ]
        },
        {
          "output_type": "stream",
          "name": "stderr",
          "text": [
            "100%|██████████| 4/4 [00:01<00:00,  2.41it/s]\n",
            "100%|██████████| 20/20 [00:00<00:00, 13123.60it/s]\n"
          ]
        },
        {
          "output_type": "stream",
          "name": "stdout",
          "text": [
            "Starting rpn model training on patch 3100_16376_16829_100\n",
            "(1, 100, 100, 3)\n",
            "(1, 50, 50, 12)\n"
          ]
        },
        {
          "output_type": "stream",
          "name": "stderr",
          "text": [
            "  0%|          | 0/4 [00:00<?, ?it/s]"
          ]
        },
        {
          "output_type": "stream",
          "name": "stdout",
          "text": [
            "Best IoU found in this run: 0.9999990000010001\n",
            "Exception: 'a' cannot be empty unless no samples are taken\n",
            "(100, 100)\n"
          ]
        },
        {
          "output_type": "stream",
          "name": "stderr",
          "text": [
            "100%|██████████| 4/4 [00:01<00:00,  2.95it/s]\n",
            "100%|██████████| 19/19 [00:00<00:00, 44896.78it/s]\n"
          ]
        },
        {
          "output_type": "stream",
          "name": "stdout",
          "text": [
            "Starting rpn model training on patch 1600_16426_16779_100\n",
            "(1, 100, 100, 3)\n",
            "(1, 50, 50, 12)\n",
            "Best IoU found in this run: 0.9999990000010001\n",
            "Starting detector model training on batch\n",
            " 5/10 [==============>...............] - ETA: 26s - rpn_cls: 2.9670 - rpn_regr: 0.6210 - detector_cls: 1.0550 - detector_regr: 0.0000e+00 - average number of objects: 1.6000"
          ]
        },
        {
          "output_type": "stream",
          "name": "stderr",
          "text": [
            "  0%|          | 0/4 [00:00<?, ?it/s]"
          ]
        },
        {
          "output_type": "stream",
          "name": "stdout",
          "text": [
            "(100, 100)\n"
          ]
        },
        {
          "output_type": "stream",
          "name": "stderr",
          "text": [
            "100%|██████████| 4/4 [00:01<00:00,  3.77it/s]\n",
            "100%|██████████| 14/14 [00:00<00:00, 12701.76it/s]\n"
          ]
        },
        {
          "output_type": "stream",
          "name": "stdout",
          "text": [
            "Starting rpn model training on patch 100_16476_16729_100\n",
            "(1, 100, 100, 3)\n",
            "(1, 50, 50, 12)\n"
          ]
        },
        {
          "output_type": "stream",
          "name": "stderr",
          "text": [
            "  0%|          | 0/4 [00:00<?, ?it/s]"
          ]
        },
        {
          "output_type": "stream",
          "name": "stdout",
          "text": [
            "Exception: 'NoneType' object is not iterable\n",
            "(100, 100)\n"
          ]
        },
        {
          "output_type": "stream",
          "name": "stderr",
          "text": [
            "100%|██████████| 4/4 [00:01<00:00,  3.06it/s]\n",
            "100%|██████████| 19/19 [00:00<00:00, 56559.10it/s]\n"
          ]
        },
        {
          "output_type": "stream",
          "name": "stdout",
          "text": [
            "Starting rpn model training on patch 3150_16426_16829_100\n",
            "(1, 100, 100, 3)\n",
            "(1, 50, 50, 12)\n"
          ]
        },
        {
          "output_type": "stream",
          "name": "stderr",
          "text": [
            "  0%|          | 0/4 [00:00<?, ?it/s]"
          ]
        },
        {
          "output_type": "stream",
          "name": "stdout",
          "text": [
            "Exception: 'NoneType' object is not iterable\n",
            "(100, 100)\n"
          ]
        },
        {
          "output_type": "stream",
          "name": "stderr",
          "text": [
            "100%|██████████| 4/4 [00:00<00:00,  4.84it/s]\n",
            "100%|██████████| 12/12 [00:00<00:00, 25053.09it/s]\n"
          ]
        },
        {
          "output_type": "stream",
          "name": "stdout",
          "text": [
            "Starting rpn model training on patch 0_16376_16729_100\n",
            "(1, 100, 100, 3)\n",
            "(1, 50, 50, 12)\n",
            "Best IoU found in this run: 0.9999990000010001\n",
            "Starting detector model training on batch\n",
            " 6/10 [=================>............] - ETA: 22s - rpn_cls: 2.9753 - rpn_regr: 0.6198 - detector_cls: 1.0345 - detector_regr: 0.0000e+00 - average number of objects: 1.6667"
          ]
        },
        {
          "output_type": "stream",
          "name": "stderr",
          "text": [
            "  0%|          | 0/4 [00:00<?, ?it/s]"
          ]
        },
        {
          "output_type": "stream",
          "name": "stdout",
          "text": [
            "Average number of overlapping bounding boxes from RPN = 2.4 for 10 previous iterations\n",
            "(100, 100)\n"
          ]
        },
        {
          "output_type": "stream",
          "name": "stderr",
          "text": [
            "100%|██████████| 4/4 [00:01<00:00,  3.27it/s]\n",
            "100%|██████████| 15/15 [00:00<00:00, 10752.79it/s]\n"
          ]
        },
        {
          "output_type": "stream",
          "name": "stdout",
          "text": [
            "Starting rpn model training on patch 1550_16376_16779_100\n",
            "(1, 100, 100, 3)\n",
            "(1, 50, 50, 12)\n",
            "Best IoU found in this run: 0.9999990000010001\n",
            "Starting detector model training on batch\n",
            " 7/10 [====================>.........] - ETA: 15s - rpn_cls: 2.9958 - rpn_regr: 0.6200 - detector_cls: 1.0321 - detector_regr: 0.0000e+00 - average number of objects: 1.7143"
          ]
        },
        {
          "output_type": "stream",
          "name": "stderr",
          "text": [
            "  0%|          | 0/4 [00:00<?, ?it/s]"
          ]
        },
        {
          "output_type": "stream",
          "name": "stdout",
          "text": [
            "(100, 100)\n"
          ]
        },
        {
          "output_type": "stream",
          "name": "stderr",
          "text": [
            "100%|██████████| 4/4 [00:01<00:00,  2.39it/s]\n",
            "100%|██████████| 20/20 [00:00<00:00, 9004.52it/s]\n"
          ]
        },
        {
          "output_type": "stream",
          "name": "stdout",
          "text": [
            "Starting rpn model training on patch 3100_16376_16829_100\n",
            "(1, 100, 100, 3)\n",
            "(1, 50, 50, 12)\n"
          ]
        },
        {
          "output_type": "stream",
          "name": "stderr",
          "text": [
            "  0%|          | 0/4 [00:00<?, ?it/s]"
          ]
        },
        {
          "output_type": "stream",
          "name": "stdout",
          "text": [
            "Best IoU found in this run: 0.9999990000010001\n",
            "Exception: 'a' cannot be empty unless no samples are taken\n",
            "(100, 100)\n"
          ]
        },
        {
          "output_type": "stream",
          "name": "stderr",
          "text": [
            "100%|██████████| 4/4 [00:01<00:00,  2.44it/s]\n",
            "100%|██████████| 19/19 [00:00<00:00, 50247.02it/s]\n"
          ]
        },
        {
          "output_type": "stream",
          "name": "stdout",
          "text": [
            "Starting rpn model training on patch 1600_16426_16779_100\n",
            "(1, 100, 100, 3)\n",
            "(1, 50, 50, 12)\n",
            "Best IoU found in this run: 0.9999990000010001\n",
            "Starting detector model training on batch\n",
            " 8/10 [=======================>......] - ETA: 10s - rpn_cls: 3.0300 - rpn_regr: 0.6207 - detector_cls: 1.0244 - detector_regr: 0.0000e+00 - average number of objects: 1.6250"
          ]
        },
        {
          "output_type": "stream",
          "name": "stderr",
          "text": [
            "  0%|          | 0/4 [00:00<?, ?it/s]"
          ]
        },
        {
          "output_type": "stream",
          "name": "stdout",
          "text": [
            "(100, 100)\n"
          ]
        },
        {
          "output_type": "stream",
          "name": "stderr",
          "text": [
            "100%|██████████| 4/4 [00:01<00:00,  3.56it/s]\n",
            "100%|██████████| 14/14 [00:00<00:00, 8967.66it/s]\n"
          ]
        },
        {
          "output_type": "stream",
          "name": "stdout",
          "text": [
            "Starting rpn model training on patch 100_16476_16729_100\n",
            "(1, 100, 100, 3)\n",
            "(1, 50, 50, 12)\n"
          ]
        },
        {
          "output_type": "stream",
          "name": "stderr",
          "text": [
            "  0%|          | 0/4 [00:00<?, ?it/s]"
          ]
        },
        {
          "output_type": "stream",
          "name": "stdout",
          "text": [
            "Exception: 'NoneType' object is not iterable\n",
            "(100, 100)\n"
          ]
        },
        {
          "output_type": "stream",
          "name": "stderr",
          "text": [
            "100%|██████████| 4/4 [00:01<00:00,  2.83it/s]\n",
            "100%|██████████| 19/19 [00:00<00:00, 25815.28it/s]\n"
          ]
        },
        {
          "output_type": "stream",
          "name": "stdout",
          "text": [
            "Starting rpn model training on patch 3150_16426_16829_100\n",
            "(1, 100, 100, 3)\n",
            "(1, 50, 50, 12)\n"
          ]
        },
        {
          "output_type": "stream",
          "name": "stderr",
          "text": [
            "  0%|          | 0/4 [00:00<?, ?it/s]"
          ]
        },
        {
          "output_type": "stream",
          "name": "stdout",
          "text": [
            "Best IoU found in this run: 0.9999990000010001\n",
            "Exception: 'a' cannot be empty unless no samples are taken\n",
            "(100, 100)\n"
          ]
        },
        {
          "output_type": "stream",
          "name": "stderr",
          "text": [
            "100%|██████████| 4/4 [00:00<00:00,  4.28it/s]\n",
            "100%|██████████| 12/12 [00:00<00:00, 23130.35it/s]\n"
          ]
        },
        {
          "output_type": "stream",
          "name": "stdout",
          "text": [
            "Starting rpn model training on patch 0_16376_16729_100\n",
            "(1, 100, 100, 3)\n",
            "(1, 50, 50, 12)\n",
            "Best IoU found in this run: 0.9999990000010001\n",
            "Starting detector model training on batch\n",
            " 9/10 [==========================>...] - ETA: 5s - rpn_cls: 3.0317 - rpn_regr: 0.6204 - detector_cls: 1.0186 - detector_regr: 0.0000e+00 - average number of objects: 1.6667 "
          ]
        },
        {
          "output_type": "stream",
          "name": "stderr",
          "text": [
            "  0%|          | 0/4 [00:00<?, ?it/s]"
          ]
        },
        {
          "output_type": "stream",
          "name": "stdout",
          "text": [
            "(100, 100)\n"
          ]
        },
        {
          "output_type": "stream",
          "name": "stderr",
          "text": [
            "100%|██████████| 4/4 [00:01<00:00,  3.32it/s]\n",
            "100%|██████████| 15/15 [00:00<00:00, 74987.56it/s]\n"
          ]
        },
        {
          "output_type": "stream",
          "name": "stdout",
          "text": [
            "Starting rpn model training on patch 1550_16376_16779_100\n",
            "(1, 100, 100, 3)\n",
            "(1, 50, 50, 12)\n",
            "Best IoU found in this run: 0.9999990000010001\n",
            "Starting detector model training on batch\n",
            "10/10 [==============================] - 50s 5s/step - rpn_cls: 3.0343 - rpn_regr: 0.6184 - detector_cls: 1.0143 - detector_regr: 0.0000e+00 - average number of objects: 1.7000\n",
            "Mean number of bounding boxes from RPN overlapping ground truth boxes: 2.2857142857142856\n",
            "Classifier accuracy for bounding boxes from RPN: 0.45\n",
            "Loss RPN classifier: 3.058420789241791\n",
            "Loss RPN regression: 0.6009146362543106\n",
            "Loss Detector classifier: 0.9754280000925064\n",
            "Loss Detector regression: 0.0\n",
            "Total loss: 4.634763425588607\n",
            "Elapsed time: 50.06923174858093\n",
            "Total loss decreased from 6.876255446672439 to 4.634763425588607, saving weights\n"
          ]
        },
        {
          "output_type": "stream",
          "name": "stderr",
          "text": [
            "  0%|          | 0/4 [00:00<?, ?it/s]"
          ]
        },
        {
          "output_type": "stream",
          "name": "stdout",
          "text": [
            "Epoch 5/10\n",
            "(100, 100)\n"
          ]
        },
        {
          "output_type": "stream",
          "name": "stderr",
          "text": [
            "100%|██████████| 4/4 [00:01<00:00,  2.53it/s]\n",
            "100%|██████████| 20/20 [00:00<00:00, 32729.64it/s]\n"
          ]
        },
        {
          "output_type": "stream",
          "name": "stdout",
          "text": [
            "Starting rpn model training on patch 3100_16376_16829_100\n",
            "(1, 100, 100, 3)\n",
            "(1, 50, 50, 12)\n"
          ]
        },
        {
          "output_type": "stream",
          "name": "stderr",
          "text": [
            "  0%|          | 0/4 [00:00<?, ?it/s]"
          ]
        },
        {
          "output_type": "stream",
          "name": "stdout",
          "text": [
            "Best IoU found in this run: 0.9999990000010001\n",
            "Exception: 'a' cannot be empty unless no samples are taken\n",
            "(100, 100)\n"
          ]
        },
        {
          "output_type": "stream",
          "name": "stderr",
          "text": [
            "100%|██████████| 4/4 [00:01<00:00,  2.69it/s]\n",
            "100%|██████████| 19/19 [00:00<00:00, 31800.39it/s]\n"
          ]
        },
        {
          "output_type": "stream",
          "name": "stdout",
          "text": [
            "Starting rpn model training on patch 1600_16426_16779_100\n",
            "(1, 100, 100, 3)\n",
            "(1, 50, 50, 12)\n",
            "Best IoU found in this run: 0.9999990000010001\n",
            "Starting detector model training on batch\n",
            " 1/10 [==>...........................] - ETA: 52s - rpn_cls: 3.5503 - rpn_regr: 0.5271 - detector_cls: 0.3852 - detector_regr: 0.0000e+00 - average number of objects: 2.0000"
          ]
        },
        {
          "output_type": "stream",
          "name": "stderr",
          "text": [
            "  0%|          | 0/4 [00:00<?, ?it/s]"
          ]
        },
        {
          "output_type": "stream",
          "name": "stdout",
          "text": [
            "(100, 100)\n"
          ]
        },
        {
          "output_type": "stream",
          "name": "stderr",
          "text": [
            "100%|██████████| 4/4 [00:01<00:00,  3.63it/s]\n",
            "100%|██████████| 14/14 [00:00<00:00, 18017.88it/s]\n"
          ]
        },
        {
          "output_type": "stream",
          "name": "stdout",
          "text": [
            "Starting rpn model training on patch 100_16476_16729_100\n",
            "(1, 100, 100, 3)\n",
            "(1, 50, 50, 12)\n"
          ]
        },
        {
          "output_type": "stream",
          "name": "stderr",
          "text": [
            "  0%|          | 0/4 [00:00<?, ?it/s]"
          ]
        },
        {
          "output_type": "stream",
          "name": "stdout",
          "text": [
            "Best IoU found in this run: 0.9999990000010001\n",
            "Exception: 'a' cannot be empty unless no samples are taken\n",
            "(100, 100)\n"
          ]
        },
        {
          "output_type": "stream",
          "name": "stderr",
          "text": [
            "100%|██████████| 4/4 [00:01<00:00,  3.07it/s]\n",
            "100%|██████████| 19/19 [00:00<00:00, 51215.79it/s]\n"
          ]
        },
        {
          "output_type": "stream",
          "name": "stdout",
          "text": [
            "Starting rpn model training on patch 3150_16426_16829_100\n",
            "(1, 100, 100, 3)\n",
            "(1, 50, 50, 12)\n"
          ]
        },
        {
          "output_type": "stream",
          "name": "stderr",
          "text": [
            "  0%|          | 0/4 [00:00<?, ?it/s]"
          ]
        },
        {
          "output_type": "stream",
          "name": "stdout",
          "text": [
            "Best IoU found in this run: 0.9999990000010001\n",
            "Exception: 'a' cannot be empty unless no samples are taken\n",
            "Average number of overlapping bounding boxes from RPN = 2.1 for 10 previous iterations\n",
            "(100, 100)\n"
          ]
        },
        {
          "output_type": "stream",
          "name": "stderr",
          "text": [
            "100%|██████████| 4/4 [00:00<00:00,  4.75it/s]\n",
            "100%|██████████| 12/12 [00:00<00:00, 54827.50it/s]\n"
          ]
        },
        {
          "output_type": "stream",
          "name": "stdout",
          "text": [
            "Starting rpn model training on patch 0_16376_16729_100\n",
            "(1, 100, 100, 3)\n",
            "(1, 50, 50, 12)\n",
            "Best IoU found in this run: 0.9999990000010001\n",
            "Starting detector model training on batch\n",
            " 2/10 [=====>........................] - ETA: 54s - rpn_cls: 3.1258 - rpn_regr: 0.5250 - detector_cls: 0.4687 - detector_regr: 0.0000e+00 - average number of objects: 2.0000"
          ]
        },
        {
          "output_type": "stream",
          "name": "stderr",
          "text": [
            "  0%|          | 0/4 [00:00<?, ?it/s]"
          ]
        },
        {
          "output_type": "stream",
          "name": "stdout",
          "text": [
            "(100, 100)\n"
          ]
        },
        {
          "output_type": "stream",
          "name": "stderr",
          "text": [
            "100%|██████████| 4/4 [00:01<00:00,  3.54it/s]\n",
            "100%|██████████| 15/15 [00:00<00:00, 27974.46it/s]\n"
          ]
        },
        {
          "output_type": "stream",
          "name": "stdout",
          "text": [
            "Starting rpn model training on patch 1550_16376_16779_100\n",
            "(1, 100, 100, 3)\n",
            "(1, 50, 50, 12)\n",
            "Best IoU found in this run: 0.9999990000010001\n",
            "Starting detector model training on batch\n",
            " 3/10 [========>.....................] - ETA: 32s - rpn_cls: 3.1254 - rpn_regr: 0.5120 - detector_cls: 0.5102 - detector_regr: 0.0000e+00 - average number of objects: 1.6667"
          ]
        },
        {
          "output_type": "stream",
          "name": "stderr",
          "text": [
            "  0%|          | 0/4 [00:00<?, ?it/s]"
          ]
        },
        {
          "output_type": "stream",
          "name": "stdout",
          "text": [
            "(100, 100)\n"
          ]
        },
        {
          "output_type": "stream",
          "name": "stderr",
          "text": [
            "100%|██████████| 4/4 [00:01<00:00,  2.85it/s]\n",
            "100%|██████████| 20/20 [00:00<00:00, 55260.92it/s]\n"
          ]
        },
        {
          "output_type": "stream",
          "name": "stdout",
          "text": [
            "Starting rpn model training on patch 3100_16376_16829_100\n",
            "(1, 100, 100, 3)\n",
            "(1, 50, 50, 12)\n"
          ]
        },
        {
          "output_type": "stream",
          "name": "stderr",
          "text": [
            "  0%|          | 0/4 [00:00<?, ?it/s]"
          ]
        },
        {
          "output_type": "stream",
          "name": "stdout",
          "text": [
            "Exception: 'NoneType' object is not iterable\n",
            "(100, 100)\n"
          ]
        },
        {
          "output_type": "stream",
          "name": "stderr",
          "text": [
            "100%|██████████| 4/4 [00:01<00:00,  3.09it/s]\n",
            "100%|██████████| 19/19 [00:00<00:00, 56922.70it/s]\n"
          ]
        },
        {
          "output_type": "stream",
          "name": "stdout",
          "text": [
            "Starting rpn model training on patch 1600_16426_16779_100\n",
            "(1, 100, 100, 3)\n",
            "(1, 50, 50, 12)\n",
            "Best IoU found in this run: 0.9999990000010001\n",
            "Starting detector model training on batch\n",
            " 4/10 [===========>..................] - ETA: 28s - rpn_cls: 3.1761 - rpn_regr: 0.5112 - detector_cls: 0.6027 - detector_regr: 0.0000e+00 - average number of objects: 1.5000"
          ]
        },
        {
          "output_type": "stream",
          "name": "stderr",
          "text": [
            "  0%|          | 0/4 [00:00<?, ?it/s]"
          ]
        },
        {
          "output_type": "stream",
          "name": "stdout",
          "text": [
            "(100, 100)\n"
          ]
        },
        {
          "output_type": "stream",
          "name": "stderr",
          "text": [
            "100%|██████████| 4/4 [00:01<00:00,  3.56it/s]\n",
            "100%|██████████| 14/14 [00:00<00:00, 27672.13it/s]\n"
          ]
        },
        {
          "output_type": "stream",
          "name": "stdout",
          "text": [
            "Starting rpn model training on patch 100_16476_16729_100\n",
            "(1, 100, 100, 3)\n",
            "(1, 50, 50, 12)\n"
          ]
        },
        {
          "output_type": "stream",
          "name": "stderr",
          "text": [
            "  0%|          | 0/4 [00:00<?, ?it/s]"
          ]
        },
        {
          "output_type": "stream",
          "name": "stdout",
          "text": [
            "Best IoU found in this run: 0.9999990000010001\n",
            "Exception: 'a' cannot be empty unless no samples are taken\n",
            "(100, 100)\n"
          ]
        },
        {
          "output_type": "stream",
          "name": "stderr",
          "text": [
            "100%|██████████| 4/4 [00:01<00:00,  2.73it/s]\n",
            "100%|██████████| 19/19 [00:00<00:00, 33568.57it/s]\n"
          ]
        },
        {
          "output_type": "stream",
          "name": "stdout",
          "text": [
            "Starting rpn model training on patch 3150_16426_16829_100\n",
            "(1, 100, 100, 3)\n",
            "(1, 50, 50, 12)\n"
          ]
        },
        {
          "output_type": "stream",
          "name": "stderr",
          "text": [
            "  0%|          | 0/4 [00:00<?, ?it/s]"
          ]
        },
        {
          "output_type": "stream",
          "name": "stdout",
          "text": [
            "Best IoU found in this run: 0.9999990000010001\n",
            "Exception: 'a' cannot be empty unless no samples are taken\n",
            "(100, 100)\n"
          ]
        },
        {
          "output_type": "stream",
          "name": "stderr",
          "text": [
            "100%|██████████| 4/4 [00:00<00:00,  4.20it/s]\n",
            "100%|██████████| 12/12 [00:00<00:00, 29143.98it/s]\n"
          ]
        },
        {
          "output_type": "stream",
          "name": "stdout",
          "text": [
            "Starting rpn model training on patch 0_16376_16729_100\n",
            "(1, 100, 100, 3)\n",
            "(1, 50, 50, 12)\n",
            "Best IoU found in this run: 0.9999990000010001\n",
            "Starting detector model training on batch\n",
            " 5/10 [==============>...............] - ETA: 27s - rpn_cls: 3.2098 - rpn_regr: 0.5222 - detector_cls: 0.6676 - detector_regr: 0.0000e+00 - average number of objects: 1.6000"
          ]
        },
        {
          "output_type": "stream",
          "name": "stderr",
          "text": [
            "  0%|          | 0/4 [00:00<?, ?it/s]"
          ]
        },
        {
          "output_type": "stream",
          "name": "stdout",
          "text": [
            "(100, 100)\n"
          ]
        },
        {
          "output_type": "stream",
          "name": "stderr",
          "text": [
            "100%|██████████| 4/4 [00:01<00:00,  3.42it/s]\n",
            "100%|██████████| 15/15 [00:00<00:00, 25858.84it/s]\n"
          ]
        },
        {
          "output_type": "stream",
          "name": "stdout",
          "text": [
            "Starting rpn model training on patch 1550_16376_16779_100\n",
            "(1, 100, 100, 3)\n",
            "(1, 50, 50, 12)\n",
            "Best IoU found in this run: 0.9999990000010001\n",
            "Starting detector model training on batch\n",
            " 6/10 [=================>............] - ETA: 19s - rpn_cls: 3.2771 - rpn_regr: 0.5321 - detector_cls: 0.7069 - detector_regr: 0.0000e+00 - average number of objects: 1.5000"
          ]
        },
        {
          "output_type": "stream",
          "name": "stderr",
          "text": [
            "  0%|          | 0/4 [00:00<?, ?it/s]"
          ]
        },
        {
          "output_type": "stream",
          "name": "stdout",
          "text": [
            "(100, 100)\n"
          ]
        },
        {
          "output_type": "stream",
          "name": "stderr",
          "text": [
            "100%|██████████| 4/4 [00:01<00:00,  2.76it/s]\n",
            "100%|██████████| 20/20 [00:00<00:00, 13976.35it/s]\n"
          ]
        },
        {
          "output_type": "stream",
          "name": "stdout",
          "text": [
            "Starting rpn model training on patch 3100_16376_16829_100\n",
            "(1, 100, 100, 3)\n",
            "(1, 50, 50, 12)\n"
          ]
        },
        {
          "output_type": "stream",
          "name": "stderr",
          "text": [
            "  0%|          | 0/4 [00:00<?, ?it/s]"
          ]
        },
        {
          "output_type": "stream",
          "name": "stdout",
          "text": [
            "Best IoU found in this run: 0.9999990000010001\n",
            "Exception: 'a' cannot be empty unless no samples are taken\n",
            "(100, 100)\n"
          ]
        },
        {
          "output_type": "stream",
          "name": "stderr",
          "text": [
            "100%|██████████| 4/4 [00:01<00:00,  2.95it/s]\n",
            "100%|██████████| 19/19 [00:00<00:00, 46932.73it/s]\n"
          ]
        },
        {
          "output_type": "stream",
          "name": "stdout",
          "text": [
            "Starting rpn model training on patch 1600_16426_16779_100\n",
            "(1, 100, 100, 3)\n",
            "(1, 50, 50, 12)\n",
            "Best IoU found in this run: 0.9999990000010001\n",
            "Starting detector model training on batch\n",
            " 7/10 [====================>.........] - ETA: 14s - rpn_cls: 3.3240 - rpn_regr: 0.5376 - detector_cls: 0.7354 - detector_regr: 0.0000e+00 - average number of objects: 1.5714"
          ]
        },
        {
          "output_type": "stream",
          "name": "stderr",
          "text": [
            "  0%|          | 0/4 [00:00<?, ?it/s]"
          ]
        },
        {
          "output_type": "stream",
          "name": "stdout",
          "text": [
            "(100, 100)\n"
          ]
        },
        {
          "output_type": "stream",
          "name": "stderr",
          "text": [
            "100%|██████████| 4/4 [00:01<00:00,  3.69it/s]\n",
            "100%|██████████| 14/14 [00:00<00:00, 26214.40it/s]\n"
          ]
        },
        {
          "output_type": "stream",
          "name": "stdout",
          "text": [
            "Starting rpn model training on patch 100_16476_16729_100\n",
            "(1, 100, 100, 3)\n",
            "(1, 50, 50, 12)\n"
          ]
        },
        {
          "output_type": "stream",
          "name": "stderr",
          "text": [
            "  0%|          | 0/4 [00:00<?, ?it/s]"
          ]
        },
        {
          "output_type": "stream",
          "name": "stdout",
          "text": [
            "Best IoU found in this run: 0.9999990000010001\n",
            "Exception: 'a' cannot be empty unless no samples are taken\n",
            "Average number of overlapping bounding boxes from RPN = 2.4 for 10 previous iterations\n",
            "(100, 100)\n"
          ]
        },
        {
          "output_type": "stream",
          "name": "stderr",
          "text": [
            "100%|██████████| 4/4 [00:01<00:00,  3.00it/s]\n",
            "100%|██████████| 19/19 [00:00<00:00, 39102.93it/s]\n"
          ]
        },
        {
          "output_type": "stream",
          "name": "stdout",
          "text": [
            "Starting rpn model training on patch 3150_16426_16829_100\n",
            "(1, 100, 100, 3)\n",
            "(1, 50, 50, 12)\n"
          ]
        },
        {
          "output_type": "stream",
          "name": "stderr",
          "text": [
            "  0%|          | 0/4 [00:00<?, ?it/s]"
          ]
        },
        {
          "output_type": "stream",
          "name": "stdout",
          "text": [
            "Best IoU found in this run: 0.9999990000010001\n",
            "Exception: 'a' cannot be empty unless no samples are taken\n",
            "(100, 100)\n"
          ]
        },
        {
          "output_type": "stream",
          "name": "stderr",
          "text": [
            "100%|██████████| 4/4 [00:00<00:00,  4.41it/s]\n",
            "100%|██████████| 12/12 [00:00<00:00, 57919.04it/s]\n"
          ]
        },
        {
          "output_type": "stream",
          "name": "stdout",
          "text": [
            "Starting rpn model training on patch 0_16376_16729_100\n",
            "(1, 100, 100, 3)\n",
            "(1, 50, 50, 12)\n",
            "Best IoU found in this run: 0.9999990000010001\n",
            "Starting detector model training on batch\n",
            " 8/10 [=======================>......] - ETA: 10s - rpn_cls: 3.3414 - rpn_regr: 0.5422 - detector_cls: 0.7517 - detector_regr: 0.0000e+00 - average number of objects: 1.6250"
          ]
        },
        {
          "output_type": "stream",
          "name": "stderr",
          "text": [
            "  0%|          | 0/4 [00:00<?, ?it/s]"
          ]
        },
        {
          "output_type": "stream",
          "name": "stdout",
          "text": [
            "(100, 100)\n"
          ]
        },
        {
          "output_type": "stream",
          "name": "stderr",
          "text": [
            "100%|██████████| 4/4 [00:01<00:00,  3.67it/s]\n",
            "100%|██████████| 15/15 [00:00<00:00, 9421.17it/s]\n"
          ]
        },
        {
          "output_type": "stream",
          "name": "stdout",
          "text": [
            "Starting rpn model training on patch 1550_16376_16779_100\n",
            "(1, 100, 100, 3)\n",
            "(1, 50, 50, 12)\n",
            "Best IoU found in this run: 0.9999990000010001\n",
            "Starting detector model training on batch\n",
            " 9/10 [==========================>...] - ETA: 4s - rpn_cls: 3.3489 - rpn_regr: 0.5455 - detector_cls: 0.7676 - detector_regr: 0.0000e+00 - average number of objects: 1.5556 "
          ]
        },
        {
          "output_type": "stream",
          "name": "stderr",
          "text": [
            "  0%|          | 0/4 [00:00<?, ?it/s]"
          ]
        },
        {
          "output_type": "stream",
          "name": "stdout",
          "text": [
            "(100, 100)\n"
          ]
        },
        {
          "output_type": "stream",
          "name": "stderr",
          "text": [
            "100%|██████████| 4/4 [00:01<00:00,  2.23it/s]\n",
            "100%|██████████| 20/20 [00:00<00:00, 52626.15it/s]\n"
          ]
        },
        {
          "output_type": "stream",
          "name": "stdout",
          "text": [
            "Starting rpn model training on patch 3100_16376_16829_100\n",
            "(1, 100, 100, 3)\n",
            "(1, 50, 50, 12)\n"
          ]
        },
        {
          "output_type": "stream",
          "name": "stderr",
          "text": [
            "  0%|          | 0/4 [00:00<?, ?it/s]"
          ]
        },
        {
          "output_type": "stream",
          "name": "stdout",
          "text": [
            "Best IoU found in this run: 0.9999990000010001\n",
            "Exception: 'a' cannot be empty unless no samples are taken\n",
            "(100, 100)\n"
          ]
        },
        {
          "output_type": "stream",
          "name": "stderr",
          "text": [
            "100%|██████████| 4/4 [00:01<00:00,  2.55it/s]\n",
            "100%|██████████| 19/19 [00:00<00:00, 54546.05it/s]\n"
          ]
        },
        {
          "output_type": "stream",
          "name": "stdout",
          "text": [
            "Starting rpn model training on patch 1600_16426_16779_100\n",
            "(1, 100, 100, 3)\n",
            "(1, 50, 50, 12)\n",
            "Best IoU found in this run: 0.9999990000010001\n",
            "Starting detector model training on batch\n",
            "10/10 [==============================] - 52s 5s/step - rpn_cls: 3.3563 - rpn_regr: 0.5499 - detector_cls: 0.7788 - detector_regr: 0.0000e+00 - average number of objects: 1.5000\n",
            "Mean number of bounding boxes from RPN overlapping ground truth boxes: 2.1578947368421053\n",
            "Classifier accuracy for bounding boxes from RPN: 0.525\n",
            "Loss RPN classifier: 3.4226186156272886\n",
            "Loss RPN regression: 0.5886640936136246\n",
            "Loss Detector classifier: 0.8799301236867905\n",
            "Loss Detector regression: 0.0\n",
            "Total loss: 4.891212832927704\n",
            "Elapsed time: 51.80808091163635\n",
            "Epoch 6/10\n"
          ]
        },
        {
          "output_type": "stream",
          "name": "stderr",
          "text": [
            "  0%|          | 0/4 [00:00<?, ?it/s]"
          ]
        },
        {
          "output_type": "stream",
          "name": "stdout",
          "text": [
            "(100, 100)\n"
          ]
        },
        {
          "output_type": "stream",
          "name": "stderr",
          "text": [
            "100%|██████████| 4/4 [00:01<00:00,  3.48it/s]\n",
            "100%|██████████| 14/14 [00:00<00:00, 16611.10it/s]\n"
          ]
        },
        {
          "output_type": "stream",
          "name": "stdout",
          "text": [
            "Starting rpn model training on patch 100_16476_16729_100\n",
            "(1, 100, 100, 3)\n",
            "(1, 50, 50, 12)\n"
          ]
        },
        {
          "output_type": "stream",
          "name": "stderr",
          "text": [
            "  0%|          | 0/4 [00:00<?, ?it/s]"
          ]
        },
        {
          "output_type": "stream",
          "name": "stdout",
          "text": [
            "Exception: 'NoneType' object is not iterable\n",
            "(100, 100)\n"
          ]
        },
        {
          "output_type": "stream",
          "name": "stderr",
          "text": [
            "100%|██████████| 4/4 [00:01<00:00,  2.63it/s]\n",
            "100%|██████████| 19/19 [00:00<00:00, 35576.69it/s]\n"
          ]
        },
        {
          "output_type": "stream",
          "name": "stdout",
          "text": [
            "Starting rpn model training on patch 3150_16426_16829_100\n",
            "(1, 100, 100, 3)\n",
            "(1, 50, 50, 12)\n"
          ]
        },
        {
          "output_type": "stream",
          "name": "stderr",
          "text": [
            "  0%|          | 0/4 [00:00<?, ?it/s]"
          ]
        },
        {
          "output_type": "stream",
          "name": "stdout",
          "text": [
            "Best IoU found in this run: 0.9999990000010001\n",
            "Exception: 'a' cannot be empty unless no samples are taken\n",
            "(100, 100)\n"
          ]
        },
        {
          "output_type": "stream",
          "name": "stderr",
          "text": [
            "100%|██████████| 4/4 [00:00<00:00,  4.03it/s]\n",
            "100%|██████████| 12/12 [00:00<00:00, 11472.91it/s]\n"
          ]
        },
        {
          "output_type": "stream",
          "name": "stdout",
          "text": [
            "Starting rpn model training on patch 0_16376_16729_100\n",
            "(1, 100, 100, 3)\n",
            "(1, 50, 50, 12)\n",
            "Best IoU found in this run: 0.9999990000010001\n",
            "Starting detector model training on batch\n",
            " 1/10 [==>...........................] - ETA: 1:09 - rpn_cls: 2.2720 - rpn_regr: 0.5102 - detector_cls: 1.2463 - detector_regr: 0.0000e+00 - average number of objects: 2.0000"
          ]
        },
        {
          "output_type": "stream",
          "name": "stderr",
          "text": [
            "  0%|          | 0/4 [00:00<?, ?it/s]"
          ]
        },
        {
          "output_type": "stream",
          "name": "stdout",
          "text": [
            "(100, 100)\n"
          ]
        },
        {
          "output_type": "stream",
          "name": "stderr",
          "text": [
            "100%|██████████| 4/4 [00:01<00:00,  3.82it/s]\n",
            "100%|██████████| 15/15 [00:00<00:00, 29537.35it/s]\n"
          ]
        },
        {
          "output_type": "stream",
          "name": "stdout",
          "text": [
            "Starting rpn model training on patch 1550_16376_16779_100\n",
            "(1, 100, 100, 3)\n",
            "(1, 50, 50, 12)\n",
            "Best IoU found in this run: 0.9999990000010001\n",
            "Starting detector model training on batch\n",
            " 2/10 [=====>........................] - ETA: 19s - rpn_cls: 2.4472 - rpn_regr: 0.4740 - detector_cls: 1.1129 - detector_regr: 0.0000e+00 - average number of objects: 1.5000 "
          ]
        },
        {
          "output_type": "stream",
          "name": "stderr",
          "text": [
            "  0%|          | 0/4 [00:00<?, ?it/s]"
          ]
        },
        {
          "output_type": "stream",
          "name": "stdout",
          "text": [
            "(100, 100)\n"
          ]
        },
        {
          "output_type": "stream",
          "name": "stderr",
          "text": [
            "100%|██████████| 4/4 [00:01<00:00,  2.60it/s]\n",
            "100%|██████████| 20/20 [00:00<00:00, 16194.22it/s]\n"
          ]
        },
        {
          "output_type": "stream",
          "name": "stdout",
          "text": [
            "Starting rpn model training on patch 3100_16376_16829_100\n",
            "(1, 100, 100, 3)\n",
            "(1, 50, 50, 12)\n"
          ]
        },
        {
          "output_type": "stream",
          "name": "stderr",
          "text": [
            "  0%|          | 0/4 [00:00<?, ?it/s]"
          ]
        },
        {
          "output_type": "stream",
          "name": "stdout",
          "text": [
            "Exception: 'NoneType' object is not iterable\n",
            "(100, 100)\n"
          ]
        },
        {
          "output_type": "stream",
          "name": "stderr",
          "text": [
            "100%|██████████| 4/4 [00:01<00:00,  2.87it/s]\n",
            "100%|██████████| 19/19 [00:00<00:00, 57414.82it/s]\n"
          ]
        },
        {
          "output_type": "stream",
          "name": "stdout",
          "text": [
            "Starting rpn model training on patch 1600_16426_16779_100\n",
            "(1, 100, 100, 3)\n",
            "(1, 50, 50, 12)\n",
            "Best IoU found in this run: 0.9999990000010001\n",
            "Starting detector model training on batch\n",
            " 3/10 [========>.....................] - ETA: 28s - rpn_cls: 2.4451 - rpn_regr: 0.4781 - detector_cls: 1.0645 - detector_regr: 0.0000e+00 - average number of objects: 1.6667"
          ]
        },
        {
          "output_type": "stream",
          "name": "stderr",
          "text": [
            "  0%|          | 0/4 [00:00<?, ?it/s]"
          ]
        },
        {
          "output_type": "stream",
          "name": "stdout",
          "text": [
            "(100, 100)\n"
          ]
        },
        {
          "output_type": "stream",
          "name": "stderr",
          "text": [
            "100%|██████████| 4/4 [00:01<00:00,  3.42it/s]\n",
            "100%|██████████| 14/14 [00:00<00:00, 28574.33it/s]\n"
          ]
        },
        {
          "output_type": "stream",
          "name": "stdout",
          "text": [
            "Starting rpn model training on patch 100_16476_16729_100\n",
            "(1, 100, 100, 3)\n",
            "(1, 50, 50, 12)\n"
          ]
        },
        {
          "output_type": "stream",
          "name": "stderr",
          "text": [
            "  0%|          | 0/4 [00:00<?, ?it/s]"
          ]
        },
        {
          "output_type": "stream",
          "name": "stdout",
          "text": [
            "Best IoU found in this run: 0.9999990000010001\n",
            "Exception: 'a' cannot be empty unless no samples are taken\n",
            "Average number of overlapping bounding boxes from RPN = 2.1 for 10 previous iterations\n",
            "(100, 100)\n"
          ]
        },
        {
          "output_type": "stream",
          "name": "stderr",
          "text": [
            "100%|██████████| 4/4 [00:01<00:00,  2.73it/s]\n",
            "100%|██████████| 19/19 [00:00<00:00, 43883.14it/s]\n"
          ]
        },
        {
          "output_type": "stream",
          "name": "stdout",
          "text": [
            "Starting rpn model training on patch 3150_16426_16829_100\n",
            "(1, 100, 100, 3)\n",
            "(1, 50, 50, 12)\n"
          ]
        },
        {
          "output_type": "stream",
          "name": "stderr",
          "text": [
            "  0%|          | 0/4 [00:00<?, ?it/s]"
          ]
        },
        {
          "output_type": "stream",
          "name": "stdout",
          "text": [
            "Exception: 'NoneType' object is not iterable\n",
            "(100, 100)\n"
          ]
        },
        {
          "output_type": "stream",
          "name": "stderr",
          "text": [
            "100%|██████████| 4/4 [00:00<00:00,  4.05it/s]\n",
            "100%|██████████| 12/12 [00:00<00:00, 30708.75it/s]\n"
          ]
        },
        {
          "output_type": "stream",
          "name": "stdout",
          "text": [
            "Starting rpn model training on patch 0_16376_16729_100\n",
            "(1, 100, 100, 3)\n",
            "(1, 50, 50, 12)\n",
            "Best IoU found in this run: 0.9999990000010001\n",
            "Starting detector model training on batch\n",
            " 4/10 [===========>..................] - ETA: 31s - rpn_cls: 2.4455 - rpn_regr: 0.4843 - detector_cls: 1.0303 - detector_regr: 0.0000e+00 - average number of objects: 1.7500"
          ]
        },
        {
          "output_type": "stream",
          "name": "stderr",
          "text": [
            "  0%|          | 0/4 [00:00<?, ?it/s]"
          ]
        },
        {
          "output_type": "stream",
          "name": "stdout",
          "text": [
            "(100, 100)\n"
          ]
        },
        {
          "output_type": "stream",
          "name": "stderr",
          "text": [
            "100%|██████████| 4/4 [00:01<00:00,  3.59it/s]\n",
            "100%|██████████| 15/15 [00:00<00:00, 6538.62it/s]\n"
          ]
        },
        {
          "output_type": "stream",
          "name": "stdout",
          "text": [
            "Starting rpn model training on patch 1550_16376_16779_100\n",
            "(1, 100, 100, 3)\n",
            "(1, 50, 50, 12)\n",
            "Best IoU found in this run: 0.9999990000010001\n",
            "Starting detector model training on batch\n",
            " 5/10 [==============>...............] - ETA: 22s - rpn_cls: 2.4750 - rpn_regr: 0.4929 - detector_cls: 1.0033 - detector_regr: 0.0000e+00 - average number of objects: 1.8000"
          ]
        },
        {
          "output_type": "stream",
          "name": "stderr",
          "text": [
            "  0%|          | 0/4 [00:00<?, ?it/s]"
          ]
        },
        {
          "output_type": "stream",
          "name": "stdout",
          "text": [
            "(100, 100)\n"
          ]
        },
        {
          "output_type": "stream",
          "name": "stderr",
          "text": [
            "100%|██████████| 4/4 [00:01<00:00,  2.71it/s]\n",
            "100%|██████████| 20/20 [00:00<00:00, 7277.99it/s]\n"
          ]
        },
        {
          "output_type": "stream",
          "name": "stdout",
          "text": [
            "Starting rpn model training on patch 3100_16376_16829_100\n",
            "(1, 100, 100, 3)\n",
            "(1, 50, 50, 12)\n"
          ]
        },
        {
          "output_type": "stream",
          "name": "stderr",
          "text": [
            "  0%|          | 0/4 [00:00<?, ?it/s]"
          ]
        },
        {
          "output_type": "stream",
          "name": "stdout",
          "text": [
            "Best IoU found in this run: 0.9999990000010001\n",
            "Exception: 'a' cannot be empty unless no samples are taken\n",
            "(100, 100)\n"
          ]
        },
        {
          "output_type": "stream",
          "name": "stderr",
          "text": [
            "100%|██████████| 4/4 [00:01<00:00,  2.85it/s]\n",
            "100%|██████████| 19/19 [00:00<00:00, 10467.85it/s]\n"
          ]
        },
        {
          "output_type": "stream",
          "name": "stdout",
          "text": [
            "Starting rpn model training on patch 1600_16426_16779_100\n",
            "(1, 100, 100, 3)\n",
            "(1, 50, 50, 12)\n",
            "Best IoU found in this run: 0.9999990000010001\n",
            "Starting detector model training on batch\n",
            " 6/10 [=================>............] - ETA: 19s - rpn_cls: 2.5210 - rpn_regr: 0.5001 - detector_cls: 0.9832 - detector_regr: 0.0000e+00 - average number of objects: 1.6667"
          ]
        },
        {
          "output_type": "stream",
          "name": "stderr",
          "text": [
            "  0%|          | 0/4 [00:00<?, ?it/s]"
          ]
        },
        {
          "output_type": "stream",
          "name": "stdout",
          "text": [
            "(100, 100)\n"
          ]
        },
        {
          "output_type": "stream",
          "name": "stderr",
          "text": [
            "100%|██████████| 4/4 [00:01<00:00,  3.79it/s]\n",
            "100%|██████████| 14/14 [00:00<00:00, 16806.03it/s]\n"
          ]
        },
        {
          "output_type": "stream",
          "name": "stdout",
          "text": [
            "Starting rpn model training on patch 100_16476_16729_100\n",
            "(1, 100, 100, 3)\n",
            "(1, 50, 50, 12)\n"
          ]
        },
        {
          "output_type": "stream",
          "name": "stderr",
          "text": [
            "  0%|          | 0/4 [00:00<?, ?it/s]"
          ]
        },
        {
          "output_type": "stream",
          "name": "stdout",
          "text": [
            "Best IoU found in this run: 0.9999990000010001\n",
            "Exception: 'a' cannot be empty unless no samples are taken\n",
            "(100, 100)\n"
          ]
        },
        {
          "output_type": "stream",
          "name": "stderr",
          "text": [
            "100%|██████████| 4/4 [00:01<00:00,  2.79it/s]\n",
            "100%|██████████| 19/19 [00:00<00:00, 43980.01it/s]\n"
          ]
        },
        {
          "output_type": "stream",
          "name": "stdout",
          "text": [
            "Starting rpn model training on patch 3150_16426_16829_100\n",
            "(1, 100, 100, 3)\n",
            "(1, 50, 50, 12)\n"
          ]
        },
        {
          "output_type": "stream",
          "name": "stderr",
          "text": [
            "  0%|          | 0/4 [00:00<?, ?it/s]"
          ]
        },
        {
          "output_type": "stream",
          "name": "stdout",
          "text": [
            "Exception: 'NoneType' object is not iterable\n",
            "(100, 100)\n"
          ]
        },
        {
          "output_type": "stream",
          "name": "stderr",
          "text": [
            "100%|██████████| 4/4 [00:00<00:00,  4.04it/s]\n",
            "100%|██████████| 12/12 [00:00<00:00, 22104.37it/s]\n"
          ]
        },
        {
          "output_type": "stream",
          "name": "stdout",
          "text": [
            "Starting rpn model training on patch 0_16376_16729_100\n",
            "(1, 100, 100, 3)\n",
            "(1, 50, 50, 12)\n",
            "Best IoU found in this run: 0.9999990000010001\n",
            "Starting detector model training on batch\n",
            " 7/10 [====================>.........] - ETA: 15s - rpn_cls: 2.5557 - rpn_regr: 0.5072 - detector_cls: 0.9705 - detector_regr: 0.0000e+00 - average number of objects: 1.7143"
          ]
        },
        {
          "output_type": "stream",
          "name": "stderr",
          "text": [
            "  0%|          | 0/4 [00:00<?, ?it/s]"
          ]
        },
        {
          "output_type": "stream",
          "name": "stdout",
          "text": [
            "(100, 100)\n"
          ]
        },
        {
          "output_type": "stream",
          "name": "stderr",
          "text": [
            "100%|██████████| 4/4 [00:01<00:00,  3.53it/s]\n",
            "100%|██████████| 15/15 [00:00<00:00, 13295.55it/s]\n"
          ]
        },
        {
          "output_type": "stream",
          "name": "stdout",
          "text": [
            "Starting rpn model training on patch 1550_16376_16779_100\n",
            "(1, 100, 100, 3)\n",
            "(1, 50, 50, 12)\n",
            "Best IoU found in this run: 0.9999990000010001\n",
            "Starting detector model training on batch\n",
            " 8/10 [=======================>......] - ETA: 9s - rpn_cls: 2.5965 - rpn_regr: 0.5131 - detector_cls: 0.9578 - detector_regr: 0.0000e+00 - average number of objects: 1.7500 "
          ]
        },
        {
          "output_type": "stream",
          "name": "stderr",
          "text": [
            "  0%|          | 0/4 [00:00<?, ?it/s]"
          ]
        },
        {
          "output_type": "stream",
          "name": "stdout",
          "text": [
            "(100, 100)\n"
          ]
        },
        {
          "output_type": "stream",
          "name": "stderr",
          "text": [
            "100%|██████████| 4/4 [00:01<00:00,  2.82it/s]\n",
            "100%|██████████| 20/20 [00:00<00:00, 15057.63it/s]\n"
          ]
        },
        {
          "output_type": "stream",
          "name": "stdout",
          "text": [
            "Starting rpn model training on patch 3100_16376_16829_100\n",
            "(1, 100, 100, 3)\n",
            "(1, 50, 50, 12)\n"
          ]
        },
        {
          "output_type": "stream",
          "name": "stderr",
          "text": [
            "  0%|          | 0/4 [00:00<?, ?it/s]"
          ]
        },
        {
          "output_type": "stream",
          "name": "stdout",
          "text": [
            "Best IoU found in this run: 0.9999990000010001\n",
            "Exception: 'a' cannot be empty unless no samples are taken\n",
            "(100, 100)\n"
          ]
        },
        {
          "output_type": "stream",
          "name": "stderr",
          "text": [
            "100%|██████████| 4/4 [00:01<00:00,  2.89it/s]\n",
            "100%|██████████| 19/19 [00:00<00:00, 41658.01it/s]\n"
          ]
        },
        {
          "output_type": "stream",
          "name": "stdout",
          "text": [
            "Starting rpn model training on patch 1600_16426_16779_100\n",
            "(1, 100, 100, 3)\n",
            "(1, 50, 50, 12)\n",
            "Best IoU found in this run: 0.9999990000010001\n",
            "Starting detector model training on batch\n",
            " 9/10 [==========================>...] - ETA: 4s - rpn_cls: 2.6389 - rpn_regr: 0.5175 - detector_cls: 0.9478 - detector_regr: 0.0000e+00 - average number of objects: 1.7778"
          ]
        },
        {
          "output_type": "stream",
          "name": "stderr",
          "text": [
            "  0%|          | 0/4 [00:00<?, ?it/s]"
          ]
        },
        {
          "output_type": "stream",
          "name": "stdout",
          "text": [
            "(100, 100)\n"
          ]
        },
        {
          "output_type": "stream",
          "name": "stderr",
          "text": [
            "100%|██████████| 4/4 [00:01<00:00,  3.66it/s]\n",
            "100%|██████████| 14/14 [00:00<00:00, 8505.25it/s]\n"
          ]
        },
        {
          "output_type": "stream",
          "name": "stdout",
          "text": [
            "Starting rpn model training on patch 100_16476_16729_100\n",
            "(1, 100, 100, 3)\n",
            "(1, 50, 50, 12)\n"
          ]
        },
        {
          "output_type": "stream",
          "name": "stderr",
          "text": [
            "  0%|          | 0/4 [00:00<?, ?it/s]"
          ]
        },
        {
          "output_type": "stream",
          "name": "stdout",
          "text": [
            "Best IoU found in this run: 0.9999990000010001\n",
            "Exception: 'a' cannot be empty unless no samples are taken\n",
            "Average number of overlapping bounding boxes from RPN = 2.7 for 10 previous iterations\n",
            "(100, 100)\n"
          ]
        },
        {
          "output_type": "stream",
          "name": "stderr",
          "text": [
            "100%|██████████| 4/4 [00:01<00:00,  3.07it/s]\n",
            "100%|██████████| 19/19 [00:00<00:00, 46332.43it/s]\n"
          ]
        },
        {
          "output_type": "stream",
          "name": "stdout",
          "text": [
            "Starting rpn model training on patch 3150_16426_16829_100\n",
            "(1, 100, 100, 3)\n",
            "(1, 50, 50, 12)\n"
          ]
        },
        {
          "output_type": "stream",
          "name": "stderr",
          "text": [
            "  0%|          | 0/4 [00:00<?, ?it/s]"
          ]
        },
        {
          "output_type": "stream",
          "name": "stdout",
          "text": [
            "Best IoU found in this run: 0.9999990000010001\n",
            "Exception: 'a' cannot be empty unless no samples are taken\n",
            "(100, 100)\n"
          ]
        },
        {
          "output_type": "stream",
          "name": "stderr",
          "text": [
            "100%|██████████| 4/4 [00:00<00:00,  4.27it/s]\n",
            "100%|██████████| 12/12 [00:00<00:00, 38956.38it/s]\n"
          ]
        },
        {
          "output_type": "stream",
          "name": "stdout",
          "text": [
            "Starting rpn model training on patch 0_16376_16729_100\n",
            "(1, 100, 100, 3)\n",
            "(1, 50, 50, 12)\n",
            "Best IoU found in this run: 0.9999990000010001\n",
            "Starting detector model training on batch\n",
            "10/10 [==============================] - 54s 5s/step - rpn_cls: 2.6828 - rpn_regr: 0.5233 - detector_cls: 0.9408 - detector_regr: 0.0000e+00 - average number of objects: 1.8000\n",
            "Mean number of bounding boxes from RPN overlapping ground truth boxes: 2.588235294117647\n",
            "Classifier accuracy for bounding boxes from RPN: 0.5\n",
            "Loss RPN classifier: 3.0778380393981934\n",
            "Loss RPN regression: 0.5760801881551743\n",
            "Loss Detector classifier: 0.8780768871307373\n",
            "Loss Detector regression: 0.0\n",
            "Total loss: 4.531995114684105\n",
            "Elapsed time: 54.05436420440674\n",
            "Total loss decreased from 4.634763425588607 to 4.531995114684105, saving weights\n"
          ]
        },
        {
          "output_type": "stream",
          "name": "stderr",
          "text": [
            "  0%|          | 0/4 [00:00<?, ?it/s]"
          ]
        },
        {
          "output_type": "stream",
          "name": "stdout",
          "text": [
            "Epoch 7/10\n",
            "(100, 100)\n"
          ]
        },
        {
          "output_type": "stream",
          "name": "stderr",
          "text": [
            "100%|██████████| 4/4 [00:01<00:00,  3.58it/s]\n",
            "100%|██████████| 15/15 [00:00<00:00, 33843.23it/s]\n"
          ]
        },
        {
          "output_type": "stream",
          "name": "stdout",
          "text": [
            "Starting rpn model training on patch 1550_16376_16779_100\n",
            "(1, 100, 100, 3)\n",
            "(1, 50, 50, 12)\n",
            "Best IoU found in this run: 0.9999990000010001\n",
            "Starting detector model training on batch\n",
            " 1/10 [==>...........................] - ETA: 22s - rpn_cls: 2.4779 - rpn_regr: 0.5313 - detector_cls: 0.3869 - detector_regr: 0.0000e+00 - average number of objects: 1.0000"
          ]
        },
        {
          "output_type": "stream",
          "name": "stderr",
          "text": [
            "  0%|          | 0/4 [00:00<?, ?it/s]"
          ]
        },
        {
          "output_type": "stream",
          "name": "stdout",
          "text": [
            "(100, 100)\n"
          ]
        },
        {
          "output_type": "stream",
          "name": "stderr",
          "text": [
            "100%|██████████| 4/4 [00:01<00:00,  2.64it/s]\n",
            "100%|██████████| 20/20 [00:00<00:00, 41160.98it/s]\n"
          ]
        },
        {
          "output_type": "stream",
          "name": "stdout",
          "text": [
            "Starting rpn model training on patch 3100_16376_16829_100\n",
            "(1, 100, 100, 3)\n",
            "(1, 50, 50, 12)\n"
          ]
        },
        {
          "output_type": "stream",
          "name": "stderr",
          "text": [
            "  0%|          | 0/4 [00:00<?, ?it/s]"
          ]
        },
        {
          "output_type": "stream",
          "name": "stdout",
          "text": [
            "Best IoU found in this run: 0.9999990000010001\n",
            "Exception: 'a' cannot be empty unless no samples are taken\n",
            "(100, 100)\n"
          ]
        },
        {
          "output_type": "stream",
          "name": "stderr",
          "text": [
            "100%|██████████| 4/4 [00:01<00:00,  3.00it/s]\n",
            "100%|██████████| 19/19 [00:00<00:00, 44695.33it/s]\n"
          ]
        },
        {
          "output_type": "stream",
          "name": "stdout",
          "text": [
            "Starting rpn model training on patch 1600_16426_16779_100\n",
            "(1, 100, 100, 3)\n",
            "(1, 50, 50, 12)\n",
            "Best IoU found in this run: 0.9999990000010001\n",
            "Starting detector model training on batch\n",
            " 2/10 [=====>........................] - ETA: 42s - rpn_cls: 2.5859 - rpn_regr: 0.5271 - detector_cls: 0.5507 - detector_regr: 0.0000e+00 - average number of objects: 1.5000"
          ]
        },
        {
          "output_type": "stream",
          "name": "stderr",
          "text": [
            "  0%|          | 0/4 [00:00<?, ?it/s]"
          ]
        },
        {
          "output_type": "stream",
          "name": "stdout",
          "text": [
            "(100, 100)\n"
          ]
        },
        {
          "output_type": "stream",
          "name": "stderr",
          "text": [
            "100%|██████████| 4/4 [00:00<00:00,  4.07it/s]\n",
            "100%|██████████| 14/14 [00:00<00:00, 11335.96it/s]\n"
          ]
        },
        {
          "output_type": "stream",
          "name": "stdout",
          "text": [
            "Starting rpn model training on patch 100_16476_16729_100\n",
            "(1, 100, 100, 3)\n",
            "(1, 50, 50, 12)\n"
          ]
        },
        {
          "output_type": "stream",
          "name": "stderr",
          "text": [
            "  0%|          | 0/4 [00:00<?, ?it/s]"
          ]
        },
        {
          "output_type": "stream",
          "name": "stdout",
          "text": [
            "Exception: 'NoneType' object is not iterable\n",
            "(100, 100)\n"
          ]
        },
        {
          "output_type": "stream",
          "name": "stderr",
          "text": [
            "100%|██████████| 4/4 [00:01<00:00,  3.03it/s]\n",
            "100%|██████████| 19/19 [00:00<00:00, 71729.77it/s]\n"
          ]
        },
        {
          "output_type": "stream",
          "name": "stdout",
          "text": [
            "Starting rpn model training on patch 3150_16426_16829_100\n",
            "(1, 100, 100, 3)\n",
            "(1, 50, 50, 12)\n"
          ]
        },
        {
          "output_type": "stream",
          "name": "stderr",
          "text": [
            "  0%|          | 0/4 [00:00<?, ?it/s]"
          ]
        },
        {
          "output_type": "stream",
          "name": "stdout",
          "text": [
            "Exception: 'NoneType' object is not iterable\n",
            "(100, 100)\n"
          ]
        },
        {
          "output_type": "stream",
          "name": "stderr",
          "text": [
            "100%|██████████| 4/4 [00:00<00:00,  4.67it/s]\n",
            "100%|██████████| 12/12 [00:00<00:00, 25216.26it/s]\n"
          ]
        },
        {
          "output_type": "stream",
          "name": "stdout",
          "text": [
            "Starting rpn model training on patch 0_16376_16729_100\n",
            "(1, 100, 100, 3)\n",
            "(1, 50, 50, 12)\n",
            "Best IoU found in this run: 0.9999990000010001\n",
            "Starting detector model training on batch\n",
            " 3/10 [========>.....................] - ETA: 41s - rpn_cls: 2.7013 - rpn_regr: 0.5522 - detector_cls: 0.6337 - detector_regr: 0.0000e+00 - average number of objects: 1.6667"
          ]
        },
        {
          "output_type": "stream",
          "name": "stderr",
          "text": [
            "  0%|          | 0/4 [00:00<?, ?it/s]"
          ]
        },
        {
          "output_type": "stream",
          "name": "stdout",
          "text": [
            "(100, 100)\n"
          ]
        },
        {
          "output_type": "stream",
          "name": "stderr",
          "text": [
            "100%|██████████| 4/4 [00:01<00:00,  3.88it/s]\n",
            "100%|██████████| 15/15 [00:00<00:00, 17461.72it/s]\n"
          ]
        },
        {
          "output_type": "stream",
          "name": "stdout",
          "text": [
            "Starting rpn model training on patch 1550_16376_16779_100\n",
            "(1, 100, 100, 3)\n",
            "(1, 50, 50, 12)\n",
            "Best IoU found in this run: 0.9999990000010001\n",
            "Starting detector model training on batch\n",
            " 4/10 [===========>..................] - ETA: 28s - rpn_cls: 2.7928 - rpn_regr: 0.5691 - detector_cls: 0.7074 - detector_regr: 0.0000e+00 - average number of objects: 1.5000"
          ]
        },
        {
          "output_type": "stream",
          "name": "stderr",
          "text": [
            "  0%|          | 0/4 [00:00<?, ?it/s]"
          ]
        },
        {
          "output_type": "stream",
          "name": "stdout",
          "text": [
            "(100, 100)\n"
          ]
        },
        {
          "output_type": "stream",
          "name": "stderr",
          "text": [
            "100%|██████████| 4/4 [00:01<00:00,  2.81it/s]\n",
            "100%|██████████| 20/20 [00:00<00:00, 13317.36it/s]\n"
          ]
        },
        {
          "output_type": "stream",
          "name": "stdout",
          "text": [
            "Starting rpn model training on patch 3100_16376_16829_100\n",
            "(1, 100, 100, 3)\n",
            "(1, 50, 50, 12)\n"
          ]
        },
        {
          "output_type": "stream",
          "name": "stderr",
          "text": [
            "  0%|          | 0/4 [00:00<?, ?it/s]"
          ]
        },
        {
          "output_type": "stream",
          "name": "stdout",
          "text": [
            "Best IoU found in this run: 0.9999990000010001\n",
            "Exception: 'a' cannot be empty unless no samples are taken\n",
            "(100, 100)\n"
          ]
        },
        {
          "output_type": "stream",
          "name": "stderr",
          "text": [
            "100%|██████████| 4/4 [00:01<00:00,  3.06it/s]\n",
            "100%|██████████| 19/19 [00:00<00:00, 54884.14it/s]\n"
          ]
        },
        {
          "output_type": "stream",
          "name": "stdout",
          "text": [
            "Starting rpn model training on patch 1600_16426_16779_100\n",
            "(1, 100, 100, 3)\n",
            "(1, 50, 50, 12)\n",
            "Best IoU found in this run: 0.9999990000010001\n",
            "Starting detector model training on batch\n",
            " 5/10 [==============>...............] - ETA: 24s - rpn_cls: 2.8825 - rpn_regr: 0.5833 - detector_cls: 0.7467 - detector_regr: 0.0000e+00 - average number of objects: 1.4000"
          ]
        },
        {
          "output_type": "stream",
          "name": "stderr",
          "text": [
            "  0%|          | 0/4 [00:00<?, ?it/s]"
          ]
        },
        {
          "output_type": "stream",
          "name": "stdout",
          "text": [
            "(100, 100)\n"
          ]
        },
        {
          "output_type": "stream",
          "name": "stderr",
          "text": [
            "100%|██████████| 4/4 [00:01<00:00,  3.92it/s]\n",
            "100%|██████████| 14/14 [00:00<00:00, 23563.51it/s]\n"
          ]
        },
        {
          "output_type": "stream",
          "name": "stdout",
          "text": [
            "Starting rpn model training on patch 100_16476_16729_100\n",
            "(1, 100, 100, 3)\n",
            "(1, 50, 50, 12)\n"
          ]
        },
        {
          "output_type": "stream",
          "name": "stderr",
          "text": [
            "  0%|          | 0/4 [00:00<?, ?it/s]"
          ]
        },
        {
          "output_type": "stream",
          "name": "stdout",
          "text": [
            "Best IoU found in this run: 0.9999990000010001\n",
            "Exception: 'a' cannot be empty unless no samples are taken\n",
            "Average number of overlapping bounding boxes from RPN = 2.1 for 10 previous iterations\n",
            "(100, 100)\n"
          ]
        },
        {
          "output_type": "stream",
          "name": "stderr",
          "text": [
            "100%|██████████| 4/4 [00:01<00:00,  3.02it/s]\n",
            "100%|██████████| 19/19 [00:00<00:00, 38075.38it/s]\n"
          ]
        },
        {
          "output_type": "stream",
          "name": "stdout",
          "text": [
            "Starting rpn model training on patch 3150_16426_16829_100\n",
            "(1, 100, 100, 3)\n",
            "(1, 50, 50, 12)\n"
          ]
        },
        {
          "output_type": "stream",
          "name": "stderr",
          "text": [
            "  0%|          | 0/4 [00:00<?, ?it/s]"
          ]
        },
        {
          "output_type": "stream",
          "name": "stdout",
          "text": [
            "Best IoU found in this run: 0.9999990000010001\n",
            "Exception: 'a' cannot be empty unless no samples are taken\n",
            "(100, 100)\n"
          ]
        },
        {
          "output_type": "stream",
          "name": "stderr",
          "text": [
            "100%|██████████| 4/4 [00:00<00:00,  4.95it/s]\n",
            "100%|██████████| 12/12 [00:00<00:00, 56616.03it/s]\n"
          ]
        },
        {
          "output_type": "stream",
          "name": "stdout",
          "text": [
            "Starting rpn model training on patch 0_16376_16729_100\n",
            "(1, 100, 100, 3)\n",
            "(1, 50, 50, 12)\n",
            "Best IoU found in this run: 0.9999990000010001\n",
            "Starting detector model training on batch\n",
            " 6/10 [=================>............] - ETA: 20s - rpn_cls: 2.9377 - rpn_regr: 0.5925 - detector_cls: 0.7745 - detector_regr: 0.0000e+00 - average number of objects: 1.5000"
          ]
        },
        {
          "output_type": "stream",
          "name": "stderr",
          "text": [
            "  0%|          | 0/4 [00:00<?, ?it/s]"
          ]
        },
        {
          "output_type": "stream",
          "name": "stdout",
          "text": [
            "(100, 100)\n"
          ]
        },
        {
          "output_type": "stream",
          "name": "stderr",
          "text": [
            "100%|██████████| 4/4 [00:01<00:00,  3.58it/s]\n",
            "100%|██████████| 15/15 [00:00<00:00, 21305.30it/s]\n"
          ]
        },
        {
          "output_type": "stream",
          "name": "stdout",
          "text": [
            "Starting rpn model training on patch 1550_16376_16779_100\n",
            "(1, 100, 100, 3)\n",
            "(1, 50, 50, 12)\n",
            "Best IoU found in this run: 0.9999990000010001\n",
            "Starting detector model training on batch\n",
            " 7/10 [====================>.........] - ETA: 14s - rpn_cls: 2.9825 - rpn_regr: 0.5953 - detector_cls: 0.7945 - detector_regr: 0.0000e+00 - average number of objects: 1.4286"
          ]
        },
        {
          "output_type": "stream",
          "name": "stderr",
          "text": [
            "  0%|          | 0/4 [00:00<?, ?it/s]"
          ]
        },
        {
          "output_type": "stream",
          "name": "stdout",
          "text": [
            "(100, 100)\n"
          ]
        },
        {
          "output_type": "stream",
          "name": "stderr",
          "text": [
            "100%|██████████| 4/4 [00:01<00:00,  2.92it/s]\n",
            "100%|██████████| 20/20 [00:00<00:00, 12893.65it/s]\n"
          ]
        },
        {
          "output_type": "stream",
          "name": "stdout",
          "text": [
            "Starting rpn model training on patch 3100_16376_16829_100\n",
            "(1, 100, 100, 3)\n",
            "(1, 50, 50, 12)\n"
          ]
        },
        {
          "output_type": "stream",
          "name": "stderr",
          "text": [
            "  0%|          | 0/4 [00:00<?, ?it/s]"
          ]
        },
        {
          "output_type": "stream",
          "name": "stdout",
          "text": [
            "Best IoU found in this run: 0.9999990000010001\n",
            "Exception: 'a' cannot be empty unless no samples are taken\n",
            "(100, 100)\n"
          ]
        },
        {
          "output_type": "stream",
          "name": "stderr",
          "text": [
            "100%|██████████| 4/4 [00:01<00:00,  3.00it/s]\n",
            "100%|██████████| 19/19 [00:00<00:00, 57497.67it/s]\n"
          ]
        },
        {
          "output_type": "stream",
          "name": "stdout",
          "text": [
            "Starting rpn model training on patch 1600_16426_16779_100\n",
            "(1, 100, 100, 3)\n",
            "(1, 50, 50, 12)\n",
            "Best IoU found in this run: 0.9999990000010001\n",
            "Starting detector model training on batch\n",
            " 8/10 [=======================>......] - ETA: 9s - rpn_cls: 3.0083 - rpn_regr: 0.5963 - detector_cls: 0.8091 - detector_regr: 0.0000e+00 - average number of objects: 1.5000 "
          ]
        },
        {
          "output_type": "stream",
          "name": "stderr",
          "text": [
            "  0%|          | 0/4 [00:00<?, ?it/s]"
          ]
        },
        {
          "output_type": "stream",
          "name": "stdout",
          "text": [
            "(100, 100)\n"
          ]
        },
        {
          "output_type": "stream",
          "name": "stderr",
          "text": [
            "100%|██████████| 4/4 [00:00<00:00,  4.14it/s]\n",
            "100%|██████████| 14/14 [00:00<00:00, 8153.33it/s]\n"
          ]
        },
        {
          "output_type": "stream",
          "name": "stdout",
          "text": [
            "Starting rpn model training on patch 100_16476_16729_100\n",
            "(1, 100, 100, 3)\n",
            "(1, 50, 50, 12)\n"
          ]
        },
        {
          "output_type": "stream",
          "name": "stderr",
          "text": [
            "  0%|          | 0/4 [00:00<?, ?it/s]"
          ]
        },
        {
          "output_type": "stream",
          "name": "stdout",
          "text": [
            "Best IoU found in this run: 0.9999990000010001\n",
            "Exception: 'a' cannot be empty unless no samples are taken\n",
            "(100, 100)\n"
          ]
        },
        {
          "output_type": "stream",
          "name": "stderr",
          "text": [
            "100%|██████████| 4/4 [00:01<00:00,  3.05it/s]\n",
            "100%|██████████| 19/19 [00:00<00:00, 36256.49it/s]\n"
          ]
        },
        {
          "output_type": "stream",
          "name": "stdout",
          "text": [
            "Starting rpn model training on patch 3150_16426_16829_100\n",
            "(1, 100, 100, 3)\n",
            "(1, 50, 50, 12)\n"
          ]
        },
        {
          "output_type": "stream",
          "name": "stderr",
          "text": [
            "  0%|          | 0/4 [00:00<?, ?it/s]"
          ]
        },
        {
          "output_type": "stream",
          "name": "stdout",
          "text": [
            "Best IoU found in this run: 0.9999990000010001\n",
            "Exception: 'a' cannot be empty unless no samples are taken\n",
            "(100, 100)\n"
          ]
        },
        {
          "output_type": "stream",
          "name": "stderr",
          "text": [
            "100%|██████████| 4/4 [00:00<00:00,  4.28it/s]\n",
            "100%|██████████| 12/12 [00:00<00:00, 13497.36it/s]\n"
          ]
        },
        {
          "output_type": "stream",
          "name": "stdout",
          "text": [
            "Starting rpn model training on patch 0_16376_16729_100\n",
            "(1, 100, 100, 3)\n",
            "(1, 50, 50, 12)\n",
            "Best IoU found in this run: 0.9999990000010001\n",
            "Starting detector model training on batch\n",
            " 9/10 [==========================>...] - ETA: 5s - rpn_cls: 3.0311 - rpn_regr: 0.5982 - detector_cls: 0.8156 - detector_regr: 0.0000e+00 - average number of objects: 1.5556"
          ]
        },
        {
          "output_type": "stream",
          "name": "stderr",
          "text": [
            "  0%|          | 0/4 [00:00<?, ?it/s]"
          ]
        },
        {
          "output_type": "stream",
          "name": "stdout",
          "text": [
            "(100, 100)\n"
          ]
        },
        {
          "output_type": "stream",
          "name": "stderr",
          "text": [
            "100%|██████████| 4/4 [00:01<00:00,  3.84it/s]\n",
            "100%|██████████| 15/15 [00:00<00:00, 37968.96it/s]\n"
          ]
        },
        {
          "output_type": "stream",
          "name": "stdout",
          "text": [
            "Starting rpn model training on patch 1550_16376_16779_100\n",
            "(1, 100, 100, 3)\n",
            "(1, 50, 50, 12)\n",
            "Best IoU found in this run: 0.9999990000010001\n",
            "Starting detector model training on batch\n",
            "10/10 [==============================] - 46s 5s/step - rpn_cls: 3.0570 - rpn_regr: 0.5995 - detector_cls: 0.8166 - detector_regr: 0.0000e+00 - average number of objects: 1.5000\n"
          ]
        },
        {
          "output_type": "stream",
          "name": "stderr",
          "text": [
            "  0%|          | 0/4 [00:00<?, ?it/s]"
          ]
        },
        {
          "output_type": "stream",
          "name": "stdout",
          "text": [
            "Mean number of bounding boxes from RPN overlapping ground truth boxes: 2.0588235294117645\n",
            "Classifier accuracy for bounding boxes from RPN: 0.525\n",
            "Loss RPN classifier: 3.2892939329147337\n",
            "Loss RPN regression: 0.6116275608539581\n",
            "Loss Detector classifier: 0.8247880190610886\n",
            "Loss Detector regression: 0.0\n",
            "Total loss: 4.725709512829781\n",
            "Elapsed time: 45.693538188934326\n",
            "Epoch 8/10\n",
            "(100, 100)\n"
          ]
        },
        {
          "output_type": "stream",
          "name": "stderr",
          "text": [
            "100%|██████████| 4/4 [00:01<00:00,  2.85it/s]\n",
            "100%|██████████| 20/20 [00:00<00:00, 33434.07it/s]\n"
          ]
        },
        {
          "output_type": "stream",
          "name": "stdout",
          "text": [
            "Starting rpn model training on patch 3100_16376_16829_100\n",
            "(1, 100, 100, 3)\n",
            "(1, 50, 50, 12)\n"
          ]
        },
        {
          "output_type": "stream",
          "name": "stderr",
          "text": [
            "  0%|          | 0/4 [00:00<?, ?it/s]"
          ]
        },
        {
          "output_type": "stream",
          "name": "stdout",
          "text": [
            "Best IoU found in this run: 0.9999990000010001\n",
            "Exception: 'a' cannot be empty unless no samples are taken\n",
            "Average number of overlapping bounding boxes from RPN = 2.2 for 10 previous iterations\n",
            "(100, 100)\n"
          ]
        },
        {
          "output_type": "stream",
          "name": "stderr",
          "text": [
            "100%|██████████| 4/4 [00:01<00:00,  2.93it/s]\n",
            "100%|██████████| 19/19 [00:00<00:00, 54921.97it/s]\n"
          ]
        },
        {
          "output_type": "stream",
          "name": "stdout",
          "text": [
            "Starting rpn model training on patch 1600_16426_16779_100\n",
            "(1, 100, 100, 3)\n",
            "(1, 50, 50, 12)\n",
            "Best IoU found in this run: 0.9999990000010001\n",
            "Starting detector model training on batch\n",
            " 1/10 [==>...........................] - ETA: 49s - rpn_cls: 4.7276 - rpn_regr: 0.6256 - detector_cls: 0.5687 - detector_regr: 0.0000e+00 - average number of objects: 1.0000"
          ]
        },
        {
          "output_type": "stream",
          "name": "stderr",
          "text": [
            "  0%|          | 0/4 [00:00<?, ?it/s]"
          ]
        },
        {
          "output_type": "stream",
          "name": "stdout",
          "text": [
            "(100, 100)\n"
          ]
        },
        {
          "output_type": "stream",
          "name": "stderr",
          "text": [
            "100%|██████████| 4/4 [00:00<00:00,  4.19it/s]\n",
            "100%|██████████| 14/14 [00:00<00:00, 11843.54it/s]\n"
          ]
        },
        {
          "output_type": "stream",
          "name": "stdout",
          "text": [
            "Starting rpn model training on patch 100_16476_16729_100\n",
            "(1, 100, 100, 3)\n",
            "(1, 50, 50, 12)\n"
          ]
        },
        {
          "output_type": "stream",
          "name": "stderr",
          "text": [
            "  0%|          | 0/4 [00:00<?, ?it/s]"
          ]
        },
        {
          "output_type": "stream",
          "name": "stdout",
          "text": [
            "Best IoU found in this run: 0.9999990000010001\n",
            "Exception: 'a' cannot be empty unless no samples are taken\n",
            "(100, 100)\n"
          ]
        },
        {
          "output_type": "stream",
          "name": "stderr",
          "text": [
            "100%|██████████| 4/4 [00:01<00:00,  3.10it/s]\n",
            "100%|██████████| 19/19 [00:00<00:00, 34724.09it/s]\n"
          ]
        },
        {
          "output_type": "stream",
          "name": "stdout",
          "text": [
            "Starting rpn model training on patch 3150_16426_16829_100\n",
            "(1, 100, 100, 3)\n",
            "(1, 50, 50, 12)\n"
          ]
        },
        {
          "output_type": "stream",
          "name": "stderr",
          "text": [
            "  0%|          | 0/4 [00:00<?, ?it/s]"
          ]
        },
        {
          "output_type": "stream",
          "name": "stdout",
          "text": [
            "Best IoU found in this run: 0.9999990000010001\n",
            "Exception: 'a' cannot be empty unless no samples are taken\n",
            "(100, 100)\n"
          ]
        },
        {
          "output_type": "stream",
          "name": "stderr",
          "text": [
            "100%|██████████| 4/4 [00:00<00:00,  4.88it/s]\n",
            "100%|██████████| 12/12 [00:00<00:00, 50231.19it/s]\n"
          ]
        },
        {
          "output_type": "stream",
          "name": "stdout",
          "text": [
            "Starting rpn model training on patch 0_16376_16729_100\n",
            "(1, 100, 100, 3)\n",
            "(1, 50, 50, 12)\n",
            "Best IoU found in this run: 0.9999990000010001\n",
            "Starting detector model training on batch\n",
            " 2/10 [=====>........................] - ETA: 53s - rpn_cls: 4.2123 - rpn_regr: 0.5950 - detector_cls: 0.5528 - detector_regr: 0.0000e+00 - average number of objects: 1.5000"
          ]
        },
        {
          "output_type": "stream",
          "name": "stderr",
          "text": [
            "  0%|          | 0/4 [00:00<?, ?it/s]"
          ]
        },
        {
          "output_type": "stream",
          "name": "stdout",
          "text": [
            "(100, 100)\n"
          ]
        },
        {
          "output_type": "stream",
          "name": "stderr",
          "text": [
            "100%|██████████| 4/4 [00:01<00:00,  3.70it/s]\n",
            "100%|██████████| 15/15 [00:00<00:00, 15047.73it/s]\n"
          ]
        },
        {
          "output_type": "stream",
          "name": "stdout",
          "text": [
            "Starting rpn model training on patch 1550_16376_16779_100\n",
            "(1, 100, 100, 3)\n",
            "(1, 50, 50, 12)\n",
            "Best IoU found in this run: 0.9999990000010001\n",
            "Starting detector model training on batch\n",
            " 3/10 [========>.....................] - ETA: 31s - rpn_cls: 3.9602 - rpn_regr: 0.5707 - detector_cls: 0.5827 - detector_regr: 0.0000e+00 - average number of objects: 1.3333"
          ]
        },
        {
          "output_type": "stream",
          "name": "stderr",
          "text": [
            "  0%|          | 0/4 [00:00<?, ?it/s]"
          ]
        },
        {
          "output_type": "stream",
          "name": "stdout",
          "text": [
            "(100, 100)\n"
          ]
        },
        {
          "output_type": "stream",
          "name": "stderr",
          "text": [
            "100%|██████████| 4/4 [00:01<00:00,  2.89it/s]\n",
            "100%|██████████| 20/20 [00:00<00:00, 22900.92it/s]\n"
          ]
        },
        {
          "output_type": "stream",
          "name": "stdout",
          "text": [
            "Starting rpn model training on patch 3100_16376_16829_100\n",
            "(1, 100, 100, 3)\n",
            "(1, 50, 50, 12)\n"
          ]
        },
        {
          "output_type": "stream",
          "name": "stderr",
          "text": [
            "  0%|          | 0/4 [00:00<?, ?it/s]"
          ]
        },
        {
          "output_type": "stream",
          "name": "stdout",
          "text": [
            "Best IoU found in this run: 0.9999990000010001\n",
            "Exception: 'a' cannot be empty unless no samples are taken\n",
            "(100, 100)\n"
          ]
        },
        {
          "output_type": "stream",
          "name": "stderr",
          "text": [
            "100%|██████████| 4/4 [00:01<00:00,  3.14it/s]\n",
            "100%|██████████| 19/19 [00:00<00:00, 35450.08it/s]\n"
          ]
        },
        {
          "output_type": "stream",
          "name": "stdout",
          "text": [
            "Starting rpn model training on patch 1600_16426_16779_100\n",
            "(1, 100, 100, 3)\n",
            "(1, 50, 50, 12)\n",
            "Best IoU found in this run: 0.9999990000010001\n",
            "Starting detector model training on batch\n",
            " 4/10 [===========>..................] - ETA: 28s - rpn_cls: 3.8258 - rpn_regr: 1.7643 - detector_cls: 0.6069 - detector_regr: 0.0000e+00 - average number of objects: 1.5000"
          ]
        },
        {
          "output_type": "stream",
          "name": "stderr",
          "text": [
            "  0%|          | 0/4 [00:00<?, ?it/s]"
          ]
        },
        {
          "output_type": "stream",
          "name": "stdout",
          "text": [
            "(100, 100)\n"
          ]
        },
        {
          "output_type": "stream",
          "name": "stderr",
          "text": [
            "100%|██████████| 4/4 [00:01<00:00,  3.86it/s]\n",
            "100%|██████████| 14/14 [00:00<00:00, 36654.34it/s]\n"
          ]
        },
        {
          "output_type": "stream",
          "name": "stdout",
          "text": [
            "Starting rpn model training on patch 100_16476_16729_100\n",
            "(1, 100, 100, 3)\n",
            "(1, 50, 50, 12)\n"
          ]
        },
        {
          "output_type": "stream",
          "name": "stderr",
          "text": [
            "  0%|          | 0/4 [00:00<?, ?it/s]"
          ]
        },
        {
          "output_type": "stream",
          "name": "stdout",
          "text": [
            "Best IoU found in this run: 0.9999990000010001\n",
            "Exception: 'a' cannot be empty unless no samples are taken\n",
            "(100, 100)\n"
          ]
        },
        {
          "output_type": "stream",
          "name": "stderr",
          "text": [
            "100%|██████████| 4/4 [00:01<00:00,  3.10it/s]\n",
            "100%|██████████| 19/19 [00:00<00:00, 44821.02it/s]\n"
          ]
        },
        {
          "output_type": "stream",
          "name": "stdout",
          "text": [
            "Starting rpn model training on patch 3150_16426_16829_100\n",
            "(1, 100, 100, 3)\n",
            "(1, 50, 50, 12)\n"
          ]
        },
        {
          "output_type": "stream",
          "name": "stderr",
          "text": [
            "  0%|          | 0/4 [00:00<?, ?it/s]"
          ]
        },
        {
          "output_type": "stream",
          "name": "stdout",
          "text": [
            "Best IoU found in this run: 0.9999990000010001\n",
            "Exception: 'a' cannot be empty unless no samples are taken\n",
            "(100, 100)\n"
          ]
        },
        {
          "output_type": "stream",
          "name": "stderr",
          "text": [
            "100%|██████████| 4/4 [00:00<00:00,  4.83it/s]\n",
            "100%|██████████| 12/12 [00:00<00:00, 26973.02it/s]\n"
          ]
        },
        {
          "output_type": "stream",
          "name": "stdout",
          "text": [
            "Starting rpn model training on patch 0_16376_16729_100\n",
            "(1, 100, 100, 3)\n",
            "(1, 50, 50, 12)\n",
            "Best IoU found in this run: 0.9999990000010001\n",
            "Starting detector model training on batch\n",
            " 5/10 [==============>...............] - ETA: 26s - rpn_cls: 3.7218 - rpn_regr: 2.2965 - detector_cls: 0.6276 - detector_regr: 0.0000e+00 - average number of objects: 1.6000"
          ]
        },
        {
          "output_type": "stream",
          "name": "stderr",
          "text": [
            "  0%|          | 0/4 [00:00<?, ?it/s]"
          ]
        },
        {
          "output_type": "stream",
          "name": "stdout",
          "text": [
            "Average number of overlapping bounding boxes from RPN = 1.7 for 10 previous iterations\n",
            "(100, 100)\n"
          ]
        },
        {
          "output_type": "stream",
          "name": "stderr",
          "text": [
            "100%|██████████| 4/4 [00:01<00:00,  3.64it/s]\n",
            "100%|██████████| 15/15 [00:00<00:00, 14675.66it/s]\n"
          ]
        },
        {
          "output_type": "stream",
          "name": "stdout",
          "text": [
            "Starting rpn model training on patch 1550_16376_16779_100\n",
            "(1, 100, 100, 3)\n",
            "(1, 50, 50, 12)\n",
            "Best IoU found in this run: 0.9999990000010001\n",
            "Starting detector model training on batch\n",
            " 6/10 [=================>............] - ETA: 18s - rpn_cls: 3.6571 - rpn_regr: 2.5433 - detector_cls: 0.6315 - detector_regr: 0.0000e+00 - average number of objects: 1.5000"
          ]
        },
        {
          "output_type": "stream",
          "name": "stderr",
          "text": [
            "  0%|          | 0/4 [00:00<?, ?it/s]"
          ]
        },
        {
          "output_type": "stream",
          "name": "stdout",
          "text": [
            "(100, 100)\n"
          ]
        },
        {
          "output_type": "stream",
          "name": "stderr",
          "text": [
            "100%|██████████| 4/4 [00:01<00:00,  2.83it/s]\n",
            "100%|██████████| 20/20 [00:00<00:00, 35696.20it/s]\n"
          ]
        },
        {
          "output_type": "stream",
          "name": "stdout",
          "text": [
            "Starting rpn model training on patch 3100_16376_16829_100\n",
            "(1, 100, 100, 3)\n",
            "(1, 50, 50, 12)\n"
          ]
        },
        {
          "output_type": "stream",
          "name": "stderr",
          "text": [
            "  0%|          | 0/4 [00:00<?, ?it/s]"
          ]
        },
        {
          "output_type": "stream",
          "name": "stdout",
          "text": [
            "Best IoU found in this run: 0.9999990000010001\n",
            "Exception: 'a' cannot be empty unless no samples are taken\n",
            "(100, 100)\n"
          ]
        },
        {
          "output_type": "stream",
          "name": "stderr",
          "text": [
            "100%|██████████| 4/4 [00:01<00:00,  3.01it/s]\n",
            "100%|██████████| 19/19 [00:00<00:00, 62700.06it/s]\n"
          ]
        },
        {
          "output_type": "stream",
          "name": "stdout",
          "text": [
            "Starting rpn model training on patch 1600_16426_16779_100\n",
            "(1, 100, 100, 3)\n",
            "(1, 50, 50, 12)\n",
            "Best IoU found in this run: 0.9999990000010001\n",
            "Starting detector model training on batch\n",
            " 7/10 [====================>.........] - ETA: 14s - rpn_cls: 3.6022 - rpn_regr: 2.6540 - detector_cls: 0.6383 - detector_regr: 0.0000e+00 - average number of objects: 1.5714"
          ]
        },
        {
          "output_type": "stream",
          "name": "stderr",
          "text": [
            "  0%|          | 0/4 [00:00<?, ?it/s]"
          ]
        },
        {
          "output_type": "stream",
          "name": "stdout",
          "text": [
            "(100, 100)\n"
          ]
        },
        {
          "output_type": "stream",
          "name": "stderr",
          "text": [
            "100%|██████████| 4/4 [00:01<00:00,  3.79it/s]\n",
            "100%|██████████| 14/14 [00:00<00:00, 48449.06it/s]\n"
          ]
        },
        {
          "output_type": "stream",
          "name": "stdout",
          "text": [
            "Starting rpn model training on patch 100_16476_16729_100\n",
            "(1, 100, 100, 3)\n",
            "(1, 50, 50, 12)\n"
          ]
        },
        {
          "output_type": "stream",
          "name": "stderr",
          "text": [
            "  0%|          | 0/4 [00:00<?, ?it/s]"
          ]
        },
        {
          "output_type": "stream",
          "name": "stdout",
          "text": [
            "Best IoU found in this run: 0.9999990000010001\n",
            "Exception: 'a' cannot be empty unless no samples are taken\n",
            "(100, 100)\n"
          ]
        },
        {
          "output_type": "stream",
          "name": "stderr",
          "text": [
            "100%|██████████| 4/4 [00:01<00:00,  3.14it/s]\n",
            "100%|██████████| 19/19 [00:00<00:00, 43858.99it/s]\n"
          ]
        },
        {
          "output_type": "stream",
          "name": "stdout",
          "text": [
            "Starting rpn model training on patch 3150_16426_16829_100\n",
            "(1, 100, 100, 3)\n",
            "(1, 50, 50, 12)\n"
          ]
        },
        {
          "output_type": "stream",
          "name": "stderr",
          "text": [
            "  0%|          | 0/4 [00:00<?, ?it/s]"
          ]
        },
        {
          "output_type": "stream",
          "name": "stdout",
          "text": [
            "Best IoU found in this run: 0.9999990000010001\n",
            "Exception: 'a' cannot be empty unless no samples are taken\n",
            "(100, 100)\n"
          ]
        },
        {
          "output_type": "stream",
          "name": "stderr",
          "text": [
            "100%|██████████| 4/4 [00:00<00:00,  4.88it/s]\n",
            "100%|██████████| 12/12 [00:00<00:00, 38836.15it/s]\n"
          ]
        },
        {
          "output_type": "stream",
          "name": "stdout",
          "text": [
            "Starting rpn model training on patch 0_16376_16729_100\n",
            "(1, 100, 100, 3)\n",
            "(1, 50, 50, 12)\n",
            "Best IoU found in this run: 0.9999990000010001\n",
            "Starting detector model training on batch\n",
            " 8/10 [=======================>......] - ETA: 9s - rpn_cls: 3.5484 - rpn_regr: 2.6956 - detector_cls: 0.6384 - detector_regr: 0.0000e+00 - average number of objects: 1.6250 "
          ]
        },
        {
          "output_type": "stream",
          "name": "stderr",
          "text": [
            "  0%|          | 0/4 [00:00<?, ?it/s]"
          ]
        },
        {
          "output_type": "stream",
          "name": "stdout",
          "text": [
            "(100, 100)\n"
          ]
        },
        {
          "output_type": "stream",
          "name": "stderr",
          "text": [
            "100%|██████████| 4/4 [00:01<00:00,  3.64it/s]\n",
            "100%|██████████| 15/15 [00:00<00:00, 7580.07it/s]\n"
          ]
        },
        {
          "output_type": "stream",
          "name": "stdout",
          "text": [
            "Starting rpn model training on patch 1550_16376_16779_100\n",
            "(1, 100, 100, 3)\n",
            "(1, 50, 50, 12)\n",
            "Best IoU found in this run: 0.9999990000010001\n",
            "Starting detector model training on batch\n",
            " 9/10 [==========================>...] - ETA: 4s - rpn_cls: 3.4918 - rpn_regr: 2.6999 - detector_cls: 0.6483 - detector_regr: 0.0000e+00 - average number of objects: 1.5556"
          ]
        },
        {
          "output_type": "stream",
          "name": "stderr",
          "text": [
            "  0%|          | 0/4 [00:00<?, ?it/s]"
          ]
        },
        {
          "output_type": "stream",
          "name": "stdout",
          "text": [
            "(100, 100)\n"
          ]
        },
        {
          "output_type": "stream",
          "name": "stderr",
          "text": [
            "100%|██████████| 4/4 [00:01<00:00,  2.94it/s]\n",
            "100%|██████████| 20/20 [00:00<00:00, 26886.56it/s]\n"
          ]
        },
        {
          "output_type": "stream",
          "name": "stdout",
          "text": [
            "Starting rpn model training on patch 3100_16376_16829_100\n",
            "(1, 100, 100, 3)\n",
            "(1, 50, 50, 12)\n"
          ]
        },
        {
          "output_type": "stream",
          "name": "stderr",
          "text": [
            "  0%|          | 0/4 [00:00<?, ?it/s]"
          ]
        },
        {
          "output_type": "stream",
          "name": "stdout",
          "text": [
            "Best IoU found in this run: 0.9999990000010001\n",
            "Exception: 'a' cannot be empty unless no samples are taken\n",
            "(100, 100)\n"
          ]
        },
        {
          "output_type": "stream",
          "name": "stderr",
          "text": [
            "100%|██████████| 4/4 [00:01<00:00,  3.12it/s]\n",
            "100%|██████████| 19/19 [00:00<00:00, 27651.55it/s]\n"
          ]
        },
        {
          "output_type": "stream",
          "name": "stdout",
          "text": [
            "Starting rpn model training on patch 1600_16426_16779_100\n",
            "(1, 100, 100, 3)\n",
            "(1, 50, 50, 12)\n",
            "Best IoU found in this run: 0.9999990000010001\n",
            "Starting detector model training on batch\n",
            "10/10 [==============================] - 48s 5s/step - rpn_cls: 3.4369 - rpn_regr: 2.6812 - detector_cls: 0.6593 - detector_regr: 0.0000e+00 - average number of objects: 1.6000\n"
          ]
        },
        {
          "output_type": "stream",
          "name": "stderr",
          "text": [
            "  0%|          | 0/4 [00:00<?, ?it/s]"
          ]
        },
        {
          "output_type": "stream",
          "name": "stdout",
          "text": [
            "Mean number of bounding boxes from RPN overlapping ground truth boxes: 1.95\n",
            "Classifier accuracy for bounding boxes from RPN: 0.55\n",
            "Loss RPN classifier: 2.9429466128349304\n",
            "Loss RPN regression: 2.5127266108989716\n",
            "Loss Detector classifier: 0.758382362127304\n",
            "Loss Detector regression: 0.0\n",
            "Total loss: 6.214055585861206\n",
            "Elapsed time: 48.401129961013794\n",
            "Epoch 9/10\n",
            "(100, 100)\n"
          ]
        },
        {
          "output_type": "stream",
          "name": "stderr",
          "text": [
            "100%|██████████| 4/4 [00:01<00:00,  3.77it/s]\n",
            "100%|██████████| 14/14 [00:00<00:00, 12821.02it/s]\n"
          ]
        },
        {
          "output_type": "stream",
          "name": "stdout",
          "text": [
            "Starting rpn model training on patch 100_16476_16729_100\n",
            "(1, 100, 100, 3)\n",
            "(1, 50, 50, 12)\n"
          ]
        },
        {
          "output_type": "stream",
          "name": "stderr",
          "text": [
            "  0%|          | 0/4 [00:00<?, ?it/s]"
          ]
        },
        {
          "output_type": "stream",
          "name": "stdout",
          "text": [
            "Best IoU found in this run: 0.9999990000010001\n",
            "Exception: 'a' cannot be empty unless no samples are taken\n",
            "Average number of overlapping bounding boxes from RPN = 2.4 for 10 previous iterations\n",
            "(100, 100)\n"
          ]
        },
        {
          "output_type": "stream",
          "name": "stderr",
          "text": [
            "100%|██████████| 4/4 [00:01<00:00,  3.13it/s]\n",
            "100%|██████████| 19/19 [00:00<00:00, 42707.28it/s]\n"
          ]
        },
        {
          "output_type": "stream",
          "name": "stdout",
          "text": [
            "Starting rpn model training on patch 3150_16426_16829_100\n",
            "(1, 100, 100, 3)\n",
            "(1, 50, 50, 12)\n"
          ]
        },
        {
          "output_type": "stream",
          "name": "stderr",
          "text": [
            "  0%|          | 0/4 [00:00<?, ?it/s]"
          ]
        },
        {
          "output_type": "stream",
          "name": "stdout",
          "text": [
            "Exception: 'NoneType' object is not iterable\n",
            "(100, 100)\n"
          ]
        },
        {
          "output_type": "stream",
          "name": "stderr",
          "text": [
            "100%|██████████| 4/4 [00:00<00:00,  4.93it/s]\n",
            "100%|██████████| 12/12 [00:00<00:00, 43652.77it/s]\n"
          ]
        },
        {
          "output_type": "stream",
          "name": "stdout",
          "text": [
            "Starting rpn model training on patch 0_16376_16729_100\n",
            "(1, 100, 100, 3)\n",
            "(1, 50, 50, 12)\n",
            "Best IoU found in this run: 0.9999990000010001\n",
            "Starting detector model training on batch\n",
            " 1/10 [==>...........................] - ETA: 59s - rpn_cls: 5.1226 - rpn_regr: 0.7543 - detector_cls: 0.7324 - detector_regr: 0.0000e+00 - average number of objects: 2.0000"
          ]
        },
        {
          "output_type": "stream",
          "name": "stderr",
          "text": [
            "  0%|          | 0/4 [00:00<?, ?it/s]"
          ]
        },
        {
          "output_type": "stream",
          "name": "stdout",
          "text": [
            "(100, 100)\n"
          ]
        },
        {
          "output_type": "stream",
          "name": "stderr",
          "text": [
            "100%|██████████| 4/4 [00:01<00:00,  3.75it/s]\n",
            "100%|██████████| 15/15 [00:00<00:00, 9500.84it/s]\n"
          ]
        },
        {
          "output_type": "stream",
          "name": "stdout",
          "text": [
            "Starting rpn model training on patch 1550_16376_16779_100\n",
            "(1, 100, 100, 3)\n",
            "(1, 50, 50, 12)\n",
            "Best IoU found in this run: 0.9999990000010001\n",
            "Starting detector model training on batch\n",
            " 2/10 [=====>........................] - ETA: 18s - rpn_cls: 4.5854 - rpn_regr: 0.6881 - detector_cls: 0.8815 - detector_regr: 0.0000e+00 - average number of objects: 1.5000"
          ]
        },
        {
          "output_type": "stream",
          "name": "stderr",
          "text": [
            "  0%|          | 0/4 [00:00<?, ?it/s]"
          ]
        },
        {
          "output_type": "stream",
          "name": "stdout",
          "text": [
            "(100, 100)\n"
          ]
        },
        {
          "output_type": "stream",
          "name": "stderr",
          "text": [
            "100%|██████████| 4/4 [00:01<00:00,  2.95it/s]\n",
            "100%|██████████| 20/20 [00:00<00:00, 14155.60it/s]\n"
          ]
        },
        {
          "output_type": "stream",
          "name": "stdout",
          "text": [
            "Starting rpn model training on patch 3100_16376_16829_100\n",
            "(1, 100, 100, 3)\n",
            "(1, 50, 50, 12)\n"
          ]
        },
        {
          "output_type": "stream",
          "name": "stderr",
          "text": [
            "  0%|          | 0/4 [00:00<?, ?it/s]"
          ]
        },
        {
          "output_type": "stream",
          "name": "stdout",
          "text": [
            "Exception: 'NoneType' object is not iterable\n",
            "(100, 100)\n"
          ]
        },
        {
          "output_type": "stream",
          "name": "stderr",
          "text": [
            "100%|██████████| 4/4 [00:01<00:00,  3.14it/s]\n",
            "100%|██████████| 19/19 [00:00<00:00, 39026.33it/s]\n"
          ]
        },
        {
          "output_type": "stream",
          "name": "stdout",
          "text": [
            "Starting rpn model training on patch 1600_16426_16779_100\n",
            "(1, 100, 100, 3)\n",
            "(1, 50, 50, 12)\n",
            "Best IoU found in this run: 0.9999990000010001\n",
            "Starting detector model training on batch\n",
            " 3/10 [========>.....................] - ETA: 25s - rpn_cls: 4.3062 - rpn_regr: 0.6723 - detector_cls: 0.8831 - detector_regr: 0.0000e+00 - average number of objects: 1.3333"
          ]
        },
        {
          "output_type": "stream",
          "name": "stderr",
          "text": [
            "  0%|          | 0/4 [00:00<?, ?it/s]"
          ]
        },
        {
          "output_type": "stream",
          "name": "stdout",
          "text": [
            "(100, 100)\n"
          ]
        },
        {
          "output_type": "stream",
          "name": "stderr",
          "text": [
            "100%|██████████| 4/4 [00:00<00:00,  4.24it/s]\n",
            "100%|██████████| 14/14 [00:00<00:00, 15575.66it/s]\n"
          ]
        },
        {
          "output_type": "stream",
          "name": "stdout",
          "text": [
            "Starting rpn model training on patch 100_16476_16729_100\n",
            "(1, 100, 100, 3)\n",
            "(1, 50, 50, 12)\n"
          ]
        },
        {
          "output_type": "stream",
          "name": "stderr",
          "text": [
            "  0%|          | 0/4 [00:00<?, ?it/s]"
          ]
        },
        {
          "output_type": "stream",
          "name": "stdout",
          "text": [
            "Best IoU found in this run: 0.9999990000010001\n",
            "Exception: 'a' cannot be empty unless no samples are taken\n",
            "(100, 100)\n"
          ]
        },
        {
          "output_type": "stream",
          "name": "stderr",
          "text": [
            "100%|██████████| 4/4 [00:01<00:00,  3.13it/s]\n",
            "100%|██████████| 19/19 [00:00<00:00, 42209.63it/s]\n"
          ]
        },
        {
          "output_type": "stream",
          "name": "stdout",
          "text": [
            "Starting rpn model training on patch 3150_16426_16829_100\n",
            "(1, 100, 100, 3)\n",
            "(1, 50, 50, 12)\n"
          ]
        },
        {
          "output_type": "stream",
          "name": "stderr",
          "text": [
            "  0%|          | 0/4 [00:00<?, ?it/s]"
          ]
        },
        {
          "output_type": "stream",
          "name": "stdout",
          "text": [
            "Best IoU found in this run: 0.9999990000010001\n",
            "Exception: 'a' cannot be empty unless no samples are taken\n",
            "(100, 100)\n"
          ]
        },
        {
          "output_type": "stream",
          "name": "stderr",
          "text": [
            "100%|██████████| 4/4 [00:00<00:00,  4.87it/s]\n",
            "100%|██████████| 12/12 [00:00<00:00, 38362.54it/s]\n"
          ]
        },
        {
          "output_type": "stream",
          "name": "stdout",
          "text": [
            "Starting rpn model training on patch 0_16376_16729_100\n",
            "(1, 100, 100, 3)\n",
            "(1, 50, 50, 12)\n",
            "Best IoU found in this run: 0.9999990000010001\n",
            "Starting detector model training on batch\n",
            " 4/10 [===========>..................] - ETA: 27s - rpn_cls: 4.2247 - rpn_regr: 0.6557 - detector_cls: 0.8580 - detector_regr: 0.0000e+00 - average number of objects: 1.5000"
          ]
        },
        {
          "output_type": "stream",
          "name": "stderr",
          "text": [
            "  0%|          | 0/4 [00:00<?, ?it/s]"
          ]
        },
        {
          "output_type": "stream",
          "name": "stdout",
          "text": [
            "(100, 100)\n"
          ]
        },
        {
          "output_type": "stream",
          "name": "stderr",
          "text": [
            "100%|██████████| 4/4 [00:01<00:00,  3.66it/s]\n",
            "100%|██████████| 15/15 [00:00<00:00, 26456.92it/s]\n"
          ]
        },
        {
          "output_type": "stream",
          "name": "stdout",
          "text": [
            "Starting rpn model training on patch 1550_16376_16779_100\n",
            "(1, 100, 100, 3)\n",
            "(1, 50, 50, 12)\n",
            "Best IoU found in this run: 0.9999990000010001\n",
            "Starting detector model training on batch\n",
            " 5/10 [==============>...............] - ETA: 20s - rpn_cls: 4.1555 - rpn_regr: 0.6379 - detector_cls: 0.8294 - detector_regr: 0.0000e+00 - average number of objects: 1.4000"
          ]
        },
        {
          "output_type": "stream",
          "name": "stderr",
          "text": [
            "  0%|          | 0/4 [00:00<?, ?it/s]"
          ]
        },
        {
          "output_type": "stream",
          "name": "stdout",
          "text": [
            "(100, 100)\n"
          ]
        },
        {
          "output_type": "stream",
          "name": "stderr",
          "text": [
            "100%|██████████| 4/4 [00:01<00:00,  2.88it/s]\n",
            "100%|██████████| 20/20 [00:00<00:00, 31115.01it/s]\n"
          ]
        },
        {
          "output_type": "stream",
          "name": "stdout",
          "text": [
            "Starting rpn model training on patch 3100_16376_16829_100\n",
            "(1, 100, 100, 3)\n",
            "(1, 50, 50, 12)\n"
          ]
        },
        {
          "output_type": "stream",
          "name": "stderr",
          "text": [
            "  0%|          | 0/4 [00:00<?, ?it/s]"
          ]
        },
        {
          "output_type": "stream",
          "name": "stdout",
          "text": [
            "Best IoU found in this run: 0.9999990000010001\n",
            "Exception: 'a' cannot be empty unless no samples are taken\n",
            "(100, 100)\n"
          ]
        },
        {
          "output_type": "stream",
          "name": "stderr",
          "text": [
            "100%|██████████| 4/4 [00:01<00:00,  2.96it/s]\n",
            "100%|██████████| 19/19 [00:00<00:00, 43786.69it/s]\n"
          ]
        },
        {
          "output_type": "stream",
          "name": "stdout",
          "text": [
            "Starting rpn model training on patch 1600_16426_16779_100\n",
            "(1, 100, 100, 3)\n",
            "(1, 50, 50, 12)\n",
            "Best IoU found in this run: 0.9999990000010001\n",
            "Starting detector model training on batch\n",
            " 6/10 [=================>............] - ETA: 17s - rpn_cls: 4.1283 - rpn_regr: 0.6279 - detector_cls: 0.8443 - detector_regr: 0.0000e+00 - average number of objects: 1.5000"
          ]
        },
        {
          "output_type": "stream",
          "name": "stderr",
          "text": [
            "  0%|          | 0/4 [00:00<?, ?it/s]"
          ]
        },
        {
          "output_type": "stream",
          "name": "stdout",
          "text": [
            "(100, 100)\n"
          ]
        },
        {
          "output_type": "stream",
          "name": "stderr",
          "text": [
            "100%|██████████| 4/4 [00:01<00:00,  3.97it/s]\n",
            "100%|██████████| 14/14 [00:00<00:00, 22301.65it/s]\n"
          ]
        },
        {
          "output_type": "stream",
          "name": "stdout",
          "text": [
            "Starting rpn model training on patch 100_16476_16729_100\n",
            "(1, 100, 100, 3)\n",
            "(1, 50, 50, 12)\n"
          ]
        },
        {
          "output_type": "stream",
          "name": "stderr",
          "text": [
            "  0%|          | 0/4 [00:00<?, ?it/s]"
          ]
        },
        {
          "output_type": "stream",
          "name": "stdout",
          "text": [
            "Best IoU found in this run: 0.9999990000010001\n",
            "Exception: 'a' cannot be empty unless no samples are taken\n",
            "Average number of overlapping bounding boxes from RPN = 2.1 for 10 previous iterations\n",
            "(100, 100)\n"
          ]
        },
        {
          "output_type": "stream",
          "name": "stderr",
          "text": [
            "100%|██████████| 4/4 [00:01<00:00,  3.07it/s]\n",
            "100%|██████████| 19/19 [00:00<00:00, 32211.71it/s]\n"
          ]
        },
        {
          "output_type": "stream",
          "name": "stdout",
          "text": [
            "Starting rpn model training on patch 3150_16426_16829_100\n",
            "(1, 100, 100, 3)\n",
            "(1, 50, 50, 12)\n"
          ]
        },
        {
          "output_type": "stream",
          "name": "stderr",
          "text": [
            "  0%|          | 0/4 [00:00<?, ?it/s]"
          ]
        },
        {
          "output_type": "stream",
          "name": "stdout",
          "text": [
            "Exception: 'NoneType' object is not iterable\n",
            "(100, 100)\n"
          ]
        },
        {
          "output_type": "stream",
          "name": "stderr",
          "text": [
            "100%|██████████| 4/4 [00:00<00:00,  4.93it/s]\n",
            "100%|██████████| 12/12 [00:00<00:00, 27578.99it/s]\n"
          ]
        },
        {
          "output_type": "stream",
          "name": "stdout",
          "text": [
            "Starting rpn model training on patch 0_16376_16729_100\n",
            "(1, 100, 100, 3)\n",
            "(1, 50, 50, 12)\n",
            "Best IoU found in this run: 0.9999990000010001\n",
            "Starting detector model training on batch\n",
            " 7/10 [====================>.........] - ETA: 14s - rpn_cls: 4.0853 - rpn_regr: 0.6239 - detector_cls: 0.8634 - detector_regr: 0.0000e+00 - average number of objects: 1.5714"
          ]
        },
        {
          "output_type": "stream",
          "name": "stderr",
          "text": [
            "  0%|          | 0/4 [00:00<?, ?it/s]"
          ]
        },
        {
          "output_type": "stream",
          "name": "stdout",
          "text": [
            "(100, 100)\n"
          ]
        },
        {
          "output_type": "stream",
          "name": "stderr",
          "text": [
            "100%|██████████| 4/4 [00:01<00:00,  3.81it/s]\n",
            "100%|██████████| 15/15 [00:00<00:00, 15405.13it/s]\n"
          ]
        },
        {
          "output_type": "stream",
          "name": "stdout",
          "text": [
            "Starting rpn model training on patch 1550_16376_16779_100\n",
            "(1, 100, 100, 3)\n",
            "(1, 50, 50, 12)\n",
            "Best IoU found in this run: 0.9999990000010001\n",
            "Starting detector model training on batch\n",
            " 8/10 [=======================>......] - ETA: 8s - rpn_cls: 4.0347 - rpn_regr: 0.6190 - detector_cls: 0.8737 - detector_regr: 0.0000e+00 - average number of objects: 1.6250 "
          ]
        },
        {
          "output_type": "stream",
          "name": "stderr",
          "text": [
            "  0%|          | 0/4 [00:00<?, ?it/s]"
          ]
        },
        {
          "output_type": "stream",
          "name": "stdout",
          "text": [
            "(100, 100)\n"
          ]
        },
        {
          "output_type": "stream",
          "name": "stderr",
          "text": [
            "100%|██████████| 4/4 [00:01<00:00,  2.81it/s]\n",
            "100%|██████████| 20/20 [00:00<00:00, 42733.61it/s]\n"
          ]
        },
        {
          "output_type": "stream",
          "name": "stdout",
          "text": [
            "Starting rpn model training on patch 3100_16376_16829_100\n",
            "(1, 100, 100, 3)\n",
            "(1, 50, 50, 12)\n"
          ]
        },
        {
          "output_type": "stream",
          "name": "stderr",
          "text": [
            "  0%|          | 0/4 [00:00<?, ?it/s]"
          ]
        },
        {
          "output_type": "stream",
          "name": "stdout",
          "text": [
            "Best IoU found in this run: 0.9999990000010001\n",
            "Exception: 'a' cannot be empty unless no samples are taken\n",
            "(100, 100)\n"
          ]
        },
        {
          "output_type": "stream",
          "name": "stderr",
          "text": [
            "100%|██████████| 4/4 [00:01<00:00,  3.14it/s]\n",
            "100%|██████████| 19/19 [00:00<00:00, 31991.88it/s]\n"
          ]
        },
        {
          "output_type": "stream",
          "name": "stdout",
          "text": [
            "Starting rpn model training on patch 1600_16426_16779_100\n",
            "(1, 100, 100, 3)\n",
            "(1, 50, 50, 12)\n",
            "Best IoU found in this run: 0.9999990000010001\n",
            "Starting detector model training on batch\n",
            " 9/10 [==========================>...] - ETA: 4s - rpn_cls: 3.9839 - rpn_regr: 0.6144 - detector_cls: 0.8789 - detector_regr: 0.0000e+00 - average number of objects: 1.6667"
          ]
        },
        {
          "output_type": "stream",
          "name": "stderr",
          "text": [
            "  0%|          | 0/4 [00:00<?, ?it/s]"
          ]
        },
        {
          "output_type": "stream",
          "name": "stdout",
          "text": [
            "(100, 100)\n"
          ]
        },
        {
          "output_type": "stream",
          "name": "stderr",
          "text": [
            "100%|██████████| 4/4 [00:00<00:00,  4.02it/s]\n",
            "100%|██████████| 14/14 [00:00<00:00, 52056.96it/s]\n"
          ]
        },
        {
          "output_type": "stream",
          "name": "stdout",
          "text": [
            "Starting rpn model training on patch 100_16476_16729_100\n",
            "(1, 100, 100, 3)\n",
            "(1, 50, 50, 12)\n"
          ]
        },
        {
          "output_type": "stream",
          "name": "stderr",
          "text": [
            "  0%|          | 0/4 [00:00<?, ?it/s]"
          ]
        },
        {
          "output_type": "stream",
          "name": "stdout",
          "text": [
            "Exception: 'NoneType' object is not iterable\n",
            "(100, 100)\n"
          ]
        },
        {
          "output_type": "stream",
          "name": "stderr",
          "text": [
            "100%|██████████| 4/4 [00:01<00:00,  3.11it/s]\n",
            "100%|██████████| 19/19 [00:00<00:00, 44495.69it/s]\n"
          ]
        },
        {
          "output_type": "stream",
          "name": "stdout",
          "text": [
            "Starting rpn model training on patch 3150_16426_16829_100\n",
            "(1, 100, 100, 3)\n",
            "(1, 50, 50, 12)\n"
          ]
        },
        {
          "output_type": "stream",
          "name": "stderr",
          "text": [
            "  0%|          | 0/4 [00:00<?, ?it/s]"
          ]
        },
        {
          "output_type": "stream",
          "name": "stdout",
          "text": [
            "Exception: 'NoneType' object is not iterable\n",
            "(100, 100)\n"
          ]
        },
        {
          "output_type": "stream",
          "name": "stderr",
          "text": [
            "100%|██████████| 4/4 [00:00<00:00,  4.90it/s]\n",
            "100%|██████████| 12/12 [00:00<00:00, 22682.13it/s]\n"
          ]
        },
        {
          "output_type": "stream",
          "name": "stdout",
          "text": [
            "Starting rpn model training on patch 0_16376_16729_100\n",
            "(1, 100, 100, 3)\n",
            "(1, 50, 50, 12)\n",
            "Best IoU found in this run: 0.9999990000010001\n",
            "Starting detector model training on batch\n",
            "10/10 [==============================] - 49s 5s/step - rpn_cls: 3.9417 - rpn_regr: 0.6105 - detector_cls: 0.8807 - detector_regr: 0.0000e+00 - average number of objects: 1.7000\n"
          ]
        },
        {
          "output_type": "stream",
          "name": "stderr",
          "text": [
            "  0%|          | 0/4 [00:00<?, ?it/s]"
          ]
        },
        {
          "output_type": "stream",
          "name": "stdout",
          "text": [
            "Mean number of bounding boxes from RPN overlapping ground truth boxes: 2.25\n",
            "Classifier accuracy for bounding boxes from RPN: 0.525\n",
            "Loss RPN classifier: 3.5613637924194337\n",
            "Loss RPN regression: 0.575358834862709\n",
            "Loss Detector classifier: 0.896713936328888\n",
            "Loss Detector regression: 0.0\n",
            "Total loss: 5.033436563611031\n",
            "Elapsed time: 48.99970102310181\n",
            "Epoch 10/10\n",
            "(100, 100)\n"
          ]
        },
        {
          "output_type": "stream",
          "name": "stderr",
          "text": [
            "100%|██████████| 4/4 [00:01<00:00,  3.61it/s]\n",
            "100%|██████████| 15/15 [00:00<00:00, 18471.69it/s]\n"
          ]
        },
        {
          "output_type": "stream",
          "name": "stdout",
          "text": [
            "Starting rpn model training on patch 1550_16376_16779_100\n",
            "(1, 100, 100, 3)\n",
            "(1, 50, 50, 12)\n",
            "Best IoU found in this run: 0.9999990000010001\n",
            "Starting detector model training on batch\n",
            " 1/10 [==>...........................] - ETA: 22s - rpn_cls: 0.9843 - rpn_regr: 0.3925 - detector_cls: 0.9602 - detector_regr: 0.0000e+00 - average number of objects: 1.0000"
          ]
        },
        {
          "output_type": "stream",
          "name": "stderr",
          "text": [
            "  0%|          | 0/4 [00:00<?, ?it/s]"
          ]
        },
        {
          "output_type": "stream",
          "name": "stdout",
          "text": [
            "(100, 100)\n"
          ]
        },
        {
          "output_type": "stream",
          "name": "stderr",
          "text": [
            "100%|██████████| 4/4 [00:01<00:00,  2.83it/s]\n",
            "100%|██████████| 20/20 [00:00<00:00, 19798.46it/s]\n"
          ]
        },
        {
          "output_type": "stream",
          "name": "stdout",
          "text": [
            "Starting rpn model training on patch 3100_16376_16829_100\n",
            "(1, 100, 100, 3)\n",
            "(1, 50, 50, 12)\n"
          ]
        },
        {
          "output_type": "stream",
          "name": "stderr",
          "text": [
            "  0%|          | 0/4 [00:00<?, ?it/s]"
          ]
        },
        {
          "output_type": "stream",
          "name": "stdout",
          "text": [
            "Exception: 'NoneType' object is not iterable\n",
            "(100, 100)\n"
          ]
        },
        {
          "output_type": "stream",
          "name": "stderr",
          "text": [
            "100%|██████████| 4/4 [00:01<00:00,  3.09it/s]\n",
            "100%|██████████| 19/19 [00:00<00:00, 60648.23it/s]\n"
          ]
        },
        {
          "output_type": "stream",
          "name": "stdout",
          "text": [
            "Starting rpn model training on patch 1600_16426_16779_100\n",
            "(1, 100, 100, 3)\n",
            "(1, 50, 50, 12)\n",
            "Best IoU found in this run: 0.9999990000010001\n",
            "Starting detector model training on batch\n",
            " 2/10 [=====>........................] - ETA: 41s - rpn_cls: 1.6237 - rpn_regr: 0.4522 - detector_cls: 0.9464 - detector_regr: 0.0000e+00 - average number of objects: 1.0000"
          ]
        },
        {
          "output_type": "stream",
          "name": "stderr",
          "text": [
            "  0%|          | 0/4 [00:00<?, ?it/s]"
          ]
        },
        {
          "output_type": "stream",
          "name": "stdout",
          "text": [
            "(100, 100)\n"
          ]
        },
        {
          "output_type": "stream",
          "name": "stderr",
          "text": [
            "100%|██████████| 4/4 [00:01<00:00,  4.00it/s]\n",
            "100%|██████████| 14/14 [00:00<00:00, 54674.35it/s]\n"
          ]
        },
        {
          "output_type": "stream",
          "name": "stdout",
          "text": [
            "Starting rpn model training on patch 100_16476_16729_100\n",
            "(1, 100, 100, 3)\n",
            "(1, 50, 50, 12)\n"
          ]
        },
        {
          "output_type": "stream",
          "name": "stderr",
          "text": [
            "  0%|          | 0/4 [00:00<?, ?it/s]"
          ]
        },
        {
          "output_type": "stream",
          "name": "stdout",
          "text": [
            "Exception: 'NoneType' object is not iterable\n",
            "(100, 100)\n"
          ]
        },
        {
          "output_type": "stream",
          "name": "stderr",
          "text": [
            "100%|██████████| 4/4 [00:01<00:00,  3.12it/s]\n",
            "100%|██████████| 19/19 [00:00<00:00, 52636.58it/s]\n"
          ]
        },
        {
          "output_type": "stream",
          "name": "stdout",
          "text": [
            "Starting rpn model training on patch 3150_16426_16829_100\n",
            "(1, 100, 100, 3)\n",
            "(1, 50, 50, 12)\n"
          ]
        },
        {
          "output_type": "stream",
          "name": "stderr",
          "text": [
            "  0%|          | 0/4 [00:00<?, ?it/s]"
          ]
        },
        {
          "output_type": "stream",
          "name": "stdout",
          "text": [
            "Exception: 'NoneType' object is not iterable\n",
            "(100, 100)\n"
          ]
        },
        {
          "output_type": "stream",
          "name": "stderr",
          "text": [
            "100%|██████████| 4/4 [00:00<00:00,  4.74it/s]\n",
            "100%|██████████| 12/12 [00:00<00:00, 37393.50it/s]\n"
          ]
        },
        {
          "output_type": "stream",
          "name": "stdout",
          "text": [
            "Starting rpn model training on patch 0_16376_16729_100\n",
            "(1, 100, 100, 3)\n",
            "(1, 50, 50, 12)\n",
            "Best IoU found in this run: 0.9999990000010001\n",
            "Starting detector model training on batch\n",
            " 3/10 [========>.....................] - ETA: 41s - rpn_cls: 2.0917 - rpn_regr: 0.4751 - detector_cls: 0.9473 - detector_regr: 0.0000e+00 - average number of objects: 1.3333"
          ]
        },
        {
          "output_type": "stream",
          "name": "stderr",
          "text": [
            "  0%|          | 0/4 [00:00<?, ?it/s]"
          ]
        },
        {
          "output_type": "stream",
          "name": "stdout",
          "text": [
            "(100, 100)\n"
          ]
        },
        {
          "output_type": "stream",
          "name": "stderr",
          "text": [
            "100%|██████████| 4/4 [00:01<00:00,  3.63it/s]\n",
            "100%|██████████| 15/15 [00:00<00:00, 16144.36it/s]\n"
          ]
        },
        {
          "output_type": "stream",
          "name": "stdout",
          "text": [
            "Starting rpn model training on patch 1550_16376_16779_100\n",
            "(1, 100, 100, 3)\n",
            "(1, 50, 50, 12)\n",
            "Best IoU found in this run: 0.9999990000010001\n",
            "Starting detector model training on batch\n",
            " 4/10 [===========>..................] - ETA: 28s - rpn_cls: 2.3224 - rpn_regr: 0.4938 - detector_cls: 0.9428 - detector_regr: 0.0000e+00 - average number of objects: 1.2500"
          ]
        },
        {
          "output_type": "stream",
          "name": "stderr",
          "text": [
            "  0%|          | 0/4 [00:00<?, ?it/s]"
          ]
        },
        {
          "output_type": "stream",
          "name": "stdout",
          "text": [
            "(100, 100)\n"
          ]
        },
        {
          "output_type": "stream",
          "name": "stderr",
          "text": [
            "100%|██████████| 4/4 [00:01<00:00,  2.89it/s]\n",
            "100%|██████████| 20/20 [00:00<00:00, 22471.49it/s]\n"
          ]
        },
        {
          "output_type": "stream",
          "name": "stdout",
          "text": [
            "Starting rpn model training on patch 3100_16376_16829_100\n",
            "(1, 100, 100, 3)\n",
            "(1, 50, 50, 12)\n"
          ]
        },
        {
          "output_type": "stream",
          "name": "stderr",
          "text": [
            "  0%|          | 0/4 [00:00<?, ?it/s]"
          ]
        },
        {
          "output_type": "stream",
          "name": "stdout",
          "text": [
            "Best IoU found in this run: 0.9999990000010001\n",
            "Exception: 'a' cannot be empty unless no samples are taken\n",
            "Average number of overlapping bounding boxes from RPN = 1.9 for 10 previous iterations\n",
            "(100, 100)\n"
          ]
        },
        {
          "output_type": "stream",
          "name": "stderr",
          "text": [
            "100%|██████████| 4/4 [00:01<00:00,  2.92it/s]\n",
            "100%|██████████| 19/19 [00:00<00:00, 62947.69it/s]\n"
          ]
        },
        {
          "output_type": "stream",
          "name": "stdout",
          "text": [
            "Starting rpn model training on patch 1600_16426_16779_100\n",
            "(1, 100, 100, 3)\n",
            "(1, 50, 50, 12)\n",
            "Best IoU found in this run: 0.9999990000010001\n",
            "Starting detector model training on batch\n",
            " 5/10 [==============>...............] - ETA: 24s - rpn_cls: 2.4344 - rpn_regr: 0.5083 - detector_cls: 0.9224 - detector_regr: 0.0000e+00 - average number of objects: 1.2000"
          ]
        },
        {
          "output_type": "stream",
          "name": "stderr",
          "text": [
            "  0%|          | 0/4 [00:00<?, ?it/s]"
          ]
        },
        {
          "output_type": "stream",
          "name": "stdout",
          "text": [
            "(100, 100)\n"
          ]
        },
        {
          "output_type": "stream",
          "name": "stderr",
          "text": [
            "100%|██████████| 4/4 [00:00<00:00,  4.11it/s]\n",
            "100%|██████████| 14/14 [00:00<00:00, 28055.55it/s]\n"
          ]
        },
        {
          "output_type": "stream",
          "name": "stdout",
          "text": [
            "Starting rpn model training on patch 100_16476_16729_100\n",
            "(1, 100, 100, 3)\n",
            "(1, 50, 50, 12)\n"
          ]
        },
        {
          "output_type": "stream",
          "name": "stderr",
          "text": [
            "  0%|          | 0/4 [00:00<?, ?it/s]"
          ]
        },
        {
          "output_type": "stream",
          "name": "stdout",
          "text": [
            "Best IoU found in this run: 0.9999990000010001\n",
            "Exception: 'a' cannot be empty unless no samples are taken\n",
            "(100, 100)\n"
          ]
        },
        {
          "output_type": "stream",
          "name": "stderr",
          "text": [
            "100%|██████████| 4/4 [00:01<00:00,  3.08it/s]\n",
            "100%|██████████| 19/19 [00:00<00:00, 52052.11it/s]\n"
          ]
        },
        {
          "output_type": "stream",
          "name": "stdout",
          "text": [
            "Starting rpn model training on patch 3150_16426_16829_100\n",
            "(1, 100, 100, 3)\n",
            "(1, 50, 50, 12)\n"
          ]
        },
        {
          "output_type": "stream",
          "name": "stderr",
          "text": [
            "  0%|          | 0/4 [00:00<?, ?it/s]"
          ]
        },
        {
          "output_type": "stream",
          "name": "stdout",
          "text": [
            "Best IoU found in this run: 0.9999990000010001\n",
            "Exception: 'a' cannot be empty unless no samples are taken\n",
            "(100, 100)\n"
          ]
        },
        {
          "output_type": "stream",
          "name": "stderr",
          "text": [
            "100%|██████████| 4/4 [00:00<00:00,  4.84it/s]\n",
            "100%|██████████| 12/12 [00:00<00:00, 44739.24it/s]\n"
          ]
        },
        {
          "output_type": "stream",
          "name": "stdout",
          "text": [
            "Starting rpn model training on patch 0_16376_16729_100\n",
            "(1, 100, 100, 3)\n",
            "(1, 50, 50, 12)\n",
            "Best IoU found in this run: 0.9999990000010001\n",
            "Starting detector model training on batch\n",
            " 6/10 [=================>............] - ETA: 21s - rpn_cls: 2.5237 - rpn_regr: 0.5217 - detector_cls: 0.9045 - detector_regr: 0.0000e+00 - average number of objects: 1.3333"
          ]
        },
        {
          "output_type": "stream",
          "name": "stderr",
          "text": [
            "  0%|          | 0/4 [00:00<?, ?it/s]"
          ]
        },
        {
          "output_type": "stream",
          "name": "stdout",
          "text": [
            "(100, 100)\n"
          ]
        },
        {
          "output_type": "stream",
          "name": "stderr",
          "text": [
            "100%|██████████| 4/4 [00:01<00:00,  3.87it/s]\n",
            "100%|██████████| 15/15 [00:00<00:00, 61022.85it/s]\n"
          ]
        },
        {
          "output_type": "stream",
          "name": "stdout",
          "text": [
            "Starting rpn model training on patch 1550_16376_16779_100\n",
            "(1, 100, 100, 3)\n",
            "(1, 50, 50, 12)\n",
            "Best IoU found in this run: 0.9999990000010001\n",
            "Starting detector model training on batch\n",
            " 7/10 [====================>.........] - ETA: 14s - rpn_cls: 2.5978 - rpn_regr: 0.5317 - detector_cls: 0.8862 - detector_regr: 0.0000e+00 - average number of objects: 1.2857"
          ]
        },
        {
          "output_type": "stream",
          "name": "stderr",
          "text": [
            "  0%|          | 0/4 [00:00<?, ?it/s]"
          ]
        },
        {
          "output_type": "stream",
          "name": "stdout",
          "text": [
            "(100, 100)\n"
          ]
        },
        {
          "output_type": "stream",
          "name": "stderr",
          "text": [
            "100%|██████████| 4/4 [00:01<00:00,  2.93it/s]\n",
            "100%|██████████| 20/20 [00:00<00:00, 13879.23it/s]\n"
          ]
        },
        {
          "output_type": "stream",
          "name": "stdout",
          "text": [
            "Starting rpn model training on patch 3100_16376_16829_100\n",
            "(1, 100, 100, 3)\n",
            "(1, 50, 50, 12)\n"
          ]
        },
        {
          "output_type": "stream",
          "name": "stderr",
          "text": [
            "  0%|          | 0/4 [00:00<?, ?it/s]"
          ]
        },
        {
          "output_type": "stream",
          "name": "stdout",
          "text": [
            "Best IoU found in this run: 0.9999990000010001\n",
            "Exception: 'a' cannot be empty unless no samples are taken\n",
            "(100, 100)\n"
          ]
        },
        {
          "output_type": "stream",
          "name": "stderr",
          "text": [
            "100%|██████████| 4/4 [00:01<00:00,  3.12it/s]\n",
            "100%|██████████| 19/19 [00:00<00:00, 40411.65it/s]\n"
          ]
        },
        {
          "output_type": "stream",
          "name": "stdout",
          "text": [
            "Starting rpn model training on patch 1600_16426_16779_100\n",
            "(1, 100, 100, 3)\n",
            "(1, 50, 50, 12)\n",
            "Best IoU found in this run: 0.9999990000010001\n",
            "Starting detector model training on batch\n",
            " 8/10 [=======================>......] - ETA: 9s - rpn_cls: 2.6673 - rpn_regr: 0.5397 - detector_cls: 0.8718 - detector_regr: 0.0000e+00 - average number of objects: 1.2500 "
          ]
        },
        {
          "output_type": "stream",
          "name": "stderr",
          "text": [
            "  0%|          | 0/4 [00:00<?, ?it/s]"
          ]
        },
        {
          "output_type": "stream",
          "name": "stdout",
          "text": [
            "(100, 100)\n"
          ]
        },
        {
          "output_type": "stream",
          "name": "stderr",
          "text": [
            "100%|██████████| 4/4 [00:00<00:00,  4.01it/s]\n",
            "100%|██████████| 14/14 [00:00<00:00, 12506.98it/s]\n"
          ]
        },
        {
          "output_type": "stream",
          "name": "stdout",
          "text": [
            "Starting rpn model training on patch 100_16476_16729_100\n",
            "(1, 100, 100, 3)\n",
            "(1, 50, 50, 12)\n"
          ]
        },
        {
          "output_type": "stream",
          "name": "stderr",
          "text": [
            "  0%|          | 0/4 [00:00<?, ?it/s]"
          ]
        },
        {
          "output_type": "stream",
          "name": "stdout",
          "text": [
            "Best IoU found in this run: 0.9999990000010001\n",
            "Exception: 'a' cannot be empty unless no samples are taken\n",
            "(100, 100)\n"
          ]
        },
        {
          "output_type": "stream",
          "name": "stderr",
          "text": [
            "100%|██████████| 4/4 [00:01<00:00,  3.08it/s]\n",
            "100%|██████████| 19/19 [00:00<00:00, 51815.20it/s]\n"
          ]
        },
        {
          "output_type": "stream",
          "name": "stdout",
          "text": [
            "Starting rpn model training on patch 3150_16426_16829_100\n",
            "(1, 100, 100, 3)\n",
            "(1, 50, 50, 12)\n"
          ]
        },
        {
          "output_type": "stream",
          "name": "stderr",
          "text": [
            "  0%|          | 0/4 [00:00<?, ?it/s]"
          ]
        },
        {
          "output_type": "stream",
          "name": "stdout",
          "text": [
            "Best IoU found in this run: 0.9999990000010001\n",
            "Exception: 'a' cannot be empty unless no samples are taken\n",
            "(100, 100)\n"
          ]
        },
        {
          "output_type": "stream",
          "name": "stderr",
          "text": [
            "100%|██████████| 4/4 [00:00<00:00,  4.90it/s]\n",
            "100%|██████████| 12/12 [00:00<00:00, 63072.24it/s]\n"
          ]
        },
        {
          "output_type": "stream",
          "name": "stdout",
          "text": [
            "Starting rpn model training on patch 0_16376_16729_100\n",
            "(1, 100, 100, 3)\n",
            "(1, 50, 50, 12)\n",
            "Best IoU found in this run: 0.9999990000010001\n",
            "Starting detector model training on batch\n",
            " 9/10 [==========================>...] - ETA: 5s - rpn_cls: 2.7236 - rpn_regr: 0.5461 - detector_cls: 0.8668 - detector_regr: 0.0000e+00 - average number of objects: 1.3333"
          ]
        },
        {
          "output_type": "stream",
          "name": "stderr",
          "text": [
            "  0%|          | 0/4 [00:00<?, ?it/s]"
          ]
        },
        {
          "output_type": "stream",
          "name": "stdout",
          "text": [
            "Average number of overlapping bounding boxes from RPN = 1.9 for 10 previous iterations\n",
            "(100, 100)\n"
          ]
        },
        {
          "output_type": "stream",
          "name": "stderr",
          "text": [
            "100%|██████████| 4/4 [00:01<00:00,  3.62it/s]\n",
            "100%|██████████| 15/15 [00:00<00:00, 19181.27it/s]\n"
          ]
        },
        {
          "output_type": "stream",
          "name": "stdout",
          "text": [
            "Starting rpn model training on patch 1550_16376_16779_100\n",
            "(1, 100, 100, 3)\n",
            "(1, 50, 50, 12)\n",
            "Best IoU found in this run: 0.9999990000010001\n",
            "Starting detector model training on batch\n",
            "10/10 [==============================] - 45s 5s/step - rpn_cls: 2.7740 - rpn_regr: 0.5518 - detector_cls: 0.8657 - detector_regr: 0.0000e+00 - average number of objects: 1.4000\n",
            "Mean number of bounding boxes from RPN overlapping ground truth boxes: 1.8125\n",
            "Classifier accuracy for bounding boxes from RPN: 0.525\n",
            "Loss RPN classifier: 3.2275130808353425\n",
            "Loss RPN regression: 0.6032532215118408\n",
            "Loss Detector classifier: 0.8555653363466262\n",
            "Loss Detector regression: 0.0\n",
            "Total loss: 4.68633163869381\n",
            "Elapsed time: 45.29288411140442\n",
            "Training complete.\n"
          ]
        }
      ],
      "metadata": {
        "tags": []
      }
    },
    {
      "cell_type": "markdown",
      "source": [
        "# Validation"
      ],
      "metadata": {}
    },
    {
      "cell_type": "code",
      "execution_count": 20,
      "source": [
        "input_shape_1=(config.resizeFinalDim, config.resizeFinalDim,1)\n",
        "input_shape_2=(None, 4)\n",
        "\n",
        "rpn_model_eval, detector_model_eval, total_model_eval = models.get_eval_model(input_shape_1=input_shape_1, input_shape_2=input_shape_2, input_shape_fmap=None, anchor_num=config.anchor_num, pooling_regions=config.pooling_regions, num_rois=config.num_rois, num_classes=len(ska_dataset.class_list)+1, backbone=backbone, use_expander=False)\n",
        "\n",
        "rpn_model_eval.summary()\n",
        "detector_model_eval.summary()\n",
        "total_model_eval.summary()"
      ],
      "outputs": [
        {
          "output_type": "stream",
          "name": "stdout",
          "text": [
            "____________\n",
            "activation_13 (Activation)      (None, 75, 75, 128)  0           bn3b_branch2a[0][0]              \n",
            "__________________________________________________________________________________________________\n",
            "res3b_branch2b (Conv2D)         (None, 75, 75, 128)  147584      activation_13[0][0]              \n",
            "__________________________________________________________________________________________________\n",
            "bn3b_branch2b (BatchNormalizati (None, 75, 75, 128)  512         res3b_branch2b[0][0]             \n",
            "__________________________________________________________________________________________________\n",
            "activation_14 (Activation)      (None, 75, 75, 128)  0           bn3b_branch2b[0][0]              \n",
            "__________________________________________________________________________________________________\n",
            "res3b_branch2c (Conv2D)         (None, 75, 75, 512)  66048       activation_14[0][0]              \n",
            "__________________________________________________________________________________________________\n",
            "bn3b_branch2c (BatchNormalizati (None, 75, 75, 512)  2048        res3b_branch2c[0][0]             \n",
            "__________________________________________________________________________________________________\n",
            "add_4 (Add)                     (None, 75, 75, 512)  0           bn3b_branch2c[0][0]              \n",
            "                                                                 activation_12[0][0]              \n",
            "__________________________________________________________________________________________________\n",
            "activation_15 (Activation)      (None, 75, 75, 512)  0           add_4[0][0]                      \n",
            "__________________________________________________________________________________________________\n",
            "res3c_branch2a (Conv2D)         (None, 75, 75, 128)  65664       activation_15[0][0]              \n",
            "__________________________________________________________________________________________________\n",
            "bn3c_branch2a (BatchNormalizati (None, 75, 75, 128)  512         res3c_branch2a[0][0]             \n",
            "__________________________________________________________________________________________________\n",
            "activation_16 (Activation)      (None, 75, 75, 128)  0           bn3c_branch2a[0][0]              \n",
            "__________________________________________________________________________________________________\n",
            "res3c_branch2b (Conv2D)         (None, 75, 75, 128)  147584      activation_16[0][0]              \n",
            "__________________________________________________________________________________________________\n",
            "bn3c_branch2b (BatchNormalizati (None, 75, 75, 128)  512         res3c_branch2b[0][0]             \n",
            "__________________________________________________________________________________________________\n",
            "activation_17 (Activation)      (None, 75, 75, 128)  0           bn3c_branch2b[0][0]              \n",
            "__________________________________________________________________________________________________\n",
            "res3c_branch2c (Conv2D)         (None, 75, 75, 512)  66048       activation_17[0][0]              \n",
            "__________________________________________________________________________________________________\n",
            "bn3c_branch2c (BatchNormalizati (None, 75, 75, 512)  2048        res3c_branch2c[0][0]             \n",
            "__________________________________________________________________________________________________\n",
            "add_5 (Add)                     (None, 75, 75, 512)  0           bn3c_branch2c[0][0]              \n",
            "                                                                 activation_15[0][0]              \n",
            "__________________________________________________________________________________________________\n",
            "activation_18 (Activation)      (None, 75, 75, 512)  0           add_5[0][0]                      \n",
            "__________________________________________________________________________________________________\n",
            "res3d_branch2a (Conv2D)         (None, 75, 75, 128)  65664       activation_18[0][0]              \n",
            "__________________________________________________________________________________________________\n",
            "bn3d_branch2a (BatchNormalizati (None, 75, 75, 128)  512         res3d_branch2a[0][0]             \n",
            "__________________________________________________________________________________________________\n",
            "activation_19 (Activation)      (None, 75, 75, 128)  0           bn3d_branch2a[0][0]              \n",
            "__________________________________________________________________________________________________\n",
            "res3d_branch2b (Conv2D)         (None, 75, 75, 128)  147584      activation_19[0][0]              \n",
            "__________________________________________________________________________________________________\n",
            "bn3d_branch2b (BatchNormalizati (None, 75, 75, 128)  512         res3d_branch2b[0][0]             \n",
            "__________________________________________________________________________________________________\n",
            "activation_20 (Activation)      (None, 75, 75, 128)  0           bn3d_branch2b[0][0]              \n",
            "__________________________________________________________________________________________________\n",
            "res3d_branch2c (Conv2D)         (None, 75, 75, 512)  66048       activation_20[0][0]              \n",
            "__________________________________________________________________________________________________\n",
            "bn3d_branch2c (BatchNormalizati (None, 75, 75, 512)  2048        res3d_branch2c[0][0]             \n",
            "__________________________________________________________________________________________________\n",
            "add_6 (Add)                     (None, 75, 75, 512)  0           bn3d_branch2c[0][0]              \n",
            "                                                                 activation_18[0][0]              \n",
            "__________________________________________________________________________________________________\n",
            "activation_21 (Activation)      (None, 75, 75, 512)  0           add_6[0][0]                      \n",
            "__________________________________________________________________________________________________\n",
            "res4a_branch2a (Conv2D)         (None, 38, 38, 256)  131328      activation_21[0][0]              \n",
            "__________________________________________________________________________________________________\n",
            "bn4a_branch2a (BatchNormalizati (None, 38, 38, 256)  1024        res4a_branch2a[0][0]             \n",
            "__________________________________________________________________________________________________\n",
            "activation_22 (Activation)      (None, 38, 38, 256)  0           bn4a_branch2a[0][0]              \n",
            "__________________________________________________________________________________________________\n",
            "res4a_branch2b (Conv2D)         (None, 38, 38, 256)  590080      activation_22[0][0]              \n",
            "__________________________________________________________________________________________________\n",
            "bn4a_branch2b (BatchNormalizati (None, 38, 38, 256)  1024        res4a_branch2b[0][0]             \n",
            "__________________________________________________________________________________________________\n",
            "activation_23 (Activation)      (None, 38, 38, 256)  0           bn4a_branch2b[0][0]              \n",
            "__________________________________________________________________________________________________\n",
            "res4a_branch2c (Conv2D)         (None, 38, 38, 1024) 263168      activation_23[0][0]              \n",
            "__________________________________________________________________________________________________\n",
            "res4a_branch1 (Conv2D)          (None, 38, 38, 1024) 525312      activation_21[0][0]              \n",
            "__________________________________________________________________________________________________\n",
            "bn4a_branch2c (BatchNormalizati (None, 38, 38, 1024) 4096        res4a_branch2c[0][0]             \n",
            "__________________________________________________________________________________________________\n",
            "bn4a_branch1 (BatchNormalizatio (None, 38, 38, 1024) 4096        res4a_branch1[0][0]              \n",
            "__________________________________________________________________________________________________\n",
            "add_7 (Add)                     (None, 38, 38, 1024) 0           bn4a_branch2c[0][0]              \n",
            "                                                                 bn4a_branch1[0][0]               \n",
            "__________________________________________________________________________________________________\n",
            "activation_24 (Activation)      (None, 38, 38, 1024) 0           add_7[0][0]                      \n",
            "__________________________________________________________________________________________________\n",
            "res4b_branch2a (Conv2D)         (None, 38, 38, 256)  262400      activation_24[0][0]              \n",
            "__________________________________________________________________________________________________\n",
            "bn4b_branch2a (BatchNormalizati (None, 38, 38, 256)  1024        res4b_branch2a[0][0]             \n",
            "__________________________________________________________________________________________________\n",
            "activation_25 (Activation)      (None, 38, 38, 256)  0           bn4b_branch2a[0][0]              \n",
            "__________________________________________________________________________________________________\n",
            "res4b_branch2b (Conv2D)         (None, 38, 38, 256)  590080      activation_25[0][0]              \n",
            "__________________________________________________________________________________________________\n",
            "bn4b_branch2b (BatchNormalizati (None, 38, 38, 256)  1024        res4b_branch2b[0][0]             \n",
            "__________________________________________________________________________________________________\n",
            "activation_26 (Activation)      (None, 38, 38, 256)  0           bn4b_branch2b[0][0]              \n",
            "__________________________________________________________________________________________________\n",
            "res4b_branch2c (Conv2D)         (None, 38, 38, 1024) 263168      activation_26[0][0]              \n",
            "__________________________________________________________________________________________________\n",
            "bn4b_branch2c (BatchNormalizati (None, 38, 38, 1024) 4096        res4b_branch2c[0][0]             \n",
            "__________________________________________________________________________________________________\n",
            "add_8 (Add)                     (None, 38, 38, 1024) 0           bn4b_branch2c[0][0]              \n",
            "                                                                 activation_24[0][0]              \n",
            "__________________________________________________________________________________________________\n",
            "activation_27 (Activation)      (None, 38, 38, 1024) 0           add_8[0][0]                      \n",
            "__________________________________________________________________________________________________\n",
            "res4c_branch2a (Conv2D)         (None, 38, 38, 256)  262400      activation_27[0][0]              \n",
            "__________________________________________________________________________________________________\n",
            "bn4c_branch2a (BatchNormalizati (None, 38, 38, 256)  1024        res4c_branch2a[0][0]             \n",
            "__________________________________________________________________________________________________\n",
            "activation_28 (Activation)      (None, 38, 38, 256)  0           bn4c_branch2a[0][0]              \n",
            "__________________________________________________________________________________________________\n",
            "res4c_branch2b (Conv2D)         (None, 38, 38, 256)  590080      activation_28[0][0]              \n",
            "__________________________________________________________________________________________________\n",
            "bn4c_branch2b (BatchNormalizati (None, 38, 38, 256)  1024        res4c_branch2b[0][0]             \n",
            "__________________________________________________________________________________________________\n",
            "activation_29 (Activation)      (None, 38, 38, 256)  0           bn4c_branch2b[0][0]              \n",
            "__________________________________________________________________________________________________\n",
            "res4c_branch2c (Conv2D)         (None, 38, 38, 1024) 263168      activation_29[0][0]              \n",
            "__________________________________________________________________________________________________\n",
            "bn4c_branch2c (BatchNormalizati (None, 38, 38, 1024) 4096        res4c_branch2c[0][0]             \n",
            "__________________________________________________________________________________________________\n",
            "add_9 (Add)                     (None, 38, 38, 1024) 0           bn4c_branch2c[0][0]              \n",
            "                                                                 activation_27[0][0]              \n",
            "__________________________________________________________________________________________________\n",
            "activation_30 (Activation)      (None, 38, 38, 1024) 0           add_9[0][0]                      \n",
            "__________________________________________________________________________________________________\n",
            "res4d_branch2a (Conv2D)         (None, 38, 38, 256)  262400      activation_30[0][0]              \n",
            "__________________________________________________________________________________________________\n",
            "bn4d_branch2a (BatchNormalizati (None, 38, 38, 256)  1024        res4d_branch2a[0][0]             \n",
            "__________________________________________________________________________________________________\n",
            "activation_31 (Activation)      (None, 38, 38, 256)  0           bn4d_branch2a[0][0]              \n",
            "__________________________________________________________________________________________________\n",
            "res4d_branch2b (Conv2D)         (None, 38, 38, 256)  590080      activation_31[0][0]              \n",
            "__________________________________________________________________________________________________\n",
            "bn4d_branch2b (BatchNormalizati (None, 38, 38, 256)  1024        res4d_branch2b[0][0]             \n",
            "__________________________________________________________________________________________________\n",
            "activation_32 (Activation)      (None, 38, 38, 256)  0           bn4d_branch2b[0][0]              \n",
            "__________________________________________________________________________________________________\n",
            "res4d_branch2c (Conv2D)         (None, 38, 38, 1024) 263168      activation_32[0][0]              \n",
            "__________________________________________________________________________________________________\n",
            "bn4d_branch2c (BatchNormalizati (None, 38, 38, 1024) 4096        res4d_branch2c[0][0]             \n",
            "__________________________________________________________________________________________________\n",
            "add_10 (Add)                    (None, 38, 38, 1024) 0           bn4d_branch2c[0][0]              \n",
            "                                                                 activation_30[0][0]              \n",
            "__________________________________________________________________________________________________\n",
            "activation_33 (Activation)      (None, 38, 38, 1024) 0           add_10[0][0]                     \n",
            "__________________________________________________________________________________________________\n",
            "res4e_branch2a (Conv2D)         (None, 38, 38, 256)  262400      activation_33[0][0]              \n",
            "__________________________________________________________________________________________________\n",
            "bn4e_branch2a (BatchNormalizati (None, 38, 38, 256)  1024        res4e_branch2a[0][0]             \n",
            "__________________________________________________________________________________________________\n",
            "activation_34 (Activation)      (None, 38, 38, 256)  0           bn4e_branch2a[0][0]              \n",
            "__________________________________________________________________________________________________\n",
            "res4e_branch2b (Conv2D)         (None, 38, 38, 256)  590080      activation_34[0][0]              \n",
            "__________________________________________________________________________________________________\n",
            "bn4e_branch2b (BatchNormalizati (None, 38, 38, 256)  1024        res4e_branch2b[0][0]             \n",
            "__________________________________________________________________________________________________\n",
            "activation_35 (Activation)      (None, 38, 38, 256)  0           bn4e_branch2b[0][0]              \n",
            "__________________________________________________________________________________________________\n",
            "res4e_branch2c (Conv2D)         (None, 38, 38, 1024) 263168      activation_35[0][0]              \n",
            "__________________________________________________________________________________________________\n",
            "bn4e_branch2c (BatchNormalizati (None, 38, 38, 1024) 4096        res4e_branch2c[0][0]             \n",
            "__________________________________________________________________________________________________\n",
            "add_11 (Add)                    (None, 38, 38, 1024) 0           bn4e_branch2c[0][0]              \n",
            "                                                                 activation_33[0][0]              \n",
            "__________________________________________________________________________________________________\n",
            "activation_36 (Activation)      (None, 38, 38, 1024) 0           add_11[0][0]                     \n",
            "__________________________________________________________________________________________________\n",
            "res4f_branch2a (Conv2D)         (None, 38, 38, 256)  262400      activation_36[0][0]              \n",
            "__________________________________________________________________________________________________\n",
            "bn4f_branch2a (BatchNormalizati (None, 38, 38, 256)  1024        res4f_branch2a[0][0]             \n",
            "__________________________________________________________________________________________________\n",
            "activation_37 (Activation)      (None, 38, 38, 256)  0           bn4f_branch2a[0][0]              \n",
            "__________________________________________________________________________________________________\n",
            "res4f_branch2b (Conv2D)         (None, 38, 38, 256)  590080      activation_37[0][0]              \n",
            "__________________________________________________________________________________________________\n",
            "bn4f_branch2b (BatchNormalizati (None, 38, 38, 256)  1024        res4f_branch2b[0][0]             \n",
            "__________________________________________________________________________________________________\n",
            "activation_38 (Activation)      (None, 38, 38, 256)  0           bn4f_branch2b[0][0]              \n",
            "__________________________________________________________________________________________________\n",
            "res4f_branch2c (Conv2D)         (None, 38, 38, 1024) 263168      activation_38[0][0]              \n",
            "__________________________________________________________________________________________________\n",
            "bn4f_branch2c (BatchNormalizati (None, 38, 38, 1024) 4096        res4f_branch2c[0][0]             \n",
            "__________________________________________________________________________________________________\n",
            "add_12 (Add)                    (None, 38, 38, 1024) 0           bn4f_branch2c[0][0]              \n",
            "                                                                 activation_36[0][0]              \n",
            "__________________________________________________________________________________________________\n",
            "Input_fmap (InputLayer)         [(None, 38, 38, 1024 0                                            \n",
            "__________________________________________________________________________________________________\n",
            "input_2 (InputLayer)            [(None, None, 4)]    0                                            \n",
            "__________________________________________________________________________________________________\n",
            "activation_39 (Activation)      (None, 38, 38, 1024) 0           add_12[0][0]                     \n",
            "__________________________________________________________________________________________________\n",
            "roi_pooling (RoiPoolingConv)    (1, 4, 7, 7, 1024)   0           Input_fmap[0][0]                 \n",
            "                                                                 input_2[0][0]                    \n",
            "__________________________________________________________________________________________________\n",
            "rpn (RpnNet)                    [(None, 38, 38, 15), 4757579     activation_39[0][0]              \n",
            "__________________________________________________________________________________________________\n",
            "cls (Detector)                  [(1, 4, 4), (1, 4, 1 222371856   roi_pooling[0][0]                \n",
            "==================================================================================================\n",
            "Total params: 235,718,619\n",
            "Trainable params: 227,160,027\n",
            "Non-trainable params: 8,558,592\n",
            "__________________________________________________________________________________________________\n"
          ]
        }
      ],
      "metadata": {
        "tags": [
          "outputPrepend"
        ]
      }
    },
    {
      "cell_type": "code",
      "execution_count": 21,
      "source": [
        "# Models used for mAP eval\n",
        "models.load_weigths(rpn_model_eval, detector_model_eval, backbone, checkpoint=0)\n",
        "models.compile_models(rpn_model_eval, detector_model_eval, total_model_eval, rpn_losses=[loss.rpn_loss_cls, loss.rpn_loss_regr], detector_losses=[loss.detector_loss_cls, loss.detector_loss_regr], class_list=ska_dataset.class_list)"
      ],
      "outputs": [],
      "metadata": {}
    },
    {
      "cell_type": "code",
      "execution_count": 42,
      "source": [
        "# Spostare in una funzione \"evaluate model\" che fa la predict su tutte le img di validation e calcola il map\n",
        "patch_id = ska_dataset.train_patch_list[48:50]\n",
        "print(patch_id)\n",
        "gt = pd.read_pickle(f'{config.TRAIN_PATCHES_FOLDER}/{patch_id[0]}/{patch_id[0]}.pkl')\n",
        "display(gt['class_label'])\n",
        "\n",
        "preds, mAP, prec, recall = evaluate_model(rpn_model_eval, detector_model_eval, backbone, patch_id, ska_dataset.class_list)\n",
        "\n",
        "print(preds)"
      ],
      "outputs": [
        {
          "output_type": "stream",
          "name": "stdout",
          "text": [
            "['26350_16376_17579_100', '26400_16426_17579_100']\n"
          ]
        },
        {
          "output_type": "display_data",
          "data": {
            "text/plain": [
              "0     2_1\n",
              "1     2_1\n",
              "2     2_1\n",
              "3     2_1\n",
              "4     3_1\n",
              "5     2_1\n",
              "6     2_1\n",
              "7     2_1\n",
              "8     2_1\n",
              "9     2_1\n",
              "10    2_1\n",
              "11    2_1\n",
              "12    2_1\n",
              "13    2_1\n",
              "14    2_1\n",
              "15    2_1\n",
              "16    2_1\n",
              "Name: class_label, dtype: object"
            ]
          },
          "metadata": {}
        },
        {
          "output_type": "stream",
          "name": "stdout",
          "text": [
            "Predict\n",
            "rpn_to_roi\n",
            "(1, 38, 38, 15)\n",
            "/Users/lorenzocellini/AI - Universit…/Deep Learning - Andre Asperti/SKA_project/SKADC1/src/utils.py:326: RuntimeWarning: overflow encountered in exp\n",
            "  y1 = cy1 - h1/2.\n",
            "/Users/lorenzocellini/AI - Universit…/Deep Learning - Andre Asperti/SKA_project/SKADC1/src/utils.py:155: RuntimeWarning: invalid value encountered in add\n",
            "  # with warnings.catch_warnings():\n",
            "/Users/lorenzocellini/AI - Universit…/Deep Learning - Andre Asperti/SKA_project/SKADC1/src/utils.py:325: RuntimeWarning: overflow encountered in exp\n",
            "  x1 = cx1 - w1/2.\n",
            "/Users/lorenzocellini/AI - Universit…/Deep Learning - Andre Asperti/SKA_project/SKADC1/src/utils.py:154: RuntimeWarning: invalid value encountered in add\n",
            "  \n",
            "Elapsed:14.6375572681427\n",
            "Predict\n",
            "rpn_to_roi\n",
            "(1, 38, 38, 15)\n",
            "/Users/lorenzocellini/AI - Universit…/Deep Learning - Andre Asperti/SKA_project/SKADC1/src/utils.py:326: RuntimeWarning: overflow encountered in exp\n",
            "  y1 = cy1 - h1/2.\n",
            "/Users/lorenzocellini/AI - Universit…/Deep Learning - Andre Asperti/SKA_project/SKADC1/src/utils.py:155: RuntimeWarning: invalid value encountered in add\n",
            "  # with warnings.catch_warnings():\n",
            "/Users/lorenzocellini/AI - Universit…/Deep Learning - Andre Asperti/SKA_project/SKADC1/src/utils.py:325: RuntimeWarning: overflow encountered in exp\n",
            "  x1 = cx1 - w1/2.\n",
            "/Users/lorenzocellini/AI - Universit…/Deep Learning - Andre Asperti/SKA_project/SKADC1/src/utils.py:154: RuntimeWarning: invalid value encountered in add\n",
            "  \n",
            "Elapsed:15.58533000946045\n",
            "\n",
            "Total model metrics: mAP: 1.0 - macro_precision: 0.0 - macro_recall: 0.0\n",
            "{'26350_16376_17579_100': {'bboxes': {}, 'probs': {}, 'mAP': 1.0, 'macro_precision': 0.0, 'macro_recall': 0.0}, '26400_16426_17579_100': {'bboxes': {}, 'probs': {}, 'mAP': 1.0, 'macro_precision': 0.0, 'macro_recall': 0.0}}\n"
          ]
        }
      ],
      "metadata": {
        "tags": []
      }
    },
    {
      "cell_type": "code",
      "execution_count": 52,
      "source": [
        "print_img(config.TRAIN_PATCHES_FOLDER, '0_16376_16729_100')"
      ],
      "outputs": [
        {
          "output_type": "display_data",
          "data": {
            "text/plain": [
              "<Figure size 432x288 with 1 Axes>"
            ],
            "image/png": "[encoded data removed]",
            "image/svg+xml": "<?xml version=\"1.0\" encoding=\"utf-8\" standalone=\"no\"?>\n<!DOCTYPE svg PUBLIC \"-//W3C//DTD SVG 1.1//EN\"\n  \"http://www.w3.org/Graphics/SVG/1.1/DTD/svg11.dtd\">\n<!-- Created with matplotlib (https://matplotlib.org/) -->\n<svg height=\"251.230144pt\" version=\"1.1\" viewBox=\"0 0 251.565 251.230144\" width=\"251.565pt\" xmlns=\"http://www.w3.org/2000/svg\" xmlns:xlink=\"http://www.w3.org/1999/xlink\">\n <metadata>\n  <rdf:RDF xmlns:cc=\"http://creativecommons.org/ns#\" xmlns:dc=\"http://purl.org/dc/elements/1.1/\" xmlns:rdf=\"http://www.w3.org/1999/02/22-rdf-syntax-ns#\">\n   <cc:Work>\n    <dc:type rdf:resource=\"http://purl.org/dc/dcmitype/StillImage\"/>\n    <dc:date>2021-07-17T15:47:02.076843</dc:date>\n    <dc:format>image/svg+xml</dc:format>\n    <dc:creator>\n     <cc:Agent>\n      <dc:title>Matplotlib v3.3.4, https://matplotlib.org/</dc:title>\n     </cc:Agent>\n    </dc:creator>\n   </cc:Work>\n  </rdf:RDF>\n </metadata>\n <defs>\n  <style type=\"text/css\">*{stroke-linecap:butt;stroke-linejoin:round;}</style>\n </defs>\n <g id=\"figure_1\">\n  <g id=\"patch_1\">\n   <path d=\"M 0 251.230144 \nL 251.565 251.230144 \nL 251.565 0 \nL 0 0 \nz\n\" style=\"fill:none;\"/>\n  </g>\n  <g id=\"axes_1\">\n   <g id=\"patch_2\">\n    <path d=\"M 26.925 227.352019 \nL 244.365 227.352019 \nL 244.365 9.912019 \nL 26.925 9.912019 \nz\n\" style=\"fill:#ffffff;\"/>\n   </g>\n   <g clip-path=\"url(#p16208f58d9)\">\n    <image height=\"218\" id=\"imageb95bfe9ddb\" transform=\"scale(1 -1)translate(0 -218)\" width=\"218\" x=\"26.925\" xlink:href=\"data:image/png;base64,\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\" y=\"-9.352019\"/>\n   </g>\n   <g id=\"patch_3\">\n    <path clip-path=\"url(#p16208f58d9)\" d=\"M 131.525447 90.143633 \nL 243.2778 90.143633 \nL 243.2778 170.718396 \nL 131.525447 170.718396 \nz\n\" style=\"fill:none;stroke:#ff0000;stroke-linejoin:miter;stroke-width:0.1;\"/>\n   </g>\n   <g id=\"patch_4\">\n    <path clip-path=\"url(#p16208f58d9)\" d=\"M 96.475984 37.668202 \nL 107.276866 37.668202 \nL 107.276866 48.469084 \nL 96.475984 48.469084 \nz\n\" style=\"fill:none;stroke:#ff0000;stroke-linejoin:miter;stroke-width:0.1;\"/>\n   </g>\n   <g id=\"patch_5\">\n    <path clip-path=\"url(#p16208f58d9)\" d=\"M 170.464333 150.345391 \nL 184.229902 150.345391 \nL 184.229902 187.911435 \nL 170.464333 187.911435 \nz\n\" style=\"fill:none;stroke:#ff0000;stroke-linejoin:miter;stroke-width:0.1;\"/>\n   </g>\n   <g id=\"patch_6\">\n    <path clip-path=\"url(#p16208f58d9)\" d=\"M 196.051138 88.548318 \nL 207.3547 88.548318 \nL 207.3547 101.004098 \nL 196.051138 101.004098 \nz\n\" style=\"fill:none;stroke:#ff0000;stroke-linejoin:miter;stroke-width:0.1;\"/>\n   </g>\n   <g id=\"patch_7\">\n    <path clip-path=\"url(#p16208f58d9)\" d=\"M 120.345917 126.320055 \nL 136.118198 126.320055 \nL 136.118198 151.309362 \nL 120.345917 151.309362 \nz\n\" style=\"fill:none;stroke:#ff0000;stroke-linejoin:miter;stroke-width:0.1;\"/>\n   </g>\n   <g id=\"patch_8\">\n    <path clip-path=\"url(#p16208f58d9)\" d=\"M 166.528487 149.562357 \nL 177.594816 149.562357 \nL 177.594816 161.317978 \nL 166.528487 161.317978 \nz\n\" style=\"fill:none;stroke:#ff0000;stroke-linejoin:miter;stroke-width:0.1;\"/>\n   </g>\n   <g id=\"patch_9\">\n    <path clip-path=\"url(#p16208f58d9)\" d=\"M 210.30377 42.227323 \nL 223.026964 42.227323 \nL 223.026964 53.426984 \nL 210.30377 53.426984 \nz\n\" style=\"fill:none;stroke:#ff0000;stroke-linejoin:miter;stroke-width:0.1;\"/>\n   </g>\n   <g id=\"patch_10\">\n    <path clip-path=\"url(#p16208f58d9)\" d=\"M 209.539936 115.903015 \nL 220.605623 115.903015 \nL 220.605623 128.500088 \nL 209.539936 128.500088 \nz\n\" style=\"fill:none;stroke:#ff0000;stroke-linejoin:miter;stroke-width:0.1;\"/>\n   </g>\n   <g id=\"patch_11\">\n    <path clip-path=\"url(#p16208f58d9)\" d=\"M 183.685152 46.429047 \nL 200.046165 46.429047 \nL 200.046165 58.373823 \nL 183.685152 58.373823 \nz\n\" style=\"fill:none;stroke:#ff0000;stroke-linejoin:miter;stroke-width:0.1;\"/>\n   </g>\n   <g id=\"patch_12\">\n    <path clip-path=\"url(#p16208f58d9)\" d=\"M 88.786419 130.857251 \nL 100.295541 130.857251 \nL 100.295541 141.735083 \nL 88.786419 141.735083 \nz\n\" style=\"fill:none;stroke:#ff0000;stroke-linejoin:miter;stroke-width:0.1;\"/>\n   </g>\n   <g id=\"patch_13\">\n    <path clip-path=\"url(#p16208f58d9)\" d=\"M 91.980275 36.165133 \nL 107.460048 36.165133 \nL 107.460048 55.408375 \nL 91.980275 55.408375 \nz\n\" style=\"fill:none;stroke:#ff0000;stroke-linejoin:miter;stroke-width:0.1;\"/>\n   </g>\n   <g id=\"patch_14\">\n    <path clip-path=\"url(#p16208f58d9)\" d=\"M 111.567393 99.641801 \nL 122.558206 99.641801 \nL 122.558206 111.126178 \nL 111.567393 111.126178 \nz\n\" style=\"fill:none;stroke:#ff0000;stroke-linejoin:miter;stroke-width:0.1;\"/>\n   </g>\n   <g id=\"matplotlib.axis_1\">\n    <g id=\"xtick_1\">\n     <g id=\"line2d_1\">\n      <defs>\n       <path d=\"M 0 0 \nL 0 3.5 \n\" id=\"m2f2f60d921\" style=\"stroke:#000000;stroke-width:0.8;\"/>\n      </defs>\n      <g>\n       <use style=\"stroke:#000000;stroke-width:0.8;\" x=\"28.0122\" xlink:href=\"#m2f2f60d921\" y=\"227.352019\"/>\n      </g>\n     </g>\n     <g id=\"text_1\">\n      <!-- 0 -->\n      <g transform=\"translate(24.83095 241.950456)scale(0.1 -0.1)\">\n       <defs>\n        <path d=\"M 31.78125 66.40625 \nQ 24.171875 66.40625 20.328125 58.90625 \nQ 16.5 51.421875 16.5 36.375 \nQ 16.5 21.390625 20.328125 13.890625 \nQ 24.171875 6.390625 31.78125 6.390625 \nQ 39.453125 6.390625 43.28125 13.890625 \nQ 47.125 21.390625 47.125 36.375 \nQ 47.125 51.421875 43.28125 58.90625 \nQ 39.453125 66.40625 31.78125 66.40625 \nz\nM 31.78125 74.21875 \nQ 44.046875 74.21875 50.515625 64.515625 \nQ 56.984375 54.828125 56.984375 36.375 \nQ 56.984375 17.96875 50.515625 8.265625 \nQ 44.046875 -1.421875 31.78125 -1.421875 \nQ 19.53125 -1.421875 13.0625 8.265625 \nQ 6.59375 17.96875 6.59375 36.375 \nQ 6.59375 54.828125 13.0625 64.515625 \nQ 19.53125 74.21875 31.78125 74.21875 \nz\n\" id=\"DejaVuSans-48\"/>\n       </defs>\n       <use xlink:href=\"#DejaVuSans-48\"/>\n      </g>\n     </g>\n    </g>\n    <g id=\"xtick_2\">\n     <g id=\"line2d_2\">\n      <g>\n       <use style=\"stroke:#000000;stroke-width:0.8;\" x=\"71.5002\" xlink:href=\"#m2f2f60d921\" y=\"227.352019\"/>\n      </g>\n     </g>\n     <g id=\"text_2\">\n      <!-- 20 -->\n      <g transform=\"translate(65.1377 241.950456)scale(0.1 -0.1)\">\n       <defs>\n        <path d=\"M 19.1875 8.296875 \nL 53.609375 8.296875 \nL 53.609375 0 \nL 7.328125 0 \nL 7.328125 8.296875 \nQ 12.9375 14.109375 22.625 23.890625 \nQ 32.328125 33.6875 34.8125 36.53125 \nQ 39.546875 41.84375 41.421875 45.53125 \nQ 43.3125 49.21875 43.3125 52.78125 \nQ 43.3125 58.59375 39.234375 62.25 \nQ 35.15625 65.921875 28.609375 65.921875 \nQ 23.96875 65.921875 18.8125 64.3125 \nQ 13.671875 62.703125 7.8125 59.421875 \nL 7.8125 69.390625 \nQ 13.765625 71.78125 18.9375 73 \nQ 24.125 74.21875 28.421875 74.21875 \nQ 39.75 74.21875 46.484375 68.546875 \nQ 53.21875 62.890625 53.21875 53.421875 \nQ 53.21875 48.921875 51.53125 44.890625 \nQ 49.859375 40.875 45.40625 35.40625 \nQ 44.1875 33.984375 37.640625 27.21875 \nQ 31.109375 20.453125 19.1875 8.296875 \nz\n\" id=\"DejaVuSans-50\"/>\n       </defs>\n       <use xlink:href=\"#DejaVuSans-50\"/>\n       <use x=\"63.623047\" xlink:href=\"#DejaVuSans-48\"/>\n      </g>\n     </g>\n    </g>\n    <g id=\"xtick_3\">\n     <g id=\"line2d_3\">\n      <g>\n       <use style=\"stroke:#000000;stroke-width:0.8;\" x=\"114.9882\" xlink:href=\"#m2f2f60d921\" y=\"227.352019\"/>\n      </g>\n     </g>\n     <g id=\"text_3\">\n      <!-- 40 -->\n      <g transform=\"translate(108.6257 241.950456)scale(0.1 -0.1)\">\n       <defs>\n        <path d=\"M 37.796875 64.3125 \nL 12.890625 25.390625 \nL 37.796875 25.390625 \nz\nM 35.203125 72.90625 \nL 47.609375 72.90625 \nL 47.609375 25.390625 \nL 58.015625 25.390625 \nL 58.015625 17.1875 \nL 47.609375 17.1875 \nL 47.609375 0 \nL 37.796875 0 \nL 37.796875 17.1875 \nL 4.890625 17.1875 \nL 4.890625 26.703125 \nz\n\" id=\"DejaVuSans-52\"/>\n       </defs>\n       <use xlink:href=\"#DejaVuSans-52\"/>\n       <use x=\"63.623047\" xlink:href=\"#DejaVuSans-48\"/>\n      </g>\n     </g>\n    </g>\n    <g id=\"xtick_4\">\n     <g id=\"line2d_4\">\n      <g>\n       <use style=\"stroke:#000000;stroke-width:0.8;\" x=\"158.4762\" xlink:href=\"#m2f2f60d921\" y=\"227.352019\"/>\n      </g>\n     </g>\n     <g id=\"text_4\">\n      <!-- 60 -->\n      <g transform=\"translate(152.1137 241.950456)scale(0.1 -0.1)\">\n       <defs>\n        <path d=\"M 33.015625 40.375 \nQ 26.375 40.375 22.484375 35.828125 \nQ 18.609375 31.296875 18.609375 23.390625 \nQ 18.609375 15.53125 22.484375 10.953125 \nQ 26.375 6.390625 33.015625 6.390625 \nQ 39.65625 6.390625 43.53125 10.953125 \nQ 47.40625 15.53125 47.40625 23.390625 \nQ 47.40625 31.296875 43.53125 35.828125 \nQ 39.65625 40.375 33.015625 40.375 \nz\nM 52.59375 71.296875 \nL 52.59375 62.3125 \nQ 48.875 64.0625 45.09375 64.984375 \nQ 41.3125 65.921875 37.59375 65.921875 \nQ 27.828125 65.921875 22.671875 59.328125 \nQ 17.53125 52.734375 16.796875 39.40625 \nQ 19.671875 43.65625 24.015625 45.921875 \nQ 28.375 48.1875 33.59375 48.1875 \nQ 44.578125 48.1875 50.953125 41.515625 \nQ 57.328125 34.859375 57.328125 23.390625 \nQ 57.328125 12.15625 50.6875 5.359375 \nQ 44.046875 -1.421875 33.015625 -1.421875 \nQ 20.359375 -1.421875 13.671875 8.265625 \nQ 6.984375 17.96875 6.984375 36.375 \nQ 6.984375 53.65625 15.1875 63.9375 \nQ 23.390625 74.21875 37.203125 74.21875 \nQ 40.921875 74.21875 44.703125 73.484375 \nQ 48.484375 72.75 52.59375 71.296875 \nz\n\" id=\"DejaVuSans-54\"/>\n       </defs>\n       <use xlink:href=\"#DejaVuSans-54\"/>\n       <use x=\"63.623047\" xlink:href=\"#DejaVuSans-48\"/>\n      </g>\n     </g>\n    </g>\n    <g id=\"xtick_5\">\n     <g id=\"line2d_5\">\n      <g>\n       <use style=\"stroke:#000000;stroke-width:0.8;\" x=\"201.9642\" xlink:href=\"#m2f2f60d921\" y=\"227.352019\"/>\n      </g>\n     </g>\n     <g id=\"text_5\">\n      <!-- 80 -->\n      <g transform=\"translate(195.6017 241.950456)scale(0.1 -0.1)\">\n       <defs>\n        <path d=\"M 31.78125 34.625 \nQ 24.75 34.625 20.71875 30.859375 \nQ 16.703125 27.09375 16.703125 20.515625 \nQ 16.703125 13.921875 20.71875 10.15625 \nQ 24.75 6.390625 31.78125 6.390625 \nQ 38.8125 6.390625 42.859375 10.171875 \nQ 46.921875 13.96875 46.921875 20.515625 \nQ 46.921875 27.09375 42.890625 30.859375 \nQ 38.875 34.625 31.78125 34.625 \nz\nM 21.921875 38.8125 \nQ 15.578125 40.375 12.03125 44.71875 \nQ 8.5 49.078125 8.5 55.328125 \nQ 8.5 64.0625 14.71875 69.140625 \nQ 20.953125 74.21875 31.78125 74.21875 \nQ 42.671875 74.21875 48.875 69.140625 \nQ 55.078125 64.0625 55.078125 55.328125 \nQ 55.078125 49.078125 51.53125 44.71875 \nQ 48 40.375 41.703125 38.8125 \nQ 48.828125 37.15625 52.796875 32.3125 \nQ 56.78125 27.484375 56.78125 20.515625 \nQ 56.78125 9.90625 50.3125 4.234375 \nQ 43.84375 -1.421875 31.78125 -1.421875 \nQ 19.734375 -1.421875 13.25 4.234375 \nQ 6.78125 9.90625 6.78125 20.515625 \nQ 6.78125 27.484375 10.78125 32.3125 \nQ 14.796875 37.15625 21.921875 38.8125 \nz\nM 18.3125 54.390625 \nQ 18.3125 48.734375 21.84375 45.5625 \nQ 25.390625 42.390625 31.78125 42.390625 \nQ 38.140625 42.390625 41.71875 45.5625 \nQ 45.3125 48.734375 45.3125 54.390625 \nQ 45.3125 60.0625 41.71875 63.234375 \nQ 38.140625 66.40625 31.78125 66.40625 \nQ 25.390625 66.40625 21.84375 63.234375 \nQ 18.3125 60.0625 18.3125 54.390625 \nz\n\" id=\"DejaVuSans-56\"/>\n       </defs>\n       <use xlink:href=\"#DejaVuSans-56\"/>\n       <use x=\"63.623047\" xlink:href=\"#DejaVuSans-48\"/>\n      </g>\n     </g>\n    </g>\n   </g>\n   <g id=\"matplotlib.axis_2\">\n    <g id=\"ytick_1\">\n     <g id=\"line2d_6\">\n      <defs>\n       <path d=\"M 0 0 \nL -3.5 0 \n\" id=\"mc4329dd6ba\" style=\"stroke:#000000;stroke-width:0.8;\"/>\n      </defs>\n      <g>\n       <use style=\"stroke:#000000;stroke-width:0.8;\" x=\"26.925\" xlink:href=\"#mc4329dd6ba\" y=\"10.999219\"/>\n      </g>\n     </g>\n     <g id=\"text_6\">\n      <!-- 0 -->\n      <g transform=\"translate(13.5625 14.798437)scale(0.1 -0.1)\">\n       <use xlink:href=\"#DejaVuSans-48\"/>\n      </g>\n     </g>\n    </g>\n    <g id=\"ytick_2\">\n     <g id=\"line2d_7\">\n      <g>\n       <use style=\"stroke:#000000;stroke-width:0.8;\" x=\"26.925\" xlink:href=\"#mc4329dd6ba\" y=\"54.487219\"/>\n      </g>\n     </g>\n     <g id=\"text_7\">\n      <!-- 20 -->\n      <g transform=\"translate(7.2 58.286437)scale(0.1 -0.1)\">\n       <use xlink:href=\"#DejaVuSans-50\"/>\n       <use x=\"63.623047\" xlink:href=\"#DejaVuSans-48\"/>\n      </g>\n     </g>\n    </g>\n    <g id=\"ytick_3\">\n     <g id=\"line2d_8\">\n      <g>\n       <use style=\"stroke:#000000;stroke-width:0.8;\" x=\"26.925\" xlink:href=\"#mc4329dd6ba\" y=\"97.975219\"/>\n      </g>\n     </g>\n     <g id=\"text_8\">\n      <!-- 40 -->\n      <g transform=\"translate(7.2 101.774437)scale(0.1 -0.1)\">\n       <use xlink:href=\"#DejaVuSans-52\"/>\n       <use x=\"63.623047\" xlink:href=\"#DejaVuSans-48\"/>\n      </g>\n     </g>\n    </g>\n    <g id=\"ytick_4\">\n     <g id=\"line2d_9\">\n      <g>\n       <use style=\"stroke:#000000;stroke-width:0.8;\" x=\"26.925\" xlink:href=\"#mc4329dd6ba\" y=\"141.463219\"/>\n      </g>\n     </g>\n     <g id=\"text_9\">\n      <!-- 60 -->\n      <g transform=\"translate(7.2 145.262437)scale(0.1 -0.1)\">\n       <use xlink:href=\"#DejaVuSans-54\"/>\n       <use x=\"63.623047\" xlink:href=\"#DejaVuSans-48\"/>\n      </g>\n     </g>\n    </g>\n    <g id=\"ytick_5\">\n     <g id=\"line2d_10\">\n      <g>\n       <use style=\"stroke:#000000;stroke-width:0.8;\" x=\"26.925\" xlink:href=\"#mc4329dd6ba\" y=\"184.951219\"/>\n      </g>\n     </g>\n     <g id=\"text_10\">\n      <!-- 80 -->\n      <g transform=\"translate(7.2 188.750437)scale(0.1 -0.1)\">\n       <use xlink:href=\"#DejaVuSans-56\"/>\n       <use x=\"63.623047\" xlink:href=\"#DejaVuSans-48\"/>\n      </g>\n     </g>\n    </g>\n   </g>\n   <g id=\"patch_15\">\n    <path d=\"M 26.925 227.352019 \nL 26.925 9.912019 \n\" style=\"fill:none;stroke:#000000;stroke-linecap:square;stroke-linejoin:miter;stroke-width:0.8;\"/>\n   </g>\n   <g id=\"patch_16\">\n    <path d=\"M 244.365 227.352019 \nL 244.365 9.912019 \n\" style=\"fill:none;stroke:#000000;stroke-linecap:square;stroke-linejoin:miter;stroke-width:0.8;\"/>\n   </g>\n   <g id=\"patch_17\">\n    <path d=\"M 26.925 227.352019 \nL 244.365 227.352019 \n\" style=\"fill:none;stroke:#000000;stroke-linecap:square;stroke-linejoin:miter;stroke-width:0.8;\"/>\n   </g>\n   <g id=\"patch_18\">\n    <path d=\"M 26.925 9.912019 \nL 244.365 9.912019 \n\" style=\"fill:none;stroke:#000000;stroke-linecap:square;stroke-linejoin:miter;stroke-width:0.8;\"/>\n   </g>\n  </g>\n </g>\n <defs>\n  <clipPath id=\"p16208f58d9\">\n   <rect height=\"217.44\" width=\"217.44\" x=\"26.925\" y=\"9.912019\"/>\n  </clipPath>\n </defs>\n</svg>\n"
          },
          "metadata": {
            "needs_background": "light"
          }
        }
      ],
      "metadata": {}
    },
    {
      "cell_type": "code",
      "execution_count": 266,
      "source": [
        "anch = pd.read_pickle(f'{config.EVAL_RESULTS}/{patch_id[0]}/{patch_id[0]}.pkl')"
      ],
      "outputs": [],
      "metadata": {}
    },
    {
      "cell_type": "code",
      "execution_count": 267,
      "source": [
        "anch['width'] = anch['x2s'] - anch['x1s']\n",
        "anch['heght'] = anch['y2s'] - anch['y1s']"
      ],
      "outputs": [],
      "metadata": {}
    },
    {
      "cell_type": "code",
      "execution_count": 268,
      "source": [
        "anch.describe() "
      ],
      "outputs": [
        {
          "output_type": "execute_result",
          "data": {
            "text/plain": [
              "       x1s  y1s  x2s  y2s  class  prob  width  heght\n",
              "count  0.0  0.0  0.0  0.0    0.0   0.0    0.0    0.0\n",
              "mean   NaN  NaN  NaN  NaN    NaN   NaN    NaN    NaN\n",
              "std    NaN  NaN  NaN  NaN    NaN   NaN    NaN    NaN\n",
              "min    NaN  NaN  NaN  NaN    NaN   NaN    NaN    NaN\n",
              "25%    NaN  NaN  NaN  NaN    NaN   NaN    NaN    NaN\n",
              "50%    NaN  NaN  NaN  NaN    NaN   NaN    NaN    NaN\n",
              "75%    NaN  NaN  NaN  NaN    NaN   NaN    NaN    NaN\n",
              "max    NaN  NaN  NaN  NaN    NaN   NaN    NaN    NaN"
            ],
            "text/html": [
              "<div>\n",
              "<style scoped>\n",
              "    .dataframe tbody tr th:only-of-type {\n",
              "        vertical-align: middle;\n",
              "    }\n",
              "\n",
              "    .dataframe tbody tr th {\n",
              "        vertical-align: top;\n",
              "    }\n",
              "\n",
              "    .dataframe thead th {\n",
              "        text-align: right;\n",
              "    }\n",
              "</style>\n",
              "<table border=\"1\" class=\"dataframe\">\n",
              "  <thead>\n",
              "    <tr style=\"text-align: right;\">\n",
              "      <th></th>\n",
              "      <th>x1s</th>\n",
              "      <th>y1s</th>\n",
              "      <th>x2s</th>\n",
              "      <th>y2s</th>\n",
              "      <th>class</th>\n",
              "      <th>prob</th>\n",
              "      <th>width</th>\n",
              "      <th>heght</th>\n",
              "    </tr>\n",
              "  </thead>\n",
              "  <tbody>\n",
              "    <tr>\n",
              "      <th>count</th>\n",
              "      <td>0.0</td>\n",
              "      <td>0.0</td>\n",
              "      <td>0.0</td>\n",
              "      <td>0.0</td>\n",
              "      <td>0.0</td>\n",
              "      <td>0.0</td>\n",
              "      <td>0.0</td>\n",
              "      <td>0.0</td>\n",
              "    </tr>\n",
              "    <tr>\n",
              "      <th>mean</th>\n",
              "      <td>NaN</td>\n",
              "      <td>NaN</td>\n",
              "      <td>NaN</td>\n",
              "      <td>NaN</td>\n",
              "      <td>NaN</td>\n",
              "      <td>NaN</td>\n",
              "      <td>NaN</td>\n",
              "      <td>NaN</td>\n",
              "    </tr>\n",
              "    <tr>\n",
              "      <th>std</th>\n",
              "      <td>NaN</td>\n",
              "      <td>NaN</td>\n",
              "      <td>NaN</td>\n",
              "      <td>NaN</td>\n",
              "      <td>NaN</td>\n",
              "      <td>NaN</td>\n",
              "      <td>NaN</td>\n",
              "      <td>NaN</td>\n",
              "    </tr>\n",
              "    <tr>\n",
              "      <th>min</th>\n",
              "      <td>NaN</td>\n",
              "      <td>NaN</td>\n",
              "      <td>NaN</td>\n",
              "      <td>NaN</td>\n",
              "      <td>NaN</td>\n",
              "      <td>NaN</td>\n",
              "      <td>NaN</td>\n",
              "      <td>NaN</td>\n",
              "    </tr>\n",
              "    <tr>\n",
              "      <th>25%</th>\n",
              "      <td>NaN</td>\n",
              "      <td>NaN</td>\n",
              "      <td>NaN</td>\n",
              "      <td>NaN</td>\n",
              "      <td>NaN</td>\n",
              "      <td>NaN</td>\n",
              "      <td>NaN</td>\n",
              "      <td>NaN</td>\n",
              "    </tr>\n",
              "    <tr>\n",
              "      <th>50%</th>\n",
              "      <td>NaN</td>\n",
              "      <td>NaN</td>\n",
              "      <td>NaN</td>\n",
              "      <td>NaN</td>\n",
              "      <td>NaN</td>\n",
              "      <td>NaN</td>\n",
              "      <td>NaN</td>\n",
              "      <td>NaN</td>\n",
              "    </tr>\n",
              "    <tr>\n",
              "      <th>75%</th>\n",
              "      <td>NaN</td>\n",
              "      <td>NaN</td>\n",
              "      <td>NaN</td>\n",
              "      <td>NaN</td>\n",
              "      <td>NaN</td>\n",
              "      <td>NaN</td>\n",
              "      <td>NaN</td>\n",
              "      <td>NaN</td>\n",
              "    </tr>\n",
              "    <tr>\n",
              "      <th>max</th>\n",
              "      <td>NaN</td>\n",
              "      <td>NaN</td>\n",
              "      <td>NaN</td>\n",
              "      <td>NaN</td>\n",
              "      <td>NaN</td>\n",
              "      <td>NaN</td>\n",
              "      <td>NaN</td>\n",
              "      <td>NaN</td>\n",
              "    </tr>\n",
              "  </tbody>\n",
              "</table>\n",
              "</div>"
            ]
          },
          "metadata": {},
          "execution_count": 268
        }
      ],
      "metadata": {}
    },
    {
      "cell_type": "markdown",
      "source": [],
      "metadata": {}
    },
    {
      "cell_type": "markdown",
      "source": [
        "TODO - 20210508:\n",
        "- [X] troncamento rumore a 1e-6 tramite half gaussian\n",
        "\n",
        "TODO - 20210605:\n",
        "- [X] modificare RPNNet in modo che dia in output anche la backbone - Lorenzo\n",
        "- [X] scrivere bene training loop: salvare le loss in un df su disco + salvare pesi modello ad ogni giro (Lorenzo - finire di debuggare)\n",
        "\n",
        "TODO - 20210620:\n",
        "- [x] implementare mAP in una funzione che prende come parametro un modello o i suoi pesi\n",
        "- [x] implementare resNet50\n",
        "- [x] implementare predicted rois - Lorenzo\n",
        "- [X] implementare plot loss training - Lorenzo\n",
        "- [X] finire classe datasetv2 - Alice\n",
        "- [X] check se su colab le performance sono migliori - Lorenzo\n",
        "\n",
        "TODO - 20210627\n",
        "- [X] split dataset su combinazioni classi - Alice\n",
        "- [x] provare campionamento random patch ed osservare le due distribuzioni - Alice\n",
        "\n",
        "TODO - 20210703\n",
        "- [x] sistemare salvataggio loss training loop - Lorenzo\n",
        "- [x] Riscalare immagini tra 0-255 - Alice\n",
        "- [x] capire se passare tre immagini diverse come input\n",
        "- [x] usare media vgg16 per zero-centering - Alice\n",
        "\n",
        "TODO - 20210705\n",
        "- [x] sistemare nomi funzioni dataset per trasformazione rgb\n",
        "\n",
        "TODO - 20210711\n",
        "- [x] rifattorizzare classe dataset spostando nel costruttore i metodi che calcolano i suoi attributi - Lorenzo\n",
        "- [x] chek valori pixel in input per resnet\n",
        "- [x] fare funzione per plottare le predictions\n",
        "- [ ] trainare tutto su colab\n",
        "\n",
        "TODO - 20210714\n",
        "- [x] ragionare su come scalare le immagini fra 0 e 1, attualmente hanno tanti valori schiacciati a 0 e il massimo su tutto il train a a 0.4\n",
        "\n",
        "TODO - 20210717\n",
        "- [ ] Ablation study: provare a rimuovere stage4 nella resnet - se c'è tempo\n",
        "- [x] Provare con nostra pixel_mean e con vgg16 pixel_mean -> per il momento abbiamo scartato la prima opzione\n",
        "- [ ] Fare qualche analisi di distribuzione delle classi/dim box del dataset - Alice\n",
        "- [x] Aggiungere normalizzazione dopo zero centering per resNet50, sulla base del range globale dell'immagine di training\n",
        "- [ ] Provare pulizia dataset originale sulla base del rumore/flusso - Alice\n",
        "- [ ] Cambiare nomi di tutto - alla fine\n",
        "- [x] implementare zero-centering su volare medio RGB delle nostre patch\n",
        "- [x] Funzione che trova l'ultimo checkpoint in colab prima del load_weights - Lorenzo\n",
        "\n",
        "TODO - 20210801\n",
        "- [ ] Debuggare training baseline 8 e 16 - L\n",
        "- [ ] Finire prove pulizia dataseet noise variando k - A"
      ],
      "metadata": {}
    },
    {
      "cell_type": "markdown",
      "source": [
        "1.  Summary\n",
        "    - riassunto progetto\n",
        "2.  Background\n",
        "    - SoTA + teoria di base\n",
        "3.  System Description\n",
        "    - descrizione dei nostri modelli e dei loro componenti (moduli)\n",
        "4.  Experimental setup and results\n",
        "    - dataset pre processing\n",
        "    - training environment\n",
        "    - metrics\n",
        "    - results\n",
        "5.  Results and error analysis\n",
        "6.  Discussion"
      ],
      "metadata": {}
    },
    {
      "cell_type": "markdown",
      "source": [
        "# Plotting"
      ],
      "metadata": {}
    },
    {
      "cell_type": "code",
      "execution_count": 21,
      "source": [
        "loss_history = np.load(f\"./model/{backbone}/loss_history.npy\")\n",
        "print(loss_history.shape)"
      ],
      "outputs": [
        {
          "output_type": "stream",
          "name": "stdout",
          "text": [
            "(21, 5)\n"
          ]
        }
      ],
      "metadata": {}
    },
    {
      "cell_type": "code",
      "execution_count": 245,
      "source": [
        "loss_history"
      ],
      "outputs": [
        {
          "output_type": "execute_result",
          "data": {
            "text/plain": [
              "array([[2.21167493e+00, 5.48505938e+01, 1.41033335e+01, 9.02264648e+02,\n",
              "        1.25000000e-01],\n",
              "       [3.47529209e+00, 6.21291500e+00, 1.20885715e+01, 2.05328012e+00,\n",
              "        2.50000000e-01],\n",
              "       [3.08124007e+00, 4.84355471e+00, 8.05904770e+00, 2.38956679e+01,\n",
              "        5.00000000e-01],\n",
              "       [2.60109515e+00, 1.80010146e+00, 6.68381833e+00, 1.44240359e+01,\n",
              "        4.75000000e-01],\n",
              "       [3.40300663e+00, 1.71771869e+00, 8.33843269e+00, 1.56928931e+01,\n",
              "        4.50000000e-01],\n",
              "       [3.16217673e+00, 5.52144847e-01, 8.05904770e+00, 3.37423466e+01,\n",
              "        5.00000000e-01],\n",
              "       [3.15954884e+00, 2.11416296e-01, 2.44386007e+00, 1.61016402e+00,\n",
              "        5.25000000e-01],\n",
              "       [4.03812165e+00, 1.64660653e-01, 7.46127805e-01, 4.78080065e-01,\n",
              "        5.50000000e-01],\n",
              "       [3.41979742e+00, 1.61025919e-01, 9.01550260e-01, 6.71743631e-01,\n",
              "        4.50000000e-01],\n",
              "       [2.56015201e+00, 1.47500894e-01, 7.04970554e-01, 4.51246776e-01,\n",
              "        6.00000000e-01],\n",
              "       [2.21090159e+00, 1.38484716e-01, 1.08025630e+00, 5.57499830e-01,\n",
              "        5.00000000e-01],\n",
              "       [3.48869355e+00, 1.64873423e-01, 9.36810850e-01, 5.04960253e-01,\n",
              "        5.25000000e-01],\n",
              "       [3.26566479e+00, 1.50832899e-01, 9.08737504e-01, 6.44547160e-01,\n",
              "        3.75000000e-01],\n",
              "       [2.21205750e+00, 1.34632818e-01, 8.24996120e-01, 4.22457138e-01,\n",
              "        4.75000000e-01],\n",
              "       [2.65414178e+00, 1.67809369e-01, 7.80588901e-01, 4.16125619e-01,\n",
              "        4.00000000e-01],\n",
              "       [3.21647826e+00, 1.40437405e-01, 7.14507455e-01, 4.48008174e-01,\n",
              "        5.50000000e-01],\n",
              "       [2.47858621e+00, 1.61058991e-01, 7.40941548e-01, 5.84664333e-01,\n",
              "        5.25000000e-01],\n",
              "       [3.70572770e+00, 2.21778932e-01, 7.66040862e-01, 4.76432157e-01,\n",
              "        4.25000000e-01],\n",
              "       [3.38703561e+00, 1.41161886e-01, 6.52585757e-01, 3.05540912e-01,\n",
              "        6.75000000e-01],\n",
              "       [2.54670758e+00, 1.38233692e-01, 7.13554370e-01, 5.79641782e-01,\n",
              "        4.75000000e-01],\n",
              "       [2.25529224e+00, 1.23110373e-01, 8.09295374e-01, 6.00391714e-01,\n",
              "        4.00000000e-01],\n",
              "       [2.64313495e+00, 1.63394751e-01, 7.31717366e-01, 7.51643186e-01,\n",
              "        4.75000000e-01]])"
            ]
          },
          "metadata": {},
          "execution_count": 245
        }
      ],
      "metadata": {}
    },
    {
      "cell_type": "code",
      "execution_count": 22,
      "source": [
        "plot_loss(loss_history)"
      ],
      "outputs": [
        {
          "output_type": "display_data",
          "data": {
            "text/plain": [
              "<Figure size 1080x360 with 2 Axes>"
            ],
            "image/png": "[encoded data removed]"
          },
          "metadata": {
            "needs_background": "light"
          }
        },
        {
          "output_type": "display_data",
          "data": {
            "text/plain": [
              "<Figure size 1080x360 with 2 Axes>"
            ],
            "image/png": "[encoded data removed]"
          },
          "metadata": {
            "needs_background": "light"
          }
        },
        {
          "output_type": "display_data",
          "data": {
            "text/plain": [
              "<Figure size 1080x360 with 2 Axes>"
            ],
            "image/png": "[encoded data removed]"
          },
          "metadata": {
            "needs_background": "light"
          }
        }
      ],
      "metadata": {}
    },
    {
      "cell_type": "markdown",
      "source": [],
      "metadata": {}
    },
    {
      "cell_type": "code",
      "execution_count": 1,
      "source": [
        "# from tensorflow.keras.applications import EfficientNetB0\n",
        "# model = EfficientNetB0(weights='imagenet')"
      ],
      "outputs": [],
      "metadata": {}
    }
  ]
}