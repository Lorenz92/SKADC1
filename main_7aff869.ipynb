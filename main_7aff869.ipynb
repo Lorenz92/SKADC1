{
  "nbformat": 4,
  "nbformat_minor": 2,
  "metadata": {
    "language_info": {
      "codemirror_mode": {
        "name": "ipython",
        "version": 3
      },
      "file_extension": ".py",
      "mimetype": "text/x-python",
      "name": "python",
      "nbconvert_exporter": "python",
      "pygments_lexer": "ipython3",
      "version": "3.8.2"
    },
    "orig_nbformat": 2,
    "kernelspec": {
      "name": "python3",
      "display_name": "Python 3.8.2 64-bit"
    },
    "colab": {
      "name": "main.ipynb",
      "provenance": []
    },
    "metadata": {
      "interpreter": {
        "hash": "31f2aee4e71d21fbe5cf8b01ff0e069b9275f58929596ceb00d14d90e3e16cd6"
      }
    },
    "interpreter": {
      "hash": "31f2aee4e71d21fbe5cf8b01ff0e069b9275f58929596ceb00d14d90e3e16cd6"
    }
  },
  "cells": [
    {
      "cell_type": "code",
      "execution_count": 1,
      "source": [
        "# !git clone 'https://github.com/Lorenz92/SKADC1.git'\n",
        "# % cd SKADC1\n",
        "# !echo $PWD"
      ],
      "outputs": [],
      "metadata": {}
    },
    {
      "cell_type": "code",
      "execution_count": 2,
      "source": [
        "import pandas as pd\n",
        "import numpy as np\n",
        "\n",
        "import src.dataset as dataset\n",
        "import src.config as config \n",
        "from src.utils import *\n",
        "import src.models as models\n",
        "import src.losses as loss\n",
        "\n",
        "path = config.TRAIN_PATCHES_FOLDER\n",
        "%load_ext autoreload\n",
        "%autoreload 2\n",
        "\n",
        "np.random.seed(config.RANDOM_SEED)"
      ],
      "outputs": [],
      "metadata": {
        "id": "7WwOlsifF-5G",
        "outputId": "303002ab-c8c4-4807-caeb-ee1c590d4326",
        "colab": {
          "base_uri": "https://localhost:8080/"
        }
      }
    },
    {
      "cell_type": "code",
      "execution_count": 3,
      "source": [
        "if 'google.colab' in str(get_ipython()):\n",
        "  use_colab = True\n",
        "  print('Running on CoLab')\n",
        "else:\n",
        "  use_colab = False\n",
        "  print('Not running on CoLab')"
      ],
      "outputs": [
        {
          "output_type": "stream",
          "name": "stdout",
          "text": [
            "Not running on CoLab\n"
          ]
        }
      ],
      "metadata": {}
    },
    {
      "cell_type": "code",
      "execution_count": 4,
      "source": [
        "if use_colab:\n",
        "    # Read file from Colab Notebook\n",
        "    from google.colab import drive\n",
        "    drive.mount('/content/drive')\n",
        "    config.MODEL_WEIGHTS = \"/content/drive/My Drive/Colab Notebooks/SKADC1\"\n",
        "    config.IMAGE_PATH = \"/content/drive/My Drive/Colab Notebooks/SKADC1/asset/560Mhz_1000h.fits\""
      ],
      "outputs": [],
      "metadata": {}
    },
    {
      "cell_type": "code",
      "execution_count": 5,
      "source": [
        "# Choose the feature extraction model\n",
        "# backbone='baseline_36'\n",
        "backbone='baseline_16'\n",
        "# backbone='vgg16'\n",
        "\n",
        "if backbone=='baseline_16':\n",
        "    config.patch_dim = 50\n",
        "    # config.patch_dim = 20\n",
        "    config.resizePatch = True\n",
        "    config.rpn_stride = 4\n",
        "    config.num_rois = 8\n",
        "    # config.anchor_box_scales = [16,32,64] # anchors in the original image size\n",
        "    config.anchor_box_scales = [16, 24, 32, 64]\n",
        "    # config.anchor_box_scales = [6, 8, 12, 16, 24, 32, 64]\n",
        "    config.resizeFinalDim = 150\n",
        "    # config.resizeFinalDim = 100\n",
        "    input_shape_1 = config.resizeFinalDim\n",
        "elif backbone=='baseline_36':\n",
        "    config.patch_dim = 50\n",
        "    config.resizePatch = True\n",
        "    config.rpn_stride = 8\n",
        "    config.num_rois = 8\n",
        "    # config.anchor_box_scales = [16,32,64] # anchors in the original image size\n",
        "    config.anchor_box_scales = [16, 32]\n",
        "    # config.anchor_box_scales = [6, 8, 12, 16, 24, 32, 64]\n",
        "    config.resizeFinalDim = 150\n",
        "    input_shape_1 = config.resizeFinalDim\n",
        "else:\n",
        "    config.patch_dim = 100\n",
        "    config.resizePatch = True\n",
        "    config.rpn_stride = 16\n",
        "    config.num_rois = 4\n",
        "    config.resizeFinalDim = 600\n",
        "    input_shape_1=config.resizeFinalDim\n",
        "    config.anchor_box_scales = [32, 64, 128]\n",
        "\n",
        "\n",
        "config.anchor_num = len(config.anchor_box_ratios)*len(config.anchor_box_scales)\n",
        "input_shape_2=(None, 4)\n",
        "\n",
        "print(config.resizePatch)\n",
        "print(config.rpn_stride)\n",
        "\n",
        "checkpoint = get_model_last_checkpoint(backbone)\n",
        "print(f'Model last checkpoint: {checkpoint}')"
      ],
      "outputs": [
        {
          "output_type": "stream",
          "name": "stdout",
          "text": [
            "True\n",
            "4\n",
            "Checking model checkpoints in directory /Users/lorenzocellini/AI - Universit…/Deep Learning - Andre Asperti/SKA_project/SKADC1/model/baseline_16\n",
            "/Users/lorenzocellini/AI - Universit…/Deep Learning - Andre Asperti/SKA_project/SKADC1/model/baseline_16/1_frcnn_baseline_16.h5\n",
            "/Users/lorenzocellini/AI - Universit…/Deep Learning - Andre Asperti/SKA_project/SKADC1/model/baseline_16/23_frcnn_baseline_16.h5\n",
            "/Users/lorenzocellini/AI - Universit…/Deep Learning - Andre Asperti/SKA_project/SKADC1/model/baseline_16/0_frcnn_baseline_16.h5\n",
            "/Users/lorenzocellini/AI - Universit…/Deep Learning - Andre Asperti/SKA_project/SKADC1/model/baseline_16/5_frcnn_baseline_16.h5\n",
            "/Users/lorenzocellini/AI - Universit…/Deep Learning - Andre Asperti/SKA_project/SKADC1/model/baseline_16/19_frcnn_baseline_16.h5\n",
            "/Users/lorenzocellini/AI - Universit…/Deep Learning - Andre Asperti/SKA_project/SKADC1/model/baseline_16/93_frcnn_baseline_16.h5\n",
            "/Users/lorenzocellini/AI - Universit…/Deep Learning - Andre Asperti/SKA_project/SKADC1/model/baseline_16/24_frcnn_baseline_16.h5\n",
            "/Users/lorenzocellini/AI - Universit…/Deep Learning - Andre Asperti/SKA_project/SKADC1/model/baseline_16/308_frcnn_baseline_16.h5\n",
            "/Users/lorenzocellini/AI - Universit…/Deep Learning - Andre Asperti/SKA_project/SKADC1/model/baseline_16/754_frcnn_baseline_16.h5\n",
            "/Users/lorenzocellini/AI - Universit…/Deep Learning - Andre Asperti/SKA_project/SKADC1/model/baseline_16/12_frcnn_baseline_16.h5\n",
            "/Users/lorenzocellini/AI - Universit…/Deep Learning - Andre Asperti/SKA_project/SKADC1/model/baseline_16/669_frcnn_baseline_16.h5\n",
            "/Users/lorenzocellini/AI - Universit…/Deep Learning - Andre Asperti/SKA_project/SKADC1/model/baseline_16/122_frcnn_baseline_16.h5\n",
            "/Users/lorenzocellini/AI - Universit…/Deep Learning - Andre Asperti/SKA_project/SKADC1/model/baseline_16/2_frcnn_baseline_16.h5\n",
            "/Users/lorenzocellini/AI - Universit…/Deep Learning - Andre Asperti/SKA_project/SKADC1/model/baseline_16/8_frcnn_baseline_16.h5\n",
            "Model last checkpoint: 754_frcnn_baseline_16.h5\n"
          ]
        }
      ],
      "metadata": {}
    },
    {
      "cell_type": "code",
      "execution_count": 6,
      "source": [
        "# Dataset parsing and loading\n",
        "# use \"subset\" in config file to load a small portion of data for development/debugging purposes\n",
        "ska_dataset = dataset.SKADataset(k=3, print_info=False, use_pb=False)"
      ],
      "outputs": [
        {
          "output_type": "stream",
          "name": "stdout",
          "text": [
            "Dataset shape: (19222, 15)\n"
          ]
        },
        {
          "output_type": "display_data",
          "data": {
            "text/plain": [
              "         ID  RA (core)  DEC (core)  RA (centroid)  DEC (centroid)      FLUX  \\\n",
              "0  24121695  -0.642227  -29.775242      -0.642316      -29.775211  0.000035   \n",
              "1  20167150  -0.390473  -29.867493      -0.390667      -29.868851  0.029555   \n",
              "2  20045120  -0.021411  -29.643486      -0.021359      -29.643561  0.000653   \n",
              "3  33938384  -0.316375  -29.697647      -0.316375      -29.697647  0.000017   \n",
              "4   7527248  -0.336528  -29.627335      -0.336527      -29.627338  0.000054   \n",
              "\n",
              "   Core frac     BMAJ    BMIN       PA  SIZE  CLASS  SELECTION          x  \\\n",
              "0   0.000000    5.600   5.551  328.554     1      1          1  19704.519   \n",
              "1   0.016924  107.110  43.263  191.258     1      1          1  18401.338   \n",
              "2   0.012185    5.037   3.525  276.587     1      1          1  16493.600   \n",
              "3   0.000000    0.847   0.266  346.641     2      1          1  18020.319   \n",
              "4   0.044763    3.343   1.515  279.006     1      1          1  18125.824   \n",
              "\n",
              "           y  \n",
              "0  17712.942  \n",
              "1  17160.919  \n",
              "2  18506.577  \n",
              "3  18182.095  \n",
              "4  18600.680  "
            ],
            "text/html": [
              "<div>\n",
              "<style scoped>\n",
              "    .dataframe tbody tr th:only-of-type {\n",
              "        vertical-align: middle;\n",
              "    }\n",
              "\n",
              "    .dataframe tbody tr th {\n",
              "        vertical-align: top;\n",
              "    }\n",
              "\n",
              "    .dataframe thead th {\n",
              "        text-align: right;\n",
              "    }\n",
              "</style>\n",
              "<table border=\"1\" class=\"dataframe\">\n",
              "  <thead>\n",
              "    <tr style=\"text-align: right;\">\n",
              "      <th></th>\n",
              "      <th>ID</th>\n",
              "      <th>RA (core)</th>\n",
              "      <th>DEC (core)</th>\n",
              "      <th>RA (centroid)</th>\n",
              "      <th>DEC (centroid)</th>\n",
              "      <th>FLUX</th>\n",
              "      <th>Core frac</th>\n",
              "      <th>BMAJ</th>\n",
              "      <th>BMIN</th>\n",
              "      <th>PA</th>\n",
              "      <th>SIZE</th>\n",
              "      <th>CLASS</th>\n",
              "      <th>SELECTION</th>\n",
              "      <th>x</th>\n",
              "      <th>y</th>\n",
              "    </tr>\n",
              "  </thead>\n",
              "  <tbody>\n",
              "    <tr>\n",
              "      <th>0</th>\n",
              "      <td>24121695</td>\n",
              "      <td>-0.642227</td>\n",
              "      <td>-29.775242</td>\n",
              "      <td>-0.642316</td>\n",
              "      <td>-29.775211</td>\n",
              "      <td>0.000035</td>\n",
              "      <td>0.000000</td>\n",
              "      <td>5.600</td>\n",
              "      <td>5.551</td>\n",
              "      <td>328.554</td>\n",
              "      <td>1</td>\n",
              "      <td>1</td>\n",
              "      <td>1</td>\n",
              "      <td>19704.519</td>\n",
              "      <td>17712.942</td>\n",
              "    </tr>\n",
              "    <tr>\n",
              "      <th>1</th>\n",
              "      <td>20167150</td>\n",
              "      <td>-0.390473</td>\n",
              "      <td>-29.867493</td>\n",
              "      <td>-0.390667</td>\n",
              "      <td>-29.868851</td>\n",
              "      <td>0.029555</td>\n",
              "      <td>0.016924</td>\n",
              "      <td>107.110</td>\n",
              "      <td>43.263</td>\n",
              "      <td>191.258</td>\n",
              "      <td>1</td>\n",
              "      <td>1</td>\n",
              "      <td>1</td>\n",
              "      <td>18401.338</td>\n",
              "      <td>17160.919</td>\n",
              "    </tr>\n",
              "    <tr>\n",
              "      <th>2</th>\n",
              "      <td>20045120</td>\n",
              "      <td>-0.021411</td>\n",
              "      <td>-29.643486</td>\n",
              "      <td>-0.021359</td>\n",
              "      <td>-29.643561</td>\n",
              "      <td>0.000653</td>\n",
              "      <td>0.012185</td>\n",
              "      <td>5.037</td>\n",
              "      <td>3.525</td>\n",
              "      <td>276.587</td>\n",
              "      <td>1</td>\n",
              "      <td>1</td>\n",
              "      <td>1</td>\n",
              "      <td>16493.600</td>\n",
              "      <td>18506.577</td>\n",
              "    </tr>\n",
              "    <tr>\n",
              "      <th>3</th>\n",
              "      <td>33938384</td>\n",
              "      <td>-0.316375</td>\n",
              "      <td>-29.697647</td>\n",
              "      <td>-0.316375</td>\n",
              "      <td>-29.697647</td>\n",
              "      <td>0.000017</td>\n",
              "      <td>0.000000</td>\n",
              "      <td>0.847</td>\n",
              "      <td>0.266</td>\n",
              "      <td>346.641</td>\n",
              "      <td>2</td>\n",
              "      <td>1</td>\n",
              "      <td>1</td>\n",
              "      <td>18020.319</td>\n",
              "      <td>18182.095</td>\n",
              "    </tr>\n",
              "    <tr>\n",
              "      <th>4</th>\n",
              "      <td>7527248</td>\n",
              "      <td>-0.336528</td>\n",
              "      <td>-29.627335</td>\n",
              "      <td>-0.336527</td>\n",
              "      <td>-29.627338</td>\n",
              "      <td>0.000054</td>\n",
              "      <td>0.044763</td>\n",
              "      <td>3.343</td>\n",
              "      <td>1.515</td>\n",
              "      <td>279.006</td>\n",
              "      <td>1</td>\n",
              "      <td>1</td>\n",
              "      <td>1</td>\n",
              "      <td>18125.824</td>\n",
              "      <td>18600.680</td>\n",
              "    </tr>\n",
              "  </tbody>\n",
              "</table>\n",
              "</div>"
            ]
          },
          "metadata": {}
        },
        {
          "output_type": "stream",
          "name": "stdout",
          "text": [
            "Loading FITS file /Users/lorenzocellini/AI - Universit…/Deep Learning - Andre Asperti/SKA_project/SKADC1/data/training/560Mhz_1000h.fits\n"
          ]
        },
        {
          "output_type": "stream",
          "name": "stderr",
          "text": [
            "WARNING: VerifyWarning: Invalid 'BLANK' keyword in header.  The 'BLANK' keyword is only applicable to integer data, and will be ignored in this HDU. [astropy.io.fits.hdu.image]\n",
            "100%|██████████| 19222/19222 [00:03<00:00, 5264.75it/s]\n"
          ]
        },
        {
          "output_type": "stream",
          "name": "stdout",
          "text": [
            "Initial dataset shape: (19222, 15)\n",
            "Found 0 boxes with zero area\n",
            "Rows to be deleted: 0\n",
            "New dataset shape: (19222, 15)\n",
            "Extending dataset with new computed columns...\n",
            "Final cleaned dataset shape: (19222, 26)\n",
            "\n",
            "Enlarging bboxes...\n",
            "DONE - Enlarging bboxes...\n"
          ]
        },
        {
          "output_type": "display_data",
          "data": {
            "text/plain": [
              "         ID  RA (core)  DEC (core)  RA (centroid)  DEC (centroid)      FLUX  \\\n",
              "0  24121695  -0.642227  -29.775242      -0.642316      -29.775211  0.000035   \n",
              "1  20167150  -0.390473  -29.867493      -0.390667      -29.868851  0.029555   \n",
              "2  20045120  -0.021411  -29.643486      -0.021359      -29.643561  0.000653   \n",
              "3  33938384  -0.316375  -29.697647      -0.316375      -29.697647  0.000017   \n",
              "4   7527248  -0.336528  -29.627335      -0.336527      -29.627338  0.000054   \n",
              "\n",
              "   Core frac     BMAJ    BMIN       PA  ...            x2            y2  \\\n",
              "0   0.000000    5.600   5.551  328.554  ...  19710.764566  17719.170105   \n",
              "1   0.016924  107.110  43.263  191.258  ...  18509.603417  17209.564571   \n",
              "2   0.012185    5.037   3.525  276.587  ...  16498.009965  18512.295208   \n",
              "3   0.000000    0.847   0.266  346.641  ...  18023.322729  18184.661968   \n",
              "4   0.044763    3.343   1.515  279.006  ...  18128.789688  18604.884928   \n",
              "\n",
              "   major_semia_px  minor_semia_px  pa_in_rad       width     height  \\\n",
              "0        6.264429        6.218255   5.734349   12.503792  12.461712   \n",
              "1      110.037236       44.503323   3.338082  216.538139  97.294352   \n",
              "2        5.738106        4.389739   4.827354    8.820318  11.444852   \n",
              "3        3.031418        2.541842   6.050027    6.014593   5.140670   \n",
              "4        4.236891        2.929772   4.869573    5.937378   8.419429   \n",
              "\n",
              "      area_orig  area_cropped  class_label  \n",
              "0    155.818657    155.818657          1_1  \n",
              "1  21067.937901  21067.937901          1_1  \n",
              "2    100.947234    100.947234          1_1  \n",
              "3     30.919039     30.919039          2_1  \n",
              "4     49.989332     49.989332          1_1  \n",
              "\n",
              "[5 rows x 27 columns]"
            ],
            "text/html": [
              "<div>\n",
              "<style scoped>\n",
              "    .dataframe tbody tr th:only-of-type {\n",
              "        vertical-align: middle;\n",
              "    }\n",
              "\n",
              "    .dataframe tbody tr th {\n",
              "        vertical-align: top;\n",
              "    }\n",
              "\n",
              "    .dataframe thead th {\n",
              "        text-align: right;\n",
              "    }\n",
              "</style>\n",
              "<table border=\"1\" class=\"dataframe\">\n",
              "  <thead>\n",
              "    <tr style=\"text-align: right;\">\n",
              "      <th></th>\n",
              "      <th>ID</th>\n",
              "      <th>RA (core)</th>\n",
              "      <th>DEC (core)</th>\n",
              "      <th>RA (centroid)</th>\n",
              "      <th>DEC (centroid)</th>\n",
              "      <th>FLUX</th>\n",
              "      <th>Core frac</th>\n",
              "      <th>BMAJ</th>\n",
              "      <th>BMIN</th>\n",
              "      <th>PA</th>\n",
              "      <th>...</th>\n",
              "      <th>x2</th>\n",
              "      <th>y2</th>\n",
              "      <th>major_semia_px</th>\n",
              "      <th>minor_semia_px</th>\n",
              "      <th>pa_in_rad</th>\n",
              "      <th>width</th>\n",
              "      <th>height</th>\n",
              "      <th>area_orig</th>\n",
              "      <th>area_cropped</th>\n",
              "      <th>class_label</th>\n",
              "    </tr>\n",
              "  </thead>\n",
              "  <tbody>\n",
              "    <tr>\n",
              "      <th>0</th>\n",
              "      <td>24121695</td>\n",
              "      <td>-0.642227</td>\n",
              "      <td>-29.775242</td>\n",
              "      <td>-0.642316</td>\n",
              "      <td>-29.775211</td>\n",
              "      <td>0.000035</td>\n",
              "      <td>0.000000</td>\n",
              "      <td>5.600</td>\n",
              "      <td>5.551</td>\n",
              "      <td>328.554</td>\n",
              "      <td>...</td>\n",
              "      <td>19710.764566</td>\n",
              "      <td>17719.170105</td>\n",
              "      <td>6.264429</td>\n",
              "      <td>6.218255</td>\n",
              "      <td>5.734349</td>\n",
              "      <td>12.503792</td>\n",
              "      <td>12.461712</td>\n",
              "      <td>155.818657</td>\n",
              "      <td>155.818657</td>\n",
              "      <td>1_1</td>\n",
              "    </tr>\n",
              "    <tr>\n",
              "      <th>1</th>\n",
              "      <td>20167150</td>\n",
              "      <td>-0.390473</td>\n",
              "      <td>-29.867493</td>\n",
              "      <td>-0.390667</td>\n",
              "      <td>-29.868851</td>\n",
              "      <td>0.029555</td>\n",
              "      <td>0.016924</td>\n",
              "      <td>107.110</td>\n",
              "      <td>43.263</td>\n",
              "      <td>191.258</td>\n",
              "      <td>...</td>\n",
              "      <td>18509.603417</td>\n",
              "      <td>17209.564571</td>\n",
              "      <td>110.037236</td>\n",
              "      <td>44.503323</td>\n",
              "      <td>3.338082</td>\n",
              "      <td>216.538139</td>\n",
              "      <td>97.294352</td>\n",
              "      <td>21067.937901</td>\n",
              "      <td>21067.937901</td>\n",
              "      <td>1_1</td>\n",
              "    </tr>\n",
              "    <tr>\n",
              "      <th>2</th>\n",
              "      <td>20045120</td>\n",
              "      <td>-0.021411</td>\n",
              "      <td>-29.643486</td>\n",
              "      <td>-0.021359</td>\n",
              "      <td>-29.643561</td>\n",
              "      <td>0.000653</td>\n",
              "      <td>0.012185</td>\n",
              "      <td>5.037</td>\n",
              "      <td>3.525</td>\n",
              "      <td>276.587</td>\n",
              "      <td>...</td>\n",
              "      <td>16498.009965</td>\n",
              "      <td>18512.295208</td>\n",
              "      <td>5.738106</td>\n",
              "      <td>4.389739</td>\n",
              "      <td>4.827354</td>\n",
              "      <td>8.820318</td>\n",
              "      <td>11.444852</td>\n",
              "      <td>100.947234</td>\n",
              "      <td>100.947234</td>\n",
              "      <td>1_1</td>\n",
              "    </tr>\n",
              "    <tr>\n",
              "      <th>3</th>\n",
              "      <td>33938384</td>\n",
              "      <td>-0.316375</td>\n",
              "      <td>-29.697647</td>\n",
              "      <td>-0.316375</td>\n",
              "      <td>-29.697647</td>\n",
              "      <td>0.000017</td>\n",
              "      <td>0.000000</td>\n",
              "      <td>0.847</td>\n",
              "      <td>0.266</td>\n",
              "      <td>346.641</td>\n",
              "      <td>...</td>\n",
              "      <td>18023.322729</td>\n",
              "      <td>18184.661968</td>\n",
              "      <td>3.031418</td>\n",
              "      <td>2.541842</td>\n",
              "      <td>6.050027</td>\n",
              "      <td>6.014593</td>\n",
              "      <td>5.140670</td>\n",
              "      <td>30.919039</td>\n",
              "      <td>30.919039</td>\n",
              "      <td>2_1</td>\n",
              "    </tr>\n",
              "    <tr>\n",
              "      <th>4</th>\n",
              "      <td>7527248</td>\n",
              "      <td>-0.336528</td>\n",
              "      <td>-29.627335</td>\n",
              "      <td>-0.336527</td>\n",
              "      <td>-29.627338</td>\n",
              "      <td>0.000054</td>\n",
              "      <td>0.044763</td>\n",
              "      <td>3.343</td>\n",
              "      <td>1.515</td>\n",
              "      <td>279.006</td>\n",
              "      <td>...</td>\n",
              "      <td>18128.789688</td>\n",
              "      <td>18604.884928</td>\n",
              "      <td>4.236891</td>\n",
              "      <td>2.929772</td>\n",
              "      <td>4.869573</td>\n",
              "      <td>5.937378</td>\n",
              "      <td>8.419429</td>\n",
              "      <td>49.989332</td>\n",
              "      <td>49.989332</td>\n",
              "      <td>1_1</td>\n",
              "    </tr>\n",
              "  </tbody>\n",
              "</table>\n",
              "<p>5 rows × 27 columns</p>\n",
              "</div>"
            ]
          },
          "metadata": {}
        },
        {
          "output_type": "stream",
          "name": "stdout",
          "text": [
            "\n",
            "----------\n",
            "Starting training image preprocessing...\n",
            "\n",
            "Computing max and min pixel value in order to scale image to RGB range\n",
            "Max pixel value = 0.0065856808796525\n",
            "Removing negative noise...\n",
            "Converting to RGB...\n",
            "Removing positive noise and rescaling to 0-255 interval...\n",
            "\n",
            "Mean and stdev of the half-gaussian that best fits with noise distribution:\n",
            "mu=4.561610766868865e-14, stdev=4.5037468510513567e-07\n",
            "End of training image preprocessing.\n"
          ]
        },
        {
          "output_type": "display_data",
          "data": {
            "text/plain": [
              "<Figure size 432x288 with 1 Axes>"
            ],
            "image/svg+xml": "<?xml version=\"1.0\" encoding=\"utf-8\" standalone=\"no\"?>\n<!DOCTYPE svg PUBLIC \"-//W3C//DTD SVG 1.1//EN\"\n  \"http://www.w3.org/Graphics/SVG/1.1/DTD/svg11.dtd\">\n<!-- Created with matplotlib (https://matplotlib.org/) -->\n<svg height=\"271.794688pt\" version=\"1.1\" viewBox=\"0 0 378.465625 271.794688\" width=\"378.465625pt\" xmlns=\"http://www.w3.org/2000/svg\" xmlns:xlink=\"http://www.w3.org/1999/xlink\">\n <metadata>\n  <rdf:RDF xmlns:cc=\"http://creativecommons.org/ns#\" xmlns:dc=\"http://purl.org/dc/elements/1.1/\" xmlns:rdf=\"http://www.w3.org/1999/02/22-rdf-syntax-ns#\">\n   <cc:Work>\n    <dc:type rdf:resource=\"http://purl.org/dc/dcmitype/StillImage\"/>\n    <dc:date>2021-08-29T16:44:56.957744</dc:date>\n    <dc:format>image/svg+xml</dc:format>\n    <dc:creator>\n     <cc:Agent>\n      <dc:title>Matplotlib v3.3.4, https://matplotlib.org/</dc:title>\n     </cc:Agent>\n    </dc:creator>\n   </cc:Work>\n  </rdf:RDF>\n </metadata>\n <defs>\n  <style type=\"text/css\">*{stroke-linecap:butt;stroke-linejoin:round;}</style>\n </defs>\n <g id=\"figure_1\">\n  <g id=\"patch_1\">\n   <path d=\"M 0 271.794688 \nL 378.465625 271.794688 \nL 378.465625 0 \nL 0 0 \nz\n\" style=\"fill:none;\"/>\n  </g>\n  <g id=\"axes_1\">\n   <g id=\"patch_2\">\n    <path d=\"M 36.465625 235.238438 \nL 371.265625 235.238438 \nL 371.265625 17.798438 \nL 36.465625 17.798438 \nz\n\" style=\"fill:#ffffff;\"/>\n   </g>\n   <g id=\"patch_3\">\n    <path clip-path=\"url(#p3d5b6264ef)\" d=\"M 65.518518 235.238438 \nL 72.435873 235.238438 \nL 72.435873 180.179547 \nL 65.518518 180.179547 \nz\n\" style=\"fill:#1f77b4;\"/>\n   </g>\n   <g id=\"patch_4\">\n    <path clip-path=\"url(#p3d5b6264ef)\" d=\"M 72.435873 235.238438 \nL 79.353228 235.238438 \nL 79.353228 175.917903 \nL 72.435873 175.917903 \nz\n\" style=\"fill:#1f77b4;\"/>\n   </g>\n   <g id=\"patch_5\">\n    <path clip-path=\"url(#p3d5b6264ef)\" d=\"M 79.353228 235.238438 \nL 86.270584 235.238438 \nL 86.270584 172.738625 \nL 79.353228 172.738625 \nz\n\" style=\"fill:#1f77b4;\"/>\n   </g>\n   <g id=\"patch_6\">\n    <path clip-path=\"url(#p3d5b6264ef)\" d=\"M 86.270582 235.238438 \nL 93.187937 235.238438 \nL 93.187937 170.287081 \nL 86.270582 170.287081 \nz\n\" style=\"fill:#1f77b4;\"/>\n   </g>\n   <g id=\"patch_7\">\n    <path clip-path=\"url(#p3d5b6264ef)\" d=\"M 93.187939 235.238438 \nL 100.105294 235.238438 \nL 100.105294 169.2958 \nL 93.187939 169.2958 \nz\n\" style=\"fill:#1f77b4;\"/>\n   </g>\n   <g id=\"patch_8\">\n    <path clip-path=\"url(#p3d5b6264ef)\" d=\"M 100.105292 235.238438 \nL 107.022646 235.238438 \nL 107.022646 169.245172 \nL 100.105292 169.245172 \nz\n\" style=\"fill:#1f77b4;\"/>\n   </g>\n   <g id=\"patch_9\">\n    <path clip-path=\"url(#p3d5b6264ef)\" d=\"M 107.022646 235.238438 \nL 113.939999 235.238438 \nL 113.939999 170.645687 \nL 107.022646 170.645687 \nz\n\" style=\"fill:#1f77b4;\"/>\n   </g>\n   <g id=\"patch_10\">\n    <path clip-path=\"url(#p3d5b6264ef)\" d=\"M 113.940003 235.238438 \nL 120.857361 235.238438 \nL 120.857361 173.244555 \nL 113.940003 173.244555 \nz\n\" style=\"fill:#1f77b4;\"/>\n   </g>\n   <g id=\"patch_11\">\n    <path clip-path=\"url(#p3d5b6264ef)\" d=\"M 120.857361 235.238438 \nL 127.774718 235.238438 \nL 127.774718 176.857153 \nL 120.857361 176.857153 \nz\n\" style=\"fill:#1f77b4;\"/>\n   </g>\n   <g id=\"patch_12\">\n    <path clip-path=\"url(#p3d5b6264ef)\" d=\"M 127.774718 235.238438 \nL 134.692071 235.238438 \nL 134.692071 181.141597 \nL 127.774718 181.141597 \nz\n\" style=\"fill:#1f77b4;\"/>\n   </g>\n   <g id=\"patch_13\">\n    <path clip-path=\"url(#p3d5b6264ef)\" d=\"M 134.692067 235.238438 \nL 141.609416 235.238438 \nL 141.609416 186.100457 \nL 134.692067 186.100457 \nz\n\" style=\"fill:#1f77b4;\"/>\n   </g>\n   <g id=\"patch_14\">\n    <path clip-path=\"url(#p3d5b6264ef)\" d=\"M 141.609425 235.238438 \nL 148.526782 235.238438 \nL 148.526782 191.676442 \nL 141.609425 191.676442 \nz\n\" style=\"fill:#1f77b4;\"/>\n   </g>\n   <g id=\"patch_15\">\n    <path clip-path=\"url(#p3d5b6264ef)\" d=\"M 148.526782 235.238438 \nL 155.444139 235.238438 \nL 155.444139 197.147312 \nL 148.526782 197.147312 \nz\n\" style=\"fill:#1f77b4;\"/>\n   </g>\n   <g id=\"patch_16\">\n    <path clip-path=\"url(#p3d5b6264ef)\" d=\"M 155.444148 235.238438 \nL 162.361497 235.238438 \nL 162.361497 202.708916 \nL 155.444148 202.708916 \nz\n\" style=\"fill:#1f77b4;\"/>\n   </g>\n   <g id=\"patch_17\">\n    <path clip-path=\"url(#p3d5b6264ef)\" d=\"M 162.361489 235.238438 \nL 169.278846 235.238438 \nL 169.278846 208.106709 \nL 162.361489 208.106709 \nz\n\" style=\"fill:#1f77b4;\"/>\n   </g>\n   <g id=\"patch_18\">\n    <path clip-path=\"url(#p3d5b6264ef)\" d=\"M 169.278846 235.238438 \nL 176.196204 235.238438 \nL 176.196204 212.976006 \nL 169.278846 212.976006 \nz\n\" style=\"fill:#1f77b4;\"/>\n   </g>\n   <g id=\"patch_19\">\n    <path clip-path=\"url(#p3d5b6264ef)\" d=\"M 176.196204 235.238438 \nL 183.113561 235.238438 \nL 183.113561 217.228295 \nL 176.196204 217.228295 \nz\n\" style=\"fill:#1f77b4;\"/>\n   </g>\n   <g id=\"patch_20\">\n    <path clip-path=\"url(#p3d5b6264ef)\" d=\"M 183.113561 235.238438 \nL 190.030918 235.238438 \nL 190.030918 221.081873 \nL 183.113561 221.081873 \nz\n\" style=\"fill:#1f77b4;\"/>\n   </g>\n   <g id=\"patch_21\">\n    <path clip-path=\"url(#p3d5b6264ef)\" d=\"M 190.030918 235.238438 \nL 196.948268 235.238438 \nL 196.948268 224.227244 \nL 190.030918 224.227244 \nz\n\" style=\"fill:#1f77b4;\"/>\n   </g>\n   <g id=\"patch_22\">\n    <path clip-path=\"url(#p3d5b6264ef)\" d=\"M 196.948268 235.238438 \nL 203.865625 235.238438 \nL 203.865625 226.921639 \nL 196.948268 226.921639 \nz\n\" style=\"fill:#1f77b4;\"/>\n   </g>\n   <g id=\"patch_23\">\n    <path clip-path=\"url(#p3d5b6264ef)\" d=\"M 203.865633 235.238438 \nL 210.782974 235.238438 \nL 210.782974 229.074325 \nL 203.865633 229.074325 \nz\n\" style=\"fill:#1f77b4;\"/>\n   </g>\n   <g id=\"patch_24\">\n    <path clip-path=\"url(#p3d5b6264ef)\" d=\"M 210.782974 235.238438 \nL 217.700332 235.238438 \nL 217.700332 230.741076 \nL 210.782974 230.741076 \nz\n\" style=\"fill:#1f77b4;\"/>\n   </g>\n   <g id=\"patch_25\">\n    <path clip-path=\"url(#p3d5b6264ef)\" d=\"M 217.700315 235.238438 \nL 224.617672 235.238438 \nL 224.617672 232.021159 \nL 217.700315 232.021159 \nz\n\" style=\"fill:#1f77b4;\"/>\n   </g>\n   <g id=\"patch_26\">\n    <path clip-path=\"url(#p3d5b6264ef)\" d=\"M 224.617689 235.238438 \nL 231.535046 235.238438 \nL 231.535046 232.993264 \nL 224.617689 232.993264 \nz\n\" style=\"fill:#1f77b4;\"/>\n   </g>\n   <g id=\"patch_27\">\n    <path clip-path=\"url(#p3d5b6264ef)\" d=\"M 231.53503 235.238438 \nL 238.452387 235.238438 \nL 238.452387 233.725793 \nL 231.53503 233.725793 \nz\n\" style=\"fill:#1f77b4;\"/>\n   </g>\n   <g id=\"patch_28\">\n    <path clip-path=\"url(#p3d5b6264ef)\" d=\"M 238.452404 235.238438 \nL 245.369761 235.238438 \nL 245.369761 234.205648 \nL 238.452404 234.205648 \nz\n\" style=\"fill:#1f77b4;\"/>\n   </g>\n   <g id=\"patch_29\">\n    <path clip-path=\"url(#p3d5b6264ef)\" d=\"M 245.369745 235.238438 \nL 252.287102 235.238438 \nL 252.287102 234.579922 \nL 245.369745 234.579922 \nz\n\" style=\"fill:#1f77b4;\"/>\n   </g>\n   <g id=\"patch_30\">\n    <path clip-path=\"url(#p3d5b6264ef)\" d=\"M 252.287119 235.238438 \nL 259.20446 235.238438 \nL 259.20446 234.799505 \nL 252.287119 234.799505 \nz\n\" style=\"fill:#1f77b4;\"/>\n   </g>\n   <g id=\"patch_31\">\n    <path clip-path=\"url(#p3d5b6264ef)\" d=\"M 259.20446 235.238438 \nL 266.121817 235.238438 \nL 266.121817 234.969629 \nL 259.20446 234.969629 \nz\n\" style=\"fill:#1f77b4;\"/>\n   </g>\n   <g id=\"patch_32\">\n    <path clip-path=\"url(#p3d5b6264ef)\" d=\"M 266.121801 235.238438 \nL 273.039158 235.238438 \nL 273.039158 235.06387 \nL 266.121801 235.06387 \nz\n\" style=\"fill:#1f77b4;\"/>\n   </g>\n   <g id=\"patch_33\">\n    <path clip-path=\"url(#p3d5b6264ef)\" d=\"M 273.039175 235.238438 \nL 279.956532 235.238438 \nL 279.956532 235.138 \nL 273.039175 235.138 \nz\n\" style=\"fill:#1f77b4;\"/>\n   </g>\n   <g id=\"patch_34\">\n    <path clip-path=\"url(#p3d5b6264ef)\" d=\"M 279.956515 235.238438 \nL 286.873873 235.238438 \nL 286.873873 235.173194 \nL 279.956515 235.173194 \nz\n\" style=\"fill:#1f77b4;\"/>\n   </g>\n   <g id=\"patch_35\">\n    <path clip-path=\"url(#p3d5b6264ef)\" d=\"M 286.873889 235.238438 \nL 293.791247 235.238438 \nL 293.791247 235.202425 \nL 286.873889 235.202425 \nz\n\" style=\"fill:#1f77b4;\"/>\n   </g>\n   <g id=\"patch_36\">\n    <path clip-path=\"url(#p3d5b6264ef)\" d=\"M 293.79123 235.238438 \nL 300.708588 235.238438 \nL 300.708588 235.221016 \nL 293.79123 235.221016 \nz\n\" style=\"fill:#1f77b4;\"/>\n   </g>\n   <g id=\"patch_37\">\n    <path clip-path=\"url(#p3d5b6264ef)\" d=\"M 300.708604 235.238438 \nL 307.625962 235.238438 \nL 307.625962 235.228148 \nL 300.708604 235.228148 \nz\n\" style=\"fill:#1f77b4;\"/>\n   </g>\n   <g id=\"patch_38\">\n    <path clip-path=\"url(#p3d5b6264ef)\" d=\"M 307.625945 235.238438 \nL 314.543303 235.238438 \nL 314.543303 235.231305 \nL 307.625945 235.231305 \nz\n\" style=\"fill:#1f77b4;\"/>\n   </g>\n   <g id=\"patch_39\">\n    <path clip-path=\"url(#p3d5b6264ef)\" d=\"M 314.543319 235.238438 \nL 321.46066 235.238438 \nL 321.46066 235.235281 \nL 314.543319 235.235281 \nz\n\" style=\"fill:#1f77b4;\"/>\n   </g>\n   <g id=\"patch_40\">\n    <path clip-path=\"url(#p3d5b6264ef)\" d=\"M 321.46066 235.238438 \nL 328.378018 235.238438 \nL 328.378018 235.237385 \nL 321.46066 235.237385 \nz\n\" style=\"fill:#1f77b4;\"/>\n   </g>\n   <g id=\"patch_41\">\n    <path clip-path=\"url(#p3d5b6264ef)\" d=\"M 328.378001 235.238438 \nL 335.295358 235.238438 \nL 335.295358 235.238087 \nL 328.378001 235.238087 \nz\n\" style=\"fill:#1f77b4;\"/>\n   </g>\n   <g id=\"patch_42\">\n    <path clip-path=\"url(#p3d5b6264ef)\" d=\"M 335.295375 235.238438 \nL 342.212732 235.238438 \nL 342.212732 235.23797 \nL 335.295375 235.23797 \nz\n\" style=\"fill:#1f77b4;\"/>\n   </g>\n   <g id=\"matplotlib.axis_1\">\n    <g id=\"xtick_1\">\n     <g id=\"line2d_1\">\n      <defs>\n       <path d=\"M 0 0 \nL 0 3.5 \n\" id=\"m8e2947640a\" style=\"stroke:#000000;stroke-width:0.8;\"/>\n      </defs>\n      <g>\n       <use style=\"stroke:#000000;stroke-width:0.8;\" x=\"65.518518\" xlink:href=\"#m8e2947640a\" y=\"235.238438\"/>\n      </g>\n     </g>\n     <g id=\"text_1\">\n      <!-- 0.0 -->\n      <g transform=\"translate(57.566955 249.836875)scale(0.1 -0.1)\">\n       <defs>\n        <path d=\"M 31.78125 66.40625 \nQ 24.171875 66.40625 20.328125 58.90625 \nQ 16.5 51.421875 16.5 36.375 \nQ 16.5 21.390625 20.328125 13.890625 \nQ 24.171875 6.390625 31.78125 6.390625 \nQ 39.453125 6.390625 43.28125 13.890625 \nQ 47.125 21.390625 47.125 36.375 \nQ 47.125 51.421875 43.28125 58.90625 \nQ 39.453125 66.40625 31.78125 66.40625 \nz\nM 31.78125 74.21875 \nQ 44.046875 74.21875 50.515625 64.515625 \nQ 56.984375 54.828125 56.984375 36.375 \nQ 56.984375 17.96875 50.515625 8.265625 \nQ 44.046875 -1.421875 31.78125 -1.421875 \nQ 19.53125 -1.421875 13.0625 8.265625 \nQ 6.59375 17.96875 6.59375 36.375 \nQ 6.59375 54.828125 13.0625 64.515625 \nQ 19.53125 74.21875 31.78125 74.21875 \nz\n\" id=\"DejaVuSans-48\"/>\n        <path d=\"M 10.6875 12.40625 \nL 21 12.40625 \nL 21 0 \nL 10.6875 0 \nz\n\" id=\"DejaVuSans-46\"/>\n       </defs>\n       <use xlink:href=\"#DejaVuSans-48\"/>\n       <use x=\"63.623047\" xlink:href=\"#DejaVuSans-46\"/>\n       <use x=\"95.410156\" xlink:href=\"#DejaVuSans-48\"/>\n      </g>\n     </g>\n    </g>\n    <g id=\"xtick_2\">\n     <g id=\"line2d_2\">\n      <g>\n       <use style=\"stroke:#000000;stroke-width:0.8;\" x=\"138.317372\" xlink:href=\"#m8e2947640a\" y=\"235.238438\"/>\n      </g>\n     </g>\n     <g id=\"text_2\">\n      <!-- 0.5 -->\n      <g transform=\"translate(130.36581 249.836875)scale(0.1 -0.1)\">\n       <defs>\n        <path d=\"M 10.796875 72.90625 \nL 49.515625 72.90625 \nL 49.515625 64.59375 \nL 19.828125 64.59375 \nL 19.828125 46.734375 \nQ 21.96875 47.46875 24.109375 47.828125 \nQ 26.265625 48.1875 28.421875 48.1875 \nQ 40.625 48.1875 47.75 41.5 \nQ 54.890625 34.8125 54.890625 23.390625 \nQ 54.890625 11.625 47.5625 5.09375 \nQ 40.234375 -1.421875 26.90625 -1.421875 \nQ 22.3125 -1.421875 17.546875 -0.640625 \nQ 12.796875 0.140625 7.71875 1.703125 \nL 7.71875 11.625 \nQ 12.109375 9.234375 16.796875 8.0625 \nQ 21.484375 6.890625 26.703125 6.890625 \nQ 35.15625 6.890625 40.078125 11.328125 \nQ 45.015625 15.765625 45.015625 23.390625 \nQ 45.015625 31 40.078125 35.4375 \nQ 35.15625 39.890625 26.703125 39.890625 \nQ 22.75 39.890625 18.8125 39.015625 \nQ 14.890625 38.140625 10.796875 36.28125 \nz\n\" id=\"DejaVuSans-53\"/>\n       </defs>\n       <use xlink:href=\"#DejaVuSans-48\"/>\n       <use x=\"63.623047\" xlink:href=\"#DejaVuSans-46\"/>\n       <use x=\"95.410156\" xlink:href=\"#DejaVuSans-53\"/>\n      </g>\n     </g>\n    </g>\n    <g id=\"xtick_3\">\n     <g id=\"line2d_3\">\n      <g>\n       <use style=\"stroke:#000000;stroke-width:0.8;\" x=\"211.116227\" xlink:href=\"#m8e2947640a\" y=\"235.238438\"/>\n      </g>\n     </g>\n     <g id=\"text_3\">\n      <!-- 1.0 -->\n      <g transform=\"translate(203.164664 249.836875)scale(0.1 -0.1)\">\n       <defs>\n        <path d=\"M 12.40625 8.296875 \nL 28.515625 8.296875 \nL 28.515625 63.921875 \nL 10.984375 60.40625 \nL 10.984375 69.390625 \nL 28.421875 72.90625 \nL 38.28125 72.90625 \nL 38.28125 8.296875 \nL 54.390625 8.296875 \nL 54.390625 0 \nL 12.40625 0 \nz\n\" id=\"DejaVuSans-49\"/>\n       </defs>\n       <use xlink:href=\"#DejaVuSans-49\"/>\n       <use x=\"63.623047\" xlink:href=\"#DejaVuSans-46\"/>\n       <use x=\"95.410156\" xlink:href=\"#DejaVuSans-48\"/>\n      </g>\n     </g>\n    </g>\n    <g id=\"xtick_4\">\n     <g id=\"line2d_4\">\n      <g>\n       <use style=\"stroke:#000000;stroke-width:0.8;\" x=\"283.915082\" xlink:href=\"#m8e2947640a\" y=\"235.238438\"/>\n      </g>\n     </g>\n     <g id=\"text_4\">\n      <!-- 1.5 -->\n      <g transform=\"translate(275.963519 249.836875)scale(0.1 -0.1)\">\n       <use xlink:href=\"#DejaVuSans-49\"/>\n       <use x=\"63.623047\" xlink:href=\"#DejaVuSans-46\"/>\n       <use x=\"95.410156\" xlink:href=\"#DejaVuSans-53\"/>\n      </g>\n     </g>\n    </g>\n    <g id=\"xtick_5\">\n     <g id=\"line2d_5\">\n      <g>\n       <use style=\"stroke:#000000;stroke-width:0.8;\" x=\"356.713936\" xlink:href=\"#m8e2947640a\" y=\"235.238438\"/>\n      </g>\n     </g>\n     <g id=\"text_5\">\n      <!-- 2.0 -->\n      <g transform=\"translate(348.762374 249.836875)scale(0.1 -0.1)\">\n       <defs>\n        <path d=\"M 19.1875 8.296875 \nL 53.609375 8.296875 \nL 53.609375 0 \nL 7.328125 0 \nL 7.328125 8.296875 \nQ 12.9375 14.109375 22.625 23.890625 \nQ 32.328125 33.6875 34.8125 36.53125 \nQ 39.546875 41.84375 41.421875 45.53125 \nQ 43.3125 49.21875 43.3125 52.78125 \nQ 43.3125 58.59375 39.234375 62.25 \nQ 35.15625 65.921875 28.609375 65.921875 \nQ 23.96875 65.921875 18.8125 64.3125 \nQ 13.671875 62.703125 7.8125 59.421875 \nL 7.8125 69.390625 \nQ 13.765625 71.78125 18.9375 73 \nQ 24.125 74.21875 28.421875 74.21875 \nQ 39.75 74.21875 46.484375 68.546875 \nQ 53.21875 62.890625 53.21875 53.421875 \nQ 53.21875 48.921875 51.53125 44.890625 \nQ 49.859375 40.875 45.40625 35.40625 \nQ 44.1875 33.984375 37.640625 27.21875 \nQ 31.109375 20.453125 19.1875 8.296875 \nz\n\" id=\"DejaVuSans-50\"/>\n       </defs>\n       <use xlink:href=\"#DejaVuSans-50\"/>\n       <use x=\"63.623047\" xlink:href=\"#DejaVuSans-46\"/>\n       <use x=\"95.410156\" xlink:href=\"#DejaVuSans-48\"/>\n      </g>\n     </g>\n    </g>\n    <g id=\"text_6\">\n     <!-- 1e−6 -->\n     <g transform=\"translate(344.007812 262.515)scale(0.1 -0.1)\">\n      <defs>\n       <path d=\"M 56.203125 29.59375 \nL 56.203125 25.203125 \nL 14.890625 25.203125 \nQ 15.484375 15.921875 20.484375 11.0625 \nQ 25.484375 6.203125 34.421875 6.203125 \nQ 39.59375 6.203125 44.453125 7.46875 \nQ 49.3125 8.734375 54.109375 11.28125 \nL 54.109375 2.78125 \nQ 49.265625 0.734375 44.1875 -0.34375 \nQ 39.109375 -1.421875 33.890625 -1.421875 \nQ 20.796875 -1.421875 13.15625 6.1875 \nQ 5.515625 13.8125 5.515625 26.8125 \nQ 5.515625 40.234375 12.765625 48.109375 \nQ 20.015625 56 32.328125 56 \nQ 43.359375 56 49.78125 48.890625 \nQ 56.203125 41.796875 56.203125 29.59375 \nz\nM 47.21875 32.234375 \nQ 47.125 39.59375 43.09375 43.984375 \nQ 39.0625 48.390625 32.421875 48.390625 \nQ 24.90625 48.390625 20.390625 44.140625 \nQ 15.875 39.890625 15.1875 32.171875 \nz\n\" id=\"DejaVuSans-101\"/>\n       <path d=\"M 10.59375 35.5 \nL 73.1875 35.5 \nL 73.1875 27.203125 \nL 10.59375 27.203125 \nz\n\" id=\"DejaVuSans-8722\"/>\n       <path d=\"M 33.015625 40.375 \nQ 26.375 40.375 22.484375 35.828125 \nQ 18.609375 31.296875 18.609375 23.390625 \nQ 18.609375 15.53125 22.484375 10.953125 \nQ 26.375 6.390625 33.015625 6.390625 \nQ 39.65625 6.390625 43.53125 10.953125 \nQ 47.40625 15.53125 47.40625 23.390625 \nQ 47.40625 31.296875 43.53125 35.828125 \nQ 39.65625 40.375 33.015625 40.375 \nz\nM 52.59375 71.296875 \nL 52.59375 62.3125 \nQ 48.875 64.0625 45.09375 64.984375 \nQ 41.3125 65.921875 37.59375 65.921875 \nQ 27.828125 65.921875 22.671875 59.328125 \nQ 17.53125 52.734375 16.796875 39.40625 \nQ 19.671875 43.65625 24.015625 45.921875 \nQ 28.375 48.1875 33.59375 48.1875 \nQ 44.578125 48.1875 50.953125 41.515625 \nQ 57.328125 34.859375 57.328125 23.390625 \nQ 57.328125 12.15625 50.6875 5.359375 \nQ 44.046875 -1.421875 33.015625 -1.421875 \nQ 20.359375 -1.421875 13.671875 8.265625 \nQ 6.984375 17.96875 6.984375 36.375 \nQ 6.984375 53.65625 15.1875 63.9375 \nQ 23.390625 74.21875 37.203125 74.21875 \nQ 40.921875 74.21875 44.703125 73.484375 \nQ 48.484375 72.75 52.59375 71.296875 \nz\n\" id=\"DejaVuSans-54\"/>\n      </defs>\n      <use xlink:href=\"#DejaVuSans-49\"/>\n      <use x=\"63.623047\" xlink:href=\"#DejaVuSans-101\"/>\n      <use x=\"125.146484\" xlink:href=\"#DejaVuSans-8722\"/>\n      <use x=\"208.935547\" xlink:href=\"#DejaVuSans-54\"/>\n     </g>\n    </g>\n   </g>\n   <g id=\"matplotlib.axis_2\">\n    <g id=\"ytick_1\">\n     <g id=\"line2d_6\">\n      <defs>\n       <path d=\"M 0 0 \nL -3.5 0 \n\" id=\"m5e17315b0c\" style=\"stroke:#000000;stroke-width:0.8;\"/>\n      </defs>\n      <g>\n       <use style=\"stroke:#000000;stroke-width:0.8;\" x=\"36.465625\" xlink:href=\"#m5e17315b0c\" y=\"235.238438\"/>\n      </g>\n     </g>\n     <g id=\"text_7\">\n      <!-- 0.00 -->\n      <g transform=\"translate(7.2 239.037656)scale(0.1 -0.1)\">\n       <use xlink:href=\"#DejaVuSans-48\"/>\n       <use x=\"63.623047\" xlink:href=\"#DejaVuSans-46\"/>\n       <use x=\"95.410156\" xlink:href=\"#DejaVuSans-48\"/>\n       <use x=\"159.033203\" xlink:href=\"#DejaVuSans-48\"/>\n      </g>\n     </g>\n    </g>\n    <g id=\"ytick_2\">\n     <g id=\"line2d_7\">\n      <g>\n       <use style=\"stroke:#000000;stroke-width:0.8;\" x=\"36.465625\" xlink:href=\"#m5e17315b0c\" y=\"206.007457\"/>\n      </g>\n     </g>\n     <g id=\"text_8\">\n      <!-- 0.25 -->\n      <g transform=\"translate(7.2 209.806675)scale(0.1 -0.1)\">\n       <use xlink:href=\"#DejaVuSans-48\"/>\n       <use x=\"63.623047\" xlink:href=\"#DejaVuSans-46\"/>\n       <use x=\"95.410156\" xlink:href=\"#DejaVuSans-50\"/>\n       <use x=\"159.033203\" xlink:href=\"#DejaVuSans-53\"/>\n      </g>\n     </g>\n    </g>\n    <g id=\"ytick_3\">\n     <g id=\"line2d_8\">\n      <g>\n       <use style=\"stroke:#000000;stroke-width:0.8;\" x=\"36.465625\" xlink:href=\"#m5e17315b0c\" y=\"176.776476\"/>\n      </g>\n     </g>\n     <g id=\"text_9\">\n      <!-- 0.50 -->\n      <g transform=\"translate(7.2 180.575695)scale(0.1 -0.1)\">\n       <use xlink:href=\"#DejaVuSans-48\"/>\n       <use x=\"63.623047\" xlink:href=\"#DejaVuSans-46\"/>\n       <use x=\"95.410156\" xlink:href=\"#DejaVuSans-53\"/>\n       <use x=\"159.033203\" xlink:href=\"#DejaVuSans-48\"/>\n      </g>\n     </g>\n    </g>\n    <g id=\"ytick_4\">\n     <g id=\"line2d_9\">\n      <g>\n       <use style=\"stroke:#000000;stroke-width:0.8;\" x=\"36.465625\" xlink:href=\"#m5e17315b0c\" y=\"147.545495\"/>\n      </g>\n     </g>\n     <g id=\"text_10\">\n      <!-- 0.75 -->\n      <g transform=\"translate(7.2 151.344714)scale(0.1 -0.1)\">\n       <defs>\n        <path d=\"M 8.203125 72.90625 \nL 55.078125 72.90625 \nL 55.078125 68.703125 \nL 28.609375 0 \nL 18.3125 0 \nL 43.21875 64.59375 \nL 8.203125 64.59375 \nz\n\" id=\"DejaVuSans-55\"/>\n       </defs>\n       <use xlink:href=\"#DejaVuSans-48\"/>\n       <use x=\"63.623047\" xlink:href=\"#DejaVuSans-46\"/>\n       <use x=\"95.410156\" xlink:href=\"#DejaVuSans-55\"/>\n       <use x=\"159.033203\" xlink:href=\"#DejaVuSans-53\"/>\n      </g>\n     </g>\n    </g>\n    <g id=\"ytick_5\">\n     <g id=\"line2d_10\">\n      <g>\n       <use style=\"stroke:#000000;stroke-width:0.8;\" x=\"36.465625\" xlink:href=\"#m5e17315b0c\" y=\"118.314514\"/>\n      </g>\n     </g>\n     <g id=\"text_11\">\n      <!-- 1.00 -->\n      <g transform=\"translate(7.2 122.113733)scale(0.1 -0.1)\">\n       <use xlink:href=\"#DejaVuSans-49\"/>\n       <use x=\"63.623047\" xlink:href=\"#DejaVuSans-46\"/>\n       <use x=\"95.410156\" xlink:href=\"#DejaVuSans-48\"/>\n       <use x=\"159.033203\" xlink:href=\"#DejaVuSans-48\"/>\n      </g>\n     </g>\n    </g>\n    <g id=\"ytick_6\">\n     <g id=\"line2d_11\">\n      <g>\n       <use style=\"stroke:#000000;stroke-width:0.8;\" x=\"36.465625\" xlink:href=\"#m5e17315b0c\" y=\"89.083533\"/>\n      </g>\n     </g>\n     <g id=\"text_12\">\n      <!-- 1.25 -->\n      <g transform=\"translate(7.2 92.882752)scale(0.1 -0.1)\">\n       <use xlink:href=\"#DejaVuSans-49\"/>\n       <use x=\"63.623047\" xlink:href=\"#DejaVuSans-46\"/>\n       <use x=\"95.410156\" xlink:href=\"#DejaVuSans-50\"/>\n       <use x=\"159.033203\" xlink:href=\"#DejaVuSans-53\"/>\n      </g>\n     </g>\n    </g>\n    <g id=\"ytick_7\">\n     <g id=\"line2d_12\">\n      <g>\n       <use style=\"stroke:#000000;stroke-width:0.8;\" x=\"36.465625\" xlink:href=\"#m5e17315b0c\" y=\"59.852552\"/>\n      </g>\n     </g>\n     <g id=\"text_13\">\n      <!-- 1.50 -->\n      <g transform=\"translate(7.2 63.651771)scale(0.1 -0.1)\">\n       <use xlink:href=\"#DejaVuSans-49\"/>\n       <use x=\"63.623047\" xlink:href=\"#DejaVuSans-46\"/>\n       <use x=\"95.410156\" xlink:href=\"#DejaVuSans-53\"/>\n       <use x=\"159.033203\" xlink:href=\"#DejaVuSans-48\"/>\n      </g>\n     </g>\n    </g>\n    <g id=\"ytick_8\">\n     <g id=\"line2d_13\">\n      <g>\n       <use style=\"stroke:#000000;stroke-width:0.8;\" x=\"36.465625\" xlink:href=\"#m5e17315b0c\" y=\"30.621571\"/>\n      </g>\n     </g>\n     <g id=\"text_14\">\n      <!-- 1.75 -->\n      <g transform=\"translate(7.2 34.42079)scale(0.1 -0.1)\">\n       <use xlink:href=\"#DejaVuSans-49\"/>\n       <use x=\"63.623047\" xlink:href=\"#DejaVuSans-46\"/>\n       <use x=\"95.410156\" xlink:href=\"#DejaVuSans-55\"/>\n       <use x=\"159.033203\" xlink:href=\"#DejaVuSans-53\"/>\n      </g>\n     </g>\n    </g>\n    <g id=\"text_15\">\n     <!-- 1e6 -->\n     <g transform=\"translate(36.465625 14.798437)scale(0.1 -0.1)\">\n      <use xlink:href=\"#DejaVuSans-49\"/>\n      <use x=\"63.623047\" xlink:href=\"#DejaVuSans-101\"/>\n      <use x=\"125.146484\" xlink:href=\"#DejaVuSans-54\"/>\n     </g>\n    </g>\n   </g>\n   <g id=\"line2d_14\">\n    <path clip-path=\"url(#p3d5b6264ef)\" d=\"M 51.683807 235.238438 \nL 54.758187 235.238438 \nL 57.832567 235.238438 \nL 60.906947 235.238438 \nL 63.981327 235.238438 \nL 67.055708 28.152723 \nL 70.130088 28.607429 \nL 73.204468 29.513847 \nL 76.278848 30.866026 \nL 79.353228 32.655116 \nL 82.427608 34.869471 \nL 85.501989 37.49477 \nL 88.576369 40.514177 \nL 91.650749 43.908515 \nL 94.725129 47.656472 \nL 97.799509 51.734823 \nL 100.873889 56.11867 \nL 103.94827 60.781692 \nL 107.02265 65.696412 \nL 110.09703 70.834459 \nL 113.17141 76.166843 \nL 116.24579 81.664225 \nL 119.32017 87.297177 \nL 122.394551 93.036443 \nL 125.468931 98.853185 \nL 128.543311 104.719211 \nL 131.617691 110.607195 \nL 134.692071 116.490873 \nL 137.766451 122.34522 \nL 140.840832 128.146606 \nL 143.915212 133.872931 \nL 146.989592 139.503734 \nL 150.063972 145.02028 \nL 153.138352 150.405625 \nL 156.212732 155.644658 \nL 159.287113 160.724117 \nL 162.361493 165.632591 \nL 165.435873 170.360499 \nL 168.510253 174.900047 \nL 171.584633 179.245177 \nL 174.659013 183.391496 \nL 177.733394 187.336191 \nL 180.807774 191.077938 \nL 183.882154 194.6168 \nL 186.956534 197.954117 \nL 190.030914 201.092394 \nL 193.105294 204.035183 \nL 196.179675 206.786964 \nL 199.254055 209.353032 \nL 202.328435 211.739374 \nL 205.402815 213.952564 \nL 208.477195 215.999648 \nL 211.551575 217.888042 \nL 214.625956 219.625437 \nL 217.700336 221.219706 \nL 220.774716 222.67882 \nL 223.849096 224.010772 \nL 226.923476 225.223509 \nL 229.997856 226.324869 \nL 233.072237 227.32253 \nL 236.146617 228.223962 \nL 239.220997 229.036391 \nL 242.295377 229.766764 \nL 245.369757 230.421725 \nL 248.444137 231.007598 \nL 251.518518 231.530368 \nL 254.592898 231.99568 \nL 257.667278 232.408829 \nL 260.741658 232.774761 \nL 263.816038 233.09808 \nL 266.890418 233.383051 \nL 269.964799 233.633613 \nL 273.039179 233.853385 \nL 276.113559 234.045685 \nL 279.187939 234.213541 \nL 282.262319 234.359709 \nL 285.336699 234.486685 \nL 288.41108 234.596725 \nL 291.48546 234.691861 \nL 294.55984 234.773914 \nL 297.63422 234.844517 \nL 300.7086 234.905122 \nL 303.78298 234.957022 \nL 306.857361 235.001363 \nL 309.931741 235.039155 \nL 313.006121 235.071291 \nL 316.080501 235.098553 \nL 319.154881 235.121625 \nL 322.229261 235.141106 \nL 325.303642 235.157516 \nL 328.378022 235.171307 \nL 331.452402 235.18287 \nL 334.526782 235.192543 \nL 337.601162 235.200614 \nL 340.675542 235.207335 \nL 343.749923 235.212918 \nL 346.824303 235.217544 \nL 349.898683 235.22137 \nL 352.973063 235.224525 \nL 356.047443 235.227122 \n\" style=\"fill:none;stroke:#000000;stroke-linecap:square;stroke-width:2;\"/>\n   </g>\n   <g id=\"patch_43\">\n    <path d=\"M 36.465625 235.238438 \nL 36.465625 17.798438 \n\" style=\"fill:none;stroke:#000000;stroke-linecap:square;stroke-linejoin:miter;stroke-width:0.8;\"/>\n   </g>\n   <g id=\"patch_44\">\n    <path d=\"M 371.265625 235.238438 \nL 371.265625 17.798438 \n\" style=\"fill:none;stroke:#000000;stroke-linecap:square;stroke-linejoin:miter;stroke-width:0.8;\"/>\n   </g>\n   <g id=\"patch_45\">\n    <path d=\"M 36.465625 235.238438 \nL 371.265625 235.238438 \n\" style=\"fill:none;stroke:#000000;stroke-linecap:square;stroke-linejoin:miter;stroke-width:0.8;\"/>\n   </g>\n   <g id=\"patch_46\">\n    <path d=\"M 36.465625 17.798438 \nL 371.265625 17.798438 \n\" style=\"fill:none;stroke:#000000;stroke-linecap:square;stroke-linejoin:miter;stroke-width:0.8;\"/>\n   </g>\n  </g>\n </g>\n <defs>\n  <clipPath id=\"p3d5b6264ef\">\n   <rect height=\"217.44\" width=\"334.8\" x=\"36.465625\" y=\"17.798438\"/>\n  </clipPath>\n </defs>\n</svg>\n",
            "image/png": "[encoded data removed]"
          },
          "metadata": {
            "needs_background": "light"
          }
        }
      ],
      "metadata": {
        "tags": [],
        "id": "Q8IbYCwkF-5K",
        "outputId": "5cd8e5ba-49cd-49b4-d65c-65d82229f792",
        "colab": {
          "base_uri": "https://localhost:8080/",
          "height": 221
        }
      }
    },
    {
      "cell_type": "code",
      "execution_count": 7,
      "source": [
        "ska_dataset.cleaned_train_df[['width', 'height', 'area_orig', 'area_cropped']].describe()"
      ],
      "outputs": [
        {
          "output_type": "execute_result",
          "data": {
            "text/plain": [
              "              width        height     area_orig  area_cropped\n",
              "count  19222.000000  19222.000000  19222.000000  19222.000000\n",
              "mean       6.282190      6.285123     44.731314     44.731314\n",
              "std        3.122242      2.910949    169.529219    169.529219\n",
              "min        4.964839      4.964839     24.649628     24.649628\n",
              "25%        5.114121      5.116855     26.770928     26.770928\n",
              "50%        5.388071      5.394034     29.928541     29.928541\n",
              "75%        6.193903      6.206960     39.145862     39.145862\n",
              "max      216.538139     97.294352  21067.937901  21067.937901"
            ],
            "text/html": [
              "<div>\n",
              "<style scoped>\n",
              "    .dataframe tbody tr th:only-of-type {\n",
              "        vertical-align: middle;\n",
              "    }\n",
              "\n",
              "    .dataframe tbody tr th {\n",
              "        vertical-align: top;\n",
              "    }\n",
              "\n",
              "    .dataframe thead th {\n",
              "        text-align: right;\n",
              "    }\n",
              "</style>\n",
              "<table border=\"1\" class=\"dataframe\">\n",
              "  <thead>\n",
              "    <tr style=\"text-align: right;\">\n",
              "      <th></th>\n",
              "      <th>width</th>\n",
              "      <th>height</th>\n",
              "      <th>area_orig</th>\n",
              "      <th>area_cropped</th>\n",
              "    </tr>\n",
              "  </thead>\n",
              "  <tbody>\n",
              "    <tr>\n",
              "      <th>count</th>\n",
              "      <td>19222.000000</td>\n",
              "      <td>19222.000000</td>\n",
              "      <td>19222.000000</td>\n",
              "      <td>19222.000000</td>\n",
              "    </tr>\n",
              "    <tr>\n",
              "      <th>mean</th>\n",
              "      <td>6.282190</td>\n",
              "      <td>6.285123</td>\n",
              "      <td>44.731314</td>\n",
              "      <td>44.731314</td>\n",
              "    </tr>\n",
              "    <tr>\n",
              "      <th>std</th>\n",
              "      <td>3.122242</td>\n",
              "      <td>2.910949</td>\n",
              "      <td>169.529219</td>\n",
              "      <td>169.529219</td>\n",
              "    </tr>\n",
              "    <tr>\n",
              "      <th>min</th>\n",
              "      <td>4.964839</td>\n",
              "      <td>4.964839</td>\n",
              "      <td>24.649628</td>\n",
              "      <td>24.649628</td>\n",
              "    </tr>\n",
              "    <tr>\n",
              "      <th>25%</th>\n",
              "      <td>5.114121</td>\n",
              "      <td>5.116855</td>\n",
              "      <td>26.770928</td>\n",
              "      <td>26.770928</td>\n",
              "    </tr>\n",
              "    <tr>\n",
              "      <th>50%</th>\n",
              "      <td>5.388071</td>\n",
              "      <td>5.394034</td>\n",
              "      <td>29.928541</td>\n",
              "      <td>29.928541</td>\n",
              "    </tr>\n",
              "    <tr>\n",
              "      <th>75%</th>\n",
              "      <td>6.193903</td>\n",
              "      <td>6.206960</td>\n",
              "      <td>39.145862</td>\n",
              "      <td>39.145862</td>\n",
              "    </tr>\n",
              "    <tr>\n",
              "      <th>max</th>\n",
              "      <td>216.538139</td>\n",
              "      <td>97.294352</td>\n",
              "      <td>21067.937901</td>\n",
              "      <td>21067.937901</td>\n",
              "    </tr>\n",
              "  </tbody>\n",
              "</table>\n",
              "</div>"
            ]
          },
          "metadata": {},
          "execution_count": 7
        }
      ],
      "metadata": {}
    },
    {
      "cell_type": "code",
      "execution_count": 8,
      "source": [
        "ska_dataset.cleaned_train_df[['width', 'height', 'area_orig']].quantile([.1,.2,.3,.4,.5,.6,.7,.8,.9,.95,.98,.99,1.])"
      ],
      "outputs": [
        {
          "output_type": "execute_result",
          "data": {
            "text/plain": [
              "           width     height     area_orig\n",
              "0.10    5.021579   5.022318     25.628098\n",
              "0.20    5.079478   5.083666     26.354817\n",
              "0.30    5.153434   5.154979     27.221580\n",
              "0.40    5.250224   5.256348     28.358833\n",
              "0.50    5.388071   5.394034     29.928541\n",
              "0.60    5.596149   5.603978     32.164977\n",
              "0.70    5.931373   5.932616     36.070023\n",
              "0.80    6.568193   6.603042     43.494231\n",
              "0.90    8.241342   8.188366     63.754795\n",
              "0.95   10.577456  10.646052    100.988437\n",
              "0.98   14.480916  14.595398    167.628745\n",
              "0.99   17.804710  17.928009    233.115808\n",
              "1.00  216.538139  97.294352  21067.937901"
            ],
            "text/html": [
              "<div>\n",
              "<style scoped>\n",
              "    .dataframe tbody tr th:only-of-type {\n",
              "        vertical-align: middle;\n",
              "    }\n",
              "\n",
              "    .dataframe tbody tr th {\n",
              "        vertical-align: top;\n",
              "    }\n",
              "\n",
              "    .dataframe thead th {\n",
              "        text-align: right;\n",
              "    }\n",
              "</style>\n",
              "<table border=\"1\" class=\"dataframe\">\n",
              "  <thead>\n",
              "    <tr style=\"text-align: right;\">\n",
              "      <th></th>\n",
              "      <th>width</th>\n",
              "      <th>height</th>\n",
              "      <th>area_orig</th>\n",
              "    </tr>\n",
              "  </thead>\n",
              "  <tbody>\n",
              "    <tr>\n",
              "      <th>0.10</th>\n",
              "      <td>5.021579</td>\n",
              "      <td>5.022318</td>\n",
              "      <td>25.628098</td>\n",
              "    </tr>\n",
              "    <tr>\n",
              "      <th>0.20</th>\n",
              "      <td>5.079478</td>\n",
              "      <td>5.083666</td>\n",
              "      <td>26.354817</td>\n",
              "    </tr>\n",
              "    <tr>\n",
              "      <th>0.30</th>\n",
              "      <td>5.153434</td>\n",
              "      <td>5.154979</td>\n",
              "      <td>27.221580</td>\n",
              "    </tr>\n",
              "    <tr>\n",
              "      <th>0.40</th>\n",
              "      <td>5.250224</td>\n",
              "      <td>5.256348</td>\n",
              "      <td>28.358833</td>\n",
              "    </tr>\n",
              "    <tr>\n",
              "      <th>0.50</th>\n",
              "      <td>5.388071</td>\n",
              "      <td>5.394034</td>\n",
              "      <td>29.928541</td>\n",
              "    </tr>\n",
              "    <tr>\n",
              "      <th>0.60</th>\n",
              "      <td>5.596149</td>\n",
              "      <td>5.603978</td>\n",
              "      <td>32.164977</td>\n",
              "    </tr>\n",
              "    <tr>\n",
              "      <th>0.70</th>\n",
              "      <td>5.931373</td>\n",
              "      <td>5.932616</td>\n",
              "      <td>36.070023</td>\n",
              "    </tr>\n",
              "    <tr>\n",
              "      <th>0.80</th>\n",
              "      <td>6.568193</td>\n",
              "      <td>6.603042</td>\n",
              "      <td>43.494231</td>\n",
              "    </tr>\n",
              "    <tr>\n",
              "      <th>0.90</th>\n",
              "      <td>8.241342</td>\n",
              "      <td>8.188366</td>\n",
              "      <td>63.754795</td>\n",
              "    </tr>\n",
              "    <tr>\n",
              "      <th>0.95</th>\n",
              "      <td>10.577456</td>\n",
              "      <td>10.646052</td>\n",
              "      <td>100.988437</td>\n",
              "    </tr>\n",
              "    <tr>\n",
              "      <th>0.98</th>\n",
              "      <td>14.480916</td>\n",
              "      <td>14.595398</td>\n",
              "      <td>167.628745</td>\n",
              "    </tr>\n",
              "    <tr>\n",
              "      <th>0.99</th>\n",
              "      <td>17.804710</td>\n",
              "      <td>17.928009</td>\n",
              "      <td>233.115808</td>\n",
              "    </tr>\n",
              "    <tr>\n",
              "      <th>1.00</th>\n",
              "      <td>216.538139</td>\n",
              "      <td>97.294352</td>\n",
              "      <td>21067.937901</td>\n",
              "    </tr>\n",
              "  </tbody>\n",
              "</table>\n",
              "</div>"
            ]
          },
          "metadata": {},
          "execution_count": 8
        }
      ],
      "metadata": {}
    },
    {
      "cell_type": "code",
      "execution_count": 9,
      "source": [
        "objects_to_ignore=[20167150, 27514971]\n"
      ],
      "outputs": [],
      "metadata": {}
    },
    {
      "cell_type": "code",
      "execution_count": 10,
      "source": [
        "show_plot = False\n",
        "# ska_dataset.generate_patches(limit=50, plot_patches=show_plot, objects_to_ignore=objects_to_ignore, source_dir=None, rgb_norm=True)\n",
        "ska_dataset.generate_patches(limit=50, plot_patches=show_plot, objects_to_ignore=objects_to_ignore, source_dir='./data/training/patches', rgb_norm=True)\n",
        "# ska_dataset.generate_patches(limit=1600, plot_patches=show_plot, objects_to_ignore=objects_to_ignore, source_dir='./data/training/patches', rgb_norm=True)"
      ],
      "outputs": [
        {
          "output_type": "stream",
          "name": "stdout",
          "text": [
            "Attention: by using limit parameter you will retrieve only the first 50 patches\n",
            "\n",
            "Retrieving patch 5_16501_16729_50\n",
            "\n",
            "Retrieving patch 68_16501_16754_50\n",
            "\n",
            "Retrieving patch 131_16501_16779_50\n",
            "\n",
            "Retrieving patch 132_16526_16779_50\n",
            "\n",
            "Retrieving patch 189_16376_16804_50\n",
            "\n",
            "Retrieving patch 190_16401_16804_50\n",
            "\n",
            "Retrieving patch 191_16426_16804_50\n",
            "\n",
            "Retrieving patch 192_16451_16804_50\n",
            "\n",
            "Retrieving patch 193_16476_16804_50\n",
            "\n",
            "Retrieving patch 194_16501_16804_50\n",
            "\n",
            "Retrieving patch 195_16526_16804_50\n",
            "\n",
            "Retrieving patch 252_16376_16829_50\n",
            "\n",
            "Retrieving patch 253_16401_16829_50\n",
            "\n",
            "Retrieving patch 254_16426_16829_50\n",
            "\n",
            "Retrieving patch 255_16451_16829_50\n",
            "\n",
            "Retrieving patch 256_16476_16829_50\n",
            "\n",
            "Retrieving patch 257_16501_16829_50\n",
            "\n",
            "Retrieving patch 258_16526_16829_50\n",
            "\n",
            "Retrieving patch 315_16376_16854_50\n",
            "\n",
            "Retrieving patch 316_16401_16854_50\n",
            "\n",
            "Retrieving patch 317_16426_16854_50\n",
            "\n",
            "Retrieving patch 318_16451_16854_50\n",
            "\n",
            "Retrieving patch 319_16476_16854_50\n",
            "\n",
            "Retrieving patch 320_16501_16854_50\n",
            "\n",
            "Retrieving patch 321_16526_16854_50\n"
          ]
        },
        {
          "output_type": "stream",
          "name": "stderr",
          "text": [
            "/Users/lorenzocellini/AI - Universit…/Deep Learning - Andre Asperti/SKA_project/SKADC1/src/dataset.py:483: UserWarning: DataFrame columns are not unique, some columns will be omitted.\n",
            "  return df[df[filter]==val][cols].set_index(key).T.to_dict('list')\n",
            "/Users/lorenzocellini/AI - Universit…/Deep Learning - Andre Asperti/SKA_project/SKADC1/src/dataset.py:483: UserWarning: DataFrame columns are not unique, some columns will be omitted.\n",
            "  return df[df[filter]==val][cols].set_index(key).T.to_dict('list')\n",
            "/Users/lorenzocellini/AI - Universit…/Deep Learning - Andre Asperti/SKA_project/SKADC1/src/dataset.py:483: UserWarning: DataFrame columns are not unique, some columns will be omitted.\n",
            "  return df[df[filter]==val][cols].set_index(key).T.to_dict('list')\n",
            "/Users/lorenzocellini/AI - Universit…/Deep Learning - Andre Asperti/SKA_project/SKADC1/src/dataset.py:483: UserWarning: DataFrame columns are not unique, some columns will be omitted.\n",
            "  return df[df[filter]==val][cols].set_index(key).T.to_dict('list')\n",
            "/Users/lorenzocellini/AI - Universit…/Deep Learning - Andre Asperti/SKA_project/SKADC1/src/dataset.py:483: UserWarning: DataFrame columns are not unique, some columns will be omitted.\n",
            "  return df[df[filter]==val][cols].set_index(key).T.to_dict('list')\n",
            "/Users/lorenzocellini/AI - Universit…/Deep Learning - Andre Asperti/SKA_project/SKADC1/src/dataset.py:483: UserWarning: DataFrame columns are not unique, some columns will be omitted.\n",
            "  return df[df[filter]==val][cols].set_index(key).T.to_dict('list')\n",
            "/Users/lorenzocellini/AI - Universit…/Deep Learning - Andre Asperti/SKA_project/SKADC1/src/dataset.py:483: UserWarning: DataFrame columns are not unique, some columns will be omitted.\n",
            "  return df[df[filter]==val][cols].set_index(key).T.to_dict('list')\n",
            "/Users/lorenzocellini/AI - Universit…/Deep Learning - Andre Asperti/SKA_project/SKADC1/src/dataset.py:483: UserWarning: DataFrame columns are not unique, some columns will be omitted.\n",
            "  return df[df[filter]==val][cols].set_index(key).T.to_dict('list')\n",
            "/Users/lorenzocellini/AI - Universit…/Deep Learning - Andre Asperti/SKA_project/SKADC1/src/dataset.py:483: UserWarning: DataFrame columns are not unique, some columns will be omitted.\n",
            "  return df[df[filter]==val][cols].set_index(key).T.to_dict('list')\n",
            "/Users/lorenzocellini/AI - Universit…/Deep Learning - Andre Asperti/SKA_project/SKADC1/src/dataset.py:483: UserWarning: DataFrame columns are not unique, some columns will be omitted.\n",
            "  return df[df[filter]==val][cols].set_index(key).T.to_dict('list')\n",
            "/Users/lorenzocellini/AI - Universit…/Deep Learning - Andre Asperti/SKA_project/SKADC1/src/dataset.py:483: UserWarning: DataFrame columns are not unique, some columns will be omitted.\n",
            "  return df[df[filter]==val][cols].set_index(key).T.to_dict('list')\n",
            "/Users/lorenzocellini/AI - Universit…/Deep Learning - Andre Asperti/SKA_project/SKADC1/src/dataset.py:483: UserWarning: DataFrame columns are not unique, some columns will be omitted.\n",
            "  return df[df[filter]==val][cols].set_index(key).T.to_dict('list')\n",
            "/Users/lorenzocellini/AI - Universit…/Deep Learning - Andre Asperti/SKA_project/SKADC1/src/dataset.py:483: UserWarning: DataFrame columns are not unique, some columns will be omitted.\n",
            "  return df[df[filter]==val][cols].set_index(key).T.to_dict('list')\n",
            "/Users/lorenzocellini/AI - Universit…/Deep Learning - Andre Asperti/SKA_project/SKADC1/src/dataset.py:483: UserWarning: DataFrame columns are not unique, some columns will be omitted.\n",
            "  return df[df[filter]==val][cols].set_index(key).T.to_dict('list')\n",
            "/Users/lorenzocellini/AI - Universit…/Deep Learning - Andre Asperti/SKA_project/SKADC1/src/dataset.py:483: UserWarning: DataFrame columns are not unique, some columns will be omitted.\n",
            "  return df[df[filter]==val][cols].set_index(key).T.to_dict('list')\n",
            "/Users/lorenzocellini/AI - Universit…/Deep Learning - Andre Asperti/SKA_project/SKADC1/src/dataset.py:483: UserWarning: DataFrame columns are not unique, some columns will be omitted.\n",
            "  return df[df[filter]==val][cols].set_index(key).T.to_dict('list')\n",
            "/Users/lorenzocellini/AI - Universit…/Deep Learning - Andre Asperti/SKA_project/SKADC1/src/dataset.py:483: UserWarning: DataFrame columns are not unique, some columns will be omitted.\n",
            "  return df[df[filter]==val][cols].set_index(key).T.to_dict('list')\n",
            "/Users/lorenzocellini/AI - Universit…/Deep Learning - Andre Asperti/SKA_project/SKADC1/src/dataset.py:483: UserWarning: DataFrame columns are not unique, some columns will be omitted.\n",
            "  return df[df[filter]==val][cols].set_index(key).T.to_dict('list')\n",
            "/Users/lorenzocellini/AI - Universit…/Deep Learning - Andre Asperti/SKA_project/SKADC1/src/dataset.py:483: UserWarning: DataFrame columns are not unique, some columns will be omitted.\n",
            "  return df[df[filter]==val][cols].set_index(key).T.to_dict('list')\n",
            "/Users/lorenzocellini/AI - Universit…/Deep Learning - Andre Asperti/SKA_project/SKADC1/src/dataset.py:483: UserWarning: DataFrame columns are not unique, some columns will be omitted.\n",
            "  return df[df[filter]==val][cols].set_index(key).T.to_dict('list')\n",
            "/Users/lorenzocellini/AI - Universit…/Deep Learning - Andre Asperti/SKA_project/SKADC1/src/dataset.py:483: UserWarning: DataFrame columns are not unique, some columns will be omitted.\n",
            "  return df[df[filter]==val][cols].set_index(key).T.to_dict('list')\n",
            "/Users/lorenzocellini/AI - Universit…/Deep Learning - Andre Asperti/SKA_project/SKADC1/src/dataset.py:483: UserWarning: DataFrame columns are not unique, some columns will be omitted.\n",
            "  return df[df[filter]==val][cols].set_index(key).T.to_dict('list')\n",
            "/Users/lorenzocellini/AI - Universit…/Deep Learning - Andre Asperti/SKA_project/SKADC1/src/dataset.py:483: UserWarning: DataFrame columns are not unique, some columns will be omitted.\n",
            "  return df[df[filter]==val][cols].set_index(key).T.to_dict('list')\n",
            "/Users/lorenzocellini/AI - Universit…/Deep Learning - Andre Asperti/SKA_project/SKADC1/src/dataset.py:483: UserWarning: DataFrame columns are not unique, some columns will be omitted.\n",
            "  return df[df[filter]==val][cols].set_index(key).T.to_dict('list')\n",
            "/Users/lorenzocellini/AI - Universit…/Deep Learning - Andre Asperti/SKA_project/SKADC1/src/dataset.py:483: UserWarning: DataFrame columns are not unique, some columns will be omitted.\n",
            "  return df[df[filter]==val][cols].set_index(key).T.to_dict('list')\n",
            "/Users/lorenzocellini/AI - Universit…/Deep Learning - Andre Asperti/SKA_project/SKADC1/src/dataset.py:483: UserWarning: DataFrame columns are not unique, some columns will be omitted.\n",
            "  return df[df[filter]==val][cols].set_index(key).T.to_dict('list')\n",
            "/Users/lorenzocellini/AI - Universit…/Deep Learning - Andre Asperti/SKA_project/SKADC1/src/dataset.py:483: UserWarning: DataFrame columns are not unique, some columns will be omitted.\n",
            "  return df[df[filter]==val][cols].set_index(key).T.to_dict('list')\n",
            "/Users/lorenzocellini/AI - Universit…/Deep Learning - Andre Asperti/SKA_project/SKADC1/src/dataset.py:483: UserWarning: DataFrame columns are not unique, some columns will be omitted.\n",
            "  return df[df[filter]==val][cols].set_index(key).T.to_dict('list')\n"
          ]
        },
        {
          "output_type": "stream",
          "name": "stdout",
          "text": [
            "\n",
            "Retrieving patch 378_16376_16879_50\n",
            "\n",
            "Retrieving patch 379_16401_16879_50\n",
            "\n",
            "Retrieving patch 380_16426_16879_50\n",
            "\n",
            "Retrieving patch 381_16451_16879_50\n",
            "\n",
            "Retrieving patch 382_16476_16879_50\n",
            "\n",
            "Retrieving patch 383_16501_16879_50\n",
            "\n",
            "Retrieving patch 384_16526_16879_50\n",
            "Total number of generated patches: 32\n",
            "\n",
            "Class list: ['2_3' '3_3']\n",
            "Number of distinct class labels: 2\n"
          ]
        },
        {
          "output_type": "stream",
          "name": "stderr",
          "text": [
            "/Users/lorenzocellini/AI - Universit…/Deep Learning - Andre Asperti/SKA_project/SKADC1/src/dataset.py:483: UserWarning: DataFrame columns are not unique, some columns will be omitted.\n",
            "  return df[df[filter]==val][cols].set_index(key).T.to_dict('list')\n",
            "/Users/lorenzocellini/AI - Universit…/Deep Learning - Andre Asperti/SKA_project/SKADC1/src/dataset.py:483: UserWarning: DataFrame columns are not unique, some columns will be omitted.\n",
            "  return df[df[filter]==val][cols].set_index(key).T.to_dict('list')\n"
          ]
        }
      ],
      "metadata": {
        "id": "Ug10Ku-OF-5Y",
        "outputId": "c3b6bed6-24a7-4f71-cbed-c4b6b8d934af",
        "tags": []
      }
    },
    {
      "cell_type": "code",
      "execution_count": 11,
      "source": [
        "# ska_dataset.analyze_class_distribution()"
      ],
      "outputs": [],
      "metadata": {
        "tags": []
      }
    },
    {
      "cell_type": "code",
      "execution_count": 12,
      "source": [
        "# ska_dataset.split_train_val_stratified(random_state=42, val_portion=0.2)\n",
        "\n",
        "# print(len(ska_dataset.train_patch_list))\n",
        "# print(len(ska_dataset.val_patch_list))\n"
      ],
      "outputs": [],
      "metadata": {}
    },
    {
      "cell_type": "code",
      "execution_count": 24,
      "source": [
        "ska_dataset.split_train_val(random_state=42, val_portion=0.2, balanced=True)"
      ],
      "outputs": [
        {
          "output_type": "stream",
          "name": "stdout",
          "text": [
            "minor class: ['384_16526_16879_50']\n",
            "patch_to_be_repeated: []\n",
            "32\n",
            "Train list consists of 25 patches\n",
            "Val list consists of 7 patches\n"
          ]
        },
        {
          "output_type": "display_data",
          "data": {
            "text/plain": [
              "<Figure size 720x360 with 2 Axes>"
            ],
            "image/svg+xml": "<?xml version=\"1.0\" encoding=\"utf-8\" standalone=\"no\"?>\n<!DOCTYPE svg PUBLIC \"-//W3C//DTD SVG 1.1//EN\"\n  \"http://www.w3.org/Graphics/SVG/1.1/DTD/svg11.dtd\">\n<!-- Created with matplotlib (https://matplotlib.org/) -->\n<svg height=\"350.534842pt\" version=\"1.1\" viewBox=\"0 0 712.690625 350.534842\" width=\"712.690625pt\" xmlns=\"http://www.w3.org/2000/svg\" xmlns:xlink=\"http://www.w3.org/1999/xlink\">\n <metadata>\n  <rdf:RDF xmlns:cc=\"http://creativecommons.org/ns#\" xmlns:dc=\"http://purl.org/dc/elements/1.1/\" xmlns:rdf=\"http://www.w3.org/1999/02/22-rdf-syntax-ns#\">\n   <cc:Work>\n    <dc:type rdf:resource=\"http://purl.org/dc/dcmitype/StillImage\"/>\n    <dc:date>2021-08-29T16:50:28.669468</dc:date>\n    <dc:format>image/svg+xml</dc:format>\n    <dc:creator>\n     <cc:Agent>\n      <dc:title>Matplotlib v3.3.4, https://matplotlib.org/</dc:title>\n     </cc:Agent>\n    </dc:creator>\n   </cc:Work>\n  </rdf:RDF>\n </metadata>\n <defs>\n  <style type=\"text/css\">*{stroke-linecap:butt;stroke-linejoin:round;}</style>\n </defs>\n <g id=\"figure_1\">\n  <g id=\"patch_1\">\n   <path d=\"M 0 350.534842 \nL 712.690625 350.534842 \nL 712.690625 0 \nL 0 0 \nz\n\" style=\"fill:none;\"/>\n  </g>\n  <g id=\"axes_1\">\n   <g id=\"patch_2\">\n    <path d=\"M 56.965625 302.87703 \nL 353.953125 302.87703 \nL 353.953125 27.81928 \nL 56.965625 27.81928 \nz\n\" style=\"fill:#ffffff;\"/>\n   </g>\n   <g id=\"patch_3\">\n    <path clip-path=\"url(#pa6b94c0500)\" d=\"M 70.465057 302.87703 \nL 190.460006 302.87703 \nL 190.460006 300.230972 \nL 70.465057 300.230972 \nz\n\" style=\"fill:#1f77b4;\"/>\n   </g>\n   <g id=\"patch_4\">\n    <path clip-path=\"url(#pa6b94c0500)\" d=\"M 220.458744 302.87703 \nL 340.453693 302.87703 \nL 340.453693 40.917268 \nL 220.458744 40.917268 \nz\n\" style=\"fill:#1f77b4;\"/>\n   </g>\n   <g id=\"matplotlib.axis_1\">\n    <g id=\"xtick_1\">\n     <g id=\"line2d_1\">\n      <defs>\n       <path d=\"M 0 0 \nL 0 3.5 \n\" id=\"mfe3ec0e93b\" style=\"stroke:#000000;stroke-width:0.8;\"/>\n      </defs>\n      <g>\n       <use style=\"stroke:#000000;stroke-width:0.8;\" x=\"130.462532\" xlink:href=\"#mfe3ec0e93b\" y=\"302.87703\"/>\n      </g>\n     </g>\n     <g id=\"text_1\">\n      <!-- 3_3 -->\n      <g transform=\"translate(121.600032 317.298905)scale(0.1 -0.1)\">\n       <defs>\n        <path d=\"M 40.578125 39.3125 \nQ 47.65625 37.796875 51.625 33 \nQ 55.609375 28.21875 55.609375 21.1875 \nQ 55.609375 10.40625 48.1875 4.484375 \nQ 40.765625 -1.421875 27.09375 -1.421875 \nQ 22.515625 -1.421875 17.65625 -0.515625 \nQ 12.796875 0.390625 7.625 2.203125 \nL 7.625 11.71875 \nQ 11.71875 9.328125 16.59375 8.109375 \nQ 21.484375 6.890625 26.8125 6.890625 \nQ 36.078125 6.890625 40.9375 10.546875 \nQ 45.796875 14.203125 45.796875 21.1875 \nQ 45.796875 27.640625 41.28125 31.265625 \nQ 36.765625 34.90625 28.71875 34.90625 \nL 20.21875 34.90625 \nL 20.21875 43.015625 \nL 29.109375 43.015625 \nQ 36.375 43.015625 40.234375 45.921875 \nQ 44.09375 48.828125 44.09375 54.296875 \nQ 44.09375 59.90625 40.109375 62.90625 \nQ 36.140625 65.921875 28.71875 65.921875 \nQ 24.65625 65.921875 20.015625 65.03125 \nQ 15.375 64.15625 9.8125 62.3125 \nL 9.8125 71.09375 \nQ 15.4375 72.65625 20.34375 73.4375 \nQ 25.25 74.21875 29.59375 74.21875 \nQ 40.828125 74.21875 47.359375 69.109375 \nQ 53.90625 64.015625 53.90625 55.328125 \nQ 53.90625 49.265625 50.4375 45.09375 \nQ 46.96875 40.921875 40.578125 39.3125 \nz\n\" id=\"DejaVuSans-51\"/>\n        <path d=\"M 50.984375 -16.609375 \nL 50.984375 -23.578125 \nL -0.984375 -23.578125 \nL -0.984375 -16.609375 \nz\n\" id=\"DejaVuSans-95\"/>\n       </defs>\n       <use xlink:href=\"#DejaVuSans-51\"/>\n       <use x=\"63.623047\" xlink:href=\"#DejaVuSans-95\"/>\n       <use x=\"113.623047\" xlink:href=\"#DejaVuSans-51\"/>\n      </g>\n     </g>\n    </g>\n    <g id=\"xtick_2\">\n     <g id=\"line2d_2\">\n      <g>\n       <use style=\"stroke:#000000;stroke-width:0.8;\" x=\"280.456218\" xlink:href=\"#mfe3ec0e93b\" y=\"302.87703\"/>\n      </g>\n     </g>\n     <g id=\"text_2\">\n      <!-- 2_3 -->\n      <g transform=\"translate(271.593718 317.298905)scale(0.1 -0.1)\">\n       <defs>\n        <path d=\"M 19.1875 8.296875 \nL 53.609375 8.296875 \nL 53.609375 0 \nL 7.328125 0 \nL 7.328125 8.296875 \nQ 12.9375 14.109375 22.625 23.890625 \nQ 32.328125 33.6875 34.8125 36.53125 \nQ 39.546875 41.84375 41.421875 45.53125 \nQ 43.3125 49.21875 43.3125 52.78125 \nQ 43.3125 58.59375 39.234375 62.25 \nQ 35.15625 65.921875 28.609375 65.921875 \nQ 23.96875 65.921875 18.8125 64.3125 \nQ 13.671875 62.703125 7.8125 59.421875 \nL 7.8125 69.390625 \nQ 13.765625 71.78125 18.9375 73 \nQ 24.125 74.21875 28.421875 74.21875 \nQ 39.75 74.21875 46.484375 68.546875 \nQ 53.21875 62.890625 53.21875 53.421875 \nQ 53.21875 48.921875 51.53125 44.890625 \nQ 49.859375 40.875 45.40625 35.40625 \nQ 44.1875 33.984375 37.640625 27.21875 \nQ 31.109375 20.453125 19.1875 8.296875 \nz\n\" id=\"DejaVuSans-50\"/>\n       </defs>\n       <use xlink:href=\"#DejaVuSans-50\"/>\n       <use x=\"63.623047\" xlink:href=\"#DejaVuSans-95\"/>\n       <use x=\"113.623047\" xlink:href=\"#DejaVuSans-51\"/>\n      </g>\n     </g>\n    </g>\n    <g id=\"text_3\">\n     <!-- Class -->\n     <g transform=\"translate(192.305469 341.255155)scale(0.1 -0.1)\">\n      <defs>\n       <path d=\"M 64.40625 67.28125 \nL 64.40625 56.890625 \nQ 59.421875 61.53125 53.78125 63.8125 \nQ 48.140625 66.109375 41.796875 66.109375 \nQ 29.296875 66.109375 22.65625 58.46875 \nQ 16.015625 50.828125 16.015625 36.375 \nQ 16.015625 21.96875 22.65625 14.328125 \nQ 29.296875 6.6875 41.796875 6.6875 \nQ 48.140625 6.6875 53.78125 8.984375 \nQ 59.421875 11.28125 64.40625 15.921875 \nL 64.40625 5.609375 \nQ 59.234375 2.09375 53.4375 0.328125 \nQ 47.65625 -1.421875 41.21875 -1.421875 \nQ 24.65625 -1.421875 15.125 8.703125 \nQ 5.609375 18.84375 5.609375 36.375 \nQ 5.609375 53.953125 15.125 64.078125 \nQ 24.65625 74.21875 41.21875 74.21875 \nQ 47.75 74.21875 53.53125 72.484375 \nQ 59.328125 70.75 64.40625 67.28125 \nz\n\" id=\"DejaVuSans-67\"/>\n       <path d=\"M 9.421875 75.984375 \nL 18.40625 75.984375 \nL 18.40625 0 \nL 9.421875 0 \nz\n\" id=\"DejaVuSans-108\"/>\n       <path d=\"M 34.28125 27.484375 \nQ 23.390625 27.484375 19.1875 25 \nQ 14.984375 22.515625 14.984375 16.5 \nQ 14.984375 11.71875 18.140625 8.90625 \nQ 21.296875 6.109375 26.703125 6.109375 \nQ 34.1875 6.109375 38.703125 11.40625 \nQ 43.21875 16.703125 43.21875 25.484375 \nL 43.21875 27.484375 \nz\nM 52.203125 31.203125 \nL 52.203125 0 \nL 43.21875 0 \nL 43.21875 8.296875 \nQ 40.140625 3.328125 35.546875 0.953125 \nQ 30.953125 -1.421875 24.3125 -1.421875 \nQ 15.921875 -1.421875 10.953125 3.296875 \nQ 6 8.015625 6 15.921875 \nQ 6 25.140625 12.171875 29.828125 \nQ 18.359375 34.515625 30.609375 34.515625 \nL 43.21875 34.515625 \nL 43.21875 35.40625 \nQ 43.21875 41.609375 39.140625 45 \nQ 35.0625 48.390625 27.6875 48.390625 \nQ 23 48.390625 18.546875 47.265625 \nQ 14.109375 46.140625 10.015625 43.890625 \nL 10.015625 52.203125 \nQ 14.9375 54.109375 19.578125 55.046875 \nQ 24.21875 56 28.609375 56 \nQ 40.484375 56 46.34375 49.84375 \nQ 52.203125 43.703125 52.203125 31.203125 \nz\n\" id=\"DejaVuSans-97\"/>\n       <path d=\"M 44.28125 53.078125 \nL 44.28125 44.578125 \nQ 40.484375 46.53125 36.375 47.5 \nQ 32.28125 48.484375 27.875 48.484375 \nQ 21.1875 48.484375 17.84375 46.4375 \nQ 14.5 44.390625 14.5 40.28125 \nQ 14.5 37.15625 16.890625 35.375 \nQ 19.28125 33.59375 26.515625 31.984375 \nL 29.59375 31.296875 \nQ 39.15625 29.25 43.1875 25.515625 \nQ 47.21875 21.78125 47.21875 15.09375 \nQ 47.21875 7.46875 41.1875 3.015625 \nQ 35.15625 -1.421875 24.609375 -1.421875 \nQ 20.21875 -1.421875 15.453125 -0.5625 \nQ 10.6875 0.296875 5.421875 2 \nL 5.421875 11.28125 \nQ 10.40625 8.6875 15.234375 7.390625 \nQ 20.0625 6.109375 24.8125 6.109375 \nQ 31.15625 6.109375 34.5625 8.28125 \nQ 37.984375 10.453125 37.984375 14.40625 \nQ 37.984375 18.0625 35.515625 20.015625 \nQ 33.0625 21.96875 24.703125 23.78125 \nL 21.578125 24.515625 \nQ 13.234375 26.265625 9.515625 29.90625 \nQ 5.8125 33.546875 5.8125 39.890625 \nQ 5.8125 47.609375 11.28125 51.796875 \nQ 16.75 56 26.8125 56 \nQ 31.78125 56 36.171875 55.265625 \nQ 40.578125 54.546875 44.28125 53.078125 \nz\n\" id=\"DejaVuSans-115\"/>\n      </defs>\n      <use xlink:href=\"#DejaVuSans-67\"/>\n      <use x=\"69.824219\" xlink:href=\"#DejaVuSans-108\"/>\n      <use x=\"97.607422\" xlink:href=\"#DejaVuSans-97\"/>\n      <use x=\"158.886719\" xlink:href=\"#DejaVuSans-115\"/>\n      <use x=\"210.986328\" xlink:href=\"#DejaVuSans-115\"/>\n     </g>\n    </g>\n   </g>\n   <g id=\"matplotlib.axis_2\">\n    <g id=\"ytick_1\">\n     <g id=\"line2d_3\">\n      <defs>\n       <path d=\"M 0 0 \nL -3.5 0 \n\" id=\"mf8278c0e98\" style=\"stroke:#000000;stroke-width:0.8;\"/>\n      </defs>\n      <g>\n       <use style=\"stroke:#000000;stroke-width:0.8;\" x=\"56.965625\" xlink:href=\"#mf8278c0e98\" y=\"302.87703\"/>\n      </g>\n     </g>\n     <g id=\"text_4\">\n      <!-- 0 -->\n      <g transform=\"translate(43.603125 306.676249)scale(0.1 -0.1)\">\n       <defs>\n        <path d=\"M 31.78125 66.40625 \nQ 24.171875 66.40625 20.328125 58.90625 \nQ 16.5 51.421875 16.5 36.375 \nQ 16.5 21.390625 20.328125 13.890625 \nQ 24.171875 6.390625 31.78125 6.390625 \nQ 39.453125 6.390625 43.28125 13.890625 \nQ 47.125 21.390625 47.125 36.375 \nQ 47.125 51.421875 43.28125 58.90625 \nQ 39.453125 66.40625 31.78125 66.40625 \nz\nM 31.78125 74.21875 \nQ 44.046875 74.21875 50.515625 64.515625 \nQ 56.984375 54.828125 56.984375 36.375 \nQ 56.984375 17.96875 50.515625 8.265625 \nQ 44.046875 -1.421875 31.78125 -1.421875 \nQ 19.53125 -1.421875 13.0625 8.265625 \nQ 6.59375 17.96875 6.59375 36.375 \nQ 6.59375 54.828125 13.0625 64.515625 \nQ 19.53125 74.21875 31.78125 74.21875 \nz\n\" id=\"DejaVuSans-48\"/>\n       </defs>\n       <use xlink:href=\"#DejaVuSans-48\"/>\n      </g>\n     </g>\n    </g>\n    <g id=\"ytick_2\">\n     <g id=\"line2d_4\">\n      <g>\n       <use style=\"stroke:#000000;stroke-width:0.8;\" x=\"56.965625\" xlink:href=\"#mf8278c0e98\" y=\"249.955866\"/>\n      </g>\n     </g>\n     <g id=\"text_5\">\n      <!-- 20 -->\n      <g transform=\"translate(37.240625 253.755085)scale(0.1 -0.1)\">\n       <use xlink:href=\"#DejaVuSans-50\"/>\n       <use x=\"63.623047\" xlink:href=\"#DejaVuSans-48\"/>\n      </g>\n     </g>\n    </g>\n    <g id=\"ytick_3\">\n     <g id=\"line2d_5\">\n      <g>\n       <use style=\"stroke:#000000;stroke-width:0.8;\" x=\"56.965625\" xlink:href=\"#mf8278c0e98\" y=\"197.034702\"/>\n      </g>\n     </g>\n     <g id=\"text_6\">\n      <!-- 40 -->\n      <g transform=\"translate(37.240625 200.833921)scale(0.1 -0.1)\">\n       <defs>\n        <path d=\"M 37.796875 64.3125 \nL 12.890625 25.390625 \nL 37.796875 25.390625 \nz\nM 35.203125 72.90625 \nL 47.609375 72.90625 \nL 47.609375 25.390625 \nL 58.015625 25.390625 \nL 58.015625 17.1875 \nL 47.609375 17.1875 \nL 47.609375 0 \nL 37.796875 0 \nL 37.796875 17.1875 \nL 4.890625 17.1875 \nL 4.890625 26.703125 \nz\n\" id=\"DejaVuSans-52\"/>\n       </defs>\n       <use xlink:href=\"#DejaVuSans-52\"/>\n       <use x=\"63.623047\" xlink:href=\"#DejaVuSans-48\"/>\n      </g>\n     </g>\n    </g>\n    <g id=\"ytick_4\">\n     <g id=\"line2d_6\">\n      <g>\n       <use style=\"stroke:#000000;stroke-width:0.8;\" x=\"56.965625\" xlink:href=\"#mf8278c0e98\" y=\"144.113538\"/>\n      </g>\n     </g>\n     <g id=\"text_7\">\n      <!-- 60 -->\n      <g transform=\"translate(37.240625 147.912757)scale(0.1 -0.1)\">\n       <defs>\n        <path d=\"M 33.015625 40.375 \nQ 26.375 40.375 22.484375 35.828125 \nQ 18.609375 31.296875 18.609375 23.390625 \nQ 18.609375 15.53125 22.484375 10.953125 \nQ 26.375 6.390625 33.015625 6.390625 \nQ 39.65625 6.390625 43.53125 10.953125 \nQ 47.40625 15.53125 47.40625 23.390625 \nQ 47.40625 31.296875 43.53125 35.828125 \nQ 39.65625 40.375 33.015625 40.375 \nz\nM 52.59375 71.296875 \nL 52.59375 62.3125 \nQ 48.875 64.0625 45.09375 64.984375 \nQ 41.3125 65.921875 37.59375 65.921875 \nQ 27.828125 65.921875 22.671875 59.328125 \nQ 17.53125 52.734375 16.796875 39.40625 \nQ 19.671875 43.65625 24.015625 45.921875 \nQ 28.375 48.1875 33.59375 48.1875 \nQ 44.578125 48.1875 50.953125 41.515625 \nQ 57.328125 34.859375 57.328125 23.390625 \nQ 57.328125 12.15625 50.6875 5.359375 \nQ 44.046875 -1.421875 33.015625 -1.421875 \nQ 20.359375 -1.421875 13.671875 8.265625 \nQ 6.984375 17.96875 6.984375 36.375 \nQ 6.984375 53.65625 15.1875 63.9375 \nQ 23.390625 74.21875 37.203125 74.21875 \nQ 40.921875 74.21875 44.703125 73.484375 \nQ 48.484375 72.75 52.59375 71.296875 \nz\n\" id=\"DejaVuSans-54\"/>\n       </defs>\n       <use xlink:href=\"#DejaVuSans-54\"/>\n       <use x=\"63.623047\" xlink:href=\"#DejaVuSans-48\"/>\n      </g>\n     </g>\n    </g>\n    <g id=\"ytick_5\">\n     <g id=\"line2d_7\">\n      <g>\n       <use style=\"stroke:#000000;stroke-width:0.8;\" x=\"56.965625\" xlink:href=\"#mf8278c0e98\" y=\"91.192374\"/>\n      </g>\n     </g>\n     <g id=\"text_8\">\n      <!-- 80 -->\n      <g transform=\"translate(37.240625 94.991593)scale(0.1 -0.1)\">\n       <defs>\n        <path d=\"M 31.78125 34.625 \nQ 24.75 34.625 20.71875 30.859375 \nQ 16.703125 27.09375 16.703125 20.515625 \nQ 16.703125 13.921875 20.71875 10.15625 \nQ 24.75 6.390625 31.78125 6.390625 \nQ 38.8125 6.390625 42.859375 10.171875 \nQ 46.921875 13.96875 46.921875 20.515625 \nQ 46.921875 27.09375 42.890625 30.859375 \nQ 38.875 34.625 31.78125 34.625 \nz\nM 21.921875 38.8125 \nQ 15.578125 40.375 12.03125 44.71875 \nQ 8.5 49.078125 8.5 55.328125 \nQ 8.5 64.0625 14.71875 69.140625 \nQ 20.953125 74.21875 31.78125 74.21875 \nQ 42.671875 74.21875 48.875 69.140625 \nQ 55.078125 64.0625 55.078125 55.328125 \nQ 55.078125 49.078125 51.53125 44.71875 \nQ 48 40.375 41.703125 38.8125 \nQ 48.828125 37.15625 52.796875 32.3125 \nQ 56.78125 27.484375 56.78125 20.515625 \nQ 56.78125 9.90625 50.3125 4.234375 \nQ 43.84375 -1.421875 31.78125 -1.421875 \nQ 19.734375 -1.421875 13.25 4.234375 \nQ 6.78125 9.90625 6.78125 20.515625 \nQ 6.78125 27.484375 10.78125 32.3125 \nQ 14.796875 37.15625 21.921875 38.8125 \nz\nM 18.3125 54.390625 \nQ 18.3125 48.734375 21.84375 45.5625 \nQ 25.390625 42.390625 31.78125 42.390625 \nQ 38.140625 42.390625 41.71875 45.5625 \nQ 45.3125 48.734375 45.3125 54.390625 \nQ 45.3125 60.0625 41.71875 63.234375 \nQ 38.140625 66.40625 31.78125 66.40625 \nQ 25.390625 66.40625 21.84375 63.234375 \nQ 18.3125 60.0625 18.3125 54.390625 \nz\n\" id=\"DejaVuSans-56\"/>\n       </defs>\n       <use xlink:href=\"#DejaVuSans-56\"/>\n       <use x=\"63.623047\" xlink:href=\"#DejaVuSans-48\"/>\n      </g>\n     </g>\n    </g>\n    <g id=\"ytick_6\">\n     <g id=\"line2d_8\">\n      <g>\n       <use style=\"stroke:#000000;stroke-width:0.8;\" x=\"56.965625\" xlink:href=\"#mf8278c0e98\" y=\"38.27121\"/>\n      </g>\n     </g>\n     <g id=\"text_9\">\n      <!-- 100 -->\n      <g transform=\"translate(30.878125 42.070429)scale(0.1 -0.1)\">\n       <defs>\n        <path d=\"M 12.40625 8.296875 \nL 28.515625 8.296875 \nL 28.515625 63.921875 \nL 10.984375 60.40625 \nL 10.984375 69.390625 \nL 28.421875 72.90625 \nL 38.28125 72.90625 \nL 38.28125 8.296875 \nL 54.390625 8.296875 \nL 54.390625 0 \nL 12.40625 0 \nz\n\" id=\"DejaVuSans-49\"/>\n       </defs>\n       <use xlink:href=\"#DejaVuSans-49\"/>\n       <use x=\"63.623047\" xlink:href=\"#DejaVuSans-48\"/>\n       <use x=\"127.246094\" xlink:href=\"#DejaVuSans-48\"/>\n      </g>\n     </g>\n    </g>\n    <g id=\"text_10\">\n     <!-- Frequency -->\n     <g transform=\"translate(14.798437 191.177842)rotate(-90)scale(0.1 -0.1)\">\n      <defs>\n       <path d=\"M 9.8125 72.90625 \nL 51.703125 72.90625 \nL 51.703125 64.59375 \nL 19.671875 64.59375 \nL 19.671875 43.109375 \nL 48.578125 43.109375 \nL 48.578125 34.8125 \nL 19.671875 34.8125 \nL 19.671875 0 \nL 9.8125 0 \nz\n\" id=\"DejaVuSans-70\"/>\n       <path d=\"M 41.109375 46.296875 \nQ 39.59375 47.171875 37.8125 47.578125 \nQ 36.03125 48 33.890625 48 \nQ 26.265625 48 22.1875 43.046875 \nQ 18.109375 38.09375 18.109375 28.8125 \nL 18.109375 0 \nL 9.078125 0 \nL 9.078125 54.6875 \nL 18.109375 54.6875 \nL 18.109375 46.1875 \nQ 20.953125 51.171875 25.484375 53.578125 \nQ 30.03125 56 36.53125 56 \nQ 37.453125 56 38.578125 55.875 \nQ 39.703125 55.765625 41.0625 55.515625 \nz\n\" id=\"DejaVuSans-114\"/>\n       <path d=\"M 56.203125 29.59375 \nL 56.203125 25.203125 \nL 14.890625 25.203125 \nQ 15.484375 15.921875 20.484375 11.0625 \nQ 25.484375 6.203125 34.421875 6.203125 \nQ 39.59375 6.203125 44.453125 7.46875 \nQ 49.3125 8.734375 54.109375 11.28125 \nL 54.109375 2.78125 \nQ 49.265625 0.734375 44.1875 -0.34375 \nQ 39.109375 -1.421875 33.890625 -1.421875 \nQ 20.796875 -1.421875 13.15625 6.1875 \nQ 5.515625 13.8125 5.515625 26.8125 \nQ 5.515625 40.234375 12.765625 48.109375 \nQ 20.015625 56 32.328125 56 \nQ 43.359375 56 49.78125 48.890625 \nQ 56.203125 41.796875 56.203125 29.59375 \nz\nM 47.21875 32.234375 \nQ 47.125 39.59375 43.09375 43.984375 \nQ 39.0625 48.390625 32.421875 48.390625 \nQ 24.90625 48.390625 20.390625 44.140625 \nQ 15.875 39.890625 15.1875 32.171875 \nz\n\" id=\"DejaVuSans-101\"/>\n       <path d=\"M 14.796875 27.296875 \nQ 14.796875 17.390625 18.875 11.75 \nQ 22.953125 6.109375 30.078125 6.109375 \nQ 37.203125 6.109375 41.296875 11.75 \nQ 45.40625 17.390625 45.40625 27.296875 \nQ 45.40625 37.203125 41.296875 42.84375 \nQ 37.203125 48.484375 30.078125 48.484375 \nQ 22.953125 48.484375 18.875 42.84375 \nQ 14.796875 37.203125 14.796875 27.296875 \nz\nM 45.40625 8.203125 \nQ 42.578125 3.328125 38.25 0.953125 \nQ 33.9375 -1.421875 27.875 -1.421875 \nQ 17.96875 -1.421875 11.734375 6.484375 \nQ 5.515625 14.40625 5.515625 27.296875 \nQ 5.515625 40.1875 11.734375 48.09375 \nQ 17.96875 56 27.875 56 \nQ 33.9375 56 38.25 53.625 \nQ 42.578125 51.265625 45.40625 46.390625 \nL 45.40625 54.6875 \nL 54.390625 54.6875 \nL 54.390625 -20.796875 \nL 45.40625 -20.796875 \nz\n\" id=\"DejaVuSans-113\"/>\n       <path d=\"M 8.5 21.578125 \nL 8.5 54.6875 \nL 17.484375 54.6875 \nL 17.484375 21.921875 \nQ 17.484375 14.15625 20.5 10.265625 \nQ 23.53125 6.390625 29.59375 6.390625 \nQ 36.859375 6.390625 41.078125 11.03125 \nQ 45.3125 15.671875 45.3125 23.6875 \nL 45.3125 54.6875 \nL 54.296875 54.6875 \nL 54.296875 0 \nL 45.3125 0 \nL 45.3125 8.40625 \nQ 42.046875 3.421875 37.71875 1 \nQ 33.40625 -1.421875 27.6875 -1.421875 \nQ 18.265625 -1.421875 13.375 4.4375 \nQ 8.5 10.296875 8.5 21.578125 \nz\nM 31.109375 56 \nz\n\" id=\"DejaVuSans-117\"/>\n       <path d=\"M 54.890625 33.015625 \nL 54.890625 0 \nL 45.90625 0 \nL 45.90625 32.71875 \nQ 45.90625 40.484375 42.875 44.328125 \nQ 39.84375 48.1875 33.796875 48.1875 \nQ 26.515625 48.1875 22.3125 43.546875 \nQ 18.109375 38.921875 18.109375 30.90625 \nL 18.109375 0 \nL 9.078125 0 \nL 9.078125 54.6875 \nL 18.109375 54.6875 \nL 18.109375 46.1875 \nQ 21.34375 51.125 25.703125 53.5625 \nQ 30.078125 56 35.796875 56 \nQ 45.21875 56 50.046875 50.171875 \nQ 54.890625 44.34375 54.890625 33.015625 \nz\n\" id=\"DejaVuSans-110\"/>\n       <path d=\"M 48.78125 52.59375 \nL 48.78125 44.1875 \nQ 44.96875 46.296875 41.140625 47.34375 \nQ 37.3125 48.390625 33.40625 48.390625 \nQ 24.65625 48.390625 19.8125 42.84375 \nQ 14.984375 37.3125 14.984375 27.296875 \nQ 14.984375 17.28125 19.8125 11.734375 \nQ 24.65625 6.203125 33.40625 6.203125 \nQ 37.3125 6.203125 41.140625 7.25 \nQ 44.96875 8.296875 48.78125 10.40625 \nL 48.78125 2.09375 \nQ 45.015625 0.34375 40.984375 -0.53125 \nQ 36.96875 -1.421875 32.421875 -1.421875 \nQ 20.0625 -1.421875 12.78125 6.34375 \nQ 5.515625 14.109375 5.515625 27.296875 \nQ 5.515625 40.671875 12.859375 48.328125 \nQ 20.21875 56 33.015625 56 \nQ 37.15625 56 41.109375 55.140625 \nQ 45.0625 54.296875 48.78125 52.59375 \nz\n\" id=\"DejaVuSans-99\"/>\n       <path d=\"M 32.171875 -5.078125 \nQ 28.375 -14.84375 24.75 -17.8125 \nQ 21.140625 -20.796875 15.09375 -20.796875 \nL 7.90625 -20.796875 \nL 7.90625 -13.28125 \nL 13.1875 -13.28125 \nQ 16.890625 -13.28125 18.9375 -11.515625 \nQ 21 -9.765625 23.484375 -3.21875 \nL 25.09375 0.875 \nL 2.984375 54.6875 \nL 12.5 54.6875 \nL 29.59375 11.921875 \nL 46.6875 54.6875 \nL 56.203125 54.6875 \nz\n\" id=\"DejaVuSans-121\"/>\n      </defs>\n      <use xlink:href=\"#DejaVuSans-70\"/>\n      <use x=\"50.269531\" xlink:href=\"#DejaVuSans-114\"/>\n      <use x=\"89.132812\" xlink:href=\"#DejaVuSans-101\"/>\n      <use x=\"150.65625\" xlink:href=\"#DejaVuSans-113\"/>\n      <use x=\"214.132812\" xlink:href=\"#DejaVuSans-117\"/>\n      <use x=\"277.511719\" xlink:href=\"#DejaVuSans-101\"/>\n      <use x=\"339.035156\" xlink:href=\"#DejaVuSans-110\"/>\n      <use x=\"402.414062\" xlink:href=\"#DejaVuSans-99\"/>\n      <use x=\"457.394531\" xlink:href=\"#DejaVuSans-121\"/>\n     </g>\n    </g>\n   </g>\n   <g id=\"patch_5\">\n    <path d=\"M 56.965625 302.87703 \nL 56.965625 27.81928 \n\" style=\"fill:none;stroke:#000000;stroke-linecap:square;stroke-linejoin:miter;stroke-width:0.8;\"/>\n   </g>\n   <g id=\"patch_6\">\n    <path d=\"M 353.953125 302.87703 \nL 353.953125 27.81928 \n\" style=\"fill:none;stroke:#000000;stroke-linecap:square;stroke-linejoin:miter;stroke-width:0.8;\"/>\n   </g>\n   <g id=\"patch_7\">\n    <path d=\"M 56.965625 302.87703 \nL 353.953125 302.87703 \n\" style=\"fill:none;stroke:#000000;stroke-linecap:square;stroke-linejoin:miter;stroke-width:0.8;\"/>\n   </g>\n   <g id=\"patch_8\">\n    <path d=\"M 56.965625 27.81928 \nL 353.953125 27.81928 \n\" style=\"fill:none;stroke:#000000;stroke-linecap:square;stroke-linejoin:miter;stroke-width:0.8;\"/>\n   </g>\n   <g id=\"text_11\">\n    <!-- Class distribution for train set -->\n    <g transform=\"translate(116.470938 16.318125)scale(0.12 -0.12)\">\n     <defs>\n      <path id=\"DejaVuSans-32\"/>\n      <path d=\"M 45.40625 46.390625 \nL 45.40625 75.984375 \nL 54.390625 75.984375 \nL 54.390625 0 \nL 45.40625 0 \nL 45.40625 8.203125 \nQ 42.578125 3.328125 38.25 0.953125 \nQ 33.9375 -1.421875 27.875 -1.421875 \nQ 17.96875 -1.421875 11.734375 6.484375 \nQ 5.515625 14.40625 5.515625 27.296875 \nQ 5.515625 40.1875 11.734375 48.09375 \nQ 17.96875 56 27.875 56 \nQ 33.9375 56 38.25 53.625 \nQ 42.578125 51.265625 45.40625 46.390625 \nz\nM 14.796875 27.296875 \nQ 14.796875 17.390625 18.875 11.75 \nQ 22.953125 6.109375 30.078125 6.109375 \nQ 37.203125 6.109375 41.296875 11.75 \nQ 45.40625 17.390625 45.40625 27.296875 \nQ 45.40625 37.203125 41.296875 42.84375 \nQ 37.203125 48.484375 30.078125 48.484375 \nQ 22.953125 48.484375 18.875 42.84375 \nQ 14.796875 37.203125 14.796875 27.296875 \nz\n\" id=\"DejaVuSans-100\"/>\n      <path d=\"M 9.421875 54.6875 \nL 18.40625 54.6875 \nL 18.40625 0 \nL 9.421875 0 \nz\nM 9.421875 75.984375 \nL 18.40625 75.984375 \nL 18.40625 64.59375 \nL 9.421875 64.59375 \nz\n\" id=\"DejaVuSans-105\"/>\n      <path d=\"M 18.3125 70.21875 \nL 18.3125 54.6875 \nL 36.8125 54.6875 \nL 36.8125 47.703125 \nL 18.3125 47.703125 \nL 18.3125 18.015625 \nQ 18.3125 11.328125 20.140625 9.421875 \nQ 21.96875 7.515625 27.59375 7.515625 \nL 36.8125 7.515625 \nL 36.8125 0 \nL 27.59375 0 \nQ 17.1875 0 13.234375 3.875 \nQ 9.28125 7.765625 9.28125 18.015625 \nL 9.28125 47.703125 \nL 2.6875 47.703125 \nL 2.6875 54.6875 \nL 9.28125 54.6875 \nL 9.28125 70.21875 \nz\n\" id=\"DejaVuSans-116\"/>\n      <path d=\"M 48.6875 27.296875 \nQ 48.6875 37.203125 44.609375 42.84375 \nQ 40.53125 48.484375 33.40625 48.484375 \nQ 26.265625 48.484375 22.1875 42.84375 \nQ 18.109375 37.203125 18.109375 27.296875 \nQ 18.109375 17.390625 22.1875 11.75 \nQ 26.265625 6.109375 33.40625 6.109375 \nQ 40.53125 6.109375 44.609375 11.75 \nQ 48.6875 17.390625 48.6875 27.296875 \nz\nM 18.109375 46.390625 \nQ 20.953125 51.265625 25.265625 53.625 \nQ 29.59375 56 35.59375 56 \nQ 45.5625 56 51.78125 48.09375 \nQ 58.015625 40.1875 58.015625 27.296875 \nQ 58.015625 14.40625 51.78125 6.484375 \nQ 45.5625 -1.421875 35.59375 -1.421875 \nQ 29.59375 -1.421875 25.265625 0.953125 \nQ 20.953125 3.328125 18.109375 8.203125 \nL 18.109375 0 \nL 9.078125 0 \nL 9.078125 75.984375 \nL 18.109375 75.984375 \nz\n\" id=\"DejaVuSans-98\"/>\n      <path d=\"M 30.609375 48.390625 \nQ 23.390625 48.390625 19.1875 42.75 \nQ 14.984375 37.109375 14.984375 27.296875 \nQ 14.984375 17.484375 19.15625 11.84375 \nQ 23.34375 6.203125 30.609375 6.203125 \nQ 37.796875 6.203125 41.984375 11.859375 \nQ 46.1875 17.53125 46.1875 27.296875 \nQ 46.1875 37.015625 41.984375 42.703125 \nQ 37.796875 48.390625 30.609375 48.390625 \nz\nM 30.609375 56 \nQ 42.328125 56 49.015625 48.375 \nQ 55.71875 40.765625 55.71875 27.296875 \nQ 55.71875 13.875 49.015625 6.21875 \nQ 42.328125 -1.421875 30.609375 -1.421875 \nQ 18.84375 -1.421875 12.171875 6.21875 \nQ 5.515625 13.875 5.515625 27.296875 \nQ 5.515625 40.765625 12.171875 48.375 \nQ 18.84375 56 30.609375 56 \nz\n\" id=\"DejaVuSans-111\"/>\n      <path d=\"M 37.109375 75.984375 \nL 37.109375 68.5 \nL 28.515625 68.5 \nQ 23.6875 68.5 21.796875 66.546875 \nQ 19.921875 64.59375 19.921875 59.515625 \nL 19.921875 54.6875 \nL 34.71875 54.6875 \nL 34.71875 47.703125 \nL 19.921875 47.703125 \nL 19.921875 0 \nL 10.890625 0 \nL 10.890625 47.703125 \nL 2.296875 47.703125 \nL 2.296875 54.6875 \nL 10.890625 54.6875 \nL 10.890625 58.5 \nQ 10.890625 67.625 15.140625 71.796875 \nQ 19.390625 75.984375 28.609375 75.984375 \nz\n\" id=\"DejaVuSans-102\"/>\n     </defs>\n     <use xlink:href=\"#DejaVuSans-67\"/>\n     <use x=\"69.824219\" xlink:href=\"#DejaVuSans-108\"/>\n     <use x=\"97.607422\" xlink:href=\"#DejaVuSans-97\"/>\n     <use x=\"158.886719\" xlink:href=\"#DejaVuSans-115\"/>\n     <use x=\"210.986328\" xlink:href=\"#DejaVuSans-115\"/>\n     <use x=\"263.085938\" xlink:href=\"#DejaVuSans-32\"/>\n     <use x=\"294.873047\" xlink:href=\"#DejaVuSans-100\"/>\n     <use x=\"358.349609\" xlink:href=\"#DejaVuSans-105\"/>\n     <use x=\"386.132812\" xlink:href=\"#DejaVuSans-115\"/>\n     <use x=\"438.232422\" xlink:href=\"#DejaVuSans-116\"/>\n     <use x=\"477.441406\" xlink:href=\"#DejaVuSans-114\"/>\n     <use x=\"518.554688\" xlink:href=\"#DejaVuSans-105\"/>\n     <use x=\"546.337891\" xlink:href=\"#DejaVuSans-98\"/>\n     <use x=\"609.814453\" xlink:href=\"#DejaVuSans-117\"/>\n     <use x=\"673.193359\" xlink:href=\"#DejaVuSans-116\"/>\n     <use x=\"712.402344\" xlink:href=\"#DejaVuSans-105\"/>\n     <use x=\"740.185547\" xlink:href=\"#DejaVuSans-111\"/>\n     <use x=\"801.367188\" xlink:href=\"#DejaVuSans-110\"/>\n     <use x=\"864.746094\" xlink:href=\"#DejaVuSans-32\"/>\n     <use x=\"896.533203\" xlink:href=\"#DejaVuSans-102\"/>\n     <use x=\"931.738281\" xlink:href=\"#DejaVuSans-111\"/>\n     <use x=\"992.919922\" xlink:href=\"#DejaVuSans-114\"/>\n     <use x=\"1034.033203\" xlink:href=\"#DejaVuSans-32\"/>\n     <use x=\"1065.820312\" xlink:href=\"#DejaVuSans-116\"/>\n     <use x=\"1105.029297\" xlink:href=\"#DejaVuSans-114\"/>\n     <use x=\"1146.142578\" xlink:href=\"#DejaVuSans-97\"/>\n     <use x=\"1207.421875\" xlink:href=\"#DejaVuSans-105\"/>\n     <use x=\"1235.205078\" xlink:href=\"#DejaVuSans-110\"/>\n     <use x=\"1298.583984\" xlink:href=\"#DejaVuSans-32\"/>\n     <use x=\"1330.371094\" xlink:href=\"#DejaVuSans-115\"/>\n     <use x=\"1382.470703\" xlink:href=\"#DejaVuSans-101\"/>\n     <use x=\"1443.994141\" xlink:href=\"#DejaVuSans-116\"/>\n    </g>\n   </g>\n  </g>\n  <g id=\"axes_2\">\n   <g id=\"patch_9\">\n    <path d=\"M 408.503125 302.87703 \nL 705.490625 302.87703 \nL 705.490625 27.81928 \nL 408.503125 27.81928 \nz\n\" style=\"fill:#ffffff;\"/>\n   </g>\n   <g id=\"patch_10\">\n    <path clip-path=\"url(#pda83cdeb5d)\" d=\"M 422.002557 302.87703 \nL 541.997506 302.87703 \nL 541.997506 302.87703 \nL 422.002557 302.87703 \nz\n\" style=\"fill:#1f77b4;\"/>\n   </g>\n   <g id=\"patch_11\">\n    <path clip-path=\"url(#pda83cdeb5d)\" d=\"M 571.996244 302.87703 \nL 691.991193 302.87703 \nL 691.991193 40.917268 \nL 571.996244 40.917268 \nz\n\" style=\"fill:#1f77b4;\"/>\n   </g>\n   <g id=\"matplotlib.axis_3\">\n    <g id=\"xtick_3\">\n     <g id=\"line2d_9\">\n      <g>\n       <use style=\"stroke:#000000;stroke-width:0.8;\" x=\"482.000032\" xlink:href=\"#mfe3ec0e93b\" y=\"302.87703\"/>\n      </g>\n     </g>\n     <g id=\"text_12\">\n      <!-- 3_3 -->\n      <g transform=\"translate(473.137532 317.298905)scale(0.1 -0.1)\">\n       <use xlink:href=\"#DejaVuSans-51\"/>\n       <use x=\"63.623047\" xlink:href=\"#DejaVuSans-95\"/>\n       <use x=\"113.623047\" xlink:href=\"#DejaVuSans-51\"/>\n      </g>\n     </g>\n    </g>\n    <g id=\"xtick_4\">\n     <g id=\"line2d_10\">\n      <g>\n       <use style=\"stroke:#000000;stroke-width:0.8;\" x=\"631.993718\" xlink:href=\"#mfe3ec0e93b\" y=\"302.87703\"/>\n      </g>\n     </g>\n     <g id=\"text_13\">\n      <!-- 2_3 -->\n      <g transform=\"translate(623.131218 317.298905)scale(0.1 -0.1)\">\n       <use xlink:href=\"#DejaVuSans-50\"/>\n       <use x=\"63.623047\" xlink:href=\"#DejaVuSans-95\"/>\n       <use x=\"113.623047\" xlink:href=\"#DejaVuSans-51\"/>\n      </g>\n     </g>\n    </g>\n    <g id=\"text_14\">\n     <!-- Class -->\n     <g transform=\"translate(543.842969 341.255155)scale(0.1 -0.1)\">\n      <use xlink:href=\"#DejaVuSans-67\"/>\n      <use x=\"69.824219\" xlink:href=\"#DejaVuSans-108\"/>\n      <use x=\"97.607422\" xlink:href=\"#DejaVuSans-97\"/>\n      <use x=\"158.886719\" xlink:href=\"#DejaVuSans-115\"/>\n      <use x=\"210.986328\" xlink:href=\"#DejaVuSans-115\"/>\n     </g>\n    </g>\n   </g>\n   <g id=\"matplotlib.axis_4\">\n    <g id=\"ytick_7\">\n     <g id=\"line2d_11\">\n      <g>\n       <use style=\"stroke:#000000;stroke-width:0.8;\" x=\"408.503125\" xlink:href=\"#mf8278c0e98\" y=\"302.87703\"/>\n      </g>\n     </g>\n     <g id=\"text_15\">\n      <!-- 0 -->\n      <g transform=\"translate(395.140625 306.676249)scale(0.1 -0.1)\">\n       <use xlink:href=\"#DejaVuSans-48\"/>\n      </g>\n     </g>\n    </g>\n    <g id=\"ytick_8\">\n     <g id=\"line2d_12\">\n      <g>\n       <use style=\"stroke:#000000;stroke-width:0.8;\" x=\"408.503125\" xlink:href=\"#mf8278c0e98\" y=\"259.21707\"/>\n      </g>\n     </g>\n     <g id=\"text_16\">\n      <!-- 5 -->\n      <g transform=\"translate(395.140625 263.016288)scale(0.1 -0.1)\">\n       <defs>\n        <path d=\"M 10.796875 72.90625 \nL 49.515625 72.90625 \nL 49.515625 64.59375 \nL 19.828125 64.59375 \nL 19.828125 46.734375 \nQ 21.96875 47.46875 24.109375 47.828125 \nQ 26.265625 48.1875 28.421875 48.1875 \nQ 40.625 48.1875 47.75 41.5 \nQ 54.890625 34.8125 54.890625 23.390625 \nQ 54.890625 11.625 47.5625 5.09375 \nQ 40.234375 -1.421875 26.90625 -1.421875 \nQ 22.3125 -1.421875 17.546875 -0.640625 \nQ 12.796875 0.140625 7.71875 1.703125 \nL 7.71875 11.625 \nQ 12.109375 9.234375 16.796875 8.0625 \nQ 21.484375 6.890625 26.703125 6.890625 \nQ 35.15625 6.890625 40.078125 11.328125 \nQ 45.015625 15.765625 45.015625 23.390625 \nQ 45.015625 31 40.078125 35.4375 \nQ 35.15625 39.890625 26.703125 39.890625 \nQ 22.75 39.890625 18.8125 39.015625 \nQ 14.890625 38.140625 10.796875 36.28125 \nz\n\" id=\"DejaVuSans-53\"/>\n       </defs>\n       <use xlink:href=\"#DejaVuSans-53\"/>\n      </g>\n     </g>\n    </g>\n    <g id=\"ytick_9\">\n     <g id=\"line2d_13\">\n      <g>\n       <use style=\"stroke:#000000;stroke-width:0.8;\" x=\"408.503125\" xlink:href=\"#mf8278c0e98\" y=\"215.557109\"/>\n      </g>\n     </g>\n     <g id=\"text_17\">\n      <!-- 10 -->\n      <g transform=\"translate(388.778125 219.356328)scale(0.1 -0.1)\">\n       <use xlink:href=\"#DejaVuSans-49\"/>\n       <use x=\"63.623047\" xlink:href=\"#DejaVuSans-48\"/>\n      </g>\n     </g>\n    </g>\n    <g id=\"ytick_10\">\n     <g id=\"line2d_14\">\n      <g>\n       <use style=\"stroke:#000000;stroke-width:0.8;\" x=\"408.503125\" xlink:href=\"#mf8278c0e98\" y=\"171.897149\"/>\n      </g>\n     </g>\n     <g id=\"text_18\">\n      <!-- 15 -->\n      <g transform=\"translate(388.778125 175.696368)scale(0.1 -0.1)\">\n       <use xlink:href=\"#DejaVuSans-49\"/>\n       <use x=\"63.623047\" xlink:href=\"#DejaVuSans-53\"/>\n      </g>\n     </g>\n    </g>\n    <g id=\"ytick_11\">\n     <g id=\"line2d_15\">\n      <g>\n       <use style=\"stroke:#000000;stroke-width:0.8;\" x=\"408.503125\" xlink:href=\"#mf8278c0e98\" y=\"128.237189\"/>\n      </g>\n     </g>\n     <g id=\"text_19\">\n      <!-- 20 -->\n      <g transform=\"translate(388.778125 132.036407)scale(0.1 -0.1)\">\n       <use xlink:href=\"#DejaVuSans-50\"/>\n       <use x=\"63.623047\" xlink:href=\"#DejaVuSans-48\"/>\n      </g>\n     </g>\n    </g>\n    <g id=\"ytick_12\">\n     <g id=\"line2d_16\">\n      <g>\n       <use style=\"stroke:#000000;stroke-width:0.8;\" x=\"408.503125\" xlink:href=\"#mf8278c0e98\" y=\"84.577228\"/>\n      </g>\n     </g>\n     <g id=\"text_20\">\n      <!-- 25 -->\n      <g transform=\"translate(388.778125 88.376447)scale(0.1 -0.1)\">\n       <use xlink:href=\"#DejaVuSans-50\"/>\n       <use x=\"63.623047\" xlink:href=\"#DejaVuSans-53\"/>\n      </g>\n     </g>\n    </g>\n    <g id=\"ytick_13\">\n     <g id=\"line2d_17\">\n      <g>\n       <use style=\"stroke:#000000;stroke-width:0.8;\" x=\"408.503125\" xlink:href=\"#mf8278c0e98\" y=\"40.917268\"/>\n      </g>\n     </g>\n     <g id=\"text_21\">\n      <!-- 30 -->\n      <g transform=\"translate(388.778125 44.716487)scale(0.1 -0.1)\">\n       <use xlink:href=\"#DejaVuSans-51\"/>\n       <use x=\"63.623047\" xlink:href=\"#DejaVuSans-48\"/>\n      </g>\n     </g>\n    </g>\n    <g id=\"text_22\">\n     <!-- Frequency -->\n     <g transform=\"translate(372.698438 191.177842)rotate(-90)scale(0.1 -0.1)\">\n      <use xlink:href=\"#DejaVuSans-70\"/>\n      <use x=\"50.269531\" xlink:href=\"#DejaVuSans-114\"/>\n      <use x=\"89.132812\" xlink:href=\"#DejaVuSans-101\"/>\n      <use x=\"150.65625\" xlink:href=\"#DejaVuSans-113\"/>\n      <use x=\"214.132812\" xlink:href=\"#DejaVuSans-117\"/>\n      <use x=\"277.511719\" xlink:href=\"#DejaVuSans-101\"/>\n      <use x=\"339.035156\" xlink:href=\"#DejaVuSans-110\"/>\n      <use x=\"402.414062\" xlink:href=\"#DejaVuSans-99\"/>\n      <use x=\"457.394531\" xlink:href=\"#DejaVuSans-121\"/>\n     </g>\n    </g>\n   </g>\n   <g id=\"patch_12\">\n    <path d=\"M 408.503125 302.87703 \nL 408.503125 27.81928 \n\" style=\"fill:none;stroke:#000000;stroke-linecap:square;stroke-linejoin:miter;stroke-width:0.8;\"/>\n   </g>\n   <g id=\"patch_13\">\n    <path d=\"M 705.490625 302.87703 \nL 705.490625 27.81928 \n\" style=\"fill:none;stroke:#000000;stroke-linecap:square;stroke-linejoin:miter;stroke-width:0.8;\"/>\n   </g>\n   <g id=\"patch_14\">\n    <path d=\"M 408.503125 302.87703 \nL 705.490625 302.87703 \n\" style=\"fill:none;stroke:#000000;stroke-linecap:square;stroke-linejoin:miter;stroke-width:0.8;\"/>\n   </g>\n   <g id=\"patch_15\">\n    <path d=\"M 408.503125 27.81928 \nL 705.490625 27.81928 \n\" style=\"fill:none;stroke:#000000;stroke-linecap:square;stroke-linejoin:miter;stroke-width:0.8;\"/>\n   </g>\n   <g id=\"text_23\">\n    <!-- Class distribution for val set -->\n    <g transform=\"translate(473.078438 16.318125)scale(0.12 -0.12)\">\n     <defs>\n      <path d=\"M 2.984375 54.6875 \nL 12.5 54.6875 \nL 29.59375 8.796875 \nL 46.6875 54.6875 \nL 56.203125 54.6875 \nL 35.6875 0 \nL 23.484375 0 \nz\n\" id=\"DejaVuSans-118\"/>\n     </defs>\n     <use xlink:href=\"#DejaVuSans-67\"/>\n     <use x=\"69.824219\" xlink:href=\"#DejaVuSans-108\"/>\n     <use x=\"97.607422\" xlink:href=\"#DejaVuSans-97\"/>\n     <use x=\"158.886719\" xlink:href=\"#DejaVuSans-115\"/>\n     <use x=\"210.986328\" xlink:href=\"#DejaVuSans-115\"/>\n     <use x=\"263.085938\" xlink:href=\"#DejaVuSans-32\"/>\n     <use x=\"294.873047\" xlink:href=\"#DejaVuSans-100\"/>\n     <use x=\"358.349609\" xlink:href=\"#DejaVuSans-105\"/>\n     <use x=\"386.132812\" xlink:href=\"#DejaVuSans-115\"/>\n     <use x=\"438.232422\" xlink:href=\"#DejaVuSans-116\"/>\n     <use x=\"477.441406\" xlink:href=\"#DejaVuSans-114\"/>\n     <use x=\"518.554688\" xlink:href=\"#DejaVuSans-105\"/>\n     <use x=\"546.337891\" xlink:href=\"#DejaVuSans-98\"/>\n     <use x=\"609.814453\" xlink:href=\"#DejaVuSans-117\"/>\n     <use x=\"673.193359\" xlink:href=\"#DejaVuSans-116\"/>\n     <use x=\"712.402344\" xlink:href=\"#DejaVuSans-105\"/>\n     <use x=\"740.185547\" xlink:href=\"#DejaVuSans-111\"/>\n     <use x=\"801.367188\" xlink:href=\"#DejaVuSans-110\"/>\n     <use x=\"864.746094\" xlink:href=\"#DejaVuSans-32\"/>\n     <use x=\"896.533203\" xlink:href=\"#DejaVuSans-102\"/>\n     <use x=\"931.738281\" xlink:href=\"#DejaVuSans-111\"/>\n     <use x=\"992.919922\" xlink:href=\"#DejaVuSans-114\"/>\n     <use x=\"1034.033203\" xlink:href=\"#DejaVuSans-32\"/>\n     <use x=\"1065.820312\" xlink:href=\"#DejaVuSans-118\"/>\n     <use x=\"1125\" xlink:href=\"#DejaVuSans-97\"/>\n     <use x=\"1186.279297\" xlink:href=\"#DejaVuSans-108\"/>\n     <use x=\"1214.0625\" xlink:href=\"#DejaVuSans-32\"/>\n     <use x=\"1245.849609\" xlink:href=\"#DejaVuSans-115\"/>\n     <use x=\"1297.949219\" xlink:href=\"#DejaVuSans-101\"/>\n     <use x=\"1359.472656\" xlink:href=\"#DejaVuSans-116\"/>\n    </g>\n   </g>\n  </g>\n </g>\n <defs>\n  <clipPath id=\"pa6b94c0500\">\n   <rect height=\"275.05775\" width=\"296.9875\" x=\"56.965625\" y=\"27.81928\"/>\n  </clipPath>\n  <clipPath id=\"pda83cdeb5d\">\n   <rect height=\"275.05775\" width=\"296.9875\" x=\"408.503125\" y=\"27.81928\"/>\n  </clipPath>\n </defs>\n</svg>\n",
            "image/png": "[encoded data removed]"
          },
          "metadata": {
            "needs_background": "light"
          }
        }
      ],
      "metadata": {}
    },
    {
      "cell_type": "markdown",
      "source": [
        "## datagen + calc_rpn -> rpn_net -> rpn_to_roi -> calc_iou -> cls_net"
      ],
      "metadata": {}
    },
    {
      "cell_type": "markdown",
      "source": [
        "# Training"
      ],
      "metadata": {}
    },
    {
      "cell_type": "code",
      "execution_count": 15,
      "source": [
        "# print_img(config.TRAIN_PATCHES_FOLDER, '3_16406_16729_20', show_data=True)\n"
      ],
      "outputs": [],
      "metadata": {}
    },
    {
      "cell_type": "code",
      "execution_count": 16,
      "source": [
        "# # Debugging\n",
        "\n",
        "# train_patch_list = ska_dataset.train_patch_list\n",
        "# patches_folder_path=config.TRAIN_PATCHES_FOLDER\n",
        "\n",
        "# train_datagen = prep.get_anchor_gt(patches_folder_path, ['20_16396_16729_20'], backbone, pixel_mean=None)\n",
        "# image, [y_rpn_cls_true, y_rpn_reg_true], img_data_aug, _, _, patch_id = next(train_datagen)\n",
        "\n"
      ],
      "outputs": [],
      "metadata": {}
    },
    {
      "cell_type": "markdown",
      "source": [
        "### Get FRCNN model"
      ],
      "metadata": {}
    },
    {
      "cell_type": "code",
      "execution_count": 36,
      "source": [
        "rpn_model, detector_model, total_model = models.get_train_model(input_shape_1=input_shape_1, input_shape_2=input_shape_2, anchor_num=config.anchor_num, pooling_regions=config.pooling_regions, num_rois=config.num_rois, num_classes=len(ska_dataset.class_list)+1, backbone=backbone, use_expander=False)\n",
        "\n",
        "rpn_model.summary()\n",
        "detector_model.summary()\n",
        "total_model.summary()"
      ],
      "outputs": [
        {
          "output_type": "stream",
          "name": "stdout",
          "text": [
            "Model: \"RegionProposal\"\n",
            "_________________________________________________________________\n",
            "Layer (type)                 Output Shape              Param #   \n",
            "=================================================================\n",
            "input_1 (InputLayer)         [(None, 150, 150, 3)]     0         \n",
            "_________________________________________________________________\n",
            "block1_conv1 (Conv2D)        (None, 150, 150, 64)      1792      \n",
            "_________________________________________________________________\n",
            "block1_conv2 (Conv2D)        (None, 150, 150, 64)      36928     \n",
            "_________________________________________________________________\n",
            "block1_pool (MaxPooling2D)   (None, 75, 75, 64)        0         \n",
            "_________________________________________________________________\n",
            "block2_conv1 (Conv2D)        (None, 75, 75, 128)       73856     \n",
            "_________________________________________________________________\n",
            "block2_conv2 (Conv2D)        (None, 75, 75, 128)       147584    \n",
            "_________________________________________________________________\n",
            "block2_pool (MaxPooling2D)   (None, 37, 37, 128)       0         \n",
            "_________________________________________________________________\n",
            "rpn (RpnNet)                 [(None, 37, 37, 9), (None 613421    \n",
            "=================================================================\n",
            "Total params: 873,581\n",
            "Trainable params: 613,421\n",
            "Non-trainable params: 260,160\n",
            "_________________________________________________________________\n",
            "Model: \"DetectorClassifier\"\n",
            "__________________________________________________________________________________________________\n",
            "Layer (type)                    Output Shape         Param #     Connected to                     \n",
            "==================================================================================================\n",
            "input_1 (InputLayer)            [(None, 150, 150, 3) 0                                            \n",
            "__________________________________________________________________________________________________\n",
            "block1_conv1 (Conv2D)           (None, 150, 150, 64) 1792        input_1[0][0]                    \n",
            "__________________________________________________________________________________________________\n",
            "block1_conv2 (Conv2D)           (None, 150, 150, 64) 36928       block1_conv1[0][0]               \n",
            "__________________________________________________________________________________________________\n",
            "block1_pool (MaxPooling2D)      (None, 75, 75, 64)   0           block1_conv2[0][0]               \n",
            "__________________________________________________________________________________________________\n",
            "block2_conv1 (Conv2D)           (None, 75, 75, 128)  73856       block1_pool[0][0]                \n",
            "__________________________________________________________________________________________________\n",
            "block2_conv2 (Conv2D)           (None, 75, 75, 128)  147584      block2_conv1[0][0]               \n",
            "__________________________________________________________________________________________________\n",
            "block2_pool (MaxPooling2D)      (None, 37, 37, 128)  0           block2_conv2[0][0]               \n",
            "__________________________________________________________________________________________________\n",
            "input_2 (InputLayer)            [(None, None, 4)]    0                                            \n",
            "__________________________________________________________________________________________________\n",
            "roi_pooling (RoiPoolingConv)    (1, 8, 7, 7, 128)    0           block2_pool[0][0]                \n",
            "                                                                 input_2[0][0]                    \n",
            "__________________________________________________________________________________________________\n",
            "cls (Detector)                  [(1, 8, 3), (1, 8, 8 42520587    roi_pooling[0][0]                \n",
            "==================================================================================================\n",
            "Total params: 42,780,747\n",
            "Trainable params: 42,520,587\n",
            "Non-trainable params: 260,160\n",
            "__________________________________________________________________________________________________\n",
            "Model: \"End2end_model\"\n",
            "__________________________________________________________________________________________________\n",
            "Layer (type)                    Output Shape         Param #     Connected to                     \n",
            "==================================================================================================\n",
            "input_1 (InputLayer)            [(None, 150, 150, 3) 0                                            \n",
            "__________________________________________________________________________________________________\n",
            "block1_conv1 (Conv2D)           (None, 150, 150, 64) 1792        input_1[0][0]                    \n",
            "__________________________________________________________________________________________________\n",
            "block1_conv2 (Conv2D)           (None, 150, 150, 64) 36928       block1_conv1[0][0]               \n",
            "__________________________________________________________________________________________________\n",
            "block1_pool (MaxPooling2D)      (None, 75, 75, 64)   0           block1_conv2[0][0]               \n",
            "__________________________________________________________________________________________________\n",
            "block2_conv1 (Conv2D)           (None, 75, 75, 128)  73856       block1_pool[0][0]                \n",
            "__________________________________________________________________________________________________\n",
            "block2_conv2 (Conv2D)           (None, 75, 75, 128)  147584      block2_conv1[0][0]               \n",
            "__________________________________________________________________________________________________\n",
            "block2_pool (MaxPooling2D)      (None, 37, 37, 128)  0           block2_conv2[0][0]               \n",
            "__________________________________________________________________________________________________\n",
            "input_2 (InputLayer)            [(None, None, 4)]    0                                            \n",
            "__________________________________________________________________________________________________\n",
            "roi_pooling (RoiPoolingConv)    (1, 8, 7, 7, 128)    0           block2_pool[0][0]                \n",
            "                                                                 input_2[0][0]                    \n",
            "__________________________________________________________________________________________________\n",
            "rpn (RpnNet)                    [(None, 37, 37, 9),  613421      block2_pool[0][0]                \n",
            "__________________________________________________________________________________________________\n",
            "cls (Detector)                  [(1, 8, 3), (1, 8, 8 42520587    roi_pooling[0][0]                \n",
            "==================================================================================================\n",
            "Total params: 43,394,168\n",
            "Trainable params: 43,134,008\n",
            "Non-trainable params: 260,160\n",
            "__________________________________________________________________________________________________\n"
          ]
        }
      ],
      "metadata": {
        "tags": [
          "outputPrepend"
        ]
      }
    },
    {
      "cell_type": "markdown",
      "source": [
        "### Load weights"
      ],
      "metadata": {}
    },
    {
      "cell_type": "code",
      "execution_count": 18,
      "source": [
        "ska_dataset.class_list"
      ],
      "outputs": [
        {
          "output_type": "execute_result",
          "data": {
            "text/plain": [
              "array(['2_3', '3_3'], dtype=object)"
            ]
          },
          "metadata": {},
          "execution_count": 18
        }
      ],
      "metadata": {}
    },
    {
      "cell_type": "code",
      "execution_count": 37,
      "source": [
        "# checkpoint='0_frcnn_baseline_36.h5'\n",
        "models.load_weigths(rpn_model, detector_model, backbone, resume_train=False, checkpoint=checkpoint)\n",
        "# models.compile_models(rpn_model, detector_model, total_model, rpn_losses=[loss.rpn_loss_cls, loss.rpn_loss_regr], detector_losses=[loss.detector_loss_cls, loss.detector_loss_regr], class_list=ska_dataset.class_list)\n",
        "models.compile_models(rpn_model, detector_model, total_model, rpn_losses=[loss.rpn_loss_cls, loss.rpn_loss_regr], detector_losses=[loss.categorical_focal_loss([0.25, 0.7, 0.05], 2.), loss.detector_loss_regr], class_list=ska_dataset.class_list)\n",
        "\n"
      ],
      "outputs": [],
      "metadata": {}
    },
    {
      "cell_type": "code",
      "execution_count": null,
      "source": [
        "# Specifically checking backbone weights\n",
        "\n",
        "# total_model.weights[24:25][0][0][0][0]"
      ],
      "outputs": [],
      "metadata": {}
    },
    {
      "cell_type": "code",
      "execution_count": null,
      "source": [
        "# Check that all of the pretrained weights have been loaded.\n",
        "import numpy as np\n",
        "for i, j in zip(total_model.weights, rpn_model.weights): \n",
        "    # print(i,j)\n",
        "    assert np.allclose(i,j), 'Weights don\\'t match!'"
      ],
      "outputs": [],
      "metadata": {
        "tags": []
      }
    },
    {
      "cell_type": "markdown",
      "source": [
        "### Train"
      ],
      "metadata": {}
    },
    {
      "cell_type": "markdown",
      "source": [
        "- errore \"Exception: 'a' cannot be empty unless no samples are taken\" quando nel sampling ci sono meno di 4 roi\n",
        "- errore \"None type object is not iterable\" dovuto al max(IoUs) quando calc_iou torna None, None, None, None\n",
        "- patch di debug 1550_16376_16779_100\n",
        "- capire il parametro classifier_regr_std in che modo influenza il training"
      ],
      "metadata": {}
    },
    {
      "cell_type": "markdown",
      "source": [
        "- provare normalizzazione valori immagini di input\n",
        "- provare a far passare più roi anzichè 4"
      ],
      "metadata": {}
    },
    {
      "cell_type": "code",
      "execution_count": null,
      "source": [
        "len(ska_dataset.train_patch_list)"
      ],
      "outputs": [],
      "metadata": {}
    },
    {
      "cell_type": "code",
      "execution_count": null,
      "source": [
        "import tensorflow as tf\n",
        "\n",
        "y_pred = np.ones((1,8,3))*4\n",
        "a = np.ones((1,8,3))*.25\n",
        "y_true=np.ones((1,8,3))\n",
        "y_pred = y_pred / tf.reduce_sum(y_pred, -1, True)\n",
        "cross_entropy = -y_true * K.log(y_pred)\n",
        "print(y_pred)\n",
        "print(cross_entropy)"
      ],
      "outputs": [],
      "metadata": {}
    },
    {
      "cell_type": "code",
      "execution_count": null,
      "source": [
        "import keras.backend as K\n",
        "\n",
        "# loss = [.25,.25,.25] * K.pow(1-y_pred[0,:,:], 2.) * cross_entropy\n",
        "loss = cross_entropy\n",
        "print(K.sum(loss, axis=-1))"
      ],
      "outputs": [],
      "metadata": {}
    },
    {
      "cell_type": "code",
      "execution_count": null,
      "source": [
        "K.categorical_crossentropy(y_true, y_pred)"
      ],
      "outputs": [],
      "metadata": {}
    },
    {
      "cell_type": "code",
      "execution_count": 25,
      "source": [
        "print_img(config.TRAIN_PATCHES_FOLDER, '384_16526_16879_50')\n"
      ],
      "outputs": [
        {
          "output_type": "display_data",
          "data": {
            "text/plain": [
              "<Figure size 432x288 with 1 Axes>"
            ],
            "image/svg+xml": "<?xml version=\"1.0\" encoding=\"utf-8\" standalone=\"no\"?>\n<!DOCTYPE svg PUBLIC \"-//W3C//DTD SVG 1.1//EN\"\n  \"http://www.w3.org/Graphics/SVG/1.1/DTD/svg11.dtd\">\n<!-- Created with matplotlib (https://matplotlib.org/) -->\n<svg height=\"250.142944pt\" version=\"1.1\" viewBox=\"0 0 251.565 250.142944\" width=\"251.565pt\" xmlns=\"http://www.w3.org/2000/svg\" xmlns:xlink=\"http://www.w3.org/1999/xlink\">\n <metadata>\n  <rdf:RDF xmlns:cc=\"http://creativecommons.org/ns#\" xmlns:dc=\"http://purl.org/dc/elements/1.1/\" xmlns:rdf=\"http://www.w3.org/1999/02/22-rdf-syntax-ns#\">\n   <cc:Work>\n    <dc:type rdf:resource=\"http://purl.org/dc/dcmitype/StillImage\"/>\n    <dc:date>2021-08-29T16:50:53.162160</dc:date>\n    <dc:format>image/svg+xml</dc:format>\n    <dc:creator>\n     <cc:Agent>\n      <dc:title>Matplotlib v3.3.4, https://matplotlib.org/</dc:title>\n     </cc:Agent>\n    </dc:creator>\n   </cc:Work>\n  </rdf:RDF>\n </metadata>\n <defs>\n  <style type=\"text/css\">*{stroke-linecap:butt;stroke-linejoin:round;}</style>\n </defs>\n <g id=\"figure_1\">\n  <g id=\"patch_1\">\n   <path d=\"M 0 250.142944 \nL 251.565 250.142944 \nL 251.565 0 \nL 0 0 \nz\n\" style=\"fill:none;\"/>\n  </g>\n  <g id=\"axes_1\">\n   <g id=\"patch_2\">\n    <path d=\"M 26.925 226.264819 \nL 244.365 226.264819 \nL 244.365 8.824819 \nL 26.925 8.824819 \nz\n\" style=\"fill:#ffffff;\"/>\n   </g>\n   <g clip-path=\"url(#pd693dd2769)\">\n    <image height=\"218\" id=\"imagefececf0eea\" transform=\"scale(1 -1)translate(0 -218)\" width=\"218\" x=\"26.925\" xlink:href=\"data:image/png;base64,\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\" y=\"-8.264819\"/>\n   </g>\n   <g id=\"patch_3\">\n    <path clip-path=\"url(#pd693dd2769)\" d=\"M 147.382285 96.790942 \nL 242.1906 96.790942 \nL 242.1906 224.090419 \nL 147.382285 224.090419 \nz\n\" style=\"fill:none;stroke:#ff0000;stroke-linejoin:miter;stroke-width:0.5;\"/>\n   </g>\n   <g id=\"patch_4\">\n    <path clip-path=\"url(#pd693dd2769)\" d=\"M 80.181467 208.80616 \nL 105.85971 208.80616 \nL 105.85971 224.090419 \nL 80.181467 224.090419 \nz\n\" style=\"fill:none;stroke:#ff0000;stroke-linejoin:miter;stroke-width:0.5;\"/>\n   </g>\n   <g id=\"patch_5\">\n    <path clip-path=\"url(#pd693dd2769)\" d=\"M 38.00377 39.200501 \nL 60.752317 39.200501 \nL 60.752317 64.464325 \nL 38.00377 64.464325 \nz\n\" style=\"fill:none;stroke:#ff0000;stroke-linejoin:miter;stroke-width:0.5;\"/>\n   </g>\n   <g id=\"patch_6\">\n    <path clip-path=\"url(#pd693dd2769)\" d=\"M 88.746543 141.931854 \nL 113.671994 141.931854 \nL 113.671994 165.901253 \nL 88.746543 165.901253 \nz\n\" style=\"fill:none;stroke:#ff0000;stroke-linejoin:miter;stroke-width:0.5;\"/>\n   </g>\n   <g id=\"patch_7\">\n    <path clip-path=\"url(#pd693dd2769)\" d=\"M 123.97534 49.25463 \nL 147.157276 49.25463 \nL 147.157276 71.462867 \nL 123.97534 71.462867 \nz\n\" style=\"fill:none;stroke:#ff0000;stroke-linejoin:miter;stroke-width:0.5;\"/>\n   </g>\n   <g id=\"matplotlib.axis_1\">\n    <g id=\"xtick_1\">\n     <g id=\"line2d_1\">\n      <defs>\n       <path d=\"M 0 0 \nL 0 3.5 \n\" id=\"m451bdd08f2\" style=\"stroke:#000000;stroke-width:0.8;\"/>\n      </defs>\n      <g>\n       <use style=\"stroke:#000000;stroke-width:0.8;\" x=\"29.0994\" xlink:href=\"#m451bdd08f2\" y=\"226.264819\"/>\n      </g>\n     </g>\n     <g id=\"text_1\">\n      <!-- 0 -->\n      <g transform=\"translate(25.91815 240.863256)scale(0.1 -0.1)\">\n       <defs>\n        <path d=\"M 31.78125 66.40625 \nQ 24.171875 66.40625 20.328125 58.90625 \nQ 16.5 51.421875 16.5 36.375 \nQ 16.5 21.390625 20.328125 13.890625 \nQ 24.171875 6.390625 31.78125 6.390625 \nQ 39.453125 6.390625 43.28125 13.890625 \nQ 47.125 21.390625 47.125 36.375 \nQ 47.125 51.421875 43.28125 58.90625 \nQ 39.453125 66.40625 31.78125 66.40625 \nz\nM 31.78125 74.21875 \nQ 44.046875 74.21875 50.515625 64.515625 \nQ 56.984375 54.828125 56.984375 36.375 \nQ 56.984375 17.96875 50.515625 8.265625 \nQ 44.046875 -1.421875 31.78125 -1.421875 \nQ 19.53125 -1.421875 13.0625 8.265625 \nQ 6.59375 17.96875 6.59375 36.375 \nQ 6.59375 54.828125 13.0625 64.515625 \nQ 19.53125 74.21875 31.78125 74.21875 \nz\n\" id=\"DejaVuSans-48\"/>\n       </defs>\n       <use xlink:href=\"#DejaVuSans-48\"/>\n      </g>\n     </g>\n    </g>\n    <g id=\"xtick_2\">\n     <g id=\"line2d_2\">\n      <g>\n       <use style=\"stroke:#000000;stroke-width:0.8;\" x=\"72.5874\" xlink:href=\"#m451bdd08f2\" y=\"226.264819\"/>\n      </g>\n     </g>\n     <g id=\"text_2\">\n      <!-- 10 -->\n      <g transform=\"translate(66.2249 240.863256)scale(0.1 -0.1)\">\n       <defs>\n        <path d=\"M 12.40625 8.296875 \nL 28.515625 8.296875 \nL 28.515625 63.921875 \nL 10.984375 60.40625 \nL 10.984375 69.390625 \nL 28.421875 72.90625 \nL 38.28125 72.90625 \nL 38.28125 8.296875 \nL 54.390625 8.296875 \nL 54.390625 0 \nL 12.40625 0 \nz\n\" id=\"DejaVuSans-49\"/>\n       </defs>\n       <use xlink:href=\"#DejaVuSans-49\"/>\n       <use x=\"63.623047\" xlink:href=\"#DejaVuSans-48\"/>\n      </g>\n     </g>\n    </g>\n    <g id=\"xtick_3\">\n     <g id=\"line2d_3\">\n      <g>\n       <use style=\"stroke:#000000;stroke-width:0.8;\" x=\"116.0754\" xlink:href=\"#m451bdd08f2\" y=\"226.264819\"/>\n      </g>\n     </g>\n     <g id=\"text_3\">\n      <!-- 20 -->\n      <g transform=\"translate(109.7129 240.863256)scale(0.1 -0.1)\">\n       <defs>\n        <path d=\"M 19.1875 8.296875 \nL 53.609375 8.296875 \nL 53.609375 0 \nL 7.328125 0 \nL 7.328125 8.296875 \nQ 12.9375 14.109375 22.625 23.890625 \nQ 32.328125 33.6875 34.8125 36.53125 \nQ 39.546875 41.84375 41.421875 45.53125 \nQ 43.3125 49.21875 43.3125 52.78125 \nQ 43.3125 58.59375 39.234375 62.25 \nQ 35.15625 65.921875 28.609375 65.921875 \nQ 23.96875 65.921875 18.8125 64.3125 \nQ 13.671875 62.703125 7.8125 59.421875 \nL 7.8125 69.390625 \nQ 13.765625 71.78125 18.9375 73 \nQ 24.125 74.21875 28.421875 74.21875 \nQ 39.75 74.21875 46.484375 68.546875 \nQ 53.21875 62.890625 53.21875 53.421875 \nQ 53.21875 48.921875 51.53125 44.890625 \nQ 49.859375 40.875 45.40625 35.40625 \nQ 44.1875 33.984375 37.640625 27.21875 \nQ 31.109375 20.453125 19.1875 8.296875 \nz\n\" id=\"DejaVuSans-50\"/>\n       </defs>\n       <use xlink:href=\"#DejaVuSans-50\"/>\n       <use x=\"63.623047\" xlink:href=\"#DejaVuSans-48\"/>\n      </g>\n     </g>\n    </g>\n    <g id=\"xtick_4\">\n     <g id=\"line2d_4\">\n      <g>\n       <use style=\"stroke:#000000;stroke-width:0.8;\" x=\"159.5634\" xlink:href=\"#m451bdd08f2\" y=\"226.264819\"/>\n      </g>\n     </g>\n     <g id=\"text_4\">\n      <!-- 30 -->\n      <g transform=\"translate(153.2009 240.863256)scale(0.1 -0.1)\">\n       <defs>\n        <path d=\"M 40.578125 39.3125 \nQ 47.65625 37.796875 51.625 33 \nQ 55.609375 28.21875 55.609375 21.1875 \nQ 55.609375 10.40625 48.1875 4.484375 \nQ 40.765625 -1.421875 27.09375 -1.421875 \nQ 22.515625 -1.421875 17.65625 -0.515625 \nQ 12.796875 0.390625 7.625 2.203125 \nL 7.625 11.71875 \nQ 11.71875 9.328125 16.59375 8.109375 \nQ 21.484375 6.890625 26.8125 6.890625 \nQ 36.078125 6.890625 40.9375 10.546875 \nQ 45.796875 14.203125 45.796875 21.1875 \nQ 45.796875 27.640625 41.28125 31.265625 \nQ 36.765625 34.90625 28.71875 34.90625 \nL 20.21875 34.90625 \nL 20.21875 43.015625 \nL 29.109375 43.015625 \nQ 36.375 43.015625 40.234375 45.921875 \nQ 44.09375 48.828125 44.09375 54.296875 \nQ 44.09375 59.90625 40.109375 62.90625 \nQ 36.140625 65.921875 28.71875 65.921875 \nQ 24.65625 65.921875 20.015625 65.03125 \nQ 15.375 64.15625 9.8125 62.3125 \nL 9.8125 71.09375 \nQ 15.4375 72.65625 20.34375 73.4375 \nQ 25.25 74.21875 29.59375 74.21875 \nQ 40.828125 74.21875 47.359375 69.109375 \nQ 53.90625 64.015625 53.90625 55.328125 \nQ 53.90625 49.265625 50.4375 45.09375 \nQ 46.96875 40.921875 40.578125 39.3125 \nz\n\" id=\"DejaVuSans-51\"/>\n       </defs>\n       <use xlink:href=\"#DejaVuSans-51\"/>\n       <use x=\"63.623047\" xlink:href=\"#DejaVuSans-48\"/>\n      </g>\n     </g>\n    </g>\n    <g id=\"xtick_5\">\n     <g id=\"line2d_5\">\n      <g>\n       <use style=\"stroke:#000000;stroke-width:0.8;\" x=\"203.0514\" xlink:href=\"#m451bdd08f2\" y=\"226.264819\"/>\n      </g>\n     </g>\n     <g id=\"text_5\">\n      <!-- 40 -->\n      <g transform=\"translate(196.6889 240.863256)scale(0.1 -0.1)\">\n       <defs>\n        <path d=\"M 37.796875 64.3125 \nL 12.890625 25.390625 \nL 37.796875 25.390625 \nz\nM 35.203125 72.90625 \nL 47.609375 72.90625 \nL 47.609375 25.390625 \nL 58.015625 25.390625 \nL 58.015625 17.1875 \nL 47.609375 17.1875 \nL 47.609375 0 \nL 37.796875 0 \nL 37.796875 17.1875 \nL 4.890625 17.1875 \nL 4.890625 26.703125 \nz\n\" id=\"DejaVuSans-52\"/>\n       </defs>\n       <use xlink:href=\"#DejaVuSans-52\"/>\n       <use x=\"63.623047\" xlink:href=\"#DejaVuSans-48\"/>\n      </g>\n     </g>\n    </g>\n   </g>\n   <g id=\"matplotlib.axis_2\">\n    <g id=\"ytick_1\">\n     <g id=\"line2d_6\">\n      <defs>\n       <path d=\"M 0 0 \nL -3.5 0 \n\" id=\"me977c56748\" style=\"stroke:#000000;stroke-width:0.8;\"/>\n      </defs>\n      <g>\n       <use style=\"stroke:#000000;stroke-width:0.8;\" x=\"26.925\" xlink:href=\"#me977c56748\" y=\"10.999219\"/>\n      </g>\n     </g>\n     <g id=\"text_6\">\n      <!-- 0 -->\n      <g transform=\"translate(13.5625 14.798437)scale(0.1 -0.1)\">\n       <use xlink:href=\"#DejaVuSans-48\"/>\n      </g>\n     </g>\n    </g>\n    <g id=\"ytick_2\">\n     <g id=\"line2d_7\">\n      <g>\n       <use style=\"stroke:#000000;stroke-width:0.8;\" x=\"26.925\" xlink:href=\"#me977c56748\" y=\"54.487219\"/>\n      </g>\n     </g>\n     <g id=\"text_7\">\n      <!-- 10 -->\n      <g transform=\"translate(7.2 58.286437)scale(0.1 -0.1)\">\n       <use xlink:href=\"#DejaVuSans-49\"/>\n       <use x=\"63.623047\" xlink:href=\"#DejaVuSans-48\"/>\n      </g>\n     </g>\n    </g>\n    <g id=\"ytick_3\">\n     <g id=\"line2d_8\">\n      <g>\n       <use style=\"stroke:#000000;stroke-width:0.8;\" x=\"26.925\" xlink:href=\"#me977c56748\" y=\"97.975219\"/>\n      </g>\n     </g>\n     <g id=\"text_8\">\n      <!-- 20 -->\n      <g transform=\"translate(7.2 101.774437)scale(0.1 -0.1)\">\n       <use xlink:href=\"#DejaVuSans-50\"/>\n       <use x=\"63.623047\" xlink:href=\"#DejaVuSans-48\"/>\n      </g>\n     </g>\n    </g>\n    <g id=\"ytick_4\">\n     <g id=\"line2d_9\">\n      <g>\n       <use style=\"stroke:#000000;stroke-width:0.8;\" x=\"26.925\" xlink:href=\"#me977c56748\" y=\"141.463219\"/>\n      </g>\n     </g>\n     <g id=\"text_9\">\n      <!-- 30 -->\n      <g transform=\"translate(7.2 145.262437)scale(0.1 -0.1)\">\n       <use xlink:href=\"#DejaVuSans-51\"/>\n       <use x=\"63.623047\" xlink:href=\"#DejaVuSans-48\"/>\n      </g>\n     </g>\n    </g>\n    <g id=\"ytick_5\">\n     <g id=\"line2d_10\">\n      <g>\n       <use style=\"stroke:#000000;stroke-width:0.8;\" x=\"26.925\" xlink:href=\"#me977c56748\" y=\"184.951219\"/>\n      </g>\n     </g>\n     <g id=\"text_10\">\n      <!-- 40 -->\n      <g transform=\"translate(7.2 188.750437)scale(0.1 -0.1)\">\n       <use xlink:href=\"#DejaVuSans-52\"/>\n       <use x=\"63.623047\" xlink:href=\"#DejaVuSans-48\"/>\n      </g>\n     </g>\n    </g>\n   </g>\n   <g id=\"patch_8\">\n    <path d=\"M 26.925 226.264819 \nL 26.925 8.824819 \n\" style=\"fill:none;stroke:#000000;stroke-linecap:square;stroke-linejoin:miter;stroke-width:0.8;\"/>\n   </g>\n   <g id=\"patch_9\">\n    <path d=\"M 244.365 226.264819 \nL 244.365 8.824819 \n\" style=\"fill:none;stroke:#000000;stroke-linecap:square;stroke-linejoin:miter;stroke-width:0.8;\"/>\n   </g>\n   <g id=\"patch_10\">\n    <path d=\"M 26.925 226.264819 \nL 244.365 226.264819 \n\" style=\"fill:none;stroke:#000000;stroke-linecap:square;stroke-linejoin:miter;stroke-width:0.8;\"/>\n   </g>\n   <g id=\"patch_11\">\n    <path d=\"M 26.925 8.824819 \nL 244.365 8.824819 \n\" style=\"fill:none;stroke:#000000;stroke-linecap:square;stroke-linejoin:miter;stroke-width:0.8;\"/>\n   </g>\n  </g>\n </g>\n <defs>\n  <clipPath id=\"pd693dd2769\">\n   <rect height=\"217.44\" width=\"217.44\" x=\"26.925\" y=\"8.824819\"/>\n  </clipPath>\n </defs>\n</svg>\n",
            "image/png": "[encoded data removed]"
          },
          "metadata": {
            "needs_background": "light"
          }
        }
      ],
      "metadata": {}
    },
    {
      "cell_type": "code",
      "execution_count": 38,
      "source": [
        "from src.train import *\n",
        "\n",
        "val_patch_list = None\n",
        "train_frcnn(rpn_model, detector_model, total_model, ['384_16526_16879_50'], val_patch_list, ska_dataset.class_list, num_epochs=100, patches_folder_path=config.TRAIN_PATCHES_FOLDER, backbone=backbone, resume_train=False)\n",
        "# train_frcnn(rpn_model, detector_model, total_model, ska_dataset.train_patch_list, val_patch_list, ska_dataset.class_list, num_epochs=1, patches_folder_path=config.TRAIN_PATCHES_FOLDER, backbone=backbone, resume_train=True)"
      ],
      "outputs": [
        {
          "output_type": "stream",
          "name": "stderr",
          "text": [
            "100%|██████████| 3/3 [00:07<00:00,  2.55s/it]\n",
            "100%|██████████| 5/5 [00:00<00:00, 15152.83it/s]\n"
          ]
        },
        {
          "output_type": "stream",
          "name": "stdout",
          "text": [
            "Starting rpn model training on patch 384_16526_16879_50\n",
            "Best IoU found in this run: 0.8556149709742915\n",
            "Selected pos samples: 6\n",
            "Selected neg samples: 2\n",
            "Starting detector model training on batch\n",
            "1/1 [==============================] - 9s 9s/step - rpn_cls: 1.0566 - rpn_regr: 0.3545 - detector_cls: 3.0221 - detector_regr: 20267.1230 - average number of objects: 6.0000\n",
            "Mean number of bounding boxes from RPN overlapping ground truth boxes: 7.0\n",
            "Classifier accuracy for bounding boxes from RPN: 0.25\n",
            "Loss RPN classifier: 1.0565687417984009\n",
            "Loss RPN regression: 0.35450369119644165\n",
            "Loss Detector classifier: 3.022142171859741\n",
            "Loss Detector regression: 20267.123046875\n",
            "Total loss: 20271.556261479855, wrt best loss: 2.2505406700074673 \n",
            "Elapsed time: 8.593444108963013\n"
          ]
        },
        {
          "output_type": "stream",
          "name": "stderr",
          "text": [
            "  0%|          | 0/3 [00:00<?, ?it/s]"
          ]
        },
        {
          "output_type": "stream",
          "name": "stdout",
          "text": [
            "Epoch 79/100\n",
            "Average number of overlapping bounding boxes from RPN = 7.0 for 1 previous iterations\n",
            "(150, 150)\n"
          ]
        },
        {
          "output_type": "stream",
          "name": "stderr",
          "text": [
            "100%|██████████| 3/3 [00:08<00:00,  2.69s/it]\n",
            "100%|██████████| 5/5 [00:00<00:00, 7634.34it/s]\n"
          ]
        },
        {
          "output_type": "stream",
          "name": "stdout",
          "text": [
            "Starting rpn model training on patch 384_16526_16879_50\n",
            "Best IoU found in this run: 0.8983957195230061\n",
            "Selected pos samples: 6\n",
            "Selected neg samples: 2\n",
            "Starting detector model training on batch\n",
            "1/1 [==============================] - 9s 9s/step - rpn_cls: 1.0742 - rpn_regr: 0.3273 - detector_cls: 3.0221 - detector_regr: 4638.4922 - average number of objects: 6.0000\n",
            "Mean number of bounding boxes from RPN overlapping ground truth boxes: 10.0\n",
            "Classifier accuracy for bounding boxes from RPN: 0.25\n",
            "Loss RPN classifier: 1.0741835832595825\n",
            "Loss RPN regression: 0.32728663086891174\n",
            "Loss Detector classifier: 3.022142171859741\n",
            "Loss Detector regression: 4638.4921875\n",
            "Total loss: 4642.915799885988, wrt best loss: 2.2505406700074673 \n",
            "Elapsed time: 9.02834701538086\n"
          ]
        },
        {
          "output_type": "stream",
          "name": "stderr",
          "text": [
            "  0%|          | 0/3 [00:00<?, ?it/s]"
          ]
        },
        {
          "output_type": "stream",
          "name": "stdout",
          "text": [
            "Epoch 80/100\n",
            "Average number of overlapping bounding boxes from RPN = 10.0 for 1 previous iterations\n",
            "(150, 150)\n"
          ]
        },
        {
          "output_type": "stream",
          "name": "stderr",
          "text": [
            "100%|██████████| 3/3 [00:07<00:00,  2.51s/it]\n",
            "100%|██████████| 5/5 [00:00<00:00, 23831.27it/s]\n"
          ]
        },
        {
          "output_type": "stream",
          "name": "stdout",
          "text": [
            "Starting rpn model training on patch 384_16526_16879_50\n",
            "Best IoU found in this run: 0.7797029683670719\n",
            "Selected pos samples: 6\n",
            "Selected neg samples: 2\n",
            "Starting detector model training on batch\n",
            "1/1 [==============================] - 8s 8s/step - rpn_cls: 1.2342 - rpn_regr: 0.3129 - detector_cls: 2.0498 - detector_regr: 1412.1765 - average number of objects: 6.0000\n",
            "Mean number of bounding boxes from RPN overlapping ground truth boxes: 7.0\n",
            "Classifier accuracy for bounding boxes from RPN: 0.375\n",
            "Loss RPN classifier: 1.2342116832733154\n",
            "Loss RPN regression: 0.31293410062789917\n",
            "Loss Detector classifier: 2.049755573272705\n",
            "Loss Detector regression: 1412.176513671875\n",
            "Total loss: 1415.773415029049, wrt best loss: 2.2505406700074673 \n",
            "Elapsed time: 8.348213911056519\n"
          ]
        },
        {
          "output_type": "stream",
          "name": "stderr",
          "text": [
            "  0%|          | 0/3 [00:00<?, ?it/s]"
          ]
        },
        {
          "output_type": "stream",
          "name": "stdout",
          "text": [
            "Epoch 81/100\n",
            "Average number of overlapping bounding boxes from RPN = 7.0 for 1 previous iterations\n",
            "(150, 150)\n"
          ]
        },
        {
          "output_type": "stream",
          "name": "stderr",
          "text": [
            "100%|██████████| 3/3 [00:07<00:00,  2.37s/it]\n",
            "100%|██████████| 5/5 [00:00<00:00, 35424.86it/s]\n"
          ]
        },
        {
          "output_type": "stream",
          "name": "stdout",
          "text": [
            "Starting rpn model training on patch 384_16526_16879_50\n",
            "Best IoU found in this run: 0.7797029683670719\n",
            "Selected pos samples: 6\n",
            "Selected neg samples: 2\n",
            "Starting detector model training on batch\n",
            "1/1 [==============================] - 8s 8s/step - rpn_cls: 1.1471 - rpn_regr: 0.4724 - detector_cls: 2.5191 - detector_regr: 404.0121 - average number of objects: 6.0000\n",
            "Mean number of bounding boxes from RPN overlapping ground truth boxes: 9.0\n",
            "Classifier accuracy for bounding boxes from RPN: 0.375\n",
            "Loss RPN classifier: 1.1471377611160278\n",
            "Loss RPN regression: 0.47240304946899414\n",
            "Loss Detector classifier: 2.5191380977630615\n",
            "Loss Detector regression: 404.0121154785156\n",
            "Total loss: 408.1507943868637, wrt best loss: 2.2505406700074673 \n",
            "Elapsed time: 7.928371906280518\n"
          ]
        },
        {
          "output_type": "stream",
          "name": "stderr",
          "text": [
            "  0%|          | 0/3 [00:00<?, ?it/s]"
          ]
        },
        {
          "output_type": "stream",
          "name": "stdout",
          "text": [
            "Epoch 82/100\n",
            "Average number of overlapping bounding boxes from RPN = 9.0 for 1 previous iterations\n",
            "(150, 150)\n"
          ]
        },
        {
          "output_type": "stream",
          "name": "stderr",
          "text": [
            "100%|██████████| 3/3 [00:07<00:00,  2.40s/it]\n",
            "100%|██████████| 5/5 [00:00<00:00, 11580.08it/s]\n"
          ]
        },
        {
          "output_type": "stream",
          "name": "stdout",
          "text": [
            "Starting rpn model training on patch 384_16526_16879_50\n",
            "Best IoU found in this run: 0.7499999531250029\n",
            "Selected pos samples: 6\n",
            "Selected neg samples: 2\n",
            "Starting detector model training on batch\n",
            "1/1 [==============================] - 8s 8s/step - rpn_cls: 0.9453 - rpn_regr: 0.4184 - detector_cls: 2.5185 - detector_regr: 437.7068 - average number of objects: 6.0000\n",
            "Mean number of bounding boxes from RPN overlapping ground truth boxes: 10.0\n",
            "Classifier accuracy for bounding boxes from RPN: 0.375\n",
            "Loss RPN classifier: 0.9453357458114624\n",
            "Loss RPN regression: 0.4184125065803528\n",
            "Loss Detector classifier: 2.518451690673828\n",
            "Loss Detector regression: 437.706787109375\n",
            "Total loss: 441.58898705244064, wrt best loss: 2.2505406700074673 \n",
            "Elapsed time: 8.0085129737854\n"
          ]
        },
        {
          "output_type": "stream",
          "name": "stderr",
          "text": [
            "  0%|          | 0/3 [00:00<?, ?it/s]"
          ]
        },
        {
          "output_type": "stream",
          "name": "stdout",
          "text": [
            "Epoch 83/100\n",
            "Average number of overlapping bounding boxes from RPN = 10.0 for 1 previous iterations\n",
            "(150, 150)\n"
          ]
        },
        {
          "output_type": "stream",
          "name": "stderr",
          "text": [
            "100%|██████████| 3/3 [00:07<00:00,  2.33s/it]\n",
            "100%|██████████| 5/5 [00:00<00:00, 10039.02it/s]\n"
          ]
        },
        {
          "output_type": "stream",
          "name": "stdout",
          "text": [
            "Starting rpn model training on patch 384_16526_16879_50\n",
            "Best IoU found in this run: 0.8615384593293886\n",
            "Selected pos samples: 6\n",
            "Selected neg samples: 2\n",
            "Starting detector model training on batch\n",
            "1/1 [==============================] - 8s 8s/step - rpn_cls: 1.1690 - rpn_regr: 0.2936 - detector_cls: 0.0267 - detector_regr: 0.5755 - average number of objects: 6.0000\n",
            "Mean number of bounding boxes from RPN overlapping ground truth boxes: 7.0\n",
            "Classifier accuracy for bounding boxes from RPN: 0.875\n",
            "Loss RPN classifier: 1.1689693927764893\n",
            "Loss RPN regression: 0.2935832440853119\n",
            "Loss Detector classifier: 0.026718653738498688\n",
            "Loss Detector regression: 0.5754724740982056\n",
            "Total loss: 2.0647437646985054, wrt best loss: 2.2505406700074673 \n",
            "Elapsed time: 7.830242156982422\n",
            "Total loss decreased from 2.2505406700074673 to 2.0647437646985054, saving weights\n"
          ]
        },
        {
          "output_type": "stream",
          "name": "stderr",
          "text": [
            "  0%|          | 0/3 [00:00<?, ?it/s]"
          ]
        },
        {
          "output_type": "stream",
          "name": "stdout",
          "text": [
            "Epoch 84/100\n",
            "Average number of overlapping bounding boxes from RPN = 7.0 for 1 previous iterations\n",
            "(150, 150)\n"
          ]
        },
        {
          "output_type": "stream",
          "name": "stderr",
          "text": [
            "100%|██████████| 3/3 [00:07<00:00,  2.35s/it]\n",
            "100%|██████████| 5/5 [00:00<00:00, 16181.73it/s]\n"
          ]
        },
        {
          "output_type": "stream",
          "name": "stdout",
          "text": [
            "Starting rpn model training on patch 384_16526_16879_50\n",
            "Best IoU found in this run: 0.827586204858162\n",
            "Selected pos samples: 3\n",
            "Selected neg samples: 5\n",
            "Starting detector model training on batch\n",
            "1/1 [==============================] - 8s 8s/step - rpn_cls: 1.6242 - rpn_regr: 0.4461 - detector_cls: 0.0301 - detector_regr: 0.1846 - average number of objects: 3.0000\n",
            "Mean number of bounding boxes from RPN overlapping ground truth boxes: 3.0\n",
            "Classifier accuracy for bounding boxes from RPN: 0.625\n",
            "Loss RPN classifier: 1.6241908073425293\n",
            "Loss RPN regression: 0.44605785608291626\n",
            "Loss Detector classifier: 0.030065137892961502\n",
            "Loss Detector regression: 0.18455125391483307\n",
            "Total loss: 2.28486505523324, wrt best loss: 2.0647437646985054 \n",
            "Elapsed time: 8.177168846130371\n"
          ]
        },
        {
          "output_type": "stream",
          "name": "stderr",
          "text": [
            "  0%|          | 0/3 [00:00<?, ?it/s]"
          ]
        },
        {
          "output_type": "stream",
          "name": "stdout",
          "text": [
            "Epoch 85/100\n",
            "Average number of overlapping bounding boxes from RPN = 3.0 for 1 previous iterations\n",
            "(150, 150)\n"
          ]
        },
        {
          "output_type": "stream",
          "name": "stderr",
          "text": [
            "100%|██████████| 3/3 [00:07<00:00,  2.37s/it]\n",
            "100%|██████████| 5/5 [00:00<00:00, 25637.56it/s]\n"
          ]
        },
        {
          "output_type": "stream",
          "name": "stdout",
          "text": [
            "Starting rpn model training on patch 384_16526_16879_50\n",
            "Best IoU found in this run: 0.7499999531250029\n",
            "Selected pos samples: 5\n",
            "Selected neg samples: 3\n",
            "Starting detector model training on batch\n",
            "1/1 [==============================] - 8s 8s/step - rpn_cls: 1.2016 - rpn_regr: 0.3136 - detector_cls: 2.5185 - detector_regr: 384.4109 - average number of objects: 5.0000\n",
            "Mean number of bounding boxes from RPN overlapping ground truth boxes: 5.0\n",
            "Classifier accuracy for bounding boxes from RPN: 0.375\n",
            "Loss RPN classifier: 1.201562762260437\n",
            "Loss RPN regression: 0.31363505125045776\n",
            "Loss Detector classifier: 2.518451690673828\n",
            "Loss Detector regression: 384.41094970703125\n",
            "Total loss: 388.444599211216, wrt best loss: 2.0647437646985054 \n",
            "Elapsed time: 7.937881231307983\n"
          ]
        },
        {
          "output_type": "stream",
          "name": "stderr",
          "text": [
            "  0%|          | 0/3 [00:00<?, ?it/s]"
          ]
        },
        {
          "output_type": "stream",
          "name": "stdout",
          "text": [
            "Epoch 86/100\n",
            "Average number of overlapping bounding boxes from RPN = 5.0 for 1 previous iterations\n",
            "(150, 150)\n"
          ]
        },
        {
          "output_type": "stream",
          "name": "stderr",
          "text": [
            "100%|██████████| 3/3 [00:07<00:00,  2.34s/it]\n",
            "100%|██████████| 5/5 [00:00<00:00, 36220.24it/s]\n"
          ]
        },
        {
          "output_type": "stream",
          "name": "stdout",
          "text": [
            "Starting rpn model training on patch 384_16526_16879_50\n",
            "Best IoU found in this run: 0.7499999531250029\n",
            "Selected pos samples: 3\n",
            "Selected neg samples: 5\n",
            "Starting detector model training on batch\n",
            "1/1 [==============================] - 8s 8s/step - rpn_cls: 1.1405 - rpn_regr: 0.3263 - detector_cls: 1.5111 - detector_regr: 362.2349 - average number of objects: 3.0000\n",
            "Mean number of bounding boxes from RPN overlapping ground truth boxes: 3.0\n",
            "Classifier accuracy for bounding boxes from RPN: 0.625\n",
            "Loss RPN classifier: 1.140524983406067\n",
            "Loss RPN regression: 0.3262942433357239\n",
            "Loss Detector classifier: 1.5110710859298706\n",
            "Loss Detector regression: 362.23486328125\n",
            "Total loss: 365.21275359392166, wrt best loss: 2.0647437646985054 \n",
            "Elapsed time: 7.843352794647217\n"
          ]
        },
        {
          "output_type": "stream",
          "name": "stderr",
          "text": [
            "  0%|          | 0/3 [00:00<?, ?it/s]"
          ]
        },
        {
          "output_type": "stream",
          "name": "stdout",
          "text": [
            "Epoch 87/100\n",
            "Average number of overlapping bounding boxes from RPN = 3.0 for 1 previous iterations\n",
            "(150, 150)\n"
          ]
        },
        {
          "output_type": "stream",
          "name": "stderr",
          "text": [
            "100%|██████████| 3/3 [00:07<00:00,  2.36s/it]\n",
            "100%|██████████| 5/5 [00:00<00:00, 37923.18it/s]\n"
          ]
        },
        {
          "output_type": "stream",
          "name": "stdout",
          "text": [
            "Starting rpn model training on patch 384_16526_16879_50\n",
            "Best IoU found in this run: 0.7499999531250029\n",
            "Selected pos samples: 4\n",
            "Selected neg samples: 4\n",
            "Starting detector model training on batch\n",
            "1/1 [==============================] - 8s 8s/step - rpn_cls: 1.2219 - rpn_regr: 0.3531 - detector_cls: 1.5223 - detector_regr: 4215.3682 - average number of objects: 4.0000\n",
            "Mean number of bounding boxes from RPN overlapping ground truth boxes: 4.0\n",
            "Classifier accuracy for bounding boxes from RPN: 0.5\n",
            "Loss RPN classifier: 1.2218928337097168\n",
            "Loss RPN regression: 0.35310864448547363\n",
            "Loss Detector classifier: 1.5222902297973633\n",
            "Loss Detector regression: 4215.3681640625\n",
            "Total loss: 4218.465455770493, wrt best loss: 2.0647437646985054 \n",
            "Elapsed time: 7.870638847351074\n"
          ]
        },
        {
          "output_type": "stream",
          "name": "stderr",
          "text": [
            "  0%|          | 0/3 [00:00<?, ?it/s]"
          ]
        },
        {
          "output_type": "stream",
          "name": "stdout",
          "text": [
            "Epoch 88/100\n",
            "Average number of overlapping bounding boxes from RPN = 4.0 for 1 previous iterations\n",
            "(150, 150)\n"
          ]
        },
        {
          "output_type": "stream",
          "name": "stderr",
          "text": [
            "100%|██████████| 3/3 [00:07<00:00,  2.38s/it]\n",
            "100%|██████████| 5/5 [00:00<00:00, 22944.77it/s]\n"
          ]
        },
        {
          "output_type": "stream",
          "name": "stdout",
          "text": [
            "Starting rpn model training on patch 384_16526_16879_50\n",
            "Best IoU found in this run: 0.7533632270103964\n",
            "Selected pos samples: 5\n",
            "Selected neg samples: 3\n",
            "Starting detector model training on batch\n",
            "1/1 [==============================] - 8s 8s/step - rpn_cls: 1.4978 - rpn_regr: 0.4159 - detector_cls: 2.5185 - detector_regr: 9718.9453 - average number of objects: 5.0000\n",
            "Mean number of bounding boxes from RPN overlapping ground truth boxes: 5.0\n",
            "Classifier accuracy for bounding boxes from RPN: 0.375\n",
            "Loss RPN classifier: 1.497771143913269\n",
            "Loss RPN regression: 0.4158914089202881\n",
            "Loss Detector classifier: 2.5184521675109863\n",
            "Loss Detector regression: 9718.9453125\n",
            "Total loss: 9723.377427220345, wrt best loss: 2.0647437646985054 \n",
            "Elapsed time: 7.97210693359375\n"
          ]
        },
        {
          "output_type": "stream",
          "name": "stderr",
          "text": [
            "  0%|          | 0/3 [00:00<?, ?it/s]"
          ]
        },
        {
          "output_type": "stream",
          "name": "stdout",
          "text": [
            "Epoch 89/100\n",
            "Average number of overlapping bounding boxes from RPN = 5.0 for 1 previous iterations\n",
            "(150, 150)\n"
          ]
        },
        {
          "output_type": "stream",
          "name": "stderr",
          "text": [
            "100%|██████████| 3/3 [00:07<00:00,  2.38s/it]\n",
            "100%|██████████| 5/5 [00:00<00:00, 46294.75it/s]\n"
          ]
        },
        {
          "output_type": "stream",
          "name": "stdout",
          "text": [
            "Starting rpn model training on patch 384_16526_16879_50\n",
            "Best IoU found in this run: 0.7785888058915115\n",
            "Selected pos samples: 6\n",
            "Selected neg samples: 2\n",
            "Starting detector model training on batch\n",
            "1/1 [==============================] - 8s 8s/step - rpn_cls: 0.7769 - rpn_regr: 0.3508 - detector_cls: 1.0079 - detector_regr: 6613.5010 - average number of objects: 6.0000\n",
            "Mean number of bounding boxes from RPN overlapping ground truth boxes: 8.0\n",
            "Classifier accuracy for bounding boxes from RPN: 0.75\n",
            "Loss RPN classifier: 0.7769330739974976\n",
            "Loss RPN regression: 0.35082554817199707\n",
            "Loss Detector classifier: 1.0078610181808472\n",
            "Loss Detector regression: 6613.5009765625\n",
            "Total loss: 6615.63659620285, wrt best loss: 2.0647437646985054 \n",
            "Elapsed time: 7.9510509967803955\n"
          ]
        },
        {
          "output_type": "stream",
          "name": "stderr",
          "text": [
            "  0%|          | 0/3 [00:00<?, ?it/s]"
          ]
        },
        {
          "output_type": "stream",
          "name": "stdout",
          "text": [
            "Epoch 90/100\n",
            "Average number of overlapping bounding boxes from RPN = 8.0 for 1 previous iterations\n",
            "(150, 150)\n"
          ]
        },
        {
          "output_type": "stream",
          "name": "stderr",
          "text": [
            "100%|██████████| 3/3 [00:07<00:00,  2.38s/it]\n",
            "100%|██████████| 5/5 [00:00<00:00, 11599.29it/s]\n"
          ]
        },
        {
          "output_type": "stream",
          "name": "stdout",
          "text": [
            "Starting rpn model training on patch 384_16526_16879_50\n",
            "Best IoU found in this run: 0.7499999531250029\n",
            "Selected pos samples: 6\n",
            "Selected neg samples: 2\n",
            "Starting detector model training on batch\n",
            "1/1 [==============================] - 8s 8s/step - rpn_cls: 0.9556 - rpn_regr: 0.3261 - detector_cls: 3.0221 - detector_regr: 609.8839 - average number of objects: 6.0000\n",
            "Mean number of bounding boxes from RPN overlapping ground truth boxes: 9.0\n",
            "Classifier accuracy for bounding boxes from RPN: 0.25\n",
            "Loss RPN classifier: 0.9555697441101074\n",
            "Loss RPN regression: 0.32612451910972595\n",
            "Loss Detector classifier: 3.022142171859741\n",
            "Loss Detector regression: 609.8839111328125\n",
            "Total loss: 614.1877475678921, wrt best loss: 2.0647437646985054 \n",
            "Elapsed time: 7.98938775062561\n"
          ]
        },
        {
          "output_type": "stream",
          "name": "stderr",
          "text": [
            "  0%|          | 0/3 [00:00<?, ?it/s]"
          ]
        },
        {
          "output_type": "stream",
          "name": "stdout",
          "text": [
            "Epoch 91/100\n",
            "Average number of overlapping bounding boxes from RPN = 9.0 for 1 previous iterations\n",
            "(150, 150)\n"
          ]
        },
        {
          "output_type": "stream",
          "name": "stderr",
          "text": [
            "100%|██████████| 3/3 [00:07<00:00,  2.35s/it]\n",
            "100%|██████████| 5/5 [00:00<00:00, 17246.32it/s]\n"
          ]
        },
        {
          "output_type": "stream",
          "name": "stdout",
          "text": [
            "Starting rpn model training on patch 384_16526_16879_50\n",
            "Best IoU found in this run: 0.7499999531250029\n",
            "Selected pos samples: 6\n",
            "Selected neg samples: 2\n",
            "Starting detector model training on batch\n",
            "1/1 [==============================] - 8s 8s/step - rpn_cls: 1.3740 - rpn_regr: 0.3505 - detector_cls: 0.1410 - detector_regr: 0.4572 - average number of objects: 6.0000\n",
            "Mean number of bounding boxes from RPN overlapping ground truth boxes: 8.0\n",
            "Classifier accuracy for bounding boxes from RPN: 0.5\n",
            "Loss RPN classifier: 1.3740441799163818\n",
            "Loss RPN regression: 0.350468248128891\n",
            "Loss Detector classifier: 0.1409570574760437\n",
            "Loss Detector regression: 0.45715096592903137\n",
            "Total loss: 2.322620451450348, wrt best loss: 2.0647437646985054 \n",
            "Elapsed time: 7.872330904006958\n"
          ]
        },
        {
          "output_type": "stream",
          "name": "stderr",
          "text": [
            "  0%|          | 0/3 [00:00<?, ?it/s]"
          ]
        },
        {
          "output_type": "stream",
          "name": "stdout",
          "text": [
            "Epoch 92/100\n",
            "Average number of overlapping bounding boxes from RPN = 8.0 for 1 previous iterations\n",
            "(150, 150)\n"
          ]
        },
        {
          "output_type": "stream",
          "name": "stderr",
          "text": [
            "100%|██████████| 3/3 [00:07<00:00,  2.34s/it]\n",
            "100%|██████████| 5/5 [00:00<00:00, 22721.04it/s]\n"
          ]
        },
        {
          "output_type": "stream",
          "name": "stdout",
          "text": [
            "Starting rpn model training on patch 384_16526_16879_50\n",
            "Best IoU found in this run: 0.7499999531250029\n",
            "Selected pos samples: 6\n",
            "Selected neg samples: 2\n",
            "Starting detector model training on batch\n",
            "1/1 [==============================] - 8s 8s/step - rpn_cls: 1.1928 - rpn_regr: 0.3972 - detector_cls: 2.6083 - detector_regr: 283.4461 - average number of objects: 6.0000\n",
            "Mean number of bounding boxes from RPN overlapping ground truth boxes: 7.0\n",
            "Classifier accuracy for bounding boxes from RPN: 0.25\n",
            "Loss RPN classifier: 1.1927924156188965\n",
            "Loss RPN regression: 0.39724496006965637\n",
            "Loss Detector classifier: 2.608304500579834\n",
            "Loss Detector regression: 283.44610595703125\n",
            "Total loss: 287.64444783329964, wrt best loss: 2.0647437646985054 \n",
            "Elapsed time: 7.8341710567474365\n"
          ]
        },
        {
          "output_type": "stream",
          "name": "stderr",
          "text": [
            "  0%|          | 0/3 [00:00<?, ?it/s]"
          ]
        },
        {
          "output_type": "stream",
          "name": "stdout",
          "text": [
            "Epoch 93/100\n",
            "Average number of overlapping bounding boxes from RPN = 7.0 for 1 previous iterations\n",
            "(150, 150)\n"
          ]
        },
        {
          "output_type": "stream",
          "name": "stderr",
          "text": [
            "100%|██████████| 3/3 [00:07<00:00,  2.66s/it]\n",
            "100%|██████████| 5/5 [00:00<00:00, 15022.58it/s]\n"
          ]
        },
        {
          "output_type": "stream",
          "name": "stdout",
          "text": [
            "Starting rpn model training on patch 384_16526_16879_50\n",
            "Best IoU found in this run: 0.7499999531250029\n",
            "Selected pos samples: 6\n",
            "Selected neg samples: 2\n",
            "Starting detector model training on batch\n",
            "1/1 [==============================] - 9s 9s/step - rpn_cls: 1.3710 - rpn_regr: 0.3929 - detector_cls: 0.0321 - detector_regr: 0.3563 - average number of objects: 6.0000\n",
            "Mean number of bounding boxes from RPN overlapping ground truth boxes: 7.0\n",
            "Classifier accuracy for bounding boxes from RPN: 0.75\n",
            "Loss RPN classifier: 1.371010422706604\n",
            "Loss RPN regression: 0.39292290806770325\n",
            "Loss Detector classifier: 0.03214740753173828\n",
            "Loss Detector regression: 0.3563462495803833\n",
            "Total loss: 2.152426987886429, wrt best loss: 2.0647437646985054 \n",
            "Elapsed time: 8.937062978744507\n"
          ]
        },
        {
          "output_type": "stream",
          "name": "stderr",
          "text": [
            "  0%|          | 0/3 [00:00<?, ?it/s]"
          ]
        },
        {
          "output_type": "stream",
          "name": "stdout",
          "text": [
            "Epoch 94/100\n",
            "Average number of overlapping bounding boxes from RPN = 7.0 for 1 previous iterations\n",
            "(150, 150)\n"
          ]
        },
        {
          "output_type": "stream",
          "name": "stderr",
          "text": [
            "100%|██████████| 3/3 [00:08<00:00,  2.79s/it]\n",
            "100%|██████████| 5/5 [00:00<00:00, 28886.39it/s]\n"
          ]
        },
        {
          "output_type": "stream",
          "name": "stdout",
          "text": [
            "Starting rpn model training on patch 384_16526_16879_50\n",
            "Best IoU found in this run: 0.7499999531250029\n",
            "Selected pos samples: 6\n",
            "Selected neg samples: 2\n",
            "Starting detector model training on batch\n",
            "1/1 [==============================] - 9s 9s/step - rpn_cls: 1.0083 - rpn_regr: 0.3283 - detector_cls: 3.0221 - detector_regr: 1022.7810 - average number of objects: 6.0000\n",
            "Mean number of bounding boxes from RPN overlapping ground truth boxes: 7.0\n",
            "Classifier accuracy for bounding boxes from RPN: 0.25\n",
            "Loss RPN classifier: 1.0082972049713135\n",
            "Loss RPN regression: 0.32832297682762146\n",
            "Loss Detector classifier: 3.022142171859741\n",
            "Loss Detector regression: 1022.781005859375\n",
            "Total loss: 1027.1397682130337, wrt best loss: 2.0647437646985054 \n",
            "Elapsed time: 9.304800987243652\n"
          ]
        },
        {
          "output_type": "stream",
          "name": "stderr",
          "text": [
            "  0%|          | 0/3 [00:00<?, ?it/s]"
          ]
        },
        {
          "output_type": "stream",
          "name": "stdout",
          "text": [
            "Epoch 95/100\n",
            "Average number of overlapping bounding boxes from RPN = 7.0 for 1 previous iterations\n",
            "(150, 150)\n"
          ]
        },
        {
          "output_type": "stream",
          "name": "stderr",
          "text": [
            "100%|██████████| 3/3 [00:07<00:00,  2.36s/it]\n",
            "100%|██████████| 5/5 [00:00<00:00, 12826.62it/s]\n"
          ]
        },
        {
          "output_type": "stream",
          "name": "stdout",
          "text": [
            "Starting rpn model training on patch 384_16526_16879_50\n",
            "Best IoU found in this run: 0.9999999375000038\n",
            "Selected pos samples: 6\n",
            "Selected neg samples: 2\n",
            "Starting detector model training on batch\n",
            "1/1 [==============================] - 8s 8s/step - rpn_cls: 1.4319 - rpn_regr: 0.2305 - detector_cls: 0.0211 - detector_regr: 0.4775 - average number of objects: 6.0000\n",
            "Mean number of bounding boxes from RPN overlapping ground truth boxes: 7.0\n",
            "Classifier accuracy for bounding boxes from RPN: 0.875\n",
            "Loss RPN classifier: 1.4318788051605225\n",
            "Loss RPN regression: 0.23054121434688568\n",
            "Loss Detector classifier: 0.021138988435268402\n",
            "Loss Detector regression: 0.47754207253456116\n",
            "Total loss: 2.1611010804772377, wrt best loss: 2.0647437646985054 \n",
            "Elapsed time: 7.918328046798706\n"
          ]
        },
        {
          "output_type": "stream",
          "name": "stderr",
          "text": [
            "  0%|          | 0/3 [00:00<?, ?it/s]"
          ]
        },
        {
          "output_type": "stream",
          "name": "stdout",
          "text": [
            "Epoch 96/100\n",
            "Average number of overlapping bounding boxes from RPN = 7.0 for 1 previous iterations\n",
            "(150, 150)\n"
          ]
        },
        {
          "output_type": "stream",
          "name": "stderr",
          "text": [
            "100%|██████████| 3/3 [00:07<00:00,  2.34s/it]\n",
            "100%|██████████| 5/5 [00:00<00:00, 34778.64it/s]\n"
          ]
        },
        {
          "output_type": "stream",
          "name": "stdout",
          "text": [
            "Starting rpn model training on patch 384_16526_16879_50\n",
            "Best IoU found in this run: 0.9999999375000038\n",
            "Selected pos samples: 6\n",
            "Selected neg samples: 2\n",
            "Starting detector model training on batch\n",
            "1/1 [==============================] - 8s 8s/step - rpn_cls: 0.7445 - rpn_regr: 0.3229 - detector_cls: 0.0196 - detector_regr: 0.3317 - average number of objects: 6.0000\n",
            "Mean number of bounding boxes from RPN overlapping ground truth boxes: 10.0\n",
            "Classifier accuracy for bounding boxes from RPN: 0.75\n",
            "Loss RPN classifier: 0.7444730401039124\n",
            "Loss RPN regression: 0.322935551404953\n",
            "Loss Detector classifier: 0.019552377983927727\n",
            "Loss Detector regression: 0.331656813621521\n",
            "Total loss: 1.418617783114314, wrt best loss: 2.0647437646985054 \n",
            "Elapsed time: 7.876765251159668\n",
            "Total loss decreased from 2.0647437646985054 to 1.418617783114314, saving weights\n"
          ]
        },
        {
          "output_type": "stream",
          "name": "stderr",
          "text": [
            "  0%|          | 0/3 [00:00<?, ?it/s]"
          ]
        },
        {
          "output_type": "stream",
          "name": "stdout",
          "text": [
            "Epoch 97/100\n",
            "Average number of overlapping bounding boxes from RPN = 10.0 for 1 previous iterations\n",
            "(150, 150)\n"
          ]
        },
        {
          "output_type": "stream",
          "name": "stderr",
          "text": [
            "100%|██████████| 3/3 [00:07<00:00,  2.34s/it]\n",
            "100%|██████████| 5/5 [00:00<00:00, 33989.50it/s]\n"
          ]
        },
        {
          "output_type": "stream",
          "name": "stdout",
          "text": [
            "Starting rpn model training on patch 384_16526_16879_50\n",
            "Best IoU found in this run: 0.9999999375000038\n",
            "Selected pos samples: 6\n",
            "Selected neg samples: 2\n",
            "Starting detector model training on batch\n",
            "1/1 [==============================] - 8s 8s/step - rpn_cls: 1.3817 - rpn_regr: 0.3746 - detector_cls: 2.0404 - detector_regr: 378.5789 - average number of objects: 6.0000\n",
            "Mean number of bounding boxes from RPN overlapping ground truth boxes: 11.0\n",
            "Classifier accuracy for bounding boxes from RPN: 0.375\n",
            "Loss RPN classifier: 1.381657361984253\n",
            "Loss RPN regression: 0.3746204376220703\n",
            "Loss Detector classifier: 2.0403592586517334\n",
            "Loss Detector regression: 378.5789489746094\n",
            "Total loss: 382.37558603286743, wrt best loss: 1.418617783114314 \n",
            "Elapsed time: 7.863943099975586\n"
          ]
        },
        {
          "output_type": "stream",
          "name": "stderr",
          "text": [
            "  0%|          | 0/3 [00:00<?, ?it/s]"
          ]
        },
        {
          "output_type": "stream",
          "name": "stdout",
          "text": [
            "Epoch 98/100\n",
            "Average number of overlapping bounding boxes from RPN = 11.0 for 1 previous iterations\n",
            "(150, 150)\n"
          ]
        },
        {
          "output_type": "stream",
          "name": "stderr",
          "text": [
            "100%|██████████| 3/3 [00:07<00:00,  2.36s/it]\n",
            "100%|██████████| 5/5 [00:00<00:00, 28886.39it/s]\n"
          ]
        },
        {
          "output_type": "stream",
          "name": "stdout",
          "text": [
            "Starting rpn model training on patch 384_16526_16879_50\n",
            "Best IoU found in this run: 0.9999999375000038\n",
            "Selected pos samples: 6\n",
            "Selected neg samples: 2\n",
            "Starting detector model training on batch\n",
            "1/1 [==============================] - 8s 8s/step - rpn_cls: 1.2436 - rpn_regr: 0.3526 - detector_cls: 2.0148 - detector_regr: 520.9332 - average number of objects: 6.0000\n",
            "Mean number of bounding boxes from RPN overlapping ground truth boxes: 15.0\n",
            "Classifier accuracy for bounding boxes from RPN: 0.5\n",
            "Loss RPN classifier: 1.243598222732544\n",
            "Loss RPN regression: 0.35261109471321106\n",
            "Loss Detector classifier: 2.014761447906494\n",
            "Loss Detector regression: 520.9331665039062\n",
            "Total loss: 524.5441372692585, wrt best loss: 1.418617783114314 \n",
            "Elapsed time: 7.92964506149292\n"
          ]
        },
        {
          "output_type": "stream",
          "name": "stderr",
          "text": [
            "  0%|          | 0/3 [00:00<?, ?it/s]"
          ]
        },
        {
          "output_type": "stream",
          "name": "stdout",
          "text": [
            "Epoch 99/100\n",
            "Average number of overlapping bounding boxes from RPN = 15.0 for 1 previous iterations\n",
            "(150, 150)\n"
          ]
        },
        {
          "output_type": "stream",
          "name": "stderr",
          "text": [
            "100%|██████████| 3/3 [00:07<00:00,  2.50s/it]\n",
            "100%|██████████| 5/5 [00:00<00:00, 25795.23it/s]\n"
          ]
        },
        {
          "output_type": "stream",
          "name": "stdout",
          "text": [
            "Starting rpn model training on patch 384_16526_16879_50\n",
            "Best IoU found in this run: 0.9999999375000038\n",
            "Selected pos samples: 6\n",
            "Selected neg samples: 2\n",
            "Starting detector model training on batch\n",
            "1/1 [==============================] - 8s 8s/step - rpn_cls: 1.0526 - rpn_regr: 0.3585 - detector_cls: 0.0643 - detector_regr: 0.4388 - average number of objects: 6.0000\n",
            "Mean number of bounding boxes from RPN overlapping ground truth boxes: 14.0\n",
            "Classifier accuracy for bounding boxes from RPN: 0.75\n",
            "Loss RPN classifier: 1.0525538921356201\n",
            "Loss RPN regression: 0.358486533164978\n",
            "Loss Detector classifier: 0.06425084173679352\n",
            "Loss Detector regression: 0.438754677772522\n",
            "Total loss: 1.9140459448099136, wrt best loss: 1.418617783114314 \n",
            "Elapsed time: 8.368375062942505\n"
          ]
        },
        {
          "output_type": "stream",
          "name": "stderr",
          "text": [
            "  0%|          | 0/3 [00:00<?, ?it/s]"
          ]
        },
        {
          "output_type": "stream",
          "name": "stdout",
          "text": [
            "Epoch 100/100\n",
            "Average number of overlapping bounding boxes from RPN = 14.0 for 1 previous iterations\n",
            "(150, 150)\n"
          ]
        },
        {
          "output_type": "stream",
          "name": "stderr",
          "text": [
            "100%|██████████| 3/3 [00:07<00:00,  2.34s/it]\n",
            "100%|██████████| 5/5 [00:00<00:00, 34778.64it/s]\n"
          ]
        },
        {
          "output_type": "stream",
          "name": "stdout",
          "text": [
            "Starting rpn model training on patch 384_16526_16879_50\n",
            "Best IoU found in this run: 0.9999999375000038\n",
            "Selected pos samples: 6\n",
            "Selected neg samples: 2\n",
            "Starting detector model training on batch\n",
            "1/1 [==============================] - 8s 8s/step - rpn_cls: 0.9011 - rpn_regr: 0.3948 - detector_cls: 2.0148 - detector_regr: 467.7079 - average number of objects: 6.0000\n",
            "Mean number of bounding boxes from RPN overlapping ground truth boxes: 14.0\n",
            "Classifier accuracy for bounding boxes from RPN: 0.5\n",
            "Loss RPN classifier: 0.9010506868362427\n",
            "Loss RPN regression: 0.39484259486198425\n",
            "Loss Detector classifier: 2.014766216278076\n",
            "Loss Detector regression: 467.70794677734375\n",
            "Total loss: 471.01860627532005, wrt best loss: 1.418617783114314 \n",
            "Elapsed time: 7.856674909591675\n",
            "Training complete.\n"
          ]
        }
      ],
      "metadata": {}
    },
    {
      "cell_type": "markdown",
      "source": [
        "# Validation"
      ],
      "metadata": {}
    },
    {
      "cell_type": "code",
      "execution_count": 41,
      "source": [
        "rpn_model_eval, detector_model_eval, total_model_eval = models.get_eval_model(input_shape_1=input_shape_1, input_shape_2=input_shape_2, input_shape_fmap=None, anchor_num=config.anchor_num, pooling_regions=config.pooling_regions, num_rois=config.num_rois, num_classes=len(ska_dataset.class_list)+1, backbone=backbone, use_expander=False)\n",
        "\n",
        "rpn_model_eval.summary()\n",
        "detector_model_eval.summary()\n",
        "total_model_eval.summary()"
      ],
      "outputs": [
        {
          "output_type": "stream",
          "name": "stdout",
          "text": [
            "Model: \"RegionProposal\"\n",
            "_________________________________________________________________\n",
            "Layer (type)                 Output Shape              Param #   \n",
            "=================================================================\n",
            "input_1 (InputLayer)         [(None, 150, 150, 3)]     0         \n",
            "_________________________________________________________________\n",
            "block1_conv1 (Conv2D)        (None, 150, 150, 64)      1792      \n",
            "_________________________________________________________________\n",
            "block1_conv2 (Conv2D)        (None, 150, 150, 64)      36928     \n",
            "_________________________________________________________________\n",
            "block1_pool (MaxPooling2D)   (None, 75, 75, 64)        0         \n",
            "_________________________________________________________________\n",
            "block2_conv1 (Conv2D)        (None, 75, 75, 128)       73856     \n",
            "_________________________________________________________________\n",
            "block2_conv2 (Conv2D)        (None, 75, 75, 128)       147584    \n",
            "_________________________________________________________________\n",
            "block2_pool (MaxPooling2D)   (None, 37, 37, 128)       0         \n",
            "_________________________________________________________________\n",
            "rpn (RpnNet)                 [(None, 37, 37, 9), (None 613421    \n",
            "=================================================================\n",
            "Total params: 873,581\n",
            "Trainable params: 613,421\n",
            "Non-trainable params: 260,160\n",
            "_________________________________________________________________\n",
            "Model: \"DetectorClassifier\"\n",
            "__________________________________________________________________________________________________\n",
            "Layer (type)                    Output Shape         Param #     Connected to                     \n",
            "==================================================================================================\n",
            "Input_fmap (InputLayer)         [(None, 37, 37, 128) 0                                            \n",
            "__________________________________________________________________________________________________\n",
            "input_2 (InputLayer)            [(None, None, 4)]    0                                            \n",
            "__________________________________________________________________________________________________\n",
            "roi_pooling (RoiPoolingConv)    (1, 8, 7, 7, 128)    0           Input_fmap[0][0]                 \n",
            "                                                                 input_2[0][0]                    \n",
            "__________________________________________________________________________________________________\n",
            "cls (Detector)                  [(1, 8, 3), (1, 8, 8 42520587    roi_pooling[0][0]                \n",
            "==================================================================================================\n",
            "Total params: 42,520,587\n",
            "Trainable params: 42,520,587\n",
            "Non-trainable params: 0\n",
            "__________________________________________________________________________________________________\n",
            "Model: \"End2end_model\"\n",
            "__________________________________________________________________________________________________\n",
            "Layer (type)                    Output Shape         Param #     Connected to                     \n",
            "==================================================================================================\n",
            "input_1 (InputLayer)            [(None, 150, 150, 3) 0                                            \n",
            "__________________________________________________________________________________________________\n",
            "block1_conv1 (Conv2D)           (None, 150, 150, 64) 1792        input_1[0][0]                    \n",
            "__________________________________________________________________________________________________\n",
            "block1_conv2 (Conv2D)           (None, 150, 150, 64) 36928       block1_conv1[0][0]               \n",
            "__________________________________________________________________________________________________\n",
            "block1_pool (MaxPooling2D)      (None, 75, 75, 64)   0           block1_conv2[0][0]               \n",
            "__________________________________________________________________________________________________\n",
            "block2_conv1 (Conv2D)           (None, 75, 75, 128)  73856       block1_pool[0][0]                \n",
            "__________________________________________________________________________________________________\n",
            "block2_conv2 (Conv2D)           (None, 75, 75, 128)  147584      block2_conv1[0][0]               \n",
            "__________________________________________________________________________________________________\n",
            "Input_fmap (InputLayer)         [(None, 37, 37, 128) 0                                            \n",
            "__________________________________________________________________________________________________\n",
            "input_2 (InputLayer)            [(None, None, 4)]    0                                            \n",
            "__________________________________________________________________________________________________\n",
            "block2_pool (MaxPooling2D)      (None, 37, 37, 128)  0           block2_conv2[0][0]               \n",
            "__________________________________________________________________________________________________\n",
            "roi_pooling (RoiPoolingConv)    (1, 8, 7, 7, 128)    0           Input_fmap[0][0]                 \n",
            "                                                                 input_2[0][0]                    \n",
            "__________________________________________________________________________________________________\n",
            "rpn (RpnNet)                    [(None, 37, 37, 9),  613421      block2_pool[0][0]                \n",
            "__________________________________________________________________________________________________\n",
            "cls (Detector)                  [(1, 8, 3), (1, 8, 8 42520587    roi_pooling[0][0]                \n",
            "==================================================================================================\n",
            "Total params: 43,394,168\n",
            "Trainable params: 43,134,008\n",
            "Non-trainable params: 260,160\n",
            "__________________________________________________________________________________________________\n"
          ]
        }
      ],
      "metadata": {
        "tags": [
          "outputPrepend"
        ]
      }
    },
    {
      "cell_type": "code",
      "execution_count": 42,
      "source": [
        "# Models used for mAP eval\n",
        "# cp = '36_frcnn_baseline_36.h5'\n",
        "cp = '96_frcnn_baseline_16.h5'\n",
        "models.load_weigths(rpn_model_eval, detector_model_eval, backbone, checkpoint=cp)\n",
        "models.compile_models(rpn_model_eval, detector_model_eval, total_model_eval, rpn_losses=[loss.rpn_loss_cls, loss.rpn_loss_regr], detector_losses=[loss.detector_loss_cls, loss.detector_loss_regr], class_list=ska_dataset.class_list)"
      ],
      "outputs": [],
      "metadata": {}
    },
    {
      "cell_type": "code",
      "execution_count": 43,
      "source": [
        "patch_id = ['384_16526_16879_50']\n",
        "# patch_id = ska_dataset.train_patch_list\n",
        "# print(patch_id)\n",
        "# gt = pd.read_pickle(f'{config.TRAIN_PATCHES_FOLDER}/{patch_id[0]}/{patch_id[0]}.pkl')\n",
        "# display(gt['class_label'])\n",
        "\n",
        "preds, mAP, prec, recall = evaluate_model(rpn_model_eval, detector_model_eval, backbone, patch_id, ska_dataset.class_list, metric_threshold=.5)"
      ],
      "outputs": [
        {
          "output_type": "stream",
          "name": "stdout",
          "text": [
            "(150, 150)\n",
            "{0: '2_3', 1: '3_3', 2: 'bg'}\n",
            "Predict\n",
            "rpn_to_roi\n",
            "[[[0. 0. 1.]\n",
            "  [0. 0. 1.]\n",
            "  [0. 0. 1.]\n",
            "  [0. 0. 1.]\n",
            "  [0. 0. 1.]\n",
            "  [0. 0. 1.]\n",
            "  [0. 0. 1.]\n",
            "  [0. 0. 1.]]]\n",
            "[[[-1.2700487e+03 -8.9697083e+01 -2.8187150e-01  9.0510300e+01\n",
            "    0.0000000e+00  0.0000000e+00  0.0000000e+00  0.0000000e+00]\n",
            "  [-1.2789146e+03 -9.1091255e+01  4.3464309e-01  9.1908264e+01\n",
            "    0.0000000e+00  0.0000000e+00  0.0000000e+00  0.0000000e+00]\n",
            "  [-9.4149976e+02 -7.6348656e+01 -7.1091905e+00  7.7055649e+01\n",
            "    0.0000000e+00  0.0000000e+00  0.0000000e+00  0.0000000e+00]\n",
            "  [-9.6248798e+02 -7.7084885e+01 -6.5693965e+00  7.7798843e+01\n",
            "    0.0000000e+00  0.0000000e+00  0.0000000e+00  0.0000000e+00]\n",
            "  [-1.0070550e+03 -7.9339020e+01 -6.0645823e+00  8.0066032e+01\n",
            "    0.0000000e+00  0.0000000e+00  0.0000000e+00  0.0000000e+00]\n",
            "  [-1.0398767e+03 -8.0645699e+01 -4.8906512e+00  8.1383469e+01\n",
            "    0.0000000e+00  0.0000000e+00  0.0000000e+00  0.0000000e+00]\n",
            "  [-1.0503502e+03 -8.3696671e+01 -7.3877015e+00  8.4437958e+01\n",
            "    0.0000000e+00  0.0000000e+00  0.0000000e+00  0.0000000e+00]\n",
            "  [-1.1537551e+03 -8.5593193e+01 -3.2126205e+00  8.6369072e+01\n",
            "    0.0000000e+00  0.0000000e+00  0.0000000e+00  0.0000000e+00]]]\n",
            "[[[0. 0. 1.]\n",
            "  [0. 0. 1.]\n",
            "  [0. 0. 1.]\n",
            "  [0. 0. 1.]\n",
            "  [0. 0. 1.]\n",
            "  [0. 0. 1.]\n",
            "  [0. 0. 1.]\n",
            "  [0. 0. 1.]]]\n",
            "[[[-8.7597174e+02 -7.3392975e+01 -8.4824791e+00  7.4078285e+01\n",
            "    0.0000000e+00  0.0000000e+00  0.0000000e+00  0.0000000e+00]\n",
            "  [-1.1450104e+03 -8.5321434e+01 -2.9084327e+00  8.6094803e+01\n",
            "    0.0000000e+00  0.0000000e+00  0.0000000e+00  0.0000000e+00]\n",
            "  [-1.3311552e+03 -9.1865471e+01  2.3179591e+00  9.2698364e+01\n",
            "    0.0000000e+00  0.0000000e+00  0.0000000e+00  0.0000000e+00]\n",
            "  [-9.9408380e+02 -7.8502594e+01 -5.7768865e+00  7.9226707e+01\n",
            "    0.0000000e+00  0.0000000e+00  0.0000000e+00  0.0000000e+00]\n",
            "  [-1.2754247e+03 -8.9884682e+01  8.2416183e-01  9.0699066e+01\n",
            "    0.0000000e+00  0.0000000e+00  0.0000000e+00  0.0000000e+00]\n",
            "  [-1.1252120e+03 -8.4855309e+01 -3.4693334e+00  8.5621613e+01\n",
            "    0.0000000e+00  0.0000000e+00  0.0000000e+00  0.0000000e+00]\n",
            "  [-9.5147498e+02 -7.6830940e+01 -6.7601132e+00  7.7541183e+01\n",
            "    0.0000000e+00  0.0000000e+00  0.0000000e+00  0.0000000e+00]\n",
            "  [-8.3387726e+02 -7.1595581e+01 -9.3426542e+00  7.2267456e+01\n",
            "    0.0000000e+00  0.0000000e+00  0.0000000e+00  0.0000000e+00]]]\n",
            "[[[0. 0. 1.]\n",
            "  [0. 0. 1.]\n",
            "  [0. 0. 1.]\n",
            "  [0. 0. 1.]\n",
            "  [0. 0. 1.]\n",
            "  [0. 0. 1.]\n",
            "  [0. 0. 1.]\n",
            "  [0. 0. 1.]]]\n",
            "[[[ -836.8442      -71.72772      -9.282446     72.40056       0.\n",
            "       0.            0.            0.       ]\n",
            "  [ -916.2197      -75.10812      -7.511744     75.80693       0.\n",
            "       0.            0.            0.       ]\n",
            "  [ -924.7203      -75.452736     -7.259703     76.15436       0.\n",
            "       0.            0.            0.       ]\n",
            "  [ -944.1755      -76.29468      -6.818135     77.002625      0.\n",
            "       0.            0.            0.       ]\n",
            "  [ -979.73895     -77.96748      -6.2810187    78.686935      0.\n",
            "       0.            0.            0.       ]\n",
            "  [-1011.07764     -79.19182      -5.6648746    79.92173       0.\n",
            "       0.            0.            0.       ]\n",
            "  [-1022.5339      -79.67698      -5.150287     80.410614      0.\n",
            "       0.            0.            0.       ]\n",
            "  [-1001.0687      -78.83208      -5.7803473    79.5585        0.\n",
            "       0.            0.            0.       ]]]\n",
            "[[[0. 0. 1.]\n",
            "  [0. 0. 1.]\n",
            "  [0. 0. 1.]\n",
            "  [0. 0. 1.]\n",
            "  [0. 0. 1.]\n",
            "  [0. 0. 1.]\n",
            "  [0. 0. 1.]\n",
            "  [0. 0. 1.]]]\n",
            "[[[-837.1839     -71.74286     -9.275531    72.41582      0.\n",
            "      0.           0.           0.       ]\n",
            "  [-916.24884    -75.10971     -7.5121007   75.808525     0.\n",
            "      0.           0.           0.       ]\n",
            "  [-924.7203     -75.452736    -7.259703    76.15436      0.\n",
            "      0.           0.           0.       ]\n",
            "  [-944.1755     -76.29468     -6.818135    77.002625     0.\n",
            "      0.           0.           0.       ]\n",
            "  [-963.6429     -77.14353     -6.3814616   77.857796     0.\n",
            "      0.           0.           0.       ]\n",
            "  [-994.0838     -78.502594    -5.7768865   79.22671      0.\n",
            "      0.           0.           0.       ]\n",
            "  [-822.18335    -72.79058    -11.789346    73.458885     0.\n",
            "      0.           0.           0.       ]\n",
            "  [-768.254      -70.2434     -12.546985    70.89379      0.\n",
            "      0.           0.           0.       ]]]\n",
            "[[[0. 0. 1.]\n",
            "  [0. 0. 1.]\n",
            "  [0. 0. 1.]\n",
            "  [0. 0. 1.]\n",
            "  [0. 0. 1.]\n",
            "  [0. 0. 1.]\n",
            "  [0. 0. 1.]\n",
            "  [0. 0. 1.]]]\n",
            "[[[-785.30444    -70.76264    -11.82677     71.41876      0.\n",
            "      0.           0.           0.       ]\n",
            "  [-744.1997     -68.10084    -11.778774    68.74348      0.\n",
            "      0.           0.           0.       ]\n",
            "  [-751.1813     -68.057816   -11.263258    68.70279      0.\n",
            "      0.           0.           0.       ]\n",
            "  [-750.3207     -67.85522    -11.023721    68.49984      0.\n",
            "      0.           0.           0.       ]\n",
            "  [-783.12915    -69.60646    -10.280905    70.262276     0.\n",
            "      0.           0.           0.       ]\n",
            "  [-816.77313    -70.98103     -9.701936    71.64753      0.\n",
            "      0.           0.           0.       ]\n",
            "  [-854.66254    -72.537186    -8.944963    73.21585      0.\n",
            "      0.           0.           0.       ]\n",
            "  [-903.12976    -74.65192     -7.7572417   75.34665      0.\n",
            "      0.           0.           0.       ]]]\n",
            "[[[0. 0. 1.]\n",
            "  [0. 0. 1.]\n",
            "  [0. 0. 1.]\n",
            "  [0. 0. 1.]\n",
            "  [0. 0. 1.]\n",
            "  [0. 0. 1.]\n",
            "  [0. 0. 1.]\n",
            "  [0. 0. 1.]]]\n",
            "[[[ -953.7572      -76.89958      -6.792271     77.610695      0.\n",
            "       0.            0.            0.       ]\n",
            "  [ -963.6429      -77.14353      -6.3814616    77.857796      0.\n",
            "       0.            0.            0.       ]\n",
            "  [ -752.5485      -68.89233     -12.372964     69.53854       0.\n",
            "       0.            0.            0.       ]\n",
            "  [ -986.8344      -78.05807      -6.139995     78.78024       0.\n",
            "       0.            0.            0.       ]\n",
            "  [ -924.7203      -75.452736     -7.259703     76.15436       0.\n",
            "       0.            0.            0.       ]\n",
            "  [-1163.8809      -86.551476     -2.3391998    87.33095       0.\n",
            "       0.            0.            0.       ]\n",
            "  [-1181.3994      -86.69098      -1.921518     87.47629       0.\n",
            "       0.            0.            0.       ]\n",
            "  [-1148.848       -85.48113      -2.6214683    86.25604       0.\n",
            "       0.            0.            0.       ]]]\n",
            "[[[0. 0. 1.]\n",
            "  [0. 0. 1.]\n",
            "  [0. 0. 1.]\n",
            "  [0. 0. 1.]\n",
            "  [0. 0. 1.]\n",
            "  [0. 0. 1.]\n",
            "  [0. 0. 1.]\n",
            "  [0. 0. 1.]]]\n",
            "[[[-996.50385   -78.93221    -5.547837   79.65747     0.\n",
            "      0.          0.          0.      ]\n",
            "  [-899.87305   -74.60384    -7.857055   75.29714     0.\n",
            "      0.          0.          0.      ]\n",
            "  [-828.0353    -71.33536    -9.461298   72.005325    0.\n",
            "      0.          0.          0.      ]\n",
            "  [-836.3482    -71.70565    -9.292514   72.37831     0.\n",
            "      0.          0.          0.      ]\n",
            "  [-916.1594    -75.10518    -7.512707   75.80396     0.\n",
            "      0.          0.          0.      ]\n",
            "  [-944.1755    -76.29468    -6.818135   77.002625    0.\n",
            "      0.          0.          0.      ]\n",
            "  [-733.6811    -68.28557   -12.754103   68.92529     0.\n",
            "      0.          0.          0.      ]\n",
            "  [-963.6429    -77.14355    -6.38147    77.857796    0.\n",
            "      0.          0.          0.      ]]]\n",
            "[[[0. 0. 1.]\n",
            "  [0. 0. 1.]\n",
            "  [0. 0. 1.]\n",
            "  [0. 0. 1.]\n",
            "  [0. 0. 1.]\n",
            "  [0. 0. 1.]\n",
            "  [0. 0. 1.]\n",
            "  [0. 0. 1.]]]\n",
            "[[[-994.0838     -78.502594    -5.7768865   79.22671      0.\n",
            "      0.           0.           0.       ]\n",
            "  [-696.9388     -68.08715    -14.961023    68.71535      0.\n",
            "      0.           0.           0.       ]\n",
            "  [-675.4419     -66.6332     -14.496846    67.25439      0.\n",
            "      0.           0.           0.       ]\n",
            "  [-663.6492     -66.14033    -14.436104    66.75737      0.\n",
            "      0.           0.           0.       ]\n",
            "  [-646.2341     -65.351425   -14.788355    65.96347      0.\n",
            "      0.           0.           0.       ]\n",
            "  [-663.0725     -65.77146    -13.784395    66.38878      0.\n",
            "      0.           0.           0.       ]\n",
            "  [-695.86694    -66.43632    -12.413704    67.06403      0.\n",
            "      0.           0.           0.       ]\n",
            "  [-961.596      -77.19487     -6.651874    77.90839      0.\n",
            "      0.           0.           0.       ]]]\n",
            "Elapsed:1.0889899730682373\n",
            "\n",
            "Total model metrics: mAP: 1.0 - macro_precision: 0.0 - macro_recall: 0.0\n"
          ]
        }
      ],
      "metadata": {
        "tags": []
      }
    },
    {
      "cell_type": "code",
      "execution_count": null,
      "source": [
        "preds"
      ],
      "outputs": [],
      "metadata": {}
    },
    {
      "cell_type": "code",
      "execution_count": null,
      "source": [
        "print(config.patch_dim , float(config.resizeFinalDim))"
      ],
      "outputs": [],
      "metadata": {}
    },
    {
      "cell_type": "code",
      "execution_count": null,
      "source": [
        "print_img(config.TRAIN_PATCHES_FOLDER, '5_16501_16729_50')"
      ],
      "outputs": [],
      "metadata": {}
    },
    {
      "cell_type": "code",
      "execution_count": null,
      "source": [
        "anch = pd.read_pickle(f'{config.EVAL_RESULTS}/5_16501_16729_50/5_16501_16729_50.pkl')\n",
        "display(anch)"
      ],
      "outputs": [],
      "metadata": {}
    },
    {
      "cell_type": "code",
      "execution_count": null,
      "source": [
        "anch['width'] = anch['x2s'] - anch['x1s']\n",
        "anch['heght'] = anch['y2s'] - anch['y1s']"
      ],
      "outputs": [],
      "metadata": {}
    },
    {
      "cell_type": "code",
      "execution_count": null,
      "source": [
        "anch.describe() "
      ],
      "outputs": [],
      "metadata": {}
    },
    {
      "cell_type": "code",
      "execution_count": null,
      "source": [
        "print_img(config.TRAIN_PATCHES_FOLDER, '192_16451_16804_50', config.EVAL_RESULTS)"
      ],
      "outputs": [],
      "metadata": {}
    },
    {
      "cell_type": "markdown",
      "source": [],
      "metadata": {}
    },
    {
      "cell_type": "markdown",
      "source": [
        "TODO - 20210508:\n",
        "- [X] troncamento rumore a 1e-6 tramite half gaussian\n",
        "\n",
        "TODO - 20210605:\n",
        "- [X] modificare RPNNet in modo che dia in output anche la backbone - Lorenzo\n",
        "- [X] scrivere bene training loop: salvare le loss in un df su disco + salvare pesi modello ad ogni giro (Lorenzo - finire di debuggare)\n",
        "\n",
        "TODO - 20210620:\n",
        "- [x] implementare mAP in una funzione che prende come parametro un modello o i suoi pesi\n",
        "- [x] implementare resNet50\n",
        "- [x] implementare predicted rois - Lorenzo\n",
        "- [X] implementare plot loss training - Lorenzo\n",
        "- [X] finire classe datasetv2 - Alice\n",
        "- [X] check se su colab le performance sono migliori - Lorenzo\n",
        "\n",
        "TODO - 20210627\n",
        "- [X] split dataset su combinazioni classi - Alice\n",
        "- [x] provare campionamento random patch ed osservare le due distribuzioni - Alice\n",
        "\n",
        "TODO - 20210703\n",
        "- [x] sistemare salvataggio loss training loop - Lorenzo\n",
        "- [x] Riscalare immagini tra 0-255 - Alice\n",
        "- [x] capire se passare tre immagini diverse come input\n",
        "- [x] usare media vgg16 per zero-centering - Alice\n",
        "\n",
        "TODO - 20210705\n",
        "- [x] sistemare nomi funzioni dataset per trasformazione rgb\n",
        "\n",
        "TODO - 20210711\n",
        "- [x] rifattorizzare classe dataset spostando nel costruttore i metodi che calcolano i suoi attributi - Lorenzo\n",
        "- [x] chek valori pixel in input per resnet\n",
        "- [x] fare funzione per plottare le predictions\n",
        "- [ ] trainare tutto su colab\n",
        "\n",
        "TODO - 20210714\n",
        "- [x] ragionare su come scalare le immagini fra 0 e 1, attualmente hanno tanti valori schiacciati a 0 e il massimo su tutto il train a a 0.4\n",
        "\n",
        "TODO - 20210717\n",
        "- [ ] Ablation study: provare a rimuovere stage4 nella resnet - se c'è tempo\n",
        "- [x] Provare con nostra pixel_mean e con vgg16 pixel_mean -> per il momento abbiamo scartato la prima opzione\n",
        "- [ ] Fare qualche analisi di distribuzione delle classi/dim box del dataset - Alice\n",
        "- [x] Aggiungere normalizzazione dopo zero centering per resNet50, sulla base del range globale dell'immagine di training\n",
        "- [ ] Provare pulizia dataset originale sulla base del rumore/flusso - Alice\n",
        "- [ ] Cambiare nomi di tutto - alla fine\n",
        "- [x] implementare zero-centering su volare medio RGB delle nostre patch\n",
        "- [x] Funzione che trova l'ultimo checkpoint in colab prima del load_weights - Lorenzo\n",
        "\n",
        "TODO - 20210801\n",
        "- [x] Debuggare training baseline 8 e 16 - L\n",
        "- [ ] Finire prove pulizia dataseet noise variando k - A"
      ],
      "metadata": {}
    },
    {
      "cell_type": "markdown",
      "source": [
        "1.  Summary\n",
        "    - riassunto progetto\n",
        "2.  Background\n",
        "    - SoTA + teoria di base\n",
        "3.  System Description\n",
        "    - descrizione dei nostri modelli e dei loro componenti (moduli)\n",
        "4.  Experimental setup and results\n",
        "    - dataset pre processing\n",
        "    - training environment\n",
        "    - metrics\n",
        "    - results\n",
        "5.  Results and error analysis\n",
        "6.  Discussion"
      ],
      "metadata": {}
    },
    {
      "cell_type": "markdown",
      "source": [
        "# Plotting"
      ],
      "metadata": {}
    },
    {
      "cell_type": "code",
      "execution_count": 39,
      "source": [
        "loss_history = np.load(f\"./model/{backbone}/loss_history.npy\")\n",
        "print(loss_history.shape)"
      ],
      "outputs": [
        {
          "output_type": "stream",
          "name": "stdout",
          "text": [
            "(100, 5)\n"
          ]
        }
      ],
      "metadata": {}
    },
    {
      "cell_type": "code",
      "execution_count": null,
      "source": [
        "loss_history"
      ],
      "outputs": [],
      "metadata": {}
    },
    {
      "cell_type": "code",
      "execution_count": 40,
      "source": [
        "plot_loss(loss_history[:])"
      ],
      "outputs": [
        {
          "output_type": "display_data",
          "data": {
            "text/plain": [
              "<Figure size 1080x360 with 2 Axes>"
            ],
            "image/svg+xml": "<?xml version=\"1.0\" encoding=\"utf-8\" standalone=\"no\"?>\n<!DOCTYPE svg PUBLIC \"-//W3C//DTD SVG 1.1//EN\"\n  \"http://www.w3.org/Graphics/SVG/1.1/DTD/svg11.dtd\">\n<!-- Created with matplotlib (https://matplotlib.org/) -->\n<svg height=\"317.99625pt\" version=\"1.1\" viewBox=\"0 0 896.575 317.99625\" width=\"896.575pt\" xmlns=\"http://www.w3.org/2000/svg\" xmlns:xlink=\"http://www.w3.org/1999/xlink\">\n <metadata>\n  <rdf:RDF xmlns:cc=\"http://creativecommons.org/ns#\" xmlns:dc=\"http://purl.org/dc/elements/1.1/\" xmlns:rdf=\"http://www.w3.org/1999/02/22-rdf-syntax-ns#\">\n   <cc:Work>\n    <dc:type rdf:resource=\"http://purl.org/dc/dcmitype/StillImage\"/>\n    <dc:date>2021-08-29T17:25:36.599178</dc:date>\n    <dc:format>image/svg+xml</dc:format>\n    <dc:creator>\n     <cc:Agent>\n      <dc:title>Matplotlib v3.3.4, https://matplotlib.org/</dc:title>\n     </cc:Agent>\n    </dc:creator>\n   </cc:Work>\n  </rdf:RDF>\n </metadata>\n <defs>\n  <style type=\"text/css\">*{stroke-linecap:butt;stroke-linejoin:round;}</style>\n </defs>\n <g id=\"figure_1\">\n  <g id=\"patch_1\">\n   <path d=\"M 0 317.99625 \nL 896.575 317.99625 \nL 896.575 0 \nL 0 0 \nz\n\" style=\"fill:none;\"/>\n  </g>\n  <g id=\"axes_1\">\n   <g id=\"patch_2\">\n    <path d=\"M 52.375 294.118125 \nL 432.829545 294.118125 \nL 432.829545 22.318125 \nL 52.375 22.318125 \nz\n\" style=\"fill:#ffffff;\"/>\n   </g>\n   <g id=\"matplotlib.axis_1\">\n    <g id=\"xtick_1\">\n     <g id=\"line2d_1\">\n      <defs>\n       <path d=\"M 0 0 \nL 0 3.5 \n\" id=\"me5a2629b7a\" style=\"stroke:#000000;stroke-width:0.8;\"/>\n      </defs>\n      <g>\n       <use style=\"stroke:#000000;stroke-width:0.8;\" x=\"69.668388\" xlink:href=\"#me5a2629b7a\" y=\"294.118125\"/>\n      </g>\n     </g>\n     <g id=\"text_1\">\n      <!-- 0 -->\n      <g transform=\"translate(66.487138 308.716563)scale(0.1 -0.1)\">\n       <defs>\n        <path d=\"M 31.78125 66.40625 \nQ 24.171875 66.40625 20.328125 58.90625 \nQ 16.5 51.421875 16.5 36.375 \nQ 16.5 21.390625 20.328125 13.890625 \nQ 24.171875 6.390625 31.78125 6.390625 \nQ 39.453125 6.390625 43.28125 13.890625 \nQ 47.125 21.390625 47.125 36.375 \nQ 47.125 51.421875 43.28125 58.90625 \nQ 39.453125 66.40625 31.78125 66.40625 \nz\nM 31.78125 74.21875 \nQ 44.046875 74.21875 50.515625 64.515625 \nQ 56.984375 54.828125 56.984375 36.375 \nQ 56.984375 17.96875 50.515625 8.265625 \nQ 44.046875 -1.421875 31.78125 -1.421875 \nQ 19.53125 -1.421875 13.0625 8.265625 \nQ 6.59375 17.96875 6.59375 36.375 \nQ 6.59375 54.828125 13.0625 64.515625 \nQ 19.53125 74.21875 31.78125 74.21875 \nz\n\" id=\"DejaVuSans-48\"/>\n       </defs>\n       <use xlink:href=\"#DejaVuSans-48\"/>\n      </g>\n     </g>\n    </g>\n    <g id=\"xtick_2\">\n     <g id=\"line2d_2\">\n      <g>\n       <use style=\"stroke:#000000;stroke-width:0.8;\" x=\"139.540665\" xlink:href=\"#me5a2629b7a\" y=\"294.118125\"/>\n      </g>\n     </g>\n     <g id=\"text_2\">\n      <!-- 20 -->\n      <g transform=\"translate(133.178165 308.716563)scale(0.1 -0.1)\">\n       <defs>\n        <path d=\"M 19.1875 8.296875 \nL 53.609375 8.296875 \nL 53.609375 0 \nL 7.328125 0 \nL 7.328125 8.296875 \nQ 12.9375 14.109375 22.625 23.890625 \nQ 32.328125 33.6875 34.8125 36.53125 \nQ 39.546875 41.84375 41.421875 45.53125 \nQ 43.3125 49.21875 43.3125 52.78125 \nQ 43.3125 58.59375 39.234375 62.25 \nQ 35.15625 65.921875 28.609375 65.921875 \nQ 23.96875 65.921875 18.8125 64.3125 \nQ 13.671875 62.703125 7.8125 59.421875 \nL 7.8125 69.390625 \nQ 13.765625 71.78125 18.9375 73 \nQ 24.125 74.21875 28.421875 74.21875 \nQ 39.75 74.21875 46.484375 68.546875 \nQ 53.21875 62.890625 53.21875 53.421875 \nQ 53.21875 48.921875 51.53125 44.890625 \nQ 49.859375 40.875 45.40625 35.40625 \nQ 44.1875 33.984375 37.640625 27.21875 \nQ 31.109375 20.453125 19.1875 8.296875 \nz\n\" id=\"DejaVuSans-50\"/>\n       </defs>\n       <use xlink:href=\"#DejaVuSans-50\"/>\n       <use x=\"63.623047\" xlink:href=\"#DejaVuSans-48\"/>\n      </g>\n     </g>\n    </g>\n    <g id=\"xtick_3\">\n     <g id=\"line2d_3\">\n      <g>\n       <use style=\"stroke:#000000;stroke-width:0.8;\" x=\"209.412941\" xlink:href=\"#me5a2629b7a\" y=\"294.118125\"/>\n      </g>\n     </g>\n     <g id=\"text_3\">\n      <!-- 40 -->\n      <g transform=\"translate(203.050441 308.716563)scale(0.1 -0.1)\">\n       <defs>\n        <path d=\"M 37.796875 64.3125 \nL 12.890625 25.390625 \nL 37.796875 25.390625 \nz\nM 35.203125 72.90625 \nL 47.609375 72.90625 \nL 47.609375 25.390625 \nL 58.015625 25.390625 \nL 58.015625 17.1875 \nL 47.609375 17.1875 \nL 47.609375 0 \nL 37.796875 0 \nL 37.796875 17.1875 \nL 4.890625 17.1875 \nL 4.890625 26.703125 \nz\n\" id=\"DejaVuSans-52\"/>\n       </defs>\n       <use xlink:href=\"#DejaVuSans-52\"/>\n       <use x=\"63.623047\" xlink:href=\"#DejaVuSans-48\"/>\n      </g>\n     </g>\n    </g>\n    <g id=\"xtick_4\">\n     <g id=\"line2d_4\">\n      <g>\n       <use style=\"stroke:#000000;stroke-width:0.8;\" x=\"279.285218\" xlink:href=\"#me5a2629b7a\" y=\"294.118125\"/>\n      </g>\n     </g>\n     <g id=\"text_4\">\n      <!-- 60 -->\n      <g transform=\"translate(272.922718 308.716563)scale(0.1 -0.1)\">\n       <defs>\n        <path d=\"M 33.015625 40.375 \nQ 26.375 40.375 22.484375 35.828125 \nQ 18.609375 31.296875 18.609375 23.390625 \nQ 18.609375 15.53125 22.484375 10.953125 \nQ 26.375 6.390625 33.015625 6.390625 \nQ 39.65625 6.390625 43.53125 10.953125 \nQ 47.40625 15.53125 47.40625 23.390625 \nQ 47.40625 31.296875 43.53125 35.828125 \nQ 39.65625 40.375 33.015625 40.375 \nz\nM 52.59375 71.296875 \nL 52.59375 62.3125 \nQ 48.875 64.0625 45.09375 64.984375 \nQ 41.3125 65.921875 37.59375 65.921875 \nQ 27.828125 65.921875 22.671875 59.328125 \nQ 17.53125 52.734375 16.796875 39.40625 \nQ 19.671875 43.65625 24.015625 45.921875 \nQ 28.375 48.1875 33.59375 48.1875 \nQ 44.578125 48.1875 50.953125 41.515625 \nQ 57.328125 34.859375 57.328125 23.390625 \nQ 57.328125 12.15625 50.6875 5.359375 \nQ 44.046875 -1.421875 33.015625 -1.421875 \nQ 20.359375 -1.421875 13.671875 8.265625 \nQ 6.984375 17.96875 6.984375 36.375 \nQ 6.984375 53.65625 15.1875 63.9375 \nQ 23.390625 74.21875 37.203125 74.21875 \nQ 40.921875 74.21875 44.703125 73.484375 \nQ 48.484375 72.75 52.59375 71.296875 \nz\n\" id=\"DejaVuSans-54\"/>\n       </defs>\n       <use xlink:href=\"#DejaVuSans-54\"/>\n       <use x=\"63.623047\" xlink:href=\"#DejaVuSans-48\"/>\n      </g>\n     </g>\n    </g>\n    <g id=\"xtick_5\">\n     <g id=\"line2d_5\">\n      <g>\n       <use style=\"stroke:#000000;stroke-width:0.8;\" x=\"349.157494\" xlink:href=\"#me5a2629b7a\" y=\"294.118125\"/>\n      </g>\n     </g>\n     <g id=\"text_5\">\n      <!-- 80 -->\n      <g transform=\"translate(342.794994 308.716563)scale(0.1 -0.1)\">\n       <defs>\n        <path d=\"M 31.78125 34.625 \nQ 24.75 34.625 20.71875 30.859375 \nQ 16.703125 27.09375 16.703125 20.515625 \nQ 16.703125 13.921875 20.71875 10.15625 \nQ 24.75 6.390625 31.78125 6.390625 \nQ 38.8125 6.390625 42.859375 10.171875 \nQ 46.921875 13.96875 46.921875 20.515625 \nQ 46.921875 27.09375 42.890625 30.859375 \nQ 38.875 34.625 31.78125 34.625 \nz\nM 21.921875 38.8125 \nQ 15.578125 40.375 12.03125 44.71875 \nQ 8.5 49.078125 8.5 55.328125 \nQ 8.5 64.0625 14.71875 69.140625 \nQ 20.953125 74.21875 31.78125 74.21875 \nQ 42.671875 74.21875 48.875 69.140625 \nQ 55.078125 64.0625 55.078125 55.328125 \nQ 55.078125 49.078125 51.53125 44.71875 \nQ 48 40.375 41.703125 38.8125 \nQ 48.828125 37.15625 52.796875 32.3125 \nQ 56.78125 27.484375 56.78125 20.515625 \nQ 56.78125 9.90625 50.3125 4.234375 \nQ 43.84375 -1.421875 31.78125 -1.421875 \nQ 19.734375 -1.421875 13.25 4.234375 \nQ 6.78125 9.90625 6.78125 20.515625 \nQ 6.78125 27.484375 10.78125 32.3125 \nQ 14.796875 37.15625 21.921875 38.8125 \nz\nM 18.3125 54.390625 \nQ 18.3125 48.734375 21.84375 45.5625 \nQ 25.390625 42.390625 31.78125 42.390625 \nQ 38.140625 42.390625 41.71875 45.5625 \nQ 45.3125 48.734375 45.3125 54.390625 \nQ 45.3125 60.0625 41.71875 63.234375 \nQ 38.140625 66.40625 31.78125 66.40625 \nQ 25.390625 66.40625 21.84375 63.234375 \nQ 18.3125 60.0625 18.3125 54.390625 \nz\n\" id=\"DejaVuSans-56\"/>\n       </defs>\n       <use xlink:href=\"#DejaVuSans-56\"/>\n       <use x=\"63.623047\" xlink:href=\"#DejaVuSans-48\"/>\n      </g>\n     </g>\n    </g>\n    <g id=\"xtick_6\">\n     <g id=\"line2d_6\">\n      <g>\n       <use style=\"stroke:#000000;stroke-width:0.8;\" x=\"419.029771\" xlink:href=\"#me5a2629b7a\" y=\"294.118125\"/>\n      </g>\n     </g>\n     <g id=\"text_6\">\n      <!-- 100 -->\n      <g transform=\"translate(409.486021 308.716563)scale(0.1 -0.1)\">\n       <defs>\n        <path d=\"M 12.40625 8.296875 \nL 28.515625 8.296875 \nL 28.515625 63.921875 \nL 10.984375 60.40625 \nL 10.984375 69.390625 \nL 28.421875 72.90625 \nL 38.28125 72.90625 \nL 38.28125 8.296875 \nL 54.390625 8.296875 \nL 54.390625 0 \nL 12.40625 0 \nz\n\" id=\"DejaVuSans-49\"/>\n       </defs>\n       <use xlink:href=\"#DejaVuSans-49\"/>\n       <use x=\"63.623047\" xlink:href=\"#DejaVuSans-48\"/>\n       <use x=\"127.246094\" xlink:href=\"#DejaVuSans-48\"/>\n      </g>\n     </g>\n    </g>\n   </g>\n   <g id=\"matplotlib.axis_2\">\n    <g id=\"ytick_1\">\n     <g id=\"line2d_7\">\n      <defs>\n       <path d=\"M 0 0 \nL -3.5 0 \n\" id=\"mb94c360fd2\" style=\"stroke:#000000;stroke-width:0.8;\"/>\n      </defs>\n      <g>\n       <use style=\"stroke:#000000;stroke-width:0.8;\" x=\"52.375\" xlink:href=\"#mb94c360fd2\" y=\"281.765012\"/>\n      </g>\n     </g>\n     <g id=\"text_7\">\n      <!-- 0 -->\n      <g transform=\"translate(39.0125 285.564231)scale(0.1 -0.1)\">\n       <use xlink:href=\"#DejaVuSans-48\"/>\n      </g>\n     </g>\n    </g>\n    <g id=\"ytick_2\">\n     <g id=\"line2d_8\">\n      <g>\n       <use style=\"stroke:#000000;stroke-width:0.8;\" x=\"52.375\" xlink:href=\"#mb94c360fd2\" y=\"231.286048\"/>\n      </g>\n     </g>\n     <g id=\"text_8\">\n      <!-- 50000 -->\n      <g transform=\"translate(13.5625 235.085267)scale(0.1 -0.1)\">\n       <defs>\n        <path d=\"M 10.796875 72.90625 \nL 49.515625 72.90625 \nL 49.515625 64.59375 \nL 19.828125 64.59375 \nL 19.828125 46.734375 \nQ 21.96875 47.46875 24.109375 47.828125 \nQ 26.265625 48.1875 28.421875 48.1875 \nQ 40.625 48.1875 47.75 41.5 \nQ 54.890625 34.8125 54.890625 23.390625 \nQ 54.890625 11.625 47.5625 5.09375 \nQ 40.234375 -1.421875 26.90625 -1.421875 \nQ 22.3125 -1.421875 17.546875 -0.640625 \nQ 12.796875 0.140625 7.71875 1.703125 \nL 7.71875 11.625 \nQ 12.109375 9.234375 16.796875 8.0625 \nQ 21.484375 6.890625 26.703125 6.890625 \nQ 35.15625 6.890625 40.078125 11.328125 \nQ 45.015625 15.765625 45.015625 23.390625 \nQ 45.015625 31 40.078125 35.4375 \nQ 35.15625 39.890625 26.703125 39.890625 \nQ 22.75 39.890625 18.8125 39.015625 \nQ 14.890625 38.140625 10.796875 36.28125 \nz\n\" id=\"DejaVuSans-53\"/>\n       </defs>\n       <use xlink:href=\"#DejaVuSans-53\"/>\n       <use x=\"63.623047\" xlink:href=\"#DejaVuSans-48\"/>\n       <use x=\"127.246094\" xlink:href=\"#DejaVuSans-48\"/>\n       <use x=\"190.869141\" xlink:href=\"#DejaVuSans-48\"/>\n       <use x=\"254.492188\" xlink:href=\"#DejaVuSans-48\"/>\n      </g>\n     </g>\n    </g>\n    <g id=\"ytick_3\">\n     <g id=\"line2d_9\">\n      <g>\n       <use style=\"stroke:#000000;stroke-width:0.8;\" x=\"52.375\" xlink:href=\"#mb94c360fd2\" y=\"180.807085\"/>\n      </g>\n     </g>\n     <g id=\"text_9\">\n      <!-- 100000 -->\n      <g transform=\"translate(7.2 184.606304)scale(0.1 -0.1)\">\n       <use xlink:href=\"#DejaVuSans-49\"/>\n       <use x=\"63.623047\" xlink:href=\"#DejaVuSans-48\"/>\n       <use x=\"127.246094\" xlink:href=\"#DejaVuSans-48\"/>\n       <use x=\"190.869141\" xlink:href=\"#DejaVuSans-48\"/>\n       <use x=\"254.492188\" xlink:href=\"#DejaVuSans-48\"/>\n       <use x=\"318.115234\" xlink:href=\"#DejaVuSans-48\"/>\n      </g>\n     </g>\n    </g>\n    <g id=\"ytick_4\">\n     <g id=\"line2d_10\">\n      <g>\n       <use style=\"stroke:#000000;stroke-width:0.8;\" x=\"52.375\" xlink:href=\"#mb94c360fd2\" y=\"130.328121\"/>\n      </g>\n     </g>\n     <g id=\"text_10\">\n      <!-- 150000 -->\n      <g transform=\"translate(7.2 134.12734)scale(0.1 -0.1)\">\n       <use xlink:href=\"#DejaVuSans-49\"/>\n       <use x=\"63.623047\" xlink:href=\"#DejaVuSans-53\"/>\n       <use x=\"127.246094\" xlink:href=\"#DejaVuSans-48\"/>\n       <use x=\"190.869141\" xlink:href=\"#DejaVuSans-48\"/>\n       <use x=\"254.492188\" xlink:href=\"#DejaVuSans-48\"/>\n       <use x=\"318.115234\" xlink:href=\"#DejaVuSans-48\"/>\n      </g>\n     </g>\n    </g>\n    <g id=\"ytick_5\">\n     <g id=\"line2d_11\">\n      <g>\n       <use style=\"stroke:#000000;stroke-width:0.8;\" x=\"52.375\" xlink:href=\"#mb94c360fd2\" y=\"79.849158\"/>\n      </g>\n     </g>\n     <g id=\"text_11\">\n      <!-- 200000 -->\n      <g transform=\"translate(7.2 83.648377)scale(0.1 -0.1)\">\n       <use xlink:href=\"#DejaVuSans-50\"/>\n       <use x=\"63.623047\" xlink:href=\"#DejaVuSans-48\"/>\n       <use x=\"127.246094\" xlink:href=\"#DejaVuSans-48\"/>\n       <use x=\"190.869141\" xlink:href=\"#DejaVuSans-48\"/>\n       <use x=\"254.492188\" xlink:href=\"#DejaVuSans-48\"/>\n       <use x=\"318.115234\" xlink:href=\"#DejaVuSans-48\"/>\n      </g>\n     </g>\n    </g>\n    <g id=\"ytick_6\">\n     <g id=\"line2d_12\">\n      <g>\n       <use style=\"stroke:#000000;stroke-width:0.8;\" x=\"52.375\" xlink:href=\"#mb94c360fd2\" y=\"29.370195\"/>\n      </g>\n     </g>\n     <g id=\"text_12\">\n      <!-- 250000 -->\n      <g transform=\"translate(7.2 33.169413)scale(0.1 -0.1)\">\n       <use xlink:href=\"#DejaVuSans-50\"/>\n       <use x=\"63.623047\" xlink:href=\"#DejaVuSans-53\"/>\n       <use x=\"127.246094\" xlink:href=\"#DejaVuSans-48\"/>\n       <use x=\"190.869141\" xlink:href=\"#DejaVuSans-48\"/>\n       <use x=\"254.492188\" xlink:href=\"#DejaVuSans-48\"/>\n       <use x=\"318.115234\" xlink:href=\"#DejaVuSans-48\"/>\n      </g>\n     </g>\n    </g>\n   </g>\n   <g id=\"line2d_13\">\n    <path clip-path=\"url(#p0cc6ebad9d)\" d=\"M 69.668388 281.759815 \nL 73.162002 280.676787 \nL 76.655616 281.493018 \nL 80.14923 281.449092 \nL 83.642844 281.628029 \nL 87.136458 281.631439 \nL 90.630071 280.611628 \nL 94.123685 34.67267 \nL 97.617299 266.878707 \nL 101.110913 281.759755 \nL 104.604527 241.485006 \nL 108.09814 245.489385 \nL 111.591754 200.771937 \nL 115.085368 281.762086 \nL 118.578982 208.434627 \nL 122.072596 278.130222 \nL 125.56621 271.535367 \nL 129.059823 272.769795 \nL 132.553437 261.54386 \nL 136.047051 268.800147 \nL 139.540665 260.993225 \nL 143.034279 269.828196 \nL 146.527893 266.829594 \nL 150.021506 273.81413 \nL 153.51512 272.217507 \nL 157.008734 273.577453 \nL 160.502348 273.063118 \nL 163.995962 274.395437 \nL 167.489576 274.816798 \nL 170.983189 273.21518 \nL 174.476803 273.521256 \nL 177.970417 267.974374 \nL 181.464031 279.932601 \nL 184.957645 280.528857 \nL 188.451258 281.587931 \nL 191.944872 281.76074 \nL 195.438486 281.043213 \nL 198.9321 281.128742 \nL 202.425714 281.435343 \nL 205.919328 281.577895 \nL 209.412941 279.694661 \nL 212.906555 272.790283 \nL 216.400169 278.798763 \nL 219.893783 281.280021 \nL 223.387397 280.611807 \nL 226.881011 279.669767 \nL 230.374624 279.945917 \nL 233.868238 276.87072 \nL 237.361852 274.278044 \nL 240.855466 279.911394 \nL 244.34908 281.579551 \nL 247.842693 281.54458 \nL 251.336307 281.760905 \nL 254.829921 277.008619 \nL 258.323535 273.179472 \nL 261.817149 280.32728 \nL 265.310763 279.649147 \nL 268.804376 281.289763 \nL 272.29799 279.850857 \nL 275.791604 278.20922 \nL 279.285218 274.65294 \nL 282.778832 281.547325 \nL 286.272446 279.041994 \nL 289.766059 281.469685 \nL 293.259673 281.724044 \nL 296.753287 281.714751 \nL 300.246901 281.76274 \nL 303.740515 281.383408 \nL 307.234128 281.564598 \nL 310.727742 281.752278 \nL 314.221356 281.203643 \nL 317.71497 275.824936 \nL 321.208584 272.260925 \nL 324.702198 278.900511 \nL 328.195811 279.98745 \nL 331.689425 278.493978 \nL 335.183039 280.417218 \nL 338.676653 261.299269 \nL 342.170267 277.07762 \nL 345.663881 280.335676 \nL 349.157494 281.352951 \nL 352.651108 281.319193 \nL 356.144722 281.762927 \nL 359.638336 281.762705 \nL 363.13195 281.372846 \nL 366.625563 281.396301 \nL 370.119177 277.506136 \nL 373.612791 271.948491 \nL 377.106405 275.086002 \nL 380.600019 281.144941 \nL 384.093633 281.762667 \nL 387.587246 281.474612 \nL 391.08086 281.762839 \nL 394.574474 280.728033 \nL 398.068088 281.76283 \nL 401.561702 281.76358 \nL 405.055316 281.378973 \nL 408.548929 281.235443 \nL 412.042543 281.763079 \nL 415.536157 281.289481 \n\" style=\"fill:none;stroke:#ff0000;stroke-linecap:square;stroke-width:1.5;\"/>\n   </g>\n   <g id=\"patch_3\">\n    <path d=\"M 52.375 294.118125 \nL 52.375 22.318125 \n\" style=\"fill:none;stroke:#000000;stroke-linecap:square;stroke-linejoin:miter;stroke-width:0.8;\"/>\n   </g>\n   <g id=\"patch_4\">\n    <path d=\"M 432.829545 294.118125 \nL 432.829545 22.318125 \n\" style=\"fill:none;stroke:#000000;stroke-linecap:square;stroke-linejoin:miter;stroke-width:0.8;\"/>\n   </g>\n   <g id=\"patch_5\">\n    <path d=\"M 52.375 294.118125 \nL 432.829545 294.118125 \n\" style=\"fill:none;stroke:#000000;stroke-linecap:square;stroke-linejoin:miter;stroke-width:0.8;\"/>\n   </g>\n   <g id=\"patch_6\">\n    <path d=\"M 52.375 22.318125 \nL 432.829545 22.318125 \n\" style=\"fill:none;stroke:#000000;stroke-linecap:square;stroke-linejoin:miter;stroke-width:0.8;\"/>\n   </g>\n   <g id=\"text_13\">\n    <!-- Total loss -->\n    <g transform=\"translate(215.094148 16.318125)scale(0.12 -0.12)\">\n     <defs>\n      <path d=\"M -0.296875 72.90625 \nL 61.375 72.90625 \nL 61.375 64.59375 \nL 35.5 64.59375 \nL 35.5 0 \nL 25.59375 0 \nL 25.59375 64.59375 \nL -0.296875 64.59375 \nz\n\" id=\"DejaVuSans-84\"/>\n      <path d=\"M 30.609375 48.390625 \nQ 23.390625 48.390625 19.1875 42.75 \nQ 14.984375 37.109375 14.984375 27.296875 \nQ 14.984375 17.484375 19.15625 11.84375 \nQ 23.34375 6.203125 30.609375 6.203125 \nQ 37.796875 6.203125 41.984375 11.859375 \nQ 46.1875 17.53125 46.1875 27.296875 \nQ 46.1875 37.015625 41.984375 42.703125 \nQ 37.796875 48.390625 30.609375 48.390625 \nz\nM 30.609375 56 \nQ 42.328125 56 49.015625 48.375 \nQ 55.71875 40.765625 55.71875 27.296875 \nQ 55.71875 13.875 49.015625 6.21875 \nQ 42.328125 -1.421875 30.609375 -1.421875 \nQ 18.84375 -1.421875 12.171875 6.21875 \nQ 5.515625 13.875 5.515625 27.296875 \nQ 5.515625 40.765625 12.171875 48.375 \nQ 18.84375 56 30.609375 56 \nz\n\" id=\"DejaVuSans-111\"/>\n      <path d=\"M 18.3125 70.21875 \nL 18.3125 54.6875 \nL 36.8125 54.6875 \nL 36.8125 47.703125 \nL 18.3125 47.703125 \nL 18.3125 18.015625 \nQ 18.3125 11.328125 20.140625 9.421875 \nQ 21.96875 7.515625 27.59375 7.515625 \nL 36.8125 7.515625 \nL 36.8125 0 \nL 27.59375 0 \nQ 17.1875 0 13.234375 3.875 \nQ 9.28125 7.765625 9.28125 18.015625 \nL 9.28125 47.703125 \nL 2.6875 47.703125 \nL 2.6875 54.6875 \nL 9.28125 54.6875 \nL 9.28125 70.21875 \nz\n\" id=\"DejaVuSans-116\"/>\n      <path d=\"M 34.28125 27.484375 \nQ 23.390625 27.484375 19.1875 25 \nQ 14.984375 22.515625 14.984375 16.5 \nQ 14.984375 11.71875 18.140625 8.90625 \nQ 21.296875 6.109375 26.703125 6.109375 \nQ 34.1875 6.109375 38.703125 11.40625 \nQ 43.21875 16.703125 43.21875 25.484375 \nL 43.21875 27.484375 \nz\nM 52.203125 31.203125 \nL 52.203125 0 \nL 43.21875 0 \nL 43.21875 8.296875 \nQ 40.140625 3.328125 35.546875 0.953125 \nQ 30.953125 -1.421875 24.3125 -1.421875 \nQ 15.921875 -1.421875 10.953125 3.296875 \nQ 6 8.015625 6 15.921875 \nQ 6 25.140625 12.171875 29.828125 \nQ 18.359375 34.515625 30.609375 34.515625 \nL 43.21875 34.515625 \nL 43.21875 35.40625 \nQ 43.21875 41.609375 39.140625 45 \nQ 35.0625 48.390625 27.6875 48.390625 \nQ 23 48.390625 18.546875 47.265625 \nQ 14.109375 46.140625 10.015625 43.890625 \nL 10.015625 52.203125 \nQ 14.9375 54.109375 19.578125 55.046875 \nQ 24.21875 56 28.609375 56 \nQ 40.484375 56 46.34375 49.84375 \nQ 52.203125 43.703125 52.203125 31.203125 \nz\n\" id=\"DejaVuSans-97\"/>\n      <path d=\"M 9.421875 75.984375 \nL 18.40625 75.984375 \nL 18.40625 0 \nL 9.421875 0 \nz\n\" id=\"DejaVuSans-108\"/>\n      <path id=\"DejaVuSans-32\"/>\n      <path d=\"M 44.28125 53.078125 \nL 44.28125 44.578125 \nQ 40.484375 46.53125 36.375 47.5 \nQ 32.28125 48.484375 27.875 48.484375 \nQ 21.1875 48.484375 17.84375 46.4375 \nQ 14.5 44.390625 14.5 40.28125 \nQ 14.5 37.15625 16.890625 35.375 \nQ 19.28125 33.59375 26.515625 31.984375 \nL 29.59375 31.296875 \nQ 39.15625 29.25 43.1875 25.515625 \nQ 47.21875 21.78125 47.21875 15.09375 \nQ 47.21875 7.46875 41.1875 3.015625 \nQ 35.15625 -1.421875 24.609375 -1.421875 \nQ 20.21875 -1.421875 15.453125 -0.5625 \nQ 10.6875 0.296875 5.421875 2 \nL 5.421875 11.28125 \nQ 10.40625 8.6875 15.234375 7.390625 \nQ 20.0625 6.109375 24.8125 6.109375 \nQ 31.15625 6.109375 34.5625 8.28125 \nQ 37.984375 10.453125 37.984375 14.40625 \nQ 37.984375 18.0625 35.515625 20.015625 \nQ 33.0625 21.96875 24.703125 23.78125 \nL 21.578125 24.515625 \nQ 13.234375 26.265625 9.515625 29.90625 \nQ 5.8125 33.546875 5.8125 39.890625 \nQ 5.8125 47.609375 11.28125 51.796875 \nQ 16.75 56 26.8125 56 \nQ 31.78125 56 36.171875 55.265625 \nQ 40.578125 54.546875 44.28125 53.078125 \nz\n\" id=\"DejaVuSans-115\"/>\n     </defs>\n     <use xlink:href=\"#DejaVuSans-84\"/>\n     <use x=\"44.083984\" xlink:href=\"#DejaVuSans-111\"/>\n     <use x=\"105.265625\" xlink:href=\"#DejaVuSans-116\"/>\n     <use x=\"144.474609\" xlink:href=\"#DejaVuSans-97\"/>\n     <use x=\"205.753906\" xlink:href=\"#DejaVuSans-108\"/>\n     <use x=\"233.537109\" xlink:href=\"#DejaVuSans-32\"/>\n     <use x=\"265.324219\" xlink:href=\"#DejaVuSans-108\"/>\n     <use x=\"293.107422\" xlink:href=\"#DejaVuSans-111\"/>\n     <use x=\"354.289062\" xlink:href=\"#DejaVuSans-115\"/>\n     <use x=\"406.388672\" xlink:href=\"#DejaVuSans-115\"/>\n    </g>\n   </g>\n  </g>\n  <g id=\"axes_2\">\n   <g id=\"patch_7\">\n    <path d=\"M 508.920455 294.118125 \nL 889.375 294.118125 \nL 889.375 22.318125 \nL 508.920455 22.318125 \nz\n\" style=\"fill:#ffffff;\"/>\n   </g>\n   <g id=\"matplotlib.axis_3\">\n    <g id=\"xtick_7\">\n     <g id=\"line2d_14\">\n      <g>\n       <use style=\"stroke:#000000;stroke-width:0.8;\" x=\"526.213843\" xlink:href=\"#me5a2629b7a\" y=\"294.118125\"/>\n      </g>\n     </g>\n     <g id=\"text_14\">\n      <!-- 0 -->\n      <g transform=\"translate(523.032593 308.716563)scale(0.1 -0.1)\">\n       <use xlink:href=\"#DejaVuSans-48\"/>\n      </g>\n     </g>\n    </g>\n    <g id=\"xtick_8\">\n     <g id=\"line2d_15\">\n      <g>\n       <use style=\"stroke:#000000;stroke-width:0.8;\" x=\"596.086119\" xlink:href=\"#me5a2629b7a\" y=\"294.118125\"/>\n      </g>\n     </g>\n     <g id=\"text_15\">\n      <!-- 20 -->\n      <g transform=\"translate(589.723619 308.716563)scale(0.1 -0.1)\">\n       <use xlink:href=\"#DejaVuSans-50\"/>\n       <use x=\"63.623047\" xlink:href=\"#DejaVuSans-48\"/>\n      </g>\n     </g>\n    </g>\n    <g id=\"xtick_9\">\n     <g id=\"line2d_16\">\n      <g>\n       <use style=\"stroke:#000000;stroke-width:0.8;\" x=\"665.958396\" xlink:href=\"#me5a2629b7a\" y=\"294.118125\"/>\n      </g>\n     </g>\n     <g id=\"text_16\">\n      <!-- 40 -->\n      <g transform=\"translate(659.595896 308.716563)scale(0.1 -0.1)\">\n       <use xlink:href=\"#DejaVuSans-52\"/>\n       <use x=\"63.623047\" xlink:href=\"#DejaVuSans-48\"/>\n      </g>\n     </g>\n    </g>\n    <g id=\"xtick_10\">\n     <g id=\"line2d_17\">\n      <g>\n       <use style=\"stroke:#000000;stroke-width:0.8;\" x=\"735.830672\" xlink:href=\"#me5a2629b7a\" y=\"294.118125\"/>\n      </g>\n     </g>\n     <g id=\"text_17\">\n      <!-- 60 -->\n      <g transform=\"translate(729.468172 308.716563)scale(0.1 -0.1)\">\n       <use xlink:href=\"#DejaVuSans-54\"/>\n       <use x=\"63.623047\" xlink:href=\"#DejaVuSans-48\"/>\n      </g>\n     </g>\n    </g>\n    <g id=\"xtick_11\">\n     <g id=\"line2d_18\">\n      <g>\n       <use style=\"stroke:#000000;stroke-width:0.8;\" x=\"805.702949\" xlink:href=\"#me5a2629b7a\" y=\"294.118125\"/>\n      </g>\n     </g>\n     <g id=\"text_18\">\n      <!-- 80 -->\n      <g transform=\"translate(799.340449 308.716563)scale(0.1 -0.1)\">\n       <use xlink:href=\"#DejaVuSans-56\"/>\n       <use x=\"63.623047\" xlink:href=\"#DejaVuSans-48\"/>\n      </g>\n     </g>\n    </g>\n    <g id=\"xtick_12\">\n     <g id=\"line2d_19\">\n      <g>\n       <use style=\"stroke:#000000;stroke-width:0.8;\" x=\"875.575225\" xlink:href=\"#me5a2629b7a\" y=\"294.118125\"/>\n      </g>\n     </g>\n     <g id=\"text_19\">\n      <!-- 100 -->\n      <g transform=\"translate(866.031475 308.716563)scale(0.1 -0.1)\">\n       <use xlink:href=\"#DejaVuSans-49\"/>\n       <use x=\"63.623047\" xlink:href=\"#DejaVuSans-48\"/>\n       <use x=\"127.246094\" xlink:href=\"#DejaVuSans-48\"/>\n      </g>\n     </g>\n    </g>\n   </g>\n   <g id=\"matplotlib.axis_4\">\n    <g id=\"ytick_7\">\n     <g id=\"line2d_20\">\n      <g>\n       <use style=\"stroke:#000000;stroke-width:0.8;\" x=\"508.920455\" xlink:href=\"#mb94c360fd2\" y=\"281.76358\"/>\n      </g>\n     </g>\n     <g id=\"text_20\">\n      <!-- 0.0 -->\n      <g transform=\"translate(486.01733 285.562798)scale(0.1 -0.1)\">\n       <defs>\n        <path d=\"M 10.6875 12.40625 \nL 21 12.40625 \nL 21 0 \nL 10.6875 0 \nz\n\" id=\"DejaVuSans-46\"/>\n       </defs>\n       <use xlink:href=\"#DejaVuSans-48\"/>\n       <use x=\"63.623047\" xlink:href=\"#DejaVuSans-46\"/>\n       <use x=\"95.410156\" xlink:href=\"#DejaVuSans-48\"/>\n      </g>\n     </g>\n    </g>\n    <g id=\"ytick_8\">\n     <g id=\"line2d_21\">\n      <g>\n       <use style=\"stroke:#000000;stroke-width:0.8;\" x=\"508.920455\" xlink:href=\"#mb94c360fd2\" y=\"232.345398\"/>\n      </g>\n     </g>\n     <g id=\"text_21\">\n      <!-- 0.2 -->\n      <g transform=\"translate(486.01733 236.144616)scale(0.1 -0.1)\">\n       <use xlink:href=\"#DejaVuSans-48\"/>\n       <use x=\"63.623047\" xlink:href=\"#DejaVuSans-46\"/>\n       <use x=\"95.410156\" xlink:href=\"#DejaVuSans-50\"/>\n      </g>\n     </g>\n    </g>\n    <g id=\"ytick_9\">\n     <g id=\"line2d_22\">\n      <g>\n       <use style=\"stroke:#000000;stroke-width:0.8;\" x=\"508.920455\" xlink:href=\"#mb94c360fd2\" y=\"182.927216\"/>\n      </g>\n     </g>\n     <g id=\"text_22\">\n      <!-- 0.4 -->\n      <g transform=\"translate(486.01733 186.726435)scale(0.1 -0.1)\">\n       <use xlink:href=\"#DejaVuSans-48\"/>\n       <use x=\"63.623047\" xlink:href=\"#DejaVuSans-46\"/>\n       <use x=\"95.410156\" xlink:href=\"#DejaVuSans-52\"/>\n      </g>\n     </g>\n    </g>\n    <g id=\"ytick_10\">\n     <g id=\"line2d_23\">\n      <g>\n       <use style=\"stroke:#000000;stroke-width:0.8;\" x=\"508.920455\" xlink:href=\"#mb94c360fd2\" y=\"133.509034\"/>\n      </g>\n     </g>\n     <g id=\"text_23\">\n      <!-- 0.6 -->\n      <g transform=\"translate(486.01733 137.308253)scale(0.1 -0.1)\">\n       <use xlink:href=\"#DejaVuSans-48\"/>\n       <use x=\"63.623047\" xlink:href=\"#DejaVuSans-46\"/>\n       <use x=\"95.410156\" xlink:href=\"#DejaVuSans-54\"/>\n      </g>\n     </g>\n    </g>\n    <g id=\"ytick_11\">\n     <g id=\"line2d_24\">\n      <g>\n       <use style=\"stroke:#000000;stroke-width:0.8;\" x=\"508.920455\" xlink:href=\"#mb94c360fd2\" y=\"84.090852\"/>\n      </g>\n     </g>\n     <g id=\"text_24\">\n      <!-- 0.8 -->\n      <g transform=\"translate(486.01733 87.890071)scale(0.1 -0.1)\">\n       <use xlink:href=\"#DejaVuSans-48\"/>\n       <use x=\"63.623047\" xlink:href=\"#DejaVuSans-46\"/>\n       <use x=\"95.410156\" xlink:href=\"#DejaVuSans-56\"/>\n      </g>\n     </g>\n    </g>\n    <g id=\"ytick_12\">\n     <g id=\"line2d_25\">\n      <g>\n       <use style=\"stroke:#000000;stroke-width:0.8;\" x=\"508.920455\" xlink:href=\"#mb94c360fd2\" y=\"34.67267\"/>\n      </g>\n     </g>\n     <g id=\"text_25\">\n      <!-- 1.0 -->\n      <g transform=\"translate(486.01733 38.471889)scale(0.1 -0.1)\">\n       <use xlink:href=\"#DejaVuSans-49\"/>\n       <use x=\"63.623047\" xlink:href=\"#DejaVuSans-46\"/>\n       <use x=\"95.410156\" xlink:href=\"#DejaVuSans-48\"/>\n      </g>\n     </g>\n    </g>\n   </g>\n   <g id=\"line2d_26\">\n    <path clip-path=\"url(#pddff191192)\" d=\"M 526.213843 281.76358 \nL 529.707457 34.67267 \nL 533.201071 34.67267 \nL 536.694684 34.67267 \nL 540.188298 65.559034 \nL 543.681912 65.559034 \nL 547.175526 219.990852 \nL 550.66914 219.990852 \nL 554.162754 219.990852 \nL 557.656367 34.67267 \nL 561.149981 65.559034 \nL 564.643595 127.331761 \nL 568.137209 219.990852 \nL 571.630823 34.67267 \nL 575.124437 219.990852 \nL 578.61805 96.445398 \nL 582.111664 219.990852 \nL 585.605278 219.990852 \nL 589.098892 219.990852 \nL 592.592506 219.990852 \nL 596.086119 219.990852 \nL 599.579733 219.990852 \nL 603.073347 219.990852 \nL 606.566961 219.990852 \nL 610.060575 219.990852 \nL 613.554189 219.990852 \nL 617.047802 219.990852 \nL 620.541416 219.990852 \nL 624.03503 219.990852 \nL 627.528644 219.990852 \nL 631.022258 219.990852 \nL 634.515872 219.990852 \nL 638.009485 219.990852 \nL 641.503099 219.990852 \nL 644.996713 219.990852 \nL 648.490327 219.990852 \nL 651.983941 219.990852 \nL 655.477554 219.990852 \nL 658.971168 219.990852 \nL 662.464782 219.990852 \nL 665.958396 219.990852 \nL 669.45201 189.104489 \nL 672.945624 158.218125 \nL 676.439237 189.104489 \nL 679.932851 219.990852 \nL 683.426465 158.218125 \nL 686.920079 189.104489 \nL 690.413693 219.990852 \nL 693.907307 219.990852 \nL 697.40092 189.104489 \nL 700.894534 65.559034 \nL 704.388148 65.559034 \nL 707.881762 34.67267 \nL 711.375376 189.104489 \nL 714.868989 158.218125 \nL 718.362603 96.445398 \nL 721.856217 127.331761 \nL 725.349831 96.445398 \nL 728.843445 189.104489 \nL 732.337059 158.218125 \nL 735.830672 189.104489 \nL 739.324286 158.218125 \nL 742.8179 189.104489 \nL 746.311514 158.218125 \nL 749.805128 127.331761 \nL 753.298742 96.445398 \nL 756.792355 96.445398 \nL 760.285969 219.990852 \nL 763.779583 127.331761 \nL 767.273197 65.559034 \nL 770.766811 189.104489 \nL 774.260424 219.990852 \nL 777.754038 219.990852 \nL 781.247652 219.990852 \nL 784.741266 219.990852 \nL 788.23488 219.990852 \nL 791.728494 219.990852 \nL 795.222107 219.990852 \nL 798.715721 219.990852 \nL 802.209335 189.104489 \nL 805.702949 189.104489 \nL 809.196563 189.104489 \nL 812.690177 65.559034 \nL 816.18379 127.331761 \nL 819.677404 189.104489 \nL 823.171018 127.331761 \nL 826.664632 158.218125 \nL 830.158246 189.104489 \nL 833.65186 96.445398 \nL 837.145473 219.990852 \nL 840.639087 158.218125 \nL 844.132701 219.990852 \nL 847.626315 96.445398 \nL 851.119929 219.990852 \nL 854.613542 65.559034 \nL 858.107156 96.445398 \nL 861.60077 189.104489 \nL 865.094384 158.218125 \nL 868.587998 96.445398 \nL 872.081612 158.218125 \n\" style=\"fill:none;stroke:#ff0000;stroke-linecap:square;stroke-width:1.5;\"/>\n   </g>\n   <g id=\"patch_8\">\n    <path d=\"M 508.920455 294.118125 \nL 508.920455 22.318125 \n\" style=\"fill:none;stroke:#000000;stroke-linecap:square;stroke-linejoin:miter;stroke-width:0.8;\"/>\n   </g>\n   <g id=\"patch_9\">\n    <path d=\"M 889.375 294.118125 \nL 889.375 22.318125 \n\" style=\"fill:none;stroke:#000000;stroke-linecap:square;stroke-linejoin:miter;stroke-width:0.8;\"/>\n   </g>\n   <g id=\"patch_10\">\n    <path d=\"M 508.920455 294.118125 \nL 889.375 294.118125 \n\" style=\"fill:none;stroke:#000000;stroke-linecap:square;stroke-linejoin:miter;stroke-width:0.8;\"/>\n   </g>\n   <g id=\"patch_11\">\n    <path d=\"M 508.920455 22.318125 \nL 889.375 22.318125 \n\" style=\"fill:none;stroke:#000000;stroke-linecap:square;stroke-linejoin:miter;stroke-width:0.8;\"/>\n   </g>\n   <g id=\"text_26\">\n    <!-- class_acc -->\n    <g transform=\"translate(670.978665 16.318125)scale(0.12 -0.12)\">\n     <defs>\n      <path d=\"M 48.78125 52.59375 \nL 48.78125 44.1875 \nQ 44.96875 46.296875 41.140625 47.34375 \nQ 37.3125 48.390625 33.40625 48.390625 \nQ 24.65625 48.390625 19.8125 42.84375 \nQ 14.984375 37.3125 14.984375 27.296875 \nQ 14.984375 17.28125 19.8125 11.734375 \nQ 24.65625 6.203125 33.40625 6.203125 \nQ 37.3125 6.203125 41.140625 7.25 \nQ 44.96875 8.296875 48.78125 10.40625 \nL 48.78125 2.09375 \nQ 45.015625 0.34375 40.984375 -0.53125 \nQ 36.96875 -1.421875 32.421875 -1.421875 \nQ 20.0625 -1.421875 12.78125 6.34375 \nQ 5.515625 14.109375 5.515625 27.296875 \nQ 5.515625 40.671875 12.859375 48.328125 \nQ 20.21875 56 33.015625 56 \nQ 37.15625 56 41.109375 55.140625 \nQ 45.0625 54.296875 48.78125 52.59375 \nz\n\" id=\"DejaVuSans-99\"/>\n      <path d=\"M 50.984375 -16.609375 \nL 50.984375 -23.578125 \nL -0.984375 -23.578125 \nL -0.984375 -16.609375 \nz\n\" id=\"DejaVuSans-95\"/>\n     </defs>\n     <use xlink:href=\"#DejaVuSans-99\"/>\n     <use x=\"54.980469\" xlink:href=\"#DejaVuSans-108\"/>\n     <use x=\"82.763672\" xlink:href=\"#DejaVuSans-97\"/>\n     <use x=\"144.042969\" xlink:href=\"#DejaVuSans-115\"/>\n     <use x=\"196.142578\" xlink:href=\"#DejaVuSans-115\"/>\n     <use x=\"248.242188\" xlink:href=\"#DejaVuSans-95\"/>\n     <use x=\"298.242188\" xlink:href=\"#DejaVuSans-97\"/>\n     <use x=\"359.521484\" xlink:href=\"#DejaVuSans-99\"/>\n     <use x=\"414.501953\" xlink:href=\"#DejaVuSans-99\"/>\n    </g>\n   </g>\n  </g>\n </g>\n <defs>\n  <clipPath id=\"p0cc6ebad9d\">\n   <rect height=\"271.8\" width=\"380.454545\" x=\"52.375\" y=\"22.318125\"/>\n  </clipPath>\n  <clipPath id=\"pddff191192\">\n   <rect height=\"271.8\" width=\"380.454545\" x=\"508.920455\" y=\"22.318125\"/>\n  </clipPath>\n </defs>\n</svg>\n",
            "image/png": "[encoded data removed]"
          },
          "metadata": {
            "needs_background": "light"
          }
        },
        {
          "output_type": "display_data",
          "data": {
            "text/plain": [
              "<Figure size 1080x360 with 2 Axes>"
            ],
            "image/svg+xml": "<?xml version=\"1.0\" encoding=\"utf-8\" standalone=\"no\"?>\n<!DOCTYPE svg PUBLIC \"-//W3C//DTD SVG 1.1//EN\"\n  \"http://www.w3.org/Graphics/SVG/1.1/DTD/svg11.dtd\">\n<!-- Created with matplotlib (https://matplotlib.org/) -->\n<svg height=\"317.99625pt\" version=\"1.1\" viewBox=\"0 0 864.7625 317.99625\" width=\"864.7625pt\" xmlns=\"http://www.w3.org/2000/svg\" xmlns:xlink=\"http://www.w3.org/1999/xlink\">\n <metadata>\n  <rdf:RDF xmlns:cc=\"http://creativecommons.org/ns#\" xmlns:dc=\"http://purl.org/dc/elements/1.1/\" xmlns:rdf=\"http://www.w3.org/1999/02/22-rdf-syntax-ns#\">\n   <cc:Work>\n    <dc:type rdf:resource=\"http://purl.org/dc/dcmitype/StillImage\"/>\n    <dc:date>2021-08-29T17:25:37.035707</dc:date>\n    <dc:format>image/svg+xml</dc:format>\n    <dc:creator>\n     <cc:Agent>\n      <dc:title>Matplotlib v3.3.4, https://matplotlib.org/</dc:title>\n     </cc:Agent>\n    </dc:creator>\n   </cc:Work>\n  </rdf:RDF>\n </metadata>\n <defs>\n  <style type=\"text/css\">*{stroke-linecap:butt;stroke-linejoin:round;}</style>\n </defs>\n <g id=\"figure_1\">\n  <g id=\"patch_1\">\n   <path d=\"M 0 317.99625 \nL 864.7625 317.99625 \nL 864.7625 0 \nL 0 0 \nz\n\" style=\"fill:none;\"/>\n  </g>\n  <g id=\"axes_1\">\n   <g id=\"patch_2\">\n    <path d=\"M 20.5625 294.118125 \nL 401.017045 294.118125 \nL 401.017045 22.318125 \nL 20.5625 22.318125 \nz\n\" style=\"fill:#ffffff;\"/>\n   </g>\n   <g id=\"matplotlib.axis_1\">\n    <g id=\"xtick_1\">\n     <g id=\"line2d_1\">\n      <defs>\n       <path d=\"M 0 0 \nL 0 3.5 \n\" id=\"m034f1d532c\" style=\"stroke:#000000;stroke-width:0.8;\"/>\n      </defs>\n      <g>\n       <use style=\"stroke:#000000;stroke-width:0.8;\" x=\"37.855888\" xlink:href=\"#m034f1d532c\" y=\"294.118125\"/>\n      </g>\n     </g>\n     <g id=\"text_1\">\n      <!-- 0 -->\n      <g transform=\"translate(34.674638 308.716563)scale(0.1 -0.1)\">\n       <defs>\n        <path d=\"M 31.78125 66.40625 \nQ 24.171875 66.40625 20.328125 58.90625 \nQ 16.5 51.421875 16.5 36.375 \nQ 16.5 21.390625 20.328125 13.890625 \nQ 24.171875 6.390625 31.78125 6.390625 \nQ 39.453125 6.390625 43.28125 13.890625 \nQ 47.125 21.390625 47.125 36.375 \nQ 47.125 51.421875 43.28125 58.90625 \nQ 39.453125 66.40625 31.78125 66.40625 \nz\nM 31.78125 74.21875 \nQ 44.046875 74.21875 50.515625 64.515625 \nQ 56.984375 54.828125 56.984375 36.375 \nQ 56.984375 17.96875 50.515625 8.265625 \nQ 44.046875 -1.421875 31.78125 -1.421875 \nQ 19.53125 -1.421875 13.0625 8.265625 \nQ 6.59375 17.96875 6.59375 36.375 \nQ 6.59375 54.828125 13.0625 64.515625 \nQ 19.53125 74.21875 31.78125 74.21875 \nz\n\" id=\"DejaVuSans-48\"/>\n       </defs>\n       <use xlink:href=\"#DejaVuSans-48\"/>\n      </g>\n     </g>\n    </g>\n    <g id=\"xtick_2\">\n     <g id=\"line2d_2\">\n      <g>\n       <use style=\"stroke:#000000;stroke-width:0.8;\" x=\"107.728165\" xlink:href=\"#m034f1d532c\" y=\"294.118125\"/>\n      </g>\n     </g>\n     <g id=\"text_2\">\n      <!-- 20 -->\n      <g transform=\"translate(101.365665 308.716563)scale(0.1 -0.1)\">\n       <defs>\n        <path d=\"M 19.1875 8.296875 \nL 53.609375 8.296875 \nL 53.609375 0 \nL 7.328125 0 \nL 7.328125 8.296875 \nQ 12.9375 14.109375 22.625 23.890625 \nQ 32.328125 33.6875 34.8125 36.53125 \nQ 39.546875 41.84375 41.421875 45.53125 \nQ 43.3125 49.21875 43.3125 52.78125 \nQ 43.3125 58.59375 39.234375 62.25 \nQ 35.15625 65.921875 28.609375 65.921875 \nQ 23.96875 65.921875 18.8125 64.3125 \nQ 13.671875 62.703125 7.8125 59.421875 \nL 7.8125 69.390625 \nQ 13.765625 71.78125 18.9375 73 \nQ 24.125 74.21875 28.421875 74.21875 \nQ 39.75 74.21875 46.484375 68.546875 \nQ 53.21875 62.890625 53.21875 53.421875 \nQ 53.21875 48.921875 51.53125 44.890625 \nQ 49.859375 40.875 45.40625 35.40625 \nQ 44.1875 33.984375 37.640625 27.21875 \nQ 31.109375 20.453125 19.1875 8.296875 \nz\n\" id=\"DejaVuSans-50\"/>\n       </defs>\n       <use xlink:href=\"#DejaVuSans-50\"/>\n       <use x=\"63.623047\" xlink:href=\"#DejaVuSans-48\"/>\n      </g>\n     </g>\n    </g>\n    <g id=\"xtick_3\">\n     <g id=\"line2d_3\">\n      <g>\n       <use style=\"stroke:#000000;stroke-width:0.8;\" x=\"177.600441\" xlink:href=\"#m034f1d532c\" y=\"294.118125\"/>\n      </g>\n     </g>\n     <g id=\"text_3\">\n      <!-- 40 -->\n      <g transform=\"translate(171.237941 308.716563)scale(0.1 -0.1)\">\n       <defs>\n        <path d=\"M 37.796875 64.3125 \nL 12.890625 25.390625 \nL 37.796875 25.390625 \nz\nM 35.203125 72.90625 \nL 47.609375 72.90625 \nL 47.609375 25.390625 \nL 58.015625 25.390625 \nL 58.015625 17.1875 \nL 47.609375 17.1875 \nL 47.609375 0 \nL 37.796875 0 \nL 37.796875 17.1875 \nL 4.890625 17.1875 \nL 4.890625 26.703125 \nz\n\" id=\"DejaVuSans-52\"/>\n       </defs>\n       <use xlink:href=\"#DejaVuSans-52\"/>\n       <use x=\"63.623047\" xlink:href=\"#DejaVuSans-48\"/>\n      </g>\n     </g>\n    </g>\n    <g id=\"xtick_4\">\n     <g id=\"line2d_4\">\n      <g>\n       <use style=\"stroke:#000000;stroke-width:0.8;\" x=\"247.472718\" xlink:href=\"#m034f1d532c\" y=\"294.118125\"/>\n      </g>\n     </g>\n     <g id=\"text_4\">\n      <!-- 60 -->\n      <g transform=\"translate(241.110218 308.716563)scale(0.1 -0.1)\">\n       <defs>\n        <path d=\"M 33.015625 40.375 \nQ 26.375 40.375 22.484375 35.828125 \nQ 18.609375 31.296875 18.609375 23.390625 \nQ 18.609375 15.53125 22.484375 10.953125 \nQ 26.375 6.390625 33.015625 6.390625 \nQ 39.65625 6.390625 43.53125 10.953125 \nQ 47.40625 15.53125 47.40625 23.390625 \nQ 47.40625 31.296875 43.53125 35.828125 \nQ 39.65625 40.375 33.015625 40.375 \nz\nM 52.59375 71.296875 \nL 52.59375 62.3125 \nQ 48.875 64.0625 45.09375 64.984375 \nQ 41.3125 65.921875 37.59375 65.921875 \nQ 27.828125 65.921875 22.671875 59.328125 \nQ 17.53125 52.734375 16.796875 39.40625 \nQ 19.671875 43.65625 24.015625 45.921875 \nQ 28.375 48.1875 33.59375 48.1875 \nQ 44.578125 48.1875 50.953125 41.515625 \nQ 57.328125 34.859375 57.328125 23.390625 \nQ 57.328125 12.15625 50.6875 5.359375 \nQ 44.046875 -1.421875 33.015625 -1.421875 \nQ 20.359375 -1.421875 13.671875 8.265625 \nQ 6.984375 17.96875 6.984375 36.375 \nQ 6.984375 53.65625 15.1875 63.9375 \nQ 23.390625 74.21875 37.203125 74.21875 \nQ 40.921875 74.21875 44.703125 73.484375 \nQ 48.484375 72.75 52.59375 71.296875 \nz\n\" id=\"DejaVuSans-54\"/>\n       </defs>\n       <use xlink:href=\"#DejaVuSans-54\"/>\n       <use x=\"63.623047\" xlink:href=\"#DejaVuSans-48\"/>\n      </g>\n     </g>\n    </g>\n    <g id=\"xtick_5\">\n     <g id=\"line2d_5\">\n      <g>\n       <use style=\"stroke:#000000;stroke-width:0.8;\" x=\"317.344994\" xlink:href=\"#m034f1d532c\" y=\"294.118125\"/>\n      </g>\n     </g>\n     <g id=\"text_5\">\n      <!-- 80 -->\n      <g transform=\"translate(310.982494 308.716563)scale(0.1 -0.1)\">\n       <defs>\n        <path d=\"M 31.78125 34.625 \nQ 24.75 34.625 20.71875 30.859375 \nQ 16.703125 27.09375 16.703125 20.515625 \nQ 16.703125 13.921875 20.71875 10.15625 \nQ 24.75 6.390625 31.78125 6.390625 \nQ 38.8125 6.390625 42.859375 10.171875 \nQ 46.921875 13.96875 46.921875 20.515625 \nQ 46.921875 27.09375 42.890625 30.859375 \nQ 38.875 34.625 31.78125 34.625 \nz\nM 21.921875 38.8125 \nQ 15.578125 40.375 12.03125 44.71875 \nQ 8.5 49.078125 8.5 55.328125 \nQ 8.5 64.0625 14.71875 69.140625 \nQ 20.953125 74.21875 31.78125 74.21875 \nQ 42.671875 74.21875 48.875 69.140625 \nQ 55.078125 64.0625 55.078125 55.328125 \nQ 55.078125 49.078125 51.53125 44.71875 \nQ 48 40.375 41.703125 38.8125 \nQ 48.828125 37.15625 52.796875 32.3125 \nQ 56.78125 27.484375 56.78125 20.515625 \nQ 56.78125 9.90625 50.3125 4.234375 \nQ 43.84375 -1.421875 31.78125 -1.421875 \nQ 19.734375 -1.421875 13.25 4.234375 \nQ 6.78125 9.90625 6.78125 20.515625 \nQ 6.78125 27.484375 10.78125 32.3125 \nQ 14.796875 37.15625 21.921875 38.8125 \nz\nM 18.3125 54.390625 \nQ 18.3125 48.734375 21.84375 45.5625 \nQ 25.390625 42.390625 31.78125 42.390625 \nQ 38.140625 42.390625 41.71875 45.5625 \nQ 45.3125 48.734375 45.3125 54.390625 \nQ 45.3125 60.0625 41.71875 63.234375 \nQ 38.140625 66.40625 31.78125 66.40625 \nQ 25.390625 66.40625 21.84375 63.234375 \nQ 18.3125 60.0625 18.3125 54.390625 \nz\n\" id=\"DejaVuSans-56\"/>\n       </defs>\n       <use xlink:href=\"#DejaVuSans-56\"/>\n       <use x=\"63.623047\" xlink:href=\"#DejaVuSans-48\"/>\n      </g>\n     </g>\n    </g>\n    <g id=\"xtick_6\">\n     <g id=\"line2d_6\">\n      <g>\n       <use style=\"stroke:#000000;stroke-width:0.8;\" x=\"387.217271\" xlink:href=\"#m034f1d532c\" y=\"294.118125\"/>\n      </g>\n     </g>\n     <g id=\"text_6\">\n      <!-- 100 -->\n      <g transform=\"translate(377.673521 308.716563)scale(0.1 -0.1)\">\n       <defs>\n        <path d=\"M 12.40625 8.296875 \nL 28.515625 8.296875 \nL 28.515625 63.921875 \nL 10.984375 60.40625 \nL 10.984375 69.390625 \nL 28.421875 72.90625 \nL 38.28125 72.90625 \nL 38.28125 8.296875 \nL 54.390625 8.296875 \nL 54.390625 0 \nL 12.40625 0 \nz\n\" id=\"DejaVuSans-49\"/>\n       </defs>\n       <use xlink:href=\"#DejaVuSans-49\"/>\n       <use x=\"63.623047\" xlink:href=\"#DejaVuSans-48\"/>\n       <use x=\"127.246094\" xlink:href=\"#DejaVuSans-48\"/>\n      </g>\n     </g>\n    </g>\n   </g>\n   <g id=\"matplotlib.axis_2\">\n    <g id=\"ytick_1\">\n     <g id=\"line2d_7\">\n      <defs>\n       <path d=\"M 0 0 \nL -3.5 0 \n\" id=\"m670da254e6\" style=\"stroke:#000000;stroke-width:0.8;\"/>\n      </defs>\n      <g>\n       <use style=\"stroke:#000000;stroke-width:0.8;\" x=\"20.5625\" xlink:href=\"#m670da254e6\" y=\"266.005282\"/>\n      </g>\n     </g>\n     <g id=\"text_7\">\n      <!-- 1 -->\n      <g transform=\"translate(7.2 269.804501)scale(0.1 -0.1)\">\n       <use xlink:href=\"#DejaVuSans-49\"/>\n      </g>\n     </g>\n    </g>\n    <g id=\"ytick_2\">\n     <g id=\"line2d_8\">\n      <g>\n       <use style=\"stroke:#000000;stroke-width:0.8;\" x=\"20.5625\" xlink:href=\"#m670da254e6\" y=\"226.976988\"/>\n      </g>\n     </g>\n     <g id=\"text_8\">\n      <!-- 2 -->\n      <g transform=\"translate(7.2 230.776207)scale(0.1 -0.1)\">\n       <use xlink:href=\"#DejaVuSans-50\"/>\n      </g>\n     </g>\n    </g>\n    <g id=\"ytick_3\">\n     <g id=\"line2d_9\">\n      <g>\n       <use style=\"stroke:#000000;stroke-width:0.8;\" x=\"20.5625\" xlink:href=\"#m670da254e6\" y=\"187.948694\"/>\n      </g>\n     </g>\n     <g id=\"text_9\">\n      <!-- 3 -->\n      <g transform=\"translate(7.2 191.747913)scale(0.1 -0.1)\">\n       <defs>\n        <path d=\"M 40.578125 39.3125 \nQ 47.65625 37.796875 51.625 33 \nQ 55.609375 28.21875 55.609375 21.1875 \nQ 55.609375 10.40625 48.1875 4.484375 \nQ 40.765625 -1.421875 27.09375 -1.421875 \nQ 22.515625 -1.421875 17.65625 -0.515625 \nQ 12.796875 0.390625 7.625 2.203125 \nL 7.625 11.71875 \nQ 11.71875 9.328125 16.59375 8.109375 \nQ 21.484375 6.890625 26.8125 6.890625 \nQ 36.078125 6.890625 40.9375 10.546875 \nQ 45.796875 14.203125 45.796875 21.1875 \nQ 45.796875 27.640625 41.28125 31.265625 \nQ 36.765625 34.90625 28.71875 34.90625 \nL 20.21875 34.90625 \nL 20.21875 43.015625 \nL 29.109375 43.015625 \nQ 36.375 43.015625 40.234375 45.921875 \nQ 44.09375 48.828125 44.09375 54.296875 \nQ 44.09375 59.90625 40.109375 62.90625 \nQ 36.140625 65.921875 28.71875 65.921875 \nQ 24.65625 65.921875 20.015625 65.03125 \nQ 15.375 64.15625 9.8125 62.3125 \nL 9.8125 71.09375 \nQ 15.4375 72.65625 20.34375 73.4375 \nQ 25.25 74.21875 29.59375 74.21875 \nQ 40.828125 74.21875 47.359375 69.109375 \nQ 53.90625 64.015625 53.90625 55.328125 \nQ 53.90625 49.265625 50.4375 45.09375 \nQ 46.96875 40.921875 40.578125 39.3125 \nz\n\" id=\"DejaVuSans-51\"/>\n       </defs>\n       <use xlink:href=\"#DejaVuSans-51\"/>\n      </g>\n     </g>\n    </g>\n    <g id=\"ytick_4\">\n     <g id=\"line2d_10\">\n      <g>\n       <use style=\"stroke:#000000;stroke-width:0.8;\" x=\"20.5625\" xlink:href=\"#m670da254e6\" y=\"148.9204\"/>\n      </g>\n     </g>\n     <g id=\"text_10\">\n      <!-- 4 -->\n      <g transform=\"translate(7.2 152.719619)scale(0.1 -0.1)\">\n       <use xlink:href=\"#DejaVuSans-52\"/>\n      </g>\n     </g>\n    </g>\n    <g id=\"ytick_5\">\n     <g id=\"line2d_11\">\n      <g>\n       <use style=\"stroke:#000000;stroke-width:0.8;\" x=\"20.5625\" xlink:href=\"#m670da254e6\" y=\"109.892106\"/>\n      </g>\n     </g>\n     <g id=\"text_11\">\n      <!-- 5 -->\n      <g transform=\"translate(7.2 113.691324)scale(0.1 -0.1)\">\n       <defs>\n        <path d=\"M 10.796875 72.90625 \nL 49.515625 72.90625 \nL 49.515625 64.59375 \nL 19.828125 64.59375 \nL 19.828125 46.734375 \nQ 21.96875 47.46875 24.109375 47.828125 \nQ 26.265625 48.1875 28.421875 48.1875 \nQ 40.625 48.1875 47.75 41.5 \nQ 54.890625 34.8125 54.890625 23.390625 \nQ 54.890625 11.625 47.5625 5.09375 \nQ 40.234375 -1.421875 26.90625 -1.421875 \nQ 22.3125 -1.421875 17.546875 -0.640625 \nQ 12.796875 0.140625 7.71875 1.703125 \nL 7.71875 11.625 \nQ 12.109375 9.234375 16.796875 8.0625 \nQ 21.484375 6.890625 26.703125 6.890625 \nQ 35.15625 6.890625 40.078125 11.328125 \nQ 45.015625 15.765625 45.015625 23.390625 \nQ 45.015625 31 40.078125 35.4375 \nQ 35.15625 39.890625 26.703125 39.890625 \nQ 22.75 39.890625 18.8125 39.015625 \nQ 14.890625 38.140625 10.796875 36.28125 \nz\n\" id=\"DejaVuSans-53\"/>\n       </defs>\n       <use xlink:href=\"#DejaVuSans-53\"/>\n      </g>\n     </g>\n    </g>\n    <g id=\"ytick_6\">\n     <g id=\"line2d_12\">\n      <g>\n       <use style=\"stroke:#000000;stroke-width:0.8;\" x=\"20.5625\" xlink:href=\"#m670da254e6\" y=\"70.863811\"/>\n      </g>\n     </g>\n     <g id=\"text_12\">\n      <!-- 6 -->\n      <g transform=\"translate(7.2 74.66303)scale(0.1 -0.1)\">\n       <use xlink:href=\"#DejaVuSans-54\"/>\n      </g>\n     </g>\n    </g>\n    <g id=\"ytick_7\">\n     <g id=\"line2d_13\">\n      <g>\n       <use style=\"stroke:#000000;stroke-width:0.8;\" x=\"20.5625\" xlink:href=\"#m670da254e6\" y=\"31.835517\"/>\n      </g>\n     </g>\n     <g id=\"text_13\">\n      <!-- 7 -->\n      <g transform=\"translate(7.2 35.634736)scale(0.1 -0.1)\">\n       <defs>\n        <path d=\"M 8.203125 72.90625 \nL 55.078125 72.90625 \nL 55.078125 68.703125 \nL 28.609375 0 \nL 18.3125 0 \nL 43.21875 64.59375 \nL 8.203125 64.59375 \nz\n\" id=\"DejaVuSans-55\"/>\n       </defs>\n       <use xlink:href=\"#DejaVuSans-55\"/>\n      </g>\n     </g>\n    </g>\n   </g>\n   <g id=\"line2d_14\">\n    <path clip-path=\"url(#p83549cdb8a)\" d=\"M 37.855888 115.999265 \nL 41.349502 246.658631 \nL 44.843116 253.67966 \nL 48.33673 281.76358 \nL 51.830344 253.679637 \nL 55.323958 236.321894 \nL 58.817571 245.10641 \nL 62.311185 248.370494 \nL 65.804799 34.67267 \nL 69.298413 154.982942 \nL 72.792027 240.539845 \nL 76.28564 243.928514 \nL 79.779254 267.706347 \nL 83.272868 260.698689 \nL 86.766482 263.054044 \nL 90.260096 233.643797 \nL 93.75371 260.687611 \nL 97.247323 258.359213 \nL 100.740937 267.633772 \nL 104.234551 264.206733 \nL 107.728165 241.386132 \nL 111.221779 247.790551 \nL 114.715393 236.229085 \nL 118.209006 251.634517 \nL 121.70262 237.563222 \nL 125.196234 256.391051 \nL 128.689848 251.751538 \nL 132.183462 249.566038 \nL 135.677076 248.734676 \nL 139.170689 259.801666 \nL 142.664303 256.736916 \nL 146.157917 254.043047 \nL 149.651531 244.480933 \nL 153.145145 249.217004 \nL 156.638758 254.376829 \nL 160.132372 253.0494 \nL 163.625986 248.093613 \nL 167.1196 250.481349 \nL 170.613214 257.512959 \nL 174.106828 268.822578 \nL 177.600441 262.109677 \nL 181.094055 247.057814 \nL 184.587669 269.041385 \nL 188.081283 259.705303 \nL 191.574897 264.504547 \nL 195.068511 257.236319 \nL 198.562124 251.931131 \nL 202.055738 265.417453 \nL 205.549352 269.60631 \nL 209.042966 253.867255 \nL 212.53658 258.370518 \nL 216.030193 248.999484 \nL 219.523807 267.721512 \nL 223.017421 253.679772 \nL 226.511035 253.679967 \nL 230.004649 251.34031 \nL 233.498263 277.110386 \nL 236.991876 265.080414 \nL 240.48549 260.780992 \nL 243.979104 267.849805 \nL 247.472718 251.566832 \nL 250.966332 250.105806 \nL 254.459946 257.134214 \nL 257.953559 275.865563 \nL 261.447173 264.173979 \nL 264.940787 265.748109 \nL 268.434401 263.421348 \nL 271.928015 240.83147 \nL 275.421628 255.731512 \nL 278.915242 257.915193 \nL 282.408856 263.020164 \nL 285.90247 249.233954 \nL 289.396084 263.531236 \nL 292.889698 261.524816 \nL 296.383311 268.305249 \nL 299.876925 265.214737 \nL 303.370539 249.693075 \nL 306.864153 263.797501 \nL 310.357767 263.110024 \nL 313.851381 256.8644 \nL 317.344994 260.262746 \nL 320.838608 268.138735 \nL 324.332222 259.410695 \nL 327.825836 241.64418 \nL 331.31945 258.138631 \nL 334.813063 260.520832 \nL 338.306677 257.345183 \nL 341.800291 246.578124 \nL 345.293905 274.711204 \nL 348.787519 267.739319 \nL 352.281133 251.406976 \nL 355.774746 258.480923 \nL 359.26836 251.525378 \nL 362.761974 265.681456 \nL 366.255588 249.149789 \nL 369.749202 275.978064 \nL 373.242816 251.109846 \nL 376.736429 256.498059 \nL 380.230043 263.954193 \nL 383.723657 269.867105 \n\" style=\"fill:none;stroke:#ff0000;stroke-linecap:square;stroke-width:1.5;\"/>\n   </g>\n   <g id=\"patch_3\">\n    <path d=\"M 20.5625 294.118125 \nL 20.5625 22.318125 \n\" style=\"fill:none;stroke:#000000;stroke-linecap:square;stroke-linejoin:miter;stroke-width:0.8;\"/>\n   </g>\n   <g id=\"patch_4\">\n    <path d=\"M 401.017045 294.118125 \nL 401.017045 22.318125 \n\" style=\"fill:none;stroke:#000000;stroke-linecap:square;stroke-linejoin:miter;stroke-width:0.8;\"/>\n   </g>\n   <g id=\"patch_5\">\n    <path d=\"M 20.5625 294.118125 \nL 401.017045 294.118125 \n\" style=\"fill:none;stroke:#000000;stroke-linecap:square;stroke-linejoin:miter;stroke-width:0.8;\"/>\n   </g>\n   <g id=\"patch_6\">\n    <path d=\"M 20.5625 22.318125 \nL 401.017045 22.318125 \n\" style=\"fill:none;stroke:#000000;stroke-linecap:square;stroke-linejoin:miter;stroke-width:0.8;\"/>\n   </g>\n   <g id=\"text_14\">\n    <!-- loss_rpn_cls -->\n    <g transform=\"translate(175.03071 16.318125)scale(0.12 -0.12)\">\n     <defs>\n      <path d=\"M 9.421875 75.984375 \nL 18.40625 75.984375 \nL 18.40625 0 \nL 9.421875 0 \nz\n\" id=\"DejaVuSans-108\"/>\n      <path d=\"M 30.609375 48.390625 \nQ 23.390625 48.390625 19.1875 42.75 \nQ 14.984375 37.109375 14.984375 27.296875 \nQ 14.984375 17.484375 19.15625 11.84375 \nQ 23.34375 6.203125 30.609375 6.203125 \nQ 37.796875 6.203125 41.984375 11.859375 \nQ 46.1875 17.53125 46.1875 27.296875 \nQ 46.1875 37.015625 41.984375 42.703125 \nQ 37.796875 48.390625 30.609375 48.390625 \nz\nM 30.609375 56 \nQ 42.328125 56 49.015625 48.375 \nQ 55.71875 40.765625 55.71875 27.296875 \nQ 55.71875 13.875 49.015625 6.21875 \nQ 42.328125 -1.421875 30.609375 -1.421875 \nQ 18.84375 -1.421875 12.171875 6.21875 \nQ 5.515625 13.875 5.515625 27.296875 \nQ 5.515625 40.765625 12.171875 48.375 \nQ 18.84375 56 30.609375 56 \nz\n\" id=\"DejaVuSans-111\"/>\n      <path d=\"M 44.28125 53.078125 \nL 44.28125 44.578125 \nQ 40.484375 46.53125 36.375 47.5 \nQ 32.28125 48.484375 27.875 48.484375 \nQ 21.1875 48.484375 17.84375 46.4375 \nQ 14.5 44.390625 14.5 40.28125 \nQ 14.5 37.15625 16.890625 35.375 \nQ 19.28125 33.59375 26.515625 31.984375 \nL 29.59375 31.296875 \nQ 39.15625 29.25 43.1875 25.515625 \nQ 47.21875 21.78125 47.21875 15.09375 \nQ 47.21875 7.46875 41.1875 3.015625 \nQ 35.15625 -1.421875 24.609375 -1.421875 \nQ 20.21875 -1.421875 15.453125 -0.5625 \nQ 10.6875 0.296875 5.421875 2 \nL 5.421875 11.28125 \nQ 10.40625 8.6875 15.234375 7.390625 \nQ 20.0625 6.109375 24.8125 6.109375 \nQ 31.15625 6.109375 34.5625 8.28125 \nQ 37.984375 10.453125 37.984375 14.40625 \nQ 37.984375 18.0625 35.515625 20.015625 \nQ 33.0625 21.96875 24.703125 23.78125 \nL 21.578125 24.515625 \nQ 13.234375 26.265625 9.515625 29.90625 \nQ 5.8125 33.546875 5.8125 39.890625 \nQ 5.8125 47.609375 11.28125 51.796875 \nQ 16.75 56 26.8125 56 \nQ 31.78125 56 36.171875 55.265625 \nQ 40.578125 54.546875 44.28125 53.078125 \nz\n\" id=\"DejaVuSans-115\"/>\n      <path d=\"M 50.984375 -16.609375 \nL 50.984375 -23.578125 \nL -0.984375 -23.578125 \nL -0.984375 -16.609375 \nz\n\" id=\"DejaVuSans-95\"/>\n      <path d=\"M 41.109375 46.296875 \nQ 39.59375 47.171875 37.8125 47.578125 \nQ 36.03125 48 33.890625 48 \nQ 26.265625 48 22.1875 43.046875 \nQ 18.109375 38.09375 18.109375 28.8125 \nL 18.109375 0 \nL 9.078125 0 \nL 9.078125 54.6875 \nL 18.109375 54.6875 \nL 18.109375 46.1875 \nQ 20.953125 51.171875 25.484375 53.578125 \nQ 30.03125 56 36.53125 56 \nQ 37.453125 56 38.578125 55.875 \nQ 39.703125 55.765625 41.0625 55.515625 \nz\n\" id=\"DejaVuSans-114\"/>\n      <path d=\"M 18.109375 8.203125 \nL 18.109375 -20.796875 \nL 9.078125 -20.796875 \nL 9.078125 54.6875 \nL 18.109375 54.6875 \nL 18.109375 46.390625 \nQ 20.953125 51.265625 25.265625 53.625 \nQ 29.59375 56 35.59375 56 \nQ 45.5625 56 51.78125 48.09375 \nQ 58.015625 40.1875 58.015625 27.296875 \nQ 58.015625 14.40625 51.78125 6.484375 \nQ 45.5625 -1.421875 35.59375 -1.421875 \nQ 29.59375 -1.421875 25.265625 0.953125 \nQ 20.953125 3.328125 18.109375 8.203125 \nz\nM 48.6875 27.296875 \nQ 48.6875 37.203125 44.609375 42.84375 \nQ 40.53125 48.484375 33.40625 48.484375 \nQ 26.265625 48.484375 22.1875 42.84375 \nQ 18.109375 37.203125 18.109375 27.296875 \nQ 18.109375 17.390625 22.1875 11.75 \nQ 26.265625 6.109375 33.40625 6.109375 \nQ 40.53125 6.109375 44.609375 11.75 \nQ 48.6875 17.390625 48.6875 27.296875 \nz\n\" id=\"DejaVuSans-112\"/>\n      <path d=\"M 54.890625 33.015625 \nL 54.890625 0 \nL 45.90625 0 \nL 45.90625 32.71875 \nQ 45.90625 40.484375 42.875 44.328125 \nQ 39.84375 48.1875 33.796875 48.1875 \nQ 26.515625 48.1875 22.3125 43.546875 \nQ 18.109375 38.921875 18.109375 30.90625 \nL 18.109375 0 \nL 9.078125 0 \nL 9.078125 54.6875 \nL 18.109375 54.6875 \nL 18.109375 46.1875 \nQ 21.34375 51.125 25.703125 53.5625 \nQ 30.078125 56 35.796875 56 \nQ 45.21875 56 50.046875 50.171875 \nQ 54.890625 44.34375 54.890625 33.015625 \nz\n\" id=\"DejaVuSans-110\"/>\n      <path d=\"M 48.78125 52.59375 \nL 48.78125 44.1875 \nQ 44.96875 46.296875 41.140625 47.34375 \nQ 37.3125 48.390625 33.40625 48.390625 \nQ 24.65625 48.390625 19.8125 42.84375 \nQ 14.984375 37.3125 14.984375 27.296875 \nQ 14.984375 17.28125 19.8125 11.734375 \nQ 24.65625 6.203125 33.40625 6.203125 \nQ 37.3125 6.203125 41.140625 7.25 \nQ 44.96875 8.296875 48.78125 10.40625 \nL 48.78125 2.09375 \nQ 45.015625 0.34375 40.984375 -0.53125 \nQ 36.96875 -1.421875 32.421875 -1.421875 \nQ 20.0625 -1.421875 12.78125 6.34375 \nQ 5.515625 14.109375 5.515625 27.296875 \nQ 5.515625 40.671875 12.859375 48.328125 \nQ 20.21875 56 33.015625 56 \nQ 37.15625 56 41.109375 55.140625 \nQ 45.0625 54.296875 48.78125 52.59375 \nz\n\" id=\"DejaVuSans-99\"/>\n     </defs>\n     <use xlink:href=\"#DejaVuSans-108\"/>\n     <use x=\"27.783203\" xlink:href=\"#DejaVuSans-111\"/>\n     <use x=\"88.964844\" xlink:href=\"#DejaVuSans-115\"/>\n     <use x=\"141.064453\" xlink:href=\"#DejaVuSans-115\"/>\n     <use x=\"193.164062\" xlink:href=\"#DejaVuSans-95\"/>\n     <use x=\"243.164062\" xlink:href=\"#DejaVuSans-114\"/>\n     <use x=\"284.277344\" xlink:href=\"#DejaVuSans-112\"/>\n     <use x=\"347.753906\" xlink:href=\"#DejaVuSans-110\"/>\n     <use x=\"411.132812\" xlink:href=\"#DejaVuSans-95\"/>\n     <use x=\"461.132812\" xlink:href=\"#DejaVuSans-99\"/>\n     <use x=\"516.113281\" xlink:href=\"#DejaVuSans-108\"/>\n     <use x=\"543.896484\" xlink:href=\"#DejaVuSans-115\"/>\n    </g>\n   </g>\n  </g>\n  <g id=\"axes_2\">\n   <g id=\"patch_7\">\n    <path d=\"M 477.107955 294.118125 \nL 857.5625 294.118125 \nL 857.5625 22.318125 \nL 477.107955 22.318125 \nz\n\" style=\"fill:#ffffff;\"/>\n   </g>\n   <g id=\"matplotlib.axis_3\">\n    <g id=\"xtick_7\">\n     <g id=\"line2d_15\">\n      <g>\n       <use style=\"stroke:#000000;stroke-width:0.8;\" x=\"494.401343\" xlink:href=\"#m034f1d532c\" y=\"294.118125\"/>\n      </g>\n     </g>\n     <g id=\"text_15\">\n      <!-- 0 -->\n      <g transform=\"translate(491.220093 308.716563)scale(0.1 -0.1)\">\n       <use xlink:href=\"#DejaVuSans-48\"/>\n      </g>\n     </g>\n    </g>\n    <g id=\"xtick_8\">\n     <g id=\"line2d_16\">\n      <g>\n       <use style=\"stroke:#000000;stroke-width:0.8;\" x=\"564.273619\" xlink:href=\"#m034f1d532c\" y=\"294.118125\"/>\n      </g>\n     </g>\n     <g id=\"text_16\">\n      <!-- 20 -->\n      <g transform=\"translate(557.911119 308.716563)scale(0.1 -0.1)\">\n       <use xlink:href=\"#DejaVuSans-50\"/>\n       <use x=\"63.623047\" xlink:href=\"#DejaVuSans-48\"/>\n      </g>\n     </g>\n    </g>\n    <g id=\"xtick_9\">\n     <g id=\"line2d_17\">\n      <g>\n       <use style=\"stroke:#000000;stroke-width:0.8;\" x=\"634.145896\" xlink:href=\"#m034f1d532c\" y=\"294.118125\"/>\n      </g>\n     </g>\n     <g id=\"text_17\">\n      <!-- 40 -->\n      <g transform=\"translate(627.783396 308.716563)scale(0.1 -0.1)\">\n       <use xlink:href=\"#DejaVuSans-52\"/>\n       <use x=\"63.623047\" xlink:href=\"#DejaVuSans-48\"/>\n      </g>\n     </g>\n    </g>\n    <g id=\"xtick_10\">\n     <g id=\"line2d_18\">\n      <g>\n       <use style=\"stroke:#000000;stroke-width:0.8;\" x=\"704.018172\" xlink:href=\"#m034f1d532c\" y=\"294.118125\"/>\n      </g>\n     </g>\n     <g id=\"text_18\">\n      <!-- 60 -->\n      <g transform=\"translate(697.655672 308.716563)scale(0.1 -0.1)\">\n       <use xlink:href=\"#DejaVuSans-54\"/>\n       <use x=\"63.623047\" xlink:href=\"#DejaVuSans-48\"/>\n      </g>\n     </g>\n    </g>\n    <g id=\"xtick_11\">\n     <g id=\"line2d_19\">\n      <g>\n       <use style=\"stroke:#000000;stroke-width:0.8;\" x=\"773.890449\" xlink:href=\"#m034f1d532c\" y=\"294.118125\"/>\n      </g>\n     </g>\n     <g id=\"text_19\">\n      <!-- 80 -->\n      <g transform=\"translate(767.527949 308.716563)scale(0.1 -0.1)\">\n       <use xlink:href=\"#DejaVuSans-56\"/>\n       <use x=\"63.623047\" xlink:href=\"#DejaVuSans-48\"/>\n      </g>\n     </g>\n    </g>\n    <g id=\"xtick_12\">\n     <g id=\"line2d_20\">\n      <g>\n       <use style=\"stroke:#000000;stroke-width:0.8;\" x=\"843.762725\" xlink:href=\"#m034f1d532c\" y=\"294.118125\"/>\n      </g>\n     </g>\n     <g id=\"text_20\">\n      <!-- 100 -->\n      <g transform=\"translate(834.218975 308.716563)scale(0.1 -0.1)\">\n       <use xlink:href=\"#DejaVuSans-49\"/>\n       <use x=\"63.623047\" xlink:href=\"#DejaVuSans-48\"/>\n       <use x=\"127.246094\" xlink:href=\"#DejaVuSans-48\"/>\n      </g>\n     </g>\n    </g>\n   </g>\n   <g id=\"matplotlib.axis_4\">\n    <g id=\"ytick_8\">\n     <g id=\"line2d_21\">\n      <g>\n       <use style=\"stroke:#000000;stroke-width:0.8;\" x=\"477.107955\" xlink:href=\"#m670da254e6\" y=\"281.816512\"/>\n      </g>\n     </g>\n     <g id=\"text_21\">\n      <!-- 0 -->\n      <g transform=\"translate(463.745455 285.615731)scale(0.1 -0.1)\">\n       <use xlink:href=\"#DejaVuSans-48\"/>\n      </g>\n     </g>\n    </g>\n    <g id=\"ytick_9\">\n     <g id=\"line2d_22\">\n      <g>\n       <use style=\"stroke:#000000;stroke-width:0.8;\" x=\"477.107955\" xlink:href=\"#m670da254e6\" y=\"235.896223\"/>\n      </g>\n     </g>\n     <g id=\"text_22\">\n      <!-- 200 -->\n      <g transform=\"translate(451.020455 239.695442)scale(0.1 -0.1)\">\n       <use xlink:href=\"#DejaVuSans-50\"/>\n       <use x=\"63.623047\" xlink:href=\"#DejaVuSans-48\"/>\n       <use x=\"127.246094\" xlink:href=\"#DejaVuSans-48\"/>\n      </g>\n     </g>\n    </g>\n    <g id=\"ytick_10\">\n     <g id=\"line2d_23\">\n      <g>\n       <use style=\"stroke:#000000;stroke-width:0.8;\" x=\"477.107955\" xlink:href=\"#m670da254e6\" y=\"189.975934\"/>\n      </g>\n     </g>\n     <g id=\"text_23\">\n      <!-- 400 -->\n      <g transform=\"translate(451.020455 193.775153)scale(0.1 -0.1)\">\n       <use xlink:href=\"#DejaVuSans-52\"/>\n       <use x=\"63.623047\" xlink:href=\"#DejaVuSans-48\"/>\n       <use x=\"127.246094\" xlink:href=\"#DejaVuSans-48\"/>\n      </g>\n     </g>\n    </g>\n    <g id=\"ytick_11\">\n     <g id=\"line2d_24\">\n      <g>\n       <use style=\"stroke:#000000;stroke-width:0.8;\" x=\"477.107955\" xlink:href=\"#m670da254e6\" y=\"144.055645\"/>\n      </g>\n     </g>\n     <g id=\"text_24\">\n      <!-- 600 -->\n      <g transform=\"translate(451.020455 147.854864)scale(0.1 -0.1)\">\n       <use xlink:href=\"#DejaVuSans-54\"/>\n       <use x=\"63.623047\" xlink:href=\"#DejaVuSans-48\"/>\n       <use x=\"127.246094\" xlink:href=\"#DejaVuSans-48\"/>\n      </g>\n     </g>\n    </g>\n    <g id=\"ytick_12\">\n     <g id=\"line2d_25\">\n      <g>\n       <use style=\"stroke:#000000;stroke-width:0.8;\" x=\"477.107955\" xlink:href=\"#m670da254e6\" y=\"98.135356\"/>\n      </g>\n     </g>\n     <g id=\"text_25\">\n      <!-- 800 -->\n      <g transform=\"translate(451.020455 101.934575)scale(0.1 -0.1)\">\n       <use xlink:href=\"#DejaVuSans-56\"/>\n       <use x=\"63.623047\" xlink:href=\"#DejaVuSans-48\"/>\n       <use x=\"127.246094\" xlink:href=\"#DejaVuSans-48\"/>\n      </g>\n     </g>\n    </g>\n    <g id=\"ytick_13\">\n     <g id=\"line2d_26\">\n      <g>\n       <use style=\"stroke:#000000;stroke-width:0.8;\" x=\"477.107955\" xlink:href=\"#m670da254e6\" y=\"52.215067\"/>\n      </g>\n     </g>\n     <g id=\"text_26\">\n      <!-- 1000 -->\n      <g transform=\"translate(444.657955 56.014286)scale(0.1 -0.1)\">\n       <use xlink:href=\"#DejaVuSans-49\"/>\n       <use x=\"63.623047\" xlink:href=\"#DejaVuSans-48\"/>\n       <use x=\"127.246094\" xlink:href=\"#DejaVuSans-48\"/>\n       <use x=\"190.869141\" xlink:href=\"#DejaVuSans-48\"/>\n      </g>\n     </g>\n    </g>\n   </g>\n   <g id=\"line2d_27\">\n    <path clip-path=\"url(#p989e7fbe63)\" d=\"M 494.401343 281.75243 \nL 497.894957 34.67267 \nL 501.388571 220.260945 \nL 504.882184 210.106126 \nL 508.375798 251.245992 \nL 511.869412 266.338959 \nL 515.363026 276.48294 \nL 518.85664 280.908249 \nL 522.350254 281.73613 \nL 525.843867 281.503649 \nL 529.337481 281.230469 \nL 532.831095 281.639345 \nL 536.324709 281.191769 \nL 539.818323 281.412004 \nL 543.311937 281.69621 \nL 546.80555 281.694276 \nL 550.299164 281.521316 \nL 553.792778 281.424545 \nL 557.286392 281.534292 \nL 560.780006 281.679158 \nL 564.273619 281.693915 \nL 567.767233 281.617436 \nL 571.260847 281.583115 \nL 574.754461 281.545714 \nL 578.248075 281.564701 \nL 581.741689 281.667749 \nL 585.235302 281.645302 \nL 588.728916 281.550559 \nL 592.22253 281.617214 \nL 595.716144 281.724193 \nL 599.209758 281.640614 \nL 602.703372 281.638596 \nL 606.196985 281.67683 \nL 609.690599 281.721059 \nL 613.184213 281.693477 \nL 616.677827 281.669112 \nL 620.171441 281.706899 \nL 623.665054 281.734046 \nL 627.158668 281.732754 \nL 630.652282 281.704162 \nL 634.145896 281.718051 \nL 637.63951 281.696944 \nL 641.133124 281.736867 \nL 644.626737 281.718298 \nL 648.120351 281.74133 \nL 651.613965 281.694423 \nL 655.107579 281.71641 \nL 658.601193 281.722135 \nL 662.094807 281.724688 \nL 665.58842 281.741732 \nL 669.082034 281.720859 \nL 672.575648 281.717242 \nL 676.069262 281.716622 \nL 679.562876 281.729839 \nL 683.056489 281.697281 \nL 686.550103 281.721721 \nL 690.043717 281.718903 \nL 693.537331 281.733757 \nL 697.030945 281.726988 \nL 700.524559 281.742471 \nL 704.018172 281.723203 \nL 707.511786 281.732219 \nL 711.0054 281.731213 \nL 714.499014 281.724013 \nL 717.992628 281.720417 \nL 721.486242 281.716495 \nL 724.979855 281.725351 \nL 728.473469 281.72998 \nL 731.967083 281.72285 \nL 735.460697 281.745007 \nL 738.954311 281.709388 \nL 742.447924 281.735609 \nL 745.941538 281.725304 \nL 749.435152 281.720043 \nL 752.928766 281.718519 \nL 756.42238 281.708925 \nL 759.915994 281.720733 \nL 763.409607 281.735118 \nL 766.903221 281.741367 \nL 770.396835 281.744662 \nL 773.890449 281.708048 \nL 777.384063 281.720444 \nL 780.877677 281.749105 \nL 784.37129 281.714097 \nL 787.864904 281.744501 \nL 791.358518 281.741595 \nL 794.852132 281.735438 \nL 798.345746 281.721023 \nL 801.83936 281.735962 \nL 805.332973 281.741633 \nL 808.826587 281.736044 \nL 812.320201 281.725304 \nL 815.813815 281.726296 \nL 819.307429 281.741129 \nL 822.801042 281.76358 \nL 826.294656 281.742366 \nL 829.78827 281.730499 \nL 833.281884 281.735552 \nL 836.775498 281.734203 \nL 840.269112 281.725856 \n\" style=\"fill:none;stroke:#ff0000;stroke-linecap:square;stroke-width:1.5;\"/>\n   </g>\n   <g id=\"patch_8\">\n    <path d=\"M 477.107955 294.118125 \nL 477.107955 22.318125 \n\" style=\"fill:none;stroke:#000000;stroke-linecap:square;stroke-linejoin:miter;stroke-width:0.8;\"/>\n   </g>\n   <g id=\"patch_9\">\n    <path d=\"M 857.5625 294.118125 \nL 857.5625 22.318125 \n\" style=\"fill:none;stroke:#000000;stroke-linecap:square;stroke-linejoin:miter;stroke-width:0.8;\"/>\n   </g>\n   <g id=\"patch_10\">\n    <path d=\"M 477.107955 294.118125 \nL 857.5625 294.118125 \n\" style=\"fill:none;stroke:#000000;stroke-linecap:square;stroke-linejoin:miter;stroke-width:0.8;\"/>\n   </g>\n   <g id=\"patch_11\">\n    <path d=\"M 477.107955 22.318125 \nL 857.5625 22.318125 \n\" style=\"fill:none;stroke:#000000;stroke-linecap:square;stroke-linejoin:miter;stroke-width:0.8;\"/>\n   </g>\n   <g id=\"text_27\">\n    <!-- loss_rpn_regr -->\n    <g transform=\"translate(627.368665 16.318125)scale(0.12 -0.12)\">\n     <defs>\n      <path d=\"M 56.203125 29.59375 \nL 56.203125 25.203125 \nL 14.890625 25.203125 \nQ 15.484375 15.921875 20.484375 11.0625 \nQ 25.484375 6.203125 34.421875 6.203125 \nQ 39.59375 6.203125 44.453125 7.46875 \nQ 49.3125 8.734375 54.109375 11.28125 \nL 54.109375 2.78125 \nQ 49.265625 0.734375 44.1875 -0.34375 \nQ 39.109375 -1.421875 33.890625 -1.421875 \nQ 20.796875 -1.421875 13.15625 6.1875 \nQ 5.515625 13.8125 5.515625 26.8125 \nQ 5.515625 40.234375 12.765625 48.109375 \nQ 20.015625 56 32.328125 56 \nQ 43.359375 56 49.78125 48.890625 \nQ 56.203125 41.796875 56.203125 29.59375 \nz\nM 47.21875 32.234375 \nQ 47.125 39.59375 43.09375 43.984375 \nQ 39.0625 48.390625 32.421875 48.390625 \nQ 24.90625 48.390625 20.390625 44.140625 \nQ 15.875 39.890625 15.1875 32.171875 \nz\n\" id=\"DejaVuSans-101\"/>\n      <path d=\"M 45.40625 27.984375 \nQ 45.40625 37.75 41.375 43.109375 \nQ 37.359375 48.484375 30.078125 48.484375 \nQ 22.859375 48.484375 18.828125 43.109375 \nQ 14.796875 37.75 14.796875 27.984375 \nQ 14.796875 18.265625 18.828125 12.890625 \nQ 22.859375 7.515625 30.078125 7.515625 \nQ 37.359375 7.515625 41.375 12.890625 \nQ 45.40625 18.265625 45.40625 27.984375 \nz\nM 54.390625 6.78125 \nQ 54.390625 -7.171875 48.1875 -13.984375 \nQ 42 -20.796875 29.203125 -20.796875 \nQ 24.46875 -20.796875 20.265625 -20.09375 \nQ 16.0625 -19.390625 12.109375 -17.921875 \nL 12.109375 -9.1875 \nQ 16.0625 -11.328125 19.921875 -12.34375 \nQ 23.78125 -13.375 27.78125 -13.375 \nQ 36.625 -13.375 41.015625 -8.765625 \nQ 45.40625 -4.15625 45.40625 5.171875 \nL 45.40625 9.625 \nQ 42.625 4.78125 38.28125 2.390625 \nQ 33.9375 0 27.875 0 \nQ 17.828125 0 11.671875 7.65625 \nQ 5.515625 15.328125 5.515625 27.984375 \nQ 5.515625 40.671875 11.671875 48.328125 \nQ 17.828125 56 27.875 56 \nQ 33.9375 56 38.28125 53.609375 \nQ 42.625 51.21875 45.40625 46.390625 \nL 45.40625 54.6875 \nL 54.390625 54.6875 \nz\n\" id=\"DejaVuSans-103\"/>\n     </defs>\n     <use xlink:href=\"#DejaVuSans-108\"/>\n     <use x=\"27.783203\" xlink:href=\"#DejaVuSans-111\"/>\n     <use x=\"88.964844\" xlink:href=\"#DejaVuSans-115\"/>\n     <use x=\"141.064453\" xlink:href=\"#DejaVuSans-115\"/>\n     <use x=\"193.164062\" xlink:href=\"#DejaVuSans-95\"/>\n     <use x=\"243.164062\" xlink:href=\"#DejaVuSans-114\"/>\n     <use x=\"284.277344\" xlink:href=\"#DejaVuSans-112\"/>\n     <use x=\"347.753906\" xlink:href=\"#DejaVuSans-110\"/>\n     <use x=\"411.132812\" xlink:href=\"#DejaVuSans-95\"/>\n     <use x=\"461.132812\" xlink:href=\"#DejaVuSans-114\"/>\n     <use x=\"499.996094\" xlink:href=\"#DejaVuSans-101\"/>\n     <use x=\"561.519531\" xlink:href=\"#DejaVuSans-103\"/>\n     <use x=\"624.996094\" xlink:href=\"#DejaVuSans-114\"/>\n    </g>\n   </g>\n  </g>\n </g>\n <defs>\n  <clipPath id=\"p83549cdb8a\">\n   <rect height=\"271.8\" width=\"380.454545\" x=\"20.5625\" y=\"22.318125\"/>\n  </clipPath>\n  <clipPath id=\"p989e7fbe63\">\n   <rect height=\"271.8\" width=\"380.454545\" x=\"477.107955\" y=\"22.318125\"/>\n  </clipPath>\n </defs>\n</svg>\n",
            "image/png": "[encoded data removed]"
          },
          "metadata": {
            "needs_background": "light"
          }
        },
        {
          "output_type": "display_data",
          "data": {
            "text/plain": [
              "<Figure size 1080x360 with 2 Axes>"
            ],
            "image/svg+xml": "<?xml version=\"1.0\" encoding=\"utf-8\" standalone=\"no\"?>\n<!DOCTYPE svg PUBLIC \"-//W3C//DTD SVG 1.1//EN\"\n  \"http://www.w3.org/Graphics/SVG/1.1/DTD/svg11.dtd\">\n<!-- Created with matplotlib (https://matplotlib.org/) -->\n<svg height=\"317.99625pt\" version=\"1.1\" viewBox=\"0 0 874.303125 317.99625\" width=\"874.303125pt\" xmlns=\"http://www.w3.org/2000/svg\" xmlns:xlink=\"http://www.w3.org/1999/xlink\">\n <metadata>\n  <rdf:RDF xmlns:cc=\"http://creativecommons.org/ns#\" xmlns:dc=\"http://purl.org/dc/elements/1.1/\" xmlns:rdf=\"http://www.w3.org/1999/02/22-rdf-syntax-ns#\">\n   <cc:Work>\n    <dc:type rdf:resource=\"http://purl.org/dc/dcmitype/StillImage\"/>\n    <dc:date>2021-08-29T17:25:37.489772</dc:date>\n    <dc:format>image/svg+xml</dc:format>\n    <dc:creator>\n     <cc:Agent>\n      <dc:title>Matplotlib v3.3.4, https://matplotlib.org/</dc:title>\n     </cc:Agent>\n    </dc:creator>\n   </cc:Work>\n  </rdf:RDF>\n </metadata>\n <defs>\n  <style type=\"text/css\">*{stroke-linecap:butt;stroke-linejoin:round;}</style>\n </defs>\n <g id=\"figure_1\">\n  <g id=\"patch_1\">\n   <path d=\"M 0 317.99625 \nL 874.303125 317.99625 \nL 874.303125 0 \nL 0 0 \nz\n\" style=\"fill:none;\"/>\n  </g>\n  <g id=\"axes_1\">\n   <g id=\"patch_2\">\n    <path d=\"M 30.103125 294.118125 \nL 410.55767 294.118125 \nL 410.55767 22.318125 \nL 30.103125 22.318125 \nz\n\" style=\"fill:#ffffff;\"/>\n   </g>\n   <g id=\"matplotlib.axis_1\">\n    <g id=\"xtick_1\">\n     <g id=\"line2d_1\">\n      <defs>\n       <path d=\"M 0 0 \nL 0 3.5 \n\" id=\"m1a050c3182\" style=\"stroke:#000000;stroke-width:0.8;\"/>\n      </defs>\n      <g>\n       <use style=\"stroke:#000000;stroke-width:0.8;\" x=\"47.396513\" xlink:href=\"#m1a050c3182\" y=\"294.118125\"/>\n      </g>\n     </g>\n     <g id=\"text_1\">\n      <!-- 0 -->\n      <g transform=\"translate(44.215263 308.716563)scale(0.1 -0.1)\">\n       <defs>\n        <path d=\"M 31.78125 66.40625 \nQ 24.171875 66.40625 20.328125 58.90625 \nQ 16.5 51.421875 16.5 36.375 \nQ 16.5 21.390625 20.328125 13.890625 \nQ 24.171875 6.390625 31.78125 6.390625 \nQ 39.453125 6.390625 43.28125 13.890625 \nQ 47.125 21.390625 47.125 36.375 \nQ 47.125 51.421875 43.28125 58.90625 \nQ 39.453125 66.40625 31.78125 66.40625 \nz\nM 31.78125 74.21875 \nQ 44.046875 74.21875 50.515625 64.515625 \nQ 56.984375 54.828125 56.984375 36.375 \nQ 56.984375 17.96875 50.515625 8.265625 \nQ 44.046875 -1.421875 31.78125 -1.421875 \nQ 19.53125 -1.421875 13.0625 8.265625 \nQ 6.59375 17.96875 6.59375 36.375 \nQ 6.59375 54.828125 13.0625 64.515625 \nQ 19.53125 74.21875 31.78125 74.21875 \nz\n\" id=\"DejaVuSans-48\"/>\n       </defs>\n       <use xlink:href=\"#DejaVuSans-48\"/>\n      </g>\n     </g>\n    </g>\n    <g id=\"xtick_2\">\n     <g id=\"line2d_2\">\n      <g>\n       <use style=\"stroke:#000000;stroke-width:0.8;\" x=\"117.26879\" xlink:href=\"#m1a050c3182\" y=\"294.118125\"/>\n      </g>\n     </g>\n     <g id=\"text_2\">\n      <!-- 20 -->\n      <g transform=\"translate(110.90629 308.716563)scale(0.1 -0.1)\">\n       <defs>\n        <path d=\"M 19.1875 8.296875 \nL 53.609375 8.296875 \nL 53.609375 0 \nL 7.328125 0 \nL 7.328125 8.296875 \nQ 12.9375 14.109375 22.625 23.890625 \nQ 32.328125 33.6875 34.8125 36.53125 \nQ 39.546875 41.84375 41.421875 45.53125 \nQ 43.3125 49.21875 43.3125 52.78125 \nQ 43.3125 58.59375 39.234375 62.25 \nQ 35.15625 65.921875 28.609375 65.921875 \nQ 23.96875 65.921875 18.8125 64.3125 \nQ 13.671875 62.703125 7.8125 59.421875 \nL 7.8125 69.390625 \nQ 13.765625 71.78125 18.9375 73 \nQ 24.125 74.21875 28.421875 74.21875 \nQ 39.75 74.21875 46.484375 68.546875 \nQ 53.21875 62.890625 53.21875 53.421875 \nQ 53.21875 48.921875 51.53125 44.890625 \nQ 49.859375 40.875 45.40625 35.40625 \nQ 44.1875 33.984375 37.640625 27.21875 \nQ 31.109375 20.453125 19.1875 8.296875 \nz\n\" id=\"DejaVuSans-50\"/>\n       </defs>\n       <use xlink:href=\"#DejaVuSans-50\"/>\n       <use x=\"63.623047\" xlink:href=\"#DejaVuSans-48\"/>\n      </g>\n     </g>\n    </g>\n    <g id=\"xtick_3\">\n     <g id=\"line2d_3\">\n      <g>\n       <use style=\"stroke:#000000;stroke-width:0.8;\" x=\"187.141066\" xlink:href=\"#m1a050c3182\" y=\"294.118125\"/>\n      </g>\n     </g>\n     <g id=\"text_3\">\n      <!-- 40 -->\n      <g transform=\"translate(180.778566 308.716563)scale(0.1 -0.1)\">\n       <defs>\n        <path d=\"M 37.796875 64.3125 \nL 12.890625 25.390625 \nL 37.796875 25.390625 \nz\nM 35.203125 72.90625 \nL 47.609375 72.90625 \nL 47.609375 25.390625 \nL 58.015625 25.390625 \nL 58.015625 17.1875 \nL 47.609375 17.1875 \nL 47.609375 0 \nL 37.796875 0 \nL 37.796875 17.1875 \nL 4.890625 17.1875 \nL 4.890625 26.703125 \nz\n\" id=\"DejaVuSans-52\"/>\n       </defs>\n       <use xlink:href=\"#DejaVuSans-52\"/>\n       <use x=\"63.623047\" xlink:href=\"#DejaVuSans-48\"/>\n      </g>\n     </g>\n    </g>\n    <g id=\"xtick_4\">\n     <g id=\"line2d_4\">\n      <g>\n       <use style=\"stroke:#000000;stroke-width:0.8;\" x=\"257.013343\" xlink:href=\"#m1a050c3182\" y=\"294.118125\"/>\n      </g>\n     </g>\n     <g id=\"text_4\">\n      <!-- 60 -->\n      <g transform=\"translate(250.650843 308.716563)scale(0.1 -0.1)\">\n       <defs>\n        <path d=\"M 33.015625 40.375 \nQ 26.375 40.375 22.484375 35.828125 \nQ 18.609375 31.296875 18.609375 23.390625 \nQ 18.609375 15.53125 22.484375 10.953125 \nQ 26.375 6.390625 33.015625 6.390625 \nQ 39.65625 6.390625 43.53125 10.953125 \nQ 47.40625 15.53125 47.40625 23.390625 \nQ 47.40625 31.296875 43.53125 35.828125 \nQ 39.65625 40.375 33.015625 40.375 \nz\nM 52.59375 71.296875 \nL 52.59375 62.3125 \nQ 48.875 64.0625 45.09375 64.984375 \nQ 41.3125 65.921875 37.59375 65.921875 \nQ 27.828125 65.921875 22.671875 59.328125 \nQ 17.53125 52.734375 16.796875 39.40625 \nQ 19.671875 43.65625 24.015625 45.921875 \nQ 28.375 48.1875 33.59375 48.1875 \nQ 44.578125 48.1875 50.953125 41.515625 \nQ 57.328125 34.859375 57.328125 23.390625 \nQ 57.328125 12.15625 50.6875 5.359375 \nQ 44.046875 -1.421875 33.015625 -1.421875 \nQ 20.359375 -1.421875 13.671875 8.265625 \nQ 6.984375 17.96875 6.984375 36.375 \nQ 6.984375 53.65625 15.1875 63.9375 \nQ 23.390625 74.21875 37.203125 74.21875 \nQ 40.921875 74.21875 44.703125 73.484375 \nQ 48.484375 72.75 52.59375 71.296875 \nz\n\" id=\"DejaVuSans-54\"/>\n       </defs>\n       <use xlink:href=\"#DejaVuSans-54\"/>\n       <use x=\"63.623047\" xlink:href=\"#DejaVuSans-48\"/>\n      </g>\n     </g>\n    </g>\n    <g id=\"xtick_5\">\n     <g id=\"line2d_5\">\n      <g>\n       <use style=\"stroke:#000000;stroke-width:0.8;\" x=\"326.885619\" xlink:href=\"#m1a050c3182\" y=\"294.118125\"/>\n      </g>\n     </g>\n     <g id=\"text_5\">\n      <!-- 80 -->\n      <g transform=\"translate(320.523119 308.716563)scale(0.1 -0.1)\">\n       <defs>\n        <path d=\"M 31.78125 34.625 \nQ 24.75 34.625 20.71875 30.859375 \nQ 16.703125 27.09375 16.703125 20.515625 \nQ 16.703125 13.921875 20.71875 10.15625 \nQ 24.75 6.390625 31.78125 6.390625 \nQ 38.8125 6.390625 42.859375 10.171875 \nQ 46.921875 13.96875 46.921875 20.515625 \nQ 46.921875 27.09375 42.890625 30.859375 \nQ 38.875 34.625 31.78125 34.625 \nz\nM 21.921875 38.8125 \nQ 15.578125 40.375 12.03125 44.71875 \nQ 8.5 49.078125 8.5 55.328125 \nQ 8.5 64.0625 14.71875 69.140625 \nQ 20.953125 74.21875 31.78125 74.21875 \nQ 42.671875 74.21875 48.875 69.140625 \nQ 55.078125 64.0625 55.078125 55.328125 \nQ 55.078125 49.078125 51.53125 44.71875 \nQ 48 40.375 41.703125 38.8125 \nQ 48.828125 37.15625 52.796875 32.3125 \nQ 56.78125 27.484375 56.78125 20.515625 \nQ 56.78125 9.90625 50.3125 4.234375 \nQ 43.84375 -1.421875 31.78125 -1.421875 \nQ 19.734375 -1.421875 13.25 4.234375 \nQ 6.78125 9.90625 6.78125 20.515625 \nQ 6.78125 27.484375 10.78125 32.3125 \nQ 14.796875 37.15625 21.921875 38.8125 \nz\nM 18.3125 54.390625 \nQ 18.3125 48.734375 21.84375 45.5625 \nQ 25.390625 42.390625 31.78125 42.390625 \nQ 38.140625 42.390625 41.71875 45.5625 \nQ 45.3125 48.734375 45.3125 54.390625 \nQ 45.3125 60.0625 41.71875 63.234375 \nQ 38.140625 66.40625 31.78125 66.40625 \nQ 25.390625 66.40625 21.84375 63.234375 \nQ 18.3125 60.0625 18.3125 54.390625 \nz\n\" id=\"DejaVuSans-56\"/>\n       </defs>\n       <use xlink:href=\"#DejaVuSans-56\"/>\n       <use x=\"63.623047\" xlink:href=\"#DejaVuSans-48\"/>\n      </g>\n     </g>\n    </g>\n    <g id=\"xtick_6\">\n     <g id=\"line2d_6\">\n      <g>\n       <use style=\"stroke:#000000;stroke-width:0.8;\" x=\"396.757896\" xlink:href=\"#m1a050c3182\" y=\"294.118125\"/>\n      </g>\n     </g>\n     <g id=\"text_6\">\n      <!-- 100 -->\n      <g transform=\"translate(387.214146 308.716563)scale(0.1 -0.1)\">\n       <defs>\n        <path d=\"M 12.40625 8.296875 \nL 28.515625 8.296875 \nL 28.515625 63.921875 \nL 10.984375 60.40625 \nL 10.984375 69.390625 \nL 28.421875 72.90625 \nL 38.28125 72.90625 \nL 38.28125 8.296875 \nL 54.390625 8.296875 \nL 54.390625 0 \nL 12.40625 0 \nz\n\" id=\"DejaVuSans-49\"/>\n       </defs>\n       <use xlink:href=\"#DejaVuSans-49\"/>\n       <use x=\"63.623047\" xlink:href=\"#DejaVuSans-48\"/>\n       <use x=\"127.246094\" xlink:href=\"#DejaVuSans-48\"/>\n      </g>\n     </g>\n    </g>\n   </g>\n   <g id=\"matplotlib.axis_2\">\n    <g id=\"ytick_1\">\n     <g id=\"line2d_7\">\n      <defs>\n       <path d=\"M 0 0 \nL -3.5 0 \n\" id=\"m0afa1a58e1\" style=\"stroke:#000000;stroke-width:0.8;\"/>\n      </defs>\n      <g>\n       <use style=\"stroke:#000000;stroke-width:0.8;\" x=\"30.103125\" xlink:href=\"#m0afa1a58e1\" y=\"281.76358\"/>\n      </g>\n     </g>\n     <g id=\"text_7\">\n      <!-- 0.0 -->\n      <g transform=\"translate(7.2 285.562798)scale(0.1 -0.1)\">\n       <defs>\n        <path d=\"M 10.6875 12.40625 \nL 21 12.40625 \nL 21 0 \nL 10.6875 0 \nz\n\" id=\"DejaVuSans-46\"/>\n       </defs>\n       <use xlink:href=\"#DejaVuSans-48\"/>\n       <use x=\"63.623047\" xlink:href=\"#DejaVuSans-46\"/>\n       <use x=\"95.410156\" xlink:href=\"#DejaVuSans-48\"/>\n      </g>\n     </g>\n    </g>\n    <g id=\"ytick_2\">\n     <g id=\"line2d_8\">\n      <g>\n       <use style=\"stroke:#000000;stroke-width:0.8;\" x=\"30.103125\" xlink:href=\"#m0afa1a58e1\" y=\"240.883486\"/>\n      </g>\n     </g>\n     <g id=\"text_8\">\n      <!-- 0.5 -->\n      <g transform=\"translate(7.2 244.682705)scale(0.1 -0.1)\">\n       <defs>\n        <path d=\"M 10.796875 72.90625 \nL 49.515625 72.90625 \nL 49.515625 64.59375 \nL 19.828125 64.59375 \nL 19.828125 46.734375 \nQ 21.96875 47.46875 24.109375 47.828125 \nQ 26.265625 48.1875 28.421875 48.1875 \nQ 40.625 48.1875 47.75 41.5 \nQ 54.890625 34.8125 54.890625 23.390625 \nQ 54.890625 11.625 47.5625 5.09375 \nQ 40.234375 -1.421875 26.90625 -1.421875 \nQ 22.3125 -1.421875 17.546875 -0.640625 \nQ 12.796875 0.140625 7.71875 1.703125 \nL 7.71875 11.625 \nQ 12.109375 9.234375 16.796875 8.0625 \nQ 21.484375 6.890625 26.703125 6.890625 \nQ 35.15625 6.890625 40.078125 11.328125 \nQ 45.015625 15.765625 45.015625 23.390625 \nQ 45.015625 31 40.078125 35.4375 \nQ 35.15625 39.890625 26.703125 39.890625 \nQ 22.75 39.890625 18.8125 39.015625 \nQ 14.890625 38.140625 10.796875 36.28125 \nz\n\" id=\"DejaVuSans-53\"/>\n       </defs>\n       <use xlink:href=\"#DejaVuSans-48\"/>\n       <use x=\"63.623047\" xlink:href=\"#DejaVuSans-46\"/>\n       <use x=\"95.410156\" xlink:href=\"#DejaVuSans-53\"/>\n      </g>\n     </g>\n    </g>\n    <g id=\"ytick_3\">\n     <g id=\"line2d_9\">\n      <g>\n       <use style=\"stroke:#000000;stroke-width:0.8;\" x=\"30.103125\" xlink:href=\"#m0afa1a58e1\" y=\"200.003393\"/>\n      </g>\n     </g>\n     <g id=\"text_9\">\n      <!-- 1.0 -->\n      <g transform=\"translate(7.2 203.802611)scale(0.1 -0.1)\">\n       <use xlink:href=\"#DejaVuSans-49\"/>\n       <use x=\"63.623047\" xlink:href=\"#DejaVuSans-46\"/>\n       <use x=\"95.410156\" xlink:href=\"#DejaVuSans-48\"/>\n      </g>\n     </g>\n    </g>\n    <g id=\"ytick_4\">\n     <g id=\"line2d_10\">\n      <g>\n       <use style=\"stroke:#000000;stroke-width:0.8;\" x=\"30.103125\" xlink:href=\"#m0afa1a58e1\" y=\"159.123299\"/>\n      </g>\n     </g>\n     <g id=\"text_10\">\n      <!-- 1.5 -->\n      <g transform=\"translate(7.2 162.922518)scale(0.1 -0.1)\">\n       <use xlink:href=\"#DejaVuSans-49\"/>\n       <use x=\"63.623047\" xlink:href=\"#DejaVuSans-46\"/>\n       <use x=\"95.410156\" xlink:href=\"#DejaVuSans-53\"/>\n      </g>\n     </g>\n    </g>\n    <g id=\"ytick_5\">\n     <g id=\"line2d_11\">\n      <g>\n       <use style=\"stroke:#000000;stroke-width:0.8;\" x=\"30.103125\" xlink:href=\"#m0afa1a58e1\" y=\"118.243206\"/>\n      </g>\n     </g>\n     <g id=\"text_11\">\n      <!-- 2.0 -->\n      <g transform=\"translate(7.2 122.042424)scale(0.1 -0.1)\">\n       <use xlink:href=\"#DejaVuSans-50\"/>\n       <use x=\"63.623047\" xlink:href=\"#DejaVuSans-46\"/>\n       <use x=\"95.410156\" xlink:href=\"#DejaVuSans-48\"/>\n      </g>\n     </g>\n    </g>\n    <g id=\"ytick_6\">\n     <g id=\"line2d_12\">\n      <g>\n       <use style=\"stroke:#000000;stroke-width:0.8;\" x=\"30.103125\" xlink:href=\"#m0afa1a58e1\" y=\"77.363112\"/>\n      </g>\n     </g>\n     <g id=\"text_12\">\n      <!-- 2.5 -->\n      <g transform=\"translate(7.2 81.162331)scale(0.1 -0.1)\">\n       <use xlink:href=\"#DejaVuSans-50\"/>\n       <use x=\"63.623047\" xlink:href=\"#DejaVuSans-46\"/>\n       <use x=\"95.410156\" xlink:href=\"#DejaVuSans-53\"/>\n      </g>\n     </g>\n    </g>\n    <g id=\"ytick_7\">\n     <g id=\"line2d_13\">\n      <g>\n       <use style=\"stroke:#000000;stroke-width:0.8;\" x=\"30.103125\" xlink:href=\"#m0afa1a58e1\" y=\"36.483019\"/>\n      </g>\n     </g>\n     <g id=\"text_13\">\n      <!-- 3.0 -->\n      <g transform=\"translate(7.2 40.282237)scale(0.1 -0.1)\">\n       <defs>\n        <path d=\"M 40.578125 39.3125 \nQ 47.65625 37.796875 51.625 33 \nQ 55.609375 28.21875 55.609375 21.1875 \nQ 55.609375 10.40625 48.1875 4.484375 \nQ 40.765625 -1.421875 27.09375 -1.421875 \nQ 22.515625 -1.421875 17.65625 -0.515625 \nQ 12.796875 0.390625 7.625 2.203125 \nL 7.625 11.71875 \nQ 11.71875 9.328125 16.59375 8.109375 \nQ 21.484375 6.890625 26.8125 6.890625 \nQ 36.078125 6.890625 40.9375 10.546875 \nQ 45.796875 14.203125 45.796875 21.1875 \nQ 45.796875 27.640625 41.28125 31.265625 \nQ 36.765625 34.90625 28.71875 34.90625 \nL 20.21875 34.90625 \nL 20.21875 43.015625 \nL 29.109375 43.015625 \nQ 36.375 43.015625 40.234375 45.921875 \nQ 44.09375 48.828125 44.09375 54.296875 \nQ 44.09375 59.90625 40.109375 62.90625 \nQ 36.140625 65.921875 28.71875 65.921875 \nQ 24.65625 65.921875 20.015625 65.03125 \nQ 15.375 64.15625 9.8125 62.3125 \nL 9.8125 71.09375 \nQ 15.4375 72.65625 20.34375 73.4375 \nQ 25.25 74.21875 29.59375 74.21875 \nQ 40.828125 74.21875 47.359375 69.109375 \nQ 53.90625 64.015625 53.90625 55.328125 \nQ 53.90625 49.265625 50.4375 45.09375 \nQ 46.96875 40.921875 40.578125 39.3125 \nz\n\" id=\"DejaVuSans-51\"/>\n       </defs>\n       <use xlink:href=\"#DejaVuSans-51\"/>\n       <use x=\"63.623047\" xlink:href=\"#DejaVuSans-46\"/>\n       <use x=\"95.410156\" xlink:href=\"#DejaVuSans-48\"/>\n      </g>\n     </g>\n    </g>\n   </g>\n   <g id=\"line2d_14\">\n    <path clip-path=\"url(#p13f8af6e8b)\" d=\"M 47.396513 279.767519 \nL 50.890127 281.76358 \nL 54.383741 281.76358 \nL 57.877355 281.76358 \nL 61.370969 240.581761 \nL 64.864583 240.581761 \nL 68.358196 34.67267 \nL 71.85181 34.67267 \nL 75.345424 34.67267 \nL 78.839038 281.76358 \nL 82.332652 240.581761 \nL 85.826265 158.218125 \nL 89.319879 34.67267 \nL 92.813493 281.76358 \nL 96.307107 34.67267 \nL 99.800721 199.399943 \nL 103.294335 34.67267 \nL 106.787948 34.67267 \nL 110.281562 34.67267 \nL 113.775176 34.67267 \nL 117.26879 34.67267 \nL 120.762404 34.67267 \nL 124.256018 34.67267 \nL 127.749631 34.67267 \nL 131.243245 34.67267 \nL 134.736859 34.67267 \nL 138.230473 34.67267 \nL 141.724087 34.67267 \nL 145.217701 34.67267 \nL 148.711314 34.67267 \nL 152.204928 34.67267 \nL 155.698542 34.67267 \nL 159.192156 34.67267 \nL 162.68577 58.044194 \nL 166.179383 135.666356 \nL 169.672997 207.640574 \nL 173.166611 68.824607 \nL 176.660225 143.60114 \nL 180.153839 34.67267 \nL 183.647453 155.463568 \nL 187.141066 34.67267 \nL 190.63468 75.854498 \nL 194.128294 116.924377 \nL 197.621908 75.679645 \nL 201.115522 34.67267 \nL 204.609136 116.951512 \nL 208.102749 75.822588 \nL 211.596363 34.67267 \nL 215.089977 34.67267 \nL 218.583591 116.915352 \nL 222.077205 240.561566 \nL 225.570818 240.581761 \nL 229.064432 281.429931 \nL 232.558046 75.854498 \nL 236.05166 117.036307 \nL 239.545274 199.399943 \nL 243.038888 199.050178 \nL 246.532501 199.399943 \nL 250.026115 116.946326 \nL 253.519729 157.216918 \nL 257.013343 75.854498 \nL 260.506957 157.550027 \nL 264.000571 115.41436 \nL 267.494184 148.231902 \nL 270.987798 232.787777 \nL 274.481412 199.399875 \nL 277.975026 278.41762 \nL 281.46864 34.67267 \nL 284.962253 231.988665 \nL 288.455867 240.576815 \nL 291.949481 114.862314 \nL 295.443095 34.67267 \nL 298.936709 34.67267 \nL 302.430323 34.67267 \nL 305.923936 34.67267 \nL 309.41755 75.494733 \nL 312.911164 34.67267 \nL 316.404778 34.67267 \nL 319.898392 34.67267 \nL 323.392006 114.175181 \nL 326.885619 75.798378 \nL 330.379233 75.854498 \nL 333.872847 279.579057 \nL 337.366461 279.305448 \nL 340.860075 75.854498 \nL 344.353688 158.218125 \nL 347.847302 157.300846 \nL 351.340916 75.854459 \nL 354.83453 199.360674 \nL 358.328144 34.67267 \nL 361.821758 270.238904 \nL 365.315371 68.508116 \nL 368.808985 279.135201 \nL 372.302599 34.67267 \nL 375.796213 280.035252 \nL 379.289827 280.164973 \nL 382.783441 114.943425 \nL 386.277054 117.036307 \nL 389.770668 276.510419 \nL 393.264282 117.035917 \n\" style=\"fill:none;stroke:#ff0000;stroke-linecap:square;stroke-width:1.5;\"/>\n   </g>\n   <g id=\"patch_3\">\n    <path d=\"M 30.103125 294.118125 \nL 30.103125 22.318125 \n\" style=\"fill:none;stroke:#000000;stroke-linecap:square;stroke-linejoin:miter;stroke-width:0.8;\"/>\n   </g>\n   <g id=\"patch_4\">\n    <path d=\"M 410.55767 294.118125 \nL 410.55767 22.318125 \n\" style=\"fill:none;stroke:#000000;stroke-linecap:square;stroke-linejoin:miter;stroke-width:0.8;\"/>\n   </g>\n   <g id=\"patch_5\">\n    <path d=\"M 30.103125 294.118125 \nL 410.55767 294.118125 \n\" style=\"fill:none;stroke:#000000;stroke-linecap:square;stroke-linejoin:miter;stroke-width:0.8;\"/>\n   </g>\n   <g id=\"patch_6\">\n    <path d=\"M 30.103125 22.318125 \nL 410.55767 22.318125 \n\" style=\"fill:none;stroke:#000000;stroke-linecap:square;stroke-linejoin:miter;stroke-width:0.8;\"/>\n   </g>\n   <g id=\"text_14\">\n    <!-- loss_detector_cls -->\n    <g transform=\"translate(169.315398 16.318125)scale(0.12 -0.12)\">\n     <defs>\n      <path d=\"M 9.421875 75.984375 \nL 18.40625 75.984375 \nL 18.40625 0 \nL 9.421875 0 \nz\n\" id=\"DejaVuSans-108\"/>\n      <path d=\"M 30.609375 48.390625 \nQ 23.390625 48.390625 19.1875 42.75 \nQ 14.984375 37.109375 14.984375 27.296875 \nQ 14.984375 17.484375 19.15625 11.84375 \nQ 23.34375 6.203125 30.609375 6.203125 \nQ 37.796875 6.203125 41.984375 11.859375 \nQ 46.1875 17.53125 46.1875 27.296875 \nQ 46.1875 37.015625 41.984375 42.703125 \nQ 37.796875 48.390625 30.609375 48.390625 \nz\nM 30.609375 56 \nQ 42.328125 56 49.015625 48.375 \nQ 55.71875 40.765625 55.71875 27.296875 \nQ 55.71875 13.875 49.015625 6.21875 \nQ 42.328125 -1.421875 30.609375 -1.421875 \nQ 18.84375 -1.421875 12.171875 6.21875 \nQ 5.515625 13.875 5.515625 27.296875 \nQ 5.515625 40.765625 12.171875 48.375 \nQ 18.84375 56 30.609375 56 \nz\n\" id=\"DejaVuSans-111\"/>\n      <path d=\"M 44.28125 53.078125 \nL 44.28125 44.578125 \nQ 40.484375 46.53125 36.375 47.5 \nQ 32.28125 48.484375 27.875 48.484375 \nQ 21.1875 48.484375 17.84375 46.4375 \nQ 14.5 44.390625 14.5 40.28125 \nQ 14.5 37.15625 16.890625 35.375 \nQ 19.28125 33.59375 26.515625 31.984375 \nL 29.59375 31.296875 \nQ 39.15625 29.25 43.1875 25.515625 \nQ 47.21875 21.78125 47.21875 15.09375 \nQ 47.21875 7.46875 41.1875 3.015625 \nQ 35.15625 -1.421875 24.609375 -1.421875 \nQ 20.21875 -1.421875 15.453125 -0.5625 \nQ 10.6875 0.296875 5.421875 2 \nL 5.421875 11.28125 \nQ 10.40625 8.6875 15.234375 7.390625 \nQ 20.0625 6.109375 24.8125 6.109375 \nQ 31.15625 6.109375 34.5625 8.28125 \nQ 37.984375 10.453125 37.984375 14.40625 \nQ 37.984375 18.0625 35.515625 20.015625 \nQ 33.0625 21.96875 24.703125 23.78125 \nL 21.578125 24.515625 \nQ 13.234375 26.265625 9.515625 29.90625 \nQ 5.8125 33.546875 5.8125 39.890625 \nQ 5.8125 47.609375 11.28125 51.796875 \nQ 16.75 56 26.8125 56 \nQ 31.78125 56 36.171875 55.265625 \nQ 40.578125 54.546875 44.28125 53.078125 \nz\n\" id=\"DejaVuSans-115\"/>\n      <path d=\"M 50.984375 -16.609375 \nL 50.984375 -23.578125 \nL -0.984375 -23.578125 \nL -0.984375 -16.609375 \nz\n\" id=\"DejaVuSans-95\"/>\n      <path d=\"M 45.40625 46.390625 \nL 45.40625 75.984375 \nL 54.390625 75.984375 \nL 54.390625 0 \nL 45.40625 0 \nL 45.40625 8.203125 \nQ 42.578125 3.328125 38.25 0.953125 \nQ 33.9375 -1.421875 27.875 -1.421875 \nQ 17.96875 -1.421875 11.734375 6.484375 \nQ 5.515625 14.40625 5.515625 27.296875 \nQ 5.515625 40.1875 11.734375 48.09375 \nQ 17.96875 56 27.875 56 \nQ 33.9375 56 38.25 53.625 \nQ 42.578125 51.265625 45.40625 46.390625 \nz\nM 14.796875 27.296875 \nQ 14.796875 17.390625 18.875 11.75 \nQ 22.953125 6.109375 30.078125 6.109375 \nQ 37.203125 6.109375 41.296875 11.75 \nQ 45.40625 17.390625 45.40625 27.296875 \nQ 45.40625 37.203125 41.296875 42.84375 \nQ 37.203125 48.484375 30.078125 48.484375 \nQ 22.953125 48.484375 18.875 42.84375 \nQ 14.796875 37.203125 14.796875 27.296875 \nz\n\" id=\"DejaVuSans-100\"/>\n      <path d=\"M 56.203125 29.59375 \nL 56.203125 25.203125 \nL 14.890625 25.203125 \nQ 15.484375 15.921875 20.484375 11.0625 \nQ 25.484375 6.203125 34.421875 6.203125 \nQ 39.59375 6.203125 44.453125 7.46875 \nQ 49.3125 8.734375 54.109375 11.28125 \nL 54.109375 2.78125 \nQ 49.265625 0.734375 44.1875 -0.34375 \nQ 39.109375 -1.421875 33.890625 -1.421875 \nQ 20.796875 -1.421875 13.15625 6.1875 \nQ 5.515625 13.8125 5.515625 26.8125 \nQ 5.515625 40.234375 12.765625 48.109375 \nQ 20.015625 56 32.328125 56 \nQ 43.359375 56 49.78125 48.890625 \nQ 56.203125 41.796875 56.203125 29.59375 \nz\nM 47.21875 32.234375 \nQ 47.125 39.59375 43.09375 43.984375 \nQ 39.0625 48.390625 32.421875 48.390625 \nQ 24.90625 48.390625 20.390625 44.140625 \nQ 15.875 39.890625 15.1875 32.171875 \nz\n\" id=\"DejaVuSans-101\"/>\n      <path d=\"M 18.3125 70.21875 \nL 18.3125 54.6875 \nL 36.8125 54.6875 \nL 36.8125 47.703125 \nL 18.3125 47.703125 \nL 18.3125 18.015625 \nQ 18.3125 11.328125 20.140625 9.421875 \nQ 21.96875 7.515625 27.59375 7.515625 \nL 36.8125 7.515625 \nL 36.8125 0 \nL 27.59375 0 \nQ 17.1875 0 13.234375 3.875 \nQ 9.28125 7.765625 9.28125 18.015625 \nL 9.28125 47.703125 \nL 2.6875 47.703125 \nL 2.6875 54.6875 \nL 9.28125 54.6875 \nL 9.28125 70.21875 \nz\n\" id=\"DejaVuSans-116\"/>\n      <path d=\"M 48.78125 52.59375 \nL 48.78125 44.1875 \nQ 44.96875 46.296875 41.140625 47.34375 \nQ 37.3125 48.390625 33.40625 48.390625 \nQ 24.65625 48.390625 19.8125 42.84375 \nQ 14.984375 37.3125 14.984375 27.296875 \nQ 14.984375 17.28125 19.8125 11.734375 \nQ 24.65625 6.203125 33.40625 6.203125 \nQ 37.3125 6.203125 41.140625 7.25 \nQ 44.96875 8.296875 48.78125 10.40625 \nL 48.78125 2.09375 \nQ 45.015625 0.34375 40.984375 -0.53125 \nQ 36.96875 -1.421875 32.421875 -1.421875 \nQ 20.0625 -1.421875 12.78125 6.34375 \nQ 5.515625 14.109375 5.515625 27.296875 \nQ 5.515625 40.671875 12.859375 48.328125 \nQ 20.21875 56 33.015625 56 \nQ 37.15625 56 41.109375 55.140625 \nQ 45.0625 54.296875 48.78125 52.59375 \nz\n\" id=\"DejaVuSans-99\"/>\n      <path d=\"M 41.109375 46.296875 \nQ 39.59375 47.171875 37.8125 47.578125 \nQ 36.03125 48 33.890625 48 \nQ 26.265625 48 22.1875 43.046875 \nQ 18.109375 38.09375 18.109375 28.8125 \nL 18.109375 0 \nL 9.078125 0 \nL 9.078125 54.6875 \nL 18.109375 54.6875 \nL 18.109375 46.1875 \nQ 20.953125 51.171875 25.484375 53.578125 \nQ 30.03125 56 36.53125 56 \nQ 37.453125 56 38.578125 55.875 \nQ 39.703125 55.765625 41.0625 55.515625 \nz\n\" id=\"DejaVuSans-114\"/>\n     </defs>\n     <use xlink:href=\"#DejaVuSans-108\"/>\n     <use x=\"27.783203\" xlink:href=\"#DejaVuSans-111\"/>\n     <use x=\"88.964844\" xlink:href=\"#DejaVuSans-115\"/>\n     <use x=\"141.064453\" xlink:href=\"#DejaVuSans-115\"/>\n     <use x=\"193.164062\" xlink:href=\"#DejaVuSans-95\"/>\n     <use x=\"243.164062\" xlink:href=\"#DejaVuSans-100\"/>\n     <use x=\"306.640625\" xlink:href=\"#DejaVuSans-101\"/>\n     <use x=\"368.164062\" xlink:href=\"#DejaVuSans-116\"/>\n     <use x=\"407.373047\" xlink:href=\"#DejaVuSans-101\"/>\n     <use x=\"468.896484\" xlink:href=\"#DejaVuSans-99\"/>\n     <use x=\"523.876953\" xlink:href=\"#DejaVuSans-116\"/>\n     <use x=\"563.085938\" xlink:href=\"#DejaVuSans-111\"/>\n     <use x=\"624.267578\" xlink:href=\"#DejaVuSans-114\"/>\n     <use x=\"665.380859\" xlink:href=\"#DejaVuSans-95\"/>\n     <use x=\"715.380859\" xlink:href=\"#DejaVuSans-99\"/>\n     <use x=\"770.361328\" xlink:href=\"#DejaVuSans-108\"/>\n     <use x=\"798.144531\" xlink:href=\"#DejaVuSans-115\"/>\n    </g>\n   </g>\n  </g>\n  <g id=\"axes_2\">\n   <g id=\"patch_7\">\n    <path d=\"M 486.64858 294.118125 \nL 867.103125 294.118125 \nL 867.103125 22.318125 \nL 486.64858 22.318125 \nz\n\" style=\"fill:#ffffff;\"/>\n   </g>\n   <g id=\"matplotlib.axis_3\">\n    <g id=\"xtick_7\">\n     <g id=\"line2d_15\">\n      <g>\n       <use style=\"stroke:#000000;stroke-width:0.8;\" x=\"503.941968\" xlink:href=\"#m1a050c3182\" y=\"294.118125\"/>\n      </g>\n     </g>\n     <g id=\"text_15\">\n      <!-- 0 -->\n      <g transform=\"translate(500.760718 308.716563)scale(0.1 -0.1)\">\n       <use xlink:href=\"#DejaVuSans-48\"/>\n      </g>\n     </g>\n    </g>\n    <g id=\"xtick_8\">\n     <g id=\"line2d_16\">\n      <g>\n       <use style=\"stroke:#000000;stroke-width:0.8;\" x=\"573.814244\" xlink:href=\"#m1a050c3182\" y=\"294.118125\"/>\n      </g>\n     </g>\n     <g id=\"text_16\">\n      <!-- 20 -->\n      <g transform=\"translate(567.451744 308.716563)scale(0.1 -0.1)\">\n       <use xlink:href=\"#DejaVuSans-50\"/>\n       <use x=\"63.623047\" xlink:href=\"#DejaVuSans-48\"/>\n      </g>\n     </g>\n    </g>\n    <g id=\"xtick_9\">\n     <g id=\"line2d_17\">\n      <g>\n       <use style=\"stroke:#000000;stroke-width:0.8;\" x=\"643.686521\" xlink:href=\"#m1a050c3182\" y=\"294.118125\"/>\n      </g>\n     </g>\n     <g id=\"text_17\">\n      <!-- 40 -->\n      <g transform=\"translate(637.324021 308.716563)scale(0.1 -0.1)\">\n       <use xlink:href=\"#DejaVuSans-52\"/>\n       <use x=\"63.623047\" xlink:href=\"#DejaVuSans-48\"/>\n      </g>\n     </g>\n    </g>\n    <g id=\"xtick_10\">\n     <g id=\"line2d_18\">\n      <g>\n       <use style=\"stroke:#000000;stroke-width:0.8;\" x=\"713.558797\" xlink:href=\"#m1a050c3182\" y=\"294.118125\"/>\n      </g>\n     </g>\n     <g id=\"text_18\">\n      <!-- 60 -->\n      <g transform=\"translate(707.196297 308.716563)scale(0.1 -0.1)\">\n       <use xlink:href=\"#DejaVuSans-54\"/>\n       <use x=\"63.623047\" xlink:href=\"#DejaVuSans-48\"/>\n      </g>\n     </g>\n    </g>\n    <g id=\"xtick_11\">\n     <g id=\"line2d_19\">\n      <g>\n       <use style=\"stroke:#000000;stroke-width:0.8;\" x=\"783.431074\" xlink:href=\"#m1a050c3182\" y=\"294.118125\"/>\n      </g>\n     </g>\n     <g id=\"text_19\">\n      <!-- 80 -->\n      <g transform=\"translate(777.068574 308.716563)scale(0.1 -0.1)\">\n       <use xlink:href=\"#DejaVuSans-56\"/>\n       <use x=\"63.623047\" xlink:href=\"#DejaVuSans-48\"/>\n      </g>\n     </g>\n    </g>\n    <g id=\"xtick_12\">\n     <g id=\"line2d_20\">\n      <g>\n       <use style=\"stroke:#000000;stroke-width:0.8;\" x=\"853.30335\" xlink:href=\"#m1a050c3182\" y=\"294.118125\"/>\n      </g>\n     </g>\n     <g id=\"text_20\">\n      <!-- 100 -->\n      <g transform=\"translate(843.7596 308.716563)scale(0.1 -0.1)\">\n       <use xlink:href=\"#DejaVuSans-49\"/>\n       <use x=\"63.623047\" xlink:href=\"#DejaVuSans-48\"/>\n       <use x=\"127.246094\" xlink:href=\"#DejaVuSans-48\"/>\n      </g>\n     </g>\n    </g>\n   </g>\n   <g id=\"matplotlib.axis_4\">\n    <g id=\"ytick_8\">\n     <g id=\"line2d_21\">\n      <g>\n       <use style=\"stroke:#000000;stroke-width:0.8;\" x=\"486.64858\" xlink:href=\"#m0afa1a58e1\" y=\"281.76358\"/>\n      </g>\n     </g>\n     <g id=\"text_21\">\n      <!-- 0 -->\n      <g transform=\"translate(473.28608 285.562798)scale(0.1 -0.1)\">\n       <use xlink:href=\"#DejaVuSans-48\"/>\n      </g>\n     </g>\n    </g>\n    <g id=\"ytick_9\">\n     <g id=\"line2d_22\">\n      <g>\n       <use style=\"stroke:#000000;stroke-width:0.8;\" x=\"486.64858\" xlink:href=\"#m0afa1a58e1\" y=\"231.28317\"/>\n      </g>\n     </g>\n     <g id=\"text_22\">\n      <!-- 50000 -->\n      <g transform=\"translate(447.83608 235.082389)scale(0.1 -0.1)\">\n       <use xlink:href=\"#DejaVuSans-53\"/>\n       <use x=\"63.623047\" xlink:href=\"#DejaVuSans-48\"/>\n       <use x=\"127.246094\" xlink:href=\"#DejaVuSans-48\"/>\n       <use x=\"190.869141\" xlink:href=\"#DejaVuSans-48\"/>\n       <use x=\"254.492188\" xlink:href=\"#DejaVuSans-48\"/>\n      </g>\n     </g>\n    </g>\n    <g id=\"ytick_10\">\n     <g id=\"line2d_23\">\n      <g>\n       <use style=\"stroke:#000000;stroke-width:0.8;\" x=\"486.64858\" xlink:href=\"#m0afa1a58e1\" y=\"180.80276\"/>\n      </g>\n     </g>\n     <g id=\"text_23\">\n      <!-- 100000 -->\n      <g transform=\"translate(441.47358 184.601979)scale(0.1 -0.1)\">\n       <use xlink:href=\"#DejaVuSans-49\"/>\n       <use x=\"63.623047\" xlink:href=\"#DejaVuSans-48\"/>\n       <use x=\"127.246094\" xlink:href=\"#DejaVuSans-48\"/>\n       <use x=\"190.869141\" xlink:href=\"#DejaVuSans-48\"/>\n       <use x=\"254.492188\" xlink:href=\"#DejaVuSans-48\"/>\n       <use x=\"318.115234\" xlink:href=\"#DejaVuSans-48\"/>\n      </g>\n     </g>\n    </g>\n    <g id=\"ytick_11\">\n     <g id=\"line2d_24\">\n      <g>\n       <use style=\"stroke:#000000;stroke-width:0.8;\" x=\"486.64858\" xlink:href=\"#m0afa1a58e1\" y=\"130.322351\"/>\n      </g>\n     </g>\n     <g id=\"text_24\">\n      <!-- 150000 -->\n      <g transform=\"translate(441.47358 134.12157)scale(0.1 -0.1)\">\n       <use xlink:href=\"#DejaVuSans-49\"/>\n       <use x=\"63.623047\" xlink:href=\"#DejaVuSans-53\"/>\n       <use x=\"127.246094\" xlink:href=\"#DejaVuSans-48\"/>\n       <use x=\"190.869141\" xlink:href=\"#DejaVuSans-48\"/>\n       <use x=\"254.492188\" xlink:href=\"#DejaVuSans-48\"/>\n       <use x=\"318.115234\" xlink:href=\"#DejaVuSans-48\"/>\n      </g>\n     </g>\n    </g>\n    <g id=\"ytick_12\">\n     <g id=\"line2d_25\">\n      <g>\n       <use style=\"stroke:#000000;stroke-width:0.8;\" x=\"486.64858\" xlink:href=\"#m0afa1a58e1\" y=\"79.841941\"/>\n      </g>\n     </g>\n     <g id=\"text_25\">\n      <!-- 200000 -->\n      <g transform=\"translate(441.47358 83.64116)scale(0.1 -0.1)\">\n       <use xlink:href=\"#DejaVuSans-50\"/>\n       <use x=\"63.623047\" xlink:href=\"#DejaVuSans-48\"/>\n       <use x=\"127.246094\" xlink:href=\"#DejaVuSans-48\"/>\n       <use x=\"190.869141\" xlink:href=\"#DejaVuSans-48\"/>\n       <use x=\"254.492188\" xlink:href=\"#DejaVuSans-48\"/>\n       <use x=\"318.115234\" xlink:href=\"#DejaVuSans-48\"/>\n      </g>\n     </g>\n    </g>\n    <g id=\"ytick_13\">\n     <g id=\"line2d_26\">\n      <g>\n       <use style=\"stroke:#000000;stroke-width:0.8;\" x=\"486.64858\" xlink:href=\"#m0afa1a58e1\" y=\"29.361532\"/>\n      </g>\n     </g>\n     <g id=\"text_26\">\n      <!-- 250000 -->\n      <g transform=\"translate(441.47358 33.160751)scale(0.1 -0.1)\">\n       <use xlink:href=\"#DejaVuSans-50\"/>\n       <use x=\"63.623047\" xlink:href=\"#DejaVuSans-53\"/>\n       <use x=\"127.246094\" xlink:href=\"#DejaVuSans-48\"/>\n       <use x=\"190.869141\" xlink:href=\"#DejaVuSans-48\"/>\n       <use x=\"254.492188\" xlink:href=\"#DejaVuSans-48\"/>\n       <use x=\"318.115234\" xlink:href=\"#DejaVuSans-48\"/>\n      </g>\n     </g>\n    </g>\n   </g>\n   <g id=\"line2d_27\">\n    <path clip-path=\"url(#p38527f7379)\" d=\"M 503.941968 281.76358 \nL 507.435582 281.76358 \nL 510.929196 281.76358 \nL 514.422809 281.76358 \nL 517.916423 281.762856 \nL 521.410037 281.700347 \nL 524.903651 280.638217 \nL 528.397265 34.67267 \nL 531.890879 266.887246 \nL 535.384492 281.76358 \nL 538.878106 241.487174 \nL 542.37172 245.490798 \nL 545.865334 200.774948 \nL 549.358948 281.76358 \nL 552.852562 208.43576 \nL 556.346175 278.132087 \nL 559.839789 271.539138 \nL 563.333403 272.774087 \nL 566.827017 261.547108 \nL 570.320631 268.803055 \nL 573.814244 260.996434 \nL 577.307858 269.831829 \nL 580.801472 266.833591 \nL 584.295086 273.818093 \nL 587.7887 272.221705 \nL 591.282314 273.58075 \nL 594.775927 273.066618 \nL 598.269541 274.399449 \nL 601.763155 274.82055 \nL 605.256769 273.21813 \nL 608.750383 273.524662 \nL 612.243997 267.977699 \nL 615.73761 279.936348 \nL 619.231224 280.532016 \nL 622.724838 281.590149 \nL 626.218452 281.762216 \nL 629.712066 281.046345 \nL 633.205679 281.130772 \nL 636.699293 281.43855 \nL 640.192907 281.579448 \nL 643.686521 279.697764 \nL 647.180135 272.793161 \nL 650.673749 278.800563 \nL 654.167362 281.282724 \nL 657.660976 280.614772 \nL 661.15459 279.672083 \nL 664.648204 279.94879 \nL 668.141818 276.873638 \nL 671.635432 274.280769 \nL 675.129045 279.913597 \nL 678.622659 281.58025 \nL 682.116273 281.545536 \nL 685.609887 281.760881 \nL 689.103501 277.011303 \nL 692.597114 273.181681 \nL 696.090728 280.32863 \nL 699.584342 279.649828 \nL 703.077956 281.290732 \nL 706.57157 279.852944 \nL 710.065184 278.210512 \nL 713.558797 274.65564 \nL 717.052411 281.549212 \nL 720.546025 279.044152 \nL 724.039639 281.471055 \nL 727.533253 281.724695 \nL 731.026867 281.715791 \nL 734.52048 281.762826 \nL 738.014094 281.387057 \nL 741.507708 281.565461 \nL 745.001322 281.752887 \nL 748.494936 281.205813 \nL 751.988549 275.828184 \nL 755.482163 272.263746 \nL 758.975777 278.903598 \nL 762.469391 279.990399 \nL 765.963005 278.496503 \nL 769.456619 280.420651 \nL 772.950232 261.301726 \nL 776.443846 277.08052 \nL 779.93746 280.337835 \nL 783.431074 281.355686 \nL 786.924688 281.321667 \nL 790.418302 281.762999 \nL 793.911915 281.763393 \nL 797.405529 281.375475 \nL 800.899143 281.397864 \nL 804.392757 277.507709 \nL 807.886371 271.951253 \nL 811.379985 275.086535 \nL 814.873598 281.147836 \nL 818.367212 281.763118 \nL 821.860826 281.47741 \nL 825.35444 281.76322 \nL 828.848054 280.730971 \nL 832.341667 281.763097 \nL 835.835281 281.763245 \nL 839.328895 281.381363 \nL 842.822509 281.237641 \nL 846.316123 281.763137 \nL 849.809737 281.291378 \n\" style=\"fill:none;stroke:#ff0000;stroke-linecap:square;stroke-width:1.5;\"/>\n   </g>\n   <g id=\"patch_8\">\n    <path d=\"M 486.64858 294.118125 \nL 486.64858 22.318125 \n\" style=\"fill:none;stroke:#000000;stroke-linecap:square;stroke-linejoin:miter;stroke-width:0.8;\"/>\n   </g>\n   <g id=\"patch_9\">\n    <path d=\"M 867.103125 294.118125 \nL 867.103125 22.318125 \n\" style=\"fill:none;stroke:#000000;stroke-linecap:square;stroke-linejoin:miter;stroke-width:0.8;\"/>\n   </g>\n   <g id=\"patch_10\">\n    <path d=\"M 486.64858 294.118125 \nL 867.103125 294.118125 \n\" style=\"fill:none;stroke:#000000;stroke-linecap:square;stroke-linejoin:miter;stroke-width:0.8;\"/>\n   </g>\n   <g id=\"patch_11\">\n    <path d=\"M 486.64858 22.318125 \nL 867.103125 22.318125 \n\" style=\"fill:none;stroke:#000000;stroke-linecap:square;stroke-linejoin:miter;stroke-width:0.8;\"/>\n   </g>\n   <g id=\"text_27\">\n    <!-- loss_detector_regr -->\n    <g transform=\"translate(621.653352 16.318125)scale(0.12 -0.12)\">\n     <defs>\n      <path d=\"M 45.40625 27.984375 \nQ 45.40625 37.75 41.375 43.109375 \nQ 37.359375 48.484375 30.078125 48.484375 \nQ 22.859375 48.484375 18.828125 43.109375 \nQ 14.796875 37.75 14.796875 27.984375 \nQ 14.796875 18.265625 18.828125 12.890625 \nQ 22.859375 7.515625 30.078125 7.515625 \nQ 37.359375 7.515625 41.375 12.890625 \nQ 45.40625 18.265625 45.40625 27.984375 \nz\nM 54.390625 6.78125 \nQ 54.390625 -7.171875 48.1875 -13.984375 \nQ 42 -20.796875 29.203125 -20.796875 \nQ 24.46875 -20.796875 20.265625 -20.09375 \nQ 16.0625 -19.390625 12.109375 -17.921875 \nL 12.109375 -9.1875 \nQ 16.0625 -11.328125 19.921875 -12.34375 \nQ 23.78125 -13.375 27.78125 -13.375 \nQ 36.625 -13.375 41.015625 -8.765625 \nQ 45.40625 -4.15625 45.40625 5.171875 \nL 45.40625 9.625 \nQ 42.625 4.78125 38.28125 2.390625 \nQ 33.9375 0 27.875 0 \nQ 17.828125 0 11.671875 7.65625 \nQ 5.515625 15.328125 5.515625 27.984375 \nQ 5.515625 40.671875 11.671875 48.328125 \nQ 17.828125 56 27.875 56 \nQ 33.9375 56 38.28125 53.609375 \nQ 42.625 51.21875 45.40625 46.390625 \nL 45.40625 54.6875 \nL 54.390625 54.6875 \nz\n\" id=\"DejaVuSans-103\"/>\n     </defs>\n     <use xlink:href=\"#DejaVuSans-108\"/>\n     <use x=\"27.783203\" xlink:href=\"#DejaVuSans-111\"/>\n     <use x=\"88.964844\" xlink:href=\"#DejaVuSans-115\"/>\n     <use x=\"141.064453\" xlink:href=\"#DejaVuSans-115\"/>\n     <use x=\"193.164062\" xlink:href=\"#DejaVuSans-95\"/>\n     <use x=\"243.164062\" xlink:href=\"#DejaVuSans-100\"/>\n     <use x=\"306.640625\" xlink:href=\"#DejaVuSans-101\"/>\n     <use x=\"368.164062\" xlink:href=\"#DejaVuSans-116\"/>\n     <use x=\"407.373047\" xlink:href=\"#DejaVuSans-101\"/>\n     <use x=\"468.896484\" xlink:href=\"#DejaVuSans-99\"/>\n     <use x=\"523.876953\" xlink:href=\"#DejaVuSans-116\"/>\n     <use x=\"563.085938\" xlink:href=\"#DejaVuSans-111\"/>\n     <use x=\"624.267578\" xlink:href=\"#DejaVuSans-114\"/>\n     <use x=\"665.380859\" xlink:href=\"#DejaVuSans-95\"/>\n     <use x=\"715.380859\" xlink:href=\"#DejaVuSans-114\"/>\n     <use x=\"754.244141\" xlink:href=\"#DejaVuSans-101\"/>\n     <use x=\"815.767578\" xlink:href=\"#DejaVuSans-103\"/>\n     <use x=\"879.244141\" xlink:href=\"#DejaVuSans-114\"/>\n    </g>\n   </g>\n  </g>\n </g>\n <defs>\n  <clipPath id=\"p13f8af6e8b\">\n   <rect height=\"271.8\" width=\"380.454545\" x=\"30.103125\" y=\"22.318125\"/>\n  </clipPath>\n  <clipPath id=\"p38527f7379\">\n   <rect height=\"271.8\" width=\"380.454545\" x=\"486.64858\" y=\"22.318125\"/>\n  </clipPath>\n </defs>\n</svg>\n",
            "image/png": "[encoded data removed]"
          },
          "metadata": {
            "needs_background": "light"
          }
        }
      ],
      "metadata": {}
    },
    {
      "cell_type": "code",
      "execution_count": null,
      "source": [
        "loss_history[:,1].shape"
      ],
      "outputs": [],
      "metadata": {}
    },
    {
      "cell_type": "code",
      "execution_count": null,
      "source": [
        "np.convolve(loss_history[1], np.ones(10), 'valid') / 10"
      ],
      "outputs": [],
      "metadata": {}
    },
    {
      "cell_type": "code",
      "execution_count": null,
      "source": [
        "def moving_average(x, w):\n",
        "    return np.convolve(x, np.ones(w), 'valid') / w\n",
        "\n",
        "lsma_0 = moving_average(loss_history[100:,2], 200)\n"
      ],
      "outputs": [],
      "metadata": {}
    },
    {
      "cell_type": "code",
      "execution_count": null,
      "source": [
        "plt.figure(figsize=(15,5))\n",
        "plt.subplot(1,2,1)\n",
        "plt.plot(np.arange(0, len(lsma_0)), lsma_0, 'r')\n",
        "plt.title('rpn cls')"
      ],
      "outputs": [],
      "metadata": {}
    },
    {
      "cell_type": "markdown",
      "source": [],
      "metadata": {}
    },
    {
      "cell_type": "markdown",
      "source": [
        "## Modelli da trainare:\n",
        "epoch lenght = 200\n",
        "- baseline_16: patch 50 -> 100, [8,16,32,64]-[1:1], 16roi, limit=4000, 10k epoche, focal_loss, norm: /255, no bilanciamento dataset, rgbNorm=True - A\n",
        "- baseline_16: patch 50 -> 100, [8,16,32,64]-[1:1], 16roi, limit=4000, 10k epoche, NO focal_loss, norm: /255, no bilanciamento dataset, rgbNorm=True - A\n",
        "\n",
        "- baseline_16: patch 20->100,  [8,16,32,64]-[1:1,1:2,2:1], 16roi, limit=4000, 10k epoche, focal_loss, norm: /255, no bilanciamento dataset, rgbNorm=True - L\n",
        "- baseline_16: patch 20->100,  [8,16,32,64]-[1:1,1:2,2:1], 16roi, limit=4000, 10k epoche, focal_loss, norm: /255, no bilanciamento dataset, rgbNorm=True, layer 3 e 4 trainabili - L\n",
        "\n",
        "- baseline_16: patch 100->100,  [8,16,32,64]-[1:1,1:2,2:1], 16roi, limit=4000, 10k epoche, focal_loss, norm: /255, no bilanciamento dataset, rgbNorm=True\n",
        "\n",
        "- vgg16: 100 -> 600, [32,64,128,256,512]-[1:1,1:2,2:1], 16roi, limit=4000, 10k epoche, focal_loss, norm: /255, no bilanciamento dataset, rgbNorm=True"
      ],
      "metadata": {}
    }
  ]
}