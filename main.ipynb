{
  "nbformat": 4,
  "nbformat_minor": 0,
  "metadata": {
    "language_info": {
      "codemirror_mode": {
        "name": "ipython",
        "version": 3
      },
      "file_extension": ".py",
      "mimetype": "text/x-python",
      "name": "python",
      "nbconvert_exporter": "python",
      "pygments_lexer": "ipython3",
      "version": "3.8.2"
    },
    "orig_nbformat": 2,
    "kernelspec": {
      "name": "python382jvsc74a57bd031f2aee4e71d21fbe5cf8b01ff0e069b9275f58929596ceb00d14d90e3e16cd6",
      "display_name": "Python 3.8.2 64-bit"
    },
    "colab": {
      "name": "main.ipynb",
      "provenance": []
    },
    "metadata": {
      "interpreter": {
        "hash": "31f2aee4e71d21fbe5cf8b01ff0e069b9275f58929596ceb00d14d90e3e16cd6"
      }
    }
  },
  "cells": [
    {
      "cell_type": "code",
      "metadata": {
        "id": "XkdmU4lMMVmI",
        "outputId": "7bfc2152-66c6-4d4d-f838-0e531b28a348",
        "colab": {
          "base_uri": "https://localhost:8080/"
        }
      },
      "source": [
        "# !git clone 'https://github.com/Lorenz92/SKADC1.git'\n",
        "# % cd SKADC1\n",
        "# !echo $PWD"
      ],
      "execution_count": 3,
      "outputs": []
    },
    {
      "cell_type": "code",
      "metadata": {
        "id": "7WwOlsifF-5G",
        "outputId": "303002ab-c8c4-4807-caeb-ee1c590d4326",
        "colab": {
          "base_uri": "https://localhost:8080/"
        }
      },
      "source": [
        "import pandas as pd\n",
        "import numpy as np\n",
        "import requests\n",
        "import matplotlib.pyplot as plt\n",
        "import sys\n",
        "from astropy.io import fits\n",
        "import os\n",
        "import statistics\n",
        "\n",
        "import src.dataset as dataset\n",
        "import src.config as config\n",
        "from src.utils import *\n",
        "import src.preprocessing as prep\n",
        "import src.models as models\n",
        "\n",
        "# from src.config import * \n",
        "\n",
        "%load_ext autoreload\n",
        "%autoreload 2\n",
        "\n",
        "np.random.seed(config.RANDOM_SEED)"
      ],
      "execution_count": 4,
      "outputs": []
    },
    {
      "cell_type": "code",
      "metadata": {
        "id": "qHxrJ525F-5J",
        "outputId": "ee8e854b-65ce-486a-e9e3-c5752e45406c",
        "colab": {
          "base_uri": "https://localhost:8080/"
        }
      },
      "source": [
        "for download_info in config.required_files:\n",
        "    if not os.path.exists(os.path.join(config.TRAIN_DATA_FOLDER, download_info['file_name'])):\n",
        "        download_data(download_info['file_name'], download_info['url'], config.DOWNLOAD_FOLDER)"
      ],
      "execution_count": 5,
      "outputs": []
    },
    {
      "cell_type": "code",
      "metadata": {
        "tags": [],
        "id": "Q8IbYCwkF-5K",
        "outputId": "5cd8e5ba-49cd-49b4-d65c-65d82229f792",
        "colab": {
          "base_uri": "https://localhost:8080/",
          "height": 221
        }
      },
      "source": [
        "# Dataset parsing and loading\n",
        "# use \"subset\" to load a small portion of data for development/debugging purposes\n",
        "\n",
        "ska_dataset = dataset.SKADataset(train_set_path=config.TRAIN_SET_PATH, subset=config.DATA_SUBSET)\n",
        "print(ska_dataset.raw_train_df.shape)\n",
        "ska_dataset.raw_train_df.head()"
      ],
      "execution_count": 6,
      "outputs": [
        {
          "output_type": "stream",
          "name": "stdout",
          "text": [
            "(19222, 15)\n"
          ]
        },
        {
          "output_type": "execute_result",
          "data": {
            "text/plain": [
              "         ID  RA (core)  DEC (core)  RA (centroid)  DEC (centroid)      FLUX  \\\n",
              "0  24121695  -0.642227  -29.775242      -0.642316      -29.775211  0.000035   \n",
              "1  20167150  -0.390473  -29.867493      -0.390667      -29.868851  0.029555   \n",
              "2  20045120  -0.021411  -29.643486      -0.021359      -29.643561  0.000653   \n",
              "3  33938384  -0.316375  -29.697647      -0.316375      -29.697647  0.000017   \n",
              "4   7527248  -0.336528  -29.627335      -0.336527      -29.627338  0.000054   \n",
              "\n",
              "   Core frac     BMAJ    BMIN       PA  SIZE  CLASS  SELECTION          x  \\\n",
              "0   0.000000    5.600   5.551  328.554     1      1          1  19704.519   \n",
              "1   0.016924  107.110  43.263  191.258     1      1          1  18401.338   \n",
              "2   0.012185    5.037   3.525  276.587     1      1          1  16493.600   \n",
              "3   0.000000    0.847   0.266  346.641     2      1          1  18020.319   \n",
              "4   0.044763    3.343   1.515  279.006     1      1          1  18125.824   \n",
              "\n",
              "           y  \n",
              "0  17712.942  \n",
              "1  17160.919  \n",
              "2  18506.577  \n",
              "3  18182.095  \n",
              "4  18600.680  "
            ],
            "text/html": "<div>\n<style scoped>\n    .dataframe tbody tr th:only-of-type {\n        vertical-align: middle;\n    }\n\n    .dataframe tbody tr th {\n        vertical-align: top;\n    }\n\n    .dataframe thead th {\n        text-align: right;\n    }\n</style>\n<table border=\"1\" class=\"dataframe\">\n  <thead>\n    <tr style=\"text-align: right;\">\n      <th></th>\n      <th>ID</th>\n      <th>RA (core)</th>\n      <th>DEC (core)</th>\n      <th>RA (centroid)</th>\n      <th>DEC (centroid)</th>\n      <th>FLUX</th>\n      <th>Core frac</th>\n      <th>BMAJ</th>\n      <th>BMIN</th>\n      <th>PA</th>\n      <th>SIZE</th>\n      <th>CLASS</th>\n      <th>SELECTION</th>\n      <th>x</th>\n      <th>y</th>\n    </tr>\n  </thead>\n  <tbody>\n    <tr>\n      <th>0</th>\n      <td>24121695</td>\n      <td>-0.642227</td>\n      <td>-29.775242</td>\n      <td>-0.642316</td>\n      <td>-29.775211</td>\n      <td>0.000035</td>\n      <td>0.000000</td>\n      <td>5.600</td>\n      <td>5.551</td>\n      <td>328.554</td>\n      <td>1</td>\n      <td>1</td>\n      <td>1</td>\n      <td>19704.519</td>\n      <td>17712.942</td>\n    </tr>\n    <tr>\n      <th>1</th>\n      <td>20167150</td>\n      <td>-0.390473</td>\n      <td>-29.867493</td>\n      <td>-0.390667</td>\n      <td>-29.868851</td>\n      <td>0.029555</td>\n      <td>0.016924</td>\n      <td>107.110</td>\n      <td>43.263</td>\n      <td>191.258</td>\n      <td>1</td>\n      <td>1</td>\n      <td>1</td>\n      <td>18401.338</td>\n      <td>17160.919</td>\n    </tr>\n    <tr>\n      <th>2</th>\n      <td>20045120</td>\n      <td>-0.021411</td>\n      <td>-29.643486</td>\n      <td>-0.021359</td>\n      <td>-29.643561</td>\n      <td>0.000653</td>\n      <td>0.012185</td>\n      <td>5.037</td>\n      <td>3.525</td>\n      <td>276.587</td>\n      <td>1</td>\n      <td>1</td>\n      <td>1</td>\n      <td>16493.600</td>\n      <td>18506.577</td>\n    </tr>\n    <tr>\n      <th>3</th>\n      <td>33938384</td>\n      <td>-0.316375</td>\n      <td>-29.697647</td>\n      <td>-0.316375</td>\n      <td>-29.697647</td>\n      <td>0.000017</td>\n      <td>0.000000</td>\n      <td>0.847</td>\n      <td>0.266</td>\n      <td>346.641</td>\n      <td>2</td>\n      <td>1</td>\n      <td>1</td>\n      <td>18020.319</td>\n      <td>18182.095</td>\n    </tr>\n    <tr>\n      <th>4</th>\n      <td>7527248</td>\n      <td>-0.336528</td>\n      <td>-29.627335</td>\n      <td>-0.336527</td>\n      <td>-29.627338</td>\n      <td>0.000054</td>\n      <td>0.044763</td>\n      <td>3.343</td>\n      <td>1.515</td>\n      <td>279.006</td>\n      <td>1</td>\n      <td>1</td>\n      <td>1</td>\n      <td>18125.824</td>\n      <td>18600.680</td>\n    </tr>\n  </tbody>\n</table>\n</div>"
          },
          "metadata": {},
          "execution_count": 6
        }
      ]
    },
    {
      "cell_type": "code",
      "metadata": {
        "id": "fdok-EggF-5T",
        "outputId": "40c460e3-a600-4a3b-98a4-021a903c522e",
        "colab": {
          "base_uri": "https://localhost:8080/"
        }
      },
      "source": [
        "data_560Mhz_1000h_fits = fits.open('./data/training/560Mhz_1000h.fits')\n",
        "# data_560Mhz_1000h_fits.info()\n",
        "data_560Mhz_1000h_fits.filename()\n",
        "\n",
        "# print(data_560Mhz_1000h_fits[0].data)\n",
        "# print(data_560Mhz_1000h_fits[0].data.shape)\n",
        "\n",
        "data_560Mhz_1000h = data_560Mhz_1000h_fits[0].data[0,0]\n"
      ],
      "execution_count": 7,
      "outputs": [
        {
          "output_type": "stream",
          "name": "stderr",
          "text": [
            "WARNING: VerifyWarning: Invalid 'BLANK' keyword in header.  The 'BLANK' keyword is only applicable to integer data, and will be ignored in this HDU. [astropy.io.fits.hdu.image]\n"
          ]
        }
      ]
    },
    {
      "cell_type": "code",
      "metadata": {
        "id": "jdi1VFtOF-5V",
        "outputId": "0637233d-fadd-4c9f-b823-02ab6424866f"
      },
      "source": [
        "# # Visualization test\n",
        "# from astropy.io import fits\n",
        "# from astropy.utils.data import download_file\n",
        "\n",
        "# # image_file = download_file('https://owncloud.ia2.inaf.it/index.php/s/hbasFhd4YILNkCr/download', cache=True )\n",
        "\n",
        "# # image_data = fits.getdata(image_file)\n",
        "# # image_data = image_data.reshape(image_data.shape[2:])\n",
        "\n",
        "# # compute per value to clip the image\n",
        "# perc = 99.9\n",
        "# percentileThresh = np.percentile(data_560Mhz_1000h, perc)\n",
        "# print (f'{perc} percentile {percentileThresh}')\n",
        "\n",
        "# # # crop the image to speed up computation and clip using per value\n",
        "# # image_crop= image_data[5000:10000, 5000:10000]\n",
        "# # image_crop.clip(max=percentileThresh)\n",
        "\n",
        "# # plt.figure(figsize=(100, 100))\n",
        "# # # plt.imshow(normalized_data, cmap='viridis', vmax=255, vmin=0)\n",
        "# # for idx in range(25):\n",
        "# #     plt.subplot(5, 5, idx+1)\n",
        "# #     plt.axis('off')\n",
        "# #     base = 200 * idx\n",
        "# #     end = base + 200\n",
        "# #     normalized_data = image_crop[base:end, base:end] * (1.0 / percentileThresh)\n",
        "# #     plt.imshow(normalized_data, cmap='viridis', vmax=1, vmin=0)"
      ],
      "execution_count": 8,
      "outputs": []
    },
    {
      "cell_type": "markdown",
      "metadata": {
        "id": "UqSLm8sBF-5W"
      },
      "source": [
        "### Preprocessing"
      ]
    },
    {
      "cell_type": "code",
      "execution_count": 9,
      "metadata": {},
      "outputs": [],
      "source": [
        "coords = ska_dataset._convert_boxes_to_px_coord(ska_dataset.raw_train_df, data_560Mhz_1000h_fits[0].header)"
      ]
    },
    {
      "source": [
        "pd.DataFrame.from_dict(coords)"
      ],
      "cell_type": "code",
      "metadata": {
        "tags": []
      },
      "execution_count": 10,
      "outputs": [
        {
          "output_type": "execute_result",
          "data": {
            "text/plain": [
              "                 x1            y1            x2            y2  major_semia_px  \\\n",
              "0      19699.889820  17708.334874  19709.135520  17717.543623        4.633850   \n",
              "1      18314.128617  17121.775102  18488.540079  17200.059688       88.630651   \n",
              "2      16490.663037  18502.418816  16496.536575  18510.726749        4.167982   \n",
              "3      18019.631633  18181.823147  18020.999232  18182.360119        0.700870   \n",
              "4      18124.509296  18597.936034  18127.132703  18603.414392        2.766243   \n",
              "...             ...           ...           ...           ...             ...   \n",
              "19217  17592.572752  16742.936603  17593.009233  16743.428821        0.319405   \n",
              "19218  18658.822580  18666.464880  18659.100383  18666.968994        0.276376   \n",
              "19219  17523.170058  16995.697610  17523.352636  16995.761662        0.093504   \n",
              "19220  16950.523810  17747.923087  16950.979337  17748.452311        0.264791   \n",
              "19221  18166.845099  19812.685038  18167.336911  19813.128832        0.248242   \n",
              "\n",
              "       minor_semia_px  pa_in_rad       width     height  \n",
              "0            4.593304   5.734349    9.245699   9.208748  \n",
              "1           35.798972   3.338082  174.411463  78.284586  \n",
              "2            2.916843   4.827354    5.873538   8.307933  \n",
              "3            0.220108   6.050027    1.367598   0.536972  \n",
              "4            1.253622   4.869573    2.623407   5.478358  \n",
              "...               ...        ...         ...        ...  \n",
              "19217        0.078610   0.853117    0.436482   0.492218  \n",
              "19218        0.080265   1.127797    0.277803   0.504113  \n",
              "19219        0.024824  -0.226387    0.182578   0.064053  \n",
              "19220        0.227555  -1.498732    0.455528   0.529224  \n",
              "19221        0.219280  -0.296287    0.491812   0.443793  \n",
              "\n",
              "[19222 rows x 9 columns]"
            ],
            "text/html": "<div>\n<style scoped>\n    .dataframe tbody tr th:only-of-type {\n        vertical-align: middle;\n    }\n\n    .dataframe tbody tr th {\n        vertical-align: top;\n    }\n\n    .dataframe thead th {\n        text-align: right;\n    }\n</style>\n<table border=\"1\" class=\"dataframe\">\n  <thead>\n    <tr style=\"text-align: right;\">\n      <th></th>\n      <th>x1</th>\n      <th>y1</th>\n      <th>x2</th>\n      <th>y2</th>\n      <th>major_semia_px</th>\n      <th>minor_semia_px</th>\n      <th>pa_in_rad</th>\n      <th>width</th>\n      <th>height</th>\n    </tr>\n  </thead>\n  <tbody>\n    <tr>\n      <th>0</th>\n      <td>19699.889820</td>\n      <td>17708.334874</td>\n      <td>19709.135520</td>\n      <td>17717.543623</td>\n      <td>4.633850</td>\n      <td>4.593304</td>\n      <td>5.734349</td>\n      <td>9.245699</td>\n      <td>9.208748</td>\n    </tr>\n    <tr>\n      <th>1</th>\n      <td>18314.128617</td>\n      <td>17121.775102</td>\n      <td>18488.540079</td>\n      <td>17200.059688</td>\n      <td>88.630651</td>\n      <td>35.798972</td>\n      <td>3.338082</td>\n      <td>174.411463</td>\n      <td>78.284586</td>\n    </tr>\n    <tr>\n      <th>2</th>\n      <td>16490.663037</td>\n      <td>18502.418816</td>\n      <td>16496.536575</td>\n      <td>18510.726749</td>\n      <td>4.167982</td>\n      <td>2.916843</td>\n      <td>4.827354</td>\n      <td>5.873538</td>\n      <td>8.307933</td>\n    </tr>\n    <tr>\n      <th>3</th>\n      <td>18019.631633</td>\n      <td>18181.823147</td>\n      <td>18020.999232</td>\n      <td>18182.360119</td>\n      <td>0.700870</td>\n      <td>0.220108</td>\n      <td>6.050027</td>\n      <td>1.367598</td>\n      <td>0.536972</td>\n    </tr>\n    <tr>\n      <th>4</th>\n      <td>18124.509296</td>\n      <td>18597.936034</td>\n      <td>18127.132703</td>\n      <td>18603.414392</td>\n      <td>2.766243</td>\n      <td>1.253622</td>\n      <td>4.869573</td>\n      <td>2.623407</td>\n      <td>5.478358</td>\n    </tr>\n    <tr>\n      <th>...</th>\n      <td>...</td>\n      <td>...</td>\n      <td>...</td>\n      <td>...</td>\n      <td>...</td>\n      <td>...</td>\n      <td>...</td>\n      <td>...</td>\n      <td>...</td>\n    </tr>\n    <tr>\n      <th>19217</th>\n      <td>17592.572752</td>\n      <td>16742.936603</td>\n      <td>17593.009233</td>\n      <td>16743.428821</td>\n      <td>0.319405</td>\n      <td>0.078610</td>\n      <td>0.853117</td>\n      <td>0.436482</td>\n      <td>0.492218</td>\n    </tr>\n    <tr>\n      <th>19218</th>\n      <td>18658.822580</td>\n      <td>18666.464880</td>\n      <td>18659.100383</td>\n      <td>18666.968994</td>\n      <td>0.276376</td>\n      <td>0.080265</td>\n      <td>1.127797</td>\n      <td>0.277803</td>\n      <td>0.504113</td>\n    </tr>\n    <tr>\n      <th>19219</th>\n      <td>17523.170058</td>\n      <td>16995.697610</td>\n      <td>17523.352636</td>\n      <td>16995.761662</td>\n      <td>0.093504</td>\n      <td>0.024824</td>\n      <td>-0.226387</td>\n      <td>0.182578</td>\n      <td>0.064053</td>\n    </tr>\n    <tr>\n      <th>19220</th>\n      <td>16950.523810</td>\n      <td>17747.923087</td>\n      <td>16950.979337</td>\n      <td>17748.452311</td>\n      <td>0.264791</td>\n      <td>0.227555</td>\n      <td>-1.498732</td>\n      <td>0.455528</td>\n      <td>0.529224</td>\n    </tr>\n    <tr>\n      <th>19221</th>\n      <td>18166.845099</td>\n      <td>19812.685038</td>\n      <td>18167.336911</td>\n      <td>19813.128832</td>\n      <td>0.248242</td>\n      <td>0.219280</td>\n      <td>-0.296287</td>\n      <td>0.491812</td>\n      <td>0.443793</td>\n    </tr>\n  </tbody>\n</table>\n<p>19222 rows × 9 columns</p>\n</div>"
          },
          "metadata": {},
          "execution_count": 10
        }
      ]
    },
    {
      "cell_type": "code",
      "execution_count": 11,
      "metadata": {},
      "outputs": [
        {
          "output_type": "execute_result",
          "data": {
            "text/plain": [
              "         ID  RA (core)  DEC (core)  RA (centroid)  DEC (centroid)      FLUX  \\\n",
              "0  24121695  -0.642227  -29.775242      -0.642316      -29.775211  0.000035   \n",
              "1  20167150  -0.390473  -29.867493      -0.390667      -29.868851  0.029555   \n",
              "2  20045120  -0.021411  -29.643486      -0.021359      -29.643561  0.000653   \n",
              "3  33938384  -0.316375  -29.697647      -0.316375      -29.697647  0.000017   \n",
              "4   7527248  -0.336528  -29.627335      -0.336527      -29.627338  0.000054   \n",
              "\n",
              "   Core frac     BMAJ    BMIN       PA  ...          y            x1  \\\n",
              "0   0.000000    5.600   5.551  328.554  ...  17712.942  19699.889820   \n",
              "1   0.016924  107.110  43.263  191.258  ...  17160.919  18314.128617   \n",
              "2   0.012185    5.037   3.525  276.587  ...  18506.577  16490.663037   \n",
              "3   0.000000    0.847   0.266  346.641  ...  18182.095  18019.631633   \n",
              "4   0.044763    3.343   1.515  279.006  ...  18600.680  18124.509296   \n",
              "\n",
              "             y1            x2            y2  major_semia_px  minor_semia_px  \\\n",
              "0  17708.334874  19709.135520  17717.543623        4.633850        4.593304   \n",
              "1  17121.775102  18488.540079  17200.059688       88.630651       35.798972   \n",
              "2  18502.418816  16496.536575  18510.726749        4.167982        2.916843   \n",
              "3  18181.823147  18020.999232  18182.360119        0.700870        0.220108   \n",
              "4  18597.936034  18127.132703  18603.414392        2.766243        1.253622   \n",
              "\n",
              "   pa_in_rad       width     height  \n",
              "0   5.734349    9.245699   9.208748  \n",
              "1   3.338082  174.411463  78.284586  \n",
              "2   4.827354    5.873538   8.307933  \n",
              "3   6.050027    1.367598   0.536972  \n",
              "4   4.869573    2.623407   5.478358  \n",
              "\n",
              "[5 rows x 24 columns]"
            ],
            "text/html": "<div>\n<style scoped>\n    .dataframe tbody tr th:only-of-type {\n        vertical-align: middle;\n    }\n\n    .dataframe tbody tr th {\n        vertical-align: top;\n    }\n\n    .dataframe thead th {\n        text-align: right;\n    }\n</style>\n<table border=\"1\" class=\"dataframe\">\n  <thead>\n    <tr style=\"text-align: right;\">\n      <th></th>\n      <th>ID</th>\n      <th>RA (core)</th>\n      <th>DEC (core)</th>\n      <th>RA (centroid)</th>\n      <th>DEC (centroid)</th>\n      <th>FLUX</th>\n      <th>Core frac</th>\n      <th>BMAJ</th>\n      <th>BMIN</th>\n      <th>PA</th>\n      <th>...</th>\n      <th>y</th>\n      <th>x1</th>\n      <th>y1</th>\n      <th>x2</th>\n      <th>y2</th>\n      <th>major_semia_px</th>\n      <th>minor_semia_px</th>\n      <th>pa_in_rad</th>\n      <th>width</th>\n      <th>height</th>\n    </tr>\n  </thead>\n  <tbody>\n    <tr>\n      <th>0</th>\n      <td>24121695</td>\n      <td>-0.642227</td>\n      <td>-29.775242</td>\n      <td>-0.642316</td>\n      <td>-29.775211</td>\n      <td>0.000035</td>\n      <td>0.000000</td>\n      <td>5.600</td>\n      <td>5.551</td>\n      <td>328.554</td>\n      <td>...</td>\n      <td>17712.942</td>\n      <td>19699.889820</td>\n      <td>17708.334874</td>\n      <td>19709.135520</td>\n      <td>17717.543623</td>\n      <td>4.633850</td>\n      <td>4.593304</td>\n      <td>5.734349</td>\n      <td>9.245699</td>\n      <td>9.208748</td>\n    </tr>\n    <tr>\n      <th>1</th>\n      <td>20167150</td>\n      <td>-0.390473</td>\n      <td>-29.867493</td>\n      <td>-0.390667</td>\n      <td>-29.868851</td>\n      <td>0.029555</td>\n      <td>0.016924</td>\n      <td>107.110</td>\n      <td>43.263</td>\n      <td>191.258</td>\n      <td>...</td>\n      <td>17160.919</td>\n      <td>18314.128617</td>\n      <td>17121.775102</td>\n      <td>18488.540079</td>\n      <td>17200.059688</td>\n      <td>88.630651</td>\n      <td>35.798972</td>\n      <td>3.338082</td>\n      <td>174.411463</td>\n      <td>78.284586</td>\n    </tr>\n    <tr>\n      <th>2</th>\n      <td>20045120</td>\n      <td>-0.021411</td>\n      <td>-29.643486</td>\n      <td>-0.021359</td>\n      <td>-29.643561</td>\n      <td>0.000653</td>\n      <td>0.012185</td>\n      <td>5.037</td>\n      <td>3.525</td>\n      <td>276.587</td>\n      <td>...</td>\n      <td>18506.577</td>\n      <td>16490.663037</td>\n      <td>18502.418816</td>\n      <td>16496.536575</td>\n      <td>18510.726749</td>\n      <td>4.167982</td>\n      <td>2.916843</td>\n      <td>4.827354</td>\n      <td>5.873538</td>\n      <td>8.307933</td>\n    </tr>\n    <tr>\n      <th>3</th>\n      <td>33938384</td>\n      <td>-0.316375</td>\n      <td>-29.697647</td>\n      <td>-0.316375</td>\n      <td>-29.697647</td>\n      <td>0.000017</td>\n      <td>0.000000</td>\n      <td>0.847</td>\n      <td>0.266</td>\n      <td>346.641</td>\n      <td>...</td>\n      <td>18182.095</td>\n      <td>18019.631633</td>\n      <td>18181.823147</td>\n      <td>18020.999232</td>\n      <td>18182.360119</td>\n      <td>0.700870</td>\n      <td>0.220108</td>\n      <td>6.050027</td>\n      <td>1.367598</td>\n      <td>0.536972</td>\n    </tr>\n    <tr>\n      <th>4</th>\n      <td>7527248</td>\n      <td>-0.336528</td>\n      <td>-29.627335</td>\n      <td>-0.336527</td>\n      <td>-29.627338</td>\n      <td>0.000054</td>\n      <td>0.044763</td>\n      <td>3.343</td>\n      <td>1.515</td>\n      <td>279.006</td>\n      <td>...</td>\n      <td>18600.680</td>\n      <td>18124.509296</td>\n      <td>18597.936034</td>\n      <td>18127.132703</td>\n      <td>18603.414392</td>\n      <td>2.766243</td>\n      <td>1.253622</td>\n      <td>4.869573</td>\n      <td>2.623407</td>\n      <td>5.478358</td>\n    </tr>\n  </tbody>\n</table>\n<p>5 rows × 24 columns</p>\n</div>"
          },
          "metadata": {},
          "execution_count": 11
        }
      ],
      "source": [
        "df_train = ska_dataset._extend_dataframe(ska_dataset.raw_train_df, coords)\n",
        "df_train.head()"
      ]
    },
    {
      "cell_type": "code",
      "execution_count": 12,
      "metadata": {},
      "outputs": [
        {
          "output_type": "execute_result",
          "data": {
            "text/plain": [
              "(3187, 3491)"
            ]
          },
          "metadata": {},
          "execution_count": 12
        }
      ],
      "source": [
        "x1_min = int(np.floor(min(df_train['x1'])))\n",
        "y1_min = int(np.floor(min(df_train['y1'])))\n",
        "\n",
        "x2_max = int(np.floor(max(df_train['x2'])))\n",
        "y2_max = int(np.floor(max(df_train['y2'])))\n",
        "\n",
        "data_560Mhz_1000h_train = data_560Mhz_1000h[y1_min:y2_max, x1_min:x2_max]\n",
        "data_560Mhz_1000h_train.shape\n"
      ]
    },
    {
      "cell_type": "code",
      "execution_count": 13,
      "metadata": {},
      "outputs": [
        {
          "output_type": "execute_result",
          "data": {
            "text/plain": [
              "(array([1.704e+03, 4.870e+02, 2.400e+02, 1.060e+02, 2.700e+01, 2.100e+01,\n",
              "        1.500e+01, 8.000e+00, 6.000e+00, 2.000e+00, 5.000e+00, 5.000e+00,\n",
              "        3.000e+00, 3.000e+00, 3.000e+00, 1.000e+00, 0.000e+00, 0.000e+00,\n",
              "        1.000e+00, 1.000e+00, 0.000e+00, 1.000e+00, 2.000e+00, 3.000e+00,\n",
              "        2.000e+00, 0.000e+00, 2.000e+00, 1.000e+00, 0.000e+00, 0.000e+00,\n",
              "        0.000e+00, 0.000e+00, 0.000e+00, 0.000e+00, 0.000e+00, 0.000e+00,\n",
              "        0.000e+00, 0.000e+00, 0.000e+00, 0.000e+00]),\n",
              " array([1.0000e-04, 2.4750e-04, 3.9500e-04, 5.4250e-04, 6.9000e-04,\n",
              "        8.3750e-04, 9.8500e-04, 1.1325e-03, 1.2800e-03, 1.4275e-03,\n",
              "        1.5750e-03, 1.7225e-03, 1.8700e-03, 2.0175e-03, 2.1650e-03,\n",
              "        2.3125e-03, 2.4600e-03, 2.6075e-03, 2.7550e-03, 2.9025e-03,\n",
              "        3.0500e-03, 3.1975e-03, 3.3450e-03, 3.4925e-03, 3.6400e-03,\n",
              "        3.7875e-03, 3.9350e-03, 4.0825e-03, 4.2300e-03, 4.3775e-03,\n",
              "        4.5250e-03, 4.6725e-03, 4.8200e-03, 4.9675e-03, 5.1150e-03,\n",
              "        5.2625e-03, 5.4100e-03, 5.5575e-03, 5.7050e-03, 5.8525e-03,\n",
              "        6.0000e-03], dtype=float32),\n",
              " <BarContainer object of 40 artists>)"
            ]
          },
          "metadata": {},
          "execution_count": 13
        },
        {
          "output_type": "display_data",
          "data": {
            "text/plain": "<Figure size 432x288 with 1 Axes>",
            "image/svg+xml": "<?xml version=\"1.0\" encoding=\"utf-8\" standalone=\"no\"?>\n<!DOCTYPE svg PUBLIC \"-//W3C//DTD SVG 1.1//EN\"\n  \"http://www.w3.org/Graphics/SVG/1.1/DTD/svg11.dtd\">\n<!-- Created with matplotlib (https://matplotlib.org/) -->\n<svg height=\"248.518125pt\" version=\"1.1\" viewBox=\"0 0 381.65 248.518125\" width=\"381.65pt\" xmlns=\"http://www.w3.org/2000/svg\" xmlns:xlink=\"http://www.w3.org/1999/xlink\">\n <metadata>\n  <rdf:RDF xmlns:cc=\"http://creativecommons.org/ns#\" xmlns:dc=\"http://purl.org/dc/elements/1.1/\" xmlns:rdf=\"http://www.w3.org/1999/02/22-rdf-syntax-ns#\">\n   <cc:Work>\n    <dc:type rdf:resource=\"http://purl.org/dc/dcmitype/StillImage\"/>\n    <dc:date>2021-05-23T10:13:12.024349</dc:date>\n    <dc:format>image/svg+xml</dc:format>\n    <dc:creator>\n     <cc:Agent>\n      <dc:title>Matplotlib v3.3.4, https://matplotlib.org/</dc:title>\n     </cc:Agent>\n    </dc:creator>\n   </cc:Work>\n  </rdf:RDF>\n </metadata>\n <defs>\n  <style type=\"text/css\">*{stroke-linecap:butt;stroke-linejoin:round;}</style>\n </defs>\n <g id=\"figure_1\">\n  <g id=\"patch_1\">\n   <path d=\"M -0 248.518125 \nL 381.65 248.518125 \nL 381.65 0 \nL -0 0 \nz\n\" style=\"fill:none;\"/>\n  </g>\n  <g id=\"axes_1\">\n   <g id=\"patch_2\">\n    <path d=\"M 39.65 224.64 \nL 374.45 224.64 \nL 374.45 7.2 \nL 39.65 7.2 \nz\n\" style=\"fill:#ffffff;\"/>\n   </g>\n   <g id=\"patch_3\">\n    <path clip-path=\"url(#p6affb86989)\" d=\"M 54.868182 224.64 \nL 62.477271 224.64 \nL 62.477271 17.554286 \nL 54.868182 17.554286 \nz\n\" style=\"fill:#1f77b4;\"/>\n   </g>\n   <g id=\"patch_4\">\n    <path clip-path=\"url(#p6affb86989)\" d=\"M 62.477273 224.64 \nL 70.086364 224.64 \nL 70.086364 165.455292 \nL 62.477273 165.455292 \nz\n\" style=\"fill:#1f77b4;\"/>\n   </g>\n   <g id=\"patch_5\">\n    <path clip-path=\"url(#p6affb86989)\" d=\"M 70.086366 224.64 \nL 77.695458 224.64 \nL 77.695458 195.472998 \nL 70.086366 195.472998 \nz\n\" style=\"fill:#1f77b4;\"/>\n   </g>\n   <g id=\"patch_6\">\n    <path clip-path=\"url(#p6affb86989)\" d=\"M 77.695452 224.64 \nL 85.304543 224.64 \nL 85.304543 211.757907 \nL 77.695452 211.757907 \nz\n\" style=\"fill:#1f77b4;\"/>\n   </g>\n   <g id=\"patch_7\">\n    <path clip-path=\"url(#p6affb86989)\" d=\"M 85.304546 224.64 \nL 92.913635 224.64 \nL 92.913635 221.358712 \nL 85.304546 221.358712 \nz\n\" style=\"fill:#1f77b4;\"/>\n   </g>\n   <g id=\"patch_8\">\n    <path clip-path=\"url(#p6affb86989)\" d=\"M 92.913635 224.64 \nL 100.52273 224.64 \nL 100.52273 222.087887 \nL 92.913635 222.087887 \nz\n\" style=\"fill:#1f77b4;\"/>\n   </g>\n   <g id=\"patch_9\">\n    <path clip-path=\"url(#p6affb86989)\" d=\"M 100.52273 224.64 \nL 108.131819 224.64 \nL 108.131819 222.817062 \nL 100.52273 222.817062 \nz\n\" style=\"fill:#1f77b4;\"/>\n   </g>\n   <g id=\"patch_10\">\n    <path clip-path=\"url(#p6affb86989)\" d=\"M 108.131813 224.64 \nL 115.740901 224.64 \nL 115.740901 223.667767 \nL 108.131813 223.667767 \nz\n\" style=\"fill:#1f77b4;\"/>\n   </g>\n   <g id=\"patch_11\">\n    <path clip-path=\"url(#p6affb86989)\" d=\"M 115.740907 224.64 \nL 123.350002 224.64 \nL 123.350002 223.910825 \nL 115.740907 223.910825 \nz\n\" style=\"fill:#1f77b4;\"/>\n   </g>\n   <g id=\"patch_12\">\n    <path clip-path=\"url(#p6affb86989)\" d=\"M 123.350002 224.64 \nL 130.959091 224.64 \nL 130.959091 224.396942 \nL 123.350002 224.396942 \nz\n\" style=\"fill:#1f77b4;\"/>\n   </g>\n   <g id=\"patch_13\">\n    <path clip-path=\"url(#p6affb86989)\" d=\"M 130.959085 224.64 \nL 138.568173 224.64 \nL 138.568173 224.032354 \nL 130.959085 224.032354 \nz\n\" style=\"fill:#1f77b4;\"/>\n   </g>\n   <g id=\"patch_14\">\n    <path clip-path=\"url(#p6affb86989)\" d=\"M 138.568179 224.64 \nL 146.177274 224.64 \nL 146.177274 224.032354 \nL 138.568179 224.032354 \nz\n\" style=\"fill:#1f77b4;\"/>\n   </g>\n   <g id=\"patch_15\">\n    <path clip-path=\"url(#p6affb86989)\" d=\"M 146.177274 224.64 \nL 153.786369 224.64 \nL 153.786369 224.275412 \nL 146.177274 224.275412 \nz\n\" style=\"fill:#1f77b4;\"/>\n   </g>\n   <g id=\"patch_16\">\n    <path clip-path=\"url(#p6affb86989)\" d=\"M 153.786357 224.64 \nL 161.39544 224.64 \nL 161.39544 224.275412 \nL 153.786357 224.275412 \nz\n\" style=\"fill:#1f77b4;\"/>\n   </g>\n   <g id=\"patch_17\">\n    <path clip-path=\"url(#p6affb86989)\" d=\"M 161.395452 224.64 \nL 169.004546 224.64 \nL 169.004546 224.275412 \nL 161.395452 224.275412 \nz\n\" style=\"fill:#1f77b4;\"/>\n   </g>\n   <g id=\"patch_18\">\n    <path clip-path=\"url(#p6affb86989)\" d=\"M 169.004546 224.64 \nL 176.613641 224.64 \nL 176.613641 224.518471 \nL 169.004546 224.518471 \nz\n\" style=\"fill:#1f77b4;\"/>\n   </g>\n   <g id=\"patch_19\">\n    <path clip-path=\"url(#p6affb86989)\" d=\"M 176.613641 224.64 \nL 184.222724 224.64 \nL 184.222724 224.64 \nL 176.613641 224.64 \nz\n\" style=\"fill:#1f77b4;\"/>\n   </g>\n   <g id=\"patch_20\">\n    <path clip-path=\"url(#p6affb86989)\" d=\"M 184.222724 224.64 \nL 191.831818 224.64 \nL 191.831818 224.64 \nL 184.222724 224.64 \nz\n\" style=\"fill:#1f77b4;\"/>\n   </g>\n   <g id=\"patch_21\">\n    <path clip-path=\"url(#p6affb86989)\" d=\"M 191.831818 224.64 \nL 199.440913 224.64 \nL 199.440913 224.518471 \nL 191.831818 224.518471 \nz\n\" style=\"fill:#1f77b4;\"/>\n   </g>\n   <g id=\"patch_22\">\n    <path clip-path=\"url(#p6affb86989)\" d=\"M 199.440901 224.64 \nL 207.049984 224.64 \nL 207.049984 224.518471 \nL 199.440901 224.518471 \nz\n\" style=\"fill:#1f77b4;\"/>\n   </g>\n   <g id=\"patch_23\">\n    <path clip-path=\"url(#p6affb86989)\" d=\"M 207.049996 224.64 \nL 214.659091 224.64 \nL 214.659091 224.64 \nL 207.049996 224.64 \nz\n\" style=\"fill:#1f77b4;\"/>\n   </g>\n   <g id=\"patch_24\">\n    <path clip-path=\"url(#p6affb86989)\" d=\"M 214.659091 224.64 \nL 222.268185 224.64 \nL 222.268185 224.518471 \nL 214.659091 224.518471 \nz\n\" style=\"fill:#1f77b4;\"/>\n   </g>\n   <g id=\"patch_25\">\n    <path clip-path=\"url(#p6affb86989)\" d=\"M 222.268185 224.64 \nL 229.877268 224.64 \nL 229.877268 224.396942 \nL 222.268185 224.396942 \nz\n\" style=\"fill:#1f77b4;\"/>\n   </g>\n   <g id=\"patch_26\">\n    <path clip-path=\"url(#p6affb86989)\" d=\"M 229.877268 224.64 \nL 237.486363 224.64 \nL 237.486363 224.275412 \nL 229.877268 224.275412 \nz\n\" style=\"fill:#1f77b4;\"/>\n   </g>\n   <g id=\"patch_27\">\n    <path clip-path=\"url(#p6affb86989)\" d=\"M 237.486363 224.64 \nL 245.095457 224.64 \nL 245.095457 224.396942 \nL 237.486363 224.396942 \nz\n\" style=\"fill:#1f77b4;\"/>\n   </g>\n   <g id=\"patch_28\">\n    <path clip-path=\"url(#p6affb86989)\" d=\"M 245.095445 224.64 \nL 252.70454 224.64 \nL 252.70454 224.64 \nL 245.095445 224.64 \nz\n\" style=\"fill:#1f77b4;\"/>\n   </g>\n   <g id=\"patch_29\">\n    <path clip-path=\"url(#p6affb86989)\" d=\"M 252.70454 224.64 \nL 260.313635 224.64 \nL 260.313635 224.396942 \nL 252.70454 224.396942 \nz\n\" style=\"fill:#1f77b4;\"/>\n   </g>\n   <g id=\"patch_30\">\n    <path clip-path=\"url(#p6affb86989)\" d=\"M 260.313635 224.64 \nL 267.92273 224.64 \nL 267.92273 224.518471 \nL 260.313635 224.518471 \nz\n\" style=\"fill:#1f77b4;\"/>\n   </g>\n   <g id=\"patch_31\">\n    <path clip-path=\"url(#p6affb86989)\" d=\"M 267.92273 224.64 \nL 275.531824 224.64 \nL 275.531824 224.64 \nL 267.92273 224.64 \nz\n\" style=\"fill:#1f77b4;\"/>\n   </g>\n   <g id=\"patch_32\">\n    <path clip-path=\"url(#p6affb86989)\" d=\"M 275.531824 224.64 \nL 283.140919 224.64 \nL 283.140919 224.64 \nL 275.531824 224.64 \nz\n\" style=\"fill:#1f77b4;\"/>\n   </g>\n   <g id=\"patch_33\">\n    <path clip-path=\"url(#p6affb86989)\" d=\"M 283.140919 224.64 \nL 290.74999 224.64 \nL 290.74999 224.64 \nL 283.140919 224.64 \nz\n\" style=\"fill:#1f77b4;\"/>\n   </g>\n   <g id=\"patch_34\">\n    <path clip-path=\"url(#p6affb86989)\" d=\"M 290.74999 224.64 \nL 298.359084 224.64 \nL 298.359084 224.64 \nL 290.74999 224.64 \nz\n\" style=\"fill:#1f77b4;\"/>\n   </g>\n   <g id=\"patch_35\">\n    <path clip-path=\"url(#p6affb86989)\" d=\"M 298.359084 224.64 \nL 305.968179 224.64 \nL 305.968179 224.64 \nL 298.359084 224.64 \nz\n\" style=\"fill:#1f77b4;\"/>\n   </g>\n   <g id=\"patch_36\">\n    <path clip-path=\"url(#p6affb86989)\" d=\"M 305.968179 224.64 \nL 313.577274 224.64 \nL 313.577274 224.64 \nL 305.968179 224.64 \nz\n\" style=\"fill:#1f77b4;\"/>\n   </g>\n   <g id=\"patch_37\">\n    <path clip-path=\"url(#p6affb86989)\" d=\"M 313.577274 224.64 \nL 321.186369 224.64 \nL 321.186369 224.64 \nL 313.577274 224.64 \nz\n\" style=\"fill:#1f77b4;\"/>\n   </g>\n   <g id=\"patch_38\">\n    <path clip-path=\"url(#p6affb86989)\" d=\"M 321.186369 224.64 \nL 328.795463 224.64 \nL 328.795463 224.64 \nL 321.186369 224.64 \nz\n\" style=\"fill:#1f77b4;\"/>\n   </g>\n   <g id=\"patch_39\">\n    <path clip-path=\"url(#p6affb86989)\" d=\"M 328.795487 224.64 \nL 336.404558 224.64 \nL 336.404558 224.64 \nL 328.795487 224.64 \nz\n\" style=\"fill:#1f77b4;\"/>\n   </g>\n   <g id=\"patch_40\">\n    <path clip-path=\"url(#p6affb86989)\" d=\"M 336.404534 224.64 \nL 344.013629 224.64 \nL 344.013629 224.64 \nL 336.404534 224.64 \nz\n\" style=\"fill:#1f77b4;\"/>\n   </g>\n   <g id=\"patch_41\">\n    <path clip-path=\"url(#p6affb86989)\" d=\"M 344.013629 224.64 \nL 351.622723 224.64 \nL 351.622723 224.64 \nL 344.013629 224.64 \nz\n\" style=\"fill:#1f77b4;\"/>\n   </g>\n   <g id=\"patch_42\">\n    <path clip-path=\"url(#p6affb86989)\" d=\"M 351.622723 224.64 \nL 359.231818 224.64 \nL 359.231818 224.64 \nL 351.622723 224.64 \nz\n\" style=\"fill:#1f77b4;\"/>\n   </g>\n   <g id=\"matplotlib.axis_1\">\n    <g id=\"xtick_1\">\n     <g id=\"line2d_1\">\n      <defs>\n       <path d=\"M 0 0 \nL 0 3.5 \n\" id=\"m5f55b84245\" style=\"stroke:#000000;stroke-width:0.8;\"/>\n      </defs>\n      <g>\n       <use style=\"stroke:#000000;stroke-width:0.8;\" x=\"49.709477\" xlink:href=\"#m5f55b84245\" y=\"224.64\"/>\n      </g>\n     </g>\n     <g id=\"text_1\">\n      <!-- 0.000 -->\n      <g transform=\"translate(35.395414 239.238437)scale(0.1 -0.1)\">\n       <defs>\n        <path d=\"M 31.78125 66.40625 \nQ 24.171875 66.40625 20.328125 58.90625 \nQ 16.5 51.421875 16.5 36.375 \nQ 16.5 21.390625 20.328125 13.890625 \nQ 24.171875 6.390625 31.78125 6.390625 \nQ 39.453125 6.390625 43.28125 13.890625 \nQ 47.125 21.390625 47.125 36.375 \nQ 47.125 51.421875 43.28125 58.90625 \nQ 39.453125 66.40625 31.78125 66.40625 \nz\nM 31.78125 74.21875 \nQ 44.046875 74.21875 50.515625 64.515625 \nQ 56.984375 54.828125 56.984375 36.375 \nQ 56.984375 17.96875 50.515625 8.265625 \nQ 44.046875 -1.421875 31.78125 -1.421875 \nQ 19.53125 -1.421875 13.0625 8.265625 \nQ 6.59375 17.96875 6.59375 36.375 \nQ 6.59375 54.828125 13.0625 64.515625 \nQ 19.53125 74.21875 31.78125 74.21875 \nz\n\" id=\"DejaVuSans-48\"/>\n        <path d=\"M 10.6875 12.40625 \nL 21 12.40625 \nL 21 0 \nL 10.6875 0 \nz\n\" id=\"DejaVuSans-46\"/>\n       </defs>\n       <use xlink:href=\"#DejaVuSans-48\"/>\n       <use x=\"63.623047\" xlink:href=\"#DejaVuSans-46\"/>\n       <use x=\"95.410156\" xlink:href=\"#DejaVuSans-48\"/>\n       <use x=\"159.033203\" xlink:href=\"#DejaVuSans-48\"/>\n       <use x=\"222.65625\" xlink:href=\"#DejaVuSans-48\"/>\n      </g>\n     </g>\n    </g>\n    <g id=\"xtick_2\">\n     <g id=\"line2d_2\">\n      <g>\n       <use style=\"stroke:#000000;stroke-width:0.8;\" x=\"101.296533\" xlink:href=\"#m5f55b84245\" y=\"224.64\"/>\n      </g>\n     </g>\n     <g id=\"text_2\">\n      <!-- 0.001 -->\n      <g transform=\"translate(86.982471 239.238437)scale(0.1 -0.1)\">\n       <defs>\n        <path d=\"M 12.40625 8.296875 \nL 28.515625 8.296875 \nL 28.515625 63.921875 \nL 10.984375 60.40625 \nL 10.984375 69.390625 \nL 28.421875 72.90625 \nL 38.28125 72.90625 \nL 38.28125 8.296875 \nL 54.390625 8.296875 \nL 54.390625 0 \nL 12.40625 0 \nz\n\" id=\"DejaVuSans-49\"/>\n       </defs>\n       <use xlink:href=\"#DejaVuSans-48\"/>\n       <use x=\"63.623047\" xlink:href=\"#DejaVuSans-46\"/>\n       <use x=\"95.410156\" xlink:href=\"#DejaVuSans-48\"/>\n       <use x=\"159.033203\" xlink:href=\"#DejaVuSans-48\"/>\n       <use x=\"222.65625\" xlink:href=\"#DejaVuSans-49\"/>\n      </g>\n     </g>\n    </g>\n    <g id=\"xtick_3\">\n     <g id=\"line2d_3\">\n      <g>\n       <use style=\"stroke:#000000;stroke-width:0.8;\" x=\"152.88359\" xlink:href=\"#m5f55b84245\" y=\"224.64\"/>\n      </g>\n     </g>\n     <g id=\"text_3\">\n      <!-- 0.002 -->\n      <g transform=\"translate(138.569527 239.238437)scale(0.1 -0.1)\">\n       <defs>\n        <path d=\"M 19.1875 8.296875 \nL 53.609375 8.296875 \nL 53.609375 0 \nL 7.328125 0 \nL 7.328125 8.296875 \nQ 12.9375 14.109375 22.625 23.890625 \nQ 32.328125 33.6875 34.8125 36.53125 \nQ 39.546875 41.84375 41.421875 45.53125 \nQ 43.3125 49.21875 43.3125 52.78125 \nQ 43.3125 58.59375 39.234375 62.25 \nQ 35.15625 65.921875 28.609375 65.921875 \nQ 23.96875 65.921875 18.8125 64.3125 \nQ 13.671875 62.703125 7.8125 59.421875 \nL 7.8125 69.390625 \nQ 13.765625 71.78125 18.9375 73 \nQ 24.125 74.21875 28.421875 74.21875 \nQ 39.75 74.21875 46.484375 68.546875 \nQ 53.21875 62.890625 53.21875 53.421875 \nQ 53.21875 48.921875 51.53125 44.890625 \nQ 49.859375 40.875 45.40625 35.40625 \nQ 44.1875 33.984375 37.640625 27.21875 \nQ 31.109375 20.453125 19.1875 8.296875 \nz\n\" id=\"DejaVuSans-50\"/>\n       </defs>\n       <use xlink:href=\"#DejaVuSans-48\"/>\n       <use x=\"63.623047\" xlink:href=\"#DejaVuSans-46\"/>\n       <use x=\"95.410156\" xlink:href=\"#DejaVuSans-48\"/>\n       <use x=\"159.033203\" xlink:href=\"#DejaVuSans-48\"/>\n       <use x=\"222.65625\" xlink:href=\"#DejaVuSans-50\"/>\n      </g>\n     </g>\n    </g>\n    <g id=\"xtick_4\">\n     <g id=\"line2d_4\">\n      <g>\n       <use style=\"stroke:#000000;stroke-width:0.8;\" x=\"204.470646\" xlink:href=\"#m5f55b84245\" y=\"224.64\"/>\n      </g>\n     </g>\n     <g id=\"text_4\">\n      <!-- 0.003 -->\n      <g transform=\"translate(190.156584 239.238437)scale(0.1 -0.1)\">\n       <defs>\n        <path d=\"M 40.578125 39.3125 \nQ 47.65625 37.796875 51.625 33 \nQ 55.609375 28.21875 55.609375 21.1875 \nQ 55.609375 10.40625 48.1875 4.484375 \nQ 40.765625 -1.421875 27.09375 -1.421875 \nQ 22.515625 -1.421875 17.65625 -0.515625 \nQ 12.796875 0.390625 7.625 2.203125 \nL 7.625 11.71875 \nQ 11.71875 9.328125 16.59375 8.109375 \nQ 21.484375 6.890625 26.8125 6.890625 \nQ 36.078125 6.890625 40.9375 10.546875 \nQ 45.796875 14.203125 45.796875 21.1875 \nQ 45.796875 27.640625 41.28125 31.265625 \nQ 36.765625 34.90625 28.71875 34.90625 \nL 20.21875 34.90625 \nL 20.21875 43.015625 \nL 29.109375 43.015625 \nQ 36.375 43.015625 40.234375 45.921875 \nQ 44.09375 48.828125 44.09375 54.296875 \nQ 44.09375 59.90625 40.109375 62.90625 \nQ 36.140625 65.921875 28.71875 65.921875 \nQ 24.65625 65.921875 20.015625 65.03125 \nQ 15.375 64.15625 9.8125 62.3125 \nL 9.8125 71.09375 \nQ 15.4375 72.65625 20.34375 73.4375 \nQ 25.25 74.21875 29.59375 74.21875 \nQ 40.828125 74.21875 47.359375 69.109375 \nQ 53.90625 64.015625 53.90625 55.328125 \nQ 53.90625 49.265625 50.4375 45.09375 \nQ 46.96875 40.921875 40.578125 39.3125 \nz\n\" id=\"DejaVuSans-51\"/>\n       </defs>\n       <use xlink:href=\"#DejaVuSans-48\"/>\n       <use x=\"63.623047\" xlink:href=\"#DejaVuSans-46\"/>\n       <use x=\"95.410156\" xlink:href=\"#DejaVuSans-48\"/>\n       <use x=\"159.033203\" xlink:href=\"#DejaVuSans-48\"/>\n       <use x=\"222.65625\" xlink:href=\"#DejaVuSans-51\"/>\n      </g>\n     </g>\n    </g>\n    <g id=\"xtick_5\">\n     <g id=\"line2d_5\">\n      <g>\n       <use style=\"stroke:#000000;stroke-width:0.8;\" x=\"256.057703\" xlink:href=\"#m5f55b84245\" y=\"224.64\"/>\n      </g>\n     </g>\n     <g id=\"text_5\">\n      <!-- 0.004 -->\n      <g transform=\"translate(241.74364 239.238437)scale(0.1 -0.1)\">\n       <defs>\n        <path d=\"M 37.796875 64.3125 \nL 12.890625 25.390625 \nL 37.796875 25.390625 \nz\nM 35.203125 72.90625 \nL 47.609375 72.90625 \nL 47.609375 25.390625 \nL 58.015625 25.390625 \nL 58.015625 17.1875 \nL 47.609375 17.1875 \nL 47.609375 0 \nL 37.796875 0 \nL 37.796875 17.1875 \nL 4.890625 17.1875 \nL 4.890625 26.703125 \nz\n\" id=\"DejaVuSans-52\"/>\n       </defs>\n       <use xlink:href=\"#DejaVuSans-48\"/>\n       <use x=\"63.623047\" xlink:href=\"#DejaVuSans-46\"/>\n       <use x=\"95.410156\" xlink:href=\"#DejaVuSans-48\"/>\n       <use x=\"159.033203\" xlink:href=\"#DejaVuSans-48\"/>\n       <use x=\"222.65625\" xlink:href=\"#DejaVuSans-52\"/>\n      </g>\n     </g>\n    </g>\n    <g id=\"xtick_6\">\n     <g id=\"line2d_6\">\n      <g>\n       <use style=\"stroke:#000000;stroke-width:0.8;\" x=\"307.644759\" xlink:href=\"#m5f55b84245\" y=\"224.64\"/>\n      </g>\n     </g>\n     <g id=\"text_6\">\n      <!-- 0.005 -->\n      <g transform=\"translate(293.330697 239.238437)scale(0.1 -0.1)\">\n       <defs>\n        <path d=\"M 10.796875 72.90625 \nL 49.515625 72.90625 \nL 49.515625 64.59375 \nL 19.828125 64.59375 \nL 19.828125 46.734375 \nQ 21.96875 47.46875 24.109375 47.828125 \nQ 26.265625 48.1875 28.421875 48.1875 \nQ 40.625 48.1875 47.75 41.5 \nQ 54.890625 34.8125 54.890625 23.390625 \nQ 54.890625 11.625 47.5625 5.09375 \nQ 40.234375 -1.421875 26.90625 -1.421875 \nQ 22.3125 -1.421875 17.546875 -0.640625 \nQ 12.796875 0.140625 7.71875 1.703125 \nL 7.71875 11.625 \nQ 12.109375 9.234375 16.796875 8.0625 \nQ 21.484375 6.890625 26.703125 6.890625 \nQ 35.15625 6.890625 40.078125 11.328125 \nQ 45.015625 15.765625 45.015625 23.390625 \nQ 45.015625 31 40.078125 35.4375 \nQ 35.15625 39.890625 26.703125 39.890625 \nQ 22.75 39.890625 18.8125 39.015625 \nQ 14.890625 38.140625 10.796875 36.28125 \nz\n\" id=\"DejaVuSans-53\"/>\n       </defs>\n       <use xlink:href=\"#DejaVuSans-48\"/>\n       <use x=\"63.623047\" xlink:href=\"#DejaVuSans-46\"/>\n       <use x=\"95.410156\" xlink:href=\"#DejaVuSans-48\"/>\n       <use x=\"159.033203\" xlink:href=\"#DejaVuSans-48\"/>\n       <use x=\"222.65625\" xlink:href=\"#DejaVuSans-53\"/>\n      </g>\n     </g>\n    </g>\n    <g id=\"xtick_7\">\n     <g id=\"line2d_7\">\n      <g>\n       <use style=\"stroke:#000000;stroke-width:0.8;\" x=\"359.231815\" xlink:href=\"#m5f55b84245\" y=\"224.64\"/>\n      </g>\n     </g>\n     <g id=\"text_7\">\n      <!-- 0.006 -->\n      <g transform=\"translate(344.917753 239.238437)scale(0.1 -0.1)\">\n       <defs>\n        <path d=\"M 33.015625 40.375 \nQ 26.375 40.375 22.484375 35.828125 \nQ 18.609375 31.296875 18.609375 23.390625 \nQ 18.609375 15.53125 22.484375 10.953125 \nQ 26.375 6.390625 33.015625 6.390625 \nQ 39.65625 6.390625 43.53125 10.953125 \nQ 47.40625 15.53125 47.40625 23.390625 \nQ 47.40625 31.296875 43.53125 35.828125 \nQ 39.65625 40.375 33.015625 40.375 \nz\nM 52.59375 71.296875 \nL 52.59375 62.3125 \nQ 48.875 64.0625 45.09375 64.984375 \nQ 41.3125 65.921875 37.59375 65.921875 \nQ 27.828125 65.921875 22.671875 59.328125 \nQ 17.53125 52.734375 16.796875 39.40625 \nQ 19.671875 43.65625 24.015625 45.921875 \nQ 28.375 48.1875 33.59375 48.1875 \nQ 44.578125 48.1875 50.953125 41.515625 \nQ 57.328125 34.859375 57.328125 23.390625 \nQ 57.328125 12.15625 50.6875 5.359375 \nQ 44.046875 -1.421875 33.015625 -1.421875 \nQ 20.359375 -1.421875 13.671875 8.265625 \nQ 6.984375 17.96875 6.984375 36.375 \nQ 6.984375 53.65625 15.1875 63.9375 \nQ 23.390625 74.21875 37.203125 74.21875 \nQ 40.921875 74.21875 44.703125 73.484375 \nQ 48.484375 72.75 52.59375 71.296875 \nz\n\" id=\"DejaVuSans-54\"/>\n       </defs>\n       <use xlink:href=\"#DejaVuSans-48\"/>\n       <use x=\"63.623047\" xlink:href=\"#DejaVuSans-46\"/>\n       <use x=\"95.410156\" xlink:href=\"#DejaVuSans-48\"/>\n       <use x=\"159.033203\" xlink:href=\"#DejaVuSans-48\"/>\n       <use x=\"222.65625\" xlink:href=\"#DejaVuSans-54\"/>\n      </g>\n     </g>\n    </g>\n   </g>\n   <g id=\"matplotlib.axis_2\">\n    <g id=\"ytick_1\">\n     <g id=\"line2d_8\">\n      <defs>\n       <path d=\"M 0 0 \nL -3.5 0 \n\" id=\"md33160789a\" style=\"stroke:#000000;stroke-width:0.8;\"/>\n      </defs>\n      <g>\n       <use style=\"stroke:#000000;stroke-width:0.8;\" x=\"39.65\" xlink:href=\"#md33160789a\" y=\"224.64\"/>\n      </g>\n     </g>\n     <g id=\"text_8\">\n      <!-- 0 -->\n      <g transform=\"translate(26.2875 228.439219)scale(0.1 -0.1)\">\n       <use xlink:href=\"#DejaVuSans-48\"/>\n      </g>\n     </g>\n    </g>\n    <g id=\"ytick_2\">\n     <g id=\"line2d_9\">\n      <g>\n       <use style=\"stroke:#000000;stroke-width:0.8;\" x=\"39.65\" xlink:href=\"#md33160789a\" y=\"200.334165\"/>\n      </g>\n     </g>\n     <g id=\"text_9\">\n      <!-- 200 -->\n      <g transform=\"translate(13.5625 204.133384)scale(0.1 -0.1)\">\n       <use xlink:href=\"#DejaVuSans-50\"/>\n       <use x=\"63.623047\" xlink:href=\"#DejaVuSans-48\"/>\n       <use x=\"127.246094\" xlink:href=\"#DejaVuSans-48\"/>\n      </g>\n     </g>\n    </g>\n    <g id=\"ytick_3\">\n     <g id=\"line2d_10\">\n      <g>\n       <use style=\"stroke:#000000;stroke-width:0.8;\" x=\"39.65\" xlink:href=\"#md33160789a\" y=\"176.02833\"/>\n      </g>\n     </g>\n     <g id=\"text_10\">\n      <!-- 400 -->\n      <g transform=\"translate(13.5625 179.827549)scale(0.1 -0.1)\">\n       <use xlink:href=\"#DejaVuSans-52\"/>\n       <use x=\"63.623047\" xlink:href=\"#DejaVuSans-48\"/>\n       <use x=\"127.246094\" xlink:href=\"#DejaVuSans-48\"/>\n      </g>\n     </g>\n    </g>\n    <g id=\"ytick_4\">\n     <g id=\"line2d_11\">\n      <g>\n       <use style=\"stroke:#000000;stroke-width:0.8;\" x=\"39.65\" xlink:href=\"#md33160789a\" y=\"151.722495\"/>\n      </g>\n     </g>\n     <g id=\"text_11\">\n      <!-- 600 -->\n      <g transform=\"translate(13.5625 155.521714)scale(0.1 -0.1)\">\n       <use xlink:href=\"#DejaVuSans-54\"/>\n       <use x=\"63.623047\" xlink:href=\"#DejaVuSans-48\"/>\n       <use x=\"127.246094\" xlink:href=\"#DejaVuSans-48\"/>\n      </g>\n     </g>\n    </g>\n    <g id=\"ytick_5\">\n     <g id=\"line2d_12\">\n      <g>\n       <use style=\"stroke:#000000;stroke-width:0.8;\" x=\"39.65\" xlink:href=\"#md33160789a\" y=\"127.41666\"/>\n      </g>\n     </g>\n     <g id=\"text_12\">\n      <!-- 800 -->\n      <g transform=\"translate(13.5625 131.215879)scale(0.1 -0.1)\">\n       <defs>\n        <path d=\"M 31.78125 34.625 \nQ 24.75 34.625 20.71875 30.859375 \nQ 16.703125 27.09375 16.703125 20.515625 \nQ 16.703125 13.921875 20.71875 10.15625 \nQ 24.75 6.390625 31.78125 6.390625 \nQ 38.8125 6.390625 42.859375 10.171875 \nQ 46.921875 13.96875 46.921875 20.515625 \nQ 46.921875 27.09375 42.890625 30.859375 \nQ 38.875 34.625 31.78125 34.625 \nz\nM 21.921875 38.8125 \nQ 15.578125 40.375 12.03125 44.71875 \nQ 8.5 49.078125 8.5 55.328125 \nQ 8.5 64.0625 14.71875 69.140625 \nQ 20.953125 74.21875 31.78125 74.21875 \nQ 42.671875 74.21875 48.875 69.140625 \nQ 55.078125 64.0625 55.078125 55.328125 \nQ 55.078125 49.078125 51.53125 44.71875 \nQ 48 40.375 41.703125 38.8125 \nQ 48.828125 37.15625 52.796875 32.3125 \nQ 56.78125 27.484375 56.78125 20.515625 \nQ 56.78125 9.90625 50.3125 4.234375 \nQ 43.84375 -1.421875 31.78125 -1.421875 \nQ 19.734375 -1.421875 13.25 4.234375 \nQ 6.78125 9.90625 6.78125 20.515625 \nQ 6.78125 27.484375 10.78125 32.3125 \nQ 14.796875 37.15625 21.921875 38.8125 \nz\nM 18.3125 54.390625 \nQ 18.3125 48.734375 21.84375 45.5625 \nQ 25.390625 42.390625 31.78125 42.390625 \nQ 38.140625 42.390625 41.71875 45.5625 \nQ 45.3125 48.734375 45.3125 54.390625 \nQ 45.3125 60.0625 41.71875 63.234375 \nQ 38.140625 66.40625 31.78125 66.40625 \nQ 25.390625 66.40625 21.84375 63.234375 \nQ 18.3125 60.0625 18.3125 54.390625 \nz\n\" id=\"DejaVuSans-56\"/>\n       </defs>\n       <use xlink:href=\"#DejaVuSans-56\"/>\n       <use x=\"63.623047\" xlink:href=\"#DejaVuSans-48\"/>\n       <use x=\"127.246094\" xlink:href=\"#DejaVuSans-48\"/>\n      </g>\n     </g>\n    </g>\n    <g id=\"ytick_6\">\n     <g id=\"line2d_13\">\n      <g>\n       <use style=\"stroke:#000000;stroke-width:0.8;\" x=\"39.65\" xlink:href=\"#md33160789a\" y=\"103.110825\"/>\n      </g>\n     </g>\n     <g id=\"text_13\">\n      <!-- 1000 -->\n      <g transform=\"translate(7.2 106.910044)scale(0.1 -0.1)\">\n       <use xlink:href=\"#DejaVuSans-49\"/>\n       <use x=\"63.623047\" xlink:href=\"#DejaVuSans-48\"/>\n       <use x=\"127.246094\" xlink:href=\"#DejaVuSans-48\"/>\n       <use x=\"190.869141\" xlink:href=\"#DejaVuSans-48\"/>\n      </g>\n     </g>\n    </g>\n    <g id=\"ytick_7\">\n     <g id=\"line2d_14\">\n      <g>\n       <use style=\"stroke:#000000;stroke-width:0.8;\" x=\"39.65\" xlink:href=\"#md33160789a\" y=\"78.80499\"/>\n      </g>\n     </g>\n     <g id=\"text_14\">\n      <!-- 1200 -->\n      <g transform=\"translate(7.2 82.604209)scale(0.1 -0.1)\">\n       <use xlink:href=\"#DejaVuSans-49\"/>\n       <use x=\"63.623047\" xlink:href=\"#DejaVuSans-50\"/>\n       <use x=\"127.246094\" xlink:href=\"#DejaVuSans-48\"/>\n       <use x=\"190.869141\" xlink:href=\"#DejaVuSans-48\"/>\n      </g>\n     </g>\n    </g>\n    <g id=\"ytick_8\">\n     <g id=\"line2d_15\">\n      <g>\n       <use style=\"stroke:#000000;stroke-width:0.8;\" x=\"39.65\" xlink:href=\"#md33160789a\" y=\"54.499155\"/>\n      </g>\n     </g>\n     <g id=\"text_15\">\n      <!-- 1400 -->\n      <g transform=\"translate(7.2 58.298374)scale(0.1 -0.1)\">\n       <use xlink:href=\"#DejaVuSans-49\"/>\n       <use x=\"63.623047\" xlink:href=\"#DejaVuSans-52\"/>\n       <use x=\"127.246094\" xlink:href=\"#DejaVuSans-48\"/>\n       <use x=\"190.869141\" xlink:href=\"#DejaVuSans-48\"/>\n      </g>\n     </g>\n    </g>\n    <g id=\"ytick_9\">\n     <g id=\"line2d_16\">\n      <g>\n       <use style=\"stroke:#000000;stroke-width:0.8;\" x=\"39.65\" xlink:href=\"#md33160789a\" y=\"30.19332\"/>\n      </g>\n     </g>\n     <g id=\"text_16\">\n      <!-- 1600 -->\n      <g transform=\"translate(7.2 33.992539)scale(0.1 -0.1)\">\n       <use xlink:href=\"#DejaVuSans-49\"/>\n       <use x=\"63.623047\" xlink:href=\"#DejaVuSans-54\"/>\n       <use x=\"127.246094\" xlink:href=\"#DejaVuSans-48\"/>\n       <use x=\"190.869141\" xlink:href=\"#DejaVuSans-48\"/>\n      </g>\n     </g>\n    </g>\n   </g>\n   <g id=\"patch_43\">\n    <path d=\"M 39.65 224.64 \nL 39.65 7.2 \n\" style=\"fill:none;stroke:#000000;stroke-linecap:square;stroke-linejoin:miter;stroke-width:0.8;\"/>\n   </g>\n   <g id=\"patch_44\">\n    <path d=\"M 374.45 224.64 \nL 374.45 7.2 \n\" style=\"fill:none;stroke:#000000;stroke-linecap:square;stroke-linejoin:miter;stroke-width:0.8;\"/>\n   </g>\n   <g id=\"patch_45\">\n    <path d=\"M 39.65 224.64 \nL 374.45 224.64 \n\" style=\"fill:none;stroke:#000000;stroke-linecap:square;stroke-linejoin:miter;stroke-width:0.8;\"/>\n   </g>\n   <g id=\"patch_46\">\n    <path d=\"M 39.65 7.2 \nL 374.45 7.2 \n\" style=\"fill:none;stroke:#000000;stroke-linecap:square;stroke-linejoin:miter;stroke-width:0.8;\"/>\n   </g>\n  </g>\n </g>\n <defs>\n  <clipPath id=\"p6affb86989\">\n   <rect height=\"217.44\" width=\"334.8\" x=\"39.65\" y=\"7.2\"/>\n  </clipPath>\n </defs>\n</svg>\n",
            "image/png": "[encoded data removed]"
          },
          "metadata": {
            "needs_background": "light"
          }
        }
      ],
      "source": [
        "# histogram of noise (- noise, + noise)\n",
        "# we know that negative values are due to noise, and we assume a gaussian noise distribution\n",
        "\n",
        "data_flat = data_560Mhz_1000h_train.flatten()\n",
        "min_val = min(data_flat)\n",
        "plt.hist(data_flat, bins = 40, range = (0.0001, 0.006))#abs(min_val)))"
      ]
    },
    {
      "cell_type": "code",
      "execution_count": 14,
      "metadata": {},
      "outputs": [
        {
          "output_type": "stream",
          "name": "stdout",
          "text": [
            "0.48094657\n",
            "3.8131893e-07\n",
            "0.006585681\n",
            "0.0\n"
          ]
        }
      ],
      "source": [
        "fits_max_data_560Mhz_1000h = np.max(data_560Mhz_1000h)\n",
        "print(fits_max_data_560Mhz_1000h)\n",
        "\n",
        "data_560Mhz_1000h_train_clipped = np.clip(data_560Mhz_1000h_train, a_min=0, a_max=fits_max_data_560Mhz_1000h)\n",
        "\n",
        "# NB the computation of the mean val must be after the noise removal\n",
        "data_flat = data_560Mhz_1000h_train_clipped.flatten()\n",
        "mean_GLval = statistics.mean(data_flat)\n",
        "max_GLval = max(data_flat)\n",
        "min_GLval = min(data_flat)\n",
        "print(mean_GLval)\n",
        "print(max_GLval)\n",
        "print(min_GLval)"
      ]
    },
    {
      "cell_type": "code",
      "execution_count": 15,
      "metadata": {},
      "outputs": [
        {
          "output_type": "execute_result",
          "data": {
            "text/plain": [
              "array([[0.0000000e+00, 5.0277004e-07, 8.1352823e-07, ..., 0.0000000e+00,\n",
              "        0.0000000e+00, 0.0000000e+00],\n",
              "       [0.0000000e+00, 4.7234460e-07, 7.5504875e-07, ..., 0.0000000e+00,\n",
              "        0.0000000e+00, 1.5155882e-07],\n",
              "       [0.0000000e+00, 0.0000000e+00, 4.7753889e-07, ..., 0.0000000e+00,\n",
              "        0.0000000e+00, 0.0000000e+00],\n",
              "       ...,\n",
              "       [0.0000000e+00, 3.2216460e-07, 2.1111914e-07, ..., 0.0000000e+00,\n",
              "        0.0000000e+00, 0.0000000e+00],\n",
              "       [0.0000000e+00, 0.0000000e+00, 0.0000000e+00, ..., 0.0000000e+00,\n",
              "        0.0000000e+00, 0.0000000e+00],\n",
              "       [0.0000000e+00, 0.0000000e+00, 0.0000000e+00, ..., 0.0000000e+00,\n",
              "        4.3899996e-07, 6.1143220e-07]], dtype=float32)"
            ]
          },
          "metadata": {},
          "execution_count": 15
        }
      ],
      "source": [
        "data_560Mhz_1000h_train_clipped"
      ]
    },
    {
      "cell_type": "code",
      "metadata": {
        "id": "Ug10Ku-OF-5Y",
        "outputId": "c3b6bed6-24a7-4f71-cbed-c4b6b8d934af",
        "tags": []
      },
      "source": [
        "patch_list={}\n",
        "patch_list = ska_dataset._split_in_patch(data_560Mhz_1000h_train_clipped, df_train, data_560Mhz_1000h_fits.filename(), x1_min, y1_min, 205) # Remember to remove internal return"
      ],
      "execution_count": 18,
      "outputs": [
        {
          "output_type": "stream",
          "name": "stdout",
          "text": [
            "image saved\n",
            "image saved\n",
            "image saved\n",
            "image saved\n",
            "image saved\n",
            "image saved\n",
            "image saved\n",
            "image saved\n",
            "image saved\n",
            "image saved\n",
            "image saved\n"
          ]
        }
      ]
    },
    {
      "cell_type": "code",
      "execution_count": 26,
      "metadata": {},
      "outputs": [
        {
          "output_type": "stream",
          "name": "stdout",
          "text": [
            "[[0.0000000e+00 5.0277004e-07 8.1352823e-07 ... 2.1992520e-07\n  3.3757752e-07 8.9618879e-08]\n [0.0000000e+00 4.7234460e-07 7.5504875e-07 ... 0.0000000e+00\n  2.7678368e-08 3.8842813e-08]\n [0.0000000e+00 0.0000000e+00 4.7753889e-07 ... 0.0000000e+00\n  0.0000000e+00 0.0000000e+00]\n ...\n [1.6627402e-07 2.2166087e-07 0.0000000e+00 ... 0.0000000e+00\n  0.0000000e+00 0.0000000e+00]\n [1.3635220e-07 2.9386493e-07 0.0000000e+00 ... 0.0000000e+00\n  0.0000000e+00 0.0000000e+00]\n [0.0000000e+00 0.0000000e+00 0.0000000e+00 ... 0.0000000e+00\n  0.0000000e+00 0.0000000e+00]]\n          ID  RA (core)  DEC (core)  RA (centroid)  DEC (centroid)      FLUX  \\\n0   27514971  -0.014459  -29.933004      -0.014121      -29.932705  0.039324   \n1   15252327  -0.039005  -29.915081      -0.039002      -29.915081  0.000010   \n2   13302538  -0.005224  -29.939449      -0.005224      -29.939449  0.000017   \n3   30994188  -0.035645  -29.910868      -0.035645      -29.910868  0.000934   \n4   29158240  -0.002566  -29.917469      -0.002566      -29.917469  0.000036   \n..       ...        ...         ...            ...             ...       ...   \n63   9005660  -0.022509  -29.931404      -0.022509      -29.931404  0.000013   \n64  35737787  -0.000497  -29.911371      -0.000497      -29.911371  0.000028   \n65  31108334  -0.006430  -29.913763      -0.006430      -29.913763  0.000013   \n66  16819986  -0.025670  -29.939737      -0.025670      -29.939737  0.000007   \n67  30436469  -0.036250  -29.926567      -0.036250      -29.926567  0.000013   \n\n    Core frac    BMAJ    BMIN       PA  ...      width     height         x1s  \\\n0    0.004216  31.508  17.616  353.308  ...  51.900100  29.585640   49.960356   \n1    0.013472   2.167   2.159  134.347  ...   3.579504   3.579806  202.619101   \n2    0.861438   0.076   0.076  259.451  ...   0.125776   0.125776   29.907046   \n3   -0.000000   7.350   6.634  -82.418  ...  11.000635  12.144215  181.576576   \n4   -0.000000   1.474   0.443   -7.448  ...   2.420676   0.792750   15.038055   \n..        ...     ...     ...      ...  ...        ...        ...         ...   \n63  -0.000000   1.090   0.293   63.968  ...   0.903657   1.634795  118.765088   \n64  -0.000000   0.479   0.089   52.518  ...   0.496338   0.635411    5.317516   \n65  -0.000000   0.643   0.084  -44.041  ...   0.771023   0.746474   35.820206   \n66  -0.000000   0.199   0.057   -3.338  ...   0.328821   0.096104  135.364627   \n67  -0.000000   0.453   0.111  -16.761  ...   0.719793   0.278711  189.812156   \n\n           y1s         x2s         y2s                patch_name  patch_xo  \\\n0    38.133503  101.860456   67.719143  560Mhz_1000h_16380_16731     16380   \n1   156.105382  205.000000  159.685188  560Mhz_1000h_16380_16731     16380   \n2    12.685744   30.032822   12.811519  560Mhz_1000h_16380_16731     16380   \n3   176.932133  192.577211  189.076348  560Mhz_1000h_16380_16731     16380   \n4   143.306941   17.458730  144.099692  560Mhz_1000h_16380_16731     16380   \n..         ...         ...         ...                       ...       ...   \n63   59.852151  119.668745   61.486947  560Mhz_1000h_16380_16731     16380   \n64  179.715168    5.813854  180.350579  560Mhz_1000h_16380_16731     16380   \n65  165.408726   36.591228  166.155199  560Mhz_1000h_16380_16731     16380   \n66   10.970443  135.693448   11.066547  560Mhz_1000h_16380_16731     16380   \n67   89.330071  190.531949   89.608782  560Mhz_1000h_16380_16731     16380   \n\n    patch_yo  patch_dim  \n0      16731        205  \n1      16731        205  \n2      16731        205  \n3      16731        205  \n4      16731        205  \n..       ...        ...  \n63     16731        205  \n64     16731        205  \n65     16731        205  \n66     16731        205  \n67     16731        205  \n\n[68 rows x 32 columns]\n<class 'pandas.core.frame.DataFrame'>\n"
          ]
        }
      ],
      "source": [
        "# test if file has been correctly saved\n",
        "\n",
        "patch = '0_1638016380_205.npy'\n",
        "pkl =   '0_1638016380_205.pkl'\n",
        "\n",
        "path = os.path.join(config.TRAIN_PATCHES_FOLDER, '0_1638016380_205/')\n",
        "p = np.load(os.path.join(path, patch))\n",
        "pdata = pd.read_pickle(os.path.join(path, pkl))\n",
        "print(p)\n",
        "print(pdata)\n",
        "print(type(pdata))"
      ]
    },
    {
      "cell_type": "code",
      "execution_count": 33,
      "metadata": {},
      "outputs": [
        {
          "output_type": "stream",
          "name": "stdout",
          "text": [
            "205\nVertical flipping\nangle =  0\n<class 'pandas.core.frame.DataFrame'>\n         ID  RA (core)  DEC (core)  RA (centroid)  DEC (centroid)      FLUX  \\\n0  27514971  -0.014459  -29.933004      -0.014121      -29.932705  0.039324   \n1  15252327  -0.039005  -29.915081      -0.039002      -29.915081  0.000010   \n2  13302538  -0.005224  -29.939449      -0.005224      -29.939449  0.000017   \n3  30994188  -0.035645  -29.910868      -0.035645      -29.910868  0.000934   \n4  29158240  -0.002566  -29.917469      -0.002566      -29.917469  0.000036   \n\n   Core frac    BMAJ    BMIN       PA  ...      width     height         x1s  \\\n0   0.004216  31.508  17.616  353.308  ...  51.900100  29.585640   49.960356   \n1   0.013472   2.167   2.159  134.347  ...   3.579504   3.579806  202.619101   \n2   0.861438   0.076   0.076  259.451  ...   0.125776   0.125776   29.907046   \n3  -0.000000   7.350   6.634  -82.418  ...  11.000635  12.144215  181.576576   \n4  -0.000000   1.474   0.443   -7.448  ...   2.420676   0.792750   15.038055   \n\n          y1s         x2s         y2s                patch_name  patch_xo  \\\n0  137.280857  101.860456  166.866497  560Mhz_1000h_16380_16731     16380   \n1   45.314812  205.000000   48.894618  560Mhz_1000h_16380_16731     16380   \n2  192.188481   30.032822  192.314256  560Mhz_1000h_16380_16731     16380   \n3   15.923652  192.577211   28.067867  560Mhz_1000h_16380_16731     16380   \n4   60.900308   17.458730   61.693059  560Mhz_1000h_16380_16731     16380   \n\n   patch_yo  patch_dim  \n0     16731        205  \n1     16731        205  \n2     16731        205  \n3     16731        205  \n4     16731        205  \n\n[5 rows x 32 columns]\n"
          ]
        }
      ],
      "source": [
        "path = config.TRAIN_PATCHES_FOLDER\n",
        "patch = patch_list[0]\n",
        "\n",
        "img_aug, imgData_aug = prep.augment(os.path.join(path, f'{patch}/{patch}.npy'), os.path.join(path, f'{patch}/{patch}.pkl'))"
      ]
    },
    {
      "cell_type": "code",
      "execution_count": 29,
      "metadata": {},
      "outputs": [
        {
          "output_type": "stream",
          "name": "stdout",
          "text": [
            "38.13350279416409\n"
          ]
        },
        {
          "output_type": "display_data",
          "data": {
            "text/plain": "<Figure size 432x288 with 1 Axes>",
            "image/svg+xml": "<?xml version=\"1.0\" encoding=\"utf-8\" standalone=\"no\"?>\n<!DOCTYPE svg PUBLIC \"-//W3C//DTD SVG 1.1//EN\"\n  \"http://www.w3.org/Graphics/SVG/1.1/DTD/svg11.dtd\">\n<!-- Created with matplotlib (https://matplotlib.org/) -->\n<svg height=\"251.787002pt\" version=\"1.1\" viewBox=\"0 0 262.698177 251.787002\" width=\"262.698177pt\" xmlns=\"http://www.w3.org/2000/svg\" xmlns:xlink=\"http://www.w3.org/1999/xlink\">\n <metadata>\n  <rdf:RDF xmlns:cc=\"http://creativecommons.org/ns#\" xmlns:dc=\"http://purl.org/dc/elements/1.1/\" xmlns:rdf=\"http://www.w3.org/1999/02/22-rdf-syntax-ns#\">\n   <cc:Work>\n    <dc:type rdf:resource=\"http://purl.org/dc/dcmitype/StillImage\"/>\n    <dc:date>2021-05-23T10:23:40.693761</dc:date>\n    <dc:format>image/svg+xml</dc:format>\n    <dc:creator>\n     <cc:Agent>\n      <dc:title>Matplotlib v3.3.4, https://matplotlib.org/</dc:title>\n     </cc:Agent>\n    </dc:creator>\n   </cc:Work>\n  </rdf:RDF>\n </metadata>\n <defs>\n  <style type=\"text/css\">*{stroke-linecap:butt;stroke-linejoin:round;}</style>\n </defs>\n <g id=\"figure_1\">\n  <g id=\"patch_1\">\n   <path d=\"M 0 251.787002 \nL 262.698177 251.787002 \nL 262.698177 0 \nL 0 0 \nz\n\" style=\"fill:none;\"/>\n  </g>\n  <g id=\"axes_1\">\n   <g id=\"patch_2\">\n    <path d=\"M 33.2875 227.908877 \nL 250.7275 227.908877 \nL 250.7275 10.468877 \nL 33.2875 10.468877 \nz\n\" style=\"fill:#ffffff;\"/>\n   </g>\n   <g clip-path=\"url(#p181ac3321f)\">\n    <image height=\"218\" id=\"image92988aabc3\" transform=\"scale(1 -1)translate(0 -218)\" width=\"218\" x=\"33.2875\" xlink:href=\"data:image/png;base64,\niVBORw0KGgoAAAANSUhEUgAAANoAAADaCAYAAADAHVzbAAAao0lEQVR4nO2dXXPjSpKen6wCQFItne4z43HM1Yb3bn/I/oT96/aFb70ee3YdZ87pD4kEUJW+qAIIsimJlCgSAPOJYIjdpCgQqBf5UVlZ8q/yb4phGB+Ku/YBGMYtUFz7AIwPRGT7XM1xuSZm0eaMOMR7ELvM12Y8Fs359FOj3X3PwdCaGVdnHLc6EcSJ3X3PiSpoRGP6aVyX0YzqfkDYoDgfquYhjIRxuI6qQEQDNijOjZ3PUTAOocH4B4TI+I9xzkw8gzoa13HUdBfZEgzzRGT7+CBMaMfSJWlMbNehs2Lntmb9TXRwffcfw/e+8fqPx3UcMzmG3D4/QHcBJujWTIaPFtlr73sHJrRjeekiiwzuiFimb2poPG1a6Q031esKbWZWQHw36S5oCLP5XjdBN630kuD2p55OSJCZRTsHnWupQ8vm8v+Z2EbPnrjE7bqKGnX3fUPBHSm26wptToNQNVkx6YJ2m3gfNQfirl5gPwlvey01anr9xOtrFu2cqJJm3U/E5uguy04m0eUfA2/E7YvQQ65cEic/i+2I62dCuyY5idJfPEuifDwvicwJIgJuL06LEXVAdM+L7RVMaFdGnID3iAdC2E2iDLOZ+sr0gnEaz4nMe3AuPQdUNRW9h7AjtlMxoV0TVTQq4nPGsru4ndjyejLxLl3wfSEap7EXlx0SmXifXMecQZaYzzvsiE1c3CZJjsCEdm009hfyIJ3FU03viW+MA40t+8mOzl10LgnMu15oZDEJybpJjOihq/VKnGZCuzZdtjLq1vfvX9sTYQiWzTw3faZREO/AO6QoktBE0vnvlm8dqhA5Mk4zoY2BnK1U3ZvAH4gw/duSJR9W5OBcEo1ka1b47WttyC6mSze7N3BYaDOr2JgMh873W6cM5ojzffWNdtZ9ImP0Z6GJbL9MVIh2kY1xIE6QqkxZwaYh1s37b0JRwQvEuF3hH8LW2PSCjuk9+xyZDT4gNLfNvjRt9k+ncdcwbgMRQV03/3jGD44KIaISEVoANMT0fyHpQN+ohYOuYzeHQJf+NNdlF6vkuAoaFdo2T3Ocll7f+6CdzKOqpqxuCEj/lvwsp/eJA4t2lnk0jWjbbrMpluXaZbja2sR2WWJA64j2Y/PE858nn/t/Rk11jNGhBMT7rdhC9yua3cpszbK4TxX5AaHlTBcDK2aDyhgLH5UciroVW9vuJgRj3IpMB5b0BCN0OOvYKT/X4QHTqkj4yEYuUzgHwxrKKV23S5Ldx96qiduKbWj1unO33x9z5/k7l8nslP9MpSLhUH3grSEOV5VpPqhu0LYxsXUM3cdnxXZomiXmH3uvnWvh59BkToJhf49bpixThUMXCkzhJnkN9sX27Nv2KnbgTK0MugsUmNTEIDCtY/0ooiWynmUvKTIU2+u/+7ZVFC9bNJusniYa0c0mBfVWH3mY4VIk2GtPcP7Qw2od50jvjVgi5FX2rRu8LLBzTlgbM8AEdjz75+pQlf47z6d1KjaMffZFdYab1m0Lzdp7G89xZo/AXEfDeI4zim28QrvENj0WxxgXYpxC218TZx1/jYkzTqHBoDuRYr3sjakz3mSIxlT61a2Js03kjQkzztHb1+fFadVZGsYzjNd13F8XZ26jMWHGKzQwcRmzYZyuo2HMjHFbtDlyifnBW2dsfUlFTGhXoc+g3vj84C3cdPJ3NNfxGlgWddvXpOsheu6605EJ14R2afq++jduzTo+Yn50TOc1H4u5jtdgTAPhFM7p6uXeLjfRykTVhGZckRvawMOEZhzPVC3xCLAYzTAugAnNMC6AuY63zC3MY40Es2jX5Jo9SwbzWGkZ0gvHImL9Vd6JCe0aDAfuCAZwt5HJs6iaxXsn5jq+xEfVzO3v0nMNunms+Ma9xozDPLPFmVm05/goSyOSRNa7bFe8BJr3KDeRnYduJ6MDY8eE9hx9qdT5rRni0h5cr7lsU0cEnB9HjPfRf3+4XdgBzuM6foSLNYaM2NlFNtgb/EZILrJP3cyuVQVyCZEPtws7MG7eJ7SuLVxWct/n49AAPWV73uHnapxfB6yoqOMmdnpJ+45d+cZyaCOLj/o7z/BOobm02V3uwUgN2h4YOPsZtmNEk9vNER3ITGriVEFI4gq5Z+WcbiD7jKlw+Mrn+d2uo6oi/c71z9ydd7YzPWazt9SYR1TyYJzRXV9HMvAuxZxvJCfwPqFpRJsWbdr+38+e2FNPeAyz0lePDbyb5HmhHRNT3dAyh9kytv4aM+Ww0FyOubp4wi6CYbyLZy3atnLhYsdiXIO33ETNCp7MYaGpleYYz7AzMWvj41ieEZrFXsYLXCpLNSPLaUXFxmnMYNBfA6t1NObBtWspX8Es2q0yBbfslGMb8/fALJoxV8awYmCAWbRbZeQWYG6Y0Ix5MrIbibmOY2dkLpDxNsyijZ2R3ZknxXBy/crFFya0Y3jOopgIxosIUpRIWaTrFwKxblKPlCtgQjuWQecqyIs2rQRpvIhDygJ5uEeqCpoGvn1HNxu0bS9+OCa0U+nr/KxEbdRohBgREXSRLJu0bRLZFVpjmNCOIdd+qkpqqwDzWvU9R1STq/jtexKY93AFS9ZhQjuFYbH1sA+KuY/jJAbi4yOy2WwbPZ2jT0uXZDkhwWJCew+2XGT8qH5cTCaOY6+9Cc0wTuWVHo6HMKG9lTecbGNGnHjN5ye0S3Y4NoEZR3K7JVhW1mRckPkJ7ZTNKUxsxoWYn+sIR3dDNl7gmIWhY9iIZCI4qw433kQ/jzg/p+gjcMPdYIwDdDeiW7shvbadrg4qZMyavUqRimMN4w2YwI6msJq9V7DBdDpWlvYT7lUXwRgfU3Bjx358F8aCsykz1sFsN++fMKEZxgUwoU2RUybljVFgQpsqJrJJYUIzjAtgQjOMC2BCM4wLMM+i4rky7FUBFqdNCLNoUyL3lhTvr30kxomY0Izb5kJVNh/nOtpapfOj0bYWnygfG6MN4wnj/dgN6zATKGL+WNfRRGZ8NMNGtm/hQnWZHyc0KxMyLsUEFi5/sEUzkRkXYAKek82jGdNmIjfz8dtcw5gBJjTDuAAmtHMy1hXPxtWxGO2cTCRemBwzKH4woRnjZ7B/eNpIcHq9JE1oxjQQh3iXBBYCeoV9qN+D1Toa42dY4+kGrcgnVPhpFm0u7Cdi5nRzy3uHq8ZtFcilJ6nfWU/5cUKb04UeO92CUJh8LPMiWXAXR9IaQI0K8W1/39L7c0CTqMRlwXlPv3mJTTm8n2Et5RvPpwltRqQEQYTOmhnnQeO7PQSL0eZCHgAaAshgSyXj/ZzBZTWhzY1LxzGWXT4Kcx2N9yHO4sEjMItmvJ1ThXXD1s+ENnVGMHhnOZVwZkxoU2YwfwZcfo7p1HjwhoVoMZphXACzaFNGFbD24FPAhDZ1TGCTwFxHw7gAJjTDuAAmNMO4ACY0w7gAlgwZMoLJX2OemND26SeArdLBOB/mOg7pdtR0VhxrnBezaPt0Fk3euNxk6H4e2h/OrORNYkI7hBM4RWMy6MwEexYx7TetsRPYQHhzEF333efwXT4QE9oziBNUX+l8NBBY36/DCSICLlvGOCiRigo6aJ4zh/KpKR/7BTGhvYXnBOZ9aowjkqxi5zrGvKtkTAkWDQGRJLrZCM54ERNax/4iRnE/x2l5WYoMmniKd8l6eY8UBXi3FdvQrcoddgkR6Trtdt12Q0iCE2xd10wxocHLK4Vfcg+9B+eSwIoCKTx0YnMOHcRqEmKyaG1A2xYJAdoWQswCDBA16/oIsR1KuphAR8vtCu1QAmMgInUg+D6mOugeer8VWFWC92jhofCoc+C3Vk1jRIJCm0QlTZue100SXNsmsTnZ9paHw+LZt6yARofN/Y2X2xPavoWCQVy1bTAjsI2rYOseZtcQ53uBaVlAWaClR72HwhELh3ZCyxqQqEiISBPSY9MmwdUNNE0vOq3r7EXm+O058QytqyratC+/37gaxc2kZ19yAcsyuX/7DOfAxG3jr6JIVqssstA8WhXE0qGlI3qHFkL0ksWWPyIqRHBNxDcRqSNu3eLqFnnaQFHDZpPe3GTRHbJU3YJPFSC7r91LTTupzR9uhWL2AoPd3vTe77qA3mX3r3h+o4jO2jmXBFb4ZMGqglj5wcOhHmKZRBYLQT2oAxVBVJEIEjy+UVyt+HWBXwf8ssA9lshjOi42DmoHTfts3KZRU/ZSYhJbdmfV4rXRMX/XcRjPdD3pe6tUJKGVJRQeRHYTGHmSWV0Wmneo98mCLTyx9ISFIy4coXLEgl5csRBiQXrus/uIgKbPda3gGvAbR/nkKR4LikWBLz0uJ1mG/CS2bocVSJY3W+h04BavjY35Cm3oKnqPlEUSWFVuLVhZJPevyLHVIHkB5EHciS0lN2Lp0coRyiywhSNUQqgkC41eaDr4t7r0SMGXIAFcC34jNE9C+cNRVY6qdBQu11zufaWDli2GNLEuuq1mOcai2UqFizJNob02SAZWLAmqRKoSKUsoS3SREhha5QRG4VDv+gTjzkd1BkRAC5csVZUFthDahRArCOVAWAVEn3+WuhWb115sEkFawdVQPArtUvrPUBFKcvKk+345KXNQbF3bt2P38Bq2qbP+/BdhekLLe1V1c0c/bbHaiaxMVkuqCqoSWS7QRYVWJbosiIuCWLmUsChcEkD3ERFQ7UVGVHA5uVFIL7CwSAKJC4jlQFwFaJEEFktF84MiIoWCUxTQNsVh4UeyjupTckMCSFhQxIiLMU1yR4W6Zmf3y32OtUxdMkXc5HbOnCrTEpoIUpTJDRRBu7mn4etdDFZVyKJClkt0tSDeLYirkrAqCAtPWEiftNim7HL8FHJ8lvMMkF2/nOAIJckCLYV2BbHKj1Kz2JRYgpYRSkWqQFFGyqqlKAKFi4goTfBsNiX1okR9CTgkCq51SCiQdpGmAdqAxtBXlqQ7wBliMLNmF2NSQpMcY8lykaxMyMkA2LpD3uMWC1gtkbsV8dOKeF/R3pW0nzztyiVrVG1jpy5xl+ImwbWKROlFhmpOlCRrFapkzcKS9Fhp+rxS0SI9KCOuCvgysFi0rKqGu7Jh4VtKn24OTfB8XSz4Wix5VKEJBdI4XC34xuM3Ba6ucE2LtC00LfjwslU7FovLLsrlhfbWebucupaqSmVObYvuuIw56VFVSWSf7oi/3NE+LGh+KajvPc0noV0JIbt6vchyYsLV4BrFNbK1apACNEnZx1iQfn8B7RLaOyWslLiMUChSRlwRKcrAYtFwVzV8qmoeyg13Rc3KNxQuENXxFMpedG3rqWtHWwvNRvAb8BuPX5e4pxRbUuYqkkN1mMaouazQdnrFn+j6dNsDdSnsXBvYfy4g3iWLt1oSH1Y0X5bUXwo2D576QWjvoV1BWCjq869GkgXZpPlodSmDpy1IHNYTsmPR2s6S3SnxLuBWLb4MFEWkKALLsuVTVfO5WvPr4pGHYs3KN5SSrZl6frQLogqbUPC4qGjuCtqNw6+Fdi20T4525XGPJX5dgMtzbCGkDOM7NzA3LsekXEcgiatu0LrZJkK62KwskapCVwvC/YL6c8H6s6f+LNQP0N5n67OIOc0O0gjeuz7tDiAqiOTJ5c6ouTQfFstkzeIiCS1+CpQPGz6tapZVgxdlUbSsioYv1RN/qn7wa/nIvV+zlJaA0Kjne1iycQWFC5QusChb1ouWeuVpV0J7JzQroVymOTstcsmXCCat6XFZob23V3yMaF2nur6cgQMGBb8OqpK4rGjuC5pPjuZeaO6hfVDa+4guA24RkoUKgm58mn6KLmX7FFBwIvnfiuZ6xehT0iNUEJZK+BQpHzb85ct3/rL6wV1R40QpXeCTr/lSPvJfym988Y/cuVRatY4lf4RPPA7k4kQpfaAsA80iEFZ+GwMu0tydL/Ikdlf0/J7rYFycy1u0d7g6GuJ2/dZeWr8vPyqLVLVRuZwZzKJYKFpF3DLgi4AIBOcIUZLgSiWG7C52HqnL/x64jbGAWKXPk1XLl4cn/vmX3/in1W/c+w1eIk4id67mwT3xxT/yyW0oJbCOJb9zx7cYiQh1LKhjQRuTO+1cxBVKKGOeAM9lXIWgXYnVYLWBhWjTYTquY5dpCzxf+eDSXV99mljuqjH6ioyuWERIrmF+rpIEJAVIqRAlWTahr91N6f1c9VGCVkqxaPnT6pF/Wv3Gv6z+xhf/SCWBUlpKCSyloSLiRIm6reJv1PMYKr63FY9txSYUNMETo9t+LRkc9955MKbHhIT2Spatqw3Mq5m3BbwpZS+tQhC0dQSXRKZdKYhT8NqXTklIhRiO7XK0/YGvojinVD7wuXjir8Uf/LX4xoO0LAVKESKwVmWtwjctWceSx7jgj/aOr+2Sr/WKb/WCH3XFU11S157YuFQx0gquBQmKtIrkNghERVUHzX6MKTAdob1GjKAxrfdqY6qMrxW/EcIGfCHJ0gEhCuJzSdPQgnQ1iV5RJynPkmM2SBlKjSAtSONom4IfTcW3sKTBs5TAn7znXhZ4cXyPa9ba8i2W/Gd44P+2n/lb/St/r3/hP9f3/La+4/umYl2XNHVBqD08efyjw6/Br5VirbgmpCr+bkrj1kU2wWzrbISmmhZVEgKuDvh1pHhyhFJzRX6KvUJ0xJDiHnzuStXFZdot+OzMVleOlaetpMtCpprE5lvJ31cP/M/lf+Vz8chSGjx/EN0agN9j5G/hjv/V/Jm/Nb/yf+rP/H3zwH88PfD7esX39YLNuiTUHq0dsnEUPxzlN6H8CtV3pfgRcE8NUjfbShiNxxUOG6NhHkLLnaa0bZG6QTYN/qmkrFyelM6lTUFog9A2SlxIquDIcZi0gmsEafPkdZ7Elvy8T/PV4MouaeL5wSf+B39lHUr+8csn/tvy//Fn/x0vka9hyb/Xf+bfN7/yH+t7/rG54+t6yY91xWZdEtceGofUjmIjuE0qMK6+wvL3SPU1UH6rkccNut70Uxo37zZO8AYzD6FBElsIaNMgTxt86XORbplLrHL6vhVcLTltrjkQG5Rf1cMqEXI5FrkVQf5TjuTa1YJrCh7re/77Y8X//vwLf/n0g/tygxPlsa34ulnyx9OS9aak2RToxiMbh9sIZSNIA64RfJ0+s3hUqm/K4vdA9XuN+75GnpLIaJqBRbvAYLuV1fcXYDZC01z7KHUDmxp59BR9gqTAtYprHL5OBcGxSokPBoUqLmQL1uqONZOQEyuDCezooXgCvxb82tP8WPKP3yt+W/2ClDn+y9X5skn1i0WTxdmJuUkPaTUJbaOUT0r5PVB+rfFf18j3J3S9RusaDfFy1mxYxWNt8N7NPITWTYSH1MqN9SaXazkKckV+U+BqpdjkhZplbjPQpf27wuI4qODPAnNBkzXMFf0oaQK7FIq1o3gSmh9C89UTF55YpPf9ZCHbXEvZbq1lJ2pfR9wmprYGTw3u+wZ5XKNPT+imTomQS1qzjPhcq6by85Ik42jmITRI1SJRU4W7CHjXd7LyMeKaiKs9fu2JZWqak+oa6deibRMfgyUyqklwOlg6k6tF1Al+rfiNo1gLxY9kKbv+IMmKDsTVKi4orkkp+ySymNL3TUriyCbFmGzqbMmaVAVzaZGpbi1Zb9msRcJbmY/QIA/EvE5tUwNJFNIGtAlIPVhR3ffXyH0XZft8+3l58aduBbaTWndCrF0S8MZRPLneSkrMwmqSoKRVXMiiylMQ0kZoU+dimhZpcxq/bqCp0ZzSP1QJczJvibeGbRJgWpPlI5sCmJnQcl97SFYA+hbc0gakLFIHq66Nd/drXe/F3MZbu0E5iN/6lgJ7q7nFS5pO2PhcKpULk6MeFlXuVkxMc37dc22zqJq2bxeuIZ7fXTx1AJ7aJmEsjOxYxyu0Lhh/wyDTqAhh63KFAFWLNEUfuzHsdtUJzKcGqtK9fqhVeN/DQwddjR34thep5Mar0sa+5XffErxrAa6aajfjVlS95Yo66FT8RpHtC+Pdq7HHNXCnxniF1nFKXNAPrlwXGbOrF/Pgzm0O8G6wLo5eMKkXieTX5af++f2f2c/8DUQpsCuq/Le12+Si+5lLqdLzmAumc1axc9HeM7hNGNfhGRd93EI7dcD95N5lwWke9D5s23531fAATtCuL6LLDVa7FuDdFkxD9oTWvzrYNaYTDt3Pzkpla6dDy3hOgRnXY9B9TaMmbyUzXqGdY7ANrZvobgZt6BruiK9Ny22GopNn3MjB3+lrEGPY9jN5QVjAdk7MBDYb+nbze1vGjldo52LfuuUMmuhg8eTOLjIu7+riEB9Asvu404bhAMNYa+guviSsneMz5kC6xuGnDO38hdYxEByQRdcJJ/fg2N+6Key5j0Nr2NFZuhDSBhN7Arspcd16ydYLGdrbEVrHzgnYvet0Fq+3dt4jMSYrN4zrOq9gIL5t1vDMSY2p8JJrfWscuN63J7QhBwUQt9Yutr2YxCeXUoebTww3hT8kslsQWMctfdc3cNtCO8S+ixlzYNslUsJedUTnRvZZxRuyYsbRmNCeo58qSD73MJGywzC5dGtWzDia2xLaW8uI9qzcy+8xjJ+5LaFZGZJxJV6YGDIM41yY0AzjApjQDOMCmNAM4wLcVjLE2GKbxV8Us2i3jonsIpjQbpVu7dw5sXrHZzGhGeehW0ZkYjuICc04Dzst6Yx97KwYr9OtMH9xlXnc/WnsYEIzjuM1S6VqInsBS+8b58MymM9iQjNep9vbwIT0Zsx1NI7DRPYu5mnRPqrq4UBvfsM4husKbUplQPvt5izwHz8j2i/gekLrWnCTe+FpeOUXTuCjTu6pLeOu3X7tHfsXGOflOjGaCFKUSFUhxUS8165k6dTSpTFUS4zhGK7BiG4ulx/l2ZJJWSBViYaItO18PbFrfrFD2cJrW9kb5aqu4/b5TJOfYxjMYzgG43pC07btN4CYrzkbIR9VsW+CfpHLCy3vyknU1KseTGhTpBNY542cM5k1Q65j0fTMWUbjethN8igmkvIzRoe5iifxtizEa0smDMPYYabpPsMYF+8Tmlk1wziKtwntp03ZDcN4ibdbNBOZYRyNxWiGcQFMaIZxAWwezXgfU1pTeIgLHb9ZNOPtWNb5aExoxtuYi8guZIX/PwGf7xtw0sooAAAAAElFTkSuQmCC\" y=\"-9.908877\"/>\n   </g>\n   <g id=\"patch_3\">\n    <path clip-path=\"url(#p181ac3321f)\" d=\"M 86.809938 51.446774 \nL 141.859488 51.446774 \nL 141.859488 82.827757 \nL 86.809938 82.827757 \nz\n\" style=\"fill:none;stroke:#ff0000;stroke-linejoin:miter;stroke-width:0.1;\"/>\n   </g>\n   <g id=\"patch_4\">\n    <path clip-path=\"url(#p181ac3321f)\" d=\"M 248.732463 176.577532 \nL 251.257841 176.577532 \nL 251.257841 180.374571 \nL 248.732463 180.374571 \nz\n\" style=\"fill:none;stroke:#ff0000;stroke-linejoin:miter;stroke-width:0.1;\"/>\n   </g>\n   <g id=\"patch_5\">\n    <path clip-path=\"url(#p181ac3321f)\" d=\"M 65.539735 24.45477 \nL 65.673143 24.45477 \nL 65.673143 24.588179 \nL 65.539735 24.588179 \nz\n\" style=\"fill:none;stroke:#ff0000;stroke-linejoin:miter;stroke-width:0.1;\"/>\n   </g>\n   <g id=\"patch_6\">\n    <path clip-path=\"url(#p181ac3321f)\" d=\"M 226.413016 198.668111 \nL 238.081201 198.668111 \nL 238.081201 211.549273 \nL 226.413016 211.549273 \nz\n\" style=\"fill:none;stroke:#ff0000;stroke-linejoin:miter;stroke-width:0.1;\"/>\n   </g>\n   <g id=\"patch_7\">\n    <path clip-path=\"url(#p181ac3321f)\" d=\"M 49.768449 163.002445 \nL 52.336019 163.002445 \nL 52.336019 163.843301 \nL 49.768449 163.843301 \nz\n\" style=\"fill:none;stroke:#ff0000;stroke-linejoin:miter;stroke-width:0.1;\"/>\n   </g>\n   <g id=\"patch_8\">\n    <path clip-path=\"url(#p181ac3321f)\" d=\"M 126.274957 178.135829 \nL 128.558531 178.135829 \nL 128.558531 180.397024 \nL 126.274957 180.397024 \nz\n\" style=\"fill:none;stroke:#ff0000;stroke-linejoin:miter;stroke-width:0.1;\"/>\n   </g>\n   <g id=\"patch_9\">\n    <path clip-path=\"url(#p181ac3321f)\" d=\"M 244.357911 166.121899 \nL 245.388441 166.121899 \nL 245.388441 167.742579 \nL 244.357911 167.742579 \nz\n\" style=\"fill:none;stroke:#ff0000;stroke-linejoin:miter;stroke-width:0.1;\"/>\n   </g>\n   <g id=\"patch_10\">\n    <path clip-path=\"url(#p181ac3321f)\" d=\"M 101.582251 82.478801 \nL 103.260571 82.478801 \nL 103.260571 89.54929 \nL 101.582251 89.54929 \nz\n\" style=\"fill:none;stroke:#ff0000;stroke-linejoin:miter;stroke-width:0.1;\"/>\n   </g>\n   <g id=\"patch_11\">\n    <path clip-path=\"url(#p181ac3321f)\" d=\"M 130.080327 206.928692 \nL 133.086777 206.928692 \nL 133.086777 209.771544 \nL 130.080327 209.771544 \nz\n\" style=\"fill:none;stroke:#ff0000;stroke-linejoin:miter;stroke-width:0.1;\"/>\n   </g>\n   <g id=\"patch_12\">\n    <path clip-path=\"url(#p181ac3321f)\" d=\"M 126.646897 163.725086 \nL 128.222334 163.725086 \nL 128.222334 168.338965 \nL 126.646897 168.338965 \nz\n\" style=\"fill:none;stroke:#ff0000;stroke-linejoin:miter;stroke-width:0.1;\"/>\n   </g>\n   <g id=\"patch_13\">\n    <path clip-path=\"url(#p181ac3321f)\" d=\"M 144.357784 77.58767 \nL 149.497856 77.58767 \nL 149.497856 81.482945 \nL 144.357784 81.482945 \nz\n\" style=\"fill:none;stroke:#ff0000;stroke-linejoin:miter;stroke-width:0.1;\"/>\n   </g>\n   <g id=\"patch_14\">\n    <path clip-path=\"url(#p181ac3321f)\" d=\"M 168.493957 58.215657 \nL 172.135595 58.215657 \nL 172.135595 60.491727 \nL 168.493957 60.491727 \nz\n\" style=\"fill:none;stroke:#ff0000;stroke-linejoin:miter;stroke-width:0.1;\"/>\n   </g>\n   <g id=\"patch_15\">\n    <path clip-path=\"url(#p181ac3321f)\" d=\"M 137.763841 206.87887 \nL 140.288919 206.87887 \nL 140.288919 208.011072 \nL 137.763841 208.011072 \nz\n\" style=\"fill:none;stroke:#ff0000;stroke-linejoin:miter;stroke-width:0.1;\"/>\n   </g>\n   <g id=\"patch_16\">\n    <path clip-path=\"url(#p181ac3321f)\" d=\"M 147.836147 104.449499 \nL 152.791921 104.449499 \nL 152.791921 106.545036 \nL 147.836147 106.545036 \nz\n\" style=\"fill:none;stroke:#ff0000;stroke-linejoin:miter;stroke-width:0.1;\"/>\n   </g>\n   <g id=\"patch_17\">\n    <path clip-path=\"url(#p181ac3321f)\" d=\"M 112.608968 141.32382 \nL 113.080231 141.32382 \nL 113.080231 142.266182 \nL 112.608968 142.266182 \nz\n\" style=\"fill:none;stroke:#ff0000;stroke-linejoin:miter;stroke-width:0.1;\"/>\n   </g>\n   <g id=\"patch_18\">\n    <path clip-path=\"url(#p181ac3321f)\" d=\"M 107.097452 217.425909 \nL 108.519771 217.425909 \nL 108.519771 218.276389 \nL 107.097452 218.276389 \nz\n\" style=\"fill:none;stroke:#ff0000;stroke-linejoin:miter;stroke-width:0.1;\"/>\n   </g>\n   <g id=\"patch_19\">\n    <path clip-path=\"url(#p181ac3321f)\" d=\"M 185.478512 164.671742 \nL 186.960228 164.671742 \nL 186.960228 166.044067 \nL 185.478512 166.044067 \nz\n\" style=\"fill:none;stroke:#ff0000;stroke-linejoin:miter;stroke-width:0.1;\"/>\n   </g>\n   <g id=\"patch_20\">\n    <path clip-path=\"url(#p181ac3321f)\" d=\"M 113.973085 49.134228 \nL 114.631495 49.134228 \nL 114.631495 50.355126 \nL 113.973085 50.355126 \nz\n\" style=\"fill:none;stroke:#ff0000;stroke-linejoin:miter;stroke-width:0.1;\"/>\n   </g>\n   <g id=\"patch_21\">\n    <path clip-path=\"url(#p181ac3321f)\" d=\"M 140.900963 121.560144 \nL 142.607757 121.560144 \nL 142.607757 122.969293 \nL 140.900963 122.969293 \nz\n\" style=\"fill:none;stroke:#ff0000;stroke-linejoin:miter;stroke-width:0.1;\"/>\n   </g>\n   <g id=\"patch_22\">\n    <path clip-path=\"url(#p181ac3321f)\" d=\"M 203.585255 218.682161 \nL 204.95091 218.682161 \nL 204.95091 219.177246 \nL 203.585255 219.177246 \nz\n\" style=\"fill:none;stroke:#ff0000;stroke-linejoin:miter;stroke-width:0.1;\"/>\n   </g>\n   <g id=\"patch_23\">\n    <path clip-path=\"url(#p181ac3321f)\" d=\"M 193.271627 177.295167 \nL 193.975492 177.295167 \nL 193.975492 178.584048 \nL 193.271627 178.584048 \nz\n\" style=\"fill:none;stroke:#ff0000;stroke-linejoin:miter;stroke-width:0.1;\"/>\n   </g>\n   <g id=\"patch_24\">\n    <path clip-path=\"url(#p181ac3321f)\" d=\"M 153.09595 222.625619 \nL 153.90522 222.625619 \nL 153.90522 224.561834 \nL 153.09595 224.561834 \nz\n\" style=\"fill:none;stroke:#ff0000;stroke-linejoin:miter;stroke-width:0.1;\"/>\n   </g>\n   <g id=\"patch_25\">\n    <path clip-path=\"url(#p181ac3321f)\" d=\"M 209.586037 117.361145 \nL 210.506067 117.361145 \nL 210.506067 118.893602 \nL 209.586037 118.893602 \nz\n\" style=\"fill:none;stroke:#ff0000;stroke-linejoin:miter;stroke-width:0.1;\"/>\n   </g>\n   <g id=\"patch_26\">\n    <path clip-path=\"url(#p181ac3321f)\" d=\"M 205.653506 202.326804 \nL 206.877138 202.326804 \nL 206.877138 203.349553 \nL 205.653506 203.349553 \nz\n\" style=\"fill:none;stroke:#ff0000;stroke-linejoin:miter;stroke-width:0.1;\"/>\n   </g>\n   <g id=\"patch_27\">\n    <path clip-path=\"url(#p181ac3321f)\" d=\"M 176.408411 135.451495 \nL 177.788535 135.451495 \nL 177.788535 135.966841 \nL 176.408411 135.966841 \nz\n\" style=\"fill:none;stroke:#ff0000;stroke-linejoin:miter;stroke-width:0.1;\"/>\n   </g>\n   <g id=\"patch_28\">\n    <path clip-path=\"url(#p181ac3321f)\" d=\"M 142.869094 129.483596 \nL 143.620963 129.483596 \nL 143.620963 130.859105 \nL 142.869094 130.859105 \nz\n\" style=\"fill:none;stroke:#ff0000;stroke-linejoin:miter;stroke-width:0.1;\"/>\n   </g>\n   <g id=\"patch_29\">\n    <path clip-path=\"url(#p181ac3321f)\" d=\"M 77.333072 69.012558 \nL 79.592618 69.012558 \nL 79.592618 73.441187 \nL 77.333072 73.441187 \nz\n\" style=\"fill:none;stroke:#ff0000;stroke-linejoin:miter;stroke-width:0.1;\"/>\n   </g>\n   <g id=\"patch_30\">\n    <path clip-path=\"url(#p181ac3321f)\" d=\"M 99.604081 78.879682 \nL 100.082188 78.879682 \nL 100.082188 79.794023 \nL 99.604081 79.794023 \nz\n\" style=\"fill:none;stroke:#ff0000;stroke-linejoin:miter;stroke-width:0.1;\"/>\n   </g>\n   <g id=\"patch_31\">\n    <path clip-path=\"url(#p181ac3321f)\" d=\"M 153.720583 27.079573 \nL 154.274962 27.079573 \nL 154.274962 27.535483 \nL 153.720583 27.535483 \nz\n\" style=\"fill:none;stroke:#ff0000;stroke-linejoin:miter;stroke-width:0.1;\"/>\n   </g>\n   <g id=\"patch_32\">\n    <path clip-path=\"url(#p181ac3321f)\" d=\"M 171.405694 33.090808 \nL 171.719243 33.090808 \nL 171.719243 34.582948 \nL 171.405694 34.582948 \nz\n\" style=\"fill:none;stroke:#ff0000;stroke-linejoin:miter;stroke-width:0.1;\"/>\n   </g>\n   <g id=\"patch_33\">\n    <path clip-path=\"url(#p181ac3321f)\" d=\"M 177.521983 100.551081 \nL 179.224979 100.551081 \nL 179.224979 101.777859 \nL 177.521983 101.777859 \nz\n\" style=\"fill:none;stroke:#ff0000;stroke-linejoin:miter;stroke-width:0.1;\"/>\n   </g>\n   <g id=\"patch_34\">\n    <path clip-path=\"url(#p181ac3321f)\" d=\"M 217.358042 145.255962 \nL 220.000235 145.255962 \nL 220.000235 146.486797 \nL 217.358042 146.486797 \nz\n\" style=\"fill:none;stroke:#ff0000;stroke-linejoin:miter;stroke-width:0.1;\"/>\n   </g>\n   <g id=\"patch_35\">\n    <path clip-path=\"url(#p181ac3321f)\" d=\"M 203.231824 108.551626 \nL 206.21586 108.551626 \nL 206.21586 110.349441 \nL 203.231824 110.349441 \nz\n\" style=\"fill:none;stroke:#ff0000;stroke-linejoin:miter;stroke-width:0.1;\"/>\n   </g>\n   <g id=\"patch_36\">\n    <path clip-path=\"url(#p181ac3321f)\" d=\"M 56.857796 119.098557 \nL 57.179257 119.098557 \nL 57.179257 119.806832 \nL 56.857796 119.806832 \nz\n\" style=\"fill:none;stroke:#ff0000;stroke-linejoin:miter;stroke-width:0.1;\"/>\n   </g>\n   <g id=\"patch_37\">\n    <path clip-path=\"url(#p181ac3321f)\" d=\"M 120.939496 26.549774 \nL 122.262594 26.549774 \nL 122.262594 27.135625 \nL 120.939496 27.135625 \nz\n\" style=\"fill:none;stroke:#ff0000;stroke-linejoin:miter;stroke-width:0.1;\"/>\n   </g>\n   <g id=\"patch_38\">\n    <path clip-path=\"url(#p181ac3321f)\" d=\"M 152.055244 195.362327 \nL 152.876171 195.362327 \nL 152.876171 197.32098 \nL 152.055244 197.32098 \nz\n\" style=\"fill:none;stroke:#ff0000;stroke-linejoin:miter;stroke-width:0.1;\"/>\n   </g>\n   <g id=\"patch_39\">\n    <path clip-path=\"url(#p181ac3321f)\" d=\"M 159.826539 39.07079 \nL 160.34645 39.07079 \nL 160.34645 39.455457 \nL 159.826539 39.455457 \nz\n\" style=\"fill:none;stroke:#ff0000;stroke-linejoin:miter;stroke-width:0.1;\"/>\n   </g>\n   <g id=\"patch_40\">\n    <path clip-path=\"url(#p181ac3321f)\" d=\"M 106.489266 133.850935 \nL 108.271031 133.850935 \nL 108.271031 134.456895 \nL 106.489266 134.456895 \nz\n\" style=\"fill:none;stroke:#ff0000;stroke-linejoin:miter;stroke-width:0.1;\"/>\n   </g>\n   <g id=\"patch_41\">\n    <path clip-path=\"url(#p181ac3321f)\" d=\"M 120.585406 62.485069 \nL 121.062939 62.485069 \nL 121.062939 63.760717 \nL 120.585406 63.760717 \nz\n\" style=\"fill:none;stroke:#ff0000;stroke-linejoin:miter;stroke-width:0.1;\"/>\n   </g>\n   <g id=\"patch_42\">\n    <path clip-path=\"url(#p181ac3321f)\" d=\"M 108.295731 28.57178 \nL 110.711521 28.57178 \nL 110.711521 29.576332 \nL 108.295731 29.576332 \nz\n\" style=\"fill:none;stroke:#ff0000;stroke-linejoin:miter;stroke-width:0.1;\"/>\n   </g>\n   <g id=\"patch_43\">\n    <path clip-path=\"url(#p181ac3321f)\" d=\"M 180.088631 35.158415 \nL 180.522916 35.158415 \nL 180.522916 36.898735 \nL 180.088631 36.898735 \nz\n\" style=\"fill:none;stroke:#ff0000;stroke-linejoin:miter;stroke-width:0.1;\"/>\n   </g>\n   <g id=\"patch_44\">\n    <path clip-path=\"url(#p181ac3321f)\" d=\"M 61.636198 69.867106 \nL 62.420149 69.867106 \nL 62.420149 70.129525 \nL 61.636198 70.129525 \nz\n\" style=\"fill:none;stroke:#ff0000;stroke-linejoin:miter;stroke-width:0.1;\"/>\n   </g>\n   <g id=\"patch_45\">\n    <path clip-path=\"url(#p181ac3321f)\" d=\"M 109.969917 145.82903 \nL 111.536481 145.82903 \nL 111.536481 146.487971 \nL 109.969917 146.487971 \nz\n\" style=\"fill:none;stroke:#ff0000;stroke-linejoin:miter;stroke-width:0.1;\"/>\n   </g>\n   <g id=\"patch_46\">\n    <path clip-path=\"url(#p181ac3321f)\" d=\"M 68.086937 222.067244 \nL 69.067815 222.067244 \nL 69.067815 222.584956 \nL 68.086937 222.584956 \nz\n\" style=\"fill:none;stroke:#ff0000;stroke-linejoin:miter;stroke-width:0.1;\"/>\n   </g>\n   <g id=\"patch_47\">\n    <path clip-path=\"url(#p181ac3321f)\" d=\"M 86.677093 197.354352 \nL 87.97058 197.354352 \nL 87.97058 197.853295 \nL 86.677093 197.853295 \nz\n\" style=\"fill:none;stroke:#ff0000;stroke-linejoin:miter;stroke-width:0.1;\"/>\n   </g>\n   <g id=\"patch_48\">\n    <path clip-path=\"url(#p181ac3321f)\" d=\"M 107.393805 145.327385 \nL 109.613384 145.327385 \nL 109.613384 147.134849 \nL 107.393805 147.134849 \nz\n\" style=\"fill:none;stroke:#ff0000;stroke-linejoin:miter;stroke-width:0.1;\"/>\n   </g>\n   <g id=\"patch_49\">\n    <path clip-path=\"url(#p181ac3321f)\" d=\"M 110.285376 200.241104 \nL 110.639009 200.241104 \nL 110.639009 200.795612 \nL 110.285376 200.795612 \nz\n\" style=\"fill:none;stroke:#ff0000;stroke-linejoin:miter;stroke-width:0.1;\"/>\n   </g>\n   <g id=\"patch_50\">\n    <path clip-path=\"url(#p181ac3321f)\" d=\"M 239.571045 142.582649 \nL 240.054459 142.582649 \nL 240.054459 142.951811 \nL 239.571045 142.951811 \nz\n\" style=\"fill:none;stroke:#ff0000;stroke-linejoin:miter;stroke-width:0.1;\"/>\n   </g>\n   <g id=\"patch_51\">\n    <path clip-path=\"url(#p181ac3321f)\" d=\"M 225.46344 119.877039 \nL 225.989511 119.877039 \nL 225.989511 121.117652 \nL 225.46344 121.117652 \nz\n\" style=\"fill:none;stroke:#ff0000;stroke-linejoin:miter;stroke-width:0.1;\"/>\n   </g>\n   <g id=\"patch_52\">\n    <path clip-path=\"url(#p181ac3321f)\" d=\"M 115.584911 213.365245 \nL 119.264696 213.365245 \nL 119.264696 215.151041 \nL 115.584911 215.151041 \nz\n\" style=\"fill:none;stroke:#ff0000;stroke-linejoin:miter;stroke-width:0.1;\"/>\n   </g>\n   <g id=\"patch_53\">\n    <path clip-path=\"url(#p181ac3321f)\" d=\"M 174.419911 157.093639 \nL 175.481145 157.093639 \nL 175.481145 157.572417 \nL 174.419911 157.572417 \nz\n\" style=\"fill:none;stroke:#ff0000;stroke-linejoin:miter;stroke-width:0.1;\"/>\n   </g>\n   <g id=\"patch_54\">\n    <path clip-path=\"url(#p181ac3321f)\" d=\"M 180.132454 50.247867 \nL 180.684321 50.247867 \nL 180.684321 50.544034 \nL 180.132454 50.544034 \nz\n\" style=\"fill:none;stroke:#ff0000;stroke-linejoin:miter;stroke-width:0.1;\"/>\n   </g>\n   <g id=\"patch_55\">\n    <path clip-path=\"url(#p181ac3321f)\" d=\"M 39.549474 158.48516 \nL 40.220774 158.48516 \nL 40.220774 159.05579 \nL 39.549474 159.05579 \nz\n\" style=\"fill:none;stroke:#ff0000;stroke-linejoin:miter;stroke-width:0.1;\"/>\n   </g>\n   <g id=\"patch_56\">\n    <path clip-path=\"url(#p181ac3321f)\" d=\"M 41.243056 196.609705 \nL 42.467113 196.609705 \nL 42.467113 198.192067 \nL 41.243056 198.192067 \nz\n\" style=\"fill:none;stroke:#ff0000;stroke-linejoin:miter;stroke-width:0.1;\"/>\n   </g>\n   <g id=\"patch_57\">\n    <path clip-path=\"url(#p181ac3321f)\" d=\"M 214.230484 179.763791 \nL 215.059691 179.763791 \nL 215.059691 180.274612 \nL 214.230484 180.274612 \nz\n\" style=\"fill:none;stroke:#ff0000;stroke-linejoin:miter;stroke-width:0.1;\"/>\n   </g>\n   <g id=\"patch_58\">\n    <path clip-path=\"url(#p181ac3321f)\" d=\"M 245.550949 52.924306 \nL 246.182287 52.924306 \nL 246.182287 53.158432 \nL 245.550949 53.158432 \nz\n\" style=\"fill:none;stroke:#ff0000;stroke-linejoin:miter;stroke-width:0.1;\"/>\n   </g>\n   <g id=\"patch_59\">\n    <path clip-path=\"url(#p181ac3321f)\" d=\"M 144.985972 97.993323 \nL 147.159643 97.993323 \nL 147.159643 98.779905 \nL 144.985972 98.779905 \nz\n\" style=\"fill:none;stroke:#ff0000;stroke-linejoin:miter;stroke-width:0.1;\"/>\n   </g>\n   <g id=\"patch_60\">\n    <path clip-path=\"url(#p181ac3321f)\" d=\"M 63.464584 24.282249 \nL 65.644622 24.282249 \nL 65.644622 27.412516 \nL 63.464584 27.412516 \nz\n\" style=\"fill:none;stroke:#ff0000;stroke-linejoin:miter;stroke-width:0.1;\"/>\n   </g>\n   <g id=\"patch_61\">\n    <path clip-path=\"url(#p181ac3321f)\" d=\"M 64.834839 213.925758 \nL 65.027741 213.925758 \nL 65.027741 214.696022 \nL 64.834839 214.696022 \nz\n\" style=\"fill:none;stroke:#ff0000;stroke-linejoin:miter;stroke-width:0.1;\"/>\n   </g>\n   <g id=\"patch_62\">\n    <path clip-path=\"url(#p181ac3321f)\" d=\"M 73.288712 185.229108 \nL 75.06416 185.229108 \nL 75.06416 185.632852 \nL 73.288712 185.632852 \nz\n\" style=\"fill:none;stroke:#ff0000;stroke-linejoin:miter;stroke-width:0.1;\"/>\n   </g>\n   <g id=\"patch_63\">\n    <path clip-path=\"url(#p181ac3321f)\" d=\"M 72.811776 54.534299 \nL 73.217077 54.534299 \nL 73.217077 55.30411 \nL 72.811776 55.30411 \nz\n\" style=\"fill:none;stroke:#ff0000;stroke-linejoin:miter;stroke-width:0.1;\"/>\n   </g>\n   <g id=\"patch_64\">\n    <path clip-path=\"url(#p181ac3321f)\" d=\"M 161.023354 169.370329 \nL 161.959534 169.370329 \nL 161.959534 170.179196 \nL 161.023354 170.179196 \nz\n\" style=\"fill:none;stroke:#ff0000;stroke-linejoin:miter;stroke-width:0.1;\"/>\n   </g>\n   <g id=\"patch_65\">\n    <path clip-path=\"url(#p181ac3321f)\" d=\"M 72.361193 163.682191 \nL 73.458638 163.682191 \nL 73.458638 164.07774 \nL 72.361193 164.07774 \nz\n\" style=\"fill:none;stroke:#ff0000;stroke-linejoin:miter;stroke-width:0.1;\"/>\n   </g>\n   <g id=\"patch_66\">\n    <path clip-path=\"url(#p181ac3321f)\" d=\"M 159.789943 74.483374 \nL 160.748436 74.483374 \nL 160.748436 76.217373 \nL 159.789943 76.217373 \nz\n\" style=\"fill:none;stroke:#ff0000;stroke-linejoin:miter;stroke-width:0.1;\"/>\n   </g>\n   <g id=\"patch_67\">\n    <path clip-path=\"url(#p181ac3321f)\" d=\"M 39.45804 201.620029 \nL 39.984497 201.620029 \nL 39.984497 202.293999 \nL 39.45804 202.293999 \nz\n\" style=\"fill:none;stroke:#ff0000;stroke-linejoin:miter;stroke-width:0.1;\"/>\n   </g>\n   <g id=\"patch_68\">\n    <path clip-path=\"url(#p181ac3321f)\" d=\"M 71.811722 186.44543 \nL 72.629533 186.44543 \nL 72.629533 187.237202 \nL 71.811722 187.237202 \nz\n\" style=\"fill:none;stroke:#ff0000;stroke-linejoin:miter;stroke-width:0.1;\"/>\n   </g>\n   <g id=\"patch_69\">\n    <path clip-path=\"url(#p181ac3321f)\" d=\"M 177.39679 22.63538 \nL 177.745565 22.63538 \nL 177.745565 22.737316 \nL 177.39679 22.737316 \nz\n\" style=\"fill:none;stroke:#ff0000;stroke-linejoin:miter;stroke-width:0.1;\"/>\n   </g>\n   <g id=\"patch_70\">\n    <path clip-path=\"url(#p181ac3321f)\" d=\"M 235.148355 105.7501 \nL 235.911827 105.7501 \nL 235.911827 106.045724 \nL 235.148355 106.045724 \nz\n\" style=\"fill:none;stroke:#ff0000;stroke-linejoin:miter;stroke-width:0.1;\"/>\n   </g>\n   <g id=\"matplotlib.axis_1\">\n    <g id=\"xtick_1\">\n     <g id=\"line2d_1\">\n      <defs>\n       <path d=\"M 0 0 \nL 0 3.5 \n\" id=\"m50913cf95a\" style=\"stroke:#000000;stroke-width:0.8;\"/>\n      </defs>\n      <g>\n       <use style=\"stroke:#000000;stroke-width:0.8;\" x=\"33.817841\" xlink:href=\"#m50913cf95a\" y=\"227.908877\"/>\n      </g>\n     </g>\n     <g id=\"text_1\">\n      <!-- 0 -->\n      <g transform=\"translate(30.636591 242.507315)scale(0.1 -0.1)\">\n       <defs>\n        <path d=\"M 31.78125 66.40625 \nQ 24.171875 66.40625 20.328125 58.90625 \nQ 16.5 51.421875 16.5 36.375 \nQ 16.5 21.390625 20.328125 13.890625 \nQ 24.171875 6.390625 31.78125 6.390625 \nQ 39.453125 6.390625 43.28125 13.890625 \nQ 47.125 21.390625 47.125 36.375 \nQ 47.125 51.421875 43.28125 58.90625 \nQ 39.453125 66.40625 31.78125 66.40625 \nz\nM 31.78125 74.21875 \nQ 44.046875 74.21875 50.515625 64.515625 \nQ 56.984375 54.828125 56.984375 36.375 \nQ 56.984375 17.96875 50.515625 8.265625 \nQ 44.046875 -1.421875 31.78125 -1.421875 \nQ 19.53125 -1.421875 13.0625 8.265625 \nQ 6.59375 17.96875 6.59375 36.375 \nQ 6.59375 54.828125 13.0625 64.515625 \nQ 19.53125 74.21875 31.78125 74.21875 \nz\n\" id=\"DejaVuSans-48\"/>\n       </defs>\n       <use xlink:href=\"#DejaVuSans-48\"/>\n      </g>\n     </g>\n    </g>\n    <g id=\"xtick_2\">\n     <g id=\"line2d_2\">\n      <g>\n       <use style=\"stroke:#000000;stroke-width:0.8;\" x=\"86.851988\" xlink:href=\"#m50913cf95a\" y=\"227.908877\"/>\n      </g>\n     </g>\n     <g id=\"text_2\">\n      <!-- 50 -->\n      <g transform=\"translate(80.489488 242.507315)scale(0.1 -0.1)\">\n       <defs>\n        <path d=\"M 10.796875 72.90625 \nL 49.515625 72.90625 \nL 49.515625 64.59375 \nL 19.828125 64.59375 \nL 19.828125 46.734375 \nQ 21.96875 47.46875 24.109375 47.828125 \nQ 26.265625 48.1875 28.421875 48.1875 \nQ 40.625 48.1875 47.75 41.5 \nQ 54.890625 34.8125 54.890625 23.390625 \nQ 54.890625 11.625 47.5625 5.09375 \nQ 40.234375 -1.421875 26.90625 -1.421875 \nQ 22.3125 -1.421875 17.546875 -0.640625 \nQ 12.796875 0.140625 7.71875 1.703125 \nL 7.71875 11.625 \nQ 12.109375 9.234375 16.796875 8.0625 \nQ 21.484375 6.890625 26.703125 6.890625 \nQ 35.15625 6.890625 40.078125 11.328125 \nQ 45.015625 15.765625 45.015625 23.390625 \nQ 45.015625 31 40.078125 35.4375 \nQ 35.15625 39.890625 26.703125 39.890625 \nQ 22.75 39.890625 18.8125 39.015625 \nQ 14.890625 38.140625 10.796875 36.28125 \nz\n\" id=\"DejaVuSans-53\"/>\n       </defs>\n       <use xlink:href=\"#DejaVuSans-53\"/>\n       <use x=\"63.623047\" xlink:href=\"#DejaVuSans-48\"/>\n      </g>\n     </g>\n    </g>\n    <g id=\"xtick_3\">\n     <g id=\"line2d_3\">\n      <g>\n       <use style=\"stroke:#000000;stroke-width:0.8;\" x=\"139.886134\" xlink:href=\"#m50913cf95a\" y=\"227.908877\"/>\n      </g>\n     </g>\n     <g id=\"text_3\">\n      <!-- 100 -->\n      <g transform=\"translate(130.342384 242.507315)scale(0.1 -0.1)\">\n       <defs>\n        <path d=\"M 12.40625 8.296875 \nL 28.515625 8.296875 \nL 28.515625 63.921875 \nL 10.984375 60.40625 \nL 10.984375 69.390625 \nL 28.421875 72.90625 \nL 38.28125 72.90625 \nL 38.28125 8.296875 \nL 54.390625 8.296875 \nL 54.390625 0 \nL 12.40625 0 \nz\n\" id=\"DejaVuSans-49\"/>\n       </defs>\n       <use xlink:href=\"#DejaVuSans-49\"/>\n       <use x=\"63.623047\" xlink:href=\"#DejaVuSans-48\"/>\n       <use x=\"127.246094\" xlink:href=\"#DejaVuSans-48\"/>\n      </g>\n     </g>\n    </g>\n    <g id=\"xtick_4\">\n     <g id=\"line2d_4\">\n      <g>\n       <use style=\"stroke:#000000;stroke-width:0.8;\" x=\"192.92028\" xlink:href=\"#m50913cf95a\" y=\"227.908877\"/>\n      </g>\n     </g>\n     <g id=\"text_4\">\n      <!-- 150 -->\n      <g transform=\"translate(183.37653 242.507315)scale(0.1 -0.1)\">\n       <use xlink:href=\"#DejaVuSans-49\"/>\n       <use x=\"63.623047\" xlink:href=\"#DejaVuSans-53\"/>\n       <use x=\"127.246094\" xlink:href=\"#DejaVuSans-48\"/>\n      </g>\n     </g>\n    </g>\n    <g id=\"xtick_5\">\n     <g id=\"line2d_5\">\n      <g>\n       <use style=\"stroke:#000000;stroke-width:0.8;\" x=\"245.954427\" xlink:href=\"#m50913cf95a\" y=\"227.908877\"/>\n      </g>\n     </g>\n     <g id=\"text_5\">\n      <!-- 200 -->\n      <g transform=\"translate(236.410677 242.507315)scale(0.1 -0.1)\">\n       <defs>\n        <path d=\"M 19.1875 8.296875 \nL 53.609375 8.296875 \nL 53.609375 0 \nL 7.328125 0 \nL 7.328125 8.296875 \nQ 12.9375 14.109375 22.625 23.890625 \nQ 32.328125 33.6875 34.8125 36.53125 \nQ 39.546875 41.84375 41.421875 45.53125 \nQ 43.3125 49.21875 43.3125 52.78125 \nQ 43.3125 58.59375 39.234375 62.25 \nQ 35.15625 65.921875 28.609375 65.921875 \nQ 23.96875 65.921875 18.8125 64.3125 \nQ 13.671875 62.703125 7.8125 59.421875 \nL 7.8125 69.390625 \nQ 13.765625 71.78125 18.9375 73 \nQ 24.125 74.21875 28.421875 74.21875 \nQ 39.75 74.21875 46.484375 68.546875 \nQ 53.21875 62.890625 53.21875 53.421875 \nQ 53.21875 48.921875 51.53125 44.890625 \nQ 49.859375 40.875 45.40625 35.40625 \nQ 44.1875 33.984375 37.640625 27.21875 \nQ 31.109375 20.453125 19.1875 8.296875 \nz\n\" id=\"DejaVuSans-50\"/>\n       </defs>\n       <use xlink:href=\"#DejaVuSans-50\"/>\n       <use x=\"63.623047\" xlink:href=\"#DejaVuSans-48\"/>\n       <use x=\"127.246094\" xlink:href=\"#DejaVuSans-48\"/>\n      </g>\n     </g>\n    </g>\n   </g>\n   <g id=\"matplotlib.axis_2\">\n    <g id=\"ytick_1\">\n     <g id=\"line2d_6\">\n      <defs>\n       <path d=\"M 0 0 \nL -3.5 0 \n\" id=\"m8566c56d33\" style=\"stroke:#000000;stroke-width:0.8;\"/>\n      </defs>\n      <g>\n       <use style=\"stroke:#000000;stroke-width:0.8;\" x=\"33.2875\" xlink:href=\"#m8566c56d33\" y=\"10.999219\"/>\n      </g>\n     </g>\n     <g id=\"text_6\">\n      <!-- 0 -->\n      <g transform=\"translate(19.925 14.798438)scale(0.1 -0.1)\">\n       <use xlink:href=\"#DejaVuSans-48\"/>\n      </g>\n     </g>\n    </g>\n    <g id=\"ytick_2\">\n     <g id=\"line2d_7\">\n      <g>\n       <use style=\"stroke:#000000;stroke-width:0.8;\" x=\"33.2875\" xlink:href=\"#m8566c56d33\" y=\"37.516292\"/>\n      </g>\n     </g>\n     <g id=\"text_7\">\n      <!-- 25 -->\n      <g transform=\"translate(13.5625 41.315511)scale(0.1 -0.1)\">\n       <use xlink:href=\"#DejaVuSans-50\"/>\n       <use x=\"63.623047\" xlink:href=\"#DejaVuSans-53\"/>\n      </g>\n     </g>\n    </g>\n    <g id=\"ytick_3\">\n     <g id=\"line2d_8\">\n      <g>\n       <use style=\"stroke:#000000;stroke-width:0.8;\" x=\"33.2875\" xlink:href=\"#m8566c56d33\" y=\"64.033365\"/>\n      </g>\n     </g>\n     <g id=\"text_8\">\n      <!-- 50 -->\n      <g transform=\"translate(13.5625 67.832584)scale(0.1 -0.1)\">\n       <use xlink:href=\"#DejaVuSans-53\"/>\n       <use x=\"63.623047\" xlink:href=\"#DejaVuSans-48\"/>\n      </g>\n     </g>\n    </g>\n    <g id=\"ytick_4\">\n     <g id=\"line2d_9\">\n      <g>\n       <use style=\"stroke:#000000;stroke-width:0.8;\" x=\"33.2875\" xlink:href=\"#m8566c56d33\" y=\"90.550438\"/>\n      </g>\n     </g>\n     <g id=\"text_9\">\n      <!-- 75 -->\n      <g transform=\"translate(13.5625 94.349657)scale(0.1 -0.1)\">\n       <defs>\n        <path d=\"M 8.203125 72.90625 \nL 55.078125 72.90625 \nL 55.078125 68.703125 \nL 28.609375 0 \nL 18.3125 0 \nL 43.21875 64.59375 \nL 8.203125 64.59375 \nz\n\" id=\"DejaVuSans-55\"/>\n       </defs>\n       <use xlink:href=\"#DejaVuSans-55\"/>\n       <use x=\"63.623047\" xlink:href=\"#DejaVuSans-53\"/>\n      </g>\n     </g>\n    </g>\n    <g id=\"ytick_5\">\n     <g id=\"line2d_10\">\n      <g>\n       <use style=\"stroke:#000000;stroke-width:0.8;\" x=\"33.2875\" xlink:href=\"#m8566c56d33\" y=\"117.067511\"/>\n      </g>\n     </g>\n     <g id=\"text_10\">\n      <!-- 100 -->\n      <g transform=\"translate(7.2 120.86673)scale(0.1 -0.1)\">\n       <use xlink:href=\"#DejaVuSans-49\"/>\n       <use x=\"63.623047\" xlink:href=\"#DejaVuSans-48\"/>\n       <use x=\"127.246094\" xlink:href=\"#DejaVuSans-48\"/>\n      </g>\n     </g>\n    </g>\n    <g id=\"ytick_6\">\n     <g id=\"line2d_11\">\n      <g>\n       <use style=\"stroke:#000000;stroke-width:0.8;\" x=\"33.2875\" xlink:href=\"#m8566c56d33\" y=\"143.584585\"/>\n      </g>\n     </g>\n     <g id=\"text_11\">\n      <!-- 125 -->\n      <g transform=\"translate(7.2 147.383803)scale(0.1 -0.1)\">\n       <use xlink:href=\"#DejaVuSans-49\"/>\n       <use x=\"63.623047\" xlink:href=\"#DejaVuSans-50\"/>\n       <use x=\"127.246094\" xlink:href=\"#DejaVuSans-53\"/>\n      </g>\n     </g>\n    </g>\n    <g id=\"ytick_7\">\n     <g id=\"line2d_12\">\n      <g>\n       <use style=\"stroke:#000000;stroke-width:0.8;\" x=\"33.2875\" xlink:href=\"#m8566c56d33\" y=\"170.101658\"/>\n      </g>\n     </g>\n     <g id=\"text_12\">\n      <!-- 150 -->\n      <g transform=\"translate(7.2 173.900877)scale(0.1 -0.1)\">\n       <use xlink:href=\"#DejaVuSans-49\"/>\n       <use x=\"63.623047\" xlink:href=\"#DejaVuSans-53\"/>\n       <use x=\"127.246094\" xlink:href=\"#DejaVuSans-48\"/>\n      </g>\n     </g>\n    </g>\n    <g id=\"ytick_8\">\n     <g id=\"line2d_13\">\n      <g>\n       <use style=\"stroke:#000000;stroke-width:0.8;\" x=\"33.2875\" xlink:href=\"#m8566c56d33\" y=\"196.618731\"/>\n      </g>\n     </g>\n     <g id=\"text_13\">\n      <!-- 175 -->\n      <g transform=\"translate(7.2 200.41795)scale(0.1 -0.1)\">\n       <use xlink:href=\"#DejaVuSans-49\"/>\n       <use x=\"63.623047\" xlink:href=\"#DejaVuSans-55\"/>\n       <use x=\"127.246094\" xlink:href=\"#DejaVuSans-53\"/>\n      </g>\n     </g>\n    </g>\n    <g id=\"ytick_9\">\n     <g id=\"line2d_14\">\n      <g>\n       <use style=\"stroke:#000000;stroke-width:0.8;\" x=\"33.2875\" xlink:href=\"#m8566c56d33\" y=\"223.135804\"/>\n      </g>\n     </g>\n     <g id=\"text_14\">\n      <!-- 200 -->\n      <g transform=\"translate(7.2 226.935023)scale(0.1 -0.1)\">\n       <use xlink:href=\"#DejaVuSans-50\"/>\n       <use x=\"63.623047\" xlink:href=\"#DejaVuSans-48\"/>\n       <use x=\"127.246094\" xlink:href=\"#DejaVuSans-48\"/>\n      </g>\n     </g>\n    </g>\n   </g>\n   <g id=\"patch_71\">\n    <path d=\"M 33.2875 227.908877 \nL 33.2875 10.468877 \n\" style=\"fill:none;stroke:#000000;stroke-linecap:square;stroke-linejoin:miter;stroke-width:0.8;\"/>\n   </g>\n   <g id=\"patch_72\">\n    <path d=\"M 250.7275 227.908877 \nL 250.7275 10.468877 \n\" style=\"fill:none;stroke:#000000;stroke-linecap:square;stroke-linejoin:miter;stroke-width:0.8;\"/>\n   </g>\n   <g id=\"patch_73\">\n    <path d=\"M 33.2875 227.908877 \nL 250.7275 227.908877 \n\" style=\"fill:none;stroke:#000000;stroke-linecap:square;stroke-linejoin:miter;stroke-width:0.8;\"/>\n   </g>\n   <g id=\"patch_74\">\n    <path d=\"M 33.2875 10.468877 \nL 250.7275 10.468877 \n\" style=\"fill:none;stroke:#000000;stroke-linecap:square;stroke-linejoin:miter;stroke-width:0.8;\"/>\n   </g>\n  </g>\n </g>\n <defs>\n  <clipPath id=\"p181ac3321f\">\n   <rect height=\"217.44\" width=\"217.44\" x=\"33.2875\" y=\"10.468877\"/>\n  </clipPath>\n </defs>\n</svg>\n",
            "image/png": "[encoded data removed]"
          },
          "metadata": {
            "needs_background": "light"
          }
        },
        {
          "output_type": "execute_result",
          "data": {
            "text/plain": [
              "         ID  RA (core)  DEC (core)  RA (centroid)  DEC (centroid)      FLUX  \\\n",
              "0  27514971  -0.014459  -29.933004      -0.014121      -29.932705  0.039324   \n",
              "1  15252327  -0.039005  -29.915081      -0.039002      -29.915081  0.000010   \n",
              "2  13302538  -0.005224  -29.939449      -0.005224      -29.939449  0.000017   \n",
              "3  30994188  -0.035645  -29.910868      -0.035645      -29.910868  0.000934   \n",
              "4  29158240  -0.002566  -29.917469      -0.002566      -29.917469  0.000036   \n",
              "\n",
              "   Core frac    BMAJ    BMIN       PA  ...      width     height         x1s  \\\n",
              "0   0.004216  31.508  17.616  353.308  ...  51.900100  29.585640   49.960356   \n",
              "1   0.013472   2.167   2.159  134.347  ...   3.579504   3.579806  202.619101   \n",
              "2   0.861438   0.076   0.076  259.451  ...   0.125776   0.125776   29.907046   \n",
              "3  -0.000000   7.350   6.634  -82.418  ...  11.000635  12.144215  181.576576   \n",
              "4  -0.000000   1.474   0.443   -7.448  ...   2.420676   0.792750   15.038055   \n",
              "\n",
              "          y1s         x2s         y2s                patch_name  patch_xo  \\\n",
              "0   38.133503  101.860456   67.719143  560Mhz_1000h_16380_16731     16380   \n",
              "1  156.105382  205.000000  159.685188  560Mhz_1000h_16380_16731     16380   \n",
              "2   12.685744   30.032822   12.811519  560Mhz_1000h_16380_16731     16380   \n",
              "3  176.932133  192.577211  189.076348  560Mhz_1000h_16380_16731     16380   \n",
              "4  143.306941   17.458730  144.099692  560Mhz_1000h_16380_16731     16380   \n",
              "\n",
              "   patch_yo  patch_dim  \n",
              "0     16731        205  \n",
              "1     16731        205  \n",
              "2     16731        205  \n",
              "3     16731        205  \n",
              "4     16731        205  \n",
              "\n",
              "[5 rows x 32 columns]"
            ],
            "text/html": "<div>\n<style scoped>\n    .dataframe tbody tr th:only-of-type {\n        vertical-align: middle;\n    }\n\n    .dataframe tbody tr th {\n        vertical-align: top;\n    }\n\n    .dataframe thead th {\n        text-align: right;\n    }\n</style>\n<table border=\"1\" class=\"dataframe\">\n  <thead>\n    <tr style=\"text-align: right;\">\n      <th></th>\n      <th>ID</th>\n      <th>RA (core)</th>\n      <th>DEC (core)</th>\n      <th>RA (centroid)</th>\n      <th>DEC (centroid)</th>\n      <th>FLUX</th>\n      <th>Core frac</th>\n      <th>BMAJ</th>\n      <th>BMIN</th>\n      <th>PA</th>\n      <th>...</th>\n      <th>width</th>\n      <th>height</th>\n      <th>x1s</th>\n      <th>y1s</th>\n      <th>x2s</th>\n      <th>y2s</th>\n      <th>patch_name</th>\n      <th>patch_xo</th>\n      <th>patch_yo</th>\n      <th>patch_dim</th>\n    </tr>\n  </thead>\n  <tbody>\n    <tr>\n      <th>0</th>\n      <td>27514971</td>\n      <td>-0.014459</td>\n      <td>-29.933004</td>\n      <td>-0.014121</td>\n      <td>-29.932705</td>\n      <td>0.039324</td>\n      <td>0.004216</td>\n      <td>31.508</td>\n      <td>17.616</td>\n      <td>353.308</td>\n      <td>...</td>\n      <td>51.900100</td>\n      <td>29.585640</td>\n      <td>49.960356</td>\n      <td>38.133503</td>\n      <td>101.860456</td>\n      <td>67.719143</td>\n      <td>560Mhz_1000h_16380_16731</td>\n      <td>16380</td>\n      <td>16731</td>\n      <td>205</td>\n    </tr>\n    <tr>\n      <th>1</th>\n      <td>15252327</td>\n      <td>-0.039005</td>\n      <td>-29.915081</td>\n      <td>-0.039002</td>\n      <td>-29.915081</td>\n      <td>0.000010</td>\n      <td>0.013472</td>\n      <td>2.167</td>\n      <td>2.159</td>\n      <td>134.347</td>\n      <td>...</td>\n      <td>3.579504</td>\n      <td>3.579806</td>\n      <td>202.619101</td>\n      <td>156.105382</td>\n      <td>205.000000</td>\n      <td>159.685188</td>\n      <td>560Mhz_1000h_16380_16731</td>\n      <td>16380</td>\n      <td>16731</td>\n      <td>205</td>\n    </tr>\n    <tr>\n      <th>2</th>\n      <td>13302538</td>\n      <td>-0.005224</td>\n      <td>-29.939449</td>\n      <td>-0.005224</td>\n      <td>-29.939449</td>\n      <td>0.000017</td>\n      <td>0.861438</td>\n      <td>0.076</td>\n      <td>0.076</td>\n      <td>259.451</td>\n      <td>...</td>\n      <td>0.125776</td>\n      <td>0.125776</td>\n      <td>29.907046</td>\n      <td>12.685744</td>\n      <td>30.032822</td>\n      <td>12.811519</td>\n      <td>560Mhz_1000h_16380_16731</td>\n      <td>16380</td>\n      <td>16731</td>\n      <td>205</td>\n    </tr>\n    <tr>\n      <th>3</th>\n      <td>30994188</td>\n      <td>-0.035645</td>\n      <td>-29.910868</td>\n      <td>-0.035645</td>\n      <td>-29.910868</td>\n      <td>0.000934</td>\n      <td>-0.000000</td>\n      <td>7.350</td>\n      <td>6.634</td>\n      <td>-82.418</td>\n      <td>...</td>\n      <td>11.000635</td>\n      <td>12.144215</td>\n      <td>181.576576</td>\n      <td>176.932133</td>\n      <td>192.577211</td>\n      <td>189.076348</td>\n      <td>560Mhz_1000h_16380_16731</td>\n      <td>16380</td>\n      <td>16731</td>\n      <td>205</td>\n    </tr>\n    <tr>\n      <th>4</th>\n      <td>29158240</td>\n      <td>-0.002566</td>\n      <td>-29.917469</td>\n      <td>-0.002566</td>\n      <td>-29.917469</td>\n      <td>0.000036</td>\n      <td>-0.000000</td>\n      <td>1.474</td>\n      <td>0.443</td>\n      <td>-7.448</td>\n      <td>...</td>\n      <td>2.420676</td>\n      <td>0.792750</td>\n      <td>15.038055</td>\n      <td>143.306941</td>\n      <td>17.458730</td>\n      <td>144.099692</td>\n      <td>560Mhz_1000h_16380_16731</td>\n      <td>16380</td>\n      <td>16731</td>\n      <td>205</td>\n    </tr>\n  </tbody>\n</table>\n<p>5 rows × 32 columns</p>\n</div>"
          },
          "metadata": {},
          "execution_count": 29
        }
      ],
      "source": [
        "#print(type(img_aug))\n",
        "print(imgData_aug.iloc[0][\"x1s\"])\n",
        "print_img(p, pdata )\n",
        "pdata.head()"
      ]
    },
    {
      "cell_type": "code",
      "execution_count": 34,
      "metadata": {},
      "outputs": [
        {
          "output_type": "display_data",
          "data": {
            "text/plain": "<Figure size 432x288 with 1 Axes>",
            "image/svg+xml": "<?xml version=\"1.0\" encoding=\"utf-8\" standalone=\"no\"?>\n<!DOCTYPE svg PUBLIC \"-//W3C//DTD SVG 1.1//EN\"\n  \"http://www.w3.org/Graphics/SVG/1.1/DTD/svg11.dtd\">\n<!-- Created with matplotlib (https://matplotlib.org/) -->\n<svg height=\"251.787002pt\" version=\"1.1\" viewBox=\"0 0 262.698177 251.787002\" width=\"262.698177pt\" xmlns=\"http://www.w3.org/2000/svg\" xmlns:xlink=\"http://www.w3.org/1999/xlink\">\n <metadata>\n  <rdf:RDF xmlns:cc=\"http://creativecommons.org/ns#\" xmlns:dc=\"http://purl.org/dc/elements/1.1/\" xmlns:rdf=\"http://www.w3.org/1999/02/22-rdf-syntax-ns#\">\n   <cc:Work>\n    <dc:type rdf:resource=\"http://purl.org/dc/dcmitype/StillImage\"/>\n    <dc:date>2021-05-23T10:33:04.052029</dc:date>\n    <dc:format>image/svg+xml</dc:format>\n    <dc:creator>\n     <cc:Agent>\n      <dc:title>Matplotlib v3.3.4, https://matplotlib.org/</dc:title>\n     </cc:Agent>\n    </dc:creator>\n   </cc:Work>\n  </rdf:RDF>\n </metadata>\n <defs>\n  <style type=\"text/css\">*{stroke-linecap:butt;stroke-linejoin:round;}</style>\n </defs>\n <g id=\"figure_1\">\n  <g id=\"patch_1\">\n   <path d=\"M 0 251.787002 \nL 262.698177 251.787002 \nL 262.698177 0 \nL 0 0 \nz\n\" style=\"fill:none;\"/>\n  </g>\n  <g id=\"axes_1\">\n   <g id=\"patch_2\">\n    <path d=\"M 33.2875 227.908877 \nL 250.7275 227.908877 \nL 250.7275 10.468877 \nL 33.2875 10.468877 \nz\n\" style=\"fill:#ffffff;\"/>\n   </g>\n   <g clip-path=\"url(#pd0614139d3)\">\n    <image height=\"218\" id=\"image9784824062\" transform=\"scale(1 -1)translate(0 -218)\" width=\"218\" x=\"33.2875\" xlink:href=\"data:image/png;base64,\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\" y=\"-9.908877\"/>\n   </g>\n   <g id=\"patch_3\">\n    <path clip-path=\"url(#pd0614139d3)\" d=\"M 86.809938 156.61068 \nL 141.859488 156.61068 \nL 141.859488 187.991663 \nL 86.809938 187.991663 \nz\n\" style=\"fill:none;stroke:#ff0000;stroke-linejoin:miter;stroke-width:0.1;\"/>\n   </g>\n   <g id=\"patch_4\">\n    <path clip-path=\"url(#pd0614139d3)\" d=\"M 248.732463 59.063867 \nL 251.257841 59.063867 \nL 251.257841 62.860906 \nL 248.732463 62.860906 \nz\n\" style=\"fill:none;stroke:#ff0000;stroke-linejoin:miter;stroke-width:0.1;\"/>\n   </g>\n   <g id=\"patch_5\">\n    <path clip-path=\"url(#pd0614139d3)\" d=\"M 65.539735 214.850259 \nL 65.673143 214.850259 \nL 65.673143 214.983667 \nL 65.539735 214.983667 \nz\n\" style=\"fill:none;stroke:#ff0000;stroke-linejoin:miter;stroke-width:0.1;\"/>\n   </g>\n   <g id=\"patch_6\">\n    <path clip-path=\"url(#pd0614139d3)\" d=\"M 226.413016 27.889165 \nL 238.081201 27.889165 \nL 238.081201 40.770326 \nL 226.413016 40.770326 \nz\n\" style=\"fill:none;stroke:#ff0000;stroke-linejoin:miter;stroke-width:0.1;\"/>\n   </g>\n   <g id=\"patch_7\">\n    <path clip-path=\"url(#pd0614139d3)\" d=\"M 49.768449 75.595136 \nL 52.336019 75.595136 \nL 52.336019 76.435993 \nL 49.768449 76.435993 \nz\n\" style=\"fill:none;stroke:#ff0000;stroke-linejoin:miter;stroke-width:0.1;\"/>\n   </g>\n   <g id=\"patch_8\">\n    <path clip-path=\"url(#pd0614139d3)\" d=\"M 126.274957 59.041413 \nL 128.558531 59.041413 \nL 128.558531 61.302608 \nL 126.274957 61.302608 \nz\n\" style=\"fill:none;stroke:#ff0000;stroke-linejoin:miter;stroke-width:0.1;\"/>\n   </g>\n   <g id=\"patch_9\">\n    <path clip-path=\"url(#pd0614139d3)\" d=\"M 244.357911 71.695859 \nL 245.388441 71.695859 \nL 245.388441 73.316538 \nL 244.357911 73.316538 \nz\n\" style=\"fill:none;stroke:#ff0000;stroke-linejoin:miter;stroke-width:0.1;\"/>\n   </g>\n   <g id=\"patch_10\">\n    <path clip-path=\"url(#pd0614139d3)\" d=\"M 101.582251 149.889148 \nL 103.260571 149.889148 \nL 103.260571 156.959637 \nL 101.582251 156.959637 \nz\n\" style=\"fill:none;stroke:#ff0000;stroke-linejoin:miter;stroke-width:0.1;\"/>\n   </g>\n   <g id=\"patch_11\">\n    <path clip-path=\"url(#pd0614139d3)\" d=\"M 130.080327 29.666894 \nL 133.086777 29.666894 \nL 133.086777 32.509746 \nL 130.080327 32.509746 \nz\n\" style=\"fill:none;stroke:#ff0000;stroke-linejoin:miter;stroke-width:0.1;\"/>\n   </g>\n   <g id=\"patch_12\">\n    <path clip-path=\"url(#pd0614139d3)\" d=\"M 126.646897 71.099472 \nL 128.222334 71.099472 \nL 128.222334 75.713351 \nL 126.646897 75.713351 \nz\n\" style=\"fill:none;stroke:#ff0000;stroke-linejoin:miter;stroke-width:0.1;\"/>\n   </g>\n   <g id=\"patch_13\">\n    <path clip-path=\"url(#pd0614139d3)\" d=\"M 144.357784 157.955493 \nL 149.497856 157.955493 \nL 149.497856 161.850768 \nL 144.357784 161.850768 \nz\n\" style=\"fill:none;stroke:#ff0000;stroke-linejoin:miter;stroke-width:0.1;\"/>\n   </g>\n   <g id=\"patch_14\">\n    <path clip-path=\"url(#pd0614139d3)\" d=\"M 168.493957 178.946711 \nL 172.135595 178.946711 \nL 172.135595 181.222781 \nL 168.493957 181.222781 \nz\n\" style=\"fill:none;stroke:#ff0000;stroke-linejoin:miter;stroke-width:0.1;\"/>\n   </g>\n   <g id=\"patch_15\">\n    <path clip-path=\"url(#pd0614139d3)\" d=\"M 137.763841 31.427366 \nL 140.288919 31.427366 \nL 140.288919 32.559568 \nL 137.763841 32.559568 \nz\n\" style=\"fill:none;stroke:#ff0000;stroke-linejoin:miter;stroke-width:0.1;\"/>\n   </g>\n   <g id=\"patch_16\">\n    <path clip-path=\"url(#pd0614139d3)\" d=\"M 147.836147 132.893401 \nL 152.791921 132.893401 \nL 152.791921 134.988939 \nL 147.836147 134.988939 \nz\n\" style=\"fill:none;stroke:#ff0000;stroke-linejoin:miter;stroke-width:0.1;\"/>\n   </g>\n   <g id=\"patch_17\">\n    <path clip-path=\"url(#pd0614139d3)\" d=\"M 112.608968 97.172255 \nL 113.080231 97.172255 \nL 113.080231 98.114617 \nL 112.608968 98.114617 \nz\n\" style=\"fill:none;stroke:#ff0000;stroke-linejoin:miter;stroke-width:0.1;\"/>\n   </g>\n   <g id=\"patch_18\">\n    <path clip-path=\"url(#pd0614139d3)\" d=\"M 107.097452 21.162049 \nL 108.519771 21.162049 \nL 108.519771 22.012529 \nL 107.097452 22.012529 \nz\n\" style=\"fill:none;stroke:#ff0000;stroke-linejoin:miter;stroke-width:0.1;\"/>\n   </g>\n   <g id=\"patch_19\">\n    <path clip-path=\"url(#pd0614139d3)\" d=\"M 185.478512 73.394371 \nL 186.960228 73.394371 \nL 186.960228 74.766695 \nL 185.478512 74.766695 \nz\n\" style=\"fill:none;stroke:#ff0000;stroke-linejoin:miter;stroke-width:0.1;\"/>\n   </g>\n   <g id=\"patch_20\">\n    <path clip-path=\"url(#pd0614139d3)\" d=\"M 113.973085 189.083311 \nL 114.631495 189.083311 \nL 114.631495 190.30421 \nL 113.973085 190.30421 \nz\n\" style=\"fill:none;stroke:#ff0000;stroke-linejoin:miter;stroke-width:0.1;\"/>\n   </g>\n   <g id=\"patch_21\">\n    <path clip-path=\"url(#pd0614139d3)\" d=\"M 140.900963 116.469145 \nL 142.607757 116.469145 \nL 142.607757 117.878293 \nL 140.900963 117.878293 \nz\n\" style=\"fill:none;stroke:#ff0000;stroke-linejoin:miter;stroke-width:0.1;\"/>\n   </g>\n   <g id=\"patch_22\">\n    <path clip-path=\"url(#pd0614139d3)\" d=\"M 203.585255 20.261192 \nL 204.95091 20.261192 \nL 204.95091 20.756277 \nL 203.585255 20.756277 \nz\n\" style=\"fill:none;stroke:#ff0000;stroke-linejoin:miter;stroke-width:0.1;\"/>\n   </g>\n   <g id=\"patch_23\">\n    <path clip-path=\"url(#pd0614139d3)\" d=\"M 193.271627 60.854389 \nL 193.975492 60.854389 \nL 193.975492 62.143271 \nL 193.271627 62.143271 \nz\n\" style=\"fill:none;stroke:#ff0000;stroke-linejoin:miter;stroke-width:0.1;\"/>\n   </g>\n   <g id=\"patch_24\">\n    <path clip-path=\"url(#pd0614139d3)\" d=\"M 153.09595 14.876604 \nL 153.90522 14.876604 \nL 153.90522 16.812818 \nL 153.09595 16.812818 \nz\n\" style=\"fill:none;stroke:#ff0000;stroke-linejoin:miter;stroke-width:0.1;\"/>\n   </g>\n   <g id=\"patch_25\">\n    <path clip-path=\"url(#pd0614139d3)\" d=\"M 209.586037 120.544835 \nL 210.506067 120.544835 \nL 210.506067 122.077293 \nL 209.586037 122.077293 \nz\n\" style=\"fill:none;stroke:#ff0000;stroke-linejoin:miter;stroke-width:0.1;\"/>\n   </g>\n   <g id=\"patch_26\">\n    <path clip-path=\"url(#pd0614139d3)\" d=\"M 205.653506 36.088885 \nL 206.877138 36.088885 \nL 206.877138 37.111634 \nL 205.653506 37.111634 \nz\n\" style=\"fill:none;stroke:#ff0000;stroke-linejoin:miter;stroke-width:0.1;\"/>\n   </g>\n   <g id=\"patch_27\">\n    <path clip-path=\"url(#pd0614139d3)\" d=\"M 176.408411 103.471597 \nL 177.788535 103.471597 \nL 177.788535 103.986943 \nL 176.408411 103.986943 \nz\n\" style=\"fill:none;stroke:#ff0000;stroke-linejoin:miter;stroke-width:0.1;\"/>\n   </g>\n   <g id=\"patch_28\">\n    <path clip-path=\"url(#pd0614139d3)\" d=\"M 142.869094 108.579332 \nL 143.620963 108.579332 \nL 143.620963 109.954842 \nL 142.869094 109.954842 \nz\n\" style=\"fill:none;stroke:#ff0000;stroke-linejoin:miter;stroke-width:0.1;\"/>\n   </g>\n   <g id=\"patch_29\">\n    <path clip-path=\"url(#pd0614139d3)\" d=\"M 77.333072 165.997251 \nL 79.592618 165.997251 \nL 79.592618 170.42588 \nL 77.333072 170.42588 \nz\n\" style=\"fill:none;stroke:#ff0000;stroke-linejoin:miter;stroke-width:0.1;\"/>\n   </g>\n   <g id=\"patch_30\">\n    <path clip-path=\"url(#pd0614139d3)\" d=\"M 99.604081 159.644415 \nL 100.082188 159.644415 \nL 100.082188 160.558755 \nL 99.604081 160.558755 \nz\n\" style=\"fill:none;stroke:#ff0000;stroke-linejoin:miter;stroke-width:0.1;\"/>\n   </g>\n   <g id=\"patch_31\">\n    <path clip-path=\"url(#pd0614139d3)\" d=\"M 153.720583 211.902955 \nL 154.274962 211.902955 \nL 154.274962 212.358865 \nL 153.720583 212.358865 \nz\n\" style=\"fill:none;stroke:#ff0000;stroke-linejoin:miter;stroke-width:0.1;\"/>\n   </g>\n   <g id=\"patch_32\">\n    <path clip-path=\"url(#pd0614139d3)\" d=\"M 171.405694 204.855489 \nL 171.719243 204.855489 \nL 171.719243 206.34763 \nL 171.405694 206.34763 \nz\n\" style=\"fill:none;stroke:#ff0000;stroke-linejoin:miter;stroke-width:0.1;\"/>\n   </g>\n   <g id=\"patch_33\">\n    <path clip-path=\"url(#pd0614139d3)\" d=\"M 177.521983 137.660579 \nL 179.224979 137.660579 \nL 179.224979 138.887356 \nL 177.521983 138.887356 \nz\n\" style=\"fill:none;stroke:#ff0000;stroke-linejoin:miter;stroke-width:0.1;\"/>\n   </g>\n   <g id=\"patch_34\">\n    <path clip-path=\"url(#pd0614139d3)\" d=\"M 217.358042 92.951641 \nL 220.000235 92.951641 \nL 220.000235 94.182476 \nL 217.358042 94.182476 \nz\n\" style=\"fill:none;stroke:#ff0000;stroke-linejoin:miter;stroke-width:0.1;\"/>\n   </g>\n   <g id=\"patch_35\">\n    <path clip-path=\"url(#pd0614139d3)\" d=\"M 203.231824 129.088997 \nL 206.21586 129.088997 \nL 206.21586 130.886811 \nL 203.231824 130.886811 \nz\n\" style=\"fill:none;stroke:#ff0000;stroke-linejoin:miter;stroke-width:0.1;\"/>\n   </g>\n   <g id=\"patch_36\">\n    <path clip-path=\"url(#pd0614139d3)\" d=\"M 56.857796 119.631606 \nL 57.179257 119.631606 \nL 57.179257 120.33988 \nL 56.857796 120.33988 \nz\n\" style=\"fill:none;stroke:#ff0000;stroke-linejoin:miter;stroke-width:0.1;\"/>\n   </g>\n   <g id=\"patch_37\">\n    <path clip-path=\"url(#pd0614139d3)\" d=\"M 120.939496 212.302813 \nL 122.262594 212.302813 \nL 122.262594 212.888664 \nL 120.939496 212.888664 \nz\n\" style=\"fill:none;stroke:#ff0000;stroke-linejoin:miter;stroke-width:0.1;\"/>\n   </g>\n   <g id=\"patch_38\">\n    <path clip-path=\"url(#pd0614139d3)\" d=\"M 152.055244 42.117458 \nL 152.876171 42.117458 \nL 152.876171 44.07611 \nL 152.055244 44.07611 \nz\n\" style=\"fill:none;stroke:#ff0000;stroke-linejoin:miter;stroke-width:0.1;\"/>\n   </g>\n   <g id=\"patch_39\">\n    <path clip-path=\"url(#pd0614139d3)\" d=\"M 159.826539 199.98298 \nL 160.34645 199.98298 \nL 160.34645 200.367648 \nL 159.826539 200.367648 \nz\n\" style=\"fill:none;stroke:#ff0000;stroke-linejoin:miter;stroke-width:0.1;\"/>\n   </g>\n   <g id=\"patch_40\">\n    <path clip-path=\"url(#pd0614139d3)\" d=\"M 106.489266 104.981543 \nL 108.271031 104.981543 \nL 108.271031 105.587502 \nL 106.489266 105.587502 \nz\n\" style=\"fill:none;stroke:#ff0000;stroke-linejoin:miter;stroke-width:0.1;\"/>\n   </g>\n   <g id=\"patch_41\">\n    <path clip-path=\"url(#pd0614139d3)\" d=\"M 120.585406 175.67772 \nL 121.062939 175.67772 \nL 121.062939 176.953368 \nL 120.585406 176.953368 \nz\n\" style=\"fill:none;stroke:#ff0000;stroke-linejoin:miter;stroke-width:0.1;\"/>\n   </g>\n   <g id=\"patch_42\">\n    <path clip-path=\"url(#pd0614139d3)\" d=\"M 108.295731 209.862105 \nL 110.711521 209.862105 \nL 110.711521 210.866658 \nL 108.295731 210.866658 \nz\n\" style=\"fill:none;stroke:#ff0000;stroke-linejoin:miter;stroke-width:0.1;\"/>\n   </g>\n   <g id=\"patch_43\">\n    <path clip-path=\"url(#pd0614139d3)\" d=\"M 180.088631 202.539703 \nL 180.522916 202.539703 \nL 180.522916 204.280022 \nL 180.088631 204.280022 \nz\n\" style=\"fill:none;stroke:#ff0000;stroke-linejoin:miter;stroke-width:0.1;\"/>\n   </g>\n   <g id=\"patch_44\">\n    <path clip-path=\"url(#pd0614139d3)\" d=\"M 61.636198 169.308912 \nL 62.420149 169.308912 \nL 62.420149 169.571332 \nL 61.636198 169.571332 \nz\n\" style=\"fill:none;stroke:#ff0000;stroke-linejoin:miter;stroke-width:0.1;\"/>\n   </g>\n   <g id=\"patch_45\">\n    <path clip-path=\"url(#pd0614139d3)\" d=\"M 109.969917 92.950466 \nL 111.536481 92.950466 \nL 111.536481 93.609407 \nL 109.969917 93.609407 \nz\n\" style=\"fill:none;stroke:#ff0000;stroke-linejoin:miter;stroke-width:0.1;\"/>\n   </g>\n   <g id=\"patch_46\">\n    <path clip-path=\"url(#pd0614139d3)\" d=\"M 68.086937 16.853481 \nL 69.067815 16.853481 \nL 69.067815 17.371194 \nL 68.086937 17.371194 \nz\n\" style=\"fill:none;stroke:#ff0000;stroke-linejoin:miter;stroke-width:0.1;\"/>\n   </g>\n   <g id=\"patch_47\">\n    <path clip-path=\"url(#pd0614139d3)\" d=\"M 86.677093 41.585143 \nL 87.97058 41.585143 \nL 87.97058 42.084086 \nL 86.677093 42.084086 \nz\n\" style=\"fill:none;stroke:#ff0000;stroke-linejoin:miter;stroke-width:0.1;\"/>\n   </g>\n   <g id=\"patch_48\">\n    <path clip-path=\"url(#pd0614139d3)\" d=\"M 107.393805 92.303588 \nL 109.613384 92.303588 \nL 109.613384 94.111052 \nL 107.393805 94.111052 \nz\n\" style=\"fill:none;stroke:#ff0000;stroke-linejoin:miter;stroke-width:0.1;\"/>\n   </g>\n   <g id=\"patch_49\">\n    <path clip-path=\"url(#pd0614139d3)\" d=\"M 110.285376 38.642825 \nL 110.639009 38.642825 \nL 110.639009 39.197334 \nL 110.285376 39.197334 \nz\n\" style=\"fill:none;stroke:#ff0000;stroke-linejoin:miter;stroke-width:0.1;\"/>\n   </g>\n   <g id=\"patch_50\">\n    <path clip-path=\"url(#pd0614139d3)\" d=\"M 239.571045 96.486627 \nL 240.054459 96.486627 \nL 240.054459 96.855789 \nL 239.571045 96.855789 \nz\n\" style=\"fill:none;stroke:#ff0000;stroke-linejoin:miter;stroke-width:0.1;\"/>\n   </g>\n   <g id=\"patch_51\">\n    <path clip-path=\"url(#pd0614139d3)\" d=\"M 225.46344 118.320785 \nL 225.989511 118.320785 \nL 225.989511 119.561399 \nL 225.46344 119.561399 \nz\n\" style=\"fill:none;stroke:#ff0000;stroke-linejoin:miter;stroke-width:0.1;\"/>\n   </g>\n   <g id=\"patch_52\">\n    <path clip-path=\"url(#pd0614139d3)\" d=\"M 115.584911 24.287397 \nL 119.264696 24.287397 \nL 119.264696 26.073192 \nL 115.584911 26.073192 \nz\n\" style=\"fill:none;stroke:#ff0000;stroke-linejoin:miter;stroke-width:0.1;\"/>\n   </g>\n   <g id=\"patch_53\">\n    <path clip-path=\"url(#pd0614139d3)\" d=\"M 174.419911 81.866021 \nL 175.481145 81.866021 \nL 175.481145 82.344798 \nL 174.419911 82.344798 \nz\n\" style=\"fill:none;stroke:#ff0000;stroke-linejoin:miter;stroke-width:0.1;\"/>\n   </g>\n   <g id=\"patch_54\">\n    <path clip-path=\"url(#pd0614139d3)\" d=\"M 180.132454 188.894403 \nL 180.684321 188.894403 \nL 180.684321 189.190571 \nL 180.132454 189.190571 \nz\n\" style=\"fill:none;stroke:#ff0000;stroke-linejoin:miter;stroke-width:0.1;\"/>\n   </g>\n   <g id=\"patch_55\">\n    <path clip-path=\"url(#pd0614139d3)\" d=\"M 39.549474 80.382648 \nL 40.220774 80.382648 \nL 40.220774 80.953278 \nL 39.549474 80.953278 \nz\n\" style=\"fill:none;stroke:#ff0000;stroke-linejoin:miter;stroke-width:0.1;\"/>\n   </g>\n   <g id=\"patch_56\">\n    <path clip-path=\"url(#pd0614139d3)\" d=\"M 41.243056 41.24637 \nL 42.467113 41.24637 \nL 42.467113 42.828733 \nL 41.243056 42.828733 \nz\n\" style=\"fill:none;stroke:#ff0000;stroke-linejoin:miter;stroke-width:0.1;\"/>\n   </g>\n   <g id=\"patch_57\">\n    <path clip-path=\"url(#pd0614139d3)\" d=\"M 214.230484 59.163826 \nL 215.059691 59.163826 \nL 215.059691 59.674646 \nL 214.230484 59.674646 \nz\n\" style=\"fill:none;stroke:#ff0000;stroke-linejoin:miter;stroke-width:0.1;\"/>\n   </g>\n   <g id=\"patch_58\">\n    <path clip-path=\"url(#pd0614139d3)\" d=\"M 245.550949 186.280006 \nL 246.182287 186.280006 \nL 246.182287 186.514131 \nL 245.550949 186.514131 \nz\n\" style=\"fill:none;stroke:#ff0000;stroke-linejoin:miter;stroke-width:0.1;\"/>\n   </g>\n   <g id=\"patch_59\">\n    <path clip-path=\"url(#pd0614139d3)\" d=\"M 144.985972 140.658532 \nL 147.159643 140.658532 \nL 147.159643 141.445115 \nL 144.985972 141.445115 \nz\n\" style=\"fill:none;stroke:#ff0000;stroke-linejoin:miter;stroke-width:0.1;\"/>\n   </g>\n   <g id=\"patch_60\">\n    <path clip-path=\"url(#pd0614139d3)\" d=\"M 63.464584 212.025922 \nL 65.644622 212.025922 \nL 65.644622 215.156188 \nL 63.464584 215.156188 \nz\n\" style=\"fill:none;stroke:#ff0000;stroke-linejoin:miter;stroke-width:0.1;\"/>\n   </g>\n   <g id=\"patch_61\">\n    <path clip-path=\"url(#pd0614139d3)\" d=\"M 64.834839 24.742415 \nL 65.027741 24.742415 \nL 65.027741 25.512679 \nL 64.834839 25.512679 \nz\n\" style=\"fill:none;stroke:#ff0000;stroke-linejoin:miter;stroke-width:0.1;\"/>\n   </g>\n   <g id=\"patch_62\">\n    <path clip-path=\"url(#pd0614139d3)\" d=\"M 73.288712 53.805585 \nL 75.06416 53.805585 \nL 75.06416 54.20933 \nL 73.288712 54.20933 \nz\n\" style=\"fill:none;stroke:#ff0000;stroke-linejoin:miter;stroke-width:0.1;\"/>\n   </g>\n   <g id=\"patch_63\">\n    <path clip-path=\"url(#pd0614139d3)\" d=\"M 72.811776 184.134327 \nL 73.217077 184.134327 \nL 73.217077 184.904138 \nL 72.811776 184.904138 \nz\n\" style=\"fill:none;stroke:#ff0000;stroke-linejoin:miter;stroke-width:0.1;\"/>\n   </g>\n   <g id=\"patch_64\">\n    <path clip-path=\"url(#pd0614139d3)\" d=\"M 161.023354 69.259241 \nL 161.959534 69.259241 \nL 161.959534 70.068109 \nL 161.023354 70.068109 \nz\n\" style=\"fill:none;stroke:#ff0000;stroke-linejoin:miter;stroke-width:0.1;\"/>\n   </g>\n   <g id=\"patch_65\">\n    <path clip-path=\"url(#pd0614139d3)\" d=\"M 72.361193 75.360697 \nL 73.458638 75.360697 \nL 73.458638 75.756247 \nL 72.361193 75.756247 \nz\n\" style=\"fill:none;stroke:#ff0000;stroke-linejoin:miter;stroke-width:0.1;\"/>\n   </g>\n   <g id=\"patch_66\">\n    <path clip-path=\"url(#pd0614139d3)\" d=\"M 159.789943 163.221064 \nL 160.748436 163.221064 \nL 160.748436 164.955064 \nL 159.789943 164.955064 \nz\n\" style=\"fill:none;stroke:#ff0000;stroke-linejoin:miter;stroke-width:0.1;\"/>\n   </g>\n   <g id=\"patch_67\">\n    <path clip-path=\"url(#pd0614139d3)\" d=\"M 39.45804 37.144439 \nL 39.984497 37.144439 \nL 39.984497 37.818408 \nL 39.45804 37.818408 \nz\n\" style=\"fill:none;stroke:#ff0000;stroke-linejoin:miter;stroke-width:0.1;\"/>\n   </g>\n   <g id=\"patch_68\">\n    <path clip-path=\"url(#pd0614139d3)\" d=\"M 71.811722 52.201236 \nL 72.629533 52.201236 \nL 72.629533 52.993008 \nL 71.811722 52.993008 \nz\n\" style=\"fill:none;stroke:#ff0000;stroke-linejoin:miter;stroke-width:0.1;\"/>\n   </g>\n   <g id=\"patch_69\">\n    <path clip-path=\"url(#pd0614139d3)\" d=\"M 177.39679 216.701121 \nL 177.745565 216.701121 \nL 177.745565 216.803057 \nL 177.39679 216.803057 \nz\n\" style=\"fill:none;stroke:#ff0000;stroke-linejoin:miter;stroke-width:0.1;\"/>\n   </g>\n   <g id=\"patch_70\">\n    <path clip-path=\"url(#pd0614139d3)\" d=\"M 235.148355 133.392714 \nL 235.911827 133.392714 \nL 235.911827 133.688337 \nL 235.148355 133.688337 \nz\n\" style=\"fill:none;stroke:#ff0000;stroke-linejoin:miter;stroke-width:0.1;\"/>\n   </g>\n   <g id=\"matplotlib.axis_1\">\n    <g id=\"xtick_1\">\n     <g id=\"line2d_1\">\n      <defs>\n       <path d=\"M 0 0 \nL 0 3.5 \n\" id=\"medf5ebd246\" style=\"stroke:#000000;stroke-width:0.8;\"/>\n      </defs>\n      <g>\n       <use style=\"stroke:#000000;stroke-width:0.8;\" x=\"33.817841\" xlink:href=\"#medf5ebd246\" y=\"227.908877\"/>\n      </g>\n     </g>\n     <g id=\"text_1\">\n      <!-- 0 -->\n      <g transform=\"translate(30.636591 242.507315)scale(0.1 -0.1)\">\n       <defs>\n        <path d=\"M 31.78125 66.40625 \nQ 24.171875 66.40625 20.328125 58.90625 \nQ 16.5 51.421875 16.5 36.375 \nQ 16.5 21.390625 20.328125 13.890625 \nQ 24.171875 6.390625 31.78125 6.390625 \nQ 39.453125 6.390625 43.28125 13.890625 \nQ 47.125 21.390625 47.125 36.375 \nQ 47.125 51.421875 43.28125 58.90625 \nQ 39.453125 66.40625 31.78125 66.40625 \nz\nM 31.78125 74.21875 \nQ 44.046875 74.21875 50.515625 64.515625 \nQ 56.984375 54.828125 56.984375 36.375 \nQ 56.984375 17.96875 50.515625 8.265625 \nQ 44.046875 -1.421875 31.78125 -1.421875 \nQ 19.53125 -1.421875 13.0625 8.265625 \nQ 6.59375 17.96875 6.59375 36.375 \nQ 6.59375 54.828125 13.0625 64.515625 \nQ 19.53125 74.21875 31.78125 74.21875 \nz\n\" id=\"DejaVuSans-48\"/>\n       </defs>\n       <use xlink:href=\"#DejaVuSans-48\"/>\n      </g>\n     </g>\n    </g>\n    <g id=\"xtick_2\">\n     <g id=\"line2d_2\">\n      <g>\n       <use style=\"stroke:#000000;stroke-width:0.8;\" x=\"86.851988\" xlink:href=\"#medf5ebd246\" y=\"227.908877\"/>\n      </g>\n     </g>\n     <g id=\"text_2\">\n      <!-- 50 -->\n      <g transform=\"translate(80.489488 242.507315)scale(0.1 -0.1)\">\n       <defs>\n        <path d=\"M 10.796875 72.90625 \nL 49.515625 72.90625 \nL 49.515625 64.59375 \nL 19.828125 64.59375 \nL 19.828125 46.734375 \nQ 21.96875 47.46875 24.109375 47.828125 \nQ 26.265625 48.1875 28.421875 48.1875 \nQ 40.625 48.1875 47.75 41.5 \nQ 54.890625 34.8125 54.890625 23.390625 \nQ 54.890625 11.625 47.5625 5.09375 \nQ 40.234375 -1.421875 26.90625 -1.421875 \nQ 22.3125 -1.421875 17.546875 -0.640625 \nQ 12.796875 0.140625 7.71875 1.703125 \nL 7.71875 11.625 \nQ 12.109375 9.234375 16.796875 8.0625 \nQ 21.484375 6.890625 26.703125 6.890625 \nQ 35.15625 6.890625 40.078125 11.328125 \nQ 45.015625 15.765625 45.015625 23.390625 \nQ 45.015625 31 40.078125 35.4375 \nQ 35.15625 39.890625 26.703125 39.890625 \nQ 22.75 39.890625 18.8125 39.015625 \nQ 14.890625 38.140625 10.796875 36.28125 \nz\n\" id=\"DejaVuSans-53\"/>\n       </defs>\n       <use xlink:href=\"#DejaVuSans-53\"/>\n       <use x=\"63.623047\" xlink:href=\"#DejaVuSans-48\"/>\n      </g>\n     </g>\n    </g>\n    <g id=\"xtick_3\">\n     <g id=\"line2d_3\">\n      <g>\n       <use style=\"stroke:#000000;stroke-width:0.8;\" x=\"139.886134\" xlink:href=\"#medf5ebd246\" y=\"227.908877\"/>\n      </g>\n     </g>\n     <g id=\"text_3\">\n      <!-- 100 -->\n      <g transform=\"translate(130.342384 242.507315)scale(0.1 -0.1)\">\n       <defs>\n        <path d=\"M 12.40625 8.296875 \nL 28.515625 8.296875 \nL 28.515625 63.921875 \nL 10.984375 60.40625 \nL 10.984375 69.390625 \nL 28.421875 72.90625 \nL 38.28125 72.90625 \nL 38.28125 8.296875 \nL 54.390625 8.296875 \nL 54.390625 0 \nL 12.40625 0 \nz\n\" id=\"DejaVuSans-49\"/>\n       </defs>\n       <use xlink:href=\"#DejaVuSans-49\"/>\n       <use x=\"63.623047\" xlink:href=\"#DejaVuSans-48\"/>\n       <use x=\"127.246094\" xlink:href=\"#DejaVuSans-48\"/>\n      </g>\n     </g>\n    </g>\n    <g id=\"xtick_4\">\n     <g id=\"line2d_4\">\n      <g>\n       <use style=\"stroke:#000000;stroke-width:0.8;\" x=\"192.92028\" xlink:href=\"#medf5ebd246\" y=\"227.908877\"/>\n      </g>\n     </g>\n     <g id=\"text_4\">\n      <!-- 150 -->\n      <g transform=\"translate(183.37653 242.507315)scale(0.1 -0.1)\">\n       <use xlink:href=\"#DejaVuSans-49\"/>\n       <use x=\"63.623047\" xlink:href=\"#DejaVuSans-53\"/>\n       <use x=\"127.246094\" xlink:href=\"#DejaVuSans-48\"/>\n      </g>\n     </g>\n    </g>\n    <g id=\"xtick_5\">\n     <g id=\"line2d_5\">\n      <g>\n       <use style=\"stroke:#000000;stroke-width:0.8;\" x=\"245.954427\" xlink:href=\"#medf5ebd246\" y=\"227.908877\"/>\n      </g>\n     </g>\n     <g id=\"text_5\">\n      <!-- 200 -->\n      <g transform=\"translate(236.410677 242.507315)scale(0.1 -0.1)\">\n       <defs>\n        <path d=\"M 19.1875 8.296875 \nL 53.609375 8.296875 \nL 53.609375 0 \nL 7.328125 0 \nL 7.328125 8.296875 \nQ 12.9375 14.109375 22.625 23.890625 \nQ 32.328125 33.6875 34.8125 36.53125 \nQ 39.546875 41.84375 41.421875 45.53125 \nQ 43.3125 49.21875 43.3125 52.78125 \nQ 43.3125 58.59375 39.234375 62.25 \nQ 35.15625 65.921875 28.609375 65.921875 \nQ 23.96875 65.921875 18.8125 64.3125 \nQ 13.671875 62.703125 7.8125 59.421875 \nL 7.8125 69.390625 \nQ 13.765625 71.78125 18.9375 73 \nQ 24.125 74.21875 28.421875 74.21875 \nQ 39.75 74.21875 46.484375 68.546875 \nQ 53.21875 62.890625 53.21875 53.421875 \nQ 53.21875 48.921875 51.53125 44.890625 \nQ 49.859375 40.875 45.40625 35.40625 \nQ 44.1875 33.984375 37.640625 27.21875 \nQ 31.109375 20.453125 19.1875 8.296875 \nz\n\" id=\"DejaVuSans-50\"/>\n       </defs>\n       <use xlink:href=\"#DejaVuSans-50\"/>\n       <use x=\"63.623047\" xlink:href=\"#DejaVuSans-48\"/>\n       <use x=\"127.246094\" xlink:href=\"#DejaVuSans-48\"/>\n      </g>\n     </g>\n    </g>\n   </g>\n   <g id=\"matplotlib.axis_2\">\n    <g id=\"ytick_1\">\n     <g id=\"line2d_6\">\n      <defs>\n       <path d=\"M 0 0 \nL -3.5 0 \n\" id=\"m01b25ee8c1\" style=\"stroke:#000000;stroke-width:0.8;\"/>\n      </defs>\n      <g>\n       <use style=\"stroke:#000000;stroke-width:0.8;\" x=\"33.2875\" xlink:href=\"#m01b25ee8c1\" y=\"10.999219\"/>\n      </g>\n     </g>\n     <g id=\"text_6\">\n      <!-- 0 -->\n      <g transform=\"translate(19.925 14.798438)scale(0.1 -0.1)\">\n       <use xlink:href=\"#DejaVuSans-48\"/>\n      </g>\n     </g>\n    </g>\n    <g id=\"ytick_2\">\n     <g id=\"line2d_7\">\n      <g>\n       <use style=\"stroke:#000000;stroke-width:0.8;\" x=\"33.2875\" xlink:href=\"#m01b25ee8c1\" y=\"37.516292\"/>\n      </g>\n     </g>\n     <g id=\"text_7\">\n      <!-- 25 -->\n      <g transform=\"translate(13.5625 41.315511)scale(0.1 -0.1)\">\n       <use xlink:href=\"#DejaVuSans-50\"/>\n       <use x=\"63.623047\" xlink:href=\"#DejaVuSans-53\"/>\n      </g>\n     </g>\n    </g>\n    <g id=\"ytick_3\">\n     <g id=\"line2d_8\">\n      <g>\n       <use style=\"stroke:#000000;stroke-width:0.8;\" x=\"33.2875\" xlink:href=\"#m01b25ee8c1\" y=\"64.033365\"/>\n      </g>\n     </g>\n     <g id=\"text_8\">\n      <!-- 50 -->\n      <g transform=\"translate(13.5625 67.832584)scale(0.1 -0.1)\">\n       <use xlink:href=\"#DejaVuSans-53\"/>\n       <use x=\"63.623047\" xlink:href=\"#DejaVuSans-48\"/>\n      </g>\n     </g>\n    </g>\n    <g id=\"ytick_4\">\n     <g id=\"line2d_9\">\n      <g>\n       <use style=\"stroke:#000000;stroke-width:0.8;\" x=\"33.2875\" xlink:href=\"#m01b25ee8c1\" y=\"90.550438\"/>\n      </g>\n     </g>\n     <g id=\"text_9\">\n      <!-- 75 -->\n      <g transform=\"translate(13.5625 94.349657)scale(0.1 -0.1)\">\n       <defs>\n        <path d=\"M 8.203125 72.90625 \nL 55.078125 72.90625 \nL 55.078125 68.703125 \nL 28.609375 0 \nL 18.3125 0 \nL 43.21875 64.59375 \nL 8.203125 64.59375 \nz\n\" id=\"DejaVuSans-55\"/>\n       </defs>\n       <use xlink:href=\"#DejaVuSans-55\"/>\n       <use x=\"63.623047\" xlink:href=\"#DejaVuSans-53\"/>\n      </g>\n     </g>\n    </g>\n    <g id=\"ytick_5\">\n     <g id=\"line2d_10\">\n      <g>\n       <use style=\"stroke:#000000;stroke-width:0.8;\" x=\"33.2875\" xlink:href=\"#m01b25ee8c1\" y=\"117.067511\"/>\n      </g>\n     </g>\n     <g id=\"text_10\">\n      <!-- 100 -->\n      <g transform=\"translate(7.2 120.86673)scale(0.1 -0.1)\">\n       <use xlink:href=\"#DejaVuSans-49\"/>\n       <use x=\"63.623047\" xlink:href=\"#DejaVuSans-48\"/>\n       <use x=\"127.246094\" xlink:href=\"#DejaVuSans-48\"/>\n      </g>\n     </g>\n    </g>\n    <g id=\"ytick_6\">\n     <g id=\"line2d_11\">\n      <g>\n       <use style=\"stroke:#000000;stroke-width:0.8;\" x=\"33.2875\" xlink:href=\"#m01b25ee8c1\" y=\"143.584585\"/>\n      </g>\n     </g>\n     <g id=\"text_11\">\n      <!-- 125 -->\n      <g transform=\"translate(7.2 147.383803)scale(0.1 -0.1)\">\n       <use xlink:href=\"#DejaVuSans-49\"/>\n       <use x=\"63.623047\" xlink:href=\"#DejaVuSans-50\"/>\n       <use x=\"127.246094\" xlink:href=\"#DejaVuSans-53\"/>\n      </g>\n     </g>\n    </g>\n    <g id=\"ytick_7\">\n     <g id=\"line2d_12\">\n      <g>\n       <use style=\"stroke:#000000;stroke-width:0.8;\" x=\"33.2875\" xlink:href=\"#m01b25ee8c1\" y=\"170.101658\"/>\n      </g>\n     </g>\n     <g id=\"text_12\">\n      <!-- 150 -->\n      <g transform=\"translate(7.2 173.900877)scale(0.1 -0.1)\">\n       <use xlink:href=\"#DejaVuSans-49\"/>\n       <use x=\"63.623047\" xlink:href=\"#DejaVuSans-53\"/>\n       <use x=\"127.246094\" xlink:href=\"#DejaVuSans-48\"/>\n      </g>\n     </g>\n    </g>\n    <g id=\"ytick_8\">\n     <g id=\"line2d_13\">\n      <g>\n       <use style=\"stroke:#000000;stroke-width:0.8;\" x=\"33.2875\" xlink:href=\"#m01b25ee8c1\" y=\"196.618731\"/>\n      </g>\n     </g>\n     <g id=\"text_13\">\n      <!-- 175 -->\n      <g transform=\"translate(7.2 200.41795)scale(0.1 -0.1)\">\n       <use xlink:href=\"#DejaVuSans-49\"/>\n       <use x=\"63.623047\" xlink:href=\"#DejaVuSans-55\"/>\n       <use x=\"127.246094\" xlink:href=\"#DejaVuSans-53\"/>\n      </g>\n     </g>\n    </g>\n    <g id=\"ytick_9\">\n     <g id=\"line2d_14\">\n      <g>\n       <use style=\"stroke:#000000;stroke-width:0.8;\" x=\"33.2875\" xlink:href=\"#m01b25ee8c1\" y=\"223.135804\"/>\n      </g>\n     </g>\n     <g id=\"text_14\">\n      <!-- 200 -->\n      <g transform=\"translate(7.2 226.935023)scale(0.1 -0.1)\">\n       <use xlink:href=\"#DejaVuSans-50\"/>\n       <use x=\"63.623047\" xlink:href=\"#DejaVuSans-48\"/>\n       <use x=\"127.246094\" xlink:href=\"#DejaVuSans-48\"/>\n      </g>\n     </g>\n    </g>\n   </g>\n   <g id=\"patch_71\">\n    <path d=\"M 33.2875 227.908877 \nL 33.2875 10.468877 \n\" style=\"fill:none;stroke:#000000;stroke-linecap:square;stroke-linejoin:miter;stroke-width:0.8;\"/>\n   </g>\n   <g id=\"patch_72\">\n    <path d=\"M 250.7275 227.908877 \nL 250.7275 10.468877 \n\" style=\"fill:none;stroke:#000000;stroke-linecap:square;stroke-linejoin:miter;stroke-width:0.8;\"/>\n   </g>\n   <g id=\"patch_73\">\n    <path d=\"M 33.2875 227.908877 \nL 250.7275 227.908877 \n\" style=\"fill:none;stroke:#000000;stroke-linecap:square;stroke-linejoin:miter;stroke-width:0.8;\"/>\n   </g>\n   <g id=\"patch_74\">\n    <path d=\"M 33.2875 10.468877 \nL 250.7275 10.468877 \n\" style=\"fill:none;stroke:#000000;stroke-linecap:square;stroke-linejoin:miter;stroke-width:0.8;\"/>\n   </g>\n  </g>\n </g>\n <defs>\n  <clipPath id=\"pd0614139d3\">\n   <rect height=\"217.44\" width=\"217.44\" x=\"33.2875\" y=\"10.468877\"/>\n  </clipPath>\n </defs>\n</svg>\n",
            "image/png": "[encoded data removed]"
          },
          "metadata": {
            "needs_background": "light"
          }
        }
      ],
      "source": [
        "print_img(img_aug, imgData_aug)"
      ]
    },
    {
      "cell_type": "code",
      "execution_count": 42,
      "metadata": {},
      "outputs": [
        {
          "output_type": "stream",
          "name": "stdout",
          "text": [
            "/Users/lorenzocellini/AI - Universit…/Deep Learning - Andre Asperti/SKA_project/SKADC1/data/training/patches\n['0_1638016380_205', '205_1658516585_205', '410_1679016790_205', '615_1699516995_205', '820_1720017200_205', '1025_1740517405_205', '1230_1761017610_205', '1435_1781517815_205', '1640_1802018020_205', '1845_1822518225_205', '2050_1843018430_205']\n"
          ]
        }
      ],
      "source": [
        "print(path)\n",
        "print(patch_list)"
      ]
    },
    {
      "cell_type": "code",
      "execution_count": 99,
      "metadata": {},
      "outputs": [],
      "source": [
        "datagen = prep.get_anchor_gt(path, patch_list)"
      ]
    },
    {
      "cell_type": "code",
      "execution_count": 106,
      "metadata": {
        "tags": []
      },
      "outputs": [
        {
          "output_type": "stream",
          "name": "stdout",
          "text": [
            "1025_1740517405_205\n",
            "centrato\n",
            "x_img = \n",
            "(205, 205)\n",
            "x_img = \n",
            "(1, 205, 205, 1)\n",
            "y_rpn_cls = \n",
            "(1, 12, 12, 60)\n",
            "y_rpn_regr = \n",
            "(1, 12, 12, 240)\n"
          ]
        }
      ],
      "source": [
        "a = next(datagen)"
      ]
    },
    {
      "source": [
        "## Preprocessing - TODO:\n",
        "- Ingrandire bbox\n",
        "- unire bbox sovrapposte\n",
        "- Mergiare branch data_clean (anche alla fine)\n",
        "- Quando vengono create le patch, ritagliare le bbox per farle stare tutte nella patch X\n",
        "- Check tra nostro dataset pulito e quello di ICRAR (dopo aver mergiato il branch data_clean)"
      ],
      "cell_type": "markdown",
      "metadata": {}
    },
    {
      "cell_type": "code",
      "execution_count": 20,
      "metadata": {},
      "outputs": [
        {
          "output_type": "stream",
          "name": "stdout",
          "text": [
            "Downloading SKA vgg16_weights_tf_dim_ordering_tf_kernels_notop.h5 data...\n",
            "Download completed!\n"
          ]
        }
      ],
      "source": [
        "# Download VGG16 weights\n",
        "# 'https://github.com/fchollet/deep-learning-models/releases/download/v0.1/vgg16_weights_tf_dim_ordering_tf_kernels_notop.h5'\n",
        "if not os.path.exists(os.path.join(config.MODEL_WEIGHTS, 'vgg16')):\n",
        "    download_data('vgg16_weights_tf_dim_ordering_tf_kernels_notop.h5', \n",
        "    'https://github.com/fchollet/deep-learning-models/releases/download/v0.1/vgg16_weights_tf_dim_ordering_tf_kernels_notop.h5', config.MODEL_WEIGHTS + '/vgg16')\n"
      ]
    },
    {
      "cell_type": "code",
      "execution_count": 21,
      "metadata": {},
      "outputs": [
        {
          "output_type": "stream",
          "name": "stdout",
          "text": [
            "Model: \"RegionProposal\"\n_________________________________________________________________\nLayer (type)                 Output Shape              Param #   \n=================================================================\ninput_1 (InputLayer)         [(None, 205, 205, 1)]     0         \n_________________________________________________________________\nCustom_input_layer (Expander (None, 205, 205, 3)       6         \n_________________________________________________________________\nblock1_conv1 (Conv2D)        (None, 205, 205, 64)      1792      \n_________________________________________________________________\nblock1_conv2 (Conv2D)        (None, 205, 205, 64)      36928     \n_________________________________________________________________\nblock1_pool (MaxPooling2D)   (None, 102, 102, 64)      0         \n_________________________________________________________________\nblock2_conv1 (Conv2D)        (None, 102, 102, 128)     73856     \n_________________________________________________________________\nblock2_conv2 (Conv2D)        (None, 102, 102, 128)     147584    \n_________________________________________________________________\nblock2_pool (MaxPooling2D)   (None, 51, 51, 128)       0         \n_________________________________________________________________\nblock3_conv1 (Conv2D)        (None, 51, 51, 256)       295168    \n_________________________________________________________________\nblock3_conv2 (Conv2D)        (None, 51, 51, 256)       590080    \n_________________________________________________________________\nblock3_conv3 (Conv2D)        (None, 51, 51, 256)       590080    \n_________________________________________________________________\nblock3_pool (MaxPooling2D)   (None, 25, 25, 256)       0         \n_________________________________________________________________\nblock4_conv1 (Conv2D)        (None, 25, 25, 512)       1180160   \n_________________________________________________________________\nblock4_conv2 (Conv2D)        (None, 25, 25, 512)       2359808   \n_________________________________________________________________\nblock4_conv3 (Conv2D)        (None, 25, 25, 512)       2359808   \n_________________________________________________________________\nblock4_pool (MaxPooling2D)   (None, 12, 12, 512)       0         \n_________________________________________________________________\nblock5_conv1 (Conv2D)        (None, 12, 12, 512)       2359808   \n_________________________________________________________________\nblock5_conv2 (Conv2D)        (None, 12, 12, 512)       2359808   \n_________________________________________________________________\nblock5_conv3 (Conv2D)        (None, 12, 12, 512)       2359808   \n_________________________________________________________________\nrpn (RpnNet)                 [(None, 12, 12, 30), (Non 2436758   \n=================================================================\nTotal params: 17,151,452\nTrainable params: 16,891,292\nNon-trainable params: 260,160\n_________________________________________________________________\nModel: \"DetectorClassifier\"\n__________________________________________________________________________________________________\nLayer (type)                    Output Shape         Param #     Connected to                     \n==================================================================================================\ninput_1 (InputLayer)            [(None, 205, 205, 1) 0                                            \n__________________________________________________________________________________________________\nCustom_input_layer (Expander)   (None, 205, 205, 3)  6           input_1[0][0]                    \n__________________________________________________________________________________________________\nblock1_conv1 (Conv2D)           (None, 205, 205, 64) 1792        Custom_input_layer[0][0]         \n__________________________________________________________________________________________________\nblock1_conv2 (Conv2D)           (None, 205, 205, 64) 36928       block1_conv1[0][0]               \n__________________________________________________________________________________________________\nblock1_pool (MaxPooling2D)      (None, 102, 102, 64) 0           block1_conv2[0][0]               \n__________________________________________________________________________________________________\nblock2_conv1 (Conv2D)           (None, 102, 102, 128 73856       block1_pool[0][0]                \n__________________________________________________________________________________________________\nblock2_conv2 (Conv2D)           (None, 102, 102, 128 147584      block2_conv1[0][0]               \n__________________________________________________________________________________________________\nblock2_pool (MaxPooling2D)      (None, 51, 51, 128)  0           block2_conv2[0][0]               \n__________________________________________________________________________________________________\nblock3_conv1 (Conv2D)           (None, 51, 51, 256)  295168      block2_pool[0][0]                \n__________________________________________________________________________________________________\nblock3_conv2 (Conv2D)           (None, 51, 51, 256)  590080      block3_conv1[0][0]               \n__________________________________________________________________________________________________\nblock3_conv3 (Conv2D)           (None, 51, 51, 256)  590080      block3_conv2[0][0]               \n__________________________________________________________________________________________________\nblock3_pool (MaxPooling2D)      (None, 25, 25, 256)  0           block3_conv3[0][0]               \n__________________________________________________________________________________________________\nblock4_conv1 (Conv2D)           (None, 25, 25, 512)  1180160     block3_pool[0][0]                \n__________________________________________________________________________________________________\nblock4_conv2 (Conv2D)           (None, 25, 25, 512)  2359808     block4_conv1[0][0]               \n__________________________________________________________________________________________________\nblock4_conv3 (Conv2D)           (None, 25, 25, 512)  2359808     block4_conv2[0][0]               \n__________________________________________________________________________________________________\nblock4_pool (MaxPooling2D)      (None, 12, 12, 512)  0           block4_conv3[0][0]               \n__________________________________________________________________________________________________\nblock5_conv1 (Conv2D)           (None, 12, 12, 512)  2359808     block4_pool[0][0]                \n__________________________________________________________________________________________________\nblock5_conv2 (Conv2D)           (None, 12, 12, 512)  2359808     block5_conv1[0][0]               \n__________________________________________________________________________________________________\nblock5_conv3 (Conv2D)           (None, 12, 12, 512)  2359808     block5_conv2[0][0]               \n__________________________________________________________________________________________________\ninput_2 (InputLayer)            [(None, None, 4)]    0                                            \n__________________________________________________________________________________________________\nroi_pooling (RoiPoolingConv)    (1, 4, 7, 7, 512)    0           block5_conv3[0][0]               \n                                                                 input_2[0][0]                    \n__________________________________________________________________________________________________\ncls (Classifier)                [(1, 4, 9), (1, 4, 3 119730221   roi_pooling[0][0]                \n==================================================================================================\nTotal params: 134,444,915\nTrainable params: 134,184,755\nNon-trainable params: 260,160\n__________________________________________________________________________________________________\nModel: \"End2end_model\"\n__________________________________________________________________________________________________\nLayer (type)                    Output Shape         Param #     Connected to                     \n==================================================================================================\ninput_1 (InputLayer)            [(None, 205, 205, 1) 0                                            \n__________________________________________________________________________________________________\nCustom_input_layer (Expander)   (None, 205, 205, 3)  6           input_1[0][0]                    \n__________________________________________________________________________________________________\nblock1_conv1 (Conv2D)           (None, 205, 205, 64) 1792        Custom_input_layer[0][0]         \n__________________________________________________________________________________________________\nblock1_conv2 (Conv2D)           (None, 205, 205, 64) 36928       block1_conv1[0][0]               \n__________________________________________________________________________________________________\nblock1_pool (MaxPooling2D)      (None, 102, 102, 64) 0           block1_conv2[0][0]               \n__________________________________________________________________________________________________\nblock2_conv1 (Conv2D)           (None, 102, 102, 128 73856       block1_pool[0][0]                \n__________________________________________________________________________________________________\nblock2_conv2 (Conv2D)           (None, 102, 102, 128 147584      block2_conv1[0][0]               \n__________________________________________________________________________________________________\nblock2_pool (MaxPooling2D)      (None, 51, 51, 128)  0           block2_conv2[0][0]               \n__________________________________________________________________________________________________\nblock3_conv1 (Conv2D)           (None, 51, 51, 256)  295168      block2_pool[0][0]                \n__________________________________________________________________________________________________\nblock3_conv2 (Conv2D)           (None, 51, 51, 256)  590080      block3_conv1[0][0]               \n__________________________________________________________________________________________________\nblock3_conv3 (Conv2D)           (None, 51, 51, 256)  590080      block3_conv2[0][0]               \n__________________________________________________________________________________________________\nblock3_pool (MaxPooling2D)      (None, 25, 25, 256)  0           block3_conv3[0][0]               \n__________________________________________________________________________________________________\nblock4_conv1 (Conv2D)           (None, 25, 25, 512)  1180160     block3_pool[0][0]                \n__________________________________________________________________________________________________\nblock4_conv2 (Conv2D)           (None, 25, 25, 512)  2359808     block4_conv1[0][0]               \n__________________________________________________________________________________________________\nblock4_conv3 (Conv2D)           (None, 25, 25, 512)  2359808     block4_conv2[0][0]               \n__________________________________________________________________________________________________\nblock4_pool (MaxPooling2D)      (None, 12, 12, 512)  0           block4_conv3[0][0]               \n__________________________________________________________________________________________________\nblock5_conv1 (Conv2D)           (None, 12, 12, 512)  2359808     block4_pool[0][0]                \n__________________________________________________________________________________________________\nblock5_conv2 (Conv2D)           (None, 12, 12, 512)  2359808     block5_conv1[0][0]               \n__________________________________________________________________________________________________\nblock5_conv3 (Conv2D)           (None, 12, 12, 512)  2359808     block5_conv2[0][0]               \n__________________________________________________________________________________________________\ninput_2 (InputLayer)            [(None, None, 4)]    0                                            \n__________________________________________________________________________________________________\nroi_pooling (RoiPoolingConv)    (1, 4, 7, 7, 512)    0           block5_conv3[0][0]               \n                                                                 input_2[0][0]                    \n__________________________________________________________________________________________________\nrpn (RpnNet)                    [(None, 12, 12, 30), 2436758     block5_conv3[0][0]               \n__________________________________________________________________________________________________\ncls (Classifier)                [(1, 4, 9), (1, 4, 3 119730221   roi_pooling[0][0]                \n==================================================================================================\nTotal params: 136,881,673\nTrainable params: 136,621,513\nNon-trainable params: 260,160\n__________________________________________________________________________________________________\n"
          ]
        }
      ],
      "source": [
        "import keras\n",
        "from keras.layers import Input\n",
        "from src.layers import Expander, vgg16, RpnNet, RoiPoolingConv, Classifier\n",
        "import src.models as models\n",
        "import src.layers as layers\n",
        "\n",
        "vgg16_weight_path = os.path.join('./model/vgg16/vgg16_weights_tf_dim_ordering_tf_kernels_notop.h5')\n",
        "\n",
        "rpn_model, cls_model, total_model = models.e2e(input_shape_1=(205,205,1), input_shape_2=(None, 4), anchor_num=30, pooling_regions=7, num_rois=4, num_classes=9, weights=vgg16_weight_path)\n",
        "\n",
        "rpn_model.summary()\n",
        "cls_model.summary()\n",
        "total_model.summary()"
      ]
    },
    {
      "cell_type": "code",
      "execution_count": 24,
      "metadata": {},
      "outputs": [],
      "source": [
        "import tensorflow as tf\n",
        "from keras import backend as K\n",
        "\n",
        "\n",
        "lambda_rpn_regr = 1.0\n",
        "lambda_rpn_class = 1.0\n",
        "\n",
        "lambda_cls_regr = 1.0\n",
        "lambda_cls_class = 1.0\n",
        "\n",
        "epsilon = 1e-4\n",
        "\n",
        "def rpn_loss_regr(num_anchors):\n",
        "    \"\"\"Loss function for rpn regression\n",
        "    Args:\n",
        "        num_anchors: number of anchors (9 in here)\n",
        "    Returns:\n",
        "        Smooth L1 loss function \n",
        "                           0.5*x*x (if x_abs < 1)\n",
        "                           x_abx - 0.5 (otherwise)\n",
        "    \"\"\"\n",
        "    def rpn_loss_regr_fixed_num(y_true, y_pred):\n",
        "\n",
        "        # x is the difference between true value and predicted value\n",
        "        x = y_true[:, :, :, 4 * num_anchors:] - y_pred\n",
        "\n",
        "        # absolute value of x\n",
        "        x_abs = K.abs(x)\n",
        "\n",
        "        # If x_abs <= 1.0, x_bool = 1\n",
        "        x_bool = K.cast(K.less_equal(x_abs, 1.0), tf.float32)\n",
        "\n",
        "        return lambda_rpn_regr * K.sum(\n",
        "            y_true[:, :, :, :4 * num_anchors] * (x_bool * (0.5 * x * x) + (1 - x_bool) * (x_abs - 0.5))) / K.sum(epsilon + y_true[:, :, :, :4 * num_anchors])\n",
        "\n",
        "    return rpn_loss_regr_fixed_num\n",
        "\n",
        "def rpn_loss_cls(num_anchors):\n",
        "    \"\"\"Loss function for rpn classification\n",
        "    Args:\n",
        "        num_anchors: number of anchors (9 in here)\n",
        "        y_true[:, :, :, :9]: [0,1,0,0,0,0,0,1,0] means only the second and the eighth box is valid which contains pos or neg anchor => isValid\n",
        "        y_true[:, :, :, 9:]: [0,1,0,0,0,0,0,0,0] means the second box is pos and eighth box is negative\n",
        "    Returns:\n",
        "        lambda * sum((binary_crossentropy(isValid*y_pred,y_true))) / N\n",
        "    \"\"\"\n",
        "    def rpn_loss_cls_fixed_num(y_true, y_pred):\n",
        "\n",
        "            return lambda_rpn_class * K.sum(y_true[:, :, :, :num_anchors] * K.binary_crossentropy(y_pred[:, :, :, :num_anchors], y_true[:, :, :, :num_anchors])) / K.sum(epsilon + y_true[:, :, :, :num_anchors]) # Corretto num anchors qui\n",
        "            \n",
        "\n",
        "    return rpn_loss_cls_fixed_num\n",
        "\n",
        "def class_loss_regr(num_classes):\n",
        "    \"\"\"Loss function for rpn regression\n",
        "    Args:\n",
        "        num_anchors: number of anchors (9 in here)\n",
        "    Returns:\n",
        "        Smooth L1 loss function \n",
        "                           0.5*x*x (if x_abs < 1)\n",
        "                           x_abs - 0.5 (otherwise)\n",
        "    \"\"\"\n",
        "    def class_loss_regr_fixed_num(y_true, y_pred):\n",
        "        x = y_true[:, :, 4*num_classes:] - y_pred\n",
        "        x_abs = K.abs(x)\n",
        "        x_bool = K.cast(K.less_equal(x_abs, 1.0), 'float32')\n",
        "        return lambda_cls_regr * K.sum(y_true[:, :, :4*num_classes] * (x_bool * (0.5 * x * x) + (1 - x_bool) * (x_abs - 0.5))) / K.sum(epsilon + y_true[:, :, :4*num_classes])\n",
        "    return class_loss_regr_fixed_num\n",
        "\n",
        "\n",
        "def class_loss_cls(y_true, y_pred):\n",
        "    return lambda_cls_class * K.mean(categorical_crossentropy(y_true[0, :, :], y_pred[0, :, :]))"
      ]
    },
    {
      "cell_type": "code",
      "execution_count": 25,
      "metadata": {},
      "outputs": [],
      "source": [
        "from keras.optimizers import Adam\n",
        "\n",
        "ANCHOR_NUM=30\n",
        "num_classes=9\n",
        "\n",
        "optimizer = Adam(lr=1e-5)\n",
        "optimizer_classifier = Adam(lr=1e-5)\n",
        "\n",
        "rpn_model.compile(optimizer=optimizer, loss=[rpn_loss_cls(ANCHOR_NUM), rpn_loss_regr(ANCHOR_NUM)])\n",
        "cls_model.compile(optimizer=optimizer_classifier, loss=[class_loss_cls, class_loss_regr(num_classes)], metrics={'dense_class_{}'.format(num_classes): 'accuracy'})\n",
        "total_model.compile(optimizer='sgd', loss='mae')"
      ]
    },
    {
      "cell_type": "code",
      "execution_count": 87,
      "metadata": {
        "tags": []
      },
      "outputs": [
        {
          "output_type": "stream",
          "name": "stdout",
          "text": [
            "(205, 205)\n(1, 60, 12, 12)\n(1, 240, 12, 12)\n64\n(1, 12, 12, 60)\n(1, 12, 12, 240)\n(1, 205, 205, 1)\n"
          ]
        }
      ],
      "source": [
        "a,b,c = prep.calc_rpn(pdata, 205, 205)\n",
        "print(p.shape)\n",
        "print(a.shape)\n",
        "print(b.shape)\n",
        "print(c)\n",
        "\n",
        "a = np.transpose(a, (0, 2, 3, 1))\n",
        "print(a.shape)\n",
        "b = np.transpose(b, (0, 2, 3, 1))\n",
        "print(b.shape)\n",
        "\n",
        "p = np.expand_dims(p, axis=0)\n",
        "p = np.expand_dims(p, axis=3)\n",
        "\n",
        "print(p.shape)"
      ]
    },
    {
      "cell_type": "code",
      "execution_count": 29,
      "metadata": {},
      "outputs": [
        {
          "output_type": "stream",
          "name": "stdout",
          "text": [
            "['loss', 'rpn_loss', 'rpn_1_loss']\n"
          ]
        },
        {
          "output_type": "execute_result",
          "data": {
            "text/plain": [
              "[8.079469680786133, 7.084170818328857, 0.9952983856201172]"
            ]
          },
          "metadata": {},
          "execution_count": 29
        }
      ],
      "source": [
        "loss = rpn_model.train_on_batch(p, [a,b])\n",
        "print(rpn_model.metrics_names)\n",
        "loss"
      ]
    },
    {
      "cell_type": "code",
      "execution_count": 30,
      "metadata": {},
      "outputs": [
        {
          "output_type": "stream",
          "name": "stdout",
          "text": [
            "(1, 12, 12, 30)\n(1, 12, 12, 120)\n"
          ]
        }
      ],
      "source": [
        "y_cls, y_reg = rpn_model.predict(p)\n",
        "print(y_cls.shape)\n",
        "print(y_reg.shape)"
      ]
    },
    {
      "cell_type": "code",
      "execution_count": 31,
      "metadata": {},
      "outputs": [
        {
          "output_type": "stream",
          "name": "stdout",
          "text": [
            "rpn_layer=(1, 12, 12, 30)\nregr_layer=(1, 12, 12, 120)\nregr=(12, 12, 4)\nregr=(12, 12, 4)\nregr=(12, 12, 4)\nregr=(12, 12, 4)\nregr=(12, 12, 4)\nregr=(12, 12, 4)\nregr=(12, 12, 4)\nregr=(12, 12, 4)\nregr=(12, 12, 4)\nregr=(12, 12, 4)\nregr=(12, 12, 4)\nregr=(12, 12, 4)\nregr=(12, 12, 4)\nregr=(12, 12, 4)\nregr=(12, 12, 4)\nregr=(12, 12, 4)\nregr=(12, 12, 4)\nregr=(12, 12, 4)\nregr=(12, 12, 4)\nregr=(12, 12, 4)\nregr=(12, 12, 4)\nregr=(12, 12, 4)\nregr=(12, 12, 4)\nregr=(12, 12, 4)\nregr=(12, 12, 4)\nregr=(12, 12, 4)\nregr=(12, 12, 4)\nregr=(12, 12, 4)\nregr=(12, 12, 4)\nregr=(12, 12, 4)\n(4320, 4)\n(3920, 4)\n"
          ]
        },
        {
          "output_type": "execute_result",
          "data": {
            "text/plain": [
              "(300, 4)"
            ]
          },
          "metadata": {},
          "execution_count": 31
        }
      ],
      "source": [
        "roi = rpn_to_roi(y_cls, y_pred, config)\n",
        "roi.shape"
      ]
    },
    {
      "cell_type": "code",
      "execution_count": 33,
      "metadata": {},
      "outputs": [],
      "source": [
        "X, Y = np.meshgrid(np.arange(12),np.arange(12))"
      ]
    },
    {
      "source": [
        "TODO - 20210502:\n",
        "- X creare colonne per coordinate bbox nel sistema di riferimento della patch\n",
        "- X creare cartelle per patches con npy + pkl delle sue sole bbox\n",
        "- ragionare su dimensioni patch\n",
        "- X Caricare pesi VGG16 nel nuovo network\n",
        "- lanciare training\n",
        "\n",
        "TODO - 20210508:\n",
        "- zero centering patch by patch\n",
        "- troncamento rumore a 1e-6\n",
        "- portare branch o funzioni di data_clean in main\n",
        "- img augmentation -> augment()"
      ],
      "cell_type": "markdown",
      "metadata": {}
    },
    {
      "cell_type": "code",
      "execution_count": 38,
      "metadata": {},
      "outputs": [
        {
          "output_type": "execute_result",
          "data": {
            "text/plain": [
              "array([[-0.5,  0.5,  1.5,  2.5,  3.5,  4.5,  5.5,  6.5,  7.5,  8.5,  9.5,\n",
              "        10.5],\n",
              "       [-0.5,  0.5,  1.5,  2.5,  3.5,  4.5,  5.5,  6.5,  7.5,  8.5,  9.5,\n",
              "        10.5],\n",
              "       [-0.5,  0.5,  1.5,  2.5,  3.5,  4.5,  5.5,  6.5,  7.5,  8.5,  9.5,\n",
              "        10.5],\n",
              "       [-0.5,  0.5,  1.5,  2.5,  3.5,  4.5,  5.5,  6.5,  7.5,  8.5,  9.5,\n",
              "        10.5],\n",
              "       [-0.5,  0.5,  1.5,  2.5,  3.5,  4.5,  5.5,  6.5,  7.5,  8.5,  9.5,\n",
              "        10.5],\n",
              "       [-0.5,  0.5,  1.5,  2.5,  3.5,  4.5,  5.5,  6.5,  7.5,  8.5,  9.5,\n",
              "        10.5],\n",
              "       [-0.5,  0.5,  1.5,  2.5,  3.5,  4.5,  5.5,  6.5,  7.5,  8.5,  9.5,\n",
              "        10.5],\n",
              "       [-0.5,  0.5,  1.5,  2.5,  3.5,  4.5,  5.5,  6.5,  7.5,  8.5,  9.5,\n",
              "        10.5],\n",
              "       [-0.5,  0.5,  1.5,  2.5,  3.5,  4.5,  5.5,  6.5,  7.5,  8.5,  9.5,\n",
              "        10.5],\n",
              "       [-0.5,  0.5,  1.5,  2.5,  3.5,  4.5,  5.5,  6.5,  7.5,  8.5,  9.5,\n",
              "        10.5],\n",
              "       [-0.5,  0.5,  1.5,  2.5,  3.5,  4.5,  5.5,  6.5,  7.5,  8.5,  9.5,\n",
              "        10.5],\n",
              "       [-0.5,  0.5,  1.5,  2.5,  3.5,  4.5,  5.5,  6.5,  7.5,  8.5,  9.5,\n",
              "        10.5]])"
            ]
          },
          "metadata": {},
          "execution_count": 38
        }
      ],
      "source": [
        "X - .5"
      ]
    },
    {
      "cell_type": "code",
      "execution_count": 37,
      "metadata": {},
      "outputs": [
        {
          "output_type": "execute_result",
          "data": {
            "text/plain": [
              "array([1, 1, 1, 1, 1, 1, 1, 1, 1, 1, 1, 1])"
            ]
          },
          "metadata": {},
          "execution_count": 37
        }
      ],
      "source": [
        "Y[1]"
      ]
    },
    {
      "cell_type": "code",
      "execution_count": 182,
      "metadata": {},
      "outputs": [],
      "source": [
        "total_model.save_weights('./test.h5')"
      ]
    },
    {
      "cell_type": "code",
      "execution_count": 187,
      "metadata": {},
      "outputs": [],
      "source": [
        "rpn_model.load_weights('./test.h5', by_name=True)"
      ]
    },
    {
      "cell_type": "code",
      "execution_count": 181,
      "metadata": {
        "tags": []
      },
      "outputs": [],
      "source": [
        "# Check that all of the pretrained weights have been loaded.\n",
        "import numpy as np\n",
        "for i, j in zip(total_model.weights, rpn_model.weights):\n",
        "    # print(i)\n",
        "    # print(j)\n",
        "    assert np.allclose(i,j), 'Diversi!'"
      ]
    },
    {
      "source": [
        "TODO - 20210502:\n",
        "- ragionare su dimensioni patch\n",
        "- lanciare training\n",
        "\n",
        "TODO - 20210508:\n",
        "- zero centering patch by patch\n",
        "- troncamento rumore a 1e-6\n",
        "- portare branch o funzioni di data_clean in main\n",
        "- img augmentation -> augment()\n",
        "\n",
        "TODO - 202105016:\n",
        "- creare generator (Alice)\n",
        "- scrivere training loop + save/read pesi per colab + test loop (Lorenzo)\n",
        "- terminare preprocessing di ICRAR (primary beam correction, flux, eliminazione bbox in base a rapporto flusso)"
      ],
      "cell_type": "code",
      "metadata": {},
      "execution_count": 55,
      "outputs": [
        {
          "output_type": "stream",
          "name": "stdout",
          "text": [
            "[7.072257041931152, 6.065431118011475, 1.0068259239196777]\n"
          ]
        },
        {
          "output_type": "execute_result",
          "data": {
            "text/plain": [
              "(1, 12, 12, 60)"
            ]
          },
          "metadata": {},
          "execution_count": 55
        }
      ]
    },
    {
      "cell_type": "code",
      "execution_count": 108,
      "metadata": {},
      "outputs": [
        {
          "output_type": "stream",
          "name": "stdout",
          "text": [
            "[6.196948528289795, 5.195816516876221, 1.0011321306228638]\n",
            "[6.049266815185547, 5.049481391906738, 0.9997855424880981]\n"
          ]
        }
      ],
      "source": [
        "# Training loop\n",
        "\n",
        "for epoch in range(2):\n",
        "\n",
        "    # image, y_rpn_cls_true, y_rpn_reg_true = next(datagen)\n",
        "\n",
        "    loss = rpn_model.train_on_batch(p, [a, b])\n",
        "    y_rpn_reg_pred, y_rpn_cls_pred = rpn_model.predict(p)\n",
        "\n",
        "    print(loss)\n",
        "\n",
        "\n"
      ]
    },
    {
      "cell_type": "code",
      "execution_count": null,
      "metadata": {},
      "outputs": [],
      "source": [
        "#TODO: Provare YOLO -> forse meglio le efficientNet\n",
        "# Ablation study\n",
        "# Provare, a parità di frequenza, le esposizioni diverse come canali"
      ]
    },
    {
      "cell_type": "code",
      "execution_count": 1,
      "metadata": {},
      "outputs": [],
      "source": [
        "# from tensorflow.keras.applications import EfficientNetB0\n",
        "# model = EfficientNetB0(weights='imagenet')"
      ]
    }
  ]
}