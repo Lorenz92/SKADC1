{
  "nbformat": 4,
  "nbformat_minor": 2,
  "metadata": {
    "language_info": {
      "codemirror_mode": {
        "name": "ipython",
        "version": 3
      },
      "file_extension": ".py",
      "mimetype": "text/x-python",
      "name": "python",
      "nbconvert_exporter": "python",
      "pygments_lexer": "ipython3",
      "version": "3.8.2"
    },
    "orig_nbformat": 2,
    "kernelspec": {
      "name": "python3",
      "display_name": "Python 3.8.2 64-bit"
    },
    "colab": {
      "name": "main.ipynb",
      "provenance": []
    },
    "metadata": {
      "interpreter": {
        "hash": "31f2aee4e71d21fbe5cf8b01ff0e069b9275f58929596ceb00d14d90e3e16cd6"
      }
    },
    "interpreter": {
      "hash": "31f2aee4e71d21fbe5cf8b01ff0e069b9275f58929596ceb00d14d90e3e16cd6"
    }
  },
  "cells": [
    {
      "cell_type": "code",
      "execution_count": null,
      "source": [
        "# !git clone 'https://github.com/Lorenz92/SKADC1.git'\n",
        "# % cd SKADC1\n",
        "# !echo $PWD"
      ],
      "outputs": [],
      "metadata": {}
    },
    {
      "cell_type": "code",
      "execution_count": null,
      "source": [
        "import pandas as pd\n",
        "import numpy as np\n",
        "\n",
        "import src.dataset as dataset\n",
        "import src.config as config \n",
        "from src.utils import *\n",
        "import src.models as models\n",
        "import src.losses as loss\n",
        "\n",
        "path = config.TRAIN_PATCHES_FOLDER\n",
        "%load_ext autoreload\n",
        "%autoreload 2\n",
        "\n",
        "np.random.seed(config.RANDOM_SEED)"
      ],
      "outputs": [],
      "metadata": {
        "id": "7WwOlsifF-5G",
        "outputId": "303002ab-c8c4-4807-caeb-ee1c590d4326",
        "colab": {
          "base_uri": "https://localhost:8080/"
        }
      }
    },
    {
      "cell_type": "code",
      "execution_count": null,
      "source": [
        "if 'google.colab' in str(get_ipython()):\n",
        "  use_colab = True\n",
        "  print('Running on CoLab')\n",
        "else:\n",
        "  use_colab = False\n",
        "  print('Not running on CoLab')"
      ],
      "outputs": [],
      "metadata": {}
    },
    {
      "cell_type": "code",
      "execution_count": null,
      "source": [
        "if use_colab:\n",
        "    # Read file from Colab Notebook\n",
        "    from google.colab import drive\n",
        "    drive.mount('/content/drive')\n",
        "    config.MODEL_WEIGHTS = \"/content/drive/My Drive/Colab Notebooks/SKADC1\"\n",
        "    config.IMAGE_PATH = \"/content/drive/My Drive/Colab Notebooks/SKADC1/asset/560Mhz_1000h.fits\""
      ],
      "outputs": [],
      "metadata": {}
    },
    {
      "cell_type": "code",
      "execution_count": null,
      "source": [
        "# Dataset parsing and loading\n",
        "# use \"subset\" in config file to load a small portion of data for development/debugging purposes\n",
        "ska_dataset = dataset.SKADataset(k=3, print_info=False, use_pb=False)"
      ],
      "outputs": [],
      "metadata": {
        "tags": [],
        "id": "Q8IbYCwkF-5K",
        "outputId": "5cd8e5ba-49cd-49b4-d65c-65d82229f792",
        "colab": {
          "base_uri": "https://localhost:8080/",
          "height": 221
        }
      }
    },
    {
      "cell_type": "code",
      "execution_count": null,
      "source": [
        "ska_dataset.cleaned_train_df[['width', 'height', 'area_orig', 'area_cropped']].describe()"
      ],
      "outputs": [],
      "metadata": {}
    },
    {
      "cell_type": "code",
      "execution_count": null,
      "source": [
        "ska_dataset.cleaned_train_df[['width', 'height', 'area_orig']].quantile([.1,.2,.3,.4,.5,.6,.7,.8,.9,.95,.98,.99,1.])"
      ],
      "outputs": [],
      "metadata": {}
    },
    {
      "cell_type": "code",
      "execution_count": null,
      "source": [
        "show_plot = True\n",
        "ska_dataset.generate_patches(limit=5, plot_patches=show_plot) # Remember to remove internal return"
      ],
      "outputs": [],
      "metadata": {
        "id": "Ug10Ku-OF-5Y",
        "outputId": "c3b6bed6-24a7-4f71-cbed-c4b6b8d934af",
        "tags": []
      }
    },
    {
      "cell_type": "code",
      "execution_count": null,
      "source": [
        "ska_dataset.analyze_class_distribution()"
      ],
      "outputs": [],
      "metadata": {
        "tags": []
      }
    },
    {
      "cell_type": "code",
      "execution_count": null,
      "source": [
        "ska_dataset.split_train_val_stratified(random_state=42, val_portion=0.2)\n",
        "\n",
        "print(len(ska_dataset.train_patch_list))\n",
        "print(len(ska_dataset.val_patch_list))\n"
      ],
      "outputs": [],
      "metadata": {}
    },
    {
      "cell_type": "code",
      "execution_count": null,
      "source": [
        "ska_dataset.split_train_val(random_state=42, val_portion=0.2)"
      ],
      "outputs": [],
      "metadata": {}
    },
    {
      "cell_type": "markdown",
      "source": [
        "## datagen + calc_rpn -> rpn_net -> rpn_to_roi -> calc_iou -> cls_net"
      ],
      "metadata": {}
    },
    {
      "cell_type": "markdown",
      "source": [
        "# Training"
      ],
      "metadata": {}
    },
    {
      "cell_type": "code",
      "execution_count": null,
      "source": [
        "print_img(config.TRAIN_PATCHES_FOLDER, '20_16396_16729_20', show_data=True)\n"
      ],
      "outputs": [],
      "metadata": {}
    },
    {
      "cell_type": "code",
      "execution_count": null,
      "source": [
        "# # Debugging\n",
        "\n",
        "# train_patch_list = ska_dataset.train_patch_list\n",
        "# patches_folder_path=config.TRAIN_PATCHES_FOLDER\n",
        "\n",
        "# train_datagen = prep.get_anchor_gt(patches_folder_path, ['20_16396_16729_20'], backbone, pixel_mean=None)\n",
        "# image, [y_rpn_cls_true, y_rpn_reg_true], img_data_aug, _, _, patch_id = next(train_datagen)\n",
        "\n"
      ],
      "outputs": [],
      "metadata": {}
    },
    {
      "cell_type": "markdown",
      "source": [
        "### Get FRCNN model"
      ],
      "metadata": {}
    },
    {
      "cell_type": "code",
      "execution_count": null,
      "source": [
        "# Choose the feature extraction model\n",
        "backbone='baseline_16'\n",
        "# backbone='vgg16'\n",
        "\n",
        "if backbone=='baseline_16':\n",
        "    config.resizePatch = True\n",
        "    config.rpn_stride = 4\n",
        "    config.num_rois = 16\n",
        "    # config.anchor_box_scales = [16,32,64] # anchors in the original image size\n",
        "    config.anchor_box_scales = [6, 8, 12, 16, 24, 32]\n",
        "    config.resizeFinalDim = 100\n",
        "    input_shape_1 = config.resizeFinalDim\n",
        "else:\n",
        "    config.resizePatch = True\n",
        "    config.rpn_stride = 16\n",
        "    config.num_rois = 4\n",
        "    config.resizeFinalDim = 600\n",
        "    input_shape_1=config.resizeFinalDim\n",
        "    config.anchor_box_scales = [32, 64, 128]\n",
        "\n",
        "\n",
        "config.anchor_num = len(config.anchor_box_ratios)*len(config.anchor_box_scales)\n",
        "input_shape_2=(None, 4)\n",
        "\n",
        "print(config.resizePatch)\n",
        "print(config.rpn_stride)\n",
        "\n",
        "checkpoint = get_model_last_checkpoint(backbone)\n",
        "print(f'Model last checkpoint: {checkpoint}')"
      ],
      "outputs": [],
      "metadata": {}
    },
    {
      "cell_type": "code",
      "execution_count": null,
      "source": [
        "rpn_model, detector_model, total_model = models.get_train_model(input_shape_1=input_shape_1, input_shape_2=input_shape_2, anchor_num=config.anchor_num, pooling_regions=config.pooling_regions, num_rois=config.num_rois, num_classes=len(ska_dataset.class_list)+1, backbone=backbone, use_expander=False)\n",
        "\n",
        "rpn_model.summary()\n",
        "detector_model.summary()\n",
        "total_model.summary()"
      ],
      "outputs": [],
      "metadata": {
        "tags": [
          "outputPrepend"
        ]
      }
    },
    {
      "cell_type": "markdown",
      "source": [
        "### Load weights"
      ],
      "metadata": {}
    },
    {
      "cell_type": "code",
      "execution_count": null,
      "source": [
        "models.load_weigths(rpn_model, detector_model, backbone, resume_train=False, checkpoint=checkpoint)\n",
        "models.compile_models(rpn_model, detector_model, total_model, rpn_losses=[loss.rpn_loss_cls, loss.rpn_loss_regr], detector_losses=[loss.detector_loss_cls, loss.detector_loss_regr], class_list=ska_dataset.class_list)"
      ],
      "outputs": [],
      "metadata": {}
    },
    {
      "cell_type": "code",
      "execution_count": null,
      "source": [
        "# Specifically checking backbone weights\n",
        "\n",
        "# total_model.weights[24:25][0][0][0][0]"
      ],
      "outputs": [],
      "metadata": {}
    },
    {
      "cell_type": "code",
      "execution_count": null,
      "source": [
        "# Check that all of the pretrained weights have been loaded.\n",
        "import numpy as np\n",
        "for i, j in zip(total_model.weights, rpn_model.weights): \n",
        "    # print(i,j)\n",
        "    assert np.allclose(i,j), 'Weights don\\'t match!'"
      ],
      "outputs": [],
      "metadata": {
        "tags": []
      }
    },
    {
      "cell_type": "markdown",
      "source": [
        "### Train"
      ],
      "metadata": {}
    },
    {
      "cell_type": "markdown",
      "source": [
        "- errore \"Exception: 'a' cannot be empty unless no samples are taken\" quando nel sampling ci sono meno di 4 roi\n",
        "- errore \"None type object is not iterable\" dovuto al max(IoUs) quando calc_iou torna None, None, None, None\n",
        "- patch di debug 1550_16376_16779_100\n",
        "- capire il parametro classifier_regr_std in che modo influenza il training"
      ],
      "metadata": {}
    },
    {
      "cell_type": "markdown",
      "source": [
        "- provare normalizzazione valori immagini di input\n",
        "- provare a far passare più roi anzichè 4"
      ],
      "metadata": {}
    },
    {
      "cell_type": "code",
      "execution_count": null,
      "source": [
        "# zzz = np.load(f'{config.TRAIN_PATCHES_FOLDER}/3100_16376_16829_100/3100_16376_16829_100.npy')\n",
        "\n",
        "# print_img(config.TRAIN_PATCHES_FOLDER, '3100_16376_16829_100')"
      ],
      "outputs": [],
      "metadata": {}
    },
    {
      "cell_type": "markdown",
      "source": [
        "20_16396_16729_20"
      ],
      "metadata": {}
    },
    {
      "cell_type": "code",
      "execution_count": null,
      "source": [
        "from src.train import *\n",
        "\n",
        "val_patch_list = None\n",
        "train_frcnn(rpn_model, detector_model, total_model, ['20_16396_16729_20'], ska_dataset.val_patch_list, ska_dataset.class_list, num_epochs=100, patches_folder_path=config.TRAIN_PATCHES_FOLDER, backbone=backbone, resume_train=False)\n",
        "# train_frcnn(rpn_model, detector_model, total_model, ska_dataset.train_patch_list, ska_dataset.val_patch_list, ska_dataset.class_list, num_epochs=300, patches_folder_path=config.TRAIN_PATCHES_FOLDER, backbone=backbone, resume_train=True)"
      ],
      "outputs": [],
      "metadata": {}
    },
    {
      "cell_type": "code",
      "execution_count": 22,
      "source": [
        "total_model.save_weights(f'{config.MODEL_WEIGHTS}/{backbone}/0_frcnn_{backbone}.h5')"
      ],
      "outputs": [],
      "metadata": {}
    },
    {
      "cell_type": "markdown",
      "source": [
        "# Validation"
      ],
      "metadata": {}
    },
    {
      "cell_type": "code",
      "execution_count": 23,
      "source": [
        "rpn_model_eval, detector_model_eval, total_model_eval = models.get_eval_model(input_shape_1=input_shape_1, input_shape_2=input_shape_2, input_shape_fmap=None, anchor_num=config.anchor_num, pooling_regions=config.pooling_regions, num_rois=config.num_rois, num_classes=len(ska_dataset.class_list)+1, backbone=backbone, use_expander=False)\n",
        "\n",
        "rpn_model_eval.summary()\n",
        "detector_model_eval.summary()\n",
        "total_model_eval.summary()"
      ],
      "outputs": [
        {
          "output_type": "stream",
          "name": "stdout",
          "text": [
            "Model: \"RegionProposal\"\n",
            "_________________________________________________________________\n",
            "Layer (type)                 Output Shape              Param #   \n",
            "=================================================================\n",
            "input_1 (InputLayer)         [(None, 100, 100, 3)]     0         \n",
            "_________________________________________________________________\n",
            "block1_conv1 (Conv2D)        (None, 100, 100, 64)      1792      \n",
            "_________________________________________________________________\n",
            "block1_conv2 (Conv2D)        (None, 100, 100, 64)      36928     \n",
            "_________________________________________________________________\n",
            "block1_pool (MaxPooling2D)   (None, 50, 50, 64)        0         \n",
            "_________________________________________________________________\n",
            "block2_conv1 (Conv2D)        (None, 50, 50, 128)       73856     \n",
            "_________________________________________________________________\n",
            "block2_conv2 (Conv2D)        (None, 50, 50, 128)       147584    \n",
            "_________________________________________________________________\n",
            "block2_pool (MaxPooling2D)   (None, 25, 25, 128)       0         \n",
            "_________________________________________________________________\n",
            "rpn (RpnNet)                 [(None, 25, 25, 18), (Non 636506    \n",
            "=================================================================\n",
            "Total params: 896,666\n",
            "Trainable params: 636,506\n",
            "Non-trainable params: 260,160\n",
            "_________________________________________________________________\n",
            "Model: \"DetectorClassifier\"\n",
            "__________________________________________________________________________________________________\n",
            "Layer (type)                    Output Shape         Param #     Connected to                     \n",
            "==================================================================================================\n",
            "Input_fmap (InputLayer)         [(None, 25, 25, 128) 0                                            \n",
            "__________________________________________________________________________________________________\n",
            "input_2 (InputLayer)            [(None, None, 4)]    0                                            \n",
            "__________________________________________________________________________________________________\n",
            "roi_pooling (RoiPoolingConv)    (1, 16, 7, 7, 128)   0           Input_fmap[0][0]                 \n",
            "                                                                 input_2[0][0]                    \n",
            "__________________________________________________________________________________________________\n",
            "cls (Detector)                  [(1, 16, 4), (1, 16, 42541072    roi_pooling[0][0]                \n",
            "==================================================================================================\n",
            "Total params: 42,541,072\n",
            "Trainable params: 42,541,072\n",
            "Non-trainable params: 0\n",
            "__________________________________________________________________________________________________\n",
            "Model: \"End2end_model\"\n",
            "__________________________________________________________________________________________________\n",
            "Layer (type)                    Output Shape         Param #     Connected to                     \n",
            "==================================================================================================\n",
            "input_1 (InputLayer)            [(None, 100, 100, 3) 0                                            \n",
            "__________________________________________________________________________________________________\n",
            "block1_conv1 (Conv2D)           (None, 100, 100, 64) 1792        input_1[0][0]                    \n",
            "__________________________________________________________________________________________________\n",
            "block1_conv2 (Conv2D)           (None, 100, 100, 64) 36928       block1_conv1[0][0]               \n",
            "__________________________________________________________________________________________________\n",
            "block1_pool (MaxPooling2D)      (None, 50, 50, 64)   0           block1_conv2[0][0]               \n",
            "__________________________________________________________________________________________________\n",
            "block2_conv1 (Conv2D)           (None, 50, 50, 128)  73856       block1_pool[0][0]                \n",
            "__________________________________________________________________________________________________\n",
            "block2_conv2 (Conv2D)           (None, 50, 50, 128)  147584      block2_conv1[0][0]               \n",
            "__________________________________________________________________________________________________\n",
            "Input_fmap (InputLayer)         [(None, 25, 25, 128) 0                                            \n",
            "__________________________________________________________________________________________________\n",
            "input_2 (InputLayer)            [(None, None, 4)]    0                                            \n",
            "__________________________________________________________________________________________________\n",
            "block2_pool (MaxPooling2D)      (None, 25, 25, 128)  0           block2_conv2[0][0]               \n",
            "__________________________________________________________________________________________________\n",
            "roi_pooling (RoiPoolingConv)    (1, 16, 7, 7, 128)   0           Input_fmap[0][0]                 \n",
            "                                                                 input_2[0][0]                    \n",
            "__________________________________________________________________________________________________\n",
            "rpn (RpnNet)                    [(None, 25, 25, 18), 636506      block2_pool[0][0]                \n",
            "__________________________________________________________________________________________________\n",
            "cls (Detector)                  [(1, 16, 4), (1, 16, 42541072    roi_pooling[0][0]                \n",
            "==================================================================================================\n",
            "Total params: 43,437,738\n",
            "Trainable params: 43,177,578\n",
            "Non-trainable params: 260,160\n",
            "__________________________________________________________________________________________________\n"
          ]
        }
      ],
      "metadata": {
        "tags": [
          "outputPrepend"
        ]
      }
    },
    {
      "cell_type": "code",
      "execution_count": 24,
      "source": [
        "# Models used for mAP eval\n",
        "cp = '89_frcnn_baseline_16.h5'\n",
        "models.load_weigths(rpn_model_eval, detector_model_eval, backbone, checkpoint=cp)\n",
        "models.compile_models(rpn_model_eval, detector_model_eval, total_model_eval, rpn_losses=[loss.rpn_loss_cls, loss.rpn_loss_regr], detector_losses=[loss.detector_loss_cls, loss.detector_loss_regr], class_list=ska_dataset.class_list)"
      ],
      "outputs": [],
      "metadata": {}
    },
    {
      "cell_type": "code",
      "execution_count": 27,
      "source": [
        "patch_id = ['20_16396_16729_20']#ska_dataset.train_patch_list#[1:2]\n",
        "# print(patch_id)\n",
        "# gt = pd.read_pickle(f'{config.TRAIN_PATCHES_FOLDER}/{patch_id[0]}/{patch_id[0]}.pkl')\n",
        "# display(gt['class_label'])\n",
        "\n",
        "preds, mAP, prec, recall = evaluate_model(rpn_model_eval, detector_model_eval, backbone, patch_id, ska_dataset.class_list, metric_threshold=.5)"
      ],
      "outputs": [
        {
          "output_type": "stream",
          "name": "stdout",
          "text": [
            "(100, 100)\n",
            "{0: '2_2', 1: '2_3', 2: '1_1', 3: 'bg'}\n",
            "Predict\n",
            "rpn_to_roi\n",
            "[[[0.0000000e+00 0.0000000e+00 0.0000000e+00 1.0000000e+00]\n",
            "  [0.0000000e+00 0.0000000e+00 0.0000000e+00 1.0000000e+00]\n",
            "  [0.0000000e+00 0.0000000e+00 0.0000000e+00 1.0000000e+00]\n",
            "  [0.0000000e+00 0.0000000e+00 0.0000000e+00 1.0000000e+00]\n",
            "  [0.0000000e+00 0.0000000e+00 0.0000000e+00 1.0000000e+00]\n",
            "  [0.0000000e+00 0.0000000e+00 0.0000000e+00 1.0000000e+00]\n",
            "  [2.6819986e-04 7.8464866e-01 2.6819986e-04 2.1481502e-01]\n",
            "  [2.1651658e-04 7.9029214e-01 2.1651658e-04 2.0927493e-01]\n",
            "  [2.6819986e-04 7.8464866e-01 2.6819986e-04 2.1481502e-01]\n",
            "  [0.0000000e+00 0.0000000e+00 0.0000000e+00 1.0000000e+00]\n",
            "  [0.0000000e+00 0.0000000e+00 0.0000000e+00 1.0000000e+00]\n",
            "  [0.0000000e+00 0.0000000e+00 0.0000000e+00 1.0000000e+00]\n",
            "  [0.0000000e+00 0.0000000e+00 0.0000000e+00 1.0000000e+00]\n",
            "  [0.0000000e+00 0.0000000e+00 0.0000000e+00 1.0000000e+00]\n",
            "  [0.0000000e+00 0.0000000e+00 0.0000000e+00 1.0000000e+00]\n",
            "  [0.0000000e+00 0.0000000e+00 0.0000000e+00 1.0000000e+00]]]\n",
            "[[[ 0.0000000e+00  0.0000000e+00  0.0000000e+00  0.0000000e+00\n",
            "    4.8905002e+02  5.1334869e+02 -5.7922687e+02  3.4425989e+02\n",
            "    0.0000000e+00  0.0000000e+00  0.0000000e+00  0.0000000e+00]\n",
            "  [ 0.0000000e+00  0.0000000e+00  0.0000000e+00  0.0000000e+00\n",
            "    1.0602111e+03  1.0839242e+03 -1.2781163e+03  8.0307349e+02\n",
            "    0.0000000e+00  0.0000000e+00  0.0000000e+00  0.0000000e+00]\n",
            "  [ 0.0000000e+00  0.0000000e+00  0.0000000e+00  0.0000000e+00\n",
            "    1.0608047e+03  1.0845265e+03 -1.2788351e+03  8.0353687e+02\n",
            "    0.0000000e+00  0.0000000e+00  0.0000000e+00  0.0000000e+00]\n",
            "  [ 0.0000000e+00  0.0000000e+00  0.0000000e+00  0.0000000e+00\n",
            "    9.1289203e+02  9.3483313e+02 -1.0990227e+03  6.8634894e+02\n",
            "    0.0000000e+00  0.0000000e+00  0.0000000e+00  0.0000000e+00]\n",
            "  [ 0.0000000e+00  0.0000000e+00  0.0000000e+00  0.0000000e+00\n",
            "    1.0829978e+03  1.1126942e+03 -1.3016305e+03  8.0539490e+02\n",
            "    0.0000000e+00  0.0000000e+00  0.0000000e+00  0.0000000e+00]\n",
            "  [ 0.0000000e+00  0.0000000e+00  0.0000000e+00  0.0000000e+00\n",
            "    1.2924147e+03  1.3119921e+03 -1.5565634e+03  9.9926849e+02\n",
            "    0.0000000e+00  0.0000000e+00  0.0000000e+00  0.0000000e+00]\n",
            "  [ 0.0000000e+00  0.0000000e+00  0.0000000e+00  0.0000000e+00\n",
            "    3.4491950e-01  4.0551543e-01  3.9463142e-01 -1.8188149e-01\n",
            "    0.0000000e+00  0.0000000e+00  0.0000000e+00  0.0000000e+00]\n",
            "  [ 0.0000000e+00  0.0000000e+00  0.0000000e+00  0.0000000e+00\n",
            "    3.3870316e-01  4.1195366e-01  4.0728512e-01 -1.8419498e-01\n",
            "    0.0000000e+00  0.0000000e+00  0.0000000e+00  0.0000000e+00]\n",
            "  [ 0.0000000e+00  0.0000000e+00  0.0000000e+00  0.0000000e+00\n",
            "    3.4491950e-01  4.0551543e-01  3.9463142e-01 -1.8188149e-01\n",
            "    0.0000000e+00  0.0000000e+00  0.0000000e+00  0.0000000e+00]\n",
            "  [ 0.0000000e+00  0.0000000e+00  0.0000000e+00  0.0000000e+00\n",
            "    2.0634076e+02  2.1960419e+02 -2.4100325e+02  1.3705009e+02\n",
            "    0.0000000e+00  0.0000000e+00  0.0000000e+00  0.0000000e+00]\n",
            "  [ 0.0000000e+00  0.0000000e+00  0.0000000e+00  0.0000000e+00\n",
            "    5.7784485e+02  5.9376245e+02 -7.0851611e+02  4.7363449e+02\n",
            "    0.0000000e+00  0.0000000e+00  0.0000000e+00  0.0000000e+00]\n",
            "  [ 0.0000000e+00  0.0000000e+00  0.0000000e+00  0.0000000e+00\n",
            "    8.5390747e+02  8.6552490e+02 -1.0266658e+03  6.6949847e+02\n",
            "    0.0000000e+00  0.0000000e+00  0.0000000e+00  0.0000000e+00]\n",
            "  [ 0.0000000e+00  0.0000000e+00  0.0000000e+00  0.0000000e+00\n",
            "    7.3410730e+02  7.5424988e+02 -9.0013025e+02  6.0177258e+02\n",
            "    0.0000000e+00  0.0000000e+00  0.0000000e+00  0.0000000e+00]\n",
            "  [ 0.0000000e+00  0.0000000e+00  0.0000000e+00  0.0000000e+00\n",
            "    1.0574935e+03  1.0783394e+03 -1.2756560e+03  8.0789282e+02\n",
            "    0.0000000e+00  0.0000000e+00  0.0000000e+00  0.0000000e+00]\n",
            "  [ 0.0000000e+00  0.0000000e+00  0.0000000e+00  0.0000000e+00\n",
            "    1.0529817e+03  1.0768224e+03 -1.2692117e+03  7.9671704e+02\n",
            "    0.0000000e+00  0.0000000e+00  0.0000000e+00  0.0000000e+00]\n",
            "  [ 0.0000000e+00  0.0000000e+00  0.0000000e+00  0.0000000e+00\n",
            "    1.0484207e+03  1.0703961e+03 -1.2644008e+03  7.9771790e+02\n",
            "    0.0000000e+00  0.0000000e+00  0.0000000e+00  0.0000000e+00]]]\n",
            "[[[0.0000000e+00 0.0000000e+00 0.0000000e+00 1.0000000e+00]\n",
            "  [2.6819986e-04 7.8464866e-01 2.6819986e-04 2.1481502e-01]\n",
            "  [0.0000000e+00 0.0000000e+00 0.0000000e+00 1.0000000e+00]\n",
            "  [0.0000000e+00 0.0000000e+00 0.0000000e+00 1.0000000e+00]\n",
            "  [0.0000000e+00 0.0000000e+00 0.0000000e+00 1.0000000e+00]\n",
            "  [0.0000000e+00 0.0000000e+00 0.0000000e+00 1.0000000e+00]\n",
            "  [0.0000000e+00 0.0000000e+00 0.0000000e+00 1.0000000e+00]\n",
            "  [0.0000000e+00 0.0000000e+00 0.0000000e+00 1.0000000e+00]\n",
            "  [0.0000000e+00 0.0000000e+00 0.0000000e+00 1.0000000e+00]\n",
            "  [0.0000000e+00 0.0000000e+00 0.0000000e+00 1.0000000e+00]\n",
            "  [0.0000000e+00 0.0000000e+00 0.0000000e+00 1.0000000e+00]\n",
            "  [0.0000000e+00 0.0000000e+00 0.0000000e+00 1.0000000e+00]\n",
            "  [0.0000000e+00 0.0000000e+00 0.0000000e+00 1.0000000e+00]\n",
            "  [2.8619438e-04 7.7445453e-01 2.8619438e-04 2.2497308e-01]\n",
            "  [0.0000000e+00 1.0000000e+00 0.0000000e+00 0.0000000e+00]\n",
            "  [0.0000000e+00 0.0000000e+00 0.0000000e+00 1.0000000e+00]]]\n",
            "[[[ 0.0000000e+00  0.0000000e+00  0.0000000e+00  0.0000000e+00\n",
            "    8.1509729e+02  8.3739032e+02 -9.9937354e+02  6.6818848e+02\n",
            "    0.0000000e+00  0.0000000e+00  0.0000000e+00  0.0000000e+00]\n",
            "  [ 0.0000000e+00  0.0000000e+00  0.0000000e+00  0.0000000e+00\n",
            "    3.4491950e-01  4.0551543e-01  3.9463142e-01 -1.8188149e-01\n",
            "    0.0000000e+00  0.0000000e+00  0.0000000e+00  0.0000000e+00]\n",
            "  [ 0.0000000e+00  0.0000000e+00  0.0000000e+00  0.0000000e+00\n",
            "    2.5832483e+02  2.6520932e+02 -3.1605753e+02  2.1160527e+02\n",
            "    0.0000000e+00  0.0000000e+00  0.0000000e+00  0.0000000e+00]\n",
            "  [ 0.0000000e+00  0.0000000e+00  0.0000000e+00  0.0000000e+00\n",
            "    1.0808809e+03  1.1024281e+03 -1.3142874e+03  8.7581586e+02\n",
            "    0.0000000e+00  0.0000000e+00  0.0000000e+00  0.0000000e+00]\n",
            "  [ 0.0000000e+00  0.0000000e+00  0.0000000e+00  0.0000000e+00\n",
            "    1.0598993e+03  1.0849301e+03 -1.2767684e+03  7.9868506e+02\n",
            "    0.0000000e+00  0.0000000e+00  0.0000000e+00  0.0000000e+00]\n",
            "  [ 0.0000000e+00  0.0000000e+00  0.0000000e+00  0.0000000e+00\n",
            "    1.1990769e+03  1.2240645e+03 -1.4463353e+03  9.1296710e+02\n",
            "    0.0000000e+00  0.0000000e+00  0.0000000e+00  0.0000000e+00]\n",
            "  [ 0.0000000e+00  0.0000000e+00  0.0000000e+00  0.0000000e+00\n",
            "    2.9103314e+02  2.9883249e+02 -3.5619693e+02  2.3842827e+02\n",
            "    0.0000000e+00  0.0000000e+00  0.0000000e+00  0.0000000e+00]\n",
            "  [ 0.0000000e+00  0.0000000e+00  0.0000000e+00  0.0000000e+00\n",
            "    1.1877178e+03  1.2123306e+03 -1.4326495e+03  9.0463770e+02\n",
            "    0.0000000e+00  0.0000000e+00  0.0000000e+00  0.0000000e+00]\n",
            "  [ 0.0000000e+00  0.0000000e+00  0.0000000e+00  0.0000000e+00\n",
            "    2.9732944e+02  3.0531546e+02 -3.6407126e+02  2.4363518e+02\n",
            "    0.0000000e+00  0.0000000e+00  0.0000000e+00  0.0000000e+00]\n",
            "  [ 0.0000000e+00  0.0000000e+00  0.0000000e+00  0.0000000e+00\n",
            "    1.1373687e+03  1.1608568e+03 -1.3718734e+03  8.6641345e+02\n",
            "    0.0000000e+00  0.0000000e+00  0.0000000e+00  0.0000000e+00]\n",
            "  [ 0.0000000e+00  0.0000000e+00  0.0000000e+00  0.0000000e+00\n",
            "    2.9732944e+02  3.0531546e+02 -3.6407126e+02  2.4363518e+02\n",
            "    0.0000000e+00  0.0000000e+00  0.0000000e+00  0.0000000e+00]\n",
            "  [ 0.0000000e+00  0.0000000e+00  0.0000000e+00  0.0000000e+00\n",
            "    2.9732944e+02  3.0531546e+02 -3.6407126e+02  2.4363518e+02\n",
            "    0.0000000e+00  0.0000000e+00  0.0000000e+00  0.0000000e+00]\n",
            "  [ 0.0000000e+00  0.0000000e+00  0.0000000e+00  0.0000000e+00\n",
            "    9.9628461e+02  1.0241560e+03 -1.1967885e+03  7.3944934e+02\n",
            "    0.0000000e+00  0.0000000e+00  0.0000000e+00  0.0000000e+00]\n",
            "  [ 0.0000000e+00  0.0000000e+00  0.0000000e+00  0.0000000e+00\n",
            "    3.9241868e-01  4.0281028e-01  3.7334141e-01 -1.6209897e-01\n",
            "    0.0000000e+00  0.0000000e+00  0.0000000e+00  0.0000000e+00]\n",
            "  [ 0.0000000e+00  0.0000000e+00  0.0000000e+00  0.0000000e+00\n",
            "    3.3337076e+02  4.4098813e+02 -3.6867459e+02  6.3601433e+01\n",
            "    0.0000000e+00  0.0000000e+00  0.0000000e+00  0.0000000e+00]\n",
            "  [ 0.0000000e+00  0.0000000e+00  0.0000000e+00  0.0000000e+00\n",
            "    1.0730983e+03  1.0909541e+03 -1.2932875e+03  8.2638593e+02\n",
            "    0.0000000e+00  0.0000000e+00  0.0000000e+00  0.0000000e+00]]]\n",
            "[[[0.0000000e+00 0.0000000e+00 0.0000000e+00 1.0000000e+00]\n",
            "  [0.0000000e+00 0.0000000e+00 0.0000000e+00 1.0000000e+00]\n",
            "  [0.0000000e+00 0.0000000e+00 0.0000000e+00 1.0000000e+00]\n",
            "  [0.0000000e+00 0.0000000e+00 0.0000000e+00 1.0000000e+00]\n",
            "  [0.0000000e+00 0.0000000e+00 0.0000000e+00 1.0000000e+00]\n",
            "  [2.6819986e-04 7.8464866e-01 2.6819986e-04 2.1481502e-01]\n",
            "  [2.6819986e-04 7.8464866e-01 2.6819986e-04 2.1481502e-01]\n",
            "  [0.0000000e+00 1.0000000e+00 0.0000000e+00 0.0000000e+00]\n",
            "  [0.0000000e+00 1.0000000e+00 0.0000000e+00 0.0000000e+00]\n",
            "  [0.0000000e+00 0.0000000e+00 0.0000000e+00 1.0000000e+00]\n",
            "  [0.0000000e+00 0.0000000e+00 0.0000000e+00 1.0000000e+00]\n",
            "  [0.0000000e+00 0.0000000e+00 0.0000000e+00 1.0000000e+00]\n",
            "  [0.0000000e+00 0.0000000e+00 0.0000000e+00 1.0000000e+00]\n",
            "  [0.0000000e+00 0.0000000e+00 0.0000000e+00 1.0000000e+00]\n",
            "  [0.0000000e+00 0.0000000e+00 0.0000000e+00 1.0000000e+00]\n",
            "  [0.0000000e+00 0.0000000e+00 0.0000000e+00 1.0000000e+00]]]\n",
            "[[[ 0.0000000e+00  0.0000000e+00  0.0000000e+00  0.0000000e+00\n",
            "    9.6367163e+02  9.9154211e+02 -1.1566223e+03  7.1297980e+02\n",
            "    0.0000000e+00  0.0000000e+00  0.0000000e+00  0.0000000e+00]\n",
            "  [ 0.0000000e+00  0.0000000e+00  0.0000000e+00  0.0000000e+00\n",
            "    1.2220729e+03  1.2433514e+03 -1.4734545e+03  9.3966992e+02\n",
            "    0.0000000e+00  0.0000000e+00  0.0000000e+00  0.0000000e+00]\n",
            "  [ 0.0000000e+00  0.0000000e+00  0.0000000e+00  0.0000000e+00\n",
            "    2.3219067e+03  2.3601746e+03 -2.8068643e+03  1.8578610e+03\n",
            "    0.0000000e+00  0.0000000e+00  0.0000000e+00  0.0000000e+00]\n",
            "  [ 0.0000000e+00  0.0000000e+00  0.0000000e+00  0.0000000e+00\n",
            "    2.8910850e+03  2.9709182e+03 -3.5469688e+03  2.3703069e+03\n",
            "    0.0000000e+00  0.0000000e+00  0.0000000e+00  0.0000000e+00]\n",
            "  [ 0.0000000e+00  0.0000000e+00  0.0000000e+00  0.0000000e+00\n",
            "    9.3838245e+02  9.6409509e+02 -1.1506678e+03  7.6927130e+02\n",
            "    0.0000000e+00  0.0000000e+00  0.0000000e+00  0.0000000e+00]\n",
            "  [ 0.0000000e+00  0.0000000e+00  0.0000000e+00  0.0000000e+00\n",
            "    3.4491950e-01  4.0551543e-01  3.9463142e-01 -1.8188149e-01\n",
            "    0.0000000e+00  0.0000000e+00  0.0000000e+00  0.0000000e+00]\n",
            "  [ 0.0000000e+00  0.0000000e+00  0.0000000e+00  0.0000000e+00\n",
            "    3.4491950e-01  4.0551543e-01  3.9463142e-01 -1.8188149e-01\n",
            "    0.0000000e+00  0.0000000e+00  0.0000000e+00  0.0000000e+00]\n",
            "  [ 0.0000000e+00  0.0000000e+00  0.0000000e+00  0.0000000e+00\n",
            "    1.5212464e+01  9.1107346e+01 -1.5643053e+01 -9.5738312e+01\n",
            "    0.0000000e+00  0.0000000e+00  0.0000000e+00  0.0000000e+00]\n",
            "  [ 0.0000000e+00  0.0000000e+00  0.0000000e+00  0.0000000e+00\n",
            "    2.9133402e+01  1.7680273e+02 -3.0728966e+01 -1.8571230e+02\n",
            "    0.0000000e+00  0.0000000e+00  0.0000000e+00  0.0000000e+00]\n",
            "  [ 0.0000000e+00  0.0000000e+00  0.0000000e+00  0.0000000e+00\n",
            "    1.4732612e+03  1.5039910e+03 -1.7773970e+03  1.1220919e+03\n",
            "    0.0000000e+00  0.0000000e+00  0.0000000e+00  0.0000000e+00]\n",
            "  [ 0.0000000e+00  0.0000000e+00  0.0000000e+00  0.0000000e+00\n",
            "    1.1211431e+03  1.1420599e+03 -1.3523151e+03  8.5914655e+02\n",
            "    0.0000000e+00  0.0000000e+00  0.0000000e+00  0.0000000e+00]\n",
            "  [ 0.0000000e+00  0.0000000e+00  0.0000000e+00  0.0000000e+00\n",
            "    8.6678967e+02  8.7856763e+02 -1.0421443e+03  6.7941113e+02\n",
            "    0.0000000e+00  0.0000000e+00  0.0000000e+00  0.0000000e+00]\n",
            "  [ 0.0000000e+00  0.0000000e+00  0.0000000e+00  0.0000000e+00\n",
            "    9.7850928e+02  9.9608862e+02 -1.1797993e+03  7.5110461e+02\n",
            "    0.0000000e+00  0.0000000e+00  0.0000000e+00  0.0000000e+00]\n",
            "  [ 0.0000000e+00  0.0000000e+00  0.0000000e+00  0.0000000e+00\n",
            "    1.1276708e+03  1.1485974e+03 -1.3601388e+03  8.6438403e+02\n",
            "    0.0000000e+00  0.0000000e+00  0.0000000e+00  0.0000000e+00]\n",
            "  [ 0.0000000e+00  0.0000000e+00  0.0000000e+00  0.0000000e+00\n",
            "    1.1215071e+03  1.1423722e+03 -1.3527255e+03  8.5954150e+02\n",
            "    0.0000000e+00  0.0000000e+00  0.0000000e+00  0.0000000e+00]\n",
            "  [ 0.0000000e+00  0.0000000e+00  0.0000000e+00  0.0000000e+00\n",
            "    1.1215573e+03  1.1424778e+03 -1.3528136e+03  8.5947253e+02\n",
            "    0.0000000e+00  0.0000000e+00  0.0000000e+00  0.0000000e+00]]]\n",
            "[[[0.0000000e+00 0.0000000e+00 0.0000000e+00 1.0000000e+00]\n",
            "  [0.0000000e+00 0.0000000e+00 0.0000000e+00 1.0000000e+00]\n",
            "  [0.0000000e+00 0.0000000e+00 0.0000000e+00 1.0000000e+00]\n",
            "  [0.0000000e+00 0.0000000e+00 0.0000000e+00 1.0000000e+00]\n",
            "  [0.0000000e+00 0.0000000e+00 0.0000000e+00 1.0000000e+00]\n",
            "  [2.6819986e-04 7.8464866e-01 2.6819986e-04 2.1481502e-01]\n",
            "  [0.0000000e+00 0.0000000e+00 0.0000000e+00 1.0000000e+00]\n",
            "  [0.0000000e+00 0.0000000e+00 0.0000000e+00 1.0000000e+00]\n",
            "  [2.6819986e-04 7.8464866e-01 2.6819986e-04 2.1481502e-01]\n",
            "  [0.0000000e+00 0.0000000e+00 0.0000000e+00 1.0000000e+00]\n",
            "  [2.6819986e-04 7.8464866e-01 2.6819986e-04 2.1481502e-01]\n",
            "  [2.6673164e-05 7.8010398e-01 2.6673164e-05 2.1984263e-01]\n",
            "  [1.4589814e-04 7.8689492e-01 1.4589814e-04 2.1281333e-01]\n",
            "  [2.6819986e-04 7.8464866e-01 2.6819986e-04 2.1481502e-01]\n",
            "  [2.6751784e-04 7.5805187e-01 2.6751784e-04 2.4141321e-01]\n",
            "  [0.0000000e+00 0.0000000e+00 0.0000000e+00 1.0000000e+00]]]\n",
            "[[[ 0.0000000e+00  0.0000000e+00  0.0000000e+00  0.0000000e+00\n",
            "    1.1211570e+03  1.1420731e+03 -1.3523317e+03  8.5915894e+02\n",
            "    0.0000000e+00  0.0000000e+00  0.0000000e+00  0.0000000e+00]\n",
            "  [ 0.0000000e+00  0.0000000e+00  0.0000000e+00  0.0000000e+00\n",
            "    1.1211431e+03  1.1420599e+03 -1.3523151e+03  8.5914655e+02\n",
            "    0.0000000e+00  0.0000000e+00  0.0000000e+00  0.0000000e+00]\n",
            "  [ 0.0000000e+00  0.0000000e+00  0.0000000e+00  0.0000000e+00\n",
            "    1.1211431e+03  1.1420599e+03 -1.3523151e+03  8.5914655e+02\n",
            "    0.0000000e+00  0.0000000e+00  0.0000000e+00  0.0000000e+00]\n",
            "  [ 0.0000000e+00  0.0000000e+00  0.0000000e+00  0.0000000e+00\n",
            "    1.1211431e+03  1.1420599e+03 -1.3523151e+03  8.5914655e+02\n",
            "    0.0000000e+00  0.0000000e+00  0.0000000e+00  0.0000000e+00]\n",
            "  [ 0.0000000e+00  0.0000000e+00  0.0000000e+00  0.0000000e+00\n",
            "    2.9732944e+02  3.0531546e+02 -3.6407126e+02  2.4363518e+02\n",
            "    0.0000000e+00  0.0000000e+00  0.0000000e+00  0.0000000e+00]\n",
            "  [ 0.0000000e+00  0.0000000e+00  0.0000000e+00  0.0000000e+00\n",
            "    3.4491950e-01  4.0551543e-01  3.9463142e-01 -1.8188149e-01\n",
            "    0.0000000e+00  0.0000000e+00  0.0000000e+00  0.0000000e+00]\n",
            "  [ 0.0000000e+00  0.0000000e+00  0.0000000e+00  0.0000000e+00\n",
            "    2.9732895e+02  3.0531497e+02 -3.6407068e+02  2.4363478e+02\n",
            "    0.0000000e+00  0.0000000e+00  0.0000000e+00  0.0000000e+00]\n",
            "  [ 0.0000000e+00  0.0000000e+00  0.0000000e+00  0.0000000e+00\n",
            "    2.9732928e+02  3.0531528e+02 -3.6407111e+02  2.4363504e+02\n",
            "    0.0000000e+00  0.0000000e+00  0.0000000e+00  0.0000000e+00]\n",
            "  [ 0.0000000e+00  0.0000000e+00  0.0000000e+00  0.0000000e+00\n",
            "    3.4491950e-01  4.0551543e-01  3.9463142e-01 -1.8188149e-01\n",
            "    0.0000000e+00  0.0000000e+00  0.0000000e+00  0.0000000e+00]\n",
            "  [ 0.0000000e+00  0.0000000e+00  0.0000000e+00  0.0000000e+00\n",
            "    2.6779135e+02  2.7494070e+02 -3.2779044e+02  2.1941017e+02\n",
            "    0.0000000e+00  0.0000000e+00  0.0000000e+00  0.0000000e+00]\n",
            "  [ 0.0000000e+00  0.0000000e+00  0.0000000e+00  0.0000000e+00\n",
            "    3.4491950e-01  4.0551543e-01  3.9463142e-01 -1.8188149e-01\n",
            "    0.0000000e+00  0.0000000e+00  0.0000000e+00  0.0000000e+00]\n",
            "  [ 0.0000000e+00  0.0000000e+00  0.0000000e+00  0.0000000e+00\n",
            "    4.1571584e-01  5.2301300e-01  3.9140314e-01 -2.0935507e-01\n",
            "    0.0000000e+00  0.0000000e+00  0.0000000e+00  0.0000000e+00]\n",
            "  [ 0.0000000e+00  0.0000000e+00  0.0000000e+00  0.0000000e+00\n",
            "    3.5081211e-01  4.0032467e-01  4.2783135e-01 -1.7340803e-01\n",
            "    0.0000000e+00  0.0000000e+00  0.0000000e+00  0.0000000e+00]\n",
            "  [ 0.0000000e+00  0.0000000e+00  0.0000000e+00  0.0000000e+00\n",
            "    3.4491950e-01  4.0551543e-01  3.9463142e-01 -1.8188149e-01\n",
            "    0.0000000e+00  0.0000000e+00  0.0000000e+00  0.0000000e+00]\n",
            "  [ 0.0000000e+00  0.0000000e+00  0.0000000e+00  0.0000000e+00\n",
            "    2.9229057e-01  4.7802466e-01  4.1110787e-01 -2.3448555e-01\n",
            "    0.0000000e+00  0.0000000e+00  0.0000000e+00  0.0000000e+00]\n",
            "  [ 0.0000000e+00  0.0000000e+00  0.0000000e+00  0.0000000e+00\n",
            "    6.5411139e+02  6.7191284e+02 -8.0180530e+02  5.3619720e+02\n",
            "    0.0000000e+00  0.0000000e+00  0.0000000e+00  0.0000000e+00]]]\n",
            "Elapsed:0.2978370189666748\n",
            "(88, 140, 88, 140)\n",
            "(560, -16086416, 560, 16087048)\n",
            "(104, 184, 104, 184)\n",
            "(52, 60, 56, 64)\n",
            "(88, 0, 96, 4)\n",
            "(64, 92, 76, 96)\n",
            "(60, 68, 84, 88)\n",
            "(60, 68, 72, 76)\n",
            "(88, 4, 96, 12)\n",
            "(0, 0, 4, 8)\n",
            "(76, 0, 88, 4)\n",
            "\n",
            "Total model metrics: mAP: 0.5416666666666666 - macro_precision: 0.0 - macro_recall: 0.0\n"
          ]
        }
      ],
      "metadata": {
        "tags": []
      }
    },
    {
      "cell_type": "code",
      "execution_count": null,
      "source": [
        "preds"
      ],
      "outputs": [],
      "metadata": {}
    },
    {
      "cell_type": "code",
      "execution_count": null,
      "source": [
        "print(config.patch_dim , float(config.resizeFinalDim))"
      ],
      "outputs": [],
      "metadata": {}
    },
    {
      "cell_type": "code",
      "execution_count": null,
      "source": [
        "print_img(config.TRAIN_PATCHES_FOLDER, '20_16396_16729_20')"
      ],
      "outputs": [],
      "metadata": {}
    },
    {
      "cell_type": "code",
      "execution_count": 28,
      "source": [
        "anch = pd.read_pickle(f'{config.EVAL_RESULTS}/20_16396_16729_20/20_16396_16729_20.pkl')\n",
        "display(anch)"
      ],
      "outputs": [
        {
          "output_type": "display_data",
          "data": {
            "text/plain": [
              "    x1s      y1s  x2s      y2s class      prob\n",
              "0    17       28   17       28   2_3  1.000000\n",
              "1   112 -3217284  112  3217409   2_3  1.000000\n",
              "2    20       36   20       36   2_3  1.000000\n",
              "3    10       12   11       12   2_3  0.790292\n",
              "4    17        0   19        0   2_3  0.786895\n",
              "5    12       18   15       19   2_3  0.784649\n",
              "6    12       13   16       17   2_3  0.784649\n",
              "7    12       13   14       15   2_3  0.784649\n",
              "8    17        0   19        2   2_3  0.784649\n",
              "9     0        0    0        1   2_3  0.780104\n",
              "10   15        0   17        0   2_3  0.758052"
            ],
            "text/html": [
              "<div>\n",
              "<style scoped>\n",
              "    .dataframe tbody tr th:only-of-type {\n",
              "        vertical-align: middle;\n",
              "    }\n",
              "\n",
              "    .dataframe tbody tr th {\n",
              "        vertical-align: top;\n",
              "    }\n",
              "\n",
              "    .dataframe thead th {\n",
              "        text-align: right;\n",
              "    }\n",
              "</style>\n",
              "<table border=\"1\" class=\"dataframe\">\n",
              "  <thead>\n",
              "    <tr style=\"text-align: right;\">\n",
              "      <th></th>\n",
              "      <th>x1s</th>\n",
              "      <th>y1s</th>\n",
              "      <th>x2s</th>\n",
              "      <th>y2s</th>\n",
              "      <th>class</th>\n",
              "      <th>prob</th>\n",
              "    </tr>\n",
              "  </thead>\n",
              "  <tbody>\n",
              "    <tr>\n",
              "      <th>0</th>\n",
              "      <td>17</td>\n",
              "      <td>28</td>\n",
              "      <td>17</td>\n",
              "      <td>28</td>\n",
              "      <td>2_3</td>\n",
              "      <td>1.000000</td>\n",
              "    </tr>\n",
              "    <tr>\n",
              "      <th>1</th>\n",
              "      <td>112</td>\n",
              "      <td>-3217284</td>\n",
              "      <td>112</td>\n",
              "      <td>3217409</td>\n",
              "      <td>2_3</td>\n",
              "      <td>1.000000</td>\n",
              "    </tr>\n",
              "    <tr>\n",
              "      <th>2</th>\n",
              "      <td>20</td>\n",
              "      <td>36</td>\n",
              "      <td>20</td>\n",
              "      <td>36</td>\n",
              "      <td>2_3</td>\n",
              "      <td>1.000000</td>\n",
              "    </tr>\n",
              "    <tr>\n",
              "      <th>3</th>\n",
              "      <td>10</td>\n",
              "      <td>12</td>\n",
              "      <td>11</td>\n",
              "      <td>12</td>\n",
              "      <td>2_3</td>\n",
              "      <td>0.790292</td>\n",
              "    </tr>\n",
              "    <tr>\n",
              "      <th>4</th>\n",
              "      <td>17</td>\n",
              "      <td>0</td>\n",
              "      <td>19</td>\n",
              "      <td>0</td>\n",
              "      <td>2_3</td>\n",
              "      <td>0.786895</td>\n",
              "    </tr>\n",
              "    <tr>\n",
              "      <th>5</th>\n",
              "      <td>12</td>\n",
              "      <td>18</td>\n",
              "      <td>15</td>\n",
              "      <td>19</td>\n",
              "      <td>2_3</td>\n",
              "      <td>0.784649</td>\n",
              "    </tr>\n",
              "    <tr>\n",
              "      <th>6</th>\n",
              "      <td>12</td>\n",
              "      <td>13</td>\n",
              "      <td>16</td>\n",
              "      <td>17</td>\n",
              "      <td>2_3</td>\n",
              "      <td>0.784649</td>\n",
              "    </tr>\n",
              "    <tr>\n",
              "      <th>7</th>\n",
              "      <td>12</td>\n",
              "      <td>13</td>\n",
              "      <td>14</td>\n",
              "      <td>15</td>\n",
              "      <td>2_3</td>\n",
              "      <td>0.784649</td>\n",
              "    </tr>\n",
              "    <tr>\n",
              "      <th>8</th>\n",
              "      <td>17</td>\n",
              "      <td>0</td>\n",
              "      <td>19</td>\n",
              "      <td>2</td>\n",
              "      <td>2_3</td>\n",
              "      <td>0.784649</td>\n",
              "    </tr>\n",
              "    <tr>\n",
              "      <th>9</th>\n",
              "      <td>0</td>\n",
              "      <td>0</td>\n",
              "      <td>0</td>\n",
              "      <td>1</td>\n",
              "      <td>2_3</td>\n",
              "      <td>0.780104</td>\n",
              "    </tr>\n",
              "    <tr>\n",
              "      <th>10</th>\n",
              "      <td>15</td>\n",
              "      <td>0</td>\n",
              "      <td>17</td>\n",
              "      <td>0</td>\n",
              "      <td>2_3</td>\n",
              "      <td>0.758052</td>\n",
              "    </tr>\n",
              "  </tbody>\n",
              "</table>\n",
              "</div>"
            ]
          },
          "metadata": {}
        }
      ],
      "metadata": {}
    },
    {
      "cell_type": "code",
      "execution_count": 29,
      "source": [
        "anch['width'] = anch['x2s'] - anch['x1s']\n",
        "anch['heght'] = anch['y2s'] - anch['y1s']"
      ],
      "outputs": [],
      "metadata": {}
    },
    {
      "cell_type": "code",
      "execution_count": 30,
      "source": [
        "anch.describe() "
      ],
      "outputs": [
        {
          "output_type": "execute_result",
          "data": {
            "text/plain": [
              "              x1s           y1s         x2s           y2s       prob  \\\n",
              "count   11.000000  1.100000e+01   11.000000  1.100000e+01  11.000000   \n",
              "mean    22.181818 -2.924695e+05   23.636364  2.925035e+05   0.841267   \n",
              "std     30.258282  9.700512e+05   29.827077  9.700814e+05   0.102290   \n",
              "min      0.000000 -3.217284e+06    0.000000  0.000000e+00   0.758052   \n",
              "25%     12.000000  0.000000e+00   14.500000  1.500000e+00   0.784649   \n",
              "50%     15.000000  1.200000e+01   17.000000  1.500000e+01   0.784649   \n",
              "75%     17.000000  1.550000e+01   19.000000  2.350000e+01   0.895146   \n",
              "max    112.000000  3.600000e+01  112.000000  3.217409e+06   1.000000   \n",
              "\n",
              "           width         heght  \n",
              "count  11.000000  1.100000e+01  \n",
              "mean    1.454545  5.849730e+05  \n",
              "std     1.368476  1.940133e+06  \n",
              "min     0.000000  0.000000e+00  \n",
              "25%     0.000000  0.000000e+00  \n",
              "50%     2.000000  1.000000e+00  \n",
              "75%     2.000000  2.000000e+00  \n",
              "max     4.000000  6.434693e+06  "
            ],
            "text/html": [
              "<div>\n",
              "<style scoped>\n",
              "    .dataframe tbody tr th:only-of-type {\n",
              "        vertical-align: middle;\n",
              "    }\n",
              "\n",
              "    .dataframe tbody tr th {\n",
              "        vertical-align: top;\n",
              "    }\n",
              "\n",
              "    .dataframe thead th {\n",
              "        text-align: right;\n",
              "    }\n",
              "</style>\n",
              "<table border=\"1\" class=\"dataframe\">\n",
              "  <thead>\n",
              "    <tr style=\"text-align: right;\">\n",
              "      <th></th>\n",
              "      <th>x1s</th>\n",
              "      <th>y1s</th>\n",
              "      <th>x2s</th>\n",
              "      <th>y2s</th>\n",
              "      <th>prob</th>\n",
              "      <th>width</th>\n",
              "      <th>heght</th>\n",
              "    </tr>\n",
              "  </thead>\n",
              "  <tbody>\n",
              "    <tr>\n",
              "      <th>count</th>\n",
              "      <td>11.000000</td>\n",
              "      <td>1.100000e+01</td>\n",
              "      <td>11.000000</td>\n",
              "      <td>1.100000e+01</td>\n",
              "      <td>11.000000</td>\n",
              "      <td>11.000000</td>\n",
              "      <td>1.100000e+01</td>\n",
              "    </tr>\n",
              "    <tr>\n",
              "      <th>mean</th>\n",
              "      <td>22.181818</td>\n",
              "      <td>-2.924695e+05</td>\n",
              "      <td>23.636364</td>\n",
              "      <td>2.925035e+05</td>\n",
              "      <td>0.841267</td>\n",
              "      <td>1.454545</td>\n",
              "      <td>5.849730e+05</td>\n",
              "    </tr>\n",
              "    <tr>\n",
              "      <th>std</th>\n",
              "      <td>30.258282</td>\n",
              "      <td>9.700512e+05</td>\n",
              "      <td>29.827077</td>\n",
              "      <td>9.700814e+05</td>\n",
              "      <td>0.102290</td>\n",
              "      <td>1.368476</td>\n",
              "      <td>1.940133e+06</td>\n",
              "    </tr>\n",
              "    <tr>\n",
              "      <th>min</th>\n",
              "      <td>0.000000</td>\n",
              "      <td>-3.217284e+06</td>\n",
              "      <td>0.000000</td>\n",
              "      <td>0.000000e+00</td>\n",
              "      <td>0.758052</td>\n",
              "      <td>0.000000</td>\n",
              "      <td>0.000000e+00</td>\n",
              "    </tr>\n",
              "    <tr>\n",
              "      <th>25%</th>\n",
              "      <td>12.000000</td>\n",
              "      <td>0.000000e+00</td>\n",
              "      <td>14.500000</td>\n",
              "      <td>1.500000e+00</td>\n",
              "      <td>0.784649</td>\n",
              "      <td>0.000000</td>\n",
              "      <td>0.000000e+00</td>\n",
              "    </tr>\n",
              "    <tr>\n",
              "      <th>50%</th>\n",
              "      <td>15.000000</td>\n",
              "      <td>1.200000e+01</td>\n",
              "      <td>17.000000</td>\n",
              "      <td>1.500000e+01</td>\n",
              "      <td>0.784649</td>\n",
              "      <td>2.000000</td>\n",
              "      <td>1.000000e+00</td>\n",
              "    </tr>\n",
              "    <tr>\n",
              "      <th>75%</th>\n",
              "      <td>17.000000</td>\n",
              "      <td>1.550000e+01</td>\n",
              "      <td>19.000000</td>\n",
              "      <td>2.350000e+01</td>\n",
              "      <td>0.895146</td>\n",
              "      <td>2.000000</td>\n",
              "      <td>2.000000e+00</td>\n",
              "    </tr>\n",
              "    <tr>\n",
              "      <th>max</th>\n",
              "      <td>112.000000</td>\n",
              "      <td>3.600000e+01</td>\n",
              "      <td>112.000000</td>\n",
              "      <td>3.217409e+06</td>\n",
              "      <td>1.000000</td>\n",
              "      <td>4.000000</td>\n",
              "      <td>6.434693e+06</td>\n",
              "    </tr>\n",
              "  </tbody>\n",
              "</table>\n",
              "</div>"
            ]
          },
          "metadata": {},
          "execution_count": 30
        }
      ],
      "metadata": {}
    },
    {
      "cell_type": "code",
      "execution_count": 31,
      "source": [
        "print_img(config.TRAIN_PATCHES_FOLDER, '20_16396_16729_20', config.EVAL_RESULTS)"
      ],
      "outputs": [
        {
          "output_type": "display_data",
          "data": {
            "text/plain": [
              "<Figure size 432x288 with 1 Axes>"
            ],
            "image/png": "[encoded data removed]"
          },
          "metadata": {
            "needs_background": "light"
          }
        }
      ],
      "metadata": {}
    },
    {
      "cell_type": "markdown",
      "source": [],
      "metadata": {}
    },
    {
      "cell_type": "markdown",
      "source": [
        "TODO - 20210508:\n",
        "- [X] troncamento rumore a 1e-6 tramite half gaussian\n",
        "\n",
        "TODO - 20210605:\n",
        "- [X] modificare RPNNet in modo che dia in output anche la backbone - Lorenzo\n",
        "- [X] scrivere bene training loop: salvare le loss in un df su disco + salvare pesi modello ad ogni giro (Lorenzo - finire di debuggare)\n",
        "\n",
        "TODO - 20210620:\n",
        "- [x] implementare mAP in una funzione che prende come parametro un modello o i suoi pesi\n",
        "- [x] implementare resNet50\n",
        "- [x] implementare predicted rois - Lorenzo\n",
        "- [X] implementare plot loss training - Lorenzo\n",
        "- [X] finire classe datasetv2 - Alice\n",
        "- [X] check se su colab le performance sono migliori - Lorenzo\n",
        "\n",
        "TODO - 20210627\n",
        "- [X] split dataset su combinazioni classi - Alice\n",
        "- [x] provare campionamento random patch ed osservare le due distribuzioni - Alice\n",
        "\n",
        "TODO - 20210703\n",
        "- [x] sistemare salvataggio loss training loop - Lorenzo\n",
        "- [x] Riscalare immagini tra 0-255 - Alice\n",
        "- [x] capire se passare tre immagini diverse come input\n",
        "- [x] usare media vgg16 per zero-centering - Alice\n",
        "\n",
        "TODO - 20210705\n",
        "- [x] sistemare nomi funzioni dataset per trasformazione rgb\n",
        "\n",
        "TODO - 20210711\n",
        "- [x] rifattorizzare classe dataset spostando nel costruttore i metodi che calcolano i suoi attributi - Lorenzo\n",
        "- [x] chek valori pixel in input per resnet\n",
        "- [x] fare funzione per plottare le predictions\n",
        "- [ ] trainare tutto su colab\n",
        "\n",
        "TODO - 20210714\n",
        "- [x] ragionare su come scalare le immagini fra 0 e 1, attualmente hanno tanti valori schiacciati a 0 e il massimo su tutto il train a a 0.4\n",
        "\n",
        "TODO - 20210717\n",
        "- [ ] Ablation study: provare a rimuovere stage4 nella resnet - se c'è tempo\n",
        "- [x] Provare con nostra pixel_mean e con vgg16 pixel_mean -> per il momento abbiamo scartato la prima opzione\n",
        "- [ ] Fare qualche analisi di distribuzione delle classi/dim box del dataset - Alice\n",
        "- [x] Aggiungere normalizzazione dopo zero centering per resNet50, sulla base del range globale dell'immagine di training\n",
        "- [ ] Provare pulizia dataset originale sulla base del rumore/flusso - Alice\n",
        "- [ ] Cambiare nomi di tutto - alla fine\n",
        "- [x] implementare zero-centering su volare medio RGB delle nostre patch\n",
        "- [x] Funzione che trova l'ultimo checkpoint in colab prima del load_weights - Lorenzo\n",
        "\n",
        "TODO - 20210801\n",
        "- [x] Debuggare training baseline 8 e 16 - L\n",
        "- [ ] Finire prove pulizia dataseet noise variando k - A"
      ],
      "metadata": {}
    },
    {
      "cell_type": "markdown",
      "source": [
        "1.  Summary\n",
        "    - riassunto progetto\n",
        "2.  Background\n",
        "    - SoTA + teoria di base\n",
        "3.  System Description\n",
        "    - descrizione dei nostri modelli e dei loro componenti (moduli)\n",
        "4.  Experimental setup and results\n",
        "    - dataset pre processing\n",
        "    - training environment\n",
        "    - metrics\n",
        "    - results\n",
        "5.  Results and error analysis\n",
        "6.  Discussion"
      ],
      "metadata": {}
    },
    {
      "cell_type": "markdown",
      "source": [
        "# Plotting"
      ],
      "metadata": {}
    },
    {
      "cell_type": "code",
      "execution_count": null,
      "source": [
        "loss_history = np.load(f\"./model/{backbone}/loss_history.npy\")\n",
        "print(loss_history.shape)"
      ],
      "outputs": [],
      "metadata": {}
    },
    {
      "cell_type": "code",
      "execution_count": null,
      "source": [
        "loss_history"
      ],
      "outputs": [],
      "metadata": {}
    },
    {
      "cell_type": "code",
      "execution_count": null,
      "source": [
        "plot_loss(loss_history)"
      ],
      "outputs": [],
      "metadata": {}
    },
    {
      "cell_type": "markdown",
      "source": [],
      "metadata": {}
    }
  ]
}