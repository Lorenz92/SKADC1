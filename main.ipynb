{
  "nbformat": 4,
  "nbformat_minor": 0,
  "metadata": {
    "language_info": {
      "codemirror_mode": {
        "name": "ipython",
        "version": 3
      },
      "file_extension": ".py",
      "mimetype": "text/x-python",
      "name": "python",
      "nbconvert_exporter": "python",
      "pygments_lexer": "ipython3",
      "version": "3.8.2"
    },
    "orig_nbformat": 2,
    "kernelspec": {
      "name": "python382jvsc74a57bd031f2aee4e71d21fbe5cf8b01ff0e069b9275f58929596ceb00d14d90e3e16cd6",
      "display_name": "Python 3.8.2 64-bit"
    },
    "colab": {
      "name": "main.ipynb",
      "provenance": []
    },
    "metadata": {
      "interpreter": {
        "hash": "31f2aee4e71d21fbe5cf8b01ff0e069b9275f58929596ceb00d14d90e3e16cd6"
      }
    }
  },
  "cells": [
    {
      "cell_type": "code",
      "metadata": {
        "id": "XkdmU4lMMVmI",
        "outputId": "7bfc2152-66c6-4d4d-f838-0e531b28a348",
        "colab": {
          "base_uri": "https://localhost:8080/"
        }
      },
      "source": [
        "!git clone 'https://github.com/Lorenz92/SKADC1.git'\n",
        "% cd SKADC1\n",
        "!echo $PWD"
      ],
      "execution_count": 12,
      "outputs": [
        {
          "output_type": "stream",
          "text": [
            "Cloning into 'SKADC1'...\n",
            "remote: Enumerating objects: 41, done.\u001b[K\n",
            "remote: Counting objects: 100% (41/41), done.\u001b[K\n",
            "remote: Compressing objects: 100% (33/33), done.\u001b[K\n",
            "remote: Total 41 (delta 17), reused 25 (delta 6), pack-reused 0\u001b[K\n",
            "Unpacking objects: 100% (41/41), done.\n"
          ],
          "name": "stdout"
        }
      ]
    },
    {
      "cell_type": "code",
      "metadata": {
        "id": "7WwOlsifF-5G",
        "outputId": "303002ab-c8c4-4807-caeb-ee1c590d4326",
        "colab": {
          "base_uri": "https://localhost:8080/"
        }
      },
      "source": [
        "import pandas as pd\n",
        "import numpy as np\n",
        "import requests\n",
        "import matplotlib.pyplot as plt\n",
        "import sys\n",
        "from astropy.io import fits\n",
        "import os\n",
        "\n",
        "import src.dataset as dataset\n",
        "import src.config as config\n",
        "from src.utils import *\n",
        "import src.preprocessing as prep\n",
        "\n",
        "# from src.config import * \n",
        "\n",
        "%load_ext autoreload\n",
        "%autoreload 2\n",
        "\n",
        "np.random.seed(config.RANDOM_SEED)"
      ],
      "execution_count": 1,
      "outputs": []
    },
    {
      "cell_type": "code",
      "metadata": {
        "id": "qHxrJ525F-5J",
        "outputId": "ee8e854b-65ce-486a-e9e3-c5752e45406c",
        "colab": {
          "base_uri": "https://localhost:8080/"
        }
      },
      "source": [
        "for download_info in config.required_files:\n",
        "    if not os.path.exists(os.path.join(config.TRAIN_DATA_FOLDER, download_info['file_name'])):\n",
        "        download_data(download_info['file_name'], download_info['url'], config.DOWNLOAD_FOLDER)"
      ],
      "execution_count": 7,
      "outputs": [
        {
          "output_type": "stream",
          "name": "stdout",
          "text": [
            "Downloading SKA 560Mhz_1000h.fits data...\n",
            "Download completed!\n",
            "Downloading SKA 9200Mhz_1000h.fits data...\n",
            "Download completed!\n"
          ]
        }
      ]
    },
    {
      "cell_type": "code",
      "metadata": {
        "tags": [],
        "id": "Q8IbYCwkF-5K",
        "outputId": "5cd8e5ba-49cd-49b4-d65c-65d82229f792",
        "colab": {
          "base_uri": "https://localhost:8080/",
          "height": 221
        }
      },
      "source": [
        "# Dataset parsing and loading\n",
        "# use \"subset\" to load a small portion of data for development/debugging purposes\n",
        "\n",
        "ska_dataset = dataset.SKADataset(train_set_path=config.TRAIN_SET_PATH, subset=config.DATA_SUBSET)\n",
        "print(ska_dataset.raw_train_df.shape)\n",
        "ska_dataset.raw_train_df.head()"
      ],
      "execution_count": 2,
      "outputs": [
        {
          "output_type": "stream",
          "name": "stdout",
          "text": [
            "(19222, 15)\n"
          ]
        },
        {
          "output_type": "execute_result",
          "data": {
            "text/plain": [
              "         ID  RA (core)  DEC (core)  RA (centroid)  DEC (centroid)      FLUX  \\\n",
              "0  24121695  -0.642227  -29.775242      -0.642316      -29.775211  0.000035   \n",
              "1  20167150  -0.390473  -29.867493      -0.390667      -29.868851  0.029555   \n",
              "2  20045120  -0.021411  -29.643486      -0.021359      -29.643561  0.000653   \n",
              "3  33938384  -0.316375  -29.697647      -0.316375      -29.697647  0.000017   \n",
              "4   7527248  -0.336528  -29.627335      -0.336527      -29.627338  0.000054   \n",
              "\n",
              "   Core frac     BMAJ    BMIN       PA  SIZE  CLASS  SELECTION          x  \\\n",
              "0   0.000000    5.600   5.551  328.554     1      1          1  19704.519   \n",
              "1   0.016924  107.110  43.263  191.258     1      1          1  18401.338   \n",
              "2   0.012185    5.037   3.525  276.587     1      1          1  16493.600   \n",
              "3   0.000000    0.847   0.266  346.641     2      1          1  18020.319   \n",
              "4   0.044763    3.343   1.515  279.006     1      1          1  18125.824   \n",
              "\n",
              "           y  \n",
              "0  17712.942  \n",
              "1  17160.919  \n",
              "2  18506.577  \n",
              "3  18182.095  \n",
              "4  18600.680  "
            ],
            "text/html": "<div>\n<style scoped>\n    .dataframe tbody tr th:only-of-type {\n        vertical-align: middle;\n    }\n\n    .dataframe tbody tr th {\n        vertical-align: top;\n    }\n\n    .dataframe thead th {\n        text-align: right;\n    }\n</style>\n<table border=\"1\" class=\"dataframe\">\n  <thead>\n    <tr style=\"text-align: right;\">\n      <th></th>\n      <th>ID</th>\n      <th>RA (core)</th>\n      <th>DEC (core)</th>\n      <th>RA (centroid)</th>\n      <th>DEC (centroid)</th>\n      <th>FLUX</th>\n      <th>Core frac</th>\n      <th>BMAJ</th>\n      <th>BMIN</th>\n      <th>PA</th>\n      <th>SIZE</th>\n      <th>CLASS</th>\n      <th>SELECTION</th>\n      <th>x</th>\n      <th>y</th>\n    </tr>\n  </thead>\n  <tbody>\n    <tr>\n      <th>0</th>\n      <td>24121695</td>\n      <td>-0.642227</td>\n      <td>-29.775242</td>\n      <td>-0.642316</td>\n      <td>-29.775211</td>\n      <td>0.000035</td>\n      <td>0.000000</td>\n      <td>5.600</td>\n      <td>5.551</td>\n      <td>328.554</td>\n      <td>1</td>\n      <td>1</td>\n      <td>1</td>\n      <td>19704.519</td>\n      <td>17712.942</td>\n    </tr>\n    <tr>\n      <th>1</th>\n      <td>20167150</td>\n      <td>-0.390473</td>\n      <td>-29.867493</td>\n      <td>-0.390667</td>\n      <td>-29.868851</td>\n      <td>0.029555</td>\n      <td>0.016924</td>\n      <td>107.110</td>\n      <td>43.263</td>\n      <td>191.258</td>\n      <td>1</td>\n      <td>1</td>\n      <td>1</td>\n      <td>18401.338</td>\n      <td>17160.919</td>\n    </tr>\n    <tr>\n      <th>2</th>\n      <td>20045120</td>\n      <td>-0.021411</td>\n      <td>-29.643486</td>\n      <td>-0.021359</td>\n      <td>-29.643561</td>\n      <td>0.000653</td>\n      <td>0.012185</td>\n      <td>5.037</td>\n      <td>3.525</td>\n      <td>276.587</td>\n      <td>1</td>\n      <td>1</td>\n      <td>1</td>\n      <td>16493.600</td>\n      <td>18506.577</td>\n    </tr>\n    <tr>\n      <th>3</th>\n      <td>33938384</td>\n      <td>-0.316375</td>\n      <td>-29.697647</td>\n      <td>-0.316375</td>\n      <td>-29.697647</td>\n      <td>0.000017</td>\n      <td>0.000000</td>\n      <td>0.847</td>\n      <td>0.266</td>\n      <td>346.641</td>\n      <td>2</td>\n      <td>1</td>\n      <td>1</td>\n      <td>18020.319</td>\n      <td>18182.095</td>\n    </tr>\n    <tr>\n      <th>4</th>\n      <td>7527248</td>\n      <td>-0.336528</td>\n      <td>-29.627335</td>\n      <td>-0.336527</td>\n      <td>-29.627338</td>\n      <td>0.000054</td>\n      <td>0.044763</td>\n      <td>3.343</td>\n      <td>1.515</td>\n      <td>279.006</td>\n      <td>1</td>\n      <td>1</td>\n      <td>1</td>\n      <td>18125.824</td>\n      <td>18600.680</td>\n    </tr>\n  </tbody>\n</table>\n</div>"
          },
          "metadata": {},
          "execution_count": 2
        }
      ]
    },
    {
      "cell_type": "code",
      "metadata": {
        "id": "fdok-EggF-5T",
        "outputId": "40c460e3-a600-4a3b-98a4-021a903c522e",
        "colab": {
          "base_uri": "https://localhost:8080/"
        }
      },
      "source": [
        "data_560Mhz_1000h_fits = fits.open('./data/training/560Mhz_1000h.fits')\n",
        "# data_560Mhz_1000h_fits.info()\n",
        "data_560Mhz_1000h_fits.filename()\n",
        "\n",
        "# print(data_560Mhz_1000h_fits[0].data)\n",
        "# print(data_560Mhz_1000h_fits[0].data.shape)\n",
        "\n",
        "data_560Mhz_1000h = data_560Mhz_1000h_fits[0].data[0,0]\n"
      ],
      "execution_count": 3,
      "outputs": [
        {
          "output_type": "stream",
          "name": "stderr",
          "text": [
            "WARNING: VerifyWarning: Invalid 'BLANK' keyword in header.  The 'BLANK' keyword is only applicable to integer data, and will be ignored in this HDU. [astropy.io.fits.hdu.image]\n"
          ]
        }
      ]
    },
    {
      "cell_type": "code",
      "metadata": {
        "id": "jdi1VFtOF-5V",
        "outputId": "0637233d-fadd-4c9f-b823-02ab6424866f"
      },
      "source": [
        "# Visualization test\n",
        "from astropy.io import fits\n",
        "from astropy.utils.data import download_file\n",
        "\n",
        "# image_file = download_file('https://owncloud.ia2.inaf.it/index.php/s/hbasFhd4YILNkCr/download', cache=True )\n",
        "\n",
        "# image_data = fits.getdata(image_file)\n",
        "# image_data = image_data.reshape(image_data.shape[2:])\n",
        "\n",
        "# compute per value to clip the image\n",
        "perc = 99.9\n",
        "percentileThresh = np.percentile(data_560Mhz_1000h, perc)\n",
        "print (f'{perc} percentile {percentileThresh}')\n",
        "\n",
        "# # crop the image to speed up computation and clip using per value\n",
        "# image_crop= image_data[5000:10000, 5000:10000]\n",
        "# image_crop.clip(max=percentileThresh)\n",
        "\n",
        "# plt.figure(figsize=(100, 100))\n",
        "# # plt.imshow(normalized_data, cmap='viridis', vmax=255, vmin=0)\n",
        "# for idx in range(25):\n",
        "#     plt.subplot(5, 5, idx+1)\n",
        "#     plt.axis('off')\n",
        "#     base = 200 * idx\n",
        "#     end = base + 200\n",
        "#     normalized_data = image_crop[base:end, base:end] * (1.0 / percentileThresh)\n",
        "#     plt.imshow(normalized_data, cmap='viridis', vmax=1, vmin=0)"
      ],
      "execution_count": 28,
      "outputs": [
        {
          "output_type": "stream",
          "name": "stdout",
          "text": [
            "99.9 percentile 8.316711500810925e-06\n"
          ]
        }
      ]
    },
    {
      "cell_type": "markdown",
      "metadata": {
        "id": "UqSLm8sBF-5W"
      },
      "source": [
        "### Preprocessing"
      ]
    },
    {
      "cell_type": "code",
      "execution_count": 4,
      "metadata": {},
      "outputs": [],
      "source": [
        "coords = ska_dataset._convert_boxes_to_px_coord(ska_dataset.raw_train_df, data_560Mhz_1000h_fits[0].header)"
      ]
    },
    {
      "source": [
        "pd.DataFrame.from_dict(coords)"
      ],
      "cell_type": "code",
      "metadata": {
        "tags": []
      },
      "execution_count": 5,
      "outputs": [
        {
          "output_type": "execute_result",
          "data": {
            "text/plain": [
              "                 x1            y1            x2            y2  major_semia_px  \\\n",
              "0      19699.889820  17708.334874  19709.135520  17717.543623        4.633850   \n",
              "1      18314.128617  17121.775102  18488.540079  17200.059688       88.630651   \n",
              "2      16490.663037  18502.418816  16496.536575  18510.726749        4.167982   \n",
              "3      18019.631633  18181.823147  18020.999232  18182.360119        0.700870   \n",
              "4      18124.509296  18597.936034  18127.132703  18603.414392        2.766243   \n",
              "...             ...           ...           ...           ...             ...   \n",
              "19217  17592.572752  16742.936603  17593.009233  16743.428821        0.319405   \n",
              "19218  18658.822580  18666.464880  18659.100383  18666.968994        0.276376   \n",
              "19219  17523.170058  16995.697610  17523.352636  16995.761662        0.093504   \n",
              "19220  16950.523810  17747.923087  16950.979337  17748.452311        0.264791   \n",
              "19221  18166.845099  19812.685038  18167.336911  19813.128832        0.248242   \n",
              "\n",
              "       minor_semia_px  pa_in_rad       width     height  \n",
              "0            4.593304   5.734349    9.245699   9.208748  \n",
              "1           35.798972   3.338082  174.411463  78.284586  \n",
              "2            2.916843   4.827354    5.873538   8.307933  \n",
              "3            0.220108   6.050027    1.367598   0.536972  \n",
              "4            1.253622   4.869573    2.623407   5.478358  \n",
              "...               ...        ...         ...        ...  \n",
              "19217        0.078610   0.853117    0.436482   0.492218  \n",
              "19218        0.080265   1.127797    0.277803   0.504113  \n",
              "19219        0.024824  -0.226387    0.182578   0.064053  \n",
              "19220        0.227555  -1.498732    0.455528   0.529224  \n",
              "19221        0.219280  -0.296287    0.491812   0.443793  \n",
              "\n",
              "[19222 rows x 9 columns]"
            ],
            "text/html": "<div>\n<style scoped>\n    .dataframe tbody tr th:only-of-type {\n        vertical-align: middle;\n    }\n\n    .dataframe tbody tr th {\n        vertical-align: top;\n    }\n\n    .dataframe thead th {\n        text-align: right;\n    }\n</style>\n<table border=\"1\" class=\"dataframe\">\n  <thead>\n    <tr style=\"text-align: right;\">\n      <th></th>\n      <th>x1</th>\n      <th>y1</th>\n      <th>x2</th>\n      <th>y2</th>\n      <th>major_semia_px</th>\n      <th>minor_semia_px</th>\n      <th>pa_in_rad</th>\n      <th>width</th>\n      <th>height</th>\n    </tr>\n  </thead>\n  <tbody>\n    <tr>\n      <th>0</th>\n      <td>19699.889820</td>\n      <td>17708.334874</td>\n      <td>19709.135520</td>\n      <td>17717.543623</td>\n      <td>4.633850</td>\n      <td>4.593304</td>\n      <td>5.734349</td>\n      <td>9.245699</td>\n      <td>9.208748</td>\n    </tr>\n    <tr>\n      <th>1</th>\n      <td>18314.128617</td>\n      <td>17121.775102</td>\n      <td>18488.540079</td>\n      <td>17200.059688</td>\n      <td>88.630651</td>\n      <td>35.798972</td>\n      <td>3.338082</td>\n      <td>174.411463</td>\n      <td>78.284586</td>\n    </tr>\n    <tr>\n      <th>2</th>\n      <td>16490.663037</td>\n      <td>18502.418816</td>\n      <td>16496.536575</td>\n      <td>18510.726749</td>\n      <td>4.167982</td>\n      <td>2.916843</td>\n      <td>4.827354</td>\n      <td>5.873538</td>\n      <td>8.307933</td>\n    </tr>\n    <tr>\n      <th>3</th>\n      <td>18019.631633</td>\n      <td>18181.823147</td>\n      <td>18020.999232</td>\n      <td>18182.360119</td>\n      <td>0.700870</td>\n      <td>0.220108</td>\n      <td>6.050027</td>\n      <td>1.367598</td>\n      <td>0.536972</td>\n    </tr>\n    <tr>\n      <th>4</th>\n      <td>18124.509296</td>\n      <td>18597.936034</td>\n      <td>18127.132703</td>\n      <td>18603.414392</td>\n      <td>2.766243</td>\n      <td>1.253622</td>\n      <td>4.869573</td>\n      <td>2.623407</td>\n      <td>5.478358</td>\n    </tr>\n    <tr>\n      <th>...</th>\n      <td>...</td>\n      <td>...</td>\n      <td>...</td>\n      <td>...</td>\n      <td>...</td>\n      <td>...</td>\n      <td>...</td>\n      <td>...</td>\n      <td>...</td>\n    </tr>\n    <tr>\n      <th>19217</th>\n      <td>17592.572752</td>\n      <td>16742.936603</td>\n      <td>17593.009233</td>\n      <td>16743.428821</td>\n      <td>0.319405</td>\n      <td>0.078610</td>\n      <td>0.853117</td>\n      <td>0.436482</td>\n      <td>0.492218</td>\n    </tr>\n    <tr>\n      <th>19218</th>\n      <td>18658.822580</td>\n      <td>18666.464880</td>\n      <td>18659.100383</td>\n      <td>18666.968994</td>\n      <td>0.276376</td>\n      <td>0.080265</td>\n      <td>1.127797</td>\n      <td>0.277803</td>\n      <td>0.504113</td>\n    </tr>\n    <tr>\n      <th>19219</th>\n      <td>17523.170058</td>\n      <td>16995.697610</td>\n      <td>17523.352636</td>\n      <td>16995.761662</td>\n      <td>0.093504</td>\n      <td>0.024824</td>\n      <td>-0.226387</td>\n      <td>0.182578</td>\n      <td>0.064053</td>\n    </tr>\n    <tr>\n      <th>19220</th>\n      <td>16950.523810</td>\n      <td>17747.923087</td>\n      <td>16950.979337</td>\n      <td>17748.452311</td>\n      <td>0.264791</td>\n      <td>0.227555</td>\n      <td>-1.498732</td>\n      <td>0.455528</td>\n      <td>0.529224</td>\n    </tr>\n    <tr>\n      <th>19221</th>\n      <td>18166.845099</td>\n      <td>19812.685038</td>\n      <td>18167.336911</td>\n      <td>19813.128832</td>\n      <td>0.248242</td>\n      <td>0.219280</td>\n      <td>-0.296287</td>\n      <td>0.491812</td>\n      <td>0.443793</td>\n    </tr>\n  </tbody>\n</table>\n<p>19222 rows × 9 columns</p>\n</div>"
          },
          "metadata": {},
          "execution_count": 5
        }
      ]
    },
    {
      "cell_type": "code",
      "execution_count": 6,
      "metadata": {},
      "outputs": [
        {
          "output_type": "execute_result",
          "data": {
            "text/plain": [
              "         ID  RA (core)  DEC (core)  RA (centroid)  DEC (centroid)      FLUX  \\\n",
              "0  24121695  -0.642227  -29.775242      -0.642316      -29.775211  0.000035   \n",
              "1  20167150  -0.390473  -29.867493      -0.390667      -29.868851  0.029555   \n",
              "2  20045120  -0.021411  -29.643486      -0.021359      -29.643561  0.000653   \n",
              "3  33938384  -0.316375  -29.697647      -0.316375      -29.697647  0.000017   \n",
              "4   7527248  -0.336528  -29.627335      -0.336527      -29.627338  0.000054   \n",
              "\n",
              "   Core frac     BMAJ    BMIN       PA  ...          y            x1  \\\n",
              "0   0.000000    5.600   5.551  328.554  ...  17712.942  19699.889820   \n",
              "1   0.016924  107.110  43.263  191.258  ...  17160.919  18314.128617   \n",
              "2   0.012185    5.037   3.525  276.587  ...  18506.577  16490.663037   \n",
              "3   0.000000    0.847   0.266  346.641  ...  18182.095  18019.631633   \n",
              "4   0.044763    3.343   1.515  279.006  ...  18600.680  18124.509296   \n",
              "\n",
              "             y1            x2            y2  major_semia_px  minor_semia_px  \\\n",
              "0  17708.334874  19709.135520  17717.543623        4.633850        4.593304   \n",
              "1  17121.775102  18488.540079  17200.059688       88.630651       35.798972   \n",
              "2  18502.418816  16496.536575  18510.726749        4.167982        2.916843   \n",
              "3  18181.823147  18020.999232  18182.360119        0.700870        0.220108   \n",
              "4  18597.936034  18127.132703  18603.414392        2.766243        1.253622   \n",
              "\n",
              "   pa_in_rad       width     height  \n",
              "0   5.734349    9.245699   9.208748  \n",
              "1   3.338082  174.411463  78.284586  \n",
              "2   4.827354    5.873538   8.307933  \n",
              "3   6.050027    1.367598   0.536972  \n",
              "4   4.869573    2.623407   5.478358  \n",
              "\n",
              "[5 rows x 24 columns]"
            ],
            "text/html": "<div>\n<style scoped>\n    .dataframe tbody tr th:only-of-type {\n        vertical-align: middle;\n    }\n\n    .dataframe tbody tr th {\n        vertical-align: top;\n    }\n\n    .dataframe thead th {\n        text-align: right;\n    }\n</style>\n<table border=\"1\" class=\"dataframe\">\n  <thead>\n    <tr style=\"text-align: right;\">\n      <th></th>\n      <th>ID</th>\n      <th>RA (core)</th>\n      <th>DEC (core)</th>\n      <th>RA (centroid)</th>\n      <th>DEC (centroid)</th>\n      <th>FLUX</th>\n      <th>Core frac</th>\n      <th>BMAJ</th>\n      <th>BMIN</th>\n      <th>PA</th>\n      <th>...</th>\n      <th>y</th>\n      <th>x1</th>\n      <th>y1</th>\n      <th>x2</th>\n      <th>y2</th>\n      <th>major_semia_px</th>\n      <th>minor_semia_px</th>\n      <th>pa_in_rad</th>\n      <th>width</th>\n      <th>height</th>\n    </tr>\n  </thead>\n  <tbody>\n    <tr>\n      <th>0</th>\n      <td>24121695</td>\n      <td>-0.642227</td>\n      <td>-29.775242</td>\n      <td>-0.642316</td>\n      <td>-29.775211</td>\n      <td>0.000035</td>\n      <td>0.000000</td>\n      <td>5.600</td>\n      <td>5.551</td>\n      <td>328.554</td>\n      <td>...</td>\n      <td>17712.942</td>\n      <td>19699.889820</td>\n      <td>17708.334874</td>\n      <td>19709.135520</td>\n      <td>17717.543623</td>\n      <td>4.633850</td>\n      <td>4.593304</td>\n      <td>5.734349</td>\n      <td>9.245699</td>\n      <td>9.208748</td>\n    </tr>\n    <tr>\n      <th>1</th>\n      <td>20167150</td>\n      <td>-0.390473</td>\n      <td>-29.867493</td>\n      <td>-0.390667</td>\n      <td>-29.868851</td>\n      <td>0.029555</td>\n      <td>0.016924</td>\n      <td>107.110</td>\n      <td>43.263</td>\n      <td>191.258</td>\n      <td>...</td>\n      <td>17160.919</td>\n      <td>18314.128617</td>\n      <td>17121.775102</td>\n      <td>18488.540079</td>\n      <td>17200.059688</td>\n      <td>88.630651</td>\n      <td>35.798972</td>\n      <td>3.338082</td>\n      <td>174.411463</td>\n      <td>78.284586</td>\n    </tr>\n    <tr>\n      <th>2</th>\n      <td>20045120</td>\n      <td>-0.021411</td>\n      <td>-29.643486</td>\n      <td>-0.021359</td>\n      <td>-29.643561</td>\n      <td>0.000653</td>\n      <td>0.012185</td>\n      <td>5.037</td>\n      <td>3.525</td>\n      <td>276.587</td>\n      <td>...</td>\n      <td>18506.577</td>\n      <td>16490.663037</td>\n      <td>18502.418816</td>\n      <td>16496.536575</td>\n      <td>18510.726749</td>\n      <td>4.167982</td>\n      <td>2.916843</td>\n      <td>4.827354</td>\n      <td>5.873538</td>\n      <td>8.307933</td>\n    </tr>\n    <tr>\n      <th>3</th>\n      <td>33938384</td>\n      <td>-0.316375</td>\n      <td>-29.697647</td>\n      <td>-0.316375</td>\n      <td>-29.697647</td>\n      <td>0.000017</td>\n      <td>0.000000</td>\n      <td>0.847</td>\n      <td>0.266</td>\n      <td>346.641</td>\n      <td>...</td>\n      <td>18182.095</td>\n      <td>18019.631633</td>\n      <td>18181.823147</td>\n      <td>18020.999232</td>\n      <td>18182.360119</td>\n      <td>0.700870</td>\n      <td>0.220108</td>\n      <td>6.050027</td>\n      <td>1.367598</td>\n      <td>0.536972</td>\n    </tr>\n    <tr>\n      <th>4</th>\n      <td>7527248</td>\n      <td>-0.336528</td>\n      <td>-29.627335</td>\n      <td>-0.336527</td>\n      <td>-29.627338</td>\n      <td>0.000054</td>\n      <td>0.044763</td>\n      <td>3.343</td>\n      <td>1.515</td>\n      <td>279.006</td>\n      <td>...</td>\n      <td>18600.680</td>\n      <td>18124.509296</td>\n      <td>18597.936034</td>\n      <td>18127.132703</td>\n      <td>18603.414392</td>\n      <td>2.766243</td>\n      <td>1.253622</td>\n      <td>4.869573</td>\n      <td>2.623407</td>\n      <td>5.478358</td>\n    </tr>\n  </tbody>\n</table>\n<p>5 rows × 24 columns</p>\n</div>"
          },
          "metadata": {},
          "execution_count": 6
        }
      ],
      "source": [
        "df_train = ska_dataset._extend_dataframe(ska_dataset.raw_train_df, coords)\n",
        "df_train.head()"
      ]
    },
    {
      "cell_type": "code",
      "execution_count": 7,
      "metadata": {},
      "outputs": [
        {
          "output_type": "execute_result",
          "data": {
            "text/plain": [
              "(3187, 3491)"
            ]
          },
          "metadata": {},
          "execution_count": 7
        }
      ],
      "source": [
        "x1_min = int(np.floor(min(df_train['x1'])))\n",
        "y1_min = int(np.floor(min(df_train['y1'])))\n",
        "\n",
        "x2_max = int(np.floor(max(df_train['x2'])))\n",
        "y2_max = int(np.floor(max(df_train['y2'])))\n",
        "\n",
        "data_560Mhz_1000h_train = data_560Mhz_1000h[y1_min:y2_max, x1_min:x2_max]\n",
        "data_560Mhz_1000h_train.shape\n"
      ]
    },
    {
      "cell_type": "code",
      "execution_count": 8,
      "metadata": {},
      "outputs": [
        {
          "output_type": "execute_result",
          "data": {
            "text/plain": [
              "(array([7.000000e+00, 3.500000e+01, 1.490000e+02, 4.570000e+02,\n",
              "        1.414000e+03, 3.784000e+03, 9.359000e+03, 2.169900e+04,\n",
              "        4.657800e+04, 9.096100e+04, 1.648540e+05, 2.743260e+05,\n",
              "        4.212290e+05, 6.021740e+05, 7.904020e+05, 9.590150e+05,\n",
              "        1.079217e+06, 1.124733e+06, 1.086416e+06, 9.748840e+05,\n",
              "        8.142290e+05, 6.389060e+05, 4.715880e+05, 3.307770e+05,\n",
              "        2.255350e+05, 1.517900e+05, 1.038090e+05, 7.363900e+04,\n",
              "        5.517600e+04, 4.409500e+04, 3.635000e+04, 3.138700e+04,\n",
              "        2.764800e+04, 2.443600e+04, 2.195700e+04, 1.978300e+04,\n",
              "        1.802900e+04, 1.622400e+04, 1.505500e+04, 1.416400e+04]),\n",
              " array([-1.9004023e-06, -1.8053821e-06, -1.7103621e-06, -1.6153419e-06,\n",
              "        -1.5203218e-06, -1.4253017e-06, -1.3302815e-06, -1.2352615e-06,\n",
              "        -1.1402414e-06, -1.0452212e-06, -9.5020113e-07, -8.5518104e-07,\n",
              "        -7.6016090e-07, -6.6514076e-07, -5.7012068e-07, -4.7510056e-07,\n",
              "        -3.8008045e-07, -2.8506034e-07, -1.9004023e-07, -9.5020113e-08,\n",
              "         0.0000000e+00,  9.5020113e-08,  1.9004023e-07,  2.8506034e-07,\n",
              "         3.8008045e-07,  4.7510056e-07,  5.7012068e-07,  6.6514076e-07,\n",
              "         7.6016090e-07,  8.5518104e-07,  9.5020113e-07,  1.0452212e-06,\n",
              "         1.1402414e-06,  1.2352615e-06,  1.3302815e-06,  1.4253017e-06,\n",
              "         1.5203218e-06,  1.6153419e-06,  1.7103621e-06,  1.8053821e-06,\n",
              "         1.9004023e-06], dtype=float32),\n",
              " <BarContainer object of 40 artists>)"
            ]
          },
          "metadata": {},
          "execution_count": 8
        },
        {
          "output_type": "display_data",
          "data": {
            "text/plain": "<Figure size 432x288 with 1 Axes>",
            "image/svg+xml": "<?xml version=\"1.0\" encoding=\"utf-8\" standalone=\"no\"?>\n<!DOCTYPE svg PUBLIC \"-//W3C//DTD SVG 1.1//EN\"\n  \"http://www.w3.org/Graphics/SVG/1.1/DTD/svg11.dtd\">\n<!-- Created with matplotlib (https://matplotlib.org/) -->\n<svg height=\"271.794688pt\" version=\"1.1\" viewBox=\"0 0 372.812168 271.794688\" width=\"372.812168pt\" xmlns=\"http://www.w3.org/2000/svg\" xmlns:xlink=\"http://www.w3.org/1999/xlink\">\n <metadata>\n  <rdf:RDF xmlns:cc=\"http://creativecommons.org/ns#\" xmlns:dc=\"http://purl.org/dc/elements/1.1/\" xmlns:rdf=\"http://www.w3.org/1999/02/22-rdf-syntax-ns#\">\n   <cc:Work>\n    <dc:type rdf:resource=\"http://purl.org/dc/dcmitype/StillImage\"/>\n    <dc:date>2021-05-08T09:33:06.841285</dc:date>\n    <dc:format>image/svg+xml</dc:format>\n    <dc:creator>\n     <cc:Agent>\n      <dc:title>Matplotlib v3.3.4, https://matplotlib.org/</dc:title>\n     </cc:Agent>\n    </dc:creator>\n   </cc:Work>\n  </rdf:RDF>\n </metadata>\n <defs>\n  <style type=\"text/css\">*{stroke-linecap:butt;stroke-linejoin:round;}</style>\n </defs>\n <g id=\"figure_1\">\n  <g id=\"patch_1\">\n   <path d=\"M 0 271.794688 \nL 372.812168 271.794688 \nL 372.812168 0 \nL 0 0 \nz\n\" style=\"fill:none;\"/>\n  </g>\n  <g id=\"axes_1\">\n   <g id=\"patch_2\">\n    <path d=\"M 30.103125 235.238438 \nL 364.903125 235.238438 \nL 364.903125 17.798438 \nL 30.103125 17.798438 \nz\n\" style=\"fill:#ffffff;\"/>\n   </g>\n   <g id=\"patch_3\">\n    <path clip-path=\"url(#p5e3ccf20d4)\" d=\"M 45.321307 235.238438 \nL 52.9304 235.238438 \nL 52.9304 235.237149 \nL 45.321307 235.237149 \nz\n\" style=\"fill:#1f77b4;\"/>\n   </g>\n   <g id=\"patch_4\">\n    <path clip-path=\"url(#p5e3ccf20d4)\" d=\"M 52.930409 235.238438 \nL 60.539493 235.238438 \nL 60.539493 235.231993 \nL 52.930409 235.231993 \nz\n\" style=\"fill:#1f77b4;\"/>\n   </g>\n   <g id=\"patch_5\">\n    <path clip-path=\"url(#p5e3ccf20d4)\" d=\"M 60.539484 235.238438 \nL 68.148577 235.238438 \nL 68.148577 235.211004 \nL 60.539484 235.211004 \nz\n\" style=\"fill:#1f77b4;\"/>\n   </g>\n   <g id=\"patch_6\">\n    <path clip-path=\"url(#p5e3ccf20d4)\" d=\"M 68.148577 235.238438 \nL 75.75767 235.238438 \nL 75.75767 235.154295 \nL 68.148577 235.154295 \nz\n\" style=\"fill:#1f77b4;\"/>\n   </g>\n   <g id=\"patch_7\">\n    <path clip-path=\"url(#p5e3ccf20d4)\" d=\"M 75.75767 235.238438 \nL 83.366764 235.238438 \nL 83.366764 234.978092 \nL 75.75767 234.978092 \nz\n\" style=\"fill:#1f77b4;\"/>\n   </g>\n   <g id=\"patch_8\">\n    <path clip-path=\"url(#p5e3ccf20d4)\" d=\"M 83.366764 235.238438 \nL 90.975857 235.238438 \nL 90.975857 234.541728 \nL 83.366764 234.541728 \nz\n\" style=\"fill:#1f77b4;\"/>\n   </g>\n   <g id=\"patch_9\">\n    <path clip-path=\"url(#p5e3ccf20d4)\" d=\"M 90.975857 235.238438 \nL 98.584941 235.238438 \nL 98.584941 233.515259 \nL 90.975857 233.515259 \nz\n\" style=\"fill:#1f77b4;\"/>\n   </g>\n   <g id=\"patch_10\">\n    <path clip-path=\"url(#p5e3ccf20d4)\" d=\"M 98.584941 235.238438 \nL 106.194034 235.238438 \nL 106.194034 231.24322 \nL 98.584941 231.24322 \nz\n\" style=\"fill:#1f77b4;\"/>\n   </g>\n   <g id=\"patch_11\">\n    <path clip-path=\"url(#p5e3ccf20d4)\" d=\"M 106.194034 235.238438 \nL 113.803127 235.238438 \nL 113.803127 226.662501 \nL 106.194034 226.662501 \nz\n\" style=\"fill:#1f77b4;\"/>\n   </g>\n   <g id=\"patch_12\">\n    <path clip-path=\"url(#p5e3ccf20d4)\" d=\"M 113.803127 235.238438 \nL 121.41222 235.238438 \nL 121.41222 218.490708 \nL 113.803127 218.490708 \nz\n\" style=\"fill:#1f77b4;\"/>\n   </g>\n   <g id=\"patch_13\">\n    <path clip-path=\"url(#p5e3ccf20d4)\" d=\"M 121.412211 235.238438 \nL 129.021305 235.238438 \nL 129.021305 204.885537 \nL 121.412211 204.885537 \nz\n\" style=\"fill:#1f77b4;\"/>\n   </g>\n   <g id=\"patch_14\">\n    <path clip-path=\"url(#p5e3ccf20d4)\" d=\"M 129.021305 235.238438 \nL 136.630398 235.238438 \nL 136.630398 184.729565 \nL 129.021305 184.729565 \nz\n\" style=\"fill:#1f77b4;\"/>\n   </g>\n   <g id=\"patch_15\">\n    <path clip-path=\"url(#p5e3ccf20d4)\" d=\"M 136.630398 235.238438 \nL 144.239491 235.238438 \nL 144.239491 157.681801 \nL 136.630398 157.681801 \nz\n\" style=\"fill:#1f77b4;\"/>\n   </g>\n   <g id=\"patch_16\">\n    <path clip-path=\"url(#p5e3ccf20d4)\" d=\"M 144.239491 235.238438 \nL 151.848584 235.238438 \nL 151.848584 124.366228 \nL 144.239491 124.366228 \nz\n\" style=\"fill:#1f77b4;\"/>\n   </g>\n   <g id=\"patch_17\">\n    <path clip-path=\"url(#p5e3ccf20d4)\" d=\"M 151.84858 235.238438 \nL 159.457673 235.238438 \nL 159.457673 89.70971 \nL 151.84858 89.70971 \nz\n\" style=\"fill:#1f77b4;\"/>\n   </g>\n   <g id=\"patch_18\">\n    <path clip-path=\"url(#p5e3ccf20d4)\" d=\"M 159.457668 235.238438 \nL 167.066761 235.238438 \nL 167.066761 58.664703 \nL 159.457668 58.664703 \nz\n\" style=\"fill:#1f77b4;\"/>\n   </g>\n   <g id=\"patch_19\">\n    <path clip-path=\"url(#p5e3ccf20d4)\" d=\"M 167.066761 235.238438 \nL 174.675855 235.238438 \nL 174.675855 36.533124 \nL 167.066761 36.533124 \nz\n\" style=\"fill:#1f77b4;\"/>\n   </g>\n   <g id=\"patch_20\">\n    <path clip-path=\"url(#p5e3ccf20d4)\" d=\"M 174.67585 235.238438 \nL 182.284943 235.238438 \nL 182.284943 28.152723 \nL 174.67585 28.152723 \nz\n\" style=\"fill:#1f77b4;\"/>\n   </g>\n   <g id=\"patch_21\">\n    <path clip-path=\"url(#p5e3ccf20d4)\" d=\"M 182.284942 235.238438 \nL 189.894035 235.238438 \nL 189.894035 35.207645 \nL 182.284942 35.207645 \nz\n\" style=\"fill:#1f77b4;\"/>\n   </g>\n   <g id=\"patch_22\">\n    <path clip-path=\"url(#p5e3ccf20d4)\" d=\"M 189.894033 235.238438 \nL 197.503126 235.238438 \nL 197.503126 55.742904 \nL 189.894033 55.742904 \nz\n\" style=\"fill:#1f77b4;\"/>\n   </g>\n   <g id=\"patch_23\">\n    <path clip-path=\"url(#p5e3ccf20d4)\" d=\"M 197.503124 235.238438 \nL 205.112217 235.238438 \nL 205.112217 85.322685 \nL 197.503124 85.322685 \nz\n\" style=\"fill:#1f77b4;\"/>\n   </g>\n   <g id=\"patch_24\">\n    <path clip-path=\"url(#p5e3ccf20d4)\" d=\"M 205.112215 235.238438 \nL 212.721308 235.238438 \nL 212.721308 117.603136 \nL 205.112215 117.603136 \nz\n\" style=\"fill:#1f77b4;\"/>\n   </g>\n   <g id=\"patch_25\">\n    <path clip-path=\"url(#p5e3ccf20d4)\" d=\"M 212.721306 235.238438 \nL 220.3304 235.238438 \nL 220.3304 148.409708 \nL 212.721306 148.409708 \nz\n\" style=\"fill:#1f77b4;\"/>\n   </g>\n   <g id=\"patch_26\">\n    <path clip-path=\"url(#p5e3ccf20d4)\" d=\"M 220.330395 235.238438 \nL 227.939489 235.238438 \nL 227.939489 174.335813 \nL 220.330395 174.335813 \nz\n\" style=\"fill:#1f77b4;\"/>\n   </g>\n   <g id=\"patch_27\">\n    <path clip-path=\"url(#p5e3ccf20d4)\" d=\"M 227.939489 235.238438 \nL 235.548582 235.238438 \nL 235.548582 193.712959 \nL 227.939489 193.712959 \nz\n\" style=\"fill:#1f77b4;\"/>\n   </g>\n   <g id=\"patch_28\">\n    <path clip-path=\"url(#p5e3ccf20d4)\" d=\"M 235.548577 235.238438 \nL 243.15767 235.238438 \nL 243.15767 207.29088 \nL 235.548577 207.29088 \nz\n\" style=\"fill:#1f77b4;\"/>\n   </g>\n   <g id=\"patch_29\">\n    <path clip-path=\"url(#p5e3ccf20d4)\" d=\"M 243.157666 235.238438 \nL 250.766759 235.238438 \nL 250.766759 216.125136 \nL 243.157666 216.125136 \nz\n\" style=\"fill:#1f77b4;\"/>\n   </g>\n   <g id=\"patch_30\">\n    <path clip-path=\"url(#p5e3ccf20d4)\" d=\"M 250.766759 235.238438 \nL 258.375852 235.238438 \nL 258.375852 221.680033 \nL 250.766759 221.680033 \nz\n\" style=\"fill:#1f77b4;\"/>\n   </g>\n   <g id=\"patch_31\">\n    <path clip-path=\"url(#p5e3ccf20d4)\" d=\"M 258.375852 235.238438 \nL 265.984945 235.238438 \nL 265.984945 225.079439 \nL 258.375852 225.079439 \nz\n\" style=\"fill:#1f77b4;\"/>\n   </g>\n   <g id=\"patch_32\">\n    <path clip-path=\"url(#p5e3ccf20d4)\" d=\"M 265.984945 235.238438 \nL 273.594039 235.238438 \nL 273.594039 227.119671 \nL 265.984945 227.119671 \nz\n\" style=\"fill:#1f77b4;\"/>\n   </g>\n   <g id=\"patch_33\">\n    <path clip-path=\"url(#p5e3ccf20d4)\" d=\"M 273.59403 235.238438 \nL 281.203123 235.238438 \nL 281.203123 228.54568 \nL 273.59403 228.54568 \nz\n\" style=\"fill:#1f77b4;\"/>\n   </g>\n   <g id=\"patch_34\">\n    <path clip-path=\"url(#p5e3ccf20d4)\" d=\"M 281.203123 235.238438 \nL 288.812216 235.238438 \nL 288.812216 229.459467 \nL 281.203123 229.459467 \nz\n\" style=\"fill:#1f77b4;\"/>\n   </g>\n   <g id=\"patch_35\">\n    <path clip-path=\"url(#p5e3ccf20d4)\" d=\"M 288.812216 235.238438 \nL 296.421309 235.238438 \nL 296.421309 230.147891 \nL 288.812216 230.147891 \nz\n\" style=\"fill:#1f77b4;\"/>\n   </g>\n   <g id=\"patch_36\">\n    <path clip-path=\"url(#p5e3ccf20d4)\" d=\"M 296.421318 235.238438 \nL 304.030402 235.238438 \nL 304.030402 230.739284 \nL 296.421318 230.739284 \nz\n\" style=\"fill:#1f77b4;\"/>\n   </g>\n   <g id=\"patch_37\">\n    <path clip-path=\"url(#p5e3ccf20d4)\" d=\"M 304.030393 235.238438 \nL 311.639486 235.238438 \nL 311.639486 231.195717 \nL 304.030393 231.195717 \nz\n\" style=\"fill:#1f77b4;\"/>\n   </g>\n   <g id=\"patch_38\">\n    <path clip-path=\"url(#p5e3ccf20d4)\" d=\"M 311.639486 235.238438 \nL 319.24858 235.238438 \nL 319.24858 231.595994 \nL 311.639486 231.595994 \nz\n\" style=\"fill:#1f77b4;\"/>\n   </g>\n   <g id=\"patch_39\">\n    <path clip-path=\"url(#p5e3ccf20d4)\" d=\"M 319.24858 235.238438 \nL 326.857673 235.238438 \nL 326.857673 231.91894 \nL 319.24858 231.91894 \nz\n\" style=\"fill:#1f77b4;\"/>\n   </g>\n   <g id=\"patch_40\">\n    <path clip-path=\"url(#p5e3ccf20d4)\" d=\"M 326.857673 235.238438 \nL 334.466766 235.238438 \nL 334.466766 232.251276 \nL 326.857673 232.251276 \nz\n\" style=\"fill:#1f77b4;\"/>\n   </g>\n   <g id=\"patch_41\">\n    <path clip-path=\"url(#p5e3ccf20d4)\" d=\"M 334.466766 235.238438 \nL 342.07585 235.238438 \nL 342.07585 232.466513 \nL 334.466766 232.466513 \nz\n\" style=\"fill:#1f77b4;\"/>\n   </g>\n   <g id=\"patch_42\">\n    <path clip-path=\"url(#p5e3ccf20d4)\" d=\"M 342.07585 235.238438 \nL 349.684943 235.238438 \nL 349.684943 232.630563 \nL 342.07585 232.630563 \nz\n\" style=\"fill:#1f77b4;\"/>\n   </g>\n   <g id=\"matplotlib.axis_1\">\n    <g id=\"xtick_1\">\n     <g id=\"line2d_1\">\n      <defs>\n       <path d=\"M 0 0 \nL 0 3.5 \n\" id=\"mbf4c8fe457\" style=\"stroke:#000000;stroke-width:0.8;\"/>\n      </defs>\n      <g>\n       <use style=\"stroke:#000000;stroke-width:0.8;\" x=\"37.345645\" xlink:href=\"#mbf4c8fe457\" y=\"235.238438\"/>\n      </g>\n     </g>\n     <g id=\"text_1\">\n      <!-- −2.0 -->\n      <g transform=\"translate(25.204238 249.836875)scale(0.1 -0.1)\">\n       <defs>\n        <path d=\"M 10.59375 35.5 \nL 73.1875 35.5 \nL 73.1875 27.203125 \nL 10.59375 27.203125 \nz\n\" id=\"DejaVuSans-8722\"/>\n        <path d=\"M 19.1875 8.296875 \nL 53.609375 8.296875 \nL 53.609375 0 \nL 7.328125 0 \nL 7.328125 8.296875 \nQ 12.9375 14.109375 22.625 23.890625 \nQ 32.328125 33.6875 34.8125 36.53125 \nQ 39.546875 41.84375 41.421875 45.53125 \nQ 43.3125 49.21875 43.3125 52.78125 \nQ 43.3125 58.59375 39.234375 62.25 \nQ 35.15625 65.921875 28.609375 65.921875 \nQ 23.96875 65.921875 18.8125 64.3125 \nQ 13.671875 62.703125 7.8125 59.421875 \nL 7.8125 69.390625 \nQ 13.765625 71.78125 18.9375 73 \nQ 24.125 74.21875 28.421875 74.21875 \nQ 39.75 74.21875 46.484375 68.546875 \nQ 53.21875 62.890625 53.21875 53.421875 \nQ 53.21875 48.921875 51.53125 44.890625 \nQ 49.859375 40.875 45.40625 35.40625 \nQ 44.1875 33.984375 37.640625 27.21875 \nQ 31.109375 20.453125 19.1875 8.296875 \nz\n\" id=\"DejaVuSans-50\"/>\n        <path d=\"M 10.6875 12.40625 \nL 21 12.40625 \nL 21 0 \nL 10.6875 0 \nz\n\" id=\"DejaVuSans-46\"/>\n        <path d=\"M 31.78125 66.40625 \nQ 24.171875 66.40625 20.328125 58.90625 \nQ 16.5 51.421875 16.5 36.375 \nQ 16.5 21.390625 20.328125 13.890625 \nQ 24.171875 6.390625 31.78125 6.390625 \nQ 39.453125 6.390625 43.28125 13.890625 \nQ 47.125 21.390625 47.125 36.375 \nQ 47.125 51.421875 43.28125 58.90625 \nQ 39.453125 66.40625 31.78125 66.40625 \nz\nM 31.78125 74.21875 \nQ 44.046875 74.21875 50.515625 64.515625 \nQ 56.984375 54.828125 56.984375 36.375 \nQ 56.984375 17.96875 50.515625 8.265625 \nQ 44.046875 -1.421875 31.78125 -1.421875 \nQ 19.53125 -1.421875 13.0625 8.265625 \nQ 6.59375 17.96875 6.59375 36.375 \nQ 6.59375 54.828125 13.0625 64.515625 \nQ 19.53125 74.21875 31.78125 74.21875 \nz\n\" id=\"DejaVuSans-48\"/>\n       </defs>\n       <use xlink:href=\"#DejaVuSans-8722\"/>\n       <use x=\"83.789062\" xlink:href=\"#DejaVuSans-50\"/>\n       <use x=\"147.412109\" xlink:href=\"#DejaVuSans-46\"/>\n       <use x=\"179.199219\" xlink:href=\"#DejaVuSans-48\"/>\n      </g>\n     </g>\n    </g>\n    <g id=\"xtick_2\">\n     <g id=\"line2d_2\">\n      <g>\n       <use style=\"stroke:#000000;stroke-width:0.8;\" x=\"77.385015\" xlink:href=\"#mbf4c8fe457\" y=\"235.238438\"/>\n      </g>\n     </g>\n     <g id=\"text_2\">\n      <!-- −1.5 -->\n      <g transform=\"translate(65.243609 249.836875)scale(0.1 -0.1)\">\n       <defs>\n        <path d=\"M 12.40625 8.296875 \nL 28.515625 8.296875 \nL 28.515625 63.921875 \nL 10.984375 60.40625 \nL 10.984375 69.390625 \nL 28.421875 72.90625 \nL 38.28125 72.90625 \nL 38.28125 8.296875 \nL 54.390625 8.296875 \nL 54.390625 0 \nL 12.40625 0 \nz\n\" id=\"DejaVuSans-49\"/>\n        <path d=\"M 10.796875 72.90625 \nL 49.515625 72.90625 \nL 49.515625 64.59375 \nL 19.828125 64.59375 \nL 19.828125 46.734375 \nQ 21.96875 47.46875 24.109375 47.828125 \nQ 26.265625 48.1875 28.421875 48.1875 \nQ 40.625 48.1875 47.75 41.5 \nQ 54.890625 34.8125 54.890625 23.390625 \nQ 54.890625 11.625 47.5625 5.09375 \nQ 40.234375 -1.421875 26.90625 -1.421875 \nQ 22.3125 -1.421875 17.546875 -0.640625 \nQ 12.796875 0.140625 7.71875 1.703125 \nL 7.71875 11.625 \nQ 12.109375 9.234375 16.796875 8.0625 \nQ 21.484375 6.890625 26.703125 6.890625 \nQ 35.15625 6.890625 40.078125 11.328125 \nQ 45.015625 15.765625 45.015625 23.390625 \nQ 45.015625 31 40.078125 35.4375 \nQ 35.15625 39.890625 26.703125 39.890625 \nQ 22.75 39.890625 18.8125 39.015625 \nQ 14.890625 38.140625 10.796875 36.28125 \nz\n\" id=\"DejaVuSans-53\"/>\n       </defs>\n       <use xlink:href=\"#DejaVuSans-8722\"/>\n       <use x=\"83.789062\" xlink:href=\"#DejaVuSans-49\"/>\n       <use x=\"147.412109\" xlink:href=\"#DejaVuSans-46\"/>\n       <use x=\"179.199219\" xlink:href=\"#DejaVuSans-53\"/>\n      </g>\n     </g>\n    </g>\n    <g id=\"xtick_3\">\n     <g id=\"line2d_3\">\n      <g>\n       <use style=\"stroke:#000000;stroke-width:0.8;\" x=\"117.424385\" xlink:href=\"#mbf4c8fe457\" y=\"235.238438\"/>\n      </g>\n     </g>\n     <g id=\"text_3\">\n      <!-- −1.0 -->\n      <g transform=\"translate(105.282979 249.836875)scale(0.1 -0.1)\">\n       <use xlink:href=\"#DejaVuSans-8722\"/>\n       <use x=\"83.789062\" xlink:href=\"#DejaVuSans-49\"/>\n       <use x=\"147.412109\" xlink:href=\"#DejaVuSans-46\"/>\n       <use x=\"179.199219\" xlink:href=\"#DejaVuSans-48\"/>\n      </g>\n     </g>\n    </g>\n    <g id=\"xtick_4\">\n     <g id=\"line2d_4\">\n      <g>\n       <use style=\"stroke:#000000;stroke-width:0.8;\" x=\"157.463755\" xlink:href=\"#mbf4c8fe457\" y=\"235.238438\"/>\n      </g>\n     </g>\n     <g id=\"text_4\">\n      <!-- −0.5 -->\n      <g transform=\"translate(145.322349 249.836875)scale(0.1 -0.1)\">\n       <use xlink:href=\"#DejaVuSans-8722\"/>\n       <use x=\"83.789062\" xlink:href=\"#DejaVuSans-48\"/>\n       <use x=\"147.412109\" xlink:href=\"#DejaVuSans-46\"/>\n       <use x=\"179.199219\" xlink:href=\"#DejaVuSans-53\"/>\n      </g>\n     </g>\n    </g>\n    <g id=\"xtick_5\">\n     <g id=\"line2d_5\">\n      <g>\n       <use style=\"stroke:#000000;stroke-width:0.8;\" x=\"197.503125\" xlink:href=\"#mbf4c8fe457\" y=\"235.238438\"/>\n      </g>\n     </g>\n     <g id=\"text_5\">\n      <!-- 0.0 -->\n      <g transform=\"translate(189.551563 249.836875)scale(0.1 -0.1)\">\n       <use xlink:href=\"#DejaVuSans-48\"/>\n       <use x=\"63.623047\" xlink:href=\"#DejaVuSans-46\"/>\n       <use x=\"95.410156\" xlink:href=\"#DejaVuSans-48\"/>\n      </g>\n     </g>\n    </g>\n    <g id=\"xtick_6\">\n     <g id=\"line2d_6\">\n      <g>\n       <use style=\"stroke:#000000;stroke-width:0.8;\" x=\"237.542495\" xlink:href=\"#mbf4c8fe457\" y=\"235.238438\"/>\n      </g>\n     </g>\n     <g id=\"text_6\">\n      <!-- 0.5 -->\n      <g transform=\"translate(229.590933 249.836875)scale(0.1 -0.1)\">\n       <use xlink:href=\"#DejaVuSans-48\"/>\n       <use x=\"63.623047\" xlink:href=\"#DejaVuSans-46\"/>\n       <use x=\"95.410156\" xlink:href=\"#DejaVuSans-53\"/>\n      </g>\n     </g>\n    </g>\n    <g id=\"xtick_7\">\n     <g id=\"line2d_7\">\n      <g>\n       <use style=\"stroke:#000000;stroke-width:0.8;\" x=\"277.581865\" xlink:href=\"#mbf4c8fe457\" y=\"235.238438\"/>\n      </g>\n     </g>\n     <g id=\"text_7\">\n      <!-- 1.0 -->\n      <g transform=\"translate(269.630303 249.836875)scale(0.1 -0.1)\">\n       <use xlink:href=\"#DejaVuSans-49\"/>\n       <use x=\"63.623047\" xlink:href=\"#DejaVuSans-46\"/>\n       <use x=\"95.410156\" xlink:href=\"#DejaVuSans-48\"/>\n      </g>\n     </g>\n    </g>\n    <g id=\"xtick_8\">\n     <g id=\"line2d_8\">\n      <g>\n       <use style=\"stroke:#000000;stroke-width:0.8;\" x=\"317.621235\" xlink:href=\"#mbf4c8fe457\" y=\"235.238438\"/>\n      </g>\n     </g>\n     <g id=\"text_8\">\n      <!-- 1.5 -->\n      <g transform=\"translate(309.669673 249.836875)scale(0.1 -0.1)\">\n       <use xlink:href=\"#DejaVuSans-49\"/>\n       <use x=\"63.623047\" xlink:href=\"#DejaVuSans-46\"/>\n       <use x=\"95.410156\" xlink:href=\"#DejaVuSans-53\"/>\n      </g>\n     </g>\n    </g>\n    <g id=\"xtick_9\">\n     <g id=\"line2d_9\">\n      <g>\n       <use style=\"stroke:#000000;stroke-width:0.8;\" x=\"357.660605\" xlink:href=\"#mbf4c8fe457\" y=\"235.238438\"/>\n      </g>\n     </g>\n     <g id=\"text_9\">\n      <!-- 2.0 -->\n      <g transform=\"translate(349.709043 249.836875)scale(0.1 -0.1)\">\n       <use xlink:href=\"#DejaVuSans-50\"/>\n       <use x=\"63.623047\" xlink:href=\"#DejaVuSans-46\"/>\n       <use x=\"95.410156\" xlink:href=\"#DejaVuSans-48\"/>\n      </g>\n     </g>\n    </g>\n    <g id=\"text_10\">\n     <!-- 1e−6 -->\n     <g transform=\"translate(337.645313 262.515)scale(0.1 -0.1)\">\n      <defs>\n       <path d=\"M 56.203125 29.59375 \nL 56.203125 25.203125 \nL 14.890625 25.203125 \nQ 15.484375 15.921875 20.484375 11.0625 \nQ 25.484375 6.203125 34.421875 6.203125 \nQ 39.59375 6.203125 44.453125 7.46875 \nQ 49.3125 8.734375 54.109375 11.28125 \nL 54.109375 2.78125 \nQ 49.265625 0.734375 44.1875 -0.34375 \nQ 39.109375 -1.421875 33.890625 -1.421875 \nQ 20.796875 -1.421875 13.15625 6.1875 \nQ 5.515625 13.8125 5.515625 26.8125 \nQ 5.515625 40.234375 12.765625 48.109375 \nQ 20.015625 56 32.328125 56 \nQ 43.359375 56 49.78125 48.890625 \nQ 56.203125 41.796875 56.203125 29.59375 \nz\nM 47.21875 32.234375 \nQ 47.125 39.59375 43.09375 43.984375 \nQ 39.0625 48.390625 32.421875 48.390625 \nQ 24.90625 48.390625 20.390625 44.140625 \nQ 15.875 39.890625 15.1875 32.171875 \nz\n\" id=\"DejaVuSans-101\"/>\n       <path d=\"M 33.015625 40.375 \nQ 26.375 40.375 22.484375 35.828125 \nQ 18.609375 31.296875 18.609375 23.390625 \nQ 18.609375 15.53125 22.484375 10.953125 \nQ 26.375 6.390625 33.015625 6.390625 \nQ 39.65625 6.390625 43.53125 10.953125 \nQ 47.40625 15.53125 47.40625 23.390625 \nQ 47.40625 31.296875 43.53125 35.828125 \nQ 39.65625 40.375 33.015625 40.375 \nz\nM 52.59375 71.296875 \nL 52.59375 62.3125 \nQ 48.875 64.0625 45.09375 64.984375 \nQ 41.3125 65.921875 37.59375 65.921875 \nQ 27.828125 65.921875 22.671875 59.328125 \nQ 17.53125 52.734375 16.796875 39.40625 \nQ 19.671875 43.65625 24.015625 45.921875 \nQ 28.375 48.1875 33.59375 48.1875 \nQ 44.578125 48.1875 50.953125 41.515625 \nQ 57.328125 34.859375 57.328125 23.390625 \nQ 57.328125 12.15625 50.6875 5.359375 \nQ 44.046875 -1.421875 33.015625 -1.421875 \nQ 20.359375 -1.421875 13.671875 8.265625 \nQ 6.984375 17.96875 6.984375 36.375 \nQ 6.984375 53.65625 15.1875 63.9375 \nQ 23.390625 74.21875 37.203125 74.21875 \nQ 40.921875 74.21875 44.703125 73.484375 \nQ 48.484375 72.75 52.59375 71.296875 \nz\n\" id=\"DejaVuSans-54\"/>\n      </defs>\n      <use xlink:href=\"#DejaVuSans-49\"/>\n      <use x=\"63.623047\" xlink:href=\"#DejaVuSans-101\"/>\n      <use x=\"125.146484\" xlink:href=\"#DejaVuSans-8722\"/>\n      <use x=\"208.935547\" xlink:href=\"#DejaVuSans-54\"/>\n     </g>\n    </g>\n   </g>\n   <g id=\"matplotlib.axis_2\">\n    <g id=\"ytick_1\">\n     <g id=\"line2d_10\">\n      <defs>\n       <path d=\"M 0 0 \nL -3.5 0 \n\" id=\"m38273a4cde\" style=\"stroke:#000000;stroke-width:0.8;\"/>\n      </defs>\n      <g>\n       <use style=\"stroke:#000000;stroke-width:0.8;\" x=\"30.103125\" xlink:href=\"#m38273a4cde\" y=\"235.238438\"/>\n      </g>\n     </g>\n     <g id=\"text_11\">\n      <!-- 0.0 -->\n      <g transform=\"translate(7.2 239.037656)scale(0.1 -0.1)\">\n       <use xlink:href=\"#DejaVuSans-48\"/>\n       <use x=\"63.623047\" xlink:href=\"#DejaVuSans-46\"/>\n       <use x=\"95.410156\" xlink:href=\"#DejaVuSans-48\"/>\n      </g>\n     </g>\n    </g>\n    <g id=\"ytick_2\">\n     <g id=\"line2d_11\">\n      <g>\n       <use style=\"stroke:#000000;stroke-width:0.8;\" x=\"30.103125\" xlink:href=\"#m38273a4cde\" y=\"198.41446\"/>\n      </g>\n     </g>\n     <g id=\"text_12\">\n      <!-- 0.2 -->\n      <g transform=\"translate(7.2 202.213679)scale(0.1 -0.1)\">\n       <use xlink:href=\"#DejaVuSans-48\"/>\n       <use x=\"63.623047\" xlink:href=\"#DejaVuSans-46\"/>\n       <use x=\"95.410156\" xlink:href=\"#DejaVuSans-50\"/>\n      </g>\n     </g>\n    </g>\n    <g id=\"ytick_3\">\n     <g id=\"line2d_12\">\n      <g>\n       <use style=\"stroke:#000000;stroke-width:0.8;\" x=\"30.103125\" xlink:href=\"#m38273a4cde\" y=\"161.590482\"/>\n      </g>\n     </g>\n     <g id=\"text_13\">\n      <!-- 0.4 -->\n      <g transform=\"translate(7.2 165.389701)scale(0.1 -0.1)\">\n       <defs>\n        <path d=\"M 37.796875 64.3125 \nL 12.890625 25.390625 \nL 37.796875 25.390625 \nz\nM 35.203125 72.90625 \nL 47.609375 72.90625 \nL 47.609375 25.390625 \nL 58.015625 25.390625 \nL 58.015625 17.1875 \nL 47.609375 17.1875 \nL 47.609375 0 \nL 37.796875 0 \nL 37.796875 17.1875 \nL 4.890625 17.1875 \nL 4.890625 26.703125 \nz\n\" id=\"DejaVuSans-52\"/>\n       </defs>\n       <use xlink:href=\"#DejaVuSans-48\"/>\n       <use x=\"63.623047\" xlink:href=\"#DejaVuSans-46\"/>\n       <use x=\"95.410156\" xlink:href=\"#DejaVuSans-52\"/>\n      </g>\n     </g>\n    </g>\n    <g id=\"ytick_4\">\n     <g id=\"line2d_13\">\n      <g>\n       <use style=\"stroke:#000000;stroke-width:0.8;\" x=\"30.103125\" xlink:href=\"#m38273a4cde\" y=\"124.766505\"/>\n      </g>\n     </g>\n     <g id=\"text_14\">\n      <!-- 0.6 -->\n      <g transform=\"translate(7.2 128.565723)scale(0.1 -0.1)\">\n       <use xlink:href=\"#DejaVuSans-48\"/>\n       <use x=\"63.623047\" xlink:href=\"#DejaVuSans-46\"/>\n       <use x=\"95.410156\" xlink:href=\"#DejaVuSans-54\"/>\n      </g>\n     </g>\n    </g>\n    <g id=\"ytick_5\">\n     <g id=\"line2d_14\">\n      <g>\n       <use style=\"stroke:#000000;stroke-width:0.8;\" x=\"30.103125\" xlink:href=\"#m38273a4cde\" y=\"87.942527\"/>\n      </g>\n     </g>\n     <g id=\"text_15\">\n      <!-- 0.8 -->\n      <g transform=\"translate(7.2 91.741746)scale(0.1 -0.1)\">\n       <defs>\n        <path d=\"M 31.78125 34.625 \nQ 24.75 34.625 20.71875 30.859375 \nQ 16.703125 27.09375 16.703125 20.515625 \nQ 16.703125 13.921875 20.71875 10.15625 \nQ 24.75 6.390625 31.78125 6.390625 \nQ 38.8125 6.390625 42.859375 10.171875 \nQ 46.921875 13.96875 46.921875 20.515625 \nQ 46.921875 27.09375 42.890625 30.859375 \nQ 38.875 34.625 31.78125 34.625 \nz\nM 21.921875 38.8125 \nQ 15.578125 40.375 12.03125 44.71875 \nQ 8.5 49.078125 8.5 55.328125 \nQ 8.5 64.0625 14.71875 69.140625 \nQ 20.953125 74.21875 31.78125 74.21875 \nQ 42.671875 74.21875 48.875 69.140625 \nQ 55.078125 64.0625 55.078125 55.328125 \nQ 55.078125 49.078125 51.53125 44.71875 \nQ 48 40.375 41.703125 38.8125 \nQ 48.828125 37.15625 52.796875 32.3125 \nQ 56.78125 27.484375 56.78125 20.515625 \nQ 56.78125 9.90625 50.3125 4.234375 \nQ 43.84375 -1.421875 31.78125 -1.421875 \nQ 19.734375 -1.421875 13.25 4.234375 \nQ 6.78125 9.90625 6.78125 20.515625 \nQ 6.78125 27.484375 10.78125 32.3125 \nQ 14.796875 37.15625 21.921875 38.8125 \nz\nM 18.3125 54.390625 \nQ 18.3125 48.734375 21.84375 45.5625 \nQ 25.390625 42.390625 31.78125 42.390625 \nQ 38.140625 42.390625 41.71875 45.5625 \nQ 45.3125 48.734375 45.3125 54.390625 \nQ 45.3125 60.0625 41.71875 63.234375 \nQ 38.140625 66.40625 31.78125 66.40625 \nQ 25.390625 66.40625 21.84375 63.234375 \nQ 18.3125 60.0625 18.3125 54.390625 \nz\n\" id=\"DejaVuSans-56\"/>\n       </defs>\n       <use xlink:href=\"#DejaVuSans-48\"/>\n       <use x=\"63.623047\" xlink:href=\"#DejaVuSans-46\"/>\n       <use x=\"95.410156\" xlink:href=\"#DejaVuSans-56\"/>\n      </g>\n     </g>\n    </g>\n    <g id=\"ytick_6\">\n     <g id=\"line2d_15\">\n      <g>\n       <use style=\"stroke:#000000;stroke-width:0.8;\" x=\"30.103125\" xlink:href=\"#m38273a4cde\" y=\"51.118549\"/>\n      </g>\n     </g>\n     <g id=\"text_16\">\n      <!-- 1.0 -->\n      <g transform=\"translate(7.2 54.917768)scale(0.1 -0.1)\">\n       <use xlink:href=\"#DejaVuSans-49\"/>\n       <use x=\"63.623047\" xlink:href=\"#DejaVuSans-46\"/>\n       <use x=\"95.410156\" xlink:href=\"#DejaVuSans-48\"/>\n      </g>\n     </g>\n    </g>\n    <g id=\"text_17\">\n     <!-- 1e6 -->\n     <g transform=\"translate(30.103125 14.798437)scale(0.1 -0.1)\">\n      <use xlink:href=\"#DejaVuSans-49\"/>\n      <use x=\"63.623047\" xlink:href=\"#DejaVuSans-101\"/>\n      <use x=\"125.146484\" xlink:href=\"#DejaVuSans-54\"/>\n     </g>\n    </g>\n   </g>\n   <g id=\"patch_43\">\n    <path d=\"M 30.103125 235.238438 \nL 30.103125 17.798438 \n\" style=\"fill:none;stroke:#000000;stroke-linecap:square;stroke-linejoin:miter;stroke-width:0.8;\"/>\n   </g>\n   <g id=\"patch_44\">\n    <path d=\"M 364.903125 235.238438 \nL 364.903125 17.798438 \n\" style=\"fill:none;stroke:#000000;stroke-linecap:square;stroke-linejoin:miter;stroke-width:0.8;\"/>\n   </g>\n   <g id=\"patch_45\">\n    <path d=\"M 30.103125 235.238438 \nL 364.903125 235.238438 \n\" style=\"fill:none;stroke:#000000;stroke-linecap:square;stroke-linejoin:miter;stroke-width:0.8;\"/>\n   </g>\n   <g id=\"patch_46\">\n    <path d=\"M 30.103125 17.798438 \nL 364.903125 17.798438 \n\" style=\"fill:none;stroke:#000000;stroke-linecap:square;stroke-linejoin:miter;stroke-width:0.8;\"/>\n   </g>\n  </g>\n </g>\n <defs>\n  <clipPath id=\"p5e3ccf20d4\">\n   <rect height=\"217.44\" width=\"334.8\" x=\"30.103125\" y=\"17.798438\"/>\n  </clipPath>\n </defs>\n</svg>\n",
            "image/png": "[encoded data removed]"
          },
          "metadata": {
            "needs_background": "light"
          }
        }
      ],
      "source": [
        "# histogram of noise (- noise, + noise)\n",
        "# we know that negative values are due to noise, and we assume a gaussian noise distribution\n",
        "\n",
        "data_flat = data_560Mhz_1000h_train.flatten()\n",
        "min_val = min(data_flat)\n",
        "plt.hist(data_flat, bins = 40, range = (min_val, abs(min_val)))"
      ]
    },
    {
      "cell_type": "code",
      "execution_count": 8,
      "metadata": {},
      "outputs": [
        {
          "output_type": "stream",
          "name": "stdout",
          "text": [
            "0.48094657\n"
          ]
        }
      ],
      "source": [
        "fits_max_data_560Mhz_1000h = np.max(data_560Mhz_1000h)\n",
        "print(fits_max_data_560Mhz_1000h)\n",
        "\n",
        "data_560Mhz_1000h_train_clipped = np.clip(data_560Mhz_1000h_train, a_min=0, a_max=fits_max_data_560Mhz_1000h)"
      ]
    },
    {
      "cell_type": "code",
      "execution_count": 10,
      "metadata": {},
      "outputs": [
        {
          "output_type": "execute_result",
          "data": {
            "text/plain": [
              "array([[0.0000000e+00, 5.0277004e-07, 8.1352823e-07, ..., 0.0000000e+00,\n",
              "        0.0000000e+00, 0.0000000e+00],\n",
              "       [0.0000000e+00, 4.7234460e-07, 7.5504875e-07, ..., 0.0000000e+00,\n",
              "        0.0000000e+00, 1.5155882e-07],\n",
              "       [0.0000000e+00, 0.0000000e+00, 4.7753889e-07, ..., 0.0000000e+00,\n",
              "        0.0000000e+00, 0.0000000e+00],\n",
              "       ...,\n",
              "       [0.0000000e+00, 3.2216460e-07, 2.1111914e-07, ..., 0.0000000e+00,\n",
              "        0.0000000e+00, 0.0000000e+00],\n",
              "       [0.0000000e+00, 0.0000000e+00, 0.0000000e+00, ..., 0.0000000e+00,\n",
              "        0.0000000e+00, 0.0000000e+00],\n",
              "       [0.0000000e+00, 0.0000000e+00, 0.0000000e+00, ..., 0.0000000e+00,\n",
              "        4.3899996e-07, 6.1143220e-07]], dtype=float32)"
            ]
          },
          "metadata": {},
          "execution_count": 10
        }
      ],
      "source": [
        "data_560Mhz_1000h_train_clipped"
      ]
    },
    {
      "cell_type": "code",
      "metadata": {
        "id": "Ug10Ku-OF-5Y",
        "outputId": "c3b6bed6-24a7-4f71-cbed-c4b6b8d934af",
        "tags": []
      },
      "source": [
        "patches={}\n",
        "patches = ska_dataset._split_in_patch(data_560Mhz_1000h_train_clipped, df_train, data_560Mhz_1000h_fits.filename(), x1_min, y1_min, 205) # Remember to remove internal return"
      ],
      "execution_count": 9,
      "outputs": [
        {
          "output_type": "stream",
          "name": "stdout",
          "text": [
            "image saved\nIndex(['ID', 'RA (core)', 'DEC (core)', 'RA (centroid)', 'DEC (centroid)',\n       'FLUX', 'Core frac', 'BMAJ', 'BMIN', 'PA', 'SIZE', 'CLASS', 'SELECTION',\n       'x', 'y', 'x1', 'y1', 'x2', 'y2', 'major_semia_px', 'minor_semia_px',\n       'pa_in_rad', 'width', 'height', 'x1s', 'y1s', 'x2s', 'y2s',\n       'patch_name', 'patch_xo', 'patch_yo', 'patch_dim'],\n      dtype='object')\n         ID  RA (core)  DEC (core)  RA (centroid)  DEC (centroid)      FLUX  \\\n0  27514971  -0.014459  -29.933004      -0.014121      -29.932705  0.039324   \n1  15252327  -0.039005  -29.915081      -0.039002      -29.915081  0.000010   \n2  13302538  -0.005224  -29.939449      -0.005224      -29.939449  0.000017   \n3  30994188  -0.035645  -29.910868      -0.035645      -29.910868  0.000934   \n4  29158240  -0.002566  -29.917469      -0.002566      -29.917469  0.000036   \n\n   Core frac    BMAJ    BMIN       PA  ...      width     height         x1s  \\\n0   0.004216  31.508  17.616  353.308  ...  51.900100  29.585640   49.960356   \n1   0.013472   2.167   2.159  134.347  ...   3.579504   3.579806  202.619101   \n2   0.861438   0.076   0.076  259.451  ...   0.125776   0.125776   29.907046   \n3  -0.000000   7.350   6.634  -82.418  ...  11.000635  12.144215  181.576576   \n4  -0.000000   1.474   0.443   -7.448  ...   2.420676   0.792750   15.038055   \n\n          y1s         x2s         y2s                patch_name  patch_xo  \\\n0   38.133503  101.860456   67.719143  560Mhz_1000h_16380_16731     16380   \n1  156.105382  205.000000  159.685188  560Mhz_1000h_16380_16731     16380   \n2   12.685744   30.032822   12.811519  560Mhz_1000h_16380_16731     16380   \n3  176.932133  192.577211  189.076348  560Mhz_1000h_16380_16731     16380   \n4  143.306941   17.458730  144.099692  560Mhz_1000h_16380_16731     16380   \n\n   patch_yo  patch_dim  \n0     16731        205  \n1     16731        205  \n2     16731        205  \n3     16731        205  \n4     16731        205  \n\n[5 rows x 32 columns]\n"
          ]
        }
      ]
    },
    {
      "cell_type": "code",
      "execution_count": 10,
      "metadata": {},
      "outputs": [
        {
          "output_type": "stream",
          "name": "stdout",
          "text": [
            "[[0.0000000e+00 5.0277004e-07 8.1352823e-07 ... 2.1992520e-07\n  3.3757752e-07 8.9618879e-08]\n [0.0000000e+00 4.7234460e-07 7.5504875e-07 ... 0.0000000e+00\n  2.7678368e-08 3.8842813e-08]\n [0.0000000e+00 0.0000000e+00 4.7753889e-07 ... 0.0000000e+00\n  0.0000000e+00 0.0000000e+00]\n ...\n [1.6627402e-07 2.2166087e-07 0.0000000e+00 ... 0.0000000e+00\n  0.0000000e+00 0.0000000e+00]\n [1.3635220e-07 2.9386493e-07 0.0000000e+00 ... 0.0000000e+00\n  0.0000000e+00 0.0000000e+00]\n [0.0000000e+00 0.0000000e+00 0.0000000e+00 ... 0.0000000e+00\n  0.0000000e+00 0.0000000e+00]]\n          ID  RA (core)  DEC (core)  RA (centroid)  DEC (centroid)      FLUX  \\\n0   27514971  -0.014459  -29.933004      -0.014121      -29.932705  0.039324   \n1   15252327  -0.039005  -29.915081      -0.039002      -29.915081  0.000010   \n2   13302538  -0.005224  -29.939449      -0.005224      -29.939449  0.000017   \n3   30994188  -0.035645  -29.910868      -0.035645      -29.910868  0.000934   \n4   29158240  -0.002566  -29.917469      -0.002566      -29.917469  0.000036   \n..       ...        ...         ...            ...             ...       ...   \n63   9005660  -0.022509  -29.931404      -0.022509      -29.931404  0.000013   \n64  35737787  -0.000497  -29.911371      -0.000497      -29.911371  0.000028   \n65  31108334  -0.006430  -29.913763      -0.006430      -29.913763  0.000013   \n66  16819986  -0.025670  -29.939737      -0.025670      -29.939737  0.000007   \n67  30436469  -0.036250  -29.926567      -0.036250      -29.926567  0.000013   \n\n    Core frac    BMAJ    BMIN       PA  ...      width     height         x1s  \\\n0    0.004216  31.508  17.616  353.308  ...  51.900100  29.585640   49.960356   \n1    0.013472   2.167   2.159  134.347  ...   3.579504   3.579806  202.619101   \n2    0.861438   0.076   0.076  259.451  ...   0.125776   0.125776   29.907046   \n3   -0.000000   7.350   6.634  -82.418  ...  11.000635  12.144215  181.576576   \n4   -0.000000   1.474   0.443   -7.448  ...   2.420676   0.792750   15.038055   \n..        ...     ...     ...      ...  ...        ...        ...         ...   \n63  -0.000000   1.090   0.293   63.968  ...   0.903657   1.634795  118.765088   \n64  -0.000000   0.479   0.089   52.518  ...   0.496338   0.635411    5.317516   \n65  -0.000000   0.643   0.084  -44.041  ...   0.771023   0.746474   35.820206   \n66  -0.000000   0.199   0.057   -3.338  ...   0.328821   0.096104  135.364627   \n67  -0.000000   0.453   0.111  -16.761  ...   0.719793   0.278711  189.812156   \n\n           y1s         x2s         y2s                patch_name  patch_xo  \\\n0    38.133503  101.860456   67.719143  560Mhz_1000h_16380_16731     16380   \n1   156.105382  205.000000  159.685188  560Mhz_1000h_16380_16731     16380   \n2    12.685744   30.032822   12.811519  560Mhz_1000h_16380_16731     16380   \n3   176.932133  192.577211  189.076348  560Mhz_1000h_16380_16731     16380   \n4   143.306941   17.458730  144.099692  560Mhz_1000h_16380_16731     16380   \n..         ...         ...         ...                       ...       ...   \n63   59.852151  119.668745   61.486947  560Mhz_1000h_16380_16731     16380   \n64  179.715168    5.813854  180.350579  560Mhz_1000h_16380_16731     16380   \n65  165.408726   36.591228  166.155199  560Mhz_1000h_16380_16731     16380   \n66   10.970443  135.693448   11.066547  560Mhz_1000h_16380_16731     16380   \n67   89.330071  190.531949   89.608782  560Mhz_1000h_16380_16731     16380   \n\n    patch_yo  patch_dim  \n0      16731        205  \n1      16731        205  \n2      16731        205  \n3      16731        205  \n4      16731        205  \n..       ...        ...  \n63     16731        205  \n64     16731        205  \n65     16731        205  \n66     16731        205  \n67     16731        205  \n\n[68 rows x 32 columns]\n"
          ]
        },
        {
          "output_type": "error",
          "ename": "NameError",
          "evalue": "name 'b' is not defined",
          "traceback": [
            "\u001b[0;31m---------------------------------------------------------------------------\u001b[0m",
            "\u001b[0;31mNameError\u001b[0m                                 Traceback (most recent call last)",
            "\u001b[0;32m<ipython-input-10-d6ceb9909fa1>\u001b[0m in \u001b[0;36m<module>\u001b[0;34m\u001b[0m\n\u001b[1;32m      9\u001b[0m \u001b[0mprint\u001b[0m\u001b[0;34m(\u001b[0m\u001b[0mp\u001b[0m\u001b[0;34m)\u001b[0m\u001b[0;34m\u001b[0m\u001b[0;34m\u001b[0m\u001b[0m\n\u001b[1;32m     10\u001b[0m \u001b[0mprint\u001b[0m\u001b[0;34m(\u001b[0m\u001b[0mpdata\u001b[0m\u001b[0;34m)\u001b[0m\u001b[0;34m\u001b[0m\u001b[0;34m\u001b[0m\u001b[0m\n\u001b[0;32m---> 11\u001b[0;31m \u001b[0mb\u001b[0m\u001b[0;34m.\u001b[0m\u001b[0mdtypes\u001b[0m\u001b[0;34m\u001b[0m\u001b[0;34m\u001b[0m\u001b[0m\n\u001b[0m",
            "\u001b[0;31mNameError\u001b[0m: name 'b' is not defined"
          ]
        }
      ],
      "source": [
        "# test if file has been correctly saved\n",
        "\n",
        "patch = '0_1638016380_205.npy'\n",
        "pkl = '0_1638016380_205.pkl'\n",
        "\n",
        "path = os.path.join(config.TRAIN_PATCHES_FOLDER, '0_1638016380_205/')\n",
        "p = np.load(os.path.join(path, patch))\n",
        "pdata = pd.read_pickle(os.path.join(path, pkl))\n",
        "print(p)\n",
        "print(pdata)\n",
        "b.dtypes"
      ]
    },
    {
      "source": [
        "#TODO:\n",
        "- Ingrandire bbox\n",
        "- unire bbox sovrapposte\n",
        "- Mergiare branch data_clean (anche alla fine)\n",
        "- Quando vengono create le patch, ritagliare le bbox per farle stare tutte nella patch X\n",
        "- Check tra nostro dataset pulito e quello di ICRAR (dopo aver mergiato il branch data_clean)\n",
        "\n",
        "Da capire per la rete:\n",
        "- bisogna scalre input tra 0 e 255 intero?\n",
        "- salvare le patch come immagini o possiamo darle in input on the fly?\n",
        "- è necessario un custom input layer che converte le nostra immagini da 1 a 3 canali?"
      ],
      "cell_type": "markdown",
      "metadata": {}
    },
    {
      "cell_type": "code",
      "execution_count": 31,
      "metadata": {},
      "outputs": [],
      "source": [
        "# Download VGG16 weights\n",
        "# 'https://github.com/fchollet/deep-learning-models/releases/download/v0.1/vgg16_weights_tf_dim_ordering_tf_kernels_notop.h5'\n",
        "if not os.path.exists(os.path.join(config.MODEL_WEIGHTS, 'vgg16')):\n",
        "    download_data('vgg16_weights_tf_dim_ordering_tf_kernels_notop.h5', \n",
        "    'https://github.com/fchollet/deep-learning-models/releases/download/v0.1/vgg16_weights_tf_dim_ordering_tf_kernels_notop.h5', config.MODEL_WEIGHTS + '/vgg16')\n"
      ]
    },
    {
      "cell_type": "code",
      "metadata": {
        "id": "maVI39nOF-5Y",
        "outputId": "d4c6a026-68b9-46fa-c7af-b692285199cd"
      },
      "source": [
        "# First net version\n",
        "import keras\n",
        "from keras import backend as K\n",
        "from keras.layers import Input, Conv2D, MaxPooling2D, Reshape, Concatenate\n",
        "\n",
        "FROZEN_LAYERS_IDX = [1, 2, 4, 5]\n",
        "ANCHOR_NUM = 30\n",
        "PROB_PRED_OUT = 2 * ANCHOR_NUM\n",
        "COORD_PRED_OUT = 4 * ANCHOR_NUM \n",
        "input_shape=(205, 205, 1) #TODO: change to 205,205,1\n",
        "\n",
        "vgg16_weight_path = os.path.join('./model/vgg16/vgg16_weights_tf_dim_ordering_tf_kernels_notop.h5')\n",
        "\n",
        "# Add custom input-layer to change from1 to 3 channels\n",
        "inp = Input(input_shape)\n",
        "expander_layer = Conv2D(filters=3, kernel_size=(1, 1), padding='same', activation='relu', name='Custom_input_layer')(inp)\n",
        "\n",
        "'''\n",
        "# Load pretrained VGG16 and remove last MaxPool layer\n",
        "# VGG16 = keras.applications.VGG16(include_top=False, weights=\"imagenet\", pooling=None) # Commentato perchè non siamo riusciti a togliere l'ultimo layer\n",
        "# x = x(expander_layer)\n",
        "'''\n",
        "\n",
        "# Block 1\n",
        "x = Conv2D(64, (3, 3), activation='relu', padding='same', name='block1_conv1', trainable=False)(expander_layer)\n",
        "x = Conv2D(64, (3, 3), activation='relu', padding='same', name='block1_conv2', trainable=False)(x)\n",
        "x = MaxPooling2D((2, 2), strides=(2, 2), name='block1_pool')(x)\n",
        "\n",
        "# Block 2\n",
        "x = Conv2D(128, (3, 3), activation='relu', padding='same', name='block2_conv1', trainable=False)(x)\n",
        "x = Conv2D(128, (3, 3), activation='relu', padding='same', name='block2_conv2', trainable=False)(x)\n",
        "x = MaxPooling2D((2, 2), strides=(2, 2), name='block2_pool')(x)\n",
        "\n",
        "# Block 3\n",
        "x = Conv2D(256, (3, 3), activation='relu', padding='same', name='block3_conv1')(x)\n",
        "x = Conv2D(256, (3, 3), activation='relu', padding='same', name='block3_conv2')(x)\n",
        "x = Conv2D(256, (3, 3), activation='relu', padding='same', name='block3_conv3')(x)\n",
        "x = MaxPooling2D((2, 2), strides=(2, 2), name='block3_pool')(x)\n",
        "\n",
        "# Block 4\n",
        "x = Conv2D(512, (3, 3), activation='relu', padding='same', name='block4_conv1')(x)\n",
        "x = Conv2D(512, (3, 3), activation='relu', padding='same', name='block4_conv2')(x)\n",
        "x = Conv2D(512, (3, 3), activation='relu', padding='same', name='block4_conv3')(x)\n",
        "x = MaxPooling2D((2, 2), strides=(2, 2), name='block4_pool')(x)\n",
        "\n",
        "# Block 5\n",
        "x = Conv2D(512, (3, 3), activation='relu', padding='same', name='block5_conv1')(x)\n",
        "x = Conv2D(512, (3, 3), activation='relu', padding='same', name='block5_conv2')(x)\n",
        "x = Conv2D(512, (3, 3), activation='relu', padding='same', name='block5_conv3')(x)\n",
        "# x = MaxPooling2D((2, 2), strides=(2, 2), name='block5_pool')(x)\n",
        "\n",
        "# Create Region Proposal Net\n",
        "x = Conv2D(filters=512, kernel_size=(3, 3), padding='same', activation='relu', name='18_RPN_Conv1')(x)\n",
        "cls_pred = Conv2D(filters=PROB_PRED_OUT, kernel_size=(1, 1), padding='same', activation='sigmoid', name='19_Anchor_Cls_Conv')(x) #output of layer 20\n",
        "reg_pred = Conv2D(filters=COORD_PRED_OUT, kernel_size=(1, 1), padding='same', activation='linear', name='19_Anchor_Reg_Conv')(x) #output of layer 19\n",
        "\n",
        "anch_target_cls = Reshape((cls_pred.shape[1]**2, cls_pred.shape[3]), name='20_Anchor_Target_cls')(cls_pred)\n",
        "anch_target_reg = Reshape((reg_pred.shape[1]**2, reg_pred.shape[3]), name='20_Anchor_Target_reg')(reg_pred)\n",
        "\n",
        "print(cls_pred)\n",
        "\n",
        "# region_prop_net = keras.Model(inp, [cls_pred, reg_pred], name='RegionProposal')\n",
        "region_prop_net = keras.Model(inp, cls_pred, name='RegionProposal')\n",
        "\n",
        "region_prop_net.load_weights(vgg16_weight_path, by_name=True)\n",
        "\n",
        "region_prop_net.summary()"
      ],
      "execution_count": 120,
      "outputs": [
        {
          "output_type": "stream",
          "name": "stdout",
          "text": [
            "KerasTensor(type_spec=TensorSpec(shape=(None, 12, 12, 60), dtype=tf.float32, name=None), name='19_Anchor_Cls_Conv/Sigmoid:0', description=\"created by layer '19_Anchor_Cls_Conv'\")\nModel: \"RegionProposal\"\n_________________________________________________________________\nLayer (type)                 Output Shape              Param #   \n=================================================================\ninput_9 (InputLayer)         [(None, 205, 205, 1)]     0         \n_________________________________________________________________\nCustom_input_layer (Conv2D)  (None, 205, 205, 3)       6         \n_________________________________________________________________\nblock1_conv1 (Conv2D)        (None, 205, 205, 64)      1792      \n_________________________________________________________________\nblock1_conv2 (Conv2D)        (None, 205, 205, 64)      36928     \n_________________________________________________________________\nblock1_pool (MaxPooling2D)   (None, 102, 102, 64)      0         \n_________________________________________________________________\nblock2_conv1 (Conv2D)        (None, 102, 102, 128)     73856     \n_________________________________________________________________\nblock2_conv2 (Conv2D)        (None, 102, 102, 128)     147584    \n_________________________________________________________________\nblock2_pool (MaxPooling2D)   (None, 51, 51, 128)       0         \n_________________________________________________________________\nblock3_conv1 (Conv2D)        (None, 51, 51, 256)       295168    \n_________________________________________________________________\nblock3_conv2 (Conv2D)        (None, 51, 51, 256)       590080    \n_________________________________________________________________\nblock3_conv3 (Conv2D)        (None, 51, 51, 256)       590080    \n_________________________________________________________________\nblock3_pool (MaxPooling2D)   (None, 25, 25, 256)       0         \n_________________________________________________________________\nblock4_conv1 (Conv2D)        (None, 25, 25, 512)       1180160   \n_________________________________________________________________\nblock4_conv2 (Conv2D)        (None, 25, 25, 512)       2359808   \n_________________________________________________________________\nblock4_conv3 (Conv2D)        (None, 25, 25, 512)       2359808   \n_________________________________________________________________\nblock4_pool (MaxPooling2D)   (None, 12, 12, 512)       0         \n_________________________________________________________________\nblock5_conv1 (Conv2D)        (None, 12, 12, 512)       2359808   \n_________________________________________________________________\nblock5_conv2 (Conv2D)        (None, 12, 12, 512)       2359808   \n_________________________________________________________________\nblock5_conv3 (Conv2D)        (None, 12, 12, 512)       2359808   \n_________________________________________________________________\n18_RPN_Conv1 (Conv2D)        (None, 12, 12, 512)       2359808   \n_________________________________________________________________\n19_Anchor_Cls_Conv (Conv2D)  (None, 12, 12, 60)        30780     \n=================================================================\nTotal params: 17,105,282\nTrainable params: 16,845,122\nNon-trainable params: 260,160\n_________________________________________________________________\n"
          ]
        }
      ]
    },
    {
      "cell_type": "code",
      "execution_count": 128,
      "metadata": {},
      "outputs": [],
      "source": [
        "lambda_rpn_regr = 1.0\n",
        "lambda_rpn_class = 1.0\n",
        "\n",
        "lambda_cls_regr = 1.0\n",
        "lambda_cls_class = 1.0\n",
        "\n",
        "epsilon = 1e-4\n",
        "\n",
        "def rpn_loss_regr(num_anchors):\n",
        "    \"\"\"Loss function for rpn regression\n",
        "    Args:\n",
        "        num_anchors: number of anchors (9 in here)\n",
        "    Returns:\n",
        "        Smooth L1 loss function \n",
        "                           0.5*x*x (if x_abs < 1)\n",
        "                           x_abx - 0.5 (otherwise)\n",
        "    \"\"\"\n",
        "    def rpn_loss_regr_fixed_num(y_true, y_pred):\n",
        "\n",
        "        # x is the difference between true value and predicted value\n",
        "        x = y_true[:, :, :, 4 * num_anchors:] - y_pred\n",
        "\n",
        "        # absolute value of x\n",
        "        x_abs = K.abs(x)\n",
        "\n",
        "        # If x_abs <= 1.0, x_bool = 1\n",
        "        x_bool = K.cast(K.less_equal(x_abs, 1.0), tf.float32)\n",
        "\n",
        "        return lambda_rpn_regr * K.sum(\n",
        "            y_true[:, :, :, :4 * num_anchors] * (x_bool * (0.5 * x * x) + (1 - x_bool) * (x_abs - 0.5))) / K.sum(epsilon + y_true[:, :, :, :4 * num_anchors])\n",
        "\n",
        "    return rpn_loss_regr_fixed_num\n",
        "\n",
        "def rpn_loss_cls(num_anchors):\n",
        "    \"\"\"Loss function for rpn classification\n",
        "    Args:\n",
        "        num_anchors: number of anchors (9 in here)\n",
        "        y_true[:, :, :, :9]: [0,1,0,0,0,0,0,1,0] means only the second and the eighth box is valid which contains pos or neg anchor => isValid\n",
        "        y_true[:, :, :, 9:]: [0,1,0,0,0,0,0,0,0] means the second box is pos and eighth box is negative\n",
        "    Returns:\n",
        "        lambda * sum((binary_crossentropy(isValid*y_pred,y_true))) / N\n",
        "    \"\"\"\n",
        "    def rpn_loss_cls_fixed_num(y_true, y_pred):\n",
        "            print(y_true)\n",
        "            print(y_pred)\n",
        "\n",
        "            return lambda_rpn_class * K.sum(y_true[:, :, :, :num_anchors] * K.binary_crossentropy(y_pred[:, :, :, :num_anchors], y_true[:, :, :, :num_anchors])) / K.sum(epsilon + y_true[:, :, :, :num_anchors])\n",
        "            \n",
        "\n",
        "    return rpn_loss_cls_fixed_num"
      ]
    },
    {
      "cell_type": "code",
      "execution_count": 129,
      "metadata": {},
      "outputs": [],
      "source": [
        "from keras.optimizers import Adam\n",
        "\n",
        "num_anchors = 30\n",
        "\n",
        "optimizer = Adam(lr=1e-5)\n",
        "optimizer_classifier = Adam(lr=1e-5)\n",
        "# region_prop_net.compile(optimizer=optimizer, loss=[rpn_loss_cls(num_anchors), rpn_loss_regr(num_anchors)])\n",
        "region_prop_net.compile(optimizer=optimizer, loss=rpn_loss_cls(num_anchors))"
      ]
    },
    {
      "cell_type": "code",
      "execution_count": 14,
      "metadata": {
        "tags": []
      },
      "outputs": [
        {
          "output_type": "stream",
          "name": "stdout",
          "text": [
            "1\n0\nID                                27514971\nRA (core)                        -0.014459\nDEC (core)                      -29.933004\nRA (centroid)                    -0.014121\nDEC (centroid)                  -29.932705\nFLUX                              0.039324\nCore frac                         0.004216\nBMAJ                                31.508\nBMIN                                17.616\nPA                                 353.308\nSIZE                                     1\nCLASS                                    1\nSELECTION                                1\nx                                16455.911\ny                                16783.927\nx1                            16429.960356\ny1                            16769.133503\nx2                            16481.860456\ny2                            16798.719143\nmajor_semia_px                   26.072025\nminor_semia_px                   14.576767\npa_in_rad                         6.166388\nwidth                              51.9001\nheight                            29.58564\nx1s                              49.960356\ny1s                              38.133503\nx2s                             101.860456\ny2s                              67.719143\npatch_name        560Mhz_1000h_16380_16731\npatch_xo                             16380\npatch_yo                             16731\npatch_dim                              205\nName: 0, dtype: object\n"
          ]
        }
      ],
      "source": [
        "a,b,c = prep.calc_rpn(pdata.head(1), 205, 205, 205, 205)"
      ]
    },
    {
      "cell_type": "code",
      "execution_count": 15,
      "metadata": {},
      "outputs": [
        {
          "output_type": "stream",
          "name": "stdout",
          "text": [
            "(1, 60, 12, 12)\n(1, 240, 12, 12)\n1\n"
          ]
        }
      ],
      "source": [
        "print(a.shape)\n",
        "print(b.shape)\n",
        "print(c)"
      ]
    },
    {
      "source": [
        "TODO - 20210502:\n",
        "- X creare colonne per coordinate bbox nel sistema di riferimento della patch\n",
        "- X creare cartelle per patches con npy + pkl delle sue sole bbox\n",
        "- ragionare su dimensioni patch\n",
        "- X Caricare pesi VGG16 nel nuovo network\n",
        "- lanciare training\n",
        "\n",
        "TODO - 20210508:\n",
        "- zero centering patch by patch\n",
        "- troncamento rumore a 1e-6\n",
        "- portare branch o funzioni di data_clean in main\n",
        "- img augmentation -> augment()"
      ],
      "cell_type": "markdown",
      "metadata": {}
    },
    {
      "cell_type": "code",
      "execution_count": 38,
      "metadata": {},
      "outputs": [
        {
          "output_type": "stream",
          "name": "stdout",
          "text": [
            "(1, 12, 12, 60)\n(1, 12, 12, 240)\n"
          ]
        }
      ],
      "source": [
        "a = np.transpose(a, (0, 2, 3, 1))\n",
        "print(a.shape)\n",
        "b = np.transpose(b, (0, 2, 3, 1))\n",
        "print(b.shape)"
      ]
    },
    {
      "cell_type": "code",
      "execution_count": 49,
      "metadata": {},
      "outputs": [],
      "source": [
        "p = np.expand_dims(p, axis=0)\n"
      ]
    },
    {
      "cell_type": "code",
      "execution_count": 54,
      "metadata": {},
      "outputs": [
        {
          "output_type": "execute_result",
          "data": {
            "text/plain": [
              "(205, 205, 1)"
            ]
          },
          "metadata": {},
          "execution_count": 54
        }
      ],
      "source": [
        "p = np.transpose(p, (1,2,0))\n",
        "p.shape"
      ]
    },
    {
      "cell_type": "code",
      "execution_count": 59,
      "metadata": {},
      "outputs": [
        {
          "output_type": "execute_result",
          "data": {
            "text/plain": [
              "(1, 205, 205, 1)"
            ]
          },
          "metadata": {},
          "execution_count": 59
        }
      ],
      "source": [
        "p = np.expand_dims(p, axis=0)\n",
        "p.shape\n"
      ]
    },
    {
      "cell_type": "code",
      "execution_count": 77,
      "metadata": {},
      "outputs": [
        {
          "output_type": "execute_result",
          "data": {
            "text/plain": [
              "numpy.ndarray"
            ]
          },
          "metadata": {},
          "execution_count": 77
        }
      ],
      "source": [
        "\n",
        "type(p)"
      ]
    },
    {
      "source": [
        "# Train rpn model and get loss value [_, loss_rpn_cls, loss_rpn_regr]\n",
        "loss_rpn = region_prop_net.train_on_batch(p, a)\n",
        "print(loss_rpn)\n",
        "\n",
        "# Get predicted rpn from rpn model [rpn_cls, rpn_regr]\n",
        "P_rpn = region_prop_net.predict_on_batch(p)\n",
        "P_rpn[0].shape"
      ],
      "cell_type": "code",
      "metadata": {},
      "execution_count": 130,
      "outputs": [
        {
          "output_type": "stream",
          "name": "stdout",
          "text": [
            "Tensor(\"IteratorGetNext:1\", shape=(1, 12, 12, 60), dtype=float32)\n",
            "Tensor(\"RegionProposal/19_Anchor_Cls_Conv/Sigmoid:0\", shape=(1, 12, 12, 60), dtype=float32)\n",
            "Tensor(\"IteratorGetNext:1\", shape=(1, 12, 12, 60), dtype=float32)\n",
            "Tensor(\"RegionProposal/19_Anchor_Cls_Conv/Sigmoid:0\", shape=(1, 12, 12, 60), dtype=float32)\n",
            "9.86532211303711\n"
          ]
        },
        {
          "output_type": "execute_result",
          "data": {
            "text/plain": [
              "(12, 12, 60)"
            ]
          },
          "metadata": {},
          "execution_count": 130
        }
      ]
    },
    {
      "cell_type": "code",
      "execution_count": null,
      "metadata": {},
      "outputs": [],
      "source": [
        "#TODO: Provare YOLO che ad Asperti piace\n",
        "# Ablation study\n",
        "# Provare, a parità di frequenza, le esposizioni diverse come canali"
      ]
    }
  ]
}