{
  "nbformat": 4,
  "nbformat_minor": 0,
  "metadata": {
    "language_info": {
      "codemirror_mode": {
        "name": "ipython",
        "version": 3
      },
      "file_extension": ".py",
      "mimetype": "text/x-python",
      "name": "python",
      "nbconvert_exporter": "python",
      "pygments_lexer": "ipython3",
      "version": "3.8.2"
    },
    "orig_nbformat": 2,
    "kernelspec": {
      "name": "python382jvsc74a57bd031f2aee4e71d21fbe5cf8b01ff0e069b9275f58929596ceb00d14d90e3e16cd6",
      "display_name": "Python 3.8.2 64-bit"
    },
    "colab": {
      "name": "main.ipynb",
      "provenance": []
    },
    "metadata": {
      "interpreter": {
        "hash": "31f2aee4e71d21fbe5cf8b01ff0e069b9275f58929596ceb00d14d90e3e16cd6"
      }
    }
  },
  "cells": [
    {
      "cell_type": "code",
      "metadata": {
        "id": "XkdmU4lMMVmI",
        "outputId": "7bfc2152-66c6-4d4d-f838-0e531b28a348",
        "colab": {
          "base_uri": "https://localhost:8080/"
        }
      },
      "source": [
        "!git clone 'https://github.com/Lorenz92/SKADC1.git'\n",
        "% cd SKADC1\n",
        "!echo $PWD"
      ],
      "execution_count": 12,
      "outputs": [
        {
          "output_type": "stream",
          "text": [
            "Cloning into 'SKADC1'...\n",
            "remote: Enumerating objects: 41, done.\u001b[K\n",
            "remote: Counting objects: 100% (41/41), done.\u001b[K\n",
            "remote: Compressing objects: 100% (33/33), done.\u001b[K\n",
            "remote: Total 41 (delta 17), reused 25 (delta 6), pack-reused 0\u001b[K\n",
            "Unpacking objects: 100% (41/41), done.\n"
          ],
          "name": "stdout"
        }
      ]
    },
    {
      "cell_type": "code",
      "metadata": {
        "id": "7WwOlsifF-5G",
        "outputId": "303002ab-c8c4-4807-caeb-ee1c590d4326",
        "colab": {
          "base_uri": "https://localhost:8080/"
        }
      },
      "source": [
        "import pandas as pd\n",
        "import numpy as np\n",
        "import requests\n",
        "import matplotlib.pyplot as plt\n",
        "import sys\n",
        "from astropy.io import fits\n",
        "import os\n",
        "\n",
        "import src.dataset as dataset\n",
        "import src.config as config\n",
        "from src.utils import *\n",
        "import src.preprocessing as prep\n",
        "import src.models as models\n",
        "\n",
        "# from src.config import * \n",
        "\n",
        "%load_ext autoreload\n",
        "%autoreload 2\n",
        "\n",
        "np.random.seed(config.RANDOM_SEED)"
      ],
      "execution_count": 17,
      "outputs": [
        {
          "output_type": "stream",
          "name": "stdout",
          "text": [
            "The autoreload extension is already loaded. To reload it, use:\n  %reload_ext autoreload\n"
          ]
        }
      ]
    },
    {
      "cell_type": "code",
      "metadata": {
        "id": "qHxrJ525F-5J",
        "outputId": "ee8e854b-65ce-486a-e9e3-c5752e45406c",
        "colab": {
          "base_uri": "https://localhost:8080/"
        }
      },
      "source": [
        "for download_info in config.required_files:\n",
        "    if not os.path.exists(os.path.join(config.TRAIN_DATA_FOLDER, download_info['file_name'])):\n",
        "        download_data(download_info['file_name'], download_info['url'], config.DOWNLOAD_FOLDER)"
      ],
      "execution_count": 7,
      "outputs": [
        {
          "output_type": "stream",
          "name": "stdout",
          "text": [
            "Downloading SKA 560Mhz_1000h.fits data...\n",
            "Download completed!\n",
            "Downloading SKA 9200Mhz_1000h.fits data...\n",
            "Download completed!\n"
          ]
        }
      ]
    },
    {
      "cell_type": "code",
      "metadata": {
        "tags": [],
        "id": "Q8IbYCwkF-5K",
        "outputId": "5cd8e5ba-49cd-49b4-d65c-65d82229f792",
        "colab": {
          "base_uri": "https://localhost:8080/",
          "height": 221
        }
      },
      "source": [
        "# Dataset parsing and loading\n",
        "# use \"subset\" to load a small portion of data for development/debugging purposes\n",
        "\n",
        "ska_dataset = dataset.SKADataset(train_set_path=config.TRAIN_SET_PATH, subset=config.DATA_SUBSET)\n",
        "print(ska_dataset.raw_train_df.shape)\n",
        "ska_dataset.raw_train_df.head()"
      ],
      "execution_count": 112,
      "outputs": [
        {
          "output_type": "stream",
          "name": "stdout",
          "text": [
            "(19222, 15)\n"
          ]
        },
        {
          "output_type": "execute_result",
          "data": {
            "text/plain": [
              "         ID  RA (core)  DEC (core)  RA (centroid)  DEC (centroid)      FLUX  \\\n",
              "0  24121695  -0.642227  -29.775242      -0.642316      -29.775211  0.000035   \n",
              "1  20167150  -0.390473  -29.867493      -0.390667      -29.868851  0.029555   \n",
              "2  20045120  -0.021411  -29.643486      -0.021359      -29.643561  0.000653   \n",
              "3  33938384  -0.316375  -29.697647      -0.316375      -29.697647  0.000017   \n",
              "4   7527248  -0.336528  -29.627335      -0.336527      -29.627338  0.000054   \n",
              "\n",
              "   Core frac     BMAJ    BMIN       PA  SIZE  CLASS  SELECTION          x  \\\n",
              "0   0.000000    5.600   5.551  328.554     1      1          1  19704.519   \n",
              "1   0.016924  107.110  43.263  191.258     1      1          1  18401.338   \n",
              "2   0.012185    5.037   3.525  276.587     1      1          1  16493.600   \n",
              "3   0.000000    0.847   0.266  346.641     2      1          1  18020.319   \n",
              "4   0.044763    3.343   1.515  279.006     1      1          1  18125.824   \n",
              "\n",
              "           y  \n",
              "0  17712.942  \n",
              "1  17160.919  \n",
              "2  18506.577  \n",
              "3  18182.095  \n",
              "4  18600.680  "
            ],
            "text/html": "<div>\n<style scoped>\n    .dataframe tbody tr th:only-of-type {\n        vertical-align: middle;\n    }\n\n    .dataframe tbody tr th {\n        vertical-align: top;\n    }\n\n    .dataframe thead th {\n        text-align: right;\n    }\n</style>\n<table border=\"1\" class=\"dataframe\">\n  <thead>\n    <tr style=\"text-align: right;\">\n      <th></th>\n      <th>ID</th>\n      <th>RA (core)</th>\n      <th>DEC (core)</th>\n      <th>RA (centroid)</th>\n      <th>DEC (centroid)</th>\n      <th>FLUX</th>\n      <th>Core frac</th>\n      <th>BMAJ</th>\n      <th>BMIN</th>\n      <th>PA</th>\n      <th>SIZE</th>\n      <th>CLASS</th>\n      <th>SELECTION</th>\n      <th>x</th>\n      <th>y</th>\n    </tr>\n  </thead>\n  <tbody>\n    <tr>\n      <th>0</th>\n      <td>24121695</td>\n      <td>-0.642227</td>\n      <td>-29.775242</td>\n      <td>-0.642316</td>\n      <td>-29.775211</td>\n      <td>0.000035</td>\n      <td>0.000000</td>\n      <td>5.600</td>\n      <td>5.551</td>\n      <td>328.554</td>\n      <td>1</td>\n      <td>1</td>\n      <td>1</td>\n      <td>19704.519</td>\n      <td>17712.942</td>\n    </tr>\n    <tr>\n      <th>1</th>\n      <td>20167150</td>\n      <td>-0.390473</td>\n      <td>-29.867493</td>\n      <td>-0.390667</td>\n      <td>-29.868851</td>\n      <td>0.029555</td>\n      <td>0.016924</td>\n      <td>107.110</td>\n      <td>43.263</td>\n      <td>191.258</td>\n      <td>1</td>\n      <td>1</td>\n      <td>1</td>\n      <td>18401.338</td>\n      <td>17160.919</td>\n    </tr>\n    <tr>\n      <th>2</th>\n      <td>20045120</td>\n      <td>-0.021411</td>\n      <td>-29.643486</td>\n      <td>-0.021359</td>\n      <td>-29.643561</td>\n      <td>0.000653</td>\n      <td>0.012185</td>\n      <td>5.037</td>\n      <td>3.525</td>\n      <td>276.587</td>\n      <td>1</td>\n      <td>1</td>\n      <td>1</td>\n      <td>16493.600</td>\n      <td>18506.577</td>\n    </tr>\n    <tr>\n      <th>3</th>\n      <td>33938384</td>\n      <td>-0.316375</td>\n      <td>-29.697647</td>\n      <td>-0.316375</td>\n      <td>-29.697647</td>\n      <td>0.000017</td>\n      <td>0.000000</td>\n      <td>0.847</td>\n      <td>0.266</td>\n      <td>346.641</td>\n      <td>2</td>\n      <td>1</td>\n      <td>1</td>\n      <td>18020.319</td>\n      <td>18182.095</td>\n    </tr>\n    <tr>\n      <th>4</th>\n      <td>7527248</td>\n      <td>-0.336528</td>\n      <td>-29.627335</td>\n      <td>-0.336527</td>\n      <td>-29.627338</td>\n      <td>0.000054</td>\n      <td>0.044763</td>\n      <td>3.343</td>\n      <td>1.515</td>\n      <td>279.006</td>\n      <td>1</td>\n      <td>1</td>\n      <td>1</td>\n      <td>18125.824</td>\n      <td>18600.680</td>\n    </tr>\n  </tbody>\n</table>\n</div>"
          },
          "metadata": {},
          "execution_count": 112
        }
      ]
    },
    {
      "cell_type": "code",
      "metadata": {
        "id": "fdok-EggF-5T",
        "outputId": "40c460e3-a600-4a3b-98a4-021a903c522e",
        "colab": {
          "base_uri": "https://localhost:8080/"
        }
      },
      "source": [
        "data_560Mhz_1000h_fits = fits.open('./data/training/560Mhz_1000h.fits')\n",
        "# data_560Mhz_1000h_fits.info()\n",
        "data_560Mhz_1000h_fits.filename()\n",
        "\n",
        "# print(data_560Mhz_1000h_fits[0].data)\n",
        "# print(data_560Mhz_1000h_fits[0].data.shape)\n",
        "\n",
        "data_560Mhz_1000h = data_560Mhz_1000h_fits[0].data[0,0]\n"
      ],
      "execution_count": 113,
      "outputs": [
        {
          "output_type": "stream",
          "name": "stderr",
          "text": [
            "WARNING: VerifyWarning: Invalid 'BLANK' keyword in header.  The 'BLANK' keyword is only applicable to integer data, and will be ignored in this HDU. [astropy.io.fits.hdu.image]\n"
          ]
        }
      ]
    },
    {
      "cell_type": "code",
      "metadata": {
        "id": "jdi1VFtOF-5V",
        "outputId": "0637233d-fadd-4c9f-b823-02ab6424866f"
      },
      "source": [
        "# Visualization test\n",
        "from astropy.io import fits\n",
        "from astropy.utils.data import download_file\n",
        "\n",
        "# image_file = download_file('https://owncloud.ia2.inaf.it/index.php/s/hbasFhd4YILNkCr/download', cache=True )\n",
        "\n",
        "# image_data = fits.getdata(image_file)\n",
        "# image_data = image_data.reshape(image_data.shape[2:])\n",
        "\n",
        "# compute per value to clip the image\n",
        "perc = 99.9\n",
        "percentileThresh = np.percentile(data_560Mhz_1000h, perc)\n",
        "print (f'{perc} percentile {percentileThresh}')\n",
        "\n",
        "# # crop the image to speed up computation and clip using per value\n",
        "# image_crop= image_data[5000:10000, 5000:10000]\n",
        "# image_crop.clip(max=percentileThresh)\n",
        "\n",
        "# plt.figure(figsize=(100, 100))\n",
        "# # plt.imshow(normalized_data, cmap='viridis', vmax=255, vmin=0)\n",
        "# for idx in range(25):\n",
        "#     plt.subplot(5, 5, idx+1)\n",
        "#     plt.axis('off')\n",
        "#     base = 200 * idx\n",
        "#     end = base + 200\n",
        "#     normalized_data = image_crop[base:end, base:end] * (1.0 / percentileThresh)\n",
        "#     plt.imshow(normalized_data, cmap='viridis', vmax=1, vmin=0)"
      ],
      "execution_count": 28,
      "outputs": [
        {
          "output_type": "stream",
          "name": "stdout",
          "text": [
            "99.9 percentile 8.316711500810925e-06\n"
          ]
        }
      ]
    },
    {
      "cell_type": "markdown",
      "metadata": {
        "id": "UqSLm8sBF-5W"
      },
      "source": [
        "### Preprocessing"
      ]
    },
    {
      "cell_type": "code",
      "execution_count": 116,
      "metadata": {},
      "outputs": [],
      "source": [
        "coords = ska_dataset._convert_boxes_to_px_coord(ska_dataset.raw_train_df, data_560Mhz_1000h_fits[0].header)"
      ]
    },
    {
      "source": [
        "pd.DataFrame.from_dict(coords)"
      ],
      "cell_type": "code",
      "metadata": {
        "tags": []
      },
      "execution_count": 5,
      "outputs": [
        {
          "output_type": "execute_result",
          "data": {
            "text/plain": [
              "                 x1            y1            x2            y2  major_semia_px  \\\n",
              "0      19699.889820  17708.334874  19709.135520  17717.543623        4.633850   \n",
              "1      18314.128617  17121.775102  18488.540079  17200.059688       88.630651   \n",
              "2      16490.663037  18502.418816  16496.536575  18510.726749        4.167982   \n",
              "3      18019.631633  18181.823147  18020.999232  18182.360119        0.700870   \n",
              "4      18124.509296  18597.936034  18127.132703  18603.414392        2.766243   \n",
              "...             ...           ...           ...           ...             ...   \n",
              "19217  17592.572752  16742.936603  17593.009233  16743.428821        0.319405   \n",
              "19218  18658.822580  18666.464880  18659.100383  18666.968994        0.276376   \n",
              "19219  17523.170058  16995.697610  17523.352636  16995.761662        0.093504   \n",
              "19220  16950.523810  17747.923087  16950.979337  17748.452311        0.264791   \n",
              "19221  18166.845099  19812.685038  18167.336911  19813.128832        0.248242   \n",
              "\n",
              "       minor_semia_px  pa_in_rad       width     height  \n",
              "0            4.593304   5.734349    9.245699   9.208748  \n",
              "1           35.798972   3.338082  174.411463  78.284586  \n",
              "2            2.916843   4.827354    5.873538   8.307933  \n",
              "3            0.220108   6.050027    1.367598   0.536972  \n",
              "4            1.253622   4.869573    2.623407   5.478358  \n",
              "...               ...        ...         ...        ...  \n",
              "19217        0.078610   0.853117    0.436482   0.492218  \n",
              "19218        0.080265   1.127797    0.277803   0.504113  \n",
              "19219        0.024824  -0.226387    0.182578   0.064053  \n",
              "19220        0.227555  -1.498732    0.455528   0.529224  \n",
              "19221        0.219280  -0.296287    0.491812   0.443793  \n",
              "\n",
              "[19222 rows x 9 columns]"
            ],
            "text/html": "<div>\n<style scoped>\n    .dataframe tbody tr th:only-of-type {\n        vertical-align: middle;\n    }\n\n    .dataframe tbody tr th {\n        vertical-align: top;\n    }\n\n    .dataframe thead th {\n        text-align: right;\n    }\n</style>\n<table border=\"1\" class=\"dataframe\">\n  <thead>\n    <tr style=\"text-align: right;\">\n      <th></th>\n      <th>x1</th>\n      <th>y1</th>\n      <th>x2</th>\n      <th>y2</th>\n      <th>major_semia_px</th>\n      <th>minor_semia_px</th>\n      <th>pa_in_rad</th>\n      <th>width</th>\n      <th>height</th>\n    </tr>\n  </thead>\n  <tbody>\n    <tr>\n      <th>0</th>\n      <td>19699.889820</td>\n      <td>17708.334874</td>\n      <td>19709.135520</td>\n      <td>17717.543623</td>\n      <td>4.633850</td>\n      <td>4.593304</td>\n      <td>5.734349</td>\n      <td>9.245699</td>\n      <td>9.208748</td>\n    </tr>\n    <tr>\n      <th>1</th>\n      <td>18314.128617</td>\n      <td>17121.775102</td>\n      <td>18488.540079</td>\n      <td>17200.059688</td>\n      <td>88.630651</td>\n      <td>35.798972</td>\n      <td>3.338082</td>\n      <td>174.411463</td>\n      <td>78.284586</td>\n    </tr>\n    <tr>\n      <th>2</th>\n      <td>16490.663037</td>\n      <td>18502.418816</td>\n      <td>16496.536575</td>\n      <td>18510.726749</td>\n      <td>4.167982</td>\n      <td>2.916843</td>\n      <td>4.827354</td>\n      <td>5.873538</td>\n      <td>8.307933</td>\n    </tr>\n    <tr>\n      <th>3</th>\n      <td>18019.631633</td>\n      <td>18181.823147</td>\n      <td>18020.999232</td>\n      <td>18182.360119</td>\n      <td>0.700870</td>\n      <td>0.220108</td>\n      <td>6.050027</td>\n      <td>1.367598</td>\n      <td>0.536972</td>\n    </tr>\n    <tr>\n      <th>4</th>\n      <td>18124.509296</td>\n      <td>18597.936034</td>\n      <td>18127.132703</td>\n      <td>18603.414392</td>\n      <td>2.766243</td>\n      <td>1.253622</td>\n      <td>4.869573</td>\n      <td>2.623407</td>\n      <td>5.478358</td>\n    </tr>\n    <tr>\n      <th>...</th>\n      <td>...</td>\n      <td>...</td>\n      <td>...</td>\n      <td>...</td>\n      <td>...</td>\n      <td>...</td>\n      <td>...</td>\n      <td>...</td>\n      <td>...</td>\n    </tr>\n    <tr>\n      <th>19217</th>\n      <td>17592.572752</td>\n      <td>16742.936603</td>\n      <td>17593.009233</td>\n      <td>16743.428821</td>\n      <td>0.319405</td>\n      <td>0.078610</td>\n      <td>0.853117</td>\n      <td>0.436482</td>\n      <td>0.492218</td>\n    </tr>\n    <tr>\n      <th>19218</th>\n      <td>18658.822580</td>\n      <td>18666.464880</td>\n      <td>18659.100383</td>\n      <td>18666.968994</td>\n      <td>0.276376</td>\n      <td>0.080265</td>\n      <td>1.127797</td>\n      <td>0.277803</td>\n      <td>0.504113</td>\n    </tr>\n    <tr>\n      <th>19219</th>\n      <td>17523.170058</td>\n      <td>16995.697610</td>\n      <td>17523.352636</td>\n      <td>16995.761662</td>\n      <td>0.093504</td>\n      <td>0.024824</td>\n      <td>-0.226387</td>\n      <td>0.182578</td>\n      <td>0.064053</td>\n    </tr>\n    <tr>\n      <th>19220</th>\n      <td>16950.523810</td>\n      <td>17747.923087</td>\n      <td>16950.979337</td>\n      <td>17748.452311</td>\n      <td>0.264791</td>\n      <td>0.227555</td>\n      <td>-1.498732</td>\n      <td>0.455528</td>\n      <td>0.529224</td>\n    </tr>\n    <tr>\n      <th>19221</th>\n      <td>18166.845099</td>\n      <td>19812.685038</td>\n      <td>18167.336911</td>\n      <td>19813.128832</td>\n      <td>0.248242</td>\n      <td>0.219280</td>\n      <td>-0.296287</td>\n      <td>0.491812</td>\n      <td>0.443793</td>\n    </tr>\n  </tbody>\n</table>\n<p>19222 rows × 9 columns</p>\n</div>"
          },
          "metadata": {},
          "execution_count": 5
        }
      ]
    },
    {
      "cell_type": "code",
      "execution_count": 117,
      "metadata": {},
      "outputs": [
        {
          "output_type": "execute_result",
          "data": {
            "text/plain": [
              "         ID  RA (core)  DEC (core)  RA (centroid)  DEC (centroid)      FLUX  \\\n",
              "0  24121695  -0.642227  -29.775242      -0.642316      -29.775211  0.000035   \n",
              "1  20167150  -0.390473  -29.867493      -0.390667      -29.868851  0.029555   \n",
              "2  20045120  -0.021411  -29.643486      -0.021359      -29.643561  0.000653   \n",
              "3  33938384  -0.316375  -29.697647      -0.316375      -29.697647  0.000017   \n",
              "4   7527248  -0.336528  -29.627335      -0.336527      -29.627338  0.000054   \n",
              "\n",
              "   Core frac     BMAJ    BMIN       PA  ...          y            x1  \\\n",
              "0   0.000000    5.600   5.551  328.554  ...  17712.942  19699.889820   \n",
              "1   0.016924  107.110  43.263  191.258  ...  17160.919  18314.128617   \n",
              "2   0.012185    5.037   3.525  276.587  ...  18506.577  16490.663037   \n",
              "3   0.000000    0.847   0.266  346.641  ...  18182.095  18019.631633   \n",
              "4   0.044763    3.343   1.515  279.006  ...  18600.680  18124.509296   \n",
              "\n",
              "             y1            x2            y2  major_semia_px  minor_semia_px  \\\n",
              "0  17708.334874  19709.135520  17717.543623        4.633850        4.593304   \n",
              "1  17121.775102  18488.540079  17200.059688       88.630651       35.798972   \n",
              "2  18502.418816  16496.536575  18510.726749        4.167982        2.916843   \n",
              "3  18181.823147  18020.999232  18182.360119        0.700870        0.220108   \n",
              "4  18597.936034  18127.132703  18603.414392        2.766243        1.253622   \n",
              "\n",
              "   pa_in_rad       width     height  \n",
              "0   5.734349    9.245699   9.208748  \n",
              "1   3.338082  174.411463  78.284586  \n",
              "2   4.827354    5.873538   8.307933  \n",
              "3   6.050027    1.367598   0.536972  \n",
              "4   4.869573    2.623407   5.478358  \n",
              "\n",
              "[5 rows x 24 columns]"
            ],
            "text/html": "<div>\n<style scoped>\n    .dataframe tbody tr th:only-of-type {\n        vertical-align: middle;\n    }\n\n    .dataframe tbody tr th {\n        vertical-align: top;\n    }\n\n    .dataframe thead th {\n        text-align: right;\n    }\n</style>\n<table border=\"1\" class=\"dataframe\">\n  <thead>\n    <tr style=\"text-align: right;\">\n      <th></th>\n      <th>ID</th>\n      <th>RA (core)</th>\n      <th>DEC (core)</th>\n      <th>RA (centroid)</th>\n      <th>DEC (centroid)</th>\n      <th>FLUX</th>\n      <th>Core frac</th>\n      <th>BMAJ</th>\n      <th>BMIN</th>\n      <th>PA</th>\n      <th>...</th>\n      <th>y</th>\n      <th>x1</th>\n      <th>y1</th>\n      <th>x2</th>\n      <th>y2</th>\n      <th>major_semia_px</th>\n      <th>minor_semia_px</th>\n      <th>pa_in_rad</th>\n      <th>width</th>\n      <th>height</th>\n    </tr>\n  </thead>\n  <tbody>\n    <tr>\n      <th>0</th>\n      <td>24121695</td>\n      <td>-0.642227</td>\n      <td>-29.775242</td>\n      <td>-0.642316</td>\n      <td>-29.775211</td>\n      <td>0.000035</td>\n      <td>0.000000</td>\n      <td>5.600</td>\n      <td>5.551</td>\n      <td>328.554</td>\n      <td>...</td>\n      <td>17712.942</td>\n      <td>19699.889820</td>\n      <td>17708.334874</td>\n      <td>19709.135520</td>\n      <td>17717.543623</td>\n      <td>4.633850</td>\n      <td>4.593304</td>\n      <td>5.734349</td>\n      <td>9.245699</td>\n      <td>9.208748</td>\n    </tr>\n    <tr>\n      <th>1</th>\n      <td>20167150</td>\n      <td>-0.390473</td>\n      <td>-29.867493</td>\n      <td>-0.390667</td>\n      <td>-29.868851</td>\n      <td>0.029555</td>\n      <td>0.016924</td>\n      <td>107.110</td>\n      <td>43.263</td>\n      <td>191.258</td>\n      <td>...</td>\n      <td>17160.919</td>\n      <td>18314.128617</td>\n      <td>17121.775102</td>\n      <td>18488.540079</td>\n      <td>17200.059688</td>\n      <td>88.630651</td>\n      <td>35.798972</td>\n      <td>3.338082</td>\n      <td>174.411463</td>\n      <td>78.284586</td>\n    </tr>\n    <tr>\n      <th>2</th>\n      <td>20045120</td>\n      <td>-0.021411</td>\n      <td>-29.643486</td>\n      <td>-0.021359</td>\n      <td>-29.643561</td>\n      <td>0.000653</td>\n      <td>0.012185</td>\n      <td>5.037</td>\n      <td>3.525</td>\n      <td>276.587</td>\n      <td>...</td>\n      <td>18506.577</td>\n      <td>16490.663037</td>\n      <td>18502.418816</td>\n      <td>16496.536575</td>\n      <td>18510.726749</td>\n      <td>4.167982</td>\n      <td>2.916843</td>\n      <td>4.827354</td>\n      <td>5.873538</td>\n      <td>8.307933</td>\n    </tr>\n    <tr>\n      <th>3</th>\n      <td>33938384</td>\n      <td>-0.316375</td>\n      <td>-29.697647</td>\n      <td>-0.316375</td>\n      <td>-29.697647</td>\n      <td>0.000017</td>\n      <td>0.000000</td>\n      <td>0.847</td>\n      <td>0.266</td>\n      <td>346.641</td>\n      <td>...</td>\n      <td>18182.095</td>\n      <td>18019.631633</td>\n      <td>18181.823147</td>\n      <td>18020.999232</td>\n      <td>18182.360119</td>\n      <td>0.700870</td>\n      <td>0.220108</td>\n      <td>6.050027</td>\n      <td>1.367598</td>\n      <td>0.536972</td>\n    </tr>\n    <tr>\n      <th>4</th>\n      <td>7527248</td>\n      <td>-0.336528</td>\n      <td>-29.627335</td>\n      <td>-0.336527</td>\n      <td>-29.627338</td>\n      <td>0.000054</td>\n      <td>0.044763</td>\n      <td>3.343</td>\n      <td>1.515</td>\n      <td>279.006</td>\n      <td>...</td>\n      <td>18600.680</td>\n      <td>18124.509296</td>\n      <td>18597.936034</td>\n      <td>18127.132703</td>\n      <td>18603.414392</td>\n      <td>2.766243</td>\n      <td>1.253622</td>\n      <td>4.869573</td>\n      <td>2.623407</td>\n      <td>5.478358</td>\n    </tr>\n  </tbody>\n</table>\n<p>5 rows × 24 columns</p>\n</div>"
          },
          "metadata": {},
          "execution_count": 117
        }
      ],
      "source": [
        "df_train = ska_dataset._extend_dataframe(ska_dataset.raw_train_df, coords)\n",
        "df_train.head()"
      ]
    },
    {
      "cell_type": "code",
      "execution_count": 118,
      "metadata": {},
      "outputs": [
        {
          "output_type": "execute_result",
          "data": {
            "text/plain": [
              "(3187, 3491)"
            ]
          },
          "metadata": {},
          "execution_count": 118
        }
      ],
      "source": [
        "x1_min = int(np.floor(min(df_train['x1'])))\n",
        "y1_min = int(np.floor(min(df_train['y1'])))\n",
        "\n",
        "x2_max = int(np.floor(max(df_train['x2'])))\n",
        "y2_max = int(np.floor(max(df_train['y2'])))\n",
        "\n",
        "data_560Mhz_1000h_train = data_560Mhz_1000h[y1_min:y2_max, x1_min:x2_max]\n",
        "data_560Mhz_1000h_train.shape\n"
      ]
    },
    {
      "cell_type": "code",
      "execution_count": 127,
      "metadata": {},
      "outputs": [
        {
          "output_type": "execute_result",
          "data": {
            "text/plain": [
              "(array([1.704e+03, 4.870e+02, 2.400e+02, 1.060e+02, 2.700e+01, 2.100e+01,\n",
              "        1.500e+01, 8.000e+00, 6.000e+00, 2.000e+00, 5.000e+00, 5.000e+00,\n",
              "        3.000e+00, 3.000e+00, 3.000e+00, 1.000e+00, 0.000e+00, 0.000e+00,\n",
              "        1.000e+00, 1.000e+00, 0.000e+00, 1.000e+00, 2.000e+00, 3.000e+00,\n",
              "        2.000e+00, 0.000e+00, 2.000e+00, 1.000e+00, 0.000e+00, 0.000e+00,\n",
              "        0.000e+00, 0.000e+00, 0.000e+00, 0.000e+00, 0.000e+00, 0.000e+00,\n",
              "        0.000e+00, 0.000e+00, 0.000e+00, 0.000e+00]),\n",
              " array([1.0000e-04, 2.4750e-04, 3.9500e-04, 5.4250e-04, 6.9000e-04,\n",
              "        8.3750e-04, 9.8500e-04, 1.1325e-03, 1.2800e-03, 1.4275e-03,\n",
              "        1.5750e-03, 1.7225e-03, 1.8700e-03, 2.0175e-03, 2.1650e-03,\n",
              "        2.3125e-03, 2.4600e-03, 2.6075e-03, 2.7550e-03, 2.9025e-03,\n",
              "        3.0500e-03, 3.1975e-03, 3.3450e-03, 3.4925e-03, 3.6400e-03,\n",
              "        3.7875e-03, 3.9350e-03, 4.0825e-03, 4.2300e-03, 4.3775e-03,\n",
              "        4.5250e-03, 4.6725e-03, 4.8200e-03, 4.9675e-03, 5.1150e-03,\n",
              "        5.2625e-03, 5.4100e-03, 5.5575e-03, 5.7050e-03, 5.8525e-03,\n",
              "        6.0000e-03], dtype=float32),\n",
              " <BarContainer object of 40 artists>)"
            ]
          },
          "metadata": {},
          "execution_count": 127
        },
        {
          "output_type": "display_data",
          "data": {
            "text/plain": "<Figure size 432x288 with 1 Axes>",
            "image/svg+xml": "<?xml version=\"1.0\" encoding=\"utf-8\" standalone=\"no\"?>\n<!DOCTYPE svg PUBLIC \"-//W3C//DTD SVG 1.1//EN\"\n  \"http://www.w3.org/Graphics/SVG/1.1/DTD/svg11.dtd\">\n<!-- Created with matplotlib (https://matplotlib.org/) -->\n<svg height=\"248.518125pt\" version=\"1.1\" viewBox=\"0 0 381.65 248.518125\" width=\"381.65pt\" xmlns=\"http://www.w3.org/2000/svg\" xmlns:xlink=\"http://www.w3.org/1999/xlink\">\n <metadata>\n  <rdf:RDF xmlns:cc=\"http://creativecommons.org/ns#\" xmlns:dc=\"http://purl.org/dc/elements/1.1/\" xmlns:rdf=\"http://www.w3.org/1999/02/22-rdf-syntax-ns#\">\n   <cc:Work>\n    <dc:type rdf:resource=\"http://purl.org/dc/dcmitype/StillImage\"/>\n    <dc:date>2021-05-16T10:18:58.690946</dc:date>\n    <dc:format>image/svg+xml</dc:format>\n    <dc:creator>\n     <cc:Agent>\n      <dc:title>Matplotlib v3.3.4, https://matplotlib.org/</dc:title>\n     </cc:Agent>\n    </dc:creator>\n   </cc:Work>\n  </rdf:RDF>\n </metadata>\n <defs>\n  <style type=\"text/css\">*{stroke-linecap:butt;stroke-linejoin:round;}</style>\n </defs>\n <g id=\"figure_1\">\n  <g id=\"patch_1\">\n   <path d=\"M -0 248.518125 \nL 381.65 248.518125 \nL 381.65 0 \nL -0 0 \nz\n\" style=\"fill:none;\"/>\n  </g>\n  <g id=\"axes_1\">\n   <g id=\"patch_2\">\n    <path d=\"M 39.65 224.64 \nL 374.45 224.64 \nL 374.45 7.2 \nL 39.65 7.2 \nz\n\" style=\"fill:#ffffff;\"/>\n   </g>\n   <g id=\"patch_3\">\n    <path clip-path=\"url(#pdda9c2197c)\" d=\"M 54.868182 224.64 \nL 62.477271 224.64 \nL 62.477271 17.554286 \nL 54.868182 17.554286 \nz\n\" style=\"fill:#1f77b4;\"/>\n   </g>\n   <g id=\"patch_4\">\n    <path clip-path=\"url(#pdda9c2197c)\" d=\"M 62.477273 224.64 \nL 70.086364 224.64 \nL 70.086364 165.455292 \nL 62.477273 165.455292 \nz\n\" style=\"fill:#1f77b4;\"/>\n   </g>\n   <g id=\"patch_5\">\n    <path clip-path=\"url(#pdda9c2197c)\" d=\"M 70.086366 224.64 \nL 77.695458 224.64 \nL 77.695458 195.472998 \nL 70.086366 195.472998 \nz\n\" style=\"fill:#1f77b4;\"/>\n   </g>\n   <g id=\"patch_6\">\n    <path clip-path=\"url(#pdda9c2197c)\" d=\"M 77.695452 224.64 \nL 85.304543 224.64 \nL 85.304543 211.757907 \nL 77.695452 211.757907 \nz\n\" style=\"fill:#1f77b4;\"/>\n   </g>\n   <g id=\"patch_7\">\n    <path clip-path=\"url(#pdda9c2197c)\" d=\"M 85.304546 224.64 \nL 92.913635 224.64 \nL 92.913635 221.358712 \nL 85.304546 221.358712 \nz\n\" style=\"fill:#1f77b4;\"/>\n   </g>\n   <g id=\"patch_8\">\n    <path clip-path=\"url(#pdda9c2197c)\" d=\"M 92.913635 224.64 \nL 100.52273 224.64 \nL 100.52273 222.087887 \nL 92.913635 222.087887 \nz\n\" style=\"fill:#1f77b4;\"/>\n   </g>\n   <g id=\"patch_9\">\n    <path clip-path=\"url(#pdda9c2197c)\" d=\"M 100.52273 224.64 \nL 108.131819 224.64 \nL 108.131819 222.817062 \nL 100.52273 222.817062 \nz\n\" style=\"fill:#1f77b4;\"/>\n   </g>\n   <g id=\"patch_10\">\n    <path clip-path=\"url(#pdda9c2197c)\" d=\"M 108.131813 224.64 \nL 115.740901 224.64 \nL 115.740901 223.667767 \nL 108.131813 223.667767 \nz\n\" style=\"fill:#1f77b4;\"/>\n   </g>\n   <g id=\"patch_11\">\n    <path clip-path=\"url(#pdda9c2197c)\" d=\"M 115.740907 224.64 \nL 123.350002 224.64 \nL 123.350002 223.910825 \nL 115.740907 223.910825 \nz\n\" style=\"fill:#1f77b4;\"/>\n   </g>\n   <g id=\"patch_12\">\n    <path clip-path=\"url(#pdda9c2197c)\" d=\"M 123.350002 224.64 \nL 130.959091 224.64 \nL 130.959091 224.396942 \nL 123.350002 224.396942 \nz\n\" style=\"fill:#1f77b4;\"/>\n   </g>\n   <g id=\"patch_13\">\n    <path clip-path=\"url(#pdda9c2197c)\" d=\"M 130.959085 224.64 \nL 138.568173 224.64 \nL 138.568173 224.032354 \nL 130.959085 224.032354 \nz\n\" style=\"fill:#1f77b4;\"/>\n   </g>\n   <g id=\"patch_14\">\n    <path clip-path=\"url(#pdda9c2197c)\" d=\"M 138.568179 224.64 \nL 146.177274 224.64 \nL 146.177274 224.032354 \nL 138.568179 224.032354 \nz\n\" style=\"fill:#1f77b4;\"/>\n   </g>\n   <g id=\"patch_15\">\n    <path clip-path=\"url(#pdda9c2197c)\" d=\"M 146.177274 224.64 \nL 153.786369 224.64 \nL 153.786369 224.275412 \nL 146.177274 224.275412 \nz\n\" style=\"fill:#1f77b4;\"/>\n   </g>\n   <g id=\"patch_16\">\n    <path clip-path=\"url(#pdda9c2197c)\" d=\"M 153.786357 224.64 \nL 161.39544 224.64 \nL 161.39544 224.275412 \nL 153.786357 224.275412 \nz\n\" style=\"fill:#1f77b4;\"/>\n   </g>\n   <g id=\"patch_17\">\n    <path clip-path=\"url(#pdda9c2197c)\" d=\"M 161.395452 224.64 \nL 169.004546 224.64 \nL 169.004546 224.275412 \nL 161.395452 224.275412 \nz\n\" style=\"fill:#1f77b4;\"/>\n   </g>\n   <g id=\"patch_18\">\n    <path clip-path=\"url(#pdda9c2197c)\" d=\"M 169.004546 224.64 \nL 176.613641 224.64 \nL 176.613641 224.518471 \nL 169.004546 224.518471 \nz\n\" style=\"fill:#1f77b4;\"/>\n   </g>\n   <g id=\"patch_19\">\n    <path clip-path=\"url(#pdda9c2197c)\" d=\"M 176.613641 224.64 \nL 184.222724 224.64 \nL 184.222724 224.64 \nL 176.613641 224.64 \nz\n\" style=\"fill:#1f77b4;\"/>\n   </g>\n   <g id=\"patch_20\">\n    <path clip-path=\"url(#pdda9c2197c)\" d=\"M 184.222724 224.64 \nL 191.831818 224.64 \nL 191.831818 224.64 \nL 184.222724 224.64 \nz\n\" style=\"fill:#1f77b4;\"/>\n   </g>\n   <g id=\"patch_21\">\n    <path clip-path=\"url(#pdda9c2197c)\" d=\"M 191.831818 224.64 \nL 199.440913 224.64 \nL 199.440913 224.518471 \nL 191.831818 224.518471 \nz\n\" style=\"fill:#1f77b4;\"/>\n   </g>\n   <g id=\"patch_22\">\n    <path clip-path=\"url(#pdda9c2197c)\" d=\"M 199.440901 224.64 \nL 207.049984 224.64 \nL 207.049984 224.518471 \nL 199.440901 224.518471 \nz\n\" style=\"fill:#1f77b4;\"/>\n   </g>\n   <g id=\"patch_23\">\n    <path clip-path=\"url(#pdda9c2197c)\" d=\"M 207.049996 224.64 \nL 214.659091 224.64 \nL 214.659091 224.64 \nL 207.049996 224.64 \nz\n\" style=\"fill:#1f77b4;\"/>\n   </g>\n   <g id=\"patch_24\">\n    <path clip-path=\"url(#pdda9c2197c)\" d=\"M 214.659091 224.64 \nL 222.268185 224.64 \nL 222.268185 224.518471 \nL 214.659091 224.518471 \nz\n\" style=\"fill:#1f77b4;\"/>\n   </g>\n   <g id=\"patch_25\">\n    <path clip-path=\"url(#pdda9c2197c)\" d=\"M 222.268185 224.64 \nL 229.877268 224.64 \nL 229.877268 224.396942 \nL 222.268185 224.396942 \nz\n\" style=\"fill:#1f77b4;\"/>\n   </g>\n   <g id=\"patch_26\">\n    <path clip-path=\"url(#pdda9c2197c)\" d=\"M 229.877268 224.64 \nL 237.486363 224.64 \nL 237.486363 224.275412 \nL 229.877268 224.275412 \nz\n\" style=\"fill:#1f77b4;\"/>\n   </g>\n   <g id=\"patch_27\">\n    <path clip-path=\"url(#pdda9c2197c)\" d=\"M 237.486363 224.64 \nL 245.095457 224.64 \nL 245.095457 224.396942 \nL 237.486363 224.396942 \nz\n\" style=\"fill:#1f77b4;\"/>\n   </g>\n   <g id=\"patch_28\">\n    <path clip-path=\"url(#pdda9c2197c)\" d=\"M 245.095445 224.64 \nL 252.70454 224.64 \nL 252.70454 224.64 \nL 245.095445 224.64 \nz\n\" style=\"fill:#1f77b4;\"/>\n   </g>\n   <g id=\"patch_29\">\n    <path clip-path=\"url(#pdda9c2197c)\" d=\"M 252.70454 224.64 \nL 260.313635 224.64 \nL 260.313635 224.396942 \nL 252.70454 224.396942 \nz\n\" style=\"fill:#1f77b4;\"/>\n   </g>\n   <g id=\"patch_30\">\n    <path clip-path=\"url(#pdda9c2197c)\" d=\"M 260.313635 224.64 \nL 267.92273 224.64 \nL 267.92273 224.518471 \nL 260.313635 224.518471 \nz\n\" style=\"fill:#1f77b4;\"/>\n   </g>\n   <g id=\"patch_31\">\n    <path clip-path=\"url(#pdda9c2197c)\" d=\"M 267.92273 224.64 \nL 275.531824 224.64 \nL 275.531824 224.64 \nL 267.92273 224.64 \nz\n\" style=\"fill:#1f77b4;\"/>\n   </g>\n   <g id=\"patch_32\">\n    <path clip-path=\"url(#pdda9c2197c)\" d=\"M 275.531824 224.64 \nL 283.140919 224.64 \nL 283.140919 224.64 \nL 275.531824 224.64 \nz\n\" style=\"fill:#1f77b4;\"/>\n   </g>\n   <g id=\"patch_33\">\n    <path clip-path=\"url(#pdda9c2197c)\" d=\"M 283.140919 224.64 \nL 290.74999 224.64 \nL 290.74999 224.64 \nL 283.140919 224.64 \nz\n\" style=\"fill:#1f77b4;\"/>\n   </g>\n   <g id=\"patch_34\">\n    <path clip-path=\"url(#pdda9c2197c)\" d=\"M 290.74999 224.64 \nL 298.359084 224.64 \nL 298.359084 224.64 \nL 290.74999 224.64 \nz\n\" style=\"fill:#1f77b4;\"/>\n   </g>\n   <g id=\"patch_35\">\n    <path clip-path=\"url(#pdda9c2197c)\" d=\"M 298.359084 224.64 \nL 305.968179 224.64 \nL 305.968179 224.64 \nL 298.359084 224.64 \nz\n\" style=\"fill:#1f77b4;\"/>\n   </g>\n   <g id=\"patch_36\">\n    <path clip-path=\"url(#pdda9c2197c)\" d=\"M 305.968179 224.64 \nL 313.577274 224.64 \nL 313.577274 224.64 \nL 305.968179 224.64 \nz\n\" style=\"fill:#1f77b4;\"/>\n   </g>\n   <g id=\"patch_37\">\n    <path clip-path=\"url(#pdda9c2197c)\" d=\"M 313.577274 224.64 \nL 321.186369 224.64 \nL 321.186369 224.64 \nL 313.577274 224.64 \nz\n\" style=\"fill:#1f77b4;\"/>\n   </g>\n   <g id=\"patch_38\">\n    <path clip-path=\"url(#pdda9c2197c)\" d=\"M 321.186369 224.64 \nL 328.795463 224.64 \nL 328.795463 224.64 \nL 321.186369 224.64 \nz\n\" style=\"fill:#1f77b4;\"/>\n   </g>\n   <g id=\"patch_39\">\n    <path clip-path=\"url(#pdda9c2197c)\" d=\"M 328.795487 224.64 \nL 336.404558 224.64 \nL 336.404558 224.64 \nL 328.795487 224.64 \nz\n\" style=\"fill:#1f77b4;\"/>\n   </g>\n   <g id=\"patch_40\">\n    <path clip-path=\"url(#pdda9c2197c)\" d=\"M 336.404534 224.64 \nL 344.013629 224.64 \nL 344.013629 224.64 \nL 336.404534 224.64 \nz\n\" style=\"fill:#1f77b4;\"/>\n   </g>\n   <g id=\"patch_41\">\n    <path clip-path=\"url(#pdda9c2197c)\" d=\"M 344.013629 224.64 \nL 351.622723 224.64 \nL 351.622723 224.64 \nL 344.013629 224.64 \nz\n\" style=\"fill:#1f77b4;\"/>\n   </g>\n   <g id=\"patch_42\">\n    <path clip-path=\"url(#pdda9c2197c)\" d=\"M 351.622723 224.64 \nL 359.231818 224.64 \nL 359.231818 224.64 \nL 351.622723 224.64 \nz\n\" style=\"fill:#1f77b4;\"/>\n   </g>\n   <g id=\"matplotlib.axis_1\">\n    <g id=\"xtick_1\">\n     <g id=\"line2d_1\">\n      <defs>\n       <path d=\"M 0 0 \nL 0 3.5 \n\" id=\"m570b874ac1\" style=\"stroke:#000000;stroke-width:0.8;\"/>\n      </defs>\n      <g>\n       <use style=\"stroke:#000000;stroke-width:0.8;\" x=\"49.709477\" xlink:href=\"#m570b874ac1\" y=\"224.64\"/>\n      </g>\n     </g>\n     <g id=\"text_1\">\n      <!-- 0.000 -->\n      <g transform=\"translate(35.395414 239.238437)scale(0.1 -0.1)\">\n       <defs>\n        <path d=\"M 31.78125 66.40625 \nQ 24.171875 66.40625 20.328125 58.90625 \nQ 16.5 51.421875 16.5 36.375 \nQ 16.5 21.390625 20.328125 13.890625 \nQ 24.171875 6.390625 31.78125 6.390625 \nQ 39.453125 6.390625 43.28125 13.890625 \nQ 47.125 21.390625 47.125 36.375 \nQ 47.125 51.421875 43.28125 58.90625 \nQ 39.453125 66.40625 31.78125 66.40625 \nz\nM 31.78125 74.21875 \nQ 44.046875 74.21875 50.515625 64.515625 \nQ 56.984375 54.828125 56.984375 36.375 \nQ 56.984375 17.96875 50.515625 8.265625 \nQ 44.046875 -1.421875 31.78125 -1.421875 \nQ 19.53125 -1.421875 13.0625 8.265625 \nQ 6.59375 17.96875 6.59375 36.375 \nQ 6.59375 54.828125 13.0625 64.515625 \nQ 19.53125 74.21875 31.78125 74.21875 \nz\n\" id=\"DejaVuSans-48\"/>\n        <path d=\"M 10.6875 12.40625 \nL 21 12.40625 \nL 21 0 \nL 10.6875 0 \nz\n\" id=\"DejaVuSans-46\"/>\n       </defs>\n       <use xlink:href=\"#DejaVuSans-48\"/>\n       <use x=\"63.623047\" xlink:href=\"#DejaVuSans-46\"/>\n       <use x=\"95.410156\" xlink:href=\"#DejaVuSans-48\"/>\n       <use x=\"159.033203\" xlink:href=\"#DejaVuSans-48\"/>\n       <use x=\"222.65625\" xlink:href=\"#DejaVuSans-48\"/>\n      </g>\n     </g>\n    </g>\n    <g id=\"xtick_2\">\n     <g id=\"line2d_2\">\n      <g>\n       <use style=\"stroke:#000000;stroke-width:0.8;\" x=\"101.296533\" xlink:href=\"#m570b874ac1\" y=\"224.64\"/>\n      </g>\n     </g>\n     <g id=\"text_2\">\n      <!-- 0.001 -->\n      <g transform=\"translate(86.982471 239.238437)scale(0.1 -0.1)\">\n       <defs>\n        <path d=\"M 12.40625 8.296875 \nL 28.515625 8.296875 \nL 28.515625 63.921875 \nL 10.984375 60.40625 \nL 10.984375 69.390625 \nL 28.421875 72.90625 \nL 38.28125 72.90625 \nL 38.28125 8.296875 \nL 54.390625 8.296875 \nL 54.390625 0 \nL 12.40625 0 \nz\n\" id=\"DejaVuSans-49\"/>\n       </defs>\n       <use xlink:href=\"#DejaVuSans-48\"/>\n       <use x=\"63.623047\" xlink:href=\"#DejaVuSans-46\"/>\n       <use x=\"95.410156\" xlink:href=\"#DejaVuSans-48\"/>\n       <use x=\"159.033203\" xlink:href=\"#DejaVuSans-48\"/>\n       <use x=\"222.65625\" xlink:href=\"#DejaVuSans-49\"/>\n      </g>\n     </g>\n    </g>\n    <g id=\"xtick_3\">\n     <g id=\"line2d_3\">\n      <g>\n       <use style=\"stroke:#000000;stroke-width:0.8;\" x=\"152.88359\" xlink:href=\"#m570b874ac1\" y=\"224.64\"/>\n      </g>\n     </g>\n     <g id=\"text_3\">\n      <!-- 0.002 -->\n      <g transform=\"translate(138.569527 239.238437)scale(0.1 -0.1)\">\n       <defs>\n        <path d=\"M 19.1875 8.296875 \nL 53.609375 8.296875 \nL 53.609375 0 \nL 7.328125 0 \nL 7.328125 8.296875 \nQ 12.9375 14.109375 22.625 23.890625 \nQ 32.328125 33.6875 34.8125 36.53125 \nQ 39.546875 41.84375 41.421875 45.53125 \nQ 43.3125 49.21875 43.3125 52.78125 \nQ 43.3125 58.59375 39.234375 62.25 \nQ 35.15625 65.921875 28.609375 65.921875 \nQ 23.96875 65.921875 18.8125 64.3125 \nQ 13.671875 62.703125 7.8125 59.421875 \nL 7.8125 69.390625 \nQ 13.765625 71.78125 18.9375 73 \nQ 24.125 74.21875 28.421875 74.21875 \nQ 39.75 74.21875 46.484375 68.546875 \nQ 53.21875 62.890625 53.21875 53.421875 \nQ 53.21875 48.921875 51.53125 44.890625 \nQ 49.859375 40.875 45.40625 35.40625 \nQ 44.1875 33.984375 37.640625 27.21875 \nQ 31.109375 20.453125 19.1875 8.296875 \nz\n\" id=\"DejaVuSans-50\"/>\n       </defs>\n       <use xlink:href=\"#DejaVuSans-48\"/>\n       <use x=\"63.623047\" xlink:href=\"#DejaVuSans-46\"/>\n       <use x=\"95.410156\" xlink:href=\"#DejaVuSans-48\"/>\n       <use x=\"159.033203\" xlink:href=\"#DejaVuSans-48\"/>\n       <use x=\"222.65625\" xlink:href=\"#DejaVuSans-50\"/>\n      </g>\n     </g>\n    </g>\n    <g id=\"xtick_4\">\n     <g id=\"line2d_4\">\n      <g>\n       <use style=\"stroke:#000000;stroke-width:0.8;\" x=\"204.470646\" xlink:href=\"#m570b874ac1\" y=\"224.64\"/>\n      </g>\n     </g>\n     <g id=\"text_4\">\n      <!-- 0.003 -->\n      <g transform=\"translate(190.156584 239.238437)scale(0.1 -0.1)\">\n       <defs>\n        <path d=\"M 40.578125 39.3125 \nQ 47.65625 37.796875 51.625 33 \nQ 55.609375 28.21875 55.609375 21.1875 \nQ 55.609375 10.40625 48.1875 4.484375 \nQ 40.765625 -1.421875 27.09375 -1.421875 \nQ 22.515625 -1.421875 17.65625 -0.515625 \nQ 12.796875 0.390625 7.625 2.203125 \nL 7.625 11.71875 \nQ 11.71875 9.328125 16.59375 8.109375 \nQ 21.484375 6.890625 26.8125 6.890625 \nQ 36.078125 6.890625 40.9375 10.546875 \nQ 45.796875 14.203125 45.796875 21.1875 \nQ 45.796875 27.640625 41.28125 31.265625 \nQ 36.765625 34.90625 28.71875 34.90625 \nL 20.21875 34.90625 \nL 20.21875 43.015625 \nL 29.109375 43.015625 \nQ 36.375 43.015625 40.234375 45.921875 \nQ 44.09375 48.828125 44.09375 54.296875 \nQ 44.09375 59.90625 40.109375 62.90625 \nQ 36.140625 65.921875 28.71875 65.921875 \nQ 24.65625 65.921875 20.015625 65.03125 \nQ 15.375 64.15625 9.8125 62.3125 \nL 9.8125 71.09375 \nQ 15.4375 72.65625 20.34375 73.4375 \nQ 25.25 74.21875 29.59375 74.21875 \nQ 40.828125 74.21875 47.359375 69.109375 \nQ 53.90625 64.015625 53.90625 55.328125 \nQ 53.90625 49.265625 50.4375 45.09375 \nQ 46.96875 40.921875 40.578125 39.3125 \nz\n\" id=\"DejaVuSans-51\"/>\n       </defs>\n       <use xlink:href=\"#DejaVuSans-48\"/>\n       <use x=\"63.623047\" xlink:href=\"#DejaVuSans-46\"/>\n       <use x=\"95.410156\" xlink:href=\"#DejaVuSans-48\"/>\n       <use x=\"159.033203\" xlink:href=\"#DejaVuSans-48\"/>\n       <use x=\"222.65625\" xlink:href=\"#DejaVuSans-51\"/>\n      </g>\n     </g>\n    </g>\n    <g id=\"xtick_5\">\n     <g id=\"line2d_5\">\n      <g>\n       <use style=\"stroke:#000000;stroke-width:0.8;\" x=\"256.057703\" xlink:href=\"#m570b874ac1\" y=\"224.64\"/>\n      </g>\n     </g>\n     <g id=\"text_5\">\n      <!-- 0.004 -->\n      <g transform=\"translate(241.74364 239.238437)scale(0.1 -0.1)\">\n       <defs>\n        <path d=\"M 37.796875 64.3125 \nL 12.890625 25.390625 \nL 37.796875 25.390625 \nz\nM 35.203125 72.90625 \nL 47.609375 72.90625 \nL 47.609375 25.390625 \nL 58.015625 25.390625 \nL 58.015625 17.1875 \nL 47.609375 17.1875 \nL 47.609375 0 \nL 37.796875 0 \nL 37.796875 17.1875 \nL 4.890625 17.1875 \nL 4.890625 26.703125 \nz\n\" id=\"DejaVuSans-52\"/>\n       </defs>\n       <use xlink:href=\"#DejaVuSans-48\"/>\n       <use x=\"63.623047\" xlink:href=\"#DejaVuSans-46\"/>\n       <use x=\"95.410156\" xlink:href=\"#DejaVuSans-48\"/>\n       <use x=\"159.033203\" xlink:href=\"#DejaVuSans-48\"/>\n       <use x=\"222.65625\" xlink:href=\"#DejaVuSans-52\"/>\n      </g>\n     </g>\n    </g>\n    <g id=\"xtick_6\">\n     <g id=\"line2d_6\">\n      <g>\n       <use style=\"stroke:#000000;stroke-width:0.8;\" x=\"307.644759\" xlink:href=\"#m570b874ac1\" y=\"224.64\"/>\n      </g>\n     </g>\n     <g id=\"text_6\">\n      <!-- 0.005 -->\n      <g transform=\"translate(293.330697 239.238437)scale(0.1 -0.1)\">\n       <defs>\n        <path d=\"M 10.796875 72.90625 \nL 49.515625 72.90625 \nL 49.515625 64.59375 \nL 19.828125 64.59375 \nL 19.828125 46.734375 \nQ 21.96875 47.46875 24.109375 47.828125 \nQ 26.265625 48.1875 28.421875 48.1875 \nQ 40.625 48.1875 47.75 41.5 \nQ 54.890625 34.8125 54.890625 23.390625 \nQ 54.890625 11.625 47.5625 5.09375 \nQ 40.234375 -1.421875 26.90625 -1.421875 \nQ 22.3125 -1.421875 17.546875 -0.640625 \nQ 12.796875 0.140625 7.71875 1.703125 \nL 7.71875 11.625 \nQ 12.109375 9.234375 16.796875 8.0625 \nQ 21.484375 6.890625 26.703125 6.890625 \nQ 35.15625 6.890625 40.078125 11.328125 \nQ 45.015625 15.765625 45.015625 23.390625 \nQ 45.015625 31 40.078125 35.4375 \nQ 35.15625 39.890625 26.703125 39.890625 \nQ 22.75 39.890625 18.8125 39.015625 \nQ 14.890625 38.140625 10.796875 36.28125 \nz\n\" id=\"DejaVuSans-53\"/>\n       </defs>\n       <use xlink:href=\"#DejaVuSans-48\"/>\n       <use x=\"63.623047\" xlink:href=\"#DejaVuSans-46\"/>\n       <use x=\"95.410156\" xlink:href=\"#DejaVuSans-48\"/>\n       <use x=\"159.033203\" xlink:href=\"#DejaVuSans-48\"/>\n       <use x=\"222.65625\" xlink:href=\"#DejaVuSans-53\"/>\n      </g>\n     </g>\n    </g>\n    <g id=\"xtick_7\">\n     <g id=\"line2d_7\">\n      <g>\n       <use style=\"stroke:#000000;stroke-width:0.8;\" x=\"359.231815\" xlink:href=\"#m570b874ac1\" y=\"224.64\"/>\n      </g>\n     </g>\n     <g id=\"text_7\">\n      <!-- 0.006 -->\n      <g transform=\"translate(344.917753 239.238437)scale(0.1 -0.1)\">\n       <defs>\n        <path d=\"M 33.015625 40.375 \nQ 26.375 40.375 22.484375 35.828125 \nQ 18.609375 31.296875 18.609375 23.390625 \nQ 18.609375 15.53125 22.484375 10.953125 \nQ 26.375 6.390625 33.015625 6.390625 \nQ 39.65625 6.390625 43.53125 10.953125 \nQ 47.40625 15.53125 47.40625 23.390625 \nQ 47.40625 31.296875 43.53125 35.828125 \nQ 39.65625 40.375 33.015625 40.375 \nz\nM 52.59375 71.296875 \nL 52.59375 62.3125 \nQ 48.875 64.0625 45.09375 64.984375 \nQ 41.3125 65.921875 37.59375 65.921875 \nQ 27.828125 65.921875 22.671875 59.328125 \nQ 17.53125 52.734375 16.796875 39.40625 \nQ 19.671875 43.65625 24.015625 45.921875 \nQ 28.375 48.1875 33.59375 48.1875 \nQ 44.578125 48.1875 50.953125 41.515625 \nQ 57.328125 34.859375 57.328125 23.390625 \nQ 57.328125 12.15625 50.6875 5.359375 \nQ 44.046875 -1.421875 33.015625 -1.421875 \nQ 20.359375 -1.421875 13.671875 8.265625 \nQ 6.984375 17.96875 6.984375 36.375 \nQ 6.984375 53.65625 15.1875 63.9375 \nQ 23.390625 74.21875 37.203125 74.21875 \nQ 40.921875 74.21875 44.703125 73.484375 \nQ 48.484375 72.75 52.59375 71.296875 \nz\n\" id=\"DejaVuSans-54\"/>\n       </defs>\n       <use xlink:href=\"#DejaVuSans-48\"/>\n       <use x=\"63.623047\" xlink:href=\"#DejaVuSans-46\"/>\n       <use x=\"95.410156\" xlink:href=\"#DejaVuSans-48\"/>\n       <use x=\"159.033203\" xlink:href=\"#DejaVuSans-48\"/>\n       <use x=\"222.65625\" xlink:href=\"#DejaVuSans-54\"/>\n      </g>\n     </g>\n    </g>\n   </g>\n   <g id=\"matplotlib.axis_2\">\n    <g id=\"ytick_1\">\n     <g id=\"line2d_8\">\n      <defs>\n       <path d=\"M 0 0 \nL -3.5 0 \n\" id=\"m16a65f5d1e\" style=\"stroke:#000000;stroke-width:0.8;\"/>\n      </defs>\n      <g>\n       <use style=\"stroke:#000000;stroke-width:0.8;\" x=\"39.65\" xlink:href=\"#m16a65f5d1e\" y=\"224.64\"/>\n      </g>\n     </g>\n     <g id=\"text_8\">\n      <!-- 0 -->\n      <g transform=\"translate(26.2875 228.439219)scale(0.1 -0.1)\">\n       <use xlink:href=\"#DejaVuSans-48\"/>\n      </g>\n     </g>\n    </g>\n    <g id=\"ytick_2\">\n     <g id=\"line2d_9\">\n      <g>\n       <use style=\"stroke:#000000;stroke-width:0.8;\" x=\"39.65\" xlink:href=\"#m16a65f5d1e\" y=\"200.334165\"/>\n      </g>\n     </g>\n     <g id=\"text_9\">\n      <!-- 200 -->\n      <g transform=\"translate(13.5625 204.133384)scale(0.1 -0.1)\">\n       <use xlink:href=\"#DejaVuSans-50\"/>\n       <use x=\"63.623047\" xlink:href=\"#DejaVuSans-48\"/>\n       <use x=\"127.246094\" xlink:href=\"#DejaVuSans-48\"/>\n      </g>\n     </g>\n    </g>\n    <g id=\"ytick_3\">\n     <g id=\"line2d_10\">\n      <g>\n       <use style=\"stroke:#000000;stroke-width:0.8;\" x=\"39.65\" xlink:href=\"#m16a65f5d1e\" y=\"176.02833\"/>\n      </g>\n     </g>\n     <g id=\"text_10\">\n      <!-- 400 -->\n      <g transform=\"translate(13.5625 179.827549)scale(0.1 -0.1)\">\n       <use xlink:href=\"#DejaVuSans-52\"/>\n       <use x=\"63.623047\" xlink:href=\"#DejaVuSans-48\"/>\n       <use x=\"127.246094\" xlink:href=\"#DejaVuSans-48\"/>\n      </g>\n     </g>\n    </g>\n    <g id=\"ytick_4\">\n     <g id=\"line2d_11\">\n      <g>\n       <use style=\"stroke:#000000;stroke-width:0.8;\" x=\"39.65\" xlink:href=\"#m16a65f5d1e\" y=\"151.722495\"/>\n      </g>\n     </g>\n     <g id=\"text_11\">\n      <!-- 600 -->\n      <g transform=\"translate(13.5625 155.521714)scale(0.1 -0.1)\">\n       <use xlink:href=\"#DejaVuSans-54\"/>\n       <use x=\"63.623047\" xlink:href=\"#DejaVuSans-48\"/>\n       <use x=\"127.246094\" xlink:href=\"#DejaVuSans-48\"/>\n      </g>\n     </g>\n    </g>\n    <g id=\"ytick_5\">\n     <g id=\"line2d_12\">\n      <g>\n       <use style=\"stroke:#000000;stroke-width:0.8;\" x=\"39.65\" xlink:href=\"#m16a65f5d1e\" y=\"127.41666\"/>\n      </g>\n     </g>\n     <g id=\"text_12\">\n      <!-- 800 -->\n      <g transform=\"translate(13.5625 131.215879)scale(0.1 -0.1)\">\n       <defs>\n        <path d=\"M 31.78125 34.625 \nQ 24.75 34.625 20.71875 30.859375 \nQ 16.703125 27.09375 16.703125 20.515625 \nQ 16.703125 13.921875 20.71875 10.15625 \nQ 24.75 6.390625 31.78125 6.390625 \nQ 38.8125 6.390625 42.859375 10.171875 \nQ 46.921875 13.96875 46.921875 20.515625 \nQ 46.921875 27.09375 42.890625 30.859375 \nQ 38.875 34.625 31.78125 34.625 \nz\nM 21.921875 38.8125 \nQ 15.578125 40.375 12.03125 44.71875 \nQ 8.5 49.078125 8.5 55.328125 \nQ 8.5 64.0625 14.71875 69.140625 \nQ 20.953125 74.21875 31.78125 74.21875 \nQ 42.671875 74.21875 48.875 69.140625 \nQ 55.078125 64.0625 55.078125 55.328125 \nQ 55.078125 49.078125 51.53125 44.71875 \nQ 48 40.375 41.703125 38.8125 \nQ 48.828125 37.15625 52.796875 32.3125 \nQ 56.78125 27.484375 56.78125 20.515625 \nQ 56.78125 9.90625 50.3125 4.234375 \nQ 43.84375 -1.421875 31.78125 -1.421875 \nQ 19.734375 -1.421875 13.25 4.234375 \nQ 6.78125 9.90625 6.78125 20.515625 \nQ 6.78125 27.484375 10.78125 32.3125 \nQ 14.796875 37.15625 21.921875 38.8125 \nz\nM 18.3125 54.390625 \nQ 18.3125 48.734375 21.84375 45.5625 \nQ 25.390625 42.390625 31.78125 42.390625 \nQ 38.140625 42.390625 41.71875 45.5625 \nQ 45.3125 48.734375 45.3125 54.390625 \nQ 45.3125 60.0625 41.71875 63.234375 \nQ 38.140625 66.40625 31.78125 66.40625 \nQ 25.390625 66.40625 21.84375 63.234375 \nQ 18.3125 60.0625 18.3125 54.390625 \nz\n\" id=\"DejaVuSans-56\"/>\n       </defs>\n       <use xlink:href=\"#DejaVuSans-56\"/>\n       <use x=\"63.623047\" xlink:href=\"#DejaVuSans-48\"/>\n       <use x=\"127.246094\" xlink:href=\"#DejaVuSans-48\"/>\n      </g>\n     </g>\n    </g>\n    <g id=\"ytick_6\">\n     <g id=\"line2d_13\">\n      <g>\n       <use style=\"stroke:#000000;stroke-width:0.8;\" x=\"39.65\" xlink:href=\"#m16a65f5d1e\" y=\"103.110825\"/>\n      </g>\n     </g>\n     <g id=\"text_13\">\n      <!-- 1000 -->\n      <g transform=\"translate(7.2 106.910044)scale(0.1 -0.1)\">\n       <use xlink:href=\"#DejaVuSans-49\"/>\n       <use x=\"63.623047\" xlink:href=\"#DejaVuSans-48\"/>\n       <use x=\"127.246094\" xlink:href=\"#DejaVuSans-48\"/>\n       <use x=\"190.869141\" xlink:href=\"#DejaVuSans-48\"/>\n      </g>\n     </g>\n    </g>\n    <g id=\"ytick_7\">\n     <g id=\"line2d_14\">\n      <g>\n       <use style=\"stroke:#000000;stroke-width:0.8;\" x=\"39.65\" xlink:href=\"#m16a65f5d1e\" y=\"78.80499\"/>\n      </g>\n     </g>\n     <g id=\"text_14\">\n      <!-- 1200 -->\n      <g transform=\"translate(7.2 82.604209)scale(0.1 -0.1)\">\n       <use xlink:href=\"#DejaVuSans-49\"/>\n       <use x=\"63.623047\" xlink:href=\"#DejaVuSans-50\"/>\n       <use x=\"127.246094\" xlink:href=\"#DejaVuSans-48\"/>\n       <use x=\"190.869141\" xlink:href=\"#DejaVuSans-48\"/>\n      </g>\n     </g>\n    </g>\n    <g id=\"ytick_8\">\n     <g id=\"line2d_15\">\n      <g>\n       <use style=\"stroke:#000000;stroke-width:0.8;\" x=\"39.65\" xlink:href=\"#m16a65f5d1e\" y=\"54.499155\"/>\n      </g>\n     </g>\n     <g id=\"text_15\">\n      <!-- 1400 -->\n      <g transform=\"translate(7.2 58.298374)scale(0.1 -0.1)\">\n       <use xlink:href=\"#DejaVuSans-49\"/>\n       <use x=\"63.623047\" xlink:href=\"#DejaVuSans-52\"/>\n       <use x=\"127.246094\" xlink:href=\"#DejaVuSans-48\"/>\n       <use x=\"190.869141\" xlink:href=\"#DejaVuSans-48\"/>\n      </g>\n     </g>\n    </g>\n    <g id=\"ytick_9\">\n     <g id=\"line2d_16\">\n      <g>\n       <use style=\"stroke:#000000;stroke-width:0.8;\" x=\"39.65\" xlink:href=\"#m16a65f5d1e\" y=\"30.19332\"/>\n      </g>\n     </g>\n     <g id=\"text_16\">\n      <!-- 1600 -->\n      <g transform=\"translate(7.2 33.992539)scale(0.1 -0.1)\">\n       <use xlink:href=\"#DejaVuSans-49\"/>\n       <use x=\"63.623047\" xlink:href=\"#DejaVuSans-54\"/>\n       <use x=\"127.246094\" xlink:href=\"#DejaVuSans-48\"/>\n       <use x=\"190.869141\" xlink:href=\"#DejaVuSans-48\"/>\n      </g>\n     </g>\n    </g>\n   </g>\n   <g id=\"patch_43\">\n    <path d=\"M 39.65 224.64 \nL 39.65 7.2 \n\" style=\"fill:none;stroke:#000000;stroke-linecap:square;stroke-linejoin:miter;stroke-width:0.8;\"/>\n   </g>\n   <g id=\"patch_44\">\n    <path d=\"M 374.45 224.64 \nL 374.45 7.2 \n\" style=\"fill:none;stroke:#000000;stroke-linecap:square;stroke-linejoin:miter;stroke-width:0.8;\"/>\n   </g>\n   <g id=\"patch_45\">\n    <path d=\"M 39.65 224.64 \nL 374.45 224.64 \n\" style=\"fill:none;stroke:#000000;stroke-linecap:square;stroke-linejoin:miter;stroke-width:0.8;\"/>\n   </g>\n   <g id=\"patch_46\">\n    <path d=\"M 39.65 7.2 \nL 374.45 7.2 \n\" style=\"fill:none;stroke:#000000;stroke-linecap:square;stroke-linejoin:miter;stroke-width:0.8;\"/>\n   </g>\n  </g>\n </g>\n <defs>\n  <clipPath id=\"pdda9c2197c\">\n   <rect height=\"217.44\" width=\"334.8\" x=\"39.65\" y=\"7.2\"/>\n  </clipPath>\n </defs>\n</svg>\n",
            "image/png": "[encoded data removed]"
          },
          "metadata": {
            "needs_background": "light"
          }
        }
      ],
      "source": [
        "# histogram of noise (- noise, + noise)\n",
        "# we know that negative values are due to noise, and we assume a gaussian noise distribution\n",
        "\n",
        "data_flat = data_560Mhz_1000h_train.flatten()\n",
        "min_val = min(data_flat)\n",
        "plt.hist(data_flat, bins = 40, range = (0.0001, 0.006))#abs(min_val)))"
      ]
    },
    {
      "cell_type": "code",
      "execution_count": 8,
      "metadata": {},
      "outputs": [
        {
          "output_type": "stream",
          "name": "stdout",
          "text": [
            "0.48094657\n"
          ]
        }
      ],
      "source": [
        "fits_max_data_560Mhz_1000h = np.max(data_560Mhz_1000h)\n",
        "print(fits_max_data_560Mhz_1000h)\n",
        "\n",
        "data_560Mhz_1000h_train_clipped = np.clip(data_560Mhz_1000h_train, a_min=0, a_max=fits_max_data_560Mhz_1000h)\n",
        "\n",
        "# NB the computation of the mean val must be after the noise removal\n",
        "data_flat = data_560Mhz_1000h_train_clipped.flatten()\n",
        "mean_GLval = statistics.mean(data_flat)\n",
        "max_GLval = max(data_flat)\n",
        "min_GLval = min(data_flat)\n",
        "print(mean_GLval)\n",
        "print(max_GLval)\n",
        "print(min_GLval)"
      ]
    },
    {
      "cell_type": "code",
      "execution_count": 10,
      "metadata": {},
      "outputs": [
        {
          "output_type": "execute_result",
          "data": {
            "text/plain": [
              "array([[0.0000000e+00, 5.0277004e-07, 8.1352823e-07, ..., 0.0000000e+00,\n",
              "        0.0000000e+00, 0.0000000e+00],\n",
              "       [0.0000000e+00, 4.7234460e-07, 7.5504875e-07, ..., 0.0000000e+00,\n",
              "        0.0000000e+00, 1.5155882e-07],\n",
              "       [0.0000000e+00, 0.0000000e+00, 4.7753889e-07, ..., 0.0000000e+00,\n",
              "        0.0000000e+00, 0.0000000e+00],\n",
              "       ...,\n",
              "       [0.0000000e+00, 3.2216460e-07, 2.1111914e-07, ..., 0.0000000e+00,\n",
              "        0.0000000e+00, 0.0000000e+00],\n",
              "       [0.0000000e+00, 0.0000000e+00, 0.0000000e+00, ..., 0.0000000e+00,\n",
              "        0.0000000e+00, 0.0000000e+00],\n",
              "       [0.0000000e+00, 0.0000000e+00, 0.0000000e+00, ..., 0.0000000e+00,\n",
              "        4.3899996e-07, 6.1143220e-07]], dtype=float32)"
            ]
          },
          "metadata": {},
          "execution_count": 10
        }
      ],
      "source": [
        "data_560Mhz_1000h_train_clipped"
      ]
    },
    {
      "cell_type": "code",
      "metadata": {
        "id": "Ug10Ku-OF-5Y",
        "outputId": "c3b6bed6-24a7-4f71-cbed-c4b6b8d934af",
        "tags": []
      },
      "source": [
        "patches={}\n",
        "patches = ska_dataset._split_in_patch(data_560Mhz_1000h_train_clipped, df_train, data_560Mhz_1000h_fits.filename(), x1_min, y1_min, 205) # Remember to remove internal return"
      ],
      "execution_count": 9,
      "outputs": [
        {
          "output_type": "stream",
          "name": "stdout",
          "text": [
            "image saved\nIndex(['ID', 'RA (core)', 'DEC (core)', 'RA (centroid)', 'DEC (centroid)',\n       'FLUX', 'Core frac', 'BMAJ', 'BMIN', 'PA', 'SIZE', 'CLASS', 'SELECTION',\n       'x', 'y', 'x1', 'y1', 'x2', 'y2', 'major_semia_px', 'minor_semia_px',\n       'pa_in_rad', 'width', 'height', 'x1s', 'y1s', 'x2s', 'y2s',\n       'patch_name', 'patch_xo', 'patch_yo', 'patch_dim'],\n      dtype='object')\n         ID  RA (core)  DEC (core)  RA (centroid)  DEC (centroid)      FLUX  \\\n0  27514971  -0.014459  -29.933004      -0.014121      -29.932705  0.039324   \n1  15252327  -0.039005  -29.915081      -0.039002      -29.915081  0.000010   \n2  13302538  -0.005224  -29.939449      -0.005224      -29.939449  0.000017   \n3  30994188  -0.035645  -29.910868      -0.035645      -29.910868  0.000934   \n4  29158240  -0.002566  -29.917469      -0.002566      -29.917469  0.000036   \n\n   Core frac    BMAJ    BMIN       PA  ...      width     height         x1s  \\\n0   0.004216  31.508  17.616  353.308  ...  51.900100  29.585640   49.960356   \n1   0.013472   2.167   2.159  134.347  ...   3.579504   3.579806  202.619101   \n2   0.861438   0.076   0.076  259.451  ...   0.125776   0.125776   29.907046   \n3  -0.000000   7.350   6.634  -82.418  ...  11.000635  12.144215  181.576576   \n4  -0.000000   1.474   0.443   -7.448  ...   2.420676   0.792750   15.038055   \n\n          y1s         x2s         y2s                patch_name  patch_xo  \\\n0   38.133503  101.860456   67.719143  560Mhz_1000h_16380_16731     16380   \n1  156.105382  205.000000  159.685188  560Mhz_1000h_16380_16731     16380   \n2   12.685744   30.032822   12.811519  560Mhz_1000h_16380_16731     16380   \n3  176.932133  192.577211  189.076348  560Mhz_1000h_16380_16731     16380   \n4  143.306941   17.458730  144.099692  560Mhz_1000h_16380_16731     16380   \n\n   patch_yo  patch_dim  \n0     16731        205  \n1     16731        205  \n2     16731        205  \n3     16731        205  \n4     16731        205  \n\n[5 rows x 32 columns]\n"
          ]
        }
      ]
    },
    {
      "cell_type": "code",
      "execution_count": 6,
      "metadata": {},
      "outputs": [
        {
          "output_type": "stream",
          "name": "stdout",
          "text": [
            "[[0.0000000e+00 5.0277004e-07 8.1352823e-07 ... 2.1992520e-07\n  3.3757752e-07 8.9618879e-08]\n [0.0000000e+00 4.7234460e-07 7.5504875e-07 ... 0.0000000e+00\n  2.7678368e-08 3.8842813e-08]\n [0.0000000e+00 0.0000000e+00 4.7753889e-07 ... 0.0000000e+00\n  0.0000000e+00 0.0000000e+00]\n ...\n [1.6627402e-07 2.2166087e-07 0.0000000e+00 ... 0.0000000e+00\n  0.0000000e+00 0.0000000e+00]\n [1.3635220e-07 2.9386493e-07 0.0000000e+00 ... 0.0000000e+00\n  0.0000000e+00 0.0000000e+00]\n [0.0000000e+00 0.0000000e+00 0.0000000e+00 ... 0.0000000e+00\n  0.0000000e+00 0.0000000e+00]]\n          ID  RA (core)  DEC (core)  RA (centroid)  DEC (centroid)      FLUX  \\\n0   27514971  -0.014459  -29.933004      -0.014121      -29.932705  0.039324   \n1   15252327  -0.039005  -29.915081      -0.039002      -29.915081  0.000010   \n2   13302538  -0.005224  -29.939449      -0.005224      -29.939449  0.000017   \n3   30994188  -0.035645  -29.910868      -0.035645      -29.910868  0.000934   \n4   29158240  -0.002566  -29.917469      -0.002566      -29.917469  0.000036   \n..       ...        ...         ...            ...             ...       ...   \n63   9005660  -0.022509  -29.931404      -0.022509      -29.931404  0.000013   \n64  35737787  -0.000497  -29.911371      -0.000497      -29.911371  0.000028   \n65  31108334  -0.006430  -29.913763      -0.006430      -29.913763  0.000013   \n66  16819986  -0.025670  -29.939737      -0.025670      -29.939737  0.000007   \n67  30436469  -0.036250  -29.926567      -0.036250      -29.926567  0.000013   \n\n    Core frac    BMAJ    BMIN       PA  ...      width     height         x1s  \\\n0    0.004216  31.508  17.616  353.308  ...  51.900100  29.585640   49.960356   \n1    0.013472   2.167   2.159  134.347  ...   3.579504   3.579806  202.619101   \n2    0.861438   0.076   0.076  259.451  ...   0.125776   0.125776   29.907046   \n3   -0.000000   7.350   6.634  -82.418  ...  11.000635  12.144215  181.576576   \n4   -0.000000   1.474   0.443   -7.448  ...   2.420676   0.792750   15.038055   \n..        ...     ...     ...      ...  ...        ...        ...         ...   \n63  -0.000000   1.090   0.293   63.968  ...   0.903657   1.634795  118.765088   \n64  -0.000000   0.479   0.089   52.518  ...   0.496338   0.635411    5.317516   \n65  -0.000000   0.643   0.084  -44.041  ...   0.771023   0.746474   35.820206   \n66  -0.000000   0.199   0.057   -3.338  ...   0.328821   0.096104  135.364627   \n67  -0.000000   0.453   0.111  -16.761  ...   0.719793   0.278711  189.812156   \n\n           y1s         x2s         y2s                patch_name  patch_xo  \\\n0    38.133503  101.860456   67.719143  560Mhz_1000h_16380_16731     16380   \n1   156.105382  205.000000  159.685188  560Mhz_1000h_16380_16731     16380   \n2    12.685744   30.032822   12.811519  560Mhz_1000h_16380_16731     16380   \n3   176.932133  192.577211  189.076348  560Mhz_1000h_16380_16731     16380   \n4   143.306941   17.458730  144.099692  560Mhz_1000h_16380_16731     16380   \n..         ...         ...         ...                       ...       ...   \n63   59.852151  119.668745   61.486947  560Mhz_1000h_16380_16731     16380   \n64  179.715168    5.813854  180.350579  560Mhz_1000h_16380_16731     16380   \n65  165.408726   36.591228  166.155199  560Mhz_1000h_16380_16731     16380   \n66   10.970443  135.693448   11.066547  560Mhz_1000h_16380_16731     16380   \n67   89.330071  190.531949   89.608782  560Mhz_1000h_16380_16731     16380   \n\n    patch_yo  patch_dim  \n0      16731        205  \n1      16731        205  \n2      16731        205  \n3      16731        205  \n4      16731        205  \n..       ...        ...  \n63     16731        205  \n64     16731        205  \n65     16731        205  \n66     16731        205  \n67     16731        205  \n\n[68 rows x 32 columns]\n"
          ]
        }
      ],
      "source": [
        "# test if file has been correctly saved\n",
        "\n",
        "patch = '0_1638016380_205.npy'\n",
        "pkl = '0_1638016380_205.pkl'\n",
        "\n",
        "path = os.path.join(config.TRAIN_PATCHES_FOLDER, '0_1638016380_205/')\n",
        "p = np.load(os.path.join(path, patch))\n",
        "pdata = pd.read_pickle(os.path.join(path, pkl))\n",
        "print(p)\n",
        "print(pdata)"
      ]
    },
    {
      "source": [
        "#TODO:\n",
        "- Ingrandire bbox\n",
        "- unire bbox sovrapposte\n",
        "- Mergiare branch data_clean (anche alla fine)\n",
        "- Quando vengono create le patch, ritagliare le bbox per farle stare tutte nella patch X\n",
        "- Check tra nostro dataset pulito e quello di ICRAR (dopo aver mergiato il branch data_clean)\n",
        "\n",
        "Da capire per la rete:\n",
        "- bisogna scalre input tra 0 e 255 intero?\n",
        "- salvare le patch come immagini o possiamo darle in input on the fly?\n",
        "- è necessario un custom input layer che converte le nostra immagini da 1 a 3 canali?"
      ],
      "cell_type": "markdown",
      "metadata": {}
    },
    {
      "cell_type": "code",
      "execution_count": 31,
      "metadata": {},
      "outputs": [],
      "source": [
        "# Download VGG16 weights\n",
        "# 'https://github.com/fchollet/deep-learning-models/releases/download/v0.1/vgg16_weights_tf_dim_ordering_tf_kernels_notop.h5'\n",
        "if not os.path.exists(os.path.join(config.MODEL_WEIGHTS, 'vgg16')):\n",
        "    download_data('vgg16_weights_tf_dim_ordering_tf_kernels_notop.h5', \n",
        "    'https://github.com/fchollet/deep-learning-models/releases/download/v0.1/vgg16_weights_tf_dim_ordering_tf_kernels_notop.h5', config.MODEL_WEIGHTS + '/vgg16')\n"
      ]
    },
    {
      "cell_type": "code",
      "execution_count": 7,
      "metadata": {},
      "outputs": [
        {
          "output_type": "stream",
          "name": "stdout",
          "text": [
            "(None, 12, 12, 30)\n",
            "(None, 12, 12, 120)\n",
            "Model: \"RegionProposal\"\n",
            "_________________________________________________________________\n",
            "Layer (type)                 Output Shape              Param #   \n",
            "=================================================================\n",
            "input_1 (InputLayer)         [(None, 205, 205, 1)]     0         \n",
            "_________________________________________________________________\n",
            "Custom_input_layer (Expander (None, 205, 205, 3)       6         \n",
            "_________________________________________________________________\n",
            "block1_conv1 (Conv2D)        (None, 205, 205, 64)      1792      \n",
            "_________________________________________________________________\n",
            "block1_conv2 (Conv2D)        (None, 205, 205, 64)      36928     \n",
            "_________________________________________________________________\n",
            "block1_pool (MaxPooling2D)   (None, 102, 102, 64)      0         \n",
            "_________________________________________________________________\n",
            "block2_conv1 (Conv2D)        (None, 102, 102, 128)     73856     \n",
            "_________________________________________________________________\n",
            "block2_conv2 (Conv2D)        (None, 102, 102, 128)     147584    \n",
            "_________________________________________________________________\n",
            "block2_pool (MaxPooling2D)   (None, 51, 51, 128)       0         \n",
            "_________________________________________________________________\n",
            "block3_conv1 (Conv2D)        (None, 51, 51, 256)       295168    \n",
            "_________________________________________________________________\n",
            "block3_conv2 (Conv2D)        (None, 51, 51, 256)       590080    \n",
            "_________________________________________________________________\n",
            "block3_conv3 (Conv2D)        (None, 51, 51, 256)       590080    \n",
            "_________________________________________________________________\n",
            "block3_pool (MaxPooling2D)   (None, 25, 25, 256)       0         \n",
            "_________________________________________________________________\n",
            "block4_conv1 (Conv2D)        (None, 25, 25, 512)       1180160   \n",
            "_________________________________________________________________\n",
            "block4_conv2 (Conv2D)        (None, 25, 25, 512)       2359808   \n",
            "_________________________________________________________________\n",
            "block4_conv3 (Conv2D)        (None, 25, 25, 512)       2359808   \n",
            "_________________________________________________________________\n",
            "block4_pool (MaxPooling2D)   (None, 12, 12, 512)       0         \n",
            "_________________________________________________________________\n",
            "block5_conv1 (Conv2D)        (None, 12, 12, 512)       2359808   \n",
            "_________________________________________________________________\n",
            "block5_conv2 (Conv2D)        (None, 12, 12, 512)       2359808   \n",
            "_________________________________________________________________\n",
            "block5_conv3 (Conv2D)        (None, 12, 12, 512)       2359808   \n",
            "_________________________________________________________________\n",
            "rpn (RpnNet)                 [(None, 12, 12, 30), (Non 2436758   \n",
            "=================================================================\n",
            "Total params: 17,151,452\n",
            "Trainable params: 16,891,292\n",
            "Non-trainable params: 260,160\n",
            "_________________________________________________________________\n",
            "Model: \"DetectorClassifier\"\n",
            "__________________________________________________________________________________________________\n",
            "Layer (type)                    Output Shape         Param #     Connected to                     \n",
            "==================================================================================================\n",
            "input_1 (InputLayer)            [(None, 205, 205, 1) 0                                            \n",
            "__________________________________________________________________________________________________\n",
            "Custom_input_layer (Expander)   (None, 205, 205, 3)  6           input_1[0][0]                    \n",
            "__________________________________________________________________________________________________\n",
            "block1_conv1 (Conv2D)           (None, 205, 205, 64) 1792        Custom_input_layer[0][0]         \n",
            "__________________________________________________________________________________________________\n",
            "block1_conv2 (Conv2D)           (None, 205, 205, 64) 36928       block1_conv1[0][0]               \n",
            "__________________________________________________________________________________________________\n",
            "block1_pool (MaxPooling2D)      (None, 102, 102, 64) 0           block1_conv2[0][0]               \n",
            "__________________________________________________________________________________________________\n",
            "block2_conv1 (Conv2D)           (None, 102, 102, 128 73856       block1_pool[0][0]                \n",
            "__________________________________________________________________________________________________\n",
            "block2_conv2 (Conv2D)           (None, 102, 102, 128 147584      block2_conv1[0][0]               \n",
            "__________________________________________________________________________________________________\n",
            "block2_pool (MaxPooling2D)      (None, 51, 51, 128)  0           block2_conv2[0][0]               \n",
            "__________________________________________________________________________________________________\n",
            "block3_conv1 (Conv2D)           (None, 51, 51, 256)  295168      block2_pool[0][0]                \n",
            "__________________________________________________________________________________________________\n",
            "block3_conv2 (Conv2D)           (None, 51, 51, 256)  590080      block3_conv1[0][0]               \n",
            "__________________________________________________________________________________________________\n",
            "block3_conv3 (Conv2D)           (None, 51, 51, 256)  590080      block3_conv2[0][0]               \n",
            "__________________________________________________________________________________________________\n",
            "block3_pool (MaxPooling2D)      (None, 25, 25, 256)  0           block3_conv3[0][0]               \n",
            "__________________________________________________________________________________________________\n",
            "block4_conv1 (Conv2D)           (None, 25, 25, 512)  1180160     block3_pool[0][0]                \n",
            "__________________________________________________________________________________________________\n",
            "block4_conv2 (Conv2D)           (None, 25, 25, 512)  2359808     block4_conv1[0][0]               \n",
            "__________________________________________________________________________________________________\n",
            "block4_conv3 (Conv2D)           (None, 25, 25, 512)  2359808     block4_conv2[0][0]               \n",
            "__________________________________________________________________________________________________\n",
            "block4_pool (MaxPooling2D)      (None, 12, 12, 512)  0           block4_conv3[0][0]               \n",
            "__________________________________________________________________________________________________\n",
            "block5_conv1 (Conv2D)           (None, 12, 12, 512)  2359808     block4_pool[0][0]                \n",
            "__________________________________________________________________________________________________\n",
            "block5_conv2 (Conv2D)           (None, 12, 12, 512)  2359808     block5_conv1[0][0]               \n",
            "__________________________________________________________________________________________________\n",
            "block5_conv3 (Conv2D)           (None, 12, 12, 512)  2359808     block5_conv2[0][0]               \n",
            "__________________________________________________________________________________________________\n",
            "input_2 (InputLayer)            [(None, None, 4)]    0                                            \n",
            "__________________________________________________________________________________________________\n",
            "roi_pooling (RoiPoolingConv)    (1, 4, 7, 7, 512)    0           block5_conv3[0][0]               \n",
            "                                                                 input_2[0][0]                    \n",
            "__________________________________________________________________________________________________\n",
            "cls (Classifier)                [(1, 4, 9), (1, 4, 3 119730221   roi_pooling[0][0]                \n",
            "==================================================================================================\n",
            "Total params: 134,444,915\n",
            "Trainable params: 134,184,755\n",
            "Non-trainable params: 260,160\n",
            "__________________________________________________________________________________________________\n",
            "Model: \"End2end_model\"\n",
            "__________________________________________________________________________________________________\n",
            "Layer (type)                    Output Shape         Param #     Connected to                     \n",
            "==================================================================================================\n",
            "input_1 (InputLayer)            [(None, 205, 205, 1) 0                                            \n",
            "__________________________________________________________________________________________________\n",
            "Custom_input_layer (Expander)   (None, 205, 205, 3)  6           input_1[0][0]                    \n",
            "__________________________________________________________________________________________________\n",
            "block1_conv1 (Conv2D)           (None, 205, 205, 64) 1792        Custom_input_layer[0][0]         \n",
            "__________________________________________________________________________________________________\n",
            "block1_conv2 (Conv2D)           (None, 205, 205, 64) 36928       block1_conv1[0][0]               \n",
            "__________________________________________________________________________________________________\n",
            "block1_pool (MaxPooling2D)      (None, 102, 102, 64) 0           block1_conv2[0][0]               \n",
            "__________________________________________________________________________________________________\n",
            "block2_conv1 (Conv2D)           (None, 102, 102, 128 73856       block1_pool[0][0]                \n",
            "__________________________________________________________________________________________________\n",
            "block2_conv2 (Conv2D)           (None, 102, 102, 128 147584      block2_conv1[0][0]               \n",
            "__________________________________________________________________________________________________\n",
            "block2_pool (MaxPooling2D)      (None, 51, 51, 128)  0           block2_conv2[0][0]               \n",
            "__________________________________________________________________________________________________\n",
            "block3_conv1 (Conv2D)           (None, 51, 51, 256)  295168      block2_pool[0][0]                \n",
            "__________________________________________________________________________________________________\n",
            "block3_conv2 (Conv2D)           (None, 51, 51, 256)  590080      block3_conv1[0][0]               \n",
            "__________________________________________________________________________________________________\n",
            "block3_conv3 (Conv2D)           (None, 51, 51, 256)  590080      block3_conv2[0][0]               \n",
            "__________________________________________________________________________________________________\n",
            "block3_pool (MaxPooling2D)      (None, 25, 25, 256)  0           block3_conv3[0][0]               \n",
            "__________________________________________________________________________________________________\n",
            "block4_conv1 (Conv2D)           (None, 25, 25, 512)  1180160     block3_pool[0][0]                \n",
            "__________________________________________________________________________________________________\n",
            "block4_conv2 (Conv2D)           (None, 25, 25, 512)  2359808     block4_conv1[0][0]               \n",
            "__________________________________________________________________________________________________\n",
            "block4_conv3 (Conv2D)           (None, 25, 25, 512)  2359808     block4_conv2[0][0]               \n",
            "__________________________________________________________________________________________________\n",
            "block4_pool (MaxPooling2D)      (None, 12, 12, 512)  0           block4_conv3[0][0]               \n",
            "__________________________________________________________________________________________________\n",
            "block5_conv1 (Conv2D)           (None, 12, 12, 512)  2359808     block4_pool[0][0]                \n",
            "__________________________________________________________________________________________________\n",
            "block5_conv2 (Conv2D)           (None, 12, 12, 512)  2359808     block5_conv1[0][0]               \n",
            "__________________________________________________________________________________________________\n",
            "block5_conv3 (Conv2D)           (None, 12, 12, 512)  2359808     block5_conv2[0][0]               \n",
            "__________________________________________________________________________________________________\n",
            "input_2 (InputLayer)            [(None, None, 4)]    0                                            \n",
            "__________________________________________________________________________________________________\n",
            "roi_pooling (RoiPoolingConv)    (1, 4, 7, 7, 512)    0           block5_conv3[0][0]               \n",
            "                                                                 input_2[0][0]                    \n",
            "__________________________________________________________________________________________________\n",
            "rpn (RpnNet)                    [(None, 12, 12, 30), 2436758     block5_conv3[0][0]               \n",
            "__________________________________________________________________________________________________\n",
            "cls (Classifier)                [(1, 4, 9), (1, 4, 3 119730221   roi_pooling[0][0]                \n",
            "==================================================================================================\n",
            "Total params: 136,881,673\n",
            "Trainable params: 136,621,513\n",
            "Non-trainable params: 260,160\n",
            "__________________________________________________________________________________________________\n"
          ]
        }
      ],
      "source": [
        "import keras\n",
        "from keras.layers import Input\n",
        "from src.layers import Expander, vgg16, RpnNet, RoiPoolingConv, Classifier\n",
        "import src.models as models\n",
        "import src.layers as layers\n",
        "\n",
        "vgg16_weight_path = os.path.join('./model/vgg16/vgg16_weights_tf_dim_ordering_tf_kernels_notop.h5')\n",
        "\n",
        "rpn_model, cls_model, total_model = models.e2e(input_shape_1=(205,205,1), input_shape_2=(None, 4), anchor_num=30, pooling_regions=7, num_rois=4, num_classes=9, weights=vgg16_weight_path)\n",
        "\n",
        "rpn_model.summary()\n",
        "cls_model.summary()\n",
        "total_model.summary()"
      ]
    },
    {
      "cell_type": "code",
      "execution_count": 9,
      "metadata": {},
      "outputs": [],
      "source": [
        "import tensorflow as tf\n",
        "from keras import backend as K\n",
        "\n",
        "\n",
        "lambda_rpn_regr = 1.0\n",
        "lambda_rpn_class = 1.0\n",
        "\n",
        "lambda_cls_regr = 1.0\n",
        "lambda_cls_class = 1.0\n",
        "\n",
        "epsilon = 1e-4\n",
        "\n",
        "def rpn_loss_regr(num_anchors):\n",
        "    \"\"\"Loss function for rpn regression\n",
        "    Args:\n",
        "        num_anchors: number of anchors (9 in here)\n",
        "    Returns:\n",
        "        Smooth L1 loss function \n",
        "                           0.5*x*x (if x_abs < 1)\n",
        "                           x_abx - 0.5 (otherwise)\n",
        "    \"\"\"\n",
        "    def rpn_loss_regr_fixed_num(y_true, y_pred):\n",
        "\n",
        "        # x is the difference between true value and predicted value\n",
        "        x = y_true[:, :, :, 4 * num_anchors:] - y_pred\n",
        "\n",
        "        # absolute value of x\n",
        "        x_abs = K.abs(x)\n",
        "\n",
        "        # If x_abs <= 1.0, x_bool = 1\n",
        "        x_bool = K.cast(K.less_equal(x_abs, 1.0), tf.float32)\n",
        "\n",
        "        return lambda_rpn_regr * K.sum(\n",
        "            y_true[:, :, :, :4 * num_anchors] * (x_bool * (0.5 * x * x) + (1 - x_bool) * (x_abs - 0.5))) / K.sum(epsilon + y_true[:, :, :, :4 * num_anchors])\n",
        "\n",
        "    return rpn_loss_regr_fixed_num\n",
        "\n",
        "def rpn_loss_cls(num_anchors):\n",
        "    \"\"\"Loss function for rpn classification\n",
        "    Args:\n",
        "        num_anchors: number of anchors (9 in here)\n",
        "        y_true[:, :, :, :9]: [0,1,0,0,0,0,0,1,0] means only the second and the eighth box is valid which contains pos or neg anchor => isValid\n",
        "        y_true[:, :, :, 9:]: [0,1,0,0,0,0,0,0,0] means the second box is pos and eighth box is negative\n",
        "    Returns:\n",
        "        lambda * sum((binary_crossentropy(isValid*y_pred,y_true))) / N\n",
        "    \"\"\"\n",
        "    def rpn_loss_cls_fixed_num(y_true, y_pred):\n",
        "\n",
        "            return lambda_rpn_class * K.sum(y_true[:, :, :, :num_anchors] * K.binary_crossentropy(y_pred[:, :, :, :num_anchors], y_true[:, :, :, :num_anchors])) / K.sum(epsilon + y_true[:, :, :, :num_anchors]) # Corretto num anchors qui\n",
        "            \n",
        "\n",
        "    return rpn_loss_cls_fixed_num\n",
        "\n",
        "def class_loss_regr(num_classes):\n",
        "    \"\"\"Loss function for rpn regression\n",
        "    Args:\n",
        "        num_anchors: number of anchors (9 in here)\n",
        "    Returns:\n",
        "        Smooth L1 loss function \n",
        "                           0.5*x*x (if x_abs < 1)\n",
        "                           x_abs - 0.5 (otherwise)\n",
        "    \"\"\"\n",
        "    def class_loss_regr_fixed_num(y_true, y_pred):\n",
        "        x = y_true[:, :, 4*num_classes:] - y_pred\n",
        "        x_abs = K.abs(x)\n",
        "        x_bool = K.cast(K.less_equal(x_abs, 1.0), 'float32')\n",
        "        return lambda_cls_regr * K.sum(y_true[:, :, :4*num_classes] * (x_bool * (0.5 * x * x) + (1 - x_bool) * (x_abs - 0.5))) / K.sum(epsilon + y_true[:, :, :4*num_classes])\n",
        "    return class_loss_regr_fixed_num\n",
        "\n",
        "\n",
        "def class_loss_cls(y_true, y_pred):\n",
        "    return lambda_cls_class * K.mean(categorical_crossentropy(y_true[0, :, :], y_pred[0, :, :]))"
      ]
    },
    {
      "cell_type": "code",
      "execution_count": 10,
      "metadata": {},
      "outputs": [],
      "source": [
        "from keras.optimizers import Adam\n",
        "\n",
        "ANCHOR_NUM=30\n",
        "num_classes=9\n",
        "\n",
        "optimizer = Adam(lr=1e-5)\n",
        "optimizer_classifier = Adam(lr=1e-5)\n",
        "\n",
        "rpn_model.compile(optimizer=optimizer, loss=[rpn_loss_cls(ANCHOR_NUM), rpn_loss_regr(ANCHOR_NUM)])\n",
        "cls_model.compile(optimizer=optimizer_classifier, loss=[class_loss_cls, class_loss_regr(num_classes)], metrics={'dense_class_{}'.format(num_classes): 'accuracy'})\n",
        "total_model.compile(optimizer='sgd', loss='mae')"
      ]
    },
    {
      "cell_type": "code",
      "execution_count": 11,
      "metadata": {
        "tags": [
          "outputPrepend"
        ]
      },
      "outputs": [
        {
          "output_type": "stream",
          "name": "stdout",
          "text": [
            "             8.154436\n",
            "y2s                             176.483324\n",
            "patch_name        560Mhz_1000h_16380_16731\n",
            "patch_xo                             16380\n",
            "patch_yo                             16731\n",
            "patch_dim                              205\n",
            "Name: 53, dtype: object\n",
            "54\n",
            "ID                                16400073\n",
            "RA (core)                        -0.032432\n",
            "DEC (core)                      -29.914839\n",
            "RA (centroid)                    -0.032432\n",
            "DEC (centroid)                  -29.914839\n",
            "FLUX                              0.000007\n",
            "Core frac                             -0.0\n",
            "BMAJ                                 0.522\n",
            "BMIN                                 0.188\n",
            "PA                                 -27.138\n",
            "SIZE                                     2\n",
            "CLASS                                    3\n",
            "SELECTION                                1\n",
            "x                                16550.482\n",
            "y                                16890.351\n",
            "x1                            16550.091021\n",
            "y1                            16890.109352\n",
            "x2                            16550.872788\n",
            "y2                            16890.590947\n",
            "major_semia_px                    0.431941\n",
            "minor_semia_px                    0.155565\n",
            "pa_in_rad                        -0.473647\n",
            "width                             0.781767\n",
            "height                            0.481596\n",
            "x1s                             170.091021\n",
            "y1s                             159.109352\n",
            "x2s                             170.872788\n",
            "y2s                             159.590947\n",
            "patch_name        560Mhz_1000h_16380_16731\n",
            "patch_xo                             16380\n",
            "patch_yo                             16731\n",
            "patch_dim                              205\n",
            "Name: 54, dtype: object\n",
            "55\n",
            "ID                                 4339860\n",
            "RA (core)                         -0.03814\n",
            "DEC (core)                      -29.934931\n",
            "RA (centroid)                     -0.03814\n",
            "DEC (centroid)                  -29.934931\n",
            "FLUX                              0.000015\n",
            "Core frac                             -0.0\n",
            "BMAJ                                 0.363\n",
            "BMIN                                 0.124\n",
            "PA                                  -8.279\n",
            "SIZE                                     2\n",
            "CLASS                                    3\n",
            "SELECTION                                1\n",
            "x                                16579.918\n",
            "y                                16770.638\n",
            "x1                            16579.619605\n",
            "y1                            16770.526504\n",
            "x2                            16580.214824\n",
            "y2                            16770.747235\n",
            "major_semia_px                    0.300373\n",
            "minor_semia_px                    0.102607\n",
            "pa_in_rad                        -0.144496\n",
            "width                             0.595219\n",
            "height                            0.220731\n",
            "x1s                             199.619605\n",
            "y1s                              39.526504\n",
            "x2s                             200.214824\n",
            "y2s                              39.747235\n",
            "patch_name        560Mhz_1000h_16380_16731\n",
            "patch_xo                             16380\n",
            "patch_yo                             16731\n",
            "patch_dim                              205\n",
            "Name: 55, dtype: object\n",
            "56\n",
            "ID                                36301646\n",
            "RA (core)                        -0.019916\n",
            "DEC (core)                      -29.927759\n",
            "RA (centroid)                    -0.019916\n",
            "DEC (centroid)                  -29.927759\n",
            "FLUX                              0.000013\n",
            "Core frac                             -0.0\n",
            "BMAJ                                 1.285\n",
            "BMIN                                 0.288\n",
            "PA                                  -15.91\n",
            "SIZE                                     2\n",
            "CLASS                                    3\n",
            "SELECTION                                1\n",
            "x                                16485.833\n",
            "y                                16813.389\n",
            "x1                             16484.80807\n",
            "y1                            16813.017068\n",
            "x2                            16486.857383\n",
            "y2                             16813.75865\n",
            "major_semia_px                    1.063303\n",
            "minor_semia_px                    0.238312\n",
            "pa_in_rad                        -0.277682\n",
            "width                             2.049312\n",
            "height                            0.741581\n",
            "x1s                              104.80807\n",
            "y1s                              82.017068\n",
            "x2s                             106.857383\n",
            "y2s                               82.75865\n",
            "patch_name        560Mhz_1000h_16380_16731\n",
            "patch_xo                             16380\n",
            "patch_yo                             16731\n",
            "patch_dim                              205\n",
            "Name: 56, dtype: object\n",
            "57\n",
            "ID                                 8050427\n",
            "RA (core)                        -0.005032\n",
            "DEC (core)                      -29.939239\n",
            "RA (centroid)                    -0.005032\n",
            "DEC (centroid)                  -29.939239\n",
            "FLUX                              0.000043\n",
            "Core frac                             -0.0\n",
            "BMAJ                                 2.157\n",
            "BMIN                                 0.264\n",
            "PA                                 -55.468\n",
            "SIZE                                     2\n",
            "CLASS                                    3\n",
            "SELECTION                                1\n",
            "x                                16408.978\n",
            "y                                16744.999\n",
            "x1                            16407.950618\n",
            "y1                            16743.523093\n",
            "x2                            16410.005932\n",
            "y2                            16746.474273\n",
            "major_semia_px                     1.78486\n",
            "minor_semia_px                    0.218453\n",
            "pa_in_rad                        -0.968099\n",
            "width                             2.055315\n",
            "height                             2.95118\n",
            "x1s                              27.950618\n",
            "y1s                              12.523093\n",
            "x2s                              30.005932\n",
            "y2s                              15.474273\n",
            "patch_name        560Mhz_1000h_16380_16731\n",
            "patch_xo                             16380\n",
            "patch_yo                             16731\n",
            "patch_dim                              205\n",
            "Name: 57, dtype: object\n",
            "58\n",
            "ID                                19449360\n",
            "RA (core)                        -0.005099\n",
            "DEC (core)                      -29.909416\n",
            "RA (centroid)                    -0.005099\n",
            "DEC (centroid)                  -29.909416\n",
            "FLUX                              0.000006\n",
            "Core frac                             -0.0\n",
            "BMAJ                                  0.44\n",
            "BMIN                                 0.105\n",
            "PA                                  85.648\n",
            "SIZE                                     2\n",
            "CLASS                                    3\n",
            "SELECTION                                1\n",
            "x                                16409.333\n",
            "y                                16922.681\n",
            "x1                            16409.242478\n",
            "y1                            16922.316872\n",
            "x2                            16409.424344\n",
            "y2                            16923.043068\n",
            "major_semia_px                    0.364088\n",
            "minor_semia_px                    0.086885\n",
            "pa_in_rad                          1.49484\n",
            "width                             0.181866\n",
            "height                            0.726197\n",
            "x1s                              29.242478\n",
            "y1s                             191.316872\n",
            "x2s                              29.424344\n",
            "y2s                             192.043068\n",
            "patch_name        560Mhz_1000h_16380_16731\n",
            "patch_xo                             16380\n",
            "patch_yo                             16731\n",
            "patch_dim                              205\n",
            "Name: 58, dtype: object\n",
            "59\n",
            "ID                                27722057\n",
            "RA (core)                        -0.006787\n",
            "DEC (core)                      -29.913986\n",
            "RA (centroid)                    -0.006787\n",
            "DEC (centroid)                  -29.913986\n",
            "FLUX                              0.000019\n",
            "Core frac                             -0.0\n",
            "BMAJ                                 1.017\n",
            "BMIN                                 0.204\n",
            "PA                                   6.121\n",
            "SIZE                                     2\n",
            "CLASS                                    3\n",
            "SELECTION                                1\n",
            "x                                 16418.05\n",
            "y                                16895.453\n",
            "x1                            16417.212696\n",
            "y1                            16895.261991\n",
            "x2                            16418.886568\n",
            "y2                            16895.642637\n",
            "major_semia_px                     0.84154\n",
            "minor_semia_px                    0.168805\n",
            "pa_in_rad                         0.106832\n",
            "width                             1.673872\n",
            "height                            0.380646\n",
            "x1s                              37.212696\n",
            "y1s                             164.261991\n",
            "x2s                              38.886568\n",
            "y2s                             164.642637\n",
            "patch_name        560Mhz_1000h_16380_16731\n",
            "patch_xo                             16380\n",
            "patch_yo                             16731\n",
            "patch_dim                              205\n",
            "Name: 59, dtype: object\n",
            "60\n",
            "ID                                 7129791\n",
            "RA (core)                        -0.006576\n",
            "DEC (core)                      -29.934639\n",
            "RA (centroid)                    -0.006576\n",
            "DEC (centroid)                  -29.934639\n",
            "FLUX                               0.00001\n",
            "Core frac                             -0.0\n",
            "BMAJ                                 0.487\n",
            "BMIN                                 0.092\n",
            "PA                                 -63.716\n",
            "SIZE                                     2\n",
            "CLASS                                    3\n",
            "SELECTION                                1\n",
            "x                                16416.954\n",
            "y                                16772.408\n",
            "x1                            16416.763045\n",
            "y1                            16772.044387\n",
            "x2                            16417.145158\n",
            "y2                            16772.770156\n",
            "major_semia_px                    0.402979\n",
            "minor_semia_px                    0.076128\n",
            "pa_in_rad                        -1.112054\n",
            "width                             0.382113\n",
            "height                            0.725769\n",
            "x1s                              36.763045\n",
            "y1s                              41.044387\n",
            "x2s                              37.145158\n",
            "y2s                              41.770156\n",
            "patch_name        560Mhz_1000h_16380_16731\n",
            "patch_xo                             16380\n",
            "patch_yo                             16731\n",
            "patch_dim                              205\n",
            "Name: 60, dtype: object\n",
            "61\n",
            "ID                                36258132\n",
            "RA (core)                        -0.022729\n",
            "DEC (core)                      -29.916462\n",
            "RA (centroid)                    -0.022729\n",
            "DEC (centroid)                  -29.916462\n",
            "FLUX                              0.000015\n",
            "Core frac                             -0.0\n",
            "BMAJ                                 0.683\n",
            "BMIN                                 0.174\n",
            "PA                                 -40.243\n",
            "SIZE                                     2\n",
            "CLASS                                    3\n",
            "SELECTION                                1\n",
            "x                                16500.369\n",
            "y                                16880.693\n",
            "x1                            16499.927934\n",
            "y1                            16880.310511\n",
            "x2                            16500.810554\n",
            "y2                            16881.073102\n",
            "major_semia_px                    0.565164\n",
            "minor_semia_px                     0.14398\n",
            "pa_in_rad                        -0.702373\n",
            "width                              0.88262\n",
            "height                            0.762591\n",
            "x1s                             119.927934\n",
            "y1s                             149.310511\n",
            "x2s                             120.810554\n",
            "y2s                             150.073102\n",
            "patch_name        560Mhz_1000h_16380_16731\n",
            "patch_xo                             16380\n",
            "patch_yo                             16731\n",
            "patch_dim                              205\n",
            "Name: 61, dtype: object\n",
            "62\n",
            "ID                                 5164471\n",
            "RA (core)                        -0.006556\n",
            "DEC (core)                      -29.917397\n",
            "RA (centroid)                    -0.006556\n",
            "DEC (centroid)                  -29.917397\n",
            "FLUX                              0.000019\n",
            "Core frac                             -0.0\n",
            "BMAJ                                 0.635\n",
            "BMIN                                 0.196\n",
            "PA                                  10.607\n",
            "SIZE                                     2\n",
            "CLASS                                    3\n",
            "SELECTION                                1\n",
            "x                                16416.856\n",
            "y                                16875.135\n",
            "x1                            16416.338241\n",
            "y1                            16874.947798\n",
            "x2                            16417.372899\n",
            "y2                            16875.320718\n",
            "major_semia_px                    0.525445\n",
            "minor_semia_px                    0.162185\n",
            "pa_in_rad                         0.185127\n",
            "width                             1.034658\n",
            "height                             0.37292\n",
            "x1s                              36.338241\n",
            "y1s                             143.947798\n",
            "x2s                              37.372899\n",
            "y2s                             144.320718\n",
            "patch_name        560Mhz_1000h_16380_16731\n",
            "patch_xo                             16380\n",
            "patch_yo                             16731\n",
            "patch_dim                              205\n",
            "Name: 62, dtype: object\n",
            "63\n",
            "ID                                 9005660\n",
            "RA (core)                        -0.022509\n",
            "DEC (core)                      -29.931404\n",
            "RA (centroid)                    -0.022509\n",
            "DEC (centroid)                  -29.931404\n",
            "FLUX                              0.000013\n",
            "Core frac                             -0.0\n",
            "BMAJ                                  1.09\n",
            "BMIN                                 0.293\n",
            "PA                                  63.968\n",
            "SIZE                                     2\n",
            "CLASS                                    3\n",
            "SELECTION                                1\n",
            "x                                16499.217\n",
            "y                                 16791.67\n",
            "x1                            16498.765088\n",
            "y1                            16790.852151\n",
            "x2                            16499.668745\n",
            "y2                            16792.486947\n",
            "major_semia_px                    0.901946\n",
            "minor_semia_px                     0.24245\n",
            "pa_in_rad                         1.116452\n",
            "width                             0.903657\n",
            "height                            1.634795\n",
            "x1s                             118.765088\n",
            "y1s                              59.852151\n",
            "x2s                             119.668745\n",
            "y2s                              61.486947\n",
            "patch_name        560Mhz_1000h_16380_16731\n",
            "patch_xo                             16380\n",
            "patch_yo                             16731\n",
            "patch_dim                              205\n",
            "Name: 63, dtype: object\n",
            "64\n",
            "ID                                35737787\n",
            "RA (core)                        -0.000497\n",
            "DEC (core)                      -29.911371\n",
            "RA (centroid)                    -0.000497\n",
            "DEC (centroid)                  -29.911371\n",
            "FLUX                              0.000028\n",
            "Core frac                             -0.0\n",
            "BMAJ                                 0.479\n",
            "BMIN                                 0.089\n",
            "PA                                  52.518\n",
            "SIZE                                     2\n",
            "CLASS                                    3\n",
            "SELECTION                                1\n",
            "x                                16385.566\n",
            "y                                16911.034\n",
            "x1                            16385.317516\n",
            "y1                            16910.715168\n",
            "x2                            16385.813854\n",
            "y2                            16911.350579\n",
            "major_semia_px                     0.39636\n",
            "minor_semia_px                    0.073645\n",
            "pa_in_rad                         0.916612\n",
            "width                             0.496338\n",
            "height                            0.635411\n",
            "x1s                               5.317516\n",
            "y1s                             179.715168\n",
            "x2s                               5.813854\n",
            "y2s                             180.350579\n",
            "patch_name        560Mhz_1000h_16380_16731\n",
            "patch_xo                             16380\n",
            "patch_yo                             16731\n",
            "patch_dim                              205\n",
            "Name: 64, dtype: object\n",
            "65\n",
            "ID                                31108334\n",
            "RA (core)                         -0.00643\n",
            "DEC (core)                      -29.913763\n",
            "RA (centroid)                     -0.00643\n",
            "DEC (centroid)                  -29.913763\n",
            "FLUX                              0.000013\n",
            "Core frac                             -0.0\n",
            "BMAJ                                 0.643\n",
            "BMIN                                 0.084\n",
            "PA                                 -44.041\n",
            "SIZE                                     2\n",
            "CLASS                                    3\n",
            "SELECTION                                1\n",
            "x                                16416.206\n",
            "y                                16896.783\n",
            "x1                            16415.820206\n",
            "y1                            16896.408726\n",
            "x2                            16416.591228\n",
            "y2                            16897.155199\n",
            "major_semia_px                    0.532065\n",
            "minor_semia_px                    0.069508\n",
            "pa_in_rad                         -0.76866\n",
            "width                             0.771023\n",
            "height                            0.746474\n",
            "x1s                              35.820206\n",
            "y1s                             165.408726\n",
            "x2s                              36.591228\n",
            "y2s                             166.155199\n",
            "patch_name        560Mhz_1000h_16380_16731\n",
            "patch_xo                             16380\n",
            "patch_yo                             16731\n",
            "patch_dim                              205\n",
            "Name: 65, dtype: object\n",
            "66\n",
            "ID                                16819986\n",
            "RA (core)                         -0.02567\n",
            "DEC (core)                      -29.939737\n",
            "RA (centroid)                     -0.02567\n",
            "DEC (centroid)                  -29.939737\n",
            "FLUX                              0.000007\n",
            "Core frac                             -0.0\n",
            "BMAJ                                 0.199\n",
            "BMIN                                 0.057\n",
            "PA                                  -3.338\n",
            "SIZE                                     2\n",
            "CLASS                                    3\n",
            "SELECTION                                1\n",
            "x                                16515.529\n",
            "y                                16742.019\n",
            "x1                            16515.364627\n",
            "y1                            16741.970443\n",
            "x2                            16515.693448\n",
            "y2                            16742.066547\n",
            "major_semia_px                    0.164667\n",
            "minor_semia_px                    0.047166\n",
            "pa_in_rad                        -0.058259\n",
            "width                             0.328821\n",
            "height                            0.096104\n",
            "x1s                             135.364627\n",
            "y1s                              10.970443\n",
            "x2s                             135.693448\n",
            "y2s                              11.066547\n",
            "patch_name        560Mhz_1000h_16380_16731\n",
            "patch_xo                             16380\n",
            "patch_yo                             16731\n",
            "patch_dim                              205\n",
            "Name: 66, dtype: object\n",
            "67\n",
            "ID                                30436469\n",
            "RA (core)                         -0.03625\n",
            "DEC (core)                      -29.926567\n",
            "RA (centroid)                     -0.03625\n",
            "DEC (centroid)                  -29.926567\n",
            "FLUX                              0.000013\n",
            "Core frac                             -0.0\n",
            "BMAJ                                 0.453\n",
            "BMIN                                 0.111\n",
            "PA                                 -16.761\n",
            "SIZE                                     2\n",
            "CLASS                                    3\n",
            "SELECTION                                1\n",
            "x                                16570.172\n",
            "y                                 16820.47\n",
            "x1                            16569.812156\n",
            "y1                            16820.330071\n",
            "x2                            16570.531949\n",
            "y2                            16820.608782\n",
            "major_semia_px                    0.374845\n",
            "minor_semia_px                     0.09185\n",
            "pa_in_rad                        -0.292535\n",
            "width                             0.719793\n",
            "height                            0.278711\n",
            "x1s                             189.812156\n",
            "y1s                              89.330071\n",
            "x2s                             190.531949\n",
            "y2s                              89.608782\n",
            "patch_name        560Mhz_1000h_16380_16731\n",
            "patch_xo                             16380\n",
            "patch_yo                             16731\n",
            "patch_dim                              205\n",
            "Name: 67, dtype: object\n",
            "(205, 205)\n",
            "(1, 60, 12, 12)\n",
            "(1, 240, 12, 12)\n",
            "64\n",
            "(1, 12, 12, 60)\n",
            "(1, 12, 12, 240)\n",
            "(1, 205, 205, 1)\n"
          ]
        }
      ],
      "source": [
        "a,b,c = prep.calc_rpn(pdata, 205, 205, 205, 205)\n",
        "print(p.shape)\n",
        "print(a.shape)\n",
        "print(b.shape)\n",
        "print(c)\n",
        "\n",
        "a = np.transpose(a, (0, 2, 3, 1))\n",
        "print(a.shape)\n",
        "b = np.transpose(b, (0, 2, 3, 1))\n",
        "print(b.shape)\n",
        "\n",
        "p = np.expand_dims(p, axis=0)\n",
        "p = np.expand_dims(p, axis=3)\n",
        "\n",
        "print(p.shape)"
      ]
    },
    {
      "cell_type": "code",
      "execution_count": 12,
      "metadata": {},
      "outputs": [
        {
          "output_type": "stream",
          "name": "stdout",
          "text": [
            "(1, 12, 12, 30)\n",
            "(1, 12, 12, 120)\n",
            "(1, 12, 12, 30)\n",
            "(1, 12, 12, 120)\n",
            "['loss', 'rpn_loss', 'rpn_1_loss']\n"
          ]
        },
        {
          "output_type": "execute_result",
          "data": {
            "text/plain": [
              "[8.482470512390137, 7.498432159423828, 0.9840387105941772]"
            ]
          },
          "metadata": {},
          "execution_count": 12
        }
      ],
      "source": [
        "loss = rpn_model.train_on_batch(p, [a,b])\n",
        "print(rpn_model.metrics_names)\n",
        "loss"
      ]
    },
    {
      "cell_type": "code",
      "execution_count": 16,
      "metadata": {},
      "outputs": [
        {
          "output_type": "stream",
          "name": "stdout",
          "text": [
            "(1, 12, 12, 30)\n(1, 12, 12, 120)\n"
          ]
        }
      ],
      "source": [
        "y_cls, y_reg = rpn_model.predict(p)\n",
        "print(y_cls.shape)\n",
        "print(y_reg.shape)"
      ]
    },
    {
      "cell_type": "code",
      "execution_count": 31,
      "metadata": {},
      "outputs": [
        {
          "output_type": "stream",
          "name": "stdout",
          "text": [
            "rpn_layer=(1, 12, 12, 30)\nregr_layer=(1, 12, 12, 120)\nregr=(12, 12, 4)\nregr=(12, 12, 4)\nregr=(12, 12, 4)\nregr=(12, 12, 4)\nregr=(12, 12, 4)\nregr=(12, 12, 4)\nregr=(12, 12, 4)\nregr=(12, 12, 4)\nregr=(12, 12, 4)\nregr=(12, 12, 4)\nregr=(12, 12, 4)\nregr=(12, 12, 4)\nregr=(12, 12, 4)\nregr=(12, 12, 4)\nregr=(12, 12, 4)\nregr=(12, 12, 4)\nregr=(12, 12, 4)\nregr=(12, 12, 4)\nregr=(12, 12, 4)\nregr=(12, 12, 4)\nregr=(12, 12, 4)\nregr=(12, 12, 4)\nregr=(12, 12, 4)\nregr=(12, 12, 4)\nregr=(12, 12, 4)\nregr=(12, 12, 4)\nregr=(12, 12, 4)\nregr=(12, 12, 4)\nregr=(12, 12, 4)\nregr=(12, 12, 4)\n(4320, 4)\n(3920, 4)\n"
          ]
        },
        {
          "output_type": "execute_result",
          "data": {
            "text/plain": [
              "(300, 4)"
            ]
          },
          "metadata": {},
          "execution_count": 31
        }
      ],
      "source": [
        "roi = rpn_to_roi(y_cls, y_pred, config)\n",
        "roi.shape"
      ]
    },
    {
      "cell_type": "code",
      "execution_count": 33,
      "metadata": {},
      "outputs": [],
      "source": [
        "X, Y = np.meshgrid(np.arange(12),np.arange(12))"
      ]
    },
    {
      "source": [
        "TODO - 20210502:\n",
        "- X creare colonne per coordinate bbox nel sistema di riferimento della patch\n",
        "- X creare cartelle per patches con npy + pkl delle sue sole bbox\n",
        "- ragionare su dimensioni patch\n",
        "- X Caricare pesi VGG16 nel nuovo network\n",
        "- lanciare training\n",
        "\n",
        "TODO - 20210508:\n",
        "- zero centering patch by patch\n",
        "- troncamento rumore a 1e-6\n",
        "- portare branch o funzioni di data_clean in main\n",
        "- img augmentation -> augment()"
      ],
      "cell_type": "markdown",
      "metadata": {}
    },
    {
      "cell_type": "code",
      "execution_count": 38,
      "metadata": {},
      "outputs": [
        {
          "output_type": "execute_result",
          "data": {
            "text/plain": [
              "array([[-0.5,  0.5,  1.5,  2.5,  3.5,  4.5,  5.5,  6.5,  7.5,  8.5,  9.5,\n",
              "        10.5],\n",
              "       [-0.5,  0.5,  1.5,  2.5,  3.5,  4.5,  5.5,  6.5,  7.5,  8.5,  9.5,\n",
              "        10.5],\n",
              "       [-0.5,  0.5,  1.5,  2.5,  3.5,  4.5,  5.5,  6.5,  7.5,  8.5,  9.5,\n",
              "        10.5],\n",
              "       [-0.5,  0.5,  1.5,  2.5,  3.5,  4.5,  5.5,  6.5,  7.5,  8.5,  9.5,\n",
              "        10.5],\n",
              "       [-0.5,  0.5,  1.5,  2.5,  3.5,  4.5,  5.5,  6.5,  7.5,  8.5,  9.5,\n",
              "        10.5],\n",
              "       [-0.5,  0.5,  1.5,  2.5,  3.5,  4.5,  5.5,  6.5,  7.5,  8.5,  9.5,\n",
              "        10.5],\n",
              "       [-0.5,  0.5,  1.5,  2.5,  3.5,  4.5,  5.5,  6.5,  7.5,  8.5,  9.5,\n",
              "        10.5],\n",
              "       [-0.5,  0.5,  1.5,  2.5,  3.5,  4.5,  5.5,  6.5,  7.5,  8.5,  9.5,\n",
              "        10.5],\n",
              "       [-0.5,  0.5,  1.5,  2.5,  3.5,  4.5,  5.5,  6.5,  7.5,  8.5,  9.5,\n",
              "        10.5],\n",
              "       [-0.5,  0.5,  1.5,  2.5,  3.5,  4.5,  5.5,  6.5,  7.5,  8.5,  9.5,\n",
              "        10.5],\n",
              "       [-0.5,  0.5,  1.5,  2.5,  3.5,  4.5,  5.5,  6.5,  7.5,  8.5,  9.5,\n",
              "        10.5],\n",
              "       [-0.5,  0.5,  1.5,  2.5,  3.5,  4.5,  5.5,  6.5,  7.5,  8.5,  9.5,\n",
              "        10.5]])"
            ]
          },
          "metadata": {},
          "execution_count": 38
        }
      ],
      "source": [
        "X - .5"
      ]
    },
    {
      "cell_type": "code",
      "execution_count": 37,
      "metadata": {},
      "outputs": [
        {
          "output_type": "execute_result",
          "data": {
            "text/plain": [
              "array([1, 1, 1, 1, 1, 1, 1, 1, 1, 1, 1, 1])"
            ]
          },
          "metadata": {},
          "execution_count": 37
        }
      ],
      "source": [
        "Y[1]"
      ]
    },
    {
      "cell_type": "code",
      "execution_count": 182,
      "metadata": {},
      "outputs": [],
      "source": [
        "total_model.save_weights('./test.h5')"
      ]
    },
    {
      "cell_type": "code",
      "execution_count": 187,
      "metadata": {},
      "outputs": [],
      "source": [
        "rpn_model.load_weights('./test.h5', by_name=True)"
      ]
    },
    {
      "cell_type": "code",
      "execution_count": 181,
      "metadata": {
        "tags": []
      },
      "outputs": [],
      "source": [
        "# Check that all of the pretrained weights have been loaded.\n",
        "import numpy as np\n",
        "for i, j in zip(total_model.weights, rpn_model.weights):\n",
        "    # print(i)\n",
        "    # print(j)\n",
        "    assert np.allclose(i,j), 'Diversi!'"
      ]
    },
    {
      "source": [
        "TODO - 20210502:\n",
        "- ragionare su dimensioni patch\n",
        "- lanciare training\n",
        "\n",
        "TODO - 20210508:\n",
        "- zero centering patch by patch\n",
        "- troncamento rumore a 1e-6\n",
        "- portare branch o funzioni di data_clean in main\n",
        "- img augmentation -> augment()\n",
        "\n",
        "TODO - 202105016:\n",
        "- creare generator (Alice)\n",
        "- scrivere training loop + save/read pesi per colab + test loop (Lorenzo)\n",
        "- terminare preprocessing di ICRAR (primary beam correction, flux, eliminazione bbox in base a rapporto flusso)"
      ],
      "cell_type": "code",
      "metadata": {},
      "execution_count": 55,
      "outputs": [
        {
          "output_type": "stream",
          "name": "stdout",
          "text": [
            "[7.072257041931152, 6.065431118011475, 1.0068259239196777]\n"
          ]
        },
        {
          "output_type": "execute_result",
          "data": {
            "text/plain": [
              "(1, 12, 12, 60)"
            ]
          },
          "metadata": {},
          "execution_count": 55
        }
      ]
    },
    {
      "cell_type": "code",
      "execution_count": 108,
      "metadata": {},
      "outputs": [
        {
          "output_type": "stream",
          "name": "stdout",
          "text": [
            "[6.196948528289795, 5.195816516876221, 1.0011321306228638]\n",
            "[6.049266815185547, 5.049481391906738, 0.9997855424880981]\n"
          ]
        }
      ],
      "source": [
        "# Training loop\n",
        "\n",
        "for epoch in range(2):\n",
        "\n",
        "    # image, y_rpn_cls_true, y_rpn_reg_true = next(datagen)\n",
        "\n",
        "    loss = rpn_model.train_on_batch(p, [a, b])\n",
        "    y_rpn_reg_pred, y_rpn_cls_pred = rpn_model.predict(p)\n",
        "\n",
        "    print(loss)\n",
        "\n",
        "\n"
      ]
    },
    {
      "cell_type": "code",
      "execution_count": null,
      "metadata": {},
      "outputs": [],
      "source": [
        "#TODO: Provare YOLO -> forse meglio le efficientNet\n",
        "# Ablation study\n",
        "# Provare, a parità di frequenza, le esposizioni diverse come canali"
      ]
    },
    {
      "cell_type": "code",
      "execution_count": 1,
      "metadata": {},
      "outputs": [],
      "source": [
        "# from tensorflow.keras.applications import EfficientNetB0\n",
        "# model = EfficientNetB0(weights='imagenet')"
      ]
    }
  ]
}