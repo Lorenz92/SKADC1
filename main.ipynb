{
  "nbformat": 4,
  "nbformat_minor": 0,
  "metadata": {
    "language_info": {
      "codemirror_mode": {
        "name": "ipython",
        "version": 3
      },
      "file_extension": ".py",
      "mimetype": "text/x-python",
      "name": "python",
      "nbconvert_exporter": "python",
      "pygments_lexer": "ipython3",
      "version": "3.8.8"
    },
    "orig_nbformat": 2,
    "kernelspec": {
      "name": "python388jvsc74a57bd02d04b9be2429acaaca541b9fd5f04e1d13e142a6d8a3b01163614a22cbe6d5d6",
      "display_name": "Python 3.8.8 64-bit"
    },
    "colab": {
      "name": "main.ipynb",
      "provenance": []
    },
    "metadata": {
      "interpreter": {
        "hash": "2d04b9be2429acaaca541b9fd5f04e1d13e142a6d8a3b01163614a22cbe6d5d6"
      }
    }
  },
  "cells": [
    {
      "cell_type": "code",
      "metadata": {
        "id": "XkdmU4lMMVmI",
        "outputId": "7bfc2152-66c6-4d4d-f838-0e531b28a348",
        "colab": {
          "base_uri": "https://localhost:8080/"
        }
      },
      "source": [
        "!git clone 'https://github.com/Lorenz92/SKADC1.git'\n",
        "% cd SKADC1\n",
        "!echo $PWD"
      ],
      "execution_count": 12,
      "outputs": [
        {
          "output_type": "stream",
          "text": [
            "Cloning into 'SKADC1'...\n",
            "remote: Enumerating objects: 41, done.\u001b[K\n",
            "remote: Counting objects: 100% (41/41), done.\u001b[K\n",
            "remote: Compressing objects: 100% (33/33), done.\u001b[K\n",
            "remote: Total 41 (delta 17), reused 25 (delta 6), pack-reused 0\u001b[K\n",
            "Unpacking objects: 100% (41/41), done.\n"
          ],
          "name": "stdout"
        }
      ]
    },
    {
      "cell_type": "code",
      "metadata": {
        "id": "7WwOlsifF-5G",
        "outputId": "303002ab-c8c4-4807-caeb-ee1c590d4326",
        "colab": {
          "base_uri": "https://localhost:8080/"
        }
      },
      "source": [
        "import pandas as pd\n",
        "import numpy as np\n",
        "import requests\n",
        "import matplotlib.pyplot as plt\n",
        "import sys\n",
        "from astropy.io import fits\n",
        "import os\n",
        "import statistics\n",
        "\n",
        "import src.dataset as dataset\n",
        "import src.config as config\n",
        "from src.utils import *\n",
        "import src.preprocessing as prep\n",
        "import src.models as models\n",
        "\n",
        "# from src.config import * \n",
        "\n",
        "%load_ext autoreload\n",
        "%autoreload 2\n",
        "\n",
        "np.random.seed(config.RANDOM_SEED)"
      ],
      "execution_count": 71,
      "outputs": [
        {
          "output_type": "stream",
          "name": "stdout",
          "text": [
            "The autoreload extension is already loaded. To reload it, use:\n  %reload_ext autoreload\n"
          ]
        }
      ]
    },
    {
      "cell_type": "code",
      "metadata": {
        "id": "qHxrJ525F-5J",
        "outputId": "ee8e854b-65ce-486a-e9e3-c5752e45406c",
        "colab": {
          "base_uri": "https://localhost:8080/"
        }
      },
      "source": [
        "for download_info in config.required_files:\n",
        "    if not os.path.exists(os.path.join(config.TRAIN_DATA_FOLDER, download_info['file_name'])):\n",
        "        download_data(download_info['file_name'], download_info['url'], config.DOWNLOAD_FOLDER)"
      ],
      "execution_count": 7,
      "outputs": [
        {
          "output_type": "stream",
          "name": "stdout",
          "text": [
            "Downloading SKA 560Mhz_1000h.fits data...\n",
            "Download completed!\n",
            "Downloading SKA 9200Mhz_1000h.fits data...\n",
            "Download completed!\n"
          ]
        }
      ]
    },
    {
      "cell_type": "code",
      "metadata": {
        "tags": [],
        "id": "Q8IbYCwkF-5K",
        "outputId": "5cd8e5ba-49cd-49b4-d65c-65d82229f792",
        "colab": {
          "base_uri": "https://localhost:8080/",
          "height": 221
        }
      },
      "source": [
        "# Dataset parsing and loading\n",
        "# use \"subset\" to load a small portion of data for development/debugging purposes\n",
        "\n",
        "ska_dataset = dataset.SKADataset(train_set_path=config.TRAIN_SET_PATH, subset=config.DATA_SUBSET)\n",
        "print(ska_dataset.raw_train_df.shape)\n",
        "ska_dataset.raw_train_df.head()"
      ],
      "execution_count": 2,
      "outputs": [
        {
          "output_type": "stream",
          "name": "stdout",
          "text": [
            "(19222, 15)\n"
          ]
        },
        {
          "output_type": "execute_result",
          "data": {
            "text/plain": [
              "         ID  RA (core)  DEC (core)  RA (centroid)  DEC (centroid)      FLUX  \\\n",
              "0  24121695  -0.642227  -29.775242      -0.642316      -29.775211  0.000035   \n",
              "1  20167150  -0.390473  -29.867493      -0.390667      -29.868851  0.029555   \n",
              "2  20045120  -0.021411  -29.643486      -0.021359      -29.643561  0.000653   \n",
              "3  33938384  -0.316375  -29.697647      -0.316375      -29.697647  0.000017   \n",
              "4   7527248  -0.336528  -29.627335      -0.336527      -29.627338  0.000054   \n",
              "\n",
              "   Core frac     BMAJ    BMIN       PA  SIZE  CLASS  SELECTION          x  \\\n",
              "0   0.000000    5.600   5.551  328.554     1      1          1  19704.519   \n",
              "1   0.016924  107.110  43.263  191.258     1      1          1  18401.338   \n",
              "2   0.012185    5.037   3.525  276.587     1      1          1  16493.600   \n",
              "3   0.000000    0.847   0.266  346.641     2      1          1  18020.319   \n",
              "4   0.044763    3.343   1.515  279.006     1      1          1  18125.824   \n",
              "\n",
              "           y  \n",
              "0  17712.942  \n",
              "1  17160.919  \n",
              "2  18506.577  \n",
              "3  18182.095  \n",
              "4  18600.680  "
            ],
            "text/html": "<div>\n<style scoped>\n    .dataframe tbody tr th:only-of-type {\n        vertical-align: middle;\n    }\n\n    .dataframe tbody tr th {\n        vertical-align: top;\n    }\n\n    .dataframe thead th {\n        text-align: right;\n    }\n</style>\n<table border=\"1\" class=\"dataframe\">\n  <thead>\n    <tr style=\"text-align: right;\">\n      <th></th>\n      <th>ID</th>\n      <th>RA (core)</th>\n      <th>DEC (core)</th>\n      <th>RA (centroid)</th>\n      <th>DEC (centroid)</th>\n      <th>FLUX</th>\n      <th>Core frac</th>\n      <th>BMAJ</th>\n      <th>BMIN</th>\n      <th>PA</th>\n      <th>SIZE</th>\n      <th>CLASS</th>\n      <th>SELECTION</th>\n      <th>x</th>\n      <th>y</th>\n    </tr>\n  </thead>\n  <tbody>\n    <tr>\n      <th>0</th>\n      <td>24121695</td>\n      <td>-0.642227</td>\n      <td>-29.775242</td>\n      <td>-0.642316</td>\n      <td>-29.775211</td>\n      <td>0.000035</td>\n      <td>0.000000</td>\n      <td>5.600</td>\n      <td>5.551</td>\n      <td>328.554</td>\n      <td>1</td>\n      <td>1</td>\n      <td>1</td>\n      <td>19704.519</td>\n      <td>17712.942</td>\n    </tr>\n    <tr>\n      <th>1</th>\n      <td>20167150</td>\n      <td>-0.390473</td>\n      <td>-29.867493</td>\n      <td>-0.390667</td>\n      <td>-29.868851</td>\n      <td>0.029555</td>\n      <td>0.016924</td>\n      <td>107.110</td>\n      <td>43.263</td>\n      <td>191.258</td>\n      <td>1</td>\n      <td>1</td>\n      <td>1</td>\n      <td>18401.338</td>\n      <td>17160.919</td>\n    </tr>\n    <tr>\n      <th>2</th>\n      <td>20045120</td>\n      <td>-0.021411</td>\n      <td>-29.643486</td>\n      <td>-0.021359</td>\n      <td>-29.643561</td>\n      <td>0.000653</td>\n      <td>0.012185</td>\n      <td>5.037</td>\n      <td>3.525</td>\n      <td>276.587</td>\n      <td>1</td>\n      <td>1</td>\n      <td>1</td>\n      <td>16493.600</td>\n      <td>18506.577</td>\n    </tr>\n    <tr>\n      <th>3</th>\n      <td>33938384</td>\n      <td>-0.316375</td>\n      <td>-29.697647</td>\n      <td>-0.316375</td>\n      <td>-29.697647</td>\n      <td>0.000017</td>\n      <td>0.000000</td>\n      <td>0.847</td>\n      <td>0.266</td>\n      <td>346.641</td>\n      <td>2</td>\n      <td>1</td>\n      <td>1</td>\n      <td>18020.319</td>\n      <td>18182.095</td>\n    </tr>\n    <tr>\n      <th>4</th>\n      <td>7527248</td>\n      <td>-0.336528</td>\n      <td>-29.627335</td>\n      <td>-0.336527</td>\n      <td>-29.627338</td>\n      <td>0.000054</td>\n      <td>0.044763</td>\n      <td>3.343</td>\n      <td>1.515</td>\n      <td>279.006</td>\n      <td>1</td>\n      <td>1</td>\n      <td>1</td>\n      <td>18125.824</td>\n      <td>18600.680</td>\n    </tr>\n  </tbody>\n</table>\n</div>"
          },
          "metadata": {},
          "execution_count": 2
        }
      ]
    },
    {
      "cell_type": "code",
      "metadata": {
        "id": "fdok-EggF-5T",
        "outputId": "40c460e3-a600-4a3b-98a4-021a903c522e",
        "colab": {
          "base_uri": "https://localhost:8080/"
        }
      },
      "source": [
        "data_560Mhz_1000h_fits = fits.open('./data/training/560Mhz_1000h.fits')\n",
        "# data_560Mhz_1000h_fits.info()\n",
        "data_560Mhz_1000h_fits.filename()\n",
        "\n",
        "# print(data_560Mhz_1000h_fits[0].data)\n",
        "# print(data_560Mhz_1000h_fits[0].data.shape)\n",
        "\n",
        "data_560Mhz_1000h = data_560Mhz_1000h_fits[0].data[0,0]\n"
      ],
      "execution_count": 3,
      "outputs": [
        {
          "output_type": "stream",
          "name": "stderr",
          "text": [
            "WARNING: VerifyWarning: Invalid 'BLANK' keyword in header.  The 'BLANK' keyword is only applicable to integer data, and will be ignored in this HDU. [astropy.io.fits.hdu.image]\n"
          ]
        }
      ]
    },
    {
      "cell_type": "code",
      "metadata": {
        "id": "jdi1VFtOF-5V",
        "outputId": "0637233d-fadd-4c9f-b823-02ab6424866f"
      },
      "source": [
        "# Visualization test\n",
        "from astropy.io import fits\n",
        "from astropy.utils.data import download_file\n",
        "\n",
        "# image_file = download_file('https://owncloud.ia2.inaf.it/index.php/s/hbasFhd4YILNkCr/download', cache=True )\n",
        "\n",
        "# image_data = fits.getdata(image_file)\n",
        "# image_data = image_data.reshape(image_data.shape[2:])\n",
        "\n",
        "# compute per value to clip the image\n",
        "perc = 99.9\n",
        "percentileThresh = np.percentile(data_560Mhz_1000h, perc)\n",
        "print (f'{perc} percentile {percentileThresh}')\n",
        "\n",
        "# # crop the image to speed up computation and clip using per value\n",
        "# image_crop= image_data[5000:10000, 5000:10000]\n",
        "# image_crop.clip(max=percentileThresh)\n",
        "\n",
        "# plt.figure(figsize=(100, 100))\n",
        "# # plt.imshow(normalized_data, cmap='viridis', vmax=255, vmin=0)\n",
        "# for idx in range(25):\n",
        "#     plt.subplot(5, 5, idx+1)\n",
        "#     plt.axis('off')\n",
        "#     base = 200 * idx\n",
        "#     end = base + 200\n",
        "#     normalized_data = image_crop[base:end, base:end] * (1.0 / percentileThresh)\n",
        "#     plt.imshow(normalized_data, cmap='viridis', vmax=1, vmin=0)"
      ],
      "execution_count": 4,
      "outputs": [
        {
          "output_type": "stream",
          "name": "stdout",
          "text": [
            "99.9 percentile 8.316711500810925e-06\n"
          ]
        }
      ]
    },
    {
      "cell_type": "code",
      "execution_count": 22,
      "metadata": {},
      "outputs": [
        {
          "output_type": "stream",
          "name": "stdout",
          "text": [
            "8\n"
          ]
        }
      ],
      "source": [
        "a=np.array([[3, 6, 7],[0 ,5, 8]])\n",
        "print(a.max())"
      ]
    },
    {
      "cell_type": "markdown",
      "metadata": {
        "id": "UqSLm8sBF-5W"
      },
      "source": [
        "### Preprocessing"
      ]
    },
    {
      "cell_type": "code",
      "execution_count": 5,
      "metadata": {},
      "outputs": [],
      "source": [
        "coords = ska_dataset._convert_boxes_to_px_coord(ska_dataset.raw_train_df, data_560Mhz_1000h_fits[0].header)"
      ]
    },
    {
      "source": [
        "pd.DataFrame.from_dict(coords)"
      ],
      "cell_type": "code",
      "metadata": {
        "tags": []
      },
      "execution_count": 6,
      "outputs": [
        {
          "output_type": "execute_result",
          "data": {
            "text/plain": [
              "                 x1            y1            x2            y2  major_semia_px  \\\n",
              "0      19699.889820  17708.334874  19709.135520  17717.543623        4.633850   \n",
              "1      18314.128617  17121.775102  18488.540079  17200.059688       88.630651   \n",
              "2      16490.663037  18502.418816  16496.536575  18510.726749        4.167982   \n",
              "3      18019.631633  18181.823147  18020.999232  18182.360119        0.700870   \n",
              "4      18124.509296  18597.936034  18127.132703  18603.414392        2.766243   \n",
              "...             ...           ...           ...           ...             ...   \n",
              "19217  17592.572752  16742.936603  17593.009233  16743.428821        0.319405   \n",
              "19218  18658.822580  18666.464880  18659.100383  18666.968994        0.276376   \n",
              "19219  17523.170058  16995.697610  17523.352636  16995.761662        0.093504   \n",
              "19220  16950.523810  17747.923087  16950.979337  17748.452311        0.264791   \n",
              "19221  18166.845099  19812.685038  18167.336911  19813.128832        0.248242   \n",
              "\n",
              "       minor_semia_px  pa_in_rad       width     height  \n",
              "0            4.593304   5.734349    9.245699   9.208748  \n",
              "1           35.798972   3.338082  174.411463  78.284586  \n",
              "2            2.916843   4.827354    5.873538   8.307933  \n",
              "3            0.220108   6.050027    1.367598   0.536972  \n",
              "4            1.253622   4.869573    2.623407   5.478358  \n",
              "...               ...        ...         ...        ...  \n",
              "19217        0.078610   0.853117    0.436482   0.492218  \n",
              "19218        0.080265   1.127797    0.277803   0.504113  \n",
              "19219        0.024824  -0.226387    0.182578   0.064053  \n",
              "19220        0.227555  -1.498732    0.455528   0.529224  \n",
              "19221        0.219280  -0.296287    0.491812   0.443793  \n",
              "\n",
              "[19222 rows x 9 columns]"
            ],
            "text/html": "<div>\n<style scoped>\n    .dataframe tbody tr th:only-of-type {\n        vertical-align: middle;\n    }\n\n    .dataframe tbody tr th {\n        vertical-align: top;\n    }\n\n    .dataframe thead th {\n        text-align: right;\n    }\n</style>\n<table border=\"1\" class=\"dataframe\">\n  <thead>\n    <tr style=\"text-align: right;\">\n      <th></th>\n      <th>x1</th>\n      <th>y1</th>\n      <th>x2</th>\n      <th>y2</th>\n      <th>major_semia_px</th>\n      <th>minor_semia_px</th>\n      <th>pa_in_rad</th>\n      <th>width</th>\n      <th>height</th>\n    </tr>\n  </thead>\n  <tbody>\n    <tr>\n      <th>0</th>\n      <td>19699.889820</td>\n      <td>17708.334874</td>\n      <td>19709.135520</td>\n      <td>17717.543623</td>\n      <td>4.633850</td>\n      <td>4.593304</td>\n      <td>5.734349</td>\n      <td>9.245699</td>\n      <td>9.208748</td>\n    </tr>\n    <tr>\n      <th>1</th>\n      <td>18314.128617</td>\n      <td>17121.775102</td>\n      <td>18488.540079</td>\n      <td>17200.059688</td>\n      <td>88.630651</td>\n      <td>35.798972</td>\n      <td>3.338082</td>\n      <td>174.411463</td>\n      <td>78.284586</td>\n    </tr>\n    <tr>\n      <th>2</th>\n      <td>16490.663037</td>\n      <td>18502.418816</td>\n      <td>16496.536575</td>\n      <td>18510.726749</td>\n      <td>4.167982</td>\n      <td>2.916843</td>\n      <td>4.827354</td>\n      <td>5.873538</td>\n      <td>8.307933</td>\n    </tr>\n    <tr>\n      <th>3</th>\n      <td>18019.631633</td>\n      <td>18181.823147</td>\n      <td>18020.999232</td>\n      <td>18182.360119</td>\n      <td>0.700870</td>\n      <td>0.220108</td>\n      <td>6.050027</td>\n      <td>1.367598</td>\n      <td>0.536972</td>\n    </tr>\n    <tr>\n      <th>4</th>\n      <td>18124.509296</td>\n      <td>18597.936034</td>\n      <td>18127.132703</td>\n      <td>18603.414392</td>\n      <td>2.766243</td>\n      <td>1.253622</td>\n      <td>4.869573</td>\n      <td>2.623407</td>\n      <td>5.478358</td>\n    </tr>\n    <tr>\n      <th>...</th>\n      <td>...</td>\n      <td>...</td>\n      <td>...</td>\n      <td>...</td>\n      <td>...</td>\n      <td>...</td>\n      <td>...</td>\n      <td>...</td>\n      <td>...</td>\n    </tr>\n    <tr>\n      <th>19217</th>\n      <td>17592.572752</td>\n      <td>16742.936603</td>\n      <td>17593.009233</td>\n      <td>16743.428821</td>\n      <td>0.319405</td>\n      <td>0.078610</td>\n      <td>0.853117</td>\n      <td>0.436482</td>\n      <td>0.492218</td>\n    </tr>\n    <tr>\n      <th>19218</th>\n      <td>18658.822580</td>\n      <td>18666.464880</td>\n      <td>18659.100383</td>\n      <td>18666.968994</td>\n      <td>0.276376</td>\n      <td>0.080265</td>\n      <td>1.127797</td>\n      <td>0.277803</td>\n      <td>0.504113</td>\n    </tr>\n    <tr>\n      <th>19219</th>\n      <td>17523.170058</td>\n      <td>16995.697610</td>\n      <td>17523.352636</td>\n      <td>16995.761662</td>\n      <td>0.093504</td>\n      <td>0.024824</td>\n      <td>-0.226387</td>\n      <td>0.182578</td>\n      <td>0.064053</td>\n    </tr>\n    <tr>\n      <th>19220</th>\n      <td>16950.523810</td>\n      <td>17747.923087</td>\n      <td>16950.979337</td>\n      <td>17748.452311</td>\n      <td>0.264791</td>\n      <td>0.227555</td>\n      <td>-1.498732</td>\n      <td>0.455528</td>\n      <td>0.529224</td>\n    </tr>\n    <tr>\n      <th>19221</th>\n      <td>18166.845099</td>\n      <td>19812.685038</td>\n      <td>18167.336911</td>\n      <td>19813.128832</td>\n      <td>0.248242</td>\n      <td>0.219280</td>\n      <td>-0.296287</td>\n      <td>0.491812</td>\n      <td>0.443793</td>\n    </tr>\n  </tbody>\n</table>\n<p>19222 rows × 9 columns</p>\n</div>"
          },
          "metadata": {},
          "execution_count": 6
        }
      ]
    },
    {
      "cell_type": "code",
      "execution_count": 7,
      "metadata": {},
      "outputs": [
        {
          "output_type": "execute_result",
          "data": {
            "text/plain": [
              "         ID  RA (core)  DEC (core)  RA (centroid)  DEC (centroid)      FLUX  \\\n",
              "0  24121695  -0.642227  -29.775242      -0.642316      -29.775211  0.000035   \n",
              "1  20167150  -0.390473  -29.867493      -0.390667      -29.868851  0.029555   \n",
              "2  20045120  -0.021411  -29.643486      -0.021359      -29.643561  0.000653   \n",
              "3  33938384  -0.316375  -29.697647      -0.316375      -29.697647  0.000017   \n",
              "4   7527248  -0.336528  -29.627335      -0.336527      -29.627338  0.000054   \n",
              "\n",
              "   Core frac     BMAJ    BMIN       PA  ...          y            x1  \\\n",
              "0   0.000000    5.600   5.551  328.554  ...  17712.942  19699.889820   \n",
              "1   0.016924  107.110  43.263  191.258  ...  17160.919  18314.128617   \n",
              "2   0.012185    5.037   3.525  276.587  ...  18506.577  16490.663037   \n",
              "3   0.000000    0.847   0.266  346.641  ...  18182.095  18019.631633   \n",
              "4   0.044763    3.343   1.515  279.006  ...  18600.680  18124.509296   \n",
              "\n",
              "             y1            x2            y2  major_semia_px  minor_semia_px  \\\n",
              "0  17708.334874  19709.135520  17717.543623        4.633850        4.593304   \n",
              "1  17121.775102  18488.540079  17200.059688       88.630651       35.798972   \n",
              "2  18502.418816  16496.536575  18510.726749        4.167982        2.916843   \n",
              "3  18181.823147  18020.999232  18182.360119        0.700870        0.220108   \n",
              "4  18597.936034  18127.132703  18603.414392        2.766243        1.253622   \n",
              "\n",
              "   pa_in_rad       width     height  \n",
              "0   5.734349    9.245699   9.208748  \n",
              "1   3.338082  174.411463  78.284586  \n",
              "2   4.827354    5.873538   8.307933  \n",
              "3   6.050027    1.367598   0.536972  \n",
              "4   4.869573    2.623407   5.478358  \n",
              "\n",
              "[5 rows x 24 columns]"
            ],
            "text/html": "<div>\n<style scoped>\n    .dataframe tbody tr th:only-of-type {\n        vertical-align: middle;\n    }\n\n    .dataframe tbody tr th {\n        vertical-align: top;\n    }\n\n    .dataframe thead th {\n        text-align: right;\n    }\n</style>\n<table border=\"1\" class=\"dataframe\">\n  <thead>\n    <tr style=\"text-align: right;\">\n      <th></th>\n      <th>ID</th>\n      <th>RA (core)</th>\n      <th>DEC (core)</th>\n      <th>RA (centroid)</th>\n      <th>DEC (centroid)</th>\n      <th>FLUX</th>\n      <th>Core frac</th>\n      <th>BMAJ</th>\n      <th>BMIN</th>\n      <th>PA</th>\n      <th>...</th>\n      <th>y</th>\n      <th>x1</th>\n      <th>y1</th>\n      <th>x2</th>\n      <th>y2</th>\n      <th>major_semia_px</th>\n      <th>minor_semia_px</th>\n      <th>pa_in_rad</th>\n      <th>width</th>\n      <th>height</th>\n    </tr>\n  </thead>\n  <tbody>\n    <tr>\n      <th>0</th>\n      <td>24121695</td>\n      <td>-0.642227</td>\n      <td>-29.775242</td>\n      <td>-0.642316</td>\n      <td>-29.775211</td>\n      <td>0.000035</td>\n      <td>0.000000</td>\n      <td>5.600</td>\n      <td>5.551</td>\n      <td>328.554</td>\n      <td>...</td>\n      <td>17712.942</td>\n      <td>19699.889820</td>\n      <td>17708.334874</td>\n      <td>19709.135520</td>\n      <td>17717.543623</td>\n      <td>4.633850</td>\n      <td>4.593304</td>\n      <td>5.734349</td>\n      <td>9.245699</td>\n      <td>9.208748</td>\n    </tr>\n    <tr>\n      <th>1</th>\n      <td>20167150</td>\n      <td>-0.390473</td>\n      <td>-29.867493</td>\n      <td>-0.390667</td>\n      <td>-29.868851</td>\n      <td>0.029555</td>\n      <td>0.016924</td>\n      <td>107.110</td>\n      <td>43.263</td>\n      <td>191.258</td>\n      <td>...</td>\n      <td>17160.919</td>\n      <td>18314.128617</td>\n      <td>17121.775102</td>\n      <td>18488.540079</td>\n      <td>17200.059688</td>\n      <td>88.630651</td>\n      <td>35.798972</td>\n      <td>3.338082</td>\n      <td>174.411463</td>\n      <td>78.284586</td>\n    </tr>\n    <tr>\n      <th>2</th>\n      <td>20045120</td>\n      <td>-0.021411</td>\n      <td>-29.643486</td>\n      <td>-0.021359</td>\n      <td>-29.643561</td>\n      <td>0.000653</td>\n      <td>0.012185</td>\n      <td>5.037</td>\n      <td>3.525</td>\n      <td>276.587</td>\n      <td>...</td>\n      <td>18506.577</td>\n      <td>16490.663037</td>\n      <td>18502.418816</td>\n      <td>16496.536575</td>\n      <td>18510.726749</td>\n      <td>4.167982</td>\n      <td>2.916843</td>\n      <td>4.827354</td>\n      <td>5.873538</td>\n      <td>8.307933</td>\n    </tr>\n    <tr>\n      <th>3</th>\n      <td>33938384</td>\n      <td>-0.316375</td>\n      <td>-29.697647</td>\n      <td>-0.316375</td>\n      <td>-29.697647</td>\n      <td>0.000017</td>\n      <td>0.000000</td>\n      <td>0.847</td>\n      <td>0.266</td>\n      <td>346.641</td>\n      <td>...</td>\n      <td>18182.095</td>\n      <td>18019.631633</td>\n      <td>18181.823147</td>\n      <td>18020.999232</td>\n      <td>18182.360119</td>\n      <td>0.700870</td>\n      <td>0.220108</td>\n      <td>6.050027</td>\n      <td>1.367598</td>\n      <td>0.536972</td>\n    </tr>\n    <tr>\n      <th>4</th>\n      <td>7527248</td>\n      <td>-0.336528</td>\n      <td>-29.627335</td>\n      <td>-0.336527</td>\n      <td>-29.627338</td>\n      <td>0.000054</td>\n      <td>0.044763</td>\n      <td>3.343</td>\n      <td>1.515</td>\n      <td>279.006</td>\n      <td>...</td>\n      <td>18600.680</td>\n      <td>18124.509296</td>\n      <td>18597.936034</td>\n      <td>18127.132703</td>\n      <td>18603.414392</td>\n      <td>2.766243</td>\n      <td>1.253622</td>\n      <td>4.869573</td>\n      <td>2.623407</td>\n      <td>5.478358</td>\n    </tr>\n  </tbody>\n</table>\n<p>5 rows × 24 columns</p>\n</div>"
          },
          "metadata": {},
          "execution_count": 7
        }
      ],
      "source": [
        "df_train = ska_dataset._extend_dataframe(ska_dataset.raw_train_df, coords)\n",
        "df_train.head()"
      ]
    },
    {
      "cell_type": "code",
      "execution_count": 8,
      "metadata": {},
      "outputs": [
        {
          "output_type": "execute_result",
          "data": {
            "text/plain": [
              "(3187, 3491)"
            ]
          },
          "metadata": {},
          "execution_count": 8
        }
      ],
      "source": [
        "x1_min = int(np.floor(min(df_train['x1'])))\n",
        "y1_min = int(np.floor(min(df_train['y1'])))\n",
        "\n",
        "x2_max = int(np.floor(max(df_train['x2'])))\n",
        "y2_max = int(np.floor(max(df_train['y2'])))\n",
        "\n",
        "data_560Mhz_1000h_train = data_560Mhz_1000h[y1_min:y2_max, x1_min:x2_max]\n",
        "data_560Mhz_1000h_train.shape\n"
      ]
    },
    {
      "cell_type": "code",
      "execution_count": 9,
      "metadata": {},
      "outputs": [
        {
          "output_type": "execute_result",
          "data": {
            "text/plain": [
              "(array([1.704e+03, 4.870e+02, 2.400e+02, 1.060e+02, 2.700e+01, 2.100e+01,\n",
              "        1.500e+01, 8.000e+00, 6.000e+00, 2.000e+00, 5.000e+00, 5.000e+00,\n",
              "        3.000e+00, 3.000e+00, 3.000e+00, 1.000e+00, 0.000e+00, 0.000e+00,\n",
              "        1.000e+00, 1.000e+00, 0.000e+00, 1.000e+00, 2.000e+00, 3.000e+00,\n",
              "        2.000e+00, 0.000e+00, 2.000e+00, 1.000e+00, 0.000e+00, 0.000e+00,\n",
              "        0.000e+00, 0.000e+00, 0.000e+00, 0.000e+00, 0.000e+00, 0.000e+00,\n",
              "        0.000e+00, 0.000e+00, 0.000e+00, 0.000e+00]),\n",
              " array([1.0000e-04, 2.4750e-04, 3.9500e-04, 5.4250e-04, 6.9000e-04,\n",
              "        8.3750e-04, 9.8500e-04, 1.1325e-03, 1.2800e-03, 1.4275e-03,\n",
              "        1.5750e-03, 1.7225e-03, 1.8700e-03, 2.0175e-03, 2.1650e-03,\n",
              "        2.3125e-03, 2.4600e-03, 2.6075e-03, 2.7550e-03, 2.9025e-03,\n",
              "        3.0500e-03, 3.1975e-03, 3.3450e-03, 3.4925e-03, 3.6400e-03,\n",
              "        3.7875e-03, 3.9350e-03, 4.0825e-03, 4.2300e-03, 4.3775e-03,\n",
              "        4.5250e-03, 4.6725e-03, 4.8200e-03, 4.9675e-03, 5.1150e-03,\n",
              "        5.2625e-03, 5.4100e-03, 5.5575e-03, 5.7050e-03, 5.8525e-03,\n",
              "        6.0000e-03], dtype=float32),\n",
              " <BarContainer object of 40 artists>)"
            ]
          },
          "metadata": {},
          "execution_count": 9
        },
        {
          "output_type": "display_data",
          "data": {
            "text/plain": "<Figure size 432x288 with 1 Axes>",
            "image/svg+xml": "<?xml version=\"1.0\" encoding=\"utf-8\" standalone=\"no\"?>\r\n<!DOCTYPE svg PUBLIC \"-//W3C//DTD SVG 1.1//EN\"\r\n  \"http://www.w3.org/Graphics/SVG/1.1/DTD/svg11.dtd\">\r\n<svg height=\"248.518125pt\" version=\"1.1\" viewBox=\"0 0 381.65 248.518125\" width=\"381.65pt\" xmlns=\"http://www.w3.org/2000/svg\" xmlns:xlink=\"http://www.w3.org/1999/xlink\">\r\n <metadata>\r\n  <rdf:RDF xmlns:cc=\"http://creativecommons.org/ns#\" xmlns:dc=\"http://purl.org/dc/elements/1.1/\" xmlns:rdf=\"http://www.w3.org/1999/02/22-rdf-syntax-ns#\">\r\n   <cc:Work>\r\n    <dc:type rdf:resource=\"http://purl.org/dc/dcmitype/StillImage\"/>\r\n    <dc:date>2021-05-22T15:56:45.049260</dc:date>\r\n    <dc:format>image/svg+xml</dc:format>\r\n    <dc:creator>\r\n     <cc:Agent>\r\n      <dc:title>Matplotlib v3.4.1, https://matplotlib.org/</dc:title>\r\n     </cc:Agent>\r\n    </dc:creator>\r\n   </cc:Work>\r\n  </rdf:RDF>\r\n </metadata>\r\n <defs>\r\n  <style type=\"text/css\">*{stroke-linecap:butt;stroke-linejoin:round;}</style>\r\n </defs>\r\n <g id=\"figure_1\">\r\n  <g id=\"patch_1\">\r\n   <path d=\"M -0 248.518125 \r\nL 381.65 248.518125 \r\nL 381.65 0 \r\nL -0 0 \r\nz\r\n\" style=\"fill:none;\"/>\r\n  </g>\r\n  <g id=\"axes_1\">\r\n   <g id=\"patch_2\">\r\n    <path d=\"M 39.65 224.64 \r\nL 374.45 224.64 \r\nL 374.45 7.2 \r\nL 39.65 7.2 \r\nz\r\n\" style=\"fill:#ffffff;\"/>\r\n   </g>\r\n   <g id=\"patch_3\">\r\n    <path clip-path=\"url(#p835452bd3e)\" d=\"M 54.868182 224.64 \r\nL 62.477271 224.64 \r\nL 62.477271 17.554286 \r\nL 54.868182 17.554286 \r\nz\r\n\" style=\"fill:#1f77b4;\"/>\r\n   </g>\r\n   <g id=\"patch_4\">\r\n    <path clip-path=\"url(#p835452bd3e)\" d=\"M 62.477273 224.64 \r\nL 70.086364 224.64 \r\nL 70.086364 165.455292 \r\nL 62.477273 165.455292 \r\nz\r\n\" style=\"fill:#1f77b4;\"/>\r\n   </g>\r\n   <g id=\"patch_5\">\r\n    <path clip-path=\"url(#p835452bd3e)\" d=\"M 70.086366 224.64 \r\nL 77.695458 224.64 \r\nL 77.695458 195.472998 \r\nL 70.086366 195.472998 \r\nz\r\n\" style=\"fill:#1f77b4;\"/>\r\n   </g>\r\n   <g id=\"patch_6\">\r\n    <path clip-path=\"url(#p835452bd3e)\" d=\"M 77.695452 224.64 \r\nL 85.304543 224.64 \r\nL 85.304543 211.757907 \r\nL 77.695452 211.757907 \r\nz\r\n\" style=\"fill:#1f77b4;\"/>\r\n   </g>\r\n   <g id=\"patch_7\">\r\n    <path clip-path=\"url(#p835452bd3e)\" d=\"M 85.304546 224.64 \r\nL 92.913635 224.64 \r\nL 92.913635 221.358712 \r\nL 85.304546 221.358712 \r\nz\r\n\" style=\"fill:#1f77b4;\"/>\r\n   </g>\r\n   <g id=\"patch_8\">\r\n    <path clip-path=\"url(#p835452bd3e)\" d=\"M 92.913635 224.64 \r\nL 100.52273 224.64 \r\nL 100.52273 222.087887 \r\nL 92.913635 222.087887 \r\nz\r\n\" style=\"fill:#1f77b4;\"/>\r\n   </g>\r\n   <g id=\"patch_9\">\r\n    <path clip-path=\"url(#p835452bd3e)\" d=\"M 100.52273 224.64 \r\nL 108.131819 224.64 \r\nL 108.131819 222.817062 \r\nL 100.52273 222.817062 \r\nz\r\n\" style=\"fill:#1f77b4;\"/>\r\n   </g>\r\n   <g id=\"patch_10\">\r\n    <path clip-path=\"url(#p835452bd3e)\" d=\"M 108.131813 224.64 \r\nL 115.740901 224.64 \r\nL 115.740901 223.667767 \r\nL 108.131813 223.667767 \r\nz\r\n\" style=\"fill:#1f77b4;\"/>\r\n   </g>\r\n   <g id=\"patch_11\">\r\n    <path clip-path=\"url(#p835452bd3e)\" d=\"M 115.740907 224.64 \r\nL 123.350002 224.64 \r\nL 123.350002 223.910825 \r\nL 115.740907 223.910825 \r\nz\r\n\" style=\"fill:#1f77b4;\"/>\r\n   </g>\r\n   <g id=\"patch_12\">\r\n    <path clip-path=\"url(#p835452bd3e)\" d=\"M 123.350002 224.64 \r\nL 130.959091 224.64 \r\nL 130.959091 224.396942 \r\nL 123.350002 224.396942 \r\nz\r\n\" style=\"fill:#1f77b4;\"/>\r\n   </g>\r\n   <g id=\"patch_13\">\r\n    <path clip-path=\"url(#p835452bd3e)\" d=\"M 130.959085 224.64 \r\nL 138.568173 224.64 \r\nL 138.568173 224.032354 \r\nL 130.959085 224.032354 \r\nz\r\n\" style=\"fill:#1f77b4;\"/>\r\n   </g>\r\n   <g id=\"patch_14\">\r\n    <path clip-path=\"url(#p835452bd3e)\" d=\"M 138.568179 224.64 \r\nL 146.177274 224.64 \r\nL 146.177274 224.032354 \r\nL 138.568179 224.032354 \r\nz\r\n\" style=\"fill:#1f77b4;\"/>\r\n   </g>\r\n   <g id=\"patch_15\">\r\n    <path clip-path=\"url(#p835452bd3e)\" d=\"M 146.177274 224.64 \r\nL 153.786369 224.64 \r\nL 153.786369 224.275412 \r\nL 146.177274 224.275412 \r\nz\r\n\" style=\"fill:#1f77b4;\"/>\r\n   </g>\r\n   <g id=\"patch_16\">\r\n    <path clip-path=\"url(#p835452bd3e)\" d=\"M 153.786357 224.64 \r\nL 161.39544 224.64 \r\nL 161.39544 224.275412 \r\nL 153.786357 224.275412 \r\nz\r\n\" style=\"fill:#1f77b4;\"/>\r\n   </g>\r\n   <g id=\"patch_17\">\r\n    <path clip-path=\"url(#p835452bd3e)\" d=\"M 161.395452 224.64 \r\nL 169.004546 224.64 \r\nL 169.004546 224.275412 \r\nL 161.395452 224.275412 \r\nz\r\n\" style=\"fill:#1f77b4;\"/>\r\n   </g>\r\n   <g id=\"patch_18\">\r\n    <path clip-path=\"url(#p835452bd3e)\" d=\"M 169.004546 224.64 \r\nL 176.613641 224.64 \r\nL 176.613641 224.518471 \r\nL 169.004546 224.518471 \r\nz\r\n\" style=\"fill:#1f77b4;\"/>\r\n   </g>\r\n   <g id=\"patch_19\">\r\n    <path clip-path=\"url(#p835452bd3e)\" d=\"M 176.613641 224.64 \r\nL 184.222724 224.64 \r\nL 184.222724 224.64 \r\nL 176.613641 224.64 \r\nz\r\n\" style=\"fill:#1f77b4;\"/>\r\n   </g>\r\n   <g id=\"patch_20\">\r\n    <path clip-path=\"url(#p835452bd3e)\" d=\"M 184.222724 224.64 \r\nL 191.831818 224.64 \r\nL 191.831818 224.64 \r\nL 184.222724 224.64 \r\nz\r\n\" style=\"fill:#1f77b4;\"/>\r\n   </g>\r\n   <g id=\"patch_21\">\r\n    <path clip-path=\"url(#p835452bd3e)\" d=\"M 191.831818 224.64 \r\nL 199.440913 224.64 \r\nL 199.440913 224.518471 \r\nL 191.831818 224.518471 \r\nz\r\n\" style=\"fill:#1f77b4;\"/>\r\n   </g>\r\n   <g id=\"patch_22\">\r\n    <path clip-path=\"url(#p835452bd3e)\" d=\"M 199.440901 224.64 \r\nL 207.049984 224.64 \r\nL 207.049984 224.518471 \r\nL 199.440901 224.518471 \r\nz\r\n\" style=\"fill:#1f77b4;\"/>\r\n   </g>\r\n   <g id=\"patch_23\">\r\n    <path clip-path=\"url(#p835452bd3e)\" d=\"M 207.049996 224.64 \r\nL 214.659091 224.64 \r\nL 214.659091 224.64 \r\nL 207.049996 224.64 \r\nz\r\n\" style=\"fill:#1f77b4;\"/>\r\n   </g>\r\n   <g id=\"patch_24\">\r\n    <path clip-path=\"url(#p835452bd3e)\" d=\"M 214.659091 224.64 \r\nL 222.268185 224.64 \r\nL 222.268185 224.518471 \r\nL 214.659091 224.518471 \r\nz\r\n\" style=\"fill:#1f77b4;\"/>\r\n   </g>\r\n   <g id=\"patch_25\">\r\n    <path clip-path=\"url(#p835452bd3e)\" d=\"M 222.268185 224.64 \r\nL 229.877268 224.64 \r\nL 229.877268 224.396942 \r\nL 222.268185 224.396942 \r\nz\r\n\" style=\"fill:#1f77b4;\"/>\r\n   </g>\r\n   <g id=\"patch_26\">\r\n    <path clip-path=\"url(#p835452bd3e)\" d=\"M 229.877268 224.64 \r\nL 237.486363 224.64 \r\nL 237.486363 224.275412 \r\nL 229.877268 224.275412 \r\nz\r\n\" style=\"fill:#1f77b4;\"/>\r\n   </g>\r\n   <g id=\"patch_27\">\r\n    <path clip-path=\"url(#p835452bd3e)\" d=\"M 237.486363 224.64 \r\nL 245.095457 224.64 \r\nL 245.095457 224.396942 \r\nL 237.486363 224.396942 \r\nz\r\n\" style=\"fill:#1f77b4;\"/>\r\n   </g>\r\n   <g id=\"patch_28\">\r\n    <path clip-path=\"url(#p835452bd3e)\" d=\"M 245.095445 224.64 \r\nL 252.70454 224.64 \r\nL 252.70454 224.64 \r\nL 245.095445 224.64 \r\nz\r\n\" style=\"fill:#1f77b4;\"/>\r\n   </g>\r\n   <g id=\"patch_29\">\r\n    <path clip-path=\"url(#p835452bd3e)\" d=\"M 252.70454 224.64 \r\nL 260.313635 224.64 \r\nL 260.313635 224.396942 \r\nL 252.70454 224.396942 \r\nz\r\n\" style=\"fill:#1f77b4;\"/>\r\n   </g>\r\n   <g id=\"patch_30\">\r\n    <path clip-path=\"url(#p835452bd3e)\" d=\"M 260.313635 224.64 \r\nL 267.92273 224.64 \r\nL 267.92273 224.518471 \r\nL 260.313635 224.518471 \r\nz\r\n\" style=\"fill:#1f77b4;\"/>\r\n   </g>\r\n   <g id=\"patch_31\">\r\n    <path clip-path=\"url(#p835452bd3e)\" d=\"M 267.92273 224.64 \r\nL 275.531824 224.64 \r\nL 275.531824 224.64 \r\nL 267.92273 224.64 \r\nz\r\n\" style=\"fill:#1f77b4;\"/>\r\n   </g>\r\n   <g id=\"patch_32\">\r\n    <path clip-path=\"url(#p835452bd3e)\" d=\"M 275.531824 224.64 \r\nL 283.140919 224.64 \r\nL 283.140919 224.64 \r\nL 275.531824 224.64 \r\nz\r\n\" style=\"fill:#1f77b4;\"/>\r\n   </g>\r\n   <g id=\"patch_33\">\r\n    <path clip-path=\"url(#p835452bd3e)\" d=\"M 283.140919 224.64 \r\nL 290.74999 224.64 \r\nL 290.74999 224.64 \r\nL 283.140919 224.64 \r\nz\r\n\" style=\"fill:#1f77b4;\"/>\r\n   </g>\r\n   <g id=\"patch_34\">\r\n    <path clip-path=\"url(#p835452bd3e)\" d=\"M 290.74999 224.64 \r\nL 298.359084 224.64 \r\nL 298.359084 224.64 \r\nL 290.74999 224.64 \r\nz\r\n\" style=\"fill:#1f77b4;\"/>\r\n   </g>\r\n   <g id=\"patch_35\">\r\n    <path clip-path=\"url(#p835452bd3e)\" d=\"M 298.359084 224.64 \r\nL 305.968179 224.64 \r\nL 305.968179 224.64 \r\nL 298.359084 224.64 \r\nz\r\n\" style=\"fill:#1f77b4;\"/>\r\n   </g>\r\n   <g id=\"patch_36\">\r\n    <path clip-path=\"url(#p835452bd3e)\" d=\"M 305.968179 224.64 \r\nL 313.577274 224.64 \r\nL 313.577274 224.64 \r\nL 305.968179 224.64 \r\nz\r\n\" style=\"fill:#1f77b4;\"/>\r\n   </g>\r\n   <g id=\"patch_37\">\r\n    <path clip-path=\"url(#p835452bd3e)\" d=\"M 313.577274 224.64 \r\nL 321.186369 224.64 \r\nL 321.186369 224.64 \r\nL 313.577274 224.64 \r\nz\r\n\" style=\"fill:#1f77b4;\"/>\r\n   </g>\r\n   <g id=\"patch_38\">\r\n    <path clip-path=\"url(#p835452bd3e)\" d=\"M 321.186369 224.64 \r\nL 328.795463 224.64 \r\nL 328.795463 224.64 \r\nL 321.186369 224.64 \r\nz\r\n\" style=\"fill:#1f77b4;\"/>\r\n   </g>\r\n   <g id=\"patch_39\">\r\n    <path clip-path=\"url(#p835452bd3e)\" d=\"M 328.795487 224.64 \r\nL 336.404558 224.64 \r\nL 336.404558 224.64 \r\nL 328.795487 224.64 \r\nz\r\n\" style=\"fill:#1f77b4;\"/>\r\n   </g>\r\n   <g id=\"patch_40\">\r\n    <path clip-path=\"url(#p835452bd3e)\" d=\"M 336.404534 224.64 \r\nL 344.013629 224.64 \r\nL 344.013629 224.64 \r\nL 336.404534 224.64 \r\nz\r\n\" style=\"fill:#1f77b4;\"/>\r\n   </g>\r\n   <g id=\"patch_41\">\r\n    <path clip-path=\"url(#p835452bd3e)\" d=\"M 344.013629 224.64 \r\nL 351.622723 224.64 \r\nL 351.622723 224.64 \r\nL 344.013629 224.64 \r\nz\r\n\" style=\"fill:#1f77b4;\"/>\r\n   </g>\r\n   <g id=\"patch_42\">\r\n    <path clip-path=\"url(#p835452bd3e)\" d=\"M 351.622723 224.64 \r\nL 359.231818 224.64 \r\nL 359.231818 224.64 \r\nL 351.622723 224.64 \r\nz\r\n\" style=\"fill:#1f77b4;\"/>\r\n   </g>\r\n   <g id=\"matplotlib.axis_1\">\r\n    <g id=\"xtick_1\">\r\n     <g id=\"line2d_1\">\r\n      <defs>\r\n       <path d=\"M 0 0 \r\nL 0 3.5 \r\n\" id=\"m1903ca2a98\" style=\"stroke:#000000;stroke-width:0.8;\"/>\r\n      </defs>\r\n      <g>\r\n       <use style=\"stroke:#000000;stroke-width:0.8;\" x=\"49.709477\" xlink:href=\"#m1903ca2a98\" y=\"224.64\"/>\r\n      </g>\r\n     </g>\r\n     <g id=\"text_1\">\r\n      <!-- 0.000 -->\r\n      <g transform=\"translate(35.395414 239.238437)scale(0.1 -0.1)\">\r\n       <defs>\r\n        <path d=\"M 2034 4250 \r\nQ 1547 4250 1301 3770 \r\nQ 1056 3291 1056 2328 \r\nQ 1056 1369 1301 889 \r\nQ 1547 409 2034 409 \r\nQ 2525 409 2770 889 \r\nQ 3016 1369 3016 2328 \r\nQ 3016 3291 2770 3770 \r\nQ 2525 4250 2034 4250 \r\nz\r\nM 2034 4750 \r\nQ 2819 4750 3233 4129 \r\nQ 3647 3509 3647 2328 \r\nQ 3647 1150 3233 529 \r\nQ 2819 -91 2034 -91 \r\nQ 1250 -91 836 529 \r\nQ 422 1150 422 2328 \r\nQ 422 3509 836 4129 \r\nQ 1250 4750 2034 4750 \r\nz\r\n\" id=\"DejaVuSans-30\" transform=\"scale(0.015625)\"/>\r\n        <path d=\"M 684 794 \r\nL 1344 794 \r\nL 1344 0 \r\nL 684 0 \r\nL 684 794 \r\nz\r\n\" id=\"DejaVuSans-2e\" transform=\"scale(0.015625)\"/>\r\n       </defs>\r\n       <use xlink:href=\"#DejaVuSans-30\"/>\r\n       <use x=\"63.623047\" xlink:href=\"#DejaVuSans-2e\"/>\r\n       <use x=\"95.410156\" xlink:href=\"#DejaVuSans-30\"/>\r\n       <use x=\"159.033203\" xlink:href=\"#DejaVuSans-30\"/>\r\n       <use x=\"222.65625\" xlink:href=\"#DejaVuSans-30\"/>\r\n      </g>\r\n     </g>\r\n    </g>\r\n    <g id=\"xtick_2\">\r\n     <g id=\"line2d_2\">\r\n      <g>\r\n       <use style=\"stroke:#000000;stroke-width:0.8;\" x=\"101.296533\" xlink:href=\"#m1903ca2a98\" y=\"224.64\"/>\r\n      </g>\r\n     </g>\r\n     <g id=\"text_2\">\r\n      <!-- 0.001 -->\r\n      <g transform=\"translate(86.982471 239.238437)scale(0.1 -0.1)\">\r\n       <defs>\r\n        <path d=\"M 794 531 \r\nL 1825 531 \r\nL 1825 4091 \r\nL 703 3866 \r\nL 703 4441 \r\nL 1819 4666 \r\nL 2450 4666 \r\nL 2450 531 \r\nL 3481 531 \r\nL 3481 0 \r\nL 794 0 \r\nL 794 531 \r\nz\r\n\" id=\"DejaVuSans-31\" transform=\"scale(0.015625)\"/>\r\n       </defs>\r\n       <use xlink:href=\"#DejaVuSans-30\"/>\r\n       <use x=\"63.623047\" xlink:href=\"#DejaVuSans-2e\"/>\r\n       <use x=\"95.410156\" xlink:href=\"#DejaVuSans-30\"/>\r\n       <use x=\"159.033203\" xlink:href=\"#DejaVuSans-30\"/>\r\n       <use x=\"222.65625\" xlink:href=\"#DejaVuSans-31\"/>\r\n      </g>\r\n     </g>\r\n    </g>\r\n    <g id=\"xtick_3\">\r\n     <g id=\"line2d_3\">\r\n      <g>\r\n       <use style=\"stroke:#000000;stroke-width:0.8;\" x=\"152.88359\" xlink:href=\"#m1903ca2a98\" y=\"224.64\"/>\r\n      </g>\r\n     </g>\r\n     <g id=\"text_3\">\r\n      <!-- 0.002 -->\r\n      <g transform=\"translate(138.569527 239.238437)scale(0.1 -0.1)\">\r\n       <defs>\r\n        <path d=\"M 1228 531 \r\nL 3431 531 \r\nL 3431 0 \r\nL 469 0 \r\nL 469 531 \r\nQ 828 903 1448 1529 \r\nQ 2069 2156 2228 2338 \r\nQ 2531 2678 2651 2914 \r\nQ 2772 3150 2772 3378 \r\nQ 2772 3750 2511 3984 \r\nQ 2250 4219 1831 4219 \r\nQ 1534 4219 1204 4116 \r\nQ 875 4013 500 3803 \r\nL 500 4441 \r\nQ 881 4594 1212 4672 \r\nQ 1544 4750 1819 4750 \r\nQ 2544 4750 2975 4387 \r\nQ 3406 4025 3406 3419 \r\nQ 3406 3131 3298 2873 \r\nQ 3191 2616 2906 2266 \r\nQ 2828 2175 2409 1742 \r\nQ 1991 1309 1228 531 \r\nz\r\n\" id=\"DejaVuSans-32\" transform=\"scale(0.015625)\"/>\r\n       </defs>\r\n       <use xlink:href=\"#DejaVuSans-30\"/>\r\n       <use x=\"63.623047\" xlink:href=\"#DejaVuSans-2e\"/>\r\n       <use x=\"95.410156\" xlink:href=\"#DejaVuSans-30\"/>\r\n       <use x=\"159.033203\" xlink:href=\"#DejaVuSans-30\"/>\r\n       <use x=\"222.65625\" xlink:href=\"#DejaVuSans-32\"/>\r\n      </g>\r\n     </g>\r\n    </g>\r\n    <g id=\"xtick_4\">\r\n     <g id=\"line2d_4\">\r\n      <g>\r\n       <use style=\"stroke:#000000;stroke-width:0.8;\" x=\"204.470646\" xlink:href=\"#m1903ca2a98\" y=\"224.64\"/>\r\n      </g>\r\n     </g>\r\n     <g id=\"text_4\">\r\n      <!-- 0.003 -->\r\n      <g transform=\"translate(190.156584 239.238437)scale(0.1 -0.1)\">\r\n       <defs>\r\n        <path d=\"M 2597 2516 \r\nQ 3050 2419 3304 2112 \r\nQ 3559 1806 3559 1356 \r\nQ 3559 666 3084 287 \r\nQ 2609 -91 1734 -91 \r\nQ 1441 -91 1130 -33 \r\nQ 819 25 488 141 \r\nL 488 750 \r\nQ 750 597 1062 519 \r\nQ 1375 441 1716 441 \r\nQ 2309 441 2620 675 \r\nQ 2931 909 2931 1356 \r\nQ 2931 1769 2642 2001 \r\nQ 2353 2234 1838 2234 \r\nL 1294 2234 \r\nL 1294 2753 \r\nL 1863 2753 \r\nQ 2328 2753 2575 2939 \r\nQ 2822 3125 2822 3475 \r\nQ 2822 3834 2567 4026 \r\nQ 2313 4219 1838 4219 \r\nQ 1578 4219 1281 4162 \r\nQ 984 4106 628 3988 \r\nL 628 4550 \r\nQ 988 4650 1302 4700 \r\nQ 1616 4750 1894 4750 \r\nQ 2613 4750 3031 4423 \r\nQ 3450 4097 3450 3541 \r\nQ 3450 3153 3228 2886 \r\nQ 3006 2619 2597 2516 \r\nz\r\n\" id=\"DejaVuSans-33\" transform=\"scale(0.015625)\"/>\r\n       </defs>\r\n       <use xlink:href=\"#DejaVuSans-30\"/>\r\n       <use x=\"63.623047\" xlink:href=\"#DejaVuSans-2e\"/>\r\n       <use x=\"95.410156\" xlink:href=\"#DejaVuSans-30\"/>\r\n       <use x=\"159.033203\" xlink:href=\"#DejaVuSans-30\"/>\r\n       <use x=\"222.65625\" xlink:href=\"#DejaVuSans-33\"/>\r\n      </g>\r\n     </g>\r\n    </g>\r\n    <g id=\"xtick_5\">\r\n     <g id=\"line2d_5\">\r\n      <g>\r\n       <use style=\"stroke:#000000;stroke-width:0.8;\" x=\"256.057703\" xlink:href=\"#m1903ca2a98\" y=\"224.64\"/>\r\n      </g>\r\n     </g>\r\n     <g id=\"text_5\">\r\n      <!-- 0.004 -->\r\n      <g transform=\"translate(241.74364 239.238437)scale(0.1 -0.1)\">\r\n       <defs>\r\n        <path d=\"M 2419 4116 \r\nL 825 1625 \r\nL 2419 1625 \r\nL 2419 4116 \r\nz\r\nM 2253 4666 \r\nL 3047 4666 \r\nL 3047 1625 \r\nL 3713 1625 \r\nL 3713 1100 \r\nL 3047 1100 \r\nL 3047 0 \r\nL 2419 0 \r\nL 2419 1100 \r\nL 313 1100 \r\nL 313 1709 \r\nL 2253 4666 \r\nz\r\n\" id=\"DejaVuSans-34\" transform=\"scale(0.015625)\"/>\r\n       </defs>\r\n       <use xlink:href=\"#DejaVuSans-30\"/>\r\n       <use x=\"63.623047\" xlink:href=\"#DejaVuSans-2e\"/>\r\n       <use x=\"95.410156\" xlink:href=\"#DejaVuSans-30\"/>\r\n       <use x=\"159.033203\" xlink:href=\"#DejaVuSans-30\"/>\r\n       <use x=\"222.65625\" xlink:href=\"#DejaVuSans-34\"/>\r\n      </g>\r\n     </g>\r\n    </g>\r\n    <g id=\"xtick_6\">\r\n     <g id=\"line2d_6\">\r\n      <g>\r\n       <use style=\"stroke:#000000;stroke-width:0.8;\" x=\"307.644759\" xlink:href=\"#m1903ca2a98\" y=\"224.64\"/>\r\n      </g>\r\n     </g>\r\n     <g id=\"text_6\">\r\n      <!-- 0.005 -->\r\n      <g transform=\"translate(293.330697 239.238437)scale(0.1 -0.1)\">\r\n       <defs>\r\n        <path d=\"M 691 4666 \r\nL 3169 4666 \r\nL 3169 4134 \r\nL 1269 4134 \r\nL 1269 2991 \r\nQ 1406 3038 1543 3061 \r\nQ 1681 3084 1819 3084 \r\nQ 2600 3084 3056 2656 \r\nQ 3513 2228 3513 1497 \r\nQ 3513 744 3044 326 \r\nQ 2575 -91 1722 -91 \r\nQ 1428 -91 1123 -41 \r\nQ 819 9 494 109 \r\nL 494 744 \r\nQ 775 591 1075 516 \r\nQ 1375 441 1709 441 \r\nQ 2250 441 2565 725 \r\nQ 2881 1009 2881 1497 \r\nQ 2881 1984 2565 2268 \r\nQ 2250 2553 1709 2553 \r\nQ 1456 2553 1204 2497 \r\nQ 953 2441 691 2322 \r\nL 691 4666 \r\nz\r\n\" id=\"DejaVuSans-35\" transform=\"scale(0.015625)\"/>\r\n       </defs>\r\n       <use xlink:href=\"#DejaVuSans-30\"/>\r\n       <use x=\"63.623047\" xlink:href=\"#DejaVuSans-2e\"/>\r\n       <use x=\"95.410156\" xlink:href=\"#DejaVuSans-30\"/>\r\n       <use x=\"159.033203\" xlink:href=\"#DejaVuSans-30\"/>\r\n       <use x=\"222.65625\" xlink:href=\"#DejaVuSans-35\"/>\r\n      </g>\r\n     </g>\r\n    </g>\r\n    <g id=\"xtick_7\">\r\n     <g id=\"line2d_7\">\r\n      <g>\r\n       <use style=\"stroke:#000000;stroke-width:0.8;\" x=\"359.231815\" xlink:href=\"#m1903ca2a98\" y=\"224.64\"/>\r\n      </g>\r\n     </g>\r\n     <g id=\"text_7\">\r\n      <!-- 0.006 -->\r\n      <g transform=\"translate(344.917753 239.238437)scale(0.1 -0.1)\">\r\n       <defs>\r\n        <path d=\"M 2113 2584 \r\nQ 1688 2584 1439 2293 \r\nQ 1191 2003 1191 1497 \r\nQ 1191 994 1439 701 \r\nQ 1688 409 2113 409 \r\nQ 2538 409 2786 701 \r\nQ 3034 994 3034 1497 \r\nQ 3034 2003 2786 2293 \r\nQ 2538 2584 2113 2584 \r\nz\r\nM 3366 4563 \r\nL 3366 3988 \r\nQ 3128 4100 2886 4159 \r\nQ 2644 4219 2406 4219 \r\nQ 1781 4219 1451 3797 \r\nQ 1122 3375 1075 2522 \r\nQ 1259 2794 1537 2939 \r\nQ 1816 3084 2150 3084 \r\nQ 2853 3084 3261 2657 \r\nQ 3669 2231 3669 1497 \r\nQ 3669 778 3244 343 \r\nQ 2819 -91 2113 -91 \r\nQ 1303 -91 875 529 \r\nQ 447 1150 447 2328 \r\nQ 447 3434 972 4092 \r\nQ 1497 4750 2381 4750 \r\nQ 2619 4750 2861 4703 \r\nQ 3103 4656 3366 4563 \r\nz\r\n\" id=\"DejaVuSans-36\" transform=\"scale(0.015625)\"/>\r\n       </defs>\r\n       <use xlink:href=\"#DejaVuSans-30\"/>\r\n       <use x=\"63.623047\" xlink:href=\"#DejaVuSans-2e\"/>\r\n       <use x=\"95.410156\" xlink:href=\"#DejaVuSans-30\"/>\r\n       <use x=\"159.033203\" xlink:href=\"#DejaVuSans-30\"/>\r\n       <use x=\"222.65625\" xlink:href=\"#DejaVuSans-36\"/>\r\n      </g>\r\n     </g>\r\n    </g>\r\n   </g>\r\n   <g id=\"matplotlib.axis_2\">\r\n    <g id=\"ytick_1\">\r\n     <g id=\"line2d_8\">\r\n      <defs>\r\n       <path d=\"M 0 0 \r\nL -3.5 0 \r\n\" id=\"m59e8bfa791\" style=\"stroke:#000000;stroke-width:0.8;\"/>\r\n      </defs>\r\n      <g>\r\n       <use style=\"stroke:#000000;stroke-width:0.8;\" x=\"39.65\" xlink:href=\"#m59e8bfa791\" y=\"224.64\"/>\r\n      </g>\r\n     </g>\r\n     <g id=\"text_8\">\r\n      <!-- 0 -->\r\n      <g transform=\"translate(26.2875 228.439219)scale(0.1 -0.1)\">\r\n       <use xlink:href=\"#DejaVuSans-30\"/>\r\n      </g>\r\n     </g>\r\n    </g>\r\n    <g id=\"ytick_2\">\r\n     <g id=\"line2d_9\">\r\n      <g>\r\n       <use style=\"stroke:#000000;stroke-width:0.8;\" x=\"39.65\" xlink:href=\"#m59e8bfa791\" y=\"200.334165\"/>\r\n      </g>\r\n     </g>\r\n     <g id=\"text_9\">\r\n      <!-- 200 -->\r\n      <g transform=\"translate(13.5625 204.133384)scale(0.1 -0.1)\">\r\n       <use xlink:href=\"#DejaVuSans-32\"/>\r\n       <use x=\"63.623047\" xlink:href=\"#DejaVuSans-30\"/>\r\n       <use x=\"127.246094\" xlink:href=\"#DejaVuSans-30\"/>\r\n      </g>\r\n     </g>\r\n    </g>\r\n    <g id=\"ytick_3\">\r\n     <g id=\"line2d_10\">\r\n      <g>\r\n       <use style=\"stroke:#000000;stroke-width:0.8;\" x=\"39.65\" xlink:href=\"#m59e8bfa791\" y=\"176.02833\"/>\r\n      </g>\r\n     </g>\r\n     <g id=\"text_10\">\r\n      <!-- 400 -->\r\n      <g transform=\"translate(13.5625 179.827549)scale(0.1 -0.1)\">\r\n       <use xlink:href=\"#DejaVuSans-34\"/>\r\n       <use x=\"63.623047\" xlink:href=\"#DejaVuSans-30\"/>\r\n       <use x=\"127.246094\" xlink:href=\"#DejaVuSans-30\"/>\r\n      </g>\r\n     </g>\r\n    </g>\r\n    <g id=\"ytick_4\">\r\n     <g id=\"line2d_11\">\r\n      <g>\r\n       <use style=\"stroke:#000000;stroke-width:0.8;\" x=\"39.65\" xlink:href=\"#m59e8bfa791\" y=\"151.722495\"/>\r\n      </g>\r\n     </g>\r\n     <g id=\"text_11\">\r\n      <!-- 600 -->\r\n      <g transform=\"translate(13.5625 155.521714)scale(0.1 -0.1)\">\r\n       <use xlink:href=\"#DejaVuSans-36\"/>\r\n       <use x=\"63.623047\" xlink:href=\"#DejaVuSans-30\"/>\r\n       <use x=\"127.246094\" xlink:href=\"#DejaVuSans-30\"/>\r\n      </g>\r\n     </g>\r\n    </g>\r\n    <g id=\"ytick_5\">\r\n     <g id=\"line2d_12\">\r\n      <g>\r\n       <use style=\"stroke:#000000;stroke-width:0.8;\" x=\"39.65\" xlink:href=\"#m59e8bfa791\" y=\"127.41666\"/>\r\n      </g>\r\n     </g>\r\n     <g id=\"text_12\">\r\n      <!-- 800 -->\r\n      <g transform=\"translate(13.5625 131.215879)scale(0.1 -0.1)\">\r\n       <defs>\r\n        <path d=\"M 2034 2216 \r\nQ 1584 2216 1326 1975 \r\nQ 1069 1734 1069 1313 \r\nQ 1069 891 1326 650 \r\nQ 1584 409 2034 409 \r\nQ 2484 409 2743 651 \r\nQ 3003 894 3003 1313 \r\nQ 3003 1734 2745 1975 \r\nQ 2488 2216 2034 2216 \r\nz\r\nM 1403 2484 \r\nQ 997 2584 770 2862 \r\nQ 544 3141 544 3541 \r\nQ 544 4100 942 4425 \r\nQ 1341 4750 2034 4750 \r\nQ 2731 4750 3128 4425 \r\nQ 3525 4100 3525 3541 \r\nQ 3525 3141 3298 2862 \r\nQ 3072 2584 2669 2484 \r\nQ 3125 2378 3379 2068 \r\nQ 3634 1759 3634 1313 \r\nQ 3634 634 3220 271 \r\nQ 2806 -91 2034 -91 \r\nQ 1263 -91 848 271 \r\nQ 434 634 434 1313 \r\nQ 434 1759 690 2068 \r\nQ 947 2378 1403 2484 \r\nz\r\nM 1172 3481 \r\nQ 1172 3119 1398 2916 \r\nQ 1625 2713 2034 2713 \r\nQ 2441 2713 2670 2916 \r\nQ 2900 3119 2900 3481 \r\nQ 2900 3844 2670 4047 \r\nQ 2441 4250 2034 4250 \r\nQ 1625 4250 1398 4047 \r\nQ 1172 3844 1172 3481 \r\nz\r\n\" id=\"DejaVuSans-38\" transform=\"scale(0.015625)\"/>\r\n       </defs>\r\n       <use xlink:href=\"#DejaVuSans-38\"/>\r\n       <use x=\"63.623047\" xlink:href=\"#DejaVuSans-30\"/>\r\n       <use x=\"127.246094\" xlink:href=\"#DejaVuSans-30\"/>\r\n      </g>\r\n     </g>\r\n    </g>\r\n    <g id=\"ytick_6\">\r\n     <g id=\"line2d_13\">\r\n      <g>\r\n       <use style=\"stroke:#000000;stroke-width:0.8;\" x=\"39.65\" xlink:href=\"#m59e8bfa791\" y=\"103.110825\"/>\r\n      </g>\r\n     </g>\r\n     <g id=\"text_13\">\r\n      <!-- 1000 -->\r\n      <g transform=\"translate(7.2 106.910044)scale(0.1 -0.1)\">\r\n       <use xlink:href=\"#DejaVuSans-31\"/>\r\n       <use x=\"63.623047\" xlink:href=\"#DejaVuSans-30\"/>\r\n       <use x=\"127.246094\" xlink:href=\"#DejaVuSans-30\"/>\r\n       <use x=\"190.869141\" xlink:href=\"#DejaVuSans-30\"/>\r\n      </g>\r\n     </g>\r\n    </g>\r\n    <g id=\"ytick_7\">\r\n     <g id=\"line2d_14\">\r\n      <g>\r\n       <use style=\"stroke:#000000;stroke-width:0.8;\" x=\"39.65\" xlink:href=\"#m59e8bfa791\" y=\"78.80499\"/>\r\n      </g>\r\n     </g>\r\n     <g id=\"text_14\">\r\n      <!-- 1200 -->\r\n      <g transform=\"translate(7.2 82.604209)scale(0.1 -0.1)\">\r\n       <use xlink:href=\"#DejaVuSans-31\"/>\r\n       <use x=\"63.623047\" xlink:href=\"#DejaVuSans-32\"/>\r\n       <use x=\"127.246094\" xlink:href=\"#DejaVuSans-30\"/>\r\n       <use x=\"190.869141\" xlink:href=\"#DejaVuSans-30\"/>\r\n      </g>\r\n     </g>\r\n    </g>\r\n    <g id=\"ytick_8\">\r\n     <g id=\"line2d_15\">\r\n      <g>\r\n       <use style=\"stroke:#000000;stroke-width:0.8;\" x=\"39.65\" xlink:href=\"#m59e8bfa791\" y=\"54.499155\"/>\r\n      </g>\r\n     </g>\r\n     <g id=\"text_15\">\r\n      <!-- 1400 -->\r\n      <g transform=\"translate(7.2 58.298374)scale(0.1 -0.1)\">\r\n       <use xlink:href=\"#DejaVuSans-31\"/>\r\n       <use x=\"63.623047\" xlink:href=\"#DejaVuSans-34\"/>\r\n       <use x=\"127.246094\" xlink:href=\"#DejaVuSans-30\"/>\r\n       <use x=\"190.869141\" xlink:href=\"#DejaVuSans-30\"/>\r\n      </g>\r\n     </g>\r\n    </g>\r\n    <g id=\"ytick_9\">\r\n     <g id=\"line2d_16\">\r\n      <g>\r\n       <use style=\"stroke:#000000;stroke-width:0.8;\" x=\"39.65\" xlink:href=\"#m59e8bfa791\" y=\"30.19332\"/>\r\n      </g>\r\n     </g>\r\n     <g id=\"text_16\">\r\n      <!-- 1600 -->\r\n      <g transform=\"translate(7.2 33.992539)scale(0.1 -0.1)\">\r\n       <use xlink:href=\"#DejaVuSans-31\"/>\r\n       <use x=\"63.623047\" xlink:href=\"#DejaVuSans-36\"/>\r\n       <use x=\"127.246094\" xlink:href=\"#DejaVuSans-30\"/>\r\n       <use x=\"190.869141\" xlink:href=\"#DejaVuSans-30\"/>\r\n      </g>\r\n     </g>\r\n    </g>\r\n   </g>\r\n   <g id=\"patch_43\">\r\n    <path d=\"M 39.65 224.64 \r\nL 39.65 7.2 \r\n\" style=\"fill:none;stroke:#000000;stroke-linecap:square;stroke-linejoin:miter;stroke-width:0.8;\"/>\r\n   </g>\r\n   <g id=\"patch_44\">\r\n    <path d=\"M 374.45 224.64 \r\nL 374.45 7.2 \r\n\" style=\"fill:none;stroke:#000000;stroke-linecap:square;stroke-linejoin:miter;stroke-width:0.8;\"/>\r\n   </g>\r\n   <g id=\"patch_45\">\r\n    <path d=\"M 39.65 224.64 \r\nL 374.45 224.64 \r\n\" style=\"fill:none;stroke:#000000;stroke-linecap:square;stroke-linejoin:miter;stroke-width:0.8;\"/>\r\n   </g>\r\n   <g id=\"patch_46\">\r\n    <path d=\"M 39.65 7.2 \r\nL 374.45 7.2 \r\n\" style=\"fill:none;stroke:#000000;stroke-linecap:square;stroke-linejoin:miter;stroke-width:0.8;\"/>\r\n   </g>\r\n  </g>\r\n </g>\r\n <defs>\r\n  <clipPath id=\"p835452bd3e\">\r\n   <rect height=\"217.44\" width=\"334.8\" x=\"39.65\" y=\"7.2\"/>\r\n  </clipPath>\r\n </defs>\r\n</svg>\r\n",
            "image/png": "[encoded data removed]"
          },
          "metadata": {
            "needs_background": "light"
          }
        }
      ],
      "source": [
        "# histogram of noise (- noise, + noise)\n",
        "# we know that negative values are due to noise, and we assume a gaussian noise distribution\n",
        "\n",
        "data_flat = data_560Mhz_1000h_train.flatten()\n",
        "min_val = min(data_flat)\n",
        "plt.hist(data_flat, bins = 40, range = (0.0001, 0.006))#abs(min_val)))"
      ]
    },
    {
      "cell_type": "code",
      "execution_count": 10,
      "metadata": {},
      "outputs": [
        {
          "output_type": "stream",
          "name": "stdout",
          "text": [
            "0.48094657\n",
            "3.8131893e-07\n",
            "0.006585681\n",
            "0.0\n"
          ]
        }
      ],
      "source": [
        "fits_max_data_560Mhz_1000h = np.max(data_560Mhz_1000h)\n",
        "print(fits_max_data_560Mhz_1000h)\n",
        "\n",
        "data_560Mhz_1000h_train_clipped = np.clip(data_560Mhz_1000h_train, a_min=0, a_max=fits_max_data_560Mhz_1000h)\n",
        "\n",
        "# NB the computation of the mean val must be after the noise removal\n",
        "data_flat = data_560Mhz_1000h_train_clipped.flatten()\n",
        "mean_GLval = statistics.mean(data_flat)\n",
        "max_GLval = max(data_flat)\n",
        "min_GLval = min(data_flat)\n",
        "print(mean_GLval)\n",
        "print(max_GLval)\n",
        "print(min_GLval)"
      ]
    },
    {
      "cell_type": "code",
      "execution_count": 11,
      "metadata": {},
      "outputs": [
        {
          "output_type": "execute_result",
          "data": {
            "text/plain": [
              "array([[0.0000000e+00, 5.0277004e-07, 8.1352823e-07, ..., 0.0000000e+00,\n",
              "        0.0000000e+00, 0.0000000e+00],\n",
              "       [0.0000000e+00, 4.7234460e-07, 7.5504875e-07, ..., 0.0000000e+00,\n",
              "        0.0000000e+00, 1.5155882e-07],\n",
              "       [0.0000000e+00, 0.0000000e+00, 4.7753889e-07, ..., 0.0000000e+00,\n",
              "        0.0000000e+00, 0.0000000e+00],\n",
              "       ...,\n",
              "       [0.0000000e+00, 3.2216460e-07, 2.1111914e-07, ..., 0.0000000e+00,\n",
              "        0.0000000e+00, 0.0000000e+00],\n",
              "       [0.0000000e+00, 0.0000000e+00, 0.0000000e+00, ..., 0.0000000e+00,\n",
              "        0.0000000e+00, 0.0000000e+00],\n",
              "       [0.0000000e+00, 0.0000000e+00, 0.0000000e+00, ..., 0.0000000e+00,\n",
              "        4.3899996e-07, 6.1143220e-07]], dtype=float32)"
            ]
          },
          "metadata": {},
          "execution_count": 11
        }
      ],
      "source": [
        "data_560Mhz_1000h_train_clipped"
      ]
    },
    {
      "cell_type": "code",
      "metadata": {
        "id": "Ug10Ku-OF-5Y",
        "outputId": "c3b6bed6-24a7-4f71-cbed-c4b6b8d934af",
        "tags": []
      },
      "source": [
        "patches={}\n",
        "patches = ska_dataset._split_in_patch(data_560Mhz_1000h_train_clipped, df_train, data_560Mhz_1000h_fits.filename(), x1_min, y1_min, 205) # Remember to remove internal return"
      ],
      "execution_count": 14,
      "outputs": [
        {
          "output_type": "stream",
          "name": "stdout",
          "text": [
            "image saved\nIndex(['ID', 'RA (core)', 'DEC (core)', 'RA (centroid)', 'DEC (centroid)',\n       'FLUX', 'Core frac', 'BMAJ', 'BMIN', 'PA', 'SIZE', 'CLASS', 'SELECTION',\n       'x', 'y', 'x1', 'y1', 'x2', 'y2', 'major_semia_px', 'minor_semia_px',\n       'pa_in_rad', 'width', 'height', 'x1s', 'y1s', 'x2s', 'y2s',\n       'patch_name', 'patch_xo', 'patch_yo', 'patch_dim'],\n      dtype='object')\n         ID  RA (core)  DEC (core)  RA (centroid)  DEC (centroid)      FLUX  \\\n0  27514971  -0.014459  -29.933004      -0.014121      -29.932705  0.039324   \n1  15252327  -0.039005  -29.915081      -0.039002      -29.915081  0.000010   \n2  13302538  -0.005224  -29.939449      -0.005224      -29.939449  0.000017   \n3  30994188  -0.035645  -29.910868      -0.035645      -29.910868  0.000934   \n4  29158240  -0.002566  -29.917469      -0.002566      -29.917469  0.000036   \n\n   Core frac    BMAJ    BMIN       PA  ...      width     height         x1s  \\\n0   0.004216  31.508  17.616  353.308  ...  51.900100  29.585640   49.960356   \n1   0.013472   2.167   2.159  134.347  ...   3.579504   3.579806  202.619101   \n2   0.861438   0.076   0.076  259.451  ...   0.125776   0.125776   29.907046   \n3  -0.000000   7.350   6.634  -82.418  ...  11.000635  12.144215  181.576576   \n4  -0.000000   1.474   0.443   -7.448  ...   2.420676   0.792750   15.038055   \n\n          y1s         x2s         y2s                patch_name  patch_xo  \\\n0   38.133503  101.860456   67.719143  560Mhz_1000h_16380_16731     16380   \n1  156.105382  205.000000  159.685188  560Mhz_1000h_16380_16731     16380   \n2   12.685744   30.032822   12.811519  560Mhz_1000h_16380_16731     16380   \n3  176.932133  192.577211  189.076348  560Mhz_1000h_16380_16731     16380   \n4  143.306941   17.458730  144.099692  560Mhz_1000h_16380_16731     16380   \n\n   patch_yo  patch_dim  \n0     16731        205  \n1     16731        205  \n2     16731        205  \n3     16731        205  \n4     16731        205  \n\n[5 rows x 32 columns]\n"
          ]
        }
      ]
    },
    {
      "cell_type": "code",
      "execution_count": 15,
      "metadata": {},
      "outputs": [
        {
          "output_type": "stream",
          "name": "stdout",
          "text": [
            "[[0.0000000e+00 5.0277004e-07 8.1352823e-07 ... 2.1992520e-07\n  3.3757752e-07 8.9618879e-08]\n [0.0000000e+00 4.7234460e-07 7.5504875e-07 ... 0.0000000e+00\n  2.7678368e-08 3.8842813e-08]\n [0.0000000e+00 0.0000000e+00 4.7753889e-07 ... 0.0000000e+00\n  0.0000000e+00 0.0000000e+00]\n ...\n [1.6627402e-07 2.2166087e-07 0.0000000e+00 ... 0.0000000e+00\n  0.0000000e+00 0.0000000e+00]\n [1.3635220e-07 2.9386493e-07 0.0000000e+00 ... 0.0000000e+00\n  0.0000000e+00 0.0000000e+00]\n [0.0000000e+00 0.0000000e+00 0.0000000e+00 ... 0.0000000e+00\n  0.0000000e+00 0.0000000e+00]]\n          ID  RA (core)  DEC (core)  RA (centroid)  DEC (centroid)      FLUX  \\\n0   27514971  -0.014459  -29.933004      -0.014121      -29.932705  0.039324   \n1   15252327  -0.039005  -29.915081      -0.039002      -29.915081  0.000010   \n2   13302538  -0.005224  -29.939449      -0.005224      -29.939449  0.000017   \n3   30994188  -0.035645  -29.910868      -0.035645      -29.910868  0.000934   \n4   29158240  -0.002566  -29.917469      -0.002566      -29.917469  0.000036   \n..       ...        ...         ...            ...             ...       ...   \n63   9005660  -0.022509  -29.931404      -0.022509      -29.931404  0.000013   \n64  35737787  -0.000497  -29.911371      -0.000497      -29.911371  0.000028   \n65  31108334  -0.006430  -29.913763      -0.006430      -29.913763  0.000013   \n66  16819986  -0.025670  -29.939737      -0.025670      -29.939737  0.000007   \n67  30436469  -0.036250  -29.926567      -0.036250      -29.926567  0.000013   \n\n    Core frac    BMAJ    BMIN       PA  ...      width     height         x1s  \\\n0    0.004216  31.508  17.616  353.308  ...  51.900100  29.585640   49.960356   \n1    0.013472   2.167   2.159  134.347  ...   3.579504   3.579806  202.619101   \n2    0.861438   0.076   0.076  259.451  ...   0.125776   0.125776   29.907046   \n3   -0.000000   7.350   6.634  -82.418  ...  11.000635  12.144215  181.576576   \n4   -0.000000   1.474   0.443   -7.448  ...   2.420676   0.792750   15.038055   \n..        ...     ...     ...      ...  ...        ...        ...         ...   \n63  -0.000000   1.090   0.293   63.968  ...   0.903657   1.634795  118.765088   \n64  -0.000000   0.479   0.089   52.518  ...   0.496338   0.635411    5.317516   \n65  -0.000000   0.643   0.084  -44.041  ...   0.771023   0.746474   35.820206   \n66  -0.000000   0.199   0.057   -3.338  ...   0.328821   0.096104  135.364627   \n67  -0.000000   0.453   0.111  -16.761  ...   0.719793   0.278711  189.812156   \n\n           y1s         x2s         y2s                patch_name  patch_xo  \\\n0    38.133503  101.860456   67.719143  560Mhz_1000h_16380_16731     16380   \n1   156.105382  205.000000  159.685188  560Mhz_1000h_16380_16731     16380   \n2    12.685744   30.032822   12.811519  560Mhz_1000h_16380_16731     16380   \n3   176.932133  192.577211  189.076348  560Mhz_1000h_16380_16731     16380   \n4   143.306941   17.458730  144.099692  560Mhz_1000h_16380_16731     16380   \n..         ...         ...         ...                       ...       ...   \n63   59.852151  119.668745   61.486947  560Mhz_1000h_16380_16731     16380   \n64  179.715168    5.813854  180.350579  560Mhz_1000h_16380_16731     16380   \n65  165.408726   36.591228  166.155199  560Mhz_1000h_16380_16731     16380   \n66   10.970443  135.693448   11.066547  560Mhz_1000h_16380_16731     16380   \n67   89.330071  190.531949   89.608782  560Mhz_1000h_16380_16731     16380   \n\n    patch_yo  patch_dim  \n0      16731        205  \n1      16731        205  \n2      16731        205  \n3      16731        205  \n4      16731        205  \n..       ...        ...  \n63     16731        205  \n64     16731        205  \n65     16731        205  \n66     16731        205  \n67     16731        205  \n\n[68 rows x 32 columns]\n<class 'pandas.core.frame.DataFrame'>\n"
          ]
        }
      ],
      "source": [
        "# test if file has been correctly saved\n",
        "\n",
        "patch = '0_1638016380_205.npy'\n",
        "pkl =   '0_1638016380_205.pkl'\n",
        "\n",
        "path = os.path.join(config.TRAIN_PATCHES_FOLDER, '0_1638016380_205/')\n",
        "p = np.load(os.path.join(path, patch))\n",
        "pdata = pd.read_pickle(os.path.join(path, pkl))\n",
        "print(p)\n",
        "print(pdata)\n",
        "print(type(pdata))"
      ]
    },
    {
      "cell_type": "code",
      "execution_count": 75,
      "metadata": {},
      "outputs": [
        {
          "output_type": "stream",
          "name": "stdout",
          "text": [
            "205\n",
            "angle =  180\n",
            "<class 'pandas.core.frame.DataFrame'>\n",
            "         ID  RA (core)  DEC (core)  RA (centroid)  DEC (centroid)      FLUX  \\\n",
            "0  27514971  -0.014459  -29.933004      -0.014121      -29.932705  0.039324   \n",
            "1  15252327  -0.039005  -29.915081      -0.039002      -29.915081  0.000010   \n",
            "2  13302538  -0.005224  -29.939449      -0.005224      -29.939449  0.000017   \n",
            "3  30994188  -0.035645  -29.910868      -0.035645      -29.910868  0.000934   \n",
            "4  29158240  -0.002566  -29.917469      -0.002566      -29.917469  0.000036   \n",
            "\n",
            "   Core frac    BMAJ    BMIN       PA  ...      width     height         x1s  \\\n",
            "0   0.004216  31.508  17.616  353.308  ...  51.900100  29.585640   49.960356   \n",
            "1   0.013472   2.167   2.159  134.347  ...   3.579504   3.579806  202.619101   \n",
            "2   0.861438   0.076   0.076  259.451  ...   0.125776   0.125776   29.907046   \n",
            "3  -0.000000   7.350   6.634  -82.418  ...  11.000635  12.144215  181.576576   \n",
            "4  -0.000000   1.474   0.443   -7.448  ...   2.420676   0.792750   15.038055   \n",
            "\n",
            "          y1s         x2s         y2s                patch_name  patch_xo  \\\n",
            "0   38.133503  101.860456   67.719143  560Mhz_1000h_16380_16731     16380   \n",
            "1  156.105382  205.000000  159.685188  560Mhz_1000h_16380_16731     16380   \n",
            "2   12.685744   30.032822   12.811519  560Mhz_1000h_16380_16731     16380   \n",
            "3  176.932133  192.577211  189.076348  560Mhz_1000h_16380_16731     16380   \n",
            "4  143.306941   17.458730  144.099692  560Mhz_1000h_16380_16731     16380   \n",
            "\n",
            "   patch_yo  patch_dim  \n",
            "0     16731        205  \n",
            "1     16731        205  \n",
            "2     16731        205  \n",
            "3     16731        205  \n",
            "4     16731        205  \n",
            "\n",
            "[5 rows x 32 columns]\n",
            "angle rot 180\n",
            "angle rot 180\n",
            "angle rot 180\n",
            "angle rot 180\n",
            "angle rot 180\n",
            "angle rot 180\n",
            "angle rot 180\n",
            "angle rot 180\n",
            "angle rot 180\n",
            "angle rot 180\n",
            "angle rot 180\n",
            "angle rot 180\n",
            "angle rot 180\n",
            "angle rot 180\n",
            "angle rot 180\n",
            "angle rot 180\n",
            "angle rot 180\n",
            "angle rot 180\n",
            "angle rot 180\n",
            "angle rot 180\n",
            "angle rot 180\n",
            "angle rot 180\n",
            "angle rot 180\n",
            "angle rot 180\n",
            "angle rot 180\n",
            "angle rot 180\n",
            "angle rot 180\n",
            "angle rot 180\n",
            "angle rot 180\n",
            "angle rot 180\n",
            "angle rot 180\n",
            "angle rot 180\n",
            "angle rot 180\n",
            "angle rot 180\n",
            "angle rot 180\n",
            "angle rot 180\n",
            "angle rot 180\n",
            "angle rot 180\n",
            "angle rot 180\n",
            "angle rot 180\n",
            "angle rot 180\n",
            "angle rot 180\n",
            "angle rot 180\n",
            "angle rot 180\n",
            "angle rot 180\n",
            "angle rot 180\n",
            "angle rot 180\n",
            "angle rot 180\n",
            "angle rot 180\n",
            "angle rot 180\n",
            "angle rot 180\n",
            "angle rot 180\n",
            "angle rot 180\n",
            "angle rot 180\n",
            "angle rot 180\n",
            "angle rot 180\n",
            "angle rot 180\n",
            "angle rot 180\n",
            "angle rot 180\n",
            "angle rot 180\n",
            "angle rot 180\n",
            "angle rot 180\n",
            "angle rot 180\n",
            "angle rot 180\n",
            "angle rot 180\n",
            "angle rot 180\n",
            "angle rot 180\n",
            "angle rot 180\n",
            "         ID  RA (core)  DEC (core)  RA (centroid)  DEC (centroid)      FLUX  \\\n",
            "0  27514971  -0.014459  -29.933004      -0.014121      -29.932705  0.039324   \n",
            "1  15252327  -0.039005  -29.915081      -0.039002      -29.915081  0.000010   \n",
            "2  13302538  -0.005224  -29.939449      -0.005224      -29.939449  0.000017   \n",
            "3  30994188  -0.035645  -29.910868      -0.035645      -29.910868  0.000934   \n",
            "4  29158240  -0.002566  -29.917469      -0.002566      -29.917469  0.000036   \n",
            "\n",
            "   Core frac    BMAJ    BMIN       PA  ...      width     height         x1s  \\\n",
            "0   0.004216  31.508  17.616  353.308  ...  51.900100  29.585640   49.960356   \n",
            "1   0.013472   2.167   2.159  134.347  ...   3.579504   3.579806  202.619101   \n",
            "2   0.861438   0.076   0.076  259.451  ...   0.125776   0.125776   29.907046   \n",
            "3  -0.000000   7.350   6.634  -82.418  ...  11.000635  12.144215  181.576576   \n",
            "4  -0.000000   1.474   0.443   -7.448  ...   2.420676   0.792750   15.038055   \n",
            "\n",
            "          y1s         x2s         y2s                patch_name  patch_xo  \\\n",
            "0   38.133503  101.860456   67.719143  560Mhz_1000h_16380_16731     16380   \n",
            "1  156.105382  205.000000  159.685188  560Mhz_1000h_16380_16731     16380   \n",
            "2   12.685744   30.032822   12.811519  560Mhz_1000h_16380_16731     16380   \n",
            "3  176.932133  192.577211  189.076348  560Mhz_1000h_16380_16731     16380   \n",
            "4  143.306941   17.458730  144.099692  560Mhz_1000h_16380_16731     16380   \n",
            "\n",
            "   patch_yo  patch_dim  \n",
            "0     16731        205  \n",
            "1     16731        205  \n",
            "2     16731        205  \n",
            "3     16731        205  \n",
            "4     16731        205  \n",
            "\n",
            "[5 rows x 32 columns]\n",
            "c:\\Users\\alice\\Desktop\\universita_AI\\deep_learning\\SKADC1\\src\\preprocessing.py:321: SettingWithCopyWarning: \n",
            "A value is trying to be set on a copy of a slice from a DataFrame\n",
            "\n",
            "See the caveats in the documentation: https://pandas.pydata.org/pandas-docs/stable/user_guide/indexing.html#returning-a-view-versus-a-copy\n",
            "  row['x2s'] = cols - x1\n",
            "c:\\Users\\alice\\Desktop\\universita_AI\\deep_learning\\SKADC1\\src\\preprocessing.py:322: SettingWithCopyWarning: \n",
            "A value is trying to be set on a copy of a slice from a DataFrame\n",
            "\n",
            "See the caveats in the documentation: https://pandas.pydata.org/pandas-docs/stable/user_guide/indexing.html#returning-a-view-versus-a-copy\n",
            "  row['x1s'] = cols - x2\n",
            "c:\\Users\\alice\\Desktop\\universita_AI\\deep_learning\\SKADC1\\src\\preprocessing.py:323: SettingWithCopyWarning: \n",
            "A value is trying to be set on a copy of a slice from a DataFrame\n",
            "\n",
            "See the caveats in the documentation: https://pandas.pydata.org/pandas-docs/stable/user_guide/indexing.html#returning-a-view-versus-a-copy\n",
            "  row['y2s'] = rows - y1\n",
            "c:\\Users\\alice\\Desktop\\universita_AI\\deep_learning\\SKADC1\\src\\preprocessing.py:324: SettingWithCopyWarning: \n",
            "A value is trying to be set on a copy of a slice from a DataFrame\n",
            "\n",
            "See the caveats in the documentation: https://pandas.pydata.org/pandas-docs/stable/user_guide/indexing.html#returning-a-view-versus-a-copy\n",
            "  row['y1s'] = rows - y2\n"
          ]
        }
      ],
      "source": [
        "img_aug, imgData_aug = prep.augment(os.path.join(path, patch), os.path.join(path, pkl) )\n"
      ]
    },
    {
      "cell_type": "code",
      "execution_count": 65,
      "metadata": {},
      "outputs": [
        {
          "output_type": "stream",
          "name": "stdout",
          "text": [
            "49.96035561576355\n          ID  RA (core)  DEC (core)  RA (centroid)  DEC (centroid)      FLUX  \\\n0   27514971  -0.014459  -29.933004      -0.014121      -29.932705  0.039324   \n1   15252327  -0.039005  -29.915081      -0.039002      -29.915081  0.000010   \n2   13302538  -0.005224  -29.939449      -0.005224      -29.939449  0.000017   \n3   30994188  -0.035645  -29.910868      -0.035645      -29.910868  0.000934   \n4   29158240  -0.002566  -29.917469      -0.002566      -29.917469  0.000036   \n..       ...        ...         ...            ...             ...       ...   \n63   9005660  -0.022509  -29.931404      -0.022509      -29.931404  0.000013   \n64  35737787  -0.000497  -29.911371      -0.000497      -29.911371  0.000028   \n65  31108334  -0.006430  -29.913763      -0.006430      -29.913763  0.000013   \n66  16819986  -0.025670  -29.939737      -0.025670      -29.939737  0.000007   \n67  30436469  -0.036250  -29.926567      -0.036250      -29.926567  0.000013   \n\n    Core frac    BMAJ    BMIN       PA  ...      width     height         x1s  \\\n0    0.004216  31.508  17.616  353.308  ...  51.900100  29.585640   49.960356   \n1    0.013472   2.167   2.159  134.347  ...   3.579504   3.579806  202.619101   \n2    0.861438   0.076   0.076  259.451  ...   0.125776   0.125776   29.907046   \n3   -0.000000   7.350   6.634  -82.418  ...  11.000635  12.144215  181.576576   \n4   -0.000000   1.474   0.443   -7.448  ...   2.420676   0.792750   15.038055   \n..        ...     ...     ...      ...  ...        ...        ...         ...   \n63  -0.000000   1.090   0.293   63.968  ...   0.903657   1.634795  118.765088   \n64  -0.000000   0.479   0.089   52.518  ...   0.496338   0.635411    5.317516   \n65  -0.000000   0.643   0.084  -44.041  ...   0.771023   0.746474   35.820206   \n66  -0.000000   0.199   0.057   -3.338  ...   0.328821   0.096104  135.364627   \n67  -0.000000   0.453   0.111  -16.761  ...   0.719793   0.278711  189.812156   \n\n           y1s         x2s         y2s                patch_name  patch_xo  \\\n0    38.133503  101.860456   67.719143  560Mhz_1000h_16380_16731     16380   \n1   156.105382  205.000000  159.685188  560Mhz_1000h_16380_16731     16380   \n2    12.685744   30.032822   12.811519  560Mhz_1000h_16380_16731     16380   \n3   176.932133  192.577211  189.076348  560Mhz_1000h_16380_16731     16380   \n4   143.306941   17.458730  144.099692  560Mhz_1000h_16380_16731     16380   \n..         ...         ...         ...                       ...       ...   \n63   59.852151  119.668745   61.486947  560Mhz_1000h_16380_16731     16380   \n64  179.715168    5.813854  180.350579  560Mhz_1000h_16380_16731     16380   \n65  165.408726   36.591228  166.155199  560Mhz_1000h_16380_16731     16380   \n66   10.970443  135.693448   11.066547  560Mhz_1000h_16380_16731     16380   \n67   89.330071  190.531949   89.608782  560Mhz_1000h_16380_16731     16380   \n\n    patch_yo  patch_dim  \n0      16731        205  \n1      16731        205  \n2      16731        205  \n3      16731        205  \n4      16731        205  \n..       ...        ...  \n63     16731        205  \n64     16731        205  \n65     16731        205  \n66     16731        205  \n67     16731        205  \n\n[68 rows x 32 columns]\n"
          ]
        }
      ],
      "source": [
        "#print(type(img_aug))\n",
        "print(imgData_aug.iloc[0][\"x1s\"])\n",
        "#print_img(p, pdata )\n",
        "print(pdata)"
      ]
    },
    {
      "cell_type": "code",
      "execution_count": 67,
      "metadata": {},
      "outputs": [
        {
          "output_type": "display_data",
          "data": {
            "text/plain": "<Figure size 432x288 with 1 Axes>",
            "image/svg+xml": "<?xml version=\"1.0\" encoding=\"utf-8\" standalone=\"no\"?>\r\n<!DOCTYPE svg PUBLIC \"-//W3C//DTD SVG 1.1//EN\"\r\n  \"http://www.w3.org/Graphics/SVG/1.1/DTD/svg11.dtd\">\r\n<svg height=\"251.787002pt\" version=\"1.1\" viewBox=\"0 0 262.698177 251.787002\" width=\"262.698177pt\" xmlns=\"http://www.w3.org/2000/svg\" xmlns:xlink=\"http://www.w3.org/1999/xlink\">\r\n <metadata>\r\n  <rdf:RDF xmlns:cc=\"http://creativecommons.org/ns#\" xmlns:dc=\"http://purl.org/dc/elements/1.1/\" xmlns:rdf=\"http://www.w3.org/1999/02/22-rdf-syntax-ns#\">\r\n   <cc:Work>\r\n    <dc:type rdf:resource=\"http://purl.org/dc/dcmitype/StillImage\"/>\r\n    <dc:date>2021-05-22T18:05:54.261413</dc:date>\r\n    <dc:format>image/svg+xml</dc:format>\r\n    <dc:creator>\r\n     <cc:Agent>\r\n      <dc:title>Matplotlib v3.4.1, https://matplotlib.org/</dc:title>\r\n     </cc:Agent>\r\n    </dc:creator>\r\n   </cc:Work>\r\n  </rdf:RDF>\r\n </metadata>\r\n <defs>\r\n  <style type=\"text/css\">*{stroke-linecap:butt;stroke-linejoin:round;}</style>\r\n </defs>\r\n <g id=\"figure_1\">\r\n  <g id=\"patch_1\">\r\n   <path d=\"M 0 251.787002 \r\nL 262.698177 251.787002 \r\nL 262.698177 0 \r\nL 0 0 \r\nz\r\n\" style=\"fill:none;\"/>\r\n  </g>\r\n  <g id=\"axes_1\">\r\n   <g id=\"patch_2\">\r\n    <path d=\"M 33.2875 227.908877 \r\nL 250.7275 227.908877 \r\nL 250.7275 10.468877 \r\nL 33.2875 10.468877 \r\nz\r\n\" style=\"fill:#ffffff;\"/>\r\n   </g>\r\n   <g clip-path=\"url(#p45718de7a5)\">\r\n    <image height=\"218\" id=\"image2a96909fc0\" transform=\"scale(1 -1)translate(0 -218)\" width=\"218\" x=\"33.2875\" xlink:href=\"data:image/png;base64,\r\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\" y=\"-9.908877\"/>\r\n   </g>\r\n   <g id=\"patch_3\">\r\n    <path clip-path=\"url(#p45718de7a5)\" d=\"M 86.809938 51.446774 \r\nL 141.859488 51.446774 \r\nL 141.859488 82.827757 \r\nL 86.809938 82.827757 \r\nz\r\n\" style=\"fill:none;stroke:#ff0000;stroke-linejoin:miter;stroke-width:0.1;\"/>\r\n   </g>\r\n   <g id=\"patch_4\">\r\n    <path clip-path=\"url(#p45718de7a5)\" d=\"M 248.732463 176.577532 \r\nL 251.257841 176.577532 \r\nL 251.257841 180.374571 \r\nL 248.732463 180.374571 \r\nz\r\n\" style=\"fill:none;stroke:#ff0000;stroke-linejoin:miter;stroke-width:0.1;\"/>\r\n   </g>\r\n   <g id=\"patch_5\">\r\n    <path clip-path=\"url(#p45718de7a5)\" d=\"M 65.539735 24.45477 \r\nL 65.673143 24.45477 \r\nL 65.673143 24.588179 \r\nL 65.539735 24.588179 \r\nz\r\n\" style=\"fill:none;stroke:#ff0000;stroke-linejoin:miter;stroke-width:0.1;\"/>\r\n   </g>\r\n   <g id=\"patch_6\">\r\n    <path clip-path=\"url(#p45718de7a5)\" d=\"M 226.413016 198.668111 \r\nL 238.081201 198.668111 \r\nL 238.081201 211.549273 \r\nL 226.413016 211.549273 \r\nz\r\n\" style=\"fill:none;stroke:#ff0000;stroke-linejoin:miter;stroke-width:0.1;\"/>\r\n   </g>\r\n   <g id=\"patch_7\">\r\n    <path clip-path=\"url(#p45718de7a5)\" d=\"M 49.768449 163.002445 \r\nL 52.336019 163.002445 \r\nL 52.336019 163.843301 \r\nL 49.768449 163.843301 \r\nz\r\n\" style=\"fill:none;stroke:#ff0000;stroke-linejoin:miter;stroke-width:0.1;\"/>\r\n   </g>\r\n   <g id=\"patch_8\">\r\n    <path clip-path=\"url(#p45718de7a5)\" d=\"M 126.274957 178.135829 \r\nL 128.558531 178.135829 \r\nL 128.558531 180.397024 \r\nL 126.274957 180.397024 \r\nz\r\n\" style=\"fill:none;stroke:#ff0000;stroke-linejoin:miter;stroke-width:0.1;\"/>\r\n   </g>\r\n   <g id=\"patch_9\">\r\n    <path clip-path=\"url(#p45718de7a5)\" d=\"M 244.357911 166.121899 \r\nL 245.388441 166.121899 \r\nL 245.388441 167.742579 \r\nL 244.357911 167.742579 \r\nz\r\n\" style=\"fill:none;stroke:#ff0000;stroke-linejoin:miter;stroke-width:0.1;\"/>\r\n   </g>\r\n   <g id=\"patch_10\">\r\n    <path clip-path=\"url(#p45718de7a5)\" d=\"M 101.582251 82.478801 \r\nL 103.260571 82.478801 \r\nL 103.260571 89.54929 \r\nL 101.582251 89.54929 \r\nz\r\n\" style=\"fill:none;stroke:#ff0000;stroke-linejoin:miter;stroke-width:0.1;\"/>\r\n   </g>\r\n   <g id=\"patch_11\">\r\n    <path clip-path=\"url(#p45718de7a5)\" d=\"M 130.080327 206.928692 \r\nL 133.086777 206.928692 \r\nL 133.086777 209.771544 \r\nL 130.080327 209.771544 \r\nz\r\n\" style=\"fill:none;stroke:#ff0000;stroke-linejoin:miter;stroke-width:0.1;\"/>\r\n   </g>\r\n   <g id=\"patch_12\">\r\n    <path clip-path=\"url(#p45718de7a5)\" d=\"M 126.646897 163.725086 \r\nL 128.222334 163.725086 \r\nL 128.222334 168.338965 \r\nL 126.646897 168.338965 \r\nz\r\n\" style=\"fill:none;stroke:#ff0000;stroke-linejoin:miter;stroke-width:0.1;\"/>\r\n   </g>\r\n   <g id=\"patch_13\">\r\n    <path clip-path=\"url(#p45718de7a5)\" d=\"M 144.357784 77.58767 \r\nL 149.497856 77.58767 \r\nL 149.497856 81.482945 \r\nL 144.357784 81.482945 \r\nz\r\n\" style=\"fill:none;stroke:#ff0000;stroke-linejoin:miter;stroke-width:0.1;\"/>\r\n   </g>\r\n   <g id=\"patch_14\">\r\n    <path clip-path=\"url(#p45718de7a5)\" d=\"M 168.493957 58.215657 \r\nL 172.135595 58.215657 \r\nL 172.135595 60.491727 \r\nL 168.493957 60.491727 \r\nz\r\n\" style=\"fill:none;stroke:#ff0000;stroke-linejoin:miter;stroke-width:0.1;\"/>\r\n   </g>\r\n   <g id=\"patch_15\">\r\n    <path clip-path=\"url(#p45718de7a5)\" d=\"M 137.763841 206.87887 \r\nL 140.288919 206.87887 \r\nL 140.288919 208.011072 \r\nL 137.763841 208.011072 \r\nz\r\n\" style=\"fill:none;stroke:#ff0000;stroke-linejoin:miter;stroke-width:0.1;\"/>\r\n   </g>\r\n   <g id=\"patch_16\">\r\n    <path clip-path=\"url(#p45718de7a5)\" d=\"M 147.836147 104.449499 \r\nL 152.791921 104.449499 \r\nL 152.791921 106.545036 \r\nL 147.836147 106.545036 \r\nz\r\n\" style=\"fill:none;stroke:#ff0000;stroke-linejoin:miter;stroke-width:0.1;\"/>\r\n   </g>\r\n   <g id=\"patch_17\">\r\n    <path clip-path=\"url(#p45718de7a5)\" d=\"M 112.608968 141.32382 \r\nL 113.080231 141.32382 \r\nL 113.080231 142.266182 \r\nL 112.608968 142.266182 \r\nz\r\n\" style=\"fill:none;stroke:#ff0000;stroke-linejoin:miter;stroke-width:0.1;\"/>\r\n   </g>\r\n   <g id=\"patch_18\">\r\n    <path clip-path=\"url(#p45718de7a5)\" d=\"M 107.097452 217.425909 \r\nL 108.519771 217.425909 \r\nL 108.519771 218.276389 \r\nL 107.097452 218.276389 \r\nz\r\n\" style=\"fill:none;stroke:#ff0000;stroke-linejoin:miter;stroke-width:0.1;\"/>\r\n   </g>\r\n   <g id=\"patch_19\">\r\n    <path clip-path=\"url(#p45718de7a5)\" d=\"M 185.478512 164.671742 \r\nL 186.960228 164.671742 \r\nL 186.960228 166.044067 \r\nL 185.478512 166.044067 \r\nz\r\n\" style=\"fill:none;stroke:#ff0000;stroke-linejoin:miter;stroke-width:0.1;\"/>\r\n   </g>\r\n   <g id=\"patch_20\">\r\n    <path clip-path=\"url(#p45718de7a5)\" d=\"M 113.973085 49.134228 \r\nL 114.631495 49.134228 \r\nL 114.631495 50.355126 \r\nL 113.973085 50.355126 \r\nz\r\n\" style=\"fill:none;stroke:#ff0000;stroke-linejoin:miter;stroke-width:0.1;\"/>\r\n   </g>\r\n   <g id=\"patch_21\">\r\n    <path clip-path=\"url(#p45718de7a5)\" d=\"M 140.900963 121.560144 \r\nL 142.607757 121.560144 \r\nL 142.607757 122.969293 \r\nL 140.900963 122.969293 \r\nz\r\n\" style=\"fill:none;stroke:#ff0000;stroke-linejoin:miter;stroke-width:0.1;\"/>\r\n   </g>\r\n   <g id=\"patch_22\">\r\n    <path clip-path=\"url(#p45718de7a5)\" d=\"M 203.585255 218.682161 \r\nL 204.95091 218.682161 \r\nL 204.95091 219.177246 \r\nL 203.585255 219.177246 \r\nz\r\n\" style=\"fill:none;stroke:#ff0000;stroke-linejoin:miter;stroke-width:0.1;\"/>\r\n   </g>\r\n   <g id=\"patch_23\">\r\n    <path clip-path=\"url(#p45718de7a5)\" d=\"M 193.271627 177.295167 \r\nL 193.975492 177.295167 \r\nL 193.975492 178.584048 \r\nL 193.271627 178.584048 \r\nz\r\n\" style=\"fill:none;stroke:#ff0000;stroke-linejoin:miter;stroke-width:0.1;\"/>\r\n   </g>\r\n   <g id=\"patch_24\">\r\n    <path clip-path=\"url(#p45718de7a5)\" d=\"M 153.09595 222.625619 \r\nL 153.90522 222.625619 \r\nL 153.90522 224.561834 \r\nL 153.09595 224.561834 \r\nz\r\n\" style=\"fill:none;stroke:#ff0000;stroke-linejoin:miter;stroke-width:0.1;\"/>\r\n   </g>\r\n   <g id=\"patch_25\">\r\n    <path clip-path=\"url(#p45718de7a5)\" d=\"M 209.586037 117.361145 \r\nL 210.506067 117.361145 \r\nL 210.506067 118.893602 \r\nL 209.586037 118.893602 \r\nz\r\n\" style=\"fill:none;stroke:#ff0000;stroke-linejoin:miter;stroke-width:0.1;\"/>\r\n   </g>\r\n   <g id=\"patch_26\">\r\n    <path clip-path=\"url(#p45718de7a5)\" d=\"M 205.653506 202.326804 \r\nL 206.877138 202.326804 \r\nL 206.877138 203.349553 \r\nL 205.653506 203.349553 \r\nz\r\n\" style=\"fill:none;stroke:#ff0000;stroke-linejoin:miter;stroke-width:0.1;\"/>\r\n   </g>\r\n   <g id=\"patch_27\">\r\n    <path clip-path=\"url(#p45718de7a5)\" d=\"M 176.408411 135.451495 \r\nL 177.788535 135.451495 \r\nL 177.788535 135.966841 \r\nL 176.408411 135.966841 \r\nz\r\n\" style=\"fill:none;stroke:#ff0000;stroke-linejoin:miter;stroke-width:0.1;\"/>\r\n   </g>\r\n   <g id=\"patch_28\">\r\n    <path clip-path=\"url(#p45718de7a5)\" d=\"M 142.869094 129.483596 \r\nL 143.620963 129.483596 \r\nL 143.620963 130.859105 \r\nL 142.869094 130.859105 \r\nz\r\n\" style=\"fill:none;stroke:#ff0000;stroke-linejoin:miter;stroke-width:0.1;\"/>\r\n   </g>\r\n   <g id=\"patch_29\">\r\n    <path clip-path=\"url(#p45718de7a5)\" d=\"M 77.333072 69.012558 \r\nL 79.592618 69.012558 \r\nL 79.592618 73.441187 \r\nL 77.333072 73.441187 \r\nz\r\n\" style=\"fill:none;stroke:#ff0000;stroke-linejoin:miter;stroke-width:0.1;\"/>\r\n   </g>\r\n   <g id=\"patch_30\">\r\n    <path clip-path=\"url(#p45718de7a5)\" d=\"M 99.604081 78.879682 \r\nL 100.082188 78.879682 \r\nL 100.082188 79.794023 \r\nL 99.604081 79.794023 \r\nz\r\n\" style=\"fill:none;stroke:#ff0000;stroke-linejoin:miter;stroke-width:0.1;\"/>\r\n   </g>\r\n   <g id=\"patch_31\">\r\n    <path clip-path=\"url(#p45718de7a5)\" d=\"M 153.720583 27.079573 \r\nL 154.274962 27.079573 \r\nL 154.274962 27.535483 \r\nL 153.720583 27.535483 \r\nz\r\n\" style=\"fill:none;stroke:#ff0000;stroke-linejoin:miter;stroke-width:0.1;\"/>\r\n   </g>\r\n   <g id=\"patch_32\">\r\n    <path clip-path=\"url(#p45718de7a5)\" d=\"M 171.405694 33.090808 \r\nL 171.719243 33.090808 \r\nL 171.719243 34.582948 \r\nL 171.405694 34.582948 \r\nz\r\n\" style=\"fill:none;stroke:#ff0000;stroke-linejoin:miter;stroke-width:0.1;\"/>\r\n   </g>\r\n   <g id=\"patch_33\">\r\n    <path clip-path=\"url(#p45718de7a5)\" d=\"M 177.521983 100.551081 \r\nL 179.224979 100.551081 \r\nL 179.224979 101.777859 \r\nL 177.521983 101.777859 \r\nz\r\n\" style=\"fill:none;stroke:#ff0000;stroke-linejoin:miter;stroke-width:0.1;\"/>\r\n   </g>\r\n   <g id=\"patch_34\">\r\n    <path clip-path=\"url(#p45718de7a5)\" d=\"M 217.358042 145.255962 \r\nL 220.000235 145.255962 \r\nL 220.000235 146.486797 \r\nL 217.358042 146.486797 \r\nz\r\n\" style=\"fill:none;stroke:#ff0000;stroke-linejoin:miter;stroke-width:0.1;\"/>\r\n   </g>\r\n   <g id=\"patch_35\">\r\n    <path clip-path=\"url(#p45718de7a5)\" d=\"M 203.231824 108.551626 \r\nL 206.21586 108.551626 \r\nL 206.21586 110.349441 \r\nL 203.231824 110.349441 \r\nz\r\n\" style=\"fill:none;stroke:#ff0000;stroke-linejoin:miter;stroke-width:0.1;\"/>\r\n   </g>\r\n   <g id=\"patch_36\">\r\n    <path clip-path=\"url(#p45718de7a5)\" d=\"M 56.857796 119.098557 \r\nL 57.179257 119.098557 \r\nL 57.179257 119.806832 \r\nL 56.857796 119.806832 \r\nz\r\n\" style=\"fill:none;stroke:#ff0000;stroke-linejoin:miter;stroke-width:0.1;\"/>\r\n   </g>\r\n   <g id=\"patch_37\">\r\n    <path clip-path=\"url(#p45718de7a5)\" d=\"M 120.939496 26.549774 \r\nL 122.262594 26.549774 \r\nL 122.262594 27.135625 \r\nL 120.939496 27.135625 \r\nz\r\n\" style=\"fill:none;stroke:#ff0000;stroke-linejoin:miter;stroke-width:0.1;\"/>\r\n   </g>\r\n   <g id=\"patch_38\">\r\n    <path clip-path=\"url(#p45718de7a5)\" d=\"M 152.055244 195.362327 \r\nL 152.876171 195.362327 \r\nL 152.876171 197.32098 \r\nL 152.055244 197.32098 \r\nz\r\n\" style=\"fill:none;stroke:#ff0000;stroke-linejoin:miter;stroke-width:0.1;\"/>\r\n   </g>\r\n   <g id=\"patch_39\">\r\n    <path clip-path=\"url(#p45718de7a5)\" d=\"M 159.826539 39.07079 \r\nL 160.34645 39.07079 \r\nL 160.34645 39.455457 \r\nL 159.826539 39.455457 \r\nz\r\n\" style=\"fill:none;stroke:#ff0000;stroke-linejoin:miter;stroke-width:0.1;\"/>\r\n   </g>\r\n   <g id=\"patch_40\">\r\n    <path clip-path=\"url(#p45718de7a5)\" d=\"M 106.489266 133.850935 \r\nL 108.271031 133.850935 \r\nL 108.271031 134.456895 \r\nL 106.489266 134.456895 \r\nz\r\n\" style=\"fill:none;stroke:#ff0000;stroke-linejoin:miter;stroke-width:0.1;\"/>\r\n   </g>\r\n   <g id=\"patch_41\">\r\n    <path clip-path=\"url(#p45718de7a5)\" d=\"M 120.585406 62.485069 \r\nL 121.062939 62.485069 \r\nL 121.062939 63.760717 \r\nL 120.585406 63.760717 \r\nz\r\n\" style=\"fill:none;stroke:#ff0000;stroke-linejoin:miter;stroke-width:0.1;\"/>\r\n   </g>\r\n   <g id=\"patch_42\">\r\n    <path clip-path=\"url(#p45718de7a5)\" d=\"M 108.295731 28.57178 \r\nL 110.711521 28.57178 \r\nL 110.711521 29.576332 \r\nL 108.295731 29.576332 \r\nz\r\n\" style=\"fill:none;stroke:#ff0000;stroke-linejoin:miter;stroke-width:0.1;\"/>\r\n   </g>\r\n   <g id=\"patch_43\">\r\n    <path clip-path=\"url(#p45718de7a5)\" d=\"M 180.088631 35.158415 \r\nL 180.522916 35.158415 \r\nL 180.522916 36.898735 \r\nL 180.088631 36.898735 \r\nz\r\n\" style=\"fill:none;stroke:#ff0000;stroke-linejoin:miter;stroke-width:0.1;\"/>\r\n   </g>\r\n   <g id=\"patch_44\">\r\n    <path clip-path=\"url(#p45718de7a5)\" d=\"M 61.636198 69.867106 \r\nL 62.420149 69.867106 \r\nL 62.420149 70.129525 \r\nL 61.636198 70.129525 \r\nz\r\n\" style=\"fill:none;stroke:#ff0000;stroke-linejoin:miter;stroke-width:0.1;\"/>\r\n   </g>\r\n   <g id=\"patch_45\">\r\n    <path clip-path=\"url(#p45718de7a5)\" d=\"M 109.969917 145.82903 \r\nL 111.536481 145.82903 \r\nL 111.536481 146.487971 \r\nL 109.969917 146.487971 \r\nz\r\n\" style=\"fill:none;stroke:#ff0000;stroke-linejoin:miter;stroke-width:0.1;\"/>\r\n   </g>\r\n   <g id=\"patch_46\">\r\n    <path clip-path=\"url(#p45718de7a5)\" d=\"M 68.086937 222.067244 \r\nL 69.067815 222.067244 \r\nL 69.067815 222.584956 \r\nL 68.086937 222.584956 \r\nz\r\n\" style=\"fill:none;stroke:#ff0000;stroke-linejoin:miter;stroke-width:0.1;\"/>\r\n   </g>\r\n   <g id=\"patch_47\">\r\n    <path clip-path=\"url(#p45718de7a5)\" d=\"M 86.677093 197.354352 \r\nL 87.97058 197.354352 \r\nL 87.97058 197.853295 \r\nL 86.677093 197.853295 \r\nz\r\n\" style=\"fill:none;stroke:#ff0000;stroke-linejoin:miter;stroke-width:0.1;\"/>\r\n   </g>\r\n   <g id=\"patch_48\">\r\n    <path clip-path=\"url(#p45718de7a5)\" d=\"M 107.393805 145.327385 \r\nL 109.613384 145.327385 \r\nL 109.613384 147.134849 \r\nL 107.393805 147.134849 \r\nz\r\n\" style=\"fill:none;stroke:#ff0000;stroke-linejoin:miter;stroke-width:0.1;\"/>\r\n   </g>\r\n   <g id=\"patch_49\">\r\n    <path clip-path=\"url(#p45718de7a5)\" d=\"M 110.285376 200.241104 \r\nL 110.639009 200.241104 \r\nL 110.639009 200.795612 \r\nL 110.285376 200.795612 \r\nz\r\n\" style=\"fill:none;stroke:#ff0000;stroke-linejoin:miter;stroke-width:0.1;\"/>\r\n   </g>\r\n   <g id=\"patch_50\">\r\n    <path clip-path=\"url(#p45718de7a5)\" d=\"M 239.571045 142.582649 \r\nL 240.054459 142.582649 \r\nL 240.054459 142.951811 \r\nL 239.571045 142.951811 \r\nz\r\n\" style=\"fill:none;stroke:#ff0000;stroke-linejoin:miter;stroke-width:0.1;\"/>\r\n   </g>\r\n   <g id=\"patch_51\">\r\n    <path clip-path=\"url(#p45718de7a5)\" d=\"M 225.46344 119.877039 \r\nL 225.989511 119.877039 \r\nL 225.989511 121.117652 \r\nL 225.46344 121.117652 \r\nz\r\n\" style=\"fill:none;stroke:#ff0000;stroke-linejoin:miter;stroke-width:0.1;\"/>\r\n   </g>\r\n   <g id=\"patch_52\">\r\n    <path clip-path=\"url(#p45718de7a5)\" d=\"M 115.584911 213.365245 \r\nL 119.264696 213.365245 \r\nL 119.264696 215.151041 \r\nL 115.584911 215.151041 \r\nz\r\n\" style=\"fill:none;stroke:#ff0000;stroke-linejoin:miter;stroke-width:0.1;\"/>\r\n   </g>\r\n   <g id=\"patch_53\">\r\n    <path clip-path=\"url(#p45718de7a5)\" d=\"M 174.419911 157.093639 \r\nL 175.481145 157.093639 \r\nL 175.481145 157.572417 \r\nL 174.419911 157.572417 \r\nz\r\n\" style=\"fill:none;stroke:#ff0000;stroke-linejoin:miter;stroke-width:0.1;\"/>\r\n   </g>\r\n   <g id=\"patch_54\">\r\n    <path clip-path=\"url(#p45718de7a5)\" d=\"M 180.132454 50.247867 \r\nL 180.684321 50.247867 \r\nL 180.684321 50.544034 \r\nL 180.132454 50.544034 \r\nz\r\n\" style=\"fill:none;stroke:#ff0000;stroke-linejoin:miter;stroke-width:0.1;\"/>\r\n   </g>\r\n   <g id=\"patch_55\">\r\n    <path clip-path=\"url(#p45718de7a5)\" d=\"M 39.549474 158.48516 \r\nL 40.220774 158.48516 \r\nL 40.220774 159.05579 \r\nL 39.549474 159.05579 \r\nz\r\n\" style=\"fill:none;stroke:#ff0000;stroke-linejoin:miter;stroke-width:0.1;\"/>\r\n   </g>\r\n   <g id=\"patch_56\">\r\n    <path clip-path=\"url(#p45718de7a5)\" d=\"M 41.243056 196.609705 \r\nL 42.467113 196.609705 \r\nL 42.467113 198.192067 \r\nL 41.243056 198.192067 \r\nz\r\n\" style=\"fill:none;stroke:#ff0000;stroke-linejoin:miter;stroke-width:0.1;\"/>\r\n   </g>\r\n   <g id=\"patch_57\">\r\n    <path clip-path=\"url(#p45718de7a5)\" d=\"M 214.230484 179.763791 \r\nL 215.059691 179.763791 \r\nL 215.059691 180.274612 \r\nL 214.230484 180.274612 \r\nz\r\n\" style=\"fill:none;stroke:#ff0000;stroke-linejoin:miter;stroke-width:0.1;\"/>\r\n   </g>\r\n   <g id=\"patch_58\">\r\n    <path clip-path=\"url(#p45718de7a5)\" d=\"M 245.550949 52.924306 \r\nL 246.182287 52.924306 \r\nL 246.182287 53.158432 \r\nL 245.550949 53.158432 \r\nz\r\n\" style=\"fill:none;stroke:#ff0000;stroke-linejoin:miter;stroke-width:0.1;\"/>\r\n   </g>\r\n   <g id=\"patch_59\">\r\n    <path clip-path=\"url(#p45718de7a5)\" d=\"M 144.985972 97.993323 \r\nL 147.159643 97.993323 \r\nL 147.159643 98.779905 \r\nL 144.985972 98.779905 \r\nz\r\n\" style=\"fill:none;stroke:#ff0000;stroke-linejoin:miter;stroke-width:0.1;\"/>\r\n   </g>\r\n   <g id=\"patch_60\">\r\n    <path clip-path=\"url(#p45718de7a5)\" d=\"M 63.464584 24.282249 \r\nL 65.644622 24.282249 \r\nL 65.644622 27.412516 \r\nL 63.464584 27.412516 \r\nz\r\n\" style=\"fill:none;stroke:#ff0000;stroke-linejoin:miter;stroke-width:0.1;\"/>\r\n   </g>\r\n   <g id=\"patch_61\">\r\n    <path clip-path=\"url(#p45718de7a5)\" d=\"M 64.834839 213.925758 \r\nL 65.027741 213.925758 \r\nL 65.027741 214.696022 \r\nL 64.834839 214.696022 \r\nz\r\n\" style=\"fill:none;stroke:#ff0000;stroke-linejoin:miter;stroke-width:0.1;\"/>\r\n   </g>\r\n   <g id=\"patch_62\">\r\n    <path clip-path=\"url(#p45718de7a5)\" d=\"M 73.288712 185.229108 \r\nL 75.06416 185.229108 \r\nL 75.06416 185.632852 \r\nL 73.288712 185.632852 \r\nz\r\n\" style=\"fill:none;stroke:#ff0000;stroke-linejoin:miter;stroke-width:0.1;\"/>\r\n   </g>\r\n   <g id=\"patch_63\">\r\n    <path clip-path=\"url(#p45718de7a5)\" d=\"M 72.811776 54.534299 \r\nL 73.217077 54.534299 \r\nL 73.217077 55.30411 \r\nL 72.811776 55.30411 \r\nz\r\n\" style=\"fill:none;stroke:#ff0000;stroke-linejoin:miter;stroke-width:0.1;\"/>\r\n   </g>\r\n   <g id=\"patch_64\">\r\n    <path clip-path=\"url(#p45718de7a5)\" d=\"M 161.023354 169.370329 \r\nL 161.959534 169.370329 \r\nL 161.959534 170.179196 \r\nL 161.023354 170.179196 \r\nz\r\n\" style=\"fill:none;stroke:#ff0000;stroke-linejoin:miter;stroke-width:0.1;\"/>\r\n   </g>\r\n   <g id=\"patch_65\">\r\n    <path clip-path=\"url(#p45718de7a5)\" d=\"M 72.361193 163.682191 \r\nL 73.458638 163.682191 \r\nL 73.458638 164.07774 \r\nL 72.361193 164.07774 \r\nz\r\n\" style=\"fill:none;stroke:#ff0000;stroke-linejoin:miter;stroke-width:0.1;\"/>\r\n   </g>\r\n   <g id=\"patch_66\">\r\n    <path clip-path=\"url(#p45718de7a5)\" d=\"M 159.789943 74.483374 \r\nL 160.748436 74.483374 \r\nL 160.748436 76.217373 \r\nL 159.789943 76.217373 \r\nz\r\n\" style=\"fill:none;stroke:#ff0000;stroke-linejoin:miter;stroke-width:0.1;\"/>\r\n   </g>\r\n   <g id=\"patch_67\">\r\n    <path clip-path=\"url(#p45718de7a5)\" d=\"M 39.45804 201.620029 \r\nL 39.984497 201.620029 \r\nL 39.984497 202.293999 \r\nL 39.45804 202.293999 \r\nz\r\n\" style=\"fill:none;stroke:#ff0000;stroke-linejoin:miter;stroke-width:0.1;\"/>\r\n   </g>\r\n   <g id=\"patch_68\">\r\n    <path clip-path=\"url(#p45718de7a5)\" d=\"M 71.811722 186.44543 \r\nL 72.629533 186.44543 \r\nL 72.629533 187.237202 \r\nL 71.811722 187.237202 \r\nz\r\n\" style=\"fill:none;stroke:#ff0000;stroke-linejoin:miter;stroke-width:0.1;\"/>\r\n   </g>\r\n   <g id=\"patch_69\">\r\n    <path clip-path=\"url(#p45718de7a5)\" d=\"M 177.39679 22.63538 \r\nL 177.745565 22.63538 \r\nL 177.745565 22.737316 \r\nL 177.39679 22.737316 \r\nz\r\n\" style=\"fill:none;stroke:#ff0000;stroke-linejoin:miter;stroke-width:0.1;\"/>\r\n   </g>\r\n   <g id=\"patch_70\">\r\n    <path clip-path=\"url(#p45718de7a5)\" d=\"M 235.148355 105.7501 \r\nL 235.911827 105.7501 \r\nL 235.911827 106.045724 \r\nL 235.148355 106.045724 \r\nz\r\n\" style=\"fill:none;stroke:#ff0000;stroke-linejoin:miter;stroke-width:0.1;\"/>\r\n   </g>\r\n   <g id=\"matplotlib.axis_1\">\r\n    <g id=\"xtick_1\">\r\n     <g id=\"line2d_1\">\r\n      <defs>\r\n       <path d=\"M 0 0 \r\nL 0 3.5 \r\n\" id=\"mc430ecf97e\" style=\"stroke:#000000;stroke-width:0.8;\"/>\r\n      </defs>\r\n      <g>\r\n       <use style=\"stroke:#000000;stroke-width:0.8;\" x=\"33.817841\" xlink:href=\"#mc430ecf97e\" y=\"227.908877\"/>\r\n      </g>\r\n     </g>\r\n     <g id=\"text_1\">\r\n      <!-- 0 -->\r\n      <g transform=\"translate(30.636591 242.507315)scale(0.1 -0.1)\">\r\n       <defs>\r\n        <path d=\"M 2034 4250 \r\nQ 1547 4250 1301 3770 \r\nQ 1056 3291 1056 2328 \r\nQ 1056 1369 1301 889 \r\nQ 1547 409 2034 409 \r\nQ 2525 409 2770 889 \r\nQ 3016 1369 3016 2328 \r\nQ 3016 3291 2770 3770 \r\nQ 2525 4250 2034 4250 \r\nz\r\nM 2034 4750 \r\nQ 2819 4750 3233 4129 \r\nQ 3647 3509 3647 2328 \r\nQ 3647 1150 3233 529 \r\nQ 2819 -91 2034 -91 \r\nQ 1250 -91 836 529 \r\nQ 422 1150 422 2328 \r\nQ 422 3509 836 4129 \r\nQ 1250 4750 2034 4750 \r\nz\r\n\" id=\"DejaVuSans-30\" transform=\"scale(0.015625)\"/>\r\n       </defs>\r\n       <use xlink:href=\"#DejaVuSans-30\"/>\r\n      </g>\r\n     </g>\r\n    </g>\r\n    <g id=\"xtick_2\">\r\n     <g id=\"line2d_2\">\r\n      <g>\r\n       <use style=\"stroke:#000000;stroke-width:0.8;\" x=\"86.851988\" xlink:href=\"#mc430ecf97e\" y=\"227.908877\"/>\r\n      </g>\r\n     </g>\r\n     <g id=\"text_2\">\r\n      <!-- 50 -->\r\n      <g transform=\"translate(80.489488 242.507315)scale(0.1 -0.1)\">\r\n       <defs>\r\n        <path d=\"M 691 4666 \r\nL 3169 4666 \r\nL 3169 4134 \r\nL 1269 4134 \r\nL 1269 2991 \r\nQ 1406 3038 1543 3061 \r\nQ 1681 3084 1819 3084 \r\nQ 2600 3084 3056 2656 \r\nQ 3513 2228 3513 1497 \r\nQ 3513 744 3044 326 \r\nQ 2575 -91 1722 -91 \r\nQ 1428 -91 1123 -41 \r\nQ 819 9 494 109 \r\nL 494 744 \r\nQ 775 591 1075 516 \r\nQ 1375 441 1709 441 \r\nQ 2250 441 2565 725 \r\nQ 2881 1009 2881 1497 \r\nQ 2881 1984 2565 2268 \r\nQ 2250 2553 1709 2553 \r\nQ 1456 2553 1204 2497 \r\nQ 953 2441 691 2322 \r\nL 691 4666 \r\nz\r\n\" id=\"DejaVuSans-35\" transform=\"scale(0.015625)\"/>\r\n       </defs>\r\n       <use xlink:href=\"#DejaVuSans-35\"/>\r\n       <use x=\"63.623047\" xlink:href=\"#DejaVuSans-30\"/>\r\n      </g>\r\n     </g>\r\n    </g>\r\n    <g id=\"xtick_3\">\r\n     <g id=\"line2d_3\">\r\n      <g>\r\n       <use style=\"stroke:#000000;stroke-width:0.8;\" x=\"139.886134\" xlink:href=\"#mc430ecf97e\" y=\"227.908877\"/>\r\n      </g>\r\n     </g>\r\n     <g id=\"text_3\">\r\n      <!-- 100 -->\r\n      <g transform=\"translate(130.342384 242.507315)scale(0.1 -0.1)\">\r\n       <defs>\r\n        <path d=\"M 794 531 \r\nL 1825 531 \r\nL 1825 4091 \r\nL 703 3866 \r\nL 703 4441 \r\nL 1819 4666 \r\nL 2450 4666 \r\nL 2450 531 \r\nL 3481 531 \r\nL 3481 0 \r\nL 794 0 \r\nL 794 531 \r\nz\r\n\" id=\"DejaVuSans-31\" transform=\"scale(0.015625)\"/>\r\n       </defs>\r\n       <use xlink:href=\"#DejaVuSans-31\"/>\r\n       <use x=\"63.623047\" xlink:href=\"#DejaVuSans-30\"/>\r\n       <use x=\"127.246094\" xlink:href=\"#DejaVuSans-30\"/>\r\n      </g>\r\n     </g>\r\n    </g>\r\n    <g id=\"xtick_4\">\r\n     <g id=\"line2d_4\">\r\n      <g>\r\n       <use style=\"stroke:#000000;stroke-width:0.8;\" x=\"192.92028\" xlink:href=\"#mc430ecf97e\" y=\"227.908877\"/>\r\n      </g>\r\n     </g>\r\n     <g id=\"text_4\">\r\n      <!-- 150 -->\r\n      <g transform=\"translate(183.37653 242.507315)scale(0.1 -0.1)\">\r\n       <use xlink:href=\"#DejaVuSans-31\"/>\r\n       <use x=\"63.623047\" xlink:href=\"#DejaVuSans-35\"/>\r\n       <use x=\"127.246094\" xlink:href=\"#DejaVuSans-30\"/>\r\n      </g>\r\n     </g>\r\n    </g>\r\n    <g id=\"xtick_5\">\r\n     <g id=\"line2d_5\">\r\n      <g>\r\n       <use style=\"stroke:#000000;stroke-width:0.8;\" x=\"245.954427\" xlink:href=\"#mc430ecf97e\" y=\"227.908877\"/>\r\n      </g>\r\n     </g>\r\n     <g id=\"text_5\">\r\n      <!-- 200 -->\r\n      <g transform=\"translate(236.410677 242.507315)scale(0.1 -0.1)\">\r\n       <defs>\r\n        <path d=\"M 1228 531 \r\nL 3431 531 \r\nL 3431 0 \r\nL 469 0 \r\nL 469 531 \r\nQ 828 903 1448 1529 \r\nQ 2069 2156 2228 2338 \r\nQ 2531 2678 2651 2914 \r\nQ 2772 3150 2772 3378 \r\nQ 2772 3750 2511 3984 \r\nQ 2250 4219 1831 4219 \r\nQ 1534 4219 1204 4116 \r\nQ 875 4013 500 3803 \r\nL 500 4441 \r\nQ 881 4594 1212 4672 \r\nQ 1544 4750 1819 4750 \r\nQ 2544 4750 2975 4387 \r\nQ 3406 4025 3406 3419 \r\nQ 3406 3131 3298 2873 \r\nQ 3191 2616 2906 2266 \r\nQ 2828 2175 2409 1742 \r\nQ 1991 1309 1228 531 \r\nz\r\n\" id=\"DejaVuSans-32\" transform=\"scale(0.015625)\"/>\r\n       </defs>\r\n       <use xlink:href=\"#DejaVuSans-32\"/>\r\n       <use x=\"63.623047\" xlink:href=\"#DejaVuSans-30\"/>\r\n       <use x=\"127.246094\" xlink:href=\"#DejaVuSans-30\"/>\r\n      </g>\r\n     </g>\r\n    </g>\r\n   </g>\r\n   <g id=\"matplotlib.axis_2\">\r\n    <g id=\"ytick_1\">\r\n     <g id=\"line2d_6\">\r\n      <defs>\r\n       <path d=\"M 0 0 \r\nL -3.5 0 \r\n\" id=\"mbb3538740d\" style=\"stroke:#000000;stroke-width:0.8;\"/>\r\n      </defs>\r\n      <g>\r\n       <use style=\"stroke:#000000;stroke-width:0.8;\" x=\"33.2875\" xlink:href=\"#mbb3538740d\" y=\"10.999219\"/>\r\n      </g>\r\n     </g>\r\n     <g id=\"text_6\">\r\n      <!-- 0 -->\r\n      <g transform=\"translate(19.925 14.798438)scale(0.1 -0.1)\">\r\n       <use xlink:href=\"#DejaVuSans-30\"/>\r\n      </g>\r\n     </g>\r\n    </g>\r\n    <g id=\"ytick_2\">\r\n     <g id=\"line2d_7\">\r\n      <g>\r\n       <use style=\"stroke:#000000;stroke-width:0.8;\" x=\"33.2875\" xlink:href=\"#mbb3538740d\" y=\"37.516292\"/>\r\n      </g>\r\n     </g>\r\n     <g id=\"text_7\">\r\n      <!-- 25 -->\r\n      <g transform=\"translate(13.5625 41.315511)scale(0.1 -0.1)\">\r\n       <use xlink:href=\"#DejaVuSans-32\"/>\r\n       <use x=\"63.623047\" xlink:href=\"#DejaVuSans-35\"/>\r\n      </g>\r\n     </g>\r\n    </g>\r\n    <g id=\"ytick_3\">\r\n     <g id=\"line2d_8\">\r\n      <g>\r\n       <use style=\"stroke:#000000;stroke-width:0.8;\" x=\"33.2875\" xlink:href=\"#mbb3538740d\" y=\"64.033365\"/>\r\n      </g>\r\n     </g>\r\n     <g id=\"text_8\">\r\n      <!-- 50 -->\r\n      <g transform=\"translate(13.5625 67.832584)scale(0.1 -0.1)\">\r\n       <use xlink:href=\"#DejaVuSans-35\"/>\r\n       <use x=\"63.623047\" xlink:href=\"#DejaVuSans-30\"/>\r\n      </g>\r\n     </g>\r\n    </g>\r\n    <g id=\"ytick_4\">\r\n     <g id=\"line2d_9\">\r\n      <g>\r\n       <use style=\"stroke:#000000;stroke-width:0.8;\" x=\"33.2875\" xlink:href=\"#mbb3538740d\" y=\"90.550438\"/>\r\n      </g>\r\n     </g>\r\n     <g id=\"text_9\">\r\n      <!-- 75 -->\r\n      <g transform=\"translate(13.5625 94.349657)scale(0.1 -0.1)\">\r\n       <defs>\r\n        <path d=\"M 525 4666 \r\nL 3525 4666 \r\nL 3525 4397 \r\nL 1831 0 \r\nL 1172 0 \r\nL 2766 4134 \r\nL 525 4134 \r\nL 525 4666 \r\nz\r\n\" id=\"DejaVuSans-37\" transform=\"scale(0.015625)\"/>\r\n       </defs>\r\n       <use xlink:href=\"#DejaVuSans-37\"/>\r\n       <use x=\"63.623047\" xlink:href=\"#DejaVuSans-35\"/>\r\n      </g>\r\n     </g>\r\n    </g>\r\n    <g id=\"ytick_5\">\r\n     <g id=\"line2d_10\">\r\n      <g>\r\n       <use style=\"stroke:#000000;stroke-width:0.8;\" x=\"33.2875\" xlink:href=\"#mbb3538740d\" y=\"117.067511\"/>\r\n      </g>\r\n     </g>\r\n     <g id=\"text_10\">\r\n      <!-- 100 -->\r\n      <g transform=\"translate(7.2 120.86673)scale(0.1 -0.1)\">\r\n       <use xlink:href=\"#DejaVuSans-31\"/>\r\n       <use x=\"63.623047\" xlink:href=\"#DejaVuSans-30\"/>\r\n       <use x=\"127.246094\" xlink:href=\"#DejaVuSans-30\"/>\r\n      </g>\r\n     </g>\r\n    </g>\r\n    <g id=\"ytick_6\">\r\n     <g id=\"line2d_11\">\r\n      <g>\r\n       <use style=\"stroke:#000000;stroke-width:0.8;\" x=\"33.2875\" xlink:href=\"#mbb3538740d\" y=\"143.584585\"/>\r\n      </g>\r\n     </g>\r\n     <g id=\"text_11\">\r\n      <!-- 125 -->\r\n      <g transform=\"translate(7.2 147.383803)scale(0.1 -0.1)\">\r\n       <use xlink:href=\"#DejaVuSans-31\"/>\r\n       <use x=\"63.623047\" xlink:href=\"#DejaVuSans-32\"/>\r\n       <use x=\"127.246094\" xlink:href=\"#DejaVuSans-35\"/>\r\n      </g>\r\n     </g>\r\n    </g>\r\n    <g id=\"ytick_7\">\r\n     <g id=\"line2d_12\">\r\n      <g>\r\n       <use style=\"stroke:#000000;stroke-width:0.8;\" x=\"33.2875\" xlink:href=\"#mbb3538740d\" y=\"170.101658\"/>\r\n      </g>\r\n     </g>\r\n     <g id=\"text_12\">\r\n      <!-- 150 -->\r\n      <g transform=\"translate(7.2 173.900877)scale(0.1 -0.1)\">\r\n       <use xlink:href=\"#DejaVuSans-31\"/>\r\n       <use x=\"63.623047\" xlink:href=\"#DejaVuSans-35\"/>\r\n       <use x=\"127.246094\" xlink:href=\"#DejaVuSans-30\"/>\r\n      </g>\r\n     </g>\r\n    </g>\r\n    <g id=\"ytick_8\">\r\n     <g id=\"line2d_13\">\r\n      <g>\r\n       <use style=\"stroke:#000000;stroke-width:0.8;\" x=\"33.2875\" xlink:href=\"#mbb3538740d\" y=\"196.618731\"/>\r\n      </g>\r\n     </g>\r\n     <g id=\"text_13\">\r\n      <!-- 175 -->\r\n      <g transform=\"translate(7.2 200.41795)scale(0.1 -0.1)\">\r\n       <use xlink:href=\"#DejaVuSans-31\"/>\r\n       <use x=\"63.623047\" xlink:href=\"#DejaVuSans-37\"/>\r\n       <use x=\"127.246094\" xlink:href=\"#DejaVuSans-35\"/>\r\n      </g>\r\n     </g>\r\n    </g>\r\n    <g id=\"ytick_9\">\r\n     <g id=\"line2d_14\">\r\n      <g>\r\n       <use style=\"stroke:#000000;stroke-width:0.8;\" x=\"33.2875\" xlink:href=\"#mbb3538740d\" y=\"223.135804\"/>\r\n      </g>\r\n     </g>\r\n     <g id=\"text_14\">\r\n      <!-- 200 -->\r\n      <g transform=\"translate(7.2 226.935023)scale(0.1 -0.1)\">\r\n       <use xlink:href=\"#DejaVuSans-32\"/>\r\n       <use x=\"63.623047\" xlink:href=\"#DejaVuSans-30\"/>\r\n       <use x=\"127.246094\" xlink:href=\"#DejaVuSans-30\"/>\r\n      </g>\r\n     </g>\r\n    </g>\r\n   </g>\r\n   <g id=\"patch_71\">\r\n    <path d=\"M 33.2875 227.908877 \r\nL 33.2875 10.468877 \r\n\" style=\"fill:none;stroke:#000000;stroke-linecap:square;stroke-linejoin:miter;stroke-width:0.8;\"/>\r\n   </g>\r\n   <g id=\"patch_72\">\r\n    <path d=\"M 250.7275 227.908877 \r\nL 250.7275 10.468877 \r\n\" style=\"fill:none;stroke:#000000;stroke-linecap:square;stroke-linejoin:miter;stroke-width:0.8;\"/>\r\n   </g>\r\n   <g id=\"patch_73\">\r\n    <path d=\"M 33.2875 227.908877 \r\nL 250.7275 227.908877 \r\n\" style=\"fill:none;stroke:#000000;stroke-linecap:square;stroke-linejoin:miter;stroke-width:0.8;\"/>\r\n   </g>\r\n   <g id=\"patch_74\">\r\n    <path d=\"M 33.2875 10.468877 \r\nL 250.7275 10.468877 \r\n\" style=\"fill:none;stroke:#000000;stroke-linecap:square;stroke-linejoin:miter;stroke-width:0.8;\"/>\r\n   </g>\r\n  </g>\r\n </g>\r\n <defs>\r\n  <clipPath id=\"p45718de7a5\">\r\n   <rect height=\"217.44\" width=\"217.44\" x=\"33.2875\" y=\"10.468877\"/>\r\n  </clipPath>\r\n </defs>\r\n</svg>\r\n",
            "image/png": "[encoded data removed]"
          },
          "metadata": {
            "needs_background": "light"
          }
        }
      ],
      "source": [
        "print_img(img_aug, imgData_aug)"
      ]
    },
    {
      "source": [
        "#TODO:\n",
        "- Ingrandire bbox\n",
        "- unire bbox sovrapposte\n",
        "- Mergiare branch data_clean (anche alla fine)\n",
        "- Quando vengono create le patch, ritagliare le bbox per farle stare tutte nella patch X\n",
        "- Check tra nostro dataset pulito e quello di ICRAR (dopo aver mergiato il branch data_clean)\n",
        "\n",
        "Da capire per la rete:\n",
        "- bisogna scalre input tra 0 e 255 intero?\n",
        "- salvare le patch come immagini o possiamo darle in input on the fly?\n",
        "- è necessario un custom input layer che converte le nostra immagini da 1 a 3 canali?"
      ],
      "cell_type": "code",
      "metadata": {},
      "execution_count": 16,
      "outputs": [
        {
          "output_type": "error",
          "ename": "SyntaxError",
          "evalue": "invalid syntax (<ipython-input-16-ee5687a4a2c3>, line 2)",
          "traceback": [
            "\u001b[1;36m  File \u001b[1;32m\"<ipython-input-16-ee5687a4a2c3>\"\u001b[1;36m, line \u001b[1;32m2\u001b[0m\n\u001b[1;33m    - Ingrandire bbox\u001b[0m\n\u001b[1;37m                 ^\u001b[0m\n\u001b[1;31mSyntaxError\u001b[0m\u001b[1;31m:\u001b[0m invalid syntax\n"
          ]
        }
      ]
    },
    {
      "cell_type": "code",
      "execution_count": 20,
      "metadata": {},
      "outputs": [
        {
          "output_type": "stream",
          "name": "stdout",
          "text": [
            "Downloading SKA vgg16_weights_tf_dim_ordering_tf_kernels_notop.h5 data...\n",
            "Download completed!\n"
          ]
        }
      ],
      "source": [
        "# Download VGG16 weights\n",
        "# 'https://github.com/fchollet/deep-learning-models/releases/download/v0.1/vgg16_weights_tf_dim_ordering_tf_kernels_notop.h5'\n",
        "if not os.path.exists(os.path.join(config.MODEL_WEIGHTS, 'vgg16')):\n",
        "    download_data('vgg16_weights_tf_dim_ordering_tf_kernels_notop.h5', \n",
        "    'https://github.com/fchollet/deep-learning-models/releases/download/v0.1/vgg16_weights_tf_dim_ordering_tf_kernels_notop.h5', config.MODEL_WEIGHTS + '/vgg16')\n"
      ]
    },
    {
      "cell_type": "code",
      "execution_count": 21,
      "metadata": {},
      "outputs": [
        {
          "output_type": "stream",
          "name": "stdout",
          "text": [
            "Model: \"RegionProposal\"\n_________________________________________________________________\nLayer (type)                 Output Shape              Param #   \n=================================================================\ninput_1 (InputLayer)         [(None, 205, 205, 1)]     0         \n_________________________________________________________________\nCustom_input_layer (Expander (None, 205, 205, 3)       6         \n_________________________________________________________________\nblock1_conv1 (Conv2D)        (None, 205, 205, 64)      1792      \n_________________________________________________________________\nblock1_conv2 (Conv2D)        (None, 205, 205, 64)      36928     \n_________________________________________________________________\nblock1_pool (MaxPooling2D)   (None, 102, 102, 64)      0         \n_________________________________________________________________\nblock2_conv1 (Conv2D)        (None, 102, 102, 128)     73856     \n_________________________________________________________________\nblock2_conv2 (Conv2D)        (None, 102, 102, 128)     147584    \n_________________________________________________________________\nblock2_pool (MaxPooling2D)   (None, 51, 51, 128)       0         \n_________________________________________________________________\nblock3_conv1 (Conv2D)        (None, 51, 51, 256)       295168    \n_________________________________________________________________\nblock3_conv2 (Conv2D)        (None, 51, 51, 256)       590080    \n_________________________________________________________________\nblock3_conv3 (Conv2D)        (None, 51, 51, 256)       590080    \n_________________________________________________________________\nblock3_pool (MaxPooling2D)   (None, 25, 25, 256)       0         \n_________________________________________________________________\nblock4_conv1 (Conv2D)        (None, 25, 25, 512)       1180160   \n_________________________________________________________________\nblock4_conv2 (Conv2D)        (None, 25, 25, 512)       2359808   \n_________________________________________________________________\nblock4_conv3 (Conv2D)        (None, 25, 25, 512)       2359808   \n_________________________________________________________________\nblock4_pool (MaxPooling2D)   (None, 12, 12, 512)       0         \n_________________________________________________________________\nblock5_conv1 (Conv2D)        (None, 12, 12, 512)       2359808   \n_________________________________________________________________\nblock5_conv2 (Conv2D)        (None, 12, 12, 512)       2359808   \n_________________________________________________________________\nblock5_conv3 (Conv2D)        (None, 12, 12, 512)       2359808   \n_________________________________________________________________\nrpn (RpnNet)                 [(None, 12, 12, 30), (Non 2436758   \n=================================================================\nTotal params: 17,151,452\nTrainable params: 16,891,292\nNon-trainable params: 260,160\n_________________________________________________________________\nModel: \"DetectorClassifier\"\n__________________________________________________________________________________________________\nLayer (type)                    Output Shape         Param #     Connected to                     \n==================================================================================================\ninput_1 (InputLayer)            [(None, 205, 205, 1) 0                                            \n__________________________________________________________________________________________________\nCustom_input_layer (Expander)   (None, 205, 205, 3)  6           input_1[0][0]                    \n__________________________________________________________________________________________________\nblock1_conv1 (Conv2D)           (None, 205, 205, 64) 1792        Custom_input_layer[0][0]         \n__________________________________________________________________________________________________\nblock1_conv2 (Conv2D)           (None, 205, 205, 64) 36928       block1_conv1[0][0]               \n__________________________________________________________________________________________________\nblock1_pool (MaxPooling2D)      (None, 102, 102, 64) 0           block1_conv2[0][0]               \n__________________________________________________________________________________________________\nblock2_conv1 (Conv2D)           (None, 102, 102, 128 73856       block1_pool[0][0]                \n__________________________________________________________________________________________________\nblock2_conv2 (Conv2D)           (None, 102, 102, 128 147584      block2_conv1[0][0]               \n__________________________________________________________________________________________________\nblock2_pool (MaxPooling2D)      (None, 51, 51, 128)  0           block2_conv2[0][0]               \n__________________________________________________________________________________________________\nblock3_conv1 (Conv2D)           (None, 51, 51, 256)  295168      block2_pool[0][0]                \n__________________________________________________________________________________________________\nblock3_conv2 (Conv2D)           (None, 51, 51, 256)  590080      block3_conv1[0][0]               \n__________________________________________________________________________________________________\nblock3_conv3 (Conv2D)           (None, 51, 51, 256)  590080      block3_conv2[0][0]               \n__________________________________________________________________________________________________\nblock3_pool (MaxPooling2D)      (None, 25, 25, 256)  0           block3_conv3[0][0]               \n__________________________________________________________________________________________________\nblock4_conv1 (Conv2D)           (None, 25, 25, 512)  1180160     block3_pool[0][0]                \n__________________________________________________________________________________________________\nblock4_conv2 (Conv2D)           (None, 25, 25, 512)  2359808     block4_conv1[0][0]               \n__________________________________________________________________________________________________\nblock4_conv3 (Conv2D)           (None, 25, 25, 512)  2359808     block4_conv2[0][0]               \n__________________________________________________________________________________________________\nblock4_pool (MaxPooling2D)      (None, 12, 12, 512)  0           block4_conv3[0][0]               \n__________________________________________________________________________________________________\nblock5_conv1 (Conv2D)           (None, 12, 12, 512)  2359808     block4_pool[0][0]                \n__________________________________________________________________________________________________\nblock5_conv2 (Conv2D)           (None, 12, 12, 512)  2359808     block5_conv1[0][0]               \n__________________________________________________________________________________________________\nblock5_conv3 (Conv2D)           (None, 12, 12, 512)  2359808     block5_conv2[0][0]               \n__________________________________________________________________________________________________\ninput_2 (InputLayer)            [(None, None, 4)]    0                                            \n__________________________________________________________________________________________________\nroi_pooling (RoiPoolingConv)    (1, 4, 7, 7, 512)    0           block5_conv3[0][0]               \n                                                                 input_2[0][0]                    \n__________________________________________________________________________________________________\ncls (Classifier)                [(1, 4, 9), (1, 4, 3 119730221   roi_pooling[0][0]                \n==================================================================================================\nTotal params: 134,444,915\nTrainable params: 134,184,755\nNon-trainable params: 260,160\n__________________________________________________________________________________________________\nModel: \"End2end_model\"\n__________________________________________________________________________________________________\nLayer (type)                    Output Shape         Param #     Connected to                     \n==================================================================================================\ninput_1 (InputLayer)            [(None, 205, 205, 1) 0                                            \n__________________________________________________________________________________________________\nCustom_input_layer (Expander)   (None, 205, 205, 3)  6           input_1[0][0]                    \n__________________________________________________________________________________________________\nblock1_conv1 (Conv2D)           (None, 205, 205, 64) 1792        Custom_input_layer[0][0]         \n__________________________________________________________________________________________________\nblock1_conv2 (Conv2D)           (None, 205, 205, 64) 36928       block1_conv1[0][0]               \n__________________________________________________________________________________________________\nblock1_pool (MaxPooling2D)      (None, 102, 102, 64) 0           block1_conv2[0][0]               \n__________________________________________________________________________________________________\nblock2_conv1 (Conv2D)           (None, 102, 102, 128 73856       block1_pool[0][0]                \n__________________________________________________________________________________________________\nblock2_conv2 (Conv2D)           (None, 102, 102, 128 147584      block2_conv1[0][0]               \n__________________________________________________________________________________________________\nblock2_pool (MaxPooling2D)      (None, 51, 51, 128)  0           block2_conv2[0][0]               \n__________________________________________________________________________________________________\nblock3_conv1 (Conv2D)           (None, 51, 51, 256)  295168      block2_pool[0][0]                \n__________________________________________________________________________________________________\nblock3_conv2 (Conv2D)           (None, 51, 51, 256)  590080      block3_conv1[0][0]               \n__________________________________________________________________________________________________\nblock3_conv3 (Conv2D)           (None, 51, 51, 256)  590080      block3_conv2[0][0]               \n__________________________________________________________________________________________________\nblock3_pool (MaxPooling2D)      (None, 25, 25, 256)  0           block3_conv3[0][0]               \n__________________________________________________________________________________________________\nblock4_conv1 (Conv2D)           (None, 25, 25, 512)  1180160     block3_pool[0][0]                \n__________________________________________________________________________________________________\nblock4_conv2 (Conv2D)           (None, 25, 25, 512)  2359808     block4_conv1[0][0]               \n__________________________________________________________________________________________________\nblock4_conv3 (Conv2D)           (None, 25, 25, 512)  2359808     block4_conv2[0][0]               \n__________________________________________________________________________________________________\nblock4_pool (MaxPooling2D)      (None, 12, 12, 512)  0           block4_conv3[0][0]               \n__________________________________________________________________________________________________\nblock5_conv1 (Conv2D)           (None, 12, 12, 512)  2359808     block4_pool[0][0]                \n__________________________________________________________________________________________________\nblock5_conv2 (Conv2D)           (None, 12, 12, 512)  2359808     block5_conv1[0][0]               \n__________________________________________________________________________________________________\nblock5_conv3 (Conv2D)           (None, 12, 12, 512)  2359808     block5_conv2[0][0]               \n__________________________________________________________________________________________________\ninput_2 (InputLayer)            [(None, None, 4)]    0                                            \n__________________________________________________________________________________________________\nroi_pooling (RoiPoolingConv)    (1, 4, 7, 7, 512)    0           block5_conv3[0][0]               \n                                                                 input_2[0][0]                    \n__________________________________________________________________________________________________\nrpn (RpnNet)                    [(None, 12, 12, 30), 2436758     block5_conv3[0][0]               \n__________________________________________________________________________________________________\ncls (Classifier)                [(1, 4, 9), (1, 4, 3 119730221   roi_pooling[0][0]                \n==================================================================================================\nTotal params: 136,881,673\nTrainable params: 136,621,513\nNon-trainable params: 260,160\n__________________________________________________________________________________________________\n"
          ]
        }
      ],
      "source": [
        "import keras\n",
        "from keras.layers import Input\n",
        "from src.layers import Expander, vgg16, RpnNet, RoiPoolingConv, Classifier\n",
        "import src.models as models\n",
        "import src.layers as layers\n",
        "\n",
        "vgg16_weight_path = os.path.join('./model/vgg16/vgg16_weights_tf_dim_ordering_tf_kernels_notop.h5')\n",
        "\n",
        "rpn_model, cls_model, total_model = models.e2e(input_shape_1=(205,205,1), input_shape_2=(None, 4), anchor_num=30, pooling_regions=7, num_rois=4, num_classes=9, weights=vgg16_weight_path)\n",
        "\n",
        "rpn_model.summary()\n",
        "cls_model.summary()\n",
        "total_model.summary()"
      ]
    },
    {
      "cell_type": "code",
      "execution_count": 24,
      "metadata": {},
      "outputs": [],
      "source": [
        "import tensorflow as tf\n",
        "from keras import backend as K\n",
        "\n",
        "\n",
        "lambda_rpn_regr = 1.0\n",
        "lambda_rpn_class = 1.0\n",
        "\n",
        "lambda_cls_regr = 1.0\n",
        "lambda_cls_class = 1.0\n",
        "\n",
        "epsilon = 1e-4\n",
        "\n",
        "def rpn_loss_regr(num_anchors):\n",
        "    \"\"\"Loss function for rpn regression\n",
        "    Args:\n",
        "        num_anchors: number of anchors (9 in here)\n",
        "    Returns:\n",
        "        Smooth L1 loss function \n",
        "                           0.5*x*x (if x_abs < 1)\n",
        "                           x_abx - 0.5 (otherwise)\n",
        "    \"\"\"\n",
        "    def rpn_loss_regr_fixed_num(y_true, y_pred):\n",
        "\n",
        "        # x is the difference between true value and predicted value\n",
        "        x = y_true[:, :, :, 4 * num_anchors:] - y_pred\n",
        "\n",
        "        # absolute value of x\n",
        "        x_abs = K.abs(x)\n",
        "\n",
        "        # If x_abs <= 1.0, x_bool = 1\n",
        "        x_bool = K.cast(K.less_equal(x_abs, 1.0), tf.float32)\n",
        "\n",
        "        return lambda_rpn_regr * K.sum(\n",
        "            y_true[:, :, :, :4 * num_anchors] * (x_bool * (0.5 * x * x) + (1 - x_bool) * (x_abs - 0.5))) / K.sum(epsilon + y_true[:, :, :, :4 * num_anchors])\n",
        "\n",
        "    return rpn_loss_regr_fixed_num\n",
        "\n",
        "def rpn_loss_cls(num_anchors):\n",
        "    \"\"\"Loss function for rpn classification\n",
        "    Args:\n",
        "        num_anchors: number of anchors (9 in here)\n",
        "        y_true[:, :, :, :9]: [0,1,0,0,0,0,0,1,0] means only the second and the eighth box is valid which contains pos or neg anchor => isValid\n",
        "        y_true[:, :, :, 9:]: [0,1,0,0,0,0,0,0,0] means the second box is pos and eighth box is negative\n",
        "    Returns:\n",
        "        lambda * sum((binary_crossentropy(isValid*y_pred,y_true))) / N\n",
        "    \"\"\"\n",
        "    def rpn_loss_cls_fixed_num(y_true, y_pred):\n",
        "\n",
        "            return lambda_rpn_class * K.sum(y_true[:, :, :, :num_anchors] * K.binary_crossentropy(y_pred[:, :, :, :num_anchors], y_true[:, :, :, :num_anchors])) / K.sum(epsilon + y_true[:, :, :, :num_anchors]) # Corretto num anchors qui\n",
        "            \n",
        "\n",
        "    return rpn_loss_cls_fixed_num\n",
        "\n",
        "def class_loss_regr(num_classes):\n",
        "    \"\"\"Loss function for rpn regression\n",
        "    Args:\n",
        "        num_anchors: number of anchors (9 in here)\n",
        "    Returns:\n",
        "        Smooth L1 loss function \n",
        "                           0.5*x*x (if x_abs < 1)\n",
        "                           x_abs - 0.5 (otherwise)\n",
        "    \"\"\"\n",
        "    def class_loss_regr_fixed_num(y_true, y_pred):\n",
        "        x = y_true[:, :, 4*num_classes:] - y_pred\n",
        "        x_abs = K.abs(x)\n",
        "        x_bool = K.cast(K.less_equal(x_abs, 1.0), 'float32')\n",
        "        return lambda_cls_regr * K.sum(y_true[:, :, :4*num_classes] * (x_bool * (0.5 * x * x) + (1 - x_bool) * (x_abs - 0.5))) / K.sum(epsilon + y_true[:, :, :4*num_classes])\n",
        "    return class_loss_regr_fixed_num\n",
        "\n",
        "\n",
        "def class_loss_cls(y_true, y_pred):\n",
        "    return lambda_cls_class * K.mean(categorical_crossentropy(y_true[0, :, :], y_pred[0, :, :]))"
      ]
    },
    {
      "cell_type": "code",
      "execution_count": 25,
      "metadata": {},
      "outputs": [],
      "source": [
        "from keras.optimizers import Adam\n",
        "\n",
        "ANCHOR_NUM=30\n",
        "num_classes=9\n",
        "\n",
        "optimizer = Adam(lr=1e-5)\n",
        "optimizer_classifier = Adam(lr=1e-5)\n",
        "\n",
        "rpn_model.compile(optimizer=optimizer, loss=[rpn_loss_cls(ANCHOR_NUM), rpn_loss_regr(ANCHOR_NUM)])\n",
        "cls_model.compile(optimizer=optimizer_classifier, loss=[class_loss_cls, class_loss_regr(num_classes)], metrics={'dense_class_{}'.format(num_classes): 'accuracy'})\n",
        "total_model.compile(optimizer='sgd', loss='mae')"
      ]
    },
    {
      "cell_type": "code",
      "execution_count": 27,
      "metadata": {
        "tags": [
          "outputPrepend"
        ]
      },
      "outputs": [
        {
          "output_type": "stream",
          "name": "stdout",
          "text": [
            "             8.154436\n",
            "y2s                             176.483324\n",
            "patch_name        560Mhz_1000h_16380_16731\n",
            "patch_xo                             16380\n",
            "patch_yo                             16731\n",
            "patch_dim                              205\n",
            "Name: 53, dtype: object\n",
            "54\n",
            "ID                                16400073\n",
            "RA (core)                        -0.032432\n",
            "DEC (core)                      -29.914839\n",
            "RA (centroid)                    -0.032432\n",
            "DEC (centroid)                  -29.914839\n",
            "FLUX                              0.000007\n",
            "Core frac                             -0.0\n",
            "BMAJ                                 0.522\n",
            "BMIN                                 0.188\n",
            "PA                                 -27.138\n",
            "SIZE                                     2\n",
            "CLASS                                    3\n",
            "SELECTION                                1\n",
            "x                                16550.482\n",
            "y                                16890.351\n",
            "x1                            16550.091021\n",
            "y1                            16890.109352\n",
            "x2                            16550.872788\n",
            "y2                            16890.590947\n",
            "major_semia_px                    0.431941\n",
            "minor_semia_px                    0.155565\n",
            "pa_in_rad                        -0.473647\n",
            "width                             0.781767\n",
            "height                            0.481596\n",
            "x1s                             170.091021\n",
            "y1s                             159.109352\n",
            "x2s                             170.872788\n",
            "y2s                             159.590947\n",
            "patch_name        560Mhz_1000h_16380_16731\n",
            "patch_xo                             16380\n",
            "patch_yo                             16731\n",
            "patch_dim                              205\n",
            "Name: 54, dtype: object\n",
            "55\n",
            "ID                                 4339860\n",
            "RA (core)                         -0.03814\n",
            "DEC (core)                      -29.934931\n",
            "RA (centroid)                     -0.03814\n",
            "DEC (centroid)                  -29.934931\n",
            "FLUX                              0.000015\n",
            "Core frac                             -0.0\n",
            "BMAJ                                 0.363\n",
            "BMIN                                 0.124\n",
            "PA                                  -8.279\n",
            "SIZE                                     2\n",
            "CLASS                                    3\n",
            "SELECTION                                1\n",
            "x                                16579.918\n",
            "y                                16770.638\n",
            "x1                            16579.619605\n",
            "y1                            16770.526504\n",
            "x2                            16580.214824\n",
            "y2                            16770.747235\n",
            "major_semia_px                    0.300373\n",
            "minor_semia_px                    0.102607\n",
            "pa_in_rad                        -0.144496\n",
            "width                             0.595219\n",
            "height                            0.220731\n",
            "x1s                             199.619605\n",
            "y1s                              39.526504\n",
            "x2s                             200.214824\n",
            "y2s                              39.747235\n",
            "patch_name        560Mhz_1000h_16380_16731\n",
            "patch_xo                             16380\n",
            "patch_yo                             16731\n",
            "patch_dim                              205\n",
            "Name: 55, dtype: object\n",
            "56\n",
            "ID                                36301646\n",
            "RA (core)                        -0.019916\n",
            "DEC (core)                      -29.927759\n",
            "RA (centroid)                    -0.019916\n",
            "DEC (centroid)                  -29.927759\n",
            "FLUX                              0.000013\n",
            "Core frac                             -0.0\n",
            "BMAJ                                 1.285\n",
            "BMIN                                 0.288\n",
            "PA                                  -15.91\n",
            "SIZE                                     2\n",
            "CLASS                                    3\n",
            "SELECTION                                1\n",
            "x                                16485.833\n",
            "y                                16813.389\n",
            "x1                             16484.80807\n",
            "y1                            16813.017068\n",
            "x2                            16486.857383\n",
            "y2                             16813.75865\n",
            "major_semia_px                    1.063303\n",
            "minor_semia_px                    0.238312\n",
            "pa_in_rad                        -0.277682\n",
            "width                             2.049312\n",
            "height                            0.741581\n",
            "x1s                              104.80807\n",
            "y1s                              82.017068\n",
            "x2s                             106.857383\n",
            "y2s                               82.75865\n",
            "patch_name        560Mhz_1000h_16380_16731\n",
            "patch_xo                             16380\n",
            "patch_yo                             16731\n",
            "patch_dim                              205\n",
            "Name: 56, dtype: object\n",
            "57\n",
            "ID                                 8050427\n",
            "RA (core)                        -0.005032\n",
            "DEC (core)                      -29.939239\n",
            "RA (centroid)                    -0.005032\n",
            "DEC (centroid)                  -29.939239\n",
            "FLUX                              0.000043\n",
            "Core frac                             -0.0\n",
            "BMAJ                                 2.157\n",
            "BMIN                                 0.264\n",
            "PA                                 -55.468\n",
            "SIZE                                     2\n",
            "CLASS                                    3\n",
            "SELECTION                                1\n",
            "x                                16408.978\n",
            "y                                16744.999\n",
            "x1                            16407.950618\n",
            "y1                            16743.523093\n",
            "x2                            16410.005932\n",
            "y2                            16746.474273\n",
            "major_semia_px                     1.78486\n",
            "minor_semia_px                    0.218453\n",
            "pa_in_rad                        -0.968099\n",
            "width                             2.055315\n",
            "height                             2.95118\n",
            "x1s                              27.950618\n",
            "y1s                              12.523093\n",
            "x2s                              30.005932\n",
            "y2s                              15.474273\n",
            "patch_name        560Mhz_1000h_16380_16731\n",
            "patch_xo                             16380\n",
            "patch_yo                             16731\n",
            "patch_dim                              205\n",
            "Name: 57, dtype: object\n",
            "58\n",
            "ID                                19449360\n",
            "RA (core)                        -0.005099\n",
            "DEC (core)                      -29.909416\n",
            "RA (centroid)                    -0.005099\n",
            "DEC (centroid)                  -29.909416\n",
            "FLUX                              0.000006\n",
            "Core frac                             -0.0\n",
            "BMAJ                                  0.44\n",
            "BMIN                                 0.105\n",
            "PA                                  85.648\n",
            "SIZE                                     2\n",
            "CLASS                                    3\n",
            "SELECTION                                1\n",
            "x                                16409.333\n",
            "y                                16922.681\n",
            "x1                            16409.242478\n",
            "y1                            16922.316872\n",
            "x2                            16409.424344\n",
            "y2                            16923.043068\n",
            "major_semia_px                    0.364088\n",
            "minor_semia_px                    0.086885\n",
            "pa_in_rad                          1.49484\n",
            "width                             0.181866\n",
            "height                            0.726197\n",
            "x1s                              29.242478\n",
            "y1s                             191.316872\n",
            "x2s                              29.424344\n",
            "y2s                             192.043068\n",
            "patch_name        560Mhz_1000h_16380_16731\n",
            "patch_xo                             16380\n",
            "patch_yo                             16731\n",
            "patch_dim                              205\n",
            "Name: 58, dtype: object\n",
            "59\n",
            "ID                                27722057\n",
            "RA (core)                        -0.006787\n",
            "DEC (core)                      -29.913986\n",
            "RA (centroid)                    -0.006787\n",
            "DEC (centroid)                  -29.913986\n",
            "FLUX                              0.000019\n",
            "Core frac                             -0.0\n",
            "BMAJ                                 1.017\n",
            "BMIN                                 0.204\n",
            "PA                                   6.121\n",
            "SIZE                                     2\n",
            "CLASS                                    3\n",
            "SELECTION                                1\n",
            "x                                 16418.05\n",
            "y                                16895.453\n",
            "x1                            16417.212696\n",
            "y1                            16895.261991\n",
            "x2                            16418.886568\n",
            "y2                            16895.642637\n",
            "major_semia_px                     0.84154\n",
            "minor_semia_px                    0.168805\n",
            "pa_in_rad                         0.106832\n",
            "width                             1.673872\n",
            "height                            0.380646\n",
            "x1s                              37.212696\n",
            "y1s                             164.261991\n",
            "x2s                              38.886568\n",
            "y2s                             164.642637\n",
            "patch_name        560Mhz_1000h_16380_16731\n",
            "patch_xo                             16380\n",
            "patch_yo                             16731\n",
            "patch_dim                              205\n",
            "Name: 59, dtype: object\n",
            "60\n",
            "ID                                 7129791\n",
            "RA (core)                        -0.006576\n",
            "DEC (core)                      -29.934639\n",
            "RA (centroid)                    -0.006576\n",
            "DEC (centroid)                  -29.934639\n",
            "FLUX                               0.00001\n",
            "Core frac                             -0.0\n",
            "BMAJ                                 0.487\n",
            "BMIN                                 0.092\n",
            "PA                                 -63.716\n",
            "SIZE                                     2\n",
            "CLASS                                    3\n",
            "SELECTION                                1\n",
            "x                                16416.954\n",
            "y                                16772.408\n",
            "x1                            16416.763045\n",
            "y1                            16772.044387\n",
            "x2                            16417.145158\n",
            "y2                            16772.770156\n",
            "major_semia_px                    0.402979\n",
            "minor_semia_px                    0.076128\n",
            "pa_in_rad                        -1.112054\n",
            "width                             0.382113\n",
            "height                            0.725769\n",
            "x1s                              36.763045\n",
            "y1s                              41.044387\n",
            "x2s                              37.145158\n",
            "y2s                              41.770156\n",
            "patch_name        560Mhz_1000h_16380_16731\n",
            "patch_xo                             16380\n",
            "patch_yo                             16731\n",
            "patch_dim                              205\n",
            "Name: 60, dtype: object\n",
            "61\n",
            "ID                                36258132\n",
            "RA (core)                        -0.022729\n",
            "DEC (core)                      -29.916462\n",
            "RA (centroid)                    -0.022729\n",
            "DEC (centroid)                  -29.916462\n",
            "FLUX                              0.000015\n",
            "Core frac                             -0.0\n",
            "BMAJ                                 0.683\n",
            "BMIN                                 0.174\n",
            "PA                                 -40.243\n",
            "SIZE                                     2\n",
            "CLASS                                    3\n",
            "SELECTION                                1\n",
            "x                                16500.369\n",
            "y                                16880.693\n",
            "x1                            16499.927934\n",
            "y1                            16880.310511\n",
            "x2                            16500.810554\n",
            "y2                            16881.073102\n",
            "major_semia_px                    0.565164\n",
            "minor_semia_px                     0.14398\n",
            "pa_in_rad                        -0.702373\n",
            "width                              0.88262\n",
            "height                            0.762591\n",
            "x1s                             119.927934\n",
            "y1s                             149.310511\n",
            "x2s                             120.810554\n",
            "y2s                             150.073102\n",
            "patch_name        560Mhz_1000h_16380_16731\n",
            "patch_xo                             16380\n",
            "patch_yo                             16731\n",
            "patch_dim                              205\n",
            "Name: 61, dtype: object\n",
            "62\n",
            "ID                                 5164471\n",
            "RA (core)                        -0.006556\n",
            "DEC (core)                      -29.917397\n",
            "RA (centroid)                    -0.006556\n",
            "DEC (centroid)                  -29.917397\n",
            "FLUX                              0.000019\n",
            "Core frac                             -0.0\n",
            "BMAJ                                 0.635\n",
            "BMIN                                 0.196\n",
            "PA                                  10.607\n",
            "SIZE                                     2\n",
            "CLASS                                    3\n",
            "SELECTION                                1\n",
            "x                                16416.856\n",
            "y                                16875.135\n",
            "x1                            16416.338241\n",
            "y1                            16874.947798\n",
            "x2                            16417.372899\n",
            "y2                            16875.320718\n",
            "major_semia_px                    0.525445\n",
            "minor_semia_px                    0.162185\n",
            "pa_in_rad                         0.185127\n",
            "width                             1.034658\n",
            "height                             0.37292\n",
            "x1s                              36.338241\n",
            "y1s                             143.947798\n",
            "x2s                              37.372899\n",
            "y2s                             144.320718\n",
            "patch_name        560Mhz_1000h_16380_16731\n",
            "patch_xo                             16380\n",
            "patch_yo                             16731\n",
            "patch_dim                              205\n",
            "Name: 62, dtype: object\n",
            "63\n",
            "ID                                 9005660\n",
            "RA (core)                        -0.022509\n",
            "DEC (core)                      -29.931404\n",
            "RA (centroid)                    -0.022509\n",
            "DEC (centroid)                  -29.931404\n",
            "FLUX                              0.000013\n",
            "Core frac                             -0.0\n",
            "BMAJ                                  1.09\n",
            "BMIN                                 0.293\n",
            "PA                                  63.968\n",
            "SIZE                                     2\n",
            "CLASS                                    3\n",
            "SELECTION                                1\n",
            "x                                16499.217\n",
            "y                                 16791.67\n",
            "x1                            16498.765088\n",
            "y1                            16790.852151\n",
            "x2                            16499.668745\n",
            "y2                            16792.486947\n",
            "major_semia_px                    0.901946\n",
            "minor_semia_px                     0.24245\n",
            "pa_in_rad                         1.116452\n",
            "width                             0.903657\n",
            "height                            1.634795\n",
            "x1s                             118.765088\n",
            "y1s                              59.852151\n",
            "x2s                             119.668745\n",
            "y2s                              61.486947\n",
            "patch_name        560Mhz_1000h_16380_16731\n",
            "patch_xo                             16380\n",
            "patch_yo                             16731\n",
            "patch_dim                              205\n",
            "Name: 63, dtype: object\n",
            "64\n",
            "ID                                35737787\n",
            "RA (core)                        -0.000497\n",
            "DEC (core)                      -29.911371\n",
            "RA (centroid)                    -0.000497\n",
            "DEC (centroid)                  -29.911371\n",
            "FLUX                              0.000028\n",
            "Core frac                             -0.0\n",
            "BMAJ                                 0.479\n",
            "BMIN                                 0.089\n",
            "PA                                  52.518\n",
            "SIZE                                     2\n",
            "CLASS                                    3\n",
            "SELECTION                                1\n",
            "x                                16385.566\n",
            "y                                16911.034\n",
            "x1                            16385.317516\n",
            "y1                            16910.715168\n",
            "x2                            16385.813854\n",
            "y2                            16911.350579\n",
            "major_semia_px                     0.39636\n",
            "minor_semia_px                    0.073645\n",
            "pa_in_rad                         0.916612\n",
            "width                             0.496338\n",
            "height                            0.635411\n",
            "x1s                               5.317516\n",
            "y1s                             179.715168\n",
            "x2s                               5.813854\n",
            "y2s                             180.350579\n",
            "patch_name        560Mhz_1000h_16380_16731\n",
            "patch_xo                             16380\n",
            "patch_yo                             16731\n",
            "patch_dim                              205\n",
            "Name: 64, dtype: object\n",
            "65\n",
            "ID                                31108334\n",
            "RA (core)                         -0.00643\n",
            "DEC (core)                      -29.913763\n",
            "RA (centroid)                     -0.00643\n",
            "DEC (centroid)                  -29.913763\n",
            "FLUX                              0.000013\n",
            "Core frac                             -0.0\n",
            "BMAJ                                 0.643\n",
            "BMIN                                 0.084\n",
            "PA                                 -44.041\n",
            "SIZE                                     2\n",
            "CLASS                                    3\n",
            "SELECTION                                1\n",
            "x                                16416.206\n",
            "y                                16896.783\n",
            "x1                            16415.820206\n",
            "y1                            16896.408726\n",
            "x2                            16416.591228\n",
            "y2                            16897.155199\n",
            "major_semia_px                    0.532065\n",
            "minor_semia_px                    0.069508\n",
            "pa_in_rad                         -0.76866\n",
            "width                             0.771023\n",
            "height                            0.746474\n",
            "x1s                              35.820206\n",
            "y1s                             165.408726\n",
            "x2s                              36.591228\n",
            "y2s                             166.155199\n",
            "patch_name        560Mhz_1000h_16380_16731\n",
            "patch_xo                             16380\n",
            "patch_yo                             16731\n",
            "patch_dim                              205\n",
            "Name: 65, dtype: object\n",
            "66\n",
            "ID                                16819986\n",
            "RA (core)                         -0.02567\n",
            "DEC (core)                      -29.939737\n",
            "RA (centroid)                     -0.02567\n",
            "DEC (centroid)                  -29.939737\n",
            "FLUX                              0.000007\n",
            "Core frac                             -0.0\n",
            "BMAJ                                 0.199\n",
            "BMIN                                 0.057\n",
            "PA                                  -3.338\n",
            "SIZE                                     2\n",
            "CLASS                                    3\n",
            "SELECTION                                1\n",
            "x                                16515.529\n",
            "y                                16742.019\n",
            "x1                            16515.364627\n",
            "y1                            16741.970443\n",
            "x2                            16515.693448\n",
            "y2                            16742.066547\n",
            "major_semia_px                    0.164667\n",
            "minor_semia_px                    0.047166\n",
            "pa_in_rad                        -0.058259\n",
            "width                             0.328821\n",
            "height                            0.096104\n",
            "x1s                             135.364627\n",
            "y1s                              10.970443\n",
            "x2s                             135.693448\n",
            "y2s                              11.066547\n",
            "patch_name        560Mhz_1000h_16380_16731\n",
            "patch_xo                             16380\n",
            "patch_yo                             16731\n",
            "patch_dim                              205\n",
            "Name: 66, dtype: object\n",
            "67\n",
            "ID                                30436469\n",
            "RA (core)                         -0.03625\n",
            "DEC (core)                      -29.926567\n",
            "RA (centroid)                     -0.03625\n",
            "DEC (centroid)                  -29.926567\n",
            "FLUX                              0.000013\n",
            "Core frac                             -0.0\n",
            "BMAJ                                 0.453\n",
            "BMIN                                 0.111\n",
            "PA                                 -16.761\n",
            "SIZE                                     2\n",
            "CLASS                                    3\n",
            "SELECTION                                1\n",
            "x                                16570.172\n",
            "y                                 16820.47\n",
            "x1                            16569.812156\n",
            "y1                            16820.330071\n",
            "x2                            16570.531949\n",
            "y2                            16820.608782\n",
            "major_semia_px                    0.374845\n",
            "minor_semia_px                     0.09185\n",
            "pa_in_rad                        -0.292535\n",
            "width                             0.719793\n",
            "height                            0.278711\n",
            "x1s                             189.812156\n",
            "y1s                              89.330071\n",
            "x2s                             190.531949\n",
            "y2s                              89.608782\n",
            "patch_name        560Mhz_1000h_16380_16731\n",
            "patch_xo                             16380\n",
            "patch_yo                             16731\n",
            "patch_dim                              205\n",
            "Name: 67, dtype: object\n",
            "(205, 205)\n",
            "(1, 60, 12, 12)\n",
            "(1, 240, 12, 12)\n",
            "64\n",
            "(1, 12, 12, 60)\n",
            "(1, 12, 12, 240)\n",
            "(1, 205, 205, 1)\n"
          ]
        }
      ],
      "source": [
        "a,b,c = prep.calc_rpn(pdata, 205, 205, 205, 205)\n",
        "print(p.shape)\n",
        "print(a.shape)\n",
        "print(b.shape)\n",
        "print(c)\n",
        "\n",
        "a = np.transpose(a, (0, 2, 3, 1))\n",
        "print(a.shape)\n",
        "b = np.transpose(b, (0, 2, 3, 1))\n",
        "print(b.shape)\n",
        "\n",
        "p = np.expand_dims(p, axis=0)\n",
        "p = np.expand_dims(p, axis=3)\n",
        "\n",
        "print(p.shape)"
      ]
    },
    {
      "cell_type": "code",
      "execution_count": 29,
      "metadata": {},
      "outputs": [
        {
          "output_type": "stream",
          "name": "stdout",
          "text": [
            "['loss', 'rpn_loss', 'rpn_1_loss']\n"
          ]
        },
        {
          "output_type": "execute_result",
          "data": {
            "text/plain": [
              "[8.079469680786133, 7.084170818328857, 0.9952983856201172]"
            ]
          },
          "metadata": {},
          "execution_count": 29
        }
      ],
      "source": [
        "loss = rpn_model.train_on_batch(p, [a,b])\n",
        "print(rpn_model.metrics_names)\n",
        "loss"
      ]
    },
    {
      "cell_type": "code",
      "execution_count": 30,
      "metadata": {},
      "outputs": [
        {
          "output_type": "stream",
          "name": "stdout",
          "text": [
            "(1, 12, 12, 30)\n(1, 12, 12, 120)\n"
          ]
        }
      ],
      "source": [
        "y_cls, y_reg = rpn_model.predict(p)\n",
        "print(y_cls.shape)\n",
        "print(y_reg.shape)"
      ]
    },
    {
      "cell_type": "code",
      "execution_count": 31,
      "metadata": {},
      "outputs": [
        {
          "output_type": "stream",
          "name": "stdout",
          "text": [
            "rpn_layer=(1, 12, 12, 30)\nregr_layer=(1, 12, 12, 120)\nregr=(12, 12, 4)\nregr=(12, 12, 4)\nregr=(12, 12, 4)\nregr=(12, 12, 4)\nregr=(12, 12, 4)\nregr=(12, 12, 4)\nregr=(12, 12, 4)\nregr=(12, 12, 4)\nregr=(12, 12, 4)\nregr=(12, 12, 4)\nregr=(12, 12, 4)\nregr=(12, 12, 4)\nregr=(12, 12, 4)\nregr=(12, 12, 4)\nregr=(12, 12, 4)\nregr=(12, 12, 4)\nregr=(12, 12, 4)\nregr=(12, 12, 4)\nregr=(12, 12, 4)\nregr=(12, 12, 4)\nregr=(12, 12, 4)\nregr=(12, 12, 4)\nregr=(12, 12, 4)\nregr=(12, 12, 4)\nregr=(12, 12, 4)\nregr=(12, 12, 4)\nregr=(12, 12, 4)\nregr=(12, 12, 4)\nregr=(12, 12, 4)\nregr=(12, 12, 4)\n(4320, 4)\n(3920, 4)\n"
          ]
        },
        {
          "output_type": "execute_result",
          "data": {
            "text/plain": [
              "(300, 4)"
            ]
          },
          "metadata": {},
          "execution_count": 31
        }
      ],
      "source": [
        "roi = rpn_to_roi(y_cls, y_pred, config)\n",
        "roi.shape"
      ]
    },
    {
      "cell_type": "code",
      "execution_count": 33,
      "metadata": {},
      "outputs": [],
      "source": [
        "X, Y = np.meshgrid(np.arange(12),np.arange(12))"
      ]
    },
    {
      "source": [
        "TODO - 20210502:\n",
        "- X creare colonne per coordinate bbox nel sistema di riferimento della patch\n",
        "- X creare cartelle per patches con npy + pkl delle sue sole bbox\n",
        "- ragionare su dimensioni patch\n",
        "- X Caricare pesi VGG16 nel nuovo network\n",
        "- lanciare training\n",
        "\n",
        "TODO - 20210508:\n",
        "- zero centering patch by patch\n",
        "- troncamento rumore a 1e-6\n",
        "- portare branch o funzioni di data_clean in main\n",
        "- img augmentation -> augment()"
      ],
      "cell_type": "markdown",
      "metadata": {}
    },
    {
      "cell_type": "code",
      "execution_count": 38,
      "metadata": {},
      "outputs": [
        {
          "output_type": "execute_result",
          "data": {
            "text/plain": [
              "array([[-0.5,  0.5,  1.5,  2.5,  3.5,  4.5,  5.5,  6.5,  7.5,  8.5,  9.5,\n",
              "        10.5],\n",
              "       [-0.5,  0.5,  1.5,  2.5,  3.5,  4.5,  5.5,  6.5,  7.5,  8.5,  9.5,\n",
              "        10.5],\n",
              "       [-0.5,  0.5,  1.5,  2.5,  3.5,  4.5,  5.5,  6.5,  7.5,  8.5,  9.5,\n",
              "        10.5],\n",
              "       [-0.5,  0.5,  1.5,  2.5,  3.5,  4.5,  5.5,  6.5,  7.5,  8.5,  9.5,\n",
              "        10.5],\n",
              "       [-0.5,  0.5,  1.5,  2.5,  3.5,  4.5,  5.5,  6.5,  7.5,  8.5,  9.5,\n",
              "        10.5],\n",
              "       [-0.5,  0.5,  1.5,  2.5,  3.5,  4.5,  5.5,  6.5,  7.5,  8.5,  9.5,\n",
              "        10.5],\n",
              "       [-0.5,  0.5,  1.5,  2.5,  3.5,  4.5,  5.5,  6.5,  7.5,  8.5,  9.5,\n",
              "        10.5],\n",
              "       [-0.5,  0.5,  1.5,  2.5,  3.5,  4.5,  5.5,  6.5,  7.5,  8.5,  9.5,\n",
              "        10.5],\n",
              "       [-0.5,  0.5,  1.5,  2.5,  3.5,  4.5,  5.5,  6.5,  7.5,  8.5,  9.5,\n",
              "        10.5],\n",
              "       [-0.5,  0.5,  1.5,  2.5,  3.5,  4.5,  5.5,  6.5,  7.5,  8.5,  9.5,\n",
              "        10.5],\n",
              "       [-0.5,  0.5,  1.5,  2.5,  3.5,  4.5,  5.5,  6.5,  7.5,  8.5,  9.5,\n",
              "        10.5],\n",
              "       [-0.5,  0.5,  1.5,  2.5,  3.5,  4.5,  5.5,  6.5,  7.5,  8.5,  9.5,\n",
              "        10.5]])"
            ]
          },
          "metadata": {},
          "execution_count": 38
        }
      ],
      "source": [
        "X - .5"
      ]
    },
    {
      "cell_type": "code",
      "execution_count": 37,
      "metadata": {},
      "outputs": [
        {
          "output_type": "execute_result",
          "data": {
            "text/plain": [
              "array([1, 1, 1, 1, 1, 1, 1, 1, 1, 1, 1, 1])"
            ]
          },
          "metadata": {},
          "execution_count": 37
        }
      ],
      "source": [
        "Y[1]"
      ]
    },
    {
      "cell_type": "code",
      "execution_count": 182,
      "metadata": {},
      "outputs": [],
      "source": [
        "total_model.save_weights('./test.h5')"
      ]
    },
    {
      "cell_type": "code",
      "execution_count": 187,
      "metadata": {},
      "outputs": [],
      "source": [
        "rpn_model.load_weights('./test.h5', by_name=True)"
      ]
    },
    {
      "cell_type": "code",
      "execution_count": 181,
      "metadata": {
        "tags": []
      },
      "outputs": [],
      "source": [
        "# Check that all of the pretrained weights have been loaded.\n",
        "import numpy as np\n",
        "for i, j in zip(total_model.weights, rpn_model.weights):\n",
        "    # print(i)\n",
        "    # print(j)\n",
        "    assert np.allclose(i,j), 'Diversi!'"
      ]
    },
    {
      "source": [
        "TODO - 20210502:\n",
        "- ragionare su dimensioni patch\n",
        "- lanciare training\n",
        "\n",
        "TODO - 20210508:\n",
        "- zero centering patch by patch\n",
        "- troncamento rumore a 1e-6\n",
        "- portare branch o funzioni di data_clean in main\n",
        "- img augmentation -> augment()\n",
        "\n",
        "TODO - 202105016:\n",
        "- creare generator (Alice)\n",
        "- scrivere training loop + save/read pesi per colab + test loop (Lorenzo)\n",
        "- terminare preprocessing di ICRAR (primary beam correction, flux, eliminazione bbox in base a rapporto flusso)"
      ],
      "cell_type": "code",
      "metadata": {},
      "execution_count": 55,
      "outputs": [
        {
          "output_type": "stream",
          "name": "stdout",
          "text": [
            "[7.072257041931152, 6.065431118011475, 1.0068259239196777]\n"
          ]
        },
        {
          "output_type": "execute_result",
          "data": {
            "text/plain": [
              "(1, 12, 12, 60)"
            ]
          },
          "metadata": {},
          "execution_count": 55
        }
      ]
    },
    {
      "cell_type": "code",
      "execution_count": 108,
      "metadata": {},
      "outputs": [
        {
          "output_type": "stream",
          "name": "stdout",
          "text": [
            "[6.196948528289795, 5.195816516876221, 1.0011321306228638]\n",
            "[6.049266815185547, 5.049481391906738, 0.9997855424880981]\n"
          ]
        }
      ],
      "source": [
        "# Training loop\n",
        "\n",
        "for epoch in range(2):\n",
        "\n",
        "    # image, y_rpn_cls_true, y_rpn_reg_true = next(datagen)\n",
        "\n",
        "    loss = rpn_model.train_on_batch(p, [a, b])\n",
        "    y_rpn_reg_pred, y_rpn_cls_pred = rpn_model.predict(p)\n",
        "\n",
        "    print(loss)\n",
        "\n",
        "\n"
      ]
    },
    {
      "cell_type": "code",
      "execution_count": null,
      "metadata": {},
      "outputs": [],
      "source": [
        "#TODO: Provare YOLO -> forse meglio le efficientNet\n",
        "# Ablation study\n",
        "# Provare, a parità di frequenza, le esposizioni diverse come canali"
      ]
    },
    {
      "cell_type": "code",
      "execution_count": 1,
      "metadata": {},
      "outputs": [],
      "source": [
        "# from tensorflow.keras.applications import EfficientNetB0\n",
        "# model = EfficientNetB0(weights='imagenet')"
      ]
    }
  ]
}