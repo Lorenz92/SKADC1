{
  "nbformat": 4,
  "nbformat_minor": 0,
  "metadata": {
    "language_info": {
      "codemirror_mode": {
        "name": "ipython",
        "version": 3
      },
      "file_extension": ".py",
      "mimetype": "text/x-python",
      "name": "python",
      "nbconvert_exporter": "python",
      "pygments_lexer": "ipython3",
      "version": "3.8.2"
    },
    "orig_nbformat": 2,
    "kernelspec": {
      "name": "python382jvsc74a57bd031f2aee4e71d21fbe5cf8b01ff0e069b9275f58929596ceb00d14d90e3e16cd6",
      "display_name": "Python 3.8.2 64-bit"
    },
    "colab": {
      "name": "main.ipynb",
      "provenance": []
    },
    "metadata": {
      "interpreter": {
        "hash": "31f2aee4e71d21fbe5cf8b01ff0e069b9275f58929596ceb00d14d90e3e16cd6"
      }
    }
  },
  "cells": [
    {
      "cell_type": "code",
      "metadata": {
        "id": "XkdmU4lMMVmI",
        "outputId": "7bfc2152-66c6-4d4d-f838-0e531b28a348",
        "colab": {
          "base_uri": "https://localhost:8080/"
        }
      },
      "source": [
        "!git clone 'https://github.com/Lorenz92/SKADC1.git'\n",
        "% cd SKADC1\n",
        "!echo $PWD"
      ],
      "execution_count": 12,
      "outputs": [
        {
          "output_type": "stream",
          "text": [
            "Cloning into 'SKADC1'...\n",
            "remote: Enumerating objects: 41, done.\u001b[K\n",
            "remote: Counting objects: 100% (41/41), done.\u001b[K\n",
            "remote: Compressing objects: 100% (33/33), done.\u001b[K\n",
            "remote: Total 41 (delta 17), reused 25 (delta 6), pack-reused 0\u001b[K\n",
            "Unpacking objects: 100% (41/41), done.\n"
          ],
          "name": "stdout"
        }
      ]
    },
    {
      "cell_type": "code",
      "metadata": {
        "id": "7WwOlsifF-5G",
        "outputId": "303002ab-c8c4-4807-caeb-ee1c590d4326",
        "colab": {
          "base_uri": "https://localhost:8080/"
        }
      },
      "source": [
        "import pandas as pd\n",
        "import numpy as np\n",
        "import requests\n",
        "import matplotlib.pyplot as plt\n",
        "import sys\n",
        "from astropy.io import fits\n",
        "import os\n",
        "\n",
        "import src.dataset as dataset\n",
        "import src.config as config\n",
        "from src.utils import *\n",
        "\n",
        "# from src.config import * \n",
        "\n",
        "%load_ext autoreload\n",
        "%autoreload 2\n",
        "\n",
        "np.random.seed(config.RANDOM_SEED)"
      ],
      "execution_count": null,
      "outputs": [
        {
          "output_type": "error",
          "ename": "Error",
          "evalue": "Pip module Unable to parse debugpy output, please log an issue with https://github.com/microsoft/vscode-jupyter is required for debugging cells. You will need to install it to debug cells.",
          "traceback": [
            "Error: Pip module Unable to parse debugpy output, please log an issue with https://github.com/microsoft/vscode-jupyter is required for debugging cells. You will need to install it to debug cells.",
            "at b.parseConnectInfo (/Users/lorenzocellini/.vscode/extensions/ms-toolsai.jupyter-2021.5.745244803/out/client/extension.js:49:478177)",
            "at b.connectToLocal (/Users/lorenzocellini/.vscode/extensions/ms-toolsai.jupyter-2021.5.745244803/out/client/extension.js:49:478704)",
            "at async b.connect (/Users/lorenzocellini/.vscode/extensions/ms-toolsai.jupyter-2021.5.745244803/out/client/extension.js:49:476581)",
            "at async b.startDebugSession (/Users/lorenzocellini/.vscode/extensions/ms-toolsai.jupyter-2021.5.745244803/out/client/extension.js:49:475728)",
            "at async T.submitCode (/Users/lorenzocellini/.vscode/extensions/ms-toolsai.jupyter-2021.5.745244803/out/client/extension.js:32:663261)",
            "at async T.handleRunByLine (/Users/lorenzocellini/.vscode/extensions/ms-toolsai.jupyter-2021.5.745244803/out/client/extension.js:32:651205)"
          ]
        }
      ]
    },
    {
      "cell_type": "code",
      "metadata": {
        "id": "qHxrJ525F-5J",
        "outputId": "ee8e854b-65ce-486a-e9e3-c5752e45406c",
        "colab": {
          "base_uri": "https://localhost:8080/"
        }
      },
      "source": [
        "for download_info in config.required_files:\n",
        "    if not os.path.exists(os.path.join(config.TRAIN_DATA_FOLDER, download_info['file_name'])):\n",
        "        download_data(download_info['file_name'], download_info['url'], config.DOWNLOAD_FOLDER)"
      ],
      "execution_count": 7,
      "outputs": [
        {
          "output_type": "stream",
          "name": "stdout",
          "text": [
            "Downloading SKA 560Mhz_1000h.fits data...\n",
            "Download completed!\n",
            "Downloading SKA 9200Mhz_1000h.fits data...\n",
            "Download completed!\n"
          ]
        }
      ]
    },
    {
      "cell_type": "code",
      "metadata": {
        "tags": [],
        "id": "Q8IbYCwkF-5K",
        "outputId": "5cd8e5ba-49cd-49b4-d65c-65d82229f792",
        "colab": {
          "base_uri": "https://localhost:8080/",
          "height": 221
        }
      },
      "source": [
        "# Dataset parsing and loading\n",
        "# use \"subset\" to load a small portion of data for development/debugging purposes\n",
        "\n",
        "ska_dataset = dataset.SKADataset(train_set_path=config.TRAIN_SET_PATH, subset=config.DATA_SUBSET)\n",
        "print(ska_dataset.raw_train_df.shape)\n",
        "ska_dataset.raw_train_df.head()"
      ],
      "execution_count": 2,
      "outputs": [
        {
          "output_type": "stream",
          "name": "stdout",
          "text": [
            "(19222, 15)\n"
          ]
        },
        {
          "output_type": "execute_result",
          "data": {
            "text/plain": [
              "         ID  RA (core)  DEC (core)  RA (centroid)  DEC (centroid)      FLUX  \\\n",
              "0  24121695  -0.642227  -29.775242      -0.642316      -29.775211  0.000035   \n",
              "1  20167150  -0.390473  -29.867493      -0.390667      -29.868851  0.029555   \n",
              "2  20045120  -0.021411  -29.643486      -0.021359      -29.643561  0.000653   \n",
              "3  33938384  -0.316375  -29.697647      -0.316375      -29.697647  0.000017   \n",
              "4   7527248  -0.336528  -29.627335      -0.336527      -29.627338  0.000054   \n",
              "\n",
              "   Core frac     BMAJ    BMIN       PA  SIZE  CLASS  SELECTION          x  \\\n",
              "0   0.000000    5.600   5.551  328.554     1      1          1  19704.519   \n",
              "1   0.016924  107.110  43.263  191.258     1      1          1  18401.338   \n",
              "2   0.012185    5.037   3.525  276.587     1      1          1  16493.600   \n",
              "3   0.000000    0.847   0.266  346.641     2      1          1  18020.319   \n",
              "4   0.044763    3.343   1.515  279.006     1      1          1  18125.824   \n",
              "\n",
              "           y  \n",
              "0  17712.942  \n",
              "1  17160.919  \n",
              "2  18506.577  \n",
              "3  18182.095  \n",
              "4  18600.680  "
            ],
            "text/html": "<div>\n<style scoped>\n    .dataframe tbody tr th:only-of-type {\n        vertical-align: middle;\n    }\n\n    .dataframe tbody tr th {\n        vertical-align: top;\n    }\n\n    .dataframe thead th {\n        text-align: right;\n    }\n</style>\n<table border=\"1\" class=\"dataframe\">\n  <thead>\n    <tr style=\"text-align: right;\">\n      <th></th>\n      <th>ID</th>\n      <th>RA (core)</th>\n      <th>DEC (core)</th>\n      <th>RA (centroid)</th>\n      <th>DEC (centroid)</th>\n      <th>FLUX</th>\n      <th>Core frac</th>\n      <th>BMAJ</th>\n      <th>BMIN</th>\n      <th>PA</th>\n      <th>SIZE</th>\n      <th>CLASS</th>\n      <th>SELECTION</th>\n      <th>x</th>\n      <th>y</th>\n    </tr>\n  </thead>\n  <tbody>\n    <tr>\n      <th>0</th>\n      <td>24121695</td>\n      <td>-0.642227</td>\n      <td>-29.775242</td>\n      <td>-0.642316</td>\n      <td>-29.775211</td>\n      <td>0.000035</td>\n      <td>0.000000</td>\n      <td>5.600</td>\n      <td>5.551</td>\n      <td>328.554</td>\n      <td>1</td>\n      <td>1</td>\n      <td>1</td>\n      <td>19704.519</td>\n      <td>17712.942</td>\n    </tr>\n    <tr>\n      <th>1</th>\n      <td>20167150</td>\n      <td>-0.390473</td>\n      <td>-29.867493</td>\n      <td>-0.390667</td>\n      <td>-29.868851</td>\n      <td>0.029555</td>\n      <td>0.016924</td>\n      <td>107.110</td>\n      <td>43.263</td>\n      <td>191.258</td>\n      <td>1</td>\n      <td>1</td>\n      <td>1</td>\n      <td>18401.338</td>\n      <td>17160.919</td>\n    </tr>\n    <tr>\n      <th>2</th>\n      <td>20045120</td>\n      <td>-0.021411</td>\n      <td>-29.643486</td>\n      <td>-0.021359</td>\n      <td>-29.643561</td>\n      <td>0.000653</td>\n      <td>0.012185</td>\n      <td>5.037</td>\n      <td>3.525</td>\n      <td>276.587</td>\n      <td>1</td>\n      <td>1</td>\n      <td>1</td>\n      <td>16493.600</td>\n      <td>18506.577</td>\n    </tr>\n    <tr>\n      <th>3</th>\n      <td>33938384</td>\n      <td>-0.316375</td>\n      <td>-29.697647</td>\n      <td>-0.316375</td>\n      <td>-29.697647</td>\n      <td>0.000017</td>\n      <td>0.000000</td>\n      <td>0.847</td>\n      <td>0.266</td>\n      <td>346.641</td>\n      <td>2</td>\n      <td>1</td>\n      <td>1</td>\n      <td>18020.319</td>\n      <td>18182.095</td>\n    </tr>\n    <tr>\n      <th>4</th>\n      <td>7527248</td>\n      <td>-0.336528</td>\n      <td>-29.627335</td>\n      <td>-0.336527</td>\n      <td>-29.627338</td>\n      <td>0.000054</td>\n      <td>0.044763</td>\n      <td>3.343</td>\n      <td>1.515</td>\n      <td>279.006</td>\n      <td>1</td>\n      <td>1</td>\n      <td>1</td>\n      <td>18125.824</td>\n      <td>18600.680</td>\n    </tr>\n  </tbody>\n</table>\n</div>"
          },
          "metadata": {},
          "execution_count": 2
        }
      ]
    },
    {
      "cell_type": "code",
      "metadata": {
        "id": "fdok-EggF-5T",
        "outputId": "40c460e3-a600-4a3b-98a4-021a903c522e",
        "colab": {
          "base_uri": "https://localhost:8080/"
        }
      },
      "source": [
        "data_560Mhz_1000h_fits = fits.open('./data/training/560Mhz_1000h.fits')\n",
        "# data_560Mhz_1000h_fits.info()\n",
        "data_560Mhz_1000h_fits.filename()\n",
        "\n",
        "# print(data_560Mhz_1000h_fits[0].data)\n",
        "# print(data_560Mhz_1000h_fits[0].data.shape)\n",
        "\n",
        "data_560Mhz_1000h = data_560Mhz_1000h_fits[0].data[0,0]\n"
      ],
      "execution_count": 3,
      "outputs": [
        {
          "output_type": "stream",
          "name": "stderr",
          "text": [
            "WARNING: VerifyWarning: Invalid 'BLANK' keyword in header.  The 'BLANK' keyword is only applicable to integer data, and will be ignored in this HDU. [astropy.io.fits.hdu.image]\n"
          ]
        }
      ]
    },
    {
      "cell_type": "code",
      "metadata": {
        "id": "GvQsBYu3F-5T",
        "outputId": "3f5383e4-ef8d-4c6e-ee07-372fe09ab3de",
        "colab": {
          "base_uri": "https://localhost:8080/"
        }
      },
      "source": [
        "data_560Mhz_1000h_fits[0].header"
      ],
      "execution_count": 5,
      "outputs": [
        {
          "output_type": "execute_result",
          "data": {
            "text/plain": [
              "SIMPLE  =                    T  /                                               \n",
              "BITPIX  =                  -32  /                                               \n",
              "NAXIS   =                    4  /                                               \n",
              "NAXIS1  =                32768  /                                               \n",
              "NAXIS2  =                32768  /                                               \n",
              "NAXIS3  =                    1  /                                               \n",
              "NAXIS4  =                    1  /                                               \n",
              "EXTEND  =                    T  /                                               \n",
              "BSCALE  =    1.00000000000E+00  /                                               \n",
              "BZERO   =    0.00000000000E+00  /                                               \n",
              "BLANK   =                   -1  /                                               \n",
              "BUNIT   = 'JY/BEAM '  /                                                         \n",
              "DATE-OBS= '2000-01-01T12:00:00.0'  /                                            \n",
              "CRPIX1  =    1.63840000000E+04  /                                               \n",
              "CDELT1  =   -1.67847000000E-04  /                                               \n",
              "CRVAL1  =    0.00000000000E+00  /                                               \n",
              "CTYPE1  = 'RA---SIN'  /                                                         \n",
              "CRPIX2  =    1.63840000000E+04  /                                               \n",
              "CDELT2  =    1.67847000000E-04  /                                               \n",
              "CRVAL2  =   -3.00000000000E+01  /                                               \n",
              "CTYPE2  = 'DEC--SIN'  /                                                         \n",
              "CRPIX3  =    1.00000000000E+00  /                                               \n",
              "CDELT3  =    1.68000000000E+08  /                                               \n",
              "CRVAL3  =    5.60000000000E+08  /                                               \n",
              "CTYPE3  = 'FREQ    '  /                                                         \n",
              "CRPIX4  =    1.00000000000E+00  /                                               \n",
              "CDELT4  =    1.00000000000E+00  /                                               \n",
              "CRVAL4  =    1.00000000000E+00  /                                               \n",
              "CTYPE4  = 'STOKES  '  /                                                         \n",
              "LONPOLE =    1.80000000000E+02  /                                               \n",
              "LATPOLE =   -3.00000000000E+01  /                                               \n",
              "PV1_1   =    0.00000000000E+00  /                                               \n",
              "PV1_2   =    9.00000000000E+01  /                                               \n",
              "PV2_1   =    0.00000000000E+00  /                                               \n",
              "CELLSCAL= 'CONSTANT'  /                                                         \n",
              "BMAJ    =    4.16666676756E-04  /                                               \n",
              "BMIN    =    4.16666676756E-04  /                                               \n",
              "EPOCH   =    2.00000000000E+03  /                                               \n",
              "HISTORY FITS (Flexible Image Transport System) format is defined in 'Astronomy  \n",
              "HISTORY and Astrophysics', volume 376, page 359; bibcode 2001A&A...376..359H    \n",
              "HISTORY CD1_1   =         -0.000167847 / Degrees / Pixel                        \n",
              "HISTORY CD2_1   =              0.00000 / Degrees / Pixel                        \n",
              "HISTORY CD1_2   =             -0.00000 / Degrees / Pixel                        \n",
              "HISTORY CD2_2   =          0.000167847 / Degrees / Pixel                        \n",
              "HISTORY RADESYS = 'FK5     '           / Reference frame                        \n",
              "HISTORY PUTAST: Oct 28 11:47:44 2018 World Coordinate System parameters written \n",
              "HISTORY FITS: Miriad fits: Revision 1.32, 2014/09/15 04:39:01 UTC               \n",
              "HISTORY FITS: Executed on: 2018-11-07T07:24:38.0                                \n",
              "HISTORY FITS: Command line inputs follow:                                       \n",
              "HISTORY FITS:   op=xyin                                                         \n",
              "HISTORY FITS:   in=sky_tot_chall_2_560.fits                                     \n",
              "HISTORY FITS:   out=sky_AGNs_SFGs_chall_1b1                                     \n",
              "HISTORY PUTHD: Miriad PutHd: puthd: Revision 1.3, 2011/09/15 05:53:36 UTC       \n",
              "HISTORY PUTHD: Executed on: 2018-11-07T07:25:08.0                               \n",
              "HISTORY PUTHD: Command line inputs follow:                                      \n",
              "HISTORY PUTHD:   in=sky_AGNs_SFGs_chall_1b1/bunit                               \n",
              "HISTORY PUTHD:   value=JY/PIXEL                                                 \n",
              "HISTORY PUTHD: Miriad PutHd: puthd: Revision 1.3, 2011/09/15 05:53:36 UTC       \n",
              "HISTORY PUTHD: Executed on: 2018-11-07T07:25:08.0                               \n",
              "HISTORY PUTHD: Command line inputs follow:                                      \n",
              "HISTORY PUTHD:   in=sky_AGNs_SFGs_chall_1b1/cdelt3                              \n",
              "HISTORY PUTHD:   value=0.168                                                    \n",
              "HISTORY PUTHD: Miriad PutHd: puthd: Revision 1.3, 2011/09/15 05:53:36 UTC       \n",
              "HISTORY PUTHD: Executed on: 2018-11-07T07:25:08.0                               \n",
              "HISTORY PUTHD: Command line inputs follow:                                      \n",
              "HISTORY PUTHD:   in=sky_AGNs_SFGs_chall_1b1/crval3                              \n",
              "HISTORY PUTHD:   value=0.56                                                     \n",
              "HISTORY CONVOL: Miriad convol: Revision 1.11, 2017/04/10 05:36:06 UTC           \n",
              "HISTORY CONVOL: Executed on: 2018-11-07T07:28:17.0                              \n",
              "HISTORY CONVOL: Command line inputs follow:                                     \n",
              "HISTORY CONVOL:   map=sky_AGNs_SFGs_chall_1b1                                   \n",
              "HISTORY CONVOL:   fwhm=1.2                                                      \n",
              "HISTORY CONVOL:   out=sky_AGNs_SFGs_chall_1b1c                                  \n",
              "HISTORY IMCOMB: Miriad imcomb: Revision 1.11, 2013/08/30 01:49:21 UTC           \n",
              "HISTORY IMCOMB: Executed on: 2019-02-19T07:19:44.0                              \n",
              "HISTORY IMCOMB: Command line inputs follow:                                     \n",
              "HISTORY IMCOMB:   in=sky_AGNs_SFGs_chall_1b1c,AGNcb1x,SFGcb1x                   \n",
              "HISTORY IMCOMB:   options=nonormalise                                           \n",
              "HISTORY IMCOMB:   out=sky_chall_1b1ix                                           \n",
              "HISTORY IMCOMB: Miriad imcomb: Revision 1.11, 2013/08/30 01:49:21 UTC           \n",
              "HISTORY IMCOMB: Executed on: 2019-02-19T07:20:45.0                              \n",
              "HISTORY IMCOMB: Command line inputs follow:                                     \n",
              "HISTORY IMCOMB:   in=sky_chall_1b1ix,PB_I_056_skyb                              \n",
              "HISTORY IMCOMB:   out=sky_chall_1b1x                                            \n",
              "HISTORY IMCOMB:   options=multi,nonorm                                          \n",
              "HISTORY IMCOMB: Miriad imcomb: Revision 1.11, 2013/08/30 01:49:21 UTC           \n",
              "HISTORY IMCOMB: Executed on: 2019-02-19T07:26:49.0                              \n",
              "HISTORY IMCOMB: Command line inputs follow:                                     \n",
              "HISTORY IMCOMB:   in=sky_chall_1b1x,sky_chall_1b1rdx                            \n",
              "HISTORY IMCOMB:   options=subt,nonorm                                           \n",
              "HISTORY IMCOMB:   out=sky_chall_1b1pdx                                          \n",
              "HISTORY CONVOL: Miriad convol: Revision 1.13, 2018/12/05 23:26:16 UTC           \n",
              "HISTORY CONVOL: Executed on: 2019-02-19T07:34:02.0                              \n",
              "HISTORY CONVOL: Command line inputs follow:                                     \n",
              "HISTORY CONVOL:   map=sky_chall_1b1pdx                                          \n",
              "HISTORY CONVOL:   fwhm=1.50                                                     \n",
              "HISTORY CONVOL:   options=final                                                 \n",
              "HISTORY CONVOL:   out=sky_chall_1b1pdcx                                         \n",
              "HISTORY IMCOMB: Miriad imcomb: Revision 1.11, 2013/08/30 01:49:21 UTC           \n",
              "HISTORY IMCOMB: Executed on: 2019-02-19T07:35:16.0                              \n",
              "HISTORY IMCOMB: Command line inputs follow:                                     \n",
              "HISTORY IMCOMB:   in=sky_chall_1b1pdcx,sky_chall_1b1rdcbx                       \n",
              "HISTORY IMCOMB:   options=nonorm                                                \n",
              "HISTORY IMCOMB:   out=sky_chall_1b1cdx                                          \n",
              "HISTORY IMCOMB: Miriad imcomb: Revision 1.11, 2013/08/30 01:49:21 UTC           \n",
              "HISTORY IMCOMB: Executed on: 2019-02-19T07:37:57.0                              \n",
              "HISTORY IMCOMB: Command line inputs follow:                                     \n",
              "HISTORY IMCOMB:   in=sky_chall_1b1cdx,ska1-mid.1000hb1z0c.map                   \n",
              "HISTORY IMCOMB:   options=nonormalise,relax                                     \n",
              "HISTORY IMCOMB:   out=sky_chall_1b1cdn1000v3                                    \n",
              "HISTORY FITS: Miriad fits: fits: Revision 1.33, 2018/12/04 04:02:11 UTC         \n",
              "HISTORY FITS: Executed on: 19FEB19:08:10:59.0                                   \n",
              "HISTORY FITS: Command line inputs follow:                                       \n",
              "HISTORY FITS:    op=xyout                                                       \n",
              "HISTORY FITS:    in=sky_chall_1b1cdn1000v3                                      \n",
              "HISTORY FITS:    out=sky_chall_1b1cdn1000v3.fits                                \n",
              "HISTORY FITS: NOTE: Use options=varwt if loading into Miriad                    \n",
              "ORIGIN  = 'Miriad fits: Revision 1.33, 2018/12/04 04:02:11 UTC'  /              "
            ]
          },
          "metadata": {},
          "execution_count": 5
        }
      ]
    },
    {
      "cell_type": "code",
      "metadata": {
        "id": "jdi1VFtOF-5V",
        "outputId": "0637233d-fadd-4c9f-b823-02ab6424866f"
      },
      "source": [
        "# Visualization test\n",
        "from astropy.io import fits\n",
        "from astropy.utils.data import download_file\n",
        "\n",
        "# image_file = download_file('https://owncloud.ia2.inaf.it/index.php/s/hbasFhd4YILNkCr/download', cache=True )\n",
        "\n",
        "# image_data = fits.getdata(image_file)\n",
        "# image_data = image_data.reshape(image_data.shape[2:])\n",
        "\n",
        "# compute per value to clip the image\n",
        "perc = 99.9\n",
        "percentileThresh = np.percentile(data_560Mhz_1000h, perc)\n",
        "print (f'{perc} percentile {percentileThresh}')\n",
        "\n",
        "# # crop the image to speed up computation and clip using per value\n",
        "# image_crop= image_data[5000:10000, 5000:10000]\n",
        "# image_crop.clip(max=percentileThresh)\n",
        "\n",
        "# plt.figure(figsize=(100, 100))\n",
        "# # plt.imshow(normalized_data, cmap='viridis', vmax=255, vmin=0)\n",
        "# for idx in range(25):\n",
        "#     plt.subplot(5, 5, idx+1)\n",
        "#     plt.axis('off')\n",
        "#     base = 200 * idx\n",
        "#     end = base + 200\n",
        "#     normalized_data = image_crop[base:end, base:end] * (1.0 / percentileThresh)\n",
        "#     plt.imshow(normalized_data, cmap='viridis', vmax=1, vmin=0)"
      ],
      "execution_count": 4,
      "outputs": [
        {
          "output_type": "stream",
          "name": "stdout",
          "text": [
            "99.9 percentile 8.316711500810925e-06\n"
          ]
        }
      ]
    },
    {
      "cell_type": "markdown",
      "metadata": {
        "id": "UqSLm8sBF-5W"
      },
      "source": [
        "### Preprocessing"
      ]
    },
    {
      "cell_type": "code",
      "execution_count": 6,
      "metadata": {},
      "outputs": [],
      "source": [
        "coords = ska_dataset._convert_boxes_to_px_coord(ska_dataset.raw_train_df, data_560Mhz_1000h_fits[0].header)"
      ]
    },
    {
      "source": [
        "pd.DataFrame.from_dict(coords)"
      ],
      "cell_type": "code",
      "metadata": {
        "tags": []
      },
      "execution_count": 7,
      "outputs": [
        {
          "output_type": "execute_result",
          "data": {
            "text/plain": [
              "                 x1            y1            x2            y2  major_semia_px  \\\n",
              "0      19699.889820  17708.334874  19709.135520  17717.543623        4.633850   \n",
              "1      18314.128617  17121.775102  18488.540079  17200.059688       88.630651   \n",
              "2      16490.663037  18502.418816  16496.536575  18510.726749        4.167982   \n",
              "3      18019.631633  18181.823147  18020.999232  18182.360119        0.700870   \n",
              "4      18124.509296  18597.936034  18127.132703  18603.414392        2.766243   \n",
              "...             ...           ...           ...           ...             ...   \n",
              "19217  17592.572752  16742.936603  17593.009233  16743.428821        0.319405   \n",
              "19218  18658.822580  18666.464880  18659.100383  18666.968994        0.276376   \n",
              "19219  17523.170058  16995.697610  17523.352636  16995.761662        0.093504   \n",
              "19220  16950.523810  17747.923087  16950.979337  17748.452311        0.264791   \n",
              "19221  18166.845099  19812.685038  18167.336911  19813.128832        0.248242   \n",
              "\n",
              "       minor_semia_px  pa_in_rad       width     height  \n",
              "0            4.593304   5.734349    9.245699   9.208748  \n",
              "1           35.798972   3.338082  174.411463  78.284586  \n",
              "2            2.916843   4.827354    5.873538   8.307933  \n",
              "3            0.220108   6.050027    1.367598   0.536972  \n",
              "4            1.253622   4.869573    2.623407   5.478358  \n",
              "...               ...        ...         ...        ...  \n",
              "19217        0.078610   0.853117    0.436482   0.492218  \n",
              "19218        0.080265   1.127797    0.277803   0.504113  \n",
              "19219        0.024824  -0.226387    0.182578   0.064053  \n",
              "19220        0.227555  -1.498732    0.455528   0.529224  \n",
              "19221        0.219280  -0.296287    0.491812   0.443793  \n",
              "\n",
              "[19222 rows x 9 columns]"
            ],
            "text/html": "<div>\n<style scoped>\n    .dataframe tbody tr th:only-of-type {\n        vertical-align: middle;\n    }\n\n    .dataframe tbody tr th {\n        vertical-align: top;\n    }\n\n    .dataframe thead th {\n        text-align: right;\n    }\n</style>\n<table border=\"1\" class=\"dataframe\">\n  <thead>\n    <tr style=\"text-align: right;\">\n      <th></th>\n      <th>x1</th>\n      <th>y1</th>\n      <th>x2</th>\n      <th>y2</th>\n      <th>major_semia_px</th>\n      <th>minor_semia_px</th>\n      <th>pa_in_rad</th>\n      <th>width</th>\n      <th>height</th>\n    </tr>\n  </thead>\n  <tbody>\n    <tr>\n      <th>0</th>\n      <td>19699.889820</td>\n      <td>17708.334874</td>\n      <td>19709.135520</td>\n      <td>17717.543623</td>\n      <td>4.633850</td>\n      <td>4.593304</td>\n      <td>5.734349</td>\n      <td>9.245699</td>\n      <td>9.208748</td>\n    </tr>\n    <tr>\n      <th>1</th>\n      <td>18314.128617</td>\n      <td>17121.775102</td>\n      <td>18488.540079</td>\n      <td>17200.059688</td>\n      <td>88.630651</td>\n      <td>35.798972</td>\n      <td>3.338082</td>\n      <td>174.411463</td>\n      <td>78.284586</td>\n    </tr>\n    <tr>\n      <th>2</th>\n      <td>16490.663037</td>\n      <td>18502.418816</td>\n      <td>16496.536575</td>\n      <td>18510.726749</td>\n      <td>4.167982</td>\n      <td>2.916843</td>\n      <td>4.827354</td>\n      <td>5.873538</td>\n      <td>8.307933</td>\n    </tr>\n    <tr>\n      <th>3</th>\n      <td>18019.631633</td>\n      <td>18181.823147</td>\n      <td>18020.999232</td>\n      <td>18182.360119</td>\n      <td>0.700870</td>\n      <td>0.220108</td>\n      <td>6.050027</td>\n      <td>1.367598</td>\n      <td>0.536972</td>\n    </tr>\n    <tr>\n      <th>4</th>\n      <td>18124.509296</td>\n      <td>18597.936034</td>\n      <td>18127.132703</td>\n      <td>18603.414392</td>\n      <td>2.766243</td>\n      <td>1.253622</td>\n      <td>4.869573</td>\n      <td>2.623407</td>\n      <td>5.478358</td>\n    </tr>\n    <tr>\n      <th>...</th>\n      <td>...</td>\n      <td>...</td>\n      <td>...</td>\n      <td>...</td>\n      <td>...</td>\n      <td>...</td>\n      <td>...</td>\n      <td>...</td>\n      <td>...</td>\n    </tr>\n    <tr>\n      <th>19217</th>\n      <td>17592.572752</td>\n      <td>16742.936603</td>\n      <td>17593.009233</td>\n      <td>16743.428821</td>\n      <td>0.319405</td>\n      <td>0.078610</td>\n      <td>0.853117</td>\n      <td>0.436482</td>\n      <td>0.492218</td>\n    </tr>\n    <tr>\n      <th>19218</th>\n      <td>18658.822580</td>\n      <td>18666.464880</td>\n      <td>18659.100383</td>\n      <td>18666.968994</td>\n      <td>0.276376</td>\n      <td>0.080265</td>\n      <td>1.127797</td>\n      <td>0.277803</td>\n      <td>0.504113</td>\n    </tr>\n    <tr>\n      <th>19219</th>\n      <td>17523.170058</td>\n      <td>16995.697610</td>\n      <td>17523.352636</td>\n      <td>16995.761662</td>\n      <td>0.093504</td>\n      <td>0.024824</td>\n      <td>-0.226387</td>\n      <td>0.182578</td>\n      <td>0.064053</td>\n    </tr>\n    <tr>\n      <th>19220</th>\n      <td>16950.523810</td>\n      <td>17747.923087</td>\n      <td>16950.979337</td>\n      <td>17748.452311</td>\n      <td>0.264791</td>\n      <td>0.227555</td>\n      <td>-1.498732</td>\n      <td>0.455528</td>\n      <td>0.529224</td>\n    </tr>\n    <tr>\n      <th>19221</th>\n      <td>18166.845099</td>\n      <td>19812.685038</td>\n      <td>18167.336911</td>\n      <td>19813.128832</td>\n      <td>0.248242</td>\n      <td>0.219280</td>\n      <td>-0.296287</td>\n      <td>0.491812</td>\n      <td>0.443793</td>\n    </tr>\n  </tbody>\n</table>\n<p>19222 rows × 9 columns</p>\n</div>"
          },
          "metadata": {},
          "execution_count": 7
        }
      ]
    },
    {
      "cell_type": "code",
      "execution_count": 8,
      "metadata": {},
      "outputs": [
        {
          "output_type": "execute_result",
          "data": {
            "text/plain": [
              "         ID  RA (core)  DEC (core)  RA (centroid)  DEC (centroid)      FLUX  \\\n",
              "0  24121695  -0.642227  -29.775242      -0.642316      -29.775211  0.000035   \n",
              "1  20167150  -0.390473  -29.867493      -0.390667      -29.868851  0.029555   \n",
              "2  20045120  -0.021411  -29.643486      -0.021359      -29.643561  0.000653   \n",
              "3  33938384  -0.316375  -29.697647      -0.316375      -29.697647  0.000017   \n",
              "4   7527248  -0.336528  -29.627335      -0.336527      -29.627338  0.000054   \n",
              "\n",
              "   Core frac     BMAJ    BMIN       PA  ...          y            x1  \\\n",
              "0   0.000000    5.600   5.551  328.554  ...  17712.942  19699.889820   \n",
              "1   0.016924  107.110  43.263  191.258  ...  17160.919  18314.128617   \n",
              "2   0.012185    5.037   3.525  276.587  ...  18506.577  16490.663037   \n",
              "3   0.000000    0.847   0.266  346.641  ...  18182.095  18019.631633   \n",
              "4   0.044763    3.343   1.515  279.006  ...  18600.680  18124.509296   \n",
              "\n",
              "             y1            x2            y2  major_semia_px  minor_semia_px  \\\n",
              "0  17708.334874  19709.135520  17717.543623        4.633850        4.593304   \n",
              "1  17121.775102  18488.540079  17200.059688       88.630651       35.798972   \n",
              "2  18502.418816  16496.536575  18510.726749        4.167982        2.916843   \n",
              "3  18181.823147  18020.999232  18182.360119        0.700870        0.220108   \n",
              "4  18597.936034  18127.132703  18603.414392        2.766243        1.253622   \n",
              "\n",
              "   pa_in_rad       width     height  \n",
              "0   5.734349    9.245699   9.208748  \n",
              "1   3.338082  174.411463  78.284586  \n",
              "2   4.827354    5.873538   8.307933  \n",
              "3   6.050027    1.367598   0.536972  \n",
              "4   4.869573    2.623407   5.478358  \n",
              "\n",
              "[5 rows x 24 columns]"
            ],
            "text/html": "<div>\n<style scoped>\n    .dataframe tbody tr th:only-of-type {\n        vertical-align: middle;\n    }\n\n    .dataframe tbody tr th {\n        vertical-align: top;\n    }\n\n    .dataframe thead th {\n        text-align: right;\n    }\n</style>\n<table border=\"1\" class=\"dataframe\">\n  <thead>\n    <tr style=\"text-align: right;\">\n      <th></th>\n      <th>ID</th>\n      <th>RA (core)</th>\n      <th>DEC (core)</th>\n      <th>RA (centroid)</th>\n      <th>DEC (centroid)</th>\n      <th>FLUX</th>\n      <th>Core frac</th>\n      <th>BMAJ</th>\n      <th>BMIN</th>\n      <th>PA</th>\n      <th>...</th>\n      <th>y</th>\n      <th>x1</th>\n      <th>y1</th>\n      <th>x2</th>\n      <th>y2</th>\n      <th>major_semia_px</th>\n      <th>minor_semia_px</th>\n      <th>pa_in_rad</th>\n      <th>width</th>\n      <th>height</th>\n    </tr>\n  </thead>\n  <tbody>\n    <tr>\n      <th>0</th>\n      <td>24121695</td>\n      <td>-0.642227</td>\n      <td>-29.775242</td>\n      <td>-0.642316</td>\n      <td>-29.775211</td>\n      <td>0.000035</td>\n      <td>0.000000</td>\n      <td>5.600</td>\n      <td>5.551</td>\n      <td>328.554</td>\n      <td>...</td>\n      <td>17712.942</td>\n      <td>19699.889820</td>\n      <td>17708.334874</td>\n      <td>19709.135520</td>\n      <td>17717.543623</td>\n      <td>4.633850</td>\n      <td>4.593304</td>\n      <td>5.734349</td>\n      <td>9.245699</td>\n      <td>9.208748</td>\n    </tr>\n    <tr>\n      <th>1</th>\n      <td>20167150</td>\n      <td>-0.390473</td>\n      <td>-29.867493</td>\n      <td>-0.390667</td>\n      <td>-29.868851</td>\n      <td>0.029555</td>\n      <td>0.016924</td>\n      <td>107.110</td>\n      <td>43.263</td>\n      <td>191.258</td>\n      <td>...</td>\n      <td>17160.919</td>\n      <td>18314.128617</td>\n      <td>17121.775102</td>\n      <td>18488.540079</td>\n      <td>17200.059688</td>\n      <td>88.630651</td>\n      <td>35.798972</td>\n      <td>3.338082</td>\n      <td>174.411463</td>\n      <td>78.284586</td>\n    </tr>\n    <tr>\n      <th>2</th>\n      <td>20045120</td>\n      <td>-0.021411</td>\n      <td>-29.643486</td>\n      <td>-0.021359</td>\n      <td>-29.643561</td>\n      <td>0.000653</td>\n      <td>0.012185</td>\n      <td>5.037</td>\n      <td>3.525</td>\n      <td>276.587</td>\n      <td>...</td>\n      <td>18506.577</td>\n      <td>16490.663037</td>\n      <td>18502.418816</td>\n      <td>16496.536575</td>\n      <td>18510.726749</td>\n      <td>4.167982</td>\n      <td>2.916843</td>\n      <td>4.827354</td>\n      <td>5.873538</td>\n      <td>8.307933</td>\n    </tr>\n    <tr>\n      <th>3</th>\n      <td>33938384</td>\n      <td>-0.316375</td>\n      <td>-29.697647</td>\n      <td>-0.316375</td>\n      <td>-29.697647</td>\n      <td>0.000017</td>\n      <td>0.000000</td>\n      <td>0.847</td>\n      <td>0.266</td>\n      <td>346.641</td>\n      <td>...</td>\n      <td>18182.095</td>\n      <td>18019.631633</td>\n      <td>18181.823147</td>\n      <td>18020.999232</td>\n      <td>18182.360119</td>\n      <td>0.700870</td>\n      <td>0.220108</td>\n      <td>6.050027</td>\n      <td>1.367598</td>\n      <td>0.536972</td>\n    </tr>\n    <tr>\n      <th>4</th>\n      <td>7527248</td>\n      <td>-0.336528</td>\n      <td>-29.627335</td>\n      <td>-0.336527</td>\n      <td>-29.627338</td>\n      <td>0.000054</td>\n      <td>0.044763</td>\n      <td>3.343</td>\n      <td>1.515</td>\n      <td>279.006</td>\n      <td>...</td>\n      <td>18600.680</td>\n      <td>18124.509296</td>\n      <td>18597.936034</td>\n      <td>18127.132703</td>\n      <td>18603.414392</td>\n      <td>2.766243</td>\n      <td>1.253622</td>\n      <td>4.869573</td>\n      <td>2.623407</td>\n      <td>5.478358</td>\n    </tr>\n  </tbody>\n</table>\n<p>5 rows × 24 columns</p>\n</div>"
          },
          "metadata": {},
          "execution_count": 8
        }
      ],
      "source": [
        "df_train = ska_dataset._extend_dataframe(ska_dataset.raw_train_df, coords)\n",
        "df_train.head()"
      ]
    },
    {
      "cell_type": "code",
      "execution_count": 19,
      "metadata": {},
      "outputs": [
        {
          "output_type": "execute_result",
          "data": {
            "text/plain": [
              "(3187, 3491)"
            ]
          },
          "metadata": {},
          "execution_count": 19
        }
      ],
      "source": [
        "x1_min = int(np.floor(min(df_train['x1'])))\n",
        "y1_min = int(np.floor(min(df_train['y1'])))\n",
        "\n",
        "x2_max = int(np.floor(max(df_train['x2'])))\n",
        "y2_max = int(np.floor(max(df_train['y2'])))\n",
        "\n",
        "data_560Mhz_1000h_train = data_560Mhz_1000h[y1_min:y2_max, x1_min:x2_max]\n",
        "data_560Mhz_1000h_train.shape\n"
      ]
    },
    {
      "cell_type": "code",
      "execution_count": 21,
      "metadata": {},
      "outputs": [
        {
          "output_type": "display_data",
          "data": {
            "text/plain": "<Figure size 432x288 with 1 Axes>",
            "image/svg+xml": "<?xml version=\"1.0\" encoding=\"utf-8\" standalone=\"no\"?>\n<!DOCTYPE svg PUBLIC \"-//W3C//DTD SVG 1.1//EN\"\n  \"http://www.w3.org/Graphics/SVG/1.1/DTD/svg11.dtd\">\n<!-- Created with matplotlib (https://matplotlib.org/) -->\n<svg height=\"251.230144pt\" version=\"1.1\" viewBox=\"0 0 251.565 251.230144\" width=\"251.565pt\" xmlns=\"http://www.w3.org/2000/svg\" xmlns:xlink=\"http://www.w3.org/1999/xlink\">\n <metadata>\n  <rdf:RDF xmlns:cc=\"http://creativecommons.org/ns#\" xmlns:dc=\"http://purl.org/dc/elements/1.1/\" xmlns:rdf=\"http://www.w3.org/1999/02/22-rdf-syntax-ns#\">\n   <cc:Work>\n    <dc:type rdf:resource=\"http://purl.org/dc/dcmitype/StillImage\"/>\n    <dc:date>2021-04-18T16:48:27.779429</dc:date>\n    <dc:format>image/svg+xml</dc:format>\n    <dc:creator>\n     <cc:Agent>\n      <dc:title>Matplotlib v3.3.4, https://matplotlib.org/</dc:title>\n     </cc:Agent>\n    </dc:creator>\n   </cc:Work>\n  </rdf:RDF>\n </metadata>\n <defs>\n  <style type=\"text/css\">*{stroke-linecap:butt;stroke-linejoin:round;}</style>\n </defs>\n <g id=\"figure_1\">\n  <g id=\"patch_1\">\n   <path d=\"M 0 251.230144 \nL 251.565 251.230144 \nL 251.565 0 \nL 0 0 \nz\n\" style=\"fill:none;\"/>\n  </g>\n  <g id=\"axes_1\">\n   <g id=\"patch_2\">\n    <path d=\"M 26.925 227.352019 \nL 244.365 227.352019 \nL 244.365 9.912019 \nL 26.925 9.912019 \nz\n\" style=\"fill:#ffffff;\"/>\n   </g>\n   <g clip-path=\"url(#p12eacd6709)\">\n    <image height=\"218\" id=\"imagef5b893efb2\" transform=\"scale(1 -1)translate(0 -218)\" width=\"218\" x=\"26.925\" xlink:href=\"data:image/png;base64,\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\" y=\"-9.352019\"/>\n   </g>\n   <g id=\"matplotlib.axis_1\">\n    <g id=\"xtick_1\">\n     <g id=\"line2d_1\">\n      <defs>\n       <path d=\"M 0 0 \nL 0 3.5 \n\" id=\"m554422700c\" style=\"stroke:#000000;stroke-width:0.8;\"/>\n      </defs>\n      <g>\n       <use style=\"stroke:#000000;stroke-width:0.8;\" x=\"28.0122\" xlink:href=\"#m554422700c\" y=\"227.352019\"/>\n      </g>\n     </g>\n     <g id=\"text_1\">\n      <!-- 0 -->\n      <g transform=\"translate(24.83095 241.950456)scale(0.1 -0.1)\">\n       <defs>\n        <path d=\"M 31.78125 66.40625 \nQ 24.171875 66.40625 20.328125 58.90625 \nQ 16.5 51.421875 16.5 36.375 \nQ 16.5 21.390625 20.328125 13.890625 \nQ 24.171875 6.390625 31.78125 6.390625 \nQ 39.453125 6.390625 43.28125 13.890625 \nQ 47.125 21.390625 47.125 36.375 \nQ 47.125 51.421875 43.28125 58.90625 \nQ 39.453125 66.40625 31.78125 66.40625 \nz\nM 31.78125 74.21875 \nQ 44.046875 74.21875 50.515625 64.515625 \nQ 56.984375 54.828125 56.984375 36.375 \nQ 56.984375 17.96875 50.515625 8.265625 \nQ 44.046875 -1.421875 31.78125 -1.421875 \nQ 19.53125 -1.421875 13.0625 8.265625 \nQ 6.59375 17.96875 6.59375 36.375 \nQ 6.59375 54.828125 13.0625 64.515625 \nQ 19.53125 74.21875 31.78125 74.21875 \nz\n\" id=\"DejaVuSans-48\"/>\n       </defs>\n       <use xlink:href=\"#DejaVuSans-48\"/>\n      </g>\n     </g>\n    </g>\n    <g id=\"xtick_2\">\n     <g id=\"line2d_2\">\n      <g>\n       <use style=\"stroke:#000000;stroke-width:0.8;\" x=\"71.5002\" xlink:href=\"#m554422700c\" y=\"227.352019\"/>\n      </g>\n     </g>\n     <g id=\"text_2\">\n      <!-- 20 -->\n      <g transform=\"translate(65.1377 241.950456)scale(0.1 -0.1)\">\n       <defs>\n        <path d=\"M 19.1875 8.296875 \nL 53.609375 8.296875 \nL 53.609375 0 \nL 7.328125 0 \nL 7.328125 8.296875 \nQ 12.9375 14.109375 22.625 23.890625 \nQ 32.328125 33.6875 34.8125 36.53125 \nQ 39.546875 41.84375 41.421875 45.53125 \nQ 43.3125 49.21875 43.3125 52.78125 \nQ 43.3125 58.59375 39.234375 62.25 \nQ 35.15625 65.921875 28.609375 65.921875 \nQ 23.96875 65.921875 18.8125 64.3125 \nQ 13.671875 62.703125 7.8125 59.421875 \nL 7.8125 69.390625 \nQ 13.765625 71.78125 18.9375 73 \nQ 24.125 74.21875 28.421875 74.21875 \nQ 39.75 74.21875 46.484375 68.546875 \nQ 53.21875 62.890625 53.21875 53.421875 \nQ 53.21875 48.921875 51.53125 44.890625 \nQ 49.859375 40.875 45.40625 35.40625 \nQ 44.1875 33.984375 37.640625 27.21875 \nQ 31.109375 20.453125 19.1875 8.296875 \nz\n\" id=\"DejaVuSans-50\"/>\n       </defs>\n       <use xlink:href=\"#DejaVuSans-50\"/>\n       <use x=\"63.623047\" xlink:href=\"#DejaVuSans-48\"/>\n      </g>\n     </g>\n    </g>\n    <g id=\"xtick_3\">\n     <g id=\"line2d_3\">\n      <g>\n       <use style=\"stroke:#000000;stroke-width:0.8;\" x=\"114.9882\" xlink:href=\"#m554422700c\" y=\"227.352019\"/>\n      </g>\n     </g>\n     <g id=\"text_3\">\n      <!-- 40 -->\n      <g transform=\"translate(108.6257 241.950456)scale(0.1 -0.1)\">\n       <defs>\n        <path d=\"M 37.796875 64.3125 \nL 12.890625 25.390625 \nL 37.796875 25.390625 \nz\nM 35.203125 72.90625 \nL 47.609375 72.90625 \nL 47.609375 25.390625 \nL 58.015625 25.390625 \nL 58.015625 17.1875 \nL 47.609375 17.1875 \nL 47.609375 0 \nL 37.796875 0 \nL 37.796875 17.1875 \nL 4.890625 17.1875 \nL 4.890625 26.703125 \nz\n\" id=\"DejaVuSans-52\"/>\n       </defs>\n       <use xlink:href=\"#DejaVuSans-52\"/>\n       <use x=\"63.623047\" xlink:href=\"#DejaVuSans-48\"/>\n      </g>\n     </g>\n    </g>\n    <g id=\"xtick_4\">\n     <g id=\"line2d_4\">\n      <g>\n       <use style=\"stroke:#000000;stroke-width:0.8;\" x=\"158.4762\" xlink:href=\"#m554422700c\" y=\"227.352019\"/>\n      </g>\n     </g>\n     <g id=\"text_4\">\n      <!-- 60 -->\n      <g transform=\"translate(152.1137 241.950456)scale(0.1 -0.1)\">\n       <defs>\n        <path d=\"M 33.015625 40.375 \nQ 26.375 40.375 22.484375 35.828125 \nQ 18.609375 31.296875 18.609375 23.390625 \nQ 18.609375 15.53125 22.484375 10.953125 \nQ 26.375 6.390625 33.015625 6.390625 \nQ 39.65625 6.390625 43.53125 10.953125 \nQ 47.40625 15.53125 47.40625 23.390625 \nQ 47.40625 31.296875 43.53125 35.828125 \nQ 39.65625 40.375 33.015625 40.375 \nz\nM 52.59375 71.296875 \nL 52.59375 62.3125 \nQ 48.875 64.0625 45.09375 64.984375 \nQ 41.3125 65.921875 37.59375 65.921875 \nQ 27.828125 65.921875 22.671875 59.328125 \nQ 17.53125 52.734375 16.796875 39.40625 \nQ 19.671875 43.65625 24.015625 45.921875 \nQ 28.375 48.1875 33.59375 48.1875 \nQ 44.578125 48.1875 50.953125 41.515625 \nQ 57.328125 34.859375 57.328125 23.390625 \nQ 57.328125 12.15625 50.6875 5.359375 \nQ 44.046875 -1.421875 33.015625 -1.421875 \nQ 20.359375 -1.421875 13.671875 8.265625 \nQ 6.984375 17.96875 6.984375 36.375 \nQ 6.984375 53.65625 15.1875 63.9375 \nQ 23.390625 74.21875 37.203125 74.21875 \nQ 40.921875 74.21875 44.703125 73.484375 \nQ 48.484375 72.75 52.59375 71.296875 \nz\n\" id=\"DejaVuSans-54\"/>\n       </defs>\n       <use xlink:href=\"#DejaVuSans-54\"/>\n       <use x=\"63.623047\" xlink:href=\"#DejaVuSans-48\"/>\n      </g>\n     </g>\n    </g>\n    <g id=\"xtick_5\">\n     <g id=\"line2d_5\">\n      <g>\n       <use style=\"stroke:#000000;stroke-width:0.8;\" x=\"201.9642\" xlink:href=\"#m554422700c\" y=\"227.352019\"/>\n      </g>\n     </g>\n     <g id=\"text_5\">\n      <!-- 80 -->\n      <g transform=\"translate(195.6017 241.950456)scale(0.1 -0.1)\">\n       <defs>\n        <path d=\"M 31.78125 34.625 \nQ 24.75 34.625 20.71875 30.859375 \nQ 16.703125 27.09375 16.703125 20.515625 \nQ 16.703125 13.921875 20.71875 10.15625 \nQ 24.75 6.390625 31.78125 6.390625 \nQ 38.8125 6.390625 42.859375 10.171875 \nQ 46.921875 13.96875 46.921875 20.515625 \nQ 46.921875 27.09375 42.890625 30.859375 \nQ 38.875 34.625 31.78125 34.625 \nz\nM 21.921875 38.8125 \nQ 15.578125 40.375 12.03125 44.71875 \nQ 8.5 49.078125 8.5 55.328125 \nQ 8.5 64.0625 14.71875 69.140625 \nQ 20.953125 74.21875 31.78125 74.21875 \nQ 42.671875 74.21875 48.875 69.140625 \nQ 55.078125 64.0625 55.078125 55.328125 \nQ 55.078125 49.078125 51.53125 44.71875 \nQ 48 40.375 41.703125 38.8125 \nQ 48.828125 37.15625 52.796875 32.3125 \nQ 56.78125 27.484375 56.78125 20.515625 \nQ 56.78125 9.90625 50.3125 4.234375 \nQ 43.84375 -1.421875 31.78125 -1.421875 \nQ 19.734375 -1.421875 13.25 4.234375 \nQ 6.78125 9.90625 6.78125 20.515625 \nQ 6.78125 27.484375 10.78125 32.3125 \nQ 14.796875 37.15625 21.921875 38.8125 \nz\nM 18.3125 54.390625 \nQ 18.3125 48.734375 21.84375 45.5625 \nQ 25.390625 42.390625 31.78125 42.390625 \nQ 38.140625 42.390625 41.71875 45.5625 \nQ 45.3125 48.734375 45.3125 54.390625 \nQ 45.3125 60.0625 41.71875 63.234375 \nQ 38.140625 66.40625 31.78125 66.40625 \nQ 25.390625 66.40625 21.84375 63.234375 \nQ 18.3125 60.0625 18.3125 54.390625 \nz\n\" id=\"DejaVuSans-56\"/>\n       </defs>\n       <use xlink:href=\"#DejaVuSans-56\"/>\n       <use x=\"63.623047\" xlink:href=\"#DejaVuSans-48\"/>\n      </g>\n     </g>\n    </g>\n   </g>\n   <g id=\"matplotlib.axis_2\">\n    <g id=\"ytick_1\">\n     <g id=\"line2d_6\">\n      <defs>\n       <path d=\"M 0 0 \nL -3.5 0 \n\" id=\"mee0b6f1922\" style=\"stroke:#000000;stroke-width:0.8;\"/>\n      </defs>\n      <g>\n       <use style=\"stroke:#000000;stroke-width:0.8;\" x=\"26.925\" xlink:href=\"#mee0b6f1922\" y=\"10.999219\"/>\n      </g>\n     </g>\n     <g id=\"text_6\">\n      <!-- 0 -->\n      <g transform=\"translate(13.5625 14.798437)scale(0.1 -0.1)\">\n       <use xlink:href=\"#DejaVuSans-48\"/>\n      </g>\n     </g>\n    </g>\n    <g id=\"ytick_2\">\n     <g id=\"line2d_7\">\n      <g>\n       <use style=\"stroke:#000000;stroke-width:0.8;\" x=\"26.925\" xlink:href=\"#mee0b6f1922\" y=\"54.487219\"/>\n      </g>\n     </g>\n     <g id=\"text_7\">\n      <!-- 20 -->\n      <g transform=\"translate(7.2 58.286437)scale(0.1 -0.1)\">\n       <use xlink:href=\"#DejaVuSans-50\"/>\n       <use x=\"63.623047\" xlink:href=\"#DejaVuSans-48\"/>\n      </g>\n     </g>\n    </g>\n    <g id=\"ytick_3\">\n     <g id=\"line2d_8\">\n      <g>\n       <use style=\"stroke:#000000;stroke-width:0.8;\" x=\"26.925\" xlink:href=\"#mee0b6f1922\" y=\"97.975219\"/>\n      </g>\n     </g>\n     <g id=\"text_8\">\n      <!-- 40 -->\n      <g transform=\"translate(7.2 101.774437)scale(0.1 -0.1)\">\n       <use xlink:href=\"#DejaVuSans-52\"/>\n       <use x=\"63.623047\" xlink:href=\"#DejaVuSans-48\"/>\n      </g>\n     </g>\n    </g>\n    <g id=\"ytick_4\">\n     <g id=\"line2d_9\">\n      <g>\n       <use style=\"stroke:#000000;stroke-width:0.8;\" x=\"26.925\" xlink:href=\"#mee0b6f1922\" y=\"141.463219\"/>\n      </g>\n     </g>\n     <g id=\"text_9\">\n      <!-- 60 -->\n      <g transform=\"translate(7.2 145.262437)scale(0.1 -0.1)\">\n       <use xlink:href=\"#DejaVuSans-54\"/>\n       <use x=\"63.623047\" xlink:href=\"#DejaVuSans-48\"/>\n      </g>\n     </g>\n    </g>\n    <g id=\"ytick_5\">\n     <g id=\"line2d_10\">\n      <g>\n       <use style=\"stroke:#000000;stroke-width:0.8;\" x=\"26.925\" xlink:href=\"#mee0b6f1922\" y=\"184.951219\"/>\n      </g>\n     </g>\n     <g id=\"text_10\">\n      <!-- 80 -->\n      <g transform=\"translate(7.2 188.750437)scale(0.1 -0.1)\">\n       <use xlink:href=\"#DejaVuSans-56\"/>\n       <use x=\"63.623047\" xlink:href=\"#DejaVuSans-48\"/>\n      </g>\n     </g>\n    </g>\n   </g>\n   <g id=\"patch_3\">\n    <path d=\"M 26.925 227.352019 \nL 26.925 9.912019 \n\" style=\"fill:none;stroke:#000000;stroke-linecap:square;stroke-linejoin:miter;stroke-width:0.8;\"/>\n   </g>\n   <g id=\"patch_4\">\n    <path d=\"M 244.365 227.352019 \nL 244.365 9.912019 \n\" style=\"fill:none;stroke:#000000;stroke-linecap:square;stroke-linejoin:miter;stroke-width:0.8;\"/>\n   </g>\n   <g id=\"patch_5\">\n    <path d=\"M 26.925 227.352019 \nL 244.365 227.352019 \n\" style=\"fill:none;stroke:#000000;stroke-linecap:square;stroke-linejoin:miter;stroke-width:0.8;\"/>\n   </g>\n   <g id=\"patch_6\">\n    <path d=\"M 26.925 9.912019 \nL 244.365 9.912019 \n\" style=\"fill:none;stroke:#000000;stroke-linecap:square;stroke-linejoin:miter;stroke-width:0.8;\"/>\n   </g>\n  </g>\n </g>\n <defs>\n  <clipPath id=\"p12eacd6709\">\n   <rect height=\"217.44\" width=\"217.44\" x=\"26.925\" y=\"9.912019\"/>\n  </clipPath>\n </defs>\n</svg>\n",
            "image/png": "[encoded data removed]"
          },
          "metadata": {
            "needs_background": "light"
          }
        }
      ],
      "source": [
        "plt.imshow(data_560Mhz_1000h_train[0:100,0:100] * (1.0 / percentileThresh))\n",
        "plt.show()"
      ]
    },
    {
      "cell_type": "code",
      "metadata": {
        "id": "Ug10Ku-OF-5Y",
        "outputId": "c3b6bed6-24a7-4f71-cbed-c4b6b8d934af",
        "tags": []
      },
      "source": [
        "patches={}\n",
        "patches = ska_dataset._split_in_patch(data_560Mhz_1000h_train, df_train, data_560Mhz_1000h_fits.filename(), x1_min, y1_min, 205) # Remember to remove internal limit"
      ],
      "execution_count": null,
      "outputs": []
    },
    {
      "source": [
        "#TODO:\n",
        "- Ingrandire bbox\n",
        "- Mergiare branch data_clean\n",
        "- Quando vengono create le patch, ritagliare le bbox per farle stare tutte nella patch\n",
        "- Check tra nostro dataset pulito e quello di ICRAR"
      ],
      "cell_type": "markdown",
      "metadata": {}
    },
    {
      "cell_type": "code",
      "metadata": {
        "id": "maVI39nOF-5Y",
        "outputId": "d4c6a026-68b9-46fa-c7af-b692285199cd"
      },
      "source": [
        "# First net version\n",
        "from tensorflow import keras\n",
        "\n",
        "FROZEN_LAYERS_IDX = [1, 2, 4, 5]\n",
        "ANCHOR_NUM = 9\n",
        "PROB_PRED_OUT = 2 * ANCHOR_NUM\n",
        "COORD_PRED_OUT = 4 * ANCHOR_NUM \n",
        "\n",
        "# Load pretrained VGG16 and remove last MaxPool layer\n",
        "VGG16 = keras.applications.VGG16(include_top=False, input_shape=(600, 600, 3), weights=\"imagenet\")\n",
        "shared_conv = keras.Model(VGG16.input, VGG16.layers[-2].output, name=\"Shared Convolutional Net\")\n",
        "\n",
        "# Freeze first 4 convolutional layers\n",
        "for idx in FROZEN_LAYERS_IDX:\n",
        "  shared_conv.layers[idx].trainable = False\n",
        "\n",
        "# Create Region Proposal Net\n",
        "x = keras.layers.Conv2D(filters=512, kernel_size=(3, 3), padding='same', activation='relu', name='RPN_Conv1')(shared_conv.output)\n",
        "cls_pred = keras.layers.Conv2D(filters=PROB_PRED_OUT, kernel_size=(1, 1), padding='same', name='RPN_Cls_Conv')(x)\n",
        "reg_pred = keras.layers.Conv2D(filters=COORD_PRED_OUT, kernel_size=(1, 1), padding='same', name='RPN_Reg_Conv')(x)\n",
        "\n",
        "region_prop_net = keras.Model(shared_conv.input, [cls_pred, reg_pred], name='Region Proposal')\n",
        "\n",
        "print(region_prop_net.summary())\n"
      ],
      "execution_count": null,
      "outputs": [
        {
          "output_type": "error",
          "ename": "ModuleNotFoundError",
          "evalue": "No module named 'tensorflow'",
          "traceback": [
            "\u001b[1;31m---------------------------------------------------------------------------\u001b[0m",
            "\u001b[1;31mModuleNotFoundError\u001b[0m                       Traceback (most recent call last)",
            "\u001b[1;32m<ipython-input-11-927861dc1f39>\u001b[0m in \u001b[0;36m<module>\u001b[1;34m\u001b[0m\n\u001b[0;32m      1\u001b[0m \u001b[1;31m# First net version\u001b[0m\u001b[1;33m\u001b[0m\u001b[1;33m\u001b[0m\u001b[1;33m\u001b[0m\u001b[0m\n\u001b[1;32m----> 2\u001b[1;33m \u001b[1;32mfrom\u001b[0m \u001b[0mtensorflow\u001b[0m \u001b[1;32mimport\u001b[0m \u001b[0mkeras\u001b[0m\u001b[1;33m\u001b[0m\u001b[1;33m\u001b[0m\u001b[0m\n\u001b[0m\u001b[0;32m      3\u001b[0m \u001b[1;33m\u001b[0m\u001b[0m\n\u001b[0;32m      4\u001b[0m \u001b[0mFROZEN_LAYERS_IDX\u001b[0m \u001b[1;33m=\u001b[0m \u001b[1;33m[\u001b[0m\u001b[1;36m1\u001b[0m\u001b[1;33m,\u001b[0m \u001b[1;36m2\u001b[0m\u001b[1;33m,\u001b[0m \u001b[1;36m4\u001b[0m\u001b[1;33m,\u001b[0m \u001b[1;36m5\u001b[0m\u001b[1;33m]\u001b[0m\u001b[1;33m\u001b[0m\u001b[1;33m\u001b[0m\u001b[0m\n\u001b[0;32m      5\u001b[0m \u001b[0mANCHOR_NUM\u001b[0m \u001b[1;33m=\u001b[0m \u001b[1;36m9\u001b[0m\u001b[1;33m\u001b[0m\u001b[1;33m\u001b[0m\u001b[0m\n",
            "\u001b[1;31mModuleNotFoundError\u001b[0m: No module named 'tensorflow'"
          ]
        }
      ]
    }
  ]
}