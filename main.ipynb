{
  "nbformat": 4,
  "nbformat_minor": 0,
  "metadata": {
    "language_info": {
      "codemirror_mode": {
        "name": "ipython",
        "version": 3
      },
      "file_extension": ".py",
      "mimetype": "text/x-python",
      "name": "python",
      "nbconvert_exporter": "python",
      "pygments_lexer": "ipython3",
      "version": "3.8.8"
    },
    "orig_nbformat": 2,
    "kernelspec": {
      "name": "python388jvsc74a57bd02d04b9be2429acaaca541b9fd5f04e1d13e142a6d8a3b01163614a22cbe6d5d6",
      "display_name": "Python 3.8.8 64-bit"
    },
    "colab": {
      "name": "main.ipynb",
      "provenance": []
    },
    "metadata": {
      "interpreter": {
        "hash": "2d04b9be2429acaaca541b9fd5f04e1d13e142a6d8a3b01163614a22cbe6d5d6"
      }
    }
  },
  "cells": [
    {
      "cell_type": "code",
      "metadata": {
        "id": "XkdmU4lMMVmI",
        "outputId": "7bfc2152-66c6-4d4d-f838-0e531b28a348",
        "colab": {
          "base_uri": "https://localhost:8080/"
        }
      },
      "source": [
        "!git clone 'https://github.com/Lorenz92/SKADC1.git'\n",
        "% cd SKADC1\n",
        "!echo $PWD"
      ],
      "execution_count": 12,
      "outputs": [
        {
          "output_type": "stream",
          "text": [
            "Cloning into 'SKADC1'...\n",
            "remote: Enumerating objects: 41, done.\u001b[K\n",
            "remote: Counting objects: 100% (41/41), done.\u001b[K\n",
            "remote: Compressing objects: 100% (33/33), done.\u001b[K\n",
            "remote: Total 41 (delta 17), reused 25 (delta 6), pack-reused 0\u001b[K\n",
            "Unpacking objects: 100% (41/41), done.\n"
          ],
          "name": "stdout"
        }
      ]
    },
    {
      "cell_type": "code",
      "metadata": {
        "id": "7WwOlsifF-5G",
        "outputId": "303002ab-c8c4-4807-caeb-ee1c590d4326",
        "colab": {
          "base_uri": "https://localhost:8080/"
        }
      },
      "source": [
        "import pandas as pd\n",
        "import numpy as np\n",
        "import requests\n",
        "import matplotlib.pyplot as plt\n",
        "import sys\n",
        "from astropy.io import fits\n",
        "import os\n",
        "\n",
        "import src.dataset as dataset\n",
        "import src.config as config\n",
        "from src.utils import *\n",
        "import src.preprocessing as prep\n",
        "\n",
        "# from src.config import * \n",
        "\n",
        "%load_ext autoreload\n",
        "%autoreload 2\n",
        "\n",
        "np.random.seed(config.RANDOM_SEED)"
      ],
      "execution_count": 1,
      "outputs": []
    },
    {
      "cell_type": "code",
      "metadata": {
        "id": "qHxrJ525F-5J",
        "outputId": "ee8e854b-65ce-486a-e9e3-c5752e45406c",
        "colab": {
          "base_uri": "https://localhost:8080/"
        }
      },
      "source": [
        "for download_info in config.required_files:\n",
        "    if not os.path.exists(os.path.join(config.TRAIN_DATA_FOLDER, download_info['file_name'])):\n",
        "        download_data(download_info['file_name'], download_info['url'], config.DOWNLOAD_FOLDER)"
      ],
      "execution_count": 7,
      "outputs": [
        {
          "output_type": "stream",
          "name": "stdout",
          "text": [
            "Downloading SKA 560Mhz_1000h.fits data...\n",
            "Download completed!\n",
            "Downloading SKA 9200Mhz_1000h.fits data...\n",
            "Download completed!\n"
          ]
        }
      ]
    },
    {
      "cell_type": "code",
      "metadata": {
        "tags": [],
        "id": "Q8IbYCwkF-5K",
        "outputId": "5cd8e5ba-49cd-49b4-d65c-65d82229f792",
        "colab": {
          "base_uri": "https://localhost:8080/",
          "height": 221
        }
      },
      "source": [
        "# Dataset parsing and loading\n",
        "# use \"subset\" to load a small portion of data for development/debugging purposes\n",
        "\n",
        "ska_dataset = dataset.SKADataset(train_set_path=config.TRAIN_SET_PATH, subset=config.DATA_SUBSET)\n",
        "print(ska_dataset.raw_train_df.shape)\n",
        "ska_dataset.raw_train_df.head()"
      ],
      "execution_count": 2,
      "outputs": [
        {
          "output_type": "stream",
          "name": "stdout",
          "text": [
            "(19222, 15)\n"
          ]
        },
        {
          "output_type": "execute_result",
          "data": {
            "text/plain": [
              "         ID  RA (core)  DEC (core)  RA (centroid)  DEC (centroid)      FLUX  \\\n",
              "0  24121695  -0.642227  -29.775242      -0.642316      -29.775211  0.000035   \n",
              "1  20167150  -0.390473  -29.867493      -0.390667      -29.868851  0.029555   \n",
              "2  20045120  -0.021411  -29.643486      -0.021359      -29.643561  0.000653   \n",
              "3  33938384  -0.316375  -29.697647      -0.316375      -29.697647  0.000017   \n",
              "4   7527248  -0.336528  -29.627335      -0.336527      -29.627338  0.000054   \n",
              "\n",
              "   Core frac     BMAJ    BMIN       PA  SIZE  CLASS  SELECTION          x  \\\n",
              "0   0.000000    5.600   5.551  328.554     1      1          1  19704.519   \n",
              "1   0.016924  107.110  43.263  191.258     1      1          1  18401.338   \n",
              "2   0.012185    5.037   3.525  276.587     1      1          1  16493.600   \n",
              "3   0.000000    0.847   0.266  346.641     2      1          1  18020.319   \n",
              "4   0.044763    3.343   1.515  279.006     1      1          1  18125.824   \n",
              "\n",
              "           y  \n",
              "0  17712.942  \n",
              "1  17160.919  \n",
              "2  18506.577  \n",
              "3  18182.095  \n",
              "4  18600.680  "
            ],
            "text/html": "<div>\n<style scoped>\n    .dataframe tbody tr th:only-of-type {\n        vertical-align: middle;\n    }\n\n    .dataframe tbody tr th {\n        vertical-align: top;\n    }\n\n    .dataframe thead th {\n        text-align: right;\n    }\n</style>\n<table border=\"1\" class=\"dataframe\">\n  <thead>\n    <tr style=\"text-align: right;\">\n      <th></th>\n      <th>ID</th>\n      <th>RA (core)</th>\n      <th>DEC (core)</th>\n      <th>RA (centroid)</th>\n      <th>DEC (centroid)</th>\n      <th>FLUX</th>\n      <th>Core frac</th>\n      <th>BMAJ</th>\n      <th>BMIN</th>\n      <th>PA</th>\n      <th>SIZE</th>\n      <th>CLASS</th>\n      <th>SELECTION</th>\n      <th>x</th>\n      <th>y</th>\n    </tr>\n  </thead>\n  <tbody>\n    <tr>\n      <th>0</th>\n      <td>24121695</td>\n      <td>-0.642227</td>\n      <td>-29.775242</td>\n      <td>-0.642316</td>\n      <td>-29.775211</td>\n      <td>0.000035</td>\n      <td>0.000000</td>\n      <td>5.600</td>\n      <td>5.551</td>\n      <td>328.554</td>\n      <td>1</td>\n      <td>1</td>\n      <td>1</td>\n      <td>19704.519</td>\n      <td>17712.942</td>\n    </tr>\n    <tr>\n      <th>1</th>\n      <td>20167150</td>\n      <td>-0.390473</td>\n      <td>-29.867493</td>\n      <td>-0.390667</td>\n      <td>-29.868851</td>\n      <td>0.029555</td>\n      <td>0.016924</td>\n      <td>107.110</td>\n      <td>43.263</td>\n      <td>191.258</td>\n      <td>1</td>\n      <td>1</td>\n      <td>1</td>\n      <td>18401.338</td>\n      <td>17160.919</td>\n    </tr>\n    <tr>\n      <th>2</th>\n      <td>20045120</td>\n      <td>-0.021411</td>\n      <td>-29.643486</td>\n      <td>-0.021359</td>\n      <td>-29.643561</td>\n      <td>0.000653</td>\n      <td>0.012185</td>\n      <td>5.037</td>\n      <td>3.525</td>\n      <td>276.587</td>\n      <td>1</td>\n      <td>1</td>\n      <td>1</td>\n      <td>16493.600</td>\n      <td>18506.577</td>\n    </tr>\n    <tr>\n      <th>3</th>\n      <td>33938384</td>\n      <td>-0.316375</td>\n      <td>-29.697647</td>\n      <td>-0.316375</td>\n      <td>-29.697647</td>\n      <td>0.000017</td>\n      <td>0.000000</td>\n      <td>0.847</td>\n      <td>0.266</td>\n      <td>346.641</td>\n      <td>2</td>\n      <td>1</td>\n      <td>1</td>\n      <td>18020.319</td>\n      <td>18182.095</td>\n    </tr>\n    <tr>\n      <th>4</th>\n      <td>7527248</td>\n      <td>-0.336528</td>\n      <td>-29.627335</td>\n      <td>-0.336527</td>\n      <td>-29.627338</td>\n      <td>0.000054</td>\n      <td>0.044763</td>\n      <td>3.343</td>\n      <td>1.515</td>\n      <td>279.006</td>\n      <td>1</td>\n      <td>1</td>\n      <td>1</td>\n      <td>18125.824</td>\n      <td>18600.680</td>\n    </tr>\n  </tbody>\n</table>\n</div>"
          },
          "metadata": {},
          "execution_count": 2
        }
      ]
    },
    {
      "cell_type": "code",
      "metadata": {
        "id": "fdok-EggF-5T",
        "outputId": "40c460e3-a600-4a3b-98a4-021a903c522e",
        "colab": {
          "base_uri": "https://localhost:8080/"
        }
      },
      "source": [
        "data_560Mhz_1000h_fits = fits.open('./data/training/560Mhz_1000h.fits')\n",
        "# data_560Mhz_1000h_fits.info()\n",
        "data_560Mhz_1000h_fits.filename()\n",
        "\n",
        "# print(data_560Mhz_1000h_fits[0].data)\n",
        "# print(data_560Mhz_1000h_fits[0].data.shape)\n",
        "\n",
        "data_560Mhz_1000h = data_560Mhz_1000h_fits[0].data[0,0]\n"
      ],
      "execution_count": 3,
      "outputs": [
        {
          "output_type": "stream",
          "name": "stderr",
          "text": [
            "WARNING: VerifyWarning: Invalid 'BLANK' keyword in header.  The 'BLANK' keyword is only applicable to integer data, and will be ignored in this HDU. [astropy.io.fits.hdu.image]\n"
          ]
        }
      ]
    },
    {
      "cell_type": "code",
      "metadata": {
        "id": "jdi1VFtOF-5V",
        "outputId": "0637233d-fadd-4c9f-b823-02ab6424866f"
      },
      "source": [
        "# Visualization test\n",
        "from astropy.io import fits\n",
        "from astropy.utils.data import download_file\n",
        "\n",
        "# image_file = download_file('https://owncloud.ia2.inaf.it/index.php/s/hbasFhd4YILNkCr/download', cache=True )\n",
        "\n",
        "# image_data = fits.getdata(image_file)\n",
        "# image_data = image_data.reshape(image_data.shape[2:])\n",
        "\n",
        "# compute per value to clip the image\n",
        "perc = 99.9\n",
        "percentileThresh = np.percentile(data_560Mhz_1000h, perc)\n",
        "print (f'{perc} percentile {percentileThresh}')\n",
        "\n",
        "# # crop the image to speed up computation and clip using per value\n",
        "# image_crop= image_data[5000:10000, 5000:10000]\n",
        "# image_crop.clip(max=percentileThresh)\n",
        "\n",
        "# plt.figure(figsize=(100, 100))\n",
        "# # plt.imshow(normalized_data, cmap='viridis', vmax=255, vmin=0)\n",
        "# for idx in range(25):\n",
        "#     plt.subplot(5, 5, idx+1)\n",
        "#     plt.axis('off')\n",
        "#     base = 200 * idx\n",
        "#     end = base + 200\n",
        "#     normalized_data = image_crop[base:end, base:end] * (1.0 / percentileThresh)\n",
        "#     plt.imshow(normalized_data, cmap='viridis', vmax=1, vmin=0)"
      ],
      "execution_count": 4,
      "outputs": [
        {
          "output_type": "stream",
          "name": "stdout",
          "text": [
            "99.9 percentile 8.316711500810925e-06\n"
          ]
        }
      ]
    },
    {
      "cell_type": "markdown",
      "metadata": {
        "id": "UqSLm8sBF-5W"
      },
      "source": [
        "### Preprocessing"
      ]
    },
    {
      "cell_type": "code",
      "execution_count": 5,
      "metadata": {},
      "outputs": [],
      "source": [
        "coords = ska_dataset._convert_boxes_to_px_coord(ska_dataset.raw_train_df, data_560Mhz_1000h_fits[0].header)"
      ]
    },
    {
      "source": [
        "pd.DataFrame.from_dict(coords)"
      ],
      "cell_type": "code",
      "metadata": {
        "tags": []
      },
      "execution_count": 6,
      "outputs": [
        {
          "output_type": "execute_result",
          "data": {
            "text/plain": [
              "                 x1            y1            x2            y2  major_semia_px  \\\n",
              "0      19699.889820  17708.334874  19709.135520  17717.543623        4.633850   \n",
              "1      18314.128617  17121.775102  18488.540079  17200.059688       88.630651   \n",
              "2      16490.663037  18502.418816  16496.536575  18510.726749        4.167982   \n",
              "3      18019.631633  18181.823147  18020.999232  18182.360119        0.700870   \n",
              "4      18124.509296  18597.936034  18127.132703  18603.414392        2.766243   \n",
              "...             ...           ...           ...           ...             ...   \n",
              "19217  17592.572752  16742.936603  17593.009233  16743.428821        0.319405   \n",
              "19218  18658.822580  18666.464880  18659.100383  18666.968994        0.276376   \n",
              "19219  17523.170058  16995.697610  17523.352636  16995.761662        0.093504   \n",
              "19220  16950.523810  17747.923087  16950.979337  17748.452311        0.264791   \n",
              "19221  18166.845099  19812.685038  18167.336911  19813.128832        0.248242   \n",
              "\n",
              "       minor_semia_px  pa_in_rad       width     height  \n",
              "0            4.593304   5.734349    9.245699   9.208748  \n",
              "1           35.798972   3.338082  174.411463  78.284586  \n",
              "2            2.916843   4.827354    5.873538   8.307933  \n",
              "3            0.220108   6.050027    1.367598   0.536972  \n",
              "4            1.253622   4.869573    2.623407   5.478358  \n",
              "...               ...        ...         ...        ...  \n",
              "19217        0.078610   0.853117    0.436482   0.492218  \n",
              "19218        0.080265   1.127797    0.277803   0.504113  \n",
              "19219        0.024824  -0.226387    0.182578   0.064053  \n",
              "19220        0.227555  -1.498732    0.455528   0.529224  \n",
              "19221        0.219280  -0.296287    0.491812   0.443793  \n",
              "\n",
              "[19222 rows x 9 columns]"
            ],
            "text/html": "<div>\n<style scoped>\n    .dataframe tbody tr th:only-of-type {\n        vertical-align: middle;\n    }\n\n    .dataframe tbody tr th {\n        vertical-align: top;\n    }\n\n    .dataframe thead th {\n        text-align: right;\n    }\n</style>\n<table border=\"1\" class=\"dataframe\">\n  <thead>\n    <tr style=\"text-align: right;\">\n      <th></th>\n      <th>x1</th>\n      <th>y1</th>\n      <th>x2</th>\n      <th>y2</th>\n      <th>major_semia_px</th>\n      <th>minor_semia_px</th>\n      <th>pa_in_rad</th>\n      <th>width</th>\n      <th>height</th>\n    </tr>\n  </thead>\n  <tbody>\n    <tr>\n      <th>0</th>\n      <td>19699.889820</td>\n      <td>17708.334874</td>\n      <td>19709.135520</td>\n      <td>17717.543623</td>\n      <td>4.633850</td>\n      <td>4.593304</td>\n      <td>5.734349</td>\n      <td>9.245699</td>\n      <td>9.208748</td>\n    </tr>\n    <tr>\n      <th>1</th>\n      <td>18314.128617</td>\n      <td>17121.775102</td>\n      <td>18488.540079</td>\n      <td>17200.059688</td>\n      <td>88.630651</td>\n      <td>35.798972</td>\n      <td>3.338082</td>\n      <td>174.411463</td>\n      <td>78.284586</td>\n    </tr>\n    <tr>\n      <th>2</th>\n      <td>16490.663037</td>\n      <td>18502.418816</td>\n      <td>16496.536575</td>\n      <td>18510.726749</td>\n      <td>4.167982</td>\n      <td>2.916843</td>\n      <td>4.827354</td>\n      <td>5.873538</td>\n      <td>8.307933</td>\n    </tr>\n    <tr>\n      <th>3</th>\n      <td>18019.631633</td>\n      <td>18181.823147</td>\n      <td>18020.999232</td>\n      <td>18182.360119</td>\n      <td>0.700870</td>\n      <td>0.220108</td>\n      <td>6.050027</td>\n      <td>1.367598</td>\n      <td>0.536972</td>\n    </tr>\n    <tr>\n      <th>4</th>\n      <td>18124.509296</td>\n      <td>18597.936034</td>\n      <td>18127.132703</td>\n      <td>18603.414392</td>\n      <td>2.766243</td>\n      <td>1.253622</td>\n      <td>4.869573</td>\n      <td>2.623407</td>\n      <td>5.478358</td>\n    </tr>\n    <tr>\n      <th>...</th>\n      <td>...</td>\n      <td>...</td>\n      <td>...</td>\n      <td>...</td>\n      <td>...</td>\n      <td>...</td>\n      <td>...</td>\n      <td>...</td>\n      <td>...</td>\n    </tr>\n    <tr>\n      <th>19217</th>\n      <td>17592.572752</td>\n      <td>16742.936603</td>\n      <td>17593.009233</td>\n      <td>16743.428821</td>\n      <td>0.319405</td>\n      <td>0.078610</td>\n      <td>0.853117</td>\n      <td>0.436482</td>\n      <td>0.492218</td>\n    </tr>\n    <tr>\n      <th>19218</th>\n      <td>18658.822580</td>\n      <td>18666.464880</td>\n      <td>18659.100383</td>\n      <td>18666.968994</td>\n      <td>0.276376</td>\n      <td>0.080265</td>\n      <td>1.127797</td>\n      <td>0.277803</td>\n      <td>0.504113</td>\n    </tr>\n    <tr>\n      <th>19219</th>\n      <td>17523.170058</td>\n      <td>16995.697610</td>\n      <td>17523.352636</td>\n      <td>16995.761662</td>\n      <td>0.093504</td>\n      <td>0.024824</td>\n      <td>-0.226387</td>\n      <td>0.182578</td>\n      <td>0.064053</td>\n    </tr>\n    <tr>\n      <th>19220</th>\n      <td>16950.523810</td>\n      <td>17747.923087</td>\n      <td>16950.979337</td>\n      <td>17748.452311</td>\n      <td>0.264791</td>\n      <td>0.227555</td>\n      <td>-1.498732</td>\n      <td>0.455528</td>\n      <td>0.529224</td>\n    </tr>\n    <tr>\n      <th>19221</th>\n      <td>18166.845099</td>\n      <td>19812.685038</td>\n      <td>18167.336911</td>\n      <td>19813.128832</td>\n      <td>0.248242</td>\n      <td>0.219280</td>\n      <td>-0.296287</td>\n      <td>0.491812</td>\n      <td>0.443793</td>\n    </tr>\n  </tbody>\n</table>\n<p>19222 rows × 9 columns</p>\n</div>"
          },
          "metadata": {},
          "execution_count": 6
        }
      ]
    },
    {
      "cell_type": "code",
      "execution_count": 7,
      "metadata": {},
      "outputs": [
        {
          "output_type": "execute_result",
          "data": {
            "text/plain": [
              "         ID  RA (core)  DEC (core)  RA (centroid)  DEC (centroid)      FLUX  \\\n",
              "0  24121695  -0.642227  -29.775242      -0.642316      -29.775211  0.000035   \n",
              "1  20167150  -0.390473  -29.867493      -0.390667      -29.868851  0.029555   \n",
              "2  20045120  -0.021411  -29.643486      -0.021359      -29.643561  0.000653   \n",
              "3  33938384  -0.316375  -29.697647      -0.316375      -29.697647  0.000017   \n",
              "4   7527248  -0.336528  -29.627335      -0.336527      -29.627338  0.000054   \n",
              "\n",
              "   Core frac     BMAJ    BMIN       PA  ...          y            x1  \\\n",
              "0   0.000000    5.600   5.551  328.554  ...  17712.942  19699.889820   \n",
              "1   0.016924  107.110  43.263  191.258  ...  17160.919  18314.128617   \n",
              "2   0.012185    5.037   3.525  276.587  ...  18506.577  16490.663037   \n",
              "3   0.000000    0.847   0.266  346.641  ...  18182.095  18019.631633   \n",
              "4   0.044763    3.343   1.515  279.006  ...  18600.680  18124.509296   \n",
              "\n",
              "             y1            x2            y2  major_semia_px  minor_semia_px  \\\n",
              "0  17708.334874  19709.135520  17717.543623        4.633850        4.593304   \n",
              "1  17121.775102  18488.540079  17200.059688       88.630651       35.798972   \n",
              "2  18502.418816  16496.536575  18510.726749        4.167982        2.916843   \n",
              "3  18181.823147  18020.999232  18182.360119        0.700870        0.220108   \n",
              "4  18597.936034  18127.132703  18603.414392        2.766243        1.253622   \n",
              "\n",
              "   pa_in_rad       width     height  \n",
              "0   5.734349    9.245699   9.208748  \n",
              "1   3.338082  174.411463  78.284586  \n",
              "2   4.827354    5.873538   8.307933  \n",
              "3   6.050027    1.367598   0.536972  \n",
              "4   4.869573    2.623407   5.478358  \n",
              "\n",
              "[5 rows x 24 columns]"
            ],
            "text/html": "<div>\n<style scoped>\n    .dataframe tbody tr th:only-of-type {\n        vertical-align: middle;\n    }\n\n    .dataframe tbody tr th {\n        vertical-align: top;\n    }\n\n    .dataframe thead th {\n        text-align: right;\n    }\n</style>\n<table border=\"1\" class=\"dataframe\">\n  <thead>\n    <tr style=\"text-align: right;\">\n      <th></th>\n      <th>ID</th>\n      <th>RA (core)</th>\n      <th>DEC (core)</th>\n      <th>RA (centroid)</th>\n      <th>DEC (centroid)</th>\n      <th>FLUX</th>\n      <th>Core frac</th>\n      <th>BMAJ</th>\n      <th>BMIN</th>\n      <th>PA</th>\n      <th>...</th>\n      <th>y</th>\n      <th>x1</th>\n      <th>y1</th>\n      <th>x2</th>\n      <th>y2</th>\n      <th>major_semia_px</th>\n      <th>minor_semia_px</th>\n      <th>pa_in_rad</th>\n      <th>width</th>\n      <th>height</th>\n    </tr>\n  </thead>\n  <tbody>\n    <tr>\n      <th>0</th>\n      <td>24121695</td>\n      <td>-0.642227</td>\n      <td>-29.775242</td>\n      <td>-0.642316</td>\n      <td>-29.775211</td>\n      <td>0.000035</td>\n      <td>0.000000</td>\n      <td>5.600</td>\n      <td>5.551</td>\n      <td>328.554</td>\n      <td>...</td>\n      <td>17712.942</td>\n      <td>19699.889820</td>\n      <td>17708.334874</td>\n      <td>19709.135520</td>\n      <td>17717.543623</td>\n      <td>4.633850</td>\n      <td>4.593304</td>\n      <td>5.734349</td>\n      <td>9.245699</td>\n      <td>9.208748</td>\n    </tr>\n    <tr>\n      <th>1</th>\n      <td>20167150</td>\n      <td>-0.390473</td>\n      <td>-29.867493</td>\n      <td>-0.390667</td>\n      <td>-29.868851</td>\n      <td>0.029555</td>\n      <td>0.016924</td>\n      <td>107.110</td>\n      <td>43.263</td>\n      <td>191.258</td>\n      <td>...</td>\n      <td>17160.919</td>\n      <td>18314.128617</td>\n      <td>17121.775102</td>\n      <td>18488.540079</td>\n      <td>17200.059688</td>\n      <td>88.630651</td>\n      <td>35.798972</td>\n      <td>3.338082</td>\n      <td>174.411463</td>\n      <td>78.284586</td>\n    </tr>\n    <tr>\n      <th>2</th>\n      <td>20045120</td>\n      <td>-0.021411</td>\n      <td>-29.643486</td>\n      <td>-0.021359</td>\n      <td>-29.643561</td>\n      <td>0.000653</td>\n      <td>0.012185</td>\n      <td>5.037</td>\n      <td>3.525</td>\n      <td>276.587</td>\n      <td>...</td>\n      <td>18506.577</td>\n      <td>16490.663037</td>\n      <td>18502.418816</td>\n      <td>16496.536575</td>\n      <td>18510.726749</td>\n      <td>4.167982</td>\n      <td>2.916843</td>\n      <td>4.827354</td>\n      <td>5.873538</td>\n      <td>8.307933</td>\n    </tr>\n    <tr>\n      <th>3</th>\n      <td>33938384</td>\n      <td>-0.316375</td>\n      <td>-29.697647</td>\n      <td>-0.316375</td>\n      <td>-29.697647</td>\n      <td>0.000017</td>\n      <td>0.000000</td>\n      <td>0.847</td>\n      <td>0.266</td>\n      <td>346.641</td>\n      <td>...</td>\n      <td>18182.095</td>\n      <td>18019.631633</td>\n      <td>18181.823147</td>\n      <td>18020.999232</td>\n      <td>18182.360119</td>\n      <td>0.700870</td>\n      <td>0.220108</td>\n      <td>6.050027</td>\n      <td>1.367598</td>\n      <td>0.536972</td>\n    </tr>\n    <tr>\n      <th>4</th>\n      <td>7527248</td>\n      <td>-0.336528</td>\n      <td>-29.627335</td>\n      <td>-0.336527</td>\n      <td>-29.627338</td>\n      <td>0.000054</td>\n      <td>0.044763</td>\n      <td>3.343</td>\n      <td>1.515</td>\n      <td>279.006</td>\n      <td>...</td>\n      <td>18600.680</td>\n      <td>18124.509296</td>\n      <td>18597.936034</td>\n      <td>18127.132703</td>\n      <td>18603.414392</td>\n      <td>2.766243</td>\n      <td>1.253622</td>\n      <td>4.869573</td>\n      <td>2.623407</td>\n      <td>5.478358</td>\n    </tr>\n  </tbody>\n</table>\n<p>5 rows × 24 columns</p>\n</div>"
          },
          "metadata": {},
          "execution_count": 7
        }
      ],
      "source": [
        "df_train = ska_dataset._extend_dataframe(ska_dataset.raw_train_df, coords)\n",
        "df_train.head()"
      ]
    },
    {
      "cell_type": "code",
      "execution_count": 8,
      "metadata": {},
      "outputs": [
        {
          "output_type": "execute_result",
          "data": {
            "text/plain": [
              "(3187, 3491)"
            ]
          },
          "metadata": {},
          "execution_count": 8
        }
      ],
      "source": [
        "x1_min = int(np.floor(min(df_train['x1'])))\n",
        "y1_min = int(np.floor(min(df_train['y1'])))\n",
        "\n",
        "x2_max = int(np.floor(max(df_train['x2'])))\n",
        "y2_max = int(np.floor(max(df_train['y2'])))\n",
        "\n",
        "data_560Mhz_1000h_train = data_560Mhz_1000h[y1_min:y2_max, x1_min:x2_max]\n",
        "data_560Mhz_1000h_train.shape\n"
      ]
    },
    {
      "cell_type": "code",
      "execution_count": 9,
      "metadata": {},
      "outputs": [
        {
          "output_type": "execute_result",
          "data": {
            "text/plain": [
              "(array([7.000000e+00, 3.500000e+01, 1.490000e+02, 4.570000e+02,\n",
              "        1.414000e+03, 3.784000e+03, 9.359000e+03, 2.169900e+04,\n",
              "        4.657800e+04, 9.096100e+04, 1.648540e+05, 2.743260e+05,\n",
              "        4.212290e+05, 6.021740e+05, 7.904020e+05, 9.590150e+05,\n",
              "        1.079217e+06, 1.124733e+06, 1.086416e+06, 9.748840e+05,\n",
              "        8.142290e+05, 6.389060e+05, 4.715880e+05, 3.307770e+05,\n",
              "        2.255350e+05, 1.517900e+05, 1.038090e+05, 7.363900e+04,\n",
              "        5.517600e+04, 4.409500e+04, 3.635000e+04, 3.138700e+04,\n",
              "        2.764800e+04, 2.443600e+04, 2.195700e+04, 1.978300e+04,\n",
              "        1.802900e+04, 1.622400e+04, 1.505500e+04, 1.416400e+04]),\n",
              " array([-1.9004023e-06, -1.8053821e-06, -1.7103621e-06, -1.6153419e-06,\n",
              "        -1.5203218e-06, -1.4253017e-06, -1.3302815e-06, -1.2352615e-06,\n",
              "        -1.1402414e-06, -1.0452212e-06, -9.5020113e-07, -8.5518104e-07,\n",
              "        -7.6016090e-07, -6.6514076e-07, -5.7012068e-07, -4.7510056e-07,\n",
              "        -3.8008045e-07, -2.8506034e-07, -1.9004023e-07, -9.5020113e-08,\n",
              "         0.0000000e+00,  9.5020113e-08,  1.9004023e-07,  2.8506034e-07,\n",
              "         3.8008045e-07,  4.7510056e-07,  5.7012068e-07,  6.6514076e-07,\n",
              "         7.6016090e-07,  8.5518104e-07,  9.5020113e-07,  1.0452212e-06,\n",
              "         1.1402414e-06,  1.2352615e-06,  1.3302815e-06,  1.4253017e-06,\n",
              "         1.5203218e-06,  1.6153419e-06,  1.7103621e-06,  1.8053821e-06,\n",
              "         1.9004023e-06], dtype=float32),\n",
              " <BarContainer object of 40 artists>)"
            ]
          },
          "metadata": {},
          "execution_count": 9
        },
        {
          "output_type": "display_data",
          "data": {
            "text/plain": "<Figure size 432x288 with 1 Axes>",
            "image/svg+xml": "<?xml version=\"1.0\" encoding=\"utf-8\" standalone=\"no\"?>\r\n<!DOCTYPE svg PUBLIC \"-//W3C//DTD SVG 1.1//EN\"\r\n  \"http://www.w3.org/Graphics/SVG/1.1/DTD/svg11.dtd\">\r\n<svg height=\"271.794688pt\" version=\"1.1\" viewBox=\"0 0 372.812168 271.794688\" width=\"372.812168pt\" xmlns=\"http://www.w3.org/2000/svg\" xmlns:xlink=\"http://www.w3.org/1999/xlink\">\r\n <metadata>\r\n  <rdf:RDF xmlns:cc=\"http://creativecommons.org/ns#\" xmlns:dc=\"http://purl.org/dc/elements/1.1/\" xmlns:rdf=\"http://www.w3.org/1999/02/22-rdf-syntax-ns#\">\r\n   <cc:Work>\r\n    <dc:type rdf:resource=\"http://purl.org/dc/dcmitype/StillImage\"/>\r\n    <dc:date>2021-05-03T23:10:11.408349</dc:date>\r\n    <dc:format>image/svg+xml</dc:format>\r\n    <dc:creator>\r\n     <cc:Agent>\r\n      <dc:title>Matplotlib v3.4.1, https://matplotlib.org/</dc:title>\r\n     </cc:Agent>\r\n    </dc:creator>\r\n   </cc:Work>\r\n  </rdf:RDF>\r\n </metadata>\r\n <defs>\r\n  <style type=\"text/css\">*{stroke-linecap:butt;stroke-linejoin:round;}</style>\r\n </defs>\r\n <g id=\"figure_1\">\r\n  <g id=\"patch_1\">\r\n   <path d=\"M 0 271.794688 \r\nL 372.812168 271.794688 \r\nL 372.812168 0 \r\nL 0 0 \r\nz\r\n\" style=\"fill:none;\"/>\r\n  </g>\r\n  <g id=\"axes_1\">\r\n   <g id=\"patch_2\">\r\n    <path d=\"M 30.103125 235.238438 \r\nL 364.903125 235.238438 \r\nL 364.903125 17.798438 \r\nL 30.103125 17.798438 \r\nz\r\n\" style=\"fill:#ffffff;\"/>\r\n   </g>\r\n   <g id=\"patch_3\">\r\n    <path clip-path=\"url(#pb2bc29eb08)\" d=\"M 45.321307 235.238438 \r\nL 52.9304 235.238438 \r\nL 52.9304 235.237149 \r\nL 45.321307 235.237149 \r\nz\r\n\" style=\"fill:#1f77b4;\"/>\r\n   </g>\r\n   <g id=\"patch_4\">\r\n    <path clip-path=\"url(#pb2bc29eb08)\" d=\"M 52.930409 235.238438 \r\nL 60.539493 235.238438 \r\nL 60.539493 235.231993 \r\nL 52.930409 235.231993 \r\nz\r\n\" style=\"fill:#1f77b4;\"/>\r\n   </g>\r\n   <g id=\"patch_5\">\r\n    <path clip-path=\"url(#pb2bc29eb08)\" d=\"M 60.539484 235.238438 \r\nL 68.148577 235.238438 \r\nL 68.148577 235.211004 \r\nL 60.539484 235.211004 \r\nz\r\n\" style=\"fill:#1f77b4;\"/>\r\n   </g>\r\n   <g id=\"patch_6\">\r\n    <path clip-path=\"url(#pb2bc29eb08)\" d=\"M 68.148577 235.238438 \r\nL 75.75767 235.238438 \r\nL 75.75767 235.154295 \r\nL 68.148577 235.154295 \r\nz\r\n\" style=\"fill:#1f77b4;\"/>\r\n   </g>\r\n   <g id=\"patch_7\">\r\n    <path clip-path=\"url(#pb2bc29eb08)\" d=\"M 75.75767 235.238438 \r\nL 83.366764 235.238438 \r\nL 83.366764 234.978092 \r\nL 75.75767 234.978092 \r\nz\r\n\" style=\"fill:#1f77b4;\"/>\r\n   </g>\r\n   <g id=\"patch_8\">\r\n    <path clip-path=\"url(#pb2bc29eb08)\" d=\"M 83.366764 235.238438 \r\nL 90.975857 235.238438 \r\nL 90.975857 234.541728 \r\nL 83.366764 234.541728 \r\nz\r\n\" style=\"fill:#1f77b4;\"/>\r\n   </g>\r\n   <g id=\"patch_9\">\r\n    <path clip-path=\"url(#pb2bc29eb08)\" d=\"M 90.975857 235.238438 \r\nL 98.584941 235.238438 \r\nL 98.584941 233.515259 \r\nL 90.975857 233.515259 \r\nz\r\n\" style=\"fill:#1f77b4;\"/>\r\n   </g>\r\n   <g id=\"patch_10\">\r\n    <path clip-path=\"url(#pb2bc29eb08)\" d=\"M 98.584941 235.238438 \r\nL 106.194034 235.238438 \r\nL 106.194034 231.24322 \r\nL 98.584941 231.24322 \r\nz\r\n\" style=\"fill:#1f77b4;\"/>\r\n   </g>\r\n   <g id=\"patch_11\">\r\n    <path clip-path=\"url(#pb2bc29eb08)\" d=\"M 106.194034 235.238438 \r\nL 113.803127 235.238438 \r\nL 113.803127 226.662501 \r\nL 106.194034 226.662501 \r\nz\r\n\" style=\"fill:#1f77b4;\"/>\r\n   </g>\r\n   <g id=\"patch_12\">\r\n    <path clip-path=\"url(#pb2bc29eb08)\" d=\"M 113.803127 235.238438 \r\nL 121.41222 235.238438 \r\nL 121.41222 218.490708 \r\nL 113.803127 218.490708 \r\nz\r\n\" style=\"fill:#1f77b4;\"/>\r\n   </g>\r\n   <g id=\"patch_13\">\r\n    <path clip-path=\"url(#pb2bc29eb08)\" d=\"M 121.412211 235.238438 \r\nL 129.021305 235.238438 \r\nL 129.021305 204.885537 \r\nL 121.412211 204.885537 \r\nz\r\n\" style=\"fill:#1f77b4;\"/>\r\n   </g>\r\n   <g id=\"patch_14\">\r\n    <path clip-path=\"url(#pb2bc29eb08)\" d=\"M 129.021305 235.238438 \r\nL 136.630398 235.238438 \r\nL 136.630398 184.729565 \r\nL 129.021305 184.729565 \r\nz\r\n\" style=\"fill:#1f77b4;\"/>\r\n   </g>\r\n   <g id=\"patch_15\">\r\n    <path clip-path=\"url(#pb2bc29eb08)\" d=\"M 136.630398 235.238438 \r\nL 144.239491 235.238438 \r\nL 144.239491 157.681801 \r\nL 136.630398 157.681801 \r\nz\r\n\" style=\"fill:#1f77b4;\"/>\r\n   </g>\r\n   <g id=\"patch_16\">\r\n    <path clip-path=\"url(#pb2bc29eb08)\" d=\"M 144.239491 235.238438 \r\nL 151.848584 235.238438 \r\nL 151.848584 124.366228 \r\nL 144.239491 124.366228 \r\nz\r\n\" style=\"fill:#1f77b4;\"/>\r\n   </g>\r\n   <g id=\"patch_17\">\r\n    <path clip-path=\"url(#pb2bc29eb08)\" d=\"M 151.84858 235.238438 \r\nL 159.457673 235.238438 \r\nL 159.457673 89.70971 \r\nL 151.84858 89.70971 \r\nz\r\n\" style=\"fill:#1f77b4;\"/>\r\n   </g>\r\n   <g id=\"patch_18\">\r\n    <path clip-path=\"url(#pb2bc29eb08)\" d=\"M 159.457668 235.238438 \r\nL 167.066761 235.238438 \r\nL 167.066761 58.664703 \r\nL 159.457668 58.664703 \r\nz\r\n\" style=\"fill:#1f77b4;\"/>\r\n   </g>\r\n   <g id=\"patch_19\">\r\n    <path clip-path=\"url(#pb2bc29eb08)\" d=\"M 167.066761 235.238438 \r\nL 174.675855 235.238438 \r\nL 174.675855 36.533124 \r\nL 167.066761 36.533124 \r\nz\r\n\" style=\"fill:#1f77b4;\"/>\r\n   </g>\r\n   <g id=\"patch_20\">\r\n    <path clip-path=\"url(#pb2bc29eb08)\" d=\"M 174.67585 235.238438 \r\nL 182.284943 235.238438 \r\nL 182.284943 28.152723 \r\nL 174.67585 28.152723 \r\nz\r\n\" style=\"fill:#1f77b4;\"/>\r\n   </g>\r\n   <g id=\"patch_21\">\r\n    <path clip-path=\"url(#pb2bc29eb08)\" d=\"M 182.284942 235.238438 \r\nL 189.894035 235.238438 \r\nL 189.894035 35.207645 \r\nL 182.284942 35.207645 \r\nz\r\n\" style=\"fill:#1f77b4;\"/>\r\n   </g>\r\n   <g id=\"patch_22\">\r\n    <path clip-path=\"url(#pb2bc29eb08)\" d=\"M 189.894033 235.238438 \r\nL 197.503126 235.238438 \r\nL 197.503126 55.742904 \r\nL 189.894033 55.742904 \r\nz\r\n\" style=\"fill:#1f77b4;\"/>\r\n   </g>\r\n   <g id=\"patch_23\">\r\n    <path clip-path=\"url(#pb2bc29eb08)\" d=\"M 197.503124 235.238438 \r\nL 205.112217 235.238438 \r\nL 205.112217 85.322685 \r\nL 197.503124 85.322685 \r\nz\r\n\" style=\"fill:#1f77b4;\"/>\r\n   </g>\r\n   <g id=\"patch_24\">\r\n    <path clip-path=\"url(#pb2bc29eb08)\" d=\"M 205.112215 235.238438 \r\nL 212.721308 235.238438 \r\nL 212.721308 117.603136 \r\nL 205.112215 117.603136 \r\nz\r\n\" style=\"fill:#1f77b4;\"/>\r\n   </g>\r\n   <g id=\"patch_25\">\r\n    <path clip-path=\"url(#pb2bc29eb08)\" d=\"M 212.721306 235.238438 \r\nL 220.3304 235.238438 \r\nL 220.3304 148.409708 \r\nL 212.721306 148.409708 \r\nz\r\n\" style=\"fill:#1f77b4;\"/>\r\n   </g>\r\n   <g id=\"patch_26\">\r\n    <path clip-path=\"url(#pb2bc29eb08)\" d=\"M 220.330395 235.238438 \r\nL 227.939489 235.238438 \r\nL 227.939489 174.335813 \r\nL 220.330395 174.335813 \r\nz\r\n\" style=\"fill:#1f77b4;\"/>\r\n   </g>\r\n   <g id=\"patch_27\">\r\n    <path clip-path=\"url(#pb2bc29eb08)\" d=\"M 227.939489 235.238438 \r\nL 235.548582 235.238438 \r\nL 235.548582 193.712959 \r\nL 227.939489 193.712959 \r\nz\r\n\" style=\"fill:#1f77b4;\"/>\r\n   </g>\r\n   <g id=\"patch_28\">\r\n    <path clip-path=\"url(#pb2bc29eb08)\" d=\"M 235.548577 235.238438 \r\nL 243.15767 235.238438 \r\nL 243.15767 207.29088 \r\nL 235.548577 207.29088 \r\nz\r\n\" style=\"fill:#1f77b4;\"/>\r\n   </g>\r\n   <g id=\"patch_29\">\r\n    <path clip-path=\"url(#pb2bc29eb08)\" d=\"M 243.157666 235.238438 \r\nL 250.766759 235.238438 \r\nL 250.766759 216.125136 \r\nL 243.157666 216.125136 \r\nz\r\n\" style=\"fill:#1f77b4;\"/>\r\n   </g>\r\n   <g id=\"patch_30\">\r\n    <path clip-path=\"url(#pb2bc29eb08)\" d=\"M 250.766759 235.238438 \r\nL 258.375852 235.238438 \r\nL 258.375852 221.680033 \r\nL 250.766759 221.680033 \r\nz\r\n\" style=\"fill:#1f77b4;\"/>\r\n   </g>\r\n   <g id=\"patch_31\">\r\n    <path clip-path=\"url(#pb2bc29eb08)\" d=\"M 258.375852 235.238438 \r\nL 265.984945 235.238438 \r\nL 265.984945 225.079439 \r\nL 258.375852 225.079439 \r\nz\r\n\" style=\"fill:#1f77b4;\"/>\r\n   </g>\r\n   <g id=\"patch_32\">\r\n    <path clip-path=\"url(#pb2bc29eb08)\" d=\"M 265.984945 235.238438 \r\nL 273.594039 235.238438 \r\nL 273.594039 227.119671 \r\nL 265.984945 227.119671 \r\nz\r\n\" style=\"fill:#1f77b4;\"/>\r\n   </g>\r\n   <g id=\"patch_33\">\r\n    <path clip-path=\"url(#pb2bc29eb08)\" d=\"M 273.59403 235.238438 \r\nL 281.203123 235.238438 \r\nL 281.203123 228.54568 \r\nL 273.59403 228.54568 \r\nz\r\n\" style=\"fill:#1f77b4;\"/>\r\n   </g>\r\n   <g id=\"patch_34\">\r\n    <path clip-path=\"url(#pb2bc29eb08)\" d=\"M 281.203123 235.238438 \r\nL 288.812216 235.238438 \r\nL 288.812216 229.459467 \r\nL 281.203123 229.459467 \r\nz\r\n\" style=\"fill:#1f77b4;\"/>\r\n   </g>\r\n   <g id=\"patch_35\">\r\n    <path clip-path=\"url(#pb2bc29eb08)\" d=\"M 288.812216 235.238438 \r\nL 296.421309 235.238438 \r\nL 296.421309 230.147891 \r\nL 288.812216 230.147891 \r\nz\r\n\" style=\"fill:#1f77b4;\"/>\r\n   </g>\r\n   <g id=\"patch_36\">\r\n    <path clip-path=\"url(#pb2bc29eb08)\" d=\"M 296.421318 235.238438 \r\nL 304.030402 235.238438 \r\nL 304.030402 230.739284 \r\nL 296.421318 230.739284 \r\nz\r\n\" style=\"fill:#1f77b4;\"/>\r\n   </g>\r\n   <g id=\"patch_37\">\r\n    <path clip-path=\"url(#pb2bc29eb08)\" d=\"M 304.030393 235.238438 \r\nL 311.639486 235.238438 \r\nL 311.639486 231.195717 \r\nL 304.030393 231.195717 \r\nz\r\n\" style=\"fill:#1f77b4;\"/>\r\n   </g>\r\n   <g id=\"patch_38\">\r\n    <path clip-path=\"url(#pb2bc29eb08)\" d=\"M 311.639486 235.238438 \r\nL 319.24858 235.238438 \r\nL 319.24858 231.595994 \r\nL 311.639486 231.595994 \r\nz\r\n\" style=\"fill:#1f77b4;\"/>\r\n   </g>\r\n   <g id=\"patch_39\">\r\n    <path clip-path=\"url(#pb2bc29eb08)\" d=\"M 319.24858 235.238438 \r\nL 326.857673 235.238438 \r\nL 326.857673 231.91894 \r\nL 319.24858 231.91894 \r\nz\r\n\" style=\"fill:#1f77b4;\"/>\r\n   </g>\r\n   <g id=\"patch_40\">\r\n    <path clip-path=\"url(#pb2bc29eb08)\" d=\"M 326.857673 235.238438 \r\nL 334.466766 235.238438 \r\nL 334.466766 232.251276 \r\nL 326.857673 232.251276 \r\nz\r\n\" style=\"fill:#1f77b4;\"/>\r\n   </g>\r\n   <g id=\"patch_41\">\r\n    <path clip-path=\"url(#pb2bc29eb08)\" d=\"M 334.466766 235.238438 \r\nL 342.07585 235.238438 \r\nL 342.07585 232.466513 \r\nL 334.466766 232.466513 \r\nz\r\n\" style=\"fill:#1f77b4;\"/>\r\n   </g>\r\n   <g id=\"patch_42\">\r\n    <path clip-path=\"url(#pb2bc29eb08)\" d=\"M 342.07585 235.238438 \r\nL 349.684943 235.238438 \r\nL 349.684943 232.630563 \r\nL 342.07585 232.630563 \r\nz\r\n\" style=\"fill:#1f77b4;\"/>\r\n   </g>\r\n   <g id=\"matplotlib.axis_1\">\r\n    <g id=\"xtick_1\">\r\n     <g id=\"line2d_1\">\r\n      <defs>\r\n       <path d=\"M 0 0 \r\nL 0 3.5 \r\n\" id=\"m58c89315fd\" style=\"stroke:#000000;stroke-width:0.8;\"/>\r\n      </defs>\r\n      <g>\r\n       <use style=\"stroke:#000000;stroke-width:0.8;\" x=\"37.345645\" xlink:href=\"#m58c89315fd\" y=\"235.238438\"/>\r\n      </g>\r\n     </g>\r\n     <g id=\"text_1\">\r\n      <!-- −2.0 -->\r\n      <g transform=\"translate(25.204238 249.836875)scale(0.1 -0.1)\">\r\n       <defs>\r\n        <path d=\"M 678 2272 \r\nL 4684 2272 \r\nL 4684 1741 \r\nL 678 1741 \r\nL 678 2272 \r\nz\r\n\" id=\"DejaVuSans-2212\" transform=\"scale(0.015625)\"/>\r\n        <path d=\"M 1228 531 \r\nL 3431 531 \r\nL 3431 0 \r\nL 469 0 \r\nL 469 531 \r\nQ 828 903 1448 1529 \r\nQ 2069 2156 2228 2338 \r\nQ 2531 2678 2651 2914 \r\nQ 2772 3150 2772 3378 \r\nQ 2772 3750 2511 3984 \r\nQ 2250 4219 1831 4219 \r\nQ 1534 4219 1204 4116 \r\nQ 875 4013 500 3803 \r\nL 500 4441 \r\nQ 881 4594 1212 4672 \r\nQ 1544 4750 1819 4750 \r\nQ 2544 4750 2975 4387 \r\nQ 3406 4025 3406 3419 \r\nQ 3406 3131 3298 2873 \r\nQ 3191 2616 2906 2266 \r\nQ 2828 2175 2409 1742 \r\nQ 1991 1309 1228 531 \r\nz\r\n\" id=\"DejaVuSans-32\" transform=\"scale(0.015625)\"/>\r\n        <path d=\"M 684 794 \r\nL 1344 794 \r\nL 1344 0 \r\nL 684 0 \r\nL 684 794 \r\nz\r\n\" id=\"DejaVuSans-2e\" transform=\"scale(0.015625)\"/>\r\n        <path d=\"M 2034 4250 \r\nQ 1547 4250 1301 3770 \r\nQ 1056 3291 1056 2328 \r\nQ 1056 1369 1301 889 \r\nQ 1547 409 2034 409 \r\nQ 2525 409 2770 889 \r\nQ 3016 1369 3016 2328 \r\nQ 3016 3291 2770 3770 \r\nQ 2525 4250 2034 4250 \r\nz\r\nM 2034 4750 \r\nQ 2819 4750 3233 4129 \r\nQ 3647 3509 3647 2328 \r\nQ 3647 1150 3233 529 \r\nQ 2819 -91 2034 -91 \r\nQ 1250 -91 836 529 \r\nQ 422 1150 422 2328 \r\nQ 422 3509 836 4129 \r\nQ 1250 4750 2034 4750 \r\nz\r\n\" id=\"DejaVuSans-30\" transform=\"scale(0.015625)\"/>\r\n       </defs>\r\n       <use xlink:href=\"#DejaVuSans-2212\"/>\r\n       <use x=\"83.789062\" xlink:href=\"#DejaVuSans-32\"/>\r\n       <use x=\"147.412109\" xlink:href=\"#DejaVuSans-2e\"/>\r\n       <use x=\"179.199219\" xlink:href=\"#DejaVuSans-30\"/>\r\n      </g>\r\n     </g>\r\n    </g>\r\n    <g id=\"xtick_2\">\r\n     <g id=\"line2d_2\">\r\n      <g>\r\n       <use style=\"stroke:#000000;stroke-width:0.8;\" x=\"77.385015\" xlink:href=\"#m58c89315fd\" y=\"235.238438\"/>\r\n      </g>\r\n     </g>\r\n     <g id=\"text_2\">\r\n      <!-- −1.5 -->\r\n      <g transform=\"translate(65.243609 249.836875)scale(0.1 -0.1)\">\r\n       <defs>\r\n        <path d=\"M 794 531 \r\nL 1825 531 \r\nL 1825 4091 \r\nL 703 3866 \r\nL 703 4441 \r\nL 1819 4666 \r\nL 2450 4666 \r\nL 2450 531 \r\nL 3481 531 \r\nL 3481 0 \r\nL 794 0 \r\nL 794 531 \r\nz\r\n\" id=\"DejaVuSans-31\" transform=\"scale(0.015625)\"/>\r\n        <path d=\"M 691 4666 \r\nL 3169 4666 \r\nL 3169 4134 \r\nL 1269 4134 \r\nL 1269 2991 \r\nQ 1406 3038 1543 3061 \r\nQ 1681 3084 1819 3084 \r\nQ 2600 3084 3056 2656 \r\nQ 3513 2228 3513 1497 \r\nQ 3513 744 3044 326 \r\nQ 2575 -91 1722 -91 \r\nQ 1428 -91 1123 -41 \r\nQ 819 9 494 109 \r\nL 494 744 \r\nQ 775 591 1075 516 \r\nQ 1375 441 1709 441 \r\nQ 2250 441 2565 725 \r\nQ 2881 1009 2881 1497 \r\nQ 2881 1984 2565 2268 \r\nQ 2250 2553 1709 2553 \r\nQ 1456 2553 1204 2497 \r\nQ 953 2441 691 2322 \r\nL 691 4666 \r\nz\r\n\" id=\"DejaVuSans-35\" transform=\"scale(0.015625)\"/>\r\n       </defs>\r\n       <use xlink:href=\"#DejaVuSans-2212\"/>\r\n       <use x=\"83.789062\" xlink:href=\"#DejaVuSans-31\"/>\r\n       <use x=\"147.412109\" xlink:href=\"#DejaVuSans-2e\"/>\r\n       <use x=\"179.199219\" xlink:href=\"#DejaVuSans-35\"/>\r\n      </g>\r\n     </g>\r\n    </g>\r\n    <g id=\"xtick_3\">\r\n     <g id=\"line2d_3\">\r\n      <g>\r\n       <use style=\"stroke:#000000;stroke-width:0.8;\" x=\"117.424385\" xlink:href=\"#m58c89315fd\" y=\"235.238438\"/>\r\n      </g>\r\n     </g>\r\n     <g id=\"text_3\">\r\n      <!-- −1.0 -->\r\n      <g transform=\"translate(105.282979 249.836875)scale(0.1 -0.1)\">\r\n       <use xlink:href=\"#DejaVuSans-2212\"/>\r\n       <use x=\"83.789062\" xlink:href=\"#DejaVuSans-31\"/>\r\n       <use x=\"147.412109\" xlink:href=\"#DejaVuSans-2e\"/>\r\n       <use x=\"179.199219\" xlink:href=\"#DejaVuSans-30\"/>\r\n      </g>\r\n     </g>\r\n    </g>\r\n    <g id=\"xtick_4\">\r\n     <g id=\"line2d_4\">\r\n      <g>\r\n       <use style=\"stroke:#000000;stroke-width:0.8;\" x=\"157.463755\" xlink:href=\"#m58c89315fd\" y=\"235.238438\"/>\r\n      </g>\r\n     </g>\r\n     <g id=\"text_4\">\r\n      <!-- −0.5 -->\r\n      <g transform=\"translate(145.322349 249.836875)scale(0.1 -0.1)\">\r\n       <use xlink:href=\"#DejaVuSans-2212\"/>\r\n       <use x=\"83.789062\" xlink:href=\"#DejaVuSans-30\"/>\r\n       <use x=\"147.412109\" xlink:href=\"#DejaVuSans-2e\"/>\r\n       <use x=\"179.199219\" xlink:href=\"#DejaVuSans-35\"/>\r\n      </g>\r\n     </g>\r\n    </g>\r\n    <g id=\"xtick_5\">\r\n     <g id=\"line2d_5\">\r\n      <g>\r\n       <use style=\"stroke:#000000;stroke-width:0.8;\" x=\"197.503125\" xlink:href=\"#m58c89315fd\" y=\"235.238438\"/>\r\n      </g>\r\n     </g>\r\n     <g id=\"text_5\">\r\n      <!-- 0.0 -->\r\n      <g transform=\"translate(189.551563 249.836875)scale(0.1 -0.1)\">\r\n       <use xlink:href=\"#DejaVuSans-30\"/>\r\n       <use x=\"63.623047\" xlink:href=\"#DejaVuSans-2e\"/>\r\n       <use x=\"95.410156\" xlink:href=\"#DejaVuSans-30\"/>\r\n      </g>\r\n     </g>\r\n    </g>\r\n    <g id=\"xtick_6\">\r\n     <g id=\"line2d_6\">\r\n      <g>\r\n       <use style=\"stroke:#000000;stroke-width:0.8;\" x=\"237.542495\" xlink:href=\"#m58c89315fd\" y=\"235.238438\"/>\r\n      </g>\r\n     </g>\r\n     <g id=\"text_6\">\r\n      <!-- 0.5 -->\r\n      <g transform=\"translate(229.590933 249.836875)scale(0.1 -0.1)\">\r\n       <use xlink:href=\"#DejaVuSans-30\"/>\r\n       <use x=\"63.623047\" xlink:href=\"#DejaVuSans-2e\"/>\r\n       <use x=\"95.410156\" xlink:href=\"#DejaVuSans-35\"/>\r\n      </g>\r\n     </g>\r\n    </g>\r\n    <g id=\"xtick_7\">\r\n     <g id=\"line2d_7\">\r\n      <g>\r\n       <use style=\"stroke:#000000;stroke-width:0.8;\" x=\"277.581865\" xlink:href=\"#m58c89315fd\" y=\"235.238438\"/>\r\n      </g>\r\n     </g>\r\n     <g id=\"text_7\">\r\n      <!-- 1.0 -->\r\n      <g transform=\"translate(269.630303 249.836875)scale(0.1 -0.1)\">\r\n       <use xlink:href=\"#DejaVuSans-31\"/>\r\n       <use x=\"63.623047\" xlink:href=\"#DejaVuSans-2e\"/>\r\n       <use x=\"95.410156\" xlink:href=\"#DejaVuSans-30\"/>\r\n      </g>\r\n     </g>\r\n    </g>\r\n    <g id=\"xtick_8\">\r\n     <g id=\"line2d_8\">\r\n      <g>\r\n       <use style=\"stroke:#000000;stroke-width:0.8;\" x=\"317.621235\" xlink:href=\"#m58c89315fd\" y=\"235.238438\"/>\r\n      </g>\r\n     </g>\r\n     <g id=\"text_8\">\r\n      <!-- 1.5 -->\r\n      <g transform=\"translate(309.669673 249.836875)scale(0.1 -0.1)\">\r\n       <use xlink:href=\"#DejaVuSans-31\"/>\r\n       <use x=\"63.623047\" xlink:href=\"#DejaVuSans-2e\"/>\r\n       <use x=\"95.410156\" xlink:href=\"#DejaVuSans-35\"/>\r\n      </g>\r\n     </g>\r\n    </g>\r\n    <g id=\"xtick_9\">\r\n     <g id=\"line2d_9\">\r\n      <g>\r\n       <use style=\"stroke:#000000;stroke-width:0.8;\" x=\"357.660605\" xlink:href=\"#m58c89315fd\" y=\"235.238438\"/>\r\n      </g>\r\n     </g>\r\n     <g id=\"text_9\">\r\n      <!-- 2.0 -->\r\n      <g transform=\"translate(349.709043 249.836875)scale(0.1 -0.1)\">\r\n       <use xlink:href=\"#DejaVuSans-32\"/>\r\n       <use x=\"63.623047\" xlink:href=\"#DejaVuSans-2e\"/>\r\n       <use x=\"95.410156\" xlink:href=\"#DejaVuSans-30\"/>\r\n      </g>\r\n     </g>\r\n    </g>\r\n    <g id=\"text_10\">\r\n     <!-- 1e−6 -->\r\n     <g transform=\"translate(337.645313 262.515)scale(0.1 -0.1)\">\r\n      <defs>\r\n       <path d=\"M 3597 1894 \r\nL 3597 1613 \r\nL 953 1613 \r\nQ 991 1019 1311 708 \r\nQ 1631 397 2203 397 \r\nQ 2534 397 2845 478 \r\nQ 3156 559 3463 722 \r\nL 3463 178 \r\nQ 3153 47 2828 -22 \r\nQ 2503 -91 2169 -91 \r\nQ 1331 -91 842 396 \r\nQ 353 884 353 1716 \r\nQ 353 2575 817 3079 \r\nQ 1281 3584 2069 3584 \r\nQ 2775 3584 3186 3129 \r\nQ 3597 2675 3597 1894 \r\nz\r\nM 3022 2063 \r\nQ 3016 2534 2758 2815 \r\nQ 2500 3097 2075 3097 \r\nQ 1594 3097 1305 2825 \r\nQ 1016 2553 972 2059 \r\nL 3022 2063 \r\nz\r\n\" id=\"DejaVuSans-65\" transform=\"scale(0.015625)\"/>\r\n       <path d=\"M 2113 2584 \r\nQ 1688 2584 1439 2293 \r\nQ 1191 2003 1191 1497 \r\nQ 1191 994 1439 701 \r\nQ 1688 409 2113 409 \r\nQ 2538 409 2786 701 \r\nQ 3034 994 3034 1497 \r\nQ 3034 2003 2786 2293 \r\nQ 2538 2584 2113 2584 \r\nz\r\nM 3366 4563 \r\nL 3366 3988 \r\nQ 3128 4100 2886 4159 \r\nQ 2644 4219 2406 4219 \r\nQ 1781 4219 1451 3797 \r\nQ 1122 3375 1075 2522 \r\nQ 1259 2794 1537 2939 \r\nQ 1816 3084 2150 3084 \r\nQ 2853 3084 3261 2657 \r\nQ 3669 2231 3669 1497 \r\nQ 3669 778 3244 343 \r\nQ 2819 -91 2113 -91 \r\nQ 1303 -91 875 529 \r\nQ 447 1150 447 2328 \r\nQ 447 3434 972 4092 \r\nQ 1497 4750 2381 4750 \r\nQ 2619 4750 2861 4703 \r\nQ 3103 4656 3366 4563 \r\nz\r\n\" id=\"DejaVuSans-36\" transform=\"scale(0.015625)\"/>\r\n      </defs>\r\n      <use xlink:href=\"#DejaVuSans-31\"/>\r\n      <use x=\"63.623047\" xlink:href=\"#DejaVuSans-65\"/>\r\n      <use x=\"125.146484\" xlink:href=\"#DejaVuSans-2212\"/>\r\n      <use x=\"208.935547\" xlink:href=\"#DejaVuSans-36\"/>\r\n     </g>\r\n    </g>\r\n   </g>\r\n   <g id=\"matplotlib.axis_2\">\r\n    <g id=\"ytick_1\">\r\n     <g id=\"line2d_10\">\r\n      <defs>\r\n       <path d=\"M 0 0 \r\nL -3.5 0 \r\n\" id=\"m7b71c480f9\" style=\"stroke:#000000;stroke-width:0.8;\"/>\r\n      </defs>\r\n      <g>\r\n       <use style=\"stroke:#000000;stroke-width:0.8;\" x=\"30.103125\" xlink:href=\"#m7b71c480f9\" y=\"235.238438\"/>\r\n      </g>\r\n     </g>\r\n     <g id=\"text_11\">\r\n      <!-- 0.0 -->\r\n      <g transform=\"translate(7.2 239.037656)scale(0.1 -0.1)\">\r\n       <use xlink:href=\"#DejaVuSans-30\"/>\r\n       <use x=\"63.623047\" xlink:href=\"#DejaVuSans-2e\"/>\r\n       <use x=\"95.410156\" xlink:href=\"#DejaVuSans-30\"/>\r\n      </g>\r\n     </g>\r\n    </g>\r\n    <g id=\"ytick_2\">\r\n     <g id=\"line2d_11\">\r\n      <g>\r\n       <use style=\"stroke:#000000;stroke-width:0.8;\" x=\"30.103125\" xlink:href=\"#m7b71c480f9\" y=\"198.41446\"/>\r\n      </g>\r\n     </g>\r\n     <g id=\"text_12\">\r\n      <!-- 0.2 -->\r\n      <g transform=\"translate(7.2 202.213679)scale(0.1 -0.1)\">\r\n       <use xlink:href=\"#DejaVuSans-30\"/>\r\n       <use x=\"63.623047\" xlink:href=\"#DejaVuSans-2e\"/>\r\n       <use x=\"95.410156\" xlink:href=\"#DejaVuSans-32\"/>\r\n      </g>\r\n     </g>\r\n    </g>\r\n    <g id=\"ytick_3\">\r\n     <g id=\"line2d_12\">\r\n      <g>\r\n       <use style=\"stroke:#000000;stroke-width:0.8;\" x=\"30.103125\" xlink:href=\"#m7b71c480f9\" y=\"161.590482\"/>\r\n      </g>\r\n     </g>\r\n     <g id=\"text_13\">\r\n      <!-- 0.4 -->\r\n      <g transform=\"translate(7.2 165.389701)scale(0.1 -0.1)\">\r\n       <defs>\r\n        <path d=\"M 2419 4116 \r\nL 825 1625 \r\nL 2419 1625 \r\nL 2419 4116 \r\nz\r\nM 2253 4666 \r\nL 3047 4666 \r\nL 3047 1625 \r\nL 3713 1625 \r\nL 3713 1100 \r\nL 3047 1100 \r\nL 3047 0 \r\nL 2419 0 \r\nL 2419 1100 \r\nL 313 1100 \r\nL 313 1709 \r\nL 2253 4666 \r\nz\r\n\" id=\"DejaVuSans-34\" transform=\"scale(0.015625)\"/>\r\n       </defs>\r\n       <use xlink:href=\"#DejaVuSans-30\"/>\r\n       <use x=\"63.623047\" xlink:href=\"#DejaVuSans-2e\"/>\r\n       <use x=\"95.410156\" xlink:href=\"#DejaVuSans-34\"/>\r\n      </g>\r\n     </g>\r\n    </g>\r\n    <g id=\"ytick_4\">\r\n     <g id=\"line2d_13\">\r\n      <g>\r\n       <use style=\"stroke:#000000;stroke-width:0.8;\" x=\"30.103125\" xlink:href=\"#m7b71c480f9\" y=\"124.766505\"/>\r\n      </g>\r\n     </g>\r\n     <g id=\"text_14\">\r\n      <!-- 0.6 -->\r\n      <g transform=\"translate(7.2 128.565723)scale(0.1 -0.1)\">\r\n       <use xlink:href=\"#DejaVuSans-30\"/>\r\n       <use x=\"63.623047\" xlink:href=\"#DejaVuSans-2e\"/>\r\n       <use x=\"95.410156\" xlink:href=\"#DejaVuSans-36\"/>\r\n      </g>\r\n     </g>\r\n    </g>\r\n    <g id=\"ytick_5\">\r\n     <g id=\"line2d_14\">\r\n      <g>\r\n       <use style=\"stroke:#000000;stroke-width:0.8;\" x=\"30.103125\" xlink:href=\"#m7b71c480f9\" y=\"87.942527\"/>\r\n      </g>\r\n     </g>\r\n     <g id=\"text_15\">\r\n      <!-- 0.8 -->\r\n      <g transform=\"translate(7.2 91.741746)scale(0.1 -0.1)\">\r\n       <defs>\r\n        <path d=\"M 2034 2216 \r\nQ 1584 2216 1326 1975 \r\nQ 1069 1734 1069 1313 \r\nQ 1069 891 1326 650 \r\nQ 1584 409 2034 409 \r\nQ 2484 409 2743 651 \r\nQ 3003 894 3003 1313 \r\nQ 3003 1734 2745 1975 \r\nQ 2488 2216 2034 2216 \r\nz\r\nM 1403 2484 \r\nQ 997 2584 770 2862 \r\nQ 544 3141 544 3541 \r\nQ 544 4100 942 4425 \r\nQ 1341 4750 2034 4750 \r\nQ 2731 4750 3128 4425 \r\nQ 3525 4100 3525 3541 \r\nQ 3525 3141 3298 2862 \r\nQ 3072 2584 2669 2484 \r\nQ 3125 2378 3379 2068 \r\nQ 3634 1759 3634 1313 \r\nQ 3634 634 3220 271 \r\nQ 2806 -91 2034 -91 \r\nQ 1263 -91 848 271 \r\nQ 434 634 434 1313 \r\nQ 434 1759 690 2068 \r\nQ 947 2378 1403 2484 \r\nz\r\nM 1172 3481 \r\nQ 1172 3119 1398 2916 \r\nQ 1625 2713 2034 2713 \r\nQ 2441 2713 2670 2916 \r\nQ 2900 3119 2900 3481 \r\nQ 2900 3844 2670 4047 \r\nQ 2441 4250 2034 4250 \r\nQ 1625 4250 1398 4047 \r\nQ 1172 3844 1172 3481 \r\nz\r\n\" id=\"DejaVuSans-38\" transform=\"scale(0.015625)\"/>\r\n       </defs>\r\n       <use xlink:href=\"#DejaVuSans-30\"/>\r\n       <use x=\"63.623047\" xlink:href=\"#DejaVuSans-2e\"/>\r\n       <use x=\"95.410156\" xlink:href=\"#DejaVuSans-38\"/>\r\n      </g>\r\n     </g>\r\n    </g>\r\n    <g id=\"ytick_6\">\r\n     <g id=\"line2d_15\">\r\n      <g>\r\n       <use style=\"stroke:#000000;stroke-width:0.8;\" x=\"30.103125\" xlink:href=\"#m7b71c480f9\" y=\"51.118549\"/>\r\n      </g>\r\n     </g>\r\n     <g id=\"text_16\">\r\n      <!-- 1.0 -->\r\n      <g transform=\"translate(7.2 54.917768)scale(0.1 -0.1)\">\r\n       <use xlink:href=\"#DejaVuSans-31\"/>\r\n       <use x=\"63.623047\" xlink:href=\"#DejaVuSans-2e\"/>\r\n       <use x=\"95.410156\" xlink:href=\"#DejaVuSans-30\"/>\r\n      </g>\r\n     </g>\r\n    </g>\r\n    <g id=\"text_17\">\r\n     <!-- 1e6 -->\r\n     <g transform=\"translate(30.103125 14.798437)scale(0.1 -0.1)\">\r\n      <use xlink:href=\"#DejaVuSans-31\"/>\r\n      <use x=\"63.623047\" xlink:href=\"#DejaVuSans-65\"/>\r\n      <use x=\"125.146484\" xlink:href=\"#DejaVuSans-36\"/>\r\n     </g>\r\n    </g>\r\n   </g>\r\n   <g id=\"patch_43\">\r\n    <path d=\"M 30.103125 235.238438 \r\nL 30.103125 17.798438 \r\n\" style=\"fill:none;stroke:#000000;stroke-linecap:square;stroke-linejoin:miter;stroke-width:0.8;\"/>\r\n   </g>\r\n   <g id=\"patch_44\">\r\n    <path d=\"M 364.903125 235.238438 \r\nL 364.903125 17.798438 \r\n\" style=\"fill:none;stroke:#000000;stroke-linecap:square;stroke-linejoin:miter;stroke-width:0.8;\"/>\r\n   </g>\r\n   <g id=\"patch_45\">\r\n    <path d=\"M 30.103125 235.238438 \r\nL 364.903125 235.238438 \r\n\" style=\"fill:none;stroke:#000000;stroke-linecap:square;stroke-linejoin:miter;stroke-width:0.8;\"/>\r\n   </g>\r\n   <g id=\"patch_46\">\r\n    <path d=\"M 30.103125 17.798438 \r\nL 364.903125 17.798438 \r\n\" style=\"fill:none;stroke:#000000;stroke-linecap:square;stroke-linejoin:miter;stroke-width:0.8;\"/>\r\n   </g>\r\n  </g>\r\n </g>\r\n <defs>\r\n  <clipPath id=\"pb2bc29eb08\">\r\n   <rect height=\"217.44\" width=\"334.8\" x=\"30.103125\" y=\"17.798438\"/>\r\n  </clipPath>\r\n </defs>\r\n</svg>\r\n",
            "image/png": "[encoded data removed]"
          },
          "metadata": {
            "needs_background": "light"
          }
        }
      ],
      "source": [
        "# histogram of noise (- noise, + noise)\n",
        "# we know that negative values are due to noise, and we assume a gaussian noise distribution\n",
        "\n",
        "data_flat = data_560Mhz_1000h_train.flatten()\n",
        "min_val = min(data_flat)\n",
        "plt.hist(data_flat, bins = 40, range = (min_val, abs(min_val)))"
      ]
    },
    {
      "cell_type": "code",
      "execution_count": 11,
      "metadata": {},
      "outputs": [
        {
          "output_type": "stream",
          "name": "stdout",
          "text": [
            "0.48094657\n"
          ]
        }
      ],
      "source": [
        "fits_max_data_560Mhz_1000h = np.max(data_560Mhz_1000h)\n",
        "print(fits_max_data_560Mhz_1000h)\n",
        "\n",
        "data_560Mhz_1000h_train_clipped = np.clip(data_560Mhz_1000h_train, a_min=0, a_max=fits_max_data_560Mhz_1000h)"
      ]
    },
    {
      "cell_type": "code",
      "metadata": {
        "id": "Ug10Ku-OF-5Y",
        "outputId": "c3b6bed6-24a7-4f71-cbed-c4b6b8d934af",
        "tags": []
      },
      "source": [
        "patches={}\n",
        "patches = ska_dataset._split_in_patch(data_560Mhz_1000h_train_clipped, df_train, data_560Mhz_1000h_fits.filename(), x1_min, y1_min, config.TRAIN_PATCHES_FOLDER, 205) # Remember to remove internal limit"
      ],
      "execution_count": 13,
      "outputs": [
        {
          "output_type": "stream",
          "name": "stdout",
          "text": [
            "               ID  RA (core)  DEC (core)  RA (centroid)  DEC (centroid)  \\\n11     27514971.0  -0.014459  -29.933004      -0.014121      -29.932705   \n115    15252327.0  -0.039005  -29.915081      -0.039002      -29.915081   \n156    13302538.0  -0.005224  -29.939449      -0.005224      -29.939449   \n427    30994188.0  -0.035645  -29.910868      -0.035645      -29.910868   \n710    29158240.0  -0.002566  -29.917469      -0.002566      -29.917469   \n...           ...        ...         ...            ...             ...   \n17269   9005660.0  -0.022509  -29.931404      -0.022509      -29.931404   \n17395  35737787.0  -0.000497  -29.911371      -0.000497      -29.911371   \n18275  31108334.0  -0.006430  -29.913763      -0.006430      -29.913763   \n18323  16819986.0  -0.025670  -29.939737      -0.025670      -29.939737   \n18535  30436469.0  -0.036250  -29.926567      -0.036250      -29.926567   \n\n           FLUX  Core frac    BMAJ    BMIN       PA  ...          y  \\\n11     0.039324   0.004216  31.508  17.616  353.308  ...  16783.927   \n115    0.000010   0.013472   2.167   2.159  134.347  ...  16888.896   \n156    0.000017   0.861438   0.076   0.076  259.451  ...  16743.749   \n427    0.000934  -0.000000   7.350   6.634  -82.418  ...  16914.005   \n710    0.000036  -0.000000   1.474   0.443   -7.448  ...  16874.704   \n...         ...        ...     ...     ...      ...  ...        ...   \n17269  0.000013  -0.000000   1.090   0.293   63.968  ...  16791.670   \n17395  0.000028  -0.000000   0.479   0.089   52.518  ...  16911.034   \n18275  0.000013  -0.000000   0.643   0.084  -44.041  ...  16896.783   \n18323  0.000007  -0.000000   0.199   0.057   -3.338  ...  16742.019   \n18535  0.000013  -0.000000   0.453   0.111  -16.761  ...  16820.470   \n\n               x1          y1          x2          y2  major_semia_px  \\\n11      49.960356   38.133503  101.860456   67.719143       26.072025   \n115    202.619101  156.105382  206.198605  159.685188        1.793134   \n156     29.907046   12.685744   30.032822   12.811519        0.062888   \n427    181.576576  176.932133  192.577211  189.076348        6.081928   \n710     15.038055  143.306941   17.458730  144.099692        1.219695   \n...           ...         ...         ...         ...             ...   \n17269  118.765088   59.852151  119.668745   61.486947        0.901946   \n17395    5.317516  179.715168    5.813854  180.350579        0.396360   \n18275   35.820206  165.408726   36.591228  166.155199        0.532065   \n18323  135.364627   10.970443  135.693448   11.066547        0.164667   \n18535  189.812156   89.330071  190.531949   89.608782        0.374845   \n\n       minor_semia_px  pa_in_rad      width     height  \n11          14.576767   6.166388  51.900100  29.585640  \n115          1.786515   2.344797   3.579504   3.579806  \n156          0.062888   4.528274   0.125776   0.125776  \n427          5.489457  -1.438465  11.000635  12.144215  \n710          0.366571  -0.129992   2.420676   0.792750  \n...               ...        ...        ...        ...  \n17269        0.242450   1.116452   0.903657   1.634795  \n17395        0.073645   0.916612   0.496338   0.635411  \n18275        0.069508  -0.768660   0.771023   0.746474  \n18323        0.047166  -0.058259   0.328821   0.096104  \n18535        0.091850  -0.292535   0.719793   0.278711  \n\n[68 rows x 24 columns]\nimage saved\n"
          ]
        }
      ]
    },
    {
      "cell_type": "code",
      "execution_count": 33,
      "metadata": {},
      "outputs": [
        {
          "output_type": "stream",
          "name": "stdout",
          "text": [
            "[[0.0000000e+00 5.0277004e-07 8.1352823e-07 ... 2.1992520e-07\n  3.3757752e-07 8.9618879e-08]\n [0.0000000e+00 4.7234460e-07 7.5504875e-07 ... 0.0000000e+00\n  2.7678368e-08 3.8842813e-08]\n [0.0000000e+00 0.0000000e+00 4.7753889e-07 ... 0.0000000e+00\n  0.0000000e+00 0.0000000e+00]\n ...\n [1.6627402e-07 2.2166087e-07 0.0000000e+00 ... 0.0000000e+00\n  0.0000000e+00 0.0000000e+00]\n [1.3635220e-07 2.9386493e-07 0.0000000e+00 ... 0.0000000e+00\n  0.0000000e+00 0.0000000e+00]\n [0.0000000e+00 0.0000000e+00 0.0000000e+00 ... 0.0000000e+00\n  0.0000000e+00 0.0000000e+00]]\n"
          ]
        }
      ],
      "source": [
        "a = np.load(os.path.join(config.TRAIN_PATCHES_FOLDER, 'your_file.npy'))\n",
        "print(a)"
      ]
    },
    {
      "source": [
        "#TODO:\n",
        "- Ingrandire bbox\n",
        "- unire bbox sovrapposte\n",
        "- Mergiare branch data_clean (anche alla fine)\n",
        "- Quando vengono create le patch, ritagliare le bbox per farle stare tutte nella patch X\n",
        "- Check tra nostro dataset pulito e quello di ICRAR (dopo aver mergiato il branch data_clean)\n",
        "\n",
        "Da capire per la rete:\n",
        "- bisogna scalre input tra 0 e 255 intero?\n",
        "- salvare le patch come immagini o possiamo darle in input on the fly?\n",
        "- è necessario un custom input layer che converte le nostra immagini da 1 a 3 canali?"
      ],
      "cell_type": "markdown",
      "metadata": {}
    },
    {
      "cell_type": "code",
      "execution_count": 5,
      "metadata": {},
      "outputs": [
        {
          "output_type": "stream",
          "name": "stdout",
          "text": [
            "Downloading SKA vgg16_weights_tf_dim_ordering_tf_kernels_notop.h5 data...\n",
            "Download completed!\n"
          ]
        }
      ],
      "source": [
        "# Download VGG16 weights\n",
        "# 'https://github.com/fchollet/deep-learning-models/releases/download/v0.1/vgg16_weights_tf_dim_ordering_tf_kernels_notop.h5'\n",
        "\n",
        "download_data('vgg16_weights_tf_dim_ordering_tf_kernels_notop.h5', \n",
        "'https://github.com/fchollet/deep-learning-models/releases/download/v0.1/vgg16_weights_tf_dim_ordering_tf_kernels_notop.h5', config.MODEL_WEIGHTS + '/vgg16')\n"
      ]
    },
    {
      "cell_type": "code",
      "metadata": {
        "id": "maVI39nOF-5Y",
        "outputId": "d4c6a026-68b9-46fa-c7af-b692285199cd"
      },
      "source": [
        "# First net version\n",
        "import keras\n",
        "from keras import backend as K\n",
        "from keras.layers import Input, Conv2D, MaxPooling2D, Reshape, Concatenate\n",
        "\n",
        "FROZEN_LAYERS_IDX = [1, 2, 4, 5]\n",
        "ANCHOR_NUM = 6\n",
        "PROB_PRED_OUT = 2 * ANCHOR_NUM\n",
        "COORD_PRED_OUT = 4 * ANCHOR_NUM \n",
        "input_shape=(600, 600, 1) #TODO: change to 205,205,1\n",
        "\n",
        "vgg16_weight_path = os.path.join('./model/vgg16/vgg16_weights_tf_dim_ordering_tf_kernels_notop.h5')\n",
        "\n",
        "# Add custom input-layer to change from1 to 3 channels\n",
        "inp = Input(input_shape)\n",
        "expander_layer = Conv2D(filters=3, kernel_size=(1, 1), padding='same', activation='relu', name='Custom_input_layer')(inp)\n",
        "\n",
        "'''\n",
        "# Load pretrained VGG16 and remove last MaxPool layer\n",
        "# VGG16 = keras.applications.VGG16(include_top=False, weights=\"imagenet\", pooling=None) # Commentato perchè non siamo riusciti a togliere l'ultimo layer\n",
        "# x = x(expander_layer)\n",
        "'''\n",
        "\n",
        "# Block 1\n",
        "x = Conv2D(64, (3, 3), activation='relu', padding='same', name='block1_conv1', trainable=False)(expander_layer)\n",
        "x = Conv2D(64, (3, 3), activation='relu', padding='same', name='block1_conv2', trainable=False)(x)\n",
        "x = MaxPooling2D((2, 2), strides=(2, 2), name='block1_pool')(x)\n",
        "\n",
        "# Block 2\n",
        "x = Conv2D(128, (3, 3), activation='relu', padding='same', name='block2_conv1', trainable=False)(x)\n",
        "x = Conv2D(128, (3, 3), activation='relu', padding='same', name='block2_conv2', trainable=False)(x)\n",
        "x = MaxPooling2D((2, 2), strides=(2, 2), name='block2_pool')(x)\n",
        "\n",
        "# Block 3\n",
        "x = Conv2D(256, (3, 3), activation='relu', padding='same', name='block3_conv1')(x)\n",
        "x = Conv2D(256, (3, 3), activation='relu', padding='same', name='block3_conv2')(x)\n",
        "x = Conv2D(256, (3, 3), activation='relu', padding='same', name='block3_conv3')(x)\n",
        "x = MaxPooling2D((2, 2), strides=(2, 2), name='block3_pool')(x)\n",
        "\n",
        "# Block 4\n",
        "x = Conv2D(512, (3, 3), activation='relu', padding='same', name='block4_conv1')(x)\n",
        "x = Conv2D(512, (3, 3), activation='relu', padding='same', name='block4_conv2')(x)\n",
        "x = Conv2D(512, (3, 3), activation='relu', padding='same', name='block4_conv3')(x)\n",
        "x = MaxPooling2D((2, 2), strides=(2, 2), name='block4_pool')(x)\n",
        "\n",
        "# Block 5\n",
        "x = Conv2D(512, (3, 3), activation='relu', padding='same', name='block5_conv1')(x)\n",
        "x = Conv2D(512, (3, 3), activation='relu', padding='same', name='block5_conv2')(x)\n",
        "x = Conv2D(512, (3, 3), activation='relu', padding='same', name='block5_conv3')(x)\n",
        "# x = MaxPooling2D((2, 2), strides=(2, 2), name='block5_pool')(x)\n",
        "\n",
        "print(x)\n",
        "\n",
        "\n",
        "# # Freeze first 4 convolutional layers\n",
        "# for idx in FROZEN_LAYERS_IDX:\n",
        "#   VGG16.layers[idx].trainable = False\n",
        "\n",
        "# # Create Region Proposal Net\n",
        "x = Conv2D(filters=512, kernel_size=(3, 3), padding='same', activation='relu', name='18_RPN_Conv1')(x)\n",
        "cls_pred = Conv2D(filters=PROB_PRED_OUT, kernel_size=(1, 1), padding='same', activation='sigmoid', name='19_Anchor_Cls_Conv')(x) #output of layer 20\n",
        "reg_pred = Conv2D(filters=COORD_PRED_OUT, kernel_size=(1, 1), padding='same', activation='linear', name='19_Anchor_Reg_Conv')(x) #output of layer 19\n",
        "\n",
        "print(x)\n",
        "print(cls_pred.shape)\n",
        "print(reg_pred.shape)\n",
        "\n",
        "anch_target_cls = Reshape((cls_pred.shape[1]**2, cls_pred.shape[3]), name='20_Anchor_Target_cls')(cls_pred)\n",
        "anch_target_reg = Reshape((reg_pred.shape[1]**2, reg_pred.shape[3]), name='20_Anchor_Target_reg')(reg_pred)\n",
        "\n",
        "print(anch_target_cls)\n",
        "print(anch_target_reg)\n",
        "\n",
        "region_prop_net = keras.Model(inp, [cls_pred, reg_pred], name='Region Proposal')\n",
        "\n",
        "region_prop_net.load_weights(vgg16_weight_path, by_name=True)\n",
        "\n",
        "# region_prop_net.compile(loss='categorical_crossentropy', optimizer='adam')\n",
        "\n",
        "region_prop_net.summary()"
      ],
      "execution_count": 8,
      "outputs": [
        {
          "output_type": "stream",
          "name": "stdout",
          "text": [
            "KerasTensor(type_spec=TensorSpec(shape=(None, 37, 37, 512), dtype=tf.float32, name=None), name='block5_conv3/Relu:0', description=\"created by layer 'block5_conv3'\")\nKerasTensor(type_spec=TensorSpec(shape=(None, 37, 37, 512), dtype=tf.float32, name=None), name='18_RPN_Conv1/Relu:0', description=\"created by layer '18_RPN_Conv1'\")\n(None, 37, 37, 12)\n(None, 37, 37, 24)\nKerasTensor(type_spec=TensorSpec(shape=(None, 1369, 12), dtype=tf.float32, name=None), name='20_Anchor_Target_cls/Reshape:0', description=\"created by layer '20_Anchor_Target_cls'\")\nKerasTensor(type_spec=TensorSpec(shape=(None, 1369, 24), dtype=tf.float32, name=None), name='20_Anchor_Target_reg/Reshape:0', description=\"created by layer '20_Anchor_Target_reg'\")\nModel: \"Region Proposal\"\n__________________________________________________________________________________________________\nLayer (type)                    Output Shape         Param #     Connected to                     \n==================================================================================================\ninput_6 (InputLayer)            [(None, 600, 600, 1) 0                                            \n__________________________________________________________________________________________________\nCustom_input_layer (Conv2D)     (None, 600, 600, 3)  6           input_6[0][0]                    \n__________________________________________________________________________________________________\nblock1_conv1 (Conv2D)           (None, 600, 600, 64) 1792        Custom_input_layer[0][0]         \n__________________________________________________________________________________________________\nblock1_conv2 (Conv2D)           (None, 600, 600, 64) 36928       block1_conv1[0][0]               \n__________________________________________________________________________________________________\nblock1_pool (MaxPooling2D)      (None, 300, 300, 64) 0           block1_conv2[0][0]               \n__________________________________________________________________________________________________\nblock2_conv1 (Conv2D)           (None, 300, 300, 128 73856       block1_pool[0][0]                \n__________________________________________________________________________________________________\nblock2_conv2 (Conv2D)           (None, 300, 300, 128 147584      block2_conv1[0][0]               \n__________________________________________________________________________________________________\nblock2_pool (MaxPooling2D)      (None, 150, 150, 128 0           block2_conv2[0][0]               \n__________________________________________________________________________________________________\nblock3_conv1 (Conv2D)           (None, 150, 150, 256 295168      block2_pool[0][0]                \n__________________________________________________________________________________________________\nblock3_conv2 (Conv2D)           (None, 150, 150, 256 590080      block3_conv1[0][0]               \n__________________________________________________________________________________________________\nblock3_conv3 (Conv2D)           (None, 150, 150, 256 590080      block3_conv2[0][0]               \n__________________________________________________________________________________________________\nblock3_pool (MaxPooling2D)      (None, 75, 75, 256)  0           block3_conv3[0][0]               \n__________________________________________________________________________________________________\nblock4_conv1 (Conv2D)           (None, 75, 75, 512)  1180160     block3_pool[0][0]                \n__________________________________________________________________________________________________\nblock4_conv2 (Conv2D)           (None, 75, 75, 512)  2359808     block4_conv1[0][0]               \n__________________________________________________________________________________________________\nblock4_conv3 (Conv2D)           (None, 75, 75, 512)  2359808     block4_conv2[0][0]               \n__________________________________________________________________________________________________\nblock4_pool (MaxPooling2D)      (None, 37, 37, 512)  0           block4_conv3[0][0]               \n__________________________________________________________________________________________________\nblock5_conv1 (Conv2D)           (None, 37, 37, 512)  2359808     block4_pool[0][0]                \n__________________________________________________________________________________________________\nblock5_conv2 (Conv2D)           (None, 37, 37, 512)  2359808     block5_conv1[0][0]               \n__________________________________________________________________________________________________\nblock5_conv3 (Conv2D)           (None, 37, 37, 512)  2359808     block5_conv2[0][0]               \n__________________________________________________________________________________________________\n18_RPN_Conv1 (Conv2D)           (None, 37, 37, 512)  2359808     block5_conv3[0][0]               \n__________________________________________________________________________________________________\n19_Anchor_Cls_Conv (Conv2D)     (None, 37, 37, 12)   6156        18_RPN_Conv1[0][0]               \n__________________________________________________________________________________________________\n19_Anchor_Reg_Conv (Conv2D)     (None, 37, 37, 24)   12312       18_RPN_Conv1[0][0]               \n==================================================================================================\nTotal params: 17,092,970\nTrainable params: 16,832,810\nNon-trainable params: 260,160\n__________________________________________________________________________________________________\n"
          ]
        }
      ]
    },
    {
      "cell_type": "code",
      "execution_count": null,
      "metadata": {},
      "outputs": [],
      "source": [
        "def rpn_loss_regr(num_anchors):\n",
        "    \"\"\"Loss function for rpn regression\n",
        "    Args:\n",
        "        num_anchors: number of anchors (9 in here)\n",
        "    Returns:\n",
        "        Smooth L1 loss function \n",
        "                           0.5*x*x (if x_abs < 1)\n",
        "                           x_abx - 0.5 (otherwise)\n",
        "    \"\"\"\n",
        "    def rpn_loss_regr_fixed_num(y_true, y_pred):\n",
        "\n",
        "        # x is the difference between true value and predicted value\n",
        "        x = y_true[:, :, :, 4 * num_anchors:] - y_pred\n",
        "\n",
        "        # absolute value of x\n",
        "        x_abs = K.abs(x)\n",
        "\n",
        "        # If x_abs <= 1.0, x_bool = 1\n",
        "        x_bool = K.cast(K.less_equal(x_abs, 1.0), tf.float32)\n",
        "\n",
        "        return lambda_rpn_regr * K.sum(\n",
        "            y_true[:, :, :, :4 * num_anchors] * (x_bool * (0.5 * x * x) + (1 - x_bool) * (x_abs - 0.5))) / K.sum(epsilon + y_true[:, :, :, :4 * num_anchors])\n",
        "\n",
        "    return rpn_loss_regr_fixed_num"
      ]
    },
    {
      "cell_type": "code",
      "execution_count": 115,
      "metadata": {},
      "outputs": [
        {
          "output_type": "execute_result",
          "data": {
            "text/plain": [
              "array([[[9., 9., 9., 9., 9., 9., 9., 9., 9., 9., 9., 9.],\n",
              "        [9., 9., 9., 9., 9., 9., 9., 9., 9., 9., 9., 9.],\n",
              "        [9., 9., 9., 9., 9., 9., 9., 9., 9., 9., 9., 9.]],\n",
              "\n",
              "       [[1., 1., 1., 1., 1., 1., 1., 1., 1., 1., 1., 1.],\n",
              "        [1., 1., 1., 1., 1., 1., 1., 1., 1., 1., 1., 1.],\n",
              "        [1., 1., 1., 1., 1., 1., 1., 1., 1., 1., 1., 1.]],\n",
              "\n",
              "       [[0., 0., 0., 0., 0., 0., 0., 0., 0., 0., 0., 0.],\n",
              "        [0., 0., 0., 0., 0., 0., 0., 0., 0., 0., 0., 0.],\n",
              "        [0., 0., 0., 0., 0., 0., 0., 0., 0., 0., 0., 0.]]])"
            ]
          },
          "metadata": {},
          "execution_count": 115
        }
      ],
      "source": [
        "y_rpn_regr = np.zeros((3, 3, 3 * 4))\n",
        "y_rpn_regr[0] = 9\n",
        "y_rpn_regr[1] = 1\n",
        "y_rpn_regr"
      ]
    },
    {
      "cell_type": "code",
      "execution_count": 116,
      "metadata": {},
      "outputs": [
        {
          "output_type": "stream",
          "name": "stdout",
          "text": [
            "[[[9. 9. 9.]\n  [1. 1. 1.]\n  [0. 0. 0.]]\n\n [[9. 9. 9.]\n  [1. 1. 1.]\n  [0. 0. 0.]]\n\n [[9. 9. 9.]\n  [1. 1. 1.]\n  [0. 0. 0.]]\n\n [[9. 9. 9.]\n  [1. 1. 1.]\n  [0. 0. 0.]]\n\n [[9. 9. 9.]\n  [1. 1. 1.]\n  [0. 0. 0.]]\n\n [[9. 9. 9.]\n  [1. 1. 1.]\n  [0. 0. 0.]]\n\n [[9. 9. 9.]\n  [1. 1. 1.]\n  [0. 0. 0.]]\n\n [[9. 9. 9.]\n  [1. 1. 1.]\n  [0. 0. 0.]]\n\n [[9. 9. 9.]\n  [1. 1. 1.]\n  [0. 0. 0.]]\n\n [[9. 9. 9.]\n  [1. 1. 1.]\n  [0. 0. 0.]]\n\n [[9. 9. 9.]\n  [1. 1. 1.]\n  [0. 0. 0.]]\n\n [[9. 9. 9.]\n  [1. 1. 1.]\n  [0. 0. 0.]]]\n"
          ]
        }
      ],
      "source": [
        "y_rpn_regr = np.transpose(y_rpn_regr, (2, 0, 1))\n",
        "print(y_rpn_regr)"
      ]
    },
    {
      "cell_type": "code",
      "execution_count": 117,
      "metadata": {},
      "outputs": [
        {
          "output_type": "stream",
          "name": "stdout",
          "text": [
            "[[[[9. 9. 9.]\n   [1. 1. 1.]\n   [0. 0. 0.]]\n\n  [[9. 9. 9.]\n   [1. 1. 1.]\n   [0. 0. 0.]]\n\n  [[9. 9. 9.]\n   [1. 1. 1.]\n   [0. 0. 0.]]\n\n  [[9. 9. 9.]\n   [1. 1. 1.]\n   [0. 0. 0.]]\n\n  [[9. 9. 9.]\n   [1. 1. 1.]\n   [0. 0. 0.]]\n\n  [[9. 9. 9.]\n   [1. 1. 1.]\n   [0. 0. 0.]]\n\n  [[9. 9. 9.]\n   [1. 1. 1.]\n   [0. 0. 0.]]\n\n  [[9. 9. 9.]\n   [1. 1. 1.]\n   [0. 0. 0.]]\n\n  [[9. 9. 9.]\n   [1. 1. 1.]\n   [0. 0. 0.]]\n\n  [[9. 9. 9.]\n   [1. 1. 1.]\n   [0. 0. 0.]]\n\n  [[9. 9. 9.]\n   [1. 1. 1.]\n   [0. 0. 0.]]\n\n  [[9. 9. 9.]\n   [1. 1. 1.]\n   [0. 0. 0.]]]]\n"
          ]
        }
      ],
      "source": [
        "y_rpn_regr = np.expand_dims(y_rpn_regr, axis=0)\n",
        "print(y_rpn_regr)"
      ]
    },
    {
      "cell_type": "code",
      "execution_count": 14,
      "metadata": {},
      "outputs": [
        {
          "output_type": "error",
          "ename": "NameError",
          "evalue": "name 'y_rpn_regr' is not defined",
          "traceback": [
            "\u001b[0;31m---------------------------------------------------------------------------\u001b[0m",
            "\u001b[0;31mNameError\u001b[0m                                 Traceback (most recent call last)",
            "\u001b[0;32m<ipython-input-14-3e282e92b969>\u001b[0m in \u001b[0;36m<module>\u001b[0;34m\u001b[0m\n\u001b[1;32m      1\u001b[0m \u001b[0mbreakpoint\u001b[0m\u001b[0;34m(\u001b[0m\u001b[0;34m)\u001b[0m\u001b[0;34m\u001b[0m\u001b[0;34m\u001b[0m\u001b[0m\n\u001b[0;32m----> 2\u001b[0;31m \u001b[0my_rpn_regr\u001b[0m\u001b[0;34m.\u001b[0m\u001b[0mshape\u001b[0m\u001b[0;34m\u001b[0m\u001b[0;34m\u001b[0m\u001b[0m\n\u001b[0m",
            "\u001b[0;31mNameError\u001b[0m: name 'y_rpn_regr' is not defined"
          ]
        }
      ],
      "source": [
        "y_rpn_regr.shape"
      ]
    },
    {
      "cell_type": "code",
      "execution_count": null,
      "metadata": {},
      "outputs": [
        {
          "output_type": "error",
          "ename": "Error",
          "evalue": "connect ECONNREFUSED 127.0.0.1:63301",
          "traceback": [
            "Error: connect ECONNREFUSED 127.0.0.1:63301",
            "at TCPConnectWrap.afterConnect [as oncomplete] (net.js:1141:16)"
          ]
        }
      ],
      "source": [
        "a,b,c = prep.calc_rpn(df_train.head(1), 600, 600,600, 600)"
      ]
    },
    {
      "source": [
        "TODO - 20210502:\n",
        "- creare colonne per coordinate bbox nel sistema di riferimento della patch\n",
        "- creare cartelle per patches con jpeg + pkl delle sue sole bbox\n",
        "- ragionare su dimensioni patch\n",
        "X Caricare pesi VGG16 nel nuovo network\n",
        "- lanciare training"
      ],
      "cell_type": "markdown",
      "metadata": {}
    },
    {
      "cell_type": "code",
      "execution_count": null,
      "metadata": {},
      "outputs": [],
      "source": [
        "#TODO: Provare YOLO che ad Asperti piace\n",
        "# Ablation study\n",
        "# Provare, a parità di frequenza, le esposizioni diverse come canali"
      ]
    }
  ]
}